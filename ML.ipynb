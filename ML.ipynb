{
 "cells": [
  {
   "cell_type": "markdown",
   "metadata": {},
   "source": [
    "Machine Learning for Stock Predictions"
   ]
  },
  {
   "cell_type": "code",
   "execution_count": 2,
   "metadata": {},
   "outputs": [],
   "source": [
    "import pandas as pd\n",
    "import sklearn\n",
    "import numpy as np\n",
    "import plotly_express as px\n",
    "from FinanceData import FinanceData\n",
    "\n",
    "import sklearn.discriminant_analysis\n",
    "import sklearn.model_selection\n",
    "import sklearn.preprocessing\n",
    "import sklearn.linear_model"
   ]
  },
  {
   "cell_type": "code",
   "execution_count": 3,
   "metadata": {},
   "outputs": [],
   "source": [
    "# Change path for where the data is being saved or accessed or None if getting but not saving\n",
    "path: str | None = 'DATA/combined_data3.csv'\n",
    "# Change get_from_csv to True if saving or False for getting\n",
    "get_from_csv: bool = False"
   ]
  },
  {
   "cell_type": "markdown",
   "metadata": {},
   "source": [
    "Get and Organize Data"
   ]
  },
  {
   "cell_type": "code",
   "execution_count": 4,
   "metadata": {},
   "outputs": [
    {
     "name": "stderr",
     "output_type": "stream",
     "text": [
      "[*********************100%%**********************]  1 of 1 completed\n",
      "[*********************100%%**********************]  1 of 1 completed\n",
      "[*********************100%%**********************]  1 of 1 completed\n",
      "[*********************100%%**********************]  1 of 1 completed\n",
      "[*********************100%%**********************]  1 of 1 completed\n",
      "c:\\Users\\GRAYBILLKB20\\OneDrive - Grove City College\\Sophomore Year\\FinanceData\\FinanceData\\FinanceDataHelper.py:102: FutureWarning: The behavior of DataFrame concatenation with empty or all-NA entries is deprecated. In a future version, this will no longer exclude empty or all-NA columns when determining the result dtypes. To retain the old behavior, exclude the relevant entries before the concat operation.\n",
      "  return new_append_df if output_df is None else pd.concat([output_df,new_append_df])\n"
     ]
    },
    {
     "name": "stdout",
     "output_type": "stream",
     "text": [
      "1\n"
     ]
    },
    {
     "name": "stderr",
     "output_type": "stream",
     "text": [
      "[*********************100%%**********************]  1 of 1 completed\n",
      "[*********************100%%**********************]  1 of 1 completed\n",
      "[*********************100%%**********************]  1 of 1 completed\n",
      "[*********************100%%**********************]  1 of 1 completed\n",
      "[*********************100%%**********************]  1 of 1 completed\n",
      "c:\\Users\\GRAYBILLKB20\\OneDrive - Grove City College\\Sophomore Year\\FinanceData\\FinanceData\\FinanceDataHelper.py:102: FutureWarning: The behavior of DataFrame concatenation with empty or all-NA entries is deprecated. In a future version, this will no longer exclude empty or all-NA columns when determining the result dtypes. To retain the old behavior, exclude the relevant entries before the concat operation.\n",
      "  return new_append_df if output_df is None else pd.concat([output_df,new_append_df])\n"
     ]
    },
    {
     "name": "stdout",
     "output_type": "stream",
     "text": [
      "2\n"
     ]
    },
    {
     "name": "stderr",
     "output_type": "stream",
     "text": [
      "[*********************100%%**********************]  1 of 1 completed\n",
      "[*********************100%%**********************]  1 of 1 completed\n",
      "[*********************100%%**********************]  1 of 1 completed\n",
      "[*********************100%%**********************]  1 of 1 completed\n",
      "[*********************100%%**********************]  1 of 1 completed\n",
      "c:\\Users\\GRAYBILLKB20\\OneDrive - Grove City College\\Sophomore Year\\FinanceData\\FinanceData\\FinanceDataHelper.py:102: FutureWarning: The behavior of DataFrame concatenation with empty or all-NA entries is deprecated. In a future version, this will no longer exclude empty or all-NA columns when determining the result dtypes. To retain the old behavior, exclude the relevant entries before the concat operation.\n",
      "  return new_append_df if output_df is None else pd.concat([output_df,new_append_df])\n"
     ]
    },
    {
     "name": "stdout",
     "output_type": "stream",
     "text": [
      "3\n"
     ]
    },
    {
     "name": "stderr",
     "output_type": "stream",
     "text": [
      "[*********************100%%**********************]  1 of 1 completed\n",
      "[*********************100%%**********************]  1 of 1 completed\n",
      "[*********************100%%**********************]  1 of 1 completed\n",
      "[*********************100%%**********************]  1 of 1 completed\n",
      "[*********************100%%**********************]  1 of 1 completed\n",
      "c:\\Users\\GRAYBILLKB20\\OneDrive - Grove City College\\Sophomore Year\\FinanceData\\FinanceData\\FinanceDataHelper.py:102: FutureWarning: The behavior of DataFrame concatenation with empty or all-NA entries is deprecated. In a future version, this will no longer exclude empty or all-NA columns when determining the result dtypes. To retain the old behavior, exclude the relevant entries before the concat operation.\n",
      "  return new_append_df if output_df is None else pd.concat([output_df,new_append_df])\n"
     ]
    },
    {
     "name": "stdout",
     "output_type": "stream",
     "text": [
      "4\n"
     ]
    },
    {
     "name": "stderr",
     "output_type": "stream",
     "text": [
      "[*********************100%%**********************]  1 of 1 completed\n",
      "[*********************100%%**********************]  1 of 1 completed\n",
      "[*********************100%%**********************]  1 of 1 completed\n",
      "[*********************100%%**********************]  1 of 1 completed\n",
      "[*********************100%%**********************]  1 of 1 completed\n",
      "c:\\Users\\GRAYBILLKB20\\OneDrive - Grove City College\\Sophomore Year\\FinanceData\\FinanceData\\FinanceDataHelper.py:102: FutureWarning: The behavior of DataFrame concatenation with empty or all-NA entries is deprecated. In a future version, this will no longer exclude empty or all-NA columns when determining the result dtypes. To retain the old behavior, exclude the relevant entries before the concat operation.\n",
      "  return new_append_df if output_df is None else pd.concat([output_df,new_append_df])\n"
     ]
    },
    {
     "name": "stdout",
     "output_type": "stream",
     "text": [
      "5\n"
     ]
    },
    {
     "name": "stderr",
     "output_type": "stream",
     "text": [
      "[*********************100%%**********************]  1 of 1 completed\n",
      "[*********************100%%**********************]  1 of 1 completed\n",
      "[*********************100%%**********************]  1 of 1 completed\n",
      "[*********************100%%**********************]  1 of 1 completed\n",
      "[*********************100%%**********************]  1 of 1 completed\n",
      "c:\\Users\\GRAYBILLKB20\\OneDrive - Grove City College\\Sophomore Year\\FinanceData\\FinanceData\\FinanceDataHelper.py:102: FutureWarning: The behavior of DataFrame concatenation with empty or all-NA entries is deprecated. In a future version, this will no longer exclude empty or all-NA columns when determining the result dtypes. To retain the old behavior, exclude the relevant entries before the concat operation.\n",
      "  return new_append_df if output_df is None else pd.concat([output_df,new_append_df])\n",
      "[*********************100%%**********************]  1 of 1 completed"
     ]
    },
    {
     "name": "stdout",
     "output_type": "stream",
     "text": [
      "6\n"
     ]
    },
    {
     "name": "stderr",
     "output_type": "stream",
     "text": [
      "\n",
      "[*********************100%%**********************]  1 of 1 completed\n",
      "[*********************100%%**********************]  1 of 1 completed\n",
      "[*********************100%%**********************]  1 of 1 completed\n",
      "[*********************100%%**********************]  1 of 1 completed\n",
      "c:\\Users\\GRAYBILLKB20\\OneDrive - Grove City College\\Sophomore Year\\FinanceData\\FinanceData\\FinanceDataHelper.py:102: FutureWarning: The behavior of DataFrame concatenation with empty or all-NA entries is deprecated. In a future version, this will no longer exclude empty or all-NA columns when determining the result dtypes. To retain the old behavior, exclude the relevant entries before the concat operation.\n",
      "  return new_append_df if output_df is None else pd.concat([output_df,new_append_df])\n"
     ]
    },
    {
     "name": "stdout",
     "output_type": "stream",
     "text": [
      "7\n"
     ]
    },
    {
     "name": "stderr",
     "output_type": "stream",
     "text": [
      "[*********************100%%**********************]  1 of 1 completed\n",
      "[*********************100%%**********************]  1 of 1 completed\n",
      "[*********************100%%**********************]  1 of 1 completed\n",
      "[*********************100%%**********************]  1 of 1 completed\n",
      "[*********************100%%**********************]  1 of 1 completed\n",
      "c:\\Users\\GRAYBILLKB20\\OneDrive - Grove City College\\Sophomore Year\\FinanceData\\FinanceData\\FinanceDataHelper.py:102: FutureWarning: The behavior of DataFrame concatenation with empty or all-NA entries is deprecated. In a future version, this will no longer exclude empty or all-NA columns when determining the result dtypes. To retain the old behavior, exclude the relevant entries before the concat operation.\n",
      "  return new_append_df if output_df is None else pd.concat([output_df,new_append_df])\n"
     ]
    },
    {
     "name": "stdout",
     "output_type": "stream",
     "text": [
      "8\n"
     ]
    },
    {
     "name": "stderr",
     "output_type": "stream",
     "text": [
      "[*********************100%%**********************]  1 of 1 completed\n",
      "[*********************100%%**********************]  1 of 1 completed\n",
      "[*********************100%%**********************]  1 of 1 completed\n",
      "[*********************100%%**********************]  1 of 1 completed\n",
      "[*********************100%%**********************]  1 of 1 completed\n",
      "c:\\Users\\GRAYBILLKB20\\OneDrive - Grove City College\\Sophomore Year\\FinanceData\\FinanceData\\FinanceDataHelper.py:102: FutureWarning: The behavior of DataFrame concatenation with empty or all-NA entries is deprecated. In a future version, this will no longer exclude empty or all-NA columns when determining the result dtypes. To retain the old behavior, exclude the relevant entries before the concat operation.\n",
      "  return new_append_df if output_df is None else pd.concat([output_df,new_append_df])\n"
     ]
    },
    {
     "name": "stdout",
     "output_type": "stream",
     "text": [
      "9\n"
     ]
    },
    {
     "name": "stderr",
     "output_type": "stream",
     "text": [
      "[*********************100%%**********************]  1 of 1 completed\n",
      "[*********************100%%**********************]  1 of 1 completed\n",
      "[*********************100%%**********************]  1 of 1 completed\n",
      "[*********************100%%**********************]  1 of 1 completed\n",
      "[*********************100%%**********************]  1 of 1 completed\n",
      "c:\\Users\\GRAYBILLKB20\\OneDrive - Grove City College\\Sophomore Year\\FinanceData\\FinanceData\\FinanceDataHelper.py:102: FutureWarning: The behavior of DataFrame concatenation with empty or all-NA entries is deprecated. In a future version, this will no longer exclude empty or all-NA columns when determining the result dtypes. To retain the old behavior, exclude the relevant entries before the concat operation.\n",
      "  return new_append_df if output_df is None else pd.concat([output_df,new_append_df])\n"
     ]
    },
    {
     "name": "stdout",
     "output_type": "stream",
     "text": [
      "10\n"
     ]
    },
    {
     "name": "stderr",
     "output_type": "stream",
     "text": [
      "[*********************100%%**********************]  1 of 1 completed\n",
      "[*********************100%%**********************]  1 of 1 completed\n",
      "[*********************100%%**********************]  1 of 1 completed\n",
      "[*********************100%%**********************]  1 of 1 completed\n",
      "[*********************100%%**********************]  1 of 1 completed\n",
      "c:\\Users\\GRAYBILLKB20\\OneDrive - Grove City College\\Sophomore Year\\FinanceData\\FinanceData\\FinanceDataHelper.py:102: FutureWarning: The behavior of DataFrame concatenation with empty or all-NA entries is deprecated. In a future version, this will no longer exclude empty or all-NA columns when determining the result dtypes. To retain the old behavior, exclude the relevant entries before the concat operation.\n",
      "  return new_append_df if output_df is None else pd.concat([output_df,new_append_df])\n"
     ]
    },
    {
     "name": "stdout",
     "output_type": "stream",
     "text": [
      "11\n"
     ]
    },
    {
     "name": "stderr",
     "output_type": "stream",
     "text": [
      "[*********************100%%**********************]  1 of 1 completed\n",
      "[*********************100%%**********************]  1 of 1 completed\n",
      "[*********************100%%**********************]  1 of 1 completed\n",
      "[*********************100%%**********************]  1 of 1 completed\n",
      "[*********************100%%**********************]  1 of 1 completed\n",
      "c:\\Users\\GRAYBILLKB20\\OneDrive - Grove City College\\Sophomore Year\\FinanceData\\FinanceData\\FinanceDataHelper.py:102: FutureWarning: The behavior of DataFrame concatenation with empty or all-NA entries is deprecated. In a future version, this will no longer exclude empty or all-NA columns when determining the result dtypes. To retain the old behavior, exclude the relevant entries before the concat operation.\n",
      "  return new_append_df if output_df is None else pd.concat([output_df,new_append_df])\n"
     ]
    },
    {
     "name": "stdout",
     "output_type": "stream",
     "text": [
      "12\n"
     ]
    },
    {
     "name": "stderr",
     "output_type": "stream",
     "text": [
      "[*********************100%%**********************]  1 of 1 completed\n",
      "[*********************100%%**********************]  1 of 1 completed\n",
      "[*********************100%%**********************]  1 of 1 completed\n",
      "[*********************100%%**********************]  1 of 1 completed\n",
      "[*********************100%%**********************]  1 of 1 completed\n",
      "c:\\Users\\GRAYBILLKB20\\OneDrive - Grove City College\\Sophomore Year\\FinanceData\\FinanceData\\FinanceDataHelper.py:102: FutureWarning: The behavior of DataFrame concatenation with empty or all-NA entries is deprecated. In a future version, this will no longer exclude empty or all-NA columns when determining the result dtypes. To retain the old behavior, exclude the relevant entries before the concat operation.\n",
      "  return new_append_df if output_df is None else pd.concat([output_df,new_append_df])\n"
     ]
    },
    {
     "name": "stdout",
     "output_type": "stream",
     "text": [
      "13\n"
     ]
    },
    {
     "name": "stderr",
     "output_type": "stream",
     "text": [
      "[*********************100%%**********************]  1 of 1 completed\n",
      "[*********************100%%**********************]  1 of 1 completed\n",
      "[*********************100%%**********************]  1 of 1 completed\n",
      "[*********************100%%**********************]  1 of 1 completed\n",
      "[*********************100%%**********************]  1 of 1 completed\n",
      "c:\\Users\\GRAYBILLKB20\\OneDrive - Grove City College\\Sophomore Year\\FinanceData\\FinanceData\\FinanceDataHelper.py:102: FutureWarning: The behavior of DataFrame concatenation with empty or all-NA entries is deprecated. In a future version, this will no longer exclude empty or all-NA columns when determining the result dtypes. To retain the old behavior, exclude the relevant entries before the concat operation.\n",
      "  return new_append_df if output_df is None else pd.concat([output_df,new_append_df])\n"
     ]
    },
    {
     "name": "stdout",
     "output_type": "stream",
     "text": [
      "14\n"
     ]
    },
    {
     "name": "stderr",
     "output_type": "stream",
     "text": [
      "[*********************100%%**********************]  1 of 1 completed\n",
      "[*********************100%%**********************]  1 of 1 completed\n",
      "[*********************100%%**********************]  1 of 1 completed\n",
      "[*********************100%%**********************]  1 of 1 completed\n",
      "[*********************100%%**********************]  1 of 1 completed\n",
      "c:\\Users\\GRAYBILLKB20\\OneDrive - Grove City College\\Sophomore Year\\FinanceData\\FinanceData\\FinanceDataHelper.py:102: FutureWarning: The behavior of DataFrame concatenation with empty or all-NA entries is deprecated. In a future version, this will no longer exclude empty or all-NA columns when determining the result dtypes. To retain the old behavior, exclude the relevant entries before the concat operation.\n",
      "  return new_append_df if output_df is None else pd.concat([output_df,new_append_df])\n"
     ]
    },
    {
     "name": "stdout",
     "output_type": "stream",
     "text": [
      "15\n"
     ]
    },
    {
     "name": "stderr",
     "output_type": "stream",
     "text": [
      "[*********************100%%**********************]  1 of 1 completed\n",
      "[*********************100%%**********************]  1 of 1 completed\n",
      "[*********************100%%**********************]  1 of 1 completed\n",
      "[*********************100%%**********************]  1 of 1 completed\n",
      "[*********************100%%**********************]  1 of 1 completed\n",
      "c:\\Users\\GRAYBILLKB20\\OneDrive - Grove City College\\Sophomore Year\\FinanceData\\FinanceData\\FinanceDataHelper.py:102: FutureWarning: The behavior of DataFrame concatenation with empty or all-NA entries is deprecated. In a future version, this will no longer exclude empty or all-NA columns when determining the result dtypes. To retain the old behavior, exclude the relevant entries before the concat operation.\n",
      "  return new_append_df if output_df is None else pd.concat([output_df,new_append_df])\n"
     ]
    },
    {
     "name": "stdout",
     "output_type": "stream",
     "text": [
      "Index error retrieving data for ALGN stock on 2024-11-04 00:00:00: single positional indexer is out-of-bounds\n",
      "16\n"
     ]
    },
    {
     "name": "stderr",
     "output_type": "stream",
     "text": [
      "[*********************100%%**********************]  1 of 1 completed\n",
      "[*********************100%%**********************]  1 of 1 completed\n",
      "[*********************100%%**********************]  1 of 1 completed\n",
      "[*********************100%%**********************]  1 of 1 completed\n",
      "[*********************100%%**********************]  1 of 1 completed\n",
      "c:\\Users\\GRAYBILLKB20\\OneDrive - Grove City College\\Sophomore Year\\FinanceData\\FinanceData\\FinanceDataHelper.py:102: FutureWarning: The behavior of DataFrame concatenation with empty or all-NA entries is deprecated. In a future version, this will no longer exclude empty or all-NA columns when determining the result dtypes. To retain the old behavior, exclude the relevant entries before the concat operation.\n",
      "  return new_append_df if output_df is None else pd.concat([output_df,new_append_df])\n"
     ]
    },
    {
     "name": "stdout",
     "output_type": "stream",
     "text": [
      "17\n"
     ]
    },
    {
     "name": "stderr",
     "output_type": "stream",
     "text": [
      "[*********************100%%**********************]  1 of 1 completed\n",
      "[*********************100%%**********************]  1 of 1 completed\n",
      "[*********************100%%**********************]  1 of 1 completed\n",
      "[*********************100%%**********************]  1 of 1 completed\n",
      "[*********************100%%**********************]  1 of 1 completed\n",
      "c:\\Users\\GRAYBILLKB20\\OneDrive - Grove City College\\Sophomore Year\\FinanceData\\FinanceData\\FinanceDataHelper.py:102: FutureWarning: The behavior of DataFrame concatenation with empty or all-NA entries is deprecated. In a future version, this will no longer exclude empty or all-NA columns when determining the result dtypes. To retain the old behavior, exclude the relevant entries before the concat operation.\n",
      "  return new_append_df if output_df is None else pd.concat([output_df,new_append_df])\n"
     ]
    },
    {
     "name": "stdout",
     "output_type": "stream",
     "text": [
      "18\n"
     ]
    },
    {
     "name": "stderr",
     "output_type": "stream",
     "text": [
      "[*********************100%%**********************]  1 of 1 completed\n",
      "[*********************100%%**********************]  1 of 1 completed\n",
      "[*********************100%%**********************]  1 of 1 completed\n",
      "[*********************100%%**********************]  1 of 1 completed\n",
      "[*********************100%%**********************]  1 of 1 completed\n",
      "c:\\Users\\GRAYBILLKB20\\OneDrive - Grove City College\\Sophomore Year\\FinanceData\\FinanceData\\FinanceDataHelper.py:102: FutureWarning: The behavior of DataFrame concatenation with empty or all-NA entries is deprecated. In a future version, this will no longer exclude empty or all-NA columns when determining the result dtypes. To retain the old behavior, exclude the relevant entries before the concat operation.\n",
      "  return new_append_df if output_df is None else pd.concat([output_df,new_append_df])\n"
     ]
    },
    {
     "name": "stdout",
     "output_type": "stream",
     "text": [
      "19\n"
     ]
    },
    {
     "name": "stderr",
     "output_type": "stream",
     "text": [
      "[*********************100%%**********************]  1 of 1 completed\n",
      "[*********************100%%**********************]  1 of 1 completed\n",
      "[*********************100%%**********************]  1 of 1 completed\n",
      "[*********************100%%**********************]  1 of 1 completed\n",
      "[*********************100%%**********************]  1 of 1 completed\n",
      "c:\\Users\\GRAYBILLKB20\\OneDrive - Grove City College\\Sophomore Year\\FinanceData\\FinanceData\\FinanceDataHelper.py:102: FutureWarning: The behavior of DataFrame concatenation with empty or all-NA entries is deprecated. In a future version, this will no longer exclude empty or all-NA columns when determining the result dtypes. To retain the old behavior, exclude the relevant entries before the concat operation.\n",
      "  return new_append_df if output_df is None else pd.concat([output_df,new_append_df])\n"
     ]
    },
    {
     "name": "stdout",
     "output_type": "stream",
     "text": [
      "20\n"
     ]
    },
    {
     "name": "stderr",
     "output_type": "stream",
     "text": [
      "[*********************100%%**********************]  1 of 1 completed\n",
      "[*********************100%%**********************]  1 of 1 completed\n",
      "[*********************100%%**********************]  1 of 1 completed\n",
      "[*********************100%%**********************]  1 of 1 completed\n",
      "[*********************100%%**********************]  1 of 1 completed\n",
      "c:\\Users\\GRAYBILLKB20\\OneDrive - Grove City College\\Sophomore Year\\FinanceData\\FinanceData\\FinanceDataHelper.py:102: FutureWarning: The behavior of DataFrame concatenation with empty or all-NA entries is deprecated. In a future version, this will no longer exclude empty or all-NA columns when determining the result dtypes. To retain the old behavior, exclude the relevant entries before the concat operation.\n",
      "  return new_append_df if output_df is None else pd.concat([output_df,new_append_df])\n"
     ]
    },
    {
     "name": "stdout",
     "output_type": "stream",
     "text": [
      "21\n"
     ]
    },
    {
     "name": "stderr",
     "output_type": "stream",
     "text": [
      "[*********************100%%**********************]  1 of 1 completed\n",
      "[*********************100%%**********************]  1 of 1 completed\n",
      "[*********************100%%**********************]  1 of 1 completed\n",
      "[*********************100%%**********************]  1 of 1 completed\n",
      "[*********************100%%**********************]  1 of 1 completed\n",
      "c:\\Users\\GRAYBILLKB20\\OneDrive - Grove City College\\Sophomore Year\\FinanceData\\FinanceData\\FinanceDataHelper.py:102: FutureWarning: The behavior of DataFrame concatenation with empty or all-NA entries is deprecated. In a future version, this will no longer exclude empty or all-NA columns when determining the result dtypes. To retain the old behavior, exclude the relevant entries before the concat operation.\n",
      "  return new_append_df if output_df is None else pd.concat([output_df,new_append_df])\n"
     ]
    },
    {
     "name": "stdout",
     "output_type": "stream",
     "text": [
      "22\n"
     ]
    },
    {
     "name": "stderr",
     "output_type": "stream",
     "text": [
      "[*********************100%%**********************]  1 of 1 completed\n",
      "[*********************100%%**********************]  1 of 1 completed\n",
      "[*********************100%%**********************]  1 of 1 completed\n",
      "[*********************100%%**********************]  1 of 1 completed\n",
      "[*********************100%%**********************]  1 of 1 completed\n",
      "c:\\Users\\GRAYBILLKB20\\OneDrive - Grove City College\\Sophomore Year\\FinanceData\\FinanceData\\FinanceDataHelper.py:102: FutureWarning: The behavior of DataFrame concatenation with empty or all-NA entries is deprecated. In a future version, this will no longer exclude empty or all-NA columns when determining the result dtypes. To retain the old behavior, exclude the relevant entries before the concat operation.\n",
      "  return new_append_df if output_df is None else pd.concat([output_df,new_append_df])\n"
     ]
    },
    {
     "name": "stdout",
     "output_type": "stream",
     "text": [
      "23\n"
     ]
    },
    {
     "name": "stderr",
     "output_type": "stream",
     "text": [
      "[*********************100%%**********************]  1 of 1 completed\n",
      "[*********************100%%**********************]  1 of 1 completed\n",
      "[*********************100%%**********************]  1 of 1 completed\n",
      "[*********************100%%**********************]  1 of 1 completed\n",
      "[*********************100%%**********************]  1 of 1 completed\n",
      "c:\\Users\\GRAYBILLKB20\\OneDrive - Grove City College\\Sophomore Year\\FinanceData\\FinanceData\\FinanceDataHelper.py:102: FutureWarning: The behavior of DataFrame concatenation with empty or all-NA entries is deprecated. In a future version, this will no longer exclude empty or all-NA columns when determining the result dtypes. To retain the old behavior, exclude the relevant entries before the concat operation.\n",
      "  return new_append_df if output_df is None else pd.concat([output_df,new_append_df])\n"
     ]
    },
    {
     "name": "stdout",
     "output_type": "stream",
     "text": [
      "24\n"
     ]
    },
    {
     "name": "stderr",
     "output_type": "stream",
     "text": [
      "[*********************100%%**********************]  1 of 1 completed\n",
      "[*********************100%%**********************]  1 of 1 completed\n",
      "[*********************100%%**********************]  1 of 1 completed\n",
      "[*********************100%%**********************]  1 of 1 completed\n",
      "[*********************100%%**********************]  1 of 1 completed\n",
      "c:\\Users\\GRAYBILLKB20\\OneDrive - Grove City College\\Sophomore Year\\FinanceData\\FinanceData\\FinanceDataHelper.py:102: FutureWarning: The behavior of DataFrame concatenation with empty or all-NA entries is deprecated. In a future version, this will no longer exclude empty or all-NA columns when determining the result dtypes. To retain the old behavior, exclude the relevant entries before the concat operation.\n",
      "  return new_append_df if output_df is None else pd.concat([output_df,new_append_df])\n"
     ]
    },
    {
     "name": "stdout",
     "output_type": "stream",
     "text": [
      "Index error retrieving data for AMTM stock on 2024-11-04 00:00:00: single positional indexer is out-of-bounds\n",
      "25\n"
     ]
    },
    {
     "name": "stderr",
     "output_type": "stream",
     "text": [
      "[*********************100%%**********************]  1 of 1 completed\n",
      "[*********************100%%**********************]  1 of 1 completed\n",
      "[*********************100%%**********************]  1 of 1 completed\n",
      "[*********************100%%**********************]  1 of 1 completed\n",
      "[*********************100%%**********************]  1 of 1 completed\n",
      "c:\\Users\\GRAYBILLKB20\\OneDrive - Grove City College\\Sophomore Year\\FinanceData\\FinanceData\\FinanceDataHelper.py:102: FutureWarning: The behavior of DataFrame concatenation with empty or all-NA entries is deprecated. In a future version, this will no longer exclude empty or all-NA columns when determining the result dtypes. To retain the old behavior, exclude the relevant entries before the concat operation.\n",
      "  return new_append_df if output_df is None else pd.concat([output_df,new_append_df])\n"
     ]
    },
    {
     "name": "stdout",
     "output_type": "stream",
     "text": [
      "26\n"
     ]
    },
    {
     "name": "stderr",
     "output_type": "stream",
     "text": [
      "[*********************100%%**********************]  1 of 1 completed\n",
      "[*********************100%%**********************]  1 of 1 completed\n",
      "[*********************100%%**********************]  1 of 1 completed\n",
      "[*********************100%%**********************]  1 of 1 completed\n",
      "[*********************100%%**********************]  1 of 1 completed\n",
      "c:\\Users\\GRAYBILLKB20\\OneDrive - Grove City College\\Sophomore Year\\FinanceData\\FinanceData\\FinanceDataHelper.py:102: FutureWarning: The behavior of DataFrame concatenation with empty or all-NA entries is deprecated. In a future version, this will no longer exclude empty or all-NA columns when determining the result dtypes. To retain the old behavior, exclude the relevant entries before the concat operation.\n",
      "  return new_append_df if output_df is None else pd.concat([output_df,new_append_df])\n"
     ]
    },
    {
     "name": "stdout",
     "output_type": "stream",
     "text": [
      "27\n"
     ]
    },
    {
     "name": "stderr",
     "output_type": "stream",
     "text": [
      "[*********************100%%**********************]  1 of 1 completed\n",
      "[*********************100%%**********************]  1 of 1 completed\n",
      "[*********************100%%**********************]  1 of 1 completed\n",
      "[*********************100%%**********************]  1 of 1 completed\n",
      "[*********************100%%**********************]  1 of 1 completed\n",
      "c:\\Users\\GRAYBILLKB20\\OneDrive - Grove City College\\Sophomore Year\\FinanceData\\FinanceData\\FinanceDataHelper.py:102: FutureWarning: The behavior of DataFrame concatenation with empty or all-NA entries is deprecated. In a future version, this will no longer exclude empty or all-NA columns when determining the result dtypes. To retain the old behavior, exclude the relevant entries before the concat operation.\n",
      "  return new_append_df if output_df is None else pd.concat([output_df,new_append_df])\n"
     ]
    },
    {
     "name": "stdout",
     "output_type": "stream",
     "text": [
      "28\n"
     ]
    },
    {
     "name": "stderr",
     "output_type": "stream",
     "text": [
      "[*********************100%%**********************]  1 of 1 completed\n",
      "[*********************100%%**********************]  1 of 1 completed\n",
      "[*********************100%%**********************]  1 of 1 completed\n",
      "[*********************100%%**********************]  1 of 1 completed\n",
      "[*********************100%%**********************]  1 of 1 completed\n",
      "c:\\Users\\GRAYBILLKB20\\OneDrive - Grove City College\\Sophomore Year\\FinanceData\\FinanceData\\FinanceDataHelper.py:102: FutureWarning: The behavior of DataFrame concatenation with empty or all-NA entries is deprecated. In a future version, this will no longer exclude empty or all-NA columns when determining the result dtypes. To retain the old behavior, exclude the relevant entries before the concat operation.\n",
      "  return new_append_df if output_df is None else pd.concat([output_df,new_append_df])\n",
      "[*********************100%%**********************]  1 of 1 completed"
     ]
    },
    {
     "name": "stdout",
     "output_type": "stream",
     "text": [
      "29\n"
     ]
    },
    {
     "name": "stderr",
     "output_type": "stream",
     "text": [
      "\n",
      "[*********************100%%**********************]  1 of 1 completed\n",
      "[*********************100%%**********************]  1 of 1 completed\n",
      "[*********************100%%**********************]  1 of 1 completed\n",
      "[*********************100%%**********************]  1 of 1 completed\n",
      "c:\\Users\\GRAYBILLKB20\\OneDrive - Grove City College\\Sophomore Year\\FinanceData\\FinanceData\\FinanceDataHelper.py:102: FutureWarning: The behavior of DataFrame concatenation with empty or all-NA entries is deprecated. In a future version, this will no longer exclude empty or all-NA columns when determining the result dtypes. To retain the old behavior, exclude the relevant entries before the concat operation.\n",
      "  return new_append_df if output_df is None else pd.concat([output_df,new_append_df])\n"
     ]
    },
    {
     "name": "stdout",
     "output_type": "stream",
     "text": [
      "30\n"
     ]
    },
    {
     "name": "stderr",
     "output_type": "stream",
     "text": [
      "[*********************100%%**********************]  1 of 1 completed\n",
      "[*********************100%%**********************]  1 of 1 completed\n",
      "[*********************100%%**********************]  1 of 1 completed\n",
      "[*********************100%%**********************]  1 of 1 completed\n",
      "[*********************100%%**********************]  1 of 1 completed\n",
      "c:\\Users\\GRAYBILLKB20\\OneDrive - Grove City College\\Sophomore Year\\FinanceData\\FinanceData\\FinanceDataHelper.py:102: FutureWarning: The behavior of DataFrame concatenation with empty or all-NA entries is deprecated. In a future version, this will no longer exclude empty or all-NA columns when determining the result dtypes. To retain the old behavior, exclude the relevant entries before the concat operation.\n",
      "  return new_append_df if output_df is None else pd.concat([output_df,new_append_df])\n"
     ]
    },
    {
     "name": "stdout",
     "output_type": "stream",
     "text": [
      "31\n"
     ]
    },
    {
     "name": "stderr",
     "output_type": "stream",
     "text": [
      "[*********************100%%**********************]  1 of 1 completed\n",
      "[*********************100%%**********************]  1 of 1 completed\n",
      "[*********************100%%**********************]  1 of 1 completed\n",
      "[*********************100%%**********************]  1 of 1 completed\n",
      "[*********************100%%**********************]  1 of 1 completed\n",
      "c:\\Users\\GRAYBILLKB20\\OneDrive - Grove City College\\Sophomore Year\\FinanceData\\FinanceData\\FinanceDataHelper.py:102: FutureWarning: The behavior of DataFrame concatenation with empty or all-NA entries is deprecated. In a future version, this will no longer exclude empty or all-NA columns when determining the result dtypes. To retain the old behavior, exclude the relevant entries before the concat operation.\n",
      "  return new_append_df if output_df is None else pd.concat([output_df,new_append_df])\n"
     ]
    },
    {
     "name": "stdout",
     "output_type": "stream",
     "text": [
      "Index error retrieving data for AMP stock on 2024-11-04 00:00:00: single positional indexer is out-of-bounds\n",
      "32\n"
     ]
    },
    {
     "name": "stderr",
     "output_type": "stream",
     "text": [
      "[*********************100%%**********************]  1 of 1 completed\n",
      "[*********************100%%**********************]  1 of 1 completed\n",
      "[*********************100%%**********************]  1 of 1 completed\n",
      "[*********************100%%**********************]  1 of 1 completed\n",
      "[*********************100%%**********************]  1 of 1 completed\n",
      "c:\\Users\\GRAYBILLKB20\\OneDrive - Grove City College\\Sophomore Year\\FinanceData\\FinanceData\\FinanceDataHelper.py:102: FutureWarning: The behavior of DataFrame concatenation with empty or all-NA entries is deprecated. In a future version, this will no longer exclude empty or all-NA columns when determining the result dtypes. To retain the old behavior, exclude the relevant entries before the concat operation.\n",
      "  return new_append_df if output_df is None else pd.concat([output_df,new_append_df])\n"
     ]
    },
    {
     "name": "stdout",
     "output_type": "stream",
     "text": [
      "33\n"
     ]
    },
    {
     "name": "stderr",
     "output_type": "stream",
     "text": [
      "[*********************100%%**********************]  1 of 1 completed\n",
      "[*********************100%%**********************]  1 of 1 completed\n",
      "[*********************100%%**********************]  1 of 1 completed\n",
      "[*********************100%%**********************]  1 of 1 completed\n",
      "[*********************100%%**********************]  1 of 1 completed\n",
      "c:\\Users\\GRAYBILLKB20\\OneDrive - Grove City College\\Sophomore Year\\FinanceData\\FinanceData\\FinanceDataHelper.py:102: FutureWarning: The behavior of DataFrame concatenation with empty or all-NA entries is deprecated. In a future version, this will no longer exclude empty or all-NA columns when determining the result dtypes. To retain the old behavior, exclude the relevant entries before the concat operation.\n",
      "  return new_append_df if output_df is None else pd.concat([output_df,new_append_df])\n"
     ]
    },
    {
     "name": "stdout",
     "output_type": "stream",
     "text": [
      "34\n"
     ]
    },
    {
     "name": "stderr",
     "output_type": "stream",
     "text": [
      "[*********************100%%**********************]  1 of 1 completed\n",
      "[*********************100%%**********************]  1 of 1 completed\n",
      "[*********************100%%**********************]  1 of 1 completed\n",
      "[*********************100%%**********************]  1 of 1 completed\n",
      "[*********************100%%**********************]  1 of 1 completed\n",
      "c:\\Users\\GRAYBILLKB20\\OneDrive - Grove City College\\Sophomore Year\\FinanceData\\FinanceData\\FinanceDataHelper.py:102: FutureWarning: The behavior of DataFrame concatenation with empty or all-NA entries is deprecated. In a future version, this will no longer exclude empty or all-NA columns when determining the result dtypes. To retain the old behavior, exclude the relevant entries before the concat operation.\n",
      "  return new_append_df if output_df is None else pd.concat([output_df,new_append_df])\n"
     ]
    },
    {
     "name": "stdout",
     "output_type": "stream",
     "text": [
      "35\n"
     ]
    },
    {
     "name": "stderr",
     "output_type": "stream",
     "text": [
      "[*********************100%%**********************]  1 of 1 completed\n",
      "[*********************100%%**********************]  1 of 1 completed\n",
      "[*********************100%%**********************]  1 of 1 completed\n",
      "[*********************100%%**********************]  1 of 1 completed\n",
      "[*********************100%%**********************]  1 of 1 completed\n",
      "c:\\Users\\GRAYBILLKB20\\OneDrive - Grove City College\\Sophomore Year\\FinanceData\\FinanceData\\FinanceDataHelper.py:102: FutureWarning: The behavior of DataFrame concatenation with empty or all-NA entries is deprecated. In a future version, this will no longer exclude empty or all-NA columns when determining the result dtypes. To retain the old behavior, exclude the relevant entries before the concat operation.\n",
      "  return new_append_df if output_df is None else pd.concat([output_df,new_append_df])\n"
     ]
    },
    {
     "name": "stdout",
     "output_type": "stream",
     "text": [
      "36\n"
     ]
    },
    {
     "name": "stderr",
     "output_type": "stream",
     "text": [
      "[*********************100%%**********************]  1 of 1 completed\n",
      "[*********************100%%**********************]  1 of 1 completed\n",
      "[*********************100%%**********************]  1 of 1 completed\n",
      "[*********************100%%**********************]  1 of 1 completed\n",
      "[*********************100%%**********************]  1 of 1 completed\n",
      "c:\\Users\\GRAYBILLKB20\\OneDrive - Grove City College\\Sophomore Year\\FinanceData\\FinanceData\\FinanceDataHelper.py:102: FutureWarning: The behavior of DataFrame concatenation with empty or all-NA entries is deprecated. In a future version, this will no longer exclude empty or all-NA columns when determining the result dtypes. To retain the old behavior, exclude the relevant entries before the concat operation.\n",
      "  return new_append_df if output_df is None else pd.concat([output_df,new_append_df])\n"
     ]
    },
    {
     "name": "stdout",
     "output_type": "stream",
     "text": [
      "Index error retrieving data for ANSS stock on 2024-11-05 00:00:00: single positional indexer is out-of-bounds\n",
      "Index error retrieving data for ANSS stock on 2024-11-04 00:00:00: single positional indexer is out-of-bounds\n",
      "37\n"
     ]
    },
    {
     "name": "stderr",
     "output_type": "stream",
     "text": [
      "[*********************100%%**********************]  1 of 1 completed\n",
      "[*********************100%%**********************]  1 of 1 completed\n",
      "[*********************100%%**********************]  1 of 1 completed\n",
      "[*********************100%%**********************]  1 of 1 completed\n",
      "[*********************100%%**********************]  1 of 1 completed\n",
      "c:\\Users\\GRAYBILLKB20\\OneDrive - Grove City College\\Sophomore Year\\FinanceData\\FinanceData\\FinanceDataHelper.py:102: FutureWarning: The behavior of DataFrame concatenation with empty or all-NA entries is deprecated. In a future version, this will no longer exclude empty or all-NA columns when determining the result dtypes. To retain the old behavior, exclude the relevant entries before the concat operation.\n",
      "  return new_append_df if output_df is None else pd.concat([output_df,new_append_df])\n"
     ]
    },
    {
     "name": "stdout",
     "output_type": "stream",
     "text": [
      "38\n"
     ]
    },
    {
     "name": "stderr",
     "output_type": "stream",
     "text": [
      "[*********************100%%**********************]  1 of 1 completed\n",
      "[*********************100%%**********************]  1 of 1 completed\n",
      "[*********************100%%**********************]  1 of 1 completed\n",
      "[*********************100%%**********************]  1 of 1 completed\n",
      "[*********************100%%**********************]  1 of 1 completed\n",
      "c:\\Users\\GRAYBILLKB20\\OneDrive - Grove City College\\Sophomore Year\\FinanceData\\FinanceData\\FinanceDataHelper.py:102: FutureWarning: The behavior of DataFrame concatenation with empty or all-NA entries is deprecated. In a future version, this will no longer exclude empty or all-NA columns when determining the result dtypes. To retain the old behavior, exclude the relevant entries before the concat operation.\n",
      "  return new_append_df if output_df is None else pd.concat([output_df,new_append_df])\n"
     ]
    },
    {
     "name": "stdout",
     "output_type": "stream",
     "text": [
      "39\n"
     ]
    },
    {
     "name": "stderr",
     "output_type": "stream",
     "text": [
      "[*********************100%%**********************]  1 of 1 completed\n",
      "[*********************100%%**********************]  1 of 1 completed\n",
      "[*********************100%%**********************]  1 of 1 completed\n",
      "[*********************100%%**********************]  1 of 1 completed\n",
      "[*********************100%%**********************]  1 of 1 completed\n",
      "c:\\Users\\GRAYBILLKB20\\OneDrive - Grove City College\\Sophomore Year\\FinanceData\\FinanceData\\FinanceDataHelper.py:102: FutureWarning: The behavior of DataFrame concatenation with empty or all-NA entries is deprecated. In a future version, this will no longer exclude empty or all-NA columns when determining the result dtypes. To retain the old behavior, exclude the relevant entries before the concat operation.\n",
      "  return new_append_df if output_df is None else pd.concat([output_df,new_append_df])\n"
     ]
    },
    {
     "name": "stdout",
     "output_type": "stream",
     "text": [
      "40\n"
     ]
    },
    {
     "name": "stderr",
     "output_type": "stream",
     "text": [
      "[*********************100%%**********************]  1 of 1 completed\n",
      "[*********************100%%**********************]  1 of 1 completed\n",
      "[*********************100%%**********************]  1 of 1 completed\n",
      "[*********************100%%**********************]  1 of 1 completed\n",
      "[*********************100%%**********************]  1 of 1 completed\n",
      "c:\\Users\\GRAYBILLKB20\\OneDrive - Grove City College\\Sophomore Year\\FinanceData\\FinanceData\\FinanceDataHelper.py:102: FutureWarning: The behavior of DataFrame concatenation with empty or all-NA entries is deprecated. In a future version, this will no longer exclude empty or all-NA columns when determining the result dtypes. To retain the old behavior, exclude the relevant entries before the concat operation.\n",
      "  return new_append_df if output_df is None else pd.concat([output_df,new_append_df])\n"
     ]
    },
    {
     "name": "stdout",
     "output_type": "stream",
     "text": [
      "41\n"
     ]
    },
    {
     "name": "stderr",
     "output_type": "stream",
     "text": [
      "[*********************100%%**********************]  1 of 1 completed\n",
      "[*********************100%%**********************]  1 of 1 completed\n",
      "[*********************100%%**********************]  1 of 1 completed\n",
      "[*********************100%%**********************]  1 of 1 completed\n",
      "[*********************100%%**********************]  1 of 1 completed\n",
      "c:\\Users\\GRAYBILLKB20\\OneDrive - Grove City College\\Sophomore Year\\FinanceData\\FinanceData\\FinanceDataHelper.py:102: FutureWarning: The behavior of DataFrame concatenation with empty or all-NA entries is deprecated. In a future version, this will no longer exclude empty or all-NA columns when determining the result dtypes. To retain the old behavior, exclude the relevant entries before the concat operation.\n",
      "  return new_append_df if output_df is None else pd.concat([output_df,new_append_df])\n"
     ]
    },
    {
     "name": "stdout",
     "output_type": "stream",
     "text": [
      "42\n"
     ]
    },
    {
     "name": "stderr",
     "output_type": "stream",
     "text": [
      "[*********************100%%**********************]  1 of 1 completed\n",
      "[*********************100%%**********************]  1 of 1 completed\n",
      "[*********************100%%**********************]  1 of 1 completed\n",
      "[*********************100%%**********************]  1 of 1 completed\n",
      "[*********************100%%**********************]  1 of 1 completed\n",
      "c:\\Users\\GRAYBILLKB20\\OneDrive - Grove City College\\Sophomore Year\\FinanceData\\FinanceData\\FinanceDataHelper.py:102: FutureWarning: The behavior of DataFrame concatenation with empty or all-NA entries is deprecated. In a future version, this will no longer exclude empty or all-NA columns when determining the result dtypes. To retain the old behavior, exclude the relevant entries before the concat operation.\n",
      "  return new_append_df if output_df is None else pd.concat([output_df,new_append_df])\n"
     ]
    },
    {
     "name": "stdout",
     "output_type": "stream",
     "text": [
      "43\n"
     ]
    },
    {
     "name": "stderr",
     "output_type": "stream",
     "text": [
      "[*********************100%%**********************]  1 of 1 completed\n",
      "[*********************100%%**********************]  1 of 1 completed\n",
      "[*********************100%%**********************]  1 of 1 completed\n",
      "[*********************100%%**********************]  1 of 1 completed\n",
      "[*********************100%%**********************]  1 of 1 completed\n",
      "c:\\Users\\GRAYBILLKB20\\OneDrive - Grove City College\\Sophomore Year\\FinanceData\\FinanceData\\FinanceDataHelper.py:102: FutureWarning: The behavior of DataFrame concatenation with empty or all-NA entries is deprecated. In a future version, this will no longer exclude empty or all-NA columns when determining the result dtypes. To retain the old behavior, exclude the relevant entries before the concat operation.\n",
      "  return new_append_df if output_df is None else pd.concat([output_df,new_append_df])\n"
     ]
    },
    {
     "name": "stdout",
     "output_type": "stream",
     "text": [
      "44\n"
     ]
    },
    {
     "name": "stderr",
     "output_type": "stream",
     "text": [
      "[*********************100%%**********************]  1 of 1 completed\n",
      "[*********************100%%**********************]  1 of 1 completed\n",
      "[*********************100%%**********************]  1 of 1 completed\n",
      "[*********************100%%**********************]  1 of 1 completed\n",
      "[*********************100%%**********************]  1 of 1 completed\n",
      "c:\\Users\\GRAYBILLKB20\\OneDrive - Grove City College\\Sophomore Year\\FinanceData\\FinanceData\\FinanceDataHelper.py:102: FutureWarning: The behavior of DataFrame concatenation with empty or all-NA entries is deprecated. In a future version, this will no longer exclude empty or all-NA columns when determining the result dtypes. To retain the old behavior, exclude the relevant entries before the concat operation.\n",
      "  return new_append_df if output_df is None else pd.concat([output_df,new_append_df])\n"
     ]
    },
    {
     "name": "stdout",
     "output_type": "stream",
     "text": [
      "45\n"
     ]
    },
    {
     "name": "stderr",
     "output_type": "stream",
     "text": [
      "[*********************100%%**********************]  1 of 1 completed\n",
      "[*********************100%%**********************]  1 of 1 completed\n",
      "[*********************100%%**********************]  1 of 1 completed\n",
      "[*********************100%%**********************]  1 of 1 completed\n",
      "[*********************100%%**********************]  1 of 1 completed\n",
      "c:\\Users\\GRAYBILLKB20\\OneDrive - Grove City College\\Sophomore Year\\FinanceData\\FinanceData\\FinanceDataHelper.py:102: FutureWarning: The behavior of DataFrame concatenation with empty or all-NA entries is deprecated. In a future version, this will no longer exclude empty or all-NA columns when determining the result dtypes. To retain the old behavior, exclude the relevant entries before the concat operation.\n",
      "  return new_append_df if output_df is None else pd.concat([output_df,new_append_df])\n"
     ]
    },
    {
     "name": "stdout",
     "output_type": "stream",
     "text": [
      "Index error retrieving data for AJG stock on 2024-11-04 00:00:00: single positional indexer is out-of-bounds\n",
      "46\n"
     ]
    },
    {
     "name": "stderr",
     "output_type": "stream",
     "text": [
      "[*********************100%%**********************]  1 of 1 completed\n",
      "[*********************100%%**********************]  1 of 1 completed\n",
      "[*********************100%%**********************]  1 of 1 completed\n",
      "[*********************100%%**********************]  1 of 1 completed\n",
      "[*********************100%%**********************]  1 of 1 completed\n",
      "c:\\Users\\GRAYBILLKB20\\OneDrive - Grove City College\\Sophomore Year\\FinanceData\\FinanceData\\FinanceDataHelper.py:102: FutureWarning: The behavior of DataFrame concatenation with empty or all-NA entries is deprecated. In a future version, this will no longer exclude empty or all-NA columns when determining the result dtypes. To retain the old behavior, exclude the relevant entries before the concat operation.\n",
      "  return new_append_df if output_df is None else pd.concat([output_df,new_append_df])\n"
     ]
    },
    {
     "name": "stdout",
     "output_type": "stream",
     "text": [
      "Index error retrieving data for AIZ stock on 2024-11-04 00:00:00: single positional indexer is out-of-bounds\n",
      "47\n"
     ]
    },
    {
     "name": "stderr",
     "output_type": "stream",
     "text": [
      "[*********************100%%**********************]  1 of 1 completed\n",
      "[*********************100%%**********************]  1 of 1 completed\n",
      "[*********************100%%**********************]  1 of 1 completed\n",
      "[*********************100%%**********************]  1 of 1 completed\n",
      "[*********************100%%**********************]  1 of 1 completed\n",
      "c:\\Users\\GRAYBILLKB20\\OneDrive - Grove City College\\Sophomore Year\\FinanceData\\FinanceData\\FinanceDataHelper.py:102: FutureWarning: The behavior of DataFrame concatenation with empty or all-NA entries is deprecated. In a future version, this will no longer exclude empty or all-NA columns when determining the result dtypes. To retain the old behavior, exclude the relevant entries before the concat operation.\n",
      "  return new_append_df if output_df is None else pd.concat([output_df,new_append_df])\n"
     ]
    },
    {
     "name": "stdout",
     "output_type": "stream",
     "text": [
      "48\n"
     ]
    },
    {
     "name": "stderr",
     "output_type": "stream",
     "text": [
      "[*********************100%%**********************]  1 of 1 completed\n",
      "[*********************100%%**********************]  1 of 1 completed\n",
      "[*********************100%%**********************]  1 of 1 completed\n",
      "[*********************100%%**********************]  1 of 1 completed\n",
      "[*********************100%%**********************]  1 of 1 completed\n",
      "c:\\Users\\GRAYBILLKB20\\OneDrive - Grove City College\\Sophomore Year\\FinanceData\\FinanceData\\FinanceDataHelper.py:102: FutureWarning: The behavior of DataFrame concatenation with empty or all-NA entries is deprecated. In a future version, this will no longer exclude empty or all-NA columns when determining the result dtypes. To retain the old behavior, exclude the relevant entries before the concat operation.\n",
      "  return new_append_df if output_df is None else pd.concat([output_df,new_append_df])\n"
     ]
    },
    {
     "name": "stdout",
     "output_type": "stream",
     "text": [
      "49\n"
     ]
    },
    {
     "name": "stderr",
     "output_type": "stream",
     "text": [
      "[*********************100%%**********************]  1 of 1 completed\n",
      "[*********************100%%**********************]  1 of 1 completed\n",
      "[*********************100%%**********************]  1 of 1 completed\n",
      "[*********************100%%**********************]  1 of 1 completed\n",
      "[*********************100%%**********************]  1 of 1 completed\n",
      "c:\\Users\\GRAYBILLKB20\\OneDrive - Grove City College\\Sophomore Year\\FinanceData\\FinanceData\\FinanceDataHelper.py:102: FutureWarning: The behavior of DataFrame concatenation with empty or all-NA entries is deprecated. In a future version, this will no longer exclude empty or all-NA columns when determining the result dtypes. To retain the old behavior, exclude the relevant entries before the concat operation.\n",
      "  return new_append_df if output_df is None else pd.concat([output_df,new_append_df])\n"
     ]
    },
    {
     "name": "stdout",
     "output_type": "stream",
     "text": [
      "50\n"
     ]
    },
    {
     "name": "stderr",
     "output_type": "stream",
     "text": [
      "[*********************100%%**********************]  1 of 1 completed\n",
      "[*********************100%%**********************]  1 of 1 completed\n",
      "[*********************100%%**********************]  1 of 1 completed\n",
      "[*********************100%%**********************]  1 of 1 completed\n",
      "[*********************100%%**********************]  1 of 1 completed\n",
      "c:\\Users\\GRAYBILLKB20\\OneDrive - Grove City College\\Sophomore Year\\FinanceData\\FinanceData\\FinanceDataHelper.py:102: FutureWarning: The behavior of DataFrame concatenation with empty or all-NA entries is deprecated. In a future version, this will no longer exclude empty or all-NA columns when determining the result dtypes. To retain the old behavior, exclude the relevant entries before the concat operation.\n",
      "  return new_append_df if output_df is None else pd.concat([output_df,new_append_df])\n"
     ]
    },
    {
     "name": "stdout",
     "output_type": "stream",
     "text": [
      "51\n"
     ]
    },
    {
     "name": "stderr",
     "output_type": "stream",
     "text": [
      "[*********************100%%**********************]  1 of 1 completed\n",
      "[*********************100%%**********************]  1 of 1 completed\n",
      "[*********************100%%**********************]  1 of 1 completed\n",
      "[*********************100%%**********************]  1 of 1 completed\n",
      "[*********************100%%**********************]  1 of 1 completed\n",
      "c:\\Users\\GRAYBILLKB20\\OneDrive - Grove City College\\Sophomore Year\\FinanceData\\FinanceData\\FinanceDataHelper.py:102: FutureWarning: The behavior of DataFrame concatenation with empty or all-NA entries is deprecated. In a future version, this will no longer exclude empty or all-NA columns when determining the result dtypes. To retain the old behavior, exclude the relevant entries before the concat operation.\n",
      "  return new_append_df if output_df is None else pd.concat([output_df,new_append_df])\n"
     ]
    },
    {
     "name": "stdout",
     "output_type": "stream",
     "text": [
      "Index error retrieving data for AZO stock on 2024-11-08 00:00:00: single positional indexer is out-of-bounds\n",
      "Index error retrieving data for AZO stock on 2024-11-07 00:00:00: single positional indexer is out-of-bounds\n",
      "Index error retrieving data for AZO stock on 2024-11-06 00:00:00: single positional indexer is out-of-bounds\n",
      "Index error retrieving data for AZO stock on 2024-11-05 00:00:00: single positional indexer is out-of-bounds\n",
      "Index error retrieving data for AZO stock on 2024-11-04 00:00:00: single positional indexer is out-of-bounds\n",
      "52\n"
     ]
    },
    {
     "name": "stderr",
     "output_type": "stream",
     "text": [
      "[*********************100%%**********************]  1 of 1 completed\n",
      "[*********************100%%**********************]  1 of 1 completed\n",
      "[*********************100%%**********************]  1 of 1 completed\n",
      "[*********************100%%**********************]  1 of 1 completed\n",
      "[*********************100%%**********************]  1 of 1 completed\n",
      "c:\\Users\\GRAYBILLKB20\\OneDrive - Grove City College\\Sophomore Year\\FinanceData\\FinanceData\\FinanceDataHelper.py:102: FutureWarning: The behavior of DataFrame concatenation with empty or all-NA entries is deprecated. In a future version, this will no longer exclude empty or all-NA columns when determining the result dtypes. To retain the old behavior, exclude the relevant entries before the concat operation.\n",
      "  return new_append_df if output_df is None else pd.concat([output_df,new_append_df])\n"
     ]
    },
    {
     "name": "stdout",
     "output_type": "stream",
     "text": [
      "53\n"
     ]
    },
    {
     "name": "stderr",
     "output_type": "stream",
     "text": [
      "[*********************100%%**********************]  1 of 1 completed\n",
      "[*********************100%%**********************]  1 of 1 completed\n",
      "[*********************100%%**********************]  1 of 1 completed\n",
      "[*********************100%%**********************]  1 of 1 completed\n",
      "[*********************100%%**********************]  1 of 1 completed\n",
      "c:\\Users\\GRAYBILLKB20\\OneDrive - Grove City College\\Sophomore Year\\FinanceData\\FinanceData\\FinanceDataHelper.py:102: FutureWarning: The behavior of DataFrame concatenation with empty or all-NA entries is deprecated. In a future version, this will no longer exclude empty or all-NA columns when determining the result dtypes. To retain the old behavior, exclude the relevant entries before the concat operation.\n",
      "  return new_append_df if output_df is None else pd.concat([output_df,new_append_df])\n"
     ]
    },
    {
     "name": "stdout",
     "output_type": "stream",
     "text": [
      "Index error retrieving data for AVY stock on 2024-11-04 00:00:00: single positional indexer is out-of-bounds\n",
      "54\n"
     ]
    },
    {
     "name": "stderr",
     "output_type": "stream",
     "text": [
      "[*********************100%%**********************]  1 of 1 completed\n",
      "[*********************100%%**********************]  1 of 1 completed\n",
      "[*********************100%%**********************]  1 of 1 completed\n",
      "[*********************100%%**********************]  1 of 1 completed\n",
      "[*********************100%%**********************]  1 of 1 completed\n",
      "c:\\Users\\GRAYBILLKB20\\OneDrive - Grove City College\\Sophomore Year\\FinanceData\\FinanceData\\FinanceDataHelper.py:102: FutureWarning: The behavior of DataFrame concatenation with empty or all-NA entries is deprecated. In a future version, this will no longer exclude empty or all-NA columns when determining the result dtypes. To retain the old behavior, exclude the relevant entries before the concat operation.\n",
      "  return new_append_df if output_df is None else pd.concat([output_df,new_append_df])\n"
     ]
    },
    {
     "name": "stdout",
     "output_type": "stream",
     "text": [
      "Index error retrieving data for AXON stock on 2024-11-04 00:00:00: single positional indexer is out-of-bounds\n",
      "55\n"
     ]
    },
    {
     "name": "stderr",
     "output_type": "stream",
     "text": [
      "[*********************100%%**********************]  1 of 1 completed\n",
      "[*********************100%%**********************]  1 of 1 completed\n",
      "[*********************100%%**********************]  1 of 1 completed\n",
      "[*********************100%%**********************]  1 of 1 completed\n",
      "[*********************100%%**********************]  1 of 1 completed\n",
      "c:\\Users\\GRAYBILLKB20\\OneDrive - Grove City College\\Sophomore Year\\FinanceData\\FinanceData\\FinanceDataHelper.py:102: FutureWarning: The behavior of DataFrame concatenation with empty or all-NA entries is deprecated. In a future version, this will no longer exclude empty or all-NA columns when determining the result dtypes. To retain the old behavior, exclude the relevant entries before the concat operation.\n",
      "  return new_append_df if output_df is None else pd.concat([output_df,new_append_df])\n"
     ]
    },
    {
     "name": "stdout",
     "output_type": "stream",
     "text": [
      "56\n"
     ]
    },
    {
     "name": "stderr",
     "output_type": "stream",
     "text": [
      "[*********************100%%**********************]  1 of 1 completed\n",
      "[*********************100%%**********************]  1 of 1 completed\n",
      "[*********************100%%**********************]  1 of 1 completed\n",
      "[*********************100%%**********************]  1 of 1 completed\n",
      "[*********************100%%**********************]  1 of 1 completed\n",
      "c:\\Users\\GRAYBILLKB20\\OneDrive - Grove City College\\Sophomore Year\\FinanceData\\FinanceData\\FinanceDataHelper.py:102: FutureWarning: The behavior of DataFrame concatenation with empty or all-NA entries is deprecated. In a future version, this will no longer exclude empty or all-NA columns when determining the result dtypes. To retain the old behavior, exclude the relevant entries before the concat operation.\n",
      "  return new_append_df if output_df is None else pd.concat([output_df,new_append_df])\n"
     ]
    },
    {
     "name": "stdout",
     "output_type": "stream",
     "text": [
      "57\n"
     ]
    },
    {
     "name": "stderr",
     "output_type": "stream",
     "text": [
      "[*********************100%%**********************]  1 of 1 completed\n",
      "[*********************100%%**********************]  1 of 1 completed\n",
      "[*********************100%%**********************]  1 of 1 completed\n",
      "[*********************100%%**********************]  1 of 1 completed\n",
      "[*********************100%%**********************]  1 of 1 completed\n",
      "c:\\Users\\GRAYBILLKB20\\OneDrive - Grove City College\\Sophomore Year\\FinanceData\\FinanceData\\FinanceDataHelper.py:102: FutureWarning: The behavior of DataFrame concatenation with empty or all-NA entries is deprecated. In a future version, this will no longer exclude empty or all-NA columns when determining the result dtypes. To retain the old behavior, exclude the relevant entries before the concat operation.\n",
      "  return new_append_df if output_df is None else pd.concat([output_df,new_append_df])\n"
     ]
    },
    {
     "name": "stdout",
     "output_type": "stream",
     "text": [
      "58\n"
     ]
    },
    {
     "name": "stderr",
     "output_type": "stream",
     "text": [
      "[*********************100%%**********************]  1 of 1 completed\n",
      "[*********************100%%**********************]  1 of 1 completed\n",
      "[*********************100%%**********************]  1 of 1 completed\n",
      "[*********************100%%**********************]  1 of 1 completed\n",
      "[*********************100%%**********************]  1 of 1 completed\n",
      "c:\\Users\\GRAYBILLKB20\\OneDrive - Grove City College\\Sophomore Year\\FinanceData\\FinanceData\\FinanceDataHelper.py:102: FutureWarning: The behavior of DataFrame concatenation with empty or all-NA entries is deprecated. In a future version, this will no longer exclude empty or all-NA columns when determining the result dtypes. To retain the old behavior, exclude the relevant entries before the concat operation.\n",
      "  return new_append_df if output_df is None else pd.concat([output_df,new_append_df])\n"
     ]
    },
    {
     "name": "stdout",
     "output_type": "stream",
     "text": [
      "59\n"
     ]
    },
    {
     "name": "stderr",
     "output_type": "stream",
     "text": [
      "[*********************100%%**********************]  1 of 1 completed\n",
      "[*********************100%%**********************]  1 of 1 completed\n",
      "[*********************100%%**********************]  1 of 1 completed\n",
      "[*********************100%%**********************]  1 of 1 completed\n",
      "[*********************100%%**********************]  1 of 1 completed\n",
      "c:\\Users\\GRAYBILLKB20\\OneDrive - Grove City College\\Sophomore Year\\FinanceData\\FinanceData\\FinanceDataHelper.py:102: FutureWarning: The behavior of DataFrame concatenation with empty or all-NA entries is deprecated. In a future version, this will no longer exclude empty or all-NA columns when determining the result dtypes. To retain the old behavior, exclude the relevant entries before the concat operation.\n",
      "  return new_append_df if output_df is None else pd.concat([output_df,new_append_df])\n"
     ]
    },
    {
     "name": "stdout",
     "output_type": "stream",
     "text": [
      "60\n"
     ]
    },
    {
     "name": "stderr",
     "output_type": "stream",
     "text": [
      "[*********************100%%**********************]  1 of 1 completed\n",
      "[*********************100%%**********************]  1 of 1 completed\n",
      "[*********************100%%**********************]  1 of 1 completed\n",
      "[*********************100%%**********************]  1 of 1 completed\n",
      "[*********************100%%**********************]  1 of 1 completed\n",
      "c:\\Users\\GRAYBILLKB20\\OneDrive - Grove City College\\Sophomore Year\\FinanceData\\FinanceData\\FinanceDataHelper.py:102: FutureWarning: The behavior of DataFrame concatenation with empty or all-NA entries is deprecated. In a future version, this will no longer exclude empty or all-NA columns when determining the result dtypes. To retain the old behavior, exclude the relevant entries before the concat operation.\n",
      "  return new_append_df if output_df is None else pd.concat([output_df,new_append_df])\n"
     ]
    },
    {
     "name": "stdout",
     "output_type": "stream",
     "text": [
      "61\n"
     ]
    },
    {
     "name": "stderr",
     "output_type": "stream",
     "text": [
      "[*********************100%%**********************]  1 of 1 completed\n",
      "[*********************100%%**********************]  1 of 1 completed\n",
      "[*********************100%%**********************]  1 of 1 completed\n",
      "[*********************100%%**********************]  1 of 1 completed\n",
      "[*********************100%%**********************]  1 of 1 completed\n",
      "c:\\Users\\GRAYBILLKB20\\OneDrive - Grove City College\\Sophomore Year\\FinanceData\\FinanceData\\FinanceDataHelper.py:102: FutureWarning: The behavior of DataFrame concatenation with empty or all-NA entries is deprecated. In a future version, this will no longer exclude empty or all-NA columns when determining the result dtypes. To retain the old behavior, exclude the relevant entries before the concat operation.\n",
      "  return new_append_df if output_df is None else pd.concat([output_df,new_append_df])\n"
     ]
    },
    {
     "name": "stdout",
     "output_type": "stream",
     "text": [
      "62\n"
     ]
    },
    {
     "name": "stderr",
     "output_type": "stream",
     "text": [
      "[*********************100%%**********************]  1 of 1 completed\n",
      "[*********************100%%**********************]  1 of 1 completed\n",
      "[*********************100%%**********************]  1 of 1 completed\n",
      "[*********************100%%**********************]  1 of 1 completed\n",
      "[*********************100%%**********************]  1 of 1 completed\n",
      "c:\\Users\\GRAYBILLKB20\\OneDrive - Grove City College\\Sophomore Year\\FinanceData\\FinanceData\\FinanceDataHelper.py:102: FutureWarning: The behavior of DataFrame concatenation with empty or all-NA entries is deprecated. In a future version, this will no longer exclude empty or all-NA columns when determining the result dtypes. To retain the old behavior, exclude the relevant entries before the concat operation.\n",
      "  return new_append_df if output_df is None else pd.concat([output_df,new_append_df])\n"
     ]
    },
    {
     "name": "stdout",
     "output_type": "stream",
     "text": [
      "63\n"
     ]
    },
    {
     "name": "stderr",
     "output_type": "stream",
     "text": [
      "[*********************100%%**********************]  1 of 1 completed\n",
      "[*********************100%%**********************]  1 of 1 completed\n",
      "[*********************100%%**********************]  1 of 1 completed\n",
      "[*********************100%%**********************]  1 of 1 completed\n",
      "[*********************100%%**********************]  1 of 1 completed\n",
      "c:\\Users\\GRAYBILLKB20\\OneDrive - Grove City College\\Sophomore Year\\FinanceData\\FinanceData\\FinanceDataHelper.py:102: FutureWarning: The behavior of DataFrame concatenation with empty or all-NA entries is deprecated. In a future version, this will no longer exclude empty or all-NA columns when determining the result dtypes. To retain the old behavior, exclude the relevant entries before the concat operation.\n",
      "  return new_append_df if output_df is None else pd.concat([output_df,new_append_df])\n"
     ]
    },
    {
     "name": "stdout",
     "output_type": "stream",
     "text": [
      "Index error retrieving data for BLK stock on 2024-11-04 00:00:00: single positional indexer is out-of-bounds\n",
      "64\n"
     ]
    },
    {
     "name": "stderr",
     "output_type": "stream",
     "text": [
      "[*********************100%%**********************]  1 of 1 completed\n",
      "[*********************100%%**********************]  1 of 1 completed\n",
      "[*********************100%%**********************]  1 of 1 completed\n",
      "[*********************100%%**********************]  1 of 1 completed\n",
      "[*********************100%%**********************]  1 of 1 completed\n",
      "c:\\Users\\GRAYBILLKB20\\OneDrive - Grove City College\\Sophomore Year\\FinanceData\\FinanceData\\FinanceDataHelper.py:102: FutureWarning: The behavior of DataFrame concatenation with empty or all-NA entries is deprecated. In a future version, this will no longer exclude empty or all-NA columns when determining the result dtypes. To retain the old behavior, exclude the relevant entries before the concat operation.\n",
      "  return new_append_df if output_df is None else pd.concat([output_df,new_append_df])\n"
     ]
    },
    {
     "name": "stdout",
     "output_type": "stream",
     "text": [
      "65\n"
     ]
    },
    {
     "name": "stderr",
     "output_type": "stream",
     "text": [
      "[*********************100%%**********************]  1 of 1 completed\n",
      "[*********************100%%**********************]  1 of 1 completed\n",
      "[*********************100%%**********************]  1 of 1 completed\n",
      "[*********************100%%**********************]  1 of 1 completed\n",
      "[*********************100%%**********************]  1 of 1 completed\n",
      "c:\\Users\\GRAYBILLKB20\\OneDrive - Grove City College\\Sophomore Year\\FinanceData\\FinanceData\\FinanceDataHelper.py:102: FutureWarning: The behavior of DataFrame concatenation with empty or all-NA entries is deprecated. In a future version, this will no longer exclude empty or all-NA columns when determining the result dtypes. To retain the old behavior, exclude the relevant entries before the concat operation.\n",
      "  return new_append_df if output_df is None else pd.concat([output_df,new_append_df])\n"
     ]
    },
    {
     "name": "stdout",
     "output_type": "stream",
     "text": [
      "66\n"
     ]
    },
    {
     "name": "stderr",
     "output_type": "stream",
     "text": [
      "[*********************100%%**********************]  1 of 1 completed\n",
      "[*********************100%%**********************]  1 of 1 completed\n",
      "[*********************100%%**********************]  1 of 1 completed\n",
      "[*********************100%%**********************]  1 of 1 completed\n",
      "[*********************100%%**********************]  1 of 1 completed\n",
      "c:\\Users\\GRAYBILLKB20\\OneDrive - Grove City College\\Sophomore Year\\FinanceData\\FinanceData\\FinanceDataHelper.py:102: FutureWarning: The behavior of DataFrame concatenation with empty or all-NA entries is deprecated. In a future version, this will no longer exclude empty or all-NA columns when determining the result dtypes. To retain the old behavior, exclude the relevant entries before the concat operation.\n",
      "  return new_append_df if output_df is None else pd.concat([output_df,new_append_df])\n"
     ]
    },
    {
     "name": "stdout",
     "output_type": "stream",
     "text": [
      "67\n"
     ]
    },
    {
     "name": "stderr",
     "output_type": "stream",
     "text": [
      "[*********************100%%**********************]  1 of 1 completed\n",
      "[*********************100%%**********************]  1 of 1 completed\n",
      "[*********************100%%**********************]  1 of 1 completed\n",
      "[*********************100%%**********************]  1 of 1 completed\n",
      "[*********************100%%**********************]  1 of 1 completed\n",
      "c:\\Users\\GRAYBILLKB20\\OneDrive - Grove City College\\Sophomore Year\\FinanceData\\FinanceData\\FinanceDataHelper.py:102: FutureWarning: The behavior of DataFrame concatenation with empty or all-NA entries is deprecated. In a future version, this will no longer exclude empty or all-NA columns when determining the result dtypes. To retain the old behavior, exclude the relevant entries before the concat operation.\n",
      "  return new_append_df if output_df is None else pd.concat([output_df,new_append_df])\n"
     ]
    },
    {
     "name": "stdout",
     "output_type": "stream",
     "text": [
      "Index error retrieving data for BKNG stock on 2024-11-07 00:00:00: single positional indexer is out-of-bounds\n",
      "Index error retrieving data for BKNG stock on 2024-11-06 00:00:00: single positional indexer is out-of-bounds\n",
      "Index error retrieving data for BKNG stock on 2024-11-05 00:00:00: single positional indexer is out-of-bounds\n",
      "Index error retrieving data for BKNG stock on 2024-11-04 00:00:00: single positional indexer is out-of-bounds\n",
      "68\n"
     ]
    },
    {
     "name": "stderr",
     "output_type": "stream",
     "text": [
      "[*********************100%%**********************]  1 of 1 completed\n",
      "[*********************100%%**********************]  1 of 1 completed\n",
      "[*********************100%%**********************]  1 of 1 completed\n",
      "[*********************100%%**********************]  1 of 1 completed\n",
      "[*********************100%%**********************]  1 of 1 completed\n",
      "c:\\Users\\GRAYBILLKB20\\OneDrive - Grove City College\\Sophomore Year\\FinanceData\\FinanceData\\FinanceDataHelper.py:102: FutureWarning: The behavior of DataFrame concatenation with empty or all-NA entries is deprecated. In a future version, this will no longer exclude empty or all-NA columns when determining the result dtypes. To retain the old behavior, exclude the relevant entries before the concat operation.\n",
      "  return new_append_df if output_df is None else pd.concat([output_df,new_append_df])\n"
     ]
    },
    {
     "name": "stdout",
     "output_type": "stream",
     "text": [
      "69\n"
     ]
    },
    {
     "name": "stderr",
     "output_type": "stream",
     "text": [
      "[*********************100%%**********************]  1 of 1 completed\n",
      "[*********************100%%**********************]  1 of 1 completed\n",
      "[*********************100%%**********************]  1 of 1 completed\n",
      "[*********************100%%**********************]  1 of 1 completed\n",
      "[*********************100%%**********************]  1 of 1 completed\n",
      "c:\\Users\\GRAYBILLKB20\\OneDrive - Grove City College\\Sophomore Year\\FinanceData\\FinanceData\\FinanceDataHelper.py:102: FutureWarning: The behavior of DataFrame concatenation with empty or all-NA entries is deprecated. In a future version, this will no longer exclude empty or all-NA columns when determining the result dtypes. To retain the old behavior, exclude the relevant entries before the concat operation.\n",
      "  return new_append_df if output_df is None else pd.concat([output_df,new_append_df])\n"
     ]
    },
    {
     "name": "stdout",
     "output_type": "stream",
     "text": [
      "70\n"
     ]
    },
    {
     "name": "stderr",
     "output_type": "stream",
     "text": [
      "[*********************100%%**********************]  1 of 1 completed\n",
      "[*********************100%%**********************]  1 of 1 completed\n",
      "[*********************100%%**********************]  1 of 1 completed\n",
      "[*********************100%%**********************]  1 of 1 completed\n",
      "[*********************100%%**********************]  1 of 1 completed\n",
      "c:\\Users\\GRAYBILLKB20\\OneDrive - Grove City College\\Sophomore Year\\FinanceData\\FinanceData\\FinanceDataHelper.py:102: FutureWarning: The behavior of DataFrame concatenation with empty or all-NA entries is deprecated. In a future version, this will no longer exclude empty or all-NA columns when determining the result dtypes. To retain the old behavior, exclude the relevant entries before the concat operation.\n",
      "  return new_append_df if output_df is None else pd.concat([output_df,new_append_df])\n"
     ]
    },
    {
     "name": "stdout",
     "output_type": "stream",
     "text": [
      "71\n"
     ]
    },
    {
     "name": "stderr",
     "output_type": "stream",
     "text": [
      "[*********************100%%**********************]  1 of 1 completed\n",
      "[*********************100%%**********************]  1 of 1 completed\n",
      "[*********************100%%**********************]  1 of 1 completed\n",
      "[*********************100%%**********************]  1 of 1 completed\n",
      "[*********************100%%**********************]  1 of 1 completed\n",
      "c:\\Users\\GRAYBILLKB20\\OneDrive - Grove City College\\Sophomore Year\\FinanceData\\FinanceData\\FinanceDataHelper.py:102: FutureWarning: The behavior of DataFrame concatenation with empty or all-NA entries is deprecated. In a future version, this will no longer exclude empty or all-NA columns when determining the result dtypes. To retain the old behavior, exclude the relevant entries before the concat operation.\n",
      "  return new_append_df if output_df is None else pd.concat([output_df,new_append_df])\n"
     ]
    },
    {
     "name": "stdout",
     "output_type": "stream",
     "text": [
      "72\n"
     ]
    },
    {
     "name": "stderr",
     "output_type": "stream",
     "text": [
      "[*********************100%%**********************]  1 of 1 completed\n",
      "[*********************100%%**********************]  1 of 1 completed\n",
      "[*********************100%%**********************]  1 of 1 completed\n",
      "[*********************100%%**********************]  1 of 1 completed\n",
      "[*********************100%%**********************]  1 of 1 completed\n",
      "c:\\Users\\GRAYBILLKB20\\OneDrive - Grove City College\\Sophomore Year\\FinanceData\\FinanceData\\FinanceDataHelper.py:102: FutureWarning: The behavior of DataFrame concatenation with empty or all-NA entries is deprecated. In a future version, this will no longer exclude empty or all-NA columns when determining the result dtypes. To retain the old behavior, exclude the relevant entries before the concat operation.\n",
      "  return new_append_df if output_df is None else pd.concat([output_df,new_append_df])\n"
     ]
    },
    {
     "name": "stdout",
     "output_type": "stream",
     "text": [
      "Index error retrieving data for BR stock on 2024-11-04 00:00:00: single positional indexer is out-of-bounds\n",
      "73\n"
     ]
    },
    {
     "name": "stderr",
     "output_type": "stream",
     "text": [
      "[*********************100%%**********************]  1 of 1 completed\n",
      "[*********************100%%**********************]  1 of 1 completed\n",
      "[*********************100%%**********************]  1 of 1 completed\n",
      "[*********************100%%**********************]  1 of 1 completed\n",
      "[*********************100%%**********************]  1 of 1 completed\n",
      "c:\\Users\\GRAYBILLKB20\\OneDrive - Grove City College\\Sophomore Year\\FinanceData\\FinanceData\\FinanceDataHelper.py:102: FutureWarning: The behavior of DataFrame concatenation with empty or all-NA entries is deprecated. In a future version, this will no longer exclude empty or all-NA columns when determining the result dtypes. To retain the old behavior, exclude the relevant entries before the concat operation.\n",
      "  return new_append_df if output_df is None else pd.concat([output_df,new_append_df])\n"
     ]
    },
    {
     "name": "stdout",
     "output_type": "stream",
     "text": [
      "74\n"
     ]
    },
    {
     "name": "stderr",
     "output_type": "stream",
     "text": [
      "[*********************100%%**********************]  1 of 1 completed\n",
      "\n",
      "1 Failed download:\n",
      "['BF.B']: YFPricesMissingError('$%ticker%: possibly delisted; No price data found  (1d 2024-09-12 00:00:00 -> 2024-11-30 00:00:00)')\n",
      "[*********************100%%**********************]  1 of 1 completed\n",
      "\n",
      "1 Failed download:\n",
      "['BF.B']: YFInvalidPeriodError(\"%ticker%: Period '5d' is invalid, must be one of ['1mo', '3mo', '6mo', 'ytd', '1y', '2y', '5y', '10y', 'max']\")\n",
      "[*********************100%%**********************]  1 of 1 completed\n",
      "\n",
      "1 Failed download:\n",
      "['BF.B']: YFInvalidPeriodError(\"%ticker%: Period '5d' is invalid, must be one of ['1mo', '3mo', '6mo', 'ytd', '1y', '2y', '5y', '10y', 'max']\")\n"
     ]
    },
    {
     "name": "stdout",
     "output_type": "stream",
     "text": [
      "$BF.B: possibly delisted; No price data found  (1d 2024-09-12 00:00:00 -> 2024-11-30 00:00:00)\n"
     ]
    },
    {
     "name": "stderr",
     "output_type": "stream",
     "text": [
      "[*********************100%%**********************]  1 of 1 completed\n",
      "\n",
      "1 Failed download:\n",
      "['BF.B']: YFInvalidPeriodError(\"%ticker%: Period '5d' is invalid, must be one of ['1mo', '3mo', '6mo', 'ytd', '1y', '2y', '5y', '10y', 'max']\")\n",
      "[*********************100%%**********************]  1 of 1 completed\n",
      "\n",
      "1 Failed download:\n",
      "['BF.B']: YFInvalidPeriodError(\"%ticker%: Period '5d' is invalid, must be one of ['1mo', '3mo', '6mo', 'ytd', '1y', '2y', '5y', '10y', 'max']\")\n"
     ]
    },
    {
     "name": "stdout",
     "output_type": "stream",
     "text": [
      "'Index' object has no attribute 'tz_localize'\n",
      "75\n"
     ]
    },
    {
     "name": "stderr",
     "output_type": "stream",
     "text": [
      "[*********************100%%**********************]  1 of 1 completed\n",
      "[*********************100%%**********************]  1 of 1 completed\n",
      "[*********************100%%**********************]  1 of 1 completed\n",
      "[*********************100%%**********************]  1 of 1 completed\n",
      "[*********************100%%**********************]  1 of 1 completed\n",
      "c:\\Users\\GRAYBILLKB20\\OneDrive - Grove City College\\Sophomore Year\\FinanceData\\FinanceData\\FinanceDataHelper.py:102: FutureWarning: The behavior of DataFrame concatenation with empty or all-NA entries is deprecated. In a future version, this will no longer exclude empty or all-NA columns when determining the result dtypes. To retain the old behavior, exclude the relevant entries before the concat operation.\n",
      "  return new_append_df if output_df is None else pd.concat([output_df,new_append_df])\n"
     ]
    },
    {
     "name": "stdout",
     "output_type": "stream",
     "text": [
      "76\n"
     ]
    },
    {
     "name": "stderr",
     "output_type": "stream",
     "text": [
      "[*********************100%%**********************]  1 of 1 completed\n",
      "[*********************100%%**********************]  1 of 1 completed\n",
      "[*********************100%%**********************]  1 of 1 completed\n",
      "[*********************100%%**********************]  1 of 1 completed\n",
      "[*********************100%%**********************]  1 of 1 completed\n",
      "c:\\Users\\GRAYBILLKB20\\OneDrive - Grove City College\\Sophomore Year\\FinanceData\\FinanceData\\FinanceDataHelper.py:102: FutureWarning: The behavior of DataFrame concatenation with empty or all-NA entries is deprecated. In a future version, this will no longer exclude empty or all-NA columns when determining the result dtypes. To retain the old behavior, exclude the relevant entries before the concat operation.\n",
      "  return new_append_df if output_df is None else pd.concat([output_df,new_append_df])\n"
     ]
    },
    {
     "name": "stdout",
     "output_type": "stream",
     "text": [
      "77\n"
     ]
    },
    {
     "name": "stderr",
     "output_type": "stream",
     "text": [
      "[*********************100%%**********************]  1 of 1 completed\n",
      "[*********************100%%**********************]  1 of 1 completed\n",
      "[*********************100%%**********************]  1 of 1 completed\n",
      "[*********************100%%**********************]  1 of 1 completed\n",
      "[*********************100%%**********************]  1 of 1 completed\n",
      "c:\\Users\\GRAYBILLKB20\\OneDrive - Grove City College\\Sophomore Year\\FinanceData\\FinanceData\\FinanceDataHelper.py:102: FutureWarning: The behavior of DataFrame concatenation with empty or all-NA entries is deprecated. In a future version, this will no longer exclude empty or all-NA columns when determining the result dtypes. To retain the old behavior, exclude the relevant entries before the concat operation.\n",
      "  return new_append_df if output_df is None else pd.concat([output_df,new_append_df])\n"
     ]
    },
    {
     "name": "stdout",
     "output_type": "stream",
     "text": [
      "78\n"
     ]
    },
    {
     "name": "stderr",
     "output_type": "stream",
     "text": [
      "[*********************100%%**********************]  1 of 1 completed\n",
      "[*********************100%%**********************]  1 of 1 completed\n",
      "[*********************100%%**********************]  1 of 1 completed\n",
      "[*********************100%%**********************]  1 of 1 completed\n",
      "[*********************100%%**********************]  1 of 1 completed\n",
      "c:\\Users\\GRAYBILLKB20\\OneDrive - Grove City College\\Sophomore Year\\FinanceData\\FinanceData\\FinanceDataHelper.py:102: FutureWarning: The behavior of DataFrame concatenation with empty or all-NA entries is deprecated. In a future version, this will no longer exclude empty or all-NA columns when determining the result dtypes. To retain the old behavior, exclude the relevant entries before the concat operation.\n",
      "  return new_append_df if output_df is None else pd.concat([output_df,new_append_df])\n"
     ]
    },
    {
     "name": "stdout",
     "output_type": "stream",
     "text": [
      "79\n"
     ]
    },
    {
     "name": "stderr",
     "output_type": "stream",
     "text": [
      "[*********************100%%**********************]  1 of 1 completed\n",
      "[*********************100%%**********************]  1 of 1 completed\n",
      "[*********************100%%**********************]  1 of 1 completed\n",
      "[*********************100%%**********************]  1 of 1 completed\n",
      "[*********************100%%**********************]  1 of 1 completed\n",
      "c:\\Users\\GRAYBILLKB20\\OneDrive - Grove City College\\Sophomore Year\\FinanceData\\FinanceData\\FinanceDataHelper.py:102: FutureWarning: The behavior of DataFrame concatenation with empty or all-NA entries is deprecated. In a future version, this will no longer exclude empty or all-NA columns when determining the result dtypes. To retain the old behavior, exclude the relevant entries before the concat operation.\n",
      "  return new_append_df if output_df is None else pd.concat([output_df,new_append_df])\n"
     ]
    },
    {
     "name": "stdout",
     "output_type": "stream",
     "text": [
      "80\n"
     ]
    },
    {
     "name": "stderr",
     "output_type": "stream",
     "text": [
      "[*********************100%%**********************]  1 of 1 completed\n",
      "[*********************100%%**********************]  1 of 1 completed\n",
      "[*********************100%%**********************]  1 of 1 completed\n",
      "[*********************100%%**********************]  1 of 1 completed\n",
      "[*********************100%%**********************]  1 of 1 completed\n",
      "c:\\Users\\GRAYBILLKB20\\OneDrive - Grove City College\\Sophomore Year\\FinanceData\\FinanceData\\FinanceDataHelper.py:102: FutureWarning: The behavior of DataFrame concatenation with empty or all-NA entries is deprecated. In a future version, this will no longer exclude empty or all-NA columns when determining the result dtypes. To retain the old behavior, exclude the relevant entries before the concat operation.\n",
      "  return new_append_df if output_df is None else pd.concat([output_df,new_append_df])\n"
     ]
    },
    {
     "name": "stdout",
     "output_type": "stream",
     "text": [
      "81\n"
     ]
    },
    {
     "name": "stderr",
     "output_type": "stream",
     "text": [
      "[*********************100%%**********************]  1 of 1 completed\n",
      "[*********************100%%**********************]  1 of 1 completed\n",
      "[*********************100%%**********************]  1 of 1 completed\n",
      "[*********************100%%**********************]  1 of 1 completed\n",
      "[*********************100%%**********************]  1 of 1 completed\n",
      "c:\\Users\\GRAYBILLKB20\\OneDrive - Grove City College\\Sophomore Year\\FinanceData\\FinanceData\\FinanceDataHelper.py:102: FutureWarning: The behavior of DataFrame concatenation with empty or all-NA entries is deprecated. In a future version, this will no longer exclude empty or all-NA columns when determining the result dtypes. To retain the old behavior, exclude the relevant entries before the concat operation.\n",
      "  return new_append_df if output_df is None else pd.concat([output_df,new_append_df])\n"
     ]
    },
    {
     "name": "stdout",
     "output_type": "stream",
     "text": [
      "82\n"
     ]
    },
    {
     "name": "stderr",
     "output_type": "stream",
     "text": [
      "[*********************100%%**********************]  1 of 1 completed\n",
      "[*********************100%%**********************]  1 of 1 completed\n",
      "[*********************100%%**********************]  1 of 1 completed\n",
      "[*********************100%%**********************]  1 of 1 completed\n",
      "[*********************100%%**********************]  1 of 1 completed\n",
      "c:\\Users\\GRAYBILLKB20\\OneDrive - Grove City College\\Sophomore Year\\FinanceData\\FinanceData\\FinanceDataHelper.py:102: FutureWarning: The behavior of DataFrame concatenation with empty or all-NA entries is deprecated. In a future version, this will no longer exclude empty or all-NA columns when determining the result dtypes. To retain the old behavior, exclude the relevant entries before the concat operation.\n",
      "  return new_append_df if output_df is None else pd.concat([output_df,new_append_df])\n"
     ]
    },
    {
     "name": "stdout",
     "output_type": "stream",
     "text": [
      "83\n"
     ]
    },
    {
     "name": "stderr",
     "output_type": "stream",
     "text": [
      "[*********************100%%**********************]  1 of 1 completed\n",
      "[*********************100%%**********************]  1 of 1 completed\n",
      "[*********************100%%**********************]  1 of 1 completed\n",
      "[*********************100%%**********************]  1 of 1 completed\n",
      "[*********************100%%**********************]  1 of 1 completed\n",
      "c:\\Users\\GRAYBILLKB20\\OneDrive - Grove City College\\Sophomore Year\\FinanceData\\FinanceData\\FinanceDataHelper.py:102: FutureWarning: The behavior of DataFrame concatenation with empty or all-NA entries is deprecated. In a future version, this will no longer exclude empty or all-NA columns when determining the result dtypes. To retain the old behavior, exclude the relevant entries before the concat operation.\n",
      "  return new_append_df if output_df is None else pd.concat([output_df,new_append_df])\n"
     ]
    },
    {
     "name": "stdout",
     "output_type": "stream",
     "text": [
      "84\n"
     ]
    },
    {
     "name": "stderr",
     "output_type": "stream",
     "text": [
      "[*********************100%%**********************]  1 of 1 completed\n",
      "[*********************100%%**********************]  1 of 1 completed\n",
      "[*********************100%%**********************]  1 of 1 completed\n",
      "[*********************100%%**********************]  1 of 1 completed\n",
      "[*********************100%%**********************]  1 of 1 completed\n",
      "c:\\Users\\GRAYBILLKB20\\OneDrive - Grove City College\\Sophomore Year\\FinanceData\\FinanceData\\FinanceDataHelper.py:102: FutureWarning: The behavior of DataFrame concatenation with empty or all-NA entries is deprecated. In a future version, this will no longer exclude empty or all-NA columns when determining the result dtypes. To retain the old behavior, exclude the relevant entries before the concat operation.\n",
      "  return new_append_df if output_df is None else pd.concat([output_df,new_append_df])\n"
     ]
    },
    {
     "name": "stdout",
     "output_type": "stream",
     "text": [
      "85\n"
     ]
    },
    {
     "name": "stderr",
     "output_type": "stream",
     "text": [
      "[*********************100%%**********************]  1 of 1 completed\n",
      "[*********************100%%**********************]  1 of 1 completed\n",
      "[*********************100%%**********************]  1 of 1 completed\n",
      "[*********************100%%**********************]  1 of 1 completed\n",
      "[*********************100%%**********************]  1 of 1 completed\n",
      "c:\\Users\\GRAYBILLKB20\\OneDrive - Grove City College\\Sophomore Year\\FinanceData\\FinanceData\\FinanceDataHelper.py:102: FutureWarning: The behavior of DataFrame concatenation with empty or all-NA entries is deprecated. In a future version, this will no longer exclude empty or all-NA columns when determining the result dtypes. To retain the old behavior, exclude the relevant entries before the concat operation.\n",
      "  return new_append_df if output_df is None else pd.concat([output_df,new_append_df])\n"
     ]
    },
    {
     "name": "stdout",
     "output_type": "stream",
     "text": [
      "86\n"
     ]
    },
    {
     "name": "stderr",
     "output_type": "stream",
     "text": [
      "[*********************100%%**********************]  1 of 1 completed\n",
      "[*********************100%%**********************]  1 of 1 completed\n",
      "[*********************100%%**********************]  1 of 1 completed\n",
      "[*********************100%%**********************]  1 of 1 completed\n",
      "[*********************100%%**********************]  1 of 1 completed\n",
      "c:\\Users\\GRAYBILLKB20\\OneDrive - Grove City College\\Sophomore Year\\FinanceData\\FinanceData\\FinanceDataHelper.py:102: FutureWarning: The behavior of DataFrame concatenation with empty or all-NA entries is deprecated. In a future version, this will no longer exclude empty or all-NA columns when determining the result dtypes. To retain the old behavior, exclude the relevant entries before the concat operation.\n",
      "  return new_append_df if output_df is None else pd.concat([output_df,new_append_df])\n"
     ]
    },
    {
     "name": "stdout",
     "output_type": "stream",
     "text": [
      "87\n"
     ]
    },
    {
     "name": "stderr",
     "output_type": "stream",
     "text": [
      "[*********************100%%**********************]  1 of 1 completed\n",
      "[*********************100%%**********************]  1 of 1 completed\n",
      "[*********************100%%**********************]  1 of 1 completed\n",
      "[*********************100%%**********************]  1 of 1 completed\n",
      "[*********************100%%**********************]  1 of 1 completed\n",
      "c:\\Users\\GRAYBILLKB20\\OneDrive - Grove City College\\Sophomore Year\\FinanceData\\FinanceData\\FinanceDataHelper.py:102: FutureWarning: The behavior of DataFrame concatenation with empty or all-NA entries is deprecated. In a future version, this will no longer exclude empty or all-NA columns when determining the result dtypes. To retain the old behavior, exclude the relevant entries before the concat operation.\n",
      "  return new_append_df if output_df is None else pd.concat([output_df,new_append_df])\n"
     ]
    },
    {
     "name": "stdout",
     "output_type": "stream",
     "text": [
      "88\n"
     ]
    },
    {
     "name": "stderr",
     "output_type": "stream",
     "text": [
      "[*********************100%%**********************]  1 of 1 completed\n",
      "[*********************100%%**********************]  1 of 1 completed\n",
      "[*********************100%%**********************]  1 of 1 completed\n",
      "[*********************100%%**********************]  1 of 1 completed\n",
      "[*********************100%%**********************]  1 of 1 completed\n",
      "c:\\Users\\GRAYBILLKB20\\OneDrive - Grove City College\\Sophomore Year\\FinanceData\\FinanceData\\FinanceDataHelper.py:102: FutureWarning: The behavior of DataFrame concatenation with empty or all-NA entries is deprecated. In a future version, this will no longer exclude empty or all-NA columns when determining the result dtypes. To retain the old behavior, exclude the relevant entries before the concat operation.\n",
      "  return new_append_df if output_df is None else pd.concat([output_df,new_append_df])\n"
     ]
    },
    {
     "name": "stdout",
     "output_type": "stream",
     "text": [
      "89\n"
     ]
    },
    {
     "name": "stderr",
     "output_type": "stream",
     "text": [
      "[*********************100%%**********************]  1 of 1 completed\n",
      "[*********************100%%**********************]  1 of 1 completed\n",
      "[*********************100%%**********************]  1 of 1 completed\n",
      "[*********************100%%**********************]  1 of 1 completed\n",
      "[*********************100%%**********************]  1 of 1 completed\n",
      "c:\\Users\\GRAYBILLKB20\\OneDrive - Grove City College\\Sophomore Year\\FinanceData\\FinanceData\\FinanceDataHelper.py:102: FutureWarning: The behavior of DataFrame concatenation with empty or all-NA entries is deprecated. In a future version, this will no longer exclude empty or all-NA columns when determining the result dtypes. To retain the old behavior, exclude the relevant entries before the concat operation.\n",
      "  return new_append_df if output_df is None else pd.concat([output_df,new_append_df])\n"
     ]
    },
    {
     "name": "stdout",
     "output_type": "stream",
     "text": [
      "90\n"
     ]
    },
    {
     "name": "stderr",
     "output_type": "stream",
     "text": [
      "[*********************100%%**********************]  1 of 1 completed\n",
      "[*********************100%%**********************]  1 of 1 completed\n",
      "[*********************100%%**********************]  1 of 1 completed\n",
      "[*********************100%%**********************]  1 of 1 completed\n",
      "[*********************100%%**********************]  1 of 1 completed\n",
      "c:\\Users\\GRAYBILLKB20\\OneDrive - Grove City College\\Sophomore Year\\FinanceData\\FinanceData\\FinanceDataHelper.py:102: FutureWarning: The behavior of DataFrame concatenation with empty or all-NA entries is deprecated. In a future version, this will no longer exclude empty or all-NA columns when determining the result dtypes. To retain the old behavior, exclude the relevant entries before the concat operation.\n",
      "  return new_append_df if output_df is None else pd.concat([output_df,new_append_df])\n",
      "[*********************100%%**********************]  1 of 1 completed"
     ]
    },
    {
     "name": "stdout",
     "output_type": "stream",
     "text": [
      "91\n"
     ]
    },
    {
     "name": "stderr",
     "output_type": "stream",
     "text": [
      "\n",
      "[*********************100%%**********************]  1 of 1 completed\n",
      "[*********************100%%**********************]  1 of 1 completed\n",
      "[*********************100%%**********************]  1 of 1 completed\n",
      "[*********************100%%**********************]  1 of 1 completed\n",
      "c:\\Users\\GRAYBILLKB20\\OneDrive - Grove City College\\Sophomore Year\\FinanceData\\FinanceData\\FinanceDataHelper.py:102: FutureWarning: The behavior of DataFrame concatenation with empty or all-NA entries is deprecated. In a future version, this will no longer exclude empty or all-NA columns when determining the result dtypes. To retain the old behavior, exclude the relevant entries before the concat operation.\n",
      "  return new_append_df if output_df is None else pd.concat([output_df,new_append_df])\n"
     ]
    },
    {
     "name": "stdout",
     "output_type": "stream",
     "text": [
      "92\n"
     ]
    },
    {
     "name": "stderr",
     "output_type": "stream",
     "text": [
      "[*********************100%%**********************]  1 of 1 completed\n",
      "[*********************100%%**********************]  1 of 1 completed\n",
      "[*********************100%%**********************]  1 of 1 completed\n",
      "[*********************100%%**********************]  1 of 1 completed\n",
      "[*********************100%%**********************]  1 of 1 completed\n",
      "c:\\Users\\GRAYBILLKB20\\OneDrive - Grove City College\\Sophomore Year\\FinanceData\\FinanceData\\FinanceDataHelper.py:102: FutureWarning: The behavior of DataFrame concatenation with empty or all-NA entries is deprecated. In a future version, this will no longer exclude empty or all-NA columns when determining the result dtypes. To retain the old behavior, exclude the relevant entries before the concat operation.\n",
      "  return new_append_df if output_df is None else pd.concat([output_df,new_append_df])\n"
     ]
    },
    {
     "name": "stdout",
     "output_type": "stream",
     "text": [
      "93\n"
     ]
    },
    {
     "name": "stderr",
     "output_type": "stream",
     "text": [
      "[*********************100%%**********************]  1 of 1 completed\n",
      "[*********************100%%**********************]  1 of 1 completed\n",
      "[*********************100%%**********************]  1 of 1 completed\n",
      "[*********************100%%**********************]  1 of 1 completed\n",
      "[*********************100%%**********************]  1 of 1 completed\n",
      "c:\\Users\\GRAYBILLKB20\\OneDrive - Grove City College\\Sophomore Year\\FinanceData\\FinanceData\\FinanceDataHelper.py:102: FutureWarning: The behavior of DataFrame concatenation with empty or all-NA entries is deprecated. In a future version, this will no longer exclude empty or all-NA columns when determining the result dtypes. To retain the old behavior, exclude the relevant entries before the concat operation.\n",
      "  return new_append_df if output_df is None else pd.concat([output_df,new_append_df])\n"
     ]
    },
    {
     "name": "stdout",
     "output_type": "stream",
     "text": [
      "94\n"
     ]
    },
    {
     "name": "stderr",
     "output_type": "stream",
     "text": [
      "[*********************100%%**********************]  1 of 1 completed\n",
      "[*********************100%%**********************]  1 of 1 completed\n",
      "[*********************100%%**********************]  1 of 1 completed\n",
      "[*********************100%%**********************]  1 of 1 completed\n",
      "[*********************100%%**********************]  1 of 1 completed\n",
      "c:\\Users\\GRAYBILLKB20\\OneDrive - Grove City College\\Sophomore Year\\FinanceData\\FinanceData\\FinanceDataHelper.py:102: FutureWarning: The behavior of DataFrame concatenation with empty or all-NA entries is deprecated. In a future version, this will no longer exclude empty or all-NA columns when determining the result dtypes. To retain the old behavior, exclude the relevant entries before the concat operation.\n",
      "  return new_append_df if output_df is None else pd.concat([output_df,new_append_df])\n"
     ]
    },
    {
     "name": "stdout",
     "output_type": "stream",
     "text": [
      "95\n"
     ]
    },
    {
     "name": "stderr",
     "output_type": "stream",
     "text": [
      "[*********************100%%**********************]  1 of 1 completed\n",
      "[*********************100%%**********************]  1 of 1 completed\n",
      "[*********************100%%**********************]  1 of 1 completed\n",
      "[*********************100%%**********************]  1 of 1 completed\n",
      "[*********************100%%**********************]  1 of 1 completed\n",
      "c:\\Users\\GRAYBILLKB20\\OneDrive - Grove City College\\Sophomore Year\\FinanceData\\FinanceData\\FinanceDataHelper.py:102: FutureWarning: The behavior of DataFrame concatenation with empty or all-NA entries is deprecated. In a future version, this will no longer exclude empty or all-NA columns when determining the result dtypes. To retain the old behavior, exclude the relevant entries before the concat operation.\n",
      "  return new_append_df if output_df is None else pd.concat([output_df,new_append_df])\n"
     ]
    },
    {
     "name": "stdout",
     "output_type": "stream",
     "text": [
      "96\n"
     ]
    },
    {
     "name": "stderr",
     "output_type": "stream",
     "text": [
      "[*********************100%%**********************]  1 of 1 completed\n",
      "[*********************100%%**********************]  1 of 1 completed\n",
      "[*********************100%%**********************]  1 of 1 completed\n",
      "[*********************100%%**********************]  1 of 1 completed\n",
      "[*********************100%%**********************]  1 of 1 completed\n",
      "c:\\Users\\GRAYBILLKB20\\OneDrive - Grove City College\\Sophomore Year\\FinanceData\\FinanceData\\FinanceDataHelper.py:102: FutureWarning: The behavior of DataFrame concatenation with empty or all-NA entries is deprecated. In a future version, this will no longer exclude empty or all-NA columns when determining the result dtypes. To retain the old behavior, exclude the relevant entries before the concat operation.\n",
      "  return new_append_df if output_df is None else pd.concat([output_df,new_append_df])\n"
     ]
    },
    {
     "name": "stdout",
     "output_type": "stream",
     "text": [
      "97\n"
     ]
    },
    {
     "name": "stderr",
     "output_type": "stream",
     "text": [
      "[*********************100%%**********************]  1 of 1 completed\n",
      "[*********************100%%**********************]  1 of 1 completed\n",
      "[*********************100%%**********************]  1 of 1 completed\n",
      "[*********************100%%**********************]  1 of 1 completed\n",
      "[*********************100%%**********************]  1 of 1 completed\n",
      "c:\\Users\\GRAYBILLKB20\\OneDrive - Grove City College\\Sophomore Year\\FinanceData\\FinanceData\\FinanceDataHelper.py:102: FutureWarning: The behavior of DataFrame concatenation with empty or all-NA entries is deprecated. In a future version, this will no longer exclude empty or all-NA columns when determining the result dtypes. To retain the old behavior, exclude the relevant entries before the concat operation.\n",
      "  return new_append_df if output_df is None else pd.concat([output_df,new_append_df])\n"
     ]
    },
    {
     "name": "stdout",
     "output_type": "stream",
     "text": [
      "98\n"
     ]
    },
    {
     "name": "stderr",
     "output_type": "stream",
     "text": [
      "[*********************100%%**********************]  1 of 1 completed\n",
      "[*********************100%%**********************]  1 of 1 completed\n",
      "[*********************100%%**********************]  1 of 1 completed\n",
      "[*********************100%%**********************]  1 of 1 completed\n",
      "[*********************100%%**********************]  1 of 1 completed\n",
      "c:\\Users\\GRAYBILLKB20\\OneDrive - Grove City College\\Sophomore Year\\FinanceData\\FinanceData\\FinanceDataHelper.py:102: FutureWarning: The behavior of DataFrame concatenation with empty or all-NA entries is deprecated. In a future version, this will no longer exclude empty or all-NA columns when determining the result dtypes. To retain the old behavior, exclude the relevant entries before the concat operation.\n",
      "  return new_append_df if output_df is None else pd.concat([output_df,new_append_df])\n"
     ]
    },
    {
     "name": "stdout",
     "output_type": "stream",
     "text": [
      "99\n"
     ]
    },
    {
     "name": "stderr",
     "output_type": "stream",
     "text": [
      "[*********************100%%**********************]  1 of 1 completed\n",
      "[*********************100%%**********************]  1 of 1 completed\n",
      "[*********************100%%**********************]  1 of 1 completed\n",
      "[*********************100%%**********************]  1 of 1 completed\n",
      "[*********************100%%**********************]  1 of 1 completed\n",
      "c:\\Users\\GRAYBILLKB20\\OneDrive - Grove City College\\Sophomore Year\\FinanceData\\FinanceData\\FinanceDataHelper.py:102: FutureWarning: The behavior of DataFrame concatenation with empty or all-NA entries is deprecated. In a future version, this will no longer exclude empty or all-NA columns when determining the result dtypes. To retain the old behavior, exclude the relevant entries before the concat operation.\n",
      "  return new_append_df if output_df is None else pd.concat([output_df,new_append_df])\n"
     ]
    },
    {
     "name": "stdout",
     "output_type": "stream",
     "text": [
      "100\n"
     ]
    },
    {
     "name": "stderr",
     "output_type": "stream",
     "text": [
      "[*********************100%%**********************]  1 of 1 completed\n",
      "[*********************100%%**********************]  1 of 1 completed\n",
      "[*********************100%%**********************]  1 of 1 completed\n",
      "[*********************100%%**********************]  1 of 1 completed\n",
      "[*********************100%%**********************]  1 of 1 completed\n",
      "c:\\Users\\GRAYBILLKB20\\OneDrive - Grove City College\\Sophomore Year\\FinanceData\\FinanceData\\FinanceDataHelper.py:102: FutureWarning: The behavior of DataFrame concatenation with empty or all-NA entries is deprecated. In a future version, this will no longer exclude empty or all-NA columns when determining the result dtypes. To retain the old behavior, exclude the relevant entries before the concat operation.\n",
      "  return new_append_df if output_df is None else pd.concat([output_df,new_append_df])\n"
     ]
    },
    {
     "name": "stdout",
     "output_type": "stream",
     "text": [
      "101\n"
     ]
    },
    {
     "name": "stderr",
     "output_type": "stream",
     "text": [
      "[*********************100%%**********************]  1 of 1 completed\n",
      "[*********************100%%**********************]  1 of 1 completed\n",
      "[*********************100%%**********************]  1 of 1 completed\n",
      "[*********************100%%**********************]  1 of 1 completed\n",
      "[*********************100%%**********************]  1 of 1 completed\n",
      "c:\\Users\\GRAYBILLKB20\\OneDrive - Grove City College\\Sophomore Year\\FinanceData\\FinanceData\\FinanceDataHelper.py:102: FutureWarning: The behavior of DataFrame concatenation with empty or all-NA entries is deprecated. In a future version, this will no longer exclude empty or all-NA columns when determining the result dtypes. To retain the old behavior, exclude the relevant entries before the concat operation.\n",
      "  return new_append_df if output_df is None else pd.concat([output_df,new_append_df])\n"
     ]
    },
    {
     "name": "stdout",
     "output_type": "stream",
     "text": [
      "102\n"
     ]
    },
    {
     "name": "stderr",
     "output_type": "stream",
     "text": [
      "[*********************100%%**********************]  1 of 1 completed\n",
      "[*********************100%%**********************]  1 of 1 completed\n",
      "[*********************100%%**********************]  1 of 1 completed\n",
      "[*********************100%%**********************]  1 of 1 completed\n",
      "[*********************100%%**********************]  1 of 1 completed\n",
      "c:\\Users\\GRAYBILLKB20\\OneDrive - Grove City College\\Sophomore Year\\FinanceData\\FinanceData\\FinanceDataHelper.py:102: FutureWarning: The behavior of DataFrame concatenation with empty or all-NA entries is deprecated. In a future version, this will no longer exclude empty or all-NA columns when determining the result dtypes. To retain the old behavior, exclude the relevant entries before the concat operation.\n",
      "  return new_append_df if output_df is None else pd.concat([output_df,new_append_df])\n"
     ]
    },
    {
     "name": "stdout",
     "output_type": "stream",
     "text": [
      "103\n"
     ]
    },
    {
     "name": "stderr",
     "output_type": "stream",
     "text": [
      "[*********************100%%**********************]  1 of 1 completed\n",
      "[*********************100%%**********************]  1 of 1 completed\n",
      "[*********************100%%**********************]  1 of 1 completed\n",
      "[*********************100%%**********************]  1 of 1 completed\n",
      "[*********************100%%**********************]  1 of 1 completed\n",
      "c:\\Users\\GRAYBILLKB20\\OneDrive - Grove City College\\Sophomore Year\\FinanceData\\FinanceData\\FinanceDataHelper.py:102: FutureWarning: The behavior of DataFrame concatenation with empty or all-NA entries is deprecated. In a future version, this will no longer exclude empty or all-NA columns when determining the result dtypes. To retain the old behavior, exclude the relevant entries before the concat operation.\n",
      "  return new_append_df if output_df is None else pd.concat([output_df,new_append_df])\n"
     ]
    },
    {
     "name": "stdout",
     "output_type": "stream",
     "text": [
      "104\n"
     ]
    },
    {
     "name": "stderr",
     "output_type": "stream",
     "text": [
      "[*********************100%%**********************]  1 of 1 completed\n",
      "[*********************100%%**********************]  1 of 1 completed\n",
      "[*********************100%%**********************]  1 of 1 completed\n",
      "[*********************100%%**********************]  1 of 1 completed\n",
      "[*********************100%%**********************]  1 of 1 completed\n",
      "c:\\Users\\GRAYBILLKB20\\OneDrive - Grove City College\\Sophomore Year\\FinanceData\\FinanceData\\FinanceDataHelper.py:102: FutureWarning: The behavior of DataFrame concatenation with empty or all-NA entries is deprecated. In a future version, this will no longer exclude empty or all-NA columns when determining the result dtypes. To retain the old behavior, exclude the relevant entries before the concat operation.\n",
      "  return new_append_df if output_df is None else pd.concat([output_df,new_append_df])\n"
     ]
    },
    {
     "name": "stdout",
     "output_type": "stream",
     "text": [
      "105\n"
     ]
    },
    {
     "name": "stderr",
     "output_type": "stream",
     "text": [
      "[*********************100%%**********************]  1 of 1 completed\n",
      "[*********************100%%**********************]  1 of 1 completed\n",
      "[*********************100%%**********************]  1 of 1 completed\n",
      "[*********************100%%**********************]  1 of 1 completed\n",
      "[*********************100%%**********************]  1 of 1 completed\n",
      "c:\\Users\\GRAYBILLKB20\\OneDrive - Grove City College\\Sophomore Year\\FinanceData\\FinanceData\\FinanceDataHelper.py:102: FutureWarning: The behavior of DataFrame concatenation with empty or all-NA entries is deprecated. In a future version, this will no longer exclude empty or all-NA columns when determining the result dtypes. To retain the old behavior, exclude the relevant entries before the concat operation.\n",
      "  return new_append_df if output_df is None else pd.concat([output_df,new_append_df])\n"
     ]
    },
    {
     "name": "stdout",
     "output_type": "stream",
     "text": [
      "106\n"
     ]
    },
    {
     "name": "stderr",
     "output_type": "stream",
     "text": [
      "[*********************100%%**********************]  1 of 1 completed\n",
      "[*********************100%%**********************]  1 of 1 completed\n",
      "[*********************100%%**********************]  1 of 1 completed\n",
      "[*********************100%%**********************]  1 of 1 completed\n",
      "[*********************100%%**********************]  1 of 1 completed\n",
      "c:\\Users\\GRAYBILLKB20\\OneDrive - Grove City College\\Sophomore Year\\FinanceData\\FinanceData\\FinanceDataHelper.py:102: FutureWarning: The behavior of DataFrame concatenation with empty or all-NA entries is deprecated. In a future version, this will no longer exclude empty or all-NA columns when determining the result dtypes. To retain the old behavior, exclude the relevant entries before the concat operation.\n",
      "  return new_append_df if output_df is None else pd.concat([output_df,new_append_df])\n"
     ]
    },
    {
     "name": "stdout",
     "output_type": "stream",
     "text": [
      "Index error retrieving data for CINF stock on 2024-11-05 00:00:00: single positional indexer is out-of-bounds\n",
      "Index error retrieving data for CINF stock on 2024-11-04 00:00:00: single positional indexer is out-of-bounds\n",
      "107\n"
     ]
    },
    {
     "name": "stderr",
     "output_type": "stream",
     "text": [
      "[*********************100%%**********************]  1 of 1 completed\n",
      "[*********************100%%**********************]  1 of 1 completed\n",
      "[*********************100%%**********************]  1 of 1 completed\n",
      "[*********************100%%**********************]  1 of 1 completed\n",
      "[*********************100%%**********************]  1 of 1 completed\n",
      "c:\\Users\\GRAYBILLKB20\\OneDrive - Grove City College\\Sophomore Year\\FinanceData\\FinanceData\\FinanceDataHelper.py:102: FutureWarning: The behavior of DataFrame concatenation with empty or all-NA entries is deprecated. In a future version, this will no longer exclude empty or all-NA columns when determining the result dtypes. To retain the old behavior, exclude the relevant entries before the concat operation.\n",
      "  return new_append_df if output_df is None else pd.concat([output_df,new_append_df])\n"
     ]
    },
    {
     "name": "stdout",
     "output_type": "stream",
     "text": [
      "108\n"
     ]
    },
    {
     "name": "stderr",
     "output_type": "stream",
     "text": [
      "[*********************100%%**********************]  1 of 1 completed\n",
      "[*********************100%%**********************]  1 of 1 completed\n",
      "[*********************100%%**********************]  1 of 1 completed\n",
      "[*********************100%%**********************]  1 of 1 completed\n",
      "[*********************100%%**********************]  1 of 1 completed\n",
      "c:\\Users\\GRAYBILLKB20\\OneDrive - Grove City College\\Sophomore Year\\FinanceData\\FinanceData\\FinanceDataHelper.py:102: FutureWarning: The behavior of DataFrame concatenation with empty or all-NA entries is deprecated. In a future version, this will no longer exclude empty or all-NA columns when determining the result dtypes. To retain the old behavior, exclude the relevant entries before the concat operation.\n",
      "  return new_append_df if output_df is None else pd.concat([output_df,new_append_df])\n"
     ]
    },
    {
     "name": "stdout",
     "output_type": "stream",
     "text": [
      "109\n"
     ]
    },
    {
     "name": "stderr",
     "output_type": "stream",
     "text": [
      "[*********************100%%**********************]  1 of 1 completed\n",
      "[*********************100%%**********************]  1 of 1 completed\n",
      "[*********************100%%**********************]  1 of 1 completed\n",
      "[*********************100%%**********************]  1 of 1 completed\n",
      "[*********************100%%**********************]  1 of 1 completed\n",
      "c:\\Users\\GRAYBILLKB20\\OneDrive - Grove City College\\Sophomore Year\\FinanceData\\FinanceData\\FinanceDataHelper.py:102: FutureWarning: The behavior of DataFrame concatenation with empty or all-NA entries is deprecated. In a future version, this will no longer exclude empty or all-NA columns when determining the result dtypes. To retain the old behavior, exclude the relevant entries before the concat operation.\n",
      "  return new_append_df if output_df is None else pd.concat([output_df,new_append_df])\n"
     ]
    },
    {
     "name": "stdout",
     "output_type": "stream",
     "text": [
      "110\n"
     ]
    },
    {
     "name": "stderr",
     "output_type": "stream",
     "text": [
      "[*********************100%%**********************]  1 of 1 completed\n",
      "[*********************100%%**********************]  1 of 1 completed\n",
      "[*********************100%%**********************]  1 of 1 completed\n",
      "[*********************100%%**********************]  1 of 1 completed\n",
      "[*********************100%%**********************]  1 of 1 completed\n",
      "c:\\Users\\GRAYBILLKB20\\OneDrive - Grove City College\\Sophomore Year\\FinanceData\\FinanceData\\FinanceDataHelper.py:102: FutureWarning: The behavior of DataFrame concatenation with empty or all-NA entries is deprecated. In a future version, this will no longer exclude empty or all-NA columns when determining the result dtypes. To retain the old behavior, exclude the relevant entries before the concat operation.\n",
      "  return new_append_df if output_df is None else pd.concat([output_df,new_append_df])\n"
     ]
    },
    {
     "name": "stdout",
     "output_type": "stream",
     "text": [
      "111\n"
     ]
    },
    {
     "name": "stderr",
     "output_type": "stream",
     "text": [
      "[*********************100%%**********************]  1 of 1 completed\n",
      "[*********************100%%**********************]  1 of 1 completed\n",
      "[*********************100%%**********************]  1 of 1 completed\n",
      "[*********************100%%**********************]  1 of 1 completed\n",
      "[*********************100%%**********************]  1 of 1 completed\n",
      "c:\\Users\\GRAYBILLKB20\\OneDrive - Grove City College\\Sophomore Year\\FinanceData\\FinanceData\\FinanceDataHelper.py:102: FutureWarning: The behavior of DataFrame concatenation with empty or all-NA entries is deprecated. In a future version, this will no longer exclude empty or all-NA columns when determining the result dtypes. To retain the old behavior, exclude the relevant entries before the concat operation.\n",
      "  return new_append_df if output_df is None else pd.concat([output_df,new_append_df])\n"
     ]
    },
    {
     "name": "stdout",
     "output_type": "stream",
     "text": [
      "112\n"
     ]
    },
    {
     "name": "stderr",
     "output_type": "stream",
     "text": [
      "[*********************100%%**********************]  1 of 1 completed\n",
      "[*********************100%%**********************]  1 of 1 completed\n",
      "[*********************100%%**********************]  1 of 1 completed\n",
      "[*********************100%%**********************]  1 of 1 completed\n",
      "[*********************100%%**********************]  1 of 1 completed\n",
      "c:\\Users\\GRAYBILLKB20\\OneDrive - Grove City College\\Sophomore Year\\FinanceData\\FinanceData\\FinanceDataHelper.py:102: FutureWarning: The behavior of DataFrame concatenation with empty or all-NA entries is deprecated. In a future version, this will no longer exclude empty or all-NA columns when determining the result dtypes. To retain the old behavior, exclude the relevant entries before the concat operation.\n",
      "  return new_append_df if output_df is None else pd.concat([output_df,new_append_df])\n"
     ]
    },
    {
     "name": "stdout",
     "output_type": "stream",
     "text": [
      "113\n"
     ]
    },
    {
     "name": "stderr",
     "output_type": "stream",
     "text": [
      "[*********************100%%**********************]  1 of 1 completed\n",
      "[*********************100%%**********************]  1 of 1 completed\n",
      "[*********************100%%**********************]  1 of 1 completed\n",
      "[*********************100%%**********************]  1 of 1 completed\n",
      "[*********************100%%**********************]  1 of 1 completed\n",
      "c:\\Users\\GRAYBILLKB20\\OneDrive - Grove City College\\Sophomore Year\\FinanceData\\FinanceData\\FinanceDataHelper.py:102: FutureWarning: The behavior of DataFrame concatenation with empty or all-NA entries is deprecated. In a future version, this will no longer exclude empty or all-NA columns when determining the result dtypes. To retain the old behavior, exclude the relevant entries before the concat operation.\n",
      "  return new_append_df if output_df is None else pd.concat([output_df,new_append_df])\n"
     ]
    },
    {
     "name": "stdout",
     "output_type": "stream",
     "text": [
      "114\n"
     ]
    },
    {
     "name": "stderr",
     "output_type": "stream",
     "text": [
      "[*********************100%%**********************]  1 of 1 completed\n",
      "[*********************100%%**********************]  1 of 1 completed\n",
      "[*********************100%%**********************]  1 of 1 completed\n",
      "[*********************100%%**********************]  1 of 1 completed\n",
      "[*********************100%%**********************]  1 of 1 completed\n",
      "c:\\Users\\GRAYBILLKB20\\OneDrive - Grove City College\\Sophomore Year\\FinanceData\\FinanceData\\FinanceDataHelper.py:102: FutureWarning: The behavior of DataFrame concatenation with empty or all-NA entries is deprecated. In a future version, this will no longer exclude empty or all-NA columns when determining the result dtypes. To retain the old behavior, exclude the relevant entries before the concat operation.\n",
      "  return new_append_df if output_df is None else pd.concat([output_df,new_append_df])\n"
     ]
    },
    {
     "name": "stdout",
     "output_type": "stream",
     "text": [
      "115\n"
     ]
    },
    {
     "name": "stderr",
     "output_type": "stream",
     "text": [
      "[*********************100%%**********************]  1 of 1 completed\n",
      "[*********************100%%**********************]  1 of 1 completed\n",
      "[*********************100%%**********************]  1 of 1 completed\n",
      "[*********************100%%**********************]  1 of 1 completed\n",
      "[*********************100%%**********************]  1 of 1 completed\n",
      "c:\\Users\\GRAYBILLKB20\\OneDrive - Grove City College\\Sophomore Year\\FinanceData\\FinanceData\\FinanceDataHelper.py:102: FutureWarning: The behavior of DataFrame concatenation with empty or all-NA entries is deprecated. In a future version, this will no longer exclude empty or all-NA columns when determining the result dtypes. To retain the old behavior, exclude the relevant entries before the concat operation.\n",
      "  return new_append_df if output_df is None else pd.concat([output_df,new_append_df])\n"
     ]
    },
    {
     "name": "stdout",
     "output_type": "stream",
     "text": [
      "116\n"
     ]
    },
    {
     "name": "stderr",
     "output_type": "stream",
     "text": [
      "[*********************100%%**********************]  1 of 1 completed\n",
      "[*********************100%%**********************]  1 of 1 completed\n",
      "[*********************100%%**********************]  1 of 1 completed\n",
      "[*********************100%%**********************]  1 of 1 completed\n",
      "[*********************100%%**********************]  1 of 1 completed\n",
      "c:\\Users\\GRAYBILLKB20\\OneDrive - Grove City College\\Sophomore Year\\FinanceData\\FinanceData\\FinanceDataHelper.py:102: FutureWarning: The behavior of DataFrame concatenation with empty or all-NA entries is deprecated. In a future version, this will no longer exclude empty or all-NA columns when determining the result dtypes. To retain the old behavior, exclude the relevant entries before the concat operation.\n",
      "  return new_append_df if output_df is None else pd.concat([output_df,new_append_df])\n"
     ]
    },
    {
     "name": "stdout",
     "output_type": "stream",
     "text": [
      "117\n"
     ]
    },
    {
     "name": "stderr",
     "output_type": "stream",
     "text": [
      "[*********************100%%**********************]  1 of 1 completed\n",
      "[*********************100%%**********************]  1 of 1 completed\n",
      "[*********************100%%**********************]  1 of 1 completed\n",
      "[*********************100%%**********************]  1 of 1 completed\n",
      "[*********************100%%**********************]  1 of 1 completed\n",
      "c:\\Users\\GRAYBILLKB20\\OneDrive - Grove City College\\Sophomore Year\\FinanceData\\FinanceData\\FinanceDataHelper.py:102: FutureWarning: The behavior of DataFrame concatenation with empty or all-NA entries is deprecated. In a future version, this will no longer exclude empty or all-NA columns when determining the result dtypes. To retain the old behavior, exclude the relevant entries before the concat operation.\n",
      "  return new_append_df if output_df is None else pd.concat([output_df,new_append_df])\n"
     ]
    },
    {
     "name": "stdout",
     "output_type": "stream",
     "text": [
      "118\n"
     ]
    },
    {
     "name": "stderr",
     "output_type": "stream",
     "text": [
      "[*********************100%%**********************]  1 of 1 completed\n",
      "[*********************100%%**********************]  1 of 1 completed\n",
      "[*********************100%%**********************]  1 of 1 completed\n",
      "[*********************100%%**********************]  1 of 1 completed\n",
      "[*********************100%%**********************]  1 of 1 completed\n",
      "c:\\Users\\GRAYBILLKB20\\OneDrive - Grove City College\\Sophomore Year\\FinanceData\\FinanceData\\FinanceDataHelper.py:102: FutureWarning: The behavior of DataFrame concatenation with empty or all-NA entries is deprecated. In a future version, this will no longer exclude empty or all-NA columns when determining the result dtypes. To retain the old behavior, exclude the relevant entries before the concat operation.\n",
      "  return new_append_df if output_df is None else pd.concat([output_df,new_append_df])\n"
     ]
    },
    {
     "name": "stdout",
     "output_type": "stream",
     "text": [
      "119\n"
     ]
    },
    {
     "name": "stderr",
     "output_type": "stream",
     "text": [
      "[*********************100%%**********************]  1 of 1 completed\n",
      "[*********************100%%**********************]  1 of 1 completed\n",
      "[*********************100%%**********************]  1 of 1 completed\n",
      "[*********************100%%**********************]  1 of 1 completed\n",
      "[*********************100%%**********************]  1 of 1 completed\n",
      "c:\\Users\\GRAYBILLKB20\\OneDrive - Grove City College\\Sophomore Year\\FinanceData\\FinanceData\\FinanceDataHelper.py:102: FutureWarning: The behavior of DataFrame concatenation with empty or all-NA entries is deprecated. In a future version, this will no longer exclude empty or all-NA columns when determining the result dtypes. To retain the old behavior, exclude the relevant entries before the concat operation.\n",
      "  return new_append_df if output_df is None else pd.concat([output_df,new_append_df])\n"
     ]
    },
    {
     "name": "stdout",
     "output_type": "stream",
     "text": [
      "120\n"
     ]
    },
    {
     "name": "stderr",
     "output_type": "stream",
     "text": [
      "[*********************100%%**********************]  1 of 1 completed\n",
      "[*********************100%%**********************]  1 of 1 completed\n",
      "[*********************100%%**********************]  1 of 1 completed\n",
      "[*********************100%%**********************]  1 of 1 completed\n",
      "[*********************100%%**********************]  1 of 1 completed\n",
      "c:\\Users\\GRAYBILLKB20\\OneDrive - Grove City College\\Sophomore Year\\FinanceData\\FinanceData\\FinanceDataHelper.py:102: FutureWarning: The behavior of DataFrame concatenation with empty or all-NA entries is deprecated. In a future version, this will no longer exclude empty or all-NA columns when determining the result dtypes. To retain the old behavior, exclude the relevant entries before the concat operation.\n",
      "  return new_append_df if output_df is None else pd.concat([output_df,new_append_df])\n"
     ]
    },
    {
     "name": "stdout",
     "output_type": "stream",
     "text": [
      "121\n"
     ]
    },
    {
     "name": "stderr",
     "output_type": "stream",
     "text": [
      "[*********************100%%**********************]  1 of 1 completed\n",
      "[*********************100%%**********************]  1 of 1 completed\n",
      "[*********************100%%**********************]  1 of 1 completed\n",
      "[*********************100%%**********************]  1 of 1 completed\n",
      "[*********************100%%**********************]  1 of 1 completed\n",
      "c:\\Users\\GRAYBILLKB20\\OneDrive - Grove City College\\Sophomore Year\\FinanceData\\FinanceData\\FinanceDataHelper.py:102: FutureWarning: The behavior of DataFrame concatenation with empty or all-NA entries is deprecated. In a future version, this will no longer exclude empty or all-NA columns when determining the result dtypes. To retain the old behavior, exclude the relevant entries before the concat operation.\n",
      "  return new_append_df if output_df is None else pd.concat([output_df,new_append_df])\n"
     ]
    },
    {
     "name": "stdout",
     "output_type": "stream",
     "text": [
      "122\n"
     ]
    },
    {
     "name": "stderr",
     "output_type": "stream",
     "text": [
      "[*********************100%%**********************]  1 of 1 completed\n",
      "[*********************100%%**********************]  1 of 1 completed\n",
      "[*********************100%%**********************]  1 of 1 completed\n",
      "[*********************100%%**********************]  1 of 1 completed\n",
      "[*********************100%%**********************]  1 of 1 completed\n",
      "c:\\Users\\GRAYBILLKB20\\OneDrive - Grove City College\\Sophomore Year\\FinanceData\\FinanceData\\FinanceDataHelper.py:102: FutureWarning: The behavior of DataFrame concatenation with empty or all-NA entries is deprecated. In a future version, this will no longer exclude empty or all-NA columns when determining the result dtypes. To retain the old behavior, exclude the relevant entries before the concat operation.\n",
      "  return new_append_df if output_df is None else pd.concat([output_df,new_append_df])\n"
     ]
    },
    {
     "name": "stdout",
     "output_type": "stream",
     "text": [
      "123\n"
     ]
    },
    {
     "name": "stderr",
     "output_type": "stream",
     "text": [
      "[*********************100%%**********************]  1 of 1 completed\n",
      "[*********************100%%**********************]  1 of 1 completed\n",
      "[*********************100%%**********************]  1 of 1 completed\n",
      "[*********************100%%**********************]  1 of 1 completed\n",
      "[*********************100%%**********************]  1 of 1 completed\n",
      "c:\\Users\\GRAYBILLKB20\\OneDrive - Grove City College\\Sophomore Year\\FinanceData\\FinanceData\\FinanceDataHelper.py:102: FutureWarning: The behavior of DataFrame concatenation with empty or all-NA entries is deprecated. In a future version, this will no longer exclude empty or all-NA columns when determining the result dtypes. To retain the old behavior, exclude the relevant entries before the concat operation.\n",
      "  return new_append_df if output_df is None else pd.concat([output_df,new_append_df])\n"
     ]
    },
    {
     "name": "stdout",
     "output_type": "stream",
     "text": [
      "Index error retrieving data for COO stock on 2024-11-04 00:00:00: single positional indexer is out-of-bounds\n",
      "124\n"
     ]
    },
    {
     "name": "stderr",
     "output_type": "stream",
     "text": [
      "[*********************100%%**********************]  1 of 1 completed\n",
      "[*********************100%%**********************]  1 of 1 completed\n",
      "[*********************100%%**********************]  1 of 1 completed\n",
      "[*********************100%%**********************]  1 of 1 completed\n",
      "[*********************100%%**********************]  1 of 1 completed\n",
      "c:\\Users\\GRAYBILLKB20\\OneDrive - Grove City College\\Sophomore Year\\FinanceData\\FinanceData\\FinanceDataHelper.py:102: FutureWarning: The behavior of DataFrame concatenation with empty or all-NA entries is deprecated. In a future version, this will no longer exclude empty or all-NA columns when determining the result dtypes. To retain the old behavior, exclude the relevant entries before the concat operation.\n",
      "  return new_append_df if output_df is None else pd.concat([output_df,new_append_df])\n"
     ]
    },
    {
     "name": "stdout",
     "output_type": "stream",
     "text": [
      "125\n"
     ]
    },
    {
     "name": "stderr",
     "output_type": "stream",
     "text": [
      "[*********************100%%**********************]  1 of 1 completed\n",
      "[*********************100%%**********************]  1 of 1 completed\n",
      "[*********************100%%**********************]  1 of 1 completed\n",
      "[*********************100%%**********************]  1 of 1 completed\n",
      "[*********************100%%**********************]  1 of 1 completed\n",
      "c:\\Users\\GRAYBILLKB20\\OneDrive - Grove City College\\Sophomore Year\\FinanceData\\FinanceData\\FinanceDataHelper.py:102: FutureWarning: The behavior of DataFrame concatenation with empty or all-NA entries is deprecated. In a future version, this will no longer exclude empty or all-NA columns when determining the result dtypes. To retain the old behavior, exclude the relevant entries before the concat operation.\n",
      "  return new_append_df if output_df is None else pd.concat([output_df,new_append_df])\n"
     ]
    },
    {
     "name": "stdout",
     "output_type": "stream",
     "text": [
      "126\n"
     ]
    },
    {
     "name": "stderr",
     "output_type": "stream",
     "text": [
      "[*********************100%%**********************]  1 of 1 completed\n",
      "[*********************100%%**********************]  1 of 1 completed\n",
      "[*********************100%%**********************]  1 of 1 completed\n",
      "[*********************100%%**********************]  1 of 1 completed\n",
      "[*********************100%%**********************]  1 of 1 completed\n",
      "c:\\Users\\GRAYBILLKB20\\OneDrive - Grove City College\\Sophomore Year\\FinanceData\\FinanceData\\FinanceDataHelper.py:102: FutureWarning: The behavior of DataFrame concatenation with empty or all-NA entries is deprecated. In a future version, this will no longer exclude empty or all-NA columns when determining the result dtypes. To retain the old behavior, exclude the relevant entries before the concat operation.\n",
      "  return new_append_df if output_df is None else pd.concat([output_df,new_append_df])\n"
     ]
    },
    {
     "name": "stdout",
     "output_type": "stream",
     "text": [
      "Index error retrieving data for CPAY stock on 2024-11-04 00:00:00: single positional indexer is out-of-bounds\n",
      "127\n"
     ]
    },
    {
     "name": "stderr",
     "output_type": "stream",
     "text": [
      "[*********************100%%**********************]  1 of 1 completed\n",
      "[*********************100%%**********************]  1 of 1 completed\n",
      "[*********************100%%**********************]  1 of 1 completed\n",
      "[*********************100%%**********************]  1 of 1 completed\n",
      "[*********************100%%**********************]  1 of 1 completed\n",
      "c:\\Users\\GRAYBILLKB20\\OneDrive - Grove City College\\Sophomore Year\\FinanceData\\FinanceData\\FinanceDataHelper.py:102: FutureWarning: The behavior of DataFrame concatenation with empty or all-NA entries is deprecated. In a future version, this will no longer exclude empty or all-NA columns when determining the result dtypes. To retain the old behavior, exclude the relevant entries before the concat operation.\n",
      "  return new_append_df if output_df is None else pd.concat([output_df,new_append_df])\n"
     ]
    },
    {
     "name": "stdout",
     "output_type": "stream",
     "text": [
      "128\n"
     ]
    },
    {
     "name": "stderr",
     "output_type": "stream",
     "text": [
      "[*********************100%%**********************]  1 of 1 completed\n",
      "[*********************100%%**********************]  1 of 1 completed\n",
      "[*********************100%%**********************]  1 of 1 completed\n",
      "[*********************100%%**********************]  1 of 1 completed\n",
      "[*********************100%%**********************]  1 of 1 completed\n",
      "c:\\Users\\GRAYBILLKB20\\OneDrive - Grove City College\\Sophomore Year\\FinanceData\\FinanceData\\FinanceDataHelper.py:102: FutureWarning: The behavior of DataFrame concatenation with empty or all-NA entries is deprecated. In a future version, this will no longer exclude empty or all-NA columns when determining the result dtypes. To retain the old behavior, exclude the relevant entries before the concat operation.\n",
      "  return new_append_df if output_df is None else pd.concat([output_df,new_append_df])\n"
     ]
    },
    {
     "name": "stdout",
     "output_type": "stream",
     "text": [
      "129\n"
     ]
    },
    {
     "name": "stderr",
     "output_type": "stream",
     "text": [
      "[*********************100%%**********************]  1 of 1 completed\n",
      "[*********************100%%**********************]  1 of 1 completed\n",
      "[*********************100%%**********************]  1 of 1 completed\n",
      "[*********************100%%**********************]  1 of 1 completed\n",
      "[*********************100%%**********************]  1 of 1 completed\n",
      "c:\\Users\\GRAYBILLKB20\\OneDrive - Grove City College\\Sophomore Year\\FinanceData\\FinanceData\\FinanceDataHelper.py:102: FutureWarning: The behavior of DataFrame concatenation with empty or all-NA entries is deprecated. In a future version, this will no longer exclude empty or all-NA columns when determining the result dtypes. To retain the old behavior, exclude the relevant entries before the concat operation.\n",
      "  return new_append_df if output_df is None else pd.concat([output_df,new_append_df])\n"
     ]
    },
    {
     "name": "stdout",
     "output_type": "stream",
     "text": [
      "130\n"
     ]
    },
    {
     "name": "stderr",
     "output_type": "stream",
     "text": [
      "[*********************100%%**********************]  1 of 1 completed\n",
      "[*********************100%%**********************]  1 of 1 completed\n",
      "[*********************100%%**********************]  1 of 1 completed\n",
      "[*********************100%%**********************]  1 of 1 completed\n",
      "[*********************100%%**********************]  1 of 1 completed\n",
      "c:\\Users\\GRAYBILLKB20\\OneDrive - Grove City College\\Sophomore Year\\FinanceData\\FinanceData\\FinanceDataHelper.py:102: FutureWarning: The behavior of DataFrame concatenation with empty or all-NA entries is deprecated. In a future version, this will no longer exclude empty or all-NA columns when determining the result dtypes. To retain the old behavior, exclude the relevant entries before the concat operation.\n",
      "  return new_append_df if output_df is None else pd.concat([output_df,new_append_df])\n"
     ]
    },
    {
     "name": "stdout",
     "output_type": "stream",
     "text": [
      "131\n"
     ]
    },
    {
     "name": "stderr",
     "output_type": "stream",
     "text": [
      "[*********************100%%**********************]  1 of 1 completed\n",
      "[*********************100%%**********************]  1 of 1 completed\n",
      "[*********************100%%**********************]  1 of 1 completed\n",
      "[*********************100%%**********************]  1 of 1 completed\n",
      "[*********************100%%**********************]  1 of 1 completed\n",
      "c:\\Users\\GRAYBILLKB20\\OneDrive - Grove City College\\Sophomore Year\\FinanceData\\FinanceData\\FinanceDataHelper.py:102: FutureWarning: The behavior of DataFrame concatenation with empty or all-NA entries is deprecated. In a future version, this will no longer exclude empty or all-NA columns when determining the result dtypes. To retain the old behavior, exclude the relevant entries before the concat operation.\n",
      "  return new_append_df if output_df is None else pd.concat([output_df,new_append_df])\n"
     ]
    },
    {
     "name": "stdout",
     "output_type": "stream",
     "text": [
      "132\n"
     ]
    },
    {
     "name": "stderr",
     "output_type": "stream",
     "text": [
      "[*********************100%%**********************]  1 of 1 completed\n",
      "[*********************100%%**********************]  1 of 1 completed\n",
      "[*********************100%%**********************]  1 of 1 completed\n",
      "[*********************100%%**********************]  1 of 1 completed\n",
      "[*********************100%%**********************]  1 of 1 completed\n",
      "c:\\Users\\GRAYBILLKB20\\OneDrive - Grove City College\\Sophomore Year\\FinanceData\\FinanceData\\FinanceDataHelper.py:102: FutureWarning: The behavior of DataFrame concatenation with empty or all-NA entries is deprecated. In a future version, this will no longer exclude empty or all-NA columns when determining the result dtypes. To retain the old behavior, exclude the relevant entries before the concat operation.\n",
      "  return new_append_df if output_df is None else pd.concat([output_df,new_append_df])\n"
     ]
    },
    {
     "name": "stdout",
     "output_type": "stream",
     "text": [
      "133\n"
     ]
    },
    {
     "name": "stderr",
     "output_type": "stream",
     "text": [
      "[*********************100%%**********************]  1 of 1 completed\n",
      "[*********************100%%**********************]  1 of 1 completed\n",
      "[*********************100%%**********************]  1 of 1 completed\n",
      "[*********************100%%**********************]  1 of 1 completed\n",
      "[*********************100%%**********************]  1 of 1 completed\n",
      "c:\\Users\\GRAYBILLKB20\\OneDrive - Grove City College\\Sophomore Year\\FinanceData\\FinanceData\\FinanceDataHelper.py:102: FutureWarning: The behavior of DataFrame concatenation with empty or all-NA entries is deprecated. In a future version, this will no longer exclude empty or all-NA columns when determining the result dtypes. To retain the old behavior, exclude the relevant entries before the concat operation.\n",
      "  return new_append_df if output_df is None else pd.concat([output_df,new_append_df])\n"
     ]
    },
    {
     "name": "stdout",
     "output_type": "stream",
     "text": [
      "134\n"
     ]
    },
    {
     "name": "stderr",
     "output_type": "stream",
     "text": [
      "[*********************100%%**********************]  1 of 1 completed\n",
      "[*********************100%%**********************]  1 of 1 completed\n",
      "[*********************100%%**********************]  1 of 1 completed\n",
      "[*********************100%%**********************]  1 of 1 completed\n",
      "[*********************100%%**********************]  1 of 1 completed\n",
      "c:\\Users\\GRAYBILLKB20\\OneDrive - Grove City College\\Sophomore Year\\FinanceData\\FinanceData\\FinanceDataHelper.py:102: FutureWarning: The behavior of DataFrame concatenation with empty or all-NA entries is deprecated. In a future version, this will no longer exclude empty or all-NA columns when determining the result dtypes. To retain the old behavior, exclude the relevant entries before the concat operation.\n",
      "  return new_append_df if output_df is None else pd.concat([output_df,new_append_df])\n"
     ]
    },
    {
     "name": "stdout",
     "output_type": "stream",
     "text": [
      "Index error retrieving data for CMI stock on 2024-11-04 00:00:00: single positional indexer is out-of-bounds\n",
      "135\n"
     ]
    },
    {
     "name": "stderr",
     "output_type": "stream",
     "text": [
      "[*********************100%%**********************]  1 of 1 completed\n",
      "[*********************100%%**********************]  1 of 1 completed\n",
      "[*********************100%%**********************]  1 of 1 completed\n",
      "[*********************100%%**********************]  1 of 1 completed\n",
      "[*********************100%%**********************]  1 of 1 completed\n",
      "c:\\Users\\GRAYBILLKB20\\OneDrive - Grove City College\\Sophomore Year\\FinanceData\\FinanceData\\FinanceDataHelper.py:102: FutureWarning: The behavior of DataFrame concatenation with empty or all-NA entries is deprecated. In a future version, this will no longer exclude empty or all-NA columns when determining the result dtypes. To retain the old behavior, exclude the relevant entries before the concat operation.\n",
      "  return new_append_df if output_df is None else pd.concat([output_df,new_append_df])\n"
     ]
    },
    {
     "name": "stdout",
     "output_type": "stream",
     "text": [
      "136\n"
     ]
    },
    {
     "name": "stderr",
     "output_type": "stream",
     "text": [
      "[*********************100%%**********************]  1 of 1 completed\n",
      "[*********************100%%**********************]  1 of 1 completed\n",
      "[*********************100%%**********************]  1 of 1 completed\n",
      "[*********************100%%**********************]  1 of 1 completed\n",
      "[*********************100%%**********************]  1 of 1 completed\n",
      "c:\\Users\\GRAYBILLKB20\\OneDrive - Grove City College\\Sophomore Year\\FinanceData\\FinanceData\\FinanceDataHelper.py:102: FutureWarning: The behavior of DataFrame concatenation with empty or all-NA entries is deprecated. In a future version, this will no longer exclude empty or all-NA columns when determining the result dtypes. To retain the old behavior, exclude the relevant entries before the concat operation.\n",
      "  return new_append_df if output_df is None else pd.concat([output_df,new_append_df])\n"
     ]
    },
    {
     "name": "stdout",
     "output_type": "stream",
     "text": [
      "137\n"
     ]
    },
    {
     "name": "stderr",
     "output_type": "stream",
     "text": [
      "[*********************100%%**********************]  1 of 1 completed\n",
      "[*********************100%%**********************]  1 of 1 completed\n",
      "[*********************100%%**********************]  1 of 1 completed\n",
      "[*********************100%%**********************]  1 of 1 completed\n",
      "[*********************100%%**********************]  1 of 1 completed\n",
      "c:\\Users\\GRAYBILLKB20\\OneDrive - Grove City College\\Sophomore Year\\FinanceData\\FinanceData\\FinanceDataHelper.py:102: FutureWarning: The behavior of DataFrame concatenation with empty or all-NA entries is deprecated. In a future version, this will no longer exclude empty or all-NA columns when determining the result dtypes. To retain the old behavior, exclude the relevant entries before the concat operation.\n",
      "  return new_append_df if output_df is None else pd.concat([output_df,new_append_df])\n"
     ]
    },
    {
     "name": "stdout",
     "output_type": "stream",
     "text": [
      "138\n"
     ]
    },
    {
     "name": "stderr",
     "output_type": "stream",
     "text": [
      "[*********************100%%**********************]  1 of 1 completed\n",
      "[*********************100%%**********************]  1 of 1 completed\n",
      "[*********************100%%**********************]  1 of 1 completed\n",
      "[*********************100%%**********************]  1 of 1 completed\n",
      "[*********************100%%**********************]  1 of 1 completed\n",
      "c:\\Users\\GRAYBILLKB20\\OneDrive - Grove City College\\Sophomore Year\\FinanceData\\FinanceData\\FinanceDataHelper.py:102: FutureWarning: The behavior of DataFrame concatenation with empty or all-NA entries is deprecated. In a future version, this will no longer exclude empty or all-NA columns when determining the result dtypes. To retain the old behavior, exclude the relevant entries before the concat operation.\n",
      "  return new_append_df if output_df is None else pd.concat([output_df,new_append_df])\n"
     ]
    },
    {
     "name": "stdout",
     "output_type": "stream",
     "text": [
      "139\n"
     ]
    },
    {
     "name": "stderr",
     "output_type": "stream",
     "text": [
      "[*********************100%%**********************]  1 of 1 completed\n",
      "[*********************100%%**********************]  1 of 1 completed\n",
      "[*********************100%%**********************]  1 of 1 completed\n",
      "[*********************100%%**********************]  1 of 1 completed\n",
      "[*********************100%%**********************]  1 of 1 completed\n",
      "c:\\Users\\GRAYBILLKB20\\OneDrive - Grove City College\\Sophomore Year\\FinanceData\\FinanceData\\FinanceDataHelper.py:102: FutureWarning: The behavior of DataFrame concatenation with empty or all-NA entries is deprecated. In a future version, this will no longer exclude empty or all-NA columns when determining the result dtypes. To retain the old behavior, exclude the relevant entries before the concat operation.\n",
      "  return new_append_df if output_df is None else pd.concat([output_df,new_append_df])\n"
     ]
    },
    {
     "name": "stdout",
     "output_type": "stream",
     "text": [
      "140\n"
     ]
    },
    {
     "name": "stderr",
     "output_type": "stream",
     "text": [
      "[*********************100%%**********************]  1 of 1 completed\n",
      "[*********************100%%**********************]  1 of 1 completed\n",
      "[*********************100%%**********************]  1 of 1 completed\n",
      "[*********************100%%**********************]  1 of 1 completed\n",
      "[*********************100%%**********************]  1 of 1 completed\n",
      "c:\\Users\\GRAYBILLKB20\\OneDrive - Grove City College\\Sophomore Year\\FinanceData\\FinanceData\\FinanceDataHelper.py:102: FutureWarning: The behavior of DataFrame concatenation with empty or all-NA entries is deprecated. In a future version, this will no longer exclude empty or all-NA columns when determining the result dtypes. To retain the old behavior, exclude the relevant entries before the concat operation.\n",
      "  return new_append_df if output_df is None else pd.concat([output_df,new_append_df])\n"
     ]
    },
    {
     "name": "stdout",
     "output_type": "stream",
     "text": [
      "141\n"
     ]
    },
    {
     "name": "stderr",
     "output_type": "stream",
     "text": [
      "[*********************100%%**********************]  1 of 1 completed\n",
      "[*********************100%%**********************]  1 of 1 completed\n",
      "[*********************100%%**********************]  1 of 1 completed\n",
      "[*********************100%%**********************]  1 of 1 completed\n",
      "[*********************100%%**********************]  1 of 1 completed\n",
      "c:\\Users\\GRAYBILLKB20\\OneDrive - Grove City College\\Sophomore Year\\FinanceData\\FinanceData\\FinanceDataHelper.py:102: FutureWarning: The behavior of DataFrame concatenation with empty or all-NA entries is deprecated. In a future version, this will no longer exclude empty or all-NA columns when determining the result dtypes. To retain the old behavior, exclude the relevant entries before the concat operation.\n",
      "  return new_append_df if output_df is None else pd.concat([output_df,new_append_df])\n"
     ]
    },
    {
     "name": "stdout",
     "output_type": "stream",
     "text": [
      "142\n"
     ]
    },
    {
     "name": "stderr",
     "output_type": "stream",
     "text": [
      "[*********************100%%**********************]  1 of 1 completed\n",
      "[*********************100%%**********************]  1 of 1 completed\n",
      "[*********************100%%**********************]  1 of 1 completed\n",
      "[*********************100%%**********************]  1 of 1 completed\n",
      "[*********************100%%**********************]  1 of 1 completed\n",
      "c:\\Users\\GRAYBILLKB20\\OneDrive - Grove City College\\Sophomore Year\\FinanceData\\FinanceData\\FinanceDataHelper.py:102: FutureWarning: The behavior of DataFrame concatenation with empty or all-NA entries is deprecated. In a future version, this will no longer exclude empty or all-NA columns when determining the result dtypes. To retain the old behavior, exclude the relevant entries before the concat operation.\n",
      "  return new_append_df if output_df is None else pd.concat([output_df,new_append_df])\n"
     ]
    },
    {
     "name": "stdout",
     "output_type": "stream",
     "text": [
      "143\n"
     ]
    },
    {
     "name": "stderr",
     "output_type": "stream",
     "text": [
      "[*********************100%%**********************]  1 of 1 completed\n",
      "[*********************100%%**********************]  1 of 1 completed\n",
      "[*********************100%%**********************]  1 of 1 completed\n",
      "[*********************100%%**********************]  1 of 1 completed\n",
      "[*********************100%%**********************]  1 of 1 completed\n",
      "c:\\Users\\GRAYBILLKB20\\OneDrive - Grove City College\\Sophomore Year\\FinanceData\\FinanceData\\FinanceDataHelper.py:102: FutureWarning: The behavior of DataFrame concatenation with empty or all-NA entries is deprecated. In a future version, this will no longer exclude empty or all-NA columns when determining the result dtypes. To retain the old behavior, exclude the relevant entries before the concat operation.\n",
      "  return new_append_df if output_df is None else pd.concat([output_df,new_append_df])\n"
     ]
    },
    {
     "name": "stdout",
     "output_type": "stream",
     "text": [
      "144\n"
     ]
    },
    {
     "name": "stderr",
     "output_type": "stream",
     "text": [
      "[*********************100%%**********************]  1 of 1 completed\n",
      "[*********************100%%**********************]  1 of 1 completed\n",
      "[*********************100%%**********************]  1 of 1 completed\n",
      "[*********************100%%**********************]  1 of 1 completed\n",
      "[*********************100%%**********************]  1 of 1 completed\n",
      "c:\\Users\\GRAYBILLKB20\\OneDrive - Grove City College\\Sophomore Year\\FinanceData\\FinanceData\\FinanceDataHelper.py:102: FutureWarning: The behavior of DataFrame concatenation with empty or all-NA entries is deprecated. In a future version, this will no longer exclude empty or all-NA columns when determining the result dtypes. To retain the old behavior, exclude the relevant entries before the concat operation.\n",
      "  return new_append_df if output_df is None else pd.concat([output_df,new_append_df])\n"
     ]
    },
    {
     "name": "stdout",
     "output_type": "stream",
     "text": [
      "145\n"
     ]
    },
    {
     "name": "stderr",
     "output_type": "stream",
     "text": [
      "[*********************100%%**********************]  1 of 1 completed\n",
      "[*********************100%%**********************]  1 of 1 completed\n",
      "[*********************100%%**********************]  1 of 1 completed\n",
      "[*********************100%%**********************]  1 of 1 completed\n",
      "[*********************100%%**********************]  1 of 1 completed\n",
      "c:\\Users\\GRAYBILLKB20\\OneDrive - Grove City College\\Sophomore Year\\FinanceData\\FinanceData\\FinanceDataHelper.py:102: FutureWarning: The behavior of DataFrame concatenation with empty or all-NA entries is deprecated. In a future version, this will no longer exclude empty or all-NA columns when determining the result dtypes. To retain the old behavior, exclude the relevant entries before the concat operation.\n",
      "  return new_append_df if output_df is None else pd.concat([output_df,new_append_df])\n"
     ]
    },
    {
     "name": "stdout",
     "output_type": "stream",
     "text": [
      "146\n"
     ]
    },
    {
     "name": "stderr",
     "output_type": "stream",
     "text": [
      "[*********************100%%**********************]  1 of 1 completed\n",
      "[*********************100%%**********************]  1 of 1 completed\n",
      "[*********************100%%**********************]  1 of 1 completed\n",
      "[*********************100%%**********************]  1 of 1 completed\n",
      "[*********************100%%**********************]  1 of 1 completed\n",
      "c:\\Users\\GRAYBILLKB20\\OneDrive - Grove City College\\Sophomore Year\\FinanceData\\FinanceData\\FinanceDataHelper.py:102: FutureWarning: The behavior of DataFrame concatenation with empty or all-NA entries is deprecated. In a future version, this will no longer exclude empty or all-NA columns when determining the result dtypes. To retain the old behavior, exclude the relevant entries before the concat operation.\n",
      "  return new_append_df if output_df is None else pd.concat([output_df,new_append_df])\n"
     ]
    },
    {
     "name": "stdout",
     "output_type": "stream",
     "text": [
      "147\n"
     ]
    },
    {
     "name": "stderr",
     "output_type": "stream",
     "text": [
      "[*********************100%%**********************]  1 of 1 completed\n",
      "[*********************100%%**********************]  1 of 1 completed\n",
      "[*********************100%%**********************]  1 of 1 completed\n",
      "[*********************100%%**********************]  1 of 1 completed\n",
      "[*********************100%%**********************]  1 of 1 completed\n",
      "c:\\Users\\GRAYBILLKB20\\OneDrive - Grove City College\\Sophomore Year\\FinanceData\\FinanceData\\FinanceDataHelper.py:102: FutureWarning: The behavior of DataFrame concatenation with empty or all-NA entries is deprecated. In a future version, this will no longer exclude empty or all-NA columns when determining the result dtypes. To retain the old behavior, exclude the relevant entries before the concat operation.\n",
      "  return new_append_df if output_df is None else pd.concat([output_df,new_append_df])\n"
     ]
    },
    {
     "name": "stdout",
     "output_type": "stream",
     "text": [
      "148\n"
     ]
    },
    {
     "name": "stderr",
     "output_type": "stream",
     "text": [
      "[*********************100%%**********************]  1 of 1 completed\n",
      "[*********************100%%**********************]  1 of 1 completed\n",
      "[*********************100%%**********************]  1 of 1 completed\n",
      "[*********************100%%**********************]  1 of 1 completed\n",
      "[*********************100%%**********************]  1 of 1 completed\n",
      "c:\\Users\\GRAYBILLKB20\\OneDrive - Grove City College\\Sophomore Year\\FinanceData\\FinanceData\\FinanceDataHelper.py:102: FutureWarning: The behavior of DataFrame concatenation with empty or all-NA entries is deprecated. In a future version, this will no longer exclude empty or all-NA columns when determining the result dtypes. To retain the old behavior, exclude the relevant entries before the concat operation.\n",
      "  return new_append_df if output_df is None else pd.concat([output_df,new_append_df])\n"
     ]
    },
    {
     "name": "stdout",
     "output_type": "stream",
     "text": [
      "149\n"
     ]
    },
    {
     "name": "stderr",
     "output_type": "stream",
     "text": [
      "[*********************100%%**********************]  1 of 1 completed\n",
      "[*********************100%%**********************]  1 of 1 completed\n",
      "[*********************100%%**********************]  1 of 1 completed\n",
      "[*********************100%%**********************]  1 of 1 completed\n",
      "[*********************100%%**********************]  1 of 1 completed\n",
      "c:\\Users\\GRAYBILLKB20\\OneDrive - Grove City College\\Sophomore Year\\FinanceData\\FinanceData\\FinanceDataHelper.py:102: FutureWarning: The behavior of DataFrame concatenation with empty or all-NA entries is deprecated. In a future version, this will no longer exclude empty or all-NA columns when determining the result dtypes. To retain the old behavior, exclude the relevant entries before the concat operation.\n",
      "  return new_append_df if output_df is None else pd.concat([output_df,new_append_df])\n"
     ]
    },
    {
     "name": "stdout",
     "output_type": "stream",
     "text": [
      "150\n"
     ]
    },
    {
     "name": "stderr",
     "output_type": "stream",
     "text": [
      "[*********************100%%**********************]  1 of 1 completed\n",
      "[*********************100%%**********************]  1 of 1 completed\n",
      "[*********************100%%**********************]  1 of 1 completed\n",
      "[*********************100%%**********************]  1 of 1 completed\n",
      "[*********************100%%**********************]  1 of 1 completed\n",
      "c:\\Users\\GRAYBILLKB20\\OneDrive - Grove City College\\Sophomore Year\\FinanceData\\FinanceData\\FinanceDataHelper.py:102: FutureWarning: The behavior of DataFrame concatenation with empty or all-NA entries is deprecated. In a future version, this will no longer exclude empty or all-NA columns when determining the result dtypes. To retain the old behavior, exclude the relevant entries before the concat operation.\n",
      "  return new_append_df if output_df is None else pd.concat([output_df,new_append_df])\n"
     ]
    },
    {
     "name": "stdout",
     "output_type": "stream",
     "text": [
      "151\n"
     ]
    },
    {
     "name": "stderr",
     "output_type": "stream",
     "text": [
      "[*********************100%%**********************]  1 of 1 completed\n",
      "[*********************100%%**********************]  1 of 1 completed\n",
      "[*********************100%%**********************]  1 of 1 completed\n",
      "[*********************100%%**********************]  1 of 1 completed\n",
      "[*********************100%%**********************]  1 of 1 completed\n",
      "c:\\Users\\GRAYBILLKB20\\OneDrive - Grove City College\\Sophomore Year\\FinanceData\\FinanceData\\FinanceDataHelper.py:102: FutureWarning: The behavior of DataFrame concatenation with empty or all-NA entries is deprecated. In a future version, this will no longer exclude empty or all-NA columns when determining the result dtypes. To retain the old behavior, exclude the relevant entries before the concat operation.\n",
      "  return new_append_df if output_df is None else pd.concat([output_df,new_append_df])\n"
     ]
    },
    {
     "name": "stdout",
     "output_type": "stream",
     "text": [
      "152\n"
     ]
    },
    {
     "name": "stderr",
     "output_type": "stream",
     "text": [
      "[*********************100%%**********************]  1 of 1 completed\n",
      "[*********************100%%**********************]  1 of 1 completed\n",
      "[*********************100%%**********************]  1 of 1 completed\n",
      "[*********************100%%**********************]  1 of 1 completed\n",
      "[*********************100%%**********************]  1 of 1 completed\n",
      "c:\\Users\\GRAYBILLKB20\\OneDrive - Grove City College\\Sophomore Year\\FinanceData\\FinanceData\\FinanceDataHelper.py:102: FutureWarning: The behavior of DataFrame concatenation with empty or all-NA entries is deprecated. In a future version, this will no longer exclude empty or all-NA columns when determining the result dtypes. To retain the old behavior, exclude the relevant entries before the concat operation.\n",
      "  return new_append_df if output_df is None else pd.concat([output_df,new_append_df])\n"
     ]
    },
    {
     "name": "stdout",
     "output_type": "stream",
     "text": [
      "Index error retrieving data for DPZ stock on 2024-11-04 00:00:00: single positional indexer is out-of-bounds\n",
      "153\n"
     ]
    },
    {
     "name": "stderr",
     "output_type": "stream",
     "text": [
      "[*********************100%%**********************]  1 of 1 completed\n",
      "[*********************100%%**********************]  1 of 1 completed\n",
      "[*********************100%%**********************]  1 of 1 completed\n",
      "[*********************100%%**********************]  1 of 1 completed\n",
      "[*********************100%%**********************]  1 of 1 completed\n",
      "c:\\Users\\GRAYBILLKB20\\OneDrive - Grove City College\\Sophomore Year\\FinanceData\\FinanceData\\FinanceDataHelper.py:102: FutureWarning: The behavior of DataFrame concatenation with empty or all-NA entries is deprecated. In a future version, this will no longer exclude empty or all-NA columns when determining the result dtypes. To retain the old behavior, exclude the relevant entries before the concat operation.\n",
      "  return new_append_df if output_df is None else pd.concat([output_df,new_append_df])\n"
     ]
    },
    {
     "name": "stdout",
     "output_type": "stream",
     "text": [
      "Index error retrieving data for DOV stock on 2024-11-04 00:00:00: single positional indexer is out-of-bounds\n",
      "154\n"
     ]
    },
    {
     "name": "stderr",
     "output_type": "stream",
     "text": [
      "[*********************100%%**********************]  1 of 1 completed\n",
      "[*********************100%%**********************]  1 of 1 completed\n",
      "[*********************100%%**********************]  1 of 1 completed\n",
      "[*********************100%%**********************]  1 of 1 completed\n",
      "[*********************100%%**********************]  1 of 1 completed\n",
      "c:\\Users\\GRAYBILLKB20\\OneDrive - Grove City College\\Sophomore Year\\FinanceData\\FinanceData\\FinanceDataHelper.py:102: FutureWarning: The behavior of DataFrame concatenation with empty or all-NA entries is deprecated. In a future version, this will no longer exclude empty or all-NA columns when determining the result dtypes. To retain the old behavior, exclude the relevant entries before the concat operation.\n",
      "  return new_append_df if output_df is None else pd.concat([output_df,new_append_df])\n"
     ]
    },
    {
     "name": "stdout",
     "output_type": "stream",
     "text": [
      "155\n"
     ]
    },
    {
     "name": "stderr",
     "output_type": "stream",
     "text": [
      "[*********************100%%**********************]  1 of 1 completed\n",
      "[*********************100%%**********************]  1 of 1 completed\n",
      "[*********************100%%**********************]  1 of 1 completed\n",
      "[*********************100%%**********************]  1 of 1 completed\n",
      "[*********************100%%**********************]  1 of 1 completed\n",
      "c:\\Users\\GRAYBILLKB20\\OneDrive - Grove City College\\Sophomore Year\\FinanceData\\FinanceData\\FinanceDataHelper.py:102: FutureWarning: The behavior of DataFrame concatenation with empty or all-NA entries is deprecated. In a future version, this will no longer exclude empty or all-NA columns when determining the result dtypes. To retain the old behavior, exclude the relevant entries before the concat operation.\n",
      "  return new_append_df if output_df is None else pd.concat([output_df,new_append_df])\n"
     ]
    },
    {
     "name": "stdout",
     "output_type": "stream",
     "text": [
      "156\n"
     ]
    },
    {
     "name": "stderr",
     "output_type": "stream",
     "text": [
      "[*********************100%%**********************]  1 of 1 completed\n",
      "[*********************100%%**********************]  1 of 1 completed\n",
      "[*********************100%%**********************]  1 of 1 completed\n",
      "[*********************100%%**********************]  1 of 1 completed\n",
      "[*********************100%%**********************]  1 of 1 completed\n",
      "c:\\Users\\GRAYBILLKB20\\OneDrive - Grove City College\\Sophomore Year\\FinanceData\\FinanceData\\FinanceDataHelper.py:102: FutureWarning: The behavior of DataFrame concatenation with empty or all-NA entries is deprecated. In a future version, this will no longer exclude empty or all-NA columns when determining the result dtypes. To retain the old behavior, exclude the relevant entries before the concat operation.\n",
      "  return new_append_df if output_df is None else pd.concat([output_df,new_append_df])\n"
     ]
    },
    {
     "name": "stdout",
     "output_type": "stream",
     "text": [
      "157\n"
     ]
    },
    {
     "name": "stderr",
     "output_type": "stream",
     "text": [
      "[*********************100%%**********************]  1 of 1 completed\n",
      "[*********************100%%**********************]  1 of 1 completed\n",
      "[*********************100%%**********************]  1 of 1 completed\n",
      "[*********************100%%**********************]  1 of 1 completed\n",
      "[*********************100%%**********************]  1 of 1 completed\n",
      "c:\\Users\\GRAYBILLKB20\\OneDrive - Grove City College\\Sophomore Year\\FinanceData\\FinanceData\\FinanceDataHelper.py:102: FutureWarning: The behavior of DataFrame concatenation with empty or all-NA entries is deprecated. In a future version, this will no longer exclude empty or all-NA columns when determining the result dtypes. To retain the old behavior, exclude the relevant entries before the concat operation.\n",
      "  return new_append_df if output_df is None else pd.concat([output_df,new_append_df])\n"
     ]
    },
    {
     "name": "stdout",
     "output_type": "stream",
     "text": [
      "158\n"
     ]
    },
    {
     "name": "stderr",
     "output_type": "stream",
     "text": [
      "[*********************100%%**********************]  1 of 1 completed\n",
      "[*********************100%%**********************]  1 of 1 completed\n",
      "[*********************100%%**********************]  1 of 1 completed\n",
      "[*********************100%%**********************]  1 of 1 completed\n",
      "[*********************100%%**********************]  1 of 1 completed\n",
      "c:\\Users\\GRAYBILLKB20\\OneDrive - Grove City College\\Sophomore Year\\FinanceData\\FinanceData\\FinanceDataHelper.py:102: FutureWarning: The behavior of DataFrame concatenation with empty or all-NA entries is deprecated. In a future version, this will no longer exclude empty or all-NA columns when determining the result dtypes. To retain the old behavior, exclude the relevant entries before the concat operation.\n",
      "  return new_append_df if output_df is None else pd.concat([output_df,new_append_df])\n"
     ]
    },
    {
     "name": "stdout",
     "output_type": "stream",
     "text": [
      "159\n"
     ]
    },
    {
     "name": "stderr",
     "output_type": "stream",
     "text": [
      "[*********************100%%**********************]  1 of 1 completed\n",
      "[*********************100%%**********************]  1 of 1 completed\n",
      "[*********************100%%**********************]  1 of 1 completed\n",
      "[*********************100%%**********************]  1 of 1 completed\n",
      "[*********************100%%**********************]  1 of 1 completed\n",
      "c:\\Users\\GRAYBILLKB20\\OneDrive - Grove City College\\Sophomore Year\\FinanceData\\FinanceData\\FinanceDataHelper.py:102: FutureWarning: The behavior of DataFrame concatenation with empty or all-NA entries is deprecated. In a future version, this will no longer exclude empty or all-NA columns when determining the result dtypes. To retain the old behavior, exclude the relevant entries before the concat operation.\n",
      "  return new_append_df if output_df is None else pd.concat([output_df,new_append_df])\n"
     ]
    },
    {
     "name": "stdout",
     "output_type": "stream",
     "text": [
      "160\n"
     ]
    },
    {
     "name": "stderr",
     "output_type": "stream",
     "text": [
      "[*********************100%%**********************]  1 of 1 completed\n",
      "[*********************100%%**********************]  1 of 1 completed\n",
      "[*********************100%%**********************]  1 of 1 completed\n",
      "[*********************100%%**********************]  1 of 1 completed\n",
      "[*********************100%%**********************]  1 of 1 completed\n",
      "c:\\Users\\GRAYBILLKB20\\OneDrive - Grove City College\\Sophomore Year\\FinanceData\\FinanceData\\FinanceDataHelper.py:102: FutureWarning: The behavior of DataFrame concatenation with empty or all-NA entries is deprecated. In a future version, this will no longer exclude empty or all-NA columns when determining the result dtypes. To retain the old behavior, exclude the relevant entries before the concat operation.\n",
      "  return new_append_df if output_df is None else pd.concat([output_df,new_append_df])\n"
     ]
    },
    {
     "name": "stdout",
     "output_type": "stream",
     "text": [
      "161\n"
     ]
    },
    {
     "name": "stderr",
     "output_type": "stream",
     "text": [
      "[*********************100%%**********************]  1 of 1 completed\n",
      "[*********************100%%**********************]  1 of 1 completed\n",
      "[*********************100%%**********************]  1 of 1 completed\n",
      "[*********************100%%**********************]  1 of 1 completed\n",
      "[*********************100%%**********************]  1 of 1 completed\n",
      "c:\\Users\\GRAYBILLKB20\\OneDrive - Grove City College\\Sophomore Year\\FinanceData\\FinanceData\\FinanceDataHelper.py:102: FutureWarning: The behavior of DataFrame concatenation with empty or all-NA entries is deprecated. In a future version, this will no longer exclude empty or all-NA columns when determining the result dtypes. To retain the old behavior, exclude the relevant entries before the concat operation.\n",
      "  return new_append_df if output_df is None else pd.concat([output_df,new_append_df])\n"
     ]
    },
    {
     "name": "stdout",
     "output_type": "stream",
     "text": [
      "162\n"
     ]
    },
    {
     "name": "stderr",
     "output_type": "stream",
     "text": [
      "[*********************100%%**********************]  1 of 1 completed\n",
      "[*********************100%%**********************]  1 of 1 completed\n",
      "[*********************100%%**********************]  1 of 1 completed\n",
      "[*********************100%%**********************]  1 of 1 completed\n",
      "[*********************100%%**********************]  1 of 1 completed\n",
      "c:\\Users\\GRAYBILLKB20\\OneDrive - Grove City College\\Sophomore Year\\FinanceData\\FinanceData\\FinanceDataHelper.py:102: FutureWarning: The behavior of DataFrame concatenation with empty or all-NA entries is deprecated. In a future version, this will no longer exclude empty or all-NA columns when determining the result dtypes. To retain the old behavior, exclude the relevant entries before the concat operation.\n",
      "  return new_append_df if output_df is None else pd.concat([output_df,new_append_df])\n"
     ]
    },
    {
     "name": "stdout",
     "output_type": "stream",
     "text": [
      "163\n"
     ]
    },
    {
     "name": "stderr",
     "output_type": "stream",
     "text": [
      "[*********************100%%**********************]  1 of 1 completed\n",
      "[*********************100%%**********************]  1 of 1 completed\n",
      "[*********************100%%**********************]  1 of 1 completed\n",
      "[*********************100%%**********************]  1 of 1 completed\n",
      "[*********************100%%**********************]  1 of 1 completed\n",
      "c:\\Users\\GRAYBILLKB20\\OneDrive - Grove City College\\Sophomore Year\\FinanceData\\FinanceData\\FinanceDataHelper.py:102: FutureWarning: The behavior of DataFrame concatenation with empty or all-NA entries is deprecated. In a future version, this will no longer exclude empty or all-NA columns when determining the result dtypes. To retain the old behavior, exclude the relevant entries before the concat operation.\n",
      "  return new_append_df if output_df is None else pd.concat([output_df,new_append_df])\n"
     ]
    },
    {
     "name": "stdout",
     "output_type": "stream",
     "text": [
      "164\n"
     ]
    },
    {
     "name": "stderr",
     "output_type": "stream",
     "text": [
      "[*********************100%%**********************]  1 of 1 completed\n",
      "[*********************100%%**********************]  1 of 1 completed\n",
      "[*********************100%%**********************]  1 of 1 completed\n",
      "[*********************100%%**********************]  1 of 1 completed\n",
      "[*********************100%%**********************]  1 of 1 completed\n",
      "c:\\Users\\GRAYBILLKB20\\OneDrive - Grove City College\\Sophomore Year\\FinanceData\\FinanceData\\FinanceDataHelper.py:102: FutureWarning: The behavior of DataFrame concatenation with empty or all-NA entries is deprecated. In a future version, this will no longer exclude empty or all-NA columns when determining the result dtypes. To retain the old behavior, exclude the relevant entries before the concat operation.\n",
      "  return new_append_df if output_df is None else pd.concat([output_df,new_append_df])\n"
     ]
    },
    {
     "name": "stdout",
     "output_type": "stream",
     "text": [
      "165\n"
     ]
    },
    {
     "name": "stderr",
     "output_type": "stream",
     "text": [
      "[*********************100%%**********************]  1 of 1 completed\n",
      "[*********************100%%**********************]  1 of 1 completed\n",
      "[*********************100%%**********************]  1 of 1 completed\n",
      "[*********************100%%**********************]  1 of 1 completed\n",
      "[*********************100%%**********************]  1 of 1 completed\n",
      "c:\\Users\\GRAYBILLKB20\\OneDrive - Grove City College\\Sophomore Year\\FinanceData\\FinanceData\\FinanceDataHelper.py:102: FutureWarning: The behavior of DataFrame concatenation with empty or all-NA entries is deprecated. In a future version, this will no longer exclude empty or all-NA columns when determining the result dtypes. To retain the old behavior, exclude the relevant entries before the concat operation.\n",
      "  return new_append_df if output_df is None else pd.concat([output_df,new_append_df])\n"
     ]
    },
    {
     "name": "stdout",
     "output_type": "stream",
     "text": [
      "166\n"
     ]
    },
    {
     "name": "stderr",
     "output_type": "stream",
     "text": [
      "[*********************100%%**********************]  1 of 1 completed\n",
      "[*********************100%%**********************]  1 of 1 completed\n",
      "[*********************100%%**********************]  1 of 1 completed\n",
      "[*********************100%%**********************]  1 of 1 completed\n",
      "[*********************100%%**********************]  1 of 1 completed\n",
      "c:\\Users\\GRAYBILLKB20\\OneDrive - Grove City College\\Sophomore Year\\FinanceData\\FinanceData\\FinanceDataHelper.py:102: FutureWarning: The behavior of DataFrame concatenation with empty or all-NA entries is deprecated. In a future version, this will no longer exclude empty or all-NA columns when determining the result dtypes. To retain the old behavior, exclude the relevant entries before the concat operation.\n",
      "  return new_append_df if output_df is None else pd.concat([output_df,new_append_df])\n"
     ]
    },
    {
     "name": "stdout",
     "output_type": "stream",
     "text": [
      "167\n"
     ]
    },
    {
     "name": "stderr",
     "output_type": "stream",
     "text": [
      "[*********************100%%**********************]  1 of 1 completed\n",
      "[*********************100%%**********************]  1 of 1 completed\n",
      "[*********************100%%**********************]  1 of 1 completed\n",
      "[*********************100%%**********************]  1 of 1 completed\n",
      "[*********************100%%**********************]  1 of 1 completed\n",
      "c:\\Users\\GRAYBILLKB20\\OneDrive - Grove City College\\Sophomore Year\\FinanceData\\FinanceData\\FinanceDataHelper.py:102: FutureWarning: The behavior of DataFrame concatenation with empty or all-NA entries is deprecated. In a future version, this will no longer exclude empty or all-NA columns when determining the result dtypes. To retain the old behavior, exclude the relevant entries before the concat operation.\n",
      "  return new_append_df if output_df is None else pd.concat([output_df,new_append_df])\n"
     ]
    },
    {
     "name": "stdout",
     "output_type": "stream",
     "text": [
      "168\n"
     ]
    },
    {
     "name": "stderr",
     "output_type": "stream",
     "text": [
      "[*********************100%%**********************]  1 of 1 completed\n",
      "[*********************100%%**********************]  1 of 1 completed\n",
      "[*********************100%%**********************]  1 of 1 completed\n",
      "[*********************100%%**********************]  1 of 1 completed\n",
      "[*********************100%%**********************]  1 of 1 completed\n",
      "c:\\Users\\GRAYBILLKB20\\OneDrive - Grove City College\\Sophomore Year\\FinanceData\\FinanceData\\FinanceDataHelper.py:102: FutureWarning: The behavior of DataFrame concatenation with empty or all-NA entries is deprecated. In a future version, this will no longer exclude empty or all-NA columns when determining the result dtypes. To retain the old behavior, exclude the relevant entries before the concat operation.\n",
      "  return new_append_df if output_df is None else pd.concat([output_df,new_append_df])\n"
     ]
    },
    {
     "name": "stdout",
     "output_type": "stream",
     "text": [
      "169\n"
     ]
    },
    {
     "name": "stderr",
     "output_type": "stream",
     "text": [
      "[*********************100%%**********************]  1 of 1 completed\n",
      "[*********************100%%**********************]  1 of 1 completed\n",
      "[*********************100%%**********************]  1 of 1 completed\n",
      "[*********************100%%**********************]  1 of 1 completed\n",
      "[*********************100%%**********************]  1 of 1 completed\n",
      "c:\\Users\\GRAYBILLKB20\\OneDrive - Grove City College\\Sophomore Year\\FinanceData\\FinanceData\\FinanceDataHelper.py:102: FutureWarning: The behavior of DataFrame concatenation with empty or all-NA entries is deprecated. In a future version, this will no longer exclude empty or all-NA columns when determining the result dtypes. To retain the old behavior, exclude the relevant entries before the concat operation.\n",
      "  return new_append_df if output_df is None else pd.concat([output_df,new_append_df])\n"
     ]
    },
    {
     "name": "stdout",
     "output_type": "stream",
     "text": [
      "170\n"
     ]
    },
    {
     "name": "stderr",
     "output_type": "stream",
     "text": [
      "[*********************100%%**********************]  1 of 1 completed\n",
      "[*********************100%%**********************]  1 of 1 completed\n",
      "[*********************100%%**********************]  1 of 1 completed\n",
      "[*********************100%%**********************]  1 of 1 completed\n",
      "[*********************100%%**********************]  1 of 1 completed\n",
      "c:\\Users\\GRAYBILLKB20\\OneDrive - Grove City College\\Sophomore Year\\FinanceData\\FinanceData\\FinanceDataHelper.py:102: FutureWarning: The behavior of DataFrame concatenation with empty or all-NA entries is deprecated. In a future version, this will no longer exclude empty or all-NA columns when determining the result dtypes. To retain the old behavior, exclude the relevant entries before the concat operation.\n",
      "  return new_append_df if output_df is None else pd.concat([output_df,new_append_df])\n"
     ]
    },
    {
     "name": "stdout",
     "output_type": "stream",
     "text": [
      "171\n"
     ]
    },
    {
     "name": "stderr",
     "output_type": "stream",
     "text": [
      "[*********************100%%**********************]  1 of 1 completed\n",
      "[*********************100%%**********************]  1 of 1 completed\n",
      "[*********************100%%**********************]  1 of 1 completed\n",
      "[*********************100%%**********************]  1 of 1 completed\n",
      "[*********************100%%**********************]  1 of 1 completed\n",
      "c:\\Users\\GRAYBILLKB20\\OneDrive - Grove City College\\Sophomore Year\\FinanceData\\FinanceData\\FinanceDataHelper.py:102: FutureWarning: The behavior of DataFrame concatenation with empty or all-NA entries is deprecated. In a future version, this will no longer exclude empty or all-NA columns when determining the result dtypes. To retain the old behavior, exclude the relevant entries before the concat operation.\n",
      "  return new_append_df if output_df is None else pd.concat([output_df,new_append_df])\n"
     ]
    },
    {
     "name": "stdout",
     "output_type": "stream",
     "text": [
      "Index error retrieving data for EPAM stock on 2024-11-04 00:00:00: single positional indexer is out-of-bounds\n",
      "172\n"
     ]
    },
    {
     "name": "stderr",
     "output_type": "stream",
     "text": [
      "[*********************100%%**********************]  1 of 1 completed\n",
      "[*********************100%%**********************]  1 of 1 completed\n",
      "[*********************100%%**********************]  1 of 1 completed\n",
      "[*********************100%%**********************]  1 of 1 completed\n",
      "[*********************100%%**********************]  1 of 1 completed\n",
      "c:\\Users\\GRAYBILLKB20\\OneDrive - Grove City College\\Sophomore Year\\FinanceData\\FinanceData\\FinanceDataHelper.py:102: FutureWarning: The behavior of DataFrame concatenation with empty or all-NA entries is deprecated. In a future version, this will no longer exclude empty or all-NA columns when determining the result dtypes. To retain the old behavior, exclude the relevant entries before the concat operation.\n",
      "  return new_append_df if output_df is None else pd.concat([output_df,new_append_df])\n"
     ]
    },
    {
     "name": "stdout",
     "output_type": "stream",
     "text": [
      "173\n"
     ]
    },
    {
     "name": "stderr",
     "output_type": "stream",
     "text": [
      "[*********************100%%**********************]  1 of 1 completed\n",
      "[*********************100%%**********************]  1 of 1 completed\n",
      "[*********************100%%**********************]  1 of 1 completed\n",
      "[*********************100%%**********************]  1 of 1 completed\n",
      "[*********************100%%**********************]  1 of 1 completed\n",
      "c:\\Users\\GRAYBILLKB20\\OneDrive - Grove City College\\Sophomore Year\\FinanceData\\FinanceData\\FinanceDataHelper.py:102: FutureWarning: The behavior of DataFrame concatenation with empty or all-NA entries is deprecated. In a future version, this will no longer exclude empty or all-NA columns when determining the result dtypes. To retain the old behavior, exclude the relevant entries before the concat operation.\n",
      "  return new_append_df if output_df is None else pd.concat([output_df,new_append_df])\n"
     ]
    },
    {
     "name": "stdout",
     "output_type": "stream",
     "text": [
      "174\n"
     ]
    },
    {
     "name": "stderr",
     "output_type": "stream",
     "text": [
      "[*********************100%%**********************]  1 of 1 completed\n",
      "[*********************100%%**********************]  1 of 1 completed\n",
      "[*********************100%%**********************]  1 of 1 completed\n",
      "[*********************100%%**********************]  1 of 1 completed\n",
      "[*********************100%%**********************]  1 of 1 completed\n",
      "c:\\Users\\GRAYBILLKB20\\OneDrive - Grove City College\\Sophomore Year\\FinanceData\\FinanceData\\FinanceDataHelper.py:102: FutureWarning: The behavior of DataFrame concatenation with empty or all-NA entries is deprecated. In a future version, this will no longer exclude empty or all-NA columns when determining the result dtypes. To retain the old behavior, exclude the relevant entries before the concat operation.\n",
      "  return new_append_df if output_df is None else pd.concat([output_df,new_append_df])\n"
     ]
    },
    {
     "name": "stdout",
     "output_type": "stream",
     "text": [
      "Index error retrieving data for EQIX stock on 2024-11-04 00:00:00: single positional indexer is out-of-bounds\n",
      "175\n"
     ]
    },
    {
     "name": "stderr",
     "output_type": "stream",
     "text": [
      "[*********************100%%**********************]  1 of 1 completed\n",
      "[*********************100%%**********************]  1 of 1 completed\n",
      "[*********************100%%**********************]  1 of 1 completed\n",
      "[*********************100%%**********************]  1 of 1 completed\n",
      "[*********************100%%**********************]  1 of 1 completed\n",
      "c:\\Users\\GRAYBILLKB20\\OneDrive - Grove City College\\Sophomore Year\\FinanceData\\FinanceData\\FinanceDataHelper.py:102: FutureWarning: The behavior of DataFrame concatenation with empty or all-NA entries is deprecated. In a future version, this will no longer exclude empty or all-NA columns when determining the result dtypes. To retain the old behavior, exclude the relevant entries before the concat operation.\n",
      "  return new_append_df if output_df is None else pd.concat([output_df,new_append_df])\n"
     ]
    },
    {
     "name": "stdout",
     "output_type": "stream",
     "text": [
      "176\n"
     ]
    },
    {
     "name": "stderr",
     "output_type": "stream",
     "text": [
      "[*********************100%%**********************]  1 of 1 completed\n",
      "[*********************100%%**********************]  1 of 1 completed\n",
      "[*********************100%%**********************]  1 of 1 completed\n",
      "[*********************100%%**********************]  1 of 1 completed\n",
      "[*********************100%%**********************]  1 of 1 completed\n",
      "c:\\Users\\GRAYBILLKB20\\OneDrive - Grove City College\\Sophomore Year\\FinanceData\\FinanceData\\FinanceDataHelper.py:102: FutureWarning: The behavior of DataFrame concatenation with empty or all-NA entries is deprecated. In a future version, this will no longer exclude empty or all-NA columns when determining the result dtypes. To retain the old behavior, exclude the relevant entries before the concat operation.\n",
      "  return new_append_df if output_df is None else pd.concat([output_df,new_append_df])\n"
     ]
    },
    {
     "name": "stdout",
     "output_type": "stream",
     "text": [
      "Index error retrieving data for ERIE stock on 2024-11-12 00:00:00: single positional indexer is out-of-bounds\n",
      "Index error retrieving data for ERIE stock on 2024-11-11 00:00:00: single positional indexer is out-of-bounds\n",
      "Index error retrieving data for ERIE stock on 2024-11-08 00:00:00: single positional indexer is out-of-bounds\n",
      "Index error retrieving data for ERIE stock on 2024-11-07 00:00:00: single positional indexer is out-of-bounds\n",
      "Index error retrieving data for ERIE stock on 2024-11-06 00:00:00: single positional indexer is out-of-bounds\n",
      "Index error retrieving data for ERIE stock on 2024-11-05 00:00:00: single positional indexer is out-of-bounds\n",
      "Index error retrieving data for ERIE stock on 2024-11-04 00:00:00: single positional indexer is out-of-bounds\n",
      "177\n"
     ]
    },
    {
     "name": "stderr",
     "output_type": "stream",
     "text": [
      "[*********************100%%**********************]  1 of 1 completed\n",
      "[*********************100%%**********************]  1 of 1 completed\n",
      "[*********************100%%**********************]  1 of 1 completed\n",
      "[*********************100%%**********************]  1 of 1 completed\n",
      "[*********************100%%**********************]  1 of 1 completed\n",
      "c:\\Users\\GRAYBILLKB20\\OneDrive - Grove City College\\Sophomore Year\\FinanceData\\FinanceData\\FinanceDataHelper.py:102: FutureWarning: The behavior of DataFrame concatenation with empty or all-NA entries is deprecated. In a future version, this will no longer exclude empty or all-NA columns when determining the result dtypes. To retain the old behavior, exclude the relevant entries before the concat operation.\n",
      "  return new_append_df if output_df is None else pd.concat([output_df,new_append_df])\n"
     ]
    },
    {
     "name": "stdout",
     "output_type": "stream",
     "text": [
      "Index error retrieving data for ESS stock on 2024-11-04 00:00:00: single positional indexer is out-of-bounds\n",
      "178\n"
     ]
    },
    {
     "name": "stderr",
     "output_type": "stream",
     "text": [
      "[*********************100%%**********************]  1 of 1 completed\n",
      "[*********************100%%**********************]  1 of 1 completed\n",
      "[*********************100%%**********************]  1 of 1 completed\n",
      "[*********************100%%**********************]  1 of 1 completed\n",
      "[*********************100%%**********************]  1 of 1 completed\n",
      "c:\\Users\\GRAYBILLKB20\\OneDrive - Grove City College\\Sophomore Year\\FinanceData\\FinanceData\\FinanceDataHelper.py:102: FutureWarning: The behavior of DataFrame concatenation with empty or all-NA entries is deprecated. In a future version, this will no longer exclude empty or all-NA columns when determining the result dtypes. To retain the old behavior, exclude the relevant entries before the concat operation.\n",
      "  return new_append_df if output_df is None else pd.concat([output_df,new_append_df])\n"
     ]
    },
    {
     "name": "stdout",
     "output_type": "stream",
     "text": [
      "179\n"
     ]
    },
    {
     "name": "stderr",
     "output_type": "stream",
     "text": [
      "[*********************100%%**********************]  1 of 1 completed\n",
      "[*********************100%%**********************]  1 of 1 completed\n",
      "[*********************100%%**********************]  1 of 1 completed\n",
      "[*********************100%%**********************]  1 of 1 completed\n",
      "[*********************100%%**********************]  1 of 1 completed\n",
      "c:\\Users\\GRAYBILLKB20\\OneDrive - Grove City College\\Sophomore Year\\FinanceData\\FinanceData\\FinanceDataHelper.py:102: FutureWarning: The behavior of DataFrame concatenation with empty or all-NA entries is deprecated. In a future version, this will no longer exclude empty or all-NA columns when determining the result dtypes. To retain the old behavior, exclude the relevant entries before the concat operation.\n",
      "  return new_append_df if output_df is None else pd.concat([output_df,new_append_df])\n"
     ]
    },
    {
     "name": "stdout",
     "output_type": "stream",
     "text": [
      "Index error retrieving data for EG stock on 2024-11-04 00:00:00: single positional indexer is out-of-bounds\n",
      "180\n"
     ]
    },
    {
     "name": "stderr",
     "output_type": "stream",
     "text": [
      "[*********************100%%**********************]  1 of 1 completed\n",
      "[*********************100%%**********************]  1 of 1 completed\n",
      "[*********************100%%**********************]  1 of 1 completed\n",
      "[*********************100%%**********************]  1 of 1 completed\n",
      "[*********************100%%**********************]  1 of 1 completed\n",
      "c:\\Users\\GRAYBILLKB20\\OneDrive - Grove City College\\Sophomore Year\\FinanceData\\FinanceData\\FinanceDataHelper.py:102: FutureWarning: The behavior of DataFrame concatenation with empty or all-NA entries is deprecated. In a future version, this will no longer exclude empty or all-NA columns when determining the result dtypes. To retain the old behavior, exclude the relevant entries before the concat operation.\n",
      "  return new_append_df if output_df is None else pd.concat([output_df,new_append_df])\n"
     ]
    },
    {
     "name": "stdout",
     "output_type": "stream",
     "text": [
      "181\n"
     ]
    },
    {
     "name": "stderr",
     "output_type": "stream",
     "text": [
      "[*********************100%%**********************]  1 of 1 completed\n",
      "[*********************100%%**********************]  1 of 1 completed\n",
      "[*********************100%%**********************]  1 of 1 completed\n",
      "[*********************100%%**********************]  1 of 1 completed\n",
      "[*********************100%%**********************]  1 of 1 completed\n",
      "c:\\Users\\GRAYBILLKB20\\OneDrive - Grove City College\\Sophomore Year\\FinanceData\\FinanceData\\FinanceDataHelper.py:102: FutureWarning: The behavior of DataFrame concatenation with empty or all-NA entries is deprecated. In a future version, this will no longer exclude empty or all-NA columns when determining the result dtypes. To retain the old behavior, exclude the relevant entries before the concat operation.\n",
      "  return new_append_df if output_df is None else pd.concat([output_df,new_append_df])\n"
     ]
    },
    {
     "name": "stdout",
     "output_type": "stream",
     "text": [
      "182\n"
     ]
    },
    {
     "name": "stderr",
     "output_type": "stream",
     "text": [
      "[*********************100%%**********************]  1 of 1 completed\n",
      "[*********************100%%**********************]  1 of 1 completed\n",
      "[*********************100%%**********************]  1 of 1 completed\n",
      "[*********************100%%**********************]  1 of 1 completed\n",
      "[*********************100%%**********************]  1 of 1 completed\n",
      "c:\\Users\\GRAYBILLKB20\\OneDrive - Grove City College\\Sophomore Year\\FinanceData\\FinanceData\\FinanceDataHelper.py:102: FutureWarning: The behavior of DataFrame concatenation with empty or all-NA entries is deprecated. In a future version, this will no longer exclude empty or all-NA columns when determining the result dtypes. To retain the old behavior, exclude the relevant entries before the concat operation.\n",
      "  return new_append_df if output_df is None else pd.concat([output_df,new_append_df])\n"
     ]
    },
    {
     "name": "stdout",
     "output_type": "stream",
     "text": [
      "183\n"
     ]
    },
    {
     "name": "stderr",
     "output_type": "stream",
     "text": [
      "[*********************100%%**********************]  1 of 1 completed\n",
      "[*********************100%%**********************]  1 of 1 completed\n",
      "[*********************100%%**********************]  1 of 1 completed\n",
      "[*********************100%%**********************]  1 of 1 completed\n",
      "[*********************100%%**********************]  1 of 1 completed\n",
      "c:\\Users\\GRAYBILLKB20\\OneDrive - Grove City College\\Sophomore Year\\FinanceData\\FinanceData\\FinanceDataHelper.py:102: FutureWarning: The behavior of DataFrame concatenation with empty or all-NA entries is deprecated. In a future version, this will no longer exclude empty or all-NA columns when determining the result dtypes. To retain the old behavior, exclude the relevant entries before the concat operation.\n",
      "  return new_append_df if output_df is None else pd.concat([output_df,new_append_df])\n"
     ]
    },
    {
     "name": "stdout",
     "output_type": "stream",
     "text": [
      "184\n"
     ]
    },
    {
     "name": "stderr",
     "output_type": "stream",
     "text": [
      "[*********************100%%**********************]  1 of 1 completed\n",
      "[*********************100%%**********************]  1 of 1 completed\n",
      "[*********************100%%**********************]  1 of 1 completed\n",
      "[*********************100%%**********************]  1 of 1 completed\n",
      "[*********************100%%**********************]  1 of 1 completed\n",
      "c:\\Users\\GRAYBILLKB20\\OneDrive - Grove City College\\Sophomore Year\\FinanceData\\FinanceData\\FinanceDataHelper.py:102: FutureWarning: The behavior of DataFrame concatenation with empty or all-NA entries is deprecated. In a future version, this will no longer exclude empty or all-NA columns when determining the result dtypes. To retain the old behavior, exclude the relevant entries before the concat operation.\n",
      "  return new_append_df if output_df is None else pd.concat([output_df,new_append_df])\n"
     ]
    },
    {
     "name": "stdout",
     "output_type": "stream",
     "text": [
      "185\n"
     ]
    },
    {
     "name": "stderr",
     "output_type": "stream",
     "text": [
      "[*********************100%%**********************]  1 of 1 completed\n",
      "[*********************100%%**********************]  1 of 1 completed\n",
      "[*********************100%%**********************]  1 of 1 completed\n",
      "[*********************100%%**********************]  1 of 1 completed\n",
      "[*********************100%%**********************]  1 of 1 completed\n",
      "c:\\Users\\GRAYBILLKB20\\OneDrive - Grove City College\\Sophomore Year\\FinanceData\\FinanceData\\FinanceDataHelper.py:102: FutureWarning: The behavior of DataFrame concatenation with empty or all-NA entries is deprecated. In a future version, this will no longer exclude empty or all-NA columns when determining the result dtypes. To retain the old behavior, exclude the relevant entries before the concat operation.\n",
      "  return new_append_df if output_df is None else pd.concat([output_df,new_append_df])\n"
     ]
    },
    {
     "name": "stdout",
     "output_type": "stream",
     "text": [
      "186\n"
     ]
    },
    {
     "name": "stderr",
     "output_type": "stream",
     "text": [
      "[*********************100%%**********************]  1 of 1 completed\n",
      "[*********************100%%**********************]  1 of 1 completed\n",
      "[*********************100%%**********************]  1 of 1 completed\n",
      "[*********************100%%**********************]  1 of 1 completed\n",
      "[*********************100%%**********************]  1 of 1 completed\n",
      "c:\\Users\\GRAYBILLKB20\\OneDrive - Grove City College\\Sophomore Year\\FinanceData\\FinanceData\\FinanceDataHelper.py:102: FutureWarning: The behavior of DataFrame concatenation with empty or all-NA entries is deprecated. In a future version, this will no longer exclude empty or all-NA columns when determining the result dtypes. To retain the old behavior, exclude the relevant entries before the concat operation.\n",
      "  return new_append_df if output_df is None else pd.concat([output_df,new_append_df])\n"
     ]
    },
    {
     "name": "stdout",
     "output_type": "stream",
     "text": [
      "187\n"
     ]
    },
    {
     "name": "stderr",
     "output_type": "stream",
     "text": [
      "[*********************100%%**********************]  1 of 1 completed\n",
      "[*********************100%%**********************]  1 of 1 completed\n",
      "[*********************100%%**********************]  1 of 1 completed\n",
      "[*********************100%%**********************]  1 of 1 completed\n",
      "[*********************100%%**********************]  1 of 1 completed\n",
      "c:\\Users\\GRAYBILLKB20\\OneDrive - Grove City College\\Sophomore Year\\FinanceData\\FinanceData\\FinanceDataHelper.py:102: FutureWarning: The behavior of DataFrame concatenation with empty or all-NA entries is deprecated. In a future version, this will no longer exclude empty or all-NA columns when determining the result dtypes. To retain the old behavior, exclude the relevant entries before the concat operation.\n",
      "  return new_append_df if output_df is None else pd.concat([output_df,new_append_df])\n"
     ]
    },
    {
     "name": "stdout",
     "output_type": "stream",
     "text": [
      "188\n"
     ]
    },
    {
     "name": "stderr",
     "output_type": "stream",
     "text": [
      "[*********************100%%**********************]  1 of 1 completed\n",
      "[*********************100%%**********************]  1 of 1 completed\n",
      "[*********************100%%**********************]  1 of 1 completed\n",
      "[*********************100%%**********************]  1 of 1 completed\n",
      "[*********************100%%**********************]  1 of 1 completed\n",
      "c:\\Users\\GRAYBILLKB20\\OneDrive - Grove City College\\Sophomore Year\\FinanceData\\FinanceData\\FinanceDataHelper.py:102: FutureWarning: The behavior of DataFrame concatenation with empty or all-NA entries is deprecated. In a future version, this will no longer exclude empty or all-NA columns when determining the result dtypes. To retain the old behavior, exclude the relevant entries before the concat operation.\n",
      "  return new_append_df if output_df is None else pd.concat([output_df,new_append_df])\n"
     ]
    },
    {
     "name": "stdout",
     "output_type": "stream",
     "text": [
      "Index error retrieving data for FDS stock on 2024-11-05 00:00:00: single positional indexer is out-of-bounds\n",
      "Index error retrieving data for FDS stock on 2024-11-04 00:00:00: single positional indexer is out-of-bounds\n",
      "189\n"
     ]
    },
    {
     "name": "stderr",
     "output_type": "stream",
     "text": [
      "[*********************100%%**********************]  1 of 1 completed\n",
      "[*********************100%%**********************]  1 of 1 completed\n",
      "[*********************100%%**********************]  1 of 1 completed\n",
      "[*********************100%%**********************]  1 of 1 completed\n",
      "[*********************100%%**********************]  1 of 1 completed\n",
      "c:\\Users\\GRAYBILLKB20\\OneDrive - Grove City College\\Sophomore Year\\FinanceData\\FinanceData\\FinanceDataHelper.py:102: FutureWarning: The behavior of DataFrame concatenation with empty or all-NA entries is deprecated. In a future version, this will no longer exclude empty or all-NA columns when determining the result dtypes. To retain the old behavior, exclude the relevant entries before the concat operation.\n",
      "  return new_append_df if output_df is None else pd.concat([output_df,new_append_df])\n"
     ]
    },
    {
     "name": "stdout",
     "output_type": "stream",
     "text": [
      "Index error retrieving data for FICO stock on 2024-11-08 00:00:00: single positional indexer is out-of-bounds\n",
      "Index error retrieving data for FICO stock on 2024-11-07 00:00:00: single positional indexer is out-of-bounds\n",
      "Index error retrieving data for FICO stock on 2024-11-06 00:00:00: single positional indexer is out-of-bounds\n",
      "Index error retrieving data for FICO stock on 2024-11-05 00:00:00: single positional indexer is out-of-bounds\n",
      "Index error retrieving data for FICO stock on 2024-11-04 00:00:00: single positional indexer is out-of-bounds\n",
      "190\n"
     ]
    },
    {
     "name": "stderr",
     "output_type": "stream",
     "text": [
      "[*********************100%%**********************]  1 of 1 completed\n",
      "[*********************100%%**********************]  1 of 1 completed\n",
      "[*********************100%%**********************]  1 of 1 completed\n",
      "[*********************100%%**********************]  1 of 1 completed\n",
      "[*********************100%%**********************]  1 of 1 completed\n",
      "c:\\Users\\GRAYBILLKB20\\OneDrive - Grove City College\\Sophomore Year\\FinanceData\\FinanceData\\FinanceDataHelper.py:102: FutureWarning: The behavior of DataFrame concatenation with empty or all-NA entries is deprecated. In a future version, this will no longer exclude empty or all-NA columns when determining the result dtypes. To retain the old behavior, exclude the relevant entries before the concat operation.\n",
      "  return new_append_df if output_df is None else pd.concat([output_df,new_append_df])\n"
     ]
    },
    {
     "name": "stdout",
     "output_type": "stream",
     "text": [
      "191\n"
     ]
    },
    {
     "name": "stderr",
     "output_type": "stream",
     "text": [
      "[*********************100%%**********************]  1 of 1 completed\n",
      "[*********************100%%**********************]  1 of 1 completed\n",
      "[*********************100%%**********************]  1 of 1 completed\n",
      "[*********************100%%**********************]  1 of 1 completed\n",
      "[*********************100%%**********************]  1 of 1 completed\n",
      "c:\\Users\\GRAYBILLKB20\\OneDrive - Grove City College\\Sophomore Year\\FinanceData\\FinanceData\\FinanceDataHelper.py:102: FutureWarning: The behavior of DataFrame concatenation with empty or all-NA entries is deprecated. In a future version, this will no longer exclude empty or all-NA columns when determining the result dtypes. To retain the old behavior, exclude the relevant entries before the concat operation.\n",
      "  return new_append_df if output_df is None else pd.concat([output_df,new_append_df])\n"
     ]
    },
    {
     "name": "stdout",
     "output_type": "stream",
     "text": [
      "192\n"
     ]
    },
    {
     "name": "stderr",
     "output_type": "stream",
     "text": [
      "[*********************100%%**********************]  1 of 1 completed\n",
      "[*********************100%%**********************]  1 of 1 completed\n",
      "[*********************100%%**********************]  1 of 1 completed\n",
      "[*********************100%%**********************]  1 of 1 completed\n",
      "[*********************100%%**********************]  1 of 1 completed\n",
      "c:\\Users\\GRAYBILLKB20\\OneDrive - Grove City College\\Sophomore Year\\FinanceData\\FinanceData\\FinanceDataHelper.py:102: FutureWarning: The behavior of DataFrame concatenation with empty or all-NA entries is deprecated. In a future version, this will no longer exclude empty or all-NA columns when determining the result dtypes. To retain the old behavior, exclude the relevant entries before the concat operation.\n",
      "  return new_append_df if output_df is None else pd.concat([output_df,new_append_df])\n"
     ]
    },
    {
     "name": "stdout",
     "output_type": "stream",
     "text": [
      "193\n"
     ]
    },
    {
     "name": "stderr",
     "output_type": "stream",
     "text": [
      "[*********************100%%**********************]  1 of 1 completed\n",
      "[*********************100%%**********************]  1 of 1 completed\n",
      "[*********************100%%**********************]  1 of 1 completed\n",
      "[*********************100%%**********************]  1 of 1 completed\n",
      "[*********************100%%**********************]  1 of 1 completed\n",
      "c:\\Users\\GRAYBILLKB20\\OneDrive - Grove City College\\Sophomore Year\\FinanceData\\FinanceData\\FinanceDataHelper.py:102: FutureWarning: The behavior of DataFrame concatenation with empty or all-NA entries is deprecated. In a future version, this will no longer exclude empty or all-NA columns when determining the result dtypes. To retain the old behavior, exclude the relevant entries before the concat operation.\n",
      "  return new_append_df if output_df is None else pd.concat([output_df,new_append_df])\n"
     ]
    },
    {
     "name": "stdout",
     "output_type": "stream",
     "text": [
      "194\n"
     ]
    },
    {
     "name": "stderr",
     "output_type": "stream",
     "text": [
      "[*********************100%%**********************]  1 of 1 completed\n",
      "[*********************100%%**********************]  1 of 1 completed\n",
      "[*********************100%%**********************]  1 of 1 completed\n",
      "[*********************100%%**********************]  1 of 1 completed\n",
      "[*********************100%%**********************]  1 of 1 completed\n",
      "c:\\Users\\GRAYBILLKB20\\OneDrive - Grove City College\\Sophomore Year\\FinanceData\\FinanceData\\FinanceDataHelper.py:102: FutureWarning: The behavior of DataFrame concatenation with empty or all-NA entries is deprecated. In a future version, this will no longer exclude empty or all-NA columns when determining the result dtypes. To retain the old behavior, exclude the relevant entries before the concat operation.\n",
      "  return new_append_df if output_df is None else pd.concat([output_df,new_append_df])\n"
     ]
    },
    {
     "name": "stdout",
     "output_type": "stream",
     "text": [
      "195\n"
     ]
    },
    {
     "name": "stderr",
     "output_type": "stream",
     "text": [
      "[*********************100%%**********************]  1 of 1 completed\n",
      "[*********************100%%**********************]  1 of 1 completed\n",
      "[*********************100%%**********************]  1 of 1 completed\n",
      "[*********************100%%**********************]  1 of 1 completed\n",
      "[*********************100%%**********************]  1 of 1 completed\n",
      "c:\\Users\\GRAYBILLKB20\\OneDrive - Grove City College\\Sophomore Year\\FinanceData\\FinanceData\\FinanceDataHelper.py:102: FutureWarning: The behavior of DataFrame concatenation with empty or all-NA entries is deprecated. In a future version, this will no longer exclude empty or all-NA columns when determining the result dtypes. To retain the old behavior, exclude the relevant entries before the concat operation.\n",
      "  return new_append_df if output_df is None else pd.concat([output_df,new_append_df])\n"
     ]
    },
    {
     "name": "stdout",
     "output_type": "stream",
     "text": [
      "196\n"
     ]
    },
    {
     "name": "stderr",
     "output_type": "stream",
     "text": [
      "[*********************100%%**********************]  1 of 1 completed\n",
      "[*********************100%%**********************]  1 of 1 completed\n",
      "[*********************100%%**********************]  1 of 1 completed\n",
      "[*********************100%%**********************]  1 of 1 completed\n",
      "[*********************100%%**********************]  1 of 1 completed\n",
      "c:\\Users\\GRAYBILLKB20\\OneDrive - Grove City College\\Sophomore Year\\FinanceData\\FinanceData\\FinanceDataHelper.py:102: FutureWarning: The behavior of DataFrame concatenation with empty or all-NA entries is deprecated. In a future version, this will no longer exclude empty or all-NA columns when determining the result dtypes. To retain the old behavior, exclude the relevant entries before the concat operation.\n",
      "  return new_append_df if output_df is None else pd.concat([output_df,new_append_df])\n",
      "[*********************100%%**********************]  1 of 1 completed"
     ]
    },
    {
     "name": "stdout",
     "output_type": "stream",
     "text": [
      "197\n"
     ]
    },
    {
     "name": "stderr",
     "output_type": "stream",
     "text": [
      "\n",
      "[*********************100%%**********************]  1 of 1 completed\n",
      "[*********************100%%**********************]  1 of 1 completed\n",
      "[*********************100%%**********************]  1 of 1 completed\n",
      "[*********************100%%**********************]  1 of 1 completed\n",
      "c:\\Users\\GRAYBILLKB20\\OneDrive - Grove City College\\Sophomore Year\\FinanceData\\FinanceData\\FinanceDataHelper.py:102: FutureWarning: The behavior of DataFrame concatenation with empty or all-NA entries is deprecated. In a future version, this will no longer exclude empty or all-NA columns when determining the result dtypes. To retain the old behavior, exclude the relevant entries before the concat operation.\n",
      "  return new_append_df if output_df is None else pd.concat([output_df,new_append_df])\n"
     ]
    },
    {
     "name": "stdout",
     "output_type": "stream",
     "text": [
      "198\n"
     ]
    },
    {
     "name": "stderr",
     "output_type": "stream",
     "text": [
      "[*********************100%%**********************]  1 of 1 completed\n",
      "[*********************100%%**********************]  1 of 1 completed\n",
      "[*********************100%%**********************]  1 of 1 completed\n",
      "[*********************100%%**********************]  1 of 1 completed\n",
      "[*********************100%%**********************]  1 of 1 completed\n",
      "c:\\Users\\GRAYBILLKB20\\OneDrive - Grove City College\\Sophomore Year\\FinanceData\\FinanceData\\FinanceDataHelper.py:102: FutureWarning: The behavior of DataFrame concatenation with empty or all-NA entries is deprecated. In a future version, this will no longer exclude empty or all-NA columns when determining the result dtypes. To retain the old behavior, exclude the relevant entries before the concat operation.\n",
      "  return new_append_df if output_df is None else pd.concat([output_df,new_append_df])\n"
     ]
    },
    {
     "name": "stdout",
     "output_type": "stream",
     "text": [
      "199\n"
     ]
    },
    {
     "name": "stderr",
     "output_type": "stream",
     "text": [
      "[*********************100%%**********************]  1 of 1 completed\n",
      "[*********************100%%**********************]  1 of 1 completed\n",
      "[*********************100%%**********************]  1 of 1 completed\n",
      "[*********************100%%**********************]  1 of 1 completed\n",
      "[*********************100%%**********************]  1 of 1 completed\n",
      "c:\\Users\\GRAYBILLKB20\\OneDrive - Grove City College\\Sophomore Year\\FinanceData\\FinanceData\\FinanceDataHelper.py:102: FutureWarning: The behavior of DataFrame concatenation with empty or all-NA entries is deprecated. In a future version, this will no longer exclude empty or all-NA columns when determining the result dtypes. To retain the old behavior, exclude the relevant entries before the concat operation.\n",
      "  return new_append_df if output_df is None else pd.concat([output_df,new_append_df])\n"
     ]
    },
    {
     "name": "stdout",
     "output_type": "stream",
     "text": [
      "200\n"
     ]
    },
    {
     "name": "stderr",
     "output_type": "stream",
     "text": [
      "[*********************100%%**********************]  1 of 1 completed\n",
      "[*********************100%%**********************]  1 of 1 completed\n",
      "[*********************100%%**********************]  1 of 1 completed\n",
      "[*********************100%%**********************]  1 of 1 completed\n",
      "[*********************100%%**********************]  1 of 1 completed\n",
      "c:\\Users\\GRAYBILLKB20\\OneDrive - Grove City College\\Sophomore Year\\FinanceData\\FinanceData\\FinanceDataHelper.py:102: FutureWarning: The behavior of DataFrame concatenation with empty or all-NA entries is deprecated. In a future version, this will no longer exclude empty or all-NA columns when determining the result dtypes. To retain the old behavior, exclude the relevant entries before the concat operation.\n",
      "  return new_append_df if output_df is None else pd.concat([output_df,new_append_df])\n"
     ]
    },
    {
     "name": "stdout",
     "output_type": "stream",
     "text": [
      "201\n"
     ]
    },
    {
     "name": "stderr",
     "output_type": "stream",
     "text": [
      "[*********************100%%**********************]  1 of 1 completed\n",
      "[*********************100%%**********************]  1 of 1 completed\n",
      "[*********************100%%**********************]  1 of 1 completed\n",
      "[*********************100%%**********************]  1 of 1 completed\n",
      "[*********************100%%**********************]  1 of 1 completed\n",
      "c:\\Users\\GRAYBILLKB20\\OneDrive - Grove City College\\Sophomore Year\\FinanceData\\FinanceData\\FinanceDataHelper.py:102: FutureWarning: The behavior of DataFrame concatenation with empty or all-NA entries is deprecated. In a future version, this will no longer exclude empty or all-NA columns when determining the result dtypes. To retain the old behavior, exclude the relevant entries before the concat operation.\n",
      "  return new_append_df if output_df is None else pd.concat([output_df,new_append_df])\n"
     ]
    },
    {
     "name": "stdout",
     "output_type": "stream",
     "text": [
      "202\n"
     ]
    },
    {
     "name": "stderr",
     "output_type": "stream",
     "text": [
      "[*********************100%%**********************]  1 of 1 completed\n",
      "[*********************100%%**********************]  1 of 1 completed\n",
      "[*********************100%%**********************]  1 of 1 completed\n",
      "[*********************100%%**********************]  1 of 1 completed\n",
      "[*********************100%%**********************]  1 of 1 completed\n",
      "c:\\Users\\GRAYBILLKB20\\OneDrive - Grove City College\\Sophomore Year\\FinanceData\\FinanceData\\FinanceDataHelper.py:102: FutureWarning: The behavior of DataFrame concatenation with empty or all-NA entries is deprecated. In a future version, this will no longer exclude empty or all-NA columns when determining the result dtypes. To retain the old behavior, exclude the relevant entries before the concat operation.\n",
      "  return new_append_df if output_df is None else pd.concat([output_df,new_append_df])\n"
     ]
    },
    {
     "name": "stdout",
     "output_type": "stream",
     "text": [
      "203\n"
     ]
    },
    {
     "name": "stderr",
     "output_type": "stream",
     "text": [
      "[*********************100%%**********************]  1 of 1 completed\n",
      "[*********************100%%**********************]  1 of 1 completed\n",
      "[*********************100%%**********************]  1 of 1 completed\n",
      "[*********************100%%**********************]  1 of 1 completed\n",
      "[*********************100%%**********************]  1 of 1 completed\n",
      "c:\\Users\\GRAYBILLKB20\\OneDrive - Grove City College\\Sophomore Year\\FinanceData\\FinanceData\\FinanceDataHelper.py:102: FutureWarning: The behavior of DataFrame concatenation with empty or all-NA entries is deprecated. In a future version, this will no longer exclude empty or all-NA columns when determining the result dtypes. To retain the old behavior, exclude the relevant entries before the concat operation.\n",
      "  return new_append_df if output_df is None else pd.concat([output_df,new_append_df])\n"
     ]
    },
    {
     "name": "stdout",
     "output_type": "stream",
     "text": [
      "204\n"
     ]
    },
    {
     "name": "stderr",
     "output_type": "stream",
     "text": [
      "[*********************100%%**********************]  1 of 1 completed\n",
      "[*********************100%%**********************]  1 of 1 completed\n",
      "[*********************100%%**********************]  1 of 1 completed\n",
      "[*********************100%%**********************]  1 of 1 completed\n",
      "[*********************100%%**********************]  1 of 1 completed\n",
      "c:\\Users\\GRAYBILLKB20\\OneDrive - Grove City College\\Sophomore Year\\FinanceData\\FinanceData\\FinanceDataHelper.py:102: FutureWarning: The behavior of DataFrame concatenation with empty or all-NA entries is deprecated. In a future version, this will no longer exclude empty or all-NA columns when determining the result dtypes. To retain the old behavior, exclude the relevant entries before the concat operation.\n",
      "  return new_append_df if output_df is None else pd.concat([output_df,new_append_df])\n"
     ]
    },
    {
     "name": "stdout",
     "output_type": "stream",
     "text": [
      "205\n"
     ]
    },
    {
     "name": "stderr",
     "output_type": "stream",
     "text": [
      "[*********************100%%**********************]  1 of 1 completed\n",
      "[*********************100%%**********************]  1 of 1 completed\n",
      "[*********************100%%**********************]  1 of 1 completed\n",
      "[*********************100%%**********************]  1 of 1 completed\n",
      "[*********************100%%**********************]  1 of 1 completed\n",
      "c:\\Users\\GRAYBILLKB20\\OneDrive - Grove City College\\Sophomore Year\\FinanceData\\FinanceData\\FinanceDataHelper.py:102: FutureWarning: The behavior of DataFrame concatenation with empty or all-NA entries is deprecated. In a future version, this will no longer exclude empty or all-NA columns when determining the result dtypes. To retain the old behavior, exclude the relevant entries before the concat operation.\n",
      "  return new_append_df if output_df is None else pd.concat([output_df,new_append_df])\n"
     ]
    },
    {
     "name": "stdout",
     "output_type": "stream",
     "text": [
      "206\n"
     ]
    },
    {
     "name": "stderr",
     "output_type": "stream",
     "text": [
      "[*********************100%%**********************]  1 of 1 completed\n",
      "[*********************100%%**********************]  1 of 1 completed\n",
      "[*********************100%%**********************]  1 of 1 completed\n",
      "[*********************100%%**********************]  1 of 1 completed\n",
      "[*********************100%%**********************]  1 of 1 completed\n",
      "c:\\Users\\GRAYBILLKB20\\OneDrive - Grove City College\\Sophomore Year\\FinanceData\\FinanceData\\FinanceDataHelper.py:102: FutureWarning: The behavior of DataFrame concatenation with empty or all-NA entries is deprecated. In a future version, this will no longer exclude empty or all-NA columns when determining the result dtypes. To retain the old behavior, exclude the relevant entries before the concat operation.\n",
      "  return new_append_df if output_df is None else pd.concat([output_df,new_append_df])\n"
     ]
    },
    {
     "name": "stdout",
     "output_type": "stream",
     "text": [
      "207\n"
     ]
    },
    {
     "name": "stderr",
     "output_type": "stream",
     "text": [
      "[*********************100%%**********************]  1 of 1 completed\n",
      "[*********************100%%**********************]  1 of 1 completed\n",
      "[*********************100%%**********************]  1 of 1 completed\n",
      "[*********************100%%**********************]  1 of 1 completed\n",
      "[*********************100%%**********************]  1 of 1 completed\n",
      "c:\\Users\\GRAYBILLKB20\\OneDrive - Grove City College\\Sophomore Year\\FinanceData\\FinanceData\\FinanceDataHelper.py:102: FutureWarning: The behavior of DataFrame concatenation with empty or all-NA entries is deprecated. In a future version, this will no longer exclude empty or all-NA columns when determining the result dtypes. To retain the old behavior, exclude the relevant entries before the concat operation.\n",
      "  return new_append_df if output_df is None else pd.concat([output_df,new_append_df])\n"
     ]
    },
    {
     "name": "stdout",
     "output_type": "stream",
     "text": [
      "Index error retrieving data for IT stock on 2024-11-04 00:00:00: single positional indexer is out-of-bounds\n",
      "208\n"
     ]
    },
    {
     "name": "stderr",
     "output_type": "stream",
     "text": [
      "[*********************100%%**********************]  1 of 1 completed\n",
      "[*********************100%%**********************]  1 of 1 completed\n",
      "[*********************100%%**********************]  1 of 1 completed\n",
      "[*********************100%%**********************]  1 of 1 completed\n",
      "[*********************100%%**********************]  1 of 1 completed\n",
      "c:\\Users\\GRAYBILLKB20\\OneDrive - Grove City College\\Sophomore Year\\FinanceData\\FinanceData\\FinanceDataHelper.py:102: FutureWarning: The behavior of DataFrame concatenation with empty or all-NA entries is deprecated. In a future version, this will no longer exclude empty or all-NA columns when determining the result dtypes. To retain the old behavior, exclude the relevant entries before the concat operation.\n",
      "  return new_append_df if output_df is None else pd.concat([output_df,new_append_df])\n"
     ]
    },
    {
     "name": "stdout",
     "output_type": "stream",
     "text": [
      "209\n"
     ]
    },
    {
     "name": "stderr",
     "output_type": "stream",
     "text": [
      "[*********************100%%**********************]  1 of 1 completed\n",
      "[*********************100%%**********************]  1 of 1 completed\n",
      "[*********************100%%**********************]  1 of 1 completed\n",
      "[*********************100%%**********************]  1 of 1 completed\n",
      "[*********************100%%**********************]  1 of 1 completed\n",
      "c:\\Users\\GRAYBILLKB20\\OneDrive - Grove City College\\Sophomore Year\\FinanceData\\FinanceData\\FinanceDataHelper.py:102: FutureWarning: The behavior of DataFrame concatenation with empty or all-NA entries is deprecated. In a future version, this will no longer exclude empty or all-NA columns when determining the result dtypes. To retain the old behavior, exclude the relevant entries before the concat operation.\n",
      "  return new_append_df if output_df is None else pd.concat([output_df,new_append_df])\n"
     ]
    },
    {
     "name": "stdout",
     "output_type": "stream",
     "text": [
      "210\n"
     ]
    },
    {
     "name": "stderr",
     "output_type": "stream",
     "text": [
      "[*********************100%%**********************]  1 of 1 completed\n",
      "[*********************100%%**********************]  1 of 1 completed\n",
      "[*********************100%%**********************]  1 of 1 completed\n",
      "[*********************100%%**********************]  1 of 1 completed\n",
      "[*********************100%%**********************]  1 of 1 completed\n",
      "c:\\Users\\GRAYBILLKB20\\OneDrive - Grove City College\\Sophomore Year\\FinanceData\\FinanceData\\FinanceDataHelper.py:102: FutureWarning: The behavior of DataFrame concatenation with empty or all-NA entries is deprecated. In a future version, this will no longer exclude empty or all-NA columns when determining the result dtypes. To retain the old behavior, exclude the relevant entries before the concat operation.\n",
      "  return new_append_df if output_df is None else pd.concat([output_df,new_append_df])\n"
     ]
    },
    {
     "name": "stdout",
     "output_type": "stream",
     "text": [
      "211\n"
     ]
    },
    {
     "name": "stderr",
     "output_type": "stream",
     "text": [
      "[*********************100%%**********************]  1 of 1 completed\n",
      "[*********************100%%**********************]  1 of 1 completed\n",
      "[*********************100%%**********************]  1 of 1 completed\n",
      "[*********************100%%**********************]  1 of 1 completed\n",
      "[*********************100%%**********************]  1 of 1 completed\n",
      "c:\\Users\\GRAYBILLKB20\\OneDrive - Grove City College\\Sophomore Year\\FinanceData\\FinanceData\\FinanceDataHelper.py:102: FutureWarning: The behavior of DataFrame concatenation with empty or all-NA entries is deprecated. In a future version, this will no longer exclude empty or all-NA columns when determining the result dtypes. To retain the old behavior, exclude the relevant entries before the concat operation.\n",
      "  return new_append_df if output_df is None else pd.concat([output_df,new_append_df])\n"
     ]
    },
    {
     "name": "stdout",
     "output_type": "stream",
     "text": [
      "212\n"
     ]
    },
    {
     "name": "stderr",
     "output_type": "stream",
     "text": [
      "[*********************100%%**********************]  1 of 1 completed\n",
      "[*********************100%%**********************]  1 of 1 completed\n",
      "[*********************100%%**********************]  1 of 1 completed\n",
      "[*********************100%%**********************]  1 of 1 completed\n",
      "[*********************100%%**********************]  1 of 1 completed\n",
      "c:\\Users\\GRAYBILLKB20\\OneDrive - Grove City College\\Sophomore Year\\FinanceData\\FinanceData\\FinanceDataHelper.py:102: FutureWarning: The behavior of DataFrame concatenation with empty or all-NA entries is deprecated. In a future version, this will no longer exclude empty or all-NA columns when determining the result dtypes. To retain the old behavior, exclude the relevant entries before the concat operation.\n",
      "  return new_append_df if output_df is None else pd.concat([output_df,new_append_df])\n"
     ]
    },
    {
     "name": "stdout",
     "output_type": "stream",
     "text": [
      "213\n"
     ]
    },
    {
     "name": "stderr",
     "output_type": "stream",
     "text": [
      "[*********************100%%**********************]  1 of 1 completed\n",
      "[*********************100%%**********************]  1 of 1 completed\n",
      "[*********************100%%**********************]  1 of 1 completed\n",
      "[*********************100%%**********************]  1 of 1 completed\n",
      "[*********************100%%**********************]  1 of 1 completed\n",
      "c:\\Users\\GRAYBILLKB20\\OneDrive - Grove City College\\Sophomore Year\\FinanceData\\FinanceData\\FinanceDataHelper.py:102: FutureWarning: The behavior of DataFrame concatenation with empty or all-NA entries is deprecated. In a future version, this will no longer exclude empty or all-NA columns when determining the result dtypes. To retain the old behavior, exclude the relevant entries before the concat operation.\n",
      "  return new_append_df if output_df is None else pd.concat([output_df,new_append_df])\n"
     ]
    },
    {
     "name": "stdout",
     "output_type": "stream",
     "text": [
      "214\n"
     ]
    },
    {
     "name": "stderr",
     "output_type": "stream",
     "text": [
      "[*********************100%%**********************]  1 of 1 completed\n",
      "[*********************100%%**********************]  1 of 1 completed\n",
      "[*********************100%%**********************]  1 of 1 completed\n",
      "[*********************100%%**********************]  1 of 1 completed\n",
      "[*********************100%%**********************]  1 of 1 completed\n",
      "c:\\Users\\GRAYBILLKB20\\OneDrive - Grove City College\\Sophomore Year\\FinanceData\\FinanceData\\FinanceDataHelper.py:102: FutureWarning: The behavior of DataFrame concatenation with empty or all-NA entries is deprecated. In a future version, this will no longer exclude empty or all-NA columns when determining the result dtypes. To retain the old behavior, exclude the relevant entries before the concat operation.\n",
      "  return new_append_df if output_df is None else pd.concat([output_df,new_append_df])\n"
     ]
    },
    {
     "name": "stdout",
     "output_type": "stream",
     "text": [
      "215\n"
     ]
    },
    {
     "name": "stderr",
     "output_type": "stream",
     "text": [
      "[*********************100%%**********************]  1 of 1 completed\n",
      "[*********************100%%**********************]  1 of 1 completed\n",
      "[*********************100%%**********************]  1 of 1 completed\n",
      "[*********************100%%**********************]  1 of 1 completed\n",
      "[*********************100%%**********************]  1 of 1 completed\n",
      "c:\\Users\\GRAYBILLKB20\\OneDrive - Grove City College\\Sophomore Year\\FinanceData\\FinanceData\\FinanceDataHelper.py:102: FutureWarning: The behavior of DataFrame concatenation with empty or all-NA entries is deprecated. In a future version, this will no longer exclude empty or all-NA columns when determining the result dtypes. To retain the old behavior, exclude the relevant entries before the concat operation.\n",
      "  return new_append_df if output_df is None else pd.concat([output_df,new_append_df])\n"
     ]
    },
    {
     "name": "stdout",
     "output_type": "stream",
     "text": [
      "216\n"
     ]
    },
    {
     "name": "stderr",
     "output_type": "stream",
     "text": [
      "[*********************100%%**********************]  1 of 1 completed\n",
      "[*********************100%%**********************]  1 of 1 completed\n",
      "[*********************100%%**********************]  1 of 1 completed\n",
      "[*********************100%%**********************]  1 of 1 completed\n",
      "[*********************100%%**********************]  1 of 1 completed\n",
      "c:\\Users\\GRAYBILLKB20\\OneDrive - Grove City College\\Sophomore Year\\FinanceData\\FinanceData\\FinanceDataHelper.py:102: FutureWarning: The behavior of DataFrame concatenation with empty or all-NA entries is deprecated. In a future version, this will no longer exclude empty or all-NA columns when determining the result dtypes. To retain the old behavior, exclude the relevant entries before the concat operation.\n",
      "  return new_append_df if output_df is None else pd.concat([output_df,new_append_df])\n"
     ]
    },
    {
     "name": "stdout",
     "output_type": "stream",
     "text": [
      "217\n"
     ]
    },
    {
     "name": "stderr",
     "output_type": "stream",
     "text": [
      "[*********************100%%**********************]  1 of 1 completed\n",
      "[*********************100%%**********************]  1 of 1 completed\n",
      "[*********************100%%**********************]  1 of 1 completed\n",
      "[*********************100%%**********************]  1 of 1 completed\n",
      "[*********************100%%**********************]  1 of 1 completed\n",
      "c:\\Users\\GRAYBILLKB20\\OneDrive - Grove City College\\Sophomore Year\\FinanceData\\FinanceData\\FinanceDataHelper.py:102: FutureWarning: The behavior of DataFrame concatenation with empty or all-NA entries is deprecated. In a future version, this will no longer exclude empty or all-NA columns when determining the result dtypes. To retain the old behavior, exclude the relevant entries before the concat operation.\n",
      "  return new_append_df if output_df is None else pd.concat([output_df,new_append_df])\n"
     ]
    },
    {
     "name": "stdout",
     "output_type": "stream",
     "text": [
      "218\n"
     ]
    },
    {
     "name": "stderr",
     "output_type": "stream",
     "text": [
      "[*********************100%%**********************]  1 of 1 completed\n",
      "[*********************100%%**********************]  1 of 1 completed\n",
      "[*********************100%%**********************]  1 of 1 completed\n",
      "[*********************100%%**********************]  1 of 1 completed\n",
      "[*********************100%%**********************]  1 of 1 completed\n",
      "c:\\Users\\GRAYBILLKB20\\OneDrive - Grove City College\\Sophomore Year\\FinanceData\\FinanceData\\FinanceDataHelper.py:102: FutureWarning: The behavior of DataFrame concatenation with empty or all-NA entries is deprecated. In a future version, this will no longer exclude empty or all-NA columns when determining the result dtypes. To retain the old behavior, exclude the relevant entries before the concat operation.\n",
      "  return new_append_df if output_df is None else pd.concat([output_df,new_append_df])\n"
     ]
    },
    {
     "name": "stdout",
     "output_type": "stream",
     "text": [
      "219\n"
     ]
    },
    {
     "name": "stderr",
     "output_type": "stream",
     "text": [
      "[*********************100%%**********************]  1 of 1 completed\n",
      "[*********************100%%**********************]  1 of 1 completed\n",
      "[*********************100%%**********************]  1 of 1 completed\n",
      "[*********************100%%**********************]  1 of 1 completed\n",
      "[*********************100%%**********************]  1 of 1 completed\n",
      "c:\\Users\\GRAYBILLKB20\\OneDrive - Grove City College\\Sophomore Year\\FinanceData\\FinanceData\\FinanceDataHelper.py:102: FutureWarning: The behavior of DataFrame concatenation with empty or all-NA entries is deprecated. In a future version, this will no longer exclude empty or all-NA columns when determining the result dtypes. To retain the old behavior, exclude the relevant entries before the concat operation.\n",
      "  return new_append_df if output_df is None else pd.concat([output_df,new_append_df])\n"
     ]
    },
    {
     "name": "stdout",
     "output_type": "stream",
     "text": [
      "Index error retrieving data for GL stock on 2024-11-04 00:00:00: single positional indexer is out-of-bounds\n",
      "220\n"
     ]
    },
    {
     "name": "stderr",
     "output_type": "stream",
     "text": [
      "[*********************100%%**********************]  1 of 1 completed\n",
      "[*********************100%%**********************]  1 of 1 completed\n",
      "[*********************100%%**********************]  1 of 1 completed\n",
      "[*********************100%%**********************]  1 of 1 completed\n",
      "[*********************100%%**********************]  1 of 1 completed\n",
      "c:\\Users\\GRAYBILLKB20\\OneDrive - Grove City College\\Sophomore Year\\FinanceData\\FinanceData\\FinanceDataHelper.py:102: FutureWarning: The behavior of DataFrame concatenation with empty or all-NA entries is deprecated. In a future version, this will no longer exclude empty or all-NA columns when determining the result dtypes. To retain the old behavior, exclude the relevant entries before the concat operation.\n",
      "  return new_append_df if output_df is None else pd.concat([output_df,new_append_df])\n"
     ]
    },
    {
     "name": "stdout",
     "output_type": "stream",
     "text": [
      "221\n"
     ]
    },
    {
     "name": "stderr",
     "output_type": "stream",
     "text": [
      "[*********************100%%**********************]  1 of 1 completed\n",
      "[*********************100%%**********************]  1 of 1 completed\n",
      "[*********************100%%**********************]  1 of 1 completed\n",
      "[*********************100%%**********************]  1 of 1 completed\n",
      "[*********************100%%**********************]  1 of 1 completed\n",
      "c:\\Users\\GRAYBILLKB20\\OneDrive - Grove City College\\Sophomore Year\\FinanceData\\FinanceData\\FinanceDataHelper.py:102: FutureWarning: The behavior of DataFrame concatenation with empty or all-NA entries is deprecated. In a future version, this will no longer exclude empty or all-NA columns when determining the result dtypes. To retain the old behavior, exclude the relevant entries before the concat operation.\n",
      "  return new_append_df if output_df is None else pd.concat([output_df,new_append_df])\n"
     ]
    },
    {
     "name": "stdout",
     "output_type": "stream",
     "text": [
      "222\n"
     ]
    },
    {
     "name": "stderr",
     "output_type": "stream",
     "text": [
      "[*********************100%%**********************]  1 of 1 completed\n",
      "[*********************100%%**********************]  1 of 1 completed\n",
      "[*********************100%%**********************]  1 of 1 completed\n",
      "[*********************100%%**********************]  1 of 1 completed\n",
      "[*********************100%%**********************]  1 of 1 completed\n",
      "c:\\Users\\GRAYBILLKB20\\OneDrive - Grove City College\\Sophomore Year\\FinanceData\\FinanceData\\FinanceDataHelper.py:102: FutureWarning: The behavior of DataFrame concatenation with empty or all-NA entries is deprecated. In a future version, this will no longer exclude empty or all-NA columns when determining the result dtypes. To retain the old behavior, exclude the relevant entries before the concat operation.\n",
      "  return new_append_df if output_df is None else pd.concat([output_df,new_append_df])\n"
     ]
    },
    {
     "name": "stdout",
     "output_type": "stream",
     "text": [
      "223\n"
     ]
    },
    {
     "name": "stderr",
     "output_type": "stream",
     "text": [
      "[*********************100%%**********************]  1 of 1 completed\n",
      "[*********************100%%**********************]  1 of 1 completed\n",
      "[*********************100%%**********************]  1 of 1 completed\n",
      "[*********************100%%**********************]  1 of 1 completed\n",
      "[*********************100%%**********************]  1 of 1 completed\n",
      "c:\\Users\\GRAYBILLKB20\\OneDrive - Grove City College\\Sophomore Year\\FinanceData\\FinanceData\\FinanceDataHelper.py:102: FutureWarning: The behavior of DataFrame concatenation with empty or all-NA entries is deprecated. In a future version, this will no longer exclude empty or all-NA columns when determining the result dtypes. To retain the old behavior, exclude the relevant entries before the concat operation.\n",
      "  return new_append_df if output_df is None else pd.concat([output_df,new_append_df])\n"
     ]
    },
    {
     "name": "stdout",
     "output_type": "stream",
     "text": [
      "224\n"
     ]
    },
    {
     "name": "stderr",
     "output_type": "stream",
     "text": [
      "[*********************100%%**********************]  1 of 1 completed\n",
      "[*********************100%%**********************]  1 of 1 completed\n",
      "[*********************100%%**********************]  1 of 1 completed\n",
      "[*********************100%%**********************]  1 of 1 completed\n",
      "[*********************100%%**********************]  1 of 1 completed\n",
      "c:\\Users\\GRAYBILLKB20\\OneDrive - Grove City College\\Sophomore Year\\FinanceData\\FinanceData\\FinanceDataHelper.py:102: FutureWarning: The behavior of DataFrame concatenation with empty or all-NA entries is deprecated. In a future version, this will no longer exclude empty or all-NA columns when determining the result dtypes. To retain the old behavior, exclude the relevant entries before the concat operation.\n",
      "  return new_append_df if output_df is None else pd.concat([output_df,new_append_df])\n"
     ]
    },
    {
     "name": "stdout",
     "output_type": "stream",
     "text": [
      "225\n"
     ]
    },
    {
     "name": "stderr",
     "output_type": "stream",
     "text": [
      "[*********************100%%**********************]  1 of 1 completed\n",
      "[*********************100%%**********************]  1 of 1 completed\n",
      "[*********************100%%**********************]  1 of 1 completed\n",
      "[*********************100%%**********************]  1 of 1 completed\n",
      "[*********************100%%**********************]  1 of 1 completed\n",
      "c:\\Users\\GRAYBILLKB20\\OneDrive - Grove City College\\Sophomore Year\\FinanceData\\FinanceData\\FinanceDataHelper.py:102: FutureWarning: The behavior of DataFrame concatenation with empty or all-NA entries is deprecated. In a future version, this will no longer exclude empty or all-NA columns when determining the result dtypes. To retain the old behavior, exclude the relevant entries before the concat operation.\n",
      "  return new_append_df if output_df is None else pd.concat([output_df,new_append_df])\n"
     ]
    },
    {
     "name": "stdout",
     "output_type": "stream",
     "text": [
      "226\n"
     ]
    },
    {
     "name": "stderr",
     "output_type": "stream",
     "text": [
      "[*********************100%%**********************]  1 of 1 completed\n",
      "[*********************100%%**********************]  1 of 1 completed\n",
      "[*********************100%%**********************]  1 of 1 completed\n",
      "[*********************100%%**********************]  1 of 1 completed\n",
      "[*********************100%%**********************]  1 of 1 completed\n",
      "c:\\Users\\GRAYBILLKB20\\OneDrive - Grove City College\\Sophomore Year\\FinanceData\\FinanceData\\FinanceDataHelper.py:102: FutureWarning: The behavior of DataFrame concatenation with empty or all-NA entries is deprecated. In a future version, this will no longer exclude empty or all-NA columns when determining the result dtypes. To retain the old behavior, exclude the relevant entries before the concat operation.\n",
      "  return new_append_df if output_df is None else pd.concat([output_df,new_append_df])\n"
     ]
    },
    {
     "name": "stdout",
     "output_type": "stream",
     "text": [
      "227\n"
     ]
    },
    {
     "name": "stderr",
     "output_type": "stream",
     "text": [
      "[*********************100%%**********************]  1 of 1 completed\n",
      "[*********************100%%**********************]  1 of 1 completed\n",
      "[*********************100%%**********************]  1 of 1 completed\n",
      "[*********************100%%**********************]  1 of 1 completed\n",
      "[*********************100%%**********************]  1 of 1 completed\n",
      "c:\\Users\\GRAYBILLKB20\\OneDrive - Grove City College\\Sophomore Year\\FinanceData\\FinanceData\\FinanceDataHelper.py:102: FutureWarning: The behavior of DataFrame concatenation with empty or all-NA entries is deprecated. In a future version, this will no longer exclude empty or all-NA columns when determining the result dtypes. To retain the old behavior, exclude the relevant entries before the concat operation.\n",
      "  return new_append_df if output_df is None else pd.concat([output_df,new_append_df])\n"
     ]
    },
    {
     "name": "stdout",
     "output_type": "stream",
     "text": [
      "228\n"
     ]
    },
    {
     "name": "stderr",
     "output_type": "stream",
     "text": [
      "[*********************100%%**********************]  1 of 1 completed\n",
      "[*********************100%%**********************]  1 of 1 completed\n",
      "[*********************100%%**********************]  1 of 1 completed\n",
      "[*********************100%%**********************]  1 of 1 completed\n",
      "[*********************100%%**********************]  1 of 1 completed\n",
      "c:\\Users\\GRAYBILLKB20\\OneDrive - Grove City College\\Sophomore Year\\FinanceData\\FinanceData\\FinanceDataHelper.py:102: FutureWarning: The behavior of DataFrame concatenation with empty or all-NA entries is deprecated. In a future version, this will no longer exclude empty or all-NA columns when determining the result dtypes. To retain the old behavior, exclude the relevant entries before the concat operation.\n",
      "  return new_append_df if output_df is None else pd.concat([output_df,new_append_df])\n"
     ]
    },
    {
     "name": "stdout",
     "output_type": "stream",
     "text": [
      "229\n"
     ]
    },
    {
     "name": "stderr",
     "output_type": "stream",
     "text": [
      "[*********************100%%**********************]  1 of 1 completed\n",
      "[*********************100%%**********************]  1 of 1 completed\n",
      "[*********************100%%**********************]  1 of 1 completed\n",
      "[*********************100%%**********************]  1 of 1 completed\n",
      "[*********************100%%**********************]  1 of 1 completed\n",
      "c:\\Users\\GRAYBILLKB20\\OneDrive - Grove City College\\Sophomore Year\\FinanceData\\FinanceData\\FinanceDataHelper.py:102: FutureWarning: The behavior of DataFrame concatenation with empty or all-NA entries is deprecated. In a future version, this will no longer exclude empty or all-NA columns when determining the result dtypes. To retain the old behavior, exclude the relevant entries before the concat operation.\n",
      "  return new_append_df if output_df is None else pd.concat([output_df,new_append_df])\n"
     ]
    },
    {
     "name": "stdout",
     "output_type": "stream",
     "text": [
      "230\n"
     ]
    },
    {
     "name": "stderr",
     "output_type": "stream",
     "text": [
      "[*********************100%%**********************]  1 of 1 completed\n",
      "[*********************100%%**********************]  1 of 1 completed\n",
      "[*********************100%%**********************]  1 of 1 completed\n",
      "[*********************100%%**********************]  1 of 1 completed\n",
      "[*********************100%%**********************]  1 of 1 completed\n",
      "c:\\Users\\GRAYBILLKB20\\OneDrive - Grove City College\\Sophomore Year\\FinanceData\\FinanceData\\FinanceDataHelper.py:102: FutureWarning: The behavior of DataFrame concatenation with empty or all-NA entries is deprecated. In a future version, this will no longer exclude empty or all-NA columns when determining the result dtypes. To retain the old behavior, exclude the relevant entries before the concat operation.\n",
      "  return new_append_df if output_df is None else pd.concat([output_df,new_append_df])\n"
     ]
    },
    {
     "name": "stdout",
     "output_type": "stream",
     "text": [
      "231\n"
     ]
    },
    {
     "name": "stderr",
     "output_type": "stream",
     "text": [
      "[*********************100%%**********************]  1 of 1 completed\n",
      "[*********************100%%**********************]  1 of 1 completed\n",
      "[*********************100%%**********************]  1 of 1 completed\n",
      "[*********************100%%**********************]  1 of 1 completed\n",
      "[*********************100%%**********************]  1 of 1 completed\n",
      "c:\\Users\\GRAYBILLKB20\\OneDrive - Grove City College\\Sophomore Year\\FinanceData\\FinanceData\\FinanceDataHelper.py:102: FutureWarning: The behavior of DataFrame concatenation with empty or all-NA entries is deprecated. In a future version, this will no longer exclude empty or all-NA columns when determining the result dtypes. To retain the old behavior, exclude the relevant entries before the concat operation.\n",
      "  return new_append_df if output_df is None else pd.concat([output_df,new_append_df])\n"
     ]
    },
    {
     "name": "stdout",
     "output_type": "stream",
     "text": [
      "232\n"
     ]
    },
    {
     "name": "stderr",
     "output_type": "stream",
     "text": [
      "[*********************100%%**********************]  1 of 1 completed\n",
      "[*********************100%%**********************]  1 of 1 completed\n",
      "[*********************100%%**********************]  1 of 1 completed\n",
      "[*********************100%%**********************]  1 of 1 completed\n",
      "[*********************100%%**********************]  1 of 1 completed\n",
      "c:\\Users\\GRAYBILLKB20\\OneDrive - Grove City College\\Sophomore Year\\FinanceData\\FinanceData\\FinanceDataHelper.py:102: FutureWarning: The behavior of DataFrame concatenation with empty or all-NA entries is deprecated. In a future version, this will no longer exclude empty or all-NA columns when determining the result dtypes. To retain the old behavior, exclude the relevant entries before the concat operation.\n",
      "  return new_append_df if output_df is None else pd.concat([output_df,new_append_df])\n"
     ]
    },
    {
     "name": "stdout",
     "output_type": "stream",
     "text": [
      "233\n"
     ]
    },
    {
     "name": "stderr",
     "output_type": "stream",
     "text": [
      "[*********************100%%**********************]  1 of 1 completed\n",
      "[*********************100%%**********************]  1 of 1 completed\n",
      "[*********************100%%**********************]  1 of 1 completed\n",
      "[*********************100%%**********************]  1 of 1 completed\n",
      "[*********************100%%**********************]  1 of 1 completed\n",
      "c:\\Users\\GRAYBILLKB20\\OneDrive - Grove City College\\Sophomore Year\\FinanceData\\FinanceData\\FinanceDataHelper.py:102: FutureWarning: The behavior of DataFrame concatenation with empty or all-NA entries is deprecated. In a future version, this will no longer exclude empty or all-NA columns when determining the result dtypes. To retain the old behavior, exclude the relevant entries before the concat operation.\n",
      "  return new_append_df if output_df is None else pd.concat([output_df,new_append_df])\n"
     ]
    },
    {
     "name": "stdout",
     "output_type": "stream",
     "text": [
      "234\n"
     ]
    },
    {
     "name": "stderr",
     "output_type": "stream",
     "text": [
      "[*********************100%%**********************]  1 of 1 completed\n",
      "[*********************100%%**********************]  1 of 1 completed\n",
      "[*********************100%%**********************]  1 of 1 completed\n",
      "[*********************100%%**********************]  1 of 1 completed\n",
      "[*********************100%%**********************]  1 of 1 completed\n",
      "c:\\Users\\GRAYBILLKB20\\OneDrive - Grove City College\\Sophomore Year\\FinanceData\\FinanceData\\FinanceDataHelper.py:102: FutureWarning: The behavior of DataFrame concatenation with empty or all-NA entries is deprecated. In a future version, this will no longer exclude empty or all-NA columns when determining the result dtypes. To retain the old behavior, exclude the relevant entries before the concat operation.\n",
      "  return new_append_df if output_df is None else pd.concat([output_df,new_append_df])\n"
     ]
    },
    {
     "name": "stdout",
     "output_type": "stream",
     "text": [
      "235\n"
     ]
    },
    {
     "name": "stderr",
     "output_type": "stream",
     "text": [
      "[*********************100%%**********************]  1 of 1 completed\n",
      "[*********************100%%**********************]  1 of 1 completed\n",
      "[*********************100%%**********************]  1 of 1 completed\n",
      "[*********************100%%**********************]  1 of 1 completed\n",
      "[*********************100%%**********************]  1 of 1 completed\n",
      "c:\\Users\\GRAYBILLKB20\\OneDrive - Grove City College\\Sophomore Year\\FinanceData\\FinanceData\\FinanceDataHelper.py:102: FutureWarning: The behavior of DataFrame concatenation with empty or all-NA entries is deprecated. In a future version, this will no longer exclude empty or all-NA columns when determining the result dtypes. To retain the old behavior, exclude the relevant entries before the concat operation.\n",
      "  return new_append_df if output_df is None else pd.concat([output_df,new_append_df])\n"
     ]
    },
    {
     "name": "stdout",
     "output_type": "stream",
     "text": [
      "236\n"
     ]
    },
    {
     "name": "stderr",
     "output_type": "stream",
     "text": [
      "[*********************100%%**********************]  1 of 1 completed\n",
      "[*********************100%%**********************]  1 of 1 completed\n",
      "[*********************100%%**********************]  1 of 1 completed\n",
      "[*********************100%%**********************]  1 of 1 completed\n",
      "[*********************100%%**********************]  1 of 1 completed\n",
      "c:\\Users\\GRAYBILLKB20\\OneDrive - Grove City College\\Sophomore Year\\FinanceData\\FinanceData\\FinanceDataHelper.py:102: FutureWarning: The behavior of DataFrame concatenation with empty or all-NA entries is deprecated. In a future version, this will no longer exclude empty or all-NA columns when determining the result dtypes. To retain the old behavior, exclude the relevant entries before the concat operation.\n",
      "  return new_append_df if output_df is None else pd.concat([output_df,new_append_df])\n"
     ]
    },
    {
     "name": "stdout",
     "output_type": "stream",
     "text": [
      "237\n"
     ]
    },
    {
     "name": "stderr",
     "output_type": "stream",
     "text": [
      "[*********************100%%**********************]  1 of 1 completed\n",
      "[*********************100%%**********************]  1 of 1 completed\n",
      "[*********************100%%**********************]  1 of 1 completed\n",
      "[*********************100%%**********************]  1 of 1 completed\n",
      "[*********************100%%**********************]  1 of 1 completed\n",
      "c:\\Users\\GRAYBILLKB20\\OneDrive - Grove City College\\Sophomore Year\\FinanceData\\FinanceData\\FinanceDataHelper.py:102: FutureWarning: The behavior of DataFrame concatenation with empty or all-NA entries is deprecated. In a future version, this will no longer exclude empty or all-NA columns when determining the result dtypes. To retain the old behavior, exclude the relevant entries before the concat operation.\n",
      "  return new_append_df if output_df is None else pd.concat([output_df,new_append_df])\n"
     ]
    },
    {
     "name": "stdout",
     "output_type": "stream",
     "text": [
      "238\n"
     ]
    },
    {
     "name": "stderr",
     "output_type": "stream",
     "text": [
      "[*********************100%%**********************]  1 of 1 completed\n",
      "[*********************100%%**********************]  1 of 1 completed\n",
      "[*********************100%%**********************]  1 of 1 completed\n",
      "[*********************100%%**********************]  1 of 1 completed\n",
      "[*********************100%%**********************]  1 of 1 completed\n",
      "c:\\Users\\GRAYBILLKB20\\OneDrive - Grove City College\\Sophomore Year\\FinanceData\\FinanceData\\FinanceDataHelper.py:102: FutureWarning: The behavior of DataFrame concatenation with empty or all-NA entries is deprecated. In a future version, this will no longer exclude empty or all-NA columns when determining the result dtypes. To retain the old behavior, exclude the relevant entries before the concat operation.\n",
      "  return new_append_df if output_df is None else pd.concat([output_df,new_append_df])\n"
     ]
    },
    {
     "name": "stdout",
     "output_type": "stream",
     "text": [
      "239\n"
     ]
    },
    {
     "name": "stderr",
     "output_type": "stream",
     "text": [
      "[*********************100%%**********************]  1 of 1 completed\n",
      "[*********************100%%**********************]  1 of 1 completed\n",
      "[*********************100%%**********************]  1 of 1 completed\n",
      "[*********************100%%**********************]  1 of 1 completed\n",
      "[*********************100%%**********************]  1 of 1 completed\n",
      "c:\\Users\\GRAYBILLKB20\\OneDrive - Grove City College\\Sophomore Year\\FinanceData\\FinanceData\\FinanceDataHelper.py:102: FutureWarning: The behavior of DataFrame concatenation with empty or all-NA entries is deprecated. In a future version, this will no longer exclude empty or all-NA columns when determining the result dtypes. To retain the old behavior, exclude the relevant entries before the concat operation.\n",
      "  return new_append_df if output_df is None else pd.concat([output_df,new_append_df])\n"
     ]
    },
    {
     "name": "stdout",
     "output_type": "stream",
     "text": [
      "Index error retrieving data for HUBB stock on 2024-11-04 00:00:00: single positional indexer is out-of-bounds\n",
      "240\n"
     ]
    },
    {
     "name": "stderr",
     "output_type": "stream",
     "text": [
      "[*********************100%%**********************]  1 of 1 completed\n",
      "[*********************100%%**********************]  1 of 1 completed\n",
      "[*********************100%%**********************]  1 of 1 completed\n",
      "[*********************100%%**********************]  1 of 1 completed\n",
      "[*********************100%%**********************]  1 of 1 completed\n",
      "c:\\Users\\GRAYBILLKB20\\OneDrive - Grove City College\\Sophomore Year\\FinanceData\\FinanceData\\FinanceDataHelper.py:102: FutureWarning: The behavior of DataFrame concatenation with empty or all-NA entries is deprecated. In a future version, this will no longer exclude empty or all-NA columns when determining the result dtypes. To retain the old behavior, exclude the relevant entries before the concat operation.\n",
      "  return new_append_df if output_df is None else pd.concat([output_df,new_append_df])\n"
     ]
    },
    {
     "name": "stdout",
     "output_type": "stream",
     "text": [
      "241\n"
     ]
    },
    {
     "name": "stderr",
     "output_type": "stream",
     "text": [
      "[*********************100%%**********************]  1 of 1 completed\n",
      "[*********************100%%**********************]  1 of 1 completed\n",
      "[*********************100%%**********************]  1 of 1 completed\n",
      "[*********************100%%**********************]  1 of 1 completed\n",
      "[*********************100%%**********************]  1 of 1 completed\n",
      "c:\\Users\\GRAYBILLKB20\\OneDrive - Grove City College\\Sophomore Year\\FinanceData\\FinanceData\\FinanceDataHelper.py:102: FutureWarning: The behavior of DataFrame concatenation with empty or all-NA entries is deprecated. In a future version, this will no longer exclude empty or all-NA columns when determining the result dtypes. To retain the old behavior, exclude the relevant entries before the concat operation.\n",
      "  return new_append_df if output_df is None else pd.concat([output_df,new_append_df])\n"
     ]
    },
    {
     "name": "stdout",
     "output_type": "stream",
     "text": [
      "242\n"
     ]
    },
    {
     "name": "stderr",
     "output_type": "stream",
     "text": [
      "[*********************100%%**********************]  1 of 1 completed\n",
      "[*********************100%%**********************]  1 of 1 completed\n",
      "[*********************100%%**********************]  1 of 1 completed\n",
      "[*********************100%%**********************]  1 of 1 completed\n",
      "[*********************100%%**********************]  1 of 1 completed\n",
      "c:\\Users\\GRAYBILLKB20\\OneDrive - Grove City College\\Sophomore Year\\FinanceData\\FinanceData\\FinanceDataHelper.py:102: FutureWarning: The behavior of DataFrame concatenation with empty or all-NA entries is deprecated. In a future version, this will no longer exclude empty or all-NA columns when determining the result dtypes. To retain the old behavior, exclude the relevant entries before the concat operation.\n",
      "  return new_append_df if output_df is None else pd.concat([output_df,new_append_df])\n"
     ]
    },
    {
     "name": "stdout",
     "output_type": "stream",
     "text": [
      "243\n"
     ]
    },
    {
     "name": "stderr",
     "output_type": "stream",
     "text": [
      "[*********************100%%**********************]  1 of 1 completed\n",
      "[*********************100%%**********************]  1 of 1 completed\n",
      "[*********************100%%**********************]  1 of 1 completed\n",
      "[*********************100%%**********************]  1 of 1 completed\n",
      "[*********************100%%**********************]  1 of 1 completed\n",
      "c:\\Users\\GRAYBILLKB20\\OneDrive - Grove City College\\Sophomore Year\\FinanceData\\FinanceData\\FinanceDataHelper.py:102: FutureWarning: The behavior of DataFrame concatenation with empty or all-NA entries is deprecated. In a future version, this will no longer exclude empty or all-NA columns when determining the result dtypes. To retain the old behavior, exclude the relevant entries before the concat operation.\n",
      "  return new_append_df if output_df is None else pd.concat([output_df,new_append_df])\n"
     ]
    },
    {
     "name": "stdout",
     "output_type": "stream",
     "text": [
      "244\n"
     ]
    },
    {
     "name": "stderr",
     "output_type": "stream",
     "text": [
      "[*********************100%%**********************]  1 of 1 completed\n",
      "[*********************100%%**********************]  1 of 1 completed\n",
      "[*********************100%%**********************]  1 of 1 completed\n",
      "[*********************100%%**********************]  1 of 1 completed\n",
      "[*********************100%%**********************]  1 of 1 completed\n",
      "c:\\Users\\GRAYBILLKB20\\OneDrive - Grove City College\\Sophomore Year\\FinanceData\\FinanceData\\FinanceDataHelper.py:102: FutureWarning: The behavior of DataFrame concatenation with empty or all-NA entries is deprecated. In a future version, this will no longer exclude empty or all-NA columns when determining the result dtypes. To retain the old behavior, exclude the relevant entries before the concat operation.\n",
      "  return new_append_df if output_df is None else pd.concat([output_df,new_append_df])\n"
     ]
    },
    {
     "name": "stdout",
     "output_type": "stream",
     "text": [
      "245\n"
     ]
    },
    {
     "name": "stderr",
     "output_type": "stream",
     "text": [
      "[*********************100%%**********************]  1 of 1 completed\n",
      "[*********************100%%**********************]  1 of 1 completed\n",
      "[*********************100%%**********************]  1 of 1 completed\n",
      "[*********************100%%**********************]  1 of 1 completed\n",
      "[*********************100%%**********************]  1 of 1 completed\n",
      "c:\\Users\\GRAYBILLKB20\\OneDrive - Grove City College\\Sophomore Year\\FinanceData\\FinanceData\\FinanceDataHelper.py:102: FutureWarning: The behavior of DataFrame concatenation with empty or all-NA entries is deprecated. In a future version, this will no longer exclude empty or all-NA columns when determining the result dtypes. To retain the old behavior, exclude the relevant entries before the concat operation.\n",
      "  return new_append_df if output_df is None else pd.concat([output_df,new_append_df])\n"
     ]
    },
    {
     "name": "stdout",
     "output_type": "stream",
     "text": [
      "Index error retrieving data for IDXX stock on 2024-11-04 00:00:00: single positional indexer is out-of-bounds\n",
      "246\n"
     ]
    },
    {
     "name": "stderr",
     "output_type": "stream",
     "text": [
      "[*********************100%%**********************]  1 of 1 completed\n",
      "[*********************100%%**********************]  1 of 1 completed\n",
      "[*********************100%%**********************]  1 of 1 completed\n",
      "[*********************100%%**********************]  1 of 1 completed\n",
      "[*********************100%%**********************]  1 of 1 completed\n",
      "c:\\Users\\GRAYBILLKB20\\OneDrive - Grove City College\\Sophomore Year\\FinanceData\\FinanceData\\FinanceDataHelper.py:102: FutureWarning: The behavior of DataFrame concatenation with empty or all-NA entries is deprecated. In a future version, this will no longer exclude empty or all-NA columns when determining the result dtypes. To retain the old behavior, exclude the relevant entries before the concat operation.\n",
      "  return new_append_df if output_df is None else pd.concat([output_df,new_append_df])\n"
     ]
    },
    {
     "name": "stdout",
     "output_type": "stream",
     "text": [
      "247\n"
     ]
    },
    {
     "name": "stderr",
     "output_type": "stream",
     "text": [
      "[*********************100%%**********************]  1 of 1 completed\n",
      "[*********************100%%**********************]  1 of 1 completed\n",
      "[*********************100%%**********************]  1 of 1 completed\n",
      "[*********************100%%**********************]  1 of 1 completed\n",
      "[*********************100%%**********************]  1 of 1 completed\n",
      "c:\\Users\\GRAYBILLKB20\\OneDrive - Grove City College\\Sophomore Year\\FinanceData\\FinanceData\\FinanceDataHelper.py:102: FutureWarning: The behavior of DataFrame concatenation with empty or all-NA entries is deprecated. In a future version, this will no longer exclude empty or all-NA columns when determining the result dtypes. To retain the old behavior, exclude the relevant entries before the concat operation.\n",
      "  return new_append_df if output_df is None else pd.concat([output_df,new_append_df])\n"
     ]
    },
    {
     "name": "stdout",
     "output_type": "stream",
     "text": [
      "248\n"
     ]
    },
    {
     "name": "stderr",
     "output_type": "stream",
     "text": [
      "[*********************100%%**********************]  1 of 1 completed\n",
      "[*********************100%%**********************]  1 of 1 completed\n",
      "[*********************100%%**********************]  1 of 1 completed\n",
      "[*********************100%%**********************]  1 of 1 completed\n",
      "[*********************100%%**********************]  1 of 1 completed\n",
      "c:\\Users\\GRAYBILLKB20\\OneDrive - Grove City College\\Sophomore Year\\FinanceData\\FinanceData\\FinanceDataHelper.py:102: FutureWarning: The behavior of DataFrame concatenation with empty or all-NA entries is deprecated. In a future version, this will no longer exclude empty or all-NA columns when determining the result dtypes. To retain the old behavior, exclude the relevant entries before the concat operation.\n",
      "  return new_append_df if output_df is None else pd.concat([output_df,new_append_df])\n"
     ]
    },
    {
     "name": "stdout",
     "output_type": "stream",
     "text": [
      "249\n"
     ]
    },
    {
     "name": "stderr",
     "output_type": "stream",
     "text": [
      "[*********************100%%**********************]  1 of 1 completed\n",
      "[*********************100%%**********************]  1 of 1 completed\n",
      "[*********************100%%**********************]  1 of 1 completed\n",
      "[*********************100%%**********************]  1 of 1 completed\n",
      "[*********************100%%**********************]  1 of 1 completed\n",
      "c:\\Users\\GRAYBILLKB20\\OneDrive - Grove City College\\Sophomore Year\\FinanceData\\FinanceData\\FinanceDataHelper.py:102: FutureWarning: The behavior of DataFrame concatenation with empty or all-NA entries is deprecated. In a future version, this will no longer exclude empty or all-NA columns when determining the result dtypes. To retain the old behavior, exclude the relevant entries before the concat operation.\n",
      "  return new_append_df if output_df is None else pd.concat([output_df,new_append_df])\n"
     ]
    },
    {
     "name": "stdout",
     "output_type": "stream",
     "text": [
      "Index error retrieving data for PODD stock on 2024-11-04 00:00:00: single positional indexer is out-of-bounds\n",
      "250\n"
     ]
    },
    {
     "name": "stderr",
     "output_type": "stream",
     "text": [
      "[*********************100%%**********************]  1 of 1 completed\n",
      "[*********************100%%**********************]  1 of 1 completed\n",
      "[*********************100%%**********************]  1 of 1 completed\n",
      "[*********************100%%**********************]  1 of 1 completed\n",
      "[*********************100%%**********************]  1 of 1 completed\n",
      "c:\\Users\\GRAYBILLKB20\\OneDrive - Grove City College\\Sophomore Year\\FinanceData\\FinanceData\\FinanceDataHelper.py:102: FutureWarning: The behavior of DataFrame concatenation with empty or all-NA entries is deprecated. In a future version, this will no longer exclude empty or all-NA columns when determining the result dtypes. To retain the old behavior, exclude the relevant entries before the concat operation.\n",
      "  return new_append_df if output_df is None else pd.concat([output_df,new_append_df])\n"
     ]
    },
    {
     "name": "stdout",
     "output_type": "stream",
     "text": [
      "251\n"
     ]
    },
    {
     "name": "stderr",
     "output_type": "stream",
     "text": [
      "[*********************100%%**********************]  1 of 1 completed\n",
      "[*********************100%%**********************]  1 of 1 completed\n",
      "[*********************100%%**********************]  1 of 1 completed\n",
      "[*********************100%%**********************]  1 of 1 completed\n",
      "[*********************100%%**********************]  1 of 1 completed\n",
      "c:\\Users\\GRAYBILLKB20\\OneDrive - Grove City College\\Sophomore Year\\FinanceData\\FinanceData\\FinanceDataHelper.py:102: FutureWarning: The behavior of DataFrame concatenation with empty or all-NA entries is deprecated. In a future version, this will no longer exclude empty or all-NA columns when determining the result dtypes. To retain the old behavior, exclude the relevant entries before the concat operation.\n",
      "  return new_append_df if output_df is None else pd.concat([output_df,new_append_df])\n"
     ]
    },
    {
     "name": "stdout",
     "output_type": "stream",
     "text": [
      "252\n"
     ]
    },
    {
     "name": "stderr",
     "output_type": "stream",
     "text": [
      "[*********************100%%**********************]  1 of 1 completed\n",
      "[*********************100%%**********************]  1 of 1 completed\n",
      "[*********************100%%**********************]  1 of 1 completed\n",
      "[*********************100%%**********************]  1 of 1 completed\n",
      "[*********************100%%**********************]  1 of 1 completed\n",
      "c:\\Users\\GRAYBILLKB20\\OneDrive - Grove City College\\Sophomore Year\\FinanceData\\FinanceData\\FinanceDataHelper.py:102: FutureWarning: The behavior of DataFrame concatenation with empty or all-NA entries is deprecated. In a future version, this will no longer exclude empty or all-NA columns when determining the result dtypes. To retain the old behavior, exclude the relevant entries before the concat operation.\n",
      "  return new_append_df if output_df is None else pd.concat([output_df,new_append_df])\n"
     ]
    },
    {
     "name": "stdout",
     "output_type": "stream",
     "text": [
      "253\n"
     ]
    },
    {
     "name": "stderr",
     "output_type": "stream",
     "text": [
      "[*********************100%%**********************]  1 of 1 completed\n",
      "[*********************100%%**********************]  1 of 1 completed\n",
      "[*********************100%%**********************]  1 of 1 completed\n",
      "[*********************100%%**********************]  1 of 1 completed\n",
      "[*********************100%%**********************]  1 of 1 completed\n",
      "c:\\Users\\GRAYBILLKB20\\OneDrive - Grove City College\\Sophomore Year\\FinanceData\\FinanceData\\FinanceDataHelper.py:102: FutureWarning: The behavior of DataFrame concatenation with empty or all-NA entries is deprecated. In a future version, this will no longer exclude empty or all-NA columns when determining the result dtypes. To retain the old behavior, exclude the relevant entries before the concat operation.\n",
      "  return new_append_df if output_df is None else pd.concat([output_df,new_append_df])\n"
     ]
    },
    {
     "name": "stdout",
     "output_type": "stream",
     "text": [
      "254\n"
     ]
    },
    {
     "name": "stderr",
     "output_type": "stream",
     "text": [
      "[*********************100%%**********************]  1 of 1 completed\n",
      "[*********************100%%**********************]  1 of 1 completed\n",
      "[*********************100%%**********************]  1 of 1 completed\n",
      "[*********************100%%**********************]  1 of 1 completed\n",
      "[*********************100%%**********************]  1 of 1 completed\n",
      "c:\\Users\\GRAYBILLKB20\\OneDrive - Grove City College\\Sophomore Year\\FinanceData\\FinanceData\\FinanceDataHelper.py:102: FutureWarning: The behavior of DataFrame concatenation with empty or all-NA entries is deprecated. In a future version, this will no longer exclude empty or all-NA columns when determining the result dtypes. To retain the old behavior, exclude the relevant entries before the concat operation.\n",
      "  return new_append_df if output_df is None else pd.concat([output_df,new_append_df])\n"
     ]
    },
    {
     "name": "stdout",
     "output_type": "stream",
     "text": [
      "255\n"
     ]
    },
    {
     "name": "stderr",
     "output_type": "stream",
     "text": [
      "[*********************100%%**********************]  1 of 1 completed\n",
      "[*********************100%%**********************]  1 of 1 completed\n",
      "[*********************100%%**********************]  1 of 1 completed\n",
      "[*********************100%%**********************]  1 of 1 completed\n",
      "[*********************100%%**********************]  1 of 1 completed\n",
      "c:\\Users\\GRAYBILLKB20\\OneDrive - Grove City College\\Sophomore Year\\FinanceData\\FinanceData\\FinanceDataHelper.py:102: FutureWarning: The behavior of DataFrame concatenation with empty or all-NA entries is deprecated. In a future version, this will no longer exclude empty or all-NA columns when determining the result dtypes. To retain the old behavior, exclude the relevant entries before the concat operation.\n",
      "  return new_append_df if output_df is None else pd.concat([output_df,new_append_df])\n"
     ]
    },
    {
     "name": "stdout",
     "output_type": "stream",
     "text": [
      "256\n"
     ]
    },
    {
     "name": "stderr",
     "output_type": "stream",
     "text": [
      "[*********************100%%**********************]  1 of 1 completed\n",
      "[*********************100%%**********************]  1 of 1 completed\n",
      "[*********************100%%**********************]  1 of 1 completed\n",
      "[*********************100%%**********************]  1 of 1 completed\n",
      "[*********************100%%**********************]  1 of 1 completed\n",
      "c:\\Users\\GRAYBILLKB20\\OneDrive - Grove City College\\Sophomore Year\\FinanceData\\FinanceData\\FinanceDataHelper.py:102: FutureWarning: The behavior of DataFrame concatenation with empty or all-NA entries is deprecated. In a future version, this will no longer exclude empty or all-NA columns when determining the result dtypes. To retain the old behavior, exclude the relevant entries before the concat operation.\n",
      "  return new_append_df if output_df is None else pd.concat([output_df,new_append_df])\n"
     ]
    },
    {
     "name": "stdout",
     "output_type": "stream",
     "text": [
      "257\n"
     ]
    },
    {
     "name": "stderr",
     "output_type": "stream",
     "text": [
      "[*********************100%%**********************]  1 of 1 completed\n",
      "[*********************100%%**********************]  1 of 1 completed\n",
      "[*********************100%%**********************]  1 of 1 completed\n",
      "[*********************100%%**********************]  1 of 1 completed\n",
      "[*********************100%%**********************]  1 of 1 completed\n",
      "c:\\Users\\GRAYBILLKB20\\OneDrive - Grove City College\\Sophomore Year\\FinanceData\\FinanceData\\FinanceDataHelper.py:102: FutureWarning: The behavior of DataFrame concatenation with empty or all-NA entries is deprecated. In a future version, this will no longer exclude empty or all-NA columns when determining the result dtypes. To retain the old behavior, exclude the relevant entries before the concat operation.\n",
      "  return new_append_df if output_df is None else pd.concat([output_df,new_append_df])\n"
     ]
    },
    {
     "name": "stdout",
     "output_type": "stream",
     "text": [
      "258\n"
     ]
    },
    {
     "name": "stderr",
     "output_type": "stream",
     "text": [
      "[*********************100%%**********************]  1 of 1 completed\n",
      "[*********************100%%**********************]  1 of 1 completed\n",
      "[*********************100%%**********************]  1 of 1 completed\n",
      "[*********************100%%**********************]  1 of 1 completed\n",
      "[*********************100%%**********************]  1 of 1 completed\n",
      "c:\\Users\\GRAYBILLKB20\\OneDrive - Grove City College\\Sophomore Year\\FinanceData\\FinanceData\\FinanceDataHelper.py:102: FutureWarning: The behavior of DataFrame concatenation with empty or all-NA entries is deprecated. In a future version, this will no longer exclude empty or all-NA columns when determining the result dtypes. To retain the old behavior, exclude the relevant entries before the concat operation.\n",
      "  return new_append_df if output_df is None else pd.concat([output_df,new_append_df])\n"
     ]
    },
    {
     "name": "stdout",
     "output_type": "stream",
     "text": [
      "259\n"
     ]
    },
    {
     "name": "stderr",
     "output_type": "stream",
     "text": [
      "[*********************100%%**********************]  1 of 1 completed\n",
      "[*********************100%%**********************]  1 of 1 completed\n",
      "[*********************100%%**********************]  1 of 1 completed\n",
      "[*********************100%%**********************]  1 of 1 completed\n",
      "[*********************100%%**********************]  1 of 1 completed\n",
      "c:\\Users\\GRAYBILLKB20\\OneDrive - Grove City College\\Sophomore Year\\FinanceData\\FinanceData\\FinanceDataHelper.py:102: FutureWarning: The behavior of DataFrame concatenation with empty or all-NA entries is deprecated. In a future version, this will no longer exclude empty or all-NA columns when determining the result dtypes. To retain the old behavior, exclude the relevant entries before the concat operation.\n",
      "  return new_append_df if output_df is None else pd.concat([output_df,new_append_df])\n"
     ]
    },
    {
     "name": "stdout",
     "output_type": "stream",
     "text": [
      "260\n"
     ]
    },
    {
     "name": "stderr",
     "output_type": "stream",
     "text": [
      "[*********************100%%**********************]  1 of 1 completed\n",
      "[*********************100%%**********************]  1 of 1 completed\n",
      "[*********************100%%**********************]  1 of 1 completed\n",
      "[*********************100%%**********************]  1 of 1 completed\n",
      "[*********************100%%**********************]  1 of 1 completed\n",
      "c:\\Users\\GRAYBILLKB20\\OneDrive - Grove City College\\Sophomore Year\\FinanceData\\FinanceData\\FinanceDataHelper.py:102: FutureWarning: The behavior of DataFrame concatenation with empty or all-NA entries is deprecated. In a future version, this will no longer exclude empty or all-NA columns when determining the result dtypes. To retain the old behavior, exclude the relevant entries before the concat operation.\n",
      "  return new_append_df if output_df is None else pd.concat([output_df,new_append_df])\n"
     ]
    },
    {
     "name": "stdout",
     "output_type": "stream",
     "text": [
      "261\n"
     ]
    },
    {
     "name": "stderr",
     "output_type": "stream",
     "text": [
      "[*********************100%%**********************]  1 of 1 completed\n",
      "[*********************100%%**********************]  1 of 1 completed\n",
      "[*********************100%%**********************]  1 of 1 completed\n",
      "[*********************100%%**********************]  1 of 1 completed\n",
      "[*********************100%%**********************]  1 of 1 completed\n",
      "c:\\Users\\GRAYBILLKB20\\OneDrive - Grove City College\\Sophomore Year\\FinanceData\\FinanceData\\FinanceDataHelper.py:102: FutureWarning: The behavior of DataFrame concatenation with empty or all-NA entries is deprecated. In a future version, this will no longer exclude empty or all-NA columns when determining the result dtypes. To retain the old behavior, exclude the relevant entries before the concat operation.\n",
      "  return new_append_df if output_df is None else pd.concat([output_df,new_append_df])\n"
     ]
    },
    {
     "name": "stdout",
     "output_type": "stream",
     "text": [
      "262\n"
     ]
    },
    {
     "name": "stderr",
     "output_type": "stream",
     "text": [
      "[*********************100%%**********************]  1 of 1 completed\n",
      "[*********************100%%**********************]  1 of 1 completed\n",
      "[*********************100%%**********************]  1 of 1 completed\n",
      "[*********************100%%**********************]  1 of 1 completed\n",
      "[*********************100%%**********************]  1 of 1 completed\n",
      "c:\\Users\\GRAYBILLKB20\\OneDrive - Grove City College\\Sophomore Year\\FinanceData\\FinanceData\\FinanceDataHelper.py:102: FutureWarning: The behavior of DataFrame concatenation with empty or all-NA entries is deprecated. In a future version, this will no longer exclude empty or all-NA columns when determining the result dtypes. To retain the old behavior, exclude the relevant entries before the concat operation.\n",
      "  return new_append_df if output_df is None else pd.concat([output_df,new_append_df])\n"
     ]
    },
    {
     "name": "stdout",
     "output_type": "stream",
     "text": [
      "263\n"
     ]
    },
    {
     "name": "stderr",
     "output_type": "stream",
     "text": [
      "[*********************100%%**********************]  1 of 1 completed\n",
      "[*********************100%%**********************]  1 of 1 completed\n",
      "[*********************100%%**********************]  1 of 1 completed\n",
      "[*********************100%%**********************]  1 of 1 completed\n",
      "[*********************100%%**********************]  1 of 1 completed\n",
      "c:\\Users\\GRAYBILLKB20\\OneDrive - Grove City College\\Sophomore Year\\FinanceData\\FinanceData\\FinanceDataHelper.py:102: FutureWarning: The behavior of DataFrame concatenation with empty or all-NA entries is deprecated. In a future version, this will no longer exclude empty or all-NA columns when determining the result dtypes. To retain the old behavior, exclude the relevant entries before the concat operation.\n",
      "  return new_append_df if output_df is None else pd.concat([output_df,new_append_df])\n"
     ]
    },
    {
     "name": "stdout",
     "output_type": "stream",
     "text": [
      "Index error retrieving data for JKHY stock on 2024-11-04 00:00:00: single positional indexer is out-of-bounds\n",
      "264\n"
     ]
    },
    {
     "name": "stderr",
     "output_type": "stream",
     "text": [
      "[*********************100%%**********************]  1 of 1 completed\n",
      "[*********************100%%**********************]  1 of 1 completed\n",
      "[*********************100%%**********************]  1 of 1 completed\n",
      "[*********************100%%**********************]  1 of 1 completed\n",
      "[*********************100%%**********************]  1 of 1 completed\n",
      "c:\\Users\\GRAYBILLKB20\\OneDrive - Grove City College\\Sophomore Year\\FinanceData\\FinanceData\\FinanceDataHelper.py:102: FutureWarning: The behavior of DataFrame concatenation with empty or all-NA entries is deprecated. In a future version, this will no longer exclude empty or all-NA columns when determining the result dtypes. To retain the old behavior, exclude the relevant entries before the concat operation.\n",
      "  return new_append_df if output_df is None else pd.concat([output_df,new_append_df])\n"
     ]
    },
    {
     "name": "stdout",
     "output_type": "stream",
     "text": [
      "Index error retrieving data for J stock on 2024-11-04 00:00:00: single positional indexer is out-of-bounds\n",
      "265\n"
     ]
    },
    {
     "name": "stderr",
     "output_type": "stream",
     "text": [
      "[*********************100%%**********************]  1 of 1 completed\n",
      "[*********************100%%**********************]  1 of 1 completed\n",
      "[*********************100%%**********************]  1 of 1 completed\n",
      "[*********************100%%**********************]  1 of 1 completed\n",
      "[*********************100%%**********************]  1 of 1 completed\n",
      "c:\\Users\\GRAYBILLKB20\\OneDrive - Grove City College\\Sophomore Year\\FinanceData\\FinanceData\\FinanceDataHelper.py:102: FutureWarning: The behavior of DataFrame concatenation with empty or all-NA entries is deprecated. In a future version, this will no longer exclude empty or all-NA columns when determining the result dtypes. To retain the old behavior, exclude the relevant entries before the concat operation.\n",
      "  return new_append_df if output_df is None else pd.concat([output_df,new_append_df])\n"
     ]
    },
    {
     "name": "stdout",
     "output_type": "stream",
     "text": [
      "266\n"
     ]
    },
    {
     "name": "stderr",
     "output_type": "stream",
     "text": [
      "[*********************100%%**********************]  1 of 1 completed\n",
      "[*********************100%%**********************]  1 of 1 completed\n",
      "[*********************100%%**********************]  1 of 1 completed\n",
      "[*********************100%%**********************]  1 of 1 completed\n",
      "[*********************100%%**********************]  1 of 1 completed\n",
      "c:\\Users\\GRAYBILLKB20\\OneDrive - Grove City College\\Sophomore Year\\FinanceData\\FinanceData\\FinanceDataHelper.py:102: FutureWarning: The behavior of DataFrame concatenation with empty or all-NA entries is deprecated. In a future version, this will no longer exclude empty or all-NA columns when determining the result dtypes. To retain the old behavior, exclude the relevant entries before the concat operation.\n",
      "  return new_append_df if output_df is None else pd.concat([output_df,new_append_df])\n"
     ]
    },
    {
     "name": "stdout",
     "output_type": "stream",
     "text": [
      "267\n"
     ]
    },
    {
     "name": "stderr",
     "output_type": "stream",
     "text": [
      "[*********************100%%**********************]  1 of 1 completed\n",
      "[*********************100%%**********************]  1 of 1 completed\n",
      "[*********************100%%**********************]  1 of 1 completed\n",
      "[*********************100%%**********************]  1 of 1 completed\n",
      "[*********************100%%**********************]  1 of 1 completed\n",
      "c:\\Users\\GRAYBILLKB20\\OneDrive - Grove City College\\Sophomore Year\\FinanceData\\FinanceData\\FinanceDataHelper.py:102: FutureWarning: The behavior of DataFrame concatenation with empty or all-NA entries is deprecated. In a future version, this will no longer exclude empty or all-NA columns when determining the result dtypes. To retain the old behavior, exclude the relevant entries before the concat operation.\n",
      "  return new_append_df if output_df is None else pd.concat([output_df,new_append_df])\n"
     ]
    },
    {
     "name": "stdout",
     "output_type": "stream",
     "text": [
      "268\n"
     ]
    },
    {
     "name": "stderr",
     "output_type": "stream",
     "text": [
      "[*********************100%%**********************]  1 of 1 completed\n",
      "[*********************100%%**********************]  1 of 1 completed\n",
      "[*********************100%%**********************]  1 of 1 completed\n",
      "[*********************100%%**********************]  1 of 1 completed\n",
      "[*********************100%%**********************]  1 of 1 completed\n",
      "c:\\Users\\GRAYBILLKB20\\OneDrive - Grove City College\\Sophomore Year\\FinanceData\\FinanceData\\FinanceDataHelper.py:102: FutureWarning: The behavior of DataFrame concatenation with empty or all-NA entries is deprecated. In a future version, this will no longer exclude empty or all-NA columns when determining the result dtypes. To retain the old behavior, exclude the relevant entries before the concat operation.\n",
      "  return new_append_df if output_df is None else pd.concat([output_df,new_append_df])\n"
     ]
    },
    {
     "name": "stdout",
     "output_type": "stream",
     "text": [
      "269\n"
     ]
    },
    {
     "name": "stderr",
     "output_type": "stream",
     "text": [
      "[*********************100%%**********************]  1 of 1 completed\n",
      "[*********************100%%**********************]  1 of 1 completed\n",
      "[*********************100%%**********************]  1 of 1 completed\n",
      "[*********************100%%**********************]  1 of 1 completed\n",
      "[*********************100%%**********************]  1 of 1 completed\n",
      "c:\\Users\\GRAYBILLKB20\\OneDrive - Grove City College\\Sophomore Year\\FinanceData\\FinanceData\\FinanceDataHelper.py:102: FutureWarning: The behavior of DataFrame concatenation with empty or all-NA entries is deprecated. In a future version, this will no longer exclude empty or all-NA columns when determining the result dtypes. To retain the old behavior, exclude the relevant entries before the concat operation.\n",
      "  return new_append_df if output_df is None else pd.concat([output_df,new_append_df])\n"
     ]
    },
    {
     "name": "stdout",
     "output_type": "stream",
     "text": [
      "270\n"
     ]
    },
    {
     "name": "stderr",
     "output_type": "stream",
     "text": [
      "[*********************100%%**********************]  1 of 1 completed\n",
      "[*********************100%%**********************]  1 of 1 completed\n",
      "[*********************100%%**********************]  1 of 1 completed\n",
      "[*********************100%%**********************]  1 of 1 completed\n",
      "[*********************100%%**********************]  1 of 1 completed\n",
      "c:\\Users\\GRAYBILLKB20\\OneDrive - Grove City College\\Sophomore Year\\FinanceData\\FinanceData\\FinanceDataHelper.py:102: FutureWarning: The behavior of DataFrame concatenation with empty or all-NA entries is deprecated. In a future version, this will no longer exclude empty or all-NA columns when determining the result dtypes. To retain the old behavior, exclude the relevant entries before the concat operation.\n",
      "  return new_append_df if output_df is None else pd.concat([output_df,new_append_df])\n"
     ]
    },
    {
     "name": "stdout",
     "output_type": "stream",
     "text": [
      "271\n"
     ]
    },
    {
     "name": "stderr",
     "output_type": "stream",
     "text": [
      "[*********************100%%**********************]  1 of 1 completed\n",
      "[*********************100%%**********************]  1 of 1 completed\n",
      "[*********************100%%**********************]  1 of 1 completed\n",
      "[*********************100%%**********************]  1 of 1 completed\n",
      "[*********************100%%**********************]  1 of 1 completed\n",
      "c:\\Users\\GRAYBILLKB20\\OneDrive - Grove City College\\Sophomore Year\\FinanceData\\FinanceData\\FinanceDataHelper.py:102: FutureWarning: The behavior of DataFrame concatenation with empty or all-NA entries is deprecated. In a future version, this will no longer exclude empty or all-NA columns when determining the result dtypes. To retain the old behavior, exclude the relevant entries before the concat operation.\n",
      "  return new_append_df if output_df is None else pd.concat([output_df,new_append_df])\n"
     ]
    },
    {
     "name": "stdout",
     "output_type": "stream",
     "text": [
      "272\n"
     ]
    },
    {
     "name": "stderr",
     "output_type": "stream",
     "text": [
      "[*********************100%%**********************]  1 of 1 completed\n",
      "[*********************100%%**********************]  1 of 1 completed\n",
      "[*********************100%%**********************]  1 of 1 completed\n",
      "[*********************100%%**********************]  1 of 1 completed\n",
      "[*********************100%%**********************]  1 of 1 completed\n",
      "c:\\Users\\GRAYBILLKB20\\OneDrive - Grove City College\\Sophomore Year\\FinanceData\\FinanceData\\FinanceDataHelper.py:102: FutureWarning: The behavior of DataFrame concatenation with empty or all-NA entries is deprecated. In a future version, this will no longer exclude empty or all-NA columns when determining the result dtypes. To retain the old behavior, exclude the relevant entries before the concat operation.\n",
      "  return new_append_df if output_df is None else pd.concat([output_df,new_append_df])\n"
     ]
    },
    {
     "name": "stdout",
     "output_type": "stream",
     "text": [
      "273\n"
     ]
    },
    {
     "name": "stderr",
     "output_type": "stream",
     "text": [
      "[*********************100%%**********************]  1 of 1 completed\n",
      "[*********************100%%**********************]  1 of 1 completed\n",
      "[*********************100%%**********************]  1 of 1 completed\n",
      "[*********************100%%**********************]  1 of 1 completed\n",
      "[*********************100%%**********************]  1 of 1 completed\n",
      "c:\\Users\\GRAYBILLKB20\\OneDrive - Grove City College\\Sophomore Year\\FinanceData\\FinanceData\\FinanceDataHelper.py:102: FutureWarning: The behavior of DataFrame concatenation with empty or all-NA entries is deprecated. In a future version, this will no longer exclude empty or all-NA columns when determining the result dtypes. To retain the old behavior, exclude the relevant entries before the concat operation.\n",
      "  return new_append_df if output_df is None else pd.concat([output_df,new_append_df])\n"
     ]
    },
    {
     "name": "stdout",
     "output_type": "stream",
     "text": [
      "274\n"
     ]
    },
    {
     "name": "stderr",
     "output_type": "stream",
     "text": [
      "[*********************100%%**********************]  1 of 1 completed\n",
      "[*********************100%%**********************]  1 of 1 completed\n",
      "[*********************100%%**********************]  1 of 1 completed\n",
      "[*********************100%%**********************]  1 of 1 completed\n",
      "[*********************100%%**********************]  1 of 1 completed\n",
      "c:\\Users\\GRAYBILLKB20\\OneDrive - Grove City College\\Sophomore Year\\FinanceData\\FinanceData\\FinanceDataHelper.py:102: FutureWarning: The behavior of DataFrame concatenation with empty or all-NA entries is deprecated. In a future version, this will no longer exclude empty or all-NA columns when determining the result dtypes. To retain the old behavior, exclude the relevant entries before the concat operation.\n",
      "  return new_append_df if output_df is None else pd.concat([output_df,new_append_df])\n"
     ]
    },
    {
     "name": "stdout",
     "output_type": "stream",
     "text": [
      "275\n"
     ]
    },
    {
     "name": "stderr",
     "output_type": "stream",
     "text": [
      "[*********************100%%**********************]  1 of 1 completed\n",
      "[*********************100%%**********************]  1 of 1 completed\n",
      "[*********************100%%**********************]  1 of 1 completed\n",
      "[*********************100%%**********************]  1 of 1 completed\n",
      "[*********************100%%**********************]  1 of 1 completed\n",
      "c:\\Users\\GRAYBILLKB20\\OneDrive - Grove City College\\Sophomore Year\\FinanceData\\FinanceData\\FinanceDataHelper.py:102: FutureWarning: The behavior of DataFrame concatenation with empty or all-NA entries is deprecated. In a future version, this will no longer exclude empty or all-NA columns when determining the result dtypes. To retain the old behavior, exclude the relevant entries before the concat operation.\n",
      "  return new_append_df if output_df is None else pd.concat([output_df,new_append_df])\n"
     ]
    },
    {
     "name": "stdout",
     "output_type": "stream",
     "text": [
      "276\n"
     ]
    },
    {
     "name": "stderr",
     "output_type": "stream",
     "text": [
      "[*********************100%%**********************]  1 of 1 completed\n",
      "[*********************100%%**********************]  1 of 1 completed\n",
      "[*********************100%%**********************]  1 of 1 completed\n",
      "[*********************100%%**********************]  1 of 1 completed\n",
      "[*********************100%%**********************]  1 of 1 completed\n",
      "c:\\Users\\GRAYBILLKB20\\OneDrive - Grove City College\\Sophomore Year\\FinanceData\\FinanceData\\FinanceDataHelper.py:102: FutureWarning: The behavior of DataFrame concatenation with empty or all-NA entries is deprecated. In a future version, this will no longer exclude empty or all-NA columns when determining the result dtypes. To retain the old behavior, exclude the relevant entries before the concat operation.\n",
      "  return new_append_df if output_df is None else pd.concat([output_df,new_append_df])\n"
     ]
    },
    {
     "name": "stdout",
     "output_type": "stream",
     "text": [
      "277\n"
     ]
    },
    {
     "name": "stderr",
     "output_type": "stream",
     "text": [
      "[*********************100%%**********************]  1 of 1 completed\n",
      "[*********************100%%**********************]  1 of 1 completed\n",
      "[*********************100%%**********************]  1 of 1 completed\n",
      "[*********************100%%**********************]  1 of 1 completed\n",
      "[*********************100%%**********************]  1 of 1 completed\n",
      "c:\\Users\\GRAYBILLKB20\\OneDrive - Grove City College\\Sophomore Year\\FinanceData\\FinanceData\\FinanceDataHelper.py:102: FutureWarning: The behavior of DataFrame concatenation with empty or all-NA entries is deprecated. In a future version, this will no longer exclude empty or all-NA columns when determining the result dtypes. To retain the old behavior, exclude the relevant entries before the concat operation.\n",
      "  return new_append_df if output_df is None else pd.concat([output_df,new_append_df])\n"
     ]
    },
    {
     "name": "stdout",
     "output_type": "stream",
     "text": [
      "278\n"
     ]
    },
    {
     "name": "stderr",
     "output_type": "stream",
     "text": [
      "[*********************100%%**********************]  1 of 1 completed\n",
      "[*********************100%%**********************]  1 of 1 completed\n",
      "[*********************100%%**********************]  1 of 1 completed\n",
      "[*********************100%%**********************]  1 of 1 completed\n",
      "[*********************100%%**********************]  1 of 1 completed\n",
      "c:\\Users\\GRAYBILLKB20\\OneDrive - Grove City College\\Sophomore Year\\FinanceData\\FinanceData\\FinanceDataHelper.py:102: FutureWarning: The behavior of DataFrame concatenation with empty or all-NA entries is deprecated. In a future version, this will no longer exclude empty or all-NA columns when determining the result dtypes. To retain the old behavior, exclude the relevant entries before the concat operation.\n",
      "  return new_append_df if output_df is None else pd.concat([output_df,new_append_df])\n"
     ]
    },
    {
     "name": "stdout",
     "output_type": "stream",
     "text": [
      "Index error retrieving data for KLAC stock on 2024-11-04 00:00:00: single positional indexer is out-of-bounds\n",
      "279\n"
     ]
    },
    {
     "name": "stderr",
     "output_type": "stream",
     "text": [
      "[*********************100%%**********************]  1 of 1 completed\n",
      "[*********************100%%**********************]  1 of 1 completed\n",
      "[*********************100%%**********************]  1 of 1 completed\n",
      "[*********************100%%**********************]  1 of 1 completed\n",
      "[*********************100%%**********************]  1 of 1 completed\n",
      "c:\\Users\\GRAYBILLKB20\\OneDrive - Grove City College\\Sophomore Year\\FinanceData\\FinanceData\\FinanceDataHelper.py:102: FutureWarning: The behavior of DataFrame concatenation with empty or all-NA entries is deprecated. In a future version, this will no longer exclude empty or all-NA columns when determining the result dtypes. To retain the old behavior, exclude the relevant entries before the concat operation.\n",
      "  return new_append_df if output_df is None else pd.concat([output_df,new_append_df])\n"
     ]
    },
    {
     "name": "stdout",
     "output_type": "stream",
     "text": [
      "280\n"
     ]
    },
    {
     "name": "stderr",
     "output_type": "stream",
     "text": [
      "[*********************100%%**********************]  1 of 1 completed\n",
      "[*********************100%%**********************]  1 of 1 completed\n",
      "[*********************100%%**********************]  1 of 1 completed\n",
      "[*********************100%%**********************]  1 of 1 completed\n",
      "[*********************100%%**********************]  1 of 1 completed\n",
      "c:\\Users\\GRAYBILLKB20\\OneDrive - Grove City College\\Sophomore Year\\FinanceData\\FinanceData\\FinanceDataHelper.py:102: FutureWarning: The behavior of DataFrame concatenation with empty or all-NA entries is deprecated. In a future version, this will no longer exclude empty or all-NA columns when determining the result dtypes. To retain the old behavior, exclude the relevant entries before the concat operation.\n",
      "  return new_append_df if output_df is None else pd.concat([output_df,new_append_df])\n"
     ]
    },
    {
     "name": "stdout",
     "output_type": "stream",
     "text": [
      "281\n"
     ]
    },
    {
     "name": "stderr",
     "output_type": "stream",
     "text": [
      "[*********************100%%**********************]  1 of 1 completed\n",
      "[*********************100%%**********************]  1 of 1 completed\n",
      "[*********************100%%**********************]  1 of 1 completed\n",
      "[*********************100%%**********************]  1 of 1 completed\n",
      "[*********************100%%**********************]  1 of 1 completed\n",
      "c:\\Users\\GRAYBILLKB20\\OneDrive - Grove City College\\Sophomore Year\\FinanceData\\FinanceData\\FinanceDataHelper.py:102: FutureWarning: The behavior of DataFrame concatenation with empty or all-NA entries is deprecated. In a future version, this will no longer exclude empty or all-NA columns when determining the result dtypes. To retain the old behavior, exclude the relevant entries before the concat operation.\n",
      "  return new_append_df if output_df is None else pd.concat([output_df,new_append_df])\n"
     ]
    },
    {
     "name": "stdout",
     "output_type": "stream",
     "text": [
      "282\n"
     ]
    },
    {
     "name": "stderr",
     "output_type": "stream",
     "text": [
      "[*********************100%%**********************]  1 of 1 completed\n",
      "[*********************100%%**********************]  1 of 1 completed\n",
      "[*********************100%%**********************]  1 of 1 completed\n",
      "[*********************100%%**********************]  1 of 1 completed\n",
      "[*********************100%%**********************]  1 of 1 completed\n",
      "c:\\Users\\GRAYBILLKB20\\OneDrive - Grove City College\\Sophomore Year\\FinanceData\\FinanceData\\FinanceDataHelper.py:102: FutureWarning: The behavior of DataFrame concatenation with empty or all-NA entries is deprecated. In a future version, this will no longer exclude empty or all-NA columns when determining the result dtypes. To retain the old behavior, exclude the relevant entries before the concat operation.\n",
      "  return new_append_df if output_df is None else pd.concat([output_df,new_append_df])\n"
     ]
    },
    {
     "name": "stdout",
     "output_type": "stream",
     "text": [
      "Index error retrieving data for LH stock on 2024-11-04 00:00:00: single positional indexer is out-of-bounds\n",
      "283\n"
     ]
    },
    {
     "name": "stderr",
     "output_type": "stream",
     "text": [
      "[*********************100%%**********************]  1 of 1 completed\n",
      "[*********************100%%**********************]  1 of 1 completed\n",
      "[*********************100%%**********************]  1 of 1 completed\n",
      "[*********************100%%**********************]  1 of 1 completed\n",
      "[*********************100%%**********************]  1 of 1 completed\n",
      "c:\\Users\\GRAYBILLKB20\\OneDrive - Grove City College\\Sophomore Year\\FinanceData\\FinanceData\\FinanceDataHelper.py:102: FutureWarning: The behavior of DataFrame concatenation with empty or all-NA entries is deprecated. In a future version, this will no longer exclude empty or all-NA columns when determining the result dtypes. To retain the old behavior, exclude the relevant entries before the concat operation.\n",
      "  return new_append_df if output_df is None else pd.concat([output_df,new_append_df])\n"
     ]
    },
    {
     "name": "stdout",
     "output_type": "stream",
     "text": [
      "284\n"
     ]
    },
    {
     "name": "stderr",
     "output_type": "stream",
     "text": [
      "[*********************100%%**********************]  1 of 1 completed\n",
      "[*********************100%%**********************]  1 of 1 completed\n",
      "[*********************100%%**********************]  1 of 1 completed\n",
      "[*********************100%%**********************]  1 of 1 completed\n",
      "[*********************100%%**********************]  1 of 1 completed\n",
      "c:\\Users\\GRAYBILLKB20\\OneDrive - Grove City College\\Sophomore Year\\FinanceData\\FinanceData\\FinanceDataHelper.py:102: FutureWarning: The behavior of DataFrame concatenation with empty or all-NA entries is deprecated. In a future version, this will no longer exclude empty or all-NA columns when determining the result dtypes. To retain the old behavior, exclude the relevant entries before the concat operation.\n",
      "  return new_append_df if output_df is None else pd.concat([output_df,new_append_df])\n"
     ]
    },
    {
     "name": "stdout",
     "output_type": "stream",
     "text": [
      "285\n"
     ]
    },
    {
     "name": "stderr",
     "output_type": "stream",
     "text": [
      "[*********************100%%**********************]  1 of 1 completed\n",
      "[*********************100%%**********************]  1 of 1 completed\n",
      "[*********************100%%**********************]  1 of 1 completed\n",
      "[*********************100%%**********************]  1 of 1 completed\n",
      "[*********************100%%**********************]  1 of 1 completed\n",
      "c:\\Users\\GRAYBILLKB20\\OneDrive - Grove City College\\Sophomore Year\\FinanceData\\FinanceData\\FinanceDataHelper.py:102: FutureWarning: The behavior of DataFrame concatenation with empty or all-NA entries is deprecated. In a future version, this will no longer exclude empty or all-NA columns when determining the result dtypes. To retain the old behavior, exclude the relevant entries before the concat operation.\n",
      "  return new_append_df if output_df is None else pd.concat([output_df,new_append_df])\n"
     ]
    },
    {
     "name": "stdout",
     "output_type": "stream",
     "text": [
      "286\n"
     ]
    },
    {
     "name": "stderr",
     "output_type": "stream",
     "text": [
      "[*********************100%%**********************]  1 of 1 completed\n",
      "[*********************100%%**********************]  1 of 1 completed\n",
      "[*********************100%%**********************]  1 of 1 completed\n",
      "[*********************100%%**********************]  1 of 1 completed\n",
      "[*********************100%%**********************]  1 of 1 completed\n",
      "c:\\Users\\GRAYBILLKB20\\OneDrive - Grove City College\\Sophomore Year\\FinanceData\\FinanceData\\FinanceDataHelper.py:102: FutureWarning: The behavior of DataFrame concatenation with empty or all-NA entries is deprecated. In a future version, this will no longer exclude empty or all-NA columns when determining the result dtypes. To retain the old behavior, exclude the relevant entries before the concat operation.\n",
      "  return new_append_df if output_df is None else pd.concat([output_df,new_append_df])\n"
     ]
    },
    {
     "name": "stdout",
     "output_type": "stream",
     "text": [
      "287\n"
     ]
    },
    {
     "name": "stderr",
     "output_type": "stream",
     "text": [
      "[*********************100%%**********************]  1 of 1 completed\n",
      "[*********************100%%**********************]  1 of 1 completed\n",
      "[*********************100%%**********************]  1 of 1 completed\n",
      "[*********************100%%**********************]  1 of 1 completed\n",
      "[*********************100%%**********************]  1 of 1 completed\n",
      "c:\\Users\\GRAYBILLKB20\\OneDrive - Grove City College\\Sophomore Year\\FinanceData\\FinanceData\\FinanceDataHelper.py:102: FutureWarning: The behavior of DataFrame concatenation with empty or all-NA entries is deprecated. In a future version, this will no longer exclude empty or all-NA columns when determining the result dtypes. To retain the old behavior, exclude the relevant entries before the concat operation.\n",
      "  return new_append_df if output_df is None else pd.concat([output_df,new_append_df])\n"
     ]
    },
    {
     "name": "stdout",
     "output_type": "stream",
     "text": [
      "288\n"
     ]
    },
    {
     "name": "stderr",
     "output_type": "stream",
     "text": [
      "[*********************100%%**********************]  1 of 1 completed\n",
      "[*********************100%%**********************]  1 of 1 completed\n",
      "[*********************100%%**********************]  1 of 1 completed\n",
      "[*********************100%%**********************]  1 of 1 completed\n",
      "[*********************100%%**********************]  1 of 1 completed\n",
      "c:\\Users\\GRAYBILLKB20\\OneDrive - Grove City College\\Sophomore Year\\FinanceData\\FinanceData\\FinanceDataHelper.py:102: FutureWarning: The behavior of DataFrame concatenation with empty or all-NA entries is deprecated. In a future version, this will no longer exclude empty or all-NA columns when determining the result dtypes. To retain the old behavior, exclude the relevant entries before the concat operation.\n",
      "  return new_append_df if output_df is None else pd.concat([output_df,new_append_df])\n"
     ]
    },
    {
     "name": "stdout",
     "output_type": "stream",
     "text": [
      "289\n"
     ]
    },
    {
     "name": "stderr",
     "output_type": "stream",
     "text": [
      "[*********************100%%**********************]  1 of 1 completed\n",
      "[*********************100%%**********************]  1 of 1 completed\n",
      "[*********************100%%**********************]  1 of 1 completed\n",
      "[*********************100%%**********************]  1 of 1 completed\n",
      "[*********************100%%**********************]  1 of 1 completed\n",
      "c:\\Users\\GRAYBILLKB20\\OneDrive - Grove City College\\Sophomore Year\\FinanceData\\FinanceData\\FinanceDataHelper.py:102: FutureWarning: The behavior of DataFrame concatenation with empty or all-NA entries is deprecated. In a future version, this will no longer exclude empty or all-NA columns when determining the result dtypes. To retain the old behavior, exclude the relevant entries before the concat operation.\n",
      "  return new_append_df if output_df is None else pd.concat([output_df,new_append_df])\n"
     ]
    },
    {
     "name": "stdout",
     "output_type": "stream",
     "text": [
      "290\n"
     ]
    },
    {
     "name": "stderr",
     "output_type": "stream",
     "text": [
      "[*********************100%%**********************]  1 of 1 completed\n",
      "[*********************100%%**********************]  1 of 1 completed\n",
      "[*********************100%%**********************]  1 of 1 completed\n",
      "[*********************100%%**********************]  1 of 1 completed\n",
      "[*********************100%%**********************]  1 of 1 completed\n",
      "c:\\Users\\GRAYBILLKB20\\OneDrive - Grove City College\\Sophomore Year\\FinanceData\\FinanceData\\FinanceDataHelper.py:102: FutureWarning: The behavior of DataFrame concatenation with empty or all-NA entries is deprecated. In a future version, this will no longer exclude empty or all-NA columns when determining the result dtypes. To retain the old behavior, exclude the relevant entries before the concat operation.\n",
      "  return new_append_df if output_df is None else pd.concat([output_df,new_append_df])\n"
     ]
    },
    {
     "name": "stdout",
     "output_type": "stream",
     "text": [
      "291\n"
     ]
    },
    {
     "name": "stderr",
     "output_type": "stream",
     "text": [
      "[*********************100%%**********************]  1 of 1 completed\n",
      "[*********************100%%**********************]  1 of 1 completed\n",
      "[*********************100%%**********************]  1 of 1 completed\n",
      "[*********************100%%**********************]  1 of 1 completed\n",
      "[*********************100%%**********************]  1 of 1 completed\n",
      "c:\\Users\\GRAYBILLKB20\\OneDrive - Grove City College\\Sophomore Year\\FinanceData\\FinanceData\\FinanceDataHelper.py:102: FutureWarning: The behavior of DataFrame concatenation with empty or all-NA entries is deprecated. In a future version, this will no longer exclude empty or all-NA columns when determining the result dtypes. To retain the old behavior, exclude the relevant entries before the concat operation.\n",
      "  return new_append_df if output_df is None else pd.concat([output_df,new_append_df])\n"
     ]
    },
    {
     "name": "stdout",
     "output_type": "stream",
     "text": [
      "292\n"
     ]
    },
    {
     "name": "stderr",
     "output_type": "stream",
     "text": [
      "[*********************100%%**********************]  1 of 1 completed\n",
      "[*********************100%%**********************]  1 of 1 completed\n",
      "[*********************100%%**********************]  1 of 1 completed\n",
      "[*********************100%%**********************]  1 of 1 completed\n",
      "[*********************100%%**********************]  1 of 1 completed\n",
      "c:\\Users\\GRAYBILLKB20\\OneDrive - Grove City College\\Sophomore Year\\FinanceData\\FinanceData\\FinanceDataHelper.py:102: FutureWarning: The behavior of DataFrame concatenation with empty or all-NA entries is deprecated. In a future version, this will no longer exclude empty or all-NA columns when determining the result dtypes. To retain the old behavior, exclude the relevant entries before the concat operation.\n",
      "  return new_append_df if output_df is None else pd.concat([output_df,new_append_df])\n"
     ]
    },
    {
     "name": "stdout",
     "output_type": "stream",
     "text": [
      "293\n"
     ]
    },
    {
     "name": "stderr",
     "output_type": "stream",
     "text": [
      "[*********************100%%**********************]  1 of 1 completed\n",
      "[*********************100%%**********************]  1 of 1 completed\n",
      "[*********************100%%**********************]  1 of 1 completed\n",
      "[*********************100%%**********************]  1 of 1 completed\n",
      "[*********************100%%**********************]  1 of 1 completed\n",
      "c:\\Users\\GRAYBILLKB20\\OneDrive - Grove City College\\Sophomore Year\\FinanceData\\FinanceData\\FinanceDataHelper.py:102: FutureWarning: The behavior of DataFrame concatenation with empty or all-NA entries is deprecated. In a future version, this will no longer exclude empty or all-NA columns when determining the result dtypes. To retain the old behavior, exclude the relevant entries before the concat operation.\n",
      "  return new_append_df if output_df is None else pd.concat([output_df,new_append_df])\n"
     ]
    },
    {
     "name": "stdout",
     "output_type": "stream",
     "text": [
      "294\n"
     ]
    },
    {
     "name": "stderr",
     "output_type": "stream",
     "text": [
      "[*********************100%%**********************]  1 of 1 completed\n",
      "[*********************100%%**********************]  1 of 1 completed\n",
      "[*********************100%%**********************]  1 of 1 completed\n",
      "[*********************100%%**********************]  1 of 1 completed\n",
      "[*********************100%%**********************]  1 of 1 completed\n",
      "c:\\Users\\GRAYBILLKB20\\OneDrive - Grove City College\\Sophomore Year\\FinanceData\\FinanceData\\FinanceDataHelper.py:102: FutureWarning: The behavior of DataFrame concatenation with empty or all-NA entries is deprecated. In a future version, this will no longer exclude empty or all-NA columns when determining the result dtypes. To retain the old behavior, exclude the relevant entries before the concat operation.\n",
      "  return new_append_df if output_df is None else pd.concat([output_df,new_append_df])\n"
     ]
    },
    {
     "name": "stdout",
     "output_type": "stream",
     "text": [
      "295\n"
     ]
    },
    {
     "name": "stderr",
     "output_type": "stream",
     "text": [
      "[*********************100%%**********************]  1 of 1 completed\n",
      "[*********************100%%**********************]  1 of 1 completed\n",
      "[*********************100%%**********************]  1 of 1 completed\n",
      "[*********************100%%**********************]  1 of 1 completed\n",
      "[*********************100%%**********************]  1 of 1 completed\n",
      "c:\\Users\\GRAYBILLKB20\\OneDrive - Grove City College\\Sophomore Year\\FinanceData\\FinanceData\\FinanceDataHelper.py:102: FutureWarning: The behavior of DataFrame concatenation with empty or all-NA entries is deprecated. In a future version, this will no longer exclude empty or all-NA columns when determining the result dtypes. To retain the old behavior, exclude the relevant entries before the concat operation.\n",
      "  return new_append_df if output_df is None else pd.concat([output_df,new_append_df])\n"
     ]
    },
    {
     "name": "stdout",
     "output_type": "stream",
     "text": [
      "296\n"
     ]
    },
    {
     "name": "stderr",
     "output_type": "stream",
     "text": [
      "[*********************100%%**********************]  1 of 1 completed\n",
      "[*********************100%%**********************]  1 of 1 completed\n",
      "[*********************100%%**********************]  1 of 1 completed\n",
      "[*********************100%%**********************]  1 of 1 completed\n",
      "[*********************100%%**********************]  1 of 1 completed\n",
      "c:\\Users\\GRAYBILLKB20\\OneDrive - Grove City College\\Sophomore Year\\FinanceData\\FinanceData\\FinanceDataHelper.py:102: FutureWarning: The behavior of DataFrame concatenation with empty or all-NA entries is deprecated. In a future version, this will no longer exclude empty or all-NA columns when determining the result dtypes. To retain the old behavior, exclude the relevant entries before the concat operation.\n",
      "  return new_append_df if output_df is None else pd.concat([output_df,new_append_df])\n"
     ]
    },
    {
     "name": "stdout",
     "output_type": "stream",
     "text": [
      "297\n"
     ]
    },
    {
     "name": "stderr",
     "output_type": "stream",
     "text": [
      "[*********************100%%**********************]  1 of 1 completed\n",
      "[*********************100%%**********************]  1 of 1 completed\n",
      "[*********************100%%**********************]  1 of 1 completed\n",
      "[*********************100%%**********************]  1 of 1 completed\n",
      "[*********************100%%**********************]  1 of 1 completed\n",
      "c:\\Users\\GRAYBILLKB20\\OneDrive - Grove City College\\Sophomore Year\\FinanceData\\FinanceData\\FinanceDataHelper.py:102: FutureWarning: The behavior of DataFrame concatenation with empty or all-NA entries is deprecated. In a future version, this will no longer exclude empty or all-NA columns when determining the result dtypes. To retain the old behavior, exclude the relevant entries before the concat operation.\n",
      "  return new_append_df if output_df is None else pd.concat([output_df,new_append_df])\n"
     ]
    },
    {
     "name": "stdout",
     "output_type": "stream",
     "text": [
      "298\n"
     ]
    },
    {
     "name": "stderr",
     "output_type": "stream",
     "text": [
      "[*********************100%%**********************]  1 of 1 completed\n",
      "[*********************100%%**********************]  1 of 1 completed\n",
      "[*********************100%%**********************]  1 of 1 completed\n",
      "[*********************100%%**********************]  1 of 1 completed\n",
      "[*********************100%%**********************]  1 of 1 completed\n",
      "c:\\Users\\GRAYBILLKB20\\OneDrive - Grove City College\\Sophomore Year\\FinanceData\\FinanceData\\FinanceDataHelper.py:102: FutureWarning: The behavior of DataFrame concatenation with empty or all-NA entries is deprecated. In a future version, this will no longer exclude empty or all-NA columns when determining the result dtypes. To retain the old behavior, exclude the relevant entries before the concat operation.\n",
      "  return new_append_df if output_df is None else pd.concat([output_df,new_append_df])\n"
     ]
    },
    {
     "name": "stdout",
     "output_type": "stream",
     "text": [
      "299\n"
     ]
    },
    {
     "name": "stderr",
     "output_type": "stream",
     "text": [
      "[*********************100%%**********************]  1 of 1 completed\n",
      "[*********************100%%**********************]  1 of 1 completed\n",
      "[*********************100%%**********************]  1 of 1 completed\n",
      "[*********************100%%**********************]  1 of 1 completed\n",
      "[*********************100%%**********************]  1 of 1 completed\n",
      "c:\\Users\\GRAYBILLKB20\\OneDrive - Grove City College\\Sophomore Year\\FinanceData\\FinanceData\\FinanceDataHelper.py:102: FutureWarning: The behavior of DataFrame concatenation with empty or all-NA entries is deprecated. In a future version, this will no longer exclude empty or all-NA columns when determining the result dtypes. To retain the old behavior, exclude the relevant entries before the concat operation.\n",
      "  return new_append_df if output_df is None else pd.concat([output_df,new_append_df])\n"
     ]
    },
    {
     "name": "stdout",
     "output_type": "stream",
     "text": [
      "Index error retrieving data for MKTX stock on 2024-11-05 00:00:00: single positional indexer is out-of-bounds\n",
      "Index error retrieving data for MKTX stock on 2024-11-04 00:00:00: single positional indexer is out-of-bounds\n",
      "300\n"
     ]
    },
    {
     "name": "stderr",
     "output_type": "stream",
     "text": [
      "[*********************100%%**********************]  1 of 1 completed\n",
      "[*********************100%%**********************]  1 of 1 completed\n",
      "[*********************100%%**********************]  1 of 1 completed\n",
      "[*********************100%%**********************]  1 of 1 completed\n",
      "[*********************100%%**********************]  1 of 1 completed\n",
      "c:\\Users\\GRAYBILLKB20\\OneDrive - Grove City College\\Sophomore Year\\FinanceData\\FinanceData\\FinanceDataHelper.py:102: FutureWarning: The behavior of DataFrame concatenation with empty or all-NA entries is deprecated. In a future version, this will no longer exclude empty or all-NA columns when determining the result dtypes. To retain the old behavior, exclude the relevant entries before the concat operation.\n",
      "  return new_append_df if output_df is None else pd.concat([output_df,new_append_df])\n"
     ]
    },
    {
     "name": "stdout",
     "output_type": "stream",
     "text": [
      "301\n"
     ]
    },
    {
     "name": "stderr",
     "output_type": "stream",
     "text": [
      "[*********************100%%**********************]  1 of 1 completed\n",
      "[*********************100%%**********************]  1 of 1 completed\n",
      "[*********************100%%**********************]  1 of 1 completed\n",
      "[*********************100%%**********************]  1 of 1 completed\n",
      "[*********************100%%**********************]  1 of 1 completed\n",
      "c:\\Users\\GRAYBILLKB20\\OneDrive - Grove City College\\Sophomore Year\\FinanceData\\FinanceData\\FinanceDataHelper.py:102: FutureWarning: The behavior of DataFrame concatenation with empty or all-NA entries is deprecated. In a future version, this will no longer exclude empty or all-NA columns when determining the result dtypes. To retain the old behavior, exclude the relevant entries before the concat operation.\n",
      "  return new_append_df if output_df is None else pd.concat([output_df,new_append_df])\n"
     ]
    },
    {
     "name": "stdout",
     "output_type": "stream",
     "text": [
      "302\n"
     ]
    },
    {
     "name": "stderr",
     "output_type": "stream",
     "text": [
      "[*********************100%%**********************]  1 of 1 completed\n",
      "[*********************100%%**********************]  1 of 1 completed\n",
      "[*********************100%%**********************]  1 of 1 completed\n",
      "[*********************100%%**********************]  1 of 1 completed\n",
      "[*********************100%%**********************]  1 of 1 completed\n",
      "c:\\Users\\GRAYBILLKB20\\OneDrive - Grove City College\\Sophomore Year\\FinanceData\\FinanceData\\FinanceDataHelper.py:102: FutureWarning: The behavior of DataFrame concatenation with empty or all-NA entries is deprecated. In a future version, this will no longer exclude empty or all-NA columns when determining the result dtypes. To retain the old behavior, exclude the relevant entries before the concat operation.\n",
      "  return new_append_df if output_df is None else pd.concat([output_df,new_append_df])\n"
     ]
    },
    {
     "name": "stdout",
     "output_type": "stream",
     "text": [
      "Index error retrieving data for MLM stock on 2024-11-04 00:00:00: single positional indexer is out-of-bounds\n",
      "303\n"
     ]
    },
    {
     "name": "stderr",
     "output_type": "stream",
     "text": [
      "[*********************100%%**********************]  1 of 1 completed\n",
      "[*********************100%%**********************]  1 of 1 completed\n",
      "[*********************100%%**********************]  1 of 1 completed\n",
      "[*********************100%%**********************]  1 of 1 completed\n",
      "[*********************100%%**********************]  1 of 1 completed\n",
      "c:\\Users\\GRAYBILLKB20\\OneDrive - Grove City College\\Sophomore Year\\FinanceData\\FinanceData\\FinanceDataHelper.py:102: FutureWarning: The behavior of DataFrame concatenation with empty or all-NA entries is deprecated. In a future version, this will no longer exclude empty or all-NA columns when determining the result dtypes. To retain the old behavior, exclude the relevant entries before the concat operation.\n",
      "  return new_append_df if output_df is None else pd.concat([output_df,new_append_df])\n"
     ]
    },
    {
     "name": "stdout",
     "output_type": "stream",
     "text": [
      "304\n"
     ]
    },
    {
     "name": "stderr",
     "output_type": "stream",
     "text": [
      "[*********************100%%**********************]  1 of 1 completed\n",
      "[*********************100%%**********************]  1 of 1 completed\n",
      "[*********************100%%**********************]  1 of 1 completed\n",
      "[*********************100%%**********************]  1 of 1 completed\n",
      "[*********************100%%**********************]  1 of 1 completed\n",
      "c:\\Users\\GRAYBILLKB20\\OneDrive - Grove City College\\Sophomore Year\\FinanceData\\FinanceData\\FinanceDataHelper.py:102: FutureWarning: The behavior of DataFrame concatenation with empty or all-NA entries is deprecated. In a future version, this will no longer exclude empty or all-NA columns when determining the result dtypes. To retain the old behavior, exclude the relevant entries before the concat operation.\n",
      "  return new_append_df if output_df is None else pd.concat([output_df,new_append_df])\n"
     ]
    },
    {
     "name": "stdout",
     "output_type": "stream",
     "text": [
      "305\n"
     ]
    },
    {
     "name": "stderr",
     "output_type": "stream",
     "text": [
      "[*********************100%%**********************]  1 of 1 completed\n",
      "[*********************100%%**********************]  1 of 1 completed\n",
      "[*********************100%%**********************]  1 of 1 completed\n",
      "[*********************100%%**********************]  1 of 1 completed\n",
      "[*********************100%%**********************]  1 of 1 completed\n",
      "c:\\Users\\GRAYBILLKB20\\OneDrive - Grove City College\\Sophomore Year\\FinanceData\\FinanceData\\FinanceDataHelper.py:102: FutureWarning: The behavior of DataFrame concatenation with empty or all-NA entries is deprecated. In a future version, this will no longer exclude empty or all-NA columns when determining the result dtypes. To retain the old behavior, exclude the relevant entries before the concat operation.\n",
      "  return new_append_df if output_df is None else pd.concat([output_df,new_append_df])\n"
     ]
    },
    {
     "name": "stdout",
     "output_type": "stream",
     "text": [
      "306\n"
     ]
    },
    {
     "name": "stderr",
     "output_type": "stream",
     "text": [
      "[*********************100%%**********************]  1 of 1 completed\n",
      "[*********************100%%**********************]  1 of 1 completed\n",
      "[*********************100%%**********************]  1 of 1 completed\n",
      "[*********************100%%**********************]  1 of 1 completed\n",
      "[*********************100%%**********************]  1 of 1 completed\n",
      "c:\\Users\\GRAYBILLKB20\\OneDrive - Grove City College\\Sophomore Year\\FinanceData\\FinanceData\\FinanceDataHelper.py:102: FutureWarning: The behavior of DataFrame concatenation with empty or all-NA entries is deprecated. In a future version, this will no longer exclude empty or all-NA columns when determining the result dtypes. To retain the old behavior, exclude the relevant entries before the concat operation.\n",
      "  return new_append_df if output_df is None else pd.concat([output_df,new_append_df])\n"
     ]
    },
    {
     "name": "stdout",
     "output_type": "stream",
     "text": [
      "307\n"
     ]
    },
    {
     "name": "stderr",
     "output_type": "stream",
     "text": [
      "[*********************100%%**********************]  1 of 1 completed\n",
      "[*********************100%%**********************]  1 of 1 completed\n",
      "[*********************100%%**********************]  1 of 1 completed\n",
      "[*********************100%%**********************]  1 of 1 completed\n",
      "[*********************100%%**********************]  1 of 1 completed\n",
      "c:\\Users\\GRAYBILLKB20\\OneDrive - Grove City College\\Sophomore Year\\FinanceData\\FinanceData\\FinanceDataHelper.py:102: FutureWarning: The behavior of DataFrame concatenation with empty or all-NA entries is deprecated. In a future version, this will no longer exclude empty or all-NA columns when determining the result dtypes. To retain the old behavior, exclude the relevant entries before the concat operation.\n",
      "  return new_append_df if output_df is None else pd.concat([output_df,new_append_df])\n"
     ]
    },
    {
     "name": "stdout",
     "output_type": "stream",
     "text": [
      "308\n"
     ]
    },
    {
     "name": "stderr",
     "output_type": "stream",
     "text": [
      "[*********************100%%**********************]  1 of 1 completed\n",
      "[*********************100%%**********************]  1 of 1 completed\n",
      "[*********************100%%**********************]  1 of 1 completed\n",
      "[*********************100%%**********************]  1 of 1 completed\n",
      "[*********************100%%**********************]  1 of 1 completed\n",
      "c:\\Users\\GRAYBILLKB20\\OneDrive - Grove City College\\Sophomore Year\\FinanceData\\FinanceData\\FinanceDataHelper.py:102: FutureWarning: The behavior of DataFrame concatenation with empty or all-NA entries is deprecated. In a future version, this will no longer exclude empty or all-NA columns when determining the result dtypes. To retain the old behavior, exclude the relevant entries before the concat operation.\n",
      "  return new_append_df if output_df is None else pd.concat([output_df,new_append_df])\n"
     ]
    },
    {
     "name": "stdout",
     "output_type": "stream",
     "text": [
      "309\n"
     ]
    },
    {
     "name": "stderr",
     "output_type": "stream",
     "text": [
      "[*********************100%%**********************]  1 of 1 completed\n",
      "[*********************100%%**********************]  1 of 1 completed\n",
      "[*********************100%%**********************]  1 of 1 completed\n",
      "[*********************100%%**********************]  1 of 1 completed\n",
      "[*********************100%%**********************]  1 of 1 completed\n",
      "c:\\Users\\GRAYBILLKB20\\OneDrive - Grove City College\\Sophomore Year\\FinanceData\\FinanceData\\FinanceDataHelper.py:102: FutureWarning: The behavior of DataFrame concatenation with empty or all-NA entries is deprecated. In a future version, this will no longer exclude empty or all-NA columns when determining the result dtypes. To retain the old behavior, exclude the relevant entries before the concat operation.\n",
      "  return new_append_df if output_df is None else pd.concat([output_df,new_append_df])\n"
     ]
    },
    {
     "name": "stdout",
     "output_type": "stream",
     "text": [
      "310\n"
     ]
    },
    {
     "name": "stderr",
     "output_type": "stream",
     "text": [
      "[*********************100%%**********************]  1 of 1 completed\n",
      "[*********************100%%**********************]  1 of 1 completed\n",
      "[*********************100%%**********************]  1 of 1 completed\n",
      "[*********************100%%**********************]  1 of 1 completed\n",
      "[*********************100%%**********************]  1 of 1 completed\n",
      "c:\\Users\\GRAYBILLKB20\\OneDrive - Grove City College\\Sophomore Year\\FinanceData\\FinanceData\\FinanceDataHelper.py:102: FutureWarning: The behavior of DataFrame concatenation with empty or all-NA entries is deprecated. In a future version, this will no longer exclude empty or all-NA columns when determining the result dtypes. To retain the old behavior, exclude the relevant entries before the concat operation.\n",
      "  return new_append_df if output_df is None else pd.concat([output_df,new_append_df])\n"
     ]
    },
    {
     "name": "stdout",
     "output_type": "stream",
     "text": [
      "311\n"
     ]
    },
    {
     "name": "stderr",
     "output_type": "stream",
     "text": [
      "[*********************100%%**********************]  1 of 1 completed\n",
      "[*********************100%%**********************]  1 of 1 completed\n",
      "[*********************100%%**********************]  1 of 1 completed\n",
      "[*********************100%%**********************]  1 of 1 completed\n",
      "[*********************100%%**********************]  1 of 1 completed\n",
      "c:\\Users\\GRAYBILLKB20\\OneDrive - Grove City College\\Sophomore Year\\FinanceData\\FinanceData\\FinanceDataHelper.py:102: FutureWarning: The behavior of DataFrame concatenation with empty or all-NA entries is deprecated. In a future version, this will no longer exclude empty or all-NA columns when determining the result dtypes. To retain the old behavior, exclude the relevant entries before the concat operation.\n",
      "  return new_append_df if output_df is None else pd.concat([output_df,new_append_df])\n"
     ]
    },
    {
     "name": "stdout",
     "output_type": "stream",
     "text": [
      "312\n"
     ]
    },
    {
     "name": "stderr",
     "output_type": "stream",
     "text": [
      "[*********************100%%**********************]  1 of 1 completed\n",
      "[*********************100%%**********************]  1 of 1 completed\n",
      "[*********************100%%**********************]  1 of 1 completed\n",
      "[*********************100%%**********************]  1 of 1 completed\n",
      "[*********************100%%**********************]  1 of 1 completed\n",
      "c:\\Users\\GRAYBILLKB20\\OneDrive - Grove City College\\Sophomore Year\\FinanceData\\FinanceData\\FinanceDataHelper.py:102: FutureWarning: The behavior of DataFrame concatenation with empty or all-NA entries is deprecated. In a future version, this will no longer exclude empty or all-NA columns when determining the result dtypes. To retain the old behavior, exclude the relevant entries before the concat operation.\n",
      "  return new_append_df if output_df is None else pd.concat([output_df,new_append_df])\n"
     ]
    },
    {
     "name": "stdout",
     "output_type": "stream",
     "text": [
      "313\n"
     ]
    },
    {
     "name": "stderr",
     "output_type": "stream",
     "text": [
      "[*********************100%%**********************]  1 of 1 completed\n",
      "[*********************100%%**********************]  1 of 1 completed\n",
      "[*********************100%%**********************]  1 of 1 completed\n",
      "[*********************100%%**********************]  1 of 1 completed\n",
      "[*********************100%%**********************]  1 of 1 completed\n",
      "c:\\Users\\GRAYBILLKB20\\OneDrive - Grove City College\\Sophomore Year\\FinanceData\\FinanceData\\FinanceDataHelper.py:102: FutureWarning: The behavior of DataFrame concatenation with empty or all-NA entries is deprecated. In a future version, this will no longer exclude empty or all-NA columns when determining the result dtypes. To retain the old behavior, exclude the relevant entries before the concat operation.\n",
      "  return new_append_df if output_df is None else pd.concat([output_df,new_append_df])\n"
     ]
    },
    {
     "name": "stdout",
     "output_type": "stream",
     "text": [
      "Index error retrieving data for MTD stock on 2024-11-07 00:00:00: single positional indexer is out-of-bounds\n",
      "Index error retrieving data for MTD stock on 2024-11-06 00:00:00: single positional indexer is out-of-bounds\n",
      "Index error retrieving data for MTD stock on 2024-11-05 00:00:00: single positional indexer is out-of-bounds\n",
      "Index error retrieving data for MTD stock on 2024-11-04 00:00:00: single positional indexer is out-of-bounds\n",
      "314\n"
     ]
    },
    {
     "name": "stderr",
     "output_type": "stream",
     "text": [
      "[*********************100%%**********************]  1 of 1 completed\n",
      "[*********************100%%**********************]  1 of 1 completed\n",
      "[*********************100%%**********************]  1 of 1 completed\n",
      "[*********************100%%**********************]  1 of 1 completed\n",
      "[*********************100%%**********************]  1 of 1 completed\n",
      "c:\\Users\\GRAYBILLKB20\\OneDrive - Grove City College\\Sophomore Year\\FinanceData\\FinanceData\\FinanceDataHelper.py:102: FutureWarning: The behavior of DataFrame concatenation with empty or all-NA entries is deprecated. In a future version, this will no longer exclude empty or all-NA columns when determining the result dtypes. To retain the old behavior, exclude the relevant entries before the concat operation.\n",
      "  return new_append_df if output_df is None else pd.concat([output_df,new_append_df])\n"
     ]
    },
    {
     "name": "stdout",
     "output_type": "stream",
     "text": [
      "315\n"
     ]
    },
    {
     "name": "stderr",
     "output_type": "stream",
     "text": [
      "[*********************100%%**********************]  1 of 1 completed\n",
      "[*********************100%%**********************]  1 of 1 completed\n",
      "[*********************100%%**********************]  1 of 1 completed\n",
      "[*********************100%%**********************]  1 of 1 completed\n",
      "[*********************100%%**********************]  1 of 1 completed\n",
      "c:\\Users\\GRAYBILLKB20\\OneDrive - Grove City College\\Sophomore Year\\FinanceData\\FinanceData\\FinanceDataHelper.py:102: FutureWarning: The behavior of DataFrame concatenation with empty or all-NA entries is deprecated. In a future version, this will no longer exclude empty or all-NA columns when determining the result dtypes. To retain the old behavior, exclude the relevant entries before the concat operation.\n",
      "  return new_append_df if output_df is None else pd.concat([output_df,new_append_df])\n"
     ]
    },
    {
     "name": "stdout",
     "output_type": "stream",
     "text": [
      "316\n"
     ]
    },
    {
     "name": "stderr",
     "output_type": "stream",
     "text": [
      "[*********************100%%**********************]  1 of 1 completed\n",
      "[*********************100%%**********************]  1 of 1 completed\n",
      "[*********************100%%**********************]  1 of 1 completed\n",
      "[*********************100%%**********************]  1 of 1 completed\n",
      "[*********************100%%**********************]  1 of 1 completed\n",
      "c:\\Users\\GRAYBILLKB20\\OneDrive - Grove City College\\Sophomore Year\\FinanceData\\FinanceData\\FinanceDataHelper.py:102: FutureWarning: The behavior of DataFrame concatenation with empty or all-NA entries is deprecated. In a future version, this will no longer exclude empty or all-NA columns when determining the result dtypes. To retain the old behavior, exclude the relevant entries before the concat operation.\n",
      "  return new_append_df if output_df is None else pd.concat([output_df,new_append_df])\n"
     ]
    },
    {
     "name": "stdout",
     "output_type": "stream",
     "text": [
      "317\n"
     ]
    },
    {
     "name": "stderr",
     "output_type": "stream",
     "text": [
      "[*********************100%%**********************]  1 of 1 completed\n",
      "[*********************100%%**********************]  1 of 1 completed\n",
      "[*********************100%%**********************]  1 of 1 completed\n",
      "[*********************100%%**********************]  1 of 1 completed\n",
      "[*********************100%%**********************]  1 of 1 completed\n",
      "c:\\Users\\GRAYBILLKB20\\OneDrive - Grove City College\\Sophomore Year\\FinanceData\\FinanceData\\FinanceDataHelper.py:102: FutureWarning: The behavior of DataFrame concatenation with empty or all-NA entries is deprecated. In a future version, this will no longer exclude empty or all-NA columns when determining the result dtypes. To retain the old behavior, exclude the relevant entries before the concat operation.\n",
      "  return new_append_df if output_df is None else pd.concat([output_df,new_append_df])\n"
     ]
    },
    {
     "name": "stdout",
     "output_type": "stream",
     "text": [
      "318\n"
     ]
    },
    {
     "name": "stderr",
     "output_type": "stream",
     "text": [
      "[*********************100%%**********************]  1 of 1 completed\n",
      "[*********************100%%**********************]  1 of 1 completed\n",
      "[*********************100%%**********************]  1 of 1 completed\n",
      "[*********************100%%**********************]  1 of 1 completed\n",
      "[*********************100%%**********************]  1 of 1 completed\n",
      "c:\\Users\\GRAYBILLKB20\\OneDrive - Grove City College\\Sophomore Year\\FinanceData\\FinanceData\\FinanceDataHelper.py:102: FutureWarning: The behavior of DataFrame concatenation with empty or all-NA entries is deprecated. In a future version, this will no longer exclude empty or all-NA columns when determining the result dtypes. To retain the old behavior, exclude the relevant entries before the concat operation.\n",
      "  return new_append_df if output_df is None else pd.concat([output_df,new_append_df])\n"
     ]
    },
    {
     "name": "stdout",
     "output_type": "stream",
     "text": [
      "319\n"
     ]
    },
    {
     "name": "stderr",
     "output_type": "stream",
     "text": [
      "[*********************100%%**********************]  1 of 1 completed\n",
      "[*********************100%%**********************]  1 of 1 completed\n",
      "[*********************100%%**********************]  1 of 1 completed\n",
      "[*********************100%%**********************]  1 of 1 completed\n",
      "[*********************100%%**********************]  1 of 1 completed\n",
      "c:\\Users\\GRAYBILLKB20\\OneDrive - Grove City College\\Sophomore Year\\FinanceData\\FinanceData\\FinanceDataHelper.py:102: FutureWarning: The behavior of DataFrame concatenation with empty or all-NA entries is deprecated. In a future version, this will no longer exclude empty or all-NA columns when determining the result dtypes. To retain the old behavior, exclude the relevant entries before the concat operation.\n",
      "  return new_append_df if output_df is None else pd.concat([output_df,new_append_df])\n"
     ]
    },
    {
     "name": "stdout",
     "output_type": "stream",
     "text": [
      "320\n"
     ]
    },
    {
     "name": "stderr",
     "output_type": "stream",
     "text": [
      "[*********************100%%**********************]  1 of 1 completed\n",
      "[*********************100%%**********************]  1 of 1 completed\n",
      "[*********************100%%**********************]  1 of 1 completed\n",
      "[*********************100%%**********************]  1 of 1 completed\n",
      "[*********************100%%**********************]  1 of 1 completed\n",
      "c:\\Users\\GRAYBILLKB20\\OneDrive - Grove City College\\Sophomore Year\\FinanceData\\FinanceData\\FinanceDataHelper.py:102: FutureWarning: The behavior of DataFrame concatenation with empty or all-NA entries is deprecated. In a future version, this will no longer exclude empty or all-NA columns when determining the result dtypes. To retain the old behavior, exclude the relevant entries before the concat operation.\n",
      "  return new_append_df if output_df is None else pd.concat([output_df,new_append_df])\n"
     ]
    },
    {
     "name": "stdout",
     "output_type": "stream",
     "text": [
      "321\n"
     ]
    },
    {
     "name": "stderr",
     "output_type": "stream",
     "text": [
      "[*********************100%%**********************]  1 of 1 completed\n",
      "[*********************100%%**********************]  1 of 1 completed\n",
      "[*********************100%%**********************]  1 of 1 completed\n",
      "[*********************100%%**********************]  1 of 1 completed\n",
      "[*********************100%%**********************]  1 of 1 completed\n",
      "c:\\Users\\GRAYBILLKB20\\OneDrive - Grove City College\\Sophomore Year\\FinanceData\\FinanceData\\FinanceDataHelper.py:102: FutureWarning: The behavior of DataFrame concatenation with empty or all-NA entries is deprecated. In a future version, this will no longer exclude empty or all-NA columns when determining the result dtypes. To retain the old behavior, exclude the relevant entries before the concat operation.\n",
      "  return new_append_df if output_df is None else pd.concat([output_df,new_append_df])\n"
     ]
    },
    {
     "name": "stdout",
     "output_type": "stream",
     "text": [
      "Index error retrieving data for MOH stock on 2024-11-04 00:00:00: single positional indexer is out-of-bounds\n",
      "322\n"
     ]
    },
    {
     "name": "stderr",
     "output_type": "stream",
     "text": [
      "[*********************100%%**********************]  1 of 1 completed\n",
      "[*********************100%%**********************]  1 of 1 completed\n",
      "[*********************100%%**********************]  1 of 1 completed\n",
      "[*********************100%%**********************]  1 of 1 completed\n",
      "[*********************100%%**********************]  1 of 1 completed\n",
      "c:\\Users\\GRAYBILLKB20\\OneDrive - Grove City College\\Sophomore Year\\FinanceData\\FinanceData\\FinanceDataHelper.py:102: FutureWarning: The behavior of DataFrame concatenation with empty or all-NA entries is deprecated. In a future version, this will no longer exclude empty or all-NA columns when determining the result dtypes. To retain the old behavior, exclude the relevant entries before the concat operation.\n",
      "  return new_append_df if output_df is None else pd.concat([output_df,new_append_df])\n"
     ]
    },
    {
     "name": "stdout",
     "output_type": "stream",
     "text": [
      "323\n"
     ]
    },
    {
     "name": "stderr",
     "output_type": "stream",
     "text": [
      "[*********************100%%**********************]  1 of 1 completed\n",
      "[*********************100%%**********************]  1 of 1 completed\n",
      "[*********************100%%**********************]  1 of 1 completed\n",
      "[*********************100%%**********************]  1 of 1 completed\n",
      "[*********************100%%**********************]  1 of 1 completed\n",
      "c:\\Users\\GRAYBILLKB20\\OneDrive - Grove City College\\Sophomore Year\\FinanceData\\FinanceData\\FinanceDataHelper.py:102: FutureWarning: The behavior of DataFrame concatenation with empty or all-NA entries is deprecated. In a future version, this will no longer exclude empty or all-NA columns when determining the result dtypes. To retain the old behavior, exclude the relevant entries before the concat operation.\n",
      "  return new_append_df if output_df is None else pd.concat([output_df,new_append_df])\n"
     ]
    },
    {
     "name": "stdout",
     "output_type": "stream",
     "text": [
      "324\n"
     ]
    },
    {
     "name": "stderr",
     "output_type": "stream",
     "text": [
      "[*********************100%%**********************]  1 of 1 completed\n",
      "[*********************100%%**********************]  1 of 1 completed\n",
      "[*********************100%%**********************]  1 of 1 completed\n",
      "[*********************100%%**********************]  1 of 1 completed\n",
      "[*********************100%%**********************]  1 of 1 completed\n",
      "c:\\Users\\GRAYBILLKB20\\OneDrive - Grove City College\\Sophomore Year\\FinanceData\\FinanceData\\FinanceDataHelper.py:102: FutureWarning: The behavior of DataFrame concatenation with empty or all-NA entries is deprecated. In a future version, this will no longer exclude empty or all-NA columns when determining the result dtypes. To retain the old behavior, exclude the relevant entries before the concat operation.\n",
      "  return new_append_df if output_df is None else pd.concat([output_df,new_append_df])\n"
     ]
    },
    {
     "name": "stdout",
     "output_type": "stream",
     "text": [
      "325\n"
     ]
    },
    {
     "name": "stderr",
     "output_type": "stream",
     "text": [
      "[*********************100%%**********************]  1 of 1 completed\n",
      "[*********************100%%**********************]  1 of 1 completed\n",
      "[*********************100%%**********************]  1 of 1 completed\n",
      "[*********************100%%**********************]  1 of 1 completed\n",
      "[*********************100%%**********************]  1 of 1 completed\n",
      "c:\\Users\\GRAYBILLKB20\\OneDrive - Grove City College\\Sophomore Year\\FinanceData\\FinanceData\\FinanceDataHelper.py:102: FutureWarning: The behavior of DataFrame concatenation with empty or all-NA entries is deprecated. In a future version, this will no longer exclude empty or all-NA columns when determining the result dtypes. To retain the old behavior, exclude the relevant entries before the concat operation.\n",
      "  return new_append_df if output_df is None else pd.concat([output_df,new_append_df])\n"
     ]
    },
    {
     "name": "stdout",
     "output_type": "stream",
     "text": [
      "326\n"
     ]
    },
    {
     "name": "stderr",
     "output_type": "stream",
     "text": [
      "[*********************100%%**********************]  1 of 1 completed\n",
      "[*********************100%%**********************]  1 of 1 completed\n",
      "[*********************100%%**********************]  1 of 1 completed\n",
      "[*********************100%%**********************]  1 of 1 completed\n",
      "[*********************100%%**********************]  1 of 1 completed\n",
      "c:\\Users\\GRAYBILLKB20\\OneDrive - Grove City College\\Sophomore Year\\FinanceData\\FinanceData\\FinanceDataHelper.py:102: FutureWarning: The behavior of DataFrame concatenation with empty or all-NA entries is deprecated. In a future version, this will no longer exclude empty or all-NA columns when determining the result dtypes. To retain the old behavior, exclude the relevant entries before the concat operation.\n",
      "  return new_append_df if output_df is None else pd.concat([output_df,new_append_df])\n"
     ]
    },
    {
     "name": "stdout",
     "output_type": "stream",
     "text": [
      "327\n"
     ]
    },
    {
     "name": "stderr",
     "output_type": "stream",
     "text": [
      "[*********************100%%**********************]  1 of 1 completed\n",
      "[*********************100%%**********************]  1 of 1 completed\n",
      "[*********************100%%**********************]  1 of 1 completed\n",
      "[*********************100%%**********************]  1 of 1 completed\n",
      "[*********************100%%**********************]  1 of 1 completed\n",
      "c:\\Users\\GRAYBILLKB20\\OneDrive - Grove City College\\Sophomore Year\\FinanceData\\FinanceData\\FinanceDataHelper.py:102: FutureWarning: The behavior of DataFrame concatenation with empty or all-NA entries is deprecated. In a future version, this will no longer exclude empty or all-NA columns when determining the result dtypes. To retain the old behavior, exclude the relevant entries before the concat operation.\n",
      "  return new_append_df if output_df is None else pd.concat([output_df,new_append_df])\n"
     ]
    },
    {
     "name": "stdout",
     "output_type": "stream",
     "text": [
      "328\n"
     ]
    },
    {
     "name": "stderr",
     "output_type": "stream",
     "text": [
      "[*********************100%%**********************]  1 of 1 completed\n",
      "[*********************100%%**********************]  1 of 1 completed\n",
      "[*********************100%%**********************]  1 of 1 completed\n",
      "[*********************100%%**********************]  1 of 1 completed\n",
      "[*********************100%%**********************]  1 of 1 completed\n",
      "c:\\Users\\GRAYBILLKB20\\OneDrive - Grove City College\\Sophomore Year\\FinanceData\\FinanceData\\FinanceDataHelper.py:102: FutureWarning: The behavior of DataFrame concatenation with empty or all-NA entries is deprecated. In a future version, this will no longer exclude empty or all-NA columns when determining the result dtypes. To retain the old behavior, exclude the relevant entries before the concat operation.\n",
      "  return new_append_df if output_df is None else pd.concat([output_df,new_append_df])\n"
     ]
    },
    {
     "name": "stdout",
     "output_type": "stream",
     "text": [
      "329\n"
     ]
    },
    {
     "name": "stderr",
     "output_type": "stream",
     "text": [
      "[*********************100%%**********************]  1 of 1 completed\n",
      "[*********************100%%**********************]  1 of 1 completed\n",
      "[*********************100%%**********************]  1 of 1 completed\n",
      "[*********************100%%**********************]  1 of 1 completed\n",
      "[*********************100%%**********************]  1 of 1 completed\n",
      "c:\\Users\\GRAYBILLKB20\\OneDrive - Grove City College\\Sophomore Year\\FinanceData\\FinanceData\\FinanceDataHelper.py:102: FutureWarning: The behavior of DataFrame concatenation with empty or all-NA entries is deprecated. In a future version, this will no longer exclude empty or all-NA columns when determining the result dtypes. To retain the old behavior, exclude the relevant entries before the concat operation.\n",
      "  return new_append_df if output_df is None else pd.concat([output_df,new_append_df])\n"
     ]
    },
    {
     "name": "stdout",
     "output_type": "stream",
     "text": [
      "Index error retrieving data for MSI stock on 2024-11-04 00:00:00: single positional indexer is out-of-bounds\n",
      "330\n"
     ]
    },
    {
     "name": "stderr",
     "output_type": "stream",
     "text": [
      "[*********************100%%**********************]  1 of 1 completed\n",
      "[*********************100%%**********************]  1 of 1 completed\n",
      "[*********************100%%**********************]  1 of 1 completed\n",
      "[*********************100%%**********************]  1 of 1 completed\n",
      "[*********************100%%**********************]  1 of 1 completed\n",
      "c:\\Users\\GRAYBILLKB20\\OneDrive - Grove City College\\Sophomore Year\\FinanceData\\FinanceData\\FinanceDataHelper.py:102: FutureWarning: The behavior of DataFrame concatenation with empty or all-NA entries is deprecated. In a future version, this will no longer exclude empty or all-NA columns when determining the result dtypes. To retain the old behavior, exclude the relevant entries before the concat operation.\n",
      "  return new_append_df if output_df is None else pd.concat([output_df,new_append_df])\n"
     ]
    },
    {
     "name": "stdout",
     "output_type": "stream",
     "text": [
      "Index error retrieving data for MSCI stock on 2024-11-04 00:00:00: single positional indexer is out-of-bounds\n",
      "331\n"
     ]
    },
    {
     "name": "stderr",
     "output_type": "stream",
     "text": [
      "[*********************100%%**********************]  1 of 1 completed\n",
      "[*********************100%%**********************]  1 of 1 completed\n",
      "[*********************100%%**********************]  1 of 1 completed\n",
      "[*********************100%%**********************]  1 of 1 completed\n",
      "[*********************100%%**********************]  1 of 1 completed\n",
      "c:\\Users\\GRAYBILLKB20\\OneDrive - Grove City College\\Sophomore Year\\FinanceData\\FinanceData\\FinanceDataHelper.py:102: FutureWarning: The behavior of DataFrame concatenation with empty or all-NA entries is deprecated. In a future version, this will no longer exclude empty or all-NA columns when determining the result dtypes. To retain the old behavior, exclude the relevant entries before the concat operation.\n",
      "  return new_append_df if output_df is None else pd.concat([output_df,new_append_df])\n"
     ]
    },
    {
     "name": "stdout",
     "output_type": "stream",
     "text": [
      "332\n"
     ]
    },
    {
     "name": "stderr",
     "output_type": "stream",
     "text": [
      "[*********************100%%**********************]  1 of 1 completed\n",
      "[*********************100%%**********************]  1 of 1 completed\n",
      "[*********************100%%**********************]  1 of 1 completed\n",
      "[*********************100%%**********************]  1 of 1 completed\n",
      "[*********************100%%**********************]  1 of 1 completed\n",
      "c:\\Users\\GRAYBILLKB20\\OneDrive - Grove City College\\Sophomore Year\\FinanceData\\FinanceData\\FinanceDataHelper.py:102: FutureWarning: The behavior of DataFrame concatenation with empty or all-NA entries is deprecated. In a future version, this will no longer exclude empty or all-NA columns when determining the result dtypes. To retain the old behavior, exclude the relevant entries before the concat operation.\n",
      "  return new_append_df if output_df is None else pd.concat([output_df,new_append_df])\n"
     ]
    },
    {
     "name": "stdout",
     "output_type": "stream",
     "text": [
      "333\n"
     ]
    },
    {
     "name": "stderr",
     "output_type": "stream",
     "text": [
      "[*********************100%%**********************]  1 of 1 completed\n",
      "[*********************100%%**********************]  1 of 1 completed\n",
      "[*********************100%%**********************]  1 of 1 completed\n",
      "[*********************100%%**********************]  1 of 1 completed\n",
      "[*********************100%%**********************]  1 of 1 completed\n",
      "c:\\Users\\GRAYBILLKB20\\OneDrive - Grove City College\\Sophomore Year\\FinanceData\\FinanceData\\FinanceDataHelper.py:102: FutureWarning: The behavior of DataFrame concatenation with empty or all-NA entries is deprecated. In a future version, this will no longer exclude empty or all-NA columns when determining the result dtypes. To retain the old behavior, exclude the relevant entries before the concat operation.\n",
      "  return new_append_df if output_df is None else pd.concat([output_df,new_append_df])\n"
     ]
    },
    {
     "name": "stdout",
     "output_type": "stream",
     "text": [
      "334\n"
     ]
    },
    {
     "name": "stderr",
     "output_type": "stream",
     "text": [
      "[*********************100%%**********************]  1 of 1 completed\n",
      "[*********************100%%**********************]  1 of 1 completed\n",
      "[*********************100%%**********************]  1 of 1 completed\n",
      "[*********************100%%**********************]  1 of 1 completed\n",
      "[*********************100%%**********************]  1 of 1 completed\n",
      "c:\\Users\\GRAYBILLKB20\\OneDrive - Grove City College\\Sophomore Year\\FinanceData\\FinanceData\\FinanceDataHelper.py:102: FutureWarning: The behavior of DataFrame concatenation with empty or all-NA entries is deprecated. In a future version, this will no longer exclude empty or all-NA columns when determining the result dtypes. To retain the old behavior, exclude the relevant entries before the concat operation.\n",
      "  return new_append_df if output_df is None else pd.concat([output_df,new_append_df])\n"
     ]
    },
    {
     "name": "stdout",
     "output_type": "stream",
     "text": [
      "335\n"
     ]
    },
    {
     "name": "stderr",
     "output_type": "stream",
     "text": [
      "[*********************100%%**********************]  1 of 1 completed\n",
      "[*********************100%%**********************]  1 of 1 completed\n",
      "[*********************100%%**********************]  1 of 1 completed\n",
      "[*********************100%%**********************]  1 of 1 completed\n",
      "[*********************100%%**********************]  1 of 1 completed\n",
      "c:\\Users\\GRAYBILLKB20\\OneDrive - Grove City College\\Sophomore Year\\FinanceData\\FinanceData\\FinanceDataHelper.py:102: FutureWarning: The behavior of DataFrame concatenation with empty or all-NA entries is deprecated. In a future version, this will no longer exclude empty or all-NA columns when determining the result dtypes. To retain the old behavior, exclude the relevant entries before the concat operation.\n",
      "  return new_append_df if output_df is None else pd.concat([output_df,new_append_df])\n"
     ]
    },
    {
     "name": "stdout",
     "output_type": "stream",
     "text": [
      "336\n"
     ]
    },
    {
     "name": "stderr",
     "output_type": "stream",
     "text": [
      "[*********************100%%**********************]  1 of 1 completed\n",
      "[*********************100%%**********************]  1 of 1 completed\n",
      "[*********************100%%**********************]  1 of 1 completed\n",
      "[*********************100%%**********************]  1 of 1 completed\n",
      "[*********************100%%**********************]  1 of 1 completed\n",
      "c:\\Users\\GRAYBILLKB20\\OneDrive - Grove City College\\Sophomore Year\\FinanceData\\FinanceData\\FinanceDataHelper.py:102: FutureWarning: The behavior of DataFrame concatenation with empty or all-NA entries is deprecated. In a future version, this will no longer exclude empty or all-NA columns when determining the result dtypes. To retain the old behavior, exclude the relevant entries before the concat operation.\n",
      "  return new_append_df if output_df is None else pd.concat([output_df,new_append_df])\n"
     ]
    },
    {
     "name": "stdout",
     "output_type": "stream",
     "text": [
      "Index error retrieving data for NWS stock on 2024-11-04 00:00:00: single positional indexer is out-of-bounds\n",
      "337\n"
     ]
    },
    {
     "name": "stderr",
     "output_type": "stream",
     "text": [
      "[*********************100%%**********************]  1 of 1 completed\n",
      "[*********************100%%**********************]  1 of 1 completed\n",
      "[*********************100%%**********************]  1 of 1 completed\n",
      "[*********************100%%**********************]  1 of 1 completed\n",
      "[*********************100%%**********************]  1 of 1 completed\n",
      "c:\\Users\\GRAYBILLKB20\\OneDrive - Grove City College\\Sophomore Year\\FinanceData\\FinanceData\\FinanceDataHelper.py:102: FutureWarning: The behavior of DataFrame concatenation with empty or all-NA entries is deprecated. In a future version, this will no longer exclude empty or all-NA columns when determining the result dtypes. To retain the old behavior, exclude the relevant entries before the concat operation.\n",
      "  return new_append_df if output_df is None else pd.concat([output_df,new_append_df])\n"
     ]
    },
    {
     "name": "stdout",
     "output_type": "stream",
     "text": [
      "338\n"
     ]
    },
    {
     "name": "stderr",
     "output_type": "stream",
     "text": [
      "[*********************100%%**********************]  1 of 1 completed\n",
      "[*********************100%%**********************]  1 of 1 completed\n",
      "[*********************100%%**********************]  1 of 1 completed\n",
      "[*********************100%%**********************]  1 of 1 completed\n",
      "[*********************100%%**********************]  1 of 1 completed\n",
      "c:\\Users\\GRAYBILLKB20\\OneDrive - Grove City College\\Sophomore Year\\FinanceData\\FinanceData\\FinanceDataHelper.py:102: FutureWarning: The behavior of DataFrame concatenation with empty or all-NA entries is deprecated. In a future version, this will no longer exclude empty or all-NA columns when determining the result dtypes. To retain the old behavior, exclude the relevant entries before the concat operation.\n",
      "  return new_append_df if output_df is None else pd.concat([output_df,new_append_df])\n"
     ]
    },
    {
     "name": "stdout",
     "output_type": "stream",
     "text": [
      "339\n"
     ]
    },
    {
     "name": "stderr",
     "output_type": "stream",
     "text": [
      "[*********************100%%**********************]  1 of 1 completed\n",
      "[*********************100%%**********************]  1 of 1 completed\n",
      "[*********************100%%**********************]  1 of 1 completed\n",
      "[*********************100%%**********************]  1 of 1 completed\n",
      "[*********************100%%**********************]  1 of 1 completed\n",
      "c:\\Users\\GRAYBILLKB20\\OneDrive - Grove City College\\Sophomore Year\\FinanceData\\FinanceData\\FinanceDataHelper.py:102: FutureWarning: The behavior of DataFrame concatenation with empty or all-NA entries is deprecated. In a future version, this will no longer exclude empty or all-NA columns when determining the result dtypes. To retain the old behavior, exclude the relevant entries before the concat operation.\n",
      "  return new_append_df if output_df is None else pd.concat([output_df,new_append_df])\n"
     ]
    },
    {
     "name": "stdout",
     "output_type": "stream",
     "text": [
      "340\n"
     ]
    },
    {
     "name": "stderr",
     "output_type": "stream",
     "text": [
      "[*********************100%%**********************]  1 of 1 completed\n",
      "[*********************100%%**********************]  1 of 1 completed\n",
      "[*********************100%%**********************]  1 of 1 completed\n",
      "[*********************100%%**********************]  1 of 1 completed\n",
      "[*********************100%%**********************]  1 of 1 completed\n",
      "c:\\Users\\GRAYBILLKB20\\OneDrive - Grove City College\\Sophomore Year\\FinanceData\\FinanceData\\FinanceDataHelper.py:102: FutureWarning: The behavior of DataFrame concatenation with empty or all-NA entries is deprecated. In a future version, this will no longer exclude empty or all-NA columns when determining the result dtypes. To retain the old behavior, exclude the relevant entries before the concat operation.\n",
      "  return new_append_df if output_df is None else pd.concat([output_df,new_append_df])\n"
     ]
    },
    {
     "name": "stdout",
     "output_type": "stream",
     "text": [
      "Index error retrieving data for NDSN stock on 2024-11-07 00:00:00: single positional indexer is out-of-bounds\n",
      "Index error retrieving data for NDSN stock on 2024-11-06 00:00:00: single positional indexer is out-of-bounds\n",
      "Index error retrieving data for NDSN stock on 2024-11-05 00:00:00: single positional indexer is out-of-bounds\n",
      "Index error retrieving data for NDSN stock on 2024-11-04 00:00:00: single positional indexer is out-of-bounds\n",
      "341\n"
     ]
    },
    {
     "name": "stderr",
     "output_type": "stream",
     "text": [
      "[*********************100%%**********************]  1 of 1 completed\n",
      "[*********************100%%**********************]  1 of 1 completed\n",
      "[*********************100%%**********************]  1 of 1 completed\n",
      "[*********************100%%**********************]  1 of 1 completed\n",
      "[*********************100%%**********************]  1 of 1 completed\n",
      "c:\\Users\\GRAYBILLKB20\\OneDrive - Grove City College\\Sophomore Year\\FinanceData\\FinanceData\\FinanceDataHelper.py:102: FutureWarning: The behavior of DataFrame concatenation with empty or all-NA entries is deprecated. In a future version, this will no longer exclude empty or all-NA columns when determining the result dtypes. To retain the old behavior, exclude the relevant entries before the concat operation.\n",
      "  return new_append_df if output_df is None else pd.concat([output_df,new_append_df])\n"
     ]
    },
    {
     "name": "stdout",
     "output_type": "stream",
     "text": [
      "342\n"
     ]
    },
    {
     "name": "stderr",
     "output_type": "stream",
     "text": [
      "[*********************100%%**********************]  1 of 1 completed\n",
      "[*********************100%%**********************]  1 of 1 completed\n",
      "[*********************100%%**********************]  1 of 1 completed\n",
      "[*********************100%%**********************]  1 of 1 completed\n",
      "[*********************100%%**********************]  1 of 1 completed\n",
      "c:\\Users\\GRAYBILLKB20\\OneDrive - Grove City College\\Sophomore Year\\FinanceData\\FinanceData\\FinanceDataHelper.py:102: FutureWarning: The behavior of DataFrame concatenation with empty or all-NA entries is deprecated. In a future version, this will no longer exclude empty or all-NA columns when determining the result dtypes. To retain the old behavior, exclude the relevant entries before the concat operation.\n",
      "  return new_append_df if output_df is None else pd.concat([output_df,new_append_df])\n"
     ]
    },
    {
     "name": "stdout",
     "output_type": "stream",
     "text": [
      "343\n"
     ]
    },
    {
     "name": "stderr",
     "output_type": "stream",
     "text": [
      "[*********************100%%**********************]  1 of 1 completed\n",
      "[*********************100%%**********************]  1 of 1 completed\n",
      "[*********************100%%**********************]  1 of 1 completed\n",
      "[*********************100%%**********************]  1 of 1 completed\n",
      "[*********************100%%**********************]  1 of 1 completed\n",
      "c:\\Users\\GRAYBILLKB20\\OneDrive - Grove City College\\Sophomore Year\\FinanceData\\FinanceData\\FinanceDataHelper.py:102: FutureWarning: The behavior of DataFrame concatenation with empty or all-NA entries is deprecated. In a future version, this will no longer exclude empty or all-NA columns when determining the result dtypes. To retain the old behavior, exclude the relevant entries before the concat operation.\n",
      "  return new_append_df if output_df is None else pd.concat([output_df,new_append_df])\n"
     ]
    },
    {
     "name": "stdout",
     "output_type": "stream",
     "text": [
      "Index error retrieving data for NOC stock on 2024-11-04 00:00:00: single positional indexer is out-of-bounds\n",
      "344\n"
     ]
    },
    {
     "name": "stderr",
     "output_type": "stream",
     "text": [
      "[*********************100%%**********************]  1 of 1 completed\n",
      "[*********************100%%**********************]  1 of 1 completed\n",
      "[*********************100%%**********************]  1 of 1 completed\n",
      "[*********************100%%**********************]  1 of 1 completed\n",
      "[*********************100%%**********************]  1 of 1 completed\n",
      "c:\\Users\\GRAYBILLKB20\\OneDrive - Grove City College\\Sophomore Year\\FinanceData\\FinanceData\\FinanceDataHelper.py:102: FutureWarning: The behavior of DataFrame concatenation with empty or all-NA entries is deprecated. In a future version, this will no longer exclude empty or all-NA columns when determining the result dtypes. To retain the old behavior, exclude the relevant entries before the concat operation.\n",
      "  return new_append_df if output_df is None else pd.concat([output_df,new_append_df])\n"
     ]
    },
    {
     "name": "stdout",
     "output_type": "stream",
     "text": [
      "345\n"
     ]
    },
    {
     "name": "stderr",
     "output_type": "stream",
     "text": [
      "[*********************100%%**********************]  1 of 1 completed\n",
      "[*********************100%%**********************]  1 of 1 completed\n",
      "[*********************100%%**********************]  1 of 1 completed\n",
      "[*********************100%%**********************]  1 of 1 completed\n",
      "[*********************100%%**********************]  1 of 1 completed\n",
      "c:\\Users\\GRAYBILLKB20\\OneDrive - Grove City College\\Sophomore Year\\FinanceData\\FinanceData\\FinanceDataHelper.py:102: FutureWarning: The behavior of DataFrame concatenation with empty or all-NA entries is deprecated. In a future version, this will no longer exclude empty or all-NA columns when determining the result dtypes. To retain the old behavior, exclude the relevant entries before the concat operation.\n",
      "  return new_append_df if output_df is None else pd.concat([output_df,new_append_df])\n"
     ]
    },
    {
     "name": "stdout",
     "output_type": "stream",
     "text": [
      "346\n"
     ]
    },
    {
     "name": "stderr",
     "output_type": "stream",
     "text": [
      "[*********************100%%**********************]  1 of 1 completed\n",
      "[*********************100%%**********************]  1 of 1 completed\n",
      "[*********************100%%**********************]  1 of 1 completed\n",
      "[*********************100%%**********************]  1 of 1 completed\n",
      "[*********************100%%**********************]  1 of 1 completed\n",
      "c:\\Users\\GRAYBILLKB20\\OneDrive - Grove City College\\Sophomore Year\\FinanceData\\FinanceData\\FinanceDataHelper.py:102: FutureWarning: The behavior of DataFrame concatenation with empty or all-NA entries is deprecated. In a future version, this will no longer exclude empty or all-NA columns when determining the result dtypes. To retain the old behavior, exclude the relevant entries before the concat operation.\n",
      "  return new_append_df if output_df is None else pd.concat([output_df,new_append_df])\n"
     ]
    },
    {
     "name": "stdout",
     "output_type": "stream",
     "text": [
      "347\n"
     ]
    },
    {
     "name": "stderr",
     "output_type": "stream",
     "text": [
      "[*********************100%%**********************]  1 of 1 completed\n",
      "[*********************100%%**********************]  1 of 1 completed\n",
      "[*********************100%%**********************]  1 of 1 completed\n",
      "[*********************100%%**********************]  1 of 1 completed\n",
      "[*********************100%%**********************]  1 of 1 completed\n",
      "c:\\Users\\GRAYBILLKB20\\OneDrive - Grove City College\\Sophomore Year\\FinanceData\\FinanceData\\FinanceDataHelper.py:102: FutureWarning: The behavior of DataFrame concatenation with empty or all-NA entries is deprecated. In a future version, this will no longer exclude empty or all-NA columns when determining the result dtypes. To retain the old behavior, exclude the relevant entries before the concat operation.\n",
      "  return new_append_df if output_df is None else pd.concat([output_df,new_append_df])\n"
     ]
    },
    {
     "name": "stdout",
     "output_type": "stream",
     "text": [
      "348\n"
     ]
    },
    {
     "name": "stderr",
     "output_type": "stream",
     "text": [
      "[*********************100%%**********************]  1 of 1 completed\n",
      "[*********************100%%**********************]  1 of 1 completed\n",
      "[*********************100%%**********************]  1 of 1 completed\n",
      "[*********************100%%**********************]  1 of 1 completed\n",
      "[*********************100%%**********************]  1 of 1 completed\n",
      "c:\\Users\\GRAYBILLKB20\\OneDrive - Grove City College\\Sophomore Year\\FinanceData\\FinanceData\\FinanceDataHelper.py:102: FutureWarning: The behavior of DataFrame concatenation with empty or all-NA entries is deprecated. In a future version, this will no longer exclude empty or all-NA columns when determining the result dtypes. To retain the old behavior, exclude the relevant entries before the concat operation.\n",
      "  return new_append_df if output_df is None else pd.concat([output_df,new_append_df])\n"
     ]
    },
    {
     "name": "stdout",
     "output_type": "stream",
     "text": [
      "Index error retrieving data for NVR stock on 2024-11-11 00:00:00: single positional indexer is out-of-bounds\n",
      "Index error retrieving data for NVR stock on 2024-11-08 00:00:00: single positional indexer is out-of-bounds\n",
      "Index error retrieving data for NVR stock on 2024-11-07 00:00:00: single positional indexer is out-of-bounds\n",
      "Index error retrieving data for NVR stock on 2024-11-06 00:00:00: single positional indexer is out-of-bounds\n",
      "Index error retrieving data for NVR stock on 2024-11-05 00:00:00: single positional indexer is out-of-bounds\n",
      "Index error retrieving data for NVR stock on 2024-11-04 00:00:00: single positional indexer is out-of-bounds\n",
      "349\n"
     ]
    },
    {
     "name": "stderr",
     "output_type": "stream",
     "text": [
      "[*********************100%%**********************]  1 of 1 completed\n",
      "[*********************100%%**********************]  1 of 1 completed\n",
      "[*********************100%%**********************]  1 of 1 completed\n",
      "[*********************100%%**********************]  1 of 1 completed\n",
      "[*********************100%%**********************]  1 of 1 completed\n",
      "c:\\Users\\GRAYBILLKB20\\OneDrive - Grove City College\\Sophomore Year\\FinanceData\\FinanceData\\FinanceDataHelper.py:102: FutureWarning: The behavior of DataFrame concatenation with empty or all-NA entries is deprecated. In a future version, this will no longer exclude empty or all-NA columns when determining the result dtypes. To retain the old behavior, exclude the relevant entries before the concat operation.\n",
      "  return new_append_df if output_df is None else pd.concat([output_df,new_append_df])\n"
     ]
    },
    {
     "name": "stdout",
     "output_type": "stream",
     "text": [
      "350\n"
     ]
    },
    {
     "name": "stderr",
     "output_type": "stream",
     "text": [
      "[*********************100%%**********************]  1 of 1 completed\n",
      "[*********************100%%**********************]  1 of 1 completed\n",
      "[*********************100%%**********************]  1 of 1 completed\n",
      "[*********************100%%**********************]  1 of 1 completed\n",
      "[*********************100%%**********************]  1 of 1 completed\n",
      "c:\\Users\\GRAYBILLKB20\\OneDrive - Grove City College\\Sophomore Year\\FinanceData\\FinanceData\\FinanceDataHelper.py:102: FutureWarning: The behavior of DataFrame concatenation with empty or all-NA entries is deprecated. In a future version, this will no longer exclude empty or all-NA columns when determining the result dtypes. To retain the old behavior, exclude the relevant entries before the concat operation.\n",
      "  return new_append_df if output_df is None else pd.concat([output_df,new_append_df])\n"
     ]
    },
    {
     "name": "stdout",
     "output_type": "stream",
     "text": [
      "Index error retrieving data for ORLY stock on 2024-11-05 00:00:00: single positional indexer is out-of-bounds\n",
      "Index error retrieving data for ORLY stock on 2024-11-04 00:00:00: single positional indexer is out-of-bounds\n",
      "351\n"
     ]
    },
    {
     "name": "stderr",
     "output_type": "stream",
     "text": [
      "[*********************100%%**********************]  1 of 1 completed\n",
      "[*********************100%%**********************]  1 of 1 completed\n",
      "[*********************100%%**********************]  1 of 1 completed\n",
      "[*********************100%%**********************]  1 of 1 completed\n",
      "[*********************100%%**********************]  1 of 1 completed\n",
      "c:\\Users\\GRAYBILLKB20\\OneDrive - Grove City College\\Sophomore Year\\FinanceData\\FinanceData\\FinanceDataHelper.py:102: FutureWarning: The behavior of DataFrame concatenation with empty or all-NA entries is deprecated. In a future version, this will no longer exclude empty or all-NA columns when determining the result dtypes. To retain the old behavior, exclude the relevant entries before the concat operation.\n",
      "  return new_append_df if output_df is None else pd.concat([output_df,new_append_df])\n"
     ]
    },
    {
     "name": "stdout",
     "output_type": "stream",
     "text": [
      "352\n"
     ]
    },
    {
     "name": "stderr",
     "output_type": "stream",
     "text": [
      "[*********************100%%**********************]  1 of 1 completed\n",
      "[*********************100%%**********************]  1 of 1 completed\n",
      "[*********************100%%**********************]  1 of 1 completed\n",
      "[*********************100%%**********************]  1 of 1 completed\n",
      "[*********************100%%**********************]  1 of 1 completed\n",
      "c:\\Users\\GRAYBILLKB20\\OneDrive - Grove City College\\Sophomore Year\\FinanceData\\FinanceData\\FinanceDataHelper.py:102: FutureWarning: The behavior of DataFrame concatenation with empty or all-NA entries is deprecated. In a future version, this will no longer exclude empty or all-NA columns when determining the result dtypes. To retain the old behavior, exclude the relevant entries before the concat operation.\n",
      "  return new_append_df if output_df is None else pd.concat([output_df,new_append_df])\n"
     ]
    },
    {
     "name": "stdout",
     "output_type": "stream",
     "text": [
      "353\n"
     ]
    },
    {
     "name": "stderr",
     "output_type": "stream",
     "text": [
      "[*********************100%%**********************]  1 of 1 completed\n",
      "[*********************100%%**********************]  1 of 1 completed\n",
      "[*********************100%%**********************]  1 of 1 completed\n",
      "[*********************100%%**********************]  1 of 1 completed\n",
      "[*********************100%%**********************]  1 of 1 completed\n",
      "c:\\Users\\GRAYBILLKB20\\OneDrive - Grove City College\\Sophomore Year\\FinanceData\\FinanceData\\FinanceDataHelper.py:102: FutureWarning: The behavior of DataFrame concatenation with empty or all-NA entries is deprecated. In a future version, this will no longer exclude empty or all-NA columns when determining the result dtypes. To retain the old behavior, exclude the relevant entries before the concat operation.\n",
      "  return new_append_df if output_df is None else pd.concat([output_df,new_append_df])\n"
     ]
    },
    {
     "name": "stdout",
     "output_type": "stream",
     "text": [
      "354\n"
     ]
    },
    {
     "name": "stderr",
     "output_type": "stream",
     "text": [
      "[*********************100%%**********************]  1 of 1 completed\n",
      "[*********************100%%**********************]  1 of 1 completed\n",
      "[*********************100%%**********************]  1 of 1 completed\n",
      "[*********************100%%**********************]  1 of 1 completed\n",
      "[*********************100%%**********************]  1 of 1 completed\n",
      "c:\\Users\\GRAYBILLKB20\\OneDrive - Grove City College\\Sophomore Year\\FinanceData\\FinanceData\\FinanceDataHelper.py:102: FutureWarning: The behavior of DataFrame concatenation with empty or all-NA entries is deprecated. In a future version, this will no longer exclude empty or all-NA columns when determining the result dtypes. To retain the old behavior, exclude the relevant entries before the concat operation.\n",
      "  return new_append_df if output_df is None else pd.concat([output_df,new_append_df])\n"
     ]
    },
    {
     "name": "stdout",
     "output_type": "stream",
     "text": [
      "355\n"
     ]
    },
    {
     "name": "stderr",
     "output_type": "stream",
     "text": [
      "[*********************100%%**********************]  1 of 1 completed\n",
      "[*********************100%%**********************]  1 of 1 completed\n",
      "[*********************100%%**********************]  1 of 1 completed\n",
      "[*********************100%%**********************]  1 of 1 completed\n",
      "[*********************100%%**********************]  1 of 1 completed\n",
      "c:\\Users\\GRAYBILLKB20\\OneDrive - Grove City College\\Sophomore Year\\FinanceData\\FinanceData\\FinanceDataHelper.py:102: FutureWarning: The behavior of DataFrame concatenation with empty or all-NA entries is deprecated. In a future version, this will no longer exclude empty or all-NA columns when determining the result dtypes. To retain the old behavior, exclude the relevant entries before the concat operation.\n",
      "  return new_append_df if output_df is None else pd.concat([output_df,new_append_df])\n"
     ]
    },
    {
     "name": "stdout",
     "output_type": "stream",
     "text": [
      "356\n"
     ]
    },
    {
     "name": "stderr",
     "output_type": "stream",
     "text": [
      "[*********************100%%**********************]  1 of 1 completed\n",
      "[*********************100%%**********************]  1 of 1 completed\n",
      "[*********************100%%**********************]  1 of 1 completed\n",
      "[*********************100%%**********************]  1 of 1 completed\n",
      "[*********************100%%**********************]  1 of 1 completed\n",
      "c:\\Users\\GRAYBILLKB20\\OneDrive - Grove City College\\Sophomore Year\\FinanceData\\FinanceData\\FinanceDataHelper.py:102: FutureWarning: The behavior of DataFrame concatenation with empty or all-NA entries is deprecated. In a future version, this will no longer exclude empty or all-NA columns when determining the result dtypes. To retain the old behavior, exclude the relevant entries before the concat operation.\n",
      "  return new_append_df if output_df is None else pd.concat([output_df,new_append_df])\n"
     ]
    },
    {
     "name": "stdout",
     "output_type": "stream",
     "text": [
      "357\n"
     ]
    },
    {
     "name": "stderr",
     "output_type": "stream",
     "text": [
      "[*********************100%%**********************]  1 of 1 completed\n",
      "[*********************100%%**********************]  1 of 1 completed\n",
      "[*********************100%%**********************]  1 of 1 completed\n",
      "[*********************100%%**********************]  1 of 1 completed\n",
      "[*********************100%%**********************]  1 of 1 completed\n",
      "c:\\Users\\GRAYBILLKB20\\OneDrive - Grove City College\\Sophomore Year\\FinanceData\\FinanceData\\FinanceDataHelper.py:102: FutureWarning: The behavior of DataFrame concatenation with empty or all-NA entries is deprecated. In a future version, this will no longer exclude empty or all-NA columns when determining the result dtypes. To retain the old behavior, exclude the relevant entries before the concat operation.\n",
      "  return new_append_df if output_df is None else pd.concat([output_df,new_append_df])\n"
     ]
    },
    {
     "name": "stdout",
     "output_type": "stream",
     "text": [
      "358\n"
     ]
    },
    {
     "name": "stderr",
     "output_type": "stream",
     "text": [
      "[*********************100%%**********************]  1 of 1 completed\n",
      "[*********************100%%**********************]  1 of 1 completed\n",
      "[*********************100%%**********************]  1 of 1 completed\n",
      "[*********************100%%**********************]  1 of 1 completed\n",
      "[*********************100%%**********************]  1 of 1 completed\n",
      "c:\\Users\\GRAYBILLKB20\\OneDrive - Grove City College\\Sophomore Year\\FinanceData\\FinanceData\\FinanceDataHelper.py:102: FutureWarning: The behavior of DataFrame concatenation with empty or all-NA entries is deprecated. In a future version, this will no longer exclude empty or all-NA columns when determining the result dtypes. To retain the old behavior, exclude the relevant entries before the concat operation.\n",
      "  return new_append_df if output_df is None else pd.concat([output_df,new_append_df])\n"
     ]
    },
    {
     "name": "stdout",
     "output_type": "stream",
     "text": [
      "359\n"
     ]
    },
    {
     "name": "stderr",
     "output_type": "stream",
     "text": [
      "[*********************100%%**********************]  1 of 1 completed\n",
      "[*********************100%%**********************]  1 of 1 completed\n",
      "[*********************100%%**********************]  1 of 1 completed\n",
      "[*********************100%%**********************]  1 of 1 completed\n",
      "[*********************100%%**********************]  1 of 1 completed\n",
      "c:\\Users\\GRAYBILLKB20\\OneDrive - Grove City College\\Sophomore Year\\FinanceData\\FinanceData\\FinanceDataHelper.py:102: FutureWarning: The behavior of DataFrame concatenation with empty or all-NA entries is deprecated. In a future version, this will no longer exclude empty or all-NA columns when determining the result dtypes. To retain the old behavior, exclude the relevant entries before the concat operation.\n",
      "  return new_append_df if output_df is None else pd.concat([output_df,new_append_df])\n"
     ]
    },
    {
     "name": "stdout",
     "output_type": "stream",
     "text": [
      "Index error retrieving data for PKG stock on 2024-11-04 00:00:00: single positional indexer is out-of-bounds\n",
      "360\n"
     ]
    },
    {
     "name": "stderr",
     "output_type": "stream",
     "text": [
      "[*********************100%%**********************]  1 of 1 completed\n",
      "[*********************100%%**********************]  1 of 1 completed\n",
      "[*********************100%%**********************]  1 of 1 completed\n",
      "[*********************100%%**********************]  1 of 1 completed\n",
      "[*********************100%%**********************]  1 of 1 completed\n",
      "c:\\Users\\GRAYBILLKB20\\OneDrive - Grove City College\\Sophomore Year\\FinanceData\\FinanceData\\FinanceDataHelper.py:102: FutureWarning: The behavior of DataFrame concatenation with empty or all-NA entries is deprecated. In a future version, this will no longer exclude empty or all-NA columns when determining the result dtypes. To retain the old behavior, exclude the relevant entries before the concat operation.\n",
      "  return new_append_df if output_df is None else pd.concat([output_df,new_append_df])\n"
     ]
    },
    {
     "name": "stdout",
     "output_type": "stream",
     "text": [
      "361\n"
     ]
    },
    {
     "name": "stderr",
     "output_type": "stream",
     "text": [
      "[*********************100%%**********************]  1 of 1 completed\n",
      "[*********************100%%**********************]  1 of 1 completed\n",
      "[*********************100%%**********************]  1 of 1 completed\n",
      "[*********************100%%**********************]  1 of 1 completed\n",
      "[*********************100%%**********************]  1 of 1 completed\n",
      "c:\\Users\\GRAYBILLKB20\\OneDrive - Grove City College\\Sophomore Year\\FinanceData\\FinanceData\\FinanceDataHelper.py:102: FutureWarning: The behavior of DataFrame concatenation with empty or all-NA entries is deprecated. In a future version, this will no longer exclude empty or all-NA columns when determining the result dtypes. To retain the old behavior, exclude the relevant entries before the concat operation.\n",
      "  return new_append_df if output_df is None else pd.concat([output_df,new_append_df])\n"
     ]
    },
    {
     "name": "stdout",
     "output_type": "stream",
     "text": [
      "362\n"
     ]
    },
    {
     "name": "stderr",
     "output_type": "stream",
     "text": [
      "[*********************100%%**********************]  1 of 1 completed\n",
      "[*********************100%%**********************]  1 of 1 completed\n",
      "[*********************100%%**********************]  1 of 1 completed\n",
      "[*********************100%%**********************]  1 of 1 completed\n",
      "[*********************100%%**********************]  1 of 1 completed\n",
      "c:\\Users\\GRAYBILLKB20\\OneDrive - Grove City College\\Sophomore Year\\FinanceData\\FinanceData\\FinanceDataHelper.py:102: FutureWarning: The behavior of DataFrame concatenation with empty or all-NA entries is deprecated. In a future version, this will no longer exclude empty or all-NA columns when determining the result dtypes. To retain the old behavior, exclude the relevant entries before the concat operation.\n",
      "  return new_append_df if output_df is None else pd.concat([output_df,new_append_df])\n"
     ]
    },
    {
     "name": "stdout",
     "output_type": "stream",
     "text": [
      "363\n"
     ]
    },
    {
     "name": "stderr",
     "output_type": "stream",
     "text": [
      "[*********************100%%**********************]  1 of 1 completed\n",
      "[*********************100%%**********************]  1 of 1 completed\n",
      "[*********************100%%**********************]  1 of 1 completed\n",
      "[*********************100%%**********************]  1 of 1 completed\n",
      "[*********************100%%**********************]  1 of 1 completed\n",
      "c:\\Users\\GRAYBILLKB20\\OneDrive - Grove City College\\Sophomore Year\\FinanceData\\FinanceData\\FinanceDataHelper.py:102: FutureWarning: The behavior of DataFrame concatenation with empty or all-NA entries is deprecated. In a future version, this will no longer exclude empty or all-NA columns when determining the result dtypes. To retain the old behavior, exclude the relevant entries before the concat operation.\n",
      "  return new_append_df if output_df is None else pd.concat([output_df,new_append_df])\n"
     ]
    },
    {
     "name": "stdout",
     "output_type": "stream",
     "text": [
      "364\n"
     ]
    },
    {
     "name": "stderr",
     "output_type": "stream",
     "text": [
      "[*********************100%%**********************]  1 of 1 completed\n",
      "[*********************100%%**********************]  1 of 1 completed\n",
      "[*********************100%%**********************]  1 of 1 completed\n",
      "[*********************100%%**********************]  1 of 1 completed\n",
      "[*********************100%%**********************]  1 of 1 completed\n",
      "c:\\Users\\GRAYBILLKB20\\OneDrive - Grove City College\\Sophomore Year\\FinanceData\\FinanceData\\FinanceDataHelper.py:102: FutureWarning: The behavior of DataFrame concatenation with empty or all-NA entries is deprecated. In a future version, this will no longer exclude empty or all-NA columns when determining the result dtypes. To retain the old behavior, exclude the relevant entries before the concat operation.\n",
      "  return new_append_df if output_df is None else pd.concat([output_df,new_append_df])\n"
     ]
    },
    {
     "name": "stdout",
     "output_type": "stream",
     "text": [
      "365\n"
     ]
    },
    {
     "name": "stderr",
     "output_type": "stream",
     "text": [
      "[*********************100%%**********************]  1 of 1 completed\n",
      "[*********************100%%**********************]  1 of 1 completed\n",
      "[*********************100%%**********************]  1 of 1 completed\n",
      "[*********************100%%**********************]  1 of 1 completed\n",
      "[*********************100%%**********************]  1 of 1 completed\n",
      "c:\\Users\\GRAYBILLKB20\\OneDrive - Grove City College\\Sophomore Year\\FinanceData\\FinanceData\\FinanceDataHelper.py:102: FutureWarning: The behavior of DataFrame concatenation with empty or all-NA entries is deprecated. In a future version, this will no longer exclude empty or all-NA columns when determining the result dtypes. To retain the old behavior, exclude the relevant entries before the concat operation.\n",
      "  return new_append_df if output_df is None else pd.concat([output_df,new_append_df])\n"
     ]
    },
    {
     "name": "stdout",
     "output_type": "stream",
     "text": [
      "366\n"
     ]
    },
    {
     "name": "stderr",
     "output_type": "stream",
     "text": [
      "[*********************100%%**********************]  1 of 1 completed\n",
      "[*********************100%%**********************]  1 of 1 completed\n",
      "[*********************100%%**********************]  1 of 1 completed\n",
      "[*********************100%%**********************]  1 of 1 completed\n",
      "[*********************100%%**********************]  1 of 1 completed\n",
      "c:\\Users\\GRAYBILLKB20\\OneDrive - Grove City College\\Sophomore Year\\FinanceData\\FinanceData\\FinanceDataHelper.py:102: FutureWarning: The behavior of DataFrame concatenation with empty or all-NA entries is deprecated. In a future version, this will no longer exclude empty or all-NA columns when determining the result dtypes. To retain the old behavior, exclude the relevant entries before the concat operation.\n",
      "  return new_append_df if output_df is None else pd.concat([output_df,new_append_df])\n"
     ]
    },
    {
     "name": "stdout",
     "output_type": "stream",
     "text": [
      "367\n"
     ]
    },
    {
     "name": "stderr",
     "output_type": "stream",
     "text": [
      "[*********************100%%**********************]  1 of 1 completed\n",
      "[*********************100%%**********************]  1 of 1 completed\n",
      "[*********************100%%**********************]  1 of 1 completed\n",
      "[*********************100%%**********************]  1 of 1 completed\n",
      "[*********************100%%**********************]  1 of 1 completed\n",
      "c:\\Users\\GRAYBILLKB20\\OneDrive - Grove City College\\Sophomore Year\\FinanceData\\FinanceData\\FinanceDataHelper.py:102: FutureWarning: The behavior of DataFrame concatenation with empty or all-NA entries is deprecated. In a future version, this will no longer exclude empty or all-NA columns when determining the result dtypes. To retain the old behavior, exclude the relevant entries before the concat operation.\n",
      "  return new_append_df if output_df is None else pd.concat([output_df,new_append_df])\n"
     ]
    },
    {
     "name": "stdout",
     "output_type": "stream",
     "text": [
      "368\n"
     ]
    },
    {
     "name": "stderr",
     "output_type": "stream",
     "text": [
      "[*********************100%%**********************]  1 of 1 completed\n",
      "[*********************100%%**********************]  1 of 1 completed\n",
      "[*********************100%%**********************]  1 of 1 completed\n",
      "[*********************100%%**********************]  1 of 1 completed\n",
      "[*********************100%%**********************]  1 of 1 completed\n",
      "c:\\Users\\GRAYBILLKB20\\OneDrive - Grove City College\\Sophomore Year\\FinanceData\\FinanceData\\FinanceDataHelper.py:102: FutureWarning: The behavior of DataFrame concatenation with empty or all-NA entries is deprecated. In a future version, this will no longer exclude empty or all-NA columns when determining the result dtypes. To retain the old behavior, exclude the relevant entries before the concat operation.\n",
      "  return new_append_df if output_df is None else pd.concat([output_df,new_append_df])\n"
     ]
    },
    {
     "name": "stdout",
     "output_type": "stream",
     "text": [
      "369\n"
     ]
    },
    {
     "name": "stderr",
     "output_type": "stream",
     "text": [
      "[*********************100%%**********************]  1 of 1 completed\n",
      "[*********************100%%**********************]  1 of 1 completed\n",
      "[*********************100%%**********************]  1 of 1 completed\n",
      "[*********************100%%**********************]  1 of 1 completed\n",
      "[*********************100%%**********************]  1 of 1 completed\n",
      "c:\\Users\\GRAYBILLKB20\\OneDrive - Grove City College\\Sophomore Year\\FinanceData\\FinanceData\\FinanceDataHelper.py:102: FutureWarning: The behavior of DataFrame concatenation with empty or all-NA entries is deprecated. In a future version, this will no longer exclude empty or all-NA columns when determining the result dtypes. To retain the old behavior, exclude the relevant entries before the concat operation.\n",
      "  return new_append_df if output_df is None else pd.concat([output_df,new_append_df])\n"
     ]
    },
    {
     "name": "stdout",
     "output_type": "stream",
     "text": [
      "370\n"
     ]
    },
    {
     "name": "stderr",
     "output_type": "stream",
     "text": [
      "[*********************100%%**********************]  1 of 1 completed\n",
      "[*********************100%%**********************]  1 of 1 completed\n",
      "[*********************100%%**********************]  1 of 1 completed\n",
      "[*********************100%%**********************]  1 of 1 completed\n",
      "[*********************100%%**********************]  1 of 1 completed\n",
      "c:\\Users\\GRAYBILLKB20\\OneDrive - Grove City College\\Sophomore Year\\FinanceData\\FinanceData\\FinanceDataHelper.py:102: FutureWarning: The behavior of DataFrame concatenation with empty or all-NA entries is deprecated. In a future version, this will no longer exclude empty or all-NA columns when determining the result dtypes. To retain the old behavior, exclude the relevant entries before the concat operation.\n",
      "  return new_append_df if output_df is None else pd.concat([output_df,new_append_df])\n"
     ]
    },
    {
     "name": "stdout",
     "output_type": "stream",
     "text": [
      "371\n"
     ]
    },
    {
     "name": "stderr",
     "output_type": "stream",
     "text": [
      "[*********************100%%**********************]  1 of 1 completed\n",
      "[*********************100%%**********************]  1 of 1 completed\n",
      "[*********************100%%**********************]  1 of 1 completed\n",
      "[*********************100%%**********************]  1 of 1 completed\n",
      "[*********************100%%**********************]  1 of 1 completed\n",
      "c:\\Users\\GRAYBILLKB20\\OneDrive - Grove City College\\Sophomore Year\\FinanceData\\FinanceData\\FinanceDataHelper.py:102: FutureWarning: The behavior of DataFrame concatenation with empty or all-NA entries is deprecated. In a future version, this will no longer exclude empty or all-NA columns when determining the result dtypes. To retain the old behavior, exclude the relevant entries before the concat operation.\n",
      "  return new_append_df if output_df is None else pd.concat([output_df,new_append_df])\n"
     ]
    },
    {
     "name": "stdout",
     "output_type": "stream",
     "text": [
      "372\n"
     ]
    },
    {
     "name": "stderr",
     "output_type": "stream",
     "text": [
      "[*********************100%%**********************]  1 of 1 completed\n",
      "[*********************100%%**********************]  1 of 1 completed\n",
      "[*********************100%%**********************]  1 of 1 completed\n",
      "[*********************100%%**********************]  1 of 1 completed\n",
      "[*********************100%%**********************]  1 of 1 completed\n",
      "c:\\Users\\GRAYBILLKB20\\OneDrive - Grove City College\\Sophomore Year\\FinanceData\\FinanceData\\FinanceDataHelper.py:102: FutureWarning: The behavior of DataFrame concatenation with empty or all-NA entries is deprecated. In a future version, this will no longer exclude empty or all-NA columns when determining the result dtypes. To retain the old behavior, exclude the relevant entries before the concat operation.\n",
      "  return new_append_df if output_df is None else pd.concat([output_df,new_append_df])\n"
     ]
    },
    {
     "name": "stdout",
     "output_type": "stream",
     "text": [
      "373\n"
     ]
    },
    {
     "name": "stderr",
     "output_type": "stream",
     "text": [
      "[*********************100%%**********************]  1 of 1 completed\n",
      "[*********************100%%**********************]  1 of 1 completed\n",
      "[*********************100%%**********************]  1 of 1 completed\n",
      "[*********************100%%**********************]  1 of 1 completed\n",
      "[*********************100%%**********************]  1 of 1 completed\n",
      "c:\\Users\\GRAYBILLKB20\\OneDrive - Grove City College\\Sophomore Year\\FinanceData\\FinanceData\\FinanceDataHelper.py:102: FutureWarning: The behavior of DataFrame concatenation with empty or all-NA entries is deprecated. In a future version, this will no longer exclude empty or all-NA columns when determining the result dtypes. To retain the old behavior, exclude the relevant entries before the concat operation.\n",
      "  return new_append_df if output_df is None else pd.concat([output_df,new_append_df])\n"
     ]
    },
    {
     "name": "stdout",
     "output_type": "stream",
     "text": [
      "374\n"
     ]
    },
    {
     "name": "stderr",
     "output_type": "stream",
     "text": [
      "[*********************100%%**********************]  1 of 1 completed\n",
      "[*********************100%%**********************]  1 of 1 completed\n",
      "[*********************100%%**********************]  1 of 1 completed\n",
      "[*********************100%%**********************]  1 of 1 completed\n",
      "[*********************100%%**********************]  1 of 1 completed\n",
      "c:\\Users\\GRAYBILLKB20\\OneDrive - Grove City College\\Sophomore Year\\FinanceData\\FinanceData\\FinanceDataHelper.py:102: FutureWarning: The behavior of DataFrame concatenation with empty or all-NA entries is deprecated. In a future version, this will no longer exclude empty or all-NA columns when determining the result dtypes. To retain the old behavior, exclude the relevant entries before the concat operation.\n",
      "  return new_append_df if output_df is None else pd.concat([output_df,new_append_df])\n"
     ]
    },
    {
     "name": "stdout",
     "output_type": "stream",
     "text": [
      "375\n"
     ]
    },
    {
     "name": "stderr",
     "output_type": "stream",
     "text": [
      "[*********************100%%**********************]  1 of 1 completed\n",
      "[*********************100%%**********************]  1 of 1 completed\n",
      "[*********************100%%**********************]  1 of 1 completed\n",
      "[*********************100%%**********************]  1 of 1 completed\n",
      "[*********************100%%**********************]  1 of 1 completed\n",
      "c:\\Users\\GRAYBILLKB20\\OneDrive - Grove City College\\Sophomore Year\\FinanceData\\FinanceData\\FinanceDataHelper.py:102: FutureWarning: The behavior of DataFrame concatenation with empty or all-NA entries is deprecated. In a future version, this will no longer exclude empty or all-NA columns when determining the result dtypes. To retain the old behavior, exclude the relevant entries before the concat operation.\n",
      "  return new_append_df if output_df is None else pd.concat([output_df,new_append_df])\n"
     ]
    },
    {
     "name": "stdout",
     "output_type": "stream",
     "text": [
      "Index error retrieving data for POOL stock on 2024-11-05 00:00:00: single positional indexer is out-of-bounds\n",
      "Index error retrieving data for POOL stock on 2024-11-04 00:00:00: single positional indexer is out-of-bounds\n",
      "376\n"
     ]
    },
    {
     "name": "stderr",
     "output_type": "stream",
     "text": [
      "[*********************100%%**********************]  1 of 1 completed\n",
      "[*********************100%%**********************]  1 of 1 completed\n",
      "[*********************100%%**********************]  1 of 1 completed\n",
      "[*********************100%%**********************]  1 of 1 completed\n",
      "[*********************100%%**********************]  1 of 1 completed\n",
      "c:\\Users\\GRAYBILLKB20\\OneDrive - Grove City College\\Sophomore Year\\FinanceData\\FinanceData\\FinanceDataHelper.py:102: FutureWarning: The behavior of DataFrame concatenation with empty or all-NA entries is deprecated. In a future version, this will no longer exclude empty or all-NA columns when determining the result dtypes. To retain the old behavior, exclude the relevant entries before the concat operation.\n",
      "  return new_append_df if output_df is None else pd.concat([output_df,new_append_df])\n"
     ]
    },
    {
     "name": "stdout",
     "output_type": "stream",
     "text": [
      "377\n"
     ]
    },
    {
     "name": "stderr",
     "output_type": "stream",
     "text": [
      "[*********************100%%**********************]  1 of 1 completed\n",
      "[*********************100%%**********************]  1 of 1 completed\n",
      "[*********************100%%**********************]  1 of 1 completed\n",
      "[*********************100%%**********************]  1 of 1 completed\n",
      "[*********************100%%**********************]  1 of 1 completed\n",
      "c:\\Users\\GRAYBILLKB20\\OneDrive - Grove City College\\Sophomore Year\\FinanceData\\FinanceData\\FinanceDataHelper.py:102: FutureWarning: The behavior of DataFrame concatenation with empty or all-NA entries is deprecated. In a future version, this will no longer exclude empty or all-NA columns when determining the result dtypes. To retain the old behavior, exclude the relevant entries before the concat operation.\n",
      "  return new_append_df if output_df is None else pd.concat([output_df,new_append_df])\n"
     ]
    },
    {
     "name": "stdout",
     "output_type": "stream",
     "text": [
      "378\n"
     ]
    },
    {
     "name": "stderr",
     "output_type": "stream",
     "text": [
      "[*********************100%%**********************]  1 of 1 completed\n",
      "[*********************100%%**********************]  1 of 1 completed\n",
      "[*********************100%%**********************]  1 of 1 completed\n",
      "[*********************100%%**********************]  1 of 1 completed\n",
      "[*********************100%%**********************]  1 of 1 completed\n",
      "c:\\Users\\GRAYBILLKB20\\OneDrive - Grove City College\\Sophomore Year\\FinanceData\\FinanceData\\FinanceDataHelper.py:102: FutureWarning: The behavior of DataFrame concatenation with empty or all-NA entries is deprecated. In a future version, this will no longer exclude empty or all-NA columns when determining the result dtypes. To retain the old behavior, exclude the relevant entries before the concat operation.\n",
      "  return new_append_df if output_df is None else pd.concat([output_df,new_append_df])\n"
     ]
    },
    {
     "name": "stdout",
     "output_type": "stream",
     "text": [
      "379\n"
     ]
    },
    {
     "name": "stderr",
     "output_type": "stream",
     "text": [
      "[*********************100%%**********************]  1 of 1 completed\n",
      "[*********************100%%**********************]  1 of 1 completed\n",
      "[*********************100%%**********************]  1 of 1 completed\n",
      "[*********************100%%**********************]  1 of 1 completed\n",
      "[*********************100%%**********************]  1 of 1 completed\n",
      "c:\\Users\\GRAYBILLKB20\\OneDrive - Grove City College\\Sophomore Year\\FinanceData\\FinanceData\\FinanceDataHelper.py:102: FutureWarning: The behavior of DataFrame concatenation with empty or all-NA entries is deprecated. In a future version, this will no longer exclude empty or all-NA columns when determining the result dtypes. To retain the old behavior, exclude the relevant entries before the concat operation.\n",
      "  return new_append_df if output_df is None else pd.concat([output_df,new_append_df])\n"
     ]
    },
    {
     "name": "stdout",
     "output_type": "stream",
     "text": [
      "380\n"
     ]
    },
    {
     "name": "stderr",
     "output_type": "stream",
     "text": [
      "[*********************100%%**********************]  1 of 1 completed\n",
      "[*********************100%%**********************]  1 of 1 completed\n",
      "[*********************100%%**********************]  1 of 1 completed\n",
      "[*********************100%%**********************]  1 of 1 completed\n",
      "[*********************100%%**********************]  1 of 1 completed\n",
      "c:\\Users\\GRAYBILLKB20\\OneDrive - Grove City College\\Sophomore Year\\FinanceData\\FinanceData\\FinanceDataHelper.py:102: FutureWarning: The behavior of DataFrame concatenation with empty or all-NA entries is deprecated. In a future version, this will no longer exclude empty or all-NA columns when determining the result dtypes. To retain the old behavior, exclude the relevant entries before the concat operation.\n",
      "  return new_append_df if output_df is None else pd.concat([output_df,new_append_df])\n"
     ]
    },
    {
     "name": "stdout",
     "output_type": "stream",
     "text": [
      "381\n"
     ]
    },
    {
     "name": "stderr",
     "output_type": "stream",
     "text": [
      "[*********************100%%**********************]  1 of 1 completed\n",
      "[*********************100%%**********************]  1 of 1 completed\n",
      "[*********************100%%**********************]  1 of 1 completed\n",
      "[*********************100%%**********************]  1 of 1 completed\n",
      "[*********************100%%**********************]  1 of 1 completed\n",
      "c:\\Users\\GRAYBILLKB20\\OneDrive - Grove City College\\Sophomore Year\\FinanceData\\FinanceData\\FinanceDataHelper.py:102: FutureWarning: The behavior of DataFrame concatenation with empty or all-NA entries is deprecated. In a future version, this will no longer exclude empty or all-NA columns when determining the result dtypes. To retain the old behavior, exclude the relevant entries before the concat operation.\n",
      "  return new_append_df if output_df is None else pd.concat([output_df,new_append_df])\n"
     ]
    },
    {
     "name": "stdout",
     "output_type": "stream",
     "text": [
      "382\n"
     ]
    },
    {
     "name": "stderr",
     "output_type": "stream",
     "text": [
      "[*********************100%%**********************]  1 of 1 completed\n",
      "[*********************100%%**********************]  1 of 1 completed\n",
      "[*********************100%%**********************]  1 of 1 completed\n",
      "[*********************100%%**********************]  1 of 1 completed\n",
      "[*********************100%%**********************]  1 of 1 completed\n",
      "c:\\Users\\GRAYBILLKB20\\OneDrive - Grove City College\\Sophomore Year\\FinanceData\\FinanceData\\FinanceDataHelper.py:102: FutureWarning: The behavior of DataFrame concatenation with empty or all-NA entries is deprecated. In a future version, this will no longer exclude empty or all-NA columns when determining the result dtypes. To retain the old behavior, exclude the relevant entries before the concat operation.\n",
      "  return new_append_df if output_df is None else pd.concat([output_df,new_append_df])\n"
     ]
    },
    {
     "name": "stdout",
     "output_type": "stream",
     "text": [
      "383\n"
     ]
    },
    {
     "name": "stderr",
     "output_type": "stream",
     "text": [
      "[*********************100%%**********************]  1 of 1 completed\n",
      "[*********************100%%**********************]  1 of 1 completed\n",
      "[*********************100%%**********************]  1 of 1 completed\n",
      "[*********************100%%**********************]  1 of 1 completed\n",
      "[*********************100%%**********************]  1 of 1 completed\n",
      "c:\\Users\\GRAYBILLKB20\\OneDrive - Grove City College\\Sophomore Year\\FinanceData\\FinanceData\\FinanceDataHelper.py:102: FutureWarning: The behavior of DataFrame concatenation with empty or all-NA entries is deprecated. In a future version, this will no longer exclude empty or all-NA columns when determining the result dtypes. To retain the old behavior, exclude the relevant entries before the concat operation.\n",
      "  return new_append_df if output_df is None else pd.concat([output_df,new_append_df])\n"
     ]
    },
    {
     "name": "stdout",
     "output_type": "stream",
     "text": [
      "384\n"
     ]
    },
    {
     "name": "stderr",
     "output_type": "stream",
     "text": [
      "[*********************100%%**********************]  1 of 1 completed\n",
      "[*********************100%%**********************]  1 of 1 completed\n",
      "[*********************100%%**********************]  1 of 1 completed\n",
      "[*********************100%%**********************]  1 of 1 completed\n",
      "[*********************100%%**********************]  1 of 1 completed\n",
      "c:\\Users\\GRAYBILLKB20\\OneDrive - Grove City College\\Sophomore Year\\FinanceData\\FinanceData\\FinanceDataHelper.py:102: FutureWarning: The behavior of DataFrame concatenation with empty or all-NA entries is deprecated. In a future version, this will no longer exclude empty or all-NA columns when determining the result dtypes. To retain the old behavior, exclude the relevant entries before the concat operation.\n",
      "  return new_append_df if output_df is None else pd.concat([output_df,new_append_df])\n"
     ]
    },
    {
     "name": "stdout",
     "output_type": "stream",
     "text": [
      "Index error retrieving data for PTC stock on 2024-11-04 00:00:00: single positional indexer is out-of-bounds\n",
      "385\n"
     ]
    },
    {
     "name": "stderr",
     "output_type": "stream",
     "text": [
      "[*********************100%%**********************]  1 of 1 completed\n",
      "[*********************100%%**********************]  1 of 1 completed\n",
      "[*********************100%%**********************]  1 of 1 completed\n",
      "[*********************100%%**********************]  1 of 1 completed\n",
      "[*********************100%%**********************]  1 of 1 completed\n",
      "c:\\Users\\GRAYBILLKB20\\OneDrive - Grove City College\\Sophomore Year\\FinanceData\\FinanceData\\FinanceDataHelper.py:102: FutureWarning: The behavior of DataFrame concatenation with empty or all-NA entries is deprecated. In a future version, this will no longer exclude empty or all-NA columns when determining the result dtypes. To retain the old behavior, exclude the relevant entries before the concat operation.\n",
      "  return new_append_df if output_df is None else pd.concat([output_df,new_append_df])\n"
     ]
    },
    {
     "name": "stdout",
     "output_type": "stream",
     "text": [
      "386\n"
     ]
    },
    {
     "name": "stderr",
     "output_type": "stream",
     "text": [
      "[*********************100%%**********************]  1 of 1 completed\n",
      "[*********************100%%**********************]  1 of 1 completed\n",
      "[*********************100%%**********************]  1 of 1 completed\n",
      "[*********************100%%**********************]  1 of 1 completed\n",
      "[*********************100%%**********************]  1 of 1 completed\n",
      "c:\\Users\\GRAYBILLKB20\\OneDrive - Grove City College\\Sophomore Year\\FinanceData\\FinanceData\\FinanceDataHelper.py:102: FutureWarning: The behavior of DataFrame concatenation with empty or all-NA entries is deprecated. In a future version, this will no longer exclude empty or all-NA columns when determining the result dtypes. To retain the old behavior, exclude the relevant entries before the concat operation.\n",
      "  return new_append_df if output_df is None else pd.concat([output_df,new_append_df])\n"
     ]
    },
    {
     "name": "stdout",
     "output_type": "stream",
     "text": [
      "387\n"
     ]
    },
    {
     "name": "stderr",
     "output_type": "stream",
     "text": [
      "[*********************100%%**********************]  1 of 1 completed\n",
      "[*********************100%%**********************]  1 of 1 completed\n",
      "[*********************100%%**********************]  1 of 1 completed\n",
      "[*********************100%%**********************]  1 of 1 completed\n",
      "[*********************100%%**********************]  1 of 1 completed\n",
      "c:\\Users\\GRAYBILLKB20\\OneDrive - Grove City College\\Sophomore Year\\FinanceData\\FinanceData\\FinanceDataHelper.py:102: FutureWarning: The behavior of DataFrame concatenation with empty or all-NA entries is deprecated. In a future version, this will no longer exclude empty or all-NA columns when determining the result dtypes. To retain the old behavior, exclude the relevant entries before the concat operation.\n",
      "  return new_append_df if output_df is None else pd.concat([output_df,new_append_df])\n"
     ]
    },
    {
     "name": "stdout",
     "output_type": "stream",
     "text": [
      "388\n"
     ]
    },
    {
     "name": "stderr",
     "output_type": "stream",
     "text": [
      "[*********************100%%**********************]  1 of 1 completed\n",
      "[*********************100%%**********************]  1 of 1 completed\n",
      "[*********************100%%**********************]  1 of 1 completed\n",
      "[*********************100%%**********************]  1 of 1 completed\n",
      "[*********************100%%**********************]  1 of 1 completed\n",
      "c:\\Users\\GRAYBILLKB20\\OneDrive - Grove City College\\Sophomore Year\\FinanceData\\FinanceData\\FinanceDataHelper.py:102: FutureWarning: The behavior of DataFrame concatenation with empty or all-NA entries is deprecated. In a future version, this will no longer exclude empty or all-NA columns when determining the result dtypes. To retain the old behavior, exclude the relevant entries before the concat operation.\n",
      "  return new_append_df if output_df is None else pd.concat([output_df,new_append_df])\n"
     ]
    },
    {
     "name": "stdout",
     "output_type": "stream",
     "text": [
      "389\n"
     ]
    },
    {
     "name": "stderr",
     "output_type": "stream",
     "text": [
      "[*********************100%%**********************]  1 of 1 completed\n",
      "[*********************100%%**********************]  1 of 1 completed\n",
      "[*********************100%%**********************]  1 of 1 completed\n",
      "[*********************100%%**********************]  1 of 1 completed\n",
      "[*********************100%%**********************]  1 of 1 completed\n",
      "c:\\Users\\GRAYBILLKB20\\OneDrive - Grove City College\\Sophomore Year\\FinanceData\\FinanceData\\FinanceDataHelper.py:102: FutureWarning: The behavior of DataFrame concatenation with empty or all-NA entries is deprecated. In a future version, this will no longer exclude empty or all-NA columns when determining the result dtypes. To retain the old behavior, exclude the relevant entries before the concat operation.\n",
      "  return new_append_df if output_df is None else pd.concat([output_df,new_append_df])\n"
     ]
    },
    {
     "name": "stdout",
     "output_type": "stream",
     "text": [
      "390\n"
     ]
    },
    {
     "name": "stderr",
     "output_type": "stream",
     "text": [
      "[*********************100%%**********************]  1 of 1 completed\n",
      "[*********************100%%**********************]  1 of 1 completed\n",
      "[*********************100%%**********************]  1 of 1 completed\n",
      "[*********************100%%**********************]  1 of 1 completed\n",
      "[*********************100%%**********************]  1 of 1 completed\n",
      "c:\\Users\\GRAYBILLKB20\\OneDrive - Grove City College\\Sophomore Year\\FinanceData\\FinanceData\\FinanceDataHelper.py:102: FutureWarning: The behavior of DataFrame concatenation with empty or all-NA entries is deprecated. In a future version, this will no longer exclude empty or all-NA columns when determining the result dtypes. To retain the old behavior, exclude the relevant entries before the concat operation.\n",
      "  return new_append_df if output_df is None else pd.concat([output_df,new_append_df])\n"
     ]
    },
    {
     "name": "stdout",
     "output_type": "stream",
     "text": [
      "391\n"
     ]
    },
    {
     "name": "stderr",
     "output_type": "stream",
     "text": [
      "[*********************100%%**********************]  1 of 1 completed\n",
      "[*********************100%%**********************]  1 of 1 completed\n",
      "[*********************100%%**********************]  1 of 1 completed\n",
      "[*********************100%%**********************]  1 of 1 completed\n",
      "[*********************100%%**********************]  1 of 1 completed\n",
      "c:\\Users\\GRAYBILLKB20\\OneDrive - Grove City College\\Sophomore Year\\FinanceData\\FinanceData\\FinanceDataHelper.py:102: FutureWarning: The behavior of DataFrame concatenation with empty or all-NA entries is deprecated. In a future version, this will no longer exclude empty or all-NA columns when determining the result dtypes. To retain the old behavior, exclude the relevant entries before the concat operation.\n",
      "  return new_append_df if output_df is None else pd.concat([output_df,new_append_df])\n"
     ]
    },
    {
     "name": "stdout",
     "output_type": "stream",
     "text": [
      "392\n"
     ]
    },
    {
     "name": "stderr",
     "output_type": "stream",
     "text": [
      "[*********************100%%**********************]  1 of 1 completed\n",
      "[*********************100%%**********************]  1 of 1 completed\n",
      "[*********************100%%**********************]  1 of 1 completed\n",
      "[*********************100%%**********************]  1 of 1 completed\n",
      "[*********************100%%**********************]  1 of 1 completed\n",
      "c:\\Users\\GRAYBILLKB20\\OneDrive - Grove City College\\Sophomore Year\\FinanceData\\FinanceData\\FinanceDataHelper.py:102: FutureWarning: The behavior of DataFrame concatenation with empty or all-NA entries is deprecated. In a future version, this will no longer exclude empty or all-NA columns when determining the result dtypes. To retain the old behavior, exclude the relevant entries before the concat operation.\n",
      "  return new_append_df if output_df is None else pd.concat([output_df,new_append_df])\n"
     ]
    },
    {
     "name": "stdout",
     "output_type": "stream",
     "text": [
      "393\n"
     ]
    },
    {
     "name": "stderr",
     "output_type": "stream",
     "text": [
      "[*********************100%%**********************]  1 of 1 completed\n",
      "[*********************100%%**********************]  1 of 1 completed\n",
      "[*********************100%%**********************]  1 of 1 completed\n",
      "[*********************100%%**********************]  1 of 1 completed\n",
      "[*********************100%%**********************]  1 of 1 completed\n",
      "c:\\Users\\GRAYBILLKB20\\OneDrive - Grove City College\\Sophomore Year\\FinanceData\\FinanceData\\FinanceDataHelper.py:102: FutureWarning: The behavior of DataFrame concatenation with empty or all-NA entries is deprecated. In a future version, this will no longer exclude empty or all-NA columns when determining the result dtypes. To retain the old behavior, exclude the relevant entries before the concat operation.\n",
      "  return new_append_df if output_df is None else pd.concat([output_df,new_append_df])\n"
     ]
    },
    {
     "name": "stdout",
     "output_type": "stream",
     "text": [
      "394\n"
     ]
    },
    {
     "name": "stderr",
     "output_type": "stream",
     "text": [
      "[*********************100%%**********************]  1 of 1 completed\n",
      "[*********************100%%**********************]  1 of 1 completed\n",
      "[*********************100%%**********************]  1 of 1 completed\n",
      "[*********************100%%**********************]  1 of 1 completed\n",
      "[*********************100%%**********************]  1 of 1 completed\n",
      "c:\\Users\\GRAYBILLKB20\\OneDrive - Grove City College\\Sophomore Year\\FinanceData\\FinanceData\\FinanceDataHelper.py:102: FutureWarning: The behavior of DataFrame concatenation with empty or all-NA entries is deprecated. In a future version, this will no longer exclude empty or all-NA columns when determining the result dtypes. To retain the old behavior, exclude the relevant entries before the concat operation.\n",
      "  return new_append_df if output_df is None else pd.concat([output_df,new_append_df])\n"
     ]
    },
    {
     "name": "stdout",
     "output_type": "stream",
     "text": [
      "395\n"
     ]
    },
    {
     "name": "stderr",
     "output_type": "stream",
     "text": [
      "[*********************100%%**********************]  1 of 1 completed\n",
      "[*********************100%%**********************]  1 of 1 completed\n",
      "[*********************100%%**********************]  1 of 1 completed\n",
      "[*********************100%%**********************]  1 of 1 completed\n",
      "[*********************100%%**********************]  1 of 1 completed\n",
      "c:\\Users\\GRAYBILLKB20\\OneDrive - Grove City College\\Sophomore Year\\FinanceData\\FinanceData\\FinanceDataHelper.py:102: FutureWarning: The behavior of DataFrame concatenation with empty or all-NA entries is deprecated. In a future version, this will no longer exclude empty or all-NA columns when determining the result dtypes. To retain the old behavior, exclude the relevant entries before the concat operation.\n",
      "  return new_append_df if output_df is None else pd.concat([output_df,new_append_df])\n"
     ]
    },
    {
     "name": "stdout",
     "output_type": "stream",
     "text": [
      "396\n"
     ]
    },
    {
     "name": "stderr",
     "output_type": "stream",
     "text": [
      "[*********************100%%**********************]  1 of 1 completed\n",
      "[*********************100%%**********************]  1 of 1 completed\n",
      "[*********************100%%**********************]  1 of 1 completed\n",
      "[*********************100%%**********************]  1 of 1 completed\n",
      "[*********************100%%**********************]  1 of 1 completed\n",
      "c:\\Users\\GRAYBILLKB20\\OneDrive - Grove City College\\Sophomore Year\\FinanceData\\FinanceData\\FinanceDataHelper.py:102: FutureWarning: The behavior of DataFrame concatenation with empty or all-NA entries is deprecated. In a future version, this will no longer exclude empty or all-NA columns when determining the result dtypes. To retain the old behavior, exclude the relevant entries before the concat operation.\n",
      "  return new_append_df if output_df is None else pd.concat([output_df,new_append_df])\n"
     ]
    },
    {
     "name": "stdout",
     "output_type": "stream",
     "text": [
      "Index error retrieving data for REGN stock on 2024-11-04 00:00:00: single positional indexer is out-of-bounds\n",
      "397\n"
     ]
    },
    {
     "name": "stderr",
     "output_type": "stream",
     "text": [
      "[*********************100%%**********************]  1 of 1 completed\n",
      "[*********************100%%**********************]  1 of 1 completed\n",
      "[*********************100%%**********************]  1 of 1 completed\n",
      "[*********************100%%**********************]  1 of 1 completed\n",
      "[*********************100%%**********************]  1 of 1 completed\n",
      "c:\\Users\\GRAYBILLKB20\\OneDrive - Grove City College\\Sophomore Year\\FinanceData\\FinanceData\\FinanceDataHelper.py:102: FutureWarning: The behavior of DataFrame concatenation with empty or all-NA entries is deprecated. In a future version, this will no longer exclude empty or all-NA columns when determining the result dtypes. To retain the old behavior, exclude the relevant entries before the concat operation.\n",
      "  return new_append_df if output_df is None else pd.concat([output_df,new_append_df])\n"
     ]
    },
    {
     "name": "stdout",
     "output_type": "stream",
     "text": [
      "398\n"
     ]
    },
    {
     "name": "stderr",
     "output_type": "stream",
     "text": [
      "[*********************100%%**********************]  1 of 1 completed\n",
      "[*********************100%%**********************]  1 of 1 completed\n",
      "[*********************100%%**********************]  1 of 1 completed\n",
      "[*********************100%%**********************]  1 of 1 completed\n",
      "[*********************100%%**********************]  1 of 1 completed\n",
      "c:\\Users\\GRAYBILLKB20\\OneDrive - Grove City College\\Sophomore Year\\FinanceData\\FinanceData\\FinanceDataHelper.py:102: FutureWarning: The behavior of DataFrame concatenation with empty or all-NA entries is deprecated. In a future version, this will no longer exclude empty or all-NA columns when determining the result dtypes. To retain the old behavior, exclude the relevant entries before the concat operation.\n",
      "  return new_append_df if output_df is None else pd.concat([output_df,new_append_df])\n"
     ]
    },
    {
     "name": "stdout",
     "output_type": "stream",
     "text": [
      "399\n"
     ]
    },
    {
     "name": "stderr",
     "output_type": "stream",
     "text": [
      "[*********************100%%**********************]  1 of 1 completed\n",
      "[*********************100%%**********************]  1 of 1 completed\n",
      "[*********************100%%**********************]  1 of 1 completed\n",
      "[*********************100%%**********************]  1 of 1 completed\n",
      "[*********************100%%**********************]  1 of 1 completed\n",
      "c:\\Users\\GRAYBILLKB20\\OneDrive - Grove City College\\Sophomore Year\\FinanceData\\FinanceData\\FinanceDataHelper.py:102: FutureWarning: The behavior of DataFrame concatenation with empty or all-NA entries is deprecated. In a future version, this will no longer exclude empty or all-NA columns when determining the result dtypes. To retain the old behavior, exclude the relevant entries before the concat operation.\n",
      "  return new_append_df if output_df is None else pd.concat([output_df,new_append_df])\n"
     ]
    },
    {
     "name": "stdout",
     "output_type": "stream",
     "text": [
      "400\n"
     ]
    },
    {
     "name": "stderr",
     "output_type": "stream",
     "text": [
      "[*********************100%%**********************]  1 of 1 completed\n",
      "[*********************100%%**********************]  1 of 1 completed\n",
      "[*********************100%%**********************]  1 of 1 completed\n",
      "[*********************100%%**********************]  1 of 1 completed\n",
      "[*********************100%%**********************]  1 of 1 completed\n",
      "c:\\Users\\GRAYBILLKB20\\OneDrive - Grove City College\\Sophomore Year\\FinanceData\\FinanceData\\FinanceDataHelper.py:102: FutureWarning: The behavior of DataFrame concatenation with empty or all-NA entries is deprecated. In a future version, this will no longer exclude empty or all-NA columns when determining the result dtypes. To retain the old behavior, exclude the relevant entries before the concat operation.\n",
      "  return new_append_df if output_df is None else pd.concat([output_df,new_append_df])\n"
     ]
    },
    {
     "name": "stdout",
     "output_type": "stream",
     "text": [
      "401\n"
     ]
    },
    {
     "name": "stderr",
     "output_type": "stream",
     "text": [
      "[*********************100%%**********************]  1 of 1 completed\n",
      "[*********************100%%**********************]  1 of 1 completed\n",
      "[*********************100%%**********************]  1 of 1 completed\n",
      "[*********************100%%**********************]  1 of 1 completed\n",
      "[*********************100%%**********************]  1 of 1 completed\n",
      "c:\\Users\\GRAYBILLKB20\\OneDrive - Grove City College\\Sophomore Year\\FinanceData\\FinanceData\\FinanceDataHelper.py:102: FutureWarning: The behavior of DataFrame concatenation with empty or all-NA entries is deprecated. In a future version, this will no longer exclude empty or all-NA columns when determining the result dtypes. To retain the old behavior, exclude the relevant entries before the concat operation.\n",
      "  return new_append_df if output_df is None else pd.concat([output_df,new_append_df])\n"
     ]
    },
    {
     "name": "stdout",
     "output_type": "stream",
     "text": [
      "Index error retrieving data for ROK stock on 2024-11-04 00:00:00: single positional indexer is out-of-bounds\n",
      "402\n"
     ]
    },
    {
     "name": "stderr",
     "output_type": "stream",
     "text": [
      "[*********************100%%**********************]  1 of 1 completed\n",
      "[*********************100%%**********************]  1 of 1 completed\n",
      "[*********************100%%**********************]  1 of 1 completed\n",
      "[*********************100%%**********************]  1 of 1 completed\n",
      "[*********************100%%**********************]  1 of 1 completed\n",
      "c:\\Users\\GRAYBILLKB20\\OneDrive - Grove City College\\Sophomore Year\\FinanceData\\FinanceData\\FinanceDataHelper.py:102: FutureWarning: The behavior of DataFrame concatenation with empty or all-NA entries is deprecated. In a future version, this will no longer exclude empty or all-NA columns when determining the result dtypes. To retain the old behavior, exclude the relevant entries before the concat operation.\n",
      "  return new_append_df if output_df is None else pd.concat([output_df,new_append_df])\n"
     ]
    },
    {
     "name": "stdout",
     "output_type": "stream",
     "text": [
      "403\n"
     ]
    },
    {
     "name": "stderr",
     "output_type": "stream",
     "text": [
      "[*********************100%%**********************]  1 of 1 completed\n",
      "[*********************100%%**********************]  1 of 1 completed\n",
      "[*********************100%%**********************]  1 of 1 completed\n",
      "[*********************100%%**********************]  1 of 1 completed\n",
      "[*********************100%%**********************]  1 of 1 completed\n",
      "c:\\Users\\GRAYBILLKB20\\OneDrive - Grove City College\\Sophomore Year\\FinanceData\\FinanceData\\FinanceDataHelper.py:102: FutureWarning: The behavior of DataFrame concatenation with empty or all-NA entries is deprecated. In a future version, this will no longer exclude empty or all-NA columns when determining the result dtypes. To retain the old behavior, exclude the relevant entries before the concat operation.\n",
      "  return new_append_df if output_df is None else pd.concat([output_df,new_append_df])\n"
     ]
    },
    {
     "name": "stdout",
     "output_type": "stream",
     "text": [
      "Index error retrieving data for ROP stock on 2024-11-05 00:00:00: single positional indexer is out-of-bounds\n",
      "Index error retrieving data for ROP stock on 2024-11-04 00:00:00: single positional indexer is out-of-bounds\n",
      "404\n"
     ]
    },
    {
     "name": "stderr",
     "output_type": "stream",
     "text": [
      "[*********************100%%**********************]  1 of 1 completed\n",
      "[*********************100%%**********************]  1 of 1 completed\n",
      "[*********************100%%**********************]  1 of 1 completed\n",
      "[*********************100%%**********************]  1 of 1 completed\n",
      "[*********************100%%**********************]  1 of 1 completed\n",
      "c:\\Users\\GRAYBILLKB20\\OneDrive - Grove City College\\Sophomore Year\\FinanceData\\FinanceData\\FinanceDataHelper.py:102: FutureWarning: The behavior of DataFrame concatenation with empty or all-NA entries is deprecated. In a future version, this will no longer exclude empty or all-NA columns when determining the result dtypes. To retain the old behavior, exclude the relevant entries before the concat operation.\n",
      "  return new_append_df if output_df is None else pd.concat([output_df,new_append_df])\n"
     ]
    },
    {
     "name": "stdout",
     "output_type": "stream",
     "text": [
      "405\n"
     ]
    },
    {
     "name": "stderr",
     "output_type": "stream",
     "text": [
      "[*********************100%%**********************]  1 of 1 completed\n",
      "[*********************100%%**********************]  1 of 1 completed\n",
      "[*********************100%%**********************]  1 of 1 completed\n",
      "[*********************100%%**********************]  1 of 1 completed\n",
      "[*********************100%%**********************]  1 of 1 completed\n",
      "c:\\Users\\GRAYBILLKB20\\OneDrive - Grove City College\\Sophomore Year\\FinanceData\\FinanceData\\FinanceDataHelper.py:102: FutureWarning: The behavior of DataFrame concatenation with empty or all-NA entries is deprecated. In a future version, this will no longer exclude empty or all-NA columns when determining the result dtypes. To retain the old behavior, exclude the relevant entries before the concat operation.\n",
      "  return new_append_df if output_df is None else pd.concat([output_df,new_append_df])\n"
     ]
    },
    {
     "name": "stdout",
     "output_type": "stream",
     "text": [
      "406\n"
     ]
    },
    {
     "name": "stderr",
     "output_type": "stream",
     "text": [
      "[*********************100%%**********************]  1 of 1 completed\n",
      "[*********************100%%**********************]  1 of 1 completed\n",
      "[*********************100%%**********************]  1 of 1 completed\n",
      "[*********************100%%**********************]  1 of 1 completed\n",
      "[*********************100%%**********************]  1 of 1 completed\n",
      "c:\\Users\\GRAYBILLKB20\\OneDrive - Grove City College\\Sophomore Year\\FinanceData\\FinanceData\\FinanceDataHelper.py:102: FutureWarning: The behavior of DataFrame concatenation with empty or all-NA entries is deprecated. In a future version, this will no longer exclude empty or all-NA columns when determining the result dtypes. To retain the old behavior, exclude the relevant entries before the concat operation.\n",
      "  return new_append_df if output_df is None else pd.concat([output_df,new_append_df])\n"
     ]
    },
    {
     "name": "stdout",
     "output_type": "stream",
     "text": [
      "407\n"
     ]
    },
    {
     "name": "stderr",
     "output_type": "stream",
     "text": [
      "[*********************100%%**********************]  1 of 1 completed\n",
      "[*********************100%%**********************]  1 of 1 completed\n",
      "[*********************100%%**********************]  1 of 1 completed\n",
      "[*********************100%%**********************]  1 of 1 completed\n",
      "[*********************100%%**********************]  1 of 1 completed\n",
      "c:\\Users\\GRAYBILLKB20\\OneDrive - Grove City College\\Sophomore Year\\FinanceData\\FinanceData\\FinanceDataHelper.py:102: FutureWarning: The behavior of DataFrame concatenation with empty or all-NA entries is deprecated. In a future version, this will no longer exclude empty or all-NA columns when determining the result dtypes. To retain the old behavior, exclude the relevant entries before the concat operation.\n",
      "  return new_append_df if output_df is None else pd.concat([output_df,new_append_df])\n"
     ]
    },
    {
     "name": "stdout",
     "output_type": "stream",
     "text": [
      "408\n"
     ]
    },
    {
     "name": "stderr",
     "output_type": "stream",
     "text": [
      "[*********************100%%**********************]  1 of 1 completed\n",
      "[*********************100%%**********************]  1 of 1 completed\n",
      "[*********************100%%**********************]  1 of 1 completed\n",
      "[*********************100%%**********************]  1 of 1 completed\n",
      "[*********************100%%**********************]  1 of 1 completed\n",
      "c:\\Users\\GRAYBILLKB20\\OneDrive - Grove City College\\Sophomore Year\\FinanceData\\FinanceData\\FinanceDataHelper.py:102: FutureWarning: The behavior of DataFrame concatenation with empty or all-NA entries is deprecated. In a future version, this will no longer exclude empty or all-NA columns when determining the result dtypes. To retain the old behavior, exclude the relevant entries before the concat operation.\n",
      "  return new_append_df if output_df is None else pd.concat([output_df,new_append_df])\n"
     ]
    },
    {
     "name": "stdout",
     "output_type": "stream",
     "text": [
      "409\n"
     ]
    },
    {
     "name": "stderr",
     "output_type": "stream",
     "text": [
      "[*********************100%%**********************]  1 of 1 completed\n",
      "[*********************100%%**********************]  1 of 1 completed\n",
      "[*********************100%%**********************]  1 of 1 completed\n",
      "[*********************100%%**********************]  1 of 1 completed\n",
      "[*********************100%%**********************]  1 of 1 completed\n",
      "c:\\Users\\GRAYBILLKB20\\OneDrive - Grove City College\\Sophomore Year\\FinanceData\\FinanceData\\FinanceDataHelper.py:102: FutureWarning: The behavior of DataFrame concatenation with empty or all-NA entries is deprecated. In a future version, this will no longer exclude empty or all-NA columns when determining the result dtypes. To retain the old behavior, exclude the relevant entries before the concat operation.\n",
      "  return new_append_df if output_df is None else pd.concat([output_df,new_append_df])\n"
     ]
    },
    {
     "name": "stdout",
     "output_type": "stream",
     "text": [
      "410\n"
     ]
    },
    {
     "name": "stderr",
     "output_type": "stream",
     "text": [
      "[*********************100%%**********************]  1 of 1 completed\n",
      "[*********************100%%**********************]  1 of 1 completed\n",
      "[*********************100%%**********************]  1 of 1 completed\n",
      "[*********************100%%**********************]  1 of 1 completed\n",
      "[*********************100%%**********************]  1 of 1 completed\n",
      "c:\\Users\\GRAYBILLKB20\\OneDrive - Grove City College\\Sophomore Year\\FinanceData\\FinanceData\\FinanceDataHelper.py:102: FutureWarning: The behavior of DataFrame concatenation with empty or all-NA entries is deprecated. In a future version, this will no longer exclude empty or all-NA columns when determining the result dtypes. To retain the old behavior, exclude the relevant entries before the concat operation.\n",
      "  return new_append_df if output_df is None else pd.concat([output_df,new_append_df])\n"
     ]
    },
    {
     "name": "stdout",
     "output_type": "stream",
     "text": [
      "411\n"
     ]
    },
    {
     "name": "stderr",
     "output_type": "stream",
     "text": [
      "[*********************100%%**********************]  1 of 1 completed\n",
      "[*********************100%%**********************]  1 of 1 completed\n",
      "[*********************100%%**********************]  1 of 1 completed\n",
      "[*********************100%%**********************]  1 of 1 completed\n",
      "[*********************100%%**********************]  1 of 1 completed\n",
      "c:\\Users\\GRAYBILLKB20\\OneDrive - Grove City College\\Sophomore Year\\FinanceData\\FinanceData\\FinanceDataHelper.py:102: FutureWarning: The behavior of DataFrame concatenation with empty or all-NA entries is deprecated. In a future version, this will no longer exclude empty or all-NA columns when determining the result dtypes. To retain the old behavior, exclude the relevant entries before the concat operation.\n",
      "  return new_append_df if output_df is None else pd.concat([output_df,new_append_df])\n"
     ]
    },
    {
     "name": "stdout",
     "output_type": "stream",
     "text": [
      "412\n"
     ]
    },
    {
     "name": "stderr",
     "output_type": "stream",
     "text": [
      "[*********************100%%**********************]  1 of 1 completed\n",
      "[*********************100%%**********************]  1 of 1 completed\n",
      "[*********************100%%**********************]  1 of 1 completed\n",
      "[*********************100%%**********************]  1 of 1 completed\n",
      "[*********************100%%**********************]  1 of 1 completed\n",
      "c:\\Users\\GRAYBILLKB20\\OneDrive - Grove City College\\Sophomore Year\\FinanceData\\FinanceData\\FinanceDataHelper.py:102: FutureWarning: The behavior of DataFrame concatenation with empty or all-NA entries is deprecated. In a future version, this will no longer exclude empty or all-NA columns when determining the result dtypes. To retain the old behavior, exclude the relevant entries before the concat operation.\n",
      "  return new_append_df if output_df is None else pd.concat([output_df,new_append_df])\n"
     ]
    },
    {
     "name": "stdout",
     "output_type": "stream",
     "text": [
      "413\n"
     ]
    },
    {
     "name": "stderr",
     "output_type": "stream",
     "text": [
      "[*********************100%%**********************]  1 of 1 completed\n",
      "[*********************100%%**********************]  1 of 1 completed\n",
      "[*********************100%%**********************]  1 of 1 completed\n",
      "[*********************100%%**********************]  1 of 1 completed\n",
      "[*********************100%%**********************]  1 of 1 completed\n",
      "c:\\Users\\GRAYBILLKB20\\OneDrive - Grove City College\\Sophomore Year\\FinanceData\\FinanceData\\FinanceDataHelper.py:102: FutureWarning: The behavior of DataFrame concatenation with empty or all-NA entries is deprecated. In a future version, this will no longer exclude empty or all-NA columns when determining the result dtypes. To retain the old behavior, exclude the relevant entries before the concat operation.\n",
      "  return new_append_df if output_df is None else pd.concat([output_df,new_append_df])\n"
     ]
    },
    {
     "name": "stdout",
     "output_type": "stream",
     "text": [
      "414\n"
     ]
    },
    {
     "name": "stderr",
     "output_type": "stream",
     "text": [
      "[*********************100%%**********************]  1 of 1 completed\n",
      "[*********************100%%**********************]  1 of 1 completed\n",
      "[*********************100%%**********************]  1 of 1 completed\n",
      "[*********************100%%**********************]  1 of 1 completed\n",
      "[*********************100%%**********************]  1 of 1 completed\n",
      "c:\\Users\\GRAYBILLKB20\\OneDrive - Grove City College\\Sophomore Year\\FinanceData\\FinanceData\\FinanceDataHelper.py:102: FutureWarning: The behavior of DataFrame concatenation with empty or all-NA entries is deprecated. In a future version, this will no longer exclude empty or all-NA columns when determining the result dtypes. To retain the old behavior, exclude the relevant entries before the concat operation.\n",
      "  return new_append_df if output_df is None else pd.concat([output_df,new_append_df])\n"
     ]
    },
    {
     "name": "stdout",
     "output_type": "stream",
     "text": [
      "415\n"
     ]
    },
    {
     "name": "stderr",
     "output_type": "stream",
     "text": [
      "[*********************100%%**********************]  1 of 1 completed\n",
      "[*********************100%%**********************]  1 of 1 completed\n",
      "[*********************100%%**********************]  1 of 1 completed\n",
      "[*********************100%%**********************]  1 of 1 completed\n",
      "[*********************100%%**********************]  1 of 1 completed\n",
      "c:\\Users\\GRAYBILLKB20\\OneDrive - Grove City College\\Sophomore Year\\FinanceData\\FinanceData\\FinanceDataHelper.py:102: FutureWarning: The behavior of DataFrame concatenation with empty or all-NA entries is deprecated. In a future version, this will no longer exclude empty or all-NA columns when determining the result dtypes. To retain the old behavior, exclude the relevant entries before the concat operation.\n",
      "  return new_append_df if output_df is None else pd.concat([output_df,new_append_df])\n"
     ]
    },
    {
     "name": "stdout",
     "output_type": "stream",
     "text": [
      "416\n"
     ]
    },
    {
     "name": "stderr",
     "output_type": "stream",
     "text": [
      "[*********************100%%**********************]  1 of 1 completed\n",
      "[*********************100%%**********************]  1 of 1 completed\n",
      "[*********************100%%**********************]  1 of 1 completed\n",
      "[*********************100%%**********************]  1 of 1 completed\n",
      "[*********************100%%**********************]  1 of 1 completed\n",
      "c:\\Users\\GRAYBILLKB20\\OneDrive - Grove City College\\Sophomore Year\\FinanceData\\FinanceData\\FinanceDataHelper.py:102: FutureWarning: The behavior of DataFrame concatenation with empty or all-NA entries is deprecated. In a future version, this will no longer exclude empty or all-NA columns when determining the result dtypes. To retain the old behavior, exclude the relevant entries before the concat operation.\n",
      "  return new_append_df if output_df is None else pd.concat([output_df,new_append_df])\n"
     ]
    },
    {
     "name": "stdout",
     "output_type": "stream",
     "text": [
      "417\n"
     ]
    },
    {
     "name": "stderr",
     "output_type": "stream",
     "text": [
      "[*********************100%%**********************]  1 of 1 completed\n",
      "[*********************100%%**********************]  1 of 1 completed\n",
      "[*********************100%%**********************]  1 of 1 completed\n",
      "[*********************100%%**********************]  1 of 1 completed\n",
      "[*********************100%%**********************]  1 of 1 completed\n",
      "c:\\Users\\GRAYBILLKB20\\OneDrive - Grove City College\\Sophomore Year\\FinanceData\\FinanceData\\FinanceDataHelper.py:102: FutureWarning: The behavior of DataFrame concatenation with empty or all-NA entries is deprecated. In a future version, this will no longer exclude empty or all-NA columns when determining the result dtypes. To retain the old behavior, exclude the relevant entries before the concat operation.\n",
      "  return new_append_df if output_df is None else pd.concat([output_df,new_append_df])\n"
     ]
    },
    {
     "name": "stdout",
     "output_type": "stream",
     "text": [
      "418\n"
     ]
    },
    {
     "name": "stderr",
     "output_type": "stream",
     "text": [
      "[*********************100%%**********************]  1 of 1 completed\n",
      "[*********************100%%**********************]  1 of 1 completed\n",
      "[*********************100%%**********************]  1 of 1 completed\n",
      "[*********************100%%**********************]  1 of 1 completed\n",
      "[*********************100%%**********************]  1 of 1 completed\n",
      "c:\\Users\\GRAYBILLKB20\\OneDrive - Grove City College\\Sophomore Year\\FinanceData\\FinanceData\\FinanceDataHelper.py:102: FutureWarning: The behavior of DataFrame concatenation with empty or all-NA entries is deprecated. In a future version, this will no longer exclude empty or all-NA columns when determining the result dtypes. To retain the old behavior, exclude the relevant entries before the concat operation.\n",
      "  return new_append_df if output_df is None else pd.concat([output_df,new_append_df])\n"
     ]
    },
    {
     "name": "stdout",
     "output_type": "stream",
     "text": [
      "Index error retrieving data for SNA stock on 2024-11-05 00:00:00: single positional indexer is out-of-bounds\n",
      "Index error retrieving data for SNA stock on 2024-11-04 00:00:00: single positional indexer is out-of-bounds\n",
      "419\n"
     ]
    },
    {
     "name": "stderr",
     "output_type": "stream",
     "text": [
      "[*********************100%%**********************]  1 of 1 completed\n",
      "[*********************100%%**********************]  1 of 1 completed\n",
      "[*********************100%%**********************]  1 of 1 completed\n",
      "[*********************100%%**********************]  1 of 1 completed\n",
      "[*********************100%%**********************]  1 of 1 completed\n",
      "c:\\Users\\GRAYBILLKB20\\OneDrive - Grove City College\\Sophomore Year\\FinanceData\\FinanceData\\FinanceDataHelper.py:102: FutureWarning: The behavior of DataFrame concatenation with empty or all-NA entries is deprecated. In a future version, this will no longer exclude empty or all-NA columns when determining the result dtypes. To retain the old behavior, exclude the relevant entries before the concat operation.\n",
      "  return new_append_df if output_df is None else pd.concat([output_df,new_append_df])\n"
     ]
    },
    {
     "name": "stdout",
     "output_type": "stream",
     "text": [
      "Index error retrieving data for SOLV stock on 2024-11-04 00:00:00: single positional indexer is out-of-bounds\n",
      "420\n"
     ]
    },
    {
     "name": "stderr",
     "output_type": "stream",
     "text": [
      "[*********************100%%**********************]  1 of 1 completed\n",
      "[*********************100%%**********************]  1 of 1 completed\n",
      "[*********************100%%**********************]  1 of 1 completed\n",
      "[*********************100%%**********************]  1 of 1 completed\n",
      "[*********************100%%**********************]  1 of 1 completed\n",
      "c:\\Users\\GRAYBILLKB20\\OneDrive - Grove City College\\Sophomore Year\\FinanceData\\FinanceData\\FinanceDataHelper.py:102: FutureWarning: The behavior of DataFrame concatenation with empty or all-NA entries is deprecated. In a future version, this will no longer exclude empty or all-NA columns when determining the result dtypes. To retain the old behavior, exclude the relevant entries before the concat operation.\n",
      "  return new_append_df if output_df is None else pd.concat([output_df,new_append_df])\n"
     ]
    },
    {
     "name": "stdout",
     "output_type": "stream",
     "text": [
      "421\n"
     ]
    },
    {
     "name": "stderr",
     "output_type": "stream",
     "text": [
      "[*********************100%%**********************]  1 of 1 completed\n",
      "[*********************100%%**********************]  1 of 1 completed\n",
      "[*********************100%%**********************]  1 of 1 completed\n",
      "[*********************100%%**********************]  1 of 1 completed\n",
      "[*********************100%%**********************]  1 of 1 completed\n",
      "c:\\Users\\GRAYBILLKB20\\OneDrive - Grove City College\\Sophomore Year\\FinanceData\\FinanceData\\FinanceDataHelper.py:102: FutureWarning: The behavior of DataFrame concatenation with empty or all-NA entries is deprecated. In a future version, this will no longer exclude empty or all-NA columns when determining the result dtypes. To retain the old behavior, exclude the relevant entries before the concat operation.\n",
      "  return new_append_df if output_df is None else pd.concat([output_df,new_append_df])\n"
     ]
    },
    {
     "name": "stdout",
     "output_type": "stream",
     "text": [
      "422\n"
     ]
    },
    {
     "name": "stderr",
     "output_type": "stream",
     "text": [
      "[*********************100%%**********************]  1 of 1 completed\n",
      "[*********************100%%**********************]  1 of 1 completed\n",
      "[*********************100%%**********************]  1 of 1 completed\n",
      "[*********************100%%**********************]  1 of 1 completed\n",
      "[*********************100%%**********************]  1 of 1 completed\n",
      "c:\\Users\\GRAYBILLKB20\\OneDrive - Grove City College\\Sophomore Year\\FinanceData\\FinanceData\\FinanceDataHelper.py:102: FutureWarning: The behavior of DataFrame concatenation with empty or all-NA entries is deprecated. In a future version, this will no longer exclude empty or all-NA columns when determining the result dtypes. To retain the old behavior, exclude the relevant entries before the concat operation.\n",
      "  return new_append_df if output_df is None else pd.concat([output_df,new_append_df])\n"
     ]
    },
    {
     "name": "stdout",
     "output_type": "stream",
     "text": [
      "423\n"
     ]
    },
    {
     "name": "stderr",
     "output_type": "stream",
     "text": [
      "[*********************100%%**********************]  1 of 1 completed\n",
      "[*********************100%%**********************]  1 of 1 completed\n",
      "[*********************100%%**********************]  1 of 1 completed\n",
      "[*********************100%%**********************]  1 of 1 completed\n",
      "[*********************100%%**********************]  1 of 1 completed\n",
      "c:\\Users\\GRAYBILLKB20\\OneDrive - Grove City College\\Sophomore Year\\FinanceData\\FinanceData\\FinanceDataHelper.py:102: FutureWarning: The behavior of DataFrame concatenation with empty or all-NA entries is deprecated. In a future version, this will no longer exclude empty or all-NA columns when determining the result dtypes. To retain the old behavior, exclude the relevant entries before the concat operation.\n",
      "  return new_append_df if output_df is None else pd.concat([output_df,new_append_df])\n"
     ]
    },
    {
     "name": "stdout",
     "output_type": "stream",
     "text": [
      "424\n"
     ]
    },
    {
     "name": "stderr",
     "output_type": "stream",
     "text": [
      "[*********************100%%**********************]  1 of 1 completed\n",
      "[*********************100%%**********************]  1 of 1 completed\n",
      "[*********************100%%**********************]  1 of 1 completed\n",
      "[*********************100%%**********************]  1 of 1 completed\n",
      "[*********************100%%**********************]  1 of 1 completed\n",
      "c:\\Users\\GRAYBILLKB20\\OneDrive - Grove City College\\Sophomore Year\\FinanceData\\FinanceData\\FinanceDataHelper.py:102: FutureWarning: The behavior of DataFrame concatenation with empty or all-NA entries is deprecated. In a future version, this will no longer exclude empty or all-NA columns when determining the result dtypes. To retain the old behavior, exclude the relevant entries before the concat operation.\n",
      "  return new_append_df if output_df is None else pd.concat([output_df,new_append_df])\n"
     ]
    },
    {
     "name": "stdout",
     "output_type": "stream",
     "text": [
      "425\n"
     ]
    },
    {
     "name": "stderr",
     "output_type": "stream",
     "text": [
      "[*********************100%%**********************]  1 of 1 completed\n",
      "[*********************100%%**********************]  1 of 1 completed\n",
      "[*********************100%%**********************]  1 of 1 completed\n",
      "[*********************100%%**********************]  1 of 1 completed\n",
      "[*********************100%%**********************]  1 of 1 completed\n",
      "c:\\Users\\GRAYBILLKB20\\OneDrive - Grove City College\\Sophomore Year\\FinanceData\\FinanceData\\FinanceDataHelper.py:102: FutureWarning: The behavior of DataFrame concatenation with empty or all-NA entries is deprecated. In a future version, this will no longer exclude empty or all-NA columns when determining the result dtypes. To retain the old behavior, exclude the relevant entries before the concat operation.\n",
      "  return new_append_df if output_df is None else pd.concat([output_df,new_append_df])\n"
     ]
    },
    {
     "name": "stdout",
     "output_type": "stream",
     "text": [
      "426\n"
     ]
    },
    {
     "name": "stderr",
     "output_type": "stream",
     "text": [
      "[*********************100%%**********************]  1 of 1 completed\n",
      "[*********************100%%**********************]  1 of 1 completed\n",
      "[*********************100%%**********************]  1 of 1 completed\n",
      "[*********************100%%**********************]  1 of 1 completed\n",
      "[*********************100%%**********************]  1 of 1 completed\n",
      "c:\\Users\\GRAYBILLKB20\\OneDrive - Grove City College\\Sophomore Year\\FinanceData\\FinanceData\\FinanceDataHelper.py:102: FutureWarning: The behavior of DataFrame concatenation with empty or all-NA entries is deprecated. In a future version, this will no longer exclude empty or all-NA columns when determining the result dtypes. To retain the old behavior, exclude the relevant entries before the concat operation.\n",
      "  return new_append_df if output_df is None else pd.concat([output_df,new_append_df])\n"
     ]
    },
    {
     "name": "stdout",
     "output_type": "stream",
     "text": [
      "Index error retrieving data for STE stock on 2024-11-04 00:00:00: single positional indexer is out-of-bounds\n",
      "427\n"
     ]
    },
    {
     "name": "stderr",
     "output_type": "stream",
     "text": [
      "[*********************100%%**********************]  1 of 1 completed\n",
      "[*********************100%%**********************]  1 of 1 completed\n",
      "[*********************100%%**********************]  1 of 1 completed\n",
      "[*********************100%%**********************]  1 of 1 completed\n",
      "[*********************100%%**********************]  1 of 1 completed\n",
      "c:\\Users\\GRAYBILLKB20\\OneDrive - Grove City College\\Sophomore Year\\FinanceData\\FinanceData\\FinanceDataHelper.py:102: FutureWarning: The behavior of DataFrame concatenation with empty or all-NA entries is deprecated. In a future version, this will no longer exclude empty or all-NA columns when determining the result dtypes. To retain the old behavior, exclude the relevant entries before the concat operation.\n",
      "  return new_append_df if output_df is None else pd.concat([output_df,new_append_df])\n"
     ]
    },
    {
     "name": "stdout",
     "output_type": "stream",
     "text": [
      "428\n"
     ]
    },
    {
     "name": "stderr",
     "output_type": "stream",
     "text": [
      "[*********************100%%**********************]  1 of 1 completed\n",
      "[*********************100%%**********************]  1 of 1 completed\n",
      "[*********************100%%**********************]  1 of 1 completed\n",
      "[*********************100%%**********************]  1 of 1 completed\n",
      "[*********************100%%**********************]  1 of 1 completed\n",
      "c:\\Users\\GRAYBILLKB20\\OneDrive - Grove City College\\Sophomore Year\\FinanceData\\FinanceData\\FinanceDataHelper.py:102: FutureWarning: The behavior of DataFrame concatenation with empty or all-NA entries is deprecated. In a future version, this will no longer exclude empty or all-NA columns when determining the result dtypes. To retain the old behavior, exclude the relevant entries before the concat operation.\n",
      "  return new_append_df if output_df is None else pd.concat([output_df,new_append_df])\n"
     ]
    },
    {
     "name": "stdout",
     "output_type": "stream",
     "text": [
      "429\n"
     ]
    },
    {
     "name": "stderr",
     "output_type": "stream",
     "text": [
      "[*********************100%%**********************]  1 of 1 completed\n",
      "[*********************100%%**********************]  1 of 1 completed\n",
      "[*********************100%%**********************]  1 of 1 completed\n",
      "[*********************100%%**********************]  1 of 1 completed\n",
      "[*********************100%%**********************]  1 of 1 completed\n",
      "c:\\Users\\GRAYBILLKB20\\OneDrive - Grove City College\\Sophomore Year\\FinanceData\\FinanceData\\FinanceDataHelper.py:102: FutureWarning: The behavior of DataFrame concatenation with empty or all-NA entries is deprecated. In a future version, this will no longer exclude empty or all-NA columns when determining the result dtypes. To retain the old behavior, exclude the relevant entries before the concat operation.\n",
      "  return new_append_df if output_df is None else pd.concat([output_df,new_append_df])\n"
     ]
    },
    {
     "name": "stdout",
     "output_type": "stream",
     "text": [
      "430\n"
     ]
    },
    {
     "name": "stderr",
     "output_type": "stream",
     "text": [
      "[*********************100%%**********************]  1 of 1 completed\n",
      "[*********************100%%**********************]  1 of 1 completed\n",
      "[*********************100%%**********************]  1 of 1 completed\n",
      "[*********************100%%**********************]  1 of 1 completed\n",
      "[*********************100%%**********************]  1 of 1 completed\n",
      "c:\\Users\\GRAYBILLKB20\\OneDrive - Grove City College\\Sophomore Year\\FinanceData\\FinanceData\\FinanceDataHelper.py:102: FutureWarning: The behavior of DataFrame concatenation with empty or all-NA entries is deprecated. In a future version, this will no longer exclude empty or all-NA columns when determining the result dtypes. To retain the old behavior, exclude the relevant entries before the concat operation.\n",
      "  return new_append_df if output_df is None else pd.concat([output_df,new_append_df])\n"
     ]
    },
    {
     "name": "stdout",
     "output_type": "stream",
     "text": [
      "Index error retrieving data for SNPS stock on 2024-11-04 00:00:00: single positional indexer is out-of-bounds\n",
      "431\n"
     ]
    },
    {
     "name": "stderr",
     "output_type": "stream",
     "text": [
      "[*********************100%%**********************]  1 of 1 completed\n",
      "[*********************100%%**********************]  1 of 1 completed\n",
      "[*********************100%%**********************]  1 of 1 completed\n",
      "[*********************100%%**********************]  1 of 1 completed\n",
      "[*********************100%%**********************]  1 of 1 completed\n",
      "c:\\Users\\GRAYBILLKB20\\OneDrive - Grove City College\\Sophomore Year\\FinanceData\\FinanceData\\FinanceDataHelper.py:102: FutureWarning: The behavior of DataFrame concatenation with empty or all-NA entries is deprecated. In a future version, this will no longer exclude empty or all-NA columns when determining the result dtypes. To retain the old behavior, exclude the relevant entries before the concat operation.\n",
      "  return new_append_df if output_df is None else pd.concat([output_df,new_append_df])\n"
     ]
    },
    {
     "name": "stdout",
     "output_type": "stream",
     "text": [
      "432\n"
     ]
    },
    {
     "name": "stderr",
     "output_type": "stream",
     "text": [
      "[*********************100%%**********************]  1 of 1 completed\n",
      "[*********************100%%**********************]  1 of 1 completed\n",
      "[*********************100%%**********************]  1 of 1 completed\n",
      "[*********************100%%**********************]  1 of 1 completed\n",
      "[*********************100%%**********************]  1 of 1 completed\n",
      "c:\\Users\\GRAYBILLKB20\\OneDrive - Grove City College\\Sophomore Year\\FinanceData\\FinanceData\\FinanceDataHelper.py:102: FutureWarning: The behavior of DataFrame concatenation with empty or all-NA entries is deprecated. In a future version, this will no longer exclude empty or all-NA columns when determining the result dtypes. To retain the old behavior, exclude the relevant entries before the concat operation.\n",
      "  return new_append_df if output_df is None else pd.concat([output_df,new_append_df])\n"
     ]
    },
    {
     "name": "stdout",
     "output_type": "stream",
     "text": [
      "433\n"
     ]
    },
    {
     "name": "stderr",
     "output_type": "stream",
     "text": [
      "[*********************100%%**********************]  1 of 1 completed\n",
      "[*********************100%%**********************]  1 of 1 completed\n",
      "[*********************100%%**********************]  1 of 1 completed\n",
      "[*********************100%%**********************]  1 of 1 completed\n",
      "[*********************100%%**********************]  1 of 1 completed\n",
      "c:\\Users\\GRAYBILLKB20\\OneDrive - Grove City College\\Sophomore Year\\FinanceData\\FinanceData\\FinanceDataHelper.py:102: FutureWarning: The behavior of DataFrame concatenation with empty or all-NA entries is deprecated. In a future version, this will no longer exclude empty or all-NA columns when determining the result dtypes. To retain the old behavior, exclude the relevant entries before the concat operation.\n",
      "  return new_append_df if output_df is None else pd.concat([output_df,new_append_df])\n",
      "[*********************100%%**********************]  1 of 1 completed"
     ]
    },
    {
     "name": "stdout",
     "output_type": "stream",
     "text": [
      "434\n"
     ]
    },
    {
     "name": "stderr",
     "output_type": "stream",
     "text": [
      "\n",
      "[*********************100%%**********************]  1 of 1 completed\n",
      "[*********************100%%**********************]  1 of 1 completed\n",
      "[*********************100%%**********************]  1 of 1 completed\n",
      "[*********************100%%**********************]  1 of 1 completed\n",
      "c:\\Users\\GRAYBILLKB20\\OneDrive - Grove City College\\Sophomore Year\\FinanceData\\FinanceData\\FinanceDataHelper.py:102: FutureWarning: The behavior of DataFrame concatenation with empty or all-NA entries is deprecated. In a future version, this will no longer exclude empty or all-NA columns when determining the result dtypes. To retain the old behavior, exclude the relevant entries before the concat operation.\n",
      "  return new_append_df if output_df is None else pd.concat([output_df,new_append_df])\n"
     ]
    },
    {
     "name": "stdout",
     "output_type": "stream",
     "text": [
      "435\n"
     ]
    },
    {
     "name": "stderr",
     "output_type": "stream",
     "text": [
      "[*********************100%%**********************]  1 of 1 completed\n",
      "[*********************100%%**********************]  1 of 1 completed\n",
      "[*********************100%%**********************]  1 of 1 completed\n",
      "[*********************100%%**********************]  1 of 1 completed\n",
      "[*********************100%%**********************]  1 of 1 completed\n",
      "c:\\Users\\GRAYBILLKB20\\OneDrive - Grove City College\\Sophomore Year\\FinanceData\\FinanceData\\FinanceDataHelper.py:102: FutureWarning: The behavior of DataFrame concatenation with empty or all-NA entries is deprecated. In a future version, this will no longer exclude empty or all-NA columns when determining the result dtypes. To retain the old behavior, exclude the relevant entries before the concat operation.\n",
      "  return new_append_df if output_df is None else pd.concat([output_df,new_append_df])\n"
     ]
    },
    {
     "name": "stdout",
     "output_type": "stream",
     "text": [
      "436\n"
     ]
    },
    {
     "name": "stderr",
     "output_type": "stream",
     "text": [
      "[*********************100%%**********************]  1 of 1 completed\n",
      "[*********************100%%**********************]  1 of 1 completed\n",
      "[*********************100%%**********************]  1 of 1 completed\n",
      "[*********************100%%**********************]  1 of 1 completed\n",
      "[*********************100%%**********************]  1 of 1 completed\n",
      "c:\\Users\\GRAYBILLKB20\\OneDrive - Grove City College\\Sophomore Year\\FinanceData\\FinanceData\\FinanceDataHelper.py:102: FutureWarning: The behavior of DataFrame concatenation with empty or all-NA entries is deprecated. In a future version, this will no longer exclude empty or all-NA columns when determining the result dtypes. To retain the old behavior, exclude the relevant entries before the concat operation.\n",
      "  return new_append_df if output_df is None else pd.concat([output_df,new_append_df])\n"
     ]
    },
    {
     "name": "stdout",
     "output_type": "stream",
     "text": [
      "437\n"
     ]
    },
    {
     "name": "stderr",
     "output_type": "stream",
     "text": [
      "[*********************100%%**********************]  1 of 1 completed\n",
      "[*********************100%%**********************]  1 of 1 completed\n",
      "[*********************100%%**********************]  1 of 1 completed\n",
      "[*********************100%%**********************]  1 of 1 completed\n",
      "[*********************100%%**********************]  1 of 1 completed\n",
      "c:\\Users\\GRAYBILLKB20\\OneDrive - Grove City College\\Sophomore Year\\FinanceData\\FinanceData\\FinanceDataHelper.py:102: FutureWarning: The behavior of DataFrame concatenation with empty or all-NA entries is deprecated. In a future version, this will no longer exclude empty or all-NA columns when determining the result dtypes. To retain the old behavior, exclude the relevant entries before the concat operation.\n",
      "  return new_append_df if output_df is None else pd.concat([output_df,new_append_df])\n"
     ]
    },
    {
     "name": "stdout",
     "output_type": "stream",
     "text": [
      "438\n"
     ]
    },
    {
     "name": "stderr",
     "output_type": "stream",
     "text": [
      "[*********************100%%**********************]  1 of 1 completed\n",
      "[*********************100%%**********************]  1 of 1 completed\n",
      "[*********************100%%**********************]  1 of 1 completed\n",
      "[*********************100%%**********************]  1 of 1 completed\n",
      "[*********************100%%**********************]  1 of 1 completed\n",
      "c:\\Users\\GRAYBILLKB20\\OneDrive - Grove City College\\Sophomore Year\\FinanceData\\FinanceData\\FinanceDataHelper.py:102: FutureWarning: The behavior of DataFrame concatenation with empty or all-NA entries is deprecated. In a future version, this will no longer exclude empty or all-NA columns when determining the result dtypes. To retain the old behavior, exclude the relevant entries before the concat operation.\n",
      "  return new_append_df if output_df is None else pd.concat([output_df,new_append_df])\n"
     ]
    },
    {
     "name": "stdout",
     "output_type": "stream",
     "text": [
      "439\n"
     ]
    },
    {
     "name": "stderr",
     "output_type": "stream",
     "text": [
      "[*********************100%%**********************]  1 of 1 completed\n",
      "[*********************100%%**********************]  1 of 1 completed\n",
      "[*********************100%%**********************]  1 of 1 completed\n",
      "[*********************100%%**********************]  1 of 1 completed\n",
      "[*********************100%%**********************]  1 of 1 completed\n",
      "c:\\Users\\GRAYBILLKB20\\OneDrive - Grove City College\\Sophomore Year\\FinanceData\\FinanceData\\FinanceDataHelper.py:102: FutureWarning: The behavior of DataFrame concatenation with empty or all-NA entries is deprecated. In a future version, this will no longer exclude empty or all-NA columns when determining the result dtypes. To retain the old behavior, exclude the relevant entries before the concat operation.\n",
      "  return new_append_df if output_df is None else pd.concat([output_df,new_append_df])\n"
     ]
    },
    {
     "name": "stdout",
     "output_type": "stream",
     "text": [
      "Index error retrieving data for TDY stock on 2024-11-05 00:00:00: single positional indexer is out-of-bounds\n",
      "Index error retrieving data for TDY stock on 2024-11-04 00:00:00: single positional indexer is out-of-bounds\n",
      "440\n"
     ]
    },
    {
     "name": "stderr",
     "output_type": "stream",
     "text": [
      "[*********************100%%**********************]  1 of 1 completed\n",
      "[*********************100%%**********************]  1 of 1 completed\n",
      "[*********************100%%**********************]  1 of 1 completed\n",
      "[*********************100%%**********************]  1 of 1 completed\n",
      "[*********************100%%**********************]  1 of 1 completed\n",
      "c:\\Users\\GRAYBILLKB20\\OneDrive - Grove City College\\Sophomore Year\\FinanceData\\FinanceData\\FinanceDataHelper.py:102: FutureWarning: The behavior of DataFrame concatenation with empty or all-NA entries is deprecated. In a future version, this will no longer exclude empty or all-NA columns when determining the result dtypes. To retain the old behavior, exclude the relevant entries before the concat operation.\n",
      "  return new_append_df if output_df is None else pd.concat([output_df,new_append_df])\n"
     ]
    },
    {
     "name": "stdout",
     "output_type": "stream",
     "text": [
      "441\n"
     ]
    },
    {
     "name": "stderr",
     "output_type": "stream",
     "text": [
      "[*********************100%%**********************]  1 of 1 completed\n",
      "[*********************100%%**********************]  1 of 1 completed\n",
      "[*********************100%%**********************]  1 of 1 completed\n",
      "[*********************100%%**********************]  1 of 1 completed\n",
      "[*********************100%%**********************]  1 of 1 completed\n",
      "c:\\Users\\GRAYBILLKB20\\OneDrive - Grove City College\\Sophomore Year\\FinanceData\\FinanceData\\FinanceDataHelper.py:102: FutureWarning: The behavior of DataFrame concatenation with empty or all-NA entries is deprecated. In a future version, this will no longer exclude empty or all-NA columns when determining the result dtypes. To retain the old behavior, exclude the relevant entries before the concat operation.\n",
      "  return new_append_df if output_df is None else pd.concat([output_df,new_append_df])\n"
     ]
    },
    {
     "name": "stdout",
     "output_type": "stream",
     "text": [
      "442\n"
     ]
    },
    {
     "name": "stderr",
     "output_type": "stream",
     "text": [
      "[*********************100%%**********************]  1 of 1 completed\n",
      "[*********************100%%**********************]  1 of 1 completed\n",
      "[*********************100%%**********************]  1 of 1 completed\n",
      "[*********************100%%**********************]  1 of 1 completed\n",
      "[*********************100%%**********************]  1 of 1 completed\n",
      "c:\\Users\\GRAYBILLKB20\\OneDrive - Grove City College\\Sophomore Year\\FinanceData\\FinanceData\\FinanceDataHelper.py:102: FutureWarning: The behavior of DataFrame concatenation with empty or all-NA entries is deprecated. In a future version, this will no longer exclude empty or all-NA columns when determining the result dtypes. To retain the old behavior, exclude the relevant entries before the concat operation.\n",
      "  return new_append_df if output_df is None else pd.concat([output_df,new_append_df])\n"
     ]
    },
    {
     "name": "stdout",
     "output_type": "stream",
     "text": [
      "443\n"
     ]
    },
    {
     "name": "stderr",
     "output_type": "stream",
     "text": [
      "[*********************100%%**********************]  1 of 1 completed\n",
      "[*********************100%%**********************]  1 of 1 completed\n",
      "[*********************100%%**********************]  1 of 1 completed\n",
      "[*********************100%%**********************]  1 of 1 completed\n",
      "[*********************100%%**********************]  1 of 1 completed\n",
      "c:\\Users\\GRAYBILLKB20\\OneDrive - Grove City College\\Sophomore Year\\FinanceData\\FinanceData\\FinanceDataHelper.py:102: FutureWarning: The behavior of DataFrame concatenation with empty or all-NA entries is deprecated. In a future version, this will no longer exclude empty or all-NA columns when determining the result dtypes. To retain the old behavior, exclude the relevant entries before the concat operation.\n",
      "  return new_append_df if output_df is None else pd.concat([output_df,new_append_df])\n"
     ]
    },
    {
     "name": "stdout",
     "output_type": "stream",
     "text": [
      "444\n"
     ]
    },
    {
     "name": "stderr",
     "output_type": "stream",
     "text": [
      "[*********************100%%**********************]  1 of 1 completed\n",
      "[*********************100%%**********************]  1 of 1 completed\n",
      "[*********************100%%**********************]  1 of 1 completed\n",
      "[*********************100%%**********************]  1 of 1 completed\n",
      "[*********************100%%**********************]  1 of 1 completed\n",
      "c:\\Users\\GRAYBILLKB20\\OneDrive - Grove City College\\Sophomore Year\\FinanceData\\FinanceData\\FinanceDataHelper.py:102: FutureWarning: The behavior of DataFrame concatenation with empty or all-NA entries is deprecated. In a future version, this will no longer exclude empty or all-NA columns when determining the result dtypes. To retain the old behavior, exclude the relevant entries before the concat operation.\n",
      "  return new_append_df if output_df is None else pd.concat([output_df,new_append_df])\n"
     ]
    },
    {
     "name": "stdout",
     "output_type": "stream",
     "text": [
      "Index error retrieving data for TPL stock on 2024-11-08 00:00:00: single positional indexer is out-of-bounds\n",
      "Index error retrieving data for TPL stock on 2024-11-07 00:00:00: single positional indexer is out-of-bounds\n",
      "Index error retrieving data for TPL stock on 2024-11-06 00:00:00: single positional indexer is out-of-bounds\n",
      "Index error retrieving data for TPL stock on 2024-11-05 00:00:00: single positional indexer is out-of-bounds\n",
      "Index error retrieving data for TPL stock on 2024-11-04 00:00:00: single positional indexer is out-of-bounds\n",
      "445\n"
     ]
    },
    {
     "name": "stderr",
     "output_type": "stream",
     "text": [
      "[*********************100%%**********************]  1 of 1 completed\n",
      "[*********************100%%**********************]  1 of 1 completed\n",
      "[*********************100%%**********************]  1 of 1 completed\n",
      "[*********************100%%**********************]  1 of 1 completed\n",
      "[*********************100%%**********************]  1 of 1 completed\n",
      "c:\\Users\\GRAYBILLKB20\\OneDrive - Grove City College\\Sophomore Year\\FinanceData\\FinanceData\\FinanceDataHelper.py:102: FutureWarning: The behavior of DataFrame concatenation with empty or all-NA entries is deprecated. In a future version, this will no longer exclude empty or all-NA columns when determining the result dtypes. To retain the old behavior, exclude the relevant entries before the concat operation.\n",
      "  return new_append_df if output_df is None else pd.concat([output_df,new_append_df])\n"
     ]
    },
    {
     "name": "stdout",
     "output_type": "stream",
     "text": [
      "446\n"
     ]
    },
    {
     "name": "stderr",
     "output_type": "stream",
     "text": [
      "[*********************100%%**********************]  1 of 1 completed\n",
      "[*********************100%%**********************]  1 of 1 completed\n",
      "[*********************100%%**********************]  1 of 1 completed\n",
      "[*********************100%%**********************]  1 of 1 completed\n",
      "[*********************100%%**********************]  1 of 1 completed\n",
      "c:\\Users\\GRAYBILLKB20\\OneDrive - Grove City College\\Sophomore Year\\FinanceData\\FinanceData\\FinanceDataHelper.py:102: FutureWarning: The behavior of DataFrame concatenation with empty or all-NA entries is deprecated. In a future version, this will no longer exclude empty or all-NA columns when determining the result dtypes. To retain the old behavior, exclude the relevant entries before the concat operation.\n",
      "  return new_append_df if output_df is None else pd.concat([output_df,new_append_df])\n"
     ]
    },
    {
     "name": "stdout",
     "output_type": "stream",
     "text": [
      "447\n"
     ]
    },
    {
     "name": "stderr",
     "output_type": "stream",
     "text": [
      "[*********************100%%**********************]  1 of 1 completed\n",
      "[*********************100%%**********************]  1 of 1 completed\n",
      "[*********************100%%**********************]  1 of 1 completed\n",
      "[*********************100%%**********************]  1 of 1 completed\n",
      "[*********************100%%**********************]  1 of 1 completed\n",
      "c:\\Users\\GRAYBILLKB20\\OneDrive - Grove City College\\Sophomore Year\\FinanceData\\FinanceData\\FinanceDataHelper.py:102: FutureWarning: The behavior of DataFrame concatenation with empty or all-NA entries is deprecated. In a future version, this will no longer exclude empty or all-NA columns when determining the result dtypes. To retain the old behavior, exclude the relevant entries before the concat operation.\n",
      "  return new_append_df if output_df is None else pd.concat([output_df,new_append_df])\n"
     ]
    },
    {
     "name": "stdout",
     "output_type": "stream",
     "text": [
      "448\n"
     ]
    },
    {
     "name": "stderr",
     "output_type": "stream",
     "text": [
      "[*********************100%%**********************]  1 of 1 completed\n",
      "[*********************100%%**********************]  1 of 1 completed\n",
      "[*********************100%%**********************]  1 of 1 completed\n",
      "[*********************100%%**********************]  1 of 1 completed\n",
      "[*********************100%%**********************]  1 of 1 completed\n",
      "c:\\Users\\GRAYBILLKB20\\OneDrive - Grove City College\\Sophomore Year\\FinanceData\\FinanceData\\FinanceDataHelper.py:102: FutureWarning: The behavior of DataFrame concatenation with empty or all-NA entries is deprecated. In a future version, this will no longer exclude empty or all-NA columns when determining the result dtypes. To retain the old behavior, exclude the relevant entries before the concat operation.\n",
      "  return new_append_df if output_df is None else pd.concat([output_df,new_append_df])\n"
     ]
    },
    {
     "name": "stdout",
     "output_type": "stream",
     "text": [
      "449\n"
     ]
    },
    {
     "name": "stderr",
     "output_type": "stream",
     "text": [
      "[*********************100%%**********************]  1 of 1 completed\n",
      "[*********************100%%**********************]  1 of 1 completed\n",
      "[*********************100%%**********************]  1 of 1 completed\n",
      "[*********************100%%**********************]  1 of 1 completed\n",
      "[*********************100%%**********************]  1 of 1 completed\n",
      "c:\\Users\\GRAYBILLKB20\\OneDrive - Grove City College\\Sophomore Year\\FinanceData\\FinanceData\\FinanceDataHelper.py:102: FutureWarning: The behavior of DataFrame concatenation with empty or all-NA entries is deprecated. In a future version, this will no longer exclude empty or all-NA columns when determining the result dtypes. To retain the old behavior, exclude the relevant entries before the concat operation.\n",
      "  return new_append_df if output_df is None else pd.concat([output_df,new_append_df])\n"
     ]
    },
    {
     "name": "stdout",
     "output_type": "stream",
     "text": [
      "450\n"
     ]
    },
    {
     "name": "stderr",
     "output_type": "stream",
     "text": [
      "[*********************100%%**********************]  1 of 1 completed\n",
      "[*********************100%%**********************]  1 of 1 completed\n",
      "[*********************100%%**********************]  1 of 1 completed\n",
      "[*********************100%%**********************]  1 of 1 completed\n",
      "[*********************100%%**********************]  1 of 1 completed\n",
      "c:\\Users\\GRAYBILLKB20\\OneDrive - Grove City College\\Sophomore Year\\FinanceData\\FinanceData\\FinanceDataHelper.py:102: FutureWarning: The behavior of DataFrame concatenation with empty or all-NA entries is deprecated. In a future version, this will no longer exclude empty or all-NA columns when determining the result dtypes. To retain the old behavior, exclude the relevant entries before the concat operation.\n",
      "  return new_append_df if output_df is None else pd.concat([output_df,new_append_df])\n"
     ]
    },
    {
     "name": "stdout",
     "output_type": "stream",
     "text": [
      "Index error retrieving data for TDG stock on 2024-11-05 00:00:00: single positional indexer is out-of-bounds\n",
      "Index error retrieving data for TDG stock on 2024-11-04 00:00:00: single positional indexer is out-of-bounds\n",
      "451\n"
     ]
    },
    {
     "name": "stderr",
     "output_type": "stream",
     "text": [
      "[*********************100%%**********************]  1 of 1 completed\n",
      "[*********************100%%**********************]  1 of 1 completed\n",
      "[*********************100%%**********************]  1 of 1 completed\n",
      "[*********************100%%**********************]  1 of 1 completed\n",
      "[*********************100%%**********************]  1 of 1 completed\n",
      "c:\\Users\\GRAYBILLKB20\\OneDrive - Grove City College\\Sophomore Year\\FinanceData\\FinanceData\\FinanceDataHelper.py:102: FutureWarning: The behavior of DataFrame concatenation with empty or all-NA entries is deprecated. In a future version, this will no longer exclude empty or all-NA columns when determining the result dtypes. To retain the old behavior, exclude the relevant entries before the concat operation.\n",
      "  return new_append_df if output_df is None else pd.concat([output_df,new_append_df])\n"
     ]
    },
    {
     "name": "stdout",
     "output_type": "stream",
     "text": [
      "452\n"
     ]
    },
    {
     "name": "stderr",
     "output_type": "stream",
     "text": [
      "[*********************100%%**********************]  1 of 1 completed\n",
      "[*********************100%%**********************]  1 of 1 completed\n",
      "[*********************100%%**********************]  1 of 1 completed\n",
      "[*********************100%%**********************]  1 of 1 completed\n",
      "[*********************100%%**********************]  1 of 1 completed\n",
      "c:\\Users\\GRAYBILLKB20\\OneDrive - Grove City College\\Sophomore Year\\FinanceData\\FinanceData\\FinanceDataHelper.py:102: FutureWarning: The behavior of DataFrame concatenation with empty or all-NA entries is deprecated. In a future version, this will no longer exclude empty or all-NA columns when determining the result dtypes. To retain the old behavior, exclude the relevant entries before the concat operation.\n",
      "  return new_append_df if output_df is None else pd.concat([output_df,new_append_df])\n"
     ]
    },
    {
     "name": "stdout",
     "output_type": "stream",
     "text": [
      "453\n"
     ]
    },
    {
     "name": "stderr",
     "output_type": "stream",
     "text": [
      "[*********************100%%**********************]  1 of 1 completed\n",
      "[*********************100%%**********************]  1 of 1 completed\n",
      "[*********************100%%**********************]  1 of 1 completed\n",
      "[*********************100%%**********************]  1 of 1 completed\n",
      "[*********************100%%**********************]  1 of 1 completed\n",
      "c:\\Users\\GRAYBILLKB20\\OneDrive - Grove City College\\Sophomore Year\\FinanceData\\FinanceData\\FinanceDataHelper.py:102: FutureWarning: The behavior of DataFrame concatenation with empty or all-NA entries is deprecated. In a future version, this will no longer exclude empty or all-NA columns when determining the result dtypes. To retain the old behavior, exclude the relevant entries before the concat operation.\n",
      "  return new_append_df if output_df is None else pd.concat([output_df,new_append_df])\n"
     ]
    },
    {
     "name": "stdout",
     "output_type": "stream",
     "text": [
      "454\n"
     ]
    },
    {
     "name": "stderr",
     "output_type": "stream",
     "text": [
      "[*********************100%%**********************]  1 of 1 completed\n",
      "[*********************100%%**********************]  1 of 1 completed\n",
      "[*********************100%%**********************]  1 of 1 completed\n",
      "[*********************100%%**********************]  1 of 1 completed\n",
      "[*********************100%%**********************]  1 of 1 completed\n",
      "c:\\Users\\GRAYBILLKB20\\OneDrive - Grove City College\\Sophomore Year\\FinanceData\\FinanceData\\FinanceDataHelper.py:102: FutureWarning: The behavior of DataFrame concatenation with empty or all-NA entries is deprecated. In a future version, this will no longer exclude empty or all-NA columns when determining the result dtypes. To retain the old behavior, exclude the relevant entries before the concat operation.\n",
      "  return new_append_df if output_df is None else pd.concat([output_df,new_append_df])\n"
     ]
    },
    {
     "name": "stdout",
     "output_type": "stream",
     "text": [
      "Index error retrieving data for TYL stock on 2024-11-07 00:00:00: single positional indexer is out-of-bounds\n",
      "Index error retrieving data for TYL stock on 2024-11-06 00:00:00: single positional indexer is out-of-bounds\n",
      "Index error retrieving data for TYL stock on 2024-11-05 00:00:00: single positional indexer is out-of-bounds\n",
      "Index error retrieving data for TYL stock on 2024-11-04 00:00:00: single positional indexer is out-of-bounds\n",
      "455\n"
     ]
    },
    {
     "name": "stderr",
     "output_type": "stream",
     "text": [
      "[*********************100%%**********************]  1 of 1 completed\n",
      "[*********************100%%**********************]  1 of 1 completed\n",
      "[*********************100%%**********************]  1 of 1 completed\n",
      "[*********************100%%**********************]  1 of 1 completed\n",
      "[*********************100%%**********************]  1 of 1 completed\n",
      "c:\\Users\\GRAYBILLKB20\\OneDrive - Grove City College\\Sophomore Year\\FinanceData\\FinanceData\\FinanceDataHelper.py:102: FutureWarning: The behavior of DataFrame concatenation with empty or all-NA entries is deprecated. In a future version, this will no longer exclude empty or all-NA columns when determining the result dtypes. To retain the old behavior, exclude the relevant entries before the concat operation.\n",
      "  return new_append_df if output_df is None else pd.concat([output_df,new_append_df])\n"
     ]
    },
    {
     "name": "stdout",
     "output_type": "stream",
     "text": [
      "456\n"
     ]
    },
    {
     "name": "stderr",
     "output_type": "stream",
     "text": [
      "[*********************100%%**********************]  1 of 1 completed\n",
      "[*********************100%%**********************]  1 of 1 completed\n",
      "[*********************100%%**********************]  1 of 1 completed\n",
      "[*********************100%%**********************]  1 of 1 completed\n",
      "[*********************100%%**********************]  1 of 1 completed\n",
      "c:\\Users\\GRAYBILLKB20\\OneDrive - Grove City College\\Sophomore Year\\FinanceData\\FinanceData\\FinanceDataHelper.py:102: FutureWarning: The behavior of DataFrame concatenation with empty or all-NA entries is deprecated. In a future version, this will no longer exclude empty or all-NA columns when determining the result dtypes. To retain the old behavior, exclude the relevant entries before the concat operation.\n",
      "  return new_append_df if output_df is None else pd.concat([output_df,new_append_df])\n"
     ]
    },
    {
     "name": "stdout",
     "output_type": "stream",
     "text": [
      "457\n"
     ]
    },
    {
     "name": "stderr",
     "output_type": "stream",
     "text": [
      "[*********************100%%**********************]  1 of 1 completed\n",
      "[*********************100%%**********************]  1 of 1 completed\n",
      "[*********************100%%**********************]  1 of 1 completed\n",
      "[*********************100%%**********************]  1 of 1 completed\n",
      "[*********************100%%**********************]  1 of 1 completed\n",
      "c:\\Users\\GRAYBILLKB20\\OneDrive - Grove City College\\Sophomore Year\\FinanceData\\FinanceData\\FinanceDataHelper.py:102: FutureWarning: The behavior of DataFrame concatenation with empty or all-NA entries is deprecated. In a future version, this will no longer exclude empty or all-NA columns when determining the result dtypes. To retain the old behavior, exclude the relevant entries before the concat operation.\n",
      "  return new_append_df if output_df is None else pd.concat([output_df,new_append_df])\n"
     ]
    },
    {
     "name": "stdout",
     "output_type": "stream",
     "text": [
      "458\n"
     ]
    },
    {
     "name": "stderr",
     "output_type": "stream",
     "text": [
      "[*********************100%%**********************]  1 of 1 completed\n",
      "[*********************100%%**********************]  1 of 1 completed\n",
      "[*********************100%%**********************]  1 of 1 completed\n",
      "[*********************100%%**********************]  1 of 1 completed\n",
      "[*********************100%%**********************]  1 of 1 completed\n",
      "c:\\Users\\GRAYBILLKB20\\OneDrive - Grove City College\\Sophomore Year\\FinanceData\\FinanceData\\FinanceDataHelper.py:102: FutureWarning: The behavior of DataFrame concatenation with empty or all-NA entries is deprecated. In a future version, this will no longer exclude empty or all-NA columns when determining the result dtypes. To retain the old behavior, exclude the relevant entries before the concat operation.\n",
      "  return new_append_df if output_df is None else pd.concat([output_df,new_append_df])\n"
     ]
    },
    {
     "name": "stdout",
     "output_type": "stream",
     "text": [
      "459\n"
     ]
    },
    {
     "name": "stderr",
     "output_type": "stream",
     "text": [
      "[*********************100%%**********************]  1 of 1 completed\n",
      "[*********************100%%**********************]  1 of 1 completed\n",
      "[*********************100%%**********************]  1 of 1 completed\n",
      "[*********************100%%**********************]  1 of 1 completed\n",
      "[*********************100%%**********************]  1 of 1 completed\n",
      "c:\\Users\\GRAYBILLKB20\\OneDrive - Grove City College\\Sophomore Year\\FinanceData\\FinanceData\\FinanceDataHelper.py:102: FutureWarning: The behavior of DataFrame concatenation with empty or all-NA entries is deprecated. In a future version, this will no longer exclude empty or all-NA columns when determining the result dtypes. To retain the old behavior, exclude the relevant entries before the concat operation.\n",
      "  return new_append_df if output_df is None else pd.concat([output_df,new_append_df])\n"
     ]
    },
    {
     "name": "stdout",
     "output_type": "stream",
     "text": [
      "Index error retrieving data for ULTA stock on 2024-11-04 00:00:00: single positional indexer is out-of-bounds\n",
      "460\n"
     ]
    },
    {
     "name": "stderr",
     "output_type": "stream",
     "text": [
      "[*********************100%%**********************]  1 of 1 completed\n",
      "[*********************100%%**********************]  1 of 1 completed\n",
      "[*********************100%%**********************]  1 of 1 completed\n",
      "[*********************100%%**********************]  1 of 1 completed\n",
      "[*********************100%%**********************]  1 of 1 completed\n",
      "c:\\Users\\GRAYBILLKB20\\OneDrive - Grove City College\\Sophomore Year\\FinanceData\\FinanceData\\FinanceDataHelper.py:102: FutureWarning: The behavior of DataFrame concatenation with empty or all-NA entries is deprecated. In a future version, this will no longer exclude empty or all-NA columns when determining the result dtypes. To retain the old behavior, exclude the relevant entries before the concat operation.\n",
      "  return new_append_df if output_df is None else pd.concat([output_df,new_append_df])\n"
     ]
    },
    {
     "name": "stdout",
     "output_type": "stream",
     "text": [
      "461\n"
     ]
    },
    {
     "name": "stderr",
     "output_type": "stream",
     "text": [
      "[*********************100%%**********************]  1 of 1 completed\n",
      "[*********************100%%**********************]  1 of 1 completed\n",
      "[*********************100%%**********************]  1 of 1 completed\n",
      "[*********************100%%**********************]  1 of 1 completed\n",
      "[*********************100%%**********************]  1 of 1 completed\n",
      "c:\\Users\\GRAYBILLKB20\\OneDrive - Grove City College\\Sophomore Year\\FinanceData\\FinanceData\\FinanceDataHelper.py:102: FutureWarning: The behavior of DataFrame concatenation with empty or all-NA entries is deprecated. In a future version, this will no longer exclude empty or all-NA columns when determining the result dtypes. To retain the old behavior, exclude the relevant entries before the concat operation.\n",
      "  return new_append_df if output_df is None else pd.concat([output_df,new_append_df])\n"
     ]
    },
    {
     "name": "stdout",
     "output_type": "stream",
     "text": [
      "462\n"
     ]
    },
    {
     "name": "stderr",
     "output_type": "stream",
     "text": [
      "[*********************100%%**********************]  1 of 1 completed\n",
      "[*********************100%%**********************]  1 of 1 completed\n",
      "[*********************100%%**********************]  1 of 1 completed\n",
      "[*********************100%%**********************]  1 of 1 completed\n",
      "[*********************100%%**********************]  1 of 1 completed\n",
      "c:\\Users\\GRAYBILLKB20\\OneDrive - Grove City College\\Sophomore Year\\FinanceData\\FinanceData\\FinanceDataHelper.py:102: FutureWarning: The behavior of DataFrame concatenation with empty or all-NA entries is deprecated. In a future version, this will no longer exclude empty or all-NA columns when determining the result dtypes. To retain the old behavior, exclude the relevant entries before the concat operation.\n",
      "  return new_append_df if output_df is None else pd.concat([output_df,new_append_df])\n"
     ]
    },
    {
     "name": "stdout",
     "output_type": "stream",
     "text": [
      "463\n"
     ]
    },
    {
     "name": "stderr",
     "output_type": "stream",
     "text": [
      "[*********************100%%**********************]  1 of 1 completed\n",
      "[*********************100%%**********************]  1 of 1 completed\n",
      "[*********************100%%**********************]  1 of 1 completed\n",
      "[*********************100%%**********************]  1 of 1 completed\n",
      "[*********************100%%**********************]  1 of 1 completed\n",
      "c:\\Users\\GRAYBILLKB20\\OneDrive - Grove City College\\Sophomore Year\\FinanceData\\FinanceData\\FinanceDataHelper.py:102: FutureWarning: The behavior of DataFrame concatenation with empty or all-NA entries is deprecated. In a future version, this will no longer exclude empty or all-NA columns when determining the result dtypes. To retain the old behavior, exclude the relevant entries before the concat operation.\n",
      "  return new_append_df if output_df is None else pd.concat([output_df,new_append_df])\n"
     ]
    },
    {
     "name": "stdout",
     "output_type": "stream",
     "text": [
      "Index error retrieving data for URI stock on 2024-11-04 00:00:00: single positional indexer is out-of-bounds\n",
      "464\n"
     ]
    },
    {
     "name": "stderr",
     "output_type": "stream",
     "text": [
      "[*********************100%%**********************]  1 of 1 completed\n",
      "[*********************100%%**********************]  1 of 1 completed\n",
      "[*********************100%%**********************]  1 of 1 completed\n",
      "[*********************100%%**********************]  1 of 1 completed\n",
      "[*********************100%%**********************]  1 of 1 completed\n",
      "c:\\Users\\GRAYBILLKB20\\OneDrive - Grove City College\\Sophomore Year\\FinanceData\\FinanceData\\FinanceDataHelper.py:102: FutureWarning: The behavior of DataFrame concatenation with empty or all-NA entries is deprecated. In a future version, this will no longer exclude empty or all-NA columns when determining the result dtypes. To retain the old behavior, exclude the relevant entries before the concat operation.\n",
      "  return new_append_df if output_df is None else pd.concat([output_df,new_append_df])\n"
     ]
    },
    {
     "name": "stdout",
     "output_type": "stream",
     "text": [
      "465\n"
     ]
    },
    {
     "name": "stderr",
     "output_type": "stream",
     "text": [
      "[*********************100%%**********************]  1 of 1 completed\n",
      "[*********************100%%**********************]  1 of 1 completed\n",
      "[*********************100%%**********************]  1 of 1 completed\n",
      "[*********************100%%**********************]  1 of 1 completed\n",
      "[*********************100%%**********************]  1 of 1 completed\n",
      "c:\\Users\\GRAYBILLKB20\\OneDrive - Grove City College\\Sophomore Year\\FinanceData\\FinanceData\\FinanceDataHelper.py:102: FutureWarning: The behavior of DataFrame concatenation with empty or all-NA entries is deprecated. In a future version, this will no longer exclude empty or all-NA columns when determining the result dtypes. To retain the old behavior, exclude the relevant entries before the concat operation.\n",
      "  return new_append_df if output_df is None else pd.concat([output_df,new_append_df])\n"
     ]
    },
    {
     "name": "stdout",
     "output_type": "stream",
     "text": [
      "466\n"
     ]
    },
    {
     "name": "stderr",
     "output_type": "stream",
     "text": [
      "[*********************100%%**********************]  1 of 1 completed\n",
      "[*********************100%%**********************]  1 of 1 completed\n",
      "[*********************100%%**********************]  1 of 1 completed\n",
      "[*********************100%%**********************]  1 of 1 completed\n",
      "[*********************100%%**********************]  1 of 1 completed\n",
      "c:\\Users\\GRAYBILLKB20\\OneDrive - Grove City College\\Sophomore Year\\FinanceData\\FinanceData\\FinanceDataHelper.py:102: FutureWarning: The behavior of DataFrame concatenation with empty or all-NA entries is deprecated. In a future version, this will no longer exclude empty or all-NA columns when determining the result dtypes. To retain the old behavior, exclude the relevant entries before the concat operation.\n",
      "  return new_append_df if output_df is None else pd.concat([output_df,new_append_df])\n"
     ]
    },
    {
     "name": "stdout",
     "output_type": "stream",
     "text": [
      "467\n"
     ]
    },
    {
     "name": "stderr",
     "output_type": "stream",
     "text": [
      "[*********************100%%**********************]  1 of 1 completed\n",
      "[*********************100%%**********************]  1 of 1 completed\n",
      "[*********************100%%**********************]  1 of 1 completed\n",
      "[*********************100%%**********************]  1 of 1 completed\n",
      "[*********************100%%**********************]  1 of 1 completed\n",
      "c:\\Users\\GRAYBILLKB20\\OneDrive - Grove City College\\Sophomore Year\\FinanceData\\FinanceData\\FinanceDataHelper.py:102: FutureWarning: The behavior of DataFrame concatenation with empty or all-NA entries is deprecated. In a future version, this will no longer exclude empty or all-NA columns when determining the result dtypes. To retain the old behavior, exclude the relevant entries before the concat operation.\n",
      "  return new_append_df if output_df is None else pd.concat([output_df,new_append_df])\n"
     ]
    },
    {
     "name": "stdout",
     "output_type": "stream",
     "text": [
      "468\n"
     ]
    },
    {
     "name": "stderr",
     "output_type": "stream",
     "text": [
      "[*********************100%%**********************]  1 of 1 completed\n",
      "[*********************100%%**********************]  1 of 1 completed\n",
      "[*********************100%%**********************]  1 of 1 completed\n",
      "[*********************100%%**********************]  1 of 1 completed\n",
      "[*********************100%%**********************]  1 of 1 completed\n",
      "c:\\Users\\GRAYBILLKB20\\OneDrive - Grove City College\\Sophomore Year\\FinanceData\\FinanceData\\FinanceDataHelper.py:102: FutureWarning: The behavior of DataFrame concatenation with empty or all-NA entries is deprecated. In a future version, this will no longer exclude empty or all-NA columns when determining the result dtypes. To retain the old behavior, exclude the relevant entries before the concat operation.\n",
      "  return new_append_df if output_df is None else pd.concat([output_df,new_append_df])\n"
     ]
    },
    {
     "name": "stdout",
     "output_type": "stream",
     "text": [
      "469\n"
     ]
    },
    {
     "name": "stderr",
     "output_type": "stream",
     "text": [
      "[*********************100%%**********************]  1 of 1 completed\n",
      "[*********************100%%**********************]  1 of 1 completed\n",
      "[*********************100%%**********************]  1 of 1 completed\n",
      "[*********************100%%**********************]  1 of 1 completed\n",
      "[*********************100%%**********************]  1 of 1 completed\n",
      "c:\\Users\\GRAYBILLKB20\\OneDrive - Grove City College\\Sophomore Year\\FinanceData\\FinanceData\\FinanceDataHelper.py:102: FutureWarning: The behavior of DataFrame concatenation with empty or all-NA entries is deprecated. In a future version, this will no longer exclude empty or all-NA columns when determining the result dtypes. To retain the old behavior, exclude the relevant entries before the concat operation.\n",
      "  return new_append_df if output_df is None else pd.concat([output_df,new_append_df])\n"
     ]
    },
    {
     "name": "stdout",
     "output_type": "stream",
     "text": [
      "Index error retrieving data for VRSN stock on 2024-11-04 00:00:00: single positional indexer is out-of-bounds\n",
      "470\n"
     ]
    },
    {
     "name": "stderr",
     "output_type": "stream",
     "text": [
      "[*********************100%%**********************]  1 of 1 completed\n",
      "[*********************100%%**********************]  1 of 1 completed\n",
      "[*********************100%%**********************]  1 of 1 completed\n",
      "[*********************100%%**********************]  1 of 1 completed\n",
      "[*********************100%%**********************]  1 of 1 completed\n",
      "c:\\Users\\GRAYBILLKB20\\OneDrive - Grove City College\\Sophomore Year\\FinanceData\\FinanceData\\FinanceDataHelper.py:102: FutureWarning: The behavior of DataFrame concatenation with empty or all-NA entries is deprecated. In a future version, this will no longer exclude empty or all-NA columns when determining the result dtypes. To retain the old behavior, exclude the relevant entries before the concat operation.\n",
      "  return new_append_df if output_df is None else pd.concat([output_df,new_append_df])\n"
     ]
    },
    {
     "name": "stdout",
     "output_type": "stream",
     "text": [
      "Index error retrieving data for VRSK stock on 2024-11-04 00:00:00: single positional indexer is out-of-bounds\n",
      "471\n"
     ]
    },
    {
     "name": "stderr",
     "output_type": "stream",
     "text": [
      "[*********************100%%**********************]  1 of 1 completed\n",
      "[*********************100%%**********************]  1 of 1 completed\n",
      "[*********************100%%**********************]  1 of 1 completed\n",
      "[*********************100%%**********************]  1 of 1 completed\n",
      "[*********************100%%**********************]  1 of 1 completed\n",
      "c:\\Users\\GRAYBILLKB20\\OneDrive - Grove City College\\Sophomore Year\\FinanceData\\FinanceData\\FinanceDataHelper.py:102: FutureWarning: The behavior of DataFrame concatenation with empty or all-NA entries is deprecated. In a future version, this will no longer exclude empty or all-NA columns when determining the result dtypes. To retain the old behavior, exclude the relevant entries before the concat operation.\n",
      "  return new_append_df if output_df is None else pd.concat([output_df,new_append_df])\n"
     ]
    },
    {
     "name": "stdout",
     "output_type": "stream",
     "text": [
      "472\n"
     ]
    },
    {
     "name": "stderr",
     "output_type": "stream",
     "text": [
      "[*********************100%%**********************]  1 of 1 completed\n",
      "[*********************100%%**********************]  1 of 1 completed\n",
      "[*********************100%%**********************]  1 of 1 completed\n",
      "[*********************100%%**********************]  1 of 1 completed\n",
      "[*********************100%%**********************]  1 of 1 completed\n",
      "c:\\Users\\GRAYBILLKB20\\OneDrive - Grove City College\\Sophomore Year\\FinanceData\\FinanceData\\FinanceDataHelper.py:102: FutureWarning: The behavior of DataFrame concatenation with empty or all-NA entries is deprecated. In a future version, this will no longer exclude empty or all-NA columns when determining the result dtypes. To retain the old behavior, exclude the relevant entries before the concat operation.\n",
      "  return new_append_df if output_df is None else pd.concat([output_df,new_append_df])\n"
     ]
    },
    {
     "name": "stdout",
     "output_type": "stream",
     "text": [
      "473\n"
     ]
    },
    {
     "name": "stderr",
     "output_type": "stream",
     "text": [
      "[*********************100%%**********************]  1 of 1 completed\n",
      "[*********************100%%**********************]  1 of 1 completed\n",
      "[*********************100%%**********************]  1 of 1 completed\n",
      "[*********************100%%**********************]  1 of 1 completed\n",
      "[*********************100%%**********************]  1 of 1 completed\n",
      "c:\\Users\\GRAYBILLKB20\\OneDrive - Grove City College\\Sophomore Year\\FinanceData\\FinanceData\\FinanceDataHelper.py:102: FutureWarning: The behavior of DataFrame concatenation with empty or all-NA entries is deprecated. In a future version, this will no longer exclude empty or all-NA columns when determining the result dtypes. To retain the old behavior, exclude the relevant entries before the concat operation.\n",
      "  return new_append_df if output_df is None else pd.concat([output_df,new_append_df])\n"
     ]
    },
    {
     "name": "stdout",
     "output_type": "stream",
     "text": [
      "474\n"
     ]
    },
    {
     "name": "stderr",
     "output_type": "stream",
     "text": [
      "[*********************100%%**********************]  1 of 1 completed\n",
      "[*********************100%%**********************]  1 of 1 completed\n",
      "[*********************100%%**********************]  1 of 1 completed\n",
      "[*********************100%%**********************]  1 of 1 completed\n",
      "[*********************100%%**********************]  1 of 1 completed\n",
      "c:\\Users\\GRAYBILLKB20\\OneDrive - Grove City College\\Sophomore Year\\FinanceData\\FinanceData\\FinanceDataHelper.py:102: FutureWarning: The behavior of DataFrame concatenation with empty or all-NA entries is deprecated. In a future version, this will no longer exclude empty or all-NA columns when determining the result dtypes. To retain the old behavior, exclude the relevant entries before the concat operation.\n",
      "  return new_append_df if output_df is None else pd.concat([output_df,new_append_df])\n"
     ]
    },
    {
     "name": "stdout",
     "output_type": "stream",
     "text": [
      "475\n"
     ]
    },
    {
     "name": "stderr",
     "output_type": "stream",
     "text": [
      "[*********************100%%**********************]  1 of 1 completed\n",
      "[*********************100%%**********************]  1 of 1 completed\n",
      "[*********************100%%**********************]  1 of 1 completed\n",
      "[*********************100%%**********************]  1 of 1 completed\n",
      "[*********************100%%**********************]  1 of 1 completed\n",
      "c:\\Users\\GRAYBILLKB20\\OneDrive - Grove City College\\Sophomore Year\\FinanceData\\FinanceData\\FinanceDataHelper.py:102: FutureWarning: The behavior of DataFrame concatenation with empty or all-NA entries is deprecated. In a future version, this will no longer exclude empty or all-NA columns when determining the result dtypes. To retain the old behavior, exclude the relevant entries before the concat operation.\n",
      "  return new_append_df if output_df is None else pd.concat([output_df,new_append_df])\n"
     ]
    },
    {
     "name": "stdout",
     "output_type": "stream",
     "text": [
      "476\n"
     ]
    },
    {
     "name": "stderr",
     "output_type": "stream",
     "text": [
      "[*********************100%%**********************]  1 of 1 completed\n",
      "[*********************100%%**********************]  1 of 1 completed\n",
      "[*********************100%%**********************]  1 of 1 completed\n",
      "[*********************100%%**********************]  1 of 1 completed\n",
      "[*********************100%%**********************]  1 of 1 completed\n",
      "c:\\Users\\GRAYBILLKB20\\OneDrive - Grove City College\\Sophomore Year\\FinanceData\\FinanceData\\FinanceDataHelper.py:102: FutureWarning: The behavior of DataFrame concatenation with empty or all-NA entries is deprecated. In a future version, this will no longer exclude empty or all-NA columns when determining the result dtypes. To retain the old behavior, exclude the relevant entries before the concat operation.\n",
      "  return new_append_df if output_df is None else pd.concat([output_df,new_append_df])\n"
     ]
    },
    {
     "name": "stdout",
     "output_type": "stream",
     "text": [
      "477\n"
     ]
    },
    {
     "name": "stderr",
     "output_type": "stream",
     "text": [
      "[*********************100%%**********************]  1 of 1 completed\n",
      "[*********************100%%**********************]  1 of 1 completed\n",
      "[*********************100%%**********************]  1 of 1 completed\n",
      "[*********************100%%**********************]  1 of 1 completed\n",
      "[*********************100%%**********************]  1 of 1 completed\n",
      "c:\\Users\\GRAYBILLKB20\\OneDrive - Grove City College\\Sophomore Year\\FinanceData\\FinanceData\\FinanceDataHelper.py:102: FutureWarning: The behavior of DataFrame concatenation with empty or all-NA entries is deprecated. In a future version, this will no longer exclude empty or all-NA columns when determining the result dtypes. To retain the old behavior, exclude the relevant entries before the concat operation.\n",
      "  return new_append_df if output_df is None else pd.concat([output_df,new_append_df])\n"
     ]
    },
    {
     "name": "stdout",
     "output_type": "stream",
     "text": [
      "478\n"
     ]
    },
    {
     "name": "stderr",
     "output_type": "stream",
     "text": [
      "[*********************100%%**********************]  1 of 1 completed\n",
      "[*********************100%%**********************]  1 of 1 completed\n",
      "[*********************100%%**********************]  1 of 1 completed\n",
      "[*********************100%%**********************]  1 of 1 completed\n",
      "[*********************100%%**********************]  1 of 1 completed\n",
      "c:\\Users\\GRAYBILLKB20\\OneDrive - Grove City College\\Sophomore Year\\FinanceData\\FinanceData\\FinanceDataHelper.py:102: FutureWarning: The behavior of DataFrame concatenation with empty or all-NA entries is deprecated. In a future version, this will no longer exclude empty or all-NA columns when determining the result dtypes. To retain the old behavior, exclude the relevant entries before the concat operation.\n",
      "  return new_append_df if output_df is None else pd.concat([output_df,new_append_df])\n"
     ]
    },
    {
     "name": "stdout",
     "output_type": "stream",
     "text": [
      "479\n"
     ]
    },
    {
     "name": "stderr",
     "output_type": "stream",
     "text": [
      "[*********************100%%**********************]  1 of 1 completed\n",
      "[*********************100%%**********************]  1 of 1 completed\n",
      "[*********************100%%**********************]  1 of 1 completed\n",
      "[*********************100%%**********************]  1 of 1 completed\n",
      "[*********************100%%**********************]  1 of 1 completed\n",
      "c:\\Users\\GRAYBILLKB20\\OneDrive - Grove City College\\Sophomore Year\\FinanceData\\FinanceData\\FinanceDataHelper.py:102: FutureWarning: The behavior of DataFrame concatenation with empty or all-NA entries is deprecated. In a future version, this will no longer exclude empty or all-NA columns when determining the result dtypes. To retain the old behavior, exclude the relevant entries before the concat operation.\n",
      "  return new_append_df if output_df is None else pd.concat([output_df,new_append_df])\n"
     ]
    },
    {
     "name": "stdout",
     "output_type": "stream",
     "text": [
      "Index error retrieving data for GWW stock on 2024-11-07 00:00:00: single positional indexer is out-of-bounds\n",
      "Index error retrieving data for GWW stock on 2024-11-06 00:00:00: single positional indexer is out-of-bounds\n",
      "Index error retrieving data for GWW stock on 2024-11-05 00:00:00: single positional indexer is out-of-bounds\n",
      "Index error retrieving data for GWW stock on 2024-11-04 00:00:00: single positional indexer is out-of-bounds\n",
      "480\n"
     ]
    },
    {
     "name": "stderr",
     "output_type": "stream",
     "text": [
      "[*********************100%%**********************]  1 of 1 completed\n",
      "[*********************100%%**********************]  1 of 1 completed\n",
      "[*********************100%%**********************]  1 of 1 completed\n",
      "[*********************100%%**********************]  1 of 1 completed\n",
      "[*********************100%%**********************]  1 of 1 completed\n",
      "\n",
      "1 Failed download:\n",
      "['WAB']: YFChartError('%ticker%: 1m data not available for startTime=1732251600 and endTime=1732942800. Only 7 days worth of 1m granularity data are allowed to be fetched per request.')\n",
      "c:\\Users\\GRAYBILLKB20\\OneDrive - Grove City College\\Sophomore Year\\FinanceData\\FinanceData\\FinanceDataHelper.py:33: FutureWarning: The behavior of array concatenation with empty entries is deprecated. In a future version, this will no longer exclude empty items when determining the result dtype. To retain the old behavior, exclude the empty entries before the concat operation.\n",
      "  data_series = pd.concat([data_series, yf.download(tickers=symbol, start=start_and_ends[i][0], end=(start_and_ends[i][1] + datetime.timedelta(days=1)), period='5d', interval='1m')['Close']])\n",
      "c:\\Users\\GRAYBILLKB20\\OneDrive - Grove City College\\Sophomore Year\\FinanceData\\FinanceData\\FinanceDataHelper.py:102: FutureWarning: The behavior of DataFrame concatenation with empty or all-NA entries is deprecated. In a future version, this will no longer exclude empty or all-NA columns when determining the result dtypes. To retain the old behavior, exclude the relevant entries before the concat operation.\n",
      "  return new_append_df if output_df is None else pd.concat([output_df,new_append_df])\n"
     ]
    },
    {
     "name": "stdout",
     "output_type": "stream",
     "text": [
      "481\n"
     ]
    },
    {
     "name": "stderr",
     "output_type": "stream",
     "text": [
      "[*********************100%%**********************]  1 of 1 completed\n",
      "[*********************100%%**********************]  1 of 1 completed\n",
      "[*********************100%%**********************]  1 of 1 completed\n",
      "[*********************100%%**********************]  1 of 1 completed\n",
      "[*********************100%%**********************]  1 of 1 completed\n",
      "c:\\Users\\GRAYBILLKB20\\OneDrive - Grove City College\\Sophomore Year\\FinanceData\\FinanceData\\FinanceDataHelper.py:102: FutureWarning: The behavior of DataFrame concatenation with empty or all-NA entries is deprecated. In a future version, this will no longer exclude empty or all-NA columns when determining the result dtypes. To retain the old behavior, exclude the relevant entries before the concat operation.\n",
      "  return new_append_df if output_df is None else pd.concat([output_df,new_append_df])\n"
     ]
    },
    {
     "name": "stdout",
     "output_type": "stream",
     "text": [
      "482\n"
     ]
    },
    {
     "name": "stderr",
     "output_type": "stream",
     "text": [
      "[*********************100%%**********************]  1 of 1 completed\n",
      "[*********************100%%**********************]  1 of 1 completed\n",
      "[*********************100%%**********************]  1 of 1 completed\n",
      "[*********************100%%**********************]  1 of 1 completed\n",
      "[*********************100%%**********************]  1 of 1 completed\n",
      "c:\\Users\\GRAYBILLKB20\\OneDrive - Grove City College\\Sophomore Year\\FinanceData\\FinanceData\\FinanceDataHelper.py:102: FutureWarning: The behavior of DataFrame concatenation with empty or all-NA entries is deprecated. In a future version, this will no longer exclude empty or all-NA columns when determining the result dtypes. To retain the old behavior, exclude the relevant entries before the concat operation.\n",
      "  return new_append_df if output_df is None else pd.concat([output_df,new_append_df])\n"
     ]
    },
    {
     "name": "stdout",
     "output_type": "stream",
     "text": [
      "483\n"
     ]
    },
    {
     "name": "stderr",
     "output_type": "stream",
     "text": [
      "[*********************100%%**********************]  1 of 1 completed\n",
      "[*********************100%%**********************]  1 of 1 completed\n",
      "[*********************100%%**********************]  1 of 1 completed\n",
      "[*********************100%%**********************]  1 of 1 completed\n",
      "[*********************100%%**********************]  1 of 1 completed\n",
      "c:\\Users\\GRAYBILLKB20\\OneDrive - Grove City College\\Sophomore Year\\FinanceData\\FinanceData\\FinanceDataHelper.py:102: FutureWarning: The behavior of DataFrame concatenation with empty or all-NA entries is deprecated. In a future version, this will no longer exclude empty or all-NA columns when determining the result dtypes. To retain the old behavior, exclude the relevant entries before the concat operation.\n",
      "  return new_append_df if output_df is None else pd.concat([output_df,new_append_df])\n"
     ]
    },
    {
     "name": "stdout",
     "output_type": "stream",
     "text": [
      "484\n"
     ]
    },
    {
     "name": "stderr",
     "output_type": "stream",
     "text": [
      "[*********************100%%**********************]  1 of 1 completed\n",
      "[*********************100%%**********************]  1 of 1 completed\n",
      "[*********************100%%**********************]  1 of 1 completed\n",
      "[*********************100%%**********************]  1 of 1 completed\n",
      "[*********************100%%**********************]  1 of 1 completed\n",
      "c:\\Users\\GRAYBILLKB20\\OneDrive - Grove City College\\Sophomore Year\\FinanceData\\FinanceData\\FinanceDataHelper.py:102: FutureWarning: The behavior of DataFrame concatenation with empty or all-NA entries is deprecated. In a future version, this will no longer exclude empty or all-NA columns when determining the result dtypes. To retain the old behavior, exclude the relevant entries before the concat operation.\n",
      "  return new_append_df if output_df is None else pd.concat([output_df,new_append_df])\n"
     ]
    },
    {
     "name": "stdout",
     "output_type": "stream",
     "text": [
      "485\n"
     ]
    },
    {
     "name": "stderr",
     "output_type": "stream",
     "text": [
      "[*********************100%%**********************]  1 of 1 completed\n",
      "[*********************100%%**********************]  1 of 1 completed\n",
      "[*********************100%%**********************]  1 of 1 completed\n",
      "[*********************100%%**********************]  1 of 1 completed\n",
      "[*********************100%%**********************]  1 of 1 completed\n",
      "c:\\Users\\GRAYBILLKB20\\OneDrive - Grove City College\\Sophomore Year\\FinanceData\\FinanceData\\FinanceDataHelper.py:102: FutureWarning: The behavior of DataFrame concatenation with empty or all-NA entries is deprecated. In a future version, this will no longer exclude empty or all-NA columns when determining the result dtypes. To retain the old behavior, exclude the relevant entries before the concat operation.\n",
      "  return new_append_df if output_df is None else pd.concat([output_df,new_append_df])\n"
     ]
    },
    {
     "name": "stdout",
     "output_type": "stream",
     "text": [
      "486\n"
     ]
    },
    {
     "name": "stderr",
     "output_type": "stream",
     "text": [
      "[*********************100%%**********************]  1 of 1 completed\n",
      "[*********************100%%**********************]  1 of 1 completed\n",
      "[*********************100%%**********************]  1 of 1 completed\n",
      "[*********************100%%**********************]  1 of 1 completed\n",
      "[*********************100%%**********************]  1 of 1 completed\n",
      "c:\\Users\\GRAYBILLKB20\\OneDrive - Grove City College\\Sophomore Year\\FinanceData\\FinanceData\\FinanceDataHelper.py:102: FutureWarning: The behavior of DataFrame concatenation with empty or all-NA entries is deprecated. In a future version, this will no longer exclude empty or all-NA columns when determining the result dtypes. To retain the old behavior, exclude the relevant entries before the concat operation.\n",
      "  return new_append_df if output_df is None else pd.concat([output_df,new_append_df])\n"
     ]
    },
    {
     "name": "stdout",
     "output_type": "stream",
     "text": [
      "487\n"
     ]
    },
    {
     "name": "stderr",
     "output_type": "stream",
     "text": [
      "[*********************100%%**********************]  1 of 1 completed\n",
      "[*********************100%%**********************]  1 of 1 completed\n",
      "[*********************100%%**********************]  1 of 1 completed\n",
      "[*********************100%%**********************]  1 of 1 completed\n",
      "[*********************100%%**********************]  1 of 1 completed\n",
      "c:\\Users\\GRAYBILLKB20\\OneDrive - Grove City College\\Sophomore Year\\FinanceData\\FinanceData\\FinanceDataHelper.py:102: FutureWarning: The behavior of DataFrame concatenation with empty or all-NA entries is deprecated. In a future version, this will no longer exclude empty or all-NA columns when determining the result dtypes. To retain the old behavior, exclude the relevant entries before the concat operation.\n",
      "  return new_append_df if output_df is None else pd.concat([output_df,new_append_df])\n"
     ]
    },
    {
     "name": "stdout",
     "output_type": "stream",
     "text": [
      "488\n"
     ]
    },
    {
     "name": "stderr",
     "output_type": "stream",
     "text": [
      "[*********************100%%**********************]  1 of 1 completed\n",
      "[*********************100%%**********************]  1 of 1 completed\n",
      "[*********************100%%**********************]  1 of 1 completed\n",
      "[*********************100%%**********************]  1 of 1 completed\n",
      "[*********************100%%**********************]  1 of 1 completed\n",
      "c:\\Users\\GRAYBILLKB20\\OneDrive - Grove City College\\Sophomore Year\\FinanceData\\FinanceData\\FinanceDataHelper.py:102: FutureWarning: The behavior of DataFrame concatenation with empty or all-NA entries is deprecated. In a future version, this will no longer exclude empty or all-NA columns when determining the result dtypes. To retain the old behavior, exclude the relevant entries before the concat operation.\n",
      "  return new_append_df if output_df is None else pd.concat([output_df,new_append_df])\n"
     ]
    },
    {
     "name": "stdout",
     "output_type": "stream",
     "text": [
      "489\n"
     ]
    },
    {
     "name": "stderr",
     "output_type": "stream",
     "text": [
      "[*********************100%%**********************]  1 of 1 completed\n",
      "[*********************100%%**********************]  1 of 1 completed\n",
      "[*********************100%%**********************]  1 of 1 completed\n",
      "[*********************100%%**********************]  1 of 1 completed\n",
      "[*********************100%%**********************]  1 of 1 completed\n",
      "c:\\Users\\GRAYBILLKB20\\OneDrive - Grove City College\\Sophomore Year\\FinanceData\\FinanceData\\FinanceDataHelper.py:102: FutureWarning: The behavior of DataFrame concatenation with empty or all-NA entries is deprecated. In a future version, this will no longer exclude empty or all-NA columns when determining the result dtypes. To retain the old behavior, exclude the relevant entries before the concat operation.\n",
      "  return new_append_df if output_df is None else pd.concat([output_df,new_append_df])\n"
     ]
    },
    {
     "name": "stdout",
     "output_type": "stream",
     "text": [
      "490\n"
     ]
    },
    {
     "name": "stderr",
     "output_type": "stream",
     "text": [
      "[*********************100%%**********************]  1 of 1 completed\n",
      "[*********************100%%**********************]  1 of 1 completed\n",
      "[*********************100%%**********************]  1 of 1 completed\n",
      "[*********************100%%**********************]  1 of 1 completed\n",
      "[*********************100%%**********************]  1 of 1 completed\n",
      "c:\\Users\\GRAYBILLKB20\\OneDrive - Grove City College\\Sophomore Year\\FinanceData\\FinanceData\\FinanceDataHelper.py:102: FutureWarning: The behavior of DataFrame concatenation with empty or all-NA entries is deprecated. In a future version, this will no longer exclude empty or all-NA columns when determining the result dtypes. To retain the old behavior, exclude the relevant entries before the concat operation.\n",
      "  return new_append_df if output_df is None else pd.concat([output_df,new_append_df])\n"
     ]
    },
    {
     "name": "stdout",
     "output_type": "stream",
     "text": [
      "Index error retrieving data for WST stock on 2024-11-04 00:00:00: single positional indexer is out-of-bounds\n",
      "491\n"
     ]
    },
    {
     "name": "stderr",
     "output_type": "stream",
     "text": [
      "[*********************100%%**********************]  1 of 1 completed\n",
      "[*********************100%%**********************]  1 of 1 completed\n",
      "[*********************100%%**********************]  1 of 1 completed\n",
      "[*********************100%%**********************]  1 of 1 completed\n",
      "[*********************100%%**********************]  1 of 1 completed\n",
      "c:\\Users\\GRAYBILLKB20\\OneDrive - Grove City College\\Sophomore Year\\FinanceData\\FinanceData\\FinanceDataHelper.py:102: FutureWarning: The behavior of DataFrame concatenation with empty or all-NA entries is deprecated. In a future version, this will no longer exclude empty or all-NA columns when determining the result dtypes. To retain the old behavior, exclude the relevant entries before the concat operation.\n",
      "  return new_append_df if output_df is None else pd.concat([output_df,new_append_df])\n"
     ]
    },
    {
     "name": "stdout",
     "output_type": "stream",
     "text": [
      "492\n"
     ]
    },
    {
     "name": "stderr",
     "output_type": "stream",
     "text": [
      "[*********************100%%**********************]  1 of 1 completed\n",
      "[*********************100%%**********************]  1 of 1 completed\n",
      "[*********************100%%**********************]  1 of 1 completed\n",
      "[*********************100%%**********************]  1 of 1 completed\n",
      "[*********************100%%**********************]  1 of 1 completed\n",
      "c:\\Users\\GRAYBILLKB20\\OneDrive - Grove City College\\Sophomore Year\\FinanceData\\FinanceData\\FinanceDataHelper.py:102: FutureWarning: The behavior of DataFrame concatenation with empty or all-NA entries is deprecated. In a future version, this will no longer exclude empty or all-NA columns when determining the result dtypes. To retain the old behavior, exclude the relevant entries before the concat operation.\n",
      "  return new_append_df if output_df is None else pd.concat([output_df,new_append_df])\n"
     ]
    },
    {
     "name": "stdout",
     "output_type": "stream",
     "text": [
      "493\n"
     ]
    },
    {
     "name": "stderr",
     "output_type": "stream",
     "text": [
      "[*********************100%%**********************]  1 of 1 completed\n",
      "[*********************100%%**********************]  1 of 1 completed\n",
      "[*********************100%%**********************]  1 of 1 completed\n",
      "[*********************100%%**********************]  1 of 1 completed\n",
      "[*********************100%%**********************]  1 of 1 completed\n",
      "c:\\Users\\GRAYBILLKB20\\OneDrive - Grove City College\\Sophomore Year\\FinanceData\\FinanceData\\FinanceDataHelper.py:102: FutureWarning: The behavior of DataFrame concatenation with empty or all-NA entries is deprecated. In a future version, this will no longer exclude empty or all-NA columns when determining the result dtypes. To retain the old behavior, exclude the relevant entries before the concat operation.\n",
      "  return new_append_df if output_df is None else pd.concat([output_df,new_append_df])\n"
     ]
    },
    {
     "name": "stdout",
     "output_type": "stream",
     "text": [
      "494\n"
     ]
    },
    {
     "name": "stderr",
     "output_type": "stream",
     "text": [
      "[*********************100%%**********************]  1 of 1 completed\n",
      "[*********************100%%**********************]  1 of 1 completed\n",
      "[*********************100%%**********************]  1 of 1 completed\n",
      "[*********************100%%**********************]  1 of 1 completed\n",
      "[*********************100%%**********************]  1 of 1 completed\n",
      "c:\\Users\\GRAYBILLKB20\\OneDrive - Grove City College\\Sophomore Year\\FinanceData\\FinanceData\\FinanceDataHelper.py:102: FutureWarning: The behavior of DataFrame concatenation with empty or all-NA entries is deprecated. In a future version, this will no longer exclude empty or all-NA columns when determining the result dtypes. To retain the old behavior, exclude the relevant entries before the concat operation.\n",
      "  return new_append_df if output_df is None else pd.concat([output_df,new_append_df])\n"
     ]
    },
    {
     "name": "stdout",
     "output_type": "stream",
     "text": [
      "Index error retrieving data for WTW stock on 2024-11-04 00:00:00: single positional indexer is out-of-bounds\n",
      "495\n"
     ]
    },
    {
     "name": "stderr",
     "output_type": "stream",
     "text": [
      "[*********************100%%**********************]  1 of 1 completed\n",
      "[*********************100%%**********************]  1 of 1 completed\n",
      "[*********************100%%**********************]  1 of 1 completed\n",
      "[*********************100%%**********************]  1 of 1 completed\n",
      "[*********************100%%**********************]  1 of 1 completed\n",
      "c:\\Users\\GRAYBILLKB20\\OneDrive - Grove City College\\Sophomore Year\\FinanceData\\FinanceData\\FinanceDataHelper.py:102: FutureWarning: The behavior of DataFrame concatenation with empty or all-NA entries is deprecated. In a future version, this will no longer exclude empty or all-NA columns when determining the result dtypes. To retain the old behavior, exclude the relevant entries before the concat operation.\n",
      "  return new_append_df if output_df is None else pd.concat([output_df,new_append_df])\n"
     ]
    },
    {
     "name": "stdout",
     "output_type": "stream",
     "text": [
      "496\n"
     ]
    },
    {
     "name": "stderr",
     "output_type": "stream",
     "text": [
      "[*********************100%%**********************]  1 of 1 completed\n",
      "[*********************100%%**********************]  1 of 1 completed\n",
      "[*********************100%%**********************]  1 of 1 completed\n",
      "[*********************100%%**********************]  1 of 1 completed\n",
      "[*********************100%%**********************]  1 of 1 completed\n",
      "c:\\Users\\GRAYBILLKB20\\OneDrive - Grove City College\\Sophomore Year\\FinanceData\\FinanceData\\FinanceDataHelper.py:102: FutureWarning: The behavior of DataFrame concatenation with empty or all-NA entries is deprecated. In a future version, this will no longer exclude empty or all-NA columns when determining the result dtypes. To retain the old behavior, exclude the relevant entries before the concat operation.\n",
      "  return new_append_df if output_df is None else pd.concat([output_df,new_append_df])\n"
     ]
    },
    {
     "name": "stdout",
     "output_type": "stream",
     "text": [
      "497\n"
     ]
    },
    {
     "name": "stderr",
     "output_type": "stream",
     "text": [
      "[*********************100%%**********************]  1 of 1 completed\n",
      "[*********************100%%**********************]  1 of 1 completed\n",
      "[*********************100%%**********************]  1 of 1 completed\n",
      "[*********************100%%**********************]  1 of 1 completed\n",
      "[*********************100%%**********************]  1 of 1 completed\n",
      "c:\\Users\\GRAYBILLKB20\\OneDrive - Grove City College\\Sophomore Year\\FinanceData\\FinanceData\\FinanceDataHelper.py:102: FutureWarning: The behavior of DataFrame concatenation with empty or all-NA entries is deprecated. In a future version, this will no longer exclude empty or all-NA columns when determining the result dtypes. To retain the old behavior, exclude the relevant entries before the concat operation.\n",
      "  return new_append_df if output_df is None else pd.concat([output_df,new_append_df])\n"
     ]
    },
    {
     "name": "stdout",
     "output_type": "stream",
     "text": [
      "498\n"
     ]
    },
    {
     "name": "stderr",
     "output_type": "stream",
     "text": [
      "[*********************100%%**********************]  1 of 1 completed\n",
      "[*********************100%%**********************]  1 of 1 completed\n",
      "[*********************100%%**********************]  1 of 1 completed\n",
      "[*********************100%%**********************]  1 of 1 completed\n",
      "[*********************100%%**********************]  1 of 1 completed\n",
      "c:\\Users\\GRAYBILLKB20\\OneDrive - Grove City College\\Sophomore Year\\FinanceData\\FinanceData\\FinanceDataHelper.py:102: FutureWarning: The behavior of DataFrame concatenation with empty or all-NA entries is deprecated. In a future version, this will no longer exclude empty or all-NA columns when determining the result dtypes. To retain the old behavior, exclude the relevant entries before the concat operation.\n",
      "  return new_append_df if output_df is None else pd.concat([output_df,new_append_df])\n"
     ]
    },
    {
     "name": "stdout",
     "output_type": "stream",
     "text": [
      "499\n"
     ]
    },
    {
     "name": "stderr",
     "output_type": "stream",
     "text": [
      "[*********************100%%**********************]  1 of 1 completed\n",
      "[*********************100%%**********************]  1 of 1 completed\n",
      "[*********************100%%**********************]  1 of 1 completed\n",
      "[*********************100%%**********************]  1 of 1 completed\n",
      "[*********************100%%**********************]  1 of 1 completed\n",
      "c:\\Users\\GRAYBILLKB20\\OneDrive - Grove City College\\Sophomore Year\\FinanceData\\FinanceData\\FinanceDataHelper.py:102: FutureWarning: The behavior of DataFrame concatenation with empty or all-NA entries is deprecated. In a future version, this will no longer exclude empty or all-NA columns when determining the result dtypes. To retain the old behavior, exclude the relevant entries before the concat operation.\n",
      "  return new_append_df if output_df is None else pd.concat([output_df,new_append_df])\n"
     ]
    },
    {
     "name": "stdout",
     "output_type": "stream",
     "text": [
      "Index error retrieving data for ZBRA stock on 2024-11-05 00:00:00: single positional indexer is out-of-bounds\n",
      "Index error retrieving data for ZBRA stock on 2024-11-04 00:00:00: single positional indexer is out-of-bounds\n",
      "500\n"
     ]
    },
    {
     "name": "stderr",
     "output_type": "stream",
     "text": [
      "[*********************100%%**********************]  1 of 1 completed\n",
      "[*********************100%%**********************]  1 of 1 completed\n",
      "[*********************100%%**********************]  1 of 1 completed\n",
      "[*********************100%%**********************]  1 of 1 completed\n",
      "[*********************100%%**********************]  1 of 1 completed\n",
      "c:\\Users\\GRAYBILLKB20\\OneDrive - Grove City College\\Sophomore Year\\FinanceData\\FinanceData\\FinanceDataHelper.py:102: FutureWarning: The behavior of DataFrame concatenation with empty or all-NA entries is deprecated. In a future version, this will no longer exclude empty or all-NA columns when determining the result dtypes. To retain the old behavior, exclude the relevant entries before the concat operation.\n",
      "  return new_append_df if output_df is None else pd.concat([output_df,new_append_df])\n"
     ]
    },
    {
     "name": "stdout",
     "output_type": "stream",
     "text": [
      "501\n"
     ]
    },
    {
     "name": "stderr",
     "output_type": "stream",
     "text": [
      "[*********************100%%**********************]  1 of 1 completed\n",
      "[*********************100%%**********************]  1 of 1 completed\n",
      "[*********************100%%**********************]  1 of 1 completed\n",
      "[*********************100%%**********************]  1 of 1 completed\n",
      "[*********************100%%**********************]  1 of 1 completed\n",
      "c:\\Users\\GRAYBILLKB20\\OneDrive - Grove City College\\Sophomore Year\\FinanceData\\FinanceData\\FinanceDataHelper.py:102: FutureWarning: The behavior of DataFrame concatenation with empty or all-NA entries is deprecated. In a future version, this will no longer exclude empty or all-NA columns when determining the result dtypes. To retain the old behavior, exclude the relevant entries before the concat operation.\n",
      "  return new_append_df if output_df is None else pd.concat([output_df,new_append_df])\n"
     ]
    },
    {
     "name": "stdout",
     "output_type": "stream",
     "text": [
      "502\n"
     ]
    },
    {
     "name": "stderr",
     "output_type": "stream",
     "text": [
      "[*********************100%%**********************]  1 of 1 completed\n",
      "[*********************100%%**********************]  1 of 1 completed\n",
      "[*********************100%%**********************]  1 of 1 completed\n",
      "[*********************100%%**********************]  1 of 1 completed\n",
      "[*********************100%%**********************]  1 of 1 completed\n",
      "c:\\Users\\GRAYBILLKB20\\OneDrive - Grove City College\\Sophomore Year\\FinanceData\\FinanceData\\FinanceDataHelper.py:102: FutureWarning: The behavior of DataFrame concatenation with empty or all-NA entries is deprecated. In a future version, this will no longer exclude empty or all-NA columns when determining the result dtypes. To retain the old behavior, exclude the relevant entries before the concat operation.\n",
      "  return new_append_df if output_df is None else pd.concat([output_df,new_append_df])\n"
     ]
    },
    {
     "name": "stdout",
     "output_type": "stream",
     "text": [
      "503\n"
     ]
    },
    {
     "data": {
      "text/html": [
       "<div>\n",
       "<style scoped>\n",
       "    .dataframe tbody tr th:only-of-type {\n",
       "        vertical-align: middle;\n",
       "    }\n",
       "\n",
       "    .dataframe tbody tr th {\n",
       "        vertical-align: top;\n",
       "    }\n",
       "\n",
       "    .dataframe thead th {\n",
       "        text-align: right;\n",
       "    }\n",
       "</style>\n",
       "<table border=\"1\" class=\"dataframe\">\n",
       "  <thead>\n",
       "    <tr style=\"text-align: right;\">\n",
       "      <th></th>\n",
       "      <th></th>\n",
       "      <th>RateOfChange</th>\n",
       "      <th>1DayChangePercent</th>\n",
       "      <th>2DaysAgoChangePercent</th>\n",
       "      <th>3DaysAgoChangePercent</th>\n",
       "      <th>4DaysAgoChangePercent</th>\n",
       "      <th>5DaysAgoChangePercent</th>\n",
       "      <th>6DaysAgoChangePercent</th>\n",
       "      <th>7DaysAgoChangePercent</th>\n",
       "      <th>8DaysAgoChangePercent</th>\n",
       "      <th>9DaysAgoChangePercent</th>\n",
       "      <th>...</th>\n",
       "      <th>12DaysAgoChangePercent</th>\n",
       "      <th>13DaysAgoChangePercent</th>\n",
       "      <th>14DaysAgoChangePercent</th>\n",
       "      <th>1MinChangePercent</th>\n",
       "      <th>5MinChangePercent</th>\n",
       "      <th>30MinChangePercent</th>\n",
       "      <th>1HourChangePercent</th>\n",
       "      <th>5HourChangePercent</th>\n",
       "      <th>10HourChangePercent</th>\n",
       "      <th>NextDayChangePercent</th>\n",
       "    </tr>\n",
       "    <tr>\n",
       "      <th>Symbol</th>\n",
       "      <th>Date</th>\n",
       "      <th></th>\n",
       "      <th></th>\n",
       "      <th></th>\n",
       "      <th></th>\n",
       "      <th></th>\n",
       "      <th></th>\n",
       "      <th></th>\n",
       "      <th></th>\n",
       "      <th></th>\n",
       "      <th></th>\n",
       "      <th></th>\n",
       "      <th></th>\n",
       "      <th></th>\n",
       "      <th></th>\n",
       "      <th></th>\n",
       "      <th></th>\n",
       "      <th></th>\n",
       "      <th></th>\n",
       "      <th></th>\n",
       "      <th></th>\n",
       "      <th></th>\n",
       "    </tr>\n",
       "  </thead>\n",
       "  <tbody>\n",
       "    <tr>\n",
       "      <th rowspan=\"5\" valign=\"top\">MMM</th>\n",
       "      <th>2024-11-29</th>\n",
       "      <td>1.028816</td>\n",
       "      <td>0.007926</td>\n",
       "      <td>-0.003535</td>\n",
       "      <td>0.020181</td>\n",
       "      <td>0.014795</td>\n",
       "      <td>0.008640</td>\n",
       "      <td>-0.004068</td>\n",
       "      <td>-0.002730</td>\n",
       "      <td>-0.015211</td>\n",
       "      <td>0.002928</td>\n",
       "      <td>...</td>\n",
       "      <td>0.008439</td>\n",
       "      <td>-0.019925</td>\n",
       "      <td>-0.009975</td>\n",
       "      <td>-0.000075</td>\n",
       "      <td>-0.000187</td>\n",
       "      <td>0.001724</td>\n",
       "      <td>0.003190</td>\n",
       "      <td>0.003567</td>\n",
       "      <td>0.004811</td>\n",
       "      <td>NaN</td>\n",
       "    </tr>\n",
       "    <tr>\n",
       "      <th>2024-11-27</th>\n",
       "      <td>1.001209</td>\n",
       "      <td>-0.003535</td>\n",
       "      <td>0.020181</td>\n",
       "      <td>0.014795</td>\n",
       "      <td>0.008640</td>\n",
       "      <td>-0.004068</td>\n",
       "      <td>-0.002730</td>\n",
       "      <td>-0.015211</td>\n",
       "      <td>0.002928</td>\n",
       "      <td>-0.019120</td>\n",
       "      <td>...</td>\n",
       "      <td>-0.019925</td>\n",
       "      <td>-0.009975</td>\n",
       "      <td>0.009544</td>\n",
       "      <td>0.000453</td>\n",
       "      <td>-0.000905</td>\n",
       "      <td>-0.001658</td>\n",
       "      <td>-0.004134</td>\n",
       "      <td>-0.014652</td>\n",
       "      <td>0.009448</td>\n",
       "      <td>0.007926</td>\n",
       "    </tr>\n",
       "    <tr>\n",
       "      <th>2024-11-26</th>\n",
       "      <td>1.011411</td>\n",
       "      <td>0.020181</td>\n",
       "      <td>0.014795</td>\n",
       "      <td>0.008640</td>\n",
       "      <td>-0.004068</td>\n",
       "      <td>-0.002730</td>\n",
       "      <td>-0.015211</td>\n",
       "      <td>0.002928</td>\n",
       "      <td>-0.019120</td>\n",
       "      <td>0.006619</td>\n",
       "      <td>...</td>\n",
       "      <td>-0.009975</td>\n",
       "      <td>0.009544</td>\n",
       "      <td>-0.006347</td>\n",
       "      <td>0.000301</td>\n",
       "      <td>-0.001240</td>\n",
       "      <td>0.000640</td>\n",
       "      <td>0.001243</td>\n",
       "      <td>0.021397</td>\n",
       "      <td>0.039689</td>\n",
       "      <td>-0.003535</td>\n",
       "    </tr>\n",
       "    <tr>\n",
       "      <th>2024-11-25</th>\n",
       "      <td>0.999770</td>\n",
       "      <td>0.014795</td>\n",
       "      <td>0.008640</td>\n",
       "      <td>-0.004068</td>\n",
       "      <td>-0.002730</td>\n",
       "      <td>-0.015211</td>\n",
       "      <td>0.002928</td>\n",
       "      <td>-0.019120</td>\n",
       "      <td>0.006619</td>\n",
       "      <td>0.008439</td>\n",
       "      <td>...</td>\n",
       "      <td>0.009544</td>\n",
       "      <td>-0.006347</td>\n",
       "      <td>0.058489</td>\n",
       "      <td>0.002153</td>\n",
       "      <td>0.002770</td>\n",
       "      <td>0.006643</td>\n",
       "      <td>0.010116</td>\n",
       "      <td>0.013691</td>\n",
       "      <td>0.021398</td>\n",
       "      <td>0.020181</td>\n",
       "    </tr>\n",
       "    <tr>\n",
       "      <th>2024-11-22</th>\n",
       "      <td>0.965564</td>\n",
       "      <td>0.008640</td>\n",
       "      <td>-0.004068</td>\n",
       "      <td>-0.002730</td>\n",
       "      <td>-0.015211</td>\n",
       "      <td>0.002928</td>\n",
       "      <td>-0.019120</td>\n",
       "      <td>0.006619</td>\n",
       "      <td>0.008439</td>\n",
       "      <td>-0.019925</td>\n",
       "      <td>...</td>\n",
       "      <td>-0.006347</td>\n",
       "      <td>0.058489</td>\n",
       "      <td>0.005324</td>\n",
       "      <td>0.000078</td>\n",
       "      <td>0.000350</td>\n",
       "      <td>0.002419</td>\n",
       "      <td>0.004458</td>\n",
       "      <td>0.012694</td>\n",
       "      <td>0.004887</td>\n",
       "      <td>0.014795</td>\n",
       "    </tr>\n",
       "  </tbody>\n",
       "</table>\n",
       "<p>5 rows × 22 columns</p>\n",
       "</div>"
      ],
      "text/plain": [
       "                   RateOfChange  1DayChangePercent  2DaysAgoChangePercent  \\\n",
       "Symbol Date                                                                 \n",
       "MMM    2024-11-29      1.028816           0.007926              -0.003535   \n",
       "       2024-11-27      1.001209          -0.003535               0.020181   \n",
       "       2024-11-26      1.011411           0.020181               0.014795   \n",
       "       2024-11-25      0.999770           0.014795               0.008640   \n",
       "       2024-11-22      0.965564           0.008640              -0.004068   \n",
       "\n",
       "                   3DaysAgoChangePercent  4DaysAgoChangePercent  \\\n",
       "Symbol Date                                                       \n",
       "MMM    2024-11-29               0.020181               0.014795   \n",
       "       2024-11-27               0.014795               0.008640   \n",
       "       2024-11-26               0.008640              -0.004068   \n",
       "       2024-11-25              -0.004068              -0.002730   \n",
       "       2024-11-22              -0.002730              -0.015211   \n",
       "\n",
       "                   5DaysAgoChangePercent  6DaysAgoChangePercent  \\\n",
       "Symbol Date                                                       \n",
       "MMM    2024-11-29               0.008640              -0.004068   \n",
       "       2024-11-27              -0.004068              -0.002730   \n",
       "       2024-11-26              -0.002730              -0.015211   \n",
       "       2024-11-25              -0.015211               0.002928   \n",
       "       2024-11-22               0.002928              -0.019120   \n",
       "\n",
       "                   7DaysAgoChangePercent  8DaysAgoChangePercent  \\\n",
       "Symbol Date                                                       \n",
       "MMM    2024-11-29              -0.002730              -0.015211   \n",
       "       2024-11-27              -0.015211               0.002928   \n",
       "       2024-11-26               0.002928              -0.019120   \n",
       "       2024-11-25              -0.019120               0.006619   \n",
       "       2024-11-22               0.006619               0.008439   \n",
       "\n",
       "                   9DaysAgoChangePercent  ...  12DaysAgoChangePercent  \\\n",
       "Symbol Date                               ...                           \n",
       "MMM    2024-11-29               0.002928  ...                0.008439   \n",
       "       2024-11-27              -0.019120  ...               -0.019925   \n",
       "       2024-11-26               0.006619  ...               -0.009975   \n",
       "       2024-11-25               0.008439  ...                0.009544   \n",
       "       2024-11-22              -0.019925  ...               -0.006347   \n",
       "\n",
       "                   13DaysAgoChangePercent  14DaysAgoChangePercent  \\\n",
       "Symbol Date                                                         \n",
       "MMM    2024-11-29               -0.019925               -0.009975   \n",
       "       2024-11-27               -0.009975                0.009544   \n",
       "       2024-11-26                0.009544               -0.006347   \n",
       "       2024-11-25               -0.006347                0.058489   \n",
       "       2024-11-22                0.058489                0.005324   \n",
       "\n",
       "                   1MinChangePercent  5MinChangePercent  30MinChangePercent  \\\n",
       "Symbol Date                                                                   \n",
       "MMM    2024-11-29          -0.000075          -0.000187            0.001724   \n",
       "       2024-11-27           0.000453          -0.000905           -0.001658   \n",
       "       2024-11-26           0.000301          -0.001240            0.000640   \n",
       "       2024-11-25           0.002153           0.002770            0.006643   \n",
       "       2024-11-22           0.000078           0.000350            0.002419   \n",
       "\n",
       "                   1HourChangePercent  5HourChangePercent  \\\n",
       "Symbol Date                                                 \n",
       "MMM    2024-11-29            0.003190            0.003567   \n",
       "       2024-11-27           -0.004134           -0.014652   \n",
       "       2024-11-26            0.001243            0.021397   \n",
       "       2024-11-25            0.010116            0.013691   \n",
       "       2024-11-22            0.004458            0.012694   \n",
       "\n",
       "                   10HourChangePercent  NextDayChangePercent  \n",
       "Symbol Date                                                   \n",
       "MMM    2024-11-29             0.004811                   NaN  \n",
       "       2024-11-27             0.009448              0.007926  \n",
       "       2024-11-26             0.039689             -0.003535  \n",
       "       2024-11-25             0.021398              0.020181  \n",
       "       2024-11-22             0.004887              0.014795  \n",
       "\n",
       "[5 rows x 22 columns]"
      ]
     },
     "metadata": {},
     "output_type": "display_data"
    }
   ],
   "source": [
    "# Get the data either from a .csv file or load it all from Yahoo Finance\n",
    "df = pd.DataFrame()\n",
    "if get_from_csv and path is not None:\n",
    "    df = FinanceData.get_data_from_csv(path)\n",
    "elif not get_from_csv:\n",
    "    save_to_csv = True if path is not None else False\n",
    "    df = FinanceData.get_data(save_to_csv=save_to_csv, file_path_name=path,most_recent_day=True)\n",
    "else:\n",
    "    raise ValueError(\"Invalid path and get_from_csv variables\")\n",
    "\n",
    "# Display some of the data\n",
    "display(df.head(5))\n",
    "\n",
    "# Seperate the data to be predicted from the data to build the model from\n",
    "is_prediction = df['NextDayChangePercent'].isna()\n",
    "prediction_data = df[is_prediction]\n",
    "model_data = df[~is_prediction]\n",
    "\n",
    "# Seperate features and labels\n",
    "features = model_data[model_data.columns.difference(['NextDayChangePercent'])]\n",
    "labels = model_data['NextDayChangePercent']\n",
    "\n",
    "# Seperate training and testing data\n",
    "train_data, test_data, train_labels, test_labels = sklearn.model_selection.train_test_split(features, labels, test_size=0.3, random_state=0)"
   ]
  },
  {
   "cell_type": "markdown",
   "metadata": {},
   "source": [
    "Create LDA Model"
   ]
  },
  {
   "cell_type": "code",
   "execution_count": 5,
   "metadata": {},
   "outputs": [
    {
     "data": {
      "text/html": [
       "<style>#sk-container-id-1 {\n",
       "  /* Definition of color scheme common for light and dark mode */\n",
       "  --sklearn-color-text: black;\n",
       "  --sklearn-color-line: gray;\n",
       "  /* Definition of color scheme for unfitted estimators */\n",
       "  --sklearn-color-unfitted-level-0: #fff5e6;\n",
       "  --sklearn-color-unfitted-level-1: #f6e4d2;\n",
       "  --sklearn-color-unfitted-level-2: #ffe0b3;\n",
       "  --sklearn-color-unfitted-level-3: chocolate;\n",
       "  /* Definition of color scheme for fitted estimators */\n",
       "  --sklearn-color-fitted-level-0: #f0f8ff;\n",
       "  --sklearn-color-fitted-level-1: #d4ebff;\n",
       "  --sklearn-color-fitted-level-2: #b3dbfd;\n",
       "  --sklearn-color-fitted-level-3: cornflowerblue;\n",
       "\n",
       "  /* Specific color for light theme */\n",
       "  --sklearn-color-text-on-default-background: var(--sg-text-color, var(--theme-code-foreground, var(--jp-content-font-color1, black)));\n",
       "  --sklearn-color-background: var(--sg-background-color, var(--theme-background, var(--jp-layout-color0, white)));\n",
       "  --sklearn-color-border-box: var(--sg-text-color, var(--theme-code-foreground, var(--jp-content-font-color1, black)));\n",
       "  --sklearn-color-icon: #696969;\n",
       "\n",
       "  @media (prefers-color-scheme: dark) {\n",
       "    /* Redefinition of color scheme for dark theme */\n",
       "    --sklearn-color-text-on-default-background: var(--sg-text-color, var(--theme-code-foreground, var(--jp-content-font-color1, white)));\n",
       "    --sklearn-color-background: var(--sg-background-color, var(--theme-background, var(--jp-layout-color0, #111)));\n",
       "    --sklearn-color-border-box: var(--sg-text-color, var(--theme-code-foreground, var(--jp-content-font-color1, white)));\n",
       "    --sklearn-color-icon: #878787;\n",
       "  }\n",
       "}\n",
       "\n",
       "#sk-container-id-1 {\n",
       "  color: var(--sklearn-color-text);\n",
       "}\n",
       "\n",
       "#sk-container-id-1 pre {\n",
       "  padding: 0;\n",
       "}\n",
       "\n",
       "#sk-container-id-1 input.sk-hidden--visually {\n",
       "  border: 0;\n",
       "  clip: rect(1px 1px 1px 1px);\n",
       "  clip: rect(1px, 1px, 1px, 1px);\n",
       "  height: 1px;\n",
       "  margin: -1px;\n",
       "  overflow: hidden;\n",
       "  padding: 0;\n",
       "  position: absolute;\n",
       "  width: 1px;\n",
       "}\n",
       "\n",
       "#sk-container-id-1 div.sk-dashed-wrapped {\n",
       "  border: 1px dashed var(--sklearn-color-line);\n",
       "  margin: 0 0.4em 0.5em 0.4em;\n",
       "  box-sizing: border-box;\n",
       "  padding-bottom: 0.4em;\n",
       "  background-color: var(--sklearn-color-background);\n",
       "}\n",
       "\n",
       "#sk-container-id-1 div.sk-container {\n",
       "  /* jupyter's `normalize.less` sets `[hidden] { display: none; }`\n",
       "     but bootstrap.min.css set `[hidden] { display: none !important; }`\n",
       "     so we also need the `!important` here to be able to override the\n",
       "     default hidden behavior on the sphinx rendered scikit-learn.org.\n",
       "     See: https://github.com/scikit-learn/scikit-learn/issues/21755 */\n",
       "  display: inline-block !important;\n",
       "  position: relative;\n",
       "}\n",
       "\n",
       "#sk-container-id-1 div.sk-text-repr-fallback {\n",
       "  display: none;\n",
       "}\n",
       "\n",
       "div.sk-parallel-item,\n",
       "div.sk-serial,\n",
       "div.sk-item {\n",
       "  /* draw centered vertical line to link estimators */\n",
       "  background-image: linear-gradient(var(--sklearn-color-text-on-default-background), var(--sklearn-color-text-on-default-background));\n",
       "  background-size: 2px 100%;\n",
       "  background-repeat: no-repeat;\n",
       "  background-position: center center;\n",
       "}\n",
       "\n",
       "/* Parallel-specific style estimator block */\n",
       "\n",
       "#sk-container-id-1 div.sk-parallel-item::after {\n",
       "  content: \"\";\n",
       "  width: 100%;\n",
       "  border-bottom: 2px solid var(--sklearn-color-text-on-default-background);\n",
       "  flex-grow: 1;\n",
       "}\n",
       "\n",
       "#sk-container-id-1 div.sk-parallel {\n",
       "  display: flex;\n",
       "  align-items: stretch;\n",
       "  justify-content: center;\n",
       "  background-color: var(--sklearn-color-background);\n",
       "  position: relative;\n",
       "}\n",
       "\n",
       "#sk-container-id-1 div.sk-parallel-item {\n",
       "  display: flex;\n",
       "  flex-direction: column;\n",
       "}\n",
       "\n",
       "#sk-container-id-1 div.sk-parallel-item:first-child::after {\n",
       "  align-self: flex-end;\n",
       "  width: 50%;\n",
       "}\n",
       "\n",
       "#sk-container-id-1 div.sk-parallel-item:last-child::after {\n",
       "  align-self: flex-start;\n",
       "  width: 50%;\n",
       "}\n",
       "\n",
       "#sk-container-id-1 div.sk-parallel-item:only-child::after {\n",
       "  width: 0;\n",
       "}\n",
       "\n",
       "/* Serial-specific style estimator block */\n",
       "\n",
       "#sk-container-id-1 div.sk-serial {\n",
       "  display: flex;\n",
       "  flex-direction: column;\n",
       "  align-items: center;\n",
       "  background-color: var(--sklearn-color-background);\n",
       "  padding-right: 1em;\n",
       "  padding-left: 1em;\n",
       "}\n",
       "\n",
       "\n",
       "/* Toggleable style: style used for estimator/Pipeline/ColumnTransformer box that is\n",
       "clickable and can be expanded/collapsed.\n",
       "- Pipeline and ColumnTransformer use this feature and define the default style\n",
       "- Estimators will overwrite some part of the style using the `sk-estimator` class\n",
       "*/\n",
       "\n",
       "/* Pipeline and ColumnTransformer style (default) */\n",
       "\n",
       "#sk-container-id-1 div.sk-toggleable {\n",
       "  /* Default theme specific background. It is overwritten whether we have a\n",
       "  specific estimator or a Pipeline/ColumnTransformer */\n",
       "  background-color: var(--sklearn-color-background);\n",
       "}\n",
       "\n",
       "/* Toggleable label */\n",
       "#sk-container-id-1 label.sk-toggleable__label {\n",
       "  cursor: pointer;\n",
       "  display: block;\n",
       "  width: 100%;\n",
       "  margin-bottom: 0;\n",
       "  padding: 0.5em;\n",
       "  box-sizing: border-box;\n",
       "  text-align: center;\n",
       "}\n",
       "\n",
       "#sk-container-id-1 label.sk-toggleable__label-arrow:before {\n",
       "  /* Arrow on the left of the label */\n",
       "  content: \"▸\";\n",
       "  float: left;\n",
       "  margin-right: 0.25em;\n",
       "  color: var(--sklearn-color-icon);\n",
       "}\n",
       "\n",
       "#sk-container-id-1 label.sk-toggleable__label-arrow:hover:before {\n",
       "  color: var(--sklearn-color-text);\n",
       "}\n",
       "\n",
       "/* Toggleable content - dropdown */\n",
       "\n",
       "#sk-container-id-1 div.sk-toggleable__content {\n",
       "  max-height: 0;\n",
       "  max-width: 0;\n",
       "  overflow: hidden;\n",
       "  text-align: left;\n",
       "  /* unfitted */\n",
       "  background-color: var(--sklearn-color-unfitted-level-0);\n",
       "}\n",
       "\n",
       "#sk-container-id-1 div.sk-toggleable__content.fitted {\n",
       "  /* fitted */\n",
       "  background-color: var(--sklearn-color-fitted-level-0);\n",
       "}\n",
       "\n",
       "#sk-container-id-1 div.sk-toggleable__content pre {\n",
       "  margin: 0.2em;\n",
       "  border-radius: 0.25em;\n",
       "  color: var(--sklearn-color-text);\n",
       "  /* unfitted */\n",
       "  background-color: var(--sklearn-color-unfitted-level-0);\n",
       "}\n",
       "\n",
       "#sk-container-id-1 div.sk-toggleable__content.fitted pre {\n",
       "  /* unfitted */\n",
       "  background-color: var(--sklearn-color-fitted-level-0);\n",
       "}\n",
       "\n",
       "#sk-container-id-1 input.sk-toggleable__control:checked~div.sk-toggleable__content {\n",
       "  /* Expand drop-down */\n",
       "  max-height: 200px;\n",
       "  max-width: 100%;\n",
       "  overflow: auto;\n",
       "}\n",
       "\n",
       "#sk-container-id-1 input.sk-toggleable__control:checked~label.sk-toggleable__label-arrow:before {\n",
       "  content: \"▾\";\n",
       "}\n",
       "\n",
       "/* Pipeline/ColumnTransformer-specific style */\n",
       "\n",
       "#sk-container-id-1 div.sk-label input.sk-toggleable__control:checked~label.sk-toggleable__label {\n",
       "  color: var(--sklearn-color-text);\n",
       "  background-color: var(--sklearn-color-unfitted-level-2);\n",
       "}\n",
       "\n",
       "#sk-container-id-1 div.sk-label.fitted input.sk-toggleable__control:checked~label.sk-toggleable__label {\n",
       "  background-color: var(--sklearn-color-fitted-level-2);\n",
       "}\n",
       "\n",
       "/* Estimator-specific style */\n",
       "\n",
       "/* Colorize estimator box */\n",
       "#sk-container-id-1 div.sk-estimator input.sk-toggleable__control:checked~label.sk-toggleable__label {\n",
       "  /* unfitted */\n",
       "  background-color: var(--sklearn-color-unfitted-level-2);\n",
       "}\n",
       "\n",
       "#sk-container-id-1 div.sk-estimator.fitted input.sk-toggleable__control:checked~label.sk-toggleable__label {\n",
       "  /* fitted */\n",
       "  background-color: var(--sklearn-color-fitted-level-2);\n",
       "}\n",
       "\n",
       "#sk-container-id-1 div.sk-label label.sk-toggleable__label,\n",
       "#sk-container-id-1 div.sk-label label {\n",
       "  /* The background is the default theme color */\n",
       "  color: var(--sklearn-color-text-on-default-background);\n",
       "}\n",
       "\n",
       "/* On hover, darken the color of the background */\n",
       "#sk-container-id-1 div.sk-label:hover label.sk-toggleable__label {\n",
       "  color: var(--sklearn-color-text);\n",
       "  background-color: var(--sklearn-color-unfitted-level-2);\n",
       "}\n",
       "\n",
       "/* Label box, darken color on hover, fitted */\n",
       "#sk-container-id-1 div.sk-label.fitted:hover label.sk-toggleable__label.fitted {\n",
       "  color: var(--sklearn-color-text);\n",
       "  background-color: var(--sklearn-color-fitted-level-2);\n",
       "}\n",
       "\n",
       "/* Estimator label */\n",
       "\n",
       "#sk-container-id-1 div.sk-label label {\n",
       "  font-family: monospace;\n",
       "  font-weight: bold;\n",
       "  display: inline-block;\n",
       "  line-height: 1.2em;\n",
       "}\n",
       "\n",
       "#sk-container-id-1 div.sk-label-container {\n",
       "  text-align: center;\n",
       "}\n",
       "\n",
       "/* Estimator-specific */\n",
       "#sk-container-id-1 div.sk-estimator {\n",
       "  font-family: monospace;\n",
       "  border: 1px dotted var(--sklearn-color-border-box);\n",
       "  border-radius: 0.25em;\n",
       "  box-sizing: border-box;\n",
       "  margin-bottom: 0.5em;\n",
       "  /* unfitted */\n",
       "  background-color: var(--sklearn-color-unfitted-level-0);\n",
       "}\n",
       "\n",
       "#sk-container-id-1 div.sk-estimator.fitted {\n",
       "  /* fitted */\n",
       "  background-color: var(--sklearn-color-fitted-level-0);\n",
       "}\n",
       "\n",
       "/* on hover */\n",
       "#sk-container-id-1 div.sk-estimator:hover {\n",
       "  /* unfitted */\n",
       "  background-color: var(--sklearn-color-unfitted-level-2);\n",
       "}\n",
       "\n",
       "#sk-container-id-1 div.sk-estimator.fitted:hover {\n",
       "  /* fitted */\n",
       "  background-color: var(--sklearn-color-fitted-level-2);\n",
       "}\n",
       "\n",
       "/* Specification for estimator info (e.g. \"i\" and \"?\") */\n",
       "\n",
       "/* Common style for \"i\" and \"?\" */\n",
       "\n",
       ".sk-estimator-doc-link,\n",
       "a:link.sk-estimator-doc-link,\n",
       "a:visited.sk-estimator-doc-link {\n",
       "  float: right;\n",
       "  font-size: smaller;\n",
       "  line-height: 1em;\n",
       "  font-family: monospace;\n",
       "  background-color: var(--sklearn-color-background);\n",
       "  border-radius: 1em;\n",
       "  height: 1em;\n",
       "  width: 1em;\n",
       "  text-decoration: none !important;\n",
       "  margin-left: 1ex;\n",
       "  /* unfitted */\n",
       "  border: var(--sklearn-color-unfitted-level-1) 1pt solid;\n",
       "  color: var(--sklearn-color-unfitted-level-1);\n",
       "}\n",
       "\n",
       ".sk-estimator-doc-link.fitted,\n",
       "a:link.sk-estimator-doc-link.fitted,\n",
       "a:visited.sk-estimator-doc-link.fitted {\n",
       "  /* fitted */\n",
       "  border: var(--sklearn-color-fitted-level-1) 1pt solid;\n",
       "  color: var(--sklearn-color-fitted-level-1);\n",
       "}\n",
       "\n",
       "/* On hover */\n",
       "div.sk-estimator:hover .sk-estimator-doc-link:hover,\n",
       ".sk-estimator-doc-link:hover,\n",
       "div.sk-label-container:hover .sk-estimator-doc-link:hover,\n",
       ".sk-estimator-doc-link:hover {\n",
       "  /* unfitted */\n",
       "  background-color: var(--sklearn-color-unfitted-level-3);\n",
       "  color: var(--sklearn-color-background);\n",
       "  text-decoration: none;\n",
       "}\n",
       "\n",
       "div.sk-estimator.fitted:hover .sk-estimator-doc-link.fitted:hover,\n",
       ".sk-estimator-doc-link.fitted:hover,\n",
       "div.sk-label-container:hover .sk-estimator-doc-link.fitted:hover,\n",
       ".sk-estimator-doc-link.fitted:hover {\n",
       "  /* fitted */\n",
       "  background-color: var(--sklearn-color-fitted-level-3);\n",
       "  color: var(--sklearn-color-background);\n",
       "  text-decoration: none;\n",
       "}\n",
       "\n",
       "/* Span, style for the box shown on hovering the info icon */\n",
       ".sk-estimator-doc-link span {\n",
       "  display: none;\n",
       "  z-index: 9999;\n",
       "  position: relative;\n",
       "  font-weight: normal;\n",
       "  right: .2ex;\n",
       "  padding: .5ex;\n",
       "  margin: .5ex;\n",
       "  width: min-content;\n",
       "  min-width: 20ex;\n",
       "  max-width: 50ex;\n",
       "  color: var(--sklearn-color-text);\n",
       "  box-shadow: 2pt 2pt 4pt #999;\n",
       "  /* unfitted */\n",
       "  background: var(--sklearn-color-unfitted-level-0);\n",
       "  border: .5pt solid var(--sklearn-color-unfitted-level-3);\n",
       "}\n",
       "\n",
       ".sk-estimator-doc-link.fitted span {\n",
       "  /* fitted */\n",
       "  background: var(--sklearn-color-fitted-level-0);\n",
       "  border: var(--sklearn-color-fitted-level-3);\n",
       "}\n",
       "\n",
       ".sk-estimator-doc-link:hover span {\n",
       "  display: block;\n",
       "}\n",
       "\n",
       "/* \"?\"-specific style due to the `<a>` HTML tag */\n",
       "\n",
       "#sk-container-id-1 a.estimator_doc_link {\n",
       "  float: right;\n",
       "  font-size: 1rem;\n",
       "  line-height: 1em;\n",
       "  font-family: monospace;\n",
       "  background-color: var(--sklearn-color-background);\n",
       "  border-radius: 1rem;\n",
       "  height: 1rem;\n",
       "  width: 1rem;\n",
       "  text-decoration: none;\n",
       "  /* unfitted */\n",
       "  color: var(--sklearn-color-unfitted-level-1);\n",
       "  border: var(--sklearn-color-unfitted-level-1) 1pt solid;\n",
       "}\n",
       "\n",
       "#sk-container-id-1 a.estimator_doc_link.fitted {\n",
       "  /* fitted */\n",
       "  border: var(--sklearn-color-fitted-level-1) 1pt solid;\n",
       "  color: var(--sklearn-color-fitted-level-1);\n",
       "}\n",
       "\n",
       "/* On hover */\n",
       "#sk-container-id-1 a.estimator_doc_link:hover {\n",
       "  /* unfitted */\n",
       "  background-color: var(--sklearn-color-unfitted-level-3);\n",
       "  color: var(--sklearn-color-background);\n",
       "  text-decoration: none;\n",
       "}\n",
       "\n",
       "#sk-container-id-1 a.estimator_doc_link.fitted:hover {\n",
       "  /* fitted */\n",
       "  background-color: var(--sklearn-color-fitted-level-3);\n",
       "}\n",
       "</style><div id=\"sk-container-id-1\" class=\"sk-top-container\"><div class=\"sk-text-repr-fallback\"><pre>LinearRegression()</pre><b>In a Jupyter environment, please rerun this cell to show the HTML representation or trust the notebook. <br />On GitHub, the HTML representation is unable to render, please try loading this page with nbviewer.org.</b></div><div class=\"sk-container\" hidden><div class=\"sk-item\"><div class=\"sk-estimator fitted sk-toggleable\"><input class=\"sk-toggleable__control sk-hidden--visually\" id=\"sk-estimator-id-1\" type=\"checkbox\" checked><label for=\"sk-estimator-id-1\" class=\"sk-toggleable__label fitted sk-toggleable__label-arrow fitted\">&nbsp;&nbsp;LinearRegression<a class=\"sk-estimator-doc-link fitted\" rel=\"noreferrer\" target=\"_blank\" href=\"https://scikit-learn.org/1.5/modules/generated/sklearn.linear_model.LinearRegression.html\">?<span>Documentation for LinearRegression</span></a><span class=\"sk-estimator-doc-link fitted\">i<span>Fitted</span></span></label><div class=\"sk-toggleable__content fitted\"><pre>LinearRegression()</pre></div> </div></div></div></div>"
      ],
      "text/plain": [
       "LinearRegression()"
      ]
     },
     "execution_count": 5,
     "metadata": {},
     "output_type": "execute_result"
    }
   ],
   "source": [
    "# Use sklearn to create LDA model\n",
    "model = sklearn.linear_model.LinearRegression()\n",
    "model.fit(train_data, train_labels)"
   ]
  },
  {
   "cell_type": "markdown",
   "metadata": {},
   "source": [
    "Run Model on Test Data"
   ]
  },
  {
   "cell_type": "code",
   "execution_count": 6,
   "metadata": {},
   "outputs": [],
   "source": [
    "\n",
    "test_labels_prediction = model.predict(test_data)\n",
    "actual_and_predicted = pd.DataFrame({'actual':test_labels,'predicted':test_labels_prediction})"
   ]
  },
  {
   "cell_type": "markdown",
   "metadata": {},
   "source": [
    "Plot Test Data"
   ]
  },
  {
   "cell_type": "code",
   "execution_count": 7,
   "metadata": {},
   "outputs": [
    {
     "data": {
      "application/vnd.plotly.v1+json": {
       "config": {
        "plotlyServerURL": "https://plot.ly"
       },
       "data": [
        {
         "customdata": [
          [
           "SJM",
           "2024-11-25T00:00:00"
          ],
          [
           "TFX",
           "2024-11-18T00:00:00"
          ],
          [
           "CF",
           "2024-11-25T00:00:00"
          ],
          [
           "NEM",
           "2024-11-26T00:00:00"
          ],
          [
           "CTSH",
           "2024-11-04T00:00:00"
          ],
          [
           "NTAP",
           "2024-11-05T00:00:00"
          ],
          [
           "CZR",
           "2024-11-13T00:00:00"
          ],
          [
           "CAH",
           "2024-11-20T00:00:00"
          ],
          [
           "BX",
           "2024-11-13T00:00:00"
          ],
          [
           "NSC",
           "2024-11-18T00:00:00"
          ],
          [
           "KMI",
           "2024-11-15T00:00:00"
          ],
          [
           "L",
           "2024-11-27T00:00:00"
          ],
          [
           "MDT",
           "2024-11-20T00:00:00"
          ],
          [
           "BALL",
           "2024-11-19T00:00:00"
          ],
          [
           "KMB",
           "2024-11-13T00:00:00"
          ],
          [
           "ACN",
           "2024-11-27T00:00:00"
          ],
          [
           "MET",
           "2024-11-18T00:00:00"
          ],
          [
           "ISRG",
           "2024-11-25T00:00:00"
          ],
          [
           "CI",
           "2024-11-26T00:00:00"
          ],
          [
           "BAC",
           "2024-11-07T00:00:00"
          ],
          [
           "VRTX",
           "2024-11-04T00:00:00"
          ],
          [
           "CRM",
           "2024-11-27T00:00:00"
          ],
          [
           "CCI",
           "2024-11-18T00:00:00"
          ],
          [
           "CI",
           "2024-11-13T00:00:00"
          ],
          [
           "CMS",
           "2024-11-22T00:00:00"
          ],
          [
           "TECH",
           "2024-11-15T00:00:00"
          ],
          [
           "APH",
           "2024-11-07T00:00:00"
          ],
          [
           "IFF",
           "2024-11-11T00:00:00"
          ],
          [
           "IPG",
           "2024-11-20T00:00:00"
          ],
          [
           "PM",
           "2024-11-27T00:00:00"
          ],
          [
           "LRCX",
           "2024-11-06T00:00:00"
          ],
          [
           "ADI",
           "2024-11-04T00:00:00"
          ],
          [
           "XYL",
           "2024-11-12T00:00:00"
          ],
          [
           "HPQ",
           "2024-11-21T00:00:00"
          ],
          [
           "FCX",
           "2024-11-22T00:00:00"
          ],
          [
           "COR",
           "2024-11-22T00:00:00"
          ],
          [
           "BAC",
           "2024-11-26T00:00:00"
          ],
          [
           "MS",
           "2024-11-18T00:00:00"
          ],
          [
           "MGM",
           "2024-11-18T00:00:00"
          ],
          [
           "FE",
           "2024-11-19T00:00:00"
          ],
          [
           "TMUS",
           "2024-11-07T00:00:00"
          ],
          [
           "IQV",
           "2024-11-19T00:00:00"
          ],
          [
           "HSY",
           "2024-11-22T00:00:00"
          ],
          [
           "MOS",
           "2024-11-15T00:00:00"
          ],
          [
           "AXP",
           "2024-11-21T00:00:00"
          ],
          [
           "MRK",
           "2024-11-06T00:00:00"
          ],
          [
           "USB",
           "2024-11-06T00:00:00"
          ],
          [
           "PEP",
           "2024-11-08T00:00:00"
          ],
          [
           "SWK",
           "2024-11-05T00:00:00"
          ],
          [
           "FCX",
           "2024-11-04T00:00:00"
          ],
          [
           "HAS",
           "2024-11-04T00:00:00"
          ],
          [
           "RTX",
           "2024-11-04T00:00:00"
          ],
          [
           "NOW",
           "2024-11-19T00:00:00"
          ],
          [
           "HWM",
           "2024-11-11T00:00:00"
          ],
          [
           "PCAR",
           "2024-11-08T00:00:00"
          ],
          [
           "MHK",
           "2024-11-14T00:00:00"
          ],
          [
           "TSCO",
           "2024-11-20T00:00:00"
          ],
          [
           "OKE",
           "2024-11-05T00:00:00"
          ],
          [
           "GE",
           "2024-11-21T00:00:00"
          ],
          [
           "BX",
           "2024-11-15T00:00:00"
          ],
          [
           "CTSH",
           "2024-11-06T00:00:00"
          ],
          [
           "GIS",
           "2024-11-15T00:00:00"
          ],
          [
           "PNC",
           "2024-11-11T00:00:00"
          ],
          [
           "MAA",
           "2024-11-14T00:00:00"
          ],
          [
           "ABT",
           "2024-11-15T00:00:00"
          ],
          [
           "NWSA",
           "2024-11-12T00:00:00"
          ],
          [
           "AMT",
           "2024-11-26T00:00:00"
          ],
          [
           "MHK",
           "2024-11-27T00:00:00"
          ],
          [
           "AMGN",
           "2024-11-26T00:00:00"
          ],
          [
           "CB",
           "2024-11-08T00:00:00"
          ],
          [
           "BWA",
           "2024-11-14T00:00:00"
          ],
          [
           "KKR",
           "2024-11-14T00:00:00"
          ],
          [
           "KKR",
           "2024-11-20T00:00:00"
          ],
          [
           "AWK",
           "2024-11-04T00:00:00"
          ],
          [
           "CPT",
           "2024-11-08T00:00:00"
          ],
          [
           "AEP",
           "2024-11-11T00:00:00"
          ],
          [
           "CTSH",
           "2024-11-11T00:00:00"
          ],
          [
           "CMCSA",
           "2024-11-05T00:00:00"
          ],
          [
           "EW",
           "2024-11-26T00:00:00"
          ],
          [
           "FMC",
           "2024-11-20T00:00:00"
          ],
          [
           "VZ",
           "2024-11-22T00:00:00"
          ],
          [
           "NCLH",
           "2024-11-06T00:00:00"
          ],
          [
           "IVZ",
           "2024-11-14T00:00:00"
          ],
          [
           "CSCO",
           "2024-11-13T00:00:00"
          ],
          [
           "FCX",
           "2024-11-08T00:00:00"
          ],
          [
           "BEN",
           "2024-11-05T00:00:00"
          ],
          [
           "IR",
           "2024-11-18T00:00:00"
          ],
          [
           "GOOG",
           "2024-11-07T00:00:00"
          ],
          [
           "VLTO",
           "2024-11-05T00:00:00"
          ],
          [
           "NDAQ",
           "2024-11-20T00:00:00"
          ],
          [
           "CBRE",
           "2024-11-18T00:00:00"
          ],
          [
           "VTR",
           "2024-11-26T00:00:00"
          ],
          [
           "LULU",
           "2024-11-11T00:00:00"
          ],
          [
           "CRWD",
           "2024-11-12T00:00:00"
          ],
          [
           "AVGO",
           "2024-11-18T00:00:00"
          ],
          [
           "GPN",
           "2024-11-14T00:00:00"
          ],
          [
           "HOLX",
           "2024-11-26T00:00:00"
          ],
          [
           "HPE",
           "2024-11-18T00:00:00"
          ],
          [
           "LDOS",
           "2024-11-11T00:00:00"
          ],
          [
           "LIN",
           "2024-11-12T00:00:00"
          ],
          [
           "OTIS",
           "2024-11-15T00:00:00"
          ],
          [
           "BXP",
           "2024-11-14T00:00:00"
          ],
          [
           "A",
           "2024-11-20T00:00:00"
          ],
          [
           "EBAY",
           "2024-11-21T00:00:00"
          ],
          [
           "UBER",
           "2024-11-20T00:00:00"
          ],
          [
           "FRT",
           "2024-11-08T00:00:00"
          ],
          [
           "MTB",
           "2024-11-20T00:00:00"
          ],
          [
           "MRK",
           "2024-11-12T00:00:00"
          ],
          [
           "PANW",
           "2024-11-04T00:00:00"
          ],
          [
           "DHI",
           "2024-11-27T00:00:00"
          ],
          [
           "ETN",
           "2024-11-21T00:00:00"
          ],
          [
           "BRO",
           "2024-11-20T00:00:00"
          ],
          [
           "AES",
           "2024-11-15T00:00:00"
          ],
          [
           "APH",
           "2024-11-27T00:00:00"
          ],
          [
           "LYB",
           "2024-11-15T00:00:00"
          ],
          [
           "UNP",
           "2024-11-07T00:00:00"
          ],
          [
           "WMB",
           "2024-11-27T00:00:00"
          ],
          [
           "V",
           "2024-11-20T00:00:00"
          ],
          [
           "TMUS",
           "2024-11-04T00:00:00"
          ],
          [
           "CE",
           "2024-11-06T00:00:00"
          ],
          [
           "WAT",
           "2024-11-27T00:00:00"
          ],
          [
           "ADM",
           "2024-11-12T00:00:00"
          ],
          [
           "WEC",
           "2024-11-04T00:00:00"
          ],
          [
           "WFC",
           "2024-11-14T00:00:00"
          ],
          [
           "ACGL",
           "2024-11-27T00:00:00"
          ],
          [
           "NI",
           "2024-11-19T00:00:00"
          ],
          [
           "FOX",
           "2024-11-19T00:00:00"
          ],
          [
           "NSC",
           "2024-11-25T00:00:00"
          ],
          [
           "SRE",
           "2024-11-27T00:00:00"
          ],
          [
           "A",
           "2024-11-27T00:00:00"
          ],
          [
           "QCOM",
           "2024-11-12T00:00:00"
          ],
          [
           "BAC",
           "2024-11-27T00:00:00"
          ],
          [
           "DIS",
           "2024-11-13T00:00:00"
          ],
          [
           "CME",
           "2024-11-25T00:00:00"
          ],
          [
           "UBER",
           "2024-11-15T00:00:00"
          ],
          [
           "DECK",
           "2024-11-06T00:00:00"
          ],
          [
           "WAT",
           "2024-11-22T00:00:00"
          ],
          [
           "XOM",
           "2024-11-27T00:00:00"
          ],
          [
           "MAR",
           "2024-11-18T00:00:00"
          ],
          [
           "SYK",
           "2024-11-27T00:00:00"
          ],
          [
           "FFIV",
           "2024-11-04T00:00:00"
          ],
          [
           "MCHP",
           "2024-11-15T00:00:00"
          ],
          [
           "AMAT",
           "2024-11-22T00:00:00"
          ],
          [
           "NSC",
           "2024-11-08T00:00:00"
          ],
          [
           "ABT",
           "2024-11-07T00:00:00"
          ],
          [
           "TMUS",
           "2024-11-15T00:00:00"
          ],
          [
           "TSLA",
           "2024-11-25T00:00:00"
          ],
          [
           "FMC",
           "2024-11-25T00:00:00"
          ],
          [
           "ZBH",
           "2024-11-21T00:00:00"
          ],
          [
           "ALLE",
           "2024-11-18T00:00:00"
          ],
          [
           "LVS",
           "2024-11-08T00:00:00"
          ],
          [
           "AME",
           "2024-11-13T00:00:00"
          ],
          [
           "CRM",
           "2024-11-19T00:00:00"
          ],
          [
           "SRE",
           "2024-11-18T00:00:00"
          ],
          [
           "WEC",
           "2024-11-05T00:00:00"
          ],
          [
           "DLR",
           "2024-11-27T00:00:00"
          ],
          [
           "GILD",
           "2024-11-11T00:00:00"
          ],
          [
           "EMN",
           "2024-11-19T00:00:00"
          ],
          [
           "GDDY",
           "2024-11-05T00:00:00"
          ],
          [
           "JCI",
           "2024-11-25T00:00:00"
          ],
          [
           "REG",
           "2024-11-27T00:00:00"
          ],
          [
           "CTRA",
           "2024-11-15T00:00:00"
          ],
          [
           "PAYC",
           "2024-11-07T00:00:00"
          ],
          [
           "MPC",
           "2024-11-14T00:00:00"
          ],
          [
           "CHTR",
           "2024-11-18T00:00:00"
          ],
          [
           "DG",
           "2024-11-14T00:00:00"
          ],
          [
           "FI",
           "2024-11-20T00:00:00"
          ],
          [
           "DELL",
           "2024-11-11T00:00:00"
          ],
          [
           "PFG",
           "2024-11-04T00:00:00"
          ],
          [
           "DXCM",
           "2024-11-21T00:00:00"
          ],
          [
           "DTE",
           "2024-11-13T00:00:00"
          ],
          [
           "FI",
           "2024-11-13T00:00:00"
          ],
          [
           "FTV",
           "2024-11-25T00:00:00"
          ],
          [
           "MOS",
           "2024-11-11T00:00:00"
          ],
          [
           "MTB",
           "2024-11-26T00:00:00"
          ],
          [
           "VLTO",
           "2024-11-20T00:00:00"
          ],
          [
           "HCA",
           "2024-11-20T00:00:00"
          ],
          [
           "MA",
           "2024-11-27T00:00:00"
          ],
          [
           "NKE",
           "2024-11-08T00:00:00"
          ],
          [
           "CCI",
           "2024-11-21T00:00:00"
          ],
          [
           "NTRS",
           "2024-11-08T00:00:00"
          ],
          [
           "UBER",
           "2024-11-21T00:00:00"
          ],
          [
           "GIS",
           "2024-11-14T00:00:00"
          ],
          [
           "LIN",
           "2024-11-25T00:00:00"
          ],
          [
           "L",
           "2024-11-05T00:00:00"
          ],
          [
           "PNR",
           "2024-11-12T00:00:00"
          ],
          [
           "CAH",
           "2024-11-05T00:00:00"
          ],
          [
           "ED",
           "2024-11-08T00:00:00"
          ],
          [
           "VICI",
           "2024-11-27T00:00:00"
          ],
          [
           "TER",
           "2024-11-11T00:00:00"
          ],
          [
           "DOC",
           "2024-11-25T00:00:00"
          ],
          [
           "AMD",
           "2024-11-04T00:00:00"
          ],
          [
           "AFL",
           "2024-11-15T00:00:00"
          ],
          [
           "ELV",
           "2024-11-26T00:00:00"
          ],
          [
           "PFE",
           "2024-11-22T00:00:00"
          ],
          [
           "NDAQ",
           "2024-11-21T00:00:00"
          ],
          [
           "LNT",
           "2024-11-18T00:00:00"
          ],
          [
           "TXT",
           "2024-11-08T00:00:00"
          ],
          [
           "KEY",
           "2024-11-12T00:00:00"
          ],
          [
           "AWK",
           "2024-11-20T00:00:00"
          ],
          [
           "TT",
           "2024-11-26T00:00:00"
          ],
          [
           "AMGN",
           "2024-11-22T00:00:00"
          ],
          [
           "EQT",
           "2024-11-12T00:00:00"
          ],
          [
           "LIN",
           "2024-11-20T00:00:00"
          ],
          [
           "UDR",
           "2024-11-13T00:00:00"
          ],
          [
           "GLW",
           "2024-11-25T00:00:00"
          ],
          [
           "ALB",
           "2024-11-27T00:00:00"
          ],
          [
           "EXC",
           "2024-11-13T00:00:00"
          ],
          [
           "UHS",
           "2024-11-21T00:00:00"
          ],
          [
           "ABNB",
           "2024-11-25T00:00:00"
          ],
          [
           "TXT",
           "2024-11-25T00:00:00"
          ],
          [
           "NRG",
           "2024-11-19T00:00:00"
          ],
          [
           "MKC",
           "2024-11-13T00:00:00"
          ],
          [
           "BAX",
           "2024-11-08T00:00:00"
          ],
          [
           "HES",
           "2024-11-13T00:00:00"
          ],
          [
           "LULU",
           "2024-11-15T00:00:00"
          ],
          [
           "FAST",
           "2024-11-13T00:00:00"
          ],
          [
           "AFL",
           "2024-11-11T00:00:00"
          ],
          [
           "KKR",
           "2024-11-06T00:00:00"
          ],
          [
           "EVRG",
           "2024-11-18T00:00:00"
          ],
          [
           "AME",
           "2024-11-12T00:00:00"
          ],
          [
           "BLDR",
           "2024-11-19T00:00:00"
          ],
          [
           "LNT",
           "2024-11-05T00:00:00"
          ],
          [
           "CTLT",
           "2024-11-18T00:00:00"
          ],
          [
           "ON",
           "2024-11-26T00:00:00"
          ],
          [
           "BMY",
           "2024-11-21T00:00:00"
          ],
          [
           "SW",
           "2024-11-08T00:00:00"
          ],
          [
           "CMCSA",
           "2024-11-18T00:00:00"
          ],
          [
           "WRB",
           "2024-11-18T00:00:00"
          ],
          [
           "ODFL",
           "2024-11-05T00:00:00"
          ],
          [
           "ABT",
           "2024-11-22T00:00:00"
          ],
          [
           "EXR",
           "2024-11-26T00:00:00"
          ],
          [
           "O",
           "2024-11-13T00:00:00"
          ],
          [
           "BKR",
           "2024-11-19T00:00:00"
          ],
          [
           "HAS",
           "2024-11-05T00:00:00"
          ],
          [
           "JNJ",
           "2024-11-08T00:00:00"
          ],
          [
           "HST",
           "2024-11-05T00:00:00"
          ],
          [
           "TMUS",
           "2024-11-11T00:00:00"
          ],
          [
           "SRE",
           "2024-11-21T00:00:00"
          ],
          [
           "VLO",
           "2024-11-21T00:00:00"
          ],
          [
           "C",
           "2024-11-11T00:00:00"
          ],
          [
           "IVZ",
           "2024-11-06T00:00:00"
          ],
          [
           "WDC",
           "2024-11-26T00:00:00"
          ],
          [
           "TSN",
           "2024-11-27T00:00:00"
          ],
          [
           "DGX",
           "2024-11-12T00:00:00"
          ],
          [
           "BXP",
           "2024-11-21T00:00:00"
          ],
          [
           "FE",
           "2024-11-08T00:00:00"
          ],
          [
           "SYF",
           "2024-11-06T00:00:00"
          ],
          [
           "HST",
           "2024-11-19T00:00:00"
          ],
          [
           "GEHC",
           "2024-11-12T00:00:00"
          ],
          [
           "PM",
           "2024-11-13T00:00:00"
          ],
          [
           "FOX",
           "2024-11-25T00:00:00"
          ],
          [
           "ELV",
           "2024-11-21T00:00:00"
          ],
          [
           "F",
           "2024-11-20T00:00:00"
          ],
          [
           "SPGI",
           "2024-11-11T00:00:00"
          ],
          [
           "RVTY",
           "2024-11-19T00:00:00"
          ],
          [
           "PGR",
           "2024-11-19T00:00:00"
          ],
          [
           "K",
           "2024-11-25T00:00:00"
          ],
          [
           "EMN",
           "2024-11-13T00:00:00"
          ],
          [
           "TFX",
           "2024-11-11T00:00:00"
          ],
          [
           "AMT",
           "2024-11-08T00:00:00"
          ],
          [
           "XOM",
           "2024-11-05T00:00:00"
          ],
          [
           "PM",
           "2024-11-06T00:00:00"
          ],
          [
           "CFG",
           "2024-11-08T00:00:00"
          ],
          [
           "LULU",
           "2024-11-04T00:00:00"
          ],
          [
           "NFLX",
           "2024-11-25T00:00:00"
          ],
          [
           "FFIV",
           "2024-11-20T00:00:00"
          ],
          [
           "TXN",
           "2024-11-22T00:00:00"
          ],
          [
           "DVA",
           "2024-11-05T00:00:00"
          ],
          [
           "TXN",
           "2024-11-05T00:00:00"
          ],
          [
           "PM",
           "2024-11-21T00:00:00"
          ],
          [
           "PNR",
           "2024-11-14T00:00:00"
          ],
          [
           "FOX",
           "2024-11-05T00:00:00"
          ],
          [
           "JCI",
           "2024-11-21T00:00:00"
          ],
          [
           "DE",
           "2024-11-22T00:00:00"
          ],
          [
           "TT",
           "2024-11-19T00:00:00"
          ],
          [
           "JCI",
           "2024-11-19T00:00:00"
          ],
          [
           "EFX",
           "2024-11-13T00:00:00"
          ],
          [
           "MAS",
           "2024-11-27T00:00:00"
          ],
          [
           "MCHP",
           "2024-11-20T00:00:00"
          ],
          [
           "GD",
           "2024-11-18T00:00:00"
          ],
          [
           "FTNT",
           "2024-11-21T00:00:00"
          ],
          [
           "YUM",
           "2024-11-15T00:00:00"
          ],
          [
           "ODFL",
           "2024-11-12T00:00:00"
          ],
          [
           "L",
           "2024-11-25T00:00:00"
          ],
          [
           "HII",
           "2024-11-21T00:00:00"
          ],
          [
           "INTC",
           "2024-11-08T00:00:00"
          ],
          [
           "CB",
           "2024-11-21T00:00:00"
          ],
          [
           "CDW",
           "2024-11-27T00:00:00"
          ],
          [
           "TT",
           "2024-11-13T00:00:00"
          ],
          [
           "CVX",
           "2024-11-08T00:00:00"
          ],
          [
           "PNR",
           "2024-11-15T00:00:00"
          ],
          [
           "CVS",
           "2024-11-13T00:00:00"
          ],
          [
           "SW",
           "2024-11-18T00:00:00"
          ],
          [
           "DRI",
           "2024-11-25T00:00:00"
          ],
          [
           "ADBE",
           "2024-11-15T00:00:00"
          ],
          [
           "UDR",
           "2024-11-25T00:00:00"
          ],
          [
           "DELL",
           "2024-11-14T00:00:00"
          ],
          [
           "MDLZ",
           "2024-11-07T00:00:00"
          ],
          [
           "AFL",
           "2024-11-13T00:00:00"
          ],
          [
           "CTLT",
           "2024-11-07T00:00:00"
          ],
          [
           "LW",
           "2024-11-04T00:00:00"
          ],
          [
           "AKAM",
           "2024-11-13T00:00:00"
          ],
          [
           "VTRS",
           "2024-11-20T00:00:00"
          ],
          [
           "HPQ",
           "2024-11-27T00:00:00"
          ],
          [
           "INVH",
           "2024-11-12T00:00:00"
          ],
          [
           "EXPE",
           "2024-11-21T00:00:00"
          ],
          [
           "PAYC",
           "2024-11-18T00:00:00"
          ],
          [
           "CRWD",
           "2024-11-19T00:00:00"
          ],
          [
           "PNW",
           "2024-11-25T00:00:00"
          ],
          [
           "AES",
           "2024-11-07T00:00:00"
          ],
          [
           "ACGL",
           "2024-11-14T00:00:00"
          ],
          [
           "PGR",
           "2024-11-04T00:00:00"
          ],
          [
           "RTX",
           "2024-11-19T00:00:00"
          ],
          [
           "RCL",
           "2024-11-18T00:00:00"
          ],
          [
           "MGM",
           "2024-11-25T00:00:00"
          ],
          [
           "ABT",
           "2024-11-19T00:00:00"
          ],
          [
           "KMB",
           "2024-11-12T00:00:00"
          ],
          [
           "NVDA",
           "2024-11-21T00:00:00"
          ],
          [
           "WMT",
           "2024-11-12T00:00:00"
          ],
          [
           "UDR",
           "2024-11-15T00:00:00"
          ],
          [
           "DVN",
           "2024-11-15T00:00:00"
          ],
          [
           "PNC",
           "2024-11-06T00:00:00"
          ],
          [
           "PANW",
           "2024-11-12T00:00:00"
          ],
          [
           "PSA",
           "2024-11-08T00:00:00"
          ],
          [
           "FSLR",
           "2024-11-26T00:00:00"
          ],
          [
           "FTV",
           "2024-11-19T00:00:00"
          ],
          [
           "CHTR",
           "2024-11-20T00:00:00"
          ],
          [
           "UAL",
           "2024-11-07T00:00:00"
          ],
          [
           "CRL",
           "2024-11-22T00:00:00"
          ],
          [
           "HAL",
           "2024-11-19T00:00:00"
          ],
          [
           "TGT",
           "2024-11-04T00:00:00"
          ],
          [
           "CLX",
           "2024-11-25T00:00:00"
          ],
          [
           "FIS",
           "2024-11-08T00:00:00"
          ],
          [
           "MTB",
           "2024-11-05T00:00:00"
          ],
          [
           "APH",
           "2024-11-05T00:00:00"
          ],
          [
           "AKAM",
           "2024-11-08T00:00:00"
          ],
          [
           "ENPH",
           "2024-11-27T00:00:00"
          ],
          [
           "PGR",
           "2024-11-18T00:00:00"
          ],
          [
           "AKAM",
           "2024-11-15T00:00:00"
          ],
          [
           "UHS",
           "2024-11-05T00:00:00"
          ],
          [
           "LYV",
           "2024-11-20T00:00:00"
          ],
          [
           "LKQ",
           "2024-11-27T00:00:00"
          ],
          [
           "AMZN",
           "2024-11-05T00:00:00"
          ],
          [
           "PAYX",
           "2024-11-19T00:00:00"
          ],
          [
           "ADM",
           "2024-11-25T00:00:00"
          ],
          [
           "KKR",
           "2024-11-11T00:00:00"
          ],
          [
           "PPL",
           "2024-11-20T00:00:00"
          ],
          [
           "FOXA",
           "2024-11-26T00:00:00"
          ],
          [
           "MMC",
           "2024-11-27T00:00:00"
          ],
          [
           "NXPI",
           "2024-11-22T00:00:00"
          ],
          [
           "TMO",
           "2024-11-19T00:00:00"
          ],
          [
           "IBM",
           "2024-11-11T00:00:00"
          ],
          [
           "BWA",
           "2024-11-22T00:00:00"
          ],
          [
           "MS",
           "2024-11-19T00:00:00"
          ],
          [
           "GLW",
           "2024-11-20T00:00:00"
          ],
          [
           "TECH",
           "2024-11-25T00:00:00"
          ],
          [
           "MRNA",
           "2024-11-15T00:00:00"
          ],
          [
           "SO",
           "2024-11-07T00:00:00"
          ],
          [
           "NFLX",
           "2024-11-18T00:00:00"
          ],
          [
           "ITW",
           "2024-11-07T00:00:00"
          ],
          [
           "NVDA",
           "2024-11-27T00:00:00"
          ],
          [
           "TMUS",
           "2024-11-27T00:00:00"
          ],
          [
           "ETR",
           "2024-11-04T00:00:00"
          ],
          [
           "UNP",
           "2024-11-14T00:00:00"
          ],
          [
           "PCG",
           "2024-11-15T00:00:00"
          ],
          [
           "EA",
           "2024-11-06T00:00:00"
          ],
          [
           "YUM",
           "2024-11-12T00:00:00"
          ],
          [
           "CRWD",
           "2024-11-27T00:00:00"
          ],
          [
           "ZTS",
           "2024-11-05T00:00:00"
          ],
          [
           "AMGN",
           "2024-11-15T00:00:00"
          ],
          [
           "SRE",
           "2024-11-26T00:00:00"
          ],
          [
           "ABT",
           "2024-11-25T00:00:00"
          ],
          [
           "MNST",
           "2024-11-13T00:00:00"
          ],
          [
           "SO",
           "2024-11-25T00:00:00"
          ],
          [
           "ABT",
           "2024-11-08T00:00:00"
          ],
          [
           "DIS",
           "2024-11-08T00:00:00"
          ],
          [
           "GEV",
           "2024-11-12T00:00:00"
          ],
          [
           "AKAM",
           "2024-11-26T00:00:00"
          ],
          [
           "ETR",
           "2024-11-25T00:00:00"
          ],
          [
           "ANET",
           "2024-11-04T00:00:00"
          ],
          [
           "EOG",
           "2024-11-08T00:00:00"
          ],
          [
           "JBHT",
           "2024-11-04T00:00:00"
          ],
          [
           "PYPL",
           "2024-11-13T00:00:00"
          ],
          [
           "YUM",
           "2024-11-04T00:00:00"
          ],
          [
           "BX",
           "2024-11-18T00:00:00"
          ],
          [
           "ALLE",
           "2024-11-22T00:00:00"
          ],
          [
           "NDAQ",
           "2024-11-08T00:00:00"
          ],
          [
           "AME",
           "2024-11-19T00:00:00"
          ],
          [
           "HES",
           "2024-11-12T00:00:00"
          ],
          [
           "FSLR",
           "2024-11-08T00:00:00"
          ],
          [
           "O",
           "2024-11-21T00:00:00"
          ],
          [
           "LRCX",
           "2024-11-26T00:00:00"
          ],
          [
           "HSIC",
           "2024-11-11T00:00:00"
          ],
          [
           "RL",
           "2024-11-06T00:00:00"
          ],
          [
           "ELV",
           "2024-11-14T00:00:00"
          ],
          [
           "MA",
           "2024-11-25T00:00:00"
          ],
          [
           "PFE",
           "2024-11-27T00:00:00"
          ],
          [
           "GIS",
           "2024-11-05T00:00:00"
          ],
          [
           "CRWD",
           "2024-11-15T00:00:00"
          ],
          [
           "KO",
           "2024-11-11T00:00:00"
          ],
          [
           "DHR",
           "2024-11-15T00:00:00"
          ],
          [
           "TXN",
           "2024-11-21T00:00:00"
          ],
          [
           "EBAY",
           "2024-11-18T00:00:00"
          ],
          [
           "ROST",
           "2024-11-22T00:00:00"
          ],
          [
           "AXP",
           "2024-11-11T00:00:00"
          ],
          [
           "AFL",
           "2024-11-27T00:00:00"
          ],
          [
           "WY",
           "2024-11-13T00:00:00"
          ],
          [
           "KKR",
           "2024-11-07T00:00:00"
          ],
          [
           "KMI",
           "2024-11-05T00:00:00"
          ],
          [
           "CPRT",
           "2024-11-06T00:00:00"
          ],
          [
           "SHW",
           "2024-11-25T00:00:00"
          ],
          [
           "D",
           "2024-11-12T00:00:00"
          ],
          [
           "YUM",
           "2024-11-07T00:00:00"
          ],
          [
           "BG",
           "2024-11-19T00:00:00"
          ],
          [
           "RSG",
           "2024-11-21T00:00:00"
          ],
          [
           "GD",
           "2024-11-06T00:00:00"
          ],
          [
           "AFL",
           "2024-11-07T00:00:00"
          ],
          [
           "WDC",
           "2024-11-18T00:00:00"
          ],
          [
           "CAH",
           "2024-11-21T00:00:00"
          ],
          [
           "TER",
           "2024-11-15T00:00:00"
          ],
          [
           "MMC",
           "2024-11-12T00:00:00"
          ],
          [
           "ALL",
           "2024-11-20T00:00:00"
          ],
          [
           "AAPL",
           "2024-11-12T00:00:00"
          ],
          [
           "RJF",
           "2024-11-04T00:00:00"
          ],
          [
           "SJM",
           "2024-11-15T00:00:00"
          ],
          [
           "RSG",
           "2024-11-06T00:00:00"
          ],
          [
           "VTRS",
           "2024-11-14T00:00:00"
          ],
          [
           "OTIS",
           "2024-11-26T00:00:00"
          ],
          [
           "PEP",
           "2024-11-11T00:00:00"
          ],
          [
           "LVS",
           "2024-11-19T00:00:00"
          ],
          [
           "TGT",
           "2024-11-06T00:00:00"
          ],
          [
           "AFL",
           "2024-11-22T00:00:00"
          ],
          [
           "AXP",
           "2024-11-26T00:00:00"
          ],
          [
           "AKAM",
           "2024-11-04T00:00:00"
          ],
          [
           "CMG",
           "2024-11-20T00:00:00"
          ],
          [
           "DHI",
           "2024-11-11T00:00:00"
          ],
          [
           "GEV",
           "2024-11-14T00:00:00"
          ],
          [
           "SYF",
           "2024-11-14T00:00:00"
          ],
          [
           "SO",
           "2024-11-15T00:00:00"
          ],
          [
           "BDX",
           "2024-11-11T00:00:00"
          ],
          [
           "LYB",
           "2024-11-04T00:00:00"
          ],
          [
           "RVTY",
           "2024-11-26T00:00:00"
          ],
          [
           "TAP",
           "2024-11-22T00:00:00"
          ],
          [
           "AOS",
           "2024-11-06T00:00:00"
          ],
          [
           "MCD",
           "2024-11-26T00:00:00"
          ],
          [
           "NTRS",
           "2024-11-07T00:00:00"
          ],
          [
           "QRVO",
           "2024-11-27T00:00:00"
          ],
          [
           "TRGP",
           "2024-11-06T00:00:00"
          ],
          [
           "ELV",
           "2024-11-19T00:00:00"
          ],
          [
           "TSCO",
           "2024-11-05T00:00:00"
          ],
          [
           "ICE",
           "2024-11-11T00:00:00"
          ],
          [
           "RL",
           "2024-11-22T00:00:00"
          ],
          [
           "PG",
           "2024-11-21T00:00:00"
          ],
          [
           "LVS",
           "2024-11-27T00:00:00"
          ],
          [
           "KVUE",
           "2024-11-11T00:00:00"
          ],
          [
           "FE",
           "2024-11-06T00:00:00"
          ],
          [
           "UDR",
           "2024-11-27T00:00:00"
          ],
          [
           "MDT",
           "2024-11-22T00:00:00"
          ],
          [
           "DELL",
           "2024-11-27T00:00:00"
          ],
          [
           "EMN",
           "2024-11-06T00:00:00"
          ],
          [
           "ED",
           "2024-11-19T00:00:00"
          ],
          [
           "PARA",
           "2024-11-13T00:00:00"
          ],
          [
           "AVGO",
           "2024-11-12T00:00:00"
          ],
          [
           "PFG",
           "2024-11-08T00:00:00"
          ],
          [
           "SPG",
           "2024-11-27T00:00:00"
          ],
          [
           "TXN",
           "2024-11-04T00:00:00"
          ],
          [
           "KIM",
           "2024-11-22T00:00:00"
          ],
          [
           "TPR",
           "2024-11-21T00:00:00"
          ],
          [
           "WBA",
           "2024-11-07T00:00:00"
          ],
          [
           "FAST",
           "2024-11-22T00:00:00"
          ],
          [
           "APD",
           "2024-11-15T00:00:00"
          ],
          [
           "TGT",
           "2024-11-13T00:00:00"
          ],
          [
           "A",
           "2024-11-07T00:00:00"
          ],
          [
           "DLR",
           "2024-11-06T00:00:00"
          ],
          [
           "WY",
           "2024-11-07T00:00:00"
          ],
          [
           "HOLX",
           "2024-11-20T00:00:00"
          ],
          [
           "BK",
           "2024-11-08T00:00:00"
          ],
          [
           "NVDA",
           "2024-11-11T00:00:00"
          ],
          [
           "PCG",
           "2024-11-13T00:00:00"
          ],
          [
           "ALB",
           "2024-11-13T00:00:00"
          ],
          [
           "LNT",
           "2024-11-15T00:00:00"
          ],
          [
           "GOOG",
           "2024-11-20T00:00:00"
          ],
          [
           "ACGL",
           "2024-11-15T00:00:00"
          ],
          [
           "JPM",
           "2024-11-25T00:00:00"
          ],
          [
           "EW",
           "2024-11-12T00:00:00"
          ],
          [
           "PM",
           "2024-11-26T00:00:00"
          ],
          [
           "AMCR",
           "2024-11-08T00:00:00"
          ],
          [
           "AMT",
           "2024-11-14T00:00:00"
          ],
          [
           "BEN",
           "2024-11-20T00:00:00"
          ],
          [
           "STX",
           "2024-11-12T00:00:00"
          ],
          [
           "SMCI",
           "2024-11-08T00:00:00"
          ],
          [
           "GEHC",
           "2024-11-13T00:00:00"
          ],
          [
           "CLX",
           "2024-11-27T00:00:00"
          ],
          [
           "CTRA",
           "2024-11-12T00:00:00"
          ],
          [
           "ADP",
           "2024-11-25T00:00:00"
          ],
          [
           "TFX",
           "2024-11-19T00:00:00"
          ],
          [
           "HRL",
           "2024-11-14T00:00:00"
          ],
          [
           "ARE",
           "2024-11-20T00:00:00"
          ],
          [
           "CLX",
           "2024-11-20T00:00:00"
          ],
          [
           "KMI",
           "2024-11-25T00:00:00"
          ],
          [
           "CHD",
           "2024-11-08T00:00:00"
          ],
          [
           "LEN",
           "2024-11-11T00:00:00"
          ],
          [
           "WBD",
           "2024-11-22T00:00:00"
          ],
          [
           "TRMB",
           "2024-11-06T00:00:00"
          ],
          [
           "ADBE",
           "2024-11-27T00:00:00"
          ],
          [
           "BAX",
           "2024-11-14T00:00:00"
          ],
          [
           "EXPE",
           "2024-11-12T00:00:00"
          ],
          [
           "AOS",
           "2024-11-12T00:00:00"
          ],
          [
           "CEG",
           "2024-11-04T00:00:00"
          ],
          [
           "HSY",
           "2024-11-26T00:00:00"
          ],
          [
           "CDW",
           "2024-11-22T00:00:00"
          ],
          [
           "ICE",
           "2024-11-04T00:00:00"
          ],
          [
           "CPB",
           "2024-11-08T00:00:00"
          ],
          [
           "NFLX",
           "2024-11-21T00:00:00"
          ],
          [
           "ORCL",
           "2024-11-21T00:00:00"
          ],
          [
           "HES",
           "2024-11-25T00:00:00"
          ],
          [
           "LUV",
           "2024-11-20T00:00:00"
          ],
          [
           "HAS",
           "2024-11-27T00:00:00"
          ],
          [
           "MS",
           "2024-11-07T00:00:00"
          ],
          [
           "WAB",
           "2024-11-08T00:00:00"
          ],
          [
           "APA",
           "2024-11-04T00:00:00"
          ],
          [
           "EL",
           "2024-11-20T00:00:00"
          ],
          [
           "ANET",
           "2024-11-20T00:00:00"
          ],
          [
           "SYK",
           "2024-11-08T00:00:00"
          ],
          [
           "DELL",
           "2024-11-06T00:00:00"
          ],
          [
           "ABNB",
           "2024-11-21T00:00:00"
          ],
          [
           "BDX",
           "2024-11-05T00:00:00"
          ],
          [
           "PAYX",
           "2024-11-05T00:00:00"
          ],
          [
           "COP",
           "2024-11-22T00:00:00"
          ],
          [
           "PLTR",
           "2024-11-20T00:00:00"
          ],
          [
           "OKE",
           "2024-11-04T00:00:00"
          ],
          [
           "GS",
           "2024-11-19T00:00:00"
          ],
          [
           "JPM",
           "2024-11-19T00:00:00"
          ],
          [
           "IRM",
           "2024-11-26T00:00:00"
          ],
          [
           "PARA",
           "2024-11-06T00:00:00"
          ],
          [
           "L",
           "2024-11-20T00:00:00"
          ],
          [
           "CSGP",
           "2024-11-08T00:00:00"
          ],
          [
           "ABNB",
           "2024-11-11T00:00:00"
          ],
          [
           "CBOE",
           "2024-11-08T00:00:00"
          ],
          [
           "IR",
           "2024-11-12T00:00:00"
          ],
          [
           "TRV",
           "2024-11-04T00:00:00"
          ],
          [
           "TAP",
           "2024-11-07T00:00:00"
          ],
          [
           "FFIV",
           "2024-11-14T00:00:00"
          ],
          [
           "DG",
           "2024-11-26T00:00:00"
          ],
          [
           "HIG",
           "2024-11-08T00:00:00"
          ],
          [
           "IRM",
           "2024-11-12T00:00:00"
          ],
          [
           "INTC",
           "2024-11-25T00:00:00"
          ],
          [
           "CAT",
           "2024-11-11T00:00:00"
          ],
          [
           "IQV",
           "2024-11-07T00:00:00"
          ],
          [
           "XEL",
           "2024-11-07T00:00:00"
          ],
          [
           "AMD",
           "2024-11-12T00:00:00"
          ],
          [
           "WYNN",
           "2024-11-14T00:00:00"
          ],
          [
           "SYK",
           "2024-11-12T00:00:00"
          ],
          [
           "MKC",
           "2024-11-21T00:00:00"
          ],
          [
           "FOX",
           "2024-11-07T00:00:00"
          ],
          [
           "BEN",
           "2024-11-15T00:00:00"
          ],
          [
           "PWR",
           "2024-11-07T00:00:00"
          ],
          [
           "VZ",
           "2024-11-18T00:00:00"
          ],
          [
           "HIG",
           "2024-11-15T00:00:00"
          ],
          [
           "ES",
           "2024-11-06T00:00:00"
          ],
          [
           "DRI",
           "2024-11-11T00:00:00"
          ],
          [
           "SO",
           "2024-11-18T00:00:00"
          ],
          [
           "WDC",
           "2024-11-22T00:00:00"
          ],
          [
           "PPL",
           "2024-11-13T00:00:00"
          ],
          [
           "AWK",
           "2024-11-06T00:00:00"
          ],
          [
           "BMY",
           "2024-11-15T00:00:00"
          ],
          [
           "PANW",
           "2024-11-06T00:00:00"
          ],
          [
           "GPC",
           "2024-11-20T00:00:00"
          ],
          [
           "ALL",
           "2024-11-12T00:00:00"
          ],
          [
           "IPG",
           "2024-11-21T00:00:00"
          ],
          [
           "PGR",
           "2024-11-13T00:00:00"
          ],
          [
           "KR",
           "2024-11-27T00:00:00"
          ],
          [
           "BIIB",
           "2024-11-21T00:00:00"
          ],
          [
           "PNC",
           "2024-11-22T00:00:00"
          ],
          [
           "CAT",
           "2024-11-26T00:00:00"
          ],
          [
           "PHM",
           "2024-11-14T00:00:00"
          ],
          [
           "SW",
           "2024-11-21T00:00:00"
          ],
          [
           "QCOM",
           "2024-11-05T00:00:00"
          ],
          [
           "COST",
           "2024-11-14T00:00:00"
          ],
          [
           "UPS",
           "2024-11-05T00:00:00"
          ],
          [
           "SJM",
           "2024-11-19T00:00:00"
          ],
          [
           "IQV",
           "2024-11-08T00:00:00"
          ],
          [
           "RL",
           "2024-11-18T00:00:00"
          ],
          [
           "VTR",
           "2024-11-20T00:00:00"
          ],
          [
           "FRT",
           "2024-11-26T00:00:00"
          ],
          [
           "NI",
           "2024-11-11T00:00:00"
          ],
          [
           "LW",
           "2024-11-19T00:00:00"
          ],
          [
           "F",
           "2024-11-04T00:00:00"
          ],
          [
           "DGX",
           "2024-11-13T00:00:00"
          ],
          [
           "ABNB",
           "2024-11-05T00:00:00"
          ],
          [
           "NSC",
           "2024-11-14T00:00:00"
          ],
          [
           "AAPL",
           "2024-11-11T00:00:00"
          ],
          [
           "BLDR",
           "2024-11-20T00:00:00"
          ],
          [
           "UPS",
           "2024-11-20T00:00:00"
          ],
          [
           "WMT",
           "2024-11-27T00:00:00"
          ],
          [
           "LOW",
           "2024-11-26T00:00:00"
          ],
          [
           "CVX",
           "2024-11-12T00:00:00"
          ],
          [
           "DXCM",
           "2024-11-07T00:00:00"
          ],
          [
           "TXN",
           "2024-11-19T00:00:00"
          ],
          [
           "SMCI",
           "2024-11-20T00:00:00"
          ],
          [
           "ECL",
           "2024-11-22T00:00:00"
          ],
          [
           "AME",
           "2024-11-21T00:00:00"
          ],
          [
           "AVGO",
           "2024-11-20T00:00:00"
          ],
          [
           "ZTS",
           "2024-11-20T00:00:00"
          ],
          [
           "MMC",
           "2024-11-25T00:00:00"
          ],
          [
           "BK",
           "2024-11-21T00:00:00"
          ],
          [
           "PSX",
           "2024-11-08T00:00:00"
          ],
          [
           "QRVO",
           "2024-11-06T00:00:00"
          ],
          [
           "MS",
           "2024-11-11T00:00:00"
          ],
          [
           "PRU",
           "2024-11-25T00:00:00"
          ],
          [
           "FE",
           "2024-11-18T00:00:00"
          ],
          [
           "IP",
           "2024-11-11T00:00:00"
          ],
          [
           "APA",
           "2024-11-26T00:00:00"
          ],
          [
           "ALL",
           "2024-11-18T00:00:00"
          ],
          [
           "NKE",
           "2024-11-15T00:00:00"
          ],
          [
           "AXP",
           "2024-11-04T00:00:00"
          ],
          [
           "TTWO",
           "2024-11-04T00:00:00"
          ],
          [
           "CHTR",
           "2024-11-21T00:00:00"
          ],
          [
           "TSLA",
           "2024-11-06T00:00:00"
          ],
          [
           "KVUE",
           "2024-11-05T00:00:00"
          ],
          [
           "MCO",
           "2024-11-25T00:00:00"
          ],
          [
           "DTE",
           "2024-11-14T00:00:00"
          ],
          [
           "TSN",
           "2024-11-13T00:00:00"
          ],
          [
           "MCHP",
           "2024-11-19T00:00:00"
          ],
          [
           "NKE",
           "2024-11-18T00:00:00"
          ],
          [
           "FTNT",
           "2024-11-27T00:00:00"
          ],
          [
           "JPM",
           "2024-11-08T00:00:00"
          ],
          [
           "MRK",
           "2024-11-26T00:00:00"
          ],
          [
           "LUV",
           "2024-11-27T00:00:00"
          ],
          [
           "LNT",
           "2024-11-19T00:00:00"
          ],
          [
           "GNRC",
           "2024-11-08T00:00:00"
          ],
          [
           "ADSK",
           "2024-11-20T00:00:00"
          ],
          [
           "FFIV",
           "2024-11-11T00:00:00"
          ],
          [
           "KMI",
           "2024-11-26T00:00:00"
          ],
          [
           "BAC",
           "2024-11-13T00:00:00"
          ],
          [
           "DVA",
           "2024-11-21T00:00:00"
          ],
          [
           "CMCSA",
           "2024-11-12T00:00:00"
          ],
          [
           "JNJ",
           "2024-11-18T00:00:00"
          ],
          [
           "AXP",
           "2024-11-19T00:00:00"
          ],
          [
           "TRV",
           "2024-11-20T00:00:00"
          ],
          [
           "KMB",
           "2024-11-19T00:00:00"
          ],
          [
           "ZTS",
           "2024-11-21T00:00:00"
          ],
          [
           "STT",
           "2024-11-05T00:00:00"
          ],
          [
           "AME",
           "2024-11-20T00:00:00"
          ],
          [
           "NEE",
           "2024-11-14T00:00:00"
          ],
          [
           "SWK",
           "2024-11-21T00:00:00"
          ],
          [
           "MCK",
           "2024-11-25T00:00:00"
          ],
          [
           "PFG",
           "2024-11-26T00:00:00"
          ],
          [
           "GLW",
           "2024-11-21T00:00:00"
          ],
          [
           "CAH",
           "2024-11-27T00:00:00"
          ],
          [
           "LOW",
           "2024-11-15T00:00:00"
          ],
          [
           "EFX",
           "2024-11-18T00:00:00"
          ],
          [
           "BSX",
           "2024-11-05T00:00:00"
          ],
          [
           "ABT",
           "2024-11-06T00:00:00"
          ],
          [
           "ACGL",
           "2024-11-05T00:00:00"
          ],
          [
           "ECL",
           "2024-11-13T00:00:00"
          ],
          [
           "GIS",
           "2024-11-11T00:00:00"
          ],
          [
           "UNP",
           "2024-11-18T00:00:00"
          ],
          [
           "WEC",
           "2024-11-06T00:00:00"
          ],
          [
           "AVGO",
           "2024-11-25T00:00:00"
          ],
          [
           "FIS",
           "2024-11-06T00:00:00"
          ],
          [
           "VTR",
           "2024-11-07T00:00:00"
          ],
          [
           "SYK",
           "2024-11-07T00:00:00"
          ],
          [
           "PG",
           "2024-11-22T00:00:00"
          ],
          [
           "CTAS",
           "2024-11-08T00:00:00"
          ],
          [
           "AIG",
           "2024-11-12T00:00:00"
          ],
          [
           "BRK-B",
           "2024-11-13T00:00:00"
          ],
          [
           "TRV",
           "2024-11-26T00:00:00"
          ],
          [
           "EMN",
           "2024-11-12T00:00:00"
          ],
          [
           "WBD",
           "2024-11-12T00:00:00"
          ],
          [
           "DECK",
           "2024-11-27T00:00:00"
          ],
          [
           "KR",
           "2024-11-08T00:00:00"
          ],
          [
           "PH",
           "2024-11-27T00:00:00"
          ],
          [
           "WAT",
           "2024-11-07T00:00:00"
          ],
          [
           "ABBV",
           "2024-11-12T00:00:00"
          ],
          [
           "VMC",
           "2024-11-12T00:00:00"
          ],
          [
           "MAA",
           "2024-11-04T00:00:00"
          ],
          [
           "RTX",
           "2024-11-26T00:00:00"
          ],
          [
           "DE",
           "2024-11-13T00:00:00"
          ],
          [
           "CSCO",
           "2024-11-08T00:00:00"
          ],
          [
           "ROST",
           "2024-11-04T00:00:00"
          ],
          [
           "WEC",
           "2024-11-26T00:00:00"
          ],
          [
           "CEG",
           "2024-11-12T00:00:00"
          ],
          [
           "EXPD",
           "2024-11-21T00:00:00"
          ],
          [
           "KMB",
           "2024-11-25T00:00:00"
          ],
          [
           "EOG",
           "2024-11-15T00:00:00"
          ],
          [
           "AMZN",
           "2024-11-27T00:00:00"
          ],
          [
           "VLTO",
           "2024-11-26T00:00:00"
          ],
          [
           "WBA",
           "2024-11-18T00:00:00"
          ],
          [
           "ATO",
           "2024-11-06T00:00:00"
          ],
          [
           "APTV",
           "2024-11-04T00:00:00"
          ],
          [
           "DOW",
           "2024-11-21T00:00:00"
          ],
          [
           "BX",
           "2024-11-19T00:00:00"
          ],
          [
           "HD",
           "2024-11-27T00:00:00"
          ],
          [
           "BIIB",
           "2024-11-04T00:00:00"
          ],
          [
           "UNH",
           "2024-11-04T00:00:00"
          ],
          [
           "NVDA",
           "2024-11-18T00:00:00"
          ],
          [
           "VST",
           "2024-11-25T00:00:00"
          ],
          [
           "HII",
           "2024-11-06T00:00:00"
          ],
          [
           "HCA",
           "2024-11-15T00:00:00"
          ],
          [
           "AFL",
           "2024-11-21T00:00:00"
          ],
          [
           "GEN",
           "2024-11-18T00:00:00"
          ],
          [
           "ON",
           "2024-11-04T00:00:00"
          ],
          [
           "MCK",
           "2024-11-11T00:00:00"
          ],
          [
           "MAS",
           "2024-11-13T00:00:00"
          ],
          [
           "SBAC",
           "2024-11-22T00:00:00"
          ],
          [
           "VMC",
           "2024-11-27T00:00:00"
          ],
          [
           "EOG",
           "2024-11-04T00:00:00"
          ],
          [
           "LOW",
           "2024-11-21T00:00:00"
          ],
          [
           "MET",
           "2024-11-11T00:00:00"
          ],
          [
           "KVUE",
           "2024-11-06T00:00:00"
          ],
          [
           "BX",
           "2024-11-04T00:00:00"
          ],
          [
           "BA",
           "2024-11-07T00:00:00"
          ],
          [
           "IFF",
           "2024-11-27T00:00:00"
          ],
          [
           "PNR",
           "2024-11-19T00:00:00"
          ],
          [
           "ANET",
           "2024-11-25T00:00:00"
          ],
          [
           "MRNA",
           "2024-11-22T00:00:00"
          ],
          [
           "VLO",
           "2024-11-13T00:00:00"
          ],
          [
           "COP",
           "2024-11-26T00:00:00"
          ],
          [
           "QRVO",
           "2024-11-14T00:00:00"
          ],
          [
           "HIG",
           "2024-11-14T00:00:00"
          ],
          [
           "HPE",
           "2024-11-26T00:00:00"
          ],
          [
           "INCY",
           "2024-11-15T00:00:00"
          ],
          [
           "TRGP",
           "2024-11-18T00:00:00"
          ],
          [
           "MCO",
           "2024-11-12T00:00:00"
          ],
          [
           "KKR",
           "2024-11-19T00:00:00"
          ],
          [
           "XEL",
           "2024-11-22T00:00:00"
          ],
          [
           "CE",
           "2024-11-15T00:00:00"
          ],
          [
           "CSX",
           "2024-11-20T00:00:00"
          ],
          [
           "ELV",
           "2024-11-18T00:00:00"
          ],
          [
           "HIG",
           "2024-11-21T00:00:00"
          ],
          [
           "ON",
           "2024-11-05T00:00:00"
          ],
          [
           "PCAR",
           "2024-11-22T00:00:00"
          ],
          [
           "WYNN",
           "2024-11-08T00:00:00"
          ],
          [
           "ROST",
           "2024-11-14T00:00:00"
          ],
          [
           "HIG",
           "2024-11-05T00:00:00"
          ],
          [
           "EQT",
           "2024-11-05T00:00:00"
          ],
          [
           "DOW",
           "2024-11-22T00:00:00"
          ],
          [
           "JPM",
           "2024-11-05T00:00:00"
          ],
          [
           "BG",
           "2024-11-15T00:00:00"
          ],
          [
           "BRK-B",
           "2024-11-21T00:00:00"
          ],
          [
           "WBD",
           "2024-11-21T00:00:00"
          ],
          [
           "GEV",
           "2024-11-04T00:00:00"
          ],
          [
           "DLTR",
           "2024-11-22T00:00:00"
          ],
          [
           "DE",
           "2024-11-12T00:00:00"
          ],
          [
           "HON",
           "2024-11-19T00:00:00"
          ],
          [
           "HSY",
           "2024-11-07T00:00:00"
          ],
          [
           "BKR",
           "2024-11-07T00:00:00"
          ],
          [
           "VTRS",
           "2024-11-19T00:00:00"
          ],
          [
           "NI",
           "2024-11-04T00:00:00"
          ],
          [
           "SO",
           "2024-11-06T00:00:00"
          ],
          [
           "CAT",
           "2024-11-12T00:00:00"
          ],
          [
           "TGT",
           "2024-11-25T00:00:00"
          ],
          [
           "ADM",
           "2024-11-04T00:00:00"
          ],
          [
           "KHC",
           "2024-11-07T00:00:00"
          ],
          [
           "DAY",
           "2024-11-27T00:00:00"
          ],
          [
           "DUK",
           "2024-11-21T00:00:00"
          ],
          [
           "GD",
           "2024-11-20T00:00:00"
          ],
          [
           "GIS",
           "2024-11-13T00:00:00"
          ],
          [
           "SCHW",
           "2024-11-06T00:00:00"
          ],
          [
           "OKE",
           "2024-11-06T00:00:00"
          ],
          [
           "ECL",
           "2024-11-21T00:00:00"
          ],
          [
           "EQR",
           "2024-11-26T00:00:00"
          ],
          [
           "EFX",
           "2024-11-26T00:00:00"
          ],
          [
           "CRM",
           "2024-11-25T00:00:00"
          ],
          [
           "DE",
           "2024-11-14T00:00:00"
          ],
          [
           "WEC",
           "2024-11-18T00:00:00"
          ],
          [
           "JBHT",
           "2024-11-08T00:00:00"
          ],
          [
           "WMB",
           "2024-11-13T00:00:00"
          ],
          [
           "WBD",
           "2024-11-05T00:00:00"
          ],
          [
           "COST",
           "2024-11-25T00:00:00"
          ],
          [
           "IFF",
           "2024-11-15T00:00:00"
          ],
          [
           "WMT",
           "2024-11-05T00:00:00"
          ],
          [
           "NKE",
           "2024-11-14T00:00:00"
          ],
          [
           "SLB",
           "2024-11-20T00:00:00"
          ],
          [
           "PARA",
           "2024-11-08T00:00:00"
          ],
          [
           "RTX",
           "2024-11-18T00:00:00"
          ],
          [
           "TRV",
           "2024-11-14T00:00:00"
          ],
          [
           "NXPI",
           "2024-11-19T00:00:00"
          ],
          [
           "NOW",
           "2024-11-25T00:00:00"
          ],
          [
           "BRK-B",
           "2024-11-27T00:00:00"
          ],
          [
           "CTSH",
           "2024-11-08T00:00:00"
          ],
          [
           "MCK",
           "2024-11-14T00:00:00"
          ],
          [
           "HD",
           "2024-11-21T00:00:00"
          ],
          [
           "BXP",
           "2024-11-05T00:00:00"
          ],
          [
           "HWM",
           "2024-11-07T00:00:00"
          ],
          [
           "COF",
           "2024-11-13T00:00:00"
          ],
          [
           "PYPL",
           "2024-11-11T00:00:00"
          ],
          [
           "PANW",
           "2024-11-05T00:00:00"
          ],
          [
           "HD",
           "2024-11-26T00:00:00"
          ],
          [
           "CRL",
           "2024-11-13T00:00:00"
          ],
          [
           "NDAQ",
           "2024-11-07T00:00:00"
          ],
          [
           "TER",
           "2024-11-21T00:00:00"
          ],
          [
           "KDP",
           "2024-11-25T00:00:00"
          ],
          [
           "HON",
           "2024-11-06T00:00:00"
          ],
          [
           "EMN",
           "2024-11-04T00:00:00"
          ],
          [
           "OTIS",
           "2024-11-14T00:00:00"
          ],
          [
           "CTLT",
           "2024-11-25T00:00:00"
          ],
          [
           "ATO",
           "2024-11-04T00:00:00"
          ],
          [
           "FI",
           "2024-11-11T00:00:00"
          ],
          [
           "BX",
           "2024-11-06T00:00:00"
          ],
          [
           "D",
           "2024-11-27T00:00:00"
          ],
          [
           "LKQ",
           "2024-11-05T00:00:00"
          ],
          [
           "NWSA",
           "2024-11-26T00:00:00"
          ],
          [
           "LLY",
           "2024-11-06T00:00:00"
          ],
          [
           "ALB",
           "2024-11-08T00:00:00"
          ],
          [
           "NEE",
           "2024-11-04T00:00:00"
          ],
          [
           "MNST",
           "2024-11-05T00:00:00"
          ],
          [
           "KMI",
           "2024-11-27T00:00:00"
          ],
          [
           "NFLX",
           "2024-11-12T00:00:00"
          ],
          [
           "AMT",
           "2024-11-05T00:00:00"
          ],
          [
           "HPQ",
           "2024-11-14T00:00:00"
          ],
          [
           "F",
           "2024-11-18T00:00:00"
          ],
          [
           "EVRG",
           "2024-11-14T00:00:00"
          ],
          [
           "RVTY",
           "2024-11-14T00:00:00"
          ],
          [
           "GEV",
           "2024-11-08T00:00:00"
          ],
          [
           "NTRS",
           "2024-11-04T00:00:00"
          ],
          [
           "LKQ",
           "2024-11-21T00:00:00"
          ],
          [
           "HPE",
           "2024-11-06T00:00:00"
          ],
          [
           "MRNA",
           "2024-11-19T00:00:00"
          ],
          [
           "EFX",
           "2024-11-06T00:00:00"
          ],
          [
           "CHD",
           "2024-11-05T00:00:00"
          ],
          [
           "FTV",
           "2024-11-04T00:00:00"
          ],
          [
           "ZBH",
           "2024-11-18T00:00:00"
          ],
          [
           "A",
           "2024-11-15T00:00:00"
          ],
          [
           "TTWO",
           "2024-11-27T00:00:00"
          ],
          [
           "GE",
           "2024-11-25T00:00:00"
          ],
          [
           "CMCSA",
           "2024-11-27T00:00:00"
          ],
          [
           "AXP",
           "2024-11-07T00:00:00"
          ],
          [
           "WYNN",
           "2024-11-07T00:00:00"
          ],
          [
           "HOLX",
           "2024-11-14T00:00:00"
          ],
          [
           "TTWO",
           "2024-11-25T00:00:00"
          ],
          [
           "FTV",
           "2024-11-05T00:00:00"
          ],
          [
           "CVS",
           "2024-11-18T00:00:00"
          ],
          [
           "IP",
           "2024-11-20T00:00:00"
          ],
          [
           "COF",
           "2024-11-26T00:00:00"
          ],
          [
           "MSFT",
           "2024-11-27T00:00:00"
          ],
          [
           "KEY",
           "2024-11-15T00:00:00"
          ],
          [
           "JBL",
           "2024-11-07T00:00:00"
          ],
          [
           "BAX",
           "2024-11-27T00:00:00"
          ],
          [
           "PCAR",
           "2024-11-20T00:00:00"
          ],
          [
           "MTB",
           "2024-11-22T00:00:00"
          ],
          [
           "HPE",
           "2024-11-20T00:00:00"
          ],
          [
           "PFG",
           "2024-11-06T00:00:00"
          ],
          [
           "TRMB",
           "2024-11-07T00:00:00"
          ],
          [
           "PFG",
           "2024-11-11T00:00:00"
          ],
          [
           "HOLX",
           "2024-11-12T00:00:00"
          ],
          [
           "DAL",
           "2024-11-21T00:00:00"
          ],
          [
           "AOS",
           "2024-11-08T00:00:00"
          ],
          [
           "XYL",
           "2024-11-22T00:00:00"
          ],
          [
           "RTX",
           "2024-11-06T00:00:00"
          ],
          [
           "TGT",
           "2024-11-27T00:00:00"
          ],
          [
           "CMCSA",
           "2024-11-06T00:00:00"
          ],
          [
           "ALL",
           "2024-11-11T00:00:00"
          ],
          [
           "WBA",
           "2024-11-22T00:00:00"
          ],
          [
           "AEE",
           "2024-11-21T00:00:00"
          ],
          [
           "ETN",
           "2024-11-08T00:00:00"
          ],
          [
           "NVDA",
           "2024-11-19T00:00:00"
          ],
          [
           "HST",
           "2024-11-11T00:00:00"
          ],
          [
           "IPG",
           "2024-11-04T00:00:00"
          ],
          [
           "HSIC",
           "2024-11-21T00:00:00"
          ],
          [
           "MAA",
           "2024-11-11T00:00:00"
          ],
          [
           "HSY",
           "2024-11-04T00:00:00"
          ],
          [
           "STT",
           "2024-11-13T00:00:00"
          ],
          [
           "MTB",
           "2024-11-06T00:00:00"
          ],
          [
           "ADP",
           "2024-11-15T00:00:00"
          ],
          [
           "PLTR",
           "2024-11-05T00:00:00"
          ],
          [
           "COR",
           "2024-11-14T00:00:00"
          ],
          [
           "INTU",
           "2024-11-27T00:00:00"
          ],
          [
           "NEM",
           "2024-11-15T00:00:00"
          ],
          [
           "BAX",
           "2024-11-19T00:00:00"
          ],
          [
           "CPB",
           "2024-11-04T00:00:00"
          ],
          [
           "TSCO",
           "2024-11-26T00:00:00"
          ],
          [
           "USB",
           "2024-11-22T00:00:00"
          ],
          [
           "STZ",
           "2024-11-07T00:00:00"
          ],
          [
           "K",
           "2024-11-14T00:00:00"
          ],
          [
           "TSN",
           "2024-11-11T00:00:00"
          ],
          [
           "INCY",
           "2024-11-06T00:00:00"
          ],
          [
           "DHR",
           "2024-11-13T00:00:00"
          ],
          [
           "CMCSA",
           "2024-11-26T00:00:00"
          ],
          [
           "NTAP",
           "2024-11-19T00:00:00"
          ],
          [
           "PPG",
           "2024-11-08T00:00:00"
          ],
          [
           "VICI",
           "2024-11-06T00:00:00"
          ],
          [
           "LHX",
           "2024-11-13T00:00:00"
          ],
          [
           "PG",
           "2024-11-18T00:00:00"
          ],
          [
           "NWSA",
           "2024-11-15T00:00:00"
          ],
          [
           "NEE",
           "2024-11-19T00:00:00"
          ],
          [
           "ALLE",
           "2024-11-04T00:00:00"
          ],
          [
           "EBAY",
           "2024-11-08T00:00:00"
          ],
          [
           "MMM",
           "2024-11-07T00:00:00"
          ],
          [
           "DOC",
           "2024-11-04T00:00:00"
          ],
          [
           "SBUX",
           "2024-11-07T00:00:00"
          ],
          [
           "LOW",
           "2024-11-05T00:00:00"
          ],
          [
           "FI",
           "2024-11-22T00:00:00"
          ],
          [
           "CSGP",
           "2024-11-07T00:00:00"
          ],
          [
           "ETN",
           "2024-11-06T00:00:00"
          ],
          [
           "NCLH",
           "2024-11-08T00:00:00"
          ],
          [
           "DOW",
           "2024-11-19T00:00:00"
          ],
          [
           "VTRS",
           "2024-11-07T00:00:00"
          ],
          [
           "PFE",
           "2024-11-14T00:00:00"
          ],
          [
           "WAT",
           "2024-11-11T00:00:00"
          ],
          [
           "PHM",
           "2024-11-18T00:00:00"
          ],
          [
           "AES",
           "2024-11-11T00:00:00"
          ],
          [
           "STX",
           "2024-11-22T00:00:00"
          ],
          [
           "FTNT",
           "2024-11-06T00:00:00"
          ],
          [
           "TMO",
           "2024-11-05T00:00:00"
          ],
          [
           "CZR",
           "2024-11-07T00:00:00"
          ],
          [
           "HWM",
           "2024-11-04T00:00:00"
          ],
          [
           "KR",
           "2024-11-20T00:00:00"
          ],
          [
           "KIM",
           "2024-11-05T00:00:00"
          ],
          [
           "BLDR",
           "2024-11-05T00:00:00"
          ],
          [
           "HWM",
           "2024-11-14T00:00:00"
          ],
          [
           "OKE",
           "2024-11-12T00:00:00"
          ],
          [
           "RVTY",
           "2024-11-04T00:00:00"
          ],
          [
           "INTC",
           "2024-11-07T00:00:00"
          ],
          [
           "CBOE",
           "2024-11-11T00:00:00"
          ],
          [
           "PHM",
           "2024-11-11T00:00:00"
          ],
          [
           "IRM",
           "2024-11-04T00:00:00"
          ],
          [
           "CPT",
           "2024-11-13T00:00:00"
          ],
          [
           "AEE",
           "2024-11-15T00:00:00"
          ],
          [
           "VZ",
           "2024-11-07T00:00:00"
          ],
          [
           "LW",
           "2024-11-20T00:00:00"
          ],
          [
           "CARR",
           "2024-11-27T00:00:00"
          ],
          [
           "HES",
           "2024-11-15T00:00:00"
          ],
          [
           "DELL",
           "2024-11-13T00:00:00"
          ],
          [
           "FOXA",
           "2024-11-05T00:00:00"
          ],
          [
           "ANET",
           "2024-11-08T00:00:00"
          ],
          [
           "SYF",
           "2024-11-26T00:00:00"
          ],
          [
           "RMD",
           "2024-11-22T00:00:00"
          ],
          [
           "CEG",
           "2024-11-25T00:00:00"
          ],
          [
           "APH",
           "2024-11-26T00:00:00"
          ],
          [
           "ETN",
           "2024-11-05T00:00:00"
          ],
          [
           "UNP",
           "2024-11-12T00:00:00"
          ],
          [
           "IEX",
           "2024-11-06T00:00:00"
          ],
          [
           "PFG",
           "2024-11-12T00:00:00"
          ],
          [
           "MPC",
           "2024-11-19T00:00:00"
          ],
          [
           "FI",
           "2024-11-07T00:00:00"
          ],
          [
           "DG",
           "2024-11-25T00:00:00"
          ],
          [
           "TFC",
           "2024-11-12T00:00:00"
          ],
          [
           "TFC",
           "2024-11-07T00:00:00"
          ],
          [
           "DXCM",
           "2024-11-19T00:00:00"
          ],
          [
           "NDAQ",
           "2024-11-26T00:00:00"
          ],
          [
           "INTC",
           "2024-11-11T00:00:00"
          ],
          [
           "HOLX",
           "2024-11-15T00:00:00"
          ],
          [
           "ES",
           "2024-11-11T00:00:00"
          ],
          [
           "AMZN",
           "2024-11-06T00:00:00"
          ],
          [
           "KMB",
           "2024-11-14T00:00:00"
          ],
          [
           "TJX",
           "2024-11-26T00:00:00"
          ],
          [
           "QCOM",
           "2024-11-08T00:00:00"
          ],
          [
           "O",
           "2024-11-04T00:00:00"
          ],
          [
           "CVS",
           "2024-11-08T00:00:00"
          ],
          [
           "TRV",
           "2024-11-06T00:00:00"
          ],
          [
           "FTV",
           "2024-11-26T00:00:00"
          ],
          [
           "CEG",
           "2024-11-15T00:00:00"
          ],
          [
           "CVS",
           "2024-11-04T00:00:00"
          ],
          [
           "BKR",
           "2024-11-22T00:00:00"
          ],
          [
           "WRB",
           "2024-11-12T00:00:00"
          ],
          [
           "ADI",
           "2024-11-25T00:00:00"
          ],
          [
           "AEE",
           "2024-11-19T00:00:00"
          ],
          [
           "LLY",
           "2024-11-25T00:00:00"
          ],
          [
           "UAL",
           "2024-11-25T00:00:00"
          ],
          [
           "CHD",
           "2024-11-20T00:00:00"
          ],
          [
           "BWA",
           "2024-11-15T00:00:00"
          ],
          [
           "APD",
           "2024-11-07T00:00:00"
          ],
          [
           "BA",
           "2024-11-19T00:00:00"
          ],
          [
           "HSIC",
           "2024-11-22T00:00:00"
          ],
          [
           "ECL",
           "2024-11-07T00:00:00"
          ],
          [
           "SPGI",
           "2024-11-06T00:00:00"
          ],
          [
           "NSC",
           "2024-11-26T00:00:00"
          ],
          [
           "RMD",
           "2024-11-14T00:00:00"
          ],
          [
           "DGX",
           "2024-11-06T00:00:00"
          ],
          [
           "OTIS",
           "2024-11-27T00:00:00"
          ],
          [
           "ON",
           "2024-11-21T00:00:00"
          ],
          [
           "HRL",
           "2024-11-18T00:00:00"
          ],
          [
           "NRG",
           "2024-11-27T00:00:00"
          ],
          [
           "LMT",
           "2024-11-06T00:00:00"
          ],
          [
           "BIIB",
           "2024-11-14T00:00:00"
          ],
          [
           "JBL",
           "2024-11-21T00:00:00"
          ],
          [
           "WFC",
           "2024-11-27T00:00:00"
          ],
          [
           "DAL",
           "2024-11-05T00:00:00"
          ],
          [
           "MNST",
           "2024-11-14T00:00:00"
          ],
          [
           "ISRG",
           "2024-11-22T00:00:00"
          ],
          [
           "ATO",
           "2024-11-11T00:00:00"
          ],
          [
           "ROL",
           "2024-11-13T00:00:00"
          ],
          [
           "DAL",
           "2024-11-12T00:00:00"
          ],
          [
           "WBD",
           "2024-11-26T00:00:00"
          ],
          [
           "HCA",
           "2024-11-18T00:00:00"
          ],
          [
           "NTRS",
           "2024-11-13T00:00:00"
          ],
          [
           "GEHC",
           "2024-11-15T00:00:00"
          ],
          [
           "ETN",
           "2024-11-20T00:00:00"
          ],
          [
           "F",
           "2024-11-13T00:00:00"
          ],
          [
           "AFL",
           "2024-11-06T00:00:00"
          ],
          [
           "CTRA",
           "2024-11-22T00:00:00"
          ],
          [
           "MDLZ",
           "2024-11-05T00:00:00"
          ],
          [
           "DUK",
           "2024-11-18T00:00:00"
          ],
          [
           "NVDA",
           "2024-11-20T00:00:00"
          ],
          [
           "TXN",
           "2024-11-14T00:00:00"
          ],
          [
           "TSN",
           "2024-11-06T00:00:00"
          ],
          [
           "TRGP",
           "2024-11-04T00:00:00"
          ],
          [
           "SCHW",
           "2024-11-05T00:00:00"
          ],
          [
           "RJF",
           "2024-11-11T00:00:00"
          ],
          [
           "MHK",
           "2024-11-21T00:00:00"
          ],
          [
           "XOM",
           "2024-11-04T00:00:00"
          ],
          [
           "RVTY",
           "2024-11-18T00:00:00"
          ],
          [
           "HST",
           "2024-11-14T00:00:00"
          ],
          [
           "GILD",
           "2024-11-08T00:00:00"
          ],
          [
           "CMS",
           "2024-11-26T00:00:00"
          ],
          [
           "AAPL",
           "2024-11-20T00:00:00"
          ],
          [
           "MKC",
           "2024-11-19T00:00:00"
          ],
          [
           "NVDA",
           "2024-11-13T00:00:00"
          ],
          [
           "TMO",
           "2024-11-04T00:00:00"
          ],
          [
           "CCL",
           "2024-11-11T00:00:00"
          ],
          [
           "PNW",
           "2024-11-15T00:00:00"
          ],
          [
           "LNT",
           "2024-11-25T00:00:00"
          ],
          [
           "EW",
           "2024-11-13T00:00:00"
          ],
          [
           "AKAM",
           "2024-11-12T00:00:00"
          ],
          [
           "IR",
           "2024-11-06T00:00:00"
          ],
          [
           "MAA",
           "2024-11-05T00:00:00"
          ],
          [
           "FOXA",
           "2024-11-25T00:00:00"
          ],
          [
           "IFF",
           "2024-11-06T00:00:00"
          ],
          [
           "EMN",
           "2024-11-20T00:00:00"
          ],
          [
           "LIN",
           "2024-11-19T00:00:00"
          ],
          [
           "AAPL",
           "2024-11-21T00:00:00"
          ],
          [
           "KO",
           "2024-11-04T00:00:00"
          ],
          [
           "EVRG",
           "2024-11-21T00:00:00"
          ],
          [
           "TEL",
           "2024-11-12T00:00:00"
          ],
          [
           "APD",
           "2024-11-12T00:00:00"
          ],
          [
           "JBL",
           "2024-11-12T00:00:00"
          ],
          [
           "CHRW",
           "2024-11-25T00:00:00"
          ],
          [
           "AME",
           "2024-11-15T00:00:00"
          ],
          [
           "EXPE",
           "2024-11-06T00:00:00"
          ],
          [
           "IP",
           "2024-11-27T00:00:00"
          ],
          [
           "PYPL",
           "2024-11-27T00:00:00"
          ],
          [
           "EA",
           "2024-11-25T00:00:00"
          ],
          [
           "DHI",
           "2024-11-12T00:00:00"
          ],
          [
           "LNT",
           "2024-11-22T00:00:00"
          ],
          [
           "L",
           "2024-11-13T00:00:00"
          ],
          [
           "CVX",
           "2024-11-19T00:00:00"
          ],
          [
           "XEL",
           "2024-11-11T00:00:00"
          ],
          [
           "OKE",
           "2024-11-14T00:00:00"
          ],
          [
           "CPB",
           "2024-11-21T00:00:00"
          ],
          [
           "KMB",
           "2024-11-27T00:00:00"
          ],
          [
           "DE",
           "2024-11-06T00:00:00"
          ],
          [
           "GPN",
           "2024-11-20T00:00:00"
          ],
          [
           "MS",
           "2024-11-13T00:00:00"
          ],
          [
           "BG",
           "2024-11-14T00:00:00"
          ],
          [
           "MKC",
           "2024-11-05T00:00:00"
          ],
          [
           "DVN",
           "2024-11-04T00:00:00"
          ],
          [
           "MDLZ",
           "2024-11-12T00:00:00"
          ],
          [
           "ABT",
           "2024-11-11T00:00:00"
          ],
          [
           "EIX",
           "2024-11-11T00:00:00"
          ],
          [
           "PFE",
           "2024-11-13T00:00:00"
          ],
          [
           "SO",
           "2024-11-22T00:00:00"
          ],
          [
           "PYPL",
           "2024-11-06T00:00:00"
          ],
          [
           "CARR",
           "2024-11-25T00:00:00"
          ],
          [
           "CHD",
           "2024-11-19T00:00:00"
          ],
          [
           "IVZ",
           "2024-11-05T00:00:00"
          ],
          [
           "OKE",
           "2024-11-08T00:00:00"
          ],
          [
           "TTWO",
           "2024-11-22T00:00:00"
          ],
          [
           "CMG",
           "2024-11-08T00:00:00"
          ],
          [
           "XYL",
           "2024-11-15T00:00:00"
          ],
          [
           "KEYS",
           "2024-11-04T00:00:00"
          ],
          [
           "ED",
           "2024-11-07T00:00:00"
          ],
          [
           "BKR",
           "2024-11-11T00:00:00"
          ],
          [
           "CLX",
           "2024-11-21T00:00:00"
          ],
          [
           "DVA",
           "2024-11-27T00:00:00"
          ],
          [
           "APTV",
           "2024-11-26T00:00:00"
          ],
          [
           "REG",
           "2024-11-25T00:00:00"
          ],
          [
           "VZ",
           "2024-11-21T00:00:00"
          ],
          [
           "DLTR",
           "2024-11-19T00:00:00"
          ],
          [
           "MTCH",
           "2024-11-05T00:00:00"
          ],
          [
           "BRK-B",
           "2024-11-25T00:00:00"
          ],
          [
           "FE",
           "2024-11-07T00:00:00"
          ],
          [
           "VTR",
           "2024-11-19T00:00:00"
          ],
          [
           "PEG",
           "2024-11-14T00:00:00"
          ],
          [
           "JBHT",
           "2024-11-20T00:00:00"
          ],
          [
           "AES",
           "2024-11-18T00:00:00"
          ],
          [
           "YUM",
           "2024-11-08T00:00:00"
          ],
          [
           "ZTS",
           "2024-11-11T00:00:00"
          ],
          [
           "TFC",
           "2024-11-26T00:00:00"
          ],
          [
           "EXPD",
           "2024-11-22T00:00:00"
          ],
          [
           "CAH",
           "2024-11-19T00:00:00"
          ],
          [
           "NRG",
           "2024-11-11T00:00:00"
          ],
          [
           "RVTY",
           "2024-11-12T00:00:00"
          ],
          [
           "CTVA",
           "2024-11-12T00:00:00"
          ],
          [
           "AMD",
           "2024-11-05T00:00:00"
          ],
          [
           "GS",
           "2024-11-13T00:00:00"
          ],
          [
           "IR",
           "2024-11-22T00:00:00"
          ],
          [
           "DHI",
           "2024-11-15T00:00:00"
          ],
          [
           "CL",
           "2024-11-26T00:00:00"
          ],
          [
           "ETR",
           "2024-11-27T00:00:00"
          ],
          [
           "FFIV",
           "2024-11-19T00:00:00"
          ],
          [
           "MPC",
           "2024-11-13T00:00:00"
          ],
          [
           "HOLX",
           "2024-11-11T00:00:00"
          ],
          [
           "LIN",
           "2024-11-08T00:00:00"
          ],
          [
           "SRE",
           "2024-11-22T00:00:00"
          ],
          [
           "CL",
           "2024-11-14T00:00:00"
          ],
          [
           "MCO",
           "2024-11-11T00:00:00"
          ],
          [
           "FANG",
           "2024-11-06T00:00:00"
          ],
          [
           "BX",
           "2024-11-21T00:00:00"
          ],
          [
           "INVH",
           "2024-11-11T00:00:00"
          ],
          [
           "FSLR",
           "2024-11-15T00:00:00"
          ],
          [
           "PGR",
           "2024-11-15T00:00:00"
          ],
          [
           "MAS",
           "2024-11-04T00:00:00"
          ],
          [
           "COF",
           "2024-11-04T00:00:00"
          ],
          [
           "KO",
           "2024-11-12T00:00:00"
          ],
          [
           "DECK",
           "2024-11-14T00:00:00"
          ],
          [
           "NXPI",
           "2024-11-13T00:00:00"
          ],
          [
           "FE",
           "2024-11-27T00:00:00"
          ],
          [
           "OKE",
           "2024-11-11T00:00:00"
          ],
          [
           "LYB",
           "2024-11-18T00:00:00"
          ],
          [
           "RL",
           "2024-11-20T00:00:00"
          ],
          [
           "BSX",
           "2024-11-18T00:00:00"
          ],
          [
           "VMC",
           "2024-11-04T00:00:00"
          ],
          [
           "PNC",
           "2024-11-15T00:00:00"
          ],
          [
           "DECK",
           "2024-11-22T00:00:00"
          ],
          [
           "CHD",
           "2024-11-21T00:00:00"
          ],
          [
           "CRL",
           "2024-11-26T00:00:00"
          ],
          [
           "AIG",
           "2024-11-18T00:00:00"
          ],
          [
           "NKE",
           "2024-11-20T00:00:00"
          ],
          [
           "LKQ",
           "2024-11-04T00:00:00"
          ],
          [
           "PLD",
           "2024-11-21T00:00:00"
          ],
          [
           "MCO",
           "2024-11-21T00:00:00"
          ],
          [
           "LEN",
           "2024-11-04T00:00:00"
          ],
          [
           "CSGP",
           "2024-11-13T00:00:00"
          ],
          [
           "WBD",
           "2024-11-04T00:00:00"
          ],
          [
           "CF",
           "2024-11-04T00:00:00"
          ],
          [
           "EA",
           "2024-11-21T00:00:00"
          ],
          [
           "CCI",
           "2024-11-06T00:00:00"
          ],
          [
           "PLD",
           "2024-11-07T00:00:00"
          ],
          [
           "USB",
           "2024-11-05T00:00:00"
          ],
          [
           "DD",
           "2024-11-18T00:00:00"
          ],
          [
           "VLTO",
           "2024-11-27T00:00:00"
          ],
          [
           "PARA",
           "2024-11-18T00:00:00"
          ],
          [
           "VLO",
           "2024-11-25T00:00:00"
          ],
          [
           "NUE",
           "2024-11-06T00:00:00"
          ],
          [
           "CPT",
           "2024-11-12T00:00:00"
          ],
          [
           "AES",
           "2024-11-04T00:00:00"
          ],
          [
           "UBER",
           "2024-11-14T00:00:00"
          ],
          [
           "GD",
           "2024-11-12T00:00:00"
          ],
          [
           "EXPD",
           "2024-11-13T00:00:00"
          ],
          [
           "PEP",
           "2024-11-13T00:00:00"
          ],
          [
           "ZTS",
           "2024-11-25T00:00:00"
          ],
          [
           "MA",
           "2024-11-26T00:00:00"
          ],
          [
           "KEY",
           "2024-11-14T00:00:00"
          ],
          [
           "PAYC",
           "2024-11-13T00:00:00"
          ],
          [
           "PAYC",
           "2024-11-06T00:00:00"
          ],
          [
           "CTSH",
           "2024-11-26T00:00:00"
          ],
          [
           "NEM",
           "2024-11-19T00:00:00"
          ],
          [
           "CSCO",
           "2024-11-15T00:00:00"
          ],
          [
           "BAC",
           "2024-11-12T00:00:00"
          ],
          [
           "MHK",
           "2024-11-20T00:00:00"
          ],
          [
           "PAYX",
           "2024-11-26T00:00:00"
          ],
          [
           "IQV",
           "2024-11-20T00:00:00"
          ],
          [
           "DVA",
           "2024-11-11T00:00:00"
          ],
          [
           "CE",
           "2024-11-05T00:00:00"
          ],
          [
           "INTU",
           "2024-11-05T00:00:00"
          ],
          [
           "CNC",
           "2024-11-15T00:00:00"
          ],
          [
           "CHTR",
           "2024-11-25T00:00:00"
          ],
          [
           "LOW",
           "2024-11-19T00:00:00"
          ],
          [
           "EW",
           "2024-11-22T00:00:00"
          ],
          [
           "CTSH",
           "2024-11-12T00:00:00"
          ],
          [
           "CBOE",
           "2024-11-25T00:00:00"
          ],
          [
           "SLB",
           "2024-11-06T00:00:00"
          ],
          [
           "HRL",
           "2024-11-08T00:00:00"
          ],
          [
           "MS",
           "2024-11-20T00:00:00"
          ],
          [
           "CRM",
           "2024-11-13T00:00:00"
          ],
          [
           "MCHP",
           "2024-11-27T00:00:00"
          ],
          [
           "T",
           "2024-11-08T00:00:00"
          ],
          [
           "MDT",
           "2024-11-25T00:00:00"
          ],
          [
           "BA",
           "2024-11-27T00:00:00"
          ],
          [
           "MTCH",
           "2024-11-11T00:00:00"
          ],
          [
           "AIG",
           "2024-11-21T00:00:00"
          ],
          [
           "CME",
           "2024-11-12T00:00:00"
          ],
          [
           "MU",
           "2024-11-19T00:00:00"
          ],
          [
           "STZ",
           "2024-11-25T00:00:00"
          ],
          [
           "KEYS",
           "2024-11-25T00:00:00"
          ],
          [
           "SPGI",
           "2024-11-20T00:00:00"
          ],
          [
           "KMB",
           "2024-11-04T00:00:00"
          ],
          [
           "SLB",
           "2024-11-22T00:00:00"
          ],
          [
           "SO",
           "2024-11-26T00:00:00"
          ],
          [
           "AEP",
           "2024-11-18T00:00:00"
          ],
          [
           "ARE",
           "2024-11-12T00:00:00"
          ],
          [
           "TROW",
           "2024-11-18T00:00:00"
          ],
          [
           "IPG",
           "2024-11-13T00:00:00"
          ],
          [
           "ORCL",
           "2024-11-18T00:00:00"
          ],
          [
           "SHW",
           "2024-11-11T00:00:00"
          ],
          [
           "VRTX",
           "2024-11-06T00:00:00"
          ],
          [
           "EA",
           "2024-11-04T00:00:00"
          ],
          [
           "TXT",
           "2024-11-05T00:00:00"
          ],
          [
           "AMD",
           "2024-11-08T00:00:00"
          ],
          [
           "GDDY",
           "2024-11-20T00:00:00"
          ],
          [
           "INTU",
           "2024-11-25T00:00:00"
          ],
          [
           "GS",
           "2024-11-07T00:00:00"
          ],
          [
           "RF",
           "2024-11-06T00:00:00"
          ],
          [
           "EW",
           "2024-11-20T00:00:00"
          ],
          [
           "REG",
           "2024-11-05T00:00:00"
          ],
          [
           "ENPH",
           "2024-11-07T00:00:00"
          ],
          [
           "EFX",
           "2024-11-07T00:00:00"
          ],
          [
           "AMT",
           "2024-11-13T00:00:00"
          ],
          [
           "CHD",
           "2024-11-07T00:00:00"
          ],
          [
           "TJX",
           "2024-11-27T00:00:00"
          ],
          [
           "FRT",
           "2024-11-20T00:00:00"
          ],
          [
           "GD",
           "2024-11-22T00:00:00"
          ],
          [
           "EXR",
           "2024-11-06T00:00:00"
          ],
          [
           "NWSA",
           "2024-11-06T00:00:00"
          ],
          [
           "SBAC",
           "2024-11-06T00:00:00"
          ],
          [
           "AVB",
           "2024-11-25T00:00:00"
          ],
          [
           "MDLZ",
           "2024-11-25T00:00:00"
          ],
          [
           "WAB",
           "2024-11-26T00:00:00"
          ],
          [
           "ABNB",
           "2024-11-15T00:00:00"
          ],
          [
           "PARA",
           "2024-11-22T00:00:00"
          ],
          [
           "STZ",
           "2024-11-08T00:00:00"
          ],
          [
           "ON",
           "2024-11-07T00:00:00"
          ],
          [
           "CSCO",
           "2024-11-21T00:00:00"
          ],
          [
           "TXT",
           "2024-11-14T00:00:00"
          ],
          [
           "LMT",
           "2024-11-18T00:00:00"
          ],
          [
           "MCD",
           "2024-11-07T00:00:00"
          ],
          [
           "ALB",
           "2024-11-19T00:00:00"
          ],
          [
           "NI",
           "2024-11-07T00:00:00"
          ],
          [
           "PANW",
           "2024-11-19T00:00:00"
          ],
          [
           "UNH",
           "2024-11-14T00:00:00"
          ],
          [
           "HII",
           "2024-11-05T00:00:00"
          ],
          [
           "TJX",
           "2024-11-05T00:00:00"
          ],
          [
           "NWSA",
           "2024-11-05T00:00:00"
          ],
          [
           "CARR",
           "2024-11-12T00:00:00"
          ],
          [
           "CE",
           "2024-11-08T00:00:00"
          ],
          [
           "EL",
           "2024-11-14T00:00:00"
          ],
          [
           "FTV",
           "2024-11-11T00:00:00"
          ],
          [
           "INVH",
           "2024-11-06T00:00:00"
          ],
          [
           "TPR",
           "2024-11-27T00:00:00"
          ],
          [
           "ELV",
           "2024-11-25T00:00:00"
          ],
          [
           "GD",
           "2024-11-27T00:00:00"
          ],
          [
           "DLR",
           "2024-11-19T00:00:00"
          ],
          [
           "TRV",
           "2024-11-19T00:00:00"
          ],
          [
           "CEG",
           "2024-11-14T00:00:00"
          ],
          [
           "BK",
           "2024-11-26T00:00:00"
          ],
          [
           "RVTY",
           "2024-11-11T00:00:00"
          ],
          [
           "VRTX",
           "2024-11-20T00:00:00"
          ],
          [
           "KEYS",
           "2024-11-20T00:00:00"
          ],
          [
           "BAX",
           "2024-11-04T00:00:00"
          ],
          [
           "TSN",
           "2024-11-21T00:00:00"
          ],
          [
           "CF",
           "2024-11-07T00:00:00"
          ],
          [
           "ARE",
           "2024-11-27T00:00:00"
          ],
          [
           "EA",
           "2024-11-05T00:00:00"
          ],
          [
           "SO",
           "2024-11-08T00:00:00"
          ],
          [
           "DGX",
           "2024-11-25T00:00:00"
          ],
          [
           "CB",
           "2024-11-26T00:00:00"
          ],
          [
           "TXT",
           "2024-11-20T00:00:00"
          ],
          [
           "CRM",
           "2024-11-05T00:00:00"
          ],
          [
           "MTB",
           "2024-11-15T00:00:00"
          ],
          [
           "UBER",
           "2024-11-11T00:00:00"
          ],
          [
           "MCK",
           "2024-11-04T00:00:00"
          ],
          [
           "CTLT",
           "2024-11-08T00:00:00"
          ],
          [
           "WFC",
           "2024-11-07T00:00:00"
          ],
          [
           "YUM",
           "2024-11-27T00:00:00"
          ],
          [
           "CHRW",
           "2024-11-11T00:00:00"
          ],
          [
           "CAT",
           "2024-11-20T00:00:00"
          ],
          [
           "MRK",
           "2024-11-07T00:00:00"
          ],
          [
           "IP",
           "2024-11-18T00:00:00"
          ],
          [
           "NRG",
           "2024-11-07T00:00:00"
          ],
          [
           "NXPI",
           "2024-11-11T00:00:00"
          ],
          [
           "DXCM",
           "2024-11-25T00:00:00"
          ],
          [
           "SCHW",
           "2024-11-18T00:00:00"
          ],
          [
           "GRMN",
           "2024-11-08T00:00:00"
          ],
          [
           "ANET",
           "2024-11-12T00:00:00"
          ],
          [
           "EXR",
           "2024-11-21T00:00:00"
          ],
          [
           "L",
           "2024-11-06T00:00:00"
          ],
          [
           "XEL",
           "2024-11-21T00:00:00"
          ],
          [
           "ACGL",
           "2024-11-12T00:00:00"
          ],
          [
           "ROL",
           "2024-11-22T00:00:00"
          ],
          [
           "SJM",
           "2024-11-22T00:00:00"
          ],
          [
           "GLW",
           "2024-11-06T00:00:00"
          ],
          [
           "HII",
           "2024-11-15T00:00:00"
          ],
          [
           "BLDR",
           "2024-11-21T00:00:00"
          ],
          [
           "HAS",
           "2024-11-19T00:00:00"
          ],
          [
           "KEYS",
           "2024-11-26T00:00:00"
          ],
          [
           "RSG",
           "2024-11-05T00:00:00"
          ],
          [
           "ELV",
           "2024-11-06T00:00:00"
          ],
          [
           "VTR",
           "2024-11-15T00:00:00"
          ],
          [
           "O",
           "2024-11-08T00:00:00"
          ],
          [
           "VLTO",
           "2024-11-21T00:00:00"
          ],
          [
           "TXN",
           "2024-11-20T00:00:00"
          ],
          [
           "DD",
           "2024-11-04T00:00:00"
          ],
          [
           "EXR",
           "2024-11-18T00:00:00"
          ],
          [
           "ODFL",
           "2024-11-15T00:00:00"
          ],
          [
           "GPN",
           "2024-11-25T00:00:00"
          ],
          [
           "KEYS",
           "2024-11-21T00:00:00"
          ],
          [
           "STT",
           "2024-11-14T00:00:00"
          ],
          [
           "PCAR",
           "2024-11-18T00:00:00"
          ],
          [
           "STZ",
           "2024-11-18T00:00:00"
          ],
          [
           "COST",
           "2024-11-07T00:00:00"
          ],
          [
           "WBD",
           "2024-11-08T00:00:00"
          ],
          [
           "CAH",
           "2024-11-07T00:00:00"
          ],
          [
           "NSC",
           "2024-11-20T00:00:00"
          ],
          [
           "INTU",
           "2024-11-08T00:00:00"
          ],
          [
           "HAS",
           "2024-11-12T00:00:00"
          ],
          [
           "GPN",
           "2024-11-06T00:00:00"
          ],
          [
           "IP",
           "2024-11-15T00:00:00"
          ],
          [
           "JPM",
           "2024-11-13T00:00:00"
          ],
          [
           "HRL",
           "2024-11-27T00:00:00"
          ],
          [
           "JPM",
           "2024-11-21T00:00:00"
          ],
          [
           "ENPH",
           "2024-11-11T00:00:00"
          ],
          [
           "MPC",
           "2024-11-27T00:00:00"
          ],
          [
           "WBA",
           "2024-11-05T00:00:00"
          ],
          [
           "CHTR",
           "2024-11-11T00:00:00"
          ],
          [
           "DVN",
           "2024-11-18T00:00:00"
          ],
          [
           "WMB",
           "2024-11-20T00:00:00"
          ],
          [
           "SYF",
           "2024-11-21T00:00:00"
          ],
          [
           "EOG",
           "2024-11-19T00:00:00"
          ],
          [
           "NFLX",
           "2024-11-27T00:00:00"
          ],
          [
           "HOLX",
           "2024-11-04T00:00:00"
          ],
          [
           "WDC",
           "2024-11-08T00:00:00"
          ],
          [
           "NEE",
           "2024-11-11T00:00:00"
          ],
          [
           "KIM",
           "2024-11-12T00:00:00"
          ],
          [
           "ECL",
           "2024-11-11T00:00:00"
          ],
          [
           "MMM",
           "2024-11-06T00:00:00"
          ],
          [
           "LULU",
           "2024-11-18T00:00:00"
          ],
          [
           "ETN",
           "2024-11-26T00:00:00"
          ],
          [
           "NCLH",
           "2024-11-18T00:00:00"
          ],
          [
           "SWK",
           "2024-11-12T00:00:00"
          ],
          [
           "SPG",
           "2024-11-11T00:00:00"
          ],
          [
           "GDDY",
           "2024-11-15T00:00:00"
          ],
          [
           "VRTX",
           "2024-11-07T00:00:00"
          ],
          [
           "CPT",
           "2024-11-07T00:00:00"
          ],
          [
           "BWA",
           "2024-11-04T00:00:00"
          ],
          [
           "CSGP",
           "2024-11-06T00:00:00"
          ],
          [
           "RMD",
           "2024-11-12T00:00:00"
          ],
          [
           "BKR",
           "2024-11-08T00:00:00"
          ],
          [
           "MTCH",
           "2024-11-18T00:00:00"
          ],
          [
           "RMD",
           "2024-11-11T00:00:00"
          ],
          [
           "IQV",
           "2024-11-06T00:00:00"
          ],
          [
           "MMC",
           "2024-11-07T00:00:00"
          ],
          [
           "HON",
           "2024-11-26T00:00:00"
          ],
          [
           "MMM",
           "2024-11-11T00:00:00"
          ],
          [
           "CF",
           "2024-11-26T00:00:00"
          ],
          [
           "EMR",
           "2024-11-07T00:00:00"
          ],
          [
           "TRMB",
           "2024-11-04T00:00:00"
          ],
          [
           "CMCSA",
           "2024-11-25T00:00:00"
          ],
          [
           "HSIC",
           "2024-11-08T00:00:00"
          ],
          [
           "ISRG",
           "2024-11-12T00:00:00"
          ],
          [
           "OXY",
           "2024-11-14T00:00:00"
          ],
          [
           "STLD",
           "2024-11-07T00:00:00"
          ],
          [
           "MET",
           "2024-11-07T00:00:00"
          ],
          [
           "EXR",
           "2024-11-27T00:00:00"
          ],
          [
           "KEY",
           "2024-11-25T00:00:00"
          ],
          [
           "KO",
           "2024-11-06T00:00:00"
          ],
          [
           "HPQ",
           "2024-11-13T00:00:00"
          ],
          [
           "LYB",
           "2024-11-08T00:00:00"
          ],
          [
           "TMO",
           "2024-11-07T00:00:00"
          ],
          [
           "SHW",
           "2024-11-18T00:00:00"
          ],
          [
           "HON",
           "2024-11-22T00:00:00"
          ],
          [
           "TPR",
           "2024-11-07T00:00:00"
          ],
          [
           "NKE",
           "2024-11-07T00:00:00"
          ],
          [
           "PGR",
           "2024-11-20T00:00:00"
          ],
          [
           "LW",
           "2024-11-12T00:00:00"
          ],
          [
           "RCL",
           "2024-11-05T00:00:00"
          ],
          [
           "CTRA",
           "2024-11-08T00:00:00"
          ],
          [
           "VLO",
           "2024-11-15T00:00:00"
          ],
          [
           "AVGO",
           "2024-11-19T00:00:00"
          ],
          [
           "PH",
           "2024-11-25T00:00:00"
          ],
          [
           "LIN",
           "2024-11-18T00:00:00"
          ],
          [
           "NEM",
           "2024-11-21T00:00:00"
          ],
          [
           "GE",
           "2024-11-11T00:00:00"
          ],
          [
           "LVS",
           "2024-11-11T00:00:00"
          ],
          [
           "HLT",
           "2024-11-08T00:00:00"
          ],
          [
           "MCK",
           "2024-11-05T00:00:00"
          ],
          [
           "CVX",
           "2024-11-26T00:00:00"
          ],
          [
           "PNW",
           "2024-11-18T00:00:00"
          ],
          [
           "CE",
           "2024-11-07T00:00:00"
          ],
          [
           "GLW",
           "2024-11-22T00:00:00"
          ],
          [
           "QCOM",
           "2024-11-14T00:00:00"
          ],
          [
           "CME",
           "2024-11-18T00:00:00"
          ],
          [
           "CCI",
           "2024-11-08T00:00:00"
          ],
          [
           "HBAN",
           "2024-11-06T00:00:00"
          ],
          [
           "NVDA",
           "2024-11-26T00:00:00"
          ],
          [
           "GDDY",
           "2024-11-04T00:00:00"
          ],
          [
           "WELL",
           "2024-11-07T00:00:00"
          ],
          [
           "MPC",
           "2024-11-05T00:00:00"
          ],
          [
           "MA",
           "2024-11-13T00:00:00"
          ],
          [
           "CDW",
           "2024-11-12T00:00:00"
          ],
          [
           "EL",
           "2024-11-07T00:00:00"
          ],
          [
           "UNH",
           "2024-11-12T00:00:00"
          ],
          [
           "GEHC",
           "2024-11-26T00:00:00"
          ],
          [
           "DOW",
           "2024-11-04T00:00:00"
          ],
          [
           "MRNA",
           "2024-11-04T00:00:00"
          ],
          [
           "MMM",
           "2024-11-19T00:00:00"
          ],
          [
           "FFIV",
           "2024-11-21T00:00:00"
          ],
          [
           "HPE",
           "2024-11-05T00:00:00"
          ],
          [
           "GPC",
           "2024-11-14T00:00:00"
          ],
          [
           "ADSK",
           "2024-11-14T00:00:00"
          ],
          [
           "KHC",
           "2024-11-25T00:00:00"
          ],
          [
           "UDR",
           "2024-11-26T00:00:00"
          ],
          [
           "IPG",
           "2024-11-25T00:00:00"
          ],
          [
           "ES",
           "2024-11-20T00:00:00"
          ],
          [
           "MMM",
           "2024-11-15T00:00:00"
          ],
          [
           "STLD",
           "2024-11-20T00:00:00"
          ],
          [
           "USB",
           "2024-11-18T00:00:00"
          ],
          [
           "C",
           "2024-11-05T00:00:00"
          ],
          [
           "CSX",
           "2024-11-05T00:00:00"
          ],
          [
           "BLDR",
           "2024-11-08T00:00:00"
          ],
          [
           "EQT",
           "2024-11-25T00:00:00"
          ],
          [
           "LMT",
           "2024-11-11T00:00:00"
          ],
          [
           "AWK",
           "2024-11-08T00:00:00"
          ],
          [
           "HUM",
           "2024-11-18T00:00:00"
          ],
          [
           "WM",
           "2024-11-22T00:00:00"
          ],
          [
           "KVUE",
           "2024-11-08T00:00:00"
          ],
          [
           "BK",
           "2024-11-22T00:00:00"
          ],
          [
           "RF",
           "2024-11-04T00:00:00"
          ],
          [
           "BG",
           "2024-11-25T00:00:00"
          ],
          [
           "D",
           "2024-11-15T00:00:00"
          ],
          [
           "DFS",
           "2024-11-07T00:00:00"
          ],
          [
           "GEN",
           "2024-11-07T00:00:00"
          ],
          [
           "MTB",
           "2024-11-14T00:00:00"
          ],
          [
           "TRMB",
           "2024-11-05T00:00:00"
          ],
          [
           "EOG",
           "2024-11-26T00:00:00"
          ],
          [
           "OMC",
           "2024-11-27T00:00:00"
          ],
          [
           "ORCL",
           "2024-11-15T00:00:00"
          ],
          [
           "GPN",
           "2024-11-13T00:00:00"
          ],
          [
           "TRMB",
           "2024-11-22T00:00:00"
          ],
          [
           "PM",
           "2024-11-14T00:00:00"
          ],
          [
           "TJX",
           "2024-11-06T00:00:00"
          ],
          [
           "AES",
           "2024-11-05T00:00:00"
          ],
          [
           "SYY",
           "2024-11-21T00:00:00"
          ],
          [
           "TRV",
           "2024-11-12T00:00:00"
          ],
          [
           "ECL",
           "2024-11-19T00:00:00"
          ],
          [
           "CTSH",
           "2024-11-19T00:00:00"
          ],
          [
           "LKQ",
           "2024-11-15T00:00:00"
          ],
          [
           "BK",
           "2024-11-12T00:00:00"
          ],
          [
           "PFG",
           "2024-11-15T00:00:00"
          ],
          [
           "TAP",
           "2024-11-04T00:00:00"
          ],
          [
           "CEG",
           "2024-11-08T00:00:00"
          ],
          [
           "ON",
           "2024-11-06T00:00:00"
          ],
          [
           "LYB",
           "2024-11-07T00:00:00"
          ],
          [
           "PCAR",
           "2024-11-13T00:00:00"
          ],
          [
           "NKE",
           "2024-11-27T00:00:00"
          ],
          [
           "LOW",
           "2024-11-25T00:00:00"
          ],
          [
           "AON",
           "2024-11-22T00:00:00"
          ],
          [
           "AVB",
           "2024-11-05T00:00:00"
          ],
          [
           "APTV",
           "2024-11-14T00:00:00"
          ],
          [
           "AMCR",
           "2024-11-19T00:00:00"
          ],
          [
           "GE",
           "2024-11-15T00:00:00"
          ],
          [
           "CFG",
           "2024-11-07T00:00:00"
          ],
          [
           "BG",
           "2024-11-05T00:00:00"
          ],
          [
           "DLTR",
           "2024-11-25T00:00:00"
          ],
          [
           "HPQ",
           "2024-11-15T00:00:00"
          ],
          [
           "CE",
           "2024-11-04T00:00:00"
          ],
          [
           "NEE",
           "2024-11-15T00:00:00"
          ],
          [
           "HPE",
           "2024-11-07T00:00:00"
          ],
          [
           "TSLA",
           "2024-11-14T00:00:00"
          ],
          [
           "DELL",
           "2024-11-05T00:00:00"
          ],
          [
           "CTAS",
           "2024-11-26T00:00:00"
          ],
          [
           "GE",
           "2024-11-20T00:00:00"
          ],
          [
           "BXP",
           "2024-11-15T00:00:00"
          ],
          [
           "DRI",
           "2024-11-21T00:00:00"
          ],
          [
           "MAA",
           "2024-11-18T00:00:00"
          ],
          [
           "PG",
           "2024-11-20T00:00:00"
          ],
          [
           "CDNS",
           "2024-11-15T00:00:00"
          ],
          [
           "KDP",
           "2024-11-21T00:00:00"
          ],
          [
           "RSG",
           "2024-11-18T00:00:00"
          ],
          [
           "AKAM",
           "2024-11-21T00:00:00"
          ],
          [
           "MKC",
           "2024-11-06T00:00:00"
          ],
          [
           "TFC",
           "2024-11-20T00:00:00"
          ],
          [
           "PH",
           "2024-11-18T00:00:00"
          ],
          [
           "GNRC",
           "2024-11-12T00:00:00"
          ],
          [
           "HOLX",
           "2024-11-06T00:00:00"
          ],
          [
           "IFF",
           "2024-11-05T00:00:00"
          ],
          [
           "HLT",
           "2024-11-19T00:00:00"
          ],
          [
           "PPL",
           "2024-11-26T00:00:00"
          ],
          [
           "KKR",
           "2024-11-25T00:00:00"
          ],
          [
           "SWK",
           "2024-11-26T00:00:00"
          ],
          [
           "COP",
           "2024-11-13T00:00:00"
          ],
          [
           "TXN",
           "2024-11-07T00:00:00"
          ],
          [
           "CAH",
           "2024-11-22T00:00:00"
          ],
          [
           "EQR",
           "2024-11-11T00:00:00"
          ],
          [
           "D",
           "2024-11-04T00:00:00"
          ],
          [
           "CHRW",
           "2024-11-06T00:00:00"
          ],
          [
           "AES",
           "2024-11-21T00:00:00"
          ],
          [
           "LNT",
           "2024-11-07T00:00:00"
          ],
          [
           "AVB",
           "2024-11-15T00:00:00"
          ],
          [
           "EVRG",
           "2024-11-06T00:00:00"
          ],
          [
           "CF",
           "2024-11-12T00:00:00"
          ],
          [
           "IRM",
           "2024-11-07T00:00:00"
          ],
          [
           "EOG",
           "2024-11-13T00:00:00"
          ],
          [
           "ALB",
           "2024-11-26T00:00:00"
          ],
          [
           "BRK-B",
           "2024-11-18T00:00:00"
          ],
          [
           "UNH",
           "2024-11-15T00:00:00"
          ],
          [
           "BRO",
           "2024-11-13T00:00:00"
          ],
          [
           "STT",
           "2024-11-25T00:00:00"
          ],
          [
           "EXR",
           "2024-11-04T00:00:00"
          ],
          [
           "JCI",
           "2024-11-15T00:00:00"
          ],
          [
           "COST",
           "2024-11-21T00:00:00"
          ],
          [
           "SYY",
           "2024-11-13T00:00:00"
          ],
          [
           "BALL",
           "2024-11-05T00:00:00"
          ],
          [
           "HBAN",
           "2024-11-08T00:00:00"
          ],
          [
           "MAA",
           "2024-11-07T00:00:00"
          ],
          [
           "SJM",
           "2024-11-04T00:00:00"
          ],
          [
           "EIX",
           "2024-11-05T00:00:00"
          ],
          [
           "CF",
           "2024-11-22T00:00:00"
          ],
          [
           "PPL",
           "2024-11-08T00:00:00"
          ],
          [
           "UPS",
           "2024-11-06T00:00:00"
          ],
          [
           "CAT",
           "2024-11-25T00:00:00"
          ],
          [
           "TTWO",
           "2024-11-19T00:00:00"
          ],
          [
           "XOM",
           "2024-11-18T00:00:00"
          ],
          [
           "TEL",
           "2024-11-07T00:00:00"
          ],
          [
           "UHS",
           "2024-11-06T00:00:00"
          ],
          [
           "DIS",
           "2024-11-27T00:00:00"
          ],
          [
           "CCI",
           "2024-11-25T00:00:00"
          ],
          [
           "AMGN",
           "2024-11-06T00:00:00"
          ],
          [
           "GILD",
           "2024-11-14T00:00:00"
          ],
          [
           "SMCI",
           "2024-11-19T00:00:00"
          ],
          [
           "TJX",
           "2024-11-04T00:00:00"
          ],
          [
           "COP",
           "2024-11-05T00:00:00"
          ],
          [
           "JBL",
           "2024-11-14T00:00:00"
          ],
          [
           "KVUE",
           "2024-11-13T00:00:00"
          ],
          [
           "MKC",
           "2024-11-08T00:00:00"
          ],
          [
           "MOS",
           "2024-11-12T00:00:00"
          ],
          [
           "UHS",
           "2024-11-20T00:00:00"
          ],
          [
           "HES",
           "2024-11-04T00:00:00"
          ],
          [
           "HPQ",
           "2024-11-06T00:00:00"
          ],
          [
           "KVUE",
           "2024-11-21T00:00:00"
          ],
          [
           "CRM",
           "2024-11-06T00:00:00"
          ],
          [
           "MA",
           "2024-11-04T00:00:00"
          ],
          [
           "BDX",
           "2024-11-13T00:00:00"
          ],
          [
           "WYNN",
           "2024-11-12T00:00:00"
          ],
          [
           "ON",
           "2024-11-13T00:00:00"
          ],
          [
           "EIX",
           "2024-11-13T00:00:00"
          ],
          [
           "MS",
           "2024-11-08T00:00:00"
          ],
          [
           "SBUX",
           "2024-11-19T00:00:00"
          ],
          [
           "DUK",
           "2024-11-05T00:00:00"
          ],
          [
           "RTX",
           "2024-11-27T00:00:00"
          ],
          [
           "MNST",
           "2024-11-21T00:00:00"
          ],
          [
           "FOXA",
           "2024-11-21T00:00:00"
          ],
          [
           "MCHP",
           "2024-11-08T00:00:00"
          ],
          [
           "ES",
           "2024-11-08T00:00:00"
          ],
          [
           "EXR",
           "2024-11-12T00:00:00"
          ],
          [
           "STZ",
           "2024-11-27T00:00:00"
          ],
          [
           "PAYC",
           "2024-11-04T00:00:00"
          ],
          [
           "GILD",
           "2024-11-18T00:00:00"
          ],
          [
           "CHRW",
           "2024-11-22T00:00:00"
          ],
          [
           "FCX",
           "2024-11-12T00:00:00"
          ],
          [
           "HOLX",
           "2024-11-27T00:00:00"
          ],
          [
           "SJM",
           "2024-11-14T00:00:00"
          ],
          [
           "MA",
           "2024-11-22T00:00:00"
          ],
          [
           "SYK",
           "2024-11-22T00:00:00"
          ],
          [
           "SYF",
           "2024-11-07T00:00:00"
          ],
          [
           "FRT",
           "2024-11-13T00:00:00"
          ],
          [
           "ALL",
           "2024-11-25T00:00:00"
          ],
          [
           "FIS",
           "2024-11-13T00:00:00"
          ],
          [
           "HWM",
           "2024-11-18T00:00:00"
          ],
          [
           "ADM",
           "2024-11-05T00:00:00"
          ],
          [
           "TMUS",
           "2024-11-18T00:00:00"
          ],
          [
           "RTX",
           "2024-11-07T00:00:00"
          ],
          [
           "BMY",
           "2024-11-26T00:00:00"
          ],
          [
           "AEP",
           "2024-11-12T00:00:00"
          ],
          [
           "VZ",
           "2024-11-26T00:00:00"
          ],
          [
           "ACN",
           "2024-11-11T00:00:00"
          ],
          [
           "GIS",
           "2024-11-25T00:00:00"
          ],
          [
           "HSIC",
           "2024-11-06T00:00:00"
          ],
          [
           "ANET",
           "2024-11-14T00:00:00"
          ],
          [
           "F",
           "2024-11-11T00:00:00"
          ],
          [
           "VTR",
           "2024-11-05T00:00:00"
          ],
          [
           "DVA",
           "2024-11-12T00:00:00"
          ],
          [
           "IBM",
           "2024-11-08T00:00:00"
          ],
          [
           "MHK",
           "2024-11-04T00:00:00"
          ],
          [
           "WY",
           "2024-11-08T00:00:00"
          ],
          [
           "PGR",
           "2024-11-27T00:00:00"
          ],
          [
           "REG",
           "2024-11-06T00:00:00"
          ],
          [
           "WY",
           "2024-11-26T00:00:00"
          ],
          [
           "EA",
           "2024-11-22T00:00:00"
          ],
          [
           "UDR",
           "2024-11-22T00:00:00"
          ],
          [
           "AMZN",
           "2024-11-26T00:00:00"
          ],
          [
           "CRL",
           "2024-11-04T00:00:00"
          ],
          [
           "LDOS",
           "2024-11-21T00:00:00"
          ],
          [
           "C",
           "2024-11-27T00:00:00"
          ],
          [
           "DVN",
           "2024-11-21T00:00:00"
          ],
          [
           "UAL",
           "2024-11-19T00:00:00"
          ],
          [
           "HPQ",
           "2024-11-12T00:00:00"
          ],
          [
           "INCY",
           "2024-11-21T00:00:00"
          ],
          [
           "SBAC",
           "2024-11-15T00:00:00"
          ],
          [
           "KEY",
           "2024-11-05T00:00:00"
          ],
          [
           "AME",
           "2024-11-11T00:00:00"
          ],
          [
           "HLT",
           "2024-11-25T00:00:00"
          ],
          [
           "TROW",
           "2024-11-05T00:00:00"
          ],
          [
           "APTV",
           "2024-11-11T00:00:00"
          ],
          [
           "DELL",
           "2024-11-04T00:00:00"
          ],
          [
           "WBA",
           "2024-11-11T00:00:00"
          ],
          [
           "AME",
           "2024-11-04T00:00:00"
          ],
          [
           "NEM",
           "2024-11-08T00:00:00"
          ],
          [
           "VZ",
           "2024-11-27T00:00:00"
          ],
          [
           "EFX",
           "2024-11-20T00:00:00"
          ],
          [
           "SCHW",
           "2024-11-19T00:00:00"
          ],
          [
           "PGR",
           "2024-11-26T00:00:00"
          ],
          [
           "SPGI",
           "2024-11-14T00:00:00"
          ],
          [
           "CSGP",
           "2024-11-26T00:00:00"
          ],
          [
           "SCHW",
           "2024-11-22T00:00:00"
          ],
          [
           "EL",
           "2024-11-19T00:00:00"
          ],
          [
           "WMT",
           "2024-11-21T00:00:00"
          ],
          [
           "MNST",
           "2024-11-22T00:00:00"
          ],
          [
           "CTLT",
           "2024-11-11T00:00:00"
          ],
          [
           "EA",
           "2024-11-11T00:00:00"
          ],
          [
           "RCL",
           "2024-11-21T00:00:00"
          ],
          [
           "TFC",
           "2024-11-27T00:00:00"
          ],
          [
           "ARE",
           "2024-11-04T00:00:00"
          ],
          [
           "AMAT",
           "2024-11-08T00:00:00"
          ],
          [
           "LW",
           "2024-11-08T00:00:00"
          ],
          [
           "PSX",
           "2024-11-05T00:00:00"
          ],
          [
           "TAP",
           "2024-11-06T00:00:00"
          ],
          [
           "MSFT",
           "2024-11-07T00:00:00"
          ],
          [
           "LOW",
           "2024-11-14T00:00:00"
          ],
          [
           "BAX",
           "2024-11-12T00:00:00"
          ],
          [
           "EA",
           "2024-11-18T00:00:00"
          ],
          [
           "NFLX",
           "2024-11-13T00:00:00"
          ],
          [
           "HCA",
           "2024-11-11T00:00:00"
          ],
          [
           "SYK",
           "2024-11-20T00:00:00"
          ],
          [
           "CAH",
           "2024-11-11T00:00:00"
          ],
          [
           "MPWR",
           "2024-11-21T00:00:00"
          ],
          [
           "ANET",
           "2024-11-06T00:00:00"
          ],
          [
           "JBHT",
           "2024-11-11T00:00:00"
          ],
          [
           "KIM",
           "2024-11-14T00:00:00"
          ],
          [
           "ITW",
           "2024-11-05T00:00:00"
          ],
          [
           "SBUX",
           "2024-11-27T00:00:00"
          ],
          [
           "JBL",
           "2024-11-19T00:00:00"
          ],
          [
           "REG",
           "2024-11-13T00:00:00"
          ],
          [
           "GILD",
           "2024-11-27T00:00:00"
          ],
          [
           "TRMB",
           "2024-11-14T00:00:00"
          ],
          [
           "NVDA",
           "2024-11-05T00:00:00"
          ],
          [
           "CTLT",
           "2024-11-12T00:00:00"
          ],
          [
           "QCOM",
           "2024-11-06T00:00:00"
          ],
          [
           "APD",
           "2024-11-18T00:00:00"
          ],
          [
           "SHW",
           "2024-11-13T00:00:00"
          ],
          [
           "CI",
           "2024-11-07T00:00:00"
          ],
          [
           "APD",
           "2024-11-05T00:00:00"
          ],
          [
           "VLTO",
           "2024-11-22T00:00:00"
          ],
          [
           "ALL",
           "2024-11-05T00:00:00"
          ],
          [
           "HRL",
           "2024-11-07T00:00:00"
          ],
          [
           "DELL",
           "2024-11-25T00:00:00"
          ],
          [
           "KHC",
           "2024-11-27T00:00:00"
          ],
          [
           "CVS",
           "2024-11-27T00:00:00"
          ],
          [
           "META",
           "2024-11-12T00:00:00"
          ],
          [
           "CTRA",
           "2024-11-06T00:00:00"
          ],
          [
           "QRVO",
           "2024-11-11T00:00:00"
          ],
          [
           "MCHP",
           "2024-11-26T00:00:00"
          ],
          [
           "XOM",
           "2024-11-08T00:00:00"
          ],
          [
           "SWKS",
           "2024-11-06T00:00:00"
          ],
          [
           "SJM",
           "2024-11-26T00:00:00"
          ],
          [
           "CRWD",
           "2024-11-04T00:00:00"
          ],
          [
           "AOS",
           "2024-11-05T00:00:00"
          ],
          [
           "AMD",
           "2024-11-20T00:00:00"
          ],
          [
           "BRK-B",
           "2024-11-07T00:00:00"
          ],
          [
           "BDX",
           "2024-11-04T00:00:00"
          ],
          [
           "DLTR",
           "2024-11-15T00:00:00"
          ],
          [
           "HBAN",
           "2024-11-19T00:00:00"
          ],
          [
           "JBHT",
           "2024-11-26T00:00:00"
          ],
          [
           "ORCL",
           "2024-11-14T00:00:00"
          ],
          [
           "MPC",
           "2024-11-20T00:00:00"
          ],
          [
           "CCL",
           "2024-11-27T00:00:00"
          ],
          [
           "DHI",
           "2024-11-25T00:00:00"
          ],
          [
           "QRVO",
           "2024-11-21T00:00:00"
          ],
          [
           "EA",
           "2024-11-08T00:00:00"
          ],
          [
           "KMB",
           "2024-11-22T00:00:00"
          ],
          [
           "EMR",
           "2024-11-19T00:00:00"
          ],
          [
           "RF",
           "2024-11-20T00:00:00"
          ],
          [
           "PM",
           "2024-11-19T00:00:00"
          ],
          [
           "KVUE",
           "2024-11-27T00:00:00"
          ],
          [
           "CHRW",
           "2024-11-13T00:00:00"
          ],
          [
           "CL",
           "2024-11-18T00:00:00"
          ],
          [
           "DUK",
           "2024-11-04T00:00:00"
          ],
          [
           "C",
           "2024-11-15T00:00:00"
          ],
          [
           "RTX",
           "2024-11-22T00:00:00"
          ],
          [
           "BRO",
           "2024-11-27T00:00:00"
          ],
          [
           "EXPE",
           "2024-11-13T00:00:00"
          ],
          [
           "ETN",
           "2024-11-12T00:00:00"
          ],
          [
           "TTWO",
           "2024-11-21T00:00:00"
          ],
          [
           "GPC",
           "2024-11-27T00:00:00"
          ],
          [
           "CI",
           "2024-11-27T00:00:00"
          ],
          [
           "BALL",
           "2024-11-06T00:00:00"
          ],
          [
           "VTR",
           "2024-11-08T00:00:00"
          ],
          [
           "VTRS",
           "2024-11-21T00:00:00"
          ],
          [
           "PNW",
           "2024-11-08T00:00:00"
          ],
          [
           "EQR",
           "2024-11-21T00:00:00"
          ],
          [
           "CDNS",
           "2024-11-26T00:00:00"
          ],
          [
           "EBAY",
           "2024-11-14T00:00:00"
          ],
          [
           "PEG",
           "2024-11-07T00:00:00"
          ],
          [
           "MO",
           "2024-11-12T00:00:00"
          ],
          [
           "AVB",
           "2024-11-26T00:00:00"
          ],
          [
           "VICI",
           "2024-11-21T00:00:00"
          ],
          [
           "CAG",
           "2024-11-05T00:00:00"
          ],
          [
           "LRCX",
           "2024-11-11T00:00:00"
          ],
          [
           "UNP",
           "2024-11-08T00:00:00"
          ],
          [
           "INTC",
           "2024-11-15T00:00:00"
          ],
          [
           "VRTX",
           "2024-11-14T00:00:00"
          ],
          [
           "MRK",
           "2024-11-20T00:00:00"
          ],
          [
           "GRMN",
           "2024-11-12T00:00:00"
          ],
          [
           "CMCSA",
           "2024-11-20T00:00:00"
          ],
          [
           "JNJ",
           "2024-11-20T00:00:00"
          ],
          [
           "CBOE",
           "2024-11-27T00:00:00"
          ],
          [
           "JNJ",
           "2024-11-04T00:00:00"
          ],
          [
           "GE",
           "2024-11-14T00:00:00"
          ],
          [
           "ALLE",
           "2024-11-25T00:00:00"
          ],
          [
           "SBAC",
           "2024-11-12T00:00:00"
          ],
          [
           "OTIS",
           "2024-11-08T00:00:00"
          ],
          [
           "SWK",
           "2024-11-22T00:00:00"
          ],
          [
           "ARE",
           "2024-11-15T00:00:00"
          ],
          [
           "MPWR",
           "2024-11-13T00:00:00"
          ],
          [
           "CHTR",
           "2024-11-07T00:00:00"
          ],
          [
           "UPS",
           "2024-11-08T00:00:00"
          ],
          [
           "CPRT",
           "2024-11-05T00:00:00"
          ],
          [
           "MET",
           "2024-11-25T00:00:00"
          ],
          [
           "V",
           "2024-11-26T00:00:00"
          ],
          [
           "LMT",
           "2024-11-05T00:00:00"
          ],
          [
           "DAL",
           "2024-11-13T00:00:00"
          ],
          [
           "CRL",
           "2024-11-19T00:00:00"
          ],
          [
           "WDC",
           "2024-11-06T00:00:00"
          ],
          [
           "CBRE",
           "2024-11-14T00:00:00"
          ],
          [
           "DFS",
           "2024-11-19T00:00:00"
          ],
          [
           "HCA",
           "2024-11-04T00:00:00"
          ],
          [
           "TJX",
           "2024-11-11T00:00:00"
          ],
          [
           "KHC",
           "2024-11-11T00:00:00"
          ],
          [
           "MDLZ",
           "2024-11-11T00:00:00"
          ],
          [
           "COP",
           "2024-11-25T00:00:00"
          ],
          [
           "VTRS",
           "2024-11-08T00:00:00"
          ],
          [
           "WYNN",
           "2024-11-18T00:00:00"
          ],
          [
           "ETN",
           "2024-11-11T00:00:00"
          ],
          [
           "ISRG",
           "2024-11-14T00:00:00"
          ],
          [
           "MAR",
           "2024-11-26T00:00:00"
          ],
          [
           "WDC",
           "2024-11-05T00:00:00"
          ],
          [
           "KIM",
           "2024-11-15T00:00:00"
          ],
          [
           "CMS",
           "2024-11-15T00:00:00"
          ],
          [
           "WDC",
           "2024-11-20T00:00:00"
          ],
          [
           "ATO",
           "2024-11-25T00:00:00"
          ],
          [
           "GD",
           "2024-11-13T00:00:00"
          ],
          [
           "DLTR",
           "2024-11-18T00:00:00"
          ],
          [
           "STT",
           "2024-11-21T00:00:00"
          ],
          [
           "SBUX",
           "2024-11-14T00:00:00"
          ],
          [
           "AMGN",
           "2024-11-07T00:00:00"
          ],
          [
           "TT",
           "2024-11-22T00:00:00"
          ],
          [
           "GPN",
           "2024-11-12T00:00:00"
          ],
          [
           "AON",
           "2024-11-18T00:00:00"
          ],
          [
           "CVX",
           "2024-11-04T00:00:00"
          ],
          [
           "ED",
           "2024-11-14T00:00:00"
          ],
          [
           "CMCSA",
           "2024-11-08T00:00:00"
          ],
          [
           "CBRE",
           "2024-11-04T00:00:00"
          ],
          [
           "DECK",
           "2024-11-07T00:00:00"
          ],
          [
           "MRK",
           "2024-11-15T00:00:00"
          ],
          [
           "VICI",
           "2024-11-22T00:00:00"
          ],
          [
           "MKC",
           "2024-11-27T00:00:00"
          ],
          [
           "HST",
           "2024-11-27T00:00:00"
          ],
          [
           "MA",
           "2024-11-19T00:00:00"
          ],
          [
           "PLTR",
           "2024-11-15T00:00:00"
          ],
          [
           "ETR",
           "2024-11-18T00:00:00"
          ],
          [
           "MAR",
           "2024-11-15T00:00:00"
          ],
          [
           "UNH",
           "2024-11-26T00:00:00"
          ],
          [
           "MOS",
           "2024-11-14T00:00:00"
          ],
          [
           "AMZN",
           "2024-11-13T00:00:00"
          ],
          [
           "LVS",
           "2024-11-21T00:00:00"
          ],
          [
           "MKC",
           "2024-11-25T00:00:00"
          ],
          [
           "COR",
           "2024-11-25T00:00:00"
          ],
          [
           "GDDY",
           "2024-11-27T00:00:00"
          ],
          [
           "AES",
           "2024-11-12T00:00:00"
          ],
          [
           "PH",
           "2024-11-13T00:00:00"
          ],
          [
           "C",
           "2024-11-25T00:00:00"
          ],
          [
           "FFIV",
           "2024-11-06T00:00:00"
          ],
          [
           "CAG",
           "2024-11-04T00:00:00"
          ],
          [
           "ADP",
           "2024-11-07T00:00:00"
          ],
          [
           "PEP",
           "2024-11-07T00:00:00"
          ],
          [
           "FIS",
           "2024-11-26T00:00:00"
          ],
          [
           "MAR",
           "2024-11-14T00:00:00"
          ],
          [
           "DRI",
           "2024-11-12T00:00:00"
          ],
          [
           "LUV",
           "2024-11-22T00:00:00"
          ],
          [
           "AME",
           "2024-11-08T00:00:00"
          ],
          [
           "FITB",
           "2024-11-22T00:00:00"
          ],
          [
           "RTX",
           "2024-11-21T00:00:00"
          ],
          [
           "SWK",
           "2024-11-18T00:00:00"
          ],
          [
           "PWR",
           "2024-11-18T00:00:00"
          ],
          [
           "PEG",
           "2024-11-13T00:00:00"
          ],
          [
           "NSC",
           "2024-11-05T00:00:00"
          ],
          [
           "ETR",
           "2024-11-14T00:00:00"
          ],
          [
           "HSIC",
           "2024-11-26T00:00:00"
          ],
          [
           "AEE",
           "2024-11-06T00:00:00"
          ],
          [
           "IRM",
           "2024-11-15T00:00:00"
          ],
          [
           "DGX",
           "2024-11-11T00:00:00"
          ],
          [
           "KHC",
           "2024-11-05T00:00:00"
          ],
          [
           "AOS",
           "2024-11-25T00:00:00"
          ],
          [
           "MAR",
           "2024-11-22T00:00:00"
          ],
          [
           "CCL",
           "2024-11-07T00:00:00"
          ],
          [
           "GEHC",
           "2024-11-20T00:00:00"
          ],
          [
           "LW",
           "2024-11-21T00:00:00"
          ],
          [
           "CPRT",
           "2024-11-11T00:00:00"
          ],
          [
           "ZBH",
           "2024-11-20T00:00:00"
          ],
          [
           "PNR",
           "2024-11-08T00:00:00"
          ],
          [
           "GRMN",
           "2024-11-27T00:00:00"
          ],
          [
           "EBAY",
           "2024-11-11T00:00:00"
          ],
          [
           "SWKS",
           "2024-11-11T00:00:00"
          ],
          [
           "GRMN",
           "2024-11-25T00:00:00"
          ],
          [
           "DVA",
           "2024-11-06T00:00:00"
          ],
          [
           "CCI",
           "2024-11-11T00:00:00"
          ],
          [
           "MAR",
           "2024-11-12T00:00:00"
          ],
          [
           "ALLE",
           "2024-11-05T00:00:00"
          ],
          [
           "ES",
           "2024-11-04T00:00:00"
          ],
          [
           "BG",
           "2024-11-12T00:00:00"
          ],
          [
           "RTX",
           "2024-11-11T00:00:00"
          ],
          [
           "RMD",
           "2024-11-21T00:00:00"
          ],
          [
           "PCG",
           "2024-11-07T00:00:00"
          ],
          [
           "BALL",
           "2024-11-04T00:00:00"
          ],
          [
           "DHR",
           "2024-11-18T00:00:00"
          ],
          [
           "DAY",
           "2024-11-06T00:00:00"
          ],
          [
           "MU",
           "2024-11-07T00:00:00"
          ],
          [
           "MMM",
           "2024-11-14T00:00:00"
          ],
          [
           "OKE",
           "2024-11-19T00:00:00"
          ],
          [
           "BRK-B",
           "2024-11-04T00:00:00"
          ],
          [
           "NRG",
           "2024-11-15T00:00:00"
          ],
          [
           "GILD",
           "2024-11-12T00:00:00"
          ],
          [
           "STLD",
           "2024-11-11T00:00:00"
          ],
          [
           "SYF",
           "2024-11-20T00:00:00"
          ],
          [
           "MCK",
           "2024-11-19T00:00:00"
          ],
          [
           "WBA",
           "2024-11-14T00:00:00"
          ],
          [
           "EW",
           "2024-11-08T00:00:00"
          ],
          [
           "TT",
           "2024-11-04T00:00:00"
          ],
          [
           "ZTS",
           "2024-11-06T00:00:00"
          ],
          [
           "GILD",
           "2024-11-07T00:00:00"
          ],
          [
           "AMCR",
           "2024-11-27T00:00:00"
          ],
          [
           "STX",
           "2024-11-27T00:00:00"
          ],
          [
           "DLR",
           "2024-11-13T00:00:00"
          ],
          [
           "EIX",
           "2024-11-14T00:00:00"
          ],
          [
           "CNP",
           "2024-11-26T00:00:00"
          ],
          [
           "DAL",
           "2024-11-04T00:00:00"
          ],
          [
           "COF",
           "2024-11-18T00:00:00"
          ],
          [
           "PAYX",
           "2024-11-27T00:00:00"
          ],
          [
           "MHK",
           "2024-11-12T00:00:00"
          ],
          [
           "GNRC",
           "2024-11-25T00:00:00"
          ],
          [
           "ICE",
           "2024-11-05T00:00:00"
          ],
          [
           "T",
           "2024-11-18T00:00:00"
          ],
          [
           "TPR",
           "2024-11-22T00:00:00"
          ],
          [
           "OKE",
           "2024-11-18T00:00:00"
          ],
          [
           "TGT",
           "2024-11-14T00:00:00"
          ],
          [
           "EXPD",
           "2024-11-14T00:00:00"
          ],
          [
           "AMD",
           "2024-11-26T00:00:00"
          ],
          [
           "IEX",
           "2024-11-25T00:00:00"
          ],
          [
           "MDLZ",
           "2024-11-20T00:00:00"
          ],
          [
           "ROL",
           "2024-11-20T00:00:00"
          ],
          [
           "IR",
           "2024-11-08T00:00:00"
          ],
          [
           "PYPL",
           "2024-11-15T00:00:00"
          ],
          [
           "ABBV",
           "2024-11-05T00:00:00"
          ],
          [
           "DGX",
           "2024-11-21T00:00:00"
          ],
          [
           "DLTR",
           "2024-11-11T00:00:00"
          ],
          [
           "DLTR",
           "2024-11-13T00:00:00"
          ],
          [
           "INVH",
           "2024-11-27T00:00:00"
          ],
          [
           "IFF",
           "2024-11-12T00:00:00"
          ],
          [
           "DHI",
           "2024-11-14T00:00:00"
          ],
          [
           "CRM",
           "2024-11-08T00:00:00"
          ],
          [
           "XOM",
           "2024-11-06T00:00:00"
          ],
          [
           "ED",
           "2024-11-15T00:00:00"
          ],
          [
           "AMAT",
           "2024-11-11T00:00:00"
          ],
          [
           "IPG",
           "2024-11-06T00:00:00"
          ],
          [
           "NKE",
           "2024-11-05T00:00:00"
          ],
          [
           "AVGO",
           "2024-11-06T00:00:00"
          ],
          [
           "CTVA",
           "2024-11-19T00:00:00"
          ],
          [
           "EMR",
           "2024-11-11T00:00:00"
          ],
          [
           "HBAN",
           "2024-11-04T00:00:00"
          ],
          [
           "BAC",
           "2024-11-05T00:00:00"
          ],
          [
           "WEC",
           "2024-11-25T00:00:00"
          ],
          [
           "CAG",
           "2024-11-14T00:00:00"
          ],
          [
           "XOM",
           "2024-11-20T00:00:00"
          ],
          [
           "PAYC",
           "2024-11-20T00:00:00"
          ],
          [
           "GE",
           "2024-11-12T00:00:00"
          ],
          [
           "SBUX",
           "2024-11-08T00:00:00"
          ],
          [
           "MMM",
           "2024-11-26T00:00:00"
          ],
          [
           "CFG",
           "2024-11-20T00:00:00"
          ],
          [
           "PLD",
           "2024-11-12T00:00:00"
          ],
          [
           "BA",
           "2024-11-20T00:00:00"
          ],
          [
           "APA",
           "2024-11-15T00:00:00"
          ],
          [
           "LEN",
           "2024-11-08T00:00:00"
          ],
          [
           "LMT",
           "2024-11-15T00:00:00"
          ],
          [
           "FCX",
           "2024-11-27T00:00:00"
          ],
          [
           "WMT",
           "2024-11-13T00:00:00"
          ],
          [
           "TT",
           "2024-11-20T00:00:00"
          ],
          [
           "WEC",
           "2024-11-13T00:00:00"
          ],
          [
           "IR",
           "2024-11-25T00:00:00"
          ],
          [
           "K",
           "2024-11-19T00:00:00"
          ],
          [
           "TRMB",
           "2024-11-25T00:00:00"
          ],
          [
           "TER",
           "2024-11-22T00:00:00"
          ],
          [
           "GPN",
           "2024-11-26T00:00:00"
          ],
          [
           "NKE",
           "2024-11-26T00:00:00"
          ],
          [
           "KO",
           "2024-11-19T00:00:00"
          ],
          [
           "BSX",
           "2024-11-27T00:00:00"
          ],
          [
           "EOG",
           "2024-11-05T00:00:00"
          ],
          [
           "CB",
           "2024-11-11T00:00:00"
          ],
          [
           "LW",
           "2024-11-27T00:00:00"
          ],
          [
           "ROL",
           "2024-11-14T00:00:00"
          ],
          [
           "KMI",
           "2024-11-12T00:00:00"
          ],
          [
           "FTV",
           "2024-11-07T00:00:00"
          ],
          [
           "EBAY",
           "2024-11-05T00:00:00"
          ],
          [
           "MMC",
           "2024-11-21T00:00:00"
          ],
          [
           "ALLE",
           "2024-11-08T00:00:00"
          ],
          [
           "SW",
           "2024-11-15T00:00:00"
          ],
          [
           "NEE",
           "2024-11-21T00:00:00"
          ],
          [
           "AMGN",
           "2024-11-04T00:00:00"
          ],
          [
           "KDP",
           "2024-11-04T00:00:00"
          ],
          [
           "SBAC",
           "2024-11-20T00:00:00"
          ],
          [
           "LUV",
           "2024-11-25T00:00:00"
          ],
          [
           "VTR",
           "2024-11-21T00:00:00"
          ],
          [
           "GEN",
           "2024-11-19T00:00:00"
          ],
          [
           "AMZN",
           "2024-11-25T00:00:00"
          ],
          [
           "AIG",
           "2024-11-25T00:00:00"
          ],
          [
           "PFE",
           "2024-11-11T00:00:00"
          ],
          [
           "BAX",
           "2024-11-05T00:00:00"
          ],
          [
           "LULU",
           "2024-11-05T00:00:00"
          ],
          [
           "HLT",
           "2024-11-15T00:00:00"
          ],
          [
           "WDC",
           "2024-11-04T00:00:00"
          ],
          [
           "FMC",
           "2024-11-05T00:00:00"
          ],
          [
           "AVGO",
           "2024-11-05T00:00:00"
          ],
          [
           "NCLH",
           "2024-11-19T00:00:00"
          ],
          [
           "ALLE",
           "2024-11-19T00:00:00"
          ],
          [
           "HON",
           "2024-11-12T00:00:00"
          ],
          [
           "COR",
           "2024-11-06T00:00:00"
          ],
          [
           "ZBH",
           "2024-11-06T00:00:00"
          ],
          [
           "AMCR",
           "2024-11-20T00:00:00"
          ],
          [
           "EMR",
           "2024-11-27T00:00:00"
          ],
          [
           "GOOGL",
           "2024-11-25T00:00:00"
          ],
          [
           "USB",
           "2024-11-14T00:00:00"
          ],
          [
           "COF",
           "2024-11-25T00:00:00"
          ],
          [
           "JNJ",
           "2024-11-14T00:00:00"
          ],
          [
           "MMC",
           "2024-11-14T00:00:00"
          ],
          [
           "EVRG",
           "2024-11-05T00:00:00"
          ],
          [
           "HLT",
           "2024-11-04T00:00:00"
          ],
          [
           "VMC",
           "2024-11-13T00:00:00"
          ],
          [
           "PNW",
           "2024-11-07T00:00:00"
          ],
          [
           "CAT",
           "2024-11-14T00:00:00"
          ],
          [
           "CF",
           "2024-11-15T00:00:00"
          ],
          [
           "CRL",
           "2024-11-06T00:00:00"
          ],
          [
           "PEP",
           "2024-11-14T00:00:00"
          ],
          [
           "CTAS",
           "2024-11-07T00:00:00"
          ],
          [
           "USB",
           "2024-11-25T00:00:00"
          ],
          [
           "SMCI",
           "2024-11-11T00:00:00"
          ],
          [
           "AMT",
           "2024-11-22T00:00:00"
          ],
          [
           "CHRW",
           "2024-11-27T00:00:00"
          ],
          [
           "MA",
           "2024-11-14T00:00:00"
          ],
          [
           "DE",
           "2024-11-04T00:00:00"
          ],
          [
           "FSLR",
           "2024-11-27T00:00:00"
          ],
          [
           "CARR",
           "2024-11-21T00:00:00"
          ],
          [
           "ALLE",
           "2024-11-21T00:00:00"
          ],
          [
           "CBRE",
           "2024-11-13T00:00:00"
          ],
          [
           "EBAY",
           "2024-11-07T00:00:00"
          ],
          [
           "ACN",
           "2024-11-05T00:00:00"
          ],
          [
           "PNW",
           "2024-11-04T00:00:00"
          ],
          [
           "HSIC",
           "2024-11-05T00:00:00"
          ],
          [
           "CSCO",
           "2024-11-27T00:00:00"
          ],
          [
           "SHW",
           "2024-11-27T00:00:00"
          ],
          [
           "MCK",
           "2024-11-22T00:00:00"
          ],
          [
           "CMS",
           "2024-11-19T00:00:00"
          ],
          [
           "JBHT",
           "2024-11-15T00:00:00"
          ],
          [
           "D",
           "2024-11-20T00:00:00"
          ],
          [
           "ELV",
           "2024-11-11T00:00:00"
          ],
          [
           "ES",
           "2024-11-27T00:00:00"
          ],
          [
           "EXPD",
           "2024-11-15T00:00:00"
          ],
          [
           "LDOS",
           "2024-11-27T00:00:00"
          ],
          [
           "MDT",
           "2024-11-11T00:00:00"
          ],
          [
           "ADSK",
           "2024-11-25T00:00:00"
          ],
          [
           "TRGP",
           "2024-11-19T00:00:00"
          ],
          [
           "BRK-B",
           "2024-11-05T00:00:00"
          ],
          [
           "AKAM",
           "2024-11-22T00:00:00"
          ],
          [
           "OTIS",
           "2024-11-20T00:00:00"
          ],
          [
           "APD",
           "2024-11-06T00:00:00"
          ],
          [
           "MRK",
           "2024-11-19T00:00:00"
          ],
          [
           "INVH",
           "2024-11-25T00:00:00"
          ],
          [
           "ENPH",
           "2024-11-21T00:00:00"
          ],
          [
           "VLTO",
           "2024-11-07T00:00:00"
          ],
          [
           "ETN",
           "2024-11-18T00:00:00"
          ],
          [
           "CTVA",
           "2024-11-15T00:00:00"
          ],
          [
           "ALL",
           "2024-11-06T00:00:00"
          ],
          [
           "KMB",
           "2024-11-15T00:00:00"
          ],
          [
           "STX",
           "2024-11-13T00:00:00"
          ],
          [
           "PRU",
           "2024-11-11T00:00:00"
          ],
          [
           "ETR",
           "2024-11-15T00:00:00"
          ],
          [
           "UBER",
           "2024-11-12T00:00:00"
          ],
          [
           "AOS",
           "2024-11-07T00:00:00"
          ],
          [
           "SYF",
           "2024-11-13T00:00:00"
          ],
          [
           "TECH",
           "2024-11-08T00:00:00"
          ],
          [
           "TEL",
           "2024-11-04T00:00:00"
          ],
          [
           "SLB",
           "2024-11-27T00:00:00"
          ],
          [
           "GIS",
           "2024-11-18T00:00:00"
          ],
          [
           "EL",
           "2024-11-18T00:00:00"
          ],
          [
           "XEL",
           "2024-11-25T00:00:00"
          ],
          [
           "ETN",
           "2024-11-07T00:00:00"
          ],
          [
           "HSY",
           "2024-11-20T00:00:00"
          ],
          [
           "HON",
           "2024-11-04T00:00:00"
          ],
          [
           "WFC",
           "2024-11-08T00:00:00"
          ],
          [
           "CSGP",
           "2024-11-04T00:00:00"
          ],
          [
           "COST",
           "2024-11-18T00:00:00"
          ],
          [
           "JNPR",
           "2024-11-27T00:00:00"
          ],
          [
           "MCO",
           "2024-11-19T00:00:00"
          ],
          [
           "STLD",
           "2024-11-06T00:00:00"
          ],
          [
           "ROL",
           "2024-11-06T00:00:00"
          ],
          [
           "SW",
           "2024-11-06T00:00:00"
          ],
          [
           "FIS",
           "2024-11-18T00:00:00"
          ],
          [
           "ICE",
           "2024-11-27T00:00:00"
          ],
          [
           "ETR",
           "2024-11-22T00:00:00"
          ],
          [
           "ROL",
           "2024-11-15T00:00:00"
          ],
          [
           "PH",
           "2024-11-07T00:00:00"
          ],
          [
           "AON",
           "2024-11-07T00:00:00"
          ],
          [
           "TSN",
           "2024-11-22T00:00:00"
          ],
          [
           "ANET",
           "2024-11-15T00:00:00"
          ],
          [
           "DTE",
           "2024-11-21T00:00:00"
          ],
          [
           "F",
           "2024-11-21T00:00:00"
          ],
          [
           "BKR",
           "2024-11-21T00:00:00"
          ],
          [
           "FMC",
           "2024-11-07T00:00:00"
          ],
          [
           "MNST",
           "2024-11-25T00:00:00"
          ],
          [
           "CCL",
           "2024-11-26T00:00:00"
          ],
          [
           "BKR",
           "2024-11-06T00:00:00"
          ],
          [
           "LRCX",
           "2024-11-13T00:00:00"
          ],
          [
           "AMCR",
           "2024-11-14T00:00:00"
          ],
          [
           "AEE",
           "2024-11-27T00:00:00"
          ],
          [
           "BG",
           "2024-11-20T00:00:00"
          ],
          [
           "GOOG",
           "2024-11-21T00:00:00"
          ],
          [
           "GEN",
           "2024-11-22T00:00:00"
          ],
          [
           "PM",
           "2024-11-05T00:00:00"
          ],
          [
           "LYV",
           "2024-11-25T00:00:00"
          ],
          [
           "HPE",
           "2024-11-27T00:00:00"
          ],
          [
           "PWR",
           "2024-11-19T00:00:00"
          ],
          [
           "HSY",
           "2024-11-15T00:00:00"
          ],
          [
           "FE",
           "2024-11-14T00:00:00"
          ],
          [
           "K",
           "2024-11-13T00:00:00"
          ],
          [
           "PCAR",
           "2024-11-06T00:00:00"
          ],
          [
           "DOC",
           "2024-11-19T00:00:00"
          ],
          [
           "WMT",
           "2024-11-07T00:00:00"
          ],
          [
           "TPR",
           "2024-11-26T00:00:00"
          ],
          [
           "C",
           "2024-11-20T00:00:00"
          ],
          [
           "HES",
           "2024-11-27T00:00:00"
          ],
          [
           "GEV",
           "2024-11-13T00:00:00"
          ],
          [
           "HUM",
           "2024-11-20T00:00:00"
          ],
          [
           "MMC",
           "2024-11-13T00:00:00"
          ],
          [
           "ABBV",
           "2024-11-11T00:00:00"
          ],
          [
           "WRB",
           "2024-11-11T00:00:00"
          ],
          [
           "DGX",
           "2024-11-26T00:00:00"
          ],
          [
           "WY",
           "2024-11-14T00:00:00"
          ],
          [
           "TRV",
           "2024-11-27T00:00:00"
          ],
          [
           "CRM",
           "2024-11-12T00:00:00"
          ],
          [
           "AMCR",
           "2024-11-04T00:00:00"
          ],
          [
           "SJM",
           "2024-11-27T00:00:00"
          ],
          [
           "DAY",
           "2024-11-04T00:00:00"
          ],
          [
           "BDX",
           "2024-11-07T00:00:00"
          ],
          [
           "VTR",
           "2024-11-11T00:00:00"
          ],
          [
           "VRTX",
           "2024-11-22T00:00:00"
          ],
          [
           "CCL",
           "2024-11-05T00:00:00"
          ],
          [
           "LRCX",
           "2024-11-15T00:00:00"
          ],
          [
           "NVDA",
           "2024-11-07T00:00:00"
          ],
          [
           "DVA",
           "2024-11-26T00:00:00"
          ],
          [
           "YUM",
           "2024-11-21T00:00:00"
          ],
          [
           "BEN",
           "2024-11-13T00:00:00"
          ],
          [
           "CTLT",
           "2024-11-26T00:00:00"
          ],
          [
           "ALB",
           "2024-11-18T00:00:00"
          ],
          [
           "FDX",
           "2024-11-11T00:00:00"
          ],
          [
           "GEV",
           "2024-11-22T00:00:00"
          ],
          [
           "EXPE",
           "2024-11-08T00:00:00"
          ],
          [
           "HCA",
           "2024-11-08T00:00:00"
          ],
          [
           "WRB",
           "2024-11-25T00:00:00"
          ],
          [
           "HLT",
           "2024-11-22T00:00:00"
          ],
          [
           "DAY",
           "2024-11-05T00:00:00"
          ],
          [
           "CTVA",
           "2024-11-08T00:00:00"
          ],
          [
           "RMD",
           "2024-11-04T00:00:00"
          ],
          [
           "META",
           "2024-11-21T00:00:00"
          ],
          [
           "TECH",
           "2024-11-22T00:00:00"
          ],
          [
           "SBAC",
           "2024-11-11T00:00:00"
          ],
          [
           "CSGP",
           "2024-11-12T00:00:00"
          ],
          [
           "EMN",
           "2024-11-14T00:00:00"
          ],
          [
           "GDDY",
           "2024-11-21T00:00:00"
          ],
          [
           "HWM",
           "2024-11-19T00:00:00"
          ],
          [
           "IPG",
           "2024-11-22T00:00:00"
          ],
          [
           "ETR",
           "2024-11-05T00:00:00"
          ],
          [
           "AMZN",
           "2024-11-22T00:00:00"
          ],
          [
           "ECL",
           "2024-11-12T00:00:00"
          ],
          [
           "NKE",
           "2024-11-13T00:00:00"
          ],
          [
           "TFX",
           "2024-11-27T00:00:00"
          ],
          [
           "PLTR",
           "2024-11-12T00:00:00"
          ],
          [
           "ITW",
           "2024-11-22T00:00:00"
          ],
          [
           "CBOE",
           "2024-11-20T00:00:00"
          ],
          [
           "TROW",
           "2024-11-06T00:00:00"
          ],
          [
           "AKAM",
           "2024-11-18T00:00:00"
          ],
          [
           "DE",
           "2024-11-25T00:00:00"
          ],
          [
           "CI",
           "2024-11-19T00:00:00"
          ],
          [
           "QCOM",
           "2024-11-19T00:00:00"
          ],
          [
           "PG",
           "2024-11-27T00:00:00"
          ],
          [
           "VRTX",
           "2024-11-21T00:00:00"
          ],
          [
           "TFC",
           "2024-11-04T00:00:00"
          ],
          [
           "DTE",
           "2024-11-06T00:00:00"
          ],
          [
           "XYL",
           "2024-11-08T00:00:00"
          ],
          [
           "TROW",
           "2024-11-13T00:00:00"
          ],
          [
           "KEYS",
           "2024-11-22T00:00:00"
          ],
          [
           "MO",
           "2024-11-26T00:00:00"
          ],
          [
           "CME",
           "2024-11-07T00:00:00"
          ],
          [
           "IQV",
           "2024-11-04T00:00:00"
          ],
          [
           "KR",
           "2024-11-04T00:00:00"
          ],
          [
           "NTRS",
           "2024-11-06T00:00:00"
          ],
          [
           "PEG",
           "2024-11-04T00:00:00"
          ],
          [
           "EXPE",
           "2024-11-07T00:00:00"
          ],
          [
           "USB",
           "2024-11-26T00:00:00"
          ],
          [
           "BX",
           "2024-11-20T00:00:00"
          ],
          [
           "USB",
           "2024-11-13T00:00:00"
          ],
          [
           "PRU",
           "2024-11-27T00:00:00"
          ],
          [
           "PLTR",
           "2024-11-27T00:00:00"
          ],
          [
           "GOOG",
           "2024-11-18T00:00:00"
          ],
          [
           "RL",
           "2024-11-21T00:00:00"
          ],
          [
           "HII",
           "2024-11-07T00:00:00"
          ],
          [
           "DFS",
           "2024-11-26T00:00:00"
          ],
          [
           "APA",
           "2024-11-14T00:00:00"
          ],
          [
           "SLB",
           "2024-11-13T00:00:00"
          ],
          [
           "BRO",
           "2024-11-15T00:00:00"
          ],
          [
           "MCHP",
           "2024-11-18T00:00:00"
          ],
          [
           "SWK",
           "2024-11-25T00:00:00"
          ],
          [
           "CCL",
           "2024-11-08T00:00:00"
          ],
          [
           "DHI",
           "2024-11-20T00:00:00"
          ],
          [
           "TTWO",
           "2024-11-06T00:00:00"
          ],
          [
           "BAC",
           "2024-11-22T00:00:00"
          ],
          [
           "CVX",
           "2024-11-25T00:00:00"
          ],
          [
           "PLD",
           "2024-11-11T00:00:00"
          ],
          [
           "MDT",
           "2024-11-13T00:00:00"
          ],
          [
           "VTR",
           "2024-11-27T00:00:00"
          ],
          [
           "MPWR",
           "2024-11-20T00:00:00"
          ],
          [
           "CPRT",
           "2024-11-04T00:00:00"
          ],
          [
           "CPB",
           "2024-11-22T00:00:00"
          ],
          [
           "IQV",
           "2024-11-05T00:00:00"
          ],
          [
           "ISRG",
           "2024-11-08T00:00:00"
          ],
          [
           "AXP",
           "2024-11-06T00:00:00"
          ],
          [
           "LMT",
           "2024-11-08T00:00:00"
          ],
          [
           "FOX",
           "2024-11-12T00:00:00"
          ],
          [
           "NTRS",
           "2024-11-25T00:00:00"
          ],
          [
           "HD",
           "2024-11-19T00:00:00"
          ],
          [
           "CHRW",
           "2024-11-26T00:00:00"
          ],
          [
           "TFC",
           "2024-11-13T00:00:00"
          ],
          [
           "QCOM",
           "2024-11-22T00:00:00"
          ],
          [
           "LOW",
           "2024-11-12T00:00:00"
          ],
          [
           "TTWO",
           "2024-11-20T00:00:00"
          ],
          [
           "IR",
           "2024-11-19T00:00:00"
          ],
          [
           "CL",
           "2024-11-21T00:00:00"
          ],
          [
           "EQR",
           "2024-11-13T00:00:00"
          ],
          [
           "DE",
           "2024-11-27T00:00:00"
          ],
          [
           "HST",
           "2024-11-13T00:00:00"
          ],
          [
           "STX",
           "2024-11-11T00:00:00"
          ],
          [
           "FRT",
           "2024-11-25T00:00:00"
          ],
          [
           "CI",
           "2024-11-08T00:00:00"
          ],
          [
           "RTX",
           "2024-11-13T00:00:00"
          ],
          [
           "IQV",
           "2024-11-18T00:00:00"
          ],
          [
           "AEE",
           "2024-11-26T00:00:00"
          ],
          [
           "CVX",
           "2024-11-14T00:00:00"
          ],
          [
           "PPL",
           "2024-11-12T00:00:00"
          ],
          [
           "GOOG",
           "2024-11-19T00:00:00"
          ],
          [
           "PAYX",
           "2024-11-13T00:00:00"
          ],
          [
           "HST",
           "2024-11-06T00:00:00"
          ],
          [
           "WYNN",
           "2024-11-15T00:00:00"
          ],
          [
           "DAL",
           "2024-11-25T00:00:00"
          ],
          [
           "OKE",
           "2024-11-20T00:00:00"
          ],
          [
           "ECL",
           "2024-11-20T00:00:00"
          ],
          [
           "KHC",
           "2024-11-20T00:00:00"
          ],
          [
           "RVTY",
           "2024-11-07T00:00:00"
          ],
          [
           "MAS",
           "2024-11-12T00:00:00"
          ],
          [
           "MCK",
           "2024-11-08T00:00:00"
          ],
          [
           "HRL",
           "2024-11-13T00:00:00"
          ],
          [
           "NI",
           "2024-11-20T00:00:00"
          ],
          [
           "IR",
           "2024-11-27T00:00:00"
          ],
          [
           "HRL",
           "2024-11-20T00:00:00"
          ],
          [
           "KKR",
           "2024-11-13T00:00:00"
          ],
          [
           "FANG",
           "2024-11-18T00:00:00"
          ],
          [
           "COR",
           "2024-11-18T00:00:00"
          ],
          [
           "CAT",
           "2024-11-22T00:00:00"
          ],
          [
           "DRI",
           "2024-11-06T00:00:00"
          ],
          [
           "GEV",
           "2024-11-15T00:00:00"
          ],
          [
           "APTV",
           "2024-11-05T00:00:00"
          ],
          [
           "MCHP",
           "2024-11-21T00:00:00"
          ],
          [
           "MNST",
           "2024-11-04T00:00:00"
          ],
          [
           "SPGI",
           "2024-11-27T00:00:00"
          ],
          [
           "GD",
           "2024-11-19T00:00:00"
          ],
          [
           "XYL",
           "2024-11-11T00:00:00"
          ],
          [
           "AON",
           "2024-11-25T00:00:00"
          ],
          [
           "LKQ",
           "2024-11-14T00:00:00"
          ],
          [
           "MCO",
           "2024-11-07T00:00:00"
          ],
          [
           "DGX",
           "2024-11-07T00:00:00"
          ],
          [
           "F",
           "2024-11-22T00:00:00"
          ],
          [
           "MPWR",
           "2024-11-19T00:00:00"
          ],
          [
           "AOS",
           "2024-11-11T00:00:00"
          ],
          [
           "OXY",
           "2024-11-15T00:00:00"
          ],
          [
           "PSX",
           "2024-11-13T00:00:00"
          ],
          [
           "NVDA",
           "2024-11-25T00:00:00"
          ],
          [
           "FI",
           "2024-11-15T00:00:00"
          ],
          [
           "COST",
           "2024-11-20T00:00:00"
          ],
          [
           "WY",
           "2024-11-27T00:00:00"
          ],
          [
           "BAC",
           "2024-11-18T00:00:00"
          ],
          [
           "WBA",
           "2024-11-27T00:00:00"
          ],
          [
           "CMCSA",
           "2024-11-13T00:00:00"
          ],
          [
           "WDC",
           "2024-11-11T00:00:00"
          ],
          [
           "BWA",
           "2024-11-05T00:00:00"
          ],
          [
           "BLDR",
           "2024-11-27T00:00:00"
          ],
          [
           "SMCI",
           "2024-11-14T00:00:00"
          ],
          [
           "V",
           "2024-11-04T00:00:00"
          ],
          [
           "LMT",
           "2024-11-04T00:00:00"
          ],
          [
           "BKR",
           "2024-11-27T00:00:00"
          ],
          [
           "NRG",
           "2024-11-14T00:00:00"
          ],
          [
           "DFS",
           "2024-11-13T00:00:00"
          ],
          [
           "TXT",
           "2024-11-18T00:00:00"
          ],
          [
           "HII",
           "2024-11-08T00:00:00"
          ],
          [
           "ZTS",
           "2024-11-27T00:00:00"
          ],
          [
           "CPRT",
           "2024-11-22T00:00:00"
          ],
          [
           "AME",
           "2024-11-14T00:00:00"
          ],
          [
           "TER",
           "2024-11-19T00:00:00"
          ],
          [
           "NEE",
           "2024-11-22T00:00:00"
          ],
          [
           "XOM",
           "2024-11-26T00:00:00"
          ],
          [
           "TECH",
           "2024-11-06T00:00:00"
          ],
          [
           "APH",
           "2024-11-11T00:00:00"
          ],
          [
           "TEL",
           "2024-11-11T00:00:00"
          ],
          [
           "CFG",
           "2024-11-15T00:00:00"
          ],
          [
           "KKR",
           "2024-11-18T00:00:00"
          ],
          [
           "BWA",
           "2024-11-06T00:00:00"
          ],
          [
           "DHI",
           "2024-11-04T00:00:00"
          ],
          [
           "FSLR",
           "2024-11-12T00:00:00"
          ],
          [
           "HOLX",
           "2024-11-18T00:00:00"
          ],
          [
           "NRG",
           "2024-11-13T00:00:00"
          ],
          [
           "IEX",
           "2024-11-22T00:00:00"
          ],
          [
           "CB",
           "2024-11-20T00:00:00"
          ],
          [
           "BAC",
           "2024-11-15T00:00:00"
          ],
          [
           "PEP",
           "2024-11-05T00:00:00"
          ],
          [
           "APTV",
           "2024-11-27T00:00:00"
          ],
          [
           "KEYS",
           "2024-11-15T00:00:00"
          ],
          [
           "RF",
           "2024-11-13T00:00:00"
          ],
          [
           "FCX",
           "2024-11-11T00:00:00"
          ],
          [
           "MCK",
           "2024-11-15T00:00:00"
          ],
          [
           "EFX",
           "2024-11-27T00:00:00"
          ],
          [
           "TMUS",
           "2024-11-06T00:00:00"
          ],
          [
           "ALB",
           "2024-11-21T00:00:00"
          ],
          [
           "CF",
           "2024-11-11T00:00:00"
          ],
          [
           "LYV",
           "2024-11-19T00:00:00"
          ],
          [
           "DRI",
           "2024-11-20T00:00:00"
          ],
          [
           "FSLR",
           "2024-11-11T00:00:00"
          ],
          [
           "RCL",
           "2024-11-04T00:00:00"
          ],
          [
           "CTSH",
           "2024-11-13T00:00:00"
          ],
          [
           "MDT",
           "2024-11-04T00:00:00"
          ],
          [
           "ETR",
           "2024-11-07T00:00:00"
          ],
          [
           "OMC",
           "2024-11-26T00:00:00"
          ],
          [
           "STT",
           "2024-11-12T00:00:00"
          ],
          [
           "MMM",
           "2024-11-04T00:00:00"
          ],
          [
           "DUK",
           "2024-11-27T00:00:00"
          ],
          [
           "LMT",
           "2024-11-12T00:00:00"
          ],
          [
           "VZ",
           "2024-11-20T00:00:00"
          ],
          [
           "ELV",
           "2024-11-12T00:00:00"
          ],
          [
           "BIIB",
           "2024-11-12T00:00:00"
          ],
          [
           "A",
           "2024-11-13T00:00:00"
          ],
          [
           "ITW",
           "2024-11-25T00:00:00"
          ],
          [
           "AIG",
           "2024-11-06T00:00:00"
          ],
          [
           "PNC",
           "2024-11-21T00:00:00"
          ],
          [
           "AWK",
           "2024-11-05T00:00:00"
          ],
          [
           "ABT",
           "2024-11-27T00:00:00"
          ],
          [
           "ON",
           "2024-11-19T00:00:00"
          ],
          [
           "RTX",
           "2024-11-05T00:00:00"
          ],
          [
           "CRWD",
           "2024-11-20T00:00:00"
          ],
          [
           "INTC",
           "2024-11-06T00:00:00"
          ],
          [
           "BXP",
           "2024-11-22T00:00:00"
          ],
          [
           "GDDY",
           "2024-11-06T00:00:00"
          ],
          [
           "BSX",
           "2024-11-26T00:00:00"
          ],
          [
           "ORCL",
           "2024-11-07T00:00:00"
          ],
          [
           "REG",
           "2024-11-15T00:00:00"
          ],
          [
           "AVGO",
           "2024-11-22T00:00:00"
          ],
          [
           "RL",
           "2024-11-07T00:00:00"
          ],
          [
           "LVS",
           "2024-11-12T00:00:00"
          ],
          [
           "LW",
           "2024-11-05T00:00:00"
          ],
          [
           "IEX",
           "2024-11-21T00:00:00"
          ],
          [
           "KMX",
           "2024-11-19T00:00:00"
          ],
          [
           "DLTR",
           "2024-11-08T00:00:00"
          ],
          [
           "ICE",
           "2024-11-06T00:00:00"
          ],
          [
           "CTRA",
           "2024-11-19T00:00:00"
          ],
          [
           "MO",
           "2024-11-05T00:00:00"
          ],
          [
           "BAC",
           "2024-11-14T00:00:00"
          ],
          [
           "PANW",
           "2024-11-22T00:00:00"
          ],
          [
           "WY",
           "2024-11-05T00:00:00"
          ],
          [
           "SHW",
           "2024-11-14T00:00:00"
          ],
          [
           "OMC",
           "2024-11-05T00:00:00"
          ],
          [
           "NFLX",
           "2024-11-15T00:00:00"
          ],
          [
           "DHR",
           "2024-11-19T00:00:00"
          ],
          [
           "AON",
           "2024-11-08T00:00:00"
          ],
          [
           "MNST",
           "2024-11-19T00:00:00"
          ],
          [
           "PNC",
           "2024-11-19T00:00:00"
          ],
          [
           "CFG",
           "2024-11-21T00:00:00"
          ],
          [
           "RMD",
           "2024-11-06T00:00:00"
          ],
          [
           "DRI",
           "2024-11-26T00:00:00"
          ],
          [
           "PPG",
           "2024-11-14T00:00:00"
          ],
          [
           "DIS",
           "2024-11-04T00:00:00"
          ],
          [
           "BWA",
           "2024-11-12T00:00:00"
          ],
          [
           "EXPE",
           "2024-11-18T00:00:00"
          ],
          [
           "JPM",
           "2024-11-14T00:00:00"
          ],
          [
           "AVB",
           "2024-11-06T00:00:00"
          ],
          [
           "HAL",
           "2024-11-20T00:00:00"
          ],
          [
           "WM",
           "2024-11-11T00:00:00"
          ],
          [
           "NEM",
           "2024-11-11T00:00:00"
          ],
          [
           "PFE",
           "2024-11-08T00:00:00"
          ],
          [
           "PRU",
           "2024-11-19T00:00:00"
          ],
          [
           "CDW",
           "2024-11-20T00:00:00"
          ],
          [
           "CI",
           "2024-11-11T00:00:00"
          ],
          [
           "VRTX",
           "2024-11-12T00:00:00"
          ],
          [
           "BBY",
           "2024-11-27T00:00:00"
          ],
          [
           "ITW",
           "2024-11-18T00:00:00"
          ],
          [
           "AXP",
           "2024-11-25T00:00:00"
          ],
          [
           "KR",
           "2024-11-26T00:00:00"
          ],
          [
           "EMN",
           "2024-11-26T00:00:00"
          ],
          [
           "AXP",
           "2024-11-27T00:00:00"
          ],
          [
           "ECL",
           "2024-11-05T00:00:00"
          ],
          [
           "ZTS",
           "2024-11-08T00:00:00"
          ],
          [
           "EL",
           "2024-11-22T00:00:00"
          ],
          [
           "JNPR",
           "2024-11-26T00:00:00"
          ],
          [
           "CVS",
           "2024-11-25T00:00:00"
          ],
          [
           "ALLE",
           "2024-11-11T00:00:00"
          ],
          [
           "VMC",
           "2024-11-14T00:00:00"
          ],
          [
           "PLTR",
           "2024-11-06T00:00:00"
          ],
          [
           "EIX",
           "2024-11-07T00:00:00"
          ],
          [
           "HII",
           "2024-11-19T00:00:00"
          ],
          [
           "STX",
           "2024-11-26T00:00:00"
          ],
          [
           "CEG",
           "2024-11-20T00:00:00"
          ],
          [
           "ADI",
           "2024-11-19T00:00:00"
          ],
          [
           "LEN",
           "2024-11-19T00:00:00"
          ],
          [
           "CCI",
           "2024-11-22T00:00:00"
          ],
          [
           "CF",
           "2024-11-08T00:00:00"
          ],
          [
           "INTU",
           "2024-11-14T00:00:00"
          ],
          [
           "GIS",
           "2024-11-22T00:00:00"
          ],
          [
           "ON",
           "2024-11-22T00:00:00"
          ],
          [
           "PHM",
           "2024-11-08T00:00:00"
          ],
          [
           "EXPD",
           "2024-11-12T00:00:00"
          ],
          [
           "EL",
           "2024-11-06T00:00:00"
          ],
          [
           "MDLZ",
           "2024-11-18T00:00:00"
          ],
          [
           "WMT",
           "2024-11-25T00:00:00"
          ],
          [
           "CSGP",
           "2024-11-22T00:00:00"
          ],
          [
           "HLT",
           "2024-11-26T00:00:00"
          ],
          [
           "AFL",
           "2024-11-04T00:00:00"
          ],
          [
           "CCL",
           "2024-11-20T00:00:00"
          ],
          [
           "IVZ",
           "2024-11-04T00:00:00"
          ],
          [
           "SYY",
           "2024-11-11T00:00:00"
          ],
          [
           "SMCI",
           "2024-11-27T00:00:00"
          ],
          [
           "PSA",
           "2024-11-19T00:00:00"
          ],
          [
           "PHM",
           "2024-11-19T00:00:00"
          ],
          [
           "TRV",
           "2024-11-22T00:00:00"
          ],
          [
           "BMY",
           "2024-11-22T00:00:00"
          ],
          [
           "TTWO",
           "2024-11-05T00:00:00"
          ],
          [
           "ECL",
           "2024-11-08T00:00:00"
          ],
          [
           "SWKS",
           "2024-11-20T00:00:00"
          ],
          [
           "PLTR",
           "2024-11-25T00:00:00"
          ],
          [
           "TXT",
           "2024-11-27T00:00:00"
          ],
          [
           "TAP",
           "2024-11-20T00:00:00"
          ],
          [
           "IBM",
           "2024-11-27T00:00:00"
          ],
          [
           "GS",
           "2024-11-08T00:00:00"
          ],
          [
           "EXC",
           "2024-11-22T00:00:00"
          ],
          [
           "DAY",
           "2024-11-12T00:00:00"
          ],
          [
           "CTVA",
           "2024-11-07T00:00:00"
          ]
         ],
         "hovertemplate": "x=%{x}<br>y=%{y}<br>Symbol=%{customdata[0]}<br>Date=%{customdata[1]}<extra></extra>",
         "legendgroup": "",
         "marker": {
          "color": "#636efa",
          "symbol": "circle"
         },
         "mode": "markers",
         "name": "",
         "showlegend": false,
         "type": "scattergl",
         "x": [
          0.0569441421836546,
          -0.006994730251470629,
          0.008582217704979632,
          -0.004970392531897189,
          0.006542027420389714,
          0.04063570159393387,
          -0.007887978743302803,
          0.025594165903135468,
          -0.0019276869874026745,
          -0.009572152215468858,
          0.018701878266255793,
          -0.0036760446135074196,
          0.0074901587070067615,
          0.008512741158940816,
          -0.00385815686667427,
          0.000579830607893533,
          -0.008876160114968942,
          0.01034384105719195,
          0.004477611940298508,
          0.008041112501019283,
          0.057275841347317544,
          -0.000060663406131886685,
          -0.0011472905764318155,
          -0.02457536276386827,
          0.0021576745270724448,
          -0.010507608223757937,
          -0.0010817336708768821,
          -0.019515390825169926,
          0.0271317998778571,
          0.009406692197529423,
          0.03164887137027426,
          -0.029394693189376143,
          -0.008494250747792541,
          0.005803250371633625,
          0.015096061962129446,
          -0.003224261411910636,
          0.00041885775421302354,
          -0.01151138660625503,
          0.0032301191643605634,
          0.0036074484025061405,
          0.016501758066364954,
          0.015941060066737362,
          0.004175938091266082,
          -0.02160726736003636,
          0.028327603388971844,
          0.0043680611272553125,
          -0.03316420218312914,
          -0.005148120043446562,
          -0.04829367441908904,
          0.01556086478452402,
          0.013624001803521487,
          0.00830511319435249,
          0.0008609773053834789,
          -0.009591894586622601,
          0.01792274087239107,
          -0.0000712163823339011,
          0.013444462528935185,
          0.036406006649124446,
          0.013710111863917898,
          0.008819749806668177,
          0.024685126534082398,
          -0.0052206616221654855,
          0.006342027226580022,
          0.0045752128299106016,
          0.012597058371450134,
          -0.016365480514316917,
          0.00625001467191256,
          -0.0019410802344609918,
          0.0002142693350283062,
          -0.0023456538914252718,
          0.0020331017776289667,
          -0.0033218176043559927,
          0.03607573766191784,
          0.01337766088520598,
          0.0017249801885790331,
          -0.016400412831687132,
          0.002944759064656825,
          0.06062025218769206,
          0.007267597776204863,
          0.01975526316509029,
          0.019235179304910022,
          -0.025576404393635253,
          -0.003945867853853226,
          -0.021291012668688193,
          -0.031492645928625336,
          0.027684959550554025,
          0.007181463025883124,
          -0.013276268296860296,
          -0.005984004854065096,
          0.009989952598290856,
          -0.003844083167819884,
          0.0045136329264956225,
          0.007661880634542553,
          0.01275110591794032,
          -0.0019315028005455106,
          -0.0018070655376221853,
          0.005569651157041139,
          0.007015974357668206,
          -0.0005958345377186977,
          0.0014267080087559776,
          0.016851646767496314,
          -0.011828393443655381,
          0.027144668550684526,
          0.029799736779054984,
          0.0005747258104066917,
          0.004460009995941442,
          0.014518503103675652,
          -0.0008115421948540207,
          0.014316608046188768,
          -0.003836356752539049,
          0.01741472231431747,
          0.010400505275982783,
          -0.016463886293078926,
          -0.0012372331665334092,
          0.006654511944456163,
          -0.0044112470159932944,
          0.00653596615246769,
          0.008165454726685064,
          0.012753625910151896,
          -0.029424503990328397,
          -0.004785694876643684,
          0.008555291154931298,
          0.01253813893262757,
          0.021153753043635735,
          -0.00019849755301213788,
          0.00511987667971058,
          0.0037028431104411826,
          0.0005798704974322232,
          -0.0064700956538993265,
          -0.001230622337457831,
          -0.01829756701643945,
          -0.0054427911605391815,
          0.06230531006447254,
          0.02188605475575027,
          -0.05351533336444113,
          0.039873714238458466,
          0.012557909406583584,
          0.002549680545861569,
          -0.007745685197397597,
          0.010331269894135913,
          0.007439451744837932,
          0.0380209889666285,
          -0.0018870186518797417,
          -0.002061427645642037,
          0.011188146157756288,
          0.00602690108767363,
          -0.0010631895668980669,
          -0.01072249624933194,
          0.016789664845066637,
          -0.0037507521260113598,
          0.0051607446609951,
          -0.008545687158903557,
          0.007018580783030705,
          0.004950485294202169,
          -0.000936486361286054,
          0.0020995681312593424,
          -0.027620327103906016,
          0.0003947588552700947,
          0.04879790274718273,
          0.004919650589460926,
          -0.004215614659211013,
          0.02111027823056803,
          0.006866488585896659,
          -0.003920545842800122,
          -0.0004674891717761141,
          -0.015185019493820142,
          -0.0024318563520222343,
          -0.01472813058289546,
          0.012138370804300599,
          -0.02189091154256912,
          0.0066599300053557554,
          -0.010929668131705157,
          -0.009036159863773943,
          -0.07741705398272826,
          0.0002265143907488675,
          0.008562472844189779,
          -0.0022823116084834836,
          0.0010518756404403592,
          0.009488682745974836,
          0.00899523867374402,
          0.014926789221039401,
          0.026852423362599798,
          -0.023180343397036597,
          0.0019969796511530567,
          0.05574694196462896,
          0.0215218853224614,
          0.02120517334694823,
          0.0035667595364518765,
          0.00030681400916042256,
          -0.004411320083713693,
          0.015468615089575099,
          0.0067514526537831784,
          0.006467851443379057,
          0.0019653909884465802,
          0.02027292263146893,
          0.0023491895135817472,
          0.0071185668489422505,
          0.006167210262494397,
          -0.0067779492203737446,
          0.006526897530408856,
          -0.0072768483178709195,
          -0.0017994729959375864,
          -0.010735436708785758,
          0.010952131593170203,
          -0.014162412239379309,
          -0.005387449866884767,
          -0.0025931320613672357,
          -0.0005243958595631281,
          0.0016699652347321574,
          -0.008940570299571632,
          -0.0072303527298196064,
          -0.0035842711901485423,
          -0.012130778129872743,
          -0.012124658670485476,
          0.01582629172645608,
          -0.032749009926294724,
          -0.01745992629176676,
          0.0019922233097450573,
          -0.0102449432903568,
          0.0017222579018495757,
          0.007319578190439755,
          -0.02225823937073132,
          -0.019270456855950347,
          0.0017012979056675577,
          -0.006636560614634885,
          0.01099088776712462,
          -0.0015269711259669992,
          -0.015813960585483285,
          -0.010521176805537612,
          0.11192695417505645,
          0.00314194217455492,
          0.005824790556046367,
          -0.014587026516637108,
          0.03358998080905576,
          -0.05182194524268619,
          -0.0027658579223903074,
          0.0192634651521994,
          0.002853275658288163,
          -0.004435587575359304,
          -0.001417312361825021,
          -0.011174876426767762,
          -0.016675603195152645,
          -0.020816169719869975,
          0.0007758425775872172,
          -0.007111898071664598,
          -0.0013618049464964718,
          0.0043331800965006355,
          -0.04251225975064504,
          0.005193315232781831,
          -0.008714058875711842,
          0.023634614619623445,
          0.002287858405695637,
          -0.0026016310571550525,
          0.006523825860662222,
          -0.007471530323616512,
          0.013010578001411066,
          0.009862066563238722,
          0.0002465373309817754,
          -0.00019843846117446648,
          -0.012321999741243246,
          -0.028344901556993807,
          0.017148629213411086,
          -0.012209710391076038,
          0.014625587183150513,
          0.0034577251017892108,
          0.00809846291313524,
          0.009379344573171605,
          0.024898952907986112,
          -0.00006795286042638086,
          0.06178995402541931,
          -0.009298080620966745,
          0.0005667632556945509,
          0.042302046905014885,
          -0.006429347889771552,
          0.035911807375148666,
          -0.004527504352502818,
          -0.006584405966729153,
          -0.014136969388908363,
          0.001740852932554519,
          0.021345198572206674,
          -0.017622407499726836,
          -0.013295044082435441,
          0.003143934279951671,
          -0.0031813414519365688,
          0.009087717146181614,
          0.018689164564513933,
          -0.0438931867324833,
          0.0003507632445503787,
          -0.004639362513260255,
          -0.011759047910391566,
          -0.002740028648759442,
          -0.0004720111709550559,
          0.015109631249448655,
          -0.005239498250228871,
          -0.007818714231498523,
          -0.0076682865268198445,
          0.008119353398345307,
          -0.02075424710363355,
          0.007303647574915963,
          -0.0068815838412688065,
          -0.0085113207129155,
          0.022075898588739287,
          -0.004507059446522887,
          0.009139366680362873,
          0.022215824037897795,
          0.014358346929539587,
          0.007683525172013729,
          -0.00904520686499143,
          -0.008887923724110182,
          0.009905316812506556,
          -0.003662947872370007,
          0.01779109170417563,
          0.027290093230394007,
          0.0015971960563931293,
          0.01255610860839722,
          -0.019838217410253798,
          -0.010245001078979965,
          0.0003784096563400592,
          -0.032181095518023256,
          0.006000731251316786,
          0.002933812895260435,
          0.00779826429792517,
          -0.00858659558156927,
          0.010903965774798179,
          -0.007424487159141944,
          0.0012999167558190793,
          0.016778523489932886,
          -0.013569075980551317,
          0.024347440285900017,
          0.028247426360580523,
          0.02330164121500677,
          0.006667110896569545,
          0.006192873580681302,
          0.007380510141152029,
          0.1212591811274518,
          0.035289041985091654,
          0.019022008459177363,
          -0.01395801724310629,
          -0.007835625264777357,
          -0.016813464663983334,
          -0.040769166098576365,
          0.015090564063275634,
          0.004088930310366998,
          0.038045094425516915,
          0.008317916525552341,
          0.01339375441710798,
          -0.017575306873933036,
          0.016924365585353433,
          0.012134291225965136,
          -0.00004291616098977228,
          0.032997619310813395,
          0.0073067877395484844,
          -0.012689079088493685,
          0.03106686419912094,
          -0.004159127562848173,
          0.010348504630567303,
          0.00645252535114804,
          0.07218453073424592,
          0.019670989054061276,
          0.02865240526652595,
          -0.0035176118214658523,
          0.0215014315121174,
          0.003005708782846295,
          0.02471392581247726,
          -0.0000424251072173139,
          0,
          0.012914618887223199,
          0.004828719215044638,
          -0.004660649426782439,
          -0.027956918102519525,
          -0.017100863285633185,
          0.010612046886632137,
          -0.0014390770583074214,
          -0.007449485201945184,
          0.010291830818302195,
          0.001801241276812163,
          0.01858214532078554,
          0.029501771840960152,
          0.008163288385463568,
          0.02249175525102459,
          0.02593190363592579,
          -0.007605048097270347,
          0.019616418251956064,
          -0.017409193512419197,
          0.014763534159127017,
          0.01038199667943527,
          0.009124297931677582,
          0.012326867335217106,
          -0.0006719987506502101,
          0.01427665218748879,
          -0.0005156027871033368,
          0.001045502246543641,
          -0.015407933814348677,
          -0.012154075559046698,
          0.06566046963538284,
          -0.015600447057318749,
          0.003570081598884723,
          0.014711543239992382,
          -0.033962813317834045,
          0.018470679200306237,
          -0.0025252500926581287,
          -0.0019089043011117136,
          -0.0010090663537921979,
          -0.005048060154067554,
          0.04928466786726012,
          -0.015223372483513352,
          -0.0008764108278561836,
          -0.0009711485882038542,
          0.009886471820042075,
          0.06636994568031446,
          0.005952414127508737,
          -0.008931417485073903,
          -0.007890530560655494,
          0.0010944780238253539,
          -0.015755906429468,
          0.012753413803024043,
          -0.007975074639254733,
          0.007725187851822732,
          0.010994101336975154,
          -0.01280182996674395,
          0.015305124457006228,
          0.0024869989925282283,
          0.031375146495285194,
          0.003969136184303692,
          0.007567876150917869,
          0.03320242342455355,
          0.004877550930176691,
          0.01664025673940562,
          0.005393698301257006,
          0.00048704391653536853,
          0.014843422889517587,
          0.024577435949393735,
          0.007207025206802821,
          -0.00431981965696713,
          0.009196303084024846,
          0.018682038963426007,
          -0.033619996757985826,
          0.011409646433592774,
          0.0013870237036789695,
          0.0012510020467393036,
          -0.014236376664257406,
          0.014015919598019094,
          0.01008085222200232,
          0.005135811057970505,
          -0.0023618987972466106,
          -0.0042182703629123405,
          -0.0006650802358595606,
          0.009502946072785984,
          0.009406579569740517,
          0.008320646062218388,
          0.0461244022522086,
          -0.006493533617079974,
          0.03700215097505931,
          0.020434146334569466,
          0.03189426804250976,
          -0.005466823564401368,
          -0.008417563092961544,
          -0.010144640667553058,
          -0.005335797347845083,
          0.025808000927451745,
          -0.0013503027511222781,
          0.009384304643285487,
          0.017025137693140416,
          -0.014981269840884999,
          0.020596865992827566,
          -0.0008162933142006803,
          -0.005892158139371796,
          0.006700830534898877,
          0.04449562716402583,
          -0.02157505426787239,
          0.008064493911636774,
          0.034027147074224696,
          -0.009807111546479546,
          -0.021127351599730382,
          0.02793460569009945,
          0.004725885936104061,
          0.008713484074812254,
          0.02102261611610145,
          0.020859141497174456,
          -0.013627862132041046,
          -0.05628989583010124,
          0.013611050135869659,
          -0.045621137169998466,
          -0.047628384433967566,
          -0.0012784852531594058,
          0.01078862043476769,
          -0.003477407463887263,
          0.008806276931150782,
          0.008625520557216462,
          0.003696854249650437,
          -0.015330725069195854,
          -0.05261015054830049,
          -0.014967951195802002,
          0.00011967857129163943,
          0.015866780658682182,
          0.01083135079767699,
          -0.029212277590927583,
          -0.03946072900232432,
          0.015147175419759335,
          0.006545616332942141,
          0.008617585918521218,
          0.011836563385183593,
          -0.035519502423561486,
          0.02868446802186527,
          -0.006883259969730293,
          0.004380158916214846,
          0.008201839598602401,
          -0.009175814115084134,
          -0.00041015558582463906,
          0.03452092567872236,
          0.0046165565396316,
          0.013299002764504355,
          0.021748983693966127,
          -0.018205786976896357,
          0.00034540888414228424,
          -0.0007275341421662771,
          0.006328230417153322,
          0.0006295391084511092,
          0.019721429774103526,
          0.008486424144906695,
          0.0023917271498325025,
          0.0012743746019605016,
          0.02311333942314632,
          0.060936339855705283,
          0.007713570492595575,
          -0.003469540767269452,
          0.030616854264130956,
          0.011630823730895409,
          0.06317975227612645,
          -0.05055929777072847,
          -0.012234358251785376,
          0.031053965282904238,
          0.0009460039704661151,
          -0.00950264343820589,
          0.005096652781386771,
          0.013180985678543878,
          0.008048293553897398,
          -0.019640737240653326,
          -0.03056766473662596,
          0.016204421576327625,
          0.0011512531259984622,
          0.008360441496265018,
          0.04988545485440572,
          -0.015244794029674987,
          0.021704217039512783,
          0.0022992135090244567,
          0.012925793510337064,
          -0.03297151485734037,
          -0.008901999049856228,
          0.00712055817672886,
          0.017673804415045534,
          -0.03014691696618356,
          -0.026603768766984445,
          0.0031774199397389953,
          -0.004746570002217859,
          -0.0002405177196681094,
          0.005999038316054973,
          0.031540316950638865,
          -0.007573957273946006,
          0.0015260729956166719,
          0.001976918128113621,
          -0.012821259491552807,
          0.0028396183257638776,
          0.04516031892545784,
          -0.008360781724719202,
          -0.005539792506515941,
          0.010316577797295324,
          0.00472508271152783,
          0.015982115526948486,
          -0.00403837974310701,
          0.014751297111593637,
          -0.014806577608314811,
          0.009586807124870868,
          -0.0006961623579247931,
          0.011424733721174495,
          -0.01012670598340753,
          -0.004249096426020101,
          0.004789790010284186,
          0.042673748868535664,
          -0.018205638179366154,
          0.0005977423284794179,
          0.001519061418839634,
          -0.010217535364817865,
          -0.011066751823576889,
          0.002963694269183506,
          0.014063824261935082,
          -0.007454457445168205,
          0.01385374876455538,
          0.023166093894394557,
          -0.023108107401724323,
          0.022420520778390844,
          -0.013219519077289372,
          0,
          0.006177439911591015,
          -0.0054508383728116535,
          0.006747962180190062,
          -0.004663528886960654,
          0.022087758921144906,
          0.015237198760165329,
          -0.014323393733052326,
          0.1511628543103493,
          0.006604138186030451,
          0.008275492549219457,
          0.004226661203101072,
          0.005920239971322128,
          0.008928947590680863,
          0.015973658469871095,
          0.011783357288446147,
          -0.010980003363383891,
          -0.009062362755756415,
          0.0031077140518964773,
          -0.0026384456530978793,
          -0.006070039456248843,
          0,
          -0.01685250335858177,
          -0.023089018887378358,
          0.021281320359908405,
          0.006751403381601794,
          0.011541248223339316,
          0.029043790657007403,
          -0.03142486253213468,
          0.011396078976425984,
          0.005694603927032808,
          0.011216475635504165,
          0.003699221691188014,
          -0.013085802317078414,
          0.010525255356798711,
          0.009747647903790171,
          0.014760873444775145,
          0,
          -0.00032129249419553214,
          0.03041982741572773,
          0.02459072055052189,
          0.005480701533317475,
          -0.000712013444465192,
          0.0006540788029817345,
          0.008346503730241267,
          -0.002951886135619934,
          -0.011436352158684304,
          0.007564362649090479,
          0.014075178206089941,
          0.005604265934778889,
          0.0014147472723760664,
          0.04197603856165677,
          0.01256914422369244,
          0.014213598727082933,
          0.018022149698348686,
          0.013409465719445507,
          0.005645787056120046,
          0.014214053156498513,
          -0.0031802935528286278,
          0.008797309468752842,
          -0.0010599474660698929,
          0.010521411225698697,
          -0.012842465417875907,
          0.05388597873826101,
          -0.009163638823782414,
          0.0024961570346054346,
          -0.004777997348573071,
          -0.007082598583957071,
          -0.00048538907595917805,
          0.0027764675727793378,
          0.010861204201434965,
          0.016575196996944118,
          0.006296804050590486,
          -0.0071327334823879695,
          0.01643061337844793,
          -0.0008545052152721407,
          0.010956571137013253,
          0.00278633481191291,
          0.05422993335347565,
          0.021849102299926027,
          -0.005174451244876886,
          0.004315053309396473,
          -0.0041696502950433045,
          -0.004325151968052952,
          -0.00232336991604756,
          0.018727863324238352,
          -0.002238655759013104,
          0.013326491921246237,
          0.009817424756149457,
          0.011801532908366776,
          0.002658755637149463,
          -0.011980718281317231,
          0.005136725453670864,
          0.004240307176072324,
          0.014714593961529163,
          0.010450052683389333,
          0.00009264668687744836,
          -0.04272516074808593,
          0.01843316149616992,
          -0.012336825012409873,
          0.01450563917119341,
          0.0006489379417609555,
          0.004541310494906403,
          0.019651846008290504,
          0.016601842052047032,
          0.04894756267644507,
          0.05527445378355902,
          -0.026524281342295827,
          -0.020731238420542666,
          0.0059070617818422055,
          -0.0013661514545519806,
          0.010071898535858813,
          0.0033625403251513236,
          -0.0007570669854100946,
          0.024109453354202087,
          0.006075596722570625,
          -0.006670460365968891,
          -0.0020360777559627046,
          0.0052586562654854,
          0.020888858371310763,
          0.015445413881424478,
          0.004636355597104488,
          0.005945837011031372,
          -0.0055370103203311455,
          0.02154004134211074,
          0.06202868399905723,
          0.0032961215385093096,
          0.005712686058485262,
          -0.01040727616358618,
          0.013055025672784751,
          -0.06009941139374098,
          0.014498463612757006,
          0.022964860925722363,
          0.008286368197126042,
          -0.00392725558521821,
          0.0035038543145964594,
          -0.010571954353511694,
          0.022273661109663112,
          -0.01622161168450781,
          0.00902709659448671,
          0.029487176421822504,
          0.015599136518756808,
          0.025860026408745476,
          -0.011522513655238424,
          0.045597098383242204,
          0.07112408374611798,
          0.009018914554975192,
          0.11544535388175275,
          0.007836634618437215,
          0.009553891007392979,
          -0.011730194616690028,
          0.06874026313536157,
          0.05090357192387473,
          -0.010920603918650794,
          -0.006704639788596897,
          0.016314677268457044,
          -0.0018561025334016144,
          0.0061302622633563186,
          0.014104716180058534,
          -0.005605100366423891,
          -0.015114125070118755,
          -0.03049104240220312,
          -0.059674489739395466,
          0.005484470044165407,
          0.0015023802812206,
          -0.0013930320499663566,
          -0.0004284774947971368,
          -0.007971857208338835,
          -0.03405943011293317,
          0.01898241193088037,
          0.007723296758500858,
          0.004928727501078357,
          0.008689271564014668,
          0.012002027365839102,
          0.010921339445097282,
          -0.0023166370907230925,
          0.026336321396962632,
          -0.0003596518635825799,
          0.020706464738618317,
          0.011041831208376532,
          0.005456248247426917,
          -0.002868043294625644,
          0.012949304347010832,
          0.012175571074130444,
          0.043360479597399526,
          -0.003601644253070194,
          0.016762897609190582,
          0.001955312030470117,
          0.016490758134465086,
          -0.00012419798017191248,
          0.014817612720483904,
          -0.006342590939295845,
          0.02326711538298537,
          -0.005283857455005274,
          0.021848590887476517,
          -0.013636602144899035,
          -0.006211190480369271,
          0.05157111493676657,
          -0.005424628962242454,
          -0.0466737663552334,
          0.006523434820154444,
          0.025492821521834335,
          -0.0060881874438972385,
          0.005083207645753523,
          0.008295793866500775,
          -0.006217436211315558,
          -0.00881058749324539,
          0.0022517437547527855,
          -0.0037233689355173063,
          -0.0004535765327132234,
          -0.01591291039864097,
          0.012745606590046558,
          -0.007855240580300385,
          0.027138781513827207,
          0.09569617092749653,
          0.0035727800112790816,
          0.006098651129829988,
          0.007125071788879675,
          0.013386175354636974,
          -0.07659576532760837,
          0.006303083903995919,
          -0.014272956901662737,
          0.01528660981107347,
          -0.05626890337761603,
          0.0242101235211479,
          0.011073430107810867,
          0.01636744758190194,
          0.005157084423113775,
          -0.009385955490084754,
          0.019984099580104633,
          -0.008930289136032237,
          0.0032320926883471833,
          -0.01831534026108299,
          -0.0011804637305355724,
          0.015197280455494101,
          0.024360464048030172,
          0.014802566566958109,
          0.0027194713038800372,
          -0.032924115836564835,
          0.013670332036087016,
          0.0012259406903004132,
          0.040621957566502054,
          -0.004995517985872485,
          0.005778384631308278,
          -0.0008357464855569123,
          0.0011111402906785134,
          0.003653428777749882,
          -0.01128916982742899,
          0.01200833667639447,
          0.03691249447078713,
          0.003753626308714458,
          0.026440012175331984,
          -0.0016252541286326202,
          0.007069616586434992,
          -0.0011466400088392848,
          -0.007271838208630456,
          0,
          0.0032059559419285472,
          0.01631591116900158,
          -0.012418739635781892,
          0.017065118634771743,
          -0.021045652985926016,
          0.0029364207093405463,
          0.04618944333170203,
          -0.0017027100141627281,
          0.014399865235605066,
          -0.007618496422264817,
          -0.0038759522089812045,
          0.009152557890293962,
          0.017757967298367875,
          -0.0015624024034906114,
          0.006201120728221019,
          -0.010402415496657802,
          -0.03901919580487577,
          0.000839940826824954,
          0.08605510696782456,
          -0.013023286312200047,
          0.008739798651234015,
          0.0349377057051952,
          0.0033825525462224115,
          0.0077619793458575705,
          0.006317102674075667,
          0.021718410234231416,
          0.004715389700238837,
          -0.003463188430195191,
          0.06546502948849782,
          0.01717108637492816,
          -0.008901560499112067,
          -0.0018761261140365474,
          0.010229132825015025,
          0.003505437007439207,
          -0.005785930621804225,
          -0.05155738791919099,
          0.00005853298293374817,
          -0.00034941399680629075,
          -0.0025947661246180603,
          0.01003579854110663,
          0.008725172416428605,
          0.009543766016166267,
          0.023647133386815424,
          0.014877239537185004,
          -0.02767658032603631,
          0.0009026762522386123,
          0.01428566571814198,
          0.0038420984212730923,
          0.01830161074616429,
          0.0064146338948206285,
          -0.016691977385039556,
          -0.046887056081473255,
          0.013263692913996759,
          -0.0004667715171818916,
          -0.031677503468827174,
          0.017466350289066124,
          0.034747093646074034,
          -0.0019793245155111847,
          -0.0065677561117740615,
          0.023237253699079672,
          0.01683737563663264,
          -0.01338742104717852,
          -0.02326099003309991,
          -0.010687149544487011,
          0.003246136849487443,
          0.009133146870979433,
          -0.0011436820366149862,
          -0.00289928428996138,
          -0.034392412451473085,
          0.027625704331556842,
          -0.023767037104058062,
          0.012387604015527097,
          -0.0022183917491962056,
          0.008408873794719067,
          0.006111849302694188,
          0.008514182218900762,
          -0.0007433740015094325,
          0.04311929206215717,
          -0.007841215014907088,
          -0.0005947206996265726,
          0.02370989748231857,
          0.07150612153727293,
          -0.007098065210180649,
          0.06430005032307595,
          0.006278514825697509,
          -0.02554278482716384,
          -0.005395490958672697,
          0.0036524044074838402,
          0.008761439526189276,
          -0.02546020422353101,
          -0.0032147776761560737,
          -0.0212121109535232,
          0.004807700635100249,
          0.0048397037930321156,
          -0.035528918832529,
          0.0024173339070586363,
          -0.00851203890104498,
          0.014293335101699474,
          0.01822607297057399,
          0.0012678578920647403,
          -0.015329766074760297,
          -0.0079271582635452,
          0.0048613693430492495,
          -0.006576090525748959,
          0.005572472726798393,
          0.026752274088891494,
          0.012625775067586102,
          -0.015819226281117586,
          -0.002649004029305464,
          -0.02026119841755753,
          0.0013025956753127891,
          0.04545696334333609,
          -0.003304757707043547,
          0.00862610366228073,
          -0.0034782299097033515,
          0.000543388869561892,
          0.003296673814682434,
          0.02344158849111757,
          0.01522595355972646,
          0.014510532890150916,
          -0.0025715942790234506,
          0.014302436685550653,
          0.006573039828607546,
          0.004486995014921301,
          0.016795698924731182,
          0.011224487346525742,
          0.0275053214429269,
          0.0000362790964160124,
          -0.02971674397854349,
          0.0036741865415003674,
          -0.013469769820739365,
          0.06913705122662574,
          -0.07076481682022483,
          -0.02066184938964843,
          0.004859398473076764,
          -0.023006439542069736,
          0.006401186778766151,
          0.026706277639223012,
          -0.002203426346596629,
          -0.008236590074702944,
          0.011741671470031065,
          0.029101761639642138,
          -0.0027027644697734223,
          -0.01031683071458249,
          -0.023163206988337837,
          -0.03881245744720581,
          0.0003523068099770762,
          0.005346485588869085,
          -0.023689344091322815,
          -0.007606503788034373,
          0.048463339811705454,
          0.062263393541109074,
          -0.0027042125453292736,
          0.00930975873268487,
          0.0029508344348709832,
          0.0040193882935943195,
          -0.011454688778803042,
          0.00476337460832891,
          0.0005677915863748213,
          -0.0020960512119609716,
          0.024166774051588527,
          0.0033499023727536267,
          0.0095774886219044,
          -0.00040651336287656083,
          -0.0032650787040823656,
          -0.004557612928795976,
          -0.005411800948949002,
          -0.014764673668070188,
          0.005340798256307789,
          -0.009288540622749149,
          0.0015190905391206792,
          0.03871188079778881,
          0.02199857617754926,
          0.013691882005294772,
          0.005907539031536989,
          0.003993274977625052,
          -0.004646769419267862,
          0.00893271447866814,
          0.005689186034421537,
          -0.008878247701882464,
          -0.010972664079691346,
          0.0007250097629380067,
          0.013267376772296965,
          0.007708132146390541,
          0.002310233902589984,
          0.0053613067264821615,
          -0.004325507880627486,
          0.004895789241710233,
          -0.004927244768968526,
          0.01083957181315518,
          -0.0005826790187654207,
          0.017890251708498565,
          0.018668507605627906,
          0.0010776520011650174,
          0.013433270862974784,
          0.013062788261615608,
          -0.002485702355446357,
          0.02884398121675244,
          -0.027527567151348874,
          0.004853093724233743,
          -0.007817147764703129,
          -0.0030821969259027734,
          -0.009930627098243194,
          -0.026197562633954303,
          0.009360727272917296,
          -0.0007370738888224549,
          -0.024470650918792077,
          0.0033357622853407358,
          0.04087343321887818,
          0.017543833418911272,
          -0.0028168950119045323,
          0.00782178326357884,
          0.00558384227288549,
          0.008661121725709847,
          0.005636353884431329,
          -0.009975117554248954,
          0.0008868410327300361,
          0.003260238303530038,
          0.004341564467557131,
          0.013239710907571253,
          0.015294153550091913,
          -0.026052140740741612,
          0.02544673731326545,
          0.0023668493813707196,
          0.007518830384013171,
          -0.002178978827213035,
          0.0228735386640176,
          -0.00005504189192175782,
          0.0007278187080364206,
          -0.004300062443040881,
          -0.012432513531077083,
          0.0010482020180467967,
          0.00881964801776922,
          0.016986347297667598,
          -0.01718280799917912,
          -0.005068555198052048,
          0.009277065804094166,
          0.024283512300419117,
          -0.009440923611039782,
          0.01298075455885667,
          -0.0009900604016155564,
          0.0018637430292313714,
          -0.0014705609751576368,
          0.009805174287434536,
          -0.006096418936472668,
          0.004660571223411238,
          -0.006616193245047021,
          0.0053039144776163005,
          0.02307272477598612,
          -0.0062075475910281066,
          -0.011055434229814223,
          0.02597808714820767,
          -0.011823869471733806,
          0.02683119292325474,
          0.002893073101519209,
          0.012253965250039498,
          0.029575919571951607,
          -0.003164568995649978,
          -0.006785010426896674,
          0.004485109301612719,
          -0.0016424142791765946,
          -0.011188565759901752,
          -0.012019231210093543,
          0.02458571046629925,
          -0.0013266458953687338,
          0.014171049184540666,
          -0.004092791191752025,
          0.022586582016847483,
          -0.0031180264955108575,
          0.009304659104377371,
          -0.01323541526862748,
          0.023718618447285105,
          0.0026623660933144384,
          0.016056872961779524,
          0.005733156506092437,
          0.02693618585970011,
          -0.009634363994733835,
          0.004895956117441314,
          0.0017358394876465795,
          -0.007739495399834413,
          0.007151810718462294,
          0.014184421325350291,
          0.07666451721044597,
          -0.006472081856723901,
          0.0020376143207909867,
          -0.026390173612774598,
          -0.00014307160215312393,
          -0.03916780200944073,
          0.020529765437807868,
          0.01838481254506941,
          0.025335911208545604,
          0.006345172452439813,
          0.012217565560440638,
          0.002488699706504047,
          -0.01684298389873786,
          0.0073797013287111935,
          0.0010449560293345048,
          -0.013740144165412237,
          -0.01687651546275486,
          -0.0038242976551987936,
          -0.004400153435992684,
          -0.0026104718686320743,
          0.00021801834714643014,
          0.012966991976909797,
          -0.003283369037027326,
          0.016565496140636453,
          0.02304503920930075,
          0.015824202652815936,
          0.0477675561014393,
          0.023842721343729455,
          0.015137741061045236,
          0.014541344101159306,
          0.011208757782431284,
          0.007095691781413268,
          0.014804082084059943,
          -0.01210872226990957,
          0.0013192914224920693,
          0.02505887303955443,
          -0.02946859208780975,
          0.00442014749112986,
          -0.0013429134485494845,
          -0.0008163229717110058,
          0.01994756342960722,
          -0.03318726848989049,
          0.0010528322996297464,
          0.008086261547419633,
          0.00654864798593125,
          -0.033392610280851505,
          0.0013397658209509725,
          0.016377457425331317,
          0.008150114349638924,
          -0.0108523524124834,
          0.004589678991502188,
          0.0021763818957602817,
          0.006461709004065771,
          -0.005983538614148109,
          -0.00307272617872058,
          0.01706777710583494,
          -0.014335225619179512,
          0.01784700854299279,
          0.01707110092727409,
          0.05483570344412159,
          -0.004055362332561988,
          0.015200922911170282,
          0.006633925821827969,
          0.012178619756427604,
          -0.03420751185097133,
          0.012079325953863558,
          -0.004647402272633418,
          -0.06551187389193136,
          0.005343435725215183,
          -0.0019983571547972693,
          0.0244441651103417,
          -0.00530229634147711,
          0.011047282219559744,
          -0.0016322751465993816,
          0.019249914510413527,
          0.007253854194763547,
          0.012937151227678571,
          0.01069130767891209,
          -0.0009240096355466331,
          -0.008279279025077564,
          -0.0023396042158018867,
          0.022058802260453536,
          0.007765133661208276,
          -0.022761961418243496,
          0.01719940653491558,
          -0.013821078200940888,
          0.004331753235250537,
          0.014627019293517972,
          0.02912171153018352,
          0.027714320591517856,
          0.0124465730047696,
          -0.0015511150761923283,
          0.051593877754551286,
          0.016527448381696428,
          0.039497320158085984,
          0.01272533209709638,
          -0.07299530918210194,
          -0.016658981961301566,
          -0.0145745871451921,
          -0.0017986022839699015,
          0.022324370506052293,
          -0.013837130922429722,
          0.006021792432903162,
          -0.007262244776653524,
          -0.008022473330517026,
          -0.004880672995315529,
          0.005783207088925399,
          -0.0024038537549282133,
          -0.0019059367688349141,
          0.02991296275105241,
          0.008379867135583188,
          0,
          -0.010987716350214451,
          -0.0026238987960646625,
          0.0158199788673131,
          -0.003497264899913257,
          -0.0010465289730996682,
          0.006447536330864359,
          0.02565353601836572,
          0.03163132868670903,
          0.0003725520583412402,
          -0.003907868434528137,
          -0.0012548449280672012,
          0.000841596316932575,
          0.0031509771077732297,
          -0.002799105609151813,
          0.0005502848689854578,
          0.02120575711111566,
          0.017297618183976324,
          0.0024263325441471867,
          -0.0026971175530601035,
          -0.009910148284599275,
          0.0014133445684652616,
          -0.0147437886379295,
          -0.0007521796784091149,
          -0.0009859288153068863,
          0.0075503024327015006,
          -0.008216533199895754,
          -0.00042026870903863104,
          0.0005933302706103614,
          0.011850651026332863,
          0.0028243573363191895,
          -0.00041460317304672917,
          0.014155845875822654,
          0.014837135785437714,
          0.001457256396273431,
          -0.019196108320979375,
          0.024389076627368278,
          0.0009558754787737302,
          0.004088084001075313,
          0.0024344150309822277,
          0.0037732432583566554,
          0.00005042891524708629,
          0.04667073629857191,
          0.003699215481684548,
          -0.007329414006459415,
          -0.009445123370614723,
          -0.0008800909636235037,
          0.013803387635860616,
          -0.013407222352735395,
          0.009997500240361504,
          0.03268302315994125,
          0.016339827183415458,
          0.01979357396150015,
          0.020584780599432997,
          0.019189742253970916,
          -0.009933731813421238,
          -0.027121025049999924,
          0.002084038347842609,
          0.0029440680224607145,
          0.015977450741317456,
          0.015484591559001785,
          -0.05607916593435784,
          0.00508492071980705,
          -0.040540576711253086,
          -0.0102010111548203,
          -0.022182115042491516,
          0.017717221499321575,
          0.01304879462826905,
          0.007767444212518664,
          0.0107939572038756,
          -0.05876729690883767,
          -0.03203567500905861,
          -0.021736285684076546,
          0.005672584599566534,
          -0.00897988514496946,
          -0.006347004602361672,
          -0.024811787891542265,
          -0.014074047651228796,
          0.009195393395034477,
          -0.015317831685690586,
          -0.017205223228162068,
          0.011480462084719981,
          0.028440596437791822,
          0.026562118417676778,
          0.017040349232390554,
          0.019099776315168678,
          -0.04761135857289187,
          0.02533705581100667,
          -0.007210728013899952,
          -0.005951166966946183,
          -0.016135626324152542,
          0.009767936222389166,
          -0.0032985873566359243,
          -0.019924766138980265,
          0.005899753529179275,
          0.0005503553225927968,
          0.005056231473659643,
          -0.012962994523172122,
          0.004264719345990349,
          -0.0007075518603352177,
          -0.01381482087108506,
          0.0040554654673330415,
          0,
          -0.00996053992858024,
          -0.007571914314695202,
          -0.0006279578500510193,
          -0.00869328125199168,
          -0.003868720038080784,
          -0.007465549487675376,
          -0.00492874936308226,
          0.006503450260550266,
          0.01299712887601553,
          -0.0005268824616977654,
          0.024978654198731874,
          -0.0041045003083546895,
          0.07529532094458975,
          0.0337672874809721,
          0.027468541268077625,
          -0.012700369071658446,
          0.0034496362038769395,
          -0.010054193753451826,
          0.001385073262089253,
          -0.010403111152706616,
          -0.027251206254898314,
          0.010942890291368017,
          0.04574696718221819,
          -0.0025841270663862948,
          -0.006879284453113714,
          -0.05483725035672436,
          -0.005358658981398791,
          -0.021162415044642915,
          0.009228362304648472,
          -0.016532829714001853,
          -0.007990941400633998,
          -0.011539598686709932,
          0.012808956838488695,
          0.009348515895519419,
          0.03804494874491459,
          -0.002835863522079808,
          -0.030743624838137255,
          -0.03634438427757881,
          -0.01431660571955245,
          0.0059386480557897265,
          -0.0010427369398331955,
          -0.004669405971703981,
          -0.002730369739056738,
          0.011011513018691252,
          0.06649999618530274,
          -0.009931334216334887,
          -0.02445785145696683,
          -0.0015615597655950766,
          0.008489403918243911,
          -0.0016297634912586486,
          0.01850347960322691,
          0.002927844228905596,
          0.006387208210339091,
          -0.004149359453469437,
          0.0841840861394256,
          0.08406821198907082,
          0.029380375974496307,
          -0.00934986495938994,
          -0.008097015280610562,
          -0.009699405547431638,
          0.02369630562428774,
          0.0055255568563780865,
          0.004222989027912694,
          0.013476439222361533,
          0.009833324308967328,
          0.013794676470202574,
          0.0013881314397837503,
          0.0008571079799107143,
          -0.0006767699130752464,
          0.006892676847444237,
          0.17883805012631154,
          0.004149713894812437,
          0.004504084595839125,
          0.010830467915976177,
          0.0012061634360000808,
          0.008711245244419661,
          0.00304211699635134,
          0.01055090590402191,
          -0.08446166346131262,
          0.009456567223723554,
          -0.005116387676287253,
          -0.010356114399068857,
          0.01637840677408665,
          -0.0036649054149826324,
          -0.004361723556145593,
          -0.005660788789161464,
          0.004846534952446727,
          -0.008772991133239058,
          -0.003044051494773384,
          -0.02324514756365211,
          -0.014897306915249056,
          0.005488898714280427,
          -0.003087338663748661,
          0.009088345312871756,
          -0.006405213250975328,
          -0.020359032000248523,
          0.04550048469603488,
          0.003334717804238344,
          -0.004779435408214884,
          0.01132074351326048,
          -0.009458240817720663,
          0.019335486407128746,
          -0.2631578947368421,
          0.0005239150795910244,
          0.027985091722204997,
          0.030657525449785648,
          0.03664018540125205,
          -0.010685733898093363,
          0.004045405315130695,
          -0.0015280162874411595,
          0.019020448038704063,
          -0.0024602534641502694,
          0.010884198121567967,
          0.015946965080435853,
          0.013027237812640396,
          0.008752639253052068,
          0.019982429273553995,
          -0.004174371366185044,
          0.013642292419920682,
          -0.002775825425756134,
          0.00378302823773821,
          -0.014908646789545198,
          -0.11634711359060021,
          0.001521480185659194,
          0.004592418103081573,
          0.014659631277617793,
          0.002568636644934168,
          0.00983722479988532,
          0.012641353704479037,
          -0.00057452147839937,
          -0.006122407459077381,
          0.016834453986189896,
          0.014001179466275021,
          -0.01584905948279039,
          0.026849186992669527,
          -0.000828222127950874,
          0.005896815968066765,
          0.01175490203538691,
          0.02386247826908011,
          0.006252298472122245,
          0.011143388249875206,
          -0.0070733307266505315,
          -0.004356341522334727,
          -0.021267132561253992,
          0.00020241565827603178,
          0.030699540621999064,
          -0.008886255763514808,
          0.00874795703237517,
          -0.02217590003164815,
          0.004834960282437695,
          0.026604919613367545,
          0.0287671916608041,
          0.02374876321806499,
          -0.009759705256119432,
          -0.02672905113495633,
          0.012099143816273295,
          0.0017174113700995867,
          0.005374072990464658,
          -0.0027417586253258826,
          -0.01396392934309206,
          -0.000902057940730025,
          0.02402711913813635,
          -0.001105418835924354,
          0.002073917957255541,
          0.00037289882843192346,
          -0.040277918357278966,
          -0.08737181396206165,
          0.009406314097338858,
          0.04047246777766655,
          -0.0060446281763771375,
          0.02031120281331458,
          -0.00593623818755748,
          0.010054146277852748,
          0.0004556315104493579,
          0.004541557650436897,
          0.01164996767687416,
          -0.0004151195026356882,
          0.012642570739578456,
          -0.000039536797742720476,
          -0.017515798937705312,
          0.003508807622898392,
          -0.021463005789940894,
          -0.0006084576730606712,
          0.030803717523093157,
          -0.0009150619144575361,
          -0.003944640343740064,
          0.012381631531551866,
          0.0014820643151745591,
          0.004502553328061679,
          -0.041032048586059765,
          -0.005048882175684574,
          0.009104304563031303,
          0.021104359460002987,
          0.03348144494219072,
          -0.008026216276519067,
          -0.0006504943260588098,
          -0.01100916419804999,
          0.0007552562531453003,
          -0.034582409309748874,
          0.011020217324816582,
          0.0001558985517532045,
          -0.013149728993611562,
          -0.006136556063074566,
          0.028906580078092253,
          -0.004725452091855922,
          0.025006643782302905,
          0.0242307369525616,
          -0.016158300007506118,
          0.028897411457281683,
          0.009022791354314254,
          0.0039802361254953345,
          0.00022542565858123348,
          0.009263917357063193,
          0.007019671799810645,
          -0.008284556682716257,
          -0.029952059056789816,
          -0.01157606109222634,
          -0.019388862669954317,
          -0.0048088745831566864,
          -0.0007018243291580378,
          0.026983564470978064,
          -0.016933177124926372,
          0.007569585708358702,
          0.014419157596239908,
          0.013788737975962985,
          -0.015179689248765322,
          0.01064536572659069,
          -0.01019914899914574,
          0.03397631024443581,
          0.004979003298766882,
          0.010119712762445287,
          0.019379844579182223,
          0.00392526107364988,
          -0.008084053681660795,
          0.01889475554179757,
          0.002352002718685733,
          0.15701037361157785,
          0.012684619631864702,
          -0.0024839524925435704,
          0.059290963277708435,
          0.008045785097158491,
          0.02780131259657926,
          -0.04046859430746845,
          0.011671888199685919,
          -0.060168717348724476,
          -0.0009013275025827425,
          0.023555091558600562,
          0.0033669614022482307,
          -0.004328049062229469,
          -0.014393713560767294,
          0.025650689423493838,
          0.006276082862771082,
          0.008334633552967416,
          0.023192703540146117,
          0.01701809370282126,
          -0.0035317707316866623,
          0.02183321250307421,
          0.016500391666005112,
          -0.0014659621952715968,
          0.007522776265080782,
          -0.018070099686306056,
          -0.0025861957187820104,
          0.049737404548030995,
          0.0037154827100467666,
          -0.0067930897694413895,
          -0.003514008454164766,
          -0.03547149565442521,
          0.012926104792279597,
          0.008176140380790833,
          -0.020838547609094014,
          0.011564048064078685,
          0.015373255146046708,
          0.01456849665882959,
          0.018670812033584915,
          -0.02358136364775977,
          0.0068770259310689434,
          0.03393014597993352,
          0.009358653612944011,
          0.004939158047434914,
          -0.0027077842755143127,
          0.0018396078585485047,
          -0.0016962838678421443,
          0.04074045314163528,
          -0.0016877379598496836,
          -0.0004624650471951623,
          0.0003354336718073769,
          0.0030209478280939007,
          0.0008763929633334378,
          0.0011751015924484308,
          0.019453055385631073,
          0.020155602381644204,
          0.0016517752330500225,
          -0.01678689031263793,
          0.0012527092952212464,
          -0.0018345665782381316,
          -0.008241864614502806,
          -0.005702622973490572,
          -0.021384947139748336,
          -0.007893595769918618,
          -0.005284447084659128,
          0.007737337667704159,
          -0.01740358399220962,
          0.029108610637450606,
          0.0038198224778931453,
          -0.0007994230048856955,
          0.007128417500467583,
          0.012674438601525775,
          0.03629286513725424,
          -0.003990969128791915,
          -0.002881709368117765,
          -0.017695789920291284,
          -0.000564760910541259,
          0.01153543844741514,
          -0.024459325013437686,
          0.02033294824770677,
          0.009372400058364311,
          0.005201569355783001,
          -0.0035504126562683285,
          0.018278733360725746,
          0.006561727246952217,
          -0.0020720778615625286,
          -0.0017908036147535602,
          -0.010674298318670818,
          0.013864248440540726,
          0.00349037021979779,
          -0.01755398837554917,
          -0.0008833787704677722,
          0.010702560063130246,
          0.0018158038035362314,
          0.008414578465120238,
          -0.0011034869284907397,
          0.0038632623862369987,
          -0.005475391215335197,
          -0.004758329711859498,
          0.009056595136534493,
          0.0010892724776710777,
          0.009860064406115959,
          -0.01747827578540937,
          -0.01396467002470246,
          0.018876840490589162,
          0.01487879121462024,
          0.010280802817537774,
          -0.004324973564041015,
          -0.0061898316935360366,
          -0.006170424471596556,
          0.0019048053526635334,
          0.020123193570504103,
          -0.037730348728096864,
          0.024835776973635995,
          -0.0028092803557059603,
          0.011863184499214743,
          0.015609688329443145,
          -0.009135100384817924,
          0.0006951504457342458,
          -0.008239917438316086,
          -0.01598092667385453,
          -0.0049636227977419775,
          0.014895510166475327,
          0.036638617849483544,
          -0.003409742414360084,
          -0.04103279278752698,
          0.0017046175849542691,
          -0.006267002535143373,
          0.04821325896176186,
          0.004808859811660343,
          0.009236113190831848,
          0.009272990076303155,
          0.006050254346689587,
          0.009672153325817362,
          0.007581157939262558,
          -0.013409123276219223,
          0.0015652421591938405,
          0.009637625191942842,
          0.01516179021297165,
          -0.01629261602168221,
          0.0063539815225524795,
          0.006409051036335693,
          0.010030872998323344,
          0.008733151929281265,
          -0.007958117691924341,
          -0.018947569119932724,
          -0.008952691504743896,
          0.04608711277370438,
          0.00843716339778726,
          0.003957154181188662,
          0.0319548417286052,
          0.0009988624489900425,
          -0.06881503498253425,
          -0.024951090683491932,
          0.012040727695701026,
          -0.008162905981920265,
          0.010468749274175376,
          -0.009988222490832081,
          -0.002492273238279313,
          -0.003574192095441395,
          -0.003637056271702176,
          0.012599796351877232,
          0.006604439001027127,
          0.024175217400634875,
          0.024921234759689652,
          0.0025957845118613283,
          0.009308074505784835,
          0.007970211329027957,
          -0.0005426060073926058,
          -0.013321610234861852,
          -0.06857227537974422,
          0.004153514433186654,
          0.009577492787953406,
          0.0026203907662382298,
          0.002279614993847496,
          -0.012237320417028894,
          0.00019976305754806464,
          0.0068581623663128265,
          0.017278799879319177,
          -0.0014152073321159208,
          0.012639411056113135,
          -0.012498962170835364,
          -0.014134275618374558,
          0.0073297093179018665,
          0.010775094230446163,
          -0.00039362018955234714,
          0.006768296404582698,
          0.0071815468897867794,
          -0.011488512731691264,
          0.01556135274259561,
          0.014388520541166783,
          0.0034046153441623424,
          0.011273425545473817,
          0.0019911878055270922,
          -0.0031185523995229556,
          0.00721657407131213,
          -0.00011495386719803237,
          0.09872674360156446,
          0.014145823762431104,
          0.0049172475260740095,
          -0.013899893334506239,
          0.005396959970449378,
          0.009552343115363286,
          -0.0026857701311807404,
          -0.020283690482656554,
          0.013050024072484748,
          0.016469568607361658,
          -0.034157850103158575,
          0.0022149598559649836,
          0.007577097888560022,
          -0.007961884725130578,
          0.012266399597641739,
          0.0024046856260607373,
          -0.014896689101868853,
          -0.010684273761535036,
          -0.007784813237390463,
          0.022438210570656064,
          -0.017771359281825515,
          0.0015733592906674058,
          0.00021290830799406804,
          -0.02097794635717479,
          -0.00960434880726811,
          -0.009553587310018517,
          0.0007388861710650522,
          0.011787807658323048,
          0.008745382875383604,
          0.003390414620421866,
          -0.003953053821963949,
          -0.013314540935289335,
          -0.01912041942294289,
          0.00044207454237460533,
          0.006262834249375852,
          0.011281059637549563,
          -0.018230007933438364,
          -0.023342333403295258,
          0.01149064978627626,
          0.008917388153439988,
          -0.03745753253831611,
          0.0070963848329533615,
          0.03527949986756476,
          0.02277399186484494,
          -0.013585309604955569,
          0.013333366030738467,
          0.013300018310546875,
          0.0004491204674210771,
          0.01887255696569875,
          0.0039963440821882594,
          0.024608921443118298,
          -0.010171719370793163,
          0.003843233359349335,
          -0.0023974868080663494,
          0.003025886129053315,
          -0.013050444965025136,
          -0.01130927496608628,
          0.032756285898749696,
          0.005332845637978014,
          -0.008731324214714734,
          -0.006613718819595913,
          -0.010746410938286996,
          -0.017114264712004088,
          0.0057436007000757254,
          0.003843091559141042,
          0.021342972696418803,
          -0.013515130343264969,
          -0.0023799868354353764,
          -0.0018305146920194642,
          0.01731745448694035,
          0.007981529253838207,
          -0.010401635481158857,
          0.004696390109718081,
          -0.013008457379717292,
          0.061438105386923444,
          0.0012396820320570764,
          0.00010363445233226566,
          -0.010341519800010811,
          -0.01020406433528553,
          -0.034111356086173605,
          0.02372595062339227,
          0.008928513531596715,
          -0.006191974231069801,
          0.009090931609783708,
          0.0842884118736184,
          0.0019734048411237846,
          -0.027322403612191633,
          0.013380989149228029,
          0.032942058118921355,
          0.005037221704006727,
          0.028293125786695746,
          -0.0035351728581543168,
          0.014093702101747705,
          0.033880263368729215,
          -0.018277643315155724,
          0.0035746169216261214,
          -0.0016224288812499651,
          -0.007235934770911327,
          0.010054900783433893,
          -0.012046769348501463,
          0.010287992384114144,
          -0.015364130310343586,
          -0.00579022894339583,
          0.00285531618653419,
          -0.007950571979758415,
          0.02273356533856258,
          0.01634597466295334,
          0.009405949256514968,
          0.006390821615333828,
          -0.0009916951833677686,
          0.04168369758782176,
          0.007801932120298613,
          0.006909122482366909,
          -0.00399123449418074,
          -0.013980907426364975,
          0.016078837693063314,
          -0.006990676348758475,
          0.015150205788317854,
          -0.0024343170572207777,
          0.0344560353185143,
          -0.01758015252871625,
          0.007510033938057916,
          -0.002141973505830487,
          0.0022380114593546396,
          -0.014492791127976447,
          -0.011664133423035076,
          0.006839971426299533,
          0.03181932866326265,
          0.004608375478331414,
          -0.0019054587460621865,
          0.0002770674973196731,
          -0.019077142274544625,
          0.0025360879784872025,
          0.02468568813581211,
          -0.04228228028719478,
          0.03248999053235539,
          -0.011389492609060296,
          0.009484488885785772,
          -0.0035911090793022565,
          0.00969919951366886,
          -0.013433745594417585,
          0.012572544731382968,
          0.00007549412400232099,
          0.00876827482386178,
          -0.008149470010346162,
          -0.002292993083567575,
          0.014025185693651491,
          0.0028893877636498306,
          -0.00016380831977583126,
          0.009640103079856554,
          -0.017482878345162507,
          0.029029324170078887,
          -0.00849333475773914,
          0.0035603257112699575,
          -0.018253985610719507,
          -0.03953980636166334,
          0.0282434257815837,
          0.0005593656293009146,
          -0.06586305679925053,
          0.0158582816890048,
          0.003135409321184679,
          0.0028631632676278883,
          -0.003261296510854907,
          0.03479252580056145,
          0.013024573555401136,
          -0.00021214043221832638,
          -0.026189619858601517,
          -0.002096115239530941,
          0.03079688254128428,
          0.011667250153794032,
          0.014784813799749344,
          -0.0013493309127903213,
          0.00873185733581909,
          -0.010366055211650536,
          -0.0007292263669294841,
          0.00904849926655727,
          0.00986158654581336,
          -0.029314278171312803,
          -0.0015482037434708963,
          0.0014147650113539305,
          0.008721062786701357,
          0.00033993893545438634,
          -0.00447735723652302,
          -0.0035860439164078937,
          0.05356580341676743,
          0.018729793704953004,
          0.0026080298973686126,
          0.019854582596295328,
          0.00932257631389924,
          0.009456255714577678,
          0.042787497778210365,
          0.011984659285002133,
          0.016376536592908386,
          0.03224058365352792,
          0.009322579735237894,
          0.014394336585802749,
          -0.008242572364541753,
          0.00391998291015625,
          0.0010059627158353329,
          -0.002942399837342213,
          -0.015388638533871783,
          -0.0036849051725844554,
          -0.016719281969106978,
          -0.006395780645106199,
          0.006413164916982279,
          -0.0015903671615722643,
          0.0034071739467695828,
          0.0037710094722771133,
          0.01694590611968179,
          0.005459752576104526,
          0.005974778516324236,
          0.03597939192070659,
          0.02045231571700703,
          0.011571396216936829,
          -0.004158622876296569,
          0.012393868283038918,
          -0.04127792945598741,
          0.008638461391802764,
          0.0045104619920362365,
          -0.02646455989989461,
          -0.0014268609966841313,
          0.009532652354556647,
          0.0028050368678912475,
          0.008423093776302536,
          0.010293004744697362,
          0.00015678722693165484,
          -0.01047040058324038,
          0.005000767062431497,
          0.03518519516017357,
          -0.014037456620356797,
          -0.01873766250475505,
          -0.0027282232162699547,
          -0.00789268988694255,
          0.008422947625565254,
          0.012728537045747544,
          0.003929269219441016,
          -0.006211875620470649,
          0.0032924717245532238,
          -0.015776400864352128,
          0.014243136719745796,
          -0.05204633297334335,
          -0.011882725549483091,
          0.020192312100935427,
          0.00471611815814357,
          -0.005441099261316407,
          0.016654334067683546,
          -0.004065063190615037,
          -0.028359631539907205,
          0.0014019012701070423,
          0.011687577516606103,
          -0.002292879154879017,
          0.009812509972517196,
          0.0028618028390955644,
          -0.021664769276640197,
          0.005918938079224866,
          -0.018739183128522973,
          -0.019148062134582474,
          -0.0003309606698512634,
          0.0064707156228010895,
          0.0022682985560518207,
          -0.0023250397835181506,
          0.001670840786799803,
          0.00588239419006636,
          -0.0017796532582428496,
          0.0233422029259031,
          0.01994627610903366,
          -0.005552020377685644,
          0.023815309677591805,
          0.07928724805369734,
          0.0074232208481446686,
          -0.008396023367838476,
          -0.0138723609068677,
          0.007822999867443392,
          0.002788079213108803,
          0.00411522633744856,
          0.023262503098547754,
          -0.008696019382805458,
          -0.05779583132124698,
          0.01969469421093715,
          0.010814283184612992,
          0.02030138952391549,
          0.002490137876729249,
          0.04911862501626536,
          0.003257305344499917,
          0.008743503458297644,
          -0.007014885752975909,
          0.04363076127401472,
          -0.002679487403373939,
          0.004773809355189222,
          0.0085359862069634,
          0.0173048634357709,
          0.018103435121733565,
          0.037187301700706304,
          0.0007536869657528783,
          0.021966324768223074,
          0.00640327152963478,
          -0.010977474839797165,
          0.004427115122477214,
          0.014202210701574155,
          0.008833666005925946,
          0.01189446392105066,
          -0.010304179582529787,
          0.016286662875637407,
          -0.00356608936388965,
          0.002759735343992248,
          -0.06338414192127703,
          -0.0005575719400942802,
          0.0013322515043647652,
          0.005942476867447113,
          -0.03726247257274393,
          0.0020904920888818,
          0.01105582928184725,
          0.008221716622742837,
          0.0010418713862135557,
          0.01630341598556806,
          0.012750333720217449,
          0.0199040149773135,
          -0.012386222188272438,
          0.023329619746404413,
          0.038074940780512496,
          -0.003354459666187685,
          0.04853264760732323,
          -0.0168066606689117,
          -0.0008492943693868552,
          0.015594227580727768,
          0.015723974724610363,
          0.024285433072026318,
          0.02446666746886766,
          -0.0003285377297006797,
          -0.009734567123437272,
          -0.003211731799916635,
          -0.0024534690138441097,
          -0.005670540177502395,
          -0.032209207043485,
          0.02201913973266373,
          -0.007724341249095436,
          0.07532111042813991,
          0.010638297872340425,
          0.013532041411112559,
          -0.011831713340708637,
          -0.0223940115194576,
          -0.007282324357545056,
          0.022158292323373643,
          0.008388915544494752,
          0.014131141018127435,
          0.039366773500413746,
          -0.0013048973643439781,
          -0.028255848470031906,
          0.010663205960895596,
          -0.00446734680429756,
          0.001990420909552502,
          -0.016715801369270058,
          -0.01043625990956915,
          -0.005590159770288125,
          0.012947344377911143,
          0.008966333762358404,
          0.005822112296790768,
          0.0071303318667477545,
          0.007108733888013925,
          -0.021034294046925684,
          -0.0002146053723511266,
          -0.030000050862630207,
          -0.020031356632853804,
          -0.0006897898666934706,
          0.07283362837381872,
          -0.03903031782670455,
          0.0015180514819612178,
          0.0075316297777699,
          -0.002348608625742369,
          0.0075210585853234925,
          -0.012529234753637855,
          -0.004708950024940149,
          0.000555877098891946,
          -0.0030857260953129502,
          -0.0054271745342656125,
          0.03172495777403994,
          0.006824642707227347,
          0.0068005504381003275,
          -0.012338699833039314,
          0.00291069813597335,
          0.004225166159002855,
          0.0006581262969845439,
          0.014745288158453324,
          0.001153244725305876,
          0.009265410092904039,
          -0.010583057639364204,
          -0.009785590099083986,
          -0.00778193859944079,
          0.020528828052494934,
          -0.014448676600157863,
          -0.013312756302856969,
          -0.025524978359328036,
          0.002706364447366758,
          0.000924884124868883,
          -0.0006693485746517438,
          -0.0032389083491799323,
          0.0012838294602865918,
          0.0013599475973436897,
          -0.012664716494232944,
          0.024937141931218543,
          0.02029448291215851,
          0.019677934467733735,
          -0.04405413790380434,
          -0.02609852362577687,
          0.01881125883021857,
          -0.0011547159652431787,
          0.006616628938502326,
          0.008628898824287577,
          0.029706498164532517,
          -0.0027820759453787212,
          -0.006635303193306513,
          -0.004415006622562565,
          -0.009792764897974005,
          -0.05075687605154699,
          0.024397354649888278,
          0.009309884821126522,
          0.0316490664952983,
          0.004934049721744734,
          0.006720722846883903,
          0.007796380367561515,
          0.006001779304026712,
          -0.004695059227518207,
          -0.024717994349817002,
          0.019589465849029698,
          -0.008430493645207524,
          0.01674639911138849,
          -0.0033548072076612905,
          0.007587536538341937,
          0.008421044600637336,
          -0.0026277660031027196,
          0.0077805133013857265,
          -0.01934349172458604,
          -0.010707628685933114,
          -0.004489078451314415,
          0.0021646561998077663,
          0.00602590841792621,
          0.014817844078130646,
          -0.0007132098537321203,
          -0.002792247977493916,
          -0.009083087551836446,
          0.015311817456317205,
          0.0080257001946785,
          -0.0006416851186497326,
          -0.018707174712355702,
          0.00018008504053974668,
          0.013724329642974766,
          0.006513412789627414,
          -0.02895329638259662,
          0.015355684401852124,
          0.0014165745768561812,
          -0.003014759209621153,
          -0.005505653193553981,
          -0.01010814047770339,
          0.01539714391430381,
          0.012116374100957084,
          -0.05969151944962242,
          0.031214858368141973,
          -0.01882899729718132,
          0.004142904005111891,
          0.020690523943261478,
          -0.002676085125174064,
          -0.0002101509816984303,
          0.005323783687475262,
          -0.0031510400524376314,
          -0.01454173649089277,
          0.006631898891551286,
          -0.004916203412969586,
          -0.01479680004294368,
          -0.030235311256345612,
          0.0005066202949351663,
          -0.005582969669143595,
          0.02099639039717497,
          -0.02574574256861586,
          -0.0015132434619069676,
          0.009902415868041354,
          0.02193640029683974,
          0.02113378273732614,
          0.04710580204050523,
          0.01810065730456322,
          0.00853193800597194,
          0.005986042800218708,
          0.01545315747313071,
          0.0014932524502929332,
          0.0035925933874986445,
          0.003969349999666192,
          0.005481130064221817,
          0.01035745501817968,
          0.022202695623280116,
          0.018061096351042107,
          -0.0032568109988015477,
          0.0020540942166356363,
          0.020540090885268016,
          0.0018454012059906306,
          0.01851848465934921,
          0.007877764103315253,
          -0.014119885506419003,
          -0.024378318048226197,
          0.01822055871154774,
          0.028023162780437372,
          0.009790373425222744,
          -0.001042247896598703,
          -0.0005583245775629204,
          -0.004442075853744738,
          0.018815502662009424,
          0.011847039634708461,
          0.006499796286176757,
          -0.008014879296267397,
          0.008769144272494348,
          -0.009390951112384848,
          -0.018514392743312142,
          0.014222526608724442,
          0.013826526971146893,
          0.022129587148948145,
          0.005187387923434476,
          -0.017717929779293682,
          -0.017964055186050373,
          -0.004012519039811835,
          0.012387025443134763,
          -0.0092986721392995,
          0.009408133370535714,
          0.020755380163989152,
          -0.013330393749761282,
          0.0011795677704529322,
          -0.0011556826015668663,
          -0.007049612795694454,
          0.0014132873485004109,
          -0.008669229640411825,
          -0.003789239904881535,
          0.04347205637438474,
          0.0013880965137458834,
          -0.017809645088399637,
          -0.010876369227181604,
          -0.012027713260853183,
          0.00630294068994019,
          0.020257846380613224,
          -0.007097753802095075,
          -0.016328975037486548,
          0.06974767775319482,
          0.002756269786827973,
          -0.0030815067997685187,
          0.006069796802253392,
          0.01636605855412263,
          -0.018394335391297048,
          0.008153827373798076,
          0.03978736762118841,
          0.005727277943506143,
          0.00631578947368421,
          0.04788240894037739,
          0.0004699056896173728,
          0.020223436408868714,
          0.005889001817824468,
          -0.01019763569586833,
          0.010046841459199238,
          0.010765568524123588,
          0.022324059091344318,
          -0.008339767840879458,
          -0.06929000075053925,
          -0.004754153976482715,
          -0.0035016494239928585,
          -0.004762449019645916,
          -0.0015287948738036304,
          0.015789772341432966,
          0.0020796843961912587,
          0.01941750857792494,
          0.016859958424816242,
          0.006464450053203099,
          0.0014905622887677764,
          0.0021593755381544033,
          0.02219736088156781,
          0.01084996108437133,
          -0.022669718038020398,
          -0.005286452282065901
         ],
         "xaxis": "x",
         "y": [
          0.0005366821514048437,
          0.0062754737366294,
          0.0022452241949351692,
          0.0021355834053277123,
          0.002206874595741315,
          0.004545209922449001,
          0.0032851336345693927,
          0.008735462693590712,
          -0.0008202032278699645,
          0.001656157236382405,
          0.0039678417424481305,
          0.0008679564309490573,
          0.0018548159740683356,
          -0.0027047359105104585,
          0.0028619943368897727,
          0.0009539256218711323,
          0.0011936616348677265,
          0.0007559147446084546,
          0.0040755470085364065,
          0.0008649614637896708,
          0.00529050550122645,
          -0.0005066643176339647,
          0.007124877716914779,
          0.00838528193693544,
          0.0019250924788029589,
          -0.00688409952099911,
          0.0070442494301442005,
          0.010678497465088532,
          0.007589505064670599,
          0.0005894176989250655,
          0.0071021734001370795,
          0.0017882180575048978,
          0.0042211324793330895,
          0.004167726177534081,
          0.0051476878957072425,
          0.0005232337408152543,
          0.0029163344372295508,
          -0.004209857036471976,
          0.0033596300142372804,
          0.00663122425419882,
          0.0011283680801632001,
          0.005775709470479229,
          0.01026492910026372,
          0.01154345680516805,
          0.0032224139400958696,
          0.0016019787691637366,
          0.007620135200915978,
          0.0034391369349638934,
          0.012542925513720382,
          0.004557175906219624,
          -0.0003828174980972654,
          0.0019450840451242235,
          0.00428833470488954,
          -0.005828209561395681,
          0.004074800061850459,
          0.0019488627950171589,
          0.0024002147255855477,
          0.0022820928258884265,
          0.006147856177369904,
          0.0013305058353391686,
          0.009550401845514478,
          0.0025777514818895453,
          -0.006957460129050075,
          -0.003027815995397476,
          -0.0009513781495943396,
          -0.002060623471376255,
          -0.0008223927979144063,
          0.001961128641910004,
          0.009989402952215898,
          0.005539689764826716,
          0.0032422698427986285,
          0.004585582473026428,
          0.0014621600585515426,
          0.0028527549846874556,
          0.0010127908853849177,
          0.003998153166435314,
          0.0014391774421141368,
          0.00024394753021944604,
          0.0038959240268823803,
          0.003958024348176714,
          0.003399938443167716,
          -0.000999192943724303,
          0.006103097788064227,
          0.001314677805321296,
          -0.000004145221806417521,
          0.005684248131737735,
          0.0006323242982216315,
          0.007362851585006269,
          0.0050989369075056246,
          0.002208593085447852,
          0.009909742234416097,
          0.004349171842951638,
          0.00854893726814604,
          0.0015658402991589604,
          0.010967294222620272,
          0.0074061321117829815,
          0.0014099163584477825,
          0.0036226370207209646,
          0.003067727707301404,
          0.0048301202544556165,
          0.004629604156471234,
          0.0004598833823352688,
          0.009790522998722073,
          0.0015399783666663058,
          0.0022108221612352486,
          0.0014265703773432836,
          0.0006218158516799743,
          0.003087129871586325,
          0.0009486809360756965,
          0.004819707669432072,
          0.005436057135623895,
          0.0016724320610740917,
          0.0035712118231024936,
          0.005043385820551638,
          0.006525042971314621,
          0.0043665923289631925,
          0.005486855075520103,
          0.002367252571262135,
          0.004235873667643331,
          0.003288268566509711,
          0.0018277044676349719,
          0.003694408813521677,
          0.001001114238822376,
          0.007074345208678334,
          0.00042524867170523617,
          0.006207310869097926,
          0.006002380419830311,
          0.003925756316735474,
          0.002289600366351341,
          -0.00007371509693815392,
          -0.00033331617550358406,
          0.0019539461685420534,
          0.0034486574414726023,
          0.003580433335968747,
          0.0015015785743269783,
          0.004999052259523906,
          0.01021620308720611,
          0.004541217140846432,
          0.0006337880038713717,
          0.0026882144087145288,
          0.000584553012832445,
          0.0006267632910146315,
          0.011120447777645037,
          0.005341171118969479,
          0.0022086835240083813,
          0.0017780920001333467,
          -0.006448564907971077,
          0.00046048107799817606,
          -0.0008759316749210599,
          0.0033547001198380166,
          0.0026146810721572322,
          0.0018678355882253972,
          0.009554209683472759,
          -0.0020075718995806735,
          0.005420206138117334,
          0.0010832434876777985,
          -0.00028882458488610485,
          0.003753592505118586,
          -0.0007287870709316024,
          0.004353546351647586,
          0.001132280345370773,
          0.0029100703222455504,
          -0.025569955293054725,
          0.0036868117729378924,
          0.00022879326285807355,
          -0.0037958772398875573,
          0.004262252447751358,
          -0.0022558121509075324,
          -0.0009182592679820578,
          0.0021049527261401413,
          0.007510348211654749,
          0.000828863388754264,
          0.0015810258989229498,
          -0.003865983866506717,
          0.0012949017193084056,
          0.003927776619049472,
          0.004177746025654405,
          0.0024078653101327063,
          0.0013639063257928075,
          0.0011982045458375223,
          0.0015244218138012466,
          0.005734264459022809,
          0.004324030930407952,
          0.006795453799994855,
          0.008751864205431614,
          -0.0013260411479031342,
          0.006595855480924895,
          0.006193669212593456,
          0.0006892791048848657,
          0.010920590636625482,
          0.0012064629626601375,
          0.003103795987235647,
          -0.0022352902181663747,
          0.005607532951056815,
          0.0105555566860418,
          0.004691610701210491,
          -0.0011592514102818363,
          -0.0006728794037010322,
          0.005040832663771366,
          -0.0010636507157363306,
          0.005682288800564594,
          0.008991740478656807,
          -0.0032834960307107086,
          0.004921803632321697,
          0.004303559676036461,
          0.0031367434237478675,
          -0.003832314495305411,
          0.0052024691228835795,
          0.006601819805671871,
          -0.0009620105613489249,
          0.005808429644981461,
          0.011224300070656112,
          0.0018777710904515632,
          0.008570084697013314,
          0.0008318239263148119,
          0.0018852019026081024,
          -0.000813080674940847,
          0.0010588505456450847,
          -0.00576985082086845,
          0.00019228552789063436,
          -0.0018190566218649895,
          0.008015087360596418,
          0.005158278861913945,
          0.002796581838443779,
          -0.001127610485675945,
          0.003292202941917899,
          0.0009119265149236666,
          0.00012017567084249281,
          0.0034126370879599133,
          0.004411273326182907,
          0.0008299121404257703,
          0.0035341917464112305,
          0.0034414230974220694,
          0.00913271150260031,
          0.007791870574204218,
          0.0024519822461637752,
          0.007825766475155704,
          -0.0012641011854945816,
          0.005429122648584028,
          0.0018890111487973593,
          -0.0041859581750989805,
          0.006113069441185948,
          -0.0017161216877912833,
          0.0014612038980121866,
          0.004735555285218684,
          0.002162285007418996,
          0.0007309527128809834,
          0.006890074146696457,
          0.005149193991900225,
          -0.001804673175478222,
          0.0065274153629159,
          0.007398752895406369,
          0.003103335679902508,
          0.005034101103318089,
          0.0016376504172596063,
          0.0021701208846660047,
          0.006158569728460461,
          0.0021786952031372375,
          0.0034278220658024994,
          0.0035261150676458297,
          0.004137754749704514,
          0.0037968065543079743,
          0.0013751229303425871,
          0.007684020386829027,
          0.0029545699386724356,
          -0.0028061797837445335,
          0.0059241110022486,
          0.0016393731367144726,
          0.004521089804481404,
          0.0057917792927486,
          -0.002630733739224511,
          -0.0012538757601568973,
          0.0027691564501096666,
          0.003403696990058047,
          0.00442965491105185,
          0.007273410213510578,
          0.008783950573807986,
          0.005114620819479332,
          -0.00008994464720657458,
          0.008366387111772844,
          0.000163322898010132,
          0.012630136446378004,
          -0.0011462838060307123,
          0.001254195971241323,
          0.00324231939769698,
          0.011755159122824932,
          0.00032396717000043873,
          0.0017339366360389907,
          0.003053746929723211,
          -0.0016225404165435275,
          0.0013024954396528288,
          0.002757726414490569,
          0.0027459287835636115,
          0.006854626766932825,
          0.004557514568562571,
          0.002722473033086481,
          0.0019655659290410687,
          0.0067306553431913385,
          0.0029265442006055076,
          -0.0016940360793344378,
          0.00409548004817506,
          0.003198410334683266,
          0.007573740982280364,
          0.007490087734662421,
          0.0033607314835107926,
          0.0020958864104076436,
          0.004940093132264067,
          -0.002532453905376153,
          0.002544854250492612,
          0.0038080939719808415,
          0.0007433015038207924,
          0.006998525995511373,
          0.0019907818776389585,
          0.006762488017457657,
          -0.0038560235314742397,
          0.0025084251992897877,
          0.0030564007567834284,
          0.0007406090780367469,
          0.010999606314749055,
          0.002373195483278301,
          -0.00302654405060121,
          0.003886295778026516,
          0.005733771907070695,
          -0.0006588564494049431,
          0.003393816439554942,
          0.009965553707179331,
          0.005177636809178987,
          0.004045374582487549,
          0.011263823212895763,
          0.0008208309478232034,
          0.006526820110302922,
          0.0006959484109341774,
          0.002877102912424101,
          0.006269528418141546,
          0.007435040925794945,
          0.0051560624100733254,
          -0.005203079882568018,
          0.004603701658194681,
          0.007763058884673102,
          0.015875995829523204,
          0.005812347976736798,
          0.005678475895622981,
          0.0036924973370512926,
          0.006357312676921523,
          0.0052433588610107384,
          0.0038350178828629455,
          -0.005860717092360246,
          0.0003727528422270421,
          0.0007402756985191439,
          0.000357257676100009,
          0.004241294653637928,
          0.005305639592480427,
          0.005287147908165812,
          0.004958749009088381,
          0.008098795436681405,
          0.005242842003931825,
          0.003862376485137209,
          -0.013861775908670382,
          -0.0011428372139609122,
          0.0021462048549319435,
          0.0008905030996640417,
          0.011767451735352485,
          0.0013230273475215992,
          0.011240061759990039,
          0.006991259725980803,
          0.0023194518383367613,
          -0.0025157360887338442,
          0.0036937382155067255,
          0.005259799220645067,
          0.00854790446657816,
          0.006252025080826729,
          0.0010827478347919528,
          0.006249166572718123,
          0.00363230889836047,
          0.0012324968011266924,
          0.0017937921237833887,
          0.004574860364311761,
          0.0000405729789005882,
          0.003855149671239677,
          0.0019508834493108806,
          0.0009831748522745598,
          0.006745066379268416,
          0.0008992742819286526,
          0.0011018410677656743,
          0.00026737714861202466,
          0.001216510627241929,
          0.0021117069912715003,
          0.0017765022997459634,
          0.010254886171451316,
          0.0010887489415475349,
          0.002258617327075385,
          0.003906578509795311,
          0.0013861078107302305,
          -0.0017696343443987517,
          0.011004178657075925,
          0.0049196820505930106,
          0.00798478596103852,
          0.0026614314959164664,
          0.004115250468476217,
          0.005653496489661791,
          0.004354659191310006,
          0.0015229320582125783,
          0.0009937682342048282,
          0.008032202195718041,
          0.009946467885368404,
          -0.003042202142010564,
          0.00029587234886335745,
          0.0012434848847065472,
          -0.008763199763906881,
          0.002478433730825791,
          0.006516235700746553,
          0.002867022441996936,
          -0.0006614503544180583,
          0.003912900159384836,
          0.001385171660045259,
          0.0043590671689259786,
          0.003866642522297792,
          0.007149913728506485,
          0.011308129869459727,
          0.007680387842042002,
          0.00411135964639775,
          0.0018609300884031565,
          0.000502197646222613,
          0.004545169634182611,
          0.004005134133908961,
          0.005543518991942886,
          0.002757120751622044,
          -0.005233108913480555,
          0.004852763121570347,
          0.003425413731128646,
          0.006369780480920184,
          0.005233629689479435,
          0.0004238159773500838,
          0.0025846269330405125,
          -0.0007129739977941307,
          0.008345842030613893,
          -0.0017857835563598323,
          -0.0007417493297706135,
          0.014403056722245455,
          0.00036414568548487347,
          0.0011523178395395073,
          0.0013090868231575015,
          0.0032581779566503988,
          0.00358880330446526,
          0.003438519454534439,
          0.001426716779800441,
          0.003274640162291176,
          0.0015541673602769146,
          0.0012899119837124218,
          0.008980972558927436,
          0.006777633925836801,
          -0.00048202393076135497,
          0.0029117800234149116,
          0.00029230009927760925,
          0.0010096837726764618,
          0.006525348207997939,
          -0.00025985590517951795,
          0.00016063930290055595,
          0.0028557800602375116,
          0.003995021838030799,
          0.002286245299156775,
          0.005021592257197338,
          0.0000076247701166209936,
          0.0010604823830694943,
          0.005145474915349835,
          0.0006646376228035544,
          0.0015206011425773491,
          0.00430669977244702,
          -0.00038576251544730766,
          0.00005000696471030297,
          0.002109672767001247,
          0.00517493748937109,
          0.004880936963994276,
          0.0005686794581536425,
          0.00033666479264415905,
          0.0036721751297558725,
          0.0011945112222605525,
          0.002268439609322326,
          0.0025710055542716437,
          0.0053281591499932945,
          0.0026452545343690903,
          -0.001343148146258355,
          0.00859107385622604,
          0.0024866439545891406,
          0.007564539453428609,
          0.003386680733794778,
          0.003277185097461166,
          0.008290870862642907,
          0.00286905288656375,
          0.007766962266602784,
          0.0010006544608654466,
          -0.04088169956107246,
          0.0056241607749861755,
          0.0019367386683301069,
          0.0015567021396367675,
          0.00807479565180369,
          0.0016931145622816057,
          0.003916143904353797,
          0.004705952261924939,
          0.0025158200401542152,
          0.0027601716206077653,
          0.00008589286583793321,
          0.0014059662741399137,
          0.004809899469714107,
          0.00332948652045445,
          0.0028201922296944293,
          0.0014946912661972789,
          -0.0007028936468008173,
          0.0003106630536391375,
          -0.0010563409973488591,
          0.0007426597873099738,
          0.002810691264241272,
          0.0008147550827192762,
          0.006876316539997762,
          0.0035987862620996403,
          0.0024269194114390213,
          -0.0010450580457567749,
          0.003835581354937445,
          0.005839480481943271,
          -0.0006928287543135347,
          0.0025519440920715453,
          0.007589681755684474,
          0.006474328247518479,
          0.008189691737060856,
          0.0009177928828512649,
          -0.003029831261741167,
          -0.0005907224669621236,
          0.003053041366284648,
          0.002042320962593547,
          0.0034084093538904736,
          -0.0003787440595694469,
          0.007768737036633111,
          0.010822688043866602,
          0.007963778193831539,
          0.0059881634040827025,
          -0.0023005289230651482,
          0.0022061275503496014,
          0.004046046860711694,
          0.004297214518328707,
          0.005689602390850257,
          -0.002174620903121649,
          -0.000900427236581014,
          0.000543788821484037,
          -0.0022667125308964975,
          -0.0017105920651039885,
          0.005262283118723843,
          0.00014705311201002047,
          -0.0022723677521854224,
          -0.0011695993124619108,
          0.006911001735940114,
          -0.002710821946288966,
          -0.0028969551998665466,
          0.0025577396969136412,
          0.003914523190041985,
          0.0020194071491276833,
          -0.00026240470780197755,
          0.004518859577948953,
          0.010666765953594726,
          -0.0015155705478403503,
          0.001940752258909495,
          0.0012361285293983615,
          -0.0016616275407486114,
          0.004346697262467614,
          0.0025152913927679044,
          0.0067222381598867065,
          0.0026964893566558956,
          0.001569834999898212,
          0.0037917297857705257,
          0.0021769496257716403,
          0.001253267199319008,
          0.011128582306953405,
          -0.0013171000649291331,
          0.0015660728957925807,
          -0.00010439963574931932,
          0.00047292904823836857,
          0.0021823638993049843,
          -0.001183452548094821,
          0.0037279660073102905,
          0.009428056854228373,
          -0.0012161495751532025,
          0.004221059866696075,
          0.0028156701741882117,
          -0.0010886082821174314,
          0.008344903334027376,
          0.0058635259549894014,
          0.0029670005650468956,
          0.0018274190811063962,
          0.010284313991858862,
          0.0018633199242967247,
          0.0008147982832666378,
          0.00003579621806210076,
          0.008970197504999167,
          0.004941191011238744,
          0.0024305191557367767,
          0.0002773941099996069,
          -0.00033811112290926815,
          0.010377267707476101,
          0.0020726446347376637,
          0.004288128435944283,
          0.004789541211972059,
          0.03112131005486135,
          0.004271087788243921,
          0.0064742079271848385,
          0.008366327912279536,
          0.005875998909945002,
          0.0036581070309380515,
          0.0019506704320651491,
          0.010798220078390486,
          0.025243728199694893,
          -0.005176662366448703,
          0.0063363784039155435,
          0.003098893513364065,
          -0.00398578071218042,
          -0.0006653431244033059,
          0.0033137375270099745,
          0.005125519216414243,
          0.0006430981963254645,
          0.0010273745216906605,
          0.006260042470717875,
          0.007467007235069045,
          0.005858022086971948,
          0.006079565747631854,
          0.00373330294599461,
          -0.00012116661442801435,
          0.0028181812617569246,
          0.0027022606823053907,
          -0.0018102385031517065,
          0.0073094559783207225,
          0.0019469667256315493,
          0.00596090944790445,
          0.008225510636561184,
          -0.008246410493215506,
          0.005822079402892644,
          0.004943676624116822,
          0.0013552552072185198,
          -0.003230695927288252,
          0.006365450303076559,
          0.002048787061756152,
          0.0022059263739314106,
          0.007512398580976576,
          0.0005616230166676228,
          0.0028795034292913857,
          0.003789285584509139,
          0.005176546337850085,
          0.0011843170065441444,
          0.0013463458443309095,
          0.00036817429362723253,
          0.0006481091889793955,
          0.005621913326559869,
          0.0015954611906317528,
          0.0006665891203412322,
          0.0031416378499700137,
          0.005684197076746167,
          0.0034837235910269992,
          0.00032786201300000206,
          0.005170559645981732,
          0.0058727747676216024,
          0.0036857996343894195,
          0.001230670687322133,
          0.0015611197863986126,
          0.006245736497128895,
          0.003095220376331198,
          0.00864256346427228,
          0.0035540273958400426,
          0.0010894689900949883,
          0.0032937839919207623,
          0.0030715205148616476,
          0.00023968858366768542,
          0.0030066087682872333,
          -0.000363250383098368,
          -0.004248880885887041,
          -0.00031273169710493987,
          -0.000463185064898064,
          0.0004824913906907313,
          -0.0020467930389400646,
          0.0034614103829873066,
          0.0030574857388538934,
          0.005186810545882992,
          0.0034614594477943017,
          0.0054473187667866685,
          0.0039384322201743704,
          0.007190696935500396,
          0.003946891745970071,
          -0.002155123915142887,
          0.002590284289877509,
          0.001179425332257844,
          -0.001982410841891935,
          0.007243493298238035,
          -0.00014845562335041862,
          -0.000761135633962351,
          0.0023242872804715153,
          -0.0027878140613226132,
          0.003267940250910484,
          0.0044126817335605195,
          0.0008501439438700076,
          0.0004389426187662582,
          0.001876995675896831,
          0.012668056030612773,
          0.004011632354194383,
          0.012846425903786263,
          0.0029652278080434247,
          0.0009307372773602607,
          0.0013877628900443861,
          -0.0017836782533201534,
          -0.003181189220257896,
          0.004859118556293063,
          0.003547397785656714,
          0.0009216440517147428,
          0.00556231975606547,
          0.001888964495288803,
          -0.004539588783414039,
          0.0031580561689144027,
          -0.0016612255156283617,
          0.007139559924580374,
          0.004013435881577321,
          0.005870507790492252,
          0.001499017223125565,
          0.011796140062230565,
          0.0033209560425109252,
          0.003044671756832651,
          -0.0008309694706239434,
          0.005964956610934158,
          0.0018668802388583372,
          0.00501170546513835,
          0.004214693840910888,
          0.004462162565783523,
          0.008469252540012406,
          0.0011899111519896866,
          -0.008268751484643844,
          0.0014595358056476715,
          0.003889776113384036,
          0.003672722443015086,
          0.011704150972637772,
          0.004418503976285626,
          0.0003748335698253724,
          -0.0007660366292193133,
          0.004892208317017532,
          0.0057698209132537315,
          0.0049939849641752465,
          0.006306459023488753,
          0.0029092014589310877,
          -0.0008273916524554337,
          -0.0015916356692016187,
          0.000546178761861138,
          0.00835185281465739,
          0.00230589025831629,
          0.0027857759299391716,
          0.003346870175783445,
          0.006101160491324253,
          0.00812958089991156,
          0.003277221006863451,
          0.0011081939609026703,
          0.000990716938900793,
          0.021018413397875912,
          0.00024762942012179767,
          0.0006629455736161249,
          0.007306262337668623,
          0.0023281629568036033,
          0.00042643764440802867,
          0.004914981212361502,
          0.004090768982801252,
          0.0035473689705899925,
          0.0032373300606386435,
          0.0024722155514096955,
          -0.00002429680825294378,
          0.002715790656102224,
          0.0004329608283727415,
          0.0028669611892487845,
          0.002269845950964966,
          0.002617227312175896,
          -0.008303876749555128,
          0.006544537160319108,
          -0.0012877768345249674,
          0.005036903238429646,
          0.0009920057132537519,
          0.005730678170947412,
          0.00510263326945648,
          0.002341543268999491,
          0.006273571805907041,
          0.0038143492964473613,
          0.00040555652554824517,
          -0.00012409354815146045,
          0.0008459253521038157,
          -0.004857028555629361,
          0.004916511860263206,
          0.007541325459352488,
          0.010622259586440974,
          -0.007373838350393125,
          0.00018504831744992067,
          0.0012077219632916636,
          0.006856713590403518,
          -0.012373183933005405,
          0.0048989686724422166,
          0.008045498756980962,
          0.0016418278870173886,
          0.003932541118819688,
          -0.0009068991870757048,
          0.0015494129937168033,
          0.0021456723542818135,
          0.0006100724802249324,
          0.0007716046095236351,
          -0.008045837204388673,
          -0.0018984637329736431,
          0.0058032674635848935,
          -0.0011325287802479989,
          0.006549772423033229,
          0.0030449737626824236,
          0.0017212323870351987,
          0.0022838922236806947,
          0.004423456052238595,
          0.0015080395346900866,
          0.0036840551603286587,
          0.0006438795451169099,
          0.001195188582562401,
          -0.00014058506343445076,
          0.0030796586431640627,
          0.00008999674855075801,
          -0.00004741747863296064,
          0.0013544021201848389,
          0.0028073493636985303,
          -0.01833553459011461,
          0.010845378970347042,
          0.007394110134816501,
          0.00303987471739825,
          0.00008115726269147805,
          0.002706833475828452,
          0.0023129779896937652,
          0.0017913650108728474,
          0.0011645434501387775,
          0.003975316414969565,
          -0.0028843953531745292,
          0.005029879164958451,
          -0.0037255740926684933,
          0.006559735721367255,
          0.003490280395355594,
          0.010815103770063672,
          0.003934107693064515,
          0.0021460053052819172,
          0.005479494011964514,
          0.0021106487871584423,
          0.002516829946392407,
          0.0018336498519944677,
          0.0015133260549440308,
          0.0049827299754467425,
          0.007247353949280055,
          0.0006120715278006839,
          -0.0023763232542889923,
          0.011928166088707226,
          0.003603238826043187,
          0.0007950767233871892,
          0.002466486112300048,
          0.00399584006616599,
          0.02744236287261337,
          0.003754981297431348,
          -0.004387562415491986,
          0.020372085726124756,
          0.003760105684924242,
          0.0029865970194890012,
          0.005390624227783525,
          -0.0017495184747877701,
          0.0013029284073820535,
          0.004320141710418279,
          0.0019479487200355639,
          0.0020964803988847147,
          0.0012837904656167187,
          0.00779853276955228,
          0.004928249457062883,
          0.012169200306859862,
          0.002394791888423675,
          0.00012533250788754335,
          0.0018639640954965508,
          0.0017742466528841705,
          0.0034946976376295513,
          -0.0014189348406383195,
          0.0025269019051079034,
          -0.00002751291620478602,
          0.0032486411627241085,
          -0.001356599595674468,
          -0.005171814668102237,
          0.004781596836032964,
          0.005958098274769119,
          0.005745999833656701,
          0.0016001917224806594,
          -0.0008018676588421592,
          0.0009173680061355105,
          0.006547509673926755,
          0.0018052649528209619,
          0.0024175497754205244,
          0.0005805169269029187,
          -0.00018110773890217535,
          0.002490697113940288,
          0.0026151650422583383,
          0.0023612232388156573,
          0.0060936630841862405,
          0.002299644238865417,
          0.0031966469819893484,
          0.0019502226581385451,
          0.0021846720688770693,
          0.0013301394123942378,
          -0.0018419072474140652,
          0.0005183015754366971,
          0.006443367232130126,
          0.009707872165005238,
          0.0005320050590763015,
          0.0035478643789605413,
          0.0016175195161005629,
          0.0042865156422816075,
          0.0023516460511248116,
          0.0004809475937591623,
          0.005742346667543641,
          0.0039045818903720164,
          0.009381853094392989,
          0.007519101604358536,
          -0.00007808217068666634,
          -0.0019659554292406067,
          0.011986205467097888,
          0.006313875207429764,
          0.00045156220974168493,
          0.006313431961376126,
          0.003264572272607791,
          -0.0013841653944263177,
          0.0069132693384253985,
          0.008137390357281837,
          0.0029711019948226447,
          0.005908298027833547,
          -0.00014030041954266048,
          0.0016635542045403406,
          -0.002165029457921186,
          0.0036405470776045834,
          0.0022570249119093777,
          0.0012541007248675906,
          0.0019383283215272384,
          0.007865025144964788,
          -0.0009469218717182981,
          -0.006019170397780826,
          0.0011422630977866999,
          0.004448318196942358,
          0.002704983389553439,
          0.002366872536563258,
          0.003634011812265081,
          0.0027195300627033125,
          -0.0011776659417339075,
          0.003282019283535831,
          0.0032164263070930676,
          0.00607428220010503,
          0.0014228013825793862,
          0.004673596919765044,
          0.0009036058241594369,
          0.005183315627745599,
          0.0023502140909017477,
          -0.0020246894872846255,
          0.010367016896803027,
          0.0029247196152711874,
          0.00017713211707215404,
          0.0015329522933362205,
          -0.001083045046001041,
          -0.00012294661846240507,
          0.0028634940856689384,
          0.007816388607906066,
          0.007312750256481149,
          0.0033070186816106517,
          0.0010722785104211319,
          0.00487423126144132,
          0.006821179817350087,
          0.005357433440432546,
          0.007307940423711801,
          -0.0009262662888722129,
          0.001949961257263877,
          0.003106937638252538,
          0.0012156473564916004,
          0.003934711584568595,
          0.007746440980303915,
          0.0011988344086836245,
          0.009573065801599223,
          0.0035283932514224015,
          0.0028556518016978893,
          0.002547136863304267,
          0.006342192613612241,
          0.01006086554709229,
          0.0039955573673909894,
          0.004187601907293115,
          -0.0018897416723327454,
          0.002033308801747069,
          0.0026789622316433226,
          0.0002733420769123751,
          0.006015591574518808,
          0.004353954506398083,
          0.005941030767452171,
          -0.0008783400461475632,
          0.005484936240764848,
          0.0037964276127460117,
          -0.0017982599695634538,
          0.0060378776243578125,
          -0.0001581693231154091,
          0.005305508524363678,
          0.005115570618186405,
          0.008274274460878361,
          0.001993966714622819,
          0.0013365851815864138,
          0.008127672822914656,
          0.005879136621393166,
          -0.006941902586270421,
          0.0011680853993288332,
          0.008171487677393896,
          0.0006276233362567107,
          0.00135223556761771,
          0.0005672416406099501,
          0.0020275593741823084,
          0.005622899118690461,
          0.004246822934570571,
          0.0009543247052986037,
          0.0008658931715417317,
          -0.0021251516312078556,
          0.005303912820932566,
          0.002210319753834289,
          0.0076522108869298,
          -0.0013422942217362066,
          0.006637161475531561,
          0.008069291638673148,
          0.008788546265291908,
          0.0005949447113851036,
          0.004952739698017794,
          0.0025177651722382843,
          0.0026466017844442025,
          0.004507619896406967,
          0.004853300710700559,
          0.002351459851325066,
          0.002464690469141717,
          -0.00021394938706664757,
          0.00511156406785096,
          -0.004611005703407001,
          0.0022378322454520427,
          0.0018157304153156306,
          -0.0003455576600147059,
          0.002006218671658788,
          0.007076945948977176,
          0.0012889965711246343,
          -0.00011124599747269759,
          0.002773676752115206,
          0.003555428332955579,
          -0.0037051365420829874,
          0.004737109864876521,
          -0.0022959007701702228,
          0.003929969553522539,
          0.004243838811031242,
          -0.005481625612537011,
          0.0026694772788729004,
          0.004866773301394844,
          0.0054739307858902575,
          0.0038524459836862257,
          0.003603904968286664,
          0.002540645067459435,
          0.007432927612277318,
          -0.00011685961241730825,
          0.00870576751678298,
          0.004654326546125964,
          0.0011597600519900886,
          0.009468881250428496,
          0.0051350785147401545,
          0.005161406203751884,
          0.001711119551400908,
          -0.001231248116697392,
          0.001616780693589781,
          0.0022350522084603752,
          -0.007226995516349255,
          0.0020352714420696083,
          -0.004501179292213275,
          0.0016777045096984522,
          0.002362258521111049,
          0.0005478897623075185,
          -0.0034542347267382256,
          0.004494571038788808,
          0.00429245820433477,
          -0.001331306953092637,
          0.003993394826640906,
          0.0015574195612175212,
          0.003982211302181737,
          -0.0006448444046714963,
          -0.00009176550452422161,
          0.0064838298323485755,
          0.0018272070391573414,
          0.005410372829240062,
          -0.0032474232261665015,
          -0.0014479796900020436,
          0.003268216611217678,
          0.004459327385464618,
          0.008118717284634758,
          -0.006748963110617345,
          0.006213865627555992,
          0.0018042761514269756,
          0.004508799165382604,
          -0.0007688578354745901,
          0.004117530723768248,
          0.004058639551107857,
          0.002347025640304534,
          0.0022049444924112094,
          -0.0032281605124114265,
          0.0018361029615114322,
          0.003957441229620384,
          -0.0013734221824158177,
          0.005680433065762602,
          -0.0008280078337195573,
          0.0034986857133904037,
          0.0006649576474260788,
          0.0028286103002087004,
          0.0000768794321801547,
          0.003830622384995541,
          -0.0054252318056423054,
          -0.0005642604490904701,
          0.0023817647717283563,
          -0.004344298470785823,
          0.0026621083732688566,
          0.0023072530363452692,
          0.0019003328050148927,
          -0.0010128807609596224,
          0.0014254695430985787,
          0.005304735984602127,
          -0.0000939410874351565,
          -0.0021065987396973185,
          0.002141975650083894,
          0.0038625603313452994,
          0.0008962845321354718,
          0.004627963555031367,
          0.0050465799223590735,
          0.0015601544588792482,
          0.004420593764379199,
          0.0003701463203957256,
          0.006274390006222541,
          0.00358608922421938,
          0.004081050040182332,
          0.0038771559413429135,
          0.0072082846260233535,
          0.0054304189044312445,
          0.001993931858984166,
          0.006694980079875346,
          0.0020316454557455232,
          -0.004111856202754727,
          -0.0003202936678761148,
          0.008875247631481398,
          0.004618368801436901,
          0.0017672337020957496,
          0.00513082948050636,
          0.005302682439132289,
          -0.00033821039322989854,
          0.004089392863036778,
          0.015499487657969047,
          0.007835915628968015,
          -0.018594349132828425,
          0.006159940979273415,
          0.003427381850878597,
          0.004796782341397188,
          0.0001436592457624286,
          -0.0013388653264242434,
          0.0017740154613387071,
          0.008133689823378698,
          0.007211624557743546,
          0.0008346114890261935,
          0.004666860866845368,
          0.0011370269941069489,
          0.003243850656971081,
          0.003069314179650562,
          0.0016223443497383472,
          -0.0001919523254687583,
          0.003071456106895243,
          0.002441739552554334,
          0.0012436678619555108,
          -0.0001280709896553378,
          -0.0007992101009055563,
          0.005387857612910829,
          0.0063214702876392415,
          0.006553468414827124,
          0.002986481518046924,
          0.0010577396031383746,
          0.002761494316732782,
          0.00411550102832009,
          0.006135556769928996,
          0.0008806944115696824,
          -0.0024474322353839617,
          0.004090544020386444,
          -0.00030323318370628627,
          -0.0008411031586231243,
          0.004595628776671856,
          0.0036365070108975717,
          0.0012080697314054145,
          0.0018426785619217179,
          0.0029196084025917,
          0.007333497651475174,
          -0.0019097338978555922,
          0.004259953931660343,
          0.001697052664762999,
          0.0099570724929548,
          0.0003646776810762864,
          0.005993532229356169,
          0.006276110491492848,
          0.0010811869382560957,
          0.009342620429929227,
          0.001325335502263436,
          0.005105755369299136,
          0.0015560471061977776,
          0.012089504509672111,
          0.006487134416692797,
          0.003861913833779429,
          0.0007424857659674156,
          0.0031532253355515683,
          0.002956163575895454,
          0.00546911982558046,
          0.000939716822891068,
          0.003974458713301932,
          0.002071035494762341,
          0.0035508667050687115,
          0.00280380970380939,
          0.014160248908386741,
          0.012434744213913773,
          0.0000711621465840917,
          0.007577856720997811,
          0.004591022711542492,
          0.003938184683700274,
          0.0043325774453337185,
          0.0007591605000977775,
          0.01983201182158284,
          0.0014308312570054382,
          0.006419555139687838,
          0.0013749970032818082,
          0.01857668665430362,
          0.004565374603559158,
          0.0015880613407951993,
          -0.0006566656550134331,
          0.00324486784928929,
          -0.00026798669155975174,
          0.00011598037912241566,
          0.008992855853486026,
          0.005721448713783217,
          0.000004239531303129596,
          -0.0000696820739264914,
          0.0019249266546232935,
          0.007217715604396935,
          0.005658170603234258,
          0.0041493465512510985,
          0.0026864544629018328,
          0.0053049633237268745,
          0.012346532689664236,
          0.0019088197287817632,
          0.0019608578980869207,
          0.0035322947032046526,
          0.0007314005449245986,
          0.002184259952440648,
          0.007004151571570472,
          0.0008613730848494039,
          0.004067903828189945,
          0.002577023967567371,
          0.005131406683269668,
          0.002811982097999266,
          -0.0011204043257119767,
          -0.00019022583682781757,
          0.002768356780404879,
          0.007993986778747686,
          0.0015698064312534843,
          -0.0007472229659519769,
          0.004039157257407666,
          0.0021234245712667965,
          -0.003933233174589823,
          0.004676890424924529,
          0.006146029826750554,
          0.011527256505122097,
          -0.004638630066905458,
          0.0009503056060305992,
          0.0020631932542853337,
          0.001306359442600935,
          0.004607213235516494,
          0.004581512501693974,
          0.004369650118088875,
          0.0062730328647973566,
          0.006867046386713205,
          0.006050746463560297,
          0.0030994881539726515,
          0.0011393848160397013,
          0.0008315009502971038,
          -0.0007948176499370518,
          0.0032747037661796097,
          0.00019368730398738876,
          0.00029977010605852783,
          0.0038046507693072495,
          0.004740159173313607,
          0.008074365061972677,
          0.0028186855365775476,
          0.006218383703189445,
          0.0053314401139293865,
          0.0072367528635336464,
          0.008619929795767534,
          0.0027155246064411998,
          -0.0009071073202688851,
          0.0021787999407761327,
          0.005475641359030281,
          0.004213457676517207,
          0.0013741898406440245,
          0.0018455010815920936,
          0.00025524552009403845,
          -0.002614361926147557,
          -0.0011578332644627265,
          0.008735831602006972,
          -0.004760579893337669,
          0.003064535446655803,
          0.003679451766579689,
          0.003899687464062218,
          0.0005205308847116563,
          0.006086039686914957,
          -0.006069369583850237,
          0.001611333836883111,
          0.00331449935868372,
          0.004352865357818869,
          0.0059543857460794825,
          0.005496902297549622,
          0.0015997373866897813,
          0.002376451098610566,
          0.003140715151567275,
          0.0007527720011298311,
          0.003239720002411295,
          0.006785110708383224,
          0.0007059554628042197,
          0.0010416127631157623,
          -0.002686721542880799,
          0.0035866814588195184,
          -0.000026348616347926512,
          0.00025241216953331147,
          0.008291056243174055,
          0.00322537221388286,
          0.0009783251238196233,
          0.005445494840230547,
          -0.0001264208430483693,
          0.0028064098191298847,
          0.0019435206211179112,
          0.0022914606299724305,
          0.002339335502937634,
          0.000660787984482103,
          0.002533240772379819,
          -0.003304500470122096,
          0.003615151369437186,
          0.0008795697188606622,
          0.0014809309075670685,
          0.0025199503983514004,
          0.0017887620925264858,
          0.00379301316722086,
          0.00038716503556918136,
          -0.002451894468337712,
          0.0037371205028510768,
          -0.0030012969392032574,
          0.009357106647889413,
          0.0025371952350386473,
          0.004375136374259014,
          0.0022033412283534726,
          0.006025978872004567,
          0.00362036823569023,
          0.0012720882780870024,
          0.005117852642814724,
          0.001265433068138866,
          0.003367179437373913,
          -0.0003198977157712335,
          0.004333943264490048,
          0.007662450339931515,
          0.0038366869460513264,
          0.002942722326119085,
          0.0061194504303392905,
          0.004016013474990199,
          0.004950232519038977,
          0.00019580082881637262,
          0.005350703852728733,
          0.0005979581867373573,
          0.002261571755619085,
          0.0024511758738453016,
          0.0003520964594603826,
          -0.011408091849841762,
          0.00344910589235381,
          0.0013765179408955497,
          0.0036512654687584356,
          0.005280948505250571,
          0.006239767311127464,
          0.0021632094685523073,
          0.005320737822906929,
          0.00720158177218444,
          0.0078004918627122,
          0.0033749200898649523,
          -0.001066054920975723,
          0.01925627925495743,
          -0.0022183031778899576,
          0.002763523753278596,
          -0.0004228134559053909,
          -0.00043494534649901606,
          0.00430491711031622,
          0.005647430877401993,
          0.006686456880151792,
          0.001341397931872157,
          -0.0011485865406618556,
          0.0029657165217654158,
          0.0015395933616996205,
          0.00453500332252571,
          0.0008909062376016852,
          0.004342701017032546,
          0.0034590805217307175,
          0.00013636644509185114,
          0.00554501927257306,
          0.000917796520168046,
          0.008689400574411699,
          -0.00021016653177718947,
          0.0011845768762188125,
          0.004711765409711077,
          -0.0014410114546334896,
          0.0054500455270990456,
          0.010499497073288788,
          0.004070574307575736,
          0.0012235132712152264,
          0.006599748752558976,
          0.00038033246386581787,
          0.008374847910031014,
          -0.004509341319633264,
          0.01353971853057423,
          0.0064690435026408255,
          0.0005326078112448673,
          0.0038338215769171957,
          0.0027840817003557117,
          -0.0005622403376164264,
          -0.001445262287825988,
          0.004105707151501714,
          0.006660147112923842,
          0.006032014489195658,
          0.002163911853010736,
          0.0027886351115817276,
          0.0011914494193017156,
          0.005101705541760482,
          0.0018263090691792438,
          0.0004039755068316331,
          -0.00028999840008031574,
          0.0020617701645468944,
          0.006666242492519903,
          0.005992040629783202,
          0.006426050034643249,
          -0.0011165984744617719,
          -0.00037954778131921163,
          0.0030284191197978982,
          0.002685577357334823,
          0.009213822819972572,
          -0.0006548553478020747,
          0.008654549693972724,
          0.0027153267565616646,
          0.009248583152392853,
          0.01084010189475415,
          -0.00010700195950275049,
          0.003818645413597943,
          -0.0004921980863711872,
          0.0009704727403074265,
          0.004384799028277986,
          0.0009418097807472048,
          0.01009900111227946,
          0.00219567890429212,
          0.004832466379624367,
          0.00263829343795674,
          0.004198793599843598,
          0.004369822810590451,
          0.0014132505513609894,
          0.008801253364223327,
          0.005185861397056679,
          -0.0008741602324923159,
          0.0037572096090323637,
          0.00013904575947504272,
          0.0025303940039638206,
          0.00019816968302022175,
          -0.0035777610181607633,
          0.006393253787803255,
          0.004259987730566017,
          0.0056867296936383704,
          0.0020766897305248833,
          0.006002148559008769,
          0.00227938080727752,
          0.005452210592566786,
          0.008736921021707922,
          0.0035045854205494886,
          0.0018180217268959353,
          0.0077865183518267544,
          0.009796251171277304,
          0.007156349027427955,
          0.000207791222723408,
          0.001098756102405618,
          0.0021652776459563094,
          0.005218096049722787,
          0.006810890601094632,
          -0.0011173972105746333,
          0.003657575400404456,
          0.001670419001811696,
          0.002562848039842136,
          0.00000304287498287259,
          0.004615602926678397,
          0.003568536349971896,
          -0.000765777167921533,
          0.006404777947061513,
          0.0018297437739765443,
          0.009149677913465104,
          0.005163603131884187,
          0.004711295711649133,
          0.0013151438232516521,
          0.004816812880486354,
          0.00522827028884143,
          0.0023125141218697243,
          0.008895036476165075,
          0.0053649641797212655,
          0.002382381651675758,
          0.003152892329354451,
          0.003945819164975661,
          0.00887653706140662,
          0.0017775356844245138,
          0.0009665336027851468,
          0.003822974184397032,
          0.0014351544633246505,
          0.0321565594260243,
          0.007001189071959069,
          0.0008418913406764705,
          0.006962963859100557,
          0.002141608124710759,
          0.0021386632531962824,
          0.0037271978249259208,
          0.008364902908520933,
          0.0045793413795424676,
          0.0019284251858560642,
          0.00026124495910795353,
          0.002547726456737842,
          0.0007710879638782586,
          0.0015463509537255726,
          0.007133985993427572,
          0.0024589615934909603,
          0.004301762156533995,
          0.005136613180202587,
          0.0053064268756090605,
          0.004673147113771536,
          0.0002672254230893789,
          0.006024532356727397,
          0.005615708427832322,
          -0.0008938367267424807,
          0.007556357299387972,
          -0.0011067523332870532,
          0.004416073283044497,
          -0.00007969920899308924,
          0.006506823344568591,
          0.005103651034794376,
          0.0003424761193482895,
          0.0030581758938145742,
          0.0029162974109935846,
          0.002845746553333084,
          -0.000419947158009748,
          0.008252272480016476,
          0.005701553041726204,
          0.0021097201600397963,
          0.003431074826176994,
          0.0017657580911288884,
          0.0113555275171634,
          0.0011116410049590297,
          0.0043741267198297296,
          0.002148214027657247,
          0.001800838160957663,
          0.002740700152795539,
          0.0041697556034878125,
          0.002049856600684019,
          0.009677574076060791,
          0.0017804113131734134,
          -0.005576103662513099,
          0.0009981644794646582,
          -0.00018904667004826514,
          0.0018558930004556884,
          0.0004859384053744753,
          0.004396251452050248,
          0.000987254100272783,
          0.0038046844645786004,
          0.004636542006513866,
          0.004900292391755712,
          0.0060676325841818035,
          0.006626367230066876,
          0.00012795518465630318,
          0.01143884925742017,
          0.003787630268567155,
          0.0033690598924767667,
          0.009398791717907085,
          0.002456189170118306,
          0.003678536737982241,
          0.001847228561351888,
          0.0034560790725213786,
          -0.0024305193904797795,
          0.0012221678121502322,
          0.005370558514963875,
          0.0009776040670763653,
          -0.007646689986270105,
          0.00679878682536228,
          0.006939260003612724,
          0.0018517270923084084,
          -0.0002246194065104179,
          0.008973044727197732,
          0.007144993162099822,
          0.0023883823790472603,
          -0.002118458129603651,
          0.003554207122591635,
          0.0024321156723449144,
          0.00043650367469583173,
          0.005474274813834001,
          0.007676100184476786,
          0.0029341931098844087,
          0.0010527116934994085,
          0.004500144819868157,
          0.0006077783846886176,
          0.005318813130879563,
          -0.001826722464866093,
          0.006232627506462918,
          0.006671467420692079,
          0.0016177524082991446,
          0.009596283697927477,
          -0.0009215530844989273,
          0.004236742796374149,
          0.0037202100872478217,
          0.003851420998741917,
          0.006421962882775523,
          0.0013735222805167924,
          0.0042447610535746305,
          0.016554036390961424,
          0.004675166617002402,
          -0.005334108316409514,
          -0.0006756715392843282,
          0.0043924363316910076,
          0.0008175805730792907,
          0.010351157860336024,
          0.0036537571089227394,
          -0.0000914116558169975,
          0.007873264146096126,
          0.007400699113756459,
          0.002901402333102654,
          0.01660727919342586,
          0.0034592559460356886,
          0.004948947831339812,
          0.0022079592846470097,
          0.0026879688758030262,
          0.007475533523238931,
          0.001557178059634734,
          0.0018359000980694984,
          0.004453989678235459,
          0.0007465436412235626,
          0.0012814693491763895,
          -0.0015096181453424506,
          0.004101962657222624,
          0.004937964092211866,
          0.0023224124257401058,
          0.0051881676148496925,
          0.013408116732135489,
          0.0016467785607811591,
          -0.0037663427033861607,
          0.0039495834112884265,
          0.006426381757820954,
          0.00366683219063213,
          0.0008046555782385001,
          -0.0010336259039323004,
          0.012251398476670061,
          0.0077043085937393285,
          -0.0004884059010525355,
          0.0030298830128169807,
          0.004518669154344623,
          0.001992408753150654,
          0.006694182529434767,
          0.0007213276557160864,
          0.0011551879220305095,
          0.008382791755824404,
          0.0036698250737178806,
          -0.00006055793951975641,
          -0.00114277938570434,
          0.003201507008163018,
          0.005552189419767095,
          0.0036323401479919637,
          0.0008261598462225295,
          0.001788586719574603,
          0.00014037903582425626,
          -0.0051333258305724105,
          0.0006412678291835561,
          0.0030340056030818685,
          0.003033879097853076,
          -0.0013702178012615085,
          0.0029916492652500293,
          0.0031323966930986713,
          0.0008535596554067881,
          0.008259656425712913,
          0.0044359446781319645,
          0.0032590111122061116,
          0.0006371039640798992,
          0.005668360688555085,
          0.0043878070610490205,
          0.0005074986501157897,
          0.001219426258273426,
          0.008043146137866941,
          0.008764268677855458,
          0.003461195203386336,
          0.007854568186048239,
          0.003124215715798573,
          0.00200522924807478,
          0.013118196028464257,
          0.0062975366455683135,
          0.0004931769202706771,
          0.0012588520941273496,
          -0.00017302306099598042,
          0.002164563651570528,
          0.002985130839929573,
          0.006344817171884121,
          -0.002639951338915425,
          0.003987367288673549,
          0.0016406266148408788,
          -0.009756773765268345,
          -0.0016502350135858546,
          0.004966005089856396,
          -0.0006917183470071531,
          0.0077877722602981425,
          0.002226344585529838,
          0.006157619529214287,
          -0.00205345266939827,
          0.009320500510632768,
          0.004870795988101584,
          -0.003710078998226285,
          0.015068737169807944,
          0.0024711037229996347,
          0.0012006859304094508,
          0.0007161698289683827,
          0.004263432579454607,
          -0.0010875928727040463,
          0.0031587038741032747,
          0.0037650546393397377,
          -0.0003501787357312325,
          -0.0013744434019933305,
          0.004132570244197886,
          0.010016487785812489,
          0.00023489147445548975,
          0.0006905111366427574,
          0.0003150172393839301,
          0.00044724205414992113,
          -0.0023551770637503244,
          0.0010418116064594973,
          0.0013763192503689625,
          0.002199145612756692,
          0.0019602909090713494,
          0.005166846250241608,
          -0.0011191267891014767,
          0.002467082133767118,
          0.0055899571235144,
          0.0004566002662025337,
          0.00836605013699332,
          0.005780185894201317,
          0.010725566053478852,
          -0.00046827465601018137,
          0.0021306259524052074,
          -0.0008408893179610022,
          0.001357387253064113,
          0.0030821092017722096,
          -0.0321205629612728,
          -0.007990919525487694,
          0.000976281738524376,
          0.002927568307541095,
          0.004826836706619375,
          -0.0017873361600381221,
          0.001141495953455418,
          -0.0006522736635494741,
          0.0013318534591640896,
          -0.0005467505163904707,
          -0.0004943593789600853,
          0.0009562920629542226,
          0.0037057975782995856,
          0.0060934880719035744,
          -0.001168565108472075,
          0.0023197224004888883,
          0.0021749938151703896,
          0.0060694709826545346,
          0.000910296044497827,
          0.0027613902931394874,
          0.00044425051345808875,
          0.008278015168129094,
          0.002641644576970248,
          0.0073045316673846505,
          0.003125640262890139,
          0.009904780642749078,
          0.003993901406365574,
          0.005445259528565172,
          0.0015920064617765406,
          0.006475528923828078,
          0.0022681063620310082,
          0.002281990567062131,
          0.0018820001115033569,
          0.006119998089914425,
          0.0026772052629950305,
          0.0011587564820714213,
          -0.004512960686727685,
          0.0057904897547353396,
          0.0019371582745311144,
          -0.005026424539661234,
          -0.0009297165900271631,
          -0.002581541504573681,
          0.00381200388827424,
          -0.0010063709956454336,
          0.008146754688066138,
          0.0013570477746736032,
          0.017054391721427642,
          0.0026465437331339436,
          0.000662433870496415,
          0.006187532917861449,
          0.0005443191347143106,
          -0.0012184987391891666,
          -0.00015061867672860885,
          0.003990965489041154,
          0.0016376086608803075,
          0.0009236191625929258,
          0.006887527426208018,
          -0.011102024970616298,
          0.011525135629911587,
          0.006783491658293395,
          0.006466049244801209,
          0.0016763868661606174,
          -0.0029723699891728295,
          -0.0028769364753216675,
          -0.004712094939104794,
          0.0002828155710301039,
          0.0008767524018120643,
          -0.002894990359730898,
          0.00046840030411565703,
          0.002959374976377549,
          0.003725334047992246,
          0.004658065351243634,
          -0.0014194462942239694,
          0.0032376891483040793,
          0.008449877553729002,
          0.002557937240453223,
          -0.00012378227002429742,
          -0.0023977527304702706,
          0.003786289033934298,
          0.001155657251685982,
          0.0025683282535759466,
          0.002017673967137812,
          0.00673669587883885,
          -0.0013892358116253112,
          0.013139145434184485,
          0.0009507085400701776,
          0.00006753618789090421,
          0.0016786325623773246,
          0.007181789383356729,
          0.004454205744196804,
          0.005507323375146478,
          0.005701422113631893,
          0.0016602766777817912,
          0.001729259248995696,
          0.000528796717047586,
          0.006031687640390249,
          0.0036757703528885743,
          0.019252071475628074,
          0.0037084094271083168,
          0.00004954373733701001,
          0.0012209265438724026,
          0.0052460978969186,
          0.004173719231324702,
          0.0012167150676711258,
          0.005467189863258004,
          0.00004767773272879028,
          0.005226584001107204,
          0.009385406644430716,
          0.0042387703841355595,
          -0.009868787373741417,
          0.0021515766047270346,
          0.008725171652007424,
          0.003307254585244279,
          0.004162384809289932,
          0.0014212065235268412,
          0.005390822103135906,
          0.0023215866911935334,
          0.005596312426411065,
          0.00416991068249295,
          -0.00010379963092604916,
          0.0016593111419860862,
          0.008022189949190184,
          0.003133566098992513,
          0.0006472963209269711,
          0.002887682061911645,
          0.006270470641819459,
          0.0015347348809697792,
          0.005834666601989169,
          0.0024193080767728192,
          0.002670434350739659,
          0.00335655853191974,
          0.00845723913047558,
          0.009033696244533096,
          0.0019168233720880945,
          0.002074274771108997,
          0.00428344179314516,
          0.004173889782850604,
          0.002104344379007972,
          -0.001530068926291761,
          0.002362625595370871,
          -0.0006999374921604629,
          0.002028461676710447,
          0.005504544115394416,
          0.011322420797470034,
          0.0024077388259778343,
          0.0015776843908965055,
          0.010224025802875958,
          0.003003989351452352,
          0.002987686986388516,
          0.001945136113967516,
          0.00241881661190535,
          0.004484823038662378,
          0.003618253581340103,
          0.010873787912915045,
          0.0045567146029552585,
          0.0037074354722362313,
          0.0008373482272828747,
          0.0035573757439359976,
          0.004098037737561733,
          0.002869906243520348,
          0.0014460130319781106,
          0.006258932572300868,
          0.006317474000288259,
          0.013714615819132914,
          0.0027930938716758114,
          -0.0014163424666833735,
          0.004591423747869472,
          -0.0016601891737698105,
          -0.0010570541221435747,
          0.0030372130351001836,
          0.004158072453999628,
          0.005858570307913147,
          0.009500634084164905,
          0.004393010435319478,
          0.0010207943040539957,
          0.006220007093365787,
          0.0020532282354042697,
          -0.0009062384387862332,
          0.00006367309162436108,
          0.008488952366632552,
          0.0067078570727801545,
          0.003436212960982954,
          0.0006321164517688049,
          0.002120192352738526,
          0.005610034986716361,
          -0.006944816326240721,
          0.0022898538572682647,
          0.0018875195039698145,
          0.005001424641543684,
          0.004358933254895669,
          0.00946461987057512,
          0.008311627976180347,
          0.002898294792153311,
          0.00825938229018397,
          0.013862480645838893,
          0.005738704168412323,
          0.006222908274512551,
          0.0023273269060040125,
          0.00185596378761399,
          0.0018191442222219578,
          0.0017973500681987553,
          0.005158305382522765,
          -0.0004936764340455757,
          0.00161672929818385,
          -0.0011289570121791326,
          0.0027262378762019646,
          0.0030089579150685553,
          0.0005032148096629774,
          0.0049883589953367835,
          -0.00043710636285315685,
          0.008767689498121622,
          0.005345032621396295,
          0.004697010071254726,
          0.003742789933109225,
          0.005414022574657007,
          0.0028428065147522164,
          -0.001026739089066253,
          -0.002558127400922705,
          0.0031452468984784487,
          0.002737279531577541,
          0.000590737599544533,
          0.002182889819244249,
          -0.0012061737085191648,
          0.0008743892131428677,
          -0.002276590031307868,
          0.0000539713675990483,
          0.0018411629584194622,
          0.0036760908586800922,
          -0.010318638622932863,
          -0.0018721806707676092,
          -0.00035810835378125017,
          0.0007540056238902193,
          0.00023502950625636787,
          0.009623590071229982,
          0.0029947294343347086,
          0.0036714483952351995,
          0.004614150952688356,
          0.0031086169341994485,
          0.012173168322028804,
          0.00814340297062105,
          0.006385696181972489,
          0.0009264463378153565,
          0.003099036500568697,
          0.0016465264364529664,
          0.003497240008069724,
          -0.007284260734956416,
          0.0022961370537960546,
          0.0047621750290438025,
          -0.00043307040612933223,
          0.0023728226832455124,
          0.0038926124261929873,
          0.006103140312004651,
          0.000789078753713035,
          0.012864924659351906,
          0.0016909509776339982,
          0.0024692465160610078,
          0.003196526233467445,
          0.014637085240955083,
          -0.0017967289824795118,
          -0.0025278648659716185,
          0.004491711340606108,
          0.006523265340297013,
          0.0038641852672701704,
          0.0015178499712197868,
          0.0006644464798338245,
          0.0073776777237337665,
          0.004752761855145504,
          0.00003413530564455591,
          0.00371487814445709,
          0.00331249249840998,
          0.0061499106167418605,
          -0.00155238114650047,
          0.0013899587256746004,
          0.00421414227115996,
          0.005595605517967339,
          0.007823796930101379,
          0.0029449655227866134,
          0.0009725930529381199,
          0.0018543614947850173,
          -0.0021979510124988666,
          0.00476872067454065,
          0.00338667945465021,
          0.002666945437337531,
          0.0012432058641399513,
          -0.0024377750605797943,
          0.0021474177121138527,
          0.0021441451823777657,
          0.002890335150275092,
          -0.0031243907258166614,
          -0.0004033638945322715,
          0.0019302203509470317,
          -0.0060500811822533085,
          0.0031317431767829973,
          0.0036725811682413734,
          0.00966435918423103,
          0.004110178228590666,
          0.006021171265496672,
          0.009435389852125498,
          0.00167421635776549,
          0.002773177837764873,
          0.003110529289106767,
          0.00232561923121255,
          -0.004114015388268721,
          -0.00043537093743373223,
          0.004176191806309182,
          -0.007944159531549921,
          0.0007095688452769533,
          0.0047683515140339305,
          0.0015737821107461025,
          0.0021679590728981846,
          -0.00013069243485280824,
          0.0071969145734805395,
          0.00635721313585047,
          0.008132018686829778,
          0.003567749679669552,
          -0.0010931205462257343,
          0.004024112272485836,
          0.00651544048471403,
          0.014048392748163052,
          0.012721502593830092,
          0.0024649777255297822,
          0.004102990803673767,
          0.0029990729583320164,
          0.006926427132253665,
          0.004694832273667404,
          -0.026347940001135883,
          0.005067452629920199,
          0.004284332755606246,
          0.0011990376183439455,
          -0.002300784179486204,
          -0.0016128624682011372,
          0.0062394812309155,
          0.004118418762770415,
          0.0005052145448639078,
          0.0031203848610163454,
          0.0031811430459225964,
          0.004947586257698755,
          0.003043349233998849,
          -0.002358718238600954,
          0.004234112278150237,
          0.0041818590771369735,
          0.0019821160355229517,
          0.00039966325823725946,
          0.003885202349206751,
          0.005947263417855564,
          -0.0006496251662330144,
          0.00452161761118447,
          0.0014582065871079353,
          0.0019145777468208003,
          -0.0006175663477062665,
          0.0008826990733754037,
          0.0009887396702550344,
          0.004577713021000962,
          0.006651831389605456,
          0.02411887368182436,
          0.0015818894272293105,
          0.017311119584392243,
          -0.000246700896194052,
          0.002148286050802528,
          0.011825706615541831,
          -0.0008758773969446132,
          0.0038190214554293944,
          0.001953819383929689,
          -0.00209821810929145,
          -0.0013118479496616597,
          -0.0001233023258975785,
          0.0018489636669865583,
          0.0028823882651660138,
          0.0009340013108878331,
          -0.002619789700752384,
          0.00525992741273873,
          0.00775027259477884,
          0.010931610809351233,
          0.0013444035152523348,
          0.0023609070488014305,
          0.0020241319080480658,
          0.004298299644107606,
          0.005466707202286258,
          0.0021594925964204537,
          0.003319492148138148,
          -0.004241951917621001,
          0.003781246666935134,
          0.0025507724445699154,
          0.007795441630613076,
          0.009575211376587622,
          -0.0014976759639963588,
          0.004456236921073942,
          -0.005590510261463566,
          0.00012493663768209373,
          -0.0019021693992459232,
          0.004696715324386036,
          0.002344918729569656,
          0.001272579586972078,
          0.004005376542081052,
          0.0013317039544764597,
          0.004935171130725335,
          -0.0022688712836262948,
          0.005945835422617951,
          -0.0028654296634716414,
          -0.0007364830084758411,
          0.0035715034697361148,
          0.006247662586976455,
          -0.0010395404674467534,
          0.0009109676657096943,
          0.00349501372001515,
          0.0027072215790925336,
          0.0017637735982830582,
          -0.005165201757442839,
          0.0045957009447511465,
          0.0005447767119142743,
          0.002145604833609649,
          0.006213138577734367,
          -0.0034409935123577706,
          0.0028312964703740007,
          0.003903530041654113,
          0.002746073102533386,
          0.0009992899667608524,
          0.0050155976438870375,
          0.01540794225244746,
          0.006280529163795179,
          0.005395344419751313,
          0.0012111766501273213,
          0.005648084295631128,
          -0.0007136377193362464,
          0.0010359747099453753,
          0.00002267863805527348,
          0.006739085525105937,
          0.0026651063084874305,
          0.0006932201366402491,
          -0.00787594195237501,
          0.00012089839521967072,
          0.00731670376550797,
          0.0016014803617316886,
          0.006590969133016156,
          0.004612362233076928,
          0.002117615407247919,
          0.0045997012580408225,
          -0.0020456399176267404,
          0.007808223984989704,
          -0.00012017832889787972,
          -0.0003249259707603369,
          0.007544813668838524,
          0.004505897929683256,
          -0.018416692623847375,
          0.00019273932763802515,
          0.0005674414774735625,
          0.0005740730969365226,
          -0.005469401929723228,
          -0.008522331459151822,
          0.002919900120282315,
          -0.0010490656950782329,
          0.002452956306309928,
          0.0029753996981040087,
          0.002268054084224147,
          0.003557883155844377,
          0.001639718610498997,
          0.001316685242604032,
          -0.005708421913447004,
          0.0008802824631918282,
          0.002147287528549313,
          0.005139543621844156,
          0.004602366977416894,
          0.006505305233525105,
          0.002114809215993829,
          0.0038708078171200144,
          -0.0009784018462978272,
          0.005447878895188052,
          0.0056174098030997155,
          -0.0008392241050546034,
          0.0013707208922038028,
          0.004048256719917931,
          -0.0015245965973221254,
          0.005148217725029158,
          -0.00466405424954619,
          0.002810723083291111,
          0.0007653624517778845,
          0.003885309195039377,
          0.0064853428104802435,
          0.004769037048144964,
          0.009976185237885904,
          0.003251011416482763,
          0.00007691387029651331,
          0.007103469950974661,
          0.0065392825220229045,
          0.00013033816963564648,
          0.00003486671376201622,
          -0.007974250007450667,
          -0.00013892089618799952,
          0.0017819589285493764,
          -0.0008724736115538478,
          0.0025319788356450434,
          0.002233408190989661,
          -0.00035223588915417325,
          0.001966525166964883,
          0.001952844996256753,
          0.005069321125361681,
          0.004171965042685466,
          0.0003467529803977132,
          0.001601460242380559,
          0.006079974997140303,
          0.0009469003538878362,
          0.007872911160671014,
          0.007738249115929019,
          0.009070466418332812,
          0.00929958687530702,
          0.004999492848106635,
          0.003574517889297635,
          0.004591153306371776,
          0.006854012192893721,
          0.0006355290251468526,
          0.001081121852578637,
          0.0069580183339675306,
          0.002506965341209255,
          0.003962009692306645,
          0.004391656171919001,
          0.006035018416348958,
          -0.0005909034272521541,
          0.0070469146729685295,
          0.0060730241499408755,
          -0.0006852611144409493,
          0.005234517586495957,
          0.007836748993513665,
          0.004861918339726268,
          -0.00027595628825594076,
          0.006046788561027139,
          0.005052470460572778,
          0.003239899989473105,
          0.0038105823829372443,
          0.0041993204919365534,
          0.007143878004229387,
          0.004041523278870196,
          0.0007706894305296585,
          0.005342320155957592,
          0.0032595054505074605,
          0.004733028115462334,
          -0.006613007678609617,
          0.0032836183826631116,
          0.011805504810823986,
          0.003999150414188302,
          0.005921277913734868,
          0.0026060458929366703,
          0.0032010926142868046,
          0.003500496372312367,
          0.005704464387019437,
          0.0022924189609341283,
          -0.00018599391163498513,
          -0.005443353127283057,
          -0.005971171930544472,
          0.0008388737204849117,
          0.004404018615723482,
          0.0035586986774698293,
          0.005262209697382503,
          0.0016265009269260111,
          0.00505029855797845,
          0.003919545829823179,
          0.013876025451400431,
          0.0030995423949594647,
          -0.0008327746711046524,
          0.0009986052339441276,
          0.005988060864384637,
          0.010010589968544148,
          -0.0030243192496596794,
          -0.0006864932689956693,
          0.0019734421213921105,
          0.006916280749074244,
          0.005484896135794615,
          0.005901449035243589,
          0.002090007976756292,
          0.0013783005959796535,
          -0.0026824565326803995,
          0.007763558133153103,
          0.005188396746867774,
          -0.0021007080372388853,
          0.0025025188038541035,
          0.0053388816803397465,
          0.004221070002396965,
          0.002832179705684945,
          0.013789618659284575,
          0.003589513402352029,
          0.00009903979113834449,
          -0.0007024304090892386,
          0.005884756602186625,
          0.00018605641099284087,
          -0.04893932121720379,
          0.001305929528938654,
          0.008508927059535876,
          0.0014809388148306346,
          0.009858580481544421,
          0.005344846386454161,
          0.003144959793031421,
          0.006286306808955311,
          0.010791855626677727,
          -0.0021052129772280437,
          0.0013009804632322375,
          0.002595313360606144,
          0.00394533233040556,
          -0.0008559211830143076,
          -0.0038328472184143703,
          -0.0013401450237469636
         ],
         "yaxis": "y"
        }
       ],
       "layout": {
        "legend": {
         "tracegroupgap": 0
        },
        "margin": {
         "t": 60
        },
        "template": {
         "data": {
          "bar": [
           {
            "error_x": {
             "color": "#2a3f5f"
            },
            "error_y": {
             "color": "#2a3f5f"
            },
            "marker": {
             "line": {
              "color": "#E5ECF6",
              "width": 0.5
             },
             "pattern": {
              "fillmode": "overlay",
              "size": 10,
              "solidity": 0.2
             }
            },
            "type": "bar"
           }
          ],
          "barpolar": [
           {
            "marker": {
             "line": {
              "color": "#E5ECF6",
              "width": 0.5
             },
             "pattern": {
              "fillmode": "overlay",
              "size": 10,
              "solidity": 0.2
             }
            },
            "type": "barpolar"
           }
          ],
          "carpet": [
           {
            "aaxis": {
             "endlinecolor": "#2a3f5f",
             "gridcolor": "white",
             "linecolor": "white",
             "minorgridcolor": "white",
             "startlinecolor": "#2a3f5f"
            },
            "baxis": {
             "endlinecolor": "#2a3f5f",
             "gridcolor": "white",
             "linecolor": "white",
             "minorgridcolor": "white",
             "startlinecolor": "#2a3f5f"
            },
            "type": "carpet"
           }
          ],
          "choropleth": [
           {
            "colorbar": {
             "outlinewidth": 0,
             "ticks": ""
            },
            "type": "choropleth"
           }
          ],
          "contour": [
           {
            "colorbar": {
             "outlinewidth": 0,
             "ticks": ""
            },
            "colorscale": [
             [
              0,
              "#0d0887"
             ],
             [
              0.1111111111111111,
              "#46039f"
             ],
             [
              0.2222222222222222,
              "#7201a8"
             ],
             [
              0.3333333333333333,
              "#9c179e"
             ],
             [
              0.4444444444444444,
              "#bd3786"
             ],
             [
              0.5555555555555556,
              "#d8576b"
             ],
             [
              0.6666666666666666,
              "#ed7953"
             ],
             [
              0.7777777777777778,
              "#fb9f3a"
             ],
             [
              0.8888888888888888,
              "#fdca26"
             ],
             [
              1,
              "#f0f921"
             ]
            ],
            "type": "contour"
           }
          ],
          "contourcarpet": [
           {
            "colorbar": {
             "outlinewidth": 0,
             "ticks": ""
            },
            "type": "contourcarpet"
           }
          ],
          "heatmap": [
           {
            "colorbar": {
             "outlinewidth": 0,
             "ticks": ""
            },
            "colorscale": [
             [
              0,
              "#0d0887"
             ],
             [
              0.1111111111111111,
              "#46039f"
             ],
             [
              0.2222222222222222,
              "#7201a8"
             ],
             [
              0.3333333333333333,
              "#9c179e"
             ],
             [
              0.4444444444444444,
              "#bd3786"
             ],
             [
              0.5555555555555556,
              "#d8576b"
             ],
             [
              0.6666666666666666,
              "#ed7953"
             ],
             [
              0.7777777777777778,
              "#fb9f3a"
             ],
             [
              0.8888888888888888,
              "#fdca26"
             ],
             [
              1,
              "#f0f921"
             ]
            ],
            "type": "heatmap"
           }
          ],
          "heatmapgl": [
           {
            "colorbar": {
             "outlinewidth": 0,
             "ticks": ""
            },
            "colorscale": [
             [
              0,
              "#0d0887"
             ],
             [
              0.1111111111111111,
              "#46039f"
             ],
             [
              0.2222222222222222,
              "#7201a8"
             ],
             [
              0.3333333333333333,
              "#9c179e"
             ],
             [
              0.4444444444444444,
              "#bd3786"
             ],
             [
              0.5555555555555556,
              "#d8576b"
             ],
             [
              0.6666666666666666,
              "#ed7953"
             ],
             [
              0.7777777777777778,
              "#fb9f3a"
             ],
             [
              0.8888888888888888,
              "#fdca26"
             ],
             [
              1,
              "#f0f921"
             ]
            ],
            "type": "heatmapgl"
           }
          ],
          "histogram": [
           {
            "marker": {
             "pattern": {
              "fillmode": "overlay",
              "size": 10,
              "solidity": 0.2
             }
            },
            "type": "histogram"
           }
          ],
          "histogram2d": [
           {
            "colorbar": {
             "outlinewidth": 0,
             "ticks": ""
            },
            "colorscale": [
             [
              0,
              "#0d0887"
             ],
             [
              0.1111111111111111,
              "#46039f"
             ],
             [
              0.2222222222222222,
              "#7201a8"
             ],
             [
              0.3333333333333333,
              "#9c179e"
             ],
             [
              0.4444444444444444,
              "#bd3786"
             ],
             [
              0.5555555555555556,
              "#d8576b"
             ],
             [
              0.6666666666666666,
              "#ed7953"
             ],
             [
              0.7777777777777778,
              "#fb9f3a"
             ],
             [
              0.8888888888888888,
              "#fdca26"
             ],
             [
              1,
              "#f0f921"
             ]
            ],
            "type": "histogram2d"
           }
          ],
          "histogram2dcontour": [
           {
            "colorbar": {
             "outlinewidth": 0,
             "ticks": ""
            },
            "colorscale": [
             [
              0,
              "#0d0887"
             ],
             [
              0.1111111111111111,
              "#46039f"
             ],
             [
              0.2222222222222222,
              "#7201a8"
             ],
             [
              0.3333333333333333,
              "#9c179e"
             ],
             [
              0.4444444444444444,
              "#bd3786"
             ],
             [
              0.5555555555555556,
              "#d8576b"
             ],
             [
              0.6666666666666666,
              "#ed7953"
             ],
             [
              0.7777777777777778,
              "#fb9f3a"
             ],
             [
              0.8888888888888888,
              "#fdca26"
             ],
             [
              1,
              "#f0f921"
             ]
            ],
            "type": "histogram2dcontour"
           }
          ],
          "mesh3d": [
           {
            "colorbar": {
             "outlinewidth": 0,
             "ticks": ""
            },
            "type": "mesh3d"
           }
          ],
          "parcoords": [
           {
            "line": {
             "colorbar": {
              "outlinewidth": 0,
              "ticks": ""
             }
            },
            "type": "parcoords"
           }
          ],
          "pie": [
           {
            "automargin": true,
            "type": "pie"
           }
          ],
          "scatter": [
           {
            "fillpattern": {
             "fillmode": "overlay",
             "size": 10,
             "solidity": 0.2
            },
            "type": "scatter"
           }
          ],
          "scatter3d": [
           {
            "line": {
             "colorbar": {
              "outlinewidth": 0,
              "ticks": ""
             }
            },
            "marker": {
             "colorbar": {
              "outlinewidth": 0,
              "ticks": ""
             }
            },
            "type": "scatter3d"
           }
          ],
          "scattercarpet": [
           {
            "marker": {
             "colorbar": {
              "outlinewidth": 0,
              "ticks": ""
             }
            },
            "type": "scattercarpet"
           }
          ],
          "scattergeo": [
           {
            "marker": {
             "colorbar": {
              "outlinewidth": 0,
              "ticks": ""
             }
            },
            "type": "scattergeo"
           }
          ],
          "scattergl": [
           {
            "marker": {
             "colorbar": {
              "outlinewidth": 0,
              "ticks": ""
             }
            },
            "type": "scattergl"
           }
          ],
          "scattermapbox": [
           {
            "marker": {
             "colorbar": {
              "outlinewidth": 0,
              "ticks": ""
             }
            },
            "type": "scattermapbox"
           }
          ],
          "scatterpolar": [
           {
            "marker": {
             "colorbar": {
              "outlinewidth": 0,
              "ticks": ""
             }
            },
            "type": "scatterpolar"
           }
          ],
          "scatterpolargl": [
           {
            "marker": {
             "colorbar": {
              "outlinewidth": 0,
              "ticks": ""
             }
            },
            "type": "scatterpolargl"
           }
          ],
          "scatterternary": [
           {
            "marker": {
             "colorbar": {
              "outlinewidth": 0,
              "ticks": ""
             }
            },
            "type": "scatterternary"
           }
          ],
          "surface": [
           {
            "colorbar": {
             "outlinewidth": 0,
             "ticks": ""
            },
            "colorscale": [
             [
              0,
              "#0d0887"
             ],
             [
              0.1111111111111111,
              "#46039f"
             ],
             [
              0.2222222222222222,
              "#7201a8"
             ],
             [
              0.3333333333333333,
              "#9c179e"
             ],
             [
              0.4444444444444444,
              "#bd3786"
             ],
             [
              0.5555555555555556,
              "#d8576b"
             ],
             [
              0.6666666666666666,
              "#ed7953"
             ],
             [
              0.7777777777777778,
              "#fb9f3a"
             ],
             [
              0.8888888888888888,
              "#fdca26"
             ],
             [
              1,
              "#f0f921"
             ]
            ],
            "type": "surface"
           }
          ],
          "table": [
           {
            "cells": {
             "fill": {
              "color": "#EBF0F8"
             },
             "line": {
              "color": "white"
             }
            },
            "header": {
             "fill": {
              "color": "#C8D4E3"
             },
             "line": {
              "color": "white"
             }
            },
            "type": "table"
           }
          ]
         },
         "layout": {
          "annotationdefaults": {
           "arrowcolor": "#2a3f5f",
           "arrowhead": 0,
           "arrowwidth": 1
          },
          "autotypenumbers": "strict",
          "coloraxis": {
           "colorbar": {
            "outlinewidth": 0,
            "ticks": ""
           }
          },
          "colorscale": {
           "diverging": [
            [
             0,
             "#8e0152"
            ],
            [
             0.1,
             "#c51b7d"
            ],
            [
             0.2,
             "#de77ae"
            ],
            [
             0.3,
             "#f1b6da"
            ],
            [
             0.4,
             "#fde0ef"
            ],
            [
             0.5,
             "#f7f7f7"
            ],
            [
             0.6,
             "#e6f5d0"
            ],
            [
             0.7,
             "#b8e186"
            ],
            [
             0.8,
             "#7fbc41"
            ],
            [
             0.9,
             "#4d9221"
            ],
            [
             1,
             "#276419"
            ]
           ],
           "sequential": [
            [
             0,
             "#0d0887"
            ],
            [
             0.1111111111111111,
             "#46039f"
            ],
            [
             0.2222222222222222,
             "#7201a8"
            ],
            [
             0.3333333333333333,
             "#9c179e"
            ],
            [
             0.4444444444444444,
             "#bd3786"
            ],
            [
             0.5555555555555556,
             "#d8576b"
            ],
            [
             0.6666666666666666,
             "#ed7953"
            ],
            [
             0.7777777777777778,
             "#fb9f3a"
            ],
            [
             0.8888888888888888,
             "#fdca26"
            ],
            [
             1,
             "#f0f921"
            ]
           ],
           "sequentialminus": [
            [
             0,
             "#0d0887"
            ],
            [
             0.1111111111111111,
             "#46039f"
            ],
            [
             0.2222222222222222,
             "#7201a8"
            ],
            [
             0.3333333333333333,
             "#9c179e"
            ],
            [
             0.4444444444444444,
             "#bd3786"
            ],
            [
             0.5555555555555556,
             "#d8576b"
            ],
            [
             0.6666666666666666,
             "#ed7953"
            ],
            [
             0.7777777777777778,
             "#fb9f3a"
            ],
            [
             0.8888888888888888,
             "#fdca26"
            ],
            [
             1,
             "#f0f921"
            ]
           ]
          },
          "colorway": [
           "#636efa",
           "#EF553B",
           "#00cc96",
           "#ab63fa",
           "#FFA15A",
           "#19d3f3",
           "#FF6692",
           "#B6E880",
           "#FF97FF",
           "#FECB52"
          ],
          "font": {
           "color": "#2a3f5f"
          },
          "geo": {
           "bgcolor": "white",
           "lakecolor": "white",
           "landcolor": "#E5ECF6",
           "showlakes": true,
           "showland": true,
           "subunitcolor": "white"
          },
          "hoverlabel": {
           "align": "left"
          },
          "hovermode": "closest",
          "mapbox": {
           "style": "light"
          },
          "paper_bgcolor": "white",
          "plot_bgcolor": "#E5ECF6",
          "polar": {
           "angularaxis": {
            "gridcolor": "white",
            "linecolor": "white",
            "ticks": ""
           },
           "bgcolor": "#E5ECF6",
           "radialaxis": {
            "gridcolor": "white",
            "linecolor": "white",
            "ticks": ""
           }
          },
          "scene": {
           "xaxis": {
            "backgroundcolor": "#E5ECF6",
            "gridcolor": "white",
            "gridwidth": 2,
            "linecolor": "white",
            "showbackground": true,
            "ticks": "",
            "zerolinecolor": "white"
           },
           "yaxis": {
            "backgroundcolor": "#E5ECF6",
            "gridcolor": "white",
            "gridwidth": 2,
            "linecolor": "white",
            "showbackground": true,
            "ticks": "",
            "zerolinecolor": "white"
           },
           "zaxis": {
            "backgroundcolor": "#E5ECF6",
            "gridcolor": "white",
            "gridwidth": 2,
            "linecolor": "white",
            "showbackground": true,
            "ticks": "",
            "zerolinecolor": "white"
           }
          },
          "shapedefaults": {
           "line": {
            "color": "#2a3f5f"
           }
          },
          "ternary": {
           "aaxis": {
            "gridcolor": "white",
            "linecolor": "white",
            "ticks": ""
           },
           "baxis": {
            "gridcolor": "white",
            "linecolor": "white",
            "ticks": ""
           },
           "bgcolor": "#E5ECF6",
           "caxis": {
            "gridcolor": "white",
            "linecolor": "white",
            "ticks": ""
           }
          },
          "title": {
           "x": 0.05
          },
          "xaxis": {
           "automargin": true,
           "gridcolor": "white",
           "linecolor": "white",
           "ticks": "",
           "title": {
            "standoff": 15
           },
           "zerolinecolor": "white",
           "zerolinewidth": 2
          },
          "yaxis": {
           "automargin": true,
           "gridcolor": "white",
           "linecolor": "white",
           "ticks": "",
           "title": {
            "standoff": 15
           },
           "zerolinecolor": "white",
           "zerolinewidth": 2
          }
         }
        },
        "xaxis": {
         "anchor": "y",
         "domain": [
          0,
          1
         ],
         "title": {
          "text": "Actual Change"
         }
        },
        "yaxis": {
         "anchor": "x",
         "domain": [
          0,
          1
         ],
         "title": {
          "text": "Predicted Change"
         }
        }
       }
      }
     },
     "metadata": {},
     "output_type": "display_data"
    }
   ],
   "source": [
    "fig = px.scatter(x=actual_and_predicted['actual'], y=actual_and_predicted['predicted'], hover_data={'Symbol' : test_labels.index.get_level_values(0), 'Date' : test_labels.index.get_level_values(1)})\n",
    "fig.update_layout(xaxis_title='Actual Change', yaxis_title='Predicted Change')\n",
    "fig.show()"
   ]
  },
  {
   "cell_type": "code",
   "execution_count": null,
   "metadata": {},
   "outputs": [
    {
     "data": {
      "text/plain": [
       "(-0.05, 0.05)"
      ]
     },
     "execution_count": 8,
     "metadata": {},
     "output_type": "execute_result"
    },
    {
     "data": {
      "image/png": "[encoded data removed]",
      "text/plain": [
       "<Figure size 640x480 with 1 Axes>"
      ]
     },
     "metadata": {},
     "output_type": "display_data"
    }
   ],
   "source": [
    "import seaborn as sns\n",
    "import matplotlib.pyplot as plt\n",
    "\n",
    "sns.kdeplot(x=actual_and_predicted['actual'], y=actual_and_predicted['predicted'], fill=True, cmap=\"viridis\", thresh=0, levels=10)\n",
    "plt.xlim(-.05,.05)\n",
    "plt.ylim(-.05,.05)\n",
    "plt.axhline()\n",
    "plt.axvline()"
   ]
  },
  {
   "cell_type": "markdown",
   "metadata": {},
   "source": [
    "Make Predictions"
   ]
  },
  {
   "cell_type": "code",
   "execution_count": 9,
   "metadata": {},
   "outputs": [
    {
     "data": {
      "text/plain": [
       "Symbol\n",
       "TSLA    0.016095\n",
       "PLTR    0.015169\n",
       "GEV     0.013966\n",
       "FSLR    0.013682\n",
       "CHTR    0.009358\n",
       "HWM     0.009190\n",
       "ADM     0.009158\n",
       "ALB     0.008972\n",
       "FTNT    0.008637\n",
       "RCL     0.008629\n",
       "dtype: float64"
      ]
     },
     "metadata": {},
     "output_type": "display_data"
    }
   ],
   "source": [
    "prediction_result = pd.Series(model.predict(prediction_data[prediction_data.columns.difference(['NextDayChangePercent'])]))\n",
    "prediction_result.index = prediction_data.index.get_level_values(0)\n",
    "\n",
    "prediction_result = prediction_result.sort_values(ascending=False)\n",
    "\n",
    "display(prediction_result.head(10))"
   ]
  }
 ],
 "metadata": {
  "kernelspec": {
   "display_name": "Python 3",
   "language": "python",
   "name": "python3"
  },
  "language_info": {
   "codemirror_mode": {
    "name": "ipython",
    "version": 3
   },
   "file_extension": ".py",
   "mimetype": "text/x-python",
   "name": "python",
   "nbconvert_exporter": "python",
   "pygments_lexer": "ipython3",
   "version": "3.12.7"
  }
 },
 "nbformat": 4,
 "nbformat_minor": 2
}
