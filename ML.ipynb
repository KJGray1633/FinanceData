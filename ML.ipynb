{
 "cells": [
  {
   "cell_type": "markdown",
   "metadata": {},
   "source": [
    "Machine Learning for Stock Predictions"
   ]
  },
  {
   "cell_type": "code",
   "execution_count": 3,
   "metadata": {},
   "outputs": [],
   "source": [
    "import pandas as pd\n",
    "import sklearn\n",
    "import numpy as np\n",
    "import plotly_express as px\n",
    "from FinanceData import FinanceData\n",
    "\n",
    "import sklearn.discriminant_analysis\n",
    "import sklearn.model_selection\n",
    "import sklearn.preprocessing\n",
    "import sklearn.linear_model"
   ]
  },
  {
   "cell_type": "code",
   "execution_count": 1,
   "metadata": {},
   "outputs": [],
   "source": [
    "# Change path for where the data is being saved or accessed or None if getting but not saving\n",
    "path: str | None = 'DATA/combined_data.csv'\n",
    "# Change get_from_csv to True if saving or False for getting\n",
    "get_from_csv: bool = True"
   ]
  },
  {
   "cell_type": "markdown",
   "metadata": {},
   "source": [
    "Get and Organize Data"
   ]
  },
  {
   "cell_type": "code",
   "execution_count": 2,
   "metadata": {},
   "outputs": [
    {
     "ename": "NameError",
     "evalue": "name 'pd' is not defined",
     "output_type": "error",
     "traceback": [
      "\u001b[1;31m---------------------------------------------------------------------------\u001b[0m",
      "\u001b[1;31mNameError\u001b[0m                                 Traceback (most recent call last)",
      "Cell \u001b[1;32mIn[2], line 2\u001b[0m\n\u001b[0;32m      1\u001b[0m \u001b[38;5;66;03m# Get the data\u001b[39;00m\n\u001b[1;32m----> 2\u001b[0m df \u001b[38;5;241m=\u001b[39m \u001b[43mpd\u001b[49m\u001b[38;5;241m.\u001b[39mDataFrame()\n\u001b[0;32m      3\u001b[0m \u001b[38;5;28;01mif\u001b[39;00m get_from_csv \u001b[38;5;129;01mand\u001b[39;00m path \u001b[38;5;129;01mis\u001b[39;00m \u001b[38;5;129;01mnot\u001b[39;00m \u001b[38;5;28;01mNone\u001b[39;00m:\n\u001b[0;32m      4\u001b[0m     df \u001b[38;5;241m=\u001b[39m FinanceData\u001b[38;5;241m.\u001b[39mget_data_from_csv(path)\n",
      "\u001b[1;31mNameError\u001b[0m: name 'pd' is not defined"
     ]
    }
   ],
   "source": [
    "# Get the data either from a .csv file or load it all from Yahoo Finance\n",
    "df = pd.DataFrame()\n",
    "if get_from_csv and path is not None:\n",
    "    df = FinanceData.get_data_from_csv(path)\n",
    "elif not get_from_csv:\n",
    "    save_to_csv = True if path is not None else False\n",
    "    df = FinanceData.get_data(save_to_csv=save_to_csv, file_path_name=path,most_recent_day=True)\n",
    "else:\n",
    "    raise ValueError(\"Invalid path and get_from_csv variables\")\n",
    "\n",
    "# Display some of the data\n",
    "\n",
    "display(df.head())\n",
    "# Seperate the data to be predicted from the data to build the model from\n",
    "is_prediction = df['NextDayChangePercent'].isna()\n",
    "prediction_data = df[is_prediction]\n",
    "model_data = df[~is_prediction]\n",
    "\n",
    "# Seperate features and labels\n",
    "features = model_data[model_data.columns.difference(['NextDayChangePercent'])]\n",
    "labels = model_data['NextDayChangePercent']\n",
    "\n",
    "# Seperate training and testing data\n",
    "train_data, test_data, train_labels, test_labels = sklearn.model_selection.train_test_split(features, labels, test_size=0.3, random_state=0)"
   ]
  },
  {
   "cell_type": "code",
   "execution_count": 14,
   "metadata": {},
   "outputs": [
    {
     "data": {
      "text/plain": [
       "'DATA/combined_data.csv'"
      ]
     },
     "metadata": {},
     "output_type": "display_data"
    }
   ],
   "source": [
    "display(path)"
   ]
  },
  {
   "cell_type": "code",
   "execution_count": 15,
   "metadata": {},
   "outputs": [],
   "source": [
    "df.to_csv(path)"
   ]
  },
  {
   "cell_type": "markdown",
   "metadata": {},
   "source": [
    "Create LDA Model"
   ]
  },
  {
   "cell_type": "code",
   "execution_count": 40,
   "metadata": {},
   "outputs": [],
   "source": [
    "# Use sklearn to create LDA model\n",
    "model = sklearn.linear_model.LinearRegression()\n",
    "model.fit(train_data, train_labels)\n",
    "\n"
   ]
  },
  {
   "cell_type": "markdown",
   "metadata": {},
   "source": [
    "Run Model on Test Data"
   ]
  },
  {
   "cell_type": "code",
   "execution_count": null,
   "metadata": {},
   "outputs": [],
   "source": [
    "\n",
    "test_labels_prediction = model.predict(test_data)\n",
    "actual_and_predicted = pd.DataFrame({'actual':test_labels,'predicted':test_labels_prediction})"
   ]
  },
  {
   "cell_type": "markdown",
   "metadata": {},
   "source": [
    "Plot Test Data"
   ]
  },
  {
   "cell_type": "code",
   "execution_count": null,
   "metadata": {},
   "outputs": [],
   "source": [
    "fig = px.scatter(x=actual_and_predicted['actual'], y=actual_and_predicted['predicted'], hover_data={'Symbol' : test_labels.index.get_level_values(0), 'Date' : test_labels.index.get_level_values(1)})\n",
    "fig.update_layout(xaxis_title='Actual Change', yaxis_title='Predicted Change')\n",
    "fig.show()"
   ]
  },
  {
   "cell_type": "markdown",
   "metadata": {},
   "source": [
    "Make Predictions"
   ]
  },
  {
   "cell_type": "code",
   "execution_count": null,
   "metadata": {},
   "outputs": [],
   "source": [
    "prediction_result = pd.Series(model.predict(prediction_data.iloc[:,:-1]))\n",
    "prediction_result.index = prediction_data.index.get_level_values(0)\n",
    "\n",
    "display(prediction_result)\n"
   ]
  }
 ],
 "metadata": {
  "kernelspec": {
   "display_name": "Python 3",
   "language": "python",
   "name": "python3"
  },
  "language_info": {
   "codemirror_mode": {
    "name": "ipython",
    "version": 3
   },
   "file_extension": ".py",
   "mimetype": "text/x-python",
   "name": "python",
   "nbconvert_exporter": "python",
   "pygments_lexer": "ipython3",
   "version": "3.12.5"
  }
 },
 "nbformat": 4,
 "nbformat_minor": 2
}
