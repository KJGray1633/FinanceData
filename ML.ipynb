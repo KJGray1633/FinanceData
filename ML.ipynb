{
 "cells": [
  {
   "cell_type": "markdown",
   "metadata": {},
   "source": [
    "Machine Learning for Stock Predictions"
   ]
  },
  {
   "cell_type": "code",
   "execution_count": 1,
   "metadata": {},
   "outputs": [],
   "source": [
    "import pandas as pd\n",
    "import sklearn\n",
    "import numpy as np\n",
    "import plotly_express as px\n",
    "from FinanceData import FinanceData\n",
    "\n",
    "import sklearn.discriminant_analysis\n",
    "import sklearn.model_selection\n",
    "import sklearn.preprocessing\n",
    "import sklearn.linear_model"
   ]
  },
  {
   "cell_type": "code",
   "execution_count": 2,
   "metadata": {},
   "outputs": [],
   "source": [
    "# Change path for where the data is being saved or accessed or None if getting but not saving\n",
    "path: str | None = 'DATA/combined_data4.csv'\n",
    "# Change get_from_csv to True if saving or False for getting\n",
    "get_from_csv: bool = False"
   ]
  },
  {
   "cell_type": "markdown",
   "metadata": {},
   "source": [
    "Get and Organize Data"
   ]
  },
  {
   "cell_type": "code",
   "execution_count": 3,
   "metadata": {},
   "outputs": [
    {
     "name": "stderr",
     "output_type": "stream",
     "text": [
      "[*********************100%%**********************]  1 of 1 completed\n",
      "[*********************100%%**********************]  1 of 1 completed\n",
      "[*********************100%%**********************]  1 of 1 completed\n",
      "[*********************100%%**********************]  1 of 1 completed\n",
      "[*********************100%%**********************]  1 of 1 completed\n",
      "c:\\Users\\GRAYBILLKB20\\OneDrive - Grove City College\\Sophomore Year\\FinanceData\\FinanceData\\FinanceDataHelper.py:102: FutureWarning: The behavior of DataFrame concatenation with empty or all-NA entries is deprecated. In a future version, this will no longer exclude empty or all-NA columns when determining the result dtypes. To retain the old behavior, exclude the relevant entries before the concat operation.\n",
      "  return new_append_df if output_df is None else pd.concat([output_df,new_append_df])\n"
     ]
    },
    {
     "name": "stdout",
     "output_type": "stream",
     "text": [
      "1\n"
     ]
    },
    {
     "name": "stderr",
     "output_type": "stream",
     "text": [
      "[*********************100%%**********************]  1 of 1 completed\n",
      "[*********************100%%**********************]  1 of 1 completed\n",
      "[*********************100%%**********************]  1 of 1 completed\n",
      "[*********************100%%**********************]  1 of 1 completed\n",
      "[*********************100%%**********************]  1 of 1 completed\n",
      "c:\\Users\\GRAYBILLKB20\\OneDrive - Grove City College\\Sophomore Year\\FinanceData\\FinanceData\\FinanceDataHelper.py:102: FutureWarning: The behavior of DataFrame concatenation with empty or all-NA entries is deprecated. In a future version, this will no longer exclude empty or all-NA columns when determining the result dtypes. To retain the old behavior, exclude the relevant entries before the concat operation.\n",
      "  return new_append_df if output_df is None else pd.concat([output_df,new_append_df])\n"
     ]
    },
    {
     "name": "stdout",
     "output_type": "stream",
     "text": [
      "2\n"
     ]
    },
    {
     "name": "stderr",
     "output_type": "stream",
     "text": [
      "[*********************100%%**********************]  1 of 1 completed\n",
      "[*********************100%%**********************]  1 of 1 completed\n",
      "[*********************100%%**********************]  1 of 1 completed\n",
      "[*********************100%%**********************]  1 of 1 completed\n",
      "[*********************100%%**********************]  1 of 1 completed\n",
      "c:\\Users\\GRAYBILLKB20\\OneDrive - Grove City College\\Sophomore Year\\FinanceData\\FinanceData\\FinanceDataHelper.py:102: FutureWarning: The behavior of DataFrame concatenation with empty or all-NA entries is deprecated. In a future version, this will no longer exclude empty or all-NA columns when determining the result dtypes. To retain the old behavior, exclude the relevant entries before the concat operation.\n",
      "  return new_append_df if output_df is None else pd.concat([output_df,new_append_df])\n"
     ]
    },
    {
     "name": "stdout",
     "output_type": "stream",
     "text": [
      "3\n"
     ]
    },
    {
     "name": "stderr",
     "output_type": "stream",
     "text": [
      "[*********************100%%**********************]  1 of 1 completed\n",
      "[*********************100%%**********************]  1 of 1 completed\n",
      "[*********************100%%**********************]  1 of 1 completed\n",
      "[*********************100%%**********************]  1 of 1 completed\n",
      "[*********************100%%**********************]  1 of 1 completed\n",
      "c:\\Users\\GRAYBILLKB20\\OneDrive - Grove City College\\Sophomore Year\\FinanceData\\FinanceData\\FinanceDataHelper.py:102: FutureWarning: The behavior of DataFrame concatenation with empty or all-NA entries is deprecated. In a future version, this will no longer exclude empty or all-NA columns when determining the result dtypes. To retain the old behavior, exclude the relevant entries before the concat operation.\n",
      "  return new_append_df if output_df is None else pd.concat([output_df,new_append_df])\n"
     ]
    },
    {
     "name": "stdout",
     "output_type": "stream",
     "text": [
      "4\n"
     ]
    },
    {
     "name": "stderr",
     "output_type": "stream",
     "text": [
      "[*********************100%%**********************]  1 of 1 completed\n",
      "[*********************100%%**********************]  1 of 1 completed\n",
      "[*********************100%%**********************]  1 of 1 completed\n",
      "[*********************100%%**********************]  1 of 1 completed\n",
      "[*********************100%%**********************]  1 of 1 completed\n",
      "c:\\Users\\GRAYBILLKB20\\OneDrive - Grove City College\\Sophomore Year\\FinanceData\\FinanceData\\FinanceDataHelper.py:102: FutureWarning: The behavior of DataFrame concatenation with empty or all-NA entries is deprecated. In a future version, this will no longer exclude empty or all-NA columns when determining the result dtypes. To retain the old behavior, exclude the relevant entries before the concat operation.\n",
      "  return new_append_df if output_df is None else pd.concat([output_df,new_append_df])\n"
     ]
    },
    {
     "name": "stdout",
     "output_type": "stream",
     "text": [
      "5\n"
     ]
    },
    {
     "name": "stderr",
     "output_type": "stream",
     "text": [
      "[*********************100%%**********************]  1 of 1 completed\n",
      "[*********************100%%**********************]  1 of 1 completed\n",
      "[*********************100%%**********************]  1 of 1 completed\n",
      "[*********************100%%**********************]  1 of 1 completed\n",
      "[*********************100%%**********************]  1 of 1 completed\n",
      "c:\\Users\\GRAYBILLKB20\\OneDrive - Grove City College\\Sophomore Year\\FinanceData\\FinanceData\\FinanceDataHelper.py:102: FutureWarning: The behavior of DataFrame concatenation with empty or all-NA entries is deprecated. In a future version, this will no longer exclude empty or all-NA columns when determining the result dtypes. To retain the old behavior, exclude the relevant entries before the concat operation.\n",
      "  return new_append_df if output_df is None else pd.concat([output_df,new_append_df])\n"
     ]
    },
    {
     "name": "stdout",
     "output_type": "stream",
     "text": [
      "6\n"
     ]
    },
    {
     "name": "stderr",
     "output_type": "stream",
     "text": [
      "[*********************100%%**********************]  1 of 1 completed\n",
      "[*********************100%%**********************]  1 of 1 completed\n",
      "[*********************100%%**********************]  1 of 1 completed\n",
      "[*********************100%%**********************]  1 of 1 completed\n",
      "[*********************100%%**********************]  1 of 1 completed\n",
      "c:\\Users\\GRAYBILLKB20\\OneDrive - Grove City College\\Sophomore Year\\FinanceData\\FinanceData\\FinanceDataHelper.py:102: FutureWarning: The behavior of DataFrame concatenation with empty or all-NA entries is deprecated. In a future version, this will no longer exclude empty or all-NA columns when determining the result dtypes. To retain the old behavior, exclude the relevant entries before the concat operation.\n",
      "  return new_append_df if output_df is None else pd.concat([output_df,new_append_df])\n"
     ]
    },
    {
     "name": "stdout",
     "output_type": "stream",
     "text": [
      "7\n"
     ]
    },
    {
     "name": "stderr",
     "output_type": "stream",
     "text": [
      "[*********************100%%**********************]  1 of 1 completed\n",
      "[*********************100%%**********************]  1 of 1 completed\n",
      "[*********************100%%**********************]  1 of 1 completed\n",
      "[*********************100%%**********************]  1 of 1 completed\n",
      "[*********************100%%**********************]  1 of 1 completed\n",
      "c:\\Users\\GRAYBILLKB20\\OneDrive - Grove City College\\Sophomore Year\\FinanceData\\FinanceData\\FinanceDataHelper.py:102: FutureWarning: The behavior of DataFrame concatenation with empty or all-NA entries is deprecated. In a future version, this will no longer exclude empty or all-NA columns when determining the result dtypes. To retain the old behavior, exclude the relevant entries before the concat operation.\n",
      "  return new_append_df if output_df is None else pd.concat([output_df,new_append_df])\n"
     ]
    },
    {
     "name": "stdout",
     "output_type": "stream",
     "text": [
      "8\n"
     ]
    },
    {
     "name": "stderr",
     "output_type": "stream",
     "text": [
      "[*********************100%%**********************]  1 of 1 completed\n",
      "[*********************100%%**********************]  1 of 1 completed\n",
      "[*********************100%%**********************]  1 of 1 completed\n",
      "[*********************100%%**********************]  1 of 1 completed\n",
      "[*********************100%%**********************]  1 of 1 completed\n",
      "c:\\Users\\GRAYBILLKB20\\OneDrive - Grove City College\\Sophomore Year\\FinanceData\\FinanceData\\FinanceDataHelper.py:102: FutureWarning: The behavior of DataFrame concatenation with empty or all-NA entries is deprecated. In a future version, this will no longer exclude empty or all-NA columns when determining the result dtypes. To retain the old behavior, exclude the relevant entries before the concat operation.\n",
      "  return new_append_df if output_df is None else pd.concat([output_df,new_append_df])\n"
     ]
    },
    {
     "name": "stdout",
     "output_type": "stream",
     "text": [
      "9\n"
     ]
    },
    {
     "name": "stderr",
     "output_type": "stream",
     "text": [
      "[*********************100%%**********************]  1 of 1 completed\n",
      "[*********************100%%**********************]  1 of 1 completed\n",
      "[*********************100%%**********************]  1 of 1 completed\n",
      "[*********************100%%**********************]  1 of 1 completed\n",
      "[*********************100%%**********************]  1 of 1 completed\n",
      "c:\\Users\\GRAYBILLKB20\\OneDrive - Grove City College\\Sophomore Year\\FinanceData\\FinanceData\\FinanceDataHelper.py:102: FutureWarning: The behavior of DataFrame concatenation with empty or all-NA entries is deprecated. In a future version, this will no longer exclude empty or all-NA columns when determining the result dtypes. To retain the old behavior, exclude the relevant entries before the concat operation.\n",
      "  return new_append_df if output_df is None else pd.concat([output_df,new_append_df])\n"
     ]
    },
    {
     "name": "stdout",
     "output_type": "stream",
     "text": [
      "10\n"
     ]
    },
    {
     "name": "stderr",
     "output_type": "stream",
     "text": [
      "[*********************100%%**********************]  1 of 1 completed\n",
      "[*********************100%%**********************]  1 of 1 completed\n",
      "[*********************100%%**********************]  1 of 1 completed\n",
      "[*********************100%%**********************]  1 of 1 completed\n",
      "[*********************100%%**********************]  1 of 1 completed\n",
      "c:\\Users\\GRAYBILLKB20\\OneDrive - Grove City College\\Sophomore Year\\FinanceData\\FinanceData\\FinanceDataHelper.py:102: FutureWarning: The behavior of DataFrame concatenation with empty or all-NA entries is deprecated. In a future version, this will no longer exclude empty or all-NA columns when determining the result dtypes. To retain the old behavior, exclude the relevant entries before the concat operation.\n",
      "  return new_append_df if output_df is None else pd.concat([output_df,new_append_df])\n"
     ]
    },
    {
     "name": "stdout",
     "output_type": "stream",
     "text": [
      "11\n"
     ]
    },
    {
     "name": "stderr",
     "output_type": "stream",
     "text": [
      "[*********************100%%**********************]  1 of 1 completed\n",
      "[*********************100%%**********************]  1 of 1 completed\n",
      "[*********************100%%**********************]  1 of 1 completed\n",
      "[*********************100%%**********************]  1 of 1 completed\n",
      "[*********************100%%**********************]  1 of 1 completed\n",
      "c:\\Users\\GRAYBILLKB20\\OneDrive - Grove City College\\Sophomore Year\\FinanceData\\FinanceData\\FinanceDataHelper.py:102: FutureWarning: The behavior of DataFrame concatenation with empty or all-NA entries is deprecated. In a future version, this will no longer exclude empty or all-NA columns when determining the result dtypes. To retain the old behavior, exclude the relevant entries before the concat operation.\n",
      "  return new_append_df if output_df is None else pd.concat([output_df,new_append_df])\n"
     ]
    },
    {
     "name": "stdout",
     "output_type": "stream",
     "text": [
      "12\n"
     ]
    },
    {
     "name": "stderr",
     "output_type": "stream",
     "text": [
      "[*********************100%%**********************]  1 of 1 completed\n",
      "[*********************100%%**********************]  1 of 1 completed\n",
      "[*********************100%%**********************]  1 of 1 completed\n",
      "[*********************100%%**********************]  1 of 1 completed\n",
      "[*********************100%%**********************]  1 of 1 completed\n",
      "c:\\Users\\GRAYBILLKB20\\OneDrive - Grove City College\\Sophomore Year\\FinanceData\\FinanceData\\FinanceDataHelper.py:102: FutureWarning: The behavior of DataFrame concatenation with empty or all-NA entries is deprecated. In a future version, this will no longer exclude empty or all-NA columns when determining the result dtypes. To retain the old behavior, exclude the relevant entries before the concat operation.\n",
      "  return new_append_df if output_df is None else pd.concat([output_df,new_append_df])\n"
     ]
    },
    {
     "name": "stdout",
     "output_type": "stream",
     "text": [
      "13\n"
     ]
    },
    {
     "name": "stderr",
     "output_type": "stream",
     "text": [
      "[*********************100%%**********************]  1 of 1 completed\n",
      "[*********************100%%**********************]  1 of 1 completed\n",
      "[*********************100%%**********************]  1 of 1 completed\n",
      "[*********************100%%**********************]  1 of 1 completed\n",
      "[*********************100%%**********************]  1 of 1 completed\n",
      "c:\\Users\\GRAYBILLKB20\\OneDrive - Grove City College\\Sophomore Year\\FinanceData\\FinanceData\\FinanceDataHelper.py:102: FutureWarning: The behavior of DataFrame concatenation with empty or all-NA entries is deprecated. In a future version, this will no longer exclude empty or all-NA columns when determining the result dtypes. To retain the old behavior, exclude the relevant entries before the concat operation.\n",
      "  return new_append_df if output_df is None else pd.concat([output_df,new_append_df])\n"
     ]
    },
    {
     "name": "stdout",
     "output_type": "stream",
     "text": [
      "14\n"
     ]
    },
    {
     "name": "stderr",
     "output_type": "stream",
     "text": [
      "[*********************100%%**********************]  1 of 1 completed\n",
      "[*********************100%%**********************]  1 of 1 completed\n",
      "[*********************100%%**********************]  1 of 1 completed\n",
      "[*********************100%%**********************]  1 of 1 completed\n",
      "[*********************100%%**********************]  1 of 1 completed\n",
      "c:\\Users\\GRAYBILLKB20\\OneDrive - Grove City College\\Sophomore Year\\FinanceData\\FinanceData\\FinanceDataHelper.py:102: FutureWarning: The behavior of DataFrame concatenation with empty or all-NA entries is deprecated. In a future version, this will no longer exclude empty or all-NA columns when determining the result dtypes. To retain the old behavior, exclude the relevant entries before the concat operation.\n",
      "  return new_append_df if output_df is None else pd.concat([output_df,new_append_df])\n"
     ]
    },
    {
     "name": "stdout",
     "output_type": "stream",
     "text": [
      "15\n"
     ]
    },
    {
     "name": "stderr",
     "output_type": "stream",
     "text": [
      "[*********************100%%**********************]  1 of 1 completed\n",
      "[*********************100%%**********************]  1 of 1 completed\n",
      "[*********************100%%**********************]  1 of 1 completed\n",
      "[*********************100%%**********************]  1 of 1 completed\n",
      "[*********************100%%**********************]  1 of 1 completed\n",
      "c:\\Users\\GRAYBILLKB20\\OneDrive - Grove City College\\Sophomore Year\\FinanceData\\FinanceData\\FinanceDataHelper.py:102: FutureWarning: The behavior of DataFrame concatenation with empty or all-NA entries is deprecated. In a future version, this will no longer exclude empty or all-NA columns when determining the result dtypes. To retain the old behavior, exclude the relevant entries before the concat operation.\n",
      "  return new_append_df if output_df is None else pd.concat([output_df,new_append_df])\n"
     ]
    },
    {
     "name": "stdout",
     "output_type": "stream",
     "text": [
      "Index error retrieving data for ALGN stock on 2024-12-09 00:00:00: single positional indexer is out-of-bounds\n",
      "16\n"
     ]
    },
    {
     "name": "stderr",
     "output_type": "stream",
     "text": [
      "[*********************100%%**********************]  1 of 1 completed\n",
      "[*********************100%%**********************]  1 of 1 completed\n",
      "[*********************100%%**********************]  1 of 1 completed\n",
      "[*********************100%%**********************]  1 of 1 completed\n",
      "[*********************100%%**********************]  1 of 1 completed\n",
      "c:\\Users\\GRAYBILLKB20\\OneDrive - Grove City College\\Sophomore Year\\FinanceData\\FinanceData\\FinanceDataHelper.py:102: FutureWarning: The behavior of DataFrame concatenation with empty or all-NA entries is deprecated. In a future version, this will no longer exclude empty or all-NA columns when determining the result dtypes. To retain the old behavior, exclude the relevant entries before the concat operation.\n",
      "  return new_append_df if output_df is None else pd.concat([output_df,new_append_df])\n"
     ]
    },
    {
     "name": "stdout",
     "output_type": "stream",
     "text": [
      "17\n"
     ]
    },
    {
     "name": "stderr",
     "output_type": "stream",
     "text": [
      "[*********************100%%**********************]  1 of 1 completed\n",
      "[*********************100%%**********************]  1 of 1 completed\n",
      "[*********************100%%**********************]  1 of 1 completed\n",
      "[*********************100%%**********************]  1 of 1 completed\n",
      "[*********************100%%**********************]  1 of 1 completed\n",
      "c:\\Users\\GRAYBILLKB20\\OneDrive - Grove City College\\Sophomore Year\\FinanceData\\FinanceData\\FinanceDataHelper.py:102: FutureWarning: The behavior of DataFrame concatenation with empty or all-NA entries is deprecated. In a future version, this will no longer exclude empty or all-NA columns when determining the result dtypes. To retain the old behavior, exclude the relevant entries before the concat operation.\n",
      "  return new_append_df if output_df is None else pd.concat([output_df,new_append_df])\n"
     ]
    },
    {
     "name": "stdout",
     "output_type": "stream",
     "text": [
      "18\n"
     ]
    },
    {
     "name": "stderr",
     "output_type": "stream",
     "text": [
      "[*********************100%%**********************]  1 of 1 completed\n",
      "[*********************100%%**********************]  1 of 1 completed\n",
      "[*********************100%%**********************]  1 of 1 completed\n",
      "[*********************100%%**********************]  1 of 1 completed\n",
      "[*********************100%%**********************]  1 of 1 completed\n",
      "c:\\Users\\GRAYBILLKB20\\OneDrive - Grove City College\\Sophomore Year\\FinanceData\\FinanceData\\FinanceDataHelper.py:102: FutureWarning: The behavior of DataFrame concatenation with empty or all-NA entries is deprecated. In a future version, this will no longer exclude empty or all-NA columns when determining the result dtypes. To retain the old behavior, exclude the relevant entries before the concat operation.\n",
      "  return new_append_df if output_df is None else pd.concat([output_df,new_append_df])\n"
     ]
    },
    {
     "name": "stdout",
     "output_type": "stream",
     "text": [
      "19\n"
     ]
    },
    {
     "name": "stderr",
     "output_type": "stream",
     "text": [
      "[*********************100%%**********************]  1 of 1 completed\n",
      "[*********************100%%**********************]  1 of 1 completed\n",
      "[*********************100%%**********************]  1 of 1 completed\n",
      "[*********************100%%**********************]  1 of 1 completed\n",
      "[*********************100%%**********************]  1 of 1 completed\n",
      "c:\\Users\\GRAYBILLKB20\\OneDrive - Grove City College\\Sophomore Year\\FinanceData\\FinanceData\\FinanceDataHelper.py:102: FutureWarning: The behavior of DataFrame concatenation with empty or all-NA entries is deprecated. In a future version, this will no longer exclude empty or all-NA columns when determining the result dtypes. To retain the old behavior, exclude the relevant entries before the concat operation.\n",
      "  return new_append_df if output_df is None else pd.concat([output_df,new_append_df])\n"
     ]
    },
    {
     "name": "stdout",
     "output_type": "stream",
     "text": [
      "20\n"
     ]
    },
    {
     "name": "stderr",
     "output_type": "stream",
     "text": [
      "[*********************100%%**********************]  1 of 1 completed\n",
      "[*********************100%%**********************]  1 of 1 completed\n",
      "[*********************100%%**********************]  1 of 1 completed\n",
      "[*********************100%%**********************]  1 of 1 completed\n",
      "[*********************100%%**********************]  1 of 1 completed\n",
      "c:\\Users\\GRAYBILLKB20\\OneDrive - Grove City College\\Sophomore Year\\FinanceData\\FinanceData\\FinanceDataHelper.py:102: FutureWarning: The behavior of DataFrame concatenation with empty or all-NA entries is deprecated. In a future version, this will no longer exclude empty or all-NA columns when determining the result dtypes. To retain the old behavior, exclude the relevant entries before the concat operation.\n",
      "  return new_append_df if output_df is None else pd.concat([output_df,new_append_df])\n"
     ]
    },
    {
     "name": "stdout",
     "output_type": "stream",
     "text": [
      "21\n"
     ]
    },
    {
     "name": "stderr",
     "output_type": "stream",
     "text": [
      "[*********************100%%**********************]  1 of 1 completed\n",
      "[*********************100%%**********************]  1 of 1 completed\n",
      "[*********************100%%**********************]  1 of 1 completed\n",
      "[*********************100%%**********************]  1 of 1 completed\n",
      "[*********************100%%**********************]  1 of 1 completed\n",
      "c:\\Users\\GRAYBILLKB20\\OneDrive - Grove City College\\Sophomore Year\\FinanceData\\FinanceData\\FinanceDataHelper.py:102: FutureWarning: The behavior of DataFrame concatenation with empty or all-NA entries is deprecated. In a future version, this will no longer exclude empty or all-NA columns when determining the result dtypes. To retain the old behavior, exclude the relevant entries before the concat operation.\n",
      "  return new_append_df if output_df is None else pd.concat([output_df,new_append_df])\n"
     ]
    },
    {
     "name": "stdout",
     "output_type": "stream",
     "text": [
      "22\n"
     ]
    },
    {
     "name": "stderr",
     "output_type": "stream",
     "text": [
      "[*********************100%%**********************]  1 of 1 completed\n",
      "[*********************100%%**********************]  1 of 1 completed\n",
      "[*********************100%%**********************]  1 of 1 completed\n",
      "[*********************100%%**********************]  1 of 1 completed\n",
      "[*********************100%%**********************]  1 of 1 completed\n",
      "c:\\Users\\GRAYBILLKB20\\OneDrive - Grove City College\\Sophomore Year\\FinanceData\\FinanceData\\FinanceDataHelper.py:102: FutureWarning: The behavior of DataFrame concatenation with empty or all-NA entries is deprecated. In a future version, this will no longer exclude empty or all-NA columns when determining the result dtypes. To retain the old behavior, exclude the relevant entries before the concat operation.\n",
      "  return new_append_df if output_df is None else pd.concat([output_df,new_append_df])\n"
     ]
    },
    {
     "name": "stdout",
     "output_type": "stream",
     "text": [
      "23\n"
     ]
    },
    {
     "name": "stderr",
     "output_type": "stream",
     "text": [
      "[*********************100%%**********************]  1 of 1 completed\n",
      "[*********************100%%**********************]  1 of 1 completed\n",
      "[*********************100%%**********************]  1 of 1 completed\n",
      "[*********************100%%**********************]  1 of 1 completed\n",
      "[*********************100%%**********************]  1 of 1 completed\n",
      "c:\\Users\\GRAYBILLKB20\\OneDrive - Grove City College\\Sophomore Year\\FinanceData\\FinanceData\\FinanceDataHelper.py:102: FutureWarning: The behavior of DataFrame concatenation with empty or all-NA entries is deprecated. In a future version, this will no longer exclude empty or all-NA columns when determining the result dtypes. To retain the old behavior, exclude the relevant entries before the concat operation.\n",
      "  return new_append_df if output_df is None else pd.concat([output_df,new_append_df])\n"
     ]
    },
    {
     "name": "stdout",
     "output_type": "stream",
     "text": [
      "24\n"
     ]
    },
    {
     "name": "stderr",
     "output_type": "stream",
     "text": [
      "[*********************100%%**********************]  1 of 1 completed\n",
      "[*********************100%%**********************]  1 of 1 completed\n",
      "[*********************100%%**********************]  1 of 1 completed\n",
      "[*********************100%%**********************]  1 of 1 completed\n",
      "[*********************100%%**********************]  1 of 1 completed\n",
      "c:\\Users\\GRAYBILLKB20\\OneDrive - Grove City College\\Sophomore Year\\FinanceData\\FinanceData\\FinanceDataHelper.py:102: FutureWarning: The behavior of DataFrame concatenation with empty or all-NA entries is deprecated. In a future version, this will no longer exclude empty or all-NA columns when determining the result dtypes. To retain the old behavior, exclude the relevant entries before the concat operation.\n",
      "  return new_append_df if output_df is None else pd.concat([output_df,new_append_df])\n"
     ]
    },
    {
     "name": "stdout",
     "output_type": "stream",
     "text": [
      "25\n"
     ]
    },
    {
     "name": "stderr",
     "output_type": "stream",
     "text": [
      "[*********************100%%**********************]  1 of 1 completed\n",
      "[*********************100%%**********************]  1 of 1 completed\n",
      "[*********************100%%**********************]  1 of 1 completed\n",
      "[*********************100%%**********************]  1 of 1 completed\n",
      "[*********************100%%**********************]  1 of 1 completed\n",
      "c:\\Users\\GRAYBILLKB20\\OneDrive - Grove City College\\Sophomore Year\\FinanceData\\FinanceData\\FinanceDataHelper.py:102: FutureWarning: The behavior of DataFrame concatenation with empty or all-NA entries is deprecated. In a future version, this will no longer exclude empty or all-NA columns when determining the result dtypes. To retain the old behavior, exclude the relevant entries before the concat operation.\n",
      "  return new_append_df if output_df is None else pd.concat([output_df,new_append_df])\n"
     ]
    },
    {
     "name": "stdout",
     "output_type": "stream",
     "text": [
      "26\n"
     ]
    },
    {
     "name": "stderr",
     "output_type": "stream",
     "text": [
      "[*********************100%%**********************]  1 of 1 completed\n",
      "[*********************100%%**********************]  1 of 1 completed\n",
      "[*********************100%%**********************]  1 of 1 completed\n",
      "[*********************100%%**********************]  1 of 1 completed\n",
      "[*********************100%%**********************]  1 of 1 completed\n",
      "c:\\Users\\GRAYBILLKB20\\OneDrive - Grove City College\\Sophomore Year\\FinanceData\\FinanceData\\FinanceDataHelper.py:102: FutureWarning: The behavior of DataFrame concatenation with empty or all-NA entries is deprecated. In a future version, this will no longer exclude empty or all-NA columns when determining the result dtypes. To retain the old behavior, exclude the relevant entries before the concat operation.\n",
      "  return new_append_df if output_df is None else pd.concat([output_df,new_append_df])\n"
     ]
    },
    {
     "name": "stdout",
     "output_type": "stream",
     "text": [
      "27\n"
     ]
    },
    {
     "name": "stderr",
     "output_type": "stream",
     "text": [
      "[*********************100%%**********************]  1 of 1 completed\n",
      "[*********************100%%**********************]  1 of 1 completed\n",
      "[*********************100%%**********************]  1 of 1 completed\n",
      "[*********************100%%**********************]  1 of 1 completed\n",
      "[*********************100%%**********************]  1 of 1 completed\n",
      "c:\\Users\\GRAYBILLKB20\\OneDrive - Grove City College\\Sophomore Year\\FinanceData\\FinanceData\\FinanceDataHelper.py:102: FutureWarning: The behavior of DataFrame concatenation with empty or all-NA entries is deprecated. In a future version, this will no longer exclude empty or all-NA columns when determining the result dtypes. To retain the old behavior, exclude the relevant entries before the concat operation.\n",
      "  return new_append_df if output_df is None else pd.concat([output_df,new_append_df])\n"
     ]
    },
    {
     "name": "stdout",
     "output_type": "stream",
     "text": [
      "28\n"
     ]
    },
    {
     "name": "stderr",
     "output_type": "stream",
     "text": [
      "[*********************100%%**********************]  1 of 1 completed\n",
      "[*********************100%%**********************]  1 of 1 completed\n",
      "[*********************100%%**********************]  1 of 1 completed\n",
      "[*********************100%%**********************]  1 of 1 completed\n",
      "[*********************100%%**********************]  1 of 1 completed\n",
      "c:\\Users\\GRAYBILLKB20\\OneDrive - Grove City College\\Sophomore Year\\FinanceData\\FinanceData\\FinanceDataHelper.py:102: FutureWarning: The behavior of DataFrame concatenation with empty or all-NA entries is deprecated. In a future version, this will no longer exclude empty or all-NA columns when determining the result dtypes. To retain the old behavior, exclude the relevant entries before the concat operation.\n",
      "  return new_append_df if output_df is None else pd.concat([output_df,new_append_df])\n"
     ]
    },
    {
     "name": "stdout",
     "output_type": "stream",
     "text": [
      "29\n"
     ]
    },
    {
     "name": "stderr",
     "output_type": "stream",
     "text": [
      "[*********************100%%**********************]  1 of 1 completed\n",
      "[*********************100%%**********************]  1 of 1 completed\n",
      "[*********************100%%**********************]  1 of 1 completed\n",
      "[*********************100%%**********************]  1 of 1 completed\n",
      "[*********************100%%**********************]  1 of 1 completed\n",
      "c:\\Users\\GRAYBILLKB20\\OneDrive - Grove City College\\Sophomore Year\\FinanceData\\FinanceData\\FinanceDataHelper.py:102: FutureWarning: The behavior of DataFrame concatenation with empty or all-NA entries is deprecated. In a future version, this will no longer exclude empty or all-NA columns when determining the result dtypes. To retain the old behavior, exclude the relevant entries before the concat operation.\n",
      "  return new_append_df if output_df is None else pd.concat([output_df,new_append_df])\n"
     ]
    },
    {
     "name": "stdout",
     "output_type": "stream",
     "text": [
      "30\n"
     ]
    },
    {
     "name": "stderr",
     "output_type": "stream",
     "text": [
      "[*********************100%%**********************]  1 of 1 completed\n",
      "[*********************100%%**********************]  1 of 1 completed\n",
      "[*********************100%%**********************]  1 of 1 completed\n",
      "[*********************100%%**********************]  1 of 1 completed\n",
      "[*********************100%%**********************]  1 of 1 completed\n",
      "c:\\Users\\GRAYBILLKB20\\OneDrive - Grove City College\\Sophomore Year\\FinanceData\\FinanceData\\FinanceDataHelper.py:102: FutureWarning: The behavior of DataFrame concatenation with empty or all-NA entries is deprecated. In a future version, this will no longer exclude empty or all-NA columns when determining the result dtypes. To retain the old behavior, exclude the relevant entries before the concat operation.\n",
      "  return new_append_df if output_df is None else pd.concat([output_df,new_append_df])\n"
     ]
    },
    {
     "name": "stdout",
     "output_type": "stream",
     "text": [
      "Index error retrieving data for AMP stock on 2024-12-09 00:00:00: single positional indexer is out-of-bounds\n",
      "31\n"
     ]
    },
    {
     "name": "stderr",
     "output_type": "stream",
     "text": [
      "[*********************100%%**********************]  1 of 1 completed\n",
      "[*********************100%%**********************]  1 of 1 completed\n",
      "[*********************100%%**********************]  1 of 1 completed\n",
      "[*********************100%%**********************]  1 of 1 completed\n",
      "[*********************100%%**********************]  1 of 1 completed\n",
      "c:\\Users\\GRAYBILLKB20\\OneDrive - Grove City College\\Sophomore Year\\FinanceData\\FinanceData\\FinanceDataHelper.py:102: FutureWarning: The behavior of DataFrame concatenation with empty or all-NA entries is deprecated. In a future version, this will no longer exclude empty or all-NA columns when determining the result dtypes. To retain the old behavior, exclude the relevant entries before the concat operation.\n",
      "  return new_append_df if output_df is None else pd.concat([output_df,new_append_df])\n"
     ]
    },
    {
     "name": "stdout",
     "output_type": "stream",
     "text": [
      "32\n"
     ]
    },
    {
     "name": "stderr",
     "output_type": "stream",
     "text": [
      "[*********************100%%**********************]  1 of 1 completed\n",
      "[*********************100%%**********************]  1 of 1 completed\n",
      "[*********************100%%**********************]  1 of 1 completed\n",
      "[*********************100%%**********************]  1 of 1 completed\n",
      "[*********************100%%**********************]  1 of 1 completed\n",
      "c:\\Users\\GRAYBILLKB20\\OneDrive - Grove City College\\Sophomore Year\\FinanceData\\FinanceData\\FinanceDataHelper.py:102: FutureWarning: The behavior of DataFrame concatenation with empty or all-NA entries is deprecated. In a future version, this will no longer exclude empty or all-NA columns when determining the result dtypes. To retain the old behavior, exclude the relevant entries before the concat operation.\n",
      "  return new_append_df if output_df is None else pd.concat([output_df,new_append_df])\n"
     ]
    },
    {
     "name": "stdout",
     "output_type": "stream",
     "text": [
      "33\n"
     ]
    },
    {
     "name": "stderr",
     "output_type": "stream",
     "text": [
      "[*********************100%%**********************]  1 of 1 completed\n",
      "[*********************100%%**********************]  1 of 1 completed\n",
      "[*********************100%%**********************]  1 of 1 completed\n",
      "[*********************100%%**********************]  1 of 1 completed\n",
      "[*********************100%%**********************]  1 of 1 completed\n",
      "c:\\Users\\GRAYBILLKB20\\OneDrive - Grove City College\\Sophomore Year\\FinanceData\\FinanceData\\FinanceDataHelper.py:102: FutureWarning: The behavior of DataFrame concatenation with empty or all-NA entries is deprecated. In a future version, this will no longer exclude empty or all-NA columns when determining the result dtypes. To retain the old behavior, exclude the relevant entries before the concat operation.\n",
      "  return new_append_df if output_df is None else pd.concat([output_df,new_append_df])\n"
     ]
    },
    {
     "name": "stdout",
     "output_type": "stream",
     "text": [
      "34\n"
     ]
    },
    {
     "name": "stderr",
     "output_type": "stream",
     "text": [
      "[*********************100%%**********************]  1 of 1 completed\n",
      "[*********************100%%**********************]  1 of 1 completed\n",
      "[*********************100%%**********************]  1 of 1 completed\n",
      "[*********************100%%**********************]  1 of 1 completed\n",
      "[*********************100%%**********************]  1 of 1 completed\n",
      "c:\\Users\\GRAYBILLKB20\\OneDrive - Grove City College\\Sophomore Year\\FinanceData\\FinanceData\\FinanceDataHelper.py:102: FutureWarning: The behavior of DataFrame concatenation with empty or all-NA entries is deprecated. In a future version, this will no longer exclude empty or all-NA columns when determining the result dtypes. To retain the old behavior, exclude the relevant entries before the concat operation.\n",
      "  return new_append_df if output_df is None else pd.concat([output_df,new_append_df])\n"
     ]
    },
    {
     "name": "stdout",
     "output_type": "stream",
     "text": [
      "35\n"
     ]
    },
    {
     "name": "stderr",
     "output_type": "stream",
     "text": [
      "[*********************100%%**********************]  1 of 1 completed\n",
      "[*********************100%%**********************]  1 of 1 completed\n",
      "[*********************100%%**********************]  1 of 1 completed\n",
      "[*********************100%%**********************]  1 of 1 completed\n",
      "[*********************100%%**********************]  1 of 1 completed\n",
      "c:\\Users\\GRAYBILLKB20\\OneDrive - Grove City College\\Sophomore Year\\FinanceData\\FinanceData\\FinanceDataHelper.py:102: FutureWarning: The behavior of DataFrame concatenation with empty or all-NA entries is deprecated. In a future version, this will no longer exclude empty or all-NA columns when determining the result dtypes. To retain the old behavior, exclude the relevant entries before the concat operation.\n",
      "  return new_append_df if output_df is None else pd.concat([output_df,new_append_df])\n"
     ]
    },
    {
     "name": "stdout",
     "output_type": "stream",
     "text": [
      "Index error retrieving data for ANSS stock on 2024-12-10 00:00:00: single positional indexer is out-of-bounds\n",
      "Index error retrieving data for ANSS stock on 2024-12-09 00:00:00: single positional indexer is out-of-bounds\n",
      "36\n"
     ]
    },
    {
     "name": "stderr",
     "output_type": "stream",
     "text": [
      "[*********************100%%**********************]  1 of 1 completed\n",
      "[*********************100%%**********************]  1 of 1 completed\n",
      "[*********************100%%**********************]  1 of 1 completed\n",
      "[*********************100%%**********************]  1 of 1 completed\n",
      "[*********************100%%**********************]  1 of 1 completed\n",
      "c:\\Users\\GRAYBILLKB20\\OneDrive - Grove City College\\Sophomore Year\\FinanceData\\FinanceData\\FinanceDataHelper.py:102: FutureWarning: The behavior of DataFrame concatenation with empty or all-NA entries is deprecated. In a future version, this will no longer exclude empty or all-NA columns when determining the result dtypes. To retain the old behavior, exclude the relevant entries before the concat operation.\n",
      "  return new_append_df if output_df is None else pd.concat([output_df,new_append_df])\n"
     ]
    },
    {
     "name": "stdout",
     "output_type": "stream",
     "text": [
      "37\n"
     ]
    },
    {
     "name": "stderr",
     "output_type": "stream",
     "text": [
      "[*********************100%%**********************]  1 of 1 completed\n",
      "[*********************100%%**********************]  1 of 1 completed\n",
      "[*********************100%%**********************]  1 of 1 completed\n",
      "[*********************100%%**********************]  1 of 1 completed\n",
      "[*********************100%%**********************]  1 of 1 completed\n",
      "c:\\Users\\GRAYBILLKB20\\OneDrive - Grove City College\\Sophomore Year\\FinanceData\\FinanceData\\FinanceDataHelper.py:102: FutureWarning: The behavior of DataFrame concatenation with empty or all-NA entries is deprecated. In a future version, this will no longer exclude empty or all-NA columns when determining the result dtypes. To retain the old behavior, exclude the relevant entries before the concat operation.\n",
      "  return new_append_df if output_df is None else pd.concat([output_df,new_append_df])\n"
     ]
    },
    {
     "name": "stdout",
     "output_type": "stream",
     "text": [
      "38\n"
     ]
    },
    {
     "name": "stderr",
     "output_type": "stream",
     "text": [
      "[*********************100%%**********************]  1 of 1 completed\n",
      "[*********************100%%**********************]  1 of 1 completed\n",
      "[*********************100%%**********************]  1 of 1 completed\n",
      "[*********************100%%**********************]  1 of 1 completed\n",
      "[*********************100%%**********************]  1 of 1 completed\n",
      "c:\\Users\\GRAYBILLKB20\\OneDrive - Grove City College\\Sophomore Year\\FinanceData\\FinanceData\\FinanceDataHelper.py:102: FutureWarning: The behavior of DataFrame concatenation with empty or all-NA entries is deprecated. In a future version, this will no longer exclude empty or all-NA columns when determining the result dtypes. To retain the old behavior, exclude the relevant entries before the concat operation.\n",
      "  return new_append_df if output_df is None else pd.concat([output_df,new_append_df])\n"
     ]
    },
    {
     "name": "stdout",
     "output_type": "stream",
     "text": [
      "39\n"
     ]
    },
    {
     "name": "stderr",
     "output_type": "stream",
     "text": [
      "[*********************100%%**********************]  1 of 1 completed\n",
      "[*********************100%%**********************]  1 of 1 completed\n",
      "[*********************100%%**********************]  1 of 1 completed\n",
      "[*********************100%%**********************]  1 of 1 completed\n",
      "[*********************100%%**********************]  1 of 1 completed\n",
      "c:\\Users\\GRAYBILLKB20\\OneDrive - Grove City College\\Sophomore Year\\FinanceData\\FinanceData\\FinanceDataHelper.py:102: FutureWarning: The behavior of DataFrame concatenation with empty or all-NA entries is deprecated. In a future version, this will no longer exclude empty or all-NA columns when determining the result dtypes. To retain the old behavior, exclude the relevant entries before the concat operation.\n",
      "  return new_append_df if output_df is None else pd.concat([output_df,new_append_df])\n"
     ]
    },
    {
     "name": "stdout",
     "output_type": "stream",
     "text": [
      "40\n"
     ]
    },
    {
     "name": "stderr",
     "output_type": "stream",
     "text": [
      "[*********************100%%**********************]  1 of 1 completed\n",
      "[*********************100%%**********************]  1 of 1 completed\n",
      "[*********************100%%**********************]  1 of 1 completed\n",
      "[*********************100%%**********************]  1 of 1 completed\n",
      "[*********************100%%**********************]  1 of 1 completed\n",
      "c:\\Users\\GRAYBILLKB20\\OneDrive - Grove City College\\Sophomore Year\\FinanceData\\FinanceData\\FinanceDataHelper.py:102: FutureWarning: The behavior of DataFrame concatenation with empty or all-NA entries is deprecated. In a future version, this will no longer exclude empty or all-NA columns when determining the result dtypes. To retain the old behavior, exclude the relevant entries before the concat operation.\n",
      "  return new_append_df if output_df is None else pd.concat([output_df,new_append_df])\n"
     ]
    },
    {
     "name": "stdout",
     "output_type": "stream",
     "text": [
      "41\n"
     ]
    },
    {
     "name": "stderr",
     "output_type": "stream",
     "text": [
      "[*********************100%%**********************]  1 of 1 completed\n",
      "[*********************100%%**********************]  1 of 1 completed\n",
      "[*********************100%%**********************]  1 of 1 completed\n",
      "[*********************100%%**********************]  1 of 1 completed\n",
      "[*********************100%%**********************]  1 of 1 completed\n",
      "c:\\Users\\GRAYBILLKB20\\OneDrive - Grove City College\\Sophomore Year\\FinanceData\\FinanceData\\FinanceDataHelper.py:102: FutureWarning: The behavior of DataFrame concatenation with empty or all-NA entries is deprecated. In a future version, this will no longer exclude empty or all-NA columns when determining the result dtypes. To retain the old behavior, exclude the relevant entries before the concat operation.\n",
      "  return new_append_df if output_df is None else pd.concat([output_df,new_append_df])\n"
     ]
    },
    {
     "name": "stdout",
     "output_type": "stream",
     "text": [
      "42\n"
     ]
    },
    {
     "name": "stderr",
     "output_type": "stream",
     "text": [
      "[*********************100%%**********************]  1 of 1 completed\n",
      "[*********************100%%**********************]  1 of 1 completed\n",
      "[*********************100%%**********************]  1 of 1 completed\n",
      "[*********************100%%**********************]  1 of 1 completed\n",
      "[*********************100%%**********************]  1 of 1 completed\n",
      "c:\\Users\\GRAYBILLKB20\\OneDrive - Grove City College\\Sophomore Year\\FinanceData\\FinanceData\\FinanceDataHelper.py:102: FutureWarning: The behavior of DataFrame concatenation with empty or all-NA entries is deprecated. In a future version, this will no longer exclude empty or all-NA columns when determining the result dtypes. To retain the old behavior, exclude the relevant entries before the concat operation.\n",
      "  return new_append_df if output_df is None else pd.concat([output_df,new_append_df])\n"
     ]
    },
    {
     "name": "stdout",
     "output_type": "stream",
     "text": [
      "43\n"
     ]
    },
    {
     "name": "stderr",
     "output_type": "stream",
     "text": [
      "[*********************100%%**********************]  1 of 1 completed\n",
      "[*********************100%%**********************]  1 of 1 completed\n",
      "[*********************100%%**********************]  1 of 1 completed\n",
      "[*********************100%%**********************]  1 of 1 completed\n",
      "[*********************100%%**********************]  1 of 1 completed\n",
      "c:\\Users\\GRAYBILLKB20\\OneDrive - Grove City College\\Sophomore Year\\FinanceData\\FinanceData\\FinanceDataHelper.py:102: FutureWarning: The behavior of DataFrame concatenation with empty or all-NA entries is deprecated. In a future version, this will no longer exclude empty or all-NA columns when determining the result dtypes. To retain the old behavior, exclude the relevant entries before the concat operation.\n",
      "  return new_append_df if output_df is None else pd.concat([output_df,new_append_df])\n"
     ]
    },
    {
     "name": "stdout",
     "output_type": "stream",
     "text": [
      "44\n"
     ]
    },
    {
     "name": "stderr",
     "output_type": "stream",
     "text": [
      "[*********************100%%**********************]  1 of 1 completed\n",
      "[*********************100%%**********************]  1 of 1 completed\n",
      "[*********************100%%**********************]  1 of 1 completed\n",
      "[*********************100%%**********************]  1 of 1 completed\n",
      "[*********************100%%**********************]  1 of 1 completed\n",
      "c:\\Users\\GRAYBILLKB20\\OneDrive - Grove City College\\Sophomore Year\\FinanceData\\FinanceData\\FinanceDataHelper.py:102: FutureWarning: The behavior of DataFrame concatenation with empty or all-NA entries is deprecated. In a future version, this will no longer exclude empty or all-NA columns when determining the result dtypes. To retain the old behavior, exclude the relevant entries before the concat operation.\n",
      "  return new_append_df if output_df is None else pd.concat([output_df,new_append_df])\n"
     ]
    },
    {
     "name": "stdout",
     "output_type": "stream",
     "text": [
      "45\n"
     ]
    },
    {
     "name": "stderr",
     "output_type": "stream",
     "text": [
      "[*********************100%%**********************]  1 of 1 completed\n",
      "[*********************100%%**********************]  1 of 1 completed\n",
      "[*********************100%%**********************]  1 of 1 completed\n",
      "[*********************100%%**********************]  1 of 1 completed\n",
      "[*********************100%%**********************]  1 of 1 completed\n",
      "c:\\Users\\GRAYBILLKB20\\OneDrive - Grove City College\\Sophomore Year\\FinanceData\\FinanceData\\FinanceDataHelper.py:102: FutureWarning: The behavior of DataFrame concatenation with empty or all-NA entries is deprecated. In a future version, this will no longer exclude empty or all-NA columns when determining the result dtypes. To retain the old behavior, exclude the relevant entries before the concat operation.\n",
      "  return new_append_df if output_df is None else pd.concat([output_df,new_append_df])\n"
     ]
    },
    {
     "name": "stdout",
     "output_type": "stream",
     "text": [
      "46\n"
     ]
    },
    {
     "name": "stderr",
     "output_type": "stream",
     "text": [
      "[*********************100%%**********************]  1 of 1 completed\n",
      "[*********************100%%**********************]  1 of 1 completed\n",
      "[*********************100%%**********************]  1 of 1 completed\n",
      "[*********************100%%**********************]  1 of 1 completed\n",
      "[*********************100%%**********************]  1 of 1 completed\n",
      "c:\\Users\\GRAYBILLKB20\\OneDrive - Grove City College\\Sophomore Year\\FinanceData\\FinanceData\\FinanceDataHelper.py:102: FutureWarning: The behavior of DataFrame concatenation with empty or all-NA entries is deprecated. In a future version, this will no longer exclude empty or all-NA columns when determining the result dtypes. To retain the old behavior, exclude the relevant entries before the concat operation.\n",
      "  return new_append_df if output_df is None else pd.concat([output_df,new_append_df])\n"
     ]
    },
    {
     "name": "stdout",
     "output_type": "stream",
     "text": [
      "Index error retrieving data for AIZ stock on 2024-12-10 00:00:00: single positional indexer is out-of-bounds\n",
      "Index error retrieving data for AIZ stock on 2024-12-09 00:00:00: single positional indexer is out-of-bounds\n",
      "47\n"
     ]
    },
    {
     "name": "stderr",
     "output_type": "stream",
     "text": [
      "[*********************100%%**********************]  1 of 1 completed\n",
      "[*********************100%%**********************]  1 of 1 completed\n",
      "[*********************100%%**********************]  1 of 1 completed\n",
      "[*********************100%%**********************]  1 of 1 completed\n",
      "[*********************100%%**********************]  1 of 1 completed\n",
      "c:\\Users\\GRAYBILLKB20\\OneDrive - Grove City College\\Sophomore Year\\FinanceData\\FinanceData\\FinanceDataHelper.py:102: FutureWarning: The behavior of DataFrame concatenation with empty or all-NA entries is deprecated. In a future version, this will no longer exclude empty or all-NA columns when determining the result dtypes. To retain the old behavior, exclude the relevant entries before the concat operation.\n",
      "  return new_append_df if output_df is None else pd.concat([output_df,new_append_df])\n"
     ]
    },
    {
     "name": "stdout",
     "output_type": "stream",
     "text": [
      "48\n"
     ]
    },
    {
     "name": "stderr",
     "output_type": "stream",
     "text": [
      "[*********************100%%**********************]  1 of 1 completed\n",
      "[*********************100%%**********************]  1 of 1 completed\n",
      "[*********************100%%**********************]  1 of 1 completed\n",
      "[*********************100%%**********************]  1 of 1 completed\n",
      "[*********************100%%**********************]  1 of 1 completed\n",
      "c:\\Users\\GRAYBILLKB20\\OneDrive - Grove City College\\Sophomore Year\\FinanceData\\FinanceData\\FinanceDataHelper.py:102: FutureWarning: The behavior of DataFrame concatenation with empty or all-NA entries is deprecated. In a future version, this will no longer exclude empty or all-NA columns when determining the result dtypes. To retain the old behavior, exclude the relevant entries before the concat operation.\n",
      "  return new_append_df if output_df is None else pd.concat([output_df,new_append_df])\n"
     ]
    },
    {
     "name": "stdout",
     "output_type": "stream",
     "text": [
      "Index error retrieving data for ATO stock on 2024-12-09 00:00:00: single positional indexer is out-of-bounds\n",
      "49\n"
     ]
    },
    {
     "name": "stderr",
     "output_type": "stream",
     "text": [
      "[*********************100%%**********************]  1 of 1 completed\n",
      "[*********************100%%**********************]  1 of 1 completed\n",
      "[*********************100%%**********************]  1 of 1 completed\n",
      "[*********************100%%**********************]  1 of 1 completed\n",
      "[*********************100%%**********************]  1 of 1 completed\n",
      "c:\\Users\\GRAYBILLKB20\\OneDrive - Grove City College\\Sophomore Year\\FinanceData\\FinanceData\\FinanceDataHelper.py:102: FutureWarning: The behavior of DataFrame concatenation with empty or all-NA entries is deprecated. In a future version, this will no longer exclude empty or all-NA columns when determining the result dtypes. To retain the old behavior, exclude the relevant entries before the concat operation.\n",
      "  return new_append_df if output_df is None else pd.concat([output_df,new_append_df])\n"
     ]
    },
    {
     "name": "stdout",
     "output_type": "stream",
     "text": [
      "50\n"
     ]
    },
    {
     "name": "stderr",
     "output_type": "stream",
     "text": [
      "[*********************100%%**********************]  1 of 1 completed\n",
      "[*********************100%%**********************]  1 of 1 completed\n",
      "[*********************100%%**********************]  1 of 1 completed\n",
      "[*********************100%%**********************]  1 of 1 completed\n",
      "[*********************100%%**********************]  1 of 1 completed\n",
      "c:\\Users\\GRAYBILLKB20\\OneDrive - Grove City College\\Sophomore Year\\FinanceData\\FinanceData\\FinanceDataHelper.py:102: FutureWarning: The behavior of DataFrame concatenation with empty or all-NA entries is deprecated. In a future version, this will no longer exclude empty or all-NA columns when determining the result dtypes. To retain the old behavior, exclude the relevant entries before the concat operation.\n",
      "  return new_append_df if output_df is None else pd.concat([output_df,new_append_df])\n"
     ]
    },
    {
     "name": "stdout",
     "output_type": "stream",
     "text": [
      "51\n"
     ]
    },
    {
     "name": "stderr",
     "output_type": "stream",
     "text": [
      "[*********************100%%**********************]  1 of 1 completed\n",
      "[*********************100%%**********************]  1 of 1 completed\n",
      "[*********************100%%**********************]  1 of 1 completed\n",
      "[*********************100%%**********************]  1 of 1 completed\n",
      "[*********************100%%**********************]  1 of 1 completed\n",
      "c:\\Users\\GRAYBILLKB20\\OneDrive - Grove City College\\Sophomore Year\\FinanceData\\FinanceData\\FinanceDataHelper.py:102: FutureWarning: The behavior of DataFrame concatenation with empty or all-NA entries is deprecated. In a future version, this will no longer exclude empty or all-NA columns when determining the result dtypes. To retain the old behavior, exclude the relevant entries before the concat operation.\n",
      "  return new_append_df if output_df is None else pd.concat([output_df,new_append_df])\n"
     ]
    },
    {
     "name": "stdout",
     "output_type": "stream",
     "text": [
      "Index error retrieving data for AZO stock on 2024-12-13 00:00:00: single positional indexer is out-of-bounds\n",
      "Index error retrieving data for AZO stock on 2024-12-12 00:00:00: single positional indexer is out-of-bounds\n",
      "Index error retrieving data for AZO stock on 2024-12-11 00:00:00: single positional indexer is out-of-bounds\n",
      "Index error retrieving data for AZO stock on 2024-12-10 00:00:00: single positional indexer is out-of-bounds\n",
      "Index error retrieving data for AZO stock on 2024-12-09 00:00:00: single positional indexer is out-of-bounds\n",
      "52\n"
     ]
    },
    {
     "name": "stderr",
     "output_type": "stream",
     "text": [
      "[*********************100%%**********************]  1 of 1 completed\n",
      "[*********************100%%**********************]  1 of 1 completed\n",
      "[*********************100%%**********************]  1 of 1 completed\n",
      "[*********************100%%**********************]  1 of 1 completed\n",
      "[*********************100%%**********************]  1 of 1 completed\n",
      "c:\\Users\\GRAYBILLKB20\\OneDrive - Grove City College\\Sophomore Year\\FinanceData\\FinanceData\\FinanceDataHelper.py:102: FutureWarning: The behavior of DataFrame concatenation with empty or all-NA entries is deprecated. In a future version, this will no longer exclude empty or all-NA columns when determining the result dtypes. To retain the old behavior, exclude the relevant entries before the concat operation.\n",
      "  return new_append_df if output_df is None else pd.concat([output_df,new_append_df])\n"
     ]
    },
    {
     "name": "stdout",
     "output_type": "stream",
     "text": [
      "Index error retrieving data for AVB stock on 2024-12-09 00:00:00: single positional indexer is out-of-bounds\n",
      "53\n"
     ]
    },
    {
     "name": "stderr",
     "output_type": "stream",
     "text": [
      "[*********************100%%**********************]  1 of 1 completed\n",
      "[*********************100%%**********************]  1 of 1 completed\n",
      "[*********************100%%**********************]  1 of 1 completed\n",
      "[*********************100%%**********************]  1 of 1 completed\n",
      "[*********************100%%**********************]  1 of 1 completed\n",
      "c:\\Users\\GRAYBILLKB20\\OneDrive - Grove City College\\Sophomore Year\\FinanceData\\FinanceData\\FinanceDataHelper.py:102: FutureWarning: The behavior of DataFrame concatenation with empty or all-NA entries is deprecated. In a future version, this will no longer exclude empty or all-NA columns when determining the result dtypes. To retain the old behavior, exclude the relevant entries before the concat operation.\n",
      "  return new_append_df if output_df is None else pd.concat([output_df,new_append_df])\n"
     ]
    },
    {
     "name": "stdout",
     "output_type": "stream",
     "text": [
      "Index error retrieving data for AVY stock on 2024-12-09 00:00:00: single positional indexer is out-of-bounds\n",
      "54\n"
     ]
    },
    {
     "name": "stderr",
     "output_type": "stream",
     "text": [
      "[*********************100%%**********************]  1 of 1 completed\n",
      "[*********************100%%**********************]  1 of 1 completed\n",
      "[*********************100%%**********************]  1 of 1 completed\n",
      "[*********************100%%**********************]  1 of 1 completed\n",
      "[*********************100%%**********************]  1 of 1 completed\n",
      "c:\\Users\\GRAYBILLKB20\\OneDrive - Grove City College\\Sophomore Year\\FinanceData\\FinanceData\\FinanceDataHelper.py:102: FutureWarning: The behavior of DataFrame concatenation with empty or all-NA entries is deprecated. In a future version, this will no longer exclude empty or all-NA columns when determining the result dtypes. To retain the old behavior, exclude the relevant entries before the concat operation.\n",
      "  return new_append_df if output_df is None else pd.concat([output_df,new_append_df])\n"
     ]
    },
    {
     "name": "stdout",
     "output_type": "stream",
     "text": [
      "55\n"
     ]
    },
    {
     "name": "stderr",
     "output_type": "stream",
     "text": [
      "[*********************100%%**********************]  1 of 1 completed\n",
      "[*********************100%%**********************]  1 of 1 completed\n",
      "[*********************100%%**********************]  1 of 1 completed\n",
      "[*********************100%%**********************]  1 of 1 completed\n",
      "[*********************100%%**********************]  1 of 1 completed\n",
      "c:\\Users\\GRAYBILLKB20\\OneDrive - Grove City College\\Sophomore Year\\FinanceData\\FinanceData\\FinanceDataHelper.py:102: FutureWarning: The behavior of DataFrame concatenation with empty or all-NA entries is deprecated. In a future version, this will no longer exclude empty or all-NA columns when determining the result dtypes. To retain the old behavior, exclude the relevant entries before the concat operation.\n",
      "  return new_append_df if output_df is None else pd.concat([output_df,new_append_df])\n"
     ]
    },
    {
     "name": "stdout",
     "output_type": "stream",
     "text": [
      "56\n"
     ]
    },
    {
     "name": "stderr",
     "output_type": "stream",
     "text": [
      "[*********************100%%**********************]  1 of 1 completed\n",
      "[*********************100%%**********************]  1 of 1 completed\n",
      "[*********************100%%**********************]  1 of 1 completed\n",
      "[*********************100%%**********************]  1 of 1 completed\n",
      "[*********************100%%**********************]  1 of 1 completed\n",
      "c:\\Users\\GRAYBILLKB20\\OneDrive - Grove City College\\Sophomore Year\\FinanceData\\FinanceData\\FinanceDataHelper.py:102: FutureWarning: The behavior of DataFrame concatenation with empty or all-NA entries is deprecated. In a future version, this will no longer exclude empty or all-NA columns when determining the result dtypes. To retain the old behavior, exclude the relevant entries before the concat operation.\n",
      "  return new_append_df if output_df is None else pd.concat([output_df,new_append_df])\n"
     ]
    },
    {
     "name": "stdout",
     "output_type": "stream",
     "text": [
      "57\n"
     ]
    },
    {
     "name": "stderr",
     "output_type": "stream",
     "text": [
      "[*********************100%%**********************]  1 of 1 completed\n",
      "[*********************100%%**********************]  1 of 1 completed\n",
      "[*********************100%%**********************]  1 of 1 completed\n",
      "[*********************100%%**********************]  1 of 1 completed\n",
      "[*********************100%%**********************]  1 of 1 completed\n",
      "c:\\Users\\GRAYBILLKB20\\OneDrive - Grove City College\\Sophomore Year\\FinanceData\\FinanceData\\FinanceDataHelper.py:102: FutureWarning: The behavior of DataFrame concatenation with empty or all-NA entries is deprecated. In a future version, this will no longer exclude empty or all-NA columns when determining the result dtypes. To retain the old behavior, exclude the relevant entries before the concat operation.\n",
      "  return new_append_df if output_df is None else pd.concat([output_df,new_append_df])\n"
     ]
    },
    {
     "name": "stdout",
     "output_type": "stream",
     "text": [
      "58\n"
     ]
    },
    {
     "name": "stderr",
     "output_type": "stream",
     "text": [
      "[*********************100%%**********************]  1 of 1 completed\n",
      "[*********************100%%**********************]  1 of 1 completed\n",
      "[*********************100%%**********************]  1 of 1 completed\n",
      "[*********************100%%**********************]  1 of 1 completed\n",
      "[*********************100%%**********************]  1 of 1 completed\n",
      "c:\\Users\\GRAYBILLKB20\\OneDrive - Grove City College\\Sophomore Year\\FinanceData\\FinanceData\\FinanceDataHelper.py:102: FutureWarning: The behavior of DataFrame concatenation with empty or all-NA entries is deprecated. In a future version, this will no longer exclude empty or all-NA columns when determining the result dtypes. To retain the old behavior, exclude the relevant entries before the concat operation.\n",
      "  return new_append_df if output_df is None else pd.concat([output_df,new_append_df])\n"
     ]
    },
    {
     "name": "stdout",
     "output_type": "stream",
     "text": [
      "59\n"
     ]
    },
    {
     "name": "stderr",
     "output_type": "stream",
     "text": [
      "[*********************100%%**********************]  1 of 1 completed\n",
      "[*********************100%%**********************]  1 of 1 completed\n",
      "[*********************100%%**********************]  1 of 1 completed\n",
      "[*********************100%%**********************]  1 of 1 completed\n",
      "[*********************100%%**********************]  1 of 1 completed\n",
      "c:\\Users\\GRAYBILLKB20\\OneDrive - Grove City College\\Sophomore Year\\FinanceData\\FinanceData\\FinanceDataHelper.py:102: FutureWarning: The behavior of DataFrame concatenation with empty or all-NA entries is deprecated. In a future version, this will no longer exclude empty or all-NA columns when determining the result dtypes. To retain the old behavior, exclude the relevant entries before the concat operation.\n",
      "  return new_append_df if output_df is None else pd.concat([output_df,new_append_df])\n"
     ]
    },
    {
     "name": "stdout",
     "output_type": "stream",
     "text": [
      "60\n"
     ]
    },
    {
     "name": "stderr",
     "output_type": "stream",
     "text": [
      "[*********************100%%**********************]  1 of 1 completed\n",
      "[*********************100%%**********************]  1 of 1 completed\n",
      "[*********************100%%**********************]  1 of 1 completed\n",
      "[*********************100%%**********************]  1 of 1 completed\n",
      "[*********************100%%**********************]  1 of 1 completed\n",
      "c:\\Users\\GRAYBILLKB20\\OneDrive - Grove City College\\Sophomore Year\\FinanceData\\FinanceData\\FinanceDataHelper.py:102: FutureWarning: The behavior of DataFrame concatenation with empty or all-NA entries is deprecated. In a future version, this will no longer exclude empty or all-NA columns when determining the result dtypes. To retain the old behavior, exclude the relevant entries before the concat operation.\n",
      "  return new_append_df if output_df is None else pd.concat([output_df,new_append_df])\n"
     ]
    },
    {
     "name": "stdout",
     "output_type": "stream",
     "text": [
      "61\n"
     ]
    },
    {
     "name": "stderr",
     "output_type": "stream",
     "text": [
      "[*********************100%%**********************]  1 of 1 completed\n",
      "[*********************100%%**********************]  1 of 1 completed\n",
      "[*********************100%%**********************]  1 of 1 completed\n",
      "[*********************100%%**********************]  1 of 1 completed\n",
      "[*********************100%%**********************]  1 of 1 completed\n",
      "c:\\Users\\GRAYBILLKB20\\OneDrive - Grove City College\\Sophomore Year\\FinanceData\\FinanceData\\FinanceDataHelper.py:102: FutureWarning: The behavior of DataFrame concatenation with empty or all-NA entries is deprecated. In a future version, this will no longer exclude empty or all-NA columns when determining the result dtypes. To retain the old behavior, exclude the relevant entries before the concat operation.\n",
      "  return new_append_df if output_df is None else pd.concat([output_df,new_append_df])\n"
     ]
    },
    {
     "name": "stdout",
     "output_type": "stream",
     "text": [
      "Index error retrieving data for TECH stock on 2024-12-09 00:00:00: single positional indexer is out-of-bounds\n",
      "62\n"
     ]
    },
    {
     "name": "stderr",
     "output_type": "stream",
     "text": [
      "[*********************100%%**********************]  1 of 1 completed\n",
      "[*********************100%%**********************]  1 of 1 completed\n",
      "[*********************100%%**********************]  1 of 1 completed\n",
      "[*********************100%%**********************]  1 of 1 completed\n",
      "[*********************100%%**********************]  1 of 1 completed\n",
      "c:\\Users\\GRAYBILLKB20\\OneDrive - Grove City College\\Sophomore Year\\FinanceData\\FinanceData\\FinanceDataHelper.py:102: FutureWarning: The behavior of DataFrame concatenation with empty or all-NA entries is deprecated. In a future version, this will no longer exclude empty or all-NA columns when determining the result dtypes. To retain the old behavior, exclude the relevant entries before the concat operation.\n",
      "  return new_append_df if output_df is None else pd.concat([output_df,new_append_df])\n"
     ]
    },
    {
     "name": "stdout",
     "output_type": "stream",
     "text": [
      "63\n"
     ]
    },
    {
     "name": "stderr",
     "output_type": "stream",
     "text": [
      "[*********************100%%**********************]  1 of 1 completed\n",
      "[*********************100%%**********************]  1 of 1 completed\n",
      "[*********************100%%**********************]  1 of 1 completed\n",
      "[*********************100%%**********************]  1 of 1 completed\n",
      "[*********************100%%**********************]  1 of 1 completed\n",
      "c:\\Users\\GRAYBILLKB20\\OneDrive - Grove City College\\Sophomore Year\\FinanceData\\FinanceData\\FinanceDataHelper.py:102: FutureWarning: The behavior of DataFrame concatenation with empty or all-NA entries is deprecated. In a future version, this will no longer exclude empty or all-NA columns when determining the result dtypes. To retain the old behavior, exclude the relevant entries before the concat operation.\n",
      "  return new_append_df if output_df is None else pd.concat([output_df,new_append_df])\n"
     ]
    },
    {
     "name": "stdout",
     "output_type": "stream",
     "text": [
      "Index error retrieving data for BLK stock on 2024-12-09 00:00:00: single positional indexer is out-of-bounds\n",
      "64\n"
     ]
    },
    {
     "name": "stderr",
     "output_type": "stream",
     "text": [
      "[*********************100%%**********************]  1 of 1 completed\n",
      "[*********************100%%**********************]  1 of 1 completed\n",
      "[*********************100%%**********************]  1 of 1 completed\n",
      "[*********************100%%**********************]  1 of 1 completed\n",
      "[*********************100%%**********************]  1 of 1 completed\n",
      "c:\\Users\\GRAYBILLKB20\\OneDrive - Grove City College\\Sophomore Year\\FinanceData\\FinanceData\\FinanceDataHelper.py:102: FutureWarning: The behavior of DataFrame concatenation with empty or all-NA entries is deprecated. In a future version, this will no longer exclude empty or all-NA columns when determining the result dtypes. To retain the old behavior, exclude the relevant entries before the concat operation.\n",
      "  return new_append_df if output_df is None else pd.concat([output_df,new_append_df])\n"
     ]
    },
    {
     "name": "stdout",
     "output_type": "stream",
     "text": [
      "65\n"
     ]
    },
    {
     "name": "stderr",
     "output_type": "stream",
     "text": [
      "[*********************100%%**********************]  1 of 1 completed\n",
      "[*********************100%%**********************]  1 of 1 completed\n",
      "[*********************100%%**********************]  1 of 1 completed\n",
      "[*********************100%%**********************]  1 of 1 completed\n",
      "[*********************100%%**********************]  1 of 1 completed\n",
      "c:\\Users\\GRAYBILLKB20\\OneDrive - Grove City College\\Sophomore Year\\FinanceData\\FinanceData\\FinanceDataHelper.py:102: FutureWarning: The behavior of DataFrame concatenation with empty or all-NA entries is deprecated. In a future version, this will no longer exclude empty or all-NA columns when determining the result dtypes. To retain the old behavior, exclude the relevant entries before the concat operation.\n",
      "  return new_append_df if output_df is None else pd.concat([output_df,new_append_df])\n"
     ]
    },
    {
     "name": "stdout",
     "output_type": "stream",
     "text": [
      "66\n"
     ]
    },
    {
     "name": "stderr",
     "output_type": "stream",
     "text": [
      "[*********************100%%**********************]  1 of 1 completed\n",
      "[*********************100%%**********************]  1 of 1 completed\n",
      "[*********************100%%**********************]  1 of 1 completed\n",
      "[*********************100%%**********************]  1 of 1 completed\n",
      "[*********************100%%**********************]  1 of 1 completed\n",
      "c:\\Users\\GRAYBILLKB20\\OneDrive - Grove City College\\Sophomore Year\\FinanceData\\FinanceData\\FinanceDataHelper.py:102: FutureWarning: The behavior of DataFrame concatenation with empty or all-NA entries is deprecated. In a future version, this will no longer exclude empty or all-NA columns when determining the result dtypes. To retain the old behavior, exclude the relevant entries before the concat operation.\n",
      "  return new_append_df if output_df is None else pd.concat([output_df,new_append_df])\n"
     ]
    },
    {
     "name": "stdout",
     "output_type": "stream",
     "text": [
      "67\n"
     ]
    },
    {
     "name": "stderr",
     "output_type": "stream",
     "text": [
      "[*********************100%%**********************]  1 of 1 completed\n",
      "[*********************100%%**********************]  1 of 1 completed\n",
      "[*********************100%%**********************]  1 of 1 completed\n",
      "[*********************100%%**********************]  1 of 1 completed\n",
      "[*********************100%%**********************]  1 of 1 completed\n",
      "c:\\Users\\GRAYBILLKB20\\OneDrive - Grove City College\\Sophomore Year\\FinanceData\\FinanceData\\FinanceDataHelper.py:102: FutureWarning: The behavior of DataFrame concatenation with empty or all-NA entries is deprecated. In a future version, this will no longer exclude empty or all-NA columns when determining the result dtypes. To retain the old behavior, exclude the relevant entries before the concat operation.\n",
      "  return new_append_df if output_df is None else pd.concat([output_df,new_append_df])\n"
     ]
    },
    {
     "name": "stdout",
     "output_type": "stream",
     "text": [
      "Index error retrieving data for BKNG stock on 2024-12-16 00:00:00: single positional indexer is out-of-bounds\n",
      "Index error retrieving data for BKNG stock on 2024-12-13 00:00:00: single positional indexer is out-of-bounds\n",
      "Index error retrieving data for BKNG stock on 2024-12-12 00:00:00: single positional indexer is out-of-bounds\n",
      "Index error retrieving data for BKNG stock on 2024-12-11 00:00:00: single positional indexer is out-of-bounds\n",
      "Index error retrieving data for BKNG stock on 2024-12-10 00:00:00: single positional indexer is out-of-bounds\n",
      "Index error retrieving data for BKNG stock on 2024-12-09 00:00:00: single positional indexer is out-of-bounds\n",
      "68\n"
     ]
    },
    {
     "name": "stderr",
     "output_type": "stream",
     "text": [
      "[*********************100%%**********************]  1 of 1 completed\n",
      "[*********************100%%**********************]  1 of 1 completed\n",
      "[*********************100%%**********************]  1 of 1 completed\n",
      "[*********************100%%**********************]  1 of 1 completed\n",
      "[*********************100%%**********************]  1 of 1 completed\n",
      "c:\\Users\\GRAYBILLKB20\\OneDrive - Grove City College\\Sophomore Year\\FinanceData\\FinanceData\\FinanceDataHelper.py:102: FutureWarning: The behavior of DataFrame concatenation with empty or all-NA entries is deprecated. In a future version, this will no longer exclude empty or all-NA columns when determining the result dtypes. To retain the old behavior, exclude the relevant entries before the concat operation.\n",
      "  return new_append_df if output_df is None else pd.concat([output_df,new_append_df])\n"
     ]
    },
    {
     "name": "stdout",
     "output_type": "stream",
     "text": [
      "69\n"
     ]
    },
    {
     "name": "stderr",
     "output_type": "stream",
     "text": [
      "[*********************100%%**********************]  1 of 1 completed\n",
      "[*********************100%%**********************]  1 of 1 completed\n",
      "[*********************100%%**********************]  1 of 1 completed\n",
      "[*********************100%%**********************]  1 of 1 completed\n",
      "[*********************100%%**********************]  1 of 1 completed\n",
      "c:\\Users\\GRAYBILLKB20\\OneDrive - Grove City College\\Sophomore Year\\FinanceData\\FinanceData\\FinanceDataHelper.py:102: FutureWarning: The behavior of DataFrame concatenation with empty or all-NA entries is deprecated. In a future version, this will no longer exclude empty or all-NA columns when determining the result dtypes. To retain the old behavior, exclude the relevant entries before the concat operation.\n",
      "  return new_append_df if output_df is None else pd.concat([output_df,new_append_df])\n"
     ]
    },
    {
     "name": "stdout",
     "output_type": "stream",
     "text": [
      "70\n"
     ]
    },
    {
     "name": "stderr",
     "output_type": "stream",
     "text": [
      "[*********************100%%**********************]  1 of 1 completed\n",
      "[*********************100%%**********************]  1 of 1 completed\n",
      "[*********************100%%**********************]  1 of 1 completed\n",
      "[*********************100%%**********************]  1 of 1 completed\n",
      "[*********************100%%**********************]  1 of 1 completed\n",
      "c:\\Users\\GRAYBILLKB20\\OneDrive - Grove City College\\Sophomore Year\\FinanceData\\FinanceData\\FinanceDataHelper.py:102: FutureWarning: The behavior of DataFrame concatenation with empty or all-NA entries is deprecated. In a future version, this will no longer exclude empty or all-NA columns when determining the result dtypes. To retain the old behavior, exclude the relevant entries before the concat operation.\n",
      "  return new_append_df if output_df is None else pd.concat([output_df,new_append_df])\n"
     ]
    },
    {
     "name": "stdout",
     "output_type": "stream",
     "text": [
      "71\n"
     ]
    },
    {
     "name": "stderr",
     "output_type": "stream",
     "text": [
      "[*********************100%%**********************]  1 of 1 completed\n",
      "[*********************100%%**********************]  1 of 1 completed\n",
      "[*********************100%%**********************]  1 of 1 completed\n",
      "[*********************100%%**********************]  1 of 1 completed\n",
      "[*********************100%%**********************]  1 of 1 completed\n",
      "c:\\Users\\GRAYBILLKB20\\OneDrive - Grove City College\\Sophomore Year\\FinanceData\\FinanceData\\FinanceDataHelper.py:102: FutureWarning: The behavior of DataFrame concatenation with empty or all-NA entries is deprecated. In a future version, this will no longer exclude empty or all-NA columns when determining the result dtypes. To retain the old behavior, exclude the relevant entries before the concat operation.\n",
      "  return new_append_df if output_df is None else pd.concat([output_df,new_append_df])\n"
     ]
    },
    {
     "name": "stdout",
     "output_type": "stream",
     "text": [
      "72\n"
     ]
    },
    {
     "name": "stderr",
     "output_type": "stream",
     "text": [
      "[*********************100%%**********************]  1 of 1 completed\n",
      "[*********************100%%**********************]  1 of 1 completed\n",
      "[*********************100%%**********************]  1 of 1 completed\n",
      "[*********************100%%**********************]  1 of 1 completed\n",
      "[*********************100%%**********************]  1 of 1 completed\n",
      "c:\\Users\\GRAYBILLKB20\\OneDrive - Grove City College\\Sophomore Year\\FinanceData\\FinanceData\\FinanceDataHelper.py:102: FutureWarning: The behavior of DataFrame concatenation with empty or all-NA entries is deprecated. In a future version, this will no longer exclude empty or all-NA columns when determining the result dtypes. To retain the old behavior, exclude the relevant entries before the concat operation.\n",
      "  return new_append_df if output_df is None else pd.concat([output_df,new_append_df])\n"
     ]
    },
    {
     "name": "stdout",
     "output_type": "stream",
     "text": [
      "Index error retrieving data for BR stock on 2024-12-09 00:00:00: single positional indexer is out-of-bounds\n",
      "73\n"
     ]
    },
    {
     "name": "stderr",
     "output_type": "stream",
     "text": [
      "[*********************100%%**********************]  1 of 1 completed\n",
      "[*********************100%%**********************]  1 of 1 completed\n",
      "[*********************100%%**********************]  1 of 1 completed\n",
      "[*********************100%%**********************]  1 of 1 completed\n",
      "[*********************100%%**********************]  1 of 1 completed\n",
      "c:\\Users\\GRAYBILLKB20\\OneDrive - Grove City College\\Sophomore Year\\FinanceData\\FinanceData\\FinanceDataHelper.py:102: FutureWarning: The behavior of DataFrame concatenation with empty or all-NA entries is deprecated. In a future version, this will no longer exclude empty or all-NA columns when determining the result dtypes. To retain the old behavior, exclude the relevant entries before the concat operation.\n",
      "  return new_append_df if output_df is None else pd.concat([output_df,new_append_df])\n"
     ]
    },
    {
     "name": "stdout",
     "output_type": "stream",
     "text": [
      "74\n"
     ]
    },
    {
     "name": "stderr",
     "output_type": "stream",
     "text": [
      "[*********************100%%**********************]  1 of 1 completed\n",
      "\n",
      "1 Failed download:\n",
      "['BF.B']: YFPricesMissingError('$%ticker%: possibly delisted; No price data found  (1d 2024-10-15 00:00:00 -> 2025-01-04 00:00:00)')\n",
      "[*********************100%%**********************]  1 of 1 completed\n",
      "\n",
      "1 Failed download:\n",
      "['BF.B']: YFInvalidPeriodError(\"%ticker%: Period '5d' is invalid, must be one of ['1mo', '3mo', '6mo', 'ytd', '1y', '2y', '5y', '10y', 'max']\")\n",
      "[*********************100%%**********************]  1 of 1 completed\n",
      "\n",
      "1 Failed download:\n",
      "['BF.B']: YFInvalidPeriodError(\"%ticker%: Period '5d' is invalid, must be one of ['1mo', '3mo', '6mo', 'ytd', '1y', '2y', '5y', '10y', 'max']\")\n"
     ]
    },
    {
     "name": "stdout",
     "output_type": "stream",
     "text": [
      "$BF.B: possibly delisted; No price data found  (1d 2024-10-15 00:00:00 -> 2025-01-04 00:00:00)\n"
     ]
    },
    {
     "name": "stderr",
     "output_type": "stream",
     "text": [
      "[*********************100%%**********************]  1 of 1 completed\n",
      "\n",
      "1 Failed download:\n",
      "['BF.B']: YFInvalidPeriodError(\"%ticker%: Period '5d' is invalid, must be one of ['1mo', '3mo', '6mo', 'ytd', '1y', '2y', '5y', '10y', 'max']\")\n",
      "[*********************100%%**********************]  1 of 1 completed\n",
      "\n",
      "1 Failed download:\n",
      "['BF.B']: YFInvalidPeriodError(\"%ticker%: Period '5d' is invalid, must be one of ['1mo', '3mo', '6mo', 'ytd', '1y', '2y', '5y', '10y', 'max']\")\n"
     ]
    },
    {
     "name": "stdout",
     "output_type": "stream",
     "text": [
      "'Index' object has no attribute 'tz_localize'\n",
      "75\n"
     ]
    },
    {
     "name": "stderr",
     "output_type": "stream",
     "text": [
      "[*********************100%%**********************]  1 of 1 completed\n",
      "[*********************100%%**********************]  1 of 1 completed\n",
      "[*********************100%%**********************]  1 of 1 completed\n",
      "[*********************100%%**********************]  1 of 1 completed\n",
      "[*********************100%%**********************]  1 of 1 completed\n",
      "c:\\Users\\GRAYBILLKB20\\OneDrive - Grove City College\\Sophomore Year\\FinanceData\\FinanceData\\FinanceDataHelper.py:102: FutureWarning: The behavior of DataFrame concatenation with empty or all-NA entries is deprecated. In a future version, this will no longer exclude empty or all-NA columns when determining the result dtypes. To retain the old behavior, exclude the relevant entries before the concat operation.\n",
      "  return new_append_df if output_df is None else pd.concat([output_df,new_append_df])\n"
     ]
    },
    {
     "name": "stdout",
     "output_type": "stream",
     "text": [
      "76\n"
     ]
    },
    {
     "name": "stderr",
     "output_type": "stream",
     "text": [
      "[*********************100%%**********************]  1 of 1 completed\n",
      "[*********************100%%**********************]  1 of 1 completed\n",
      "[*********************100%%**********************]  1 of 1 completed\n",
      "[*********************100%%**********************]  1 of 1 completed\n",
      "[*********************100%%**********************]  1 of 1 completed\n",
      "c:\\Users\\GRAYBILLKB20\\OneDrive - Grove City College\\Sophomore Year\\FinanceData\\FinanceData\\FinanceDataHelper.py:102: FutureWarning: The behavior of DataFrame concatenation with empty or all-NA entries is deprecated. In a future version, this will no longer exclude empty or all-NA columns when determining the result dtypes. To retain the old behavior, exclude the relevant entries before the concat operation.\n",
      "  return new_append_df if output_df is None else pd.concat([output_df,new_append_df])\n"
     ]
    },
    {
     "name": "stdout",
     "output_type": "stream",
     "text": [
      "77\n"
     ]
    },
    {
     "name": "stderr",
     "output_type": "stream",
     "text": [
      "[*********************100%%**********************]  1 of 1 completed\n",
      "[*********************100%%**********************]  1 of 1 completed\n",
      "[*********************100%%**********************]  1 of 1 completed\n",
      "[*********************100%%**********************]  1 of 1 completed\n",
      "[*********************100%%**********************]  1 of 1 completed\n",
      "c:\\Users\\GRAYBILLKB20\\OneDrive - Grove City College\\Sophomore Year\\FinanceData\\FinanceData\\FinanceDataHelper.py:102: FutureWarning: The behavior of DataFrame concatenation with empty or all-NA entries is deprecated. In a future version, this will no longer exclude empty or all-NA columns when determining the result dtypes. To retain the old behavior, exclude the relevant entries before the concat operation.\n",
      "  return new_append_df if output_df is None else pd.concat([output_df,new_append_df])\n"
     ]
    },
    {
     "name": "stdout",
     "output_type": "stream",
     "text": [
      "78\n"
     ]
    },
    {
     "name": "stderr",
     "output_type": "stream",
     "text": [
      "[*********************100%%**********************]  1 of 1 completed\n",
      "[*********************100%%**********************]  1 of 1 completed\n",
      "[*********************100%%**********************]  1 of 1 completed\n",
      "[*********************100%%**********************]  1 of 1 completed\n",
      "[*********************100%%**********************]  1 of 1 completed\n",
      "c:\\Users\\GRAYBILLKB20\\OneDrive - Grove City College\\Sophomore Year\\FinanceData\\FinanceData\\FinanceDataHelper.py:102: FutureWarning: The behavior of DataFrame concatenation with empty or all-NA entries is deprecated. In a future version, this will no longer exclude empty or all-NA columns when determining the result dtypes. To retain the old behavior, exclude the relevant entries before the concat operation.\n",
      "  return new_append_df if output_df is None else pd.concat([output_df,new_append_df])\n"
     ]
    },
    {
     "name": "stdout",
     "output_type": "stream",
     "text": [
      "79\n"
     ]
    },
    {
     "name": "stderr",
     "output_type": "stream",
     "text": [
      "[*********************100%%**********************]  1 of 1 completed\n",
      "[*********************100%%**********************]  1 of 1 completed\n",
      "[*********************100%%**********************]  1 of 1 completed\n",
      "[*********************100%%**********************]  1 of 1 completed\n",
      "[*********************100%%**********************]  1 of 1 completed\n",
      "c:\\Users\\GRAYBILLKB20\\OneDrive - Grove City College\\Sophomore Year\\FinanceData\\FinanceData\\FinanceDataHelper.py:102: FutureWarning: The behavior of DataFrame concatenation with empty or all-NA entries is deprecated. In a future version, this will no longer exclude empty or all-NA columns when determining the result dtypes. To retain the old behavior, exclude the relevant entries before the concat operation.\n",
      "  return new_append_df if output_df is None else pd.concat([output_df,new_append_df])\n"
     ]
    },
    {
     "name": "stdout",
     "output_type": "stream",
     "text": [
      "80\n"
     ]
    },
    {
     "name": "stderr",
     "output_type": "stream",
     "text": [
      "[*********************100%%**********************]  1 of 1 completed\n",
      "[*********************100%%**********************]  1 of 1 completed\n",
      "[*********************100%%**********************]  1 of 1 completed\n",
      "[*********************100%%**********************]  1 of 1 completed\n",
      "[*********************100%%**********************]  1 of 1 completed\n",
      "c:\\Users\\GRAYBILLKB20\\OneDrive - Grove City College\\Sophomore Year\\FinanceData\\FinanceData\\FinanceDataHelper.py:102: FutureWarning: The behavior of DataFrame concatenation with empty or all-NA entries is deprecated. In a future version, this will no longer exclude empty or all-NA columns when determining the result dtypes. To retain the old behavior, exclude the relevant entries before the concat operation.\n",
      "  return new_append_df if output_df is None else pd.concat([output_df,new_append_df])\n"
     ]
    },
    {
     "name": "stdout",
     "output_type": "stream",
     "text": [
      "81\n"
     ]
    },
    {
     "name": "stderr",
     "output_type": "stream",
     "text": [
      "[*********************100%%**********************]  1 of 1 completed\n",
      "[*********************100%%**********************]  1 of 1 completed\n",
      "[*********************100%%**********************]  1 of 1 completed\n",
      "[*********************100%%**********************]  1 of 1 completed\n",
      "[*********************100%%**********************]  1 of 1 completed\n",
      "c:\\Users\\GRAYBILLKB20\\OneDrive - Grove City College\\Sophomore Year\\FinanceData\\FinanceData\\FinanceDataHelper.py:102: FutureWarning: The behavior of DataFrame concatenation with empty or all-NA entries is deprecated. In a future version, this will no longer exclude empty or all-NA columns when determining the result dtypes. To retain the old behavior, exclude the relevant entries before the concat operation.\n",
      "  return new_append_df if output_df is None else pd.concat([output_df,new_append_df])\n"
     ]
    },
    {
     "name": "stdout",
     "output_type": "stream",
     "text": [
      "Index error retrieving data for CPT stock on 2024-12-09 00:00:00: single positional indexer is out-of-bounds\n",
      "82\n"
     ]
    },
    {
     "name": "stderr",
     "output_type": "stream",
     "text": [
      "[*********************100%%**********************]  1 of 1 completed\n",
      "[*********************100%%**********************]  1 of 1 completed\n",
      "[*********************100%%**********************]  1 of 1 completed\n",
      "[*********************100%%**********************]  1 of 1 completed\n",
      "[*********************100%%**********************]  1 of 1 completed\n",
      "c:\\Users\\GRAYBILLKB20\\OneDrive - Grove City College\\Sophomore Year\\FinanceData\\FinanceData\\FinanceDataHelper.py:102: FutureWarning: The behavior of DataFrame concatenation with empty or all-NA entries is deprecated. In a future version, this will no longer exclude empty or all-NA columns when determining the result dtypes. To retain the old behavior, exclude the relevant entries before the concat operation.\n",
      "  return new_append_df if output_df is None else pd.concat([output_df,new_append_df])\n"
     ]
    },
    {
     "name": "stdout",
     "output_type": "stream",
     "text": [
      "83\n"
     ]
    },
    {
     "name": "stderr",
     "output_type": "stream",
     "text": [
      "[*********************100%%**********************]  1 of 1 completed\n",
      "[*********************100%%**********************]  1 of 1 completed\n",
      "[*********************100%%**********************]  1 of 1 completed\n",
      "[*********************100%%**********************]  1 of 1 completed\n",
      "[*********************100%%**********************]  1 of 1 completed\n",
      "c:\\Users\\GRAYBILLKB20\\OneDrive - Grove City College\\Sophomore Year\\FinanceData\\FinanceData\\FinanceDataHelper.py:102: FutureWarning: The behavior of DataFrame concatenation with empty or all-NA entries is deprecated. In a future version, this will no longer exclude empty or all-NA columns when determining the result dtypes. To retain the old behavior, exclude the relevant entries before the concat operation.\n",
      "  return new_append_df if output_df is None else pd.concat([output_df,new_append_df])\n"
     ]
    },
    {
     "name": "stdout",
     "output_type": "stream",
     "text": [
      "84\n"
     ]
    },
    {
     "name": "stderr",
     "output_type": "stream",
     "text": [
      "[*********************100%%**********************]  1 of 1 completed\n",
      "[*********************100%%**********************]  1 of 1 completed\n",
      "[*********************100%%**********************]  1 of 1 completed\n",
      "[*********************100%%**********************]  1 of 1 completed\n",
      "[*********************100%%**********************]  1 of 1 completed\n",
      "c:\\Users\\GRAYBILLKB20\\OneDrive - Grove City College\\Sophomore Year\\FinanceData\\FinanceData\\FinanceDataHelper.py:102: FutureWarning: The behavior of DataFrame concatenation with empty or all-NA entries is deprecated. In a future version, this will no longer exclude empty or all-NA columns when determining the result dtypes. To retain the old behavior, exclude the relevant entries before the concat operation.\n",
      "  return new_append_df if output_df is None else pd.concat([output_df,new_append_df])\n"
     ]
    },
    {
     "name": "stdout",
     "output_type": "stream",
     "text": [
      "85\n"
     ]
    },
    {
     "name": "stderr",
     "output_type": "stream",
     "text": [
      "[*********************100%%**********************]  1 of 1 completed\n",
      "[*********************100%%**********************]  1 of 1 completed\n",
      "[*********************100%%**********************]  1 of 1 completed\n",
      "[*********************100%%**********************]  1 of 1 completed\n",
      "[*********************100%%**********************]  1 of 1 completed\n",
      "c:\\Users\\GRAYBILLKB20\\OneDrive - Grove City College\\Sophomore Year\\FinanceData\\FinanceData\\FinanceDataHelper.py:102: FutureWarning: The behavior of DataFrame concatenation with empty or all-NA entries is deprecated. In a future version, this will no longer exclude empty or all-NA columns when determining the result dtypes. To retain the old behavior, exclude the relevant entries before the concat operation.\n",
      "  return new_append_df if output_df is None else pd.concat([output_df,new_append_df])\n"
     ]
    },
    {
     "name": "stdout",
     "output_type": "stream",
     "text": [
      "86\n"
     ]
    },
    {
     "name": "stderr",
     "output_type": "stream",
     "text": [
      "[*********************100%%**********************]  1 of 1 completed\n",
      "[*********************100%%**********************]  1 of 1 completed\n",
      "[*********************100%%**********************]  1 of 1 completed\n",
      "[*********************100%%**********************]  1 of 1 completed\n",
      "[*********************100%%**********************]  1 of 1 completed\n",
      "c:\\Users\\GRAYBILLKB20\\OneDrive - Grove City College\\Sophomore Year\\FinanceData\\FinanceData\\FinanceDataHelper.py:102: FutureWarning: The behavior of DataFrame concatenation with empty or all-NA entries is deprecated. In a future version, this will no longer exclude empty or all-NA columns when determining the result dtypes. To retain the old behavior, exclude the relevant entries before the concat operation.\n",
      "  return new_append_df if output_df is None else pd.concat([output_df,new_append_df])\n"
     ]
    },
    {
     "name": "stdout",
     "output_type": "stream",
     "text": [
      "87\n"
     ]
    },
    {
     "name": "stderr",
     "output_type": "stream",
     "text": [
      "[*********************100%%**********************]  1 of 1 completed\n",
      "[*********************100%%**********************]  1 of 1 completed\n",
      "[*********************100%%**********************]  1 of 1 completed\n",
      "[*********************100%%**********************]  1 of 1 completed\n",
      "[*********************100%%**********************]  1 of 1 completed\n",
      "c:\\Users\\GRAYBILLKB20\\OneDrive - Grove City College\\Sophomore Year\\FinanceData\\FinanceData\\FinanceDataHelper.py:102: FutureWarning: The behavior of DataFrame concatenation with empty or all-NA entries is deprecated. In a future version, this will no longer exclude empty or all-NA columns when determining the result dtypes. To retain the old behavior, exclude the relevant entries before the concat operation.\n",
      "  return new_append_df if output_df is None else pd.concat([output_df,new_append_df])\n"
     ]
    },
    {
     "name": "stdout",
     "output_type": "stream",
     "text": [
      "88\n"
     ]
    },
    {
     "name": "stderr",
     "output_type": "stream",
     "text": [
      "[*********************100%%**********************]  1 of 1 completed\n",
      "[*********************100%%**********************]  1 of 1 completed\n",
      "[*********************100%%**********************]  1 of 1 completed\n",
      "[*********************100%%**********************]  1 of 1 completed\n",
      "[*********************100%%**********************]  1 of 1 completed\n",
      "c:\\Users\\GRAYBILLKB20\\OneDrive - Grove City College\\Sophomore Year\\FinanceData\\FinanceData\\FinanceDataHelper.py:102: FutureWarning: The behavior of DataFrame concatenation with empty or all-NA entries is deprecated. In a future version, this will no longer exclude empty or all-NA columns when determining the result dtypes. To retain the old behavior, exclude the relevant entries before the concat operation.\n",
      "  return new_append_df if output_df is None else pd.concat([output_df,new_append_df])\n"
     ]
    },
    {
     "name": "stdout",
     "output_type": "stream",
     "text": [
      "89\n"
     ]
    },
    {
     "name": "stderr",
     "output_type": "stream",
     "text": [
      "[*********************100%%**********************]  1 of 1 completed\n",
      "[*********************100%%**********************]  1 of 1 completed\n",
      "[*********************100%%**********************]  1 of 1 completed\n",
      "[*********************100%%**********************]  1 of 1 completed\n",
      "[*********************100%%**********************]  1 of 1 completed\n",
      "c:\\Users\\GRAYBILLKB20\\OneDrive - Grove City College\\Sophomore Year\\FinanceData\\FinanceData\\FinanceDataHelper.py:102: FutureWarning: The behavior of DataFrame concatenation with empty or all-NA entries is deprecated. In a future version, this will no longer exclude empty or all-NA columns when determining the result dtypes. To retain the old behavior, exclude the relevant entries before the concat operation.\n",
      "  return new_append_df if output_df is None else pd.concat([output_df,new_append_df])\n"
     ]
    },
    {
     "name": "stdout",
     "output_type": "stream",
     "text": [
      "90\n"
     ]
    },
    {
     "name": "stderr",
     "output_type": "stream",
     "text": [
      "[*********************100%%**********************]  1 of 1 completed\n",
      "[*********************100%%**********************]  1 of 1 completed\n",
      "[*********************100%%**********************]  1 of 1 completed\n",
      "[*********************100%%**********************]  1 of 1 completed\n",
      "[*********************100%%**********************]  1 of 1 completed\n",
      "c:\\Users\\GRAYBILLKB20\\OneDrive - Grove City College\\Sophomore Year\\FinanceData\\FinanceData\\FinanceDataHelper.py:102: FutureWarning: The behavior of DataFrame concatenation with empty or all-NA entries is deprecated. In a future version, this will no longer exclude empty or all-NA columns when determining the result dtypes. To retain the old behavior, exclude the relevant entries before the concat operation.\n",
      "  return new_append_df if output_df is None else pd.concat([output_df,new_append_df])\n"
     ]
    },
    {
     "name": "stdout",
     "output_type": "stream",
     "text": [
      "91\n"
     ]
    },
    {
     "name": "stderr",
     "output_type": "stream",
     "text": [
      "[*********************100%%**********************]  1 of 1 completed\n",
      "[*********************100%%**********************]  1 of 1 completed\n",
      "[*********************100%%**********************]  1 of 1 completed\n",
      "[*********************100%%**********************]  1 of 1 completed\n",
      "[*********************100%%**********************]  1 of 1 completed\n",
      "c:\\Users\\GRAYBILLKB20\\OneDrive - Grove City College\\Sophomore Year\\FinanceData\\FinanceData\\FinanceDataHelper.py:102: FutureWarning: The behavior of DataFrame concatenation with empty or all-NA entries is deprecated. In a future version, this will no longer exclude empty or all-NA columns when determining the result dtypes. To retain the old behavior, exclude the relevant entries before the concat operation.\n",
      "  return new_append_df if output_df is None else pd.concat([output_df,new_append_df])\n"
     ]
    },
    {
     "name": "stdout",
     "output_type": "stream",
     "text": [
      "92\n"
     ]
    },
    {
     "name": "stderr",
     "output_type": "stream",
     "text": [
      "[*********************100%%**********************]  1 of 1 completed\n",
      "[*********************100%%**********************]  1 of 1 completed\n",
      "[*********************100%%**********************]  1 of 1 completed\n",
      "[*********************100%%**********************]  1 of 1 completed\n",
      "[*********************100%%**********************]  1 of 1 completed\n",
      "c:\\Users\\GRAYBILLKB20\\OneDrive - Grove City College\\Sophomore Year\\FinanceData\\FinanceData\\FinanceDataHelper.py:102: FutureWarning: The behavior of DataFrame concatenation with empty or all-NA entries is deprecated. In a future version, this will no longer exclude empty or all-NA columns when determining the result dtypes. To retain the old behavior, exclude the relevant entries before the concat operation.\n",
      "  return new_append_df if output_df is None else pd.concat([output_df,new_append_df])\n"
     ]
    },
    {
     "name": "stdout",
     "output_type": "stream",
     "text": [
      "93\n"
     ]
    },
    {
     "name": "stderr",
     "output_type": "stream",
     "text": [
      "[*********************100%%**********************]  1 of 1 completed\n",
      "[*********************100%%**********************]  1 of 1 completed\n",
      "[*********************100%%**********************]  1 of 1 completed\n",
      "[*********************100%%**********************]  1 of 1 completed\n",
      "[*********************100%%**********************]  1 of 1 completed\n",
      "c:\\Users\\GRAYBILLKB20\\OneDrive - Grove City College\\Sophomore Year\\FinanceData\\FinanceData\\FinanceDataHelper.py:102: FutureWarning: The behavior of DataFrame concatenation with empty or all-NA entries is deprecated. In a future version, this will no longer exclude empty or all-NA columns when determining the result dtypes. To retain the old behavior, exclude the relevant entries before the concat operation.\n",
      "  return new_append_df if output_df is None else pd.concat([output_df,new_append_df])\n"
     ]
    },
    {
     "name": "stdout",
     "output_type": "stream",
     "text": [
      "94\n"
     ]
    },
    {
     "name": "stderr",
     "output_type": "stream",
     "text": [
      "[*********************100%%**********************]  1 of 1 completed\n",
      "[*********************100%%**********************]  1 of 1 completed\n",
      "[*********************100%%**********************]  1 of 1 completed\n",
      "[*********************100%%**********************]  1 of 1 completed\n",
      "[*********************100%%**********************]  1 of 1 completed\n",
      "c:\\Users\\GRAYBILLKB20\\OneDrive - Grove City College\\Sophomore Year\\FinanceData\\FinanceData\\FinanceDataHelper.py:102: FutureWarning: The behavior of DataFrame concatenation with empty or all-NA entries is deprecated. In a future version, this will no longer exclude empty or all-NA columns when determining the result dtypes. To retain the old behavior, exclude the relevant entries before the concat operation.\n",
      "  return new_append_df if output_df is None else pd.concat([output_df,new_append_df])\n"
     ]
    },
    {
     "name": "stdout",
     "output_type": "stream",
     "text": [
      "95\n"
     ]
    },
    {
     "name": "stderr",
     "output_type": "stream",
     "text": [
      "[*********************100%%**********************]  1 of 1 completed\n",
      "[*********************100%%**********************]  1 of 1 completed\n",
      "[*********************100%%**********************]  1 of 1 completed\n",
      "[*********************100%%**********************]  1 of 1 completed\n",
      "[*********************100%%**********************]  1 of 1 completed\n",
      "c:\\Users\\GRAYBILLKB20\\OneDrive - Grove City College\\Sophomore Year\\FinanceData\\FinanceData\\FinanceDataHelper.py:102: FutureWarning: The behavior of DataFrame concatenation with empty or all-NA entries is deprecated. In a future version, this will no longer exclude empty or all-NA columns when determining the result dtypes. To retain the old behavior, exclude the relevant entries before the concat operation.\n",
      "  return new_append_df if output_df is None else pd.concat([output_df,new_append_df])\n"
     ]
    },
    {
     "name": "stdout",
     "output_type": "stream",
     "text": [
      "96\n"
     ]
    },
    {
     "name": "stderr",
     "output_type": "stream",
     "text": [
      "[*********************100%%**********************]  1 of 1 completed\n",
      "[*********************100%%**********************]  1 of 1 completed\n",
      "[*********************100%%**********************]  1 of 1 completed\n",
      "[*********************100%%**********************]  1 of 1 completed\n",
      "[*********************100%%**********************]  1 of 1 completed\n",
      "c:\\Users\\GRAYBILLKB20\\OneDrive - Grove City College\\Sophomore Year\\FinanceData\\FinanceData\\FinanceDataHelper.py:102: FutureWarning: The behavior of DataFrame concatenation with empty or all-NA entries is deprecated. In a future version, this will no longer exclude empty or all-NA columns when determining the result dtypes. To retain the old behavior, exclude the relevant entries before the concat operation.\n",
      "  return new_append_df if output_df is None else pd.concat([output_df,new_append_df])\n"
     ]
    },
    {
     "name": "stdout",
     "output_type": "stream",
     "text": [
      "97\n"
     ]
    },
    {
     "name": "stderr",
     "output_type": "stream",
     "text": [
      "[*********************100%%**********************]  1 of 1 completed\n",
      "[*********************100%%**********************]  1 of 1 completed\n",
      "[*********************100%%**********************]  1 of 1 completed\n",
      "[*********************100%%**********************]  1 of 1 completed\n",
      "[*********************100%%**********************]  1 of 1 completed\n",
      "c:\\Users\\GRAYBILLKB20\\OneDrive - Grove City College\\Sophomore Year\\FinanceData\\FinanceData\\FinanceDataHelper.py:102: FutureWarning: The behavior of DataFrame concatenation with empty or all-NA entries is deprecated. In a future version, this will no longer exclude empty or all-NA columns when determining the result dtypes. To retain the old behavior, exclude the relevant entries before the concat operation.\n",
      "  return new_append_df if output_df is None else pd.concat([output_df,new_append_df])\n"
     ]
    },
    {
     "name": "stdout",
     "output_type": "stream",
     "text": [
      "98\n"
     ]
    },
    {
     "name": "stderr",
     "output_type": "stream",
     "text": [
      "[*********************100%%**********************]  1 of 1 completed\n",
      "[*********************100%%**********************]  1 of 1 completed\n",
      "[*********************100%%**********************]  1 of 1 completed\n",
      "[*********************100%%**********************]  1 of 1 completed\n",
      "[*********************100%%**********************]  1 of 1 completed\n",
      "c:\\Users\\GRAYBILLKB20\\OneDrive - Grove City College\\Sophomore Year\\FinanceData\\FinanceData\\FinanceDataHelper.py:102: FutureWarning: The behavior of DataFrame concatenation with empty or all-NA entries is deprecated. In a future version, this will no longer exclude empty or all-NA columns when determining the result dtypes. To retain the old behavior, exclude the relevant entries before the concat operation.\n",
      "  return new_append_df if output_df is None else pd.concat([output_df,new_append_df])\n"
     ]
    },
    {
     "name": "stdout",
     "output_type": "stream",
     "text": [
      "99\n"
     ]
    },
    {
     "name": "stderr",
     "output_type": "stream",
     "text": [
      "[*********************100%%**********************]  1 of 1 completed\n",
      "[*********************100%%**********************]  1 of 1 completed\n",
      "[*********************100%%**********************]  1 of 1 completed\n",
      "[*********************100%%**********************]  1 of 1 completed\n",
      "[*********************100%%**********************]  1 of 1 completed\n",
      "c:\\Users\\GRAYBILLKB20\\OneDrive - Grove City College\\Sophomore Year\\FinanceData\\FinanceData\\FinanceDataHelper.py:102: FutureWarning: The behavior of DataFrame concatenation with empty or all-NA entries is deprecated. In a future version, this will no longer exclude empty or all-NA columns when determining the result dtypes. To retain the old behavior, exclude the relevant entries before the concat operation.\n",
      "  return new_append_df if output_df is None else pd.concat([output_df,new_append_df])\n"
     ]
    },
    {
     "name": "stdout",
     "output_type": "stream",
     "text": [
      "100\n"
     ]
    },
    {
     "name": "stderr",
     "output_type": "stream",
     "text": [
      "[*********************100%%**********************]  1 of 1 completed\n",
      "[*********************100%%**********************]  1 of 1 completed\n",
      "[*********************100%%**********************]  1 of 1 completed\n",
      "[*********************100%%**********************]  1 of 1 completed\n",
      "[*********************100%%**********************]  1 of 1 completed\n",
      "c:\\Users\\GRAYBILLKB20\\OneDrive - Grove City College\\Sophomore Year\\FinanceData\\FinanceData\\FinanceDataHelper.py:102: FutureWarning: The behavior of DataFrame concatenation with empty or all-NA entries is deprecated. In a future version, this will no longer exclude empty or all-NA columns when determining the result dtypes. To retain the old behavior, exclude the relevant entries before the concat operation.\n",
      "  return new_append_df if output_df is None else pd.concat([output_df,new_append_df])\n"
     ]
    },
    {
     "name": "stdout",
     "output_type": "stream",
     "text": [
      "101\n"
     ]
    },
    {
     "name": "stderr",
     "output_type": "stream",
     "text": [
      "[*********************100%%**********************]  1 of 1 completed\n",
      "[*********************100%%**********************]  1 of 1 completed\n",
      "[*********************100%%**********************]  1 of 1 completed\n",
      "[*********************100%%**********************]  1 of 1 completed\n",
      "[*********************100%%**********************]  1 of 1 completed\n",
      "c:\\Users\\GRAYBILLKB20\\OneDrive - Grove City College\\Sophomore Year\\FinanceData\\FinanceData\\FinanceDataHelper.py:102: FutureWarning: The behavior of DataFrame concatenation with empty or all-NA entries is deprecated. In a future version, this will no longer exclude empty or all-NA columns when determining the result dtypes. To retain the old behavior, exclude the relevant entries before the concat operation.\n",
      "  return new_append_df if output_df is None else pd.concat([output_df,new_append_df])\n"
     ]
    },
    {
     "name": "stdout",
     "output_type": "stream",
     "text": [
      "102\n"
     ]
    },
    {
     "name": "stderr",
     "output_type": "stream",
     "text": [
      "[*********************100%%**********************]  1 of 1 completed\n",
      "[*********************100%%**********************]  1 of 1 completed\n",
      "[*********************100%%**********************]  1 of 1 completed\n",
      "[*********************100%%**********************]  1 of 1 completed\n",
      "[*********************100%%**********************]  1 of 1 completed\n",
      "c:\\Users\\GRAYBILLKB20\\OneDrive - Grove City College\\Sophomore Year\\FinanceData\\FinanceData\\FinanceDataHelper.py:102: FutureWarning: The behavior of DataFrame concatenation with empty or all-NA entries is deprecated. In a future version, this will no longer exclude empty or all-NA columns when determining the result dtypes. To retain the old behavior, exclude the relevant entries before the concat operation.\n",
      "  return new_append_df if output_df is None else pd.concat([output_df,new_append_df])\n"
     ]
    },
    {
     "name": "stdout",
     "output_type": "stream",
     "text": [
      "103\n"
     ]
    },
    {
     "name": "stderr",
     "output_type": "stream",
     "text": [
      "[*********************100%%**********************]  1 of 1 completed\n",
      "[*********************100%%**********************]  1 of 1 completed\n",
      "[*********************100%%**********************]  1 of 1 completed\n",
      "[*********************100%%**********************]  1 of 1 completed\n",
      "[*********************100%%**********************]  1 of 1 completed\n",
      "c:\\Users\\GRAYBILLKB20\\OneDrive - Grove City College\\Sophomore Year\\FinanceData\\FinanceData\\FinanceDataHelper.py:102: FutureWarning: The behavior of DataFrame concatenation with empty or all-NA entries is deprecated. In a future version, this will no longer exclude empty or all-NA columns when determining the result dtypes. To retain the old behavior, exclude the relevant entries before the concat operation.\n",
      "  return new_append_df if output_df is None else pd.concat([output_df,new_append_df])\n"
     ]
    },
    {
     "name": "stdout",
     "output_type": "stream",
     "text": [
      "104\n"
     ]
    },
    {
     "name": "stderr",
     "output_type": "stream",
     "text": [
      "[*********************100%%**********************]  1 of 1 completed\n",
      "[*********************100%%**********************]  1 of 1 completed\n",
      "[*********************100%%**********************]  1 of 1 completed\n",
      "[*********************100%%**********************]  1 of 1 completed\n",
      "[*********************100%%**********************]  1 of 1 completed\n",
      "c:\\Users\\GRAYBILLKB20\\OneDrive - Grove City College\\Sophomore Year\\FinanceData\\FinanceData\\FinanceDataHelper.py:102: FutureWarning: The behavior of DataFrame concatenation with empty or all-NA entries is deprecated. In a future version, this will no longer exclude empty or all-NA columns when determining the result dtypes. To retain the old behavior, exclude the relevant entries before the concat operation.\n",
      "  return new_append_df if output_df is None else pd.concat([output_df,new_append_df])\n"
     ]
    },
    {
     "name": "stdout",
     "output_type": "stream",
     "text": [
      "105\n"
     ]
    },
    {
     "name": "stderr",
     "output_type": "stream",
     "text": [
      "[*********************100%%**********************]  1 of 1 completed\n",
      "[*********************100%%**********************]  1 of 1 completed\n",
      "[*********************100%%**********************]  1 of 1 completed\n",
      "[*********************100%%**********************]  1 of 1 completed\n",
      "[*********************100%%**********************]  1 of 1 completed\n",
      "c:\\Users\\GRAYBILLKB20\\OneDrive - Grove City College\\Sophomore Year\\FinanceData\\FinanceData\\FinanceDataHelper.py:102: FutureWarning: The behavior of DataFrame concatenation with empty or all-NA entries is deprecated. In a future version, this will no longer exclude empty or all-NA columns when determining the result dtypes. To retain the old behavior, exclude the relevant entries before the concat operation.\n",
      "  return new_append_df if output_df is None else pd.concat([output_df,new_append_df])\n"
     ]
    },
    {
     "name": "stdout",
     "output_type": "stream",
     "text": [
      "Index error retrieving data for CINF stock on 2024-12-09 00:00:00: single positional indexer is out-of-bounds\n",
      "106\n"
     ]
    },
    {
     "name": "stderr",
     "output_type": "stream",
     "text": [
      "[*********************100%%**********************]  1 of 1 completed\n",
      "[*********************100%%**********************]  1 of 1 completed\n",
      "[*********************100%%**********************]  1 of 1 completed\n",
      "[*********************100%%**********************]  1 of 1 completed\n",
      "[*********************100%%**********************]  1 of 1 completed\n",
      "c:\\Users\\GRAYBILLKB20\\OneDrive - Grove City College\\Sophomore Year\\FinanceData\\FinanceData\\FinanceDataHelper.py:102: FutureWarning: The behavior of DataFrame concatenation with empty or all-NA entries is deprecated. In a future version, this will no longer exclude empty or all-NA columns when determining the result dtypes. To retain the old behavior, exclude the relevant entries before the concat operation.\n",
      "  return new_append_df if output_df is None else pd.concat([output_df,new_append_df])\n"
     ]
    },
    {
     "name": "stdout",
     "output_type": "stream",
     "text": [
      "107\n"
     ]
    },
    {
     "name": "stderr",
     "output_type": "stream",
     "text": [
      "[*********************100%%**********************]  1 of 1 completed\n",
      "[*********************100%%**********************]  1 of 1 completed\n",
      "[*********************100%%**********************]  1 of 1 completed\n",
      "[*********************100%%**********************]  1 of 1 completed\n",
      "[*********************100%%**********************]  1 of 1 completed\n",
      "c:\\Users\\GRAYBILLKB20\\OneDrive - Grove City College\\Sophomore Year\\FinanceData\\FinanceData\\FinanceDataHelper.py:102: FutureWarning: The behavior of DataFrame concatenation with empty or all-NA entries is deprecated. In a future version, this will no longer exclude empty or all-NA columns when determining the result dtypes. To retain the old behavior, exclude the relevant entries before the concat operation.\n",
      "  return new_append_df if output_df is None else pd.concat([output_df,new_append_df])\n"
     ]
    },
    {
     "name": "stdout",
     "output_type": "stream",
     "text": [
      "108\n"
     ]
    },
    {
     "name": "stderr",
     "output_type": "stream",
     "text": [
      "[*********************100%%**********************]  1 of 1 completed\n",
      "[*********************100%%**********************]  1 of 1 completed\n",
      "[*********************100%%**********************]  1 of 1 completed\n",
      "[*********************100%%**********************]  1 of 1 completed\n",
      "[*********************100%%**********************]  1 of 1 completed\n",
      "c:\\Users\\GRAYBILLKB20\\OneDrive - Grove City College\\Sophomore Year\\FinanceData\\FinanceData\\FinanceDataHelper.py:102: FutureWarning: The behavior of DataFrame concatenation with empty or all-NA entries is deprecated. In a future version, this will no longer exclude empty or all-NA columns when determining the result dtypes. To retain the old behavior, exclude the relevant entries before the concat operation.\n",
      "  return new_append_df if output_df is None else pd.concat([output_df,new_append_df])\n"
     ]
    },
    {
     "name": "stdout",
     "output_type": "stream",
     "text": [
      "109\n"
     ]
    },
    {
     "name": "stderr",
     "output_type": "stream",
     "text": [
      "[*********************100%%**********************]  1 of 1 completed\n",
      "[*********************100%%**********************]  1 of 1 completed\n",
      "[*********************100%%**********************]  1 of 1 completed\n",
      "[*********************100%%**********************]  1 of 1 completed\n",
      "[*********************100%%**********************]  1 of 1 completed\n",
      "c:\\Users\\GRAYBILLKB20\\OneDrive - Grove City College\\Sophomore Year\\FinanceData\\FinanceData\\FinanceDataHelper.py:102: FutureWarning: The behavior of DataFrame concatenation with empty or all-NA entries is deprecated. In a future version, this will no longer exclude empty or all-NA columns when determining the result dtypes. To retain the old behavior, exclude the relevant entries before the concat operation.\n",
      "  return new_append_df if output_df is None else pd.concat([output_df,new_append_df])\n"
     ]
    },
    {
     "name": "stdout",
     "output_type": "stream",
     "text": [
      "110\n"
     ]
    },
    {
     "name": "stderr",
     "output_type": "stream",
     "text": [
      "[*********************100%%**********************]  1 of 1 completed\n",
      "[*********************100%%**********************]  1 of 1 completed\n",
      "[*********************100%%**********************]  1 of 1 completed\n",
      "[*********************100%%**********************]  1 of 1 completed\n",
      "[*********************100%%**********************]  1 of 1 completed\n",
      "c:\\Users\\GRAYBILLKB20\\OneDrive - Grove City College\\Sophomore Year\\FinanceData\\FinanceData\\FinanceDataHelper.py:102: FutureWarning: The behavior of DataFrame concatenation with empty or all-NA entries is deprecated. In a future version, this will no longer exclude empty or all-NA columns when determining the result dtypes. To retain the old behavior, exclude the relevant entries before the concat operation.\n",
      "  return new_append_df if output_df is None else pd.concat([output_df,new_append_df])\n"
     ]
    },
    {
     "name": "stdout",
     "output_type": "stream",
     "text": [
      "111\n"
     ]
    },
    {
     "name": "stderr",
     "output_type": "stream",
     "text": [
      "[*********************100%%**********************]  1 of 1 completed\n",
      "[*********************100%%**********************]  1 of 1 completed\n",
      "[*********************100%%**********************]  1 of 1 completed\n",
      "[*********************100%%**********************]  1 of 1 completed\n",
      "[*********************100%%**********************]  1 of 1 completed\n",
      "c:\\Users\\GRAYBILLKB20\\OneDrive - Grove City College\\Sophomore Year\\FinanceData\\FinanceData\\FinanceDataHelper.py:102: FutureWarning: The behavior of DataFrame concatenation with empty or all-NA entries is deprecated. In a future version, this will no longer exclude empty or all-NA columns when determining the result dtypes. To retain the old behavior, exclude the relevant entries before the concat operation.\n",
      "  return new_append_df if output_df is None else pd.concat([output_df,new_append_df])\n"
     ]
    },
    {
     "name": "stdout",
     "output_type": "stream",
     "text": [
      "112\n"
     ]
    },
    {
     "name": "stderr",
     "output_type": "stream",
     "text": [
      "[*********************100%%**********************]  1 of 1 completed\n",
      "[*********************100%%**********************]  1 of 1 completed\n",
      "[*********************100%%**********************]  1 of 1 completed\n",
      "[*********************100%%**********************]  1 of 1 completed\n",
      "[*********************100%%**********************]  1 of 1 completed\n",
      "c:\\Users\\GRAYBILLKB20\\OneDrive - Grove City College\\Sophomore Year\\FinanceData\\FinanceData\\FinanceDataHelper.py:102: FutureWarning: The behavior of DataFrame concatenation with empty or all-NA entries is deprecated. In a future version, this will no longer exclude empty or all-NA columns when determining the result dtypes. To retain the old behavior, exclude the relevant entries before the concat operation.\n",
      "  return new_append_df if output_df is None else pd.concat([output_df,new_append_df])\n"
     ]
    },
    {
     "name": "stdout",
     "output_type": "stream",
     "text": [
      "113\n"
     ]
    },
    {
     "name": "stderr",
     "output_type": "stream",
     "text": [
      "[*********************100%%**********************]  1 of 1 completed\n",
      "[*********************100%%**********************]  1 of 1 completed\n",
      "[*********************100%%**********************]  1 of 1 completed\n",
      "[*********************100%%**********************]  1 of 1 completed\n",
      "[*********************100%%**********************]  1 of 1 completed\n",
      "c:\\Users\\GRAYBILLKB20\\OneDrive - Grove City College\\Sophomore Year\\FinanceData\\FinanceData\\FinanceDataHelper.py:102: FutureWarning: The behavior of DataFrame concatenation with empty or all-NA entries is deprecated. In a future version, this will no longer exclude empty or all-NA columns when determining the result dtypes. To retain the old behavior, exclude the relevant entries before the concat operation.\n",
      "  return new_append_df if output_df is None else pd.concat([output_df,new_append_df])\n"
     ]
    },
    {
     "name": "stdout",
     "output_type": "stream",
     "text": [
      "114\n"
     ]
    },
    {
     "name": "stderr",
     "output_type": "stream",
     "text": [
      "[*********************100%%**********************]  1 of 1 completed\n",
      "[*********************100%%**********************]  1 of 1 completed\n",
      "[*********************100%%**********************]  1 of 1 completed\n",
      "[*********************100%%**********************]  1 of 1 completed\n",
      "[*********************100%%**********************]  1 of 1 completed\n",
      "c:\\Users\\GRAYBILLKB20\\OneDrive - Grove City College\\Sophomore Year\\FinanceData\\FinanceData\\FinanceDataHelper.py:102: FutureWarning: The behavior of DataFrame concatenation with empty or all-NA entries is deprecated. In a future version, this will no longer exclude empty or all-NA columns when determining the result dtypes. To retain the old behavior, exclude the relevant entries before the concat operation.\n",
      "  return new_append_df if output_df is None else pd.concat([output_df,new_append_df])\n"
     ]
    },
    {
     "name": "stdout",
     "output_type": "stream",
     "text": [
      "115\n"
     ]
    },
    {
     "name": "stderr",
     "output_type": "stream",
     "text": [
      "[*********************100%%**********************]  1 of 1 completed\n",
      "[*********************100%%**********************]  1 of 1 completed\n",
      "[*********************100%%**********************]  1 of 1 completed\n",
      "[*********************100%%**********************]  1 of 1 completed\n",
      "[*********************100%%**********************]  1 of 1 completed\n",
      "c:\\Users\\GRAYBILLKB20\\OneDrive - Grove City College\\Sophomore Year\\FinanceData\\FinanceData\\FinanceDataHelper.py:102: FutureWarning: The behavior of DataFrame concatenation with empty or all-NA entries is deprecated. In a future version, this will no longer exclude empty or all-NA columns when determining the result dtypes. To retain the old behavior, exclude the relevant entries before the concat operation.\n",
      "  return new_append_df if output_df is None else pd.concat([output_df,new_append_df])\n"
     ]
    },
    {
     "name": "stdout",
     "output_type": "stream",
     "text": [
      "116\n"
     ]
    },
    {
     "name": "stderr",
     "output_type": "stream",
     "text": [
      "[*********************100%%**********************]  1 of 1 completed\n",
      "[*********************100%%**********************]  1 of 1 completed\n",
      "[*********************100%%**********************]  1 of 1 completed\n",
      "[*********************100%%**********************]  1 of 1 completed\n",
      "[*********************100%%**********************]  1 of 1 completed\n",
      "c:\\Users\\GRAYBILLKB20\\OneDrive - Grove City College\\Sophomore Year\\FinanceData\\FinanceData\\FinanceDataHelper.py:102: FutureWarning: The behavior of DataFrame concatenation with empty or all-NA entries is deprecated. In a future version, this will no longer exclude empty or all-NA columns when determining the result dtypes. To retain the old behavior, exclude the relevant entries before the concat operation.\n",
      "  return new_append_df if output_df is None else pd.concat([output_df,new_append_df])\n"
     ]
    },
    {
     "name": "stdout",
     "output_type": "stream",
     "text": [
      "117\n"
     ]
    },
    {
     "name": "stderr",
     "output_type": "stream",
     "text": [
      "[*********************100%%**********************]  1 of 1 completed\n",
      "[*********************100%%**********************]  1 of 1 completed\n",
      "[*********************100%%**********************]  1 of 1 completed\n",
      "[*********************100%%**********************]  1 of 1 completed\n",
      "[*********************100%%**********************]  1 of 1 completed\n",
      "c:\\Users\\GRAYBILLKB20\\OneDrive - Grove City College\\Sophomore Year\\FinanceData\\FinanceData\\FinanceDataHelper.py:102: FutureWarning: The behavior of DataFrame concatenation with empty or all-NA entries is deprecated. In a future version, this will no longer exclude empty or all-NA columns when determining the result dtypes. To retain the old behavior, exclude the relevant entries before the concat operation.\n",
      "  return new_append_df if output_df is None else pd.concat([output_df,new_append_df])\n"
     ]
    },
    {
     "name": "stdout",
     "output_type": "stream",
     "text": [
      "118\n"
     ]
    },
    {
     "name": "stderr",
     "output_type": "stream",
     "text": [
      "[*********************100%%**********************]  1 of 1 completed\n",
      "[*********************100%%**********************]  1 of 1 completed\n",
      "[*********************100%%**********************]  1 of 1 completed\n",
      "[*********************100%%**********************]  1 of 1 completed\n",
      "[*********************100%%**********************]  1 of 1 completed\n",
      "c:\\Users\\GRAYBILLKB20\\OneDrive - Grove City College\\Sophomore Year\\FinanceData\\FinanceData\\FinanceDataHelper.py:102: FutureWarning: The behavior of DataFrame concatenation with empty or all-NA entries is deprecated. In a future version, this will no longer exclude empty or all-NA columns when determining the result dtypes. To retain the old behavior, exclude the relevant entries before the concat operation.\n",
      "  return new_append_df if output_df is None else pd.concat([output_df,new_append_df])\n"
     ]
    },
    {
     "name": "stdout",
     "output_type": "stream",
     "text": [
      "119\n"
     ]
    },
    {
     "name": "stderr",
     "output_type": "stream",
     "text": [
      "[*********************100%%**********************]  1 of 1 completed\n",
      "[*********************100%%**********************]  1 of 1 completed\n",
      "[*********************100%%**********************]  1 of 1 completed\n",
      "[*********************100%%**********************]  1 of 1 completed\n",
      "[*********************100%%**********************]  1 of 1 completed\n",
      "c:\\Users\\GRAYBILLKB20\\OneDrive - Grove City College\\Sophomore Year\\FinanceData\\FinanceData\\FinanceDataHelper.py:102: FutureWarning: The behavior of DataFrame concatenation with empty or all-NA entries is deprecated. In a future version, this will no longer exclude empty or all-NA columns when determining the result dtypes. To retain the old behavior, exclude the relevant entries before the concat operation.\n",
      "  return new_append_df if output_df is None else pd.concat([output_df,new_append_df])\n"
     ]
    },
    {
     "name": "stdout",
     "output_type": "stream",
     "text": [
      "120\n"
     ]
    },
    {
     "name": "stderr",
     "output_type": "stream",
     "text": [
      "[*********************100%%**********************]  1 of 1 completed\n",
      "[*********************100%%**********************]  1 of 1 completed\n",
      "[*********************100%%**********************]  1 of 1 completed\n",
      "[*********************100%%**********************]  1 of 1 completed\n",
      "[*********************100%%**********************]  1 of 1 completed\n",
      "c:\\Users\\GRAYBILLKB20\\OneDrive - Grove City College\\Sophomore Year\\FinanceData\\FinanceData\\FinanceDataHelper.py:102: FutureWarning: The behavior of DataFrame concatenation with empty or all-NA entries is deprecated. In a future version, this will no longer exclude empty or all-NA columns when determining the result dtypes. To retain the old behavior, exclude the relevant entries before the concat operation.\n",
      "  return new_append_df if output_df is None else pd.concat([output_df,new_append_df])\n"
     ]
    },
    {
     "name": "stdout",
     "output_type": "stream",
     "text": [
      "121\n"
     ]
    },
    {
     "name": "stderr",
     "output_type": "stream",
     "text": [
      "[*********************100%%**********************]  1 of 1 completed\n",
      "[*********************100%%**********************]  1 of 1 completed\n",
      "[*********************100%%**********************]  1 of 1 completed\n",
      "[*********************100%%**********************]  1 of 1 completed\n",
      "[*********************100%%**********************]  1 of 1 completed\n",
      "c:\\Users\\GRAYBILLKB20\\OneDrive - Grove City College\\Sophomore Year\\FinanceData\\FinanceData\\FinanceDataHelper.py:102: FutureWarning: The behavior of DataFrame concatenation with empty or all-NA entries is deprecated. In a future version, this will no longer exclude empty or all-NA columns when determining the result dtypes. To retain the old behavior, exclude the relevant entries before the concat operation.\n",
      "  return new_append_df if output_df is None else pd.concat([output_df,new_append_df])\n"
     ]
    },
    {
     "name": "stdout",
     "output_type": "stream",
     "text": [
      "122\n"
     ]
    },
    {
     "name": "stderr",
     "output_type": "stream",
     "text": [
      "[*********************100%%**********************]  1 of 1 completed\n",
      "[*********************100%%**********************]  1 of 1 completed\n",
      "[*********************100%%**********************]  1 of 1 completed\n",
      "[*********************100%%**********************]  1 of 1 completed\n",
      "[*********************100%%**********************]  1 of 1 completed\n",
      "c:\\Users\\GRAYBILLKB20\\OneDrive - Grove City College\\Sophomore Year\\FinanceData\\FinanceData\\FinanceDataHelper.py:102: FutureWarning: The behavior of DataFrame concatenation with empty or all-NA entries is deprecated. In a future version, this will no longer exclude empty or all-NA columns when determining the result dtypes. To retain the old behavior, exclude the relevant entries before the concat operation.\n",
      "  return new_append_df if output_df is None else pd.concat([output_df,new_append_df])\n"
     ]
    },
    {
     "name": "stdout",
     "output_type": "stream",
     "text": [
      "123\n"
     ]
    },
    {
     "name": "stderr",
     "output_type": "stream",
     "text": [
      "[*********************100%%**********************]  1 of 1 completed\n",
      "[*********************100%%**********************]  1 of 1 completed\n",
      "[*********************100%%**********************]  1 of 1 completed\n",
      "[*********************100%%**********************]  1 of 1 completed\n",
      "[*********************100%%**********************]  1 of 1 completed\n",
      "c:\\Users\\GRAYBILLKB20\\OneDrive - Grove City College\\Sophomore Year\\FinanceData\\FinanceData\\FinanceDataHelper.py:102: FutureWarning: The behavior of DataFrame concatenation with empty or all-NA entries is deprecated. In a future version, this will no longer exclude empty or all-NA columns when determining the result dtypes. To retain the old behavior, exclude the relevant entries before the concat operation.\n",
      "  return new_append_df if output_df is None else pd.concat([output_df,new_append_df])\n"
     ]
    },
    {
     "name": "stdout",
     "output_type": "stream",
     "text": [
      "124\n"
     ]
    },
    {
     "name": "stderr",
     "output_type": "stream",
     "text": [
      "[*********************100%%**********************]  1 of 1 completed\n",
      "[*********************100%%**********************]  1 of 1 completed\n",
      "[*********************100%%**********************]  1 of 1 completed\n",
      "[*********************100%%**********************]  1 of 1 completed\n",
      "[*********************100%%**********************]  1 of 1 completed\n",
      "c:\\Users\\GRAYBILLKB20\\OneDrive - Grove City College\\Sophomore Year\\FinanceData\\FinanceData\\FinanceDataHelper.py:102: FutureWarning: The behavior of DataFrame concatenation with empty or all-NA entries is deprecated. In a future version, this will no longer exclude empty or all-NA columns when determining the result dtypes. To retain the old behavior, exclude the relevant entries before the concat operation.\n",
      "  return new_append_df if output_df is None else pd.concat([output_df,new_append_df])\n"
     ]
    },
    {
     "name": "stdout",
     "output_type": "stream",
     "text": [
      "125\n"
     ]
    },
    {
     "name": "stderr",
     "output_type": "stream",
     "text": [
      "[*********************100%%**********************]  1 of 1 completed\n",
      "[*********************100%%**********************]  1 of 1 completed\n",
      "[*********************100%%**********************]  1 of 1 completed\n",
      "[*********************100%%**********************]  1 of 1 completed\n",
      "[*********************100%%**********************]  1 of 1 completed\n",
      "c:\\Users\\GRAYBILLKB20\\OneDrive - Grove City College\\Sophomore Year\\FinanceData\\FinanceData\\FinanceDataHelper.py:102: FutureWarning: The behavior of DataFrame concatenation with empty or all-NA entries is deprecated. In a future version, this will no longer exclude empty or all-NA columns when determining the result dtypes. To retain the old behavior, exclude the relevant entries before the concat operation.\n",
      "  return new_append_df if output_df is None else pd.concat([output_df,new_append_df])\n"
     ]
    },
    {
     "name": "stdout",
     "output_type": "stream",
     "text": [
      "Index error retrieving data for CPAY stock on 2024-12-09 00:00:00: single positional indexer is out-of-bounds\n",
      "126\n"
     ]
    },
    {
     "name": "stderr",
     "output_type": "stream",
     "text": [
      "[*********************100%%**********************]  1 of 1 completed\n",
      "[*********************100%%**********************]  1 of 1 completed\n",
      "[*********************100%%**********************]  1 of 1 completed\n",
      "[*********************100%%**********************]  1 of 1 completed\n",
      "[*********************100%%**********************]  1 of 1 completed\n",
      "c:\\Users\\GRAYBILLKB20\\OneDrive - Grove City College\\Sophomore Year\\FinanceData\\FinanceData\\FinanceDataHelper.py:102: FutureWarning: The behavior of DataFrame concatenation with empty or all-NA entries is deprecated. In a future version, this will no longer exclude empty or all-NA columns when determining the result dtypes. To retain the old behavior, exclude the relevant entries before the concat operation.\n",
      "  return new_append_df if output_df is None else pd.concat([output_df,new_append_df])\n"
     ]
    },
    {
     "name": "stdout",
     "output_type": "stream",
     "text": [
      "127\n"
     ]
    },
    {
     "name": "stderr",
     "output_type": "stream",
     "text": [
      "[*********************100%%**********************]  1 of 1 completed\n",
      "[*********************100%%**********************]  1 of 1 completed\n",
      "[*********************100%%**********************]  1 of 1 completed\n",
      "[*********************100%%**********************]  1 of 1 completed\n",
      "[*********************100%%**********************]  1 of 1 completed\n",
      "c:\\Users\\GRAYBILLKB20\\OneDrive - Grove City College\\Sophomore Year\\FinanceData\\FinanceData\\FinanceDataHelper.py:102: FutureWarning: The behavior of DataFrame concatenation with empty or all-NA entries is deprecated. In a future version, this will no longer exclude empty or all-NA columns when determining the result dtypes. To retain the old behavior, exclude the relevant entries before the concat operation.\n",
      "  return new_append_df if output_df is None else pd.concat([output_df,new_append_df])\n"
     ]
    },
    {
     "name": "stdout",
     "output_type": "stream",
     "text": [
      "128\n"
     ]
    },
    {
     "name": "stderr",
     "output_type": "stream",
     "text": [
      "[*********************100%%**********************]  1 of 1 completed\n",
      "[*********************100%%**********************]  1 of 1 completed\n",
      "[*********************100%%**********************]  1 of 1 completed\n",
      "[*********************100%%**********************]  1 of 1 completed\n",
      "[*********************100%%**********************]  1 of 1 completed\n",
      "c:\\Users\\GRAYBILLKB20\\OneDrive - Grove City College\\Sophomore Year\\FinanceData\\FinanceData\\FinanceDataHelper.py:102: FutureWarning: The behavior of DataFrame concatenation with empty or all-NA entries is deprecated. In a future version, this will no longer exclude empty or all-NA columns when determining the result dtypes. To retain the old behavior, exclude the relevant entries before the concat operation.\n",
      "  return new_append_df if output_df is None else pd.concat([output_df,new_append_df])\n"
     ]
    },
    {
     "name": "stdout",
     "output_type": "stream",
     "text": [
      "129\n"
     ]
    },
    {
     "name": "stderr",
     "output_type": "stream",
     "text": [
      "[*********************100%%**********************]  1 of 1 completed\n",
      "[*********************100%%**********************]  1 of 1 completed\n",
      "[*********************100%%**********************]  1 of 1 completed\n",
      "[*********************100%%**********************]  1 of 1 completed\n",
      "[*********************100%%**********************]  1 of 1 completed\n",
      "c:\\Users\\GRAYBILLKB20\\OneDrive - Grove City College\\Sophomore Year\\FinanceData\\FinanceData\\FinanceDataHelper.py:102: FutureWarning: The behavior of DataFrame concatenation with empty or all-NA entries is deprecated. In a future version, this will no longer exclude empty or all-NA columns when determining the result dtypes. To retain the old behavior, exclude the relevant entries before the concat operation.\n",
      "  return new_append_df if output_df is None else pd.concat([output_df,new_append_df])\n"
     ]
    },
    {
     "name": "stdout",
     "output_type": "stream",
     "text": [
      "130\n"
     ]
    },
    {
     "name": "stderr",
     "output_type": "stream",
     "text": [
      "[*********************100%%**********************]  1 of 1 completed\n",
      "[*********************100%%**********************]  1 of 1 completed\n",
      "[*********************100%%**********************]  1 of 1 completed\n",
      "[*********************100%%**********************]  1 of 1 completed\n",
      "[*********************100%%**********************]  1 of 1 completed\n",
      "c:\\Users\\GRAYBILLKB20\\OneDrive - Grove City College\\Sophomore Year\\FinanceData\\FinanceData\\FinanceDataHelper.py:102: FutureWarning: The behavior of DataFrame concatenation with empty or all-NA entries is deprecated. In a future version, this will no longer exclude empty or all-NA columns when determining the result dtypes. To retain the old behavior, exclude the relevant entries before the concat operation.\n",
      "  return new_append_df if output_df is None else pd.concat([output_df,new_append_df])\n"
     ]
    },
    {
     "name": "stdout",
     "output_type": "stream",
     "text": [
      "131\n"
     ]
    },
    {
     "name": "stderr",
     "output_type": "stream",
     "text": [
      "[*********************100%%**********************]  1 of 1 completed\n",
      "[*********************100%%**********************]  1 of 1 completed\n",
      "[*********************100%%**********************]  1 of 1 completed\n",
      "[*********************100%%**********************]  1 of 1 completed\n",
      "[*********************100%%**********************]  1 of 1 completed\n",
      "c:\\Users\\GRAYBILLKB20\\OneDrive - Grove City College\\Sophomore Year\\FinanceData\\FinanceData\\FinanceDataHelper.py:102: FutureWarning: The behavior of DataFrame concatenation with empty or all-NA entries is deprecated. In a future version, this will no longer exclude empty or all-NA columns when determining the result dtypes. To retain the old behavior, exclude the relevant entries before the concat operation.\n",
      "  return new_append_df if output_df is None else pd.concat([output_df,new_append_df])\n"
     ]
    },
    {
     "name": "stdout",
     "output_type": "stream",
     "text": [
      "132\n"
     ]
    },
    {
     "name": "stderr",
     "output_type": "stream",
     "text": [
      "[*********************100%%**********************]  1 of 1 completed\n",
      "[*********************100%%**********************]  1 of 1 completed\n",
      "[*********************100%%**********************]  1 of 1 completed\n",
      "[*********************100%%**********************]  1 of 1 completed\n",
      "[*********************100%%**********************]  1 of 1 completed\n",
      "c:\\Users\\GRAYBILLKB20\\OneDrive - Grove City College\\Sophomore Year\\FinanceData\\FinanceData\\FinanceDataHelper.py:102: FutureWarning: The behavior of DataFrame concatenation with empty or all-NA entries is deprecated. In a future version, this will no longer exclude empty or all-NA columns when determining the result dtypes. To retain the old behavior, exclude the relevant entries before the concat operation.\n",
      "  return new_append_df if output_df is None else pd.concat([output_df,new_append_df])\n"
     ]
    },
    {
     "name": "stdout",
     "output_type": "stream",
     "text": [
      "133\n"
     ]
    },
    {
     "name": "stderr",
     "output_type": "stream",
     "text": [
      "[*********************100%%**********************]  1 of 1 completed\n",
      "[*********************100%%**********************]  1 of 1 completed\n",
      "[*********************100%%**********************]  1 of 1 completed\n",
      "[*********************100%%**********************]  1 of 1 completed\n",
      "[*********************100%%**********************]  1 of 1 completed\n",
      "c:\\Users\\GRAYBILLKB20\\OneDrive - Grove City College\\Sophomore Year\\FinanceData\\FinanceData\\FinanceDataHelper.py:102: FutureWarning: The behavior of DataFrame concatenation with empty or all-NA entries is deprecated. In a future version, this will no longer exclude empty or all-NA columns when determining the result dtypes. To retain the old behavior, exclude the relevant entries before the concat operation.\n",
      "  return new_append_df if output_df is None else pd.concat([output_df,new_append_df])\n"
     ]
    },
    {
     "name": "stdout",
     "output_type": "stream",
     "text": [
      "134\n"
     ]
    },
    {
     "name": "stderr",
     "output_type": "stream",
     "text": [
      "[*********************100%%**********************]  1 of 1 completed\n",
      "[*********************100%%**********************]  1 of 1 completed\n",
      "[*********************100%%**********************]  1 of 1 completed\n",
      "[*********************100%%**********************]  1 of 1 completed\n",
      "[*********************100%%**********************]  1 of 1 completed\n",
      "c:\\Users\\GRAYBILLKB20\\OneDrive - Grove City College\\Sophomore Year\\FinanceData\\FinanceData\\FinanceDataHelper.py:102: FutureWarning: The behavior of DataFrame concatenation with empty or all-NA entries is deprecated. In a future version, this will no longer exclude empty or all-NA columns when determining the result dtypes. To retain the old behavior, exclude the relevant entries before the concat operation.\n",
      "  return new_append_df if output_df is None else pd.concat([output_df,new_append_df])\n"
     ]
    },
    {
     "name": "stdout",
     "output_type": "stream",
     "text": [
      "135\n"
     ]
    },
    {
     "name": "stderr",
     "output_type": "stream",
     "text": [
      "[*********************100%%**********************]  1 of 1 completed\n",
      "[*********************100%%**********************]  1 of 1 completed\n",
      "[*********************100%%**********************]  1 of 1 completed\n",
      "[*********************100%%**********************]  1 of 1 completed\n",
      "[*********************100%%**********************]  1 of 1 completed\n",
      "c:\\Users\\GRAYBILLKB20\\OneDrive - Grove City College\\Sophomore Year\\FinanceData\\FinanceData\\FinanceDataHelper.py:102: FutureWarning: The behavior of DataFrame concatenation with empty or all-NA entries is deprecated. In a future version, this will no longer exclude empty or all-NA columns when determining the result dtypes. To retain the old behavior, exclude the relevant entries before the concat operation.\n",
      "  return new_append_df if output_df is None else pd.concat([output_df,new_append_df])\n"
     ]
    },
    {
     "name": "stdout",
     "output_type": "stream",
     "text": [
      "136\n"
     ]
    },
    {
     "name": "stderr",
     "output_type": "stream",
     "text": [
      "[*********************100%%**********************]  1 of 1 completed\n",
      "[*********************100%%**********************]  1 of 1 completed\n",
      "[*********************100%%**********************]  1 of 1 completed\n",
      "[*********************100%%**********************]  1 of 1 completed\n",
      "[*********************100%%**********************]  1 of 1 completed\n",
      "c:\\Users\\GRAYBILLKB20\\OneDrive - Grove City College\\Sophomore Year\\FinanceData\\FinanceData\\FinanceDataHelper.py:102: FutureWarning: The behavior of DataFrame concatenation with empty or all-NA entries is deprecated. In a future version, this will no longer exclude empty or all-NA columns when determining the result dtypes. To retain the old behavior, exclude the relevant entries before the concat operation.\n",
      "  return new_append_df if output_df is None else pd.concat([output_df,new_append_df])\n"
     ]
    },
    {
     "name": "stdout",
     "output_type": "stream",
     "text": [
      "137\n"
     ]
    },
    {
     "name": "stderr",
     "output_type": "stream",
     "text": [
      "[*********************100%%**********************]  1 of 1 completed\n",
      "[*********************100%%**********************]  1 of 1 completed\n",
      "[*********************100%%**********************]  1 of 1 completed\n",
      "[*********************100%%**********************]  1 of 1 completed\n",
      "[*********************100%%**********************]  1 of 1 completed\n",
      "c:\\Users\\GRAYBILLKB20\\OneDrive - Grove City College\\Sophomore Year\\FinanceData\\FinanceData\\FinanceDataHelper.py:102: FutureWarning: The behavior of DataFrame concatenation with empty or all-NA entries is deprecated. In a future version, this will no longer exclude empty or all-NA columns when determining the result dtypes. To retain the old behavior, exclude the relevant entries before the concat operation.\n",
      "  return new_append_df if output_df is None else pd.concat([output_df,new_append_df])\n"
     ]
    },
    {
     "name": "stdout",
     "output_type": "stream",
     "text": [
      "Index error retrieving data for DVA stock on 2024-12-09 00:00:00: single positional indexer is out-of-bounds\n",
      "138\n"
     ]
    },
    {
     "name": "stderr",
     "output_type": "stream",
     "text": [
      "[*********************100%%**********************]  1 of 1 completed\n",
      "[*********************100%%**********************]  1 of 1 completed\n",
      "[*********************100%%**********************]  1 of 1 completed\n",
      "[*********************100%%**********************]  1 of 1 completed\n",
      "[*********************100%%**********************]  1 of 1 completed\n",
      "c:\\Users\\GRAYBILLKB20\\OneDrive - Grove City College\\Sophomore Year\\FinanceData\\FinanceData\\FinanceDataHelper.py:102: FutureWarning: The behavior of DataFrame concatenation with empty or all-NA entries is deprecated. In a future version, this will no longer exclude empty or all-NA columns when determining the result dtypes. To retain the old behavior, exclude the relevant entries before the concat operation.\n",
      "  return new_append_df if output_df is None else pd.concat([output_df,new_append_df])\n"
     ]
    },
    {
     "name": "stdout",
     "output_type": "stream",
     "text": [
      "139\n"
     ]
    },
    {
     "name": "stderr",
     "output_type": "stream",
     "text": [
      "[*********************100%%**********************]  1 of 1 completed\n",
      "[*********************100%%**********************]  1 of 1 completed\n",
      "[*********************100%%**********************]  1 of 1 completed\n",
      "[*********************100%%**********************]  1 of 1 completed\n",
      "[*********************100%%**********************]  1 of 1 completed\n",
      "c:\\Users\\GRAYBILLKB20\\OneDrive - Grove City College\\Sophomore Year\\FinanceData\\FinanceData\\FinanceDataHelper.py:102: FutureWarning: The behavior of DataFrame concatenation with empty or all-NA entries is deprecated. In a future version, this will no longer exclude empty or all-NA columns when determining the result dtypes. To retain the old behavior, exclude the relevant entries before the concat operation.\n",
      "  return new_append_df if output_df is None else pd.concat([output_df,new_append_df])\n"
     ]
    },
    {
     "name": "stdout",
     "output_type": "stream",
     "text": [
      "140\n"
     ]
    },
    {
     "name": "stderr",
     "output_type": "stream",
     "text": [
      "[*********************100%%**********************]  1 of 1 completed\n",
      "[*********************100%%**********************]  1 of 1 completed\n",
      "[*********************100%%**********************]  1 of 1 completed\n",
      "[*********************100%%**********************]  1 of 1 completed\n",
      "[*********************100%%**********************]  1 of 1 completed\n",
      "c:\\Users\\GRAYBILLKB20\\OneDrive - Grove City College\\Sophomore Year\\FinanceData\\FinanceData\\FinanceDataHelper.py:102: FutureWarning: The behavior of DataFrame concatenation with empty or all-NA entries is deprecated. In a future version, this will no longer exclude empty or all-NA columns when determining the result dtypes. To retain the old behavior, exclude the relevant entries before the concat operation.\n",
      "  return new_append_df if output_df is None else pd.concat([output_df,new_append_df])\n"
     ]
    },
    {
     "name": "stdout",
     "output_type": "stream",
     "text": [
      "141\n"
     ]
    },
    {
     "name": "stderr",
     "output_type": "stream",
     "text": [
      "[*********************100%%**********************]  1 of 1 completed\n",
      "[*********************100%%**********************]  1 of 1 completed\n",
      "[*********************100%%**********************]  1 of 1 completed\n",
      "[*********************100%%**********************]  1 of 1 completed\n",
      "[*********************100%%**********************]  1 of 1 completed\n",
      "c:\\Users\\GRAYBILLKB20\\OneDrive - Grove City College\\Sophomore Year\\FinanceData\\FinanceData\\FinanceDataHelper.py:102: FutureWarning: The behavior of DataFrame concatenation with empty or all-NA entries is deprecated. In a future version, this will no longer exclude empty or all-NA columns when determining the result dtypes. To retain the old behavior, exclude the relevant entries before the concat operation.\n",
      "  return new_append_df if output_df is None else pd.concat([output_df,new_append_df])\n"
     ]
    },
    {
     "name": "stdout",
     "output_type": "stream",
     "text": [
      "142\n"
     ]
    },
    {
     "name": "stderr",
     "output_type": "stream",
     "text": [
      "[*********************100%%**********************]  1 of 1 completed\n",
      "[*********************100%%**********************]  1 of 1 completed\n",
      "[*********************100%%**********************]  1 of 1 completed\n",
      "[*********************100%%**********************]  1 of 1 completed\n",
      "[*********************100%%**********************]  1 of 1 completed\n",
      "c:\\Users\\GRAYBILLKB20\\OneDrive - Grove City College\\Sophomore Year\\FinanceData\\FinanceData\\FinanceDataHelper.py:102: FutureWarning: The behavior of DataFrame concatenation with empty or all-NA entries is deprecated. In a future version, this will no longer exclude empty or all-NA columns when determining the result dtypes. To retain the old behavior, exclude the relevant entries before the concat operation.\n",
      "  return new_append_df if output_df is None else pd.concat([output_df,new_append_df])\n"
     ]
    },
    {
     "name": "stdout",
     "output_type": "stream",
     "text": [
      "143\n"
     ]
    },
    {
     "name": "stderr",
     "output_type": "stream",
     "text": [
      "[*********************100%%**********************]  1 of 1 completed\n",
      "[*********************100%%**********************]  1 of 1 completed\n",
      "[*********************100%%**********************]  1 of 1 completed\n",
      "[*********************100%%**********************]  1 of 1 completed\n",
      "[*********************100%%**********************]  1 of 1 completed\n",
      "c:\\Users\\GRAYBILLKB20\\OneDrive - Grove City College\\Sophomore Year\\FinanceData\\FinanceData\\FinanceDataHelper.py:102: FutureWarning: The behavior of DataFrame concatenation with empty or all-NA entries is deprecated. In a future version, this will no longer exclude empty or all-NA columns when determining the result dtypes. To retain the old behavior, exclude the relevant entries before the concat operation.\n",
      "  return new_append_df if output_df is None else pd.concat([output_df,new_append_df])\n"
     ]
    },
    {
     "name": "stdout",
     "output_type": "stream",
     "text": [
      "144\n"
     ]
    },
    {
     "name": "stderr",
     "output_type": "stream",
     "text": [
      "[*********************100%%**********************]  1 of 1 completed\n",
      "[*********************100%%**********************]  1 of 1 completed\n",
      "[*********************100%%**********************]  1 of 1 completed\n",
      "[*********************100%%**********************]  1 of 1 completed\n",
      "[*********************100%%**********************]  1 of 1 completed\n",
      "c:\\Users\\GRAYBILLKB20\\OneDrive - Grove City College\\Sophomore Year\\FinanceData\\FinanceData\\FinanceDataHelper.py:102: FutureWarning: The behavior of DataFrame concatenation with empty or all-NA entries is deprecated. In a future version, this will no longer exclude empty or all-NA columns when determining the result dtypes. To retain the old behavior, exclude the relevant entries before the concat operation.\n",
      "  return new_append_df if output_df is None else pd.concat([output_df,new_append_df])\n"
     ]
    },
    {
     "name": "stdout",
     "output_type": "stream",
     "text": [
      "145\n"
     ]
    },
    {
     "name": "stderr",
     "output_type": "stream",
     "text": [
      "[*********************100%%**********************]  1 of 1 completed\n",
      "[*********************100%%**********************]  1 of 1 completed\n",
      "[*********************100%%**********************]  1 of 1 completed\n",
      "[*********************100%%**********************]  1 of 1 completed\n",
      "[*********************100%%**********************]  1 of 1 completed\n",
      "c:\\Users\\GRAYBILLKB20\\OneDrive - Grove City College\\Sophomore Year\\FinanceData\\FinanceData\\FinanceDataHelper.py:102: FutureWarning: The behavior of DataFrame concatenation with empty or all-NA entries is deprecated. In a future version, this will no longer exclude empty or all-NA columns when determining the result dtypes. To retain the old behavior, exclude the relevant entries before the concat operation.\n",
      "  return new_append_df if output_df is None else pd.concat([output_df,new_append_df])\n"
     ]
    },
    {
     "name": "stdout",
     "output_type": "stream",
     "text": [
      "146\n"
     ]
    },
    {
     "name": "stderr",
     "output_type": "stream",
     "text": [
      "[*********************100%%**********************]  1 of 1 completed\n",
      "[*********************100%%**********************]  1 of 1 completed\n",
      "[*********************100%%**********************]  1 of 1 completed\n",
      "[*********************100%%**********************]  1 of 1 completed\n",
      "[*********************100%%**********************]  1 of 1 completed\n",
      "c:\\Users\\GRAYBILLKB20\\OneDrive - Grove City College\\Sophomore Year\\FinanceData\\FinanceData\\FinanceDataHelper.py:102: FutureWarning: The behavior of DataFrame concatenation with empty or all-NA entries is deprecated. In a future version, this will no longer exclude empty or all-NA columns when determining the result dtypes. To retain the old behavior, exclude the relevant entries before the concat operation.\n",
      "  return new_append_df if output_df is None else pd.concat([output_df,new_append_df])\n"
     ]
    },
    {
     "name": "stdout",
     "output_type": "stream",
     "text": [
      "147\n"
     ]
    },
    {
     "name": "stderr",
     "output_type": "stream",
     "text": [
      "[*********************100%%**********************]  1 of 1 completed\n",
      "[*********************100%%**********************]  1 of 1 completed\n",
      "[*********************100%%**********************]  1 of 1 completed\n",
      "[*********************100%%**********************]  1 of 1 completed\n",
      "[*********************100%%**********************]  1 of 1 completed\n",
      "c:\\Users\\GRAYBILLKB20\\OneDrive - Grove City College\\Sophomore Year\\FinanceData\\FinanceData\\FinanceDataHelper.py:102: FutureWarning: The behavior of DataFrame concatenation with empty or all-NA entries is deprecated. In a future version, this will no longer exclude empty or all-NA columns when determining the result dtypes. To retain the old behavior, exclude the relevant entries before the concat operation.\n",
      "  return new_append_df if output_df is None else pd.concat([output_df,new_append_df])\n"
     ]
    },
    {
     "name": "stdout",
     "output_type": "stream",
     "text": [
      "148\n"
     ]
    },
    {
     "name": "stderr",
     "output_type": "stream",
     "text": [
      "[*********************100%%**********************]  1 of 1 completed\n",
      "[*********************100%%**********************]  1 of 1 completed\n",
      "[*********************100%%**********************]  1 of 1 completed\n",
      "[*********************100%%**********************]  1 of 1 completed\n",
      "[*********************100%%**********************]  1 of 1 completed\n",
      "c:\\Users\\GRAYBILLKB20\\OneDrive - Grove City College\\Sophomore Year\\FinanceData\\FinanceData\\FinanceDataHelper.py:102: FutureWarning: The behavior of DataFrame concatenation with empty or all-NA entries is deprecated. In a future version, this will no longer exclude empty or all-NA columns when determining the result dtypes. To retain the old behavior, exclude the relevant entries before the concat operation.\n",
      "  return new_append_df if output_df is None else pd.concat([output_df,new_append_df])\n"
     ]
    },
    {
     "name": "stdout",
     "output_type": "stream",
     "text": [
      "149\n"
     ]
    },
    {
     "name": "stderr",
     "output_type": "stream",
     "text": [
      "[*********************100%%**********************]  1 of 1 completed\n",
      "[*********************100%%**********************]  1 of 1 completed\n",
      "[*********************100%%**********************]  1 of 1 completed\n",
      "[*********************100%%**********************]  1 of 1 completed\n",
      "[*********************100%%**********************]  1 of 1 completed\n",
      "c:\\Users\\GRAYBILLKB20\\OneDrive - Grove City College\\Sophomore Year\\FinanceData\\FinanceData\\FinanceDataHelper.py:102: FutureWarning: The behavior of DataFrame concatenation with empty or all-NA entries is deprecated. In a future version, this will no longer exclude empty or all-NA columns when determining the result dtypes. To retain the old behavior, exclude the relevant entries before the concat operation.\n",
      "  return new_append_df if output_df is None else pd.concat([output_df,new_append_df])\n"
     ]
    },
    {
     "name": "stdout",
     "output_type": "stream",
     "text": [
      "150\n"
     ]
    },
    {
     "name": "stderr",
     "output_type": "stream",
     "text": [
      "[*********************100%%**********************]  1 of 1 completed\n",
      "[*********************100%%**********************]  1 of 1 completed\n",
      "[*********************100%%**********************]  1 of 1 completed\n",
      "[*********************100%%**********************]  1 of 1 completed\n",
      "[*********************100%%**********************]  1 of 1 completed\n",
      "c:\\Users\\GRAYBILLKB20\\OneDrive - Grove City College\\Sophomore Year\\FinanceData\\FinanceData\\FinanceDataHelper.py:102: FutureWarning: The behavior of DataFrame concatenation with empty or all-NA entries is deprecated. In a future version, this will no longer exclude empty or all-NA columns when determining the result dtypes. To retain the old behavior, exclude the relevant entries before the concat operation.\n",
      "  return new_append_df if output_df is None else pd.concat([output_df,new_append_df])\n"
     ]
    },
    {
     "name": "stdout",
     "output_type": "stream",
     "text": [
      "151\n"
     ]
    },
    {
     "name": "stderr",
     "output_type": "stream",
     "text": [
      "[*********************100%%**********************]  1 of 1 completed\n",
      "[*********************100%%**********************]  1 of 1 completed\n",
      "[*********************100%%**********************]  1 of 1 completed\n",
      "[*********************100%%**********************]  1 of 1 completed\n",
      "[*********************100%%**********************]  1 of 1 completed\n",
      "c:\\Users\\GRAYBILLKB20\\OneDrive - Grove City College\\Sophomore Year\\FinanceData\\FinanceData\\FinanceDataHelper.py:102: FutureWarning: The behavior of DataFrame concatenation with empty or all-NA entries is deprecated. In a future version, this will no longer exclude empty or all-NA columns when determining the result dtypes. To retain the old behavior, exclude the relevant entries before the concat operation.\n",
      "  return new_append_df if output_df is None else pd.concat([output_df,new_append_df])\n"
     ]
    },
    {
     "name": "stdout",
     "output_type": "stream",
     "text": [
      "Index error retrieving data for DPZ stock on 2024-12-09 00:00:00: single positional indexer is out-of-bounds\n",
      "152\n"
     ]
    },
    {
     "name": "stderr",
     "output_type": "stream",
     "text": [
      "[*********************100%%**********************]  1 of 1 completed\n",
      "[*********************100%%**********************]  1 of 1 completed\n",
      "[*********************100%%**********************]  1 of 1 completed\n",
      "[*********************100%%**********************]  1 of 1 completed\n",
      "[*********************100%%**********************]  1 of 1 completed\n",
      "c:\\Users\\GRAYBILLKB20\\OneDrive - Grove City College\\Sophomore Year\\FinanceData\\FinanceData\\FinanceDataHelper.py:102: FutureWarning: The behavior of DataFrame concatenation with empty or all-NA entries is deprecated. In a future version, this will no longer exclude empty or all-NA columns when determining the result dtypes. To retain the old behavior, exclude the relevant entries before the concat operation.\n",
      "  return new_append_df if output_df is None else pd.concat([output_df,new_append_df])\n"
     ]
    },
    {
     "name": "stdout",
     "output_type": "stream",
     "text": [
      "Index error retrieving data for DOV stock on 2024-12-09 00:00:00: single positional indexer is out-of-bounds\n",
      "153\n"
     ]
    },
    {
     "name": "stderr",
     "output_type": "stream",
     "text": [
      "[*********************100%%**********************]  1 of 1 completed\n",
      "[*********************100%%**********************]  1 of 1 completed\n",
      "[*********************100%%**********************]  1 of 1 completed\n",
      "[*********************100%%**********************]  1 of 1 completed\n",
      "[*********************100%%**********************]  1 of 1 completed\n",
      "c:\\Users\\GRAYBILLKB20\\OneDrive - Grove City College\\Sophomore Year\\FinanceData\\FinanceData\\FinanceDataHelper.py:102: FutureWarning: The behavior of DataFrame concatenation with empty or all-NA entries is deprecated. In a future version, this will no longer exclude empty or all-NA columns when determining the result dtypes. To retain the old behavior, exclude the relevant entries before the concat operation.\n",
      "  return new_append_df if output_df is None else pd.concat([output_df,new_append_df])\n"
     ]
    },
    {
     "name": "stdout",
     "output_type": "stream",
     "text": [
      "154\n"
     ]
    },
    {
     "name": "stderr",
     "output_type": "stream",
     "text": [
      "[*********************100%%**********************]  1 of 1 completed\n",
      "[*********************100%%**********************]  1 of 1 completed\n",
      "[*********************100%%**********************]  1 of 1 completed\n",
      "[*********************100%%**********************]  1 of 1 completed\n",
      "[*********************100%%**********************]  1 of 1 completed\n",
      "c:\\Users\\GRAYBILLKB20\\OneDrive - Grove City College\\Sophomore Year\\FinanceData\\FinanceData\\FinanceDataHelper.py:102: FutureWarning: The behavior of DataFrame concatenation with empty or all-NA entries is deprecated. In a future version, this will no longer exclude empty or all-NA columns when determining the result dtypes. To retain the old behavior, exclude the relevant entries before the concat operation.\n",
      "  return new_append_df if output_df is None else pd.concat([output_df,new_append_df])\n"
     ]
    },
    {
     "name": "stdout",
     "output_type": "stream",
     "text": [
      "155\n"
     ]
    },
    {
     "name": "stderr",
     "output_type": "stream",
     "text": [
      "[*********************100%%**********************]  1 of 1 completed\n",
      "[*********************100%%**********************]  1 of 1 completed\n",
      "[*********************100%%**********************]  1 of 1 completed\n",
      "[*********************100%%**********************]  1 of 1 completed\n",
      "[*********************100%%**********************]  1 of 1 completed\n",
      "c:\\Users\\GRAYBILLKB20\\OneDrive - Grove City College\\Sophomore Year\\FinanceData\\FinanceData\\FinanceDataHelper.py:102: FutureWarning: The behavior of DataFrame concatenation with empty or all-NA entries is deprecated. In a future version, this will no longer exclude empty or all-NA columns when determining the result dtypes. To retain the old behavior, exclude the relevant entries before the concat operation.\n",
      "  return new_append_df if output_df is None else pd.concat([output_df,new_append_df])\n"
     ]
    },
    {
     "name": "stdout",
     "output_type": "stream",
     "text": [
      "156\n"
     ]
    },
    {
     "name": "stderr",
     "output_type": "stream",
     "text": [
      "[*********************100%%**********************]  1 of 1 completed\n",
      "[*********************100%%**********************]  1 of 1 completed\n",
      "[*********************100%%**********************]  1 of 1 completed\n",
      "[*********************100%%**********************]  1 of 1 completed\n",
      "[*********************100%%**********************]  1 of 1 completed\n",
      "c:\\Users\\GRAYBILLKB20\\OneDrive - Grove City College\\Sophomore Year\\FinanceData\\FinanceData\\FinanceDataHelper.py:102: FutureWarning: The behavior of DataFrame concatenation with empty or all-NA entries is deprecated. In a future version, this will no longer exclude empty or all-NA columns when determining the result dtypes. To retain the old behavior, exclude the relevant entries before the concat operation.\n",
      "  return new_append_df if output_df is None else pd.concat([output_df,new_append_df])\n"
     ]
    },
    {
     "name": "stdout",
     "output_type": "stream",
     "text": [
      "157\n"
     ]
    },
    {
     "name": "stderr",
     "output_type": "stream",
     "text": [
      "[*********************100%%**********************]  1 of 1 completed\n",
      "[*********************100%%**********************]  1 of 1 completed\n",
      "[*********************100%%**********************]  1 of 1 completed\n",
      "[*********************100%%**********************]  1 of 1 completed\n",
      "[*********************100%%**********************]  1 of 1 completed\n",
      "c:\\Users\\GRAYBILLKB20\\OneDrive - Grove City College\\Sophomore Year\\FinanceData\\FinanceData\\FinanceDataHelper.py:102: FutureWarning: The behavior of DataFrame concatenation with empty or all-NA entries is deprecated. In a future version, this will no longer exclude empty or all-NA columns when determining the result dtypes. To retain the old behavior, exclude the relevant entries before the concat operation.\n",
      "  return new_append_df if output_df is None else pd.concat([output_df,new_append_df])\n"
     ]
    },
    {
     "name": "stdout",
     "output_type": "stream",
     "text": [
      "158\n"
     ]
    },
    {
     "name": "stderr",
     "output_type": "stream",
     "text": [
      "[*********************100%%**********************]  1 of 1 completed\n",
      "[*********************100%%**********************]  1 of 1 completed\n",
      "[*********************100%%**********************]  1 of 1 completed\n",
      "[*********************100%%**********************]  1 of 1 completed\n",
      "[*********************100%%**********************]  1 of 1 completed\n",
      "c:\\Users\\GRAYBILLKB20\\OneDrive - Grove City College\\Sophomore Year\\FinanceData\\FinanceData\\FinanceDataHelper.py:102: FutureWarning: The behavior of DataFrame concatenation with empty or all-NA entries is deprecated. In a future version, this will no longer exclude empty or all-NA columns when determining the result dtypes. To retain the old behavior, exclude the relevant entries before the concat operation.\n",
      "  return new_append_df if output_df is None else pd.concat([output_df,new_append_df])\n"
     ]
    },
    {
     "name": "stdout",
     "output_type": "stream",
     "text": [
      "159\n"
     ]
    },
    {
     "name": "stderr",
     "output_type": "stream",
     "text": [
      "[*********************100%%**********************]  1 of 1 completed\n",
      "[*********************100%%**********************]  1 of 1 completed\n",
      "[*********************100%%**********************]  1 of 1 completed\n",
      "[*********************100%%**********************]  1 of 1 completed\n",
      "[*********************100%%**********************]  1 of 1 completed\n",
      "c:\\Users\\GRAYBILLKB20\\OneDrive - Grove City College\\Sophomore Year\\FinanceData\\FinanceData\\FinanceDataHelper.py:102: FutureWarning: The behavior of DataFrame concatenation with empty or all-NA entries is deprecated. In a future version, this will no longer exclude empty or all-NA columns when determining the result dtypes. To retain the old behavior, exclude the relevant entries before the concat operation.\n",
      "  return new_append_df if output_df is None else pd.concat([output_df,new_append_df])\n"
     ]
    },
    {
     "name": "stdout",
     "output_type": "stream",
     "text": [
      "160\n"
     ]
    },
    {
     "name": "stderr",
     "output_type": "stream",
     "text": [
      "[*********************100%%**********************]  1 of 1 completed\n",
      "[*********************100%%**********************]  1 of 1 completed\n",
      "[*********************100%%**********************]  1 of 1 completed\n",
      "[*********************100%%**********************]  1 of 1 completed\n",
      "[*********************100%%**********************]  1 of 1 completed\n",
      "c:\\Users\\GRAYBILLKB20\\OneDrive - Grove City College\\Sophomore Year\\FinanceData\\FinanceData\\FinanceDataHelper.py:102: FutureWarning: The behavior of DataFrame concatenation with empty or all-NA entries is deprecated. In a future version, this will no longer exclude empty or all-NA columns when determining the result dtypes. To retain the old behavior, exclude the relevant entries before the concat operation.\n",
      "  return new_append_df if output_df is None else pd.concat([output_df,new_append_df])\n"
     ]
    },
    {
     "name": "stdout",
     "output_type": "stream",
     "text": [
      "161\n"
     ]
    },
    {
     "name": "stderr",
     "output_type": "stream",
     "text": [
      "[*********************100%%**********************]  1 of 1 completed\n",
      "[*********************100%%**********************]  1 of 1 completed\n",
      "[*********************100%%**********************]  1 of 1 completed\n",
      "[*********************100%%**********************]  1 of 1 completed\n",
      "[*********************100%%**********************]  1 of 1 completed\n",
      "c:\\Users\\GRAYBILLKB20\\OneDrive - Grove City College\\Sophomore Year\\FinanceData\\FinanceData\\FinanceDataHelper.py:102: FutureWarning: The behavior of DataFrame concatenation with empty or all-NA entries is deprecated. In a future version, this will no longer exclude empty or all-NA columns when determining the result dtypes. To retain the old behavior, exclude the relevant entries before the concat operation.\n",
      "  return new_append_df if output_df is None else pd.concat([output_df,new_append_df])\n"
     ]
    },
    {
     "name": "stdout",
     "output_type": "stream",
     "text": [
      "162\n"
     ]
    },
    {
     "name": "stderr",
     "output_type": "stream",
     "text": [
      "[*********************100%%**********************]  1 of 1 completed\n",
      "[*********************100%%**********************]  1 of 1 completed\n",
      "[*********************100%%**********************]  1 of 1 completed\n",
      "[*********************100%%**********************]  1 of 1 completed\n",
      "[*********************100%%**********************]  1 of 1 completed\n",
      "c:\\Users\\GRAYBILLKB20\\OneDrive - Grove City College\\Sophomore Year\\FinanceData\\FinanceData\\FinanceDataHelper.py:102: FutureWarning: The behavior of DataFrame concatenation with empty or all-NA entries is deprecated. In a future version, this will no longer exclude empty or all-NA columns when determining the result dtypes. To retain the old behavior, exclude the relevant entries before the concat operation.\n",
      "  return new_append_df if output_df is None else pd.concat([output_df,new_append_df])\n"
     ]
    },
    {
     "name": "stdout",
     "output_type": "stream",
     "text": [
      "163\n"
     ]
    },
    {
     "name": "stderr",
     "output_type": "stream",
     "text": [
      "[*********************100%%**********************]  1 of 1 completed\n",
      "[*********************100%%**********************]  1 of 1 completed\n",
      "[*********************100%%**********************]  1 of 1 completed\n",
      "[*********************100%%**********************]  1 of 1 completed\n",
      "[*********************100%%**********************]  1 of 1 completed\n",
      "c:\\Users\\GRAYBILLKB20\\OneDrive - Grove City College\\Sophomore Year\\FinanceData\\FinanceData\\FinanceDataHelper.py:102: FutureWarning: The behavior of DataFrame concatenation with empty or all-NA entries is deprecated. In a future version, this will no longer exclude empty or all-NA columns when determining the result dtypes. To retain the old behavior, exclude the relevant entries before the concat operation.\n",
      "  return new_append_df if output_df is None else pd.concat([output_df,new_append_df])\n"
     ]
    },
    {
     "name": "stdout",
     "output_type": "stream",
     "text": [
      "164\n"
     ]
    },
    {
     "name": "stderr",
     "output_type": "stream",
     "text": [
      "[*********************100%%**********************]  1 of 1 completed\n",
      "[*********************100%%**********************]  1 of 1 completed\n",
      "[*********************100%%**********************]  1 of 1 completed\n",
      "[*********************100%%**********************]  1 of 1 completed\n",
      "[*********************100%%**********************]  1 of 1 completed\n",
      "c:\\Users\\GRAYBILLKB20\\OneDrive - Grove City College\\Sophomore Year\\FinanceData\\FinanceData\\FinanceDataHelper.py:102: FutureWarning: The behavior of DataFrame concatenation with empty or all-NA entries is deprecated. In a future version, this will no longer exclude empty or all-NA columns when determining the result dtypes. To retain the old behavior, exclude the relevant entries before the concat operation.\n",
      "  return new_append_df if output_df is None else pd.concat([output_df,new_append_df])\n"
     ]
    },
    {
     "name": "stdout",
     "output_type": "stream",
     "text": [
      "165\n"
     ]
    },
    {
     "name": "stderr",
     "output_type": "stream",
     "text": [
      "[*********************100%%**********************]  1 of 1 completed\n",
      "[*********************100%%**********************]  1 of 1 completed\n",
      "[*********************100%%**********************]  1 of 1 completed\n",
      "[*********************100%%**********************]  1 of 1 completed\n",
      "[*********************100%%**********************]  1 of 1 completed\n",
      "c:\\Users\\GRAYBILLKB20\\OneDrive - Grove City College\\Sophomore Year\\FinanceData\\FinanceData\\FinanceDataHelper.py:102: FutureWarning: The behavior of DataFrame concatenation with empty or all-NA entries is deprecated. In a future version, this will no longer exclude empty or all-NA columns when determining the result dtypes. To retain the old behavior, exclude the relevant entries before the concat operation.\n",
      "  return new_append_df if output_df is None else pd.concat([output_df,new_append_df])\n"
     ]
    },
    {
     "name": "stdout",
     "output_type": "stream",
     "text": [
      "166\n"
     ]
    },
    {
     "name": "stderr",
     "output_type": "stream",
     "text": [
      "[*********************100%%**********************]  1 of 1 completed\n",
      "[*********************100%%**********************]  1 of 1 completed\n",
      "[*********************100%%**********************]  1 of 1 completed\n",
      "[*********************100%%**********************]  1 of 1 completed\n",
      "[*********************100%%**********************]  1 of 1 completed\n",
      "c:\\Users\\GRAYBILLKB20\\OneDrive - Grove City College\\Sophomore Year\\FinanceData\\FinanceData\\FinanceDataHelper.py:102: FutureWarning: The behavior of DataFrame concatenation with empty or all-NA entries is deprecated. In a future version, this will no longer exclude empty or all-NA columns when determining the result dtypes. To retain the old behavior, exclude the relevant entries before the concat operation.\n",
      "  return new_append_df if output_df is None else pd.concat([output_df,new_append_df])\n"
     ]
    },
    {
     "name": "stdout",
     "output_type": "stream",
     "text": [
      "167\n"
     ]
    },
    {
     "name": "stderr",
     "output_type": "stream",
     "text": [
      "[*********************100%%**********************]  1 of 1 completed\n",
      "[*********************100%%**********************]  1 of 1 completed\n",
      "[*********************100%%**********************]  1 of 1 completed\n",
      "[*********************100%%**********************]  1 of 1 completed\n",
      "[*********************100%%**********************]  1 of 1 completed\n",
      "c:\\Users\\GRAYBILLKB20\\OneDrive - Grove City College\\Sophomore Year\\FinanceData\\FinanceData\\FinanceDataHelper.py:102: FutureWarning: The behavior of DataFrame concatenation with empty or all-NA entries is deprecated. In a future version, this will no longer exclude empty or all-NA columns when determining the result dtypes. To retain the old behavior, exclude the relevant entries before the concat operation.\n",
      "  return new_append_df if output_df is None else pd.concat([output_df,new_append_df])\n"
     ]
    },
    {
     "name": "stdout",
     "output_type": "stream",
     "text": [
      "168\n"
     ]
    },
    {
     "name": "stderr",
     "output_type": "stream",
     "text": [
      "[*********************100%%**********************]  1 of 1 completed\n",
      "[*********************100%%**********************]  1 of 1 completed\n",
      "[*********************100%%**********************]  1 of 1 completed\n",
      "[*********************100%%**********************]  1 of 1 completed\n",
      "[*********************100%%**********************]  1 of 1 completed\n",
      "c:\\Users\\GRAYBILLKB20\\OneDrive - Grove City College\\Sophomore Year\\FinanceData\\FinanceData\\FinanceDataHelper.py:102: FutureWarning: The behavior of DataFrame concatenation with empty or all-NA entries is deprecated. In a future version, this will no longer exclude empty or all-NA columns when determining the result dtypes. To retain the old behavior, exclude the relevant entries before the concat operation.\n",
      "  return new_append_df if output_df is None else pd.concat([output_df,new_append_df])\n"
     ]
    },
    {
     "name": "stdout",
     "output_type": "stream",
     "text": [
      "169\n"
     ]
    },
    {
     "name": "stderr",
     "output_type": "stream",
     "text": [
      "[*********************100%%**********************]  1 of 1 completed\n",
      "[*********************100%%**********************]  1 of 1 completed\n",
      "[*********************100%%**********************]  1 of 1 completed\n",
      "[*********************100%%**********************]  1 of 1 completed\n",
      "[*********************100%%**********************]  1 of 1 completed\n",
      "c:\\Users\\GRAYBILLKB20\\OneDrive - Grove City College\\Sophomore Year\\FinanceData\\FinanceData\\FinanceDataHelper.py:102: FutureWarning: The behavior of DataFrame concatenation with empty or all-NA entries is deprecated. In a future version, this will no longer exclude empty or all-NA columns when determining the result dtypes. To retain the old behavior, exclude the relevant entries before the concat operation.\n",
      "  return new_append_df if output_df is None else pd.concat([output_df,new_append_df])\n"
     ]
    },
    {
     "name": "stdout",
     "output_type": "stream",
     "text": [
      "170\n"
     ]
    },
    {
     "name": "stderr",
     "output_type": "stream",
     "text": [
      "[*********************100%%**********************]  1 of 1 completed\n",
      "[*********************100%%**********************]  1 of 1 completed\n",
      "[*********************100%%**********************]  1 of 1 completed\n",
      "[*********************100%%**********************]  1 of 1 completed\n",
      "[*********************100%%**********************]  1 of 1 completed\n",
      "c:\\Users\\GRAYBILLKB20\\OneDrive - Grove City College\\Sophomore Year\\FinanceData\\FinanceData\\FinanceDataHelper.py:102: FutureWarning: The behavior of DataFrame concatenation with empty or all-NA entries is deprecated. In a future version, this will no longer exclude empty or all-NA columns when determining the result dtypes. To retain the old behavior, exclude the relevant entries before the concat operation.\n",
      "  return new_append_df if output_df is None else pd.concat([output_df,new_append_df])\n"
     ]
    },
    {
     "name": "stdout",
     "output_type": "stream",
     "text": [
      "171\n"
     ]
    },
    {
     "name": "stderr",
     "output_type": "stream",
     "text": [
      "[*********************100%%**********************]  1 of 1 completed\n",
      "[*********************100%%**********************]  1 of 1 completed\n",
      "[*********************100%%**********************]  1 of 1 completed\n",
      "[*********************100%%**********************]  1 of 1 completed\n",
      "[*********************100%%**********************]  1 of 1 completed\n",
      "c:\\Users\\GRAYBILLKB20\\OneDrive - Grove City College\\Sophomore Year\\FinanceData\\FinanceData\\FinanceDataHelper.py:102: FutureWarning: The behavior of DataFrame concatenation with empty or all-NA entries is deprecated. In a future version, this will no longer exclude empty or all-NA columns when determining the result dtypes. To retain the old behavior, exclude the relevant entries before the concat operation.\n",
      "  return new_append_df if output_df is None else pd.concat([output_df,new_append_df])\n"
     ]
    },
    {
     "name": "stdout",
     "output_type": "stream",
     "text": [
      "172\n"
     ]
    },
    {
     "name": "stderr",
     "output_type": "stream",
     "text": [
      "[*********************100%%**********************]  1 of 1 completed\n",
      "[*********************100%%**********************]  1 of 1 completed\n",
      "[*********************100%%**********************]  1 of 1 completed\n",
      "[*********************100%%**********************]  1 of 1 completed\n",
      "[*********************100%%**********************]  1 of 1 completed\n",
      "c:\\Users\\GRAYBILLKB20\\OneDrive - Grove City College\\Sophomore Year\\FinanceData\\FinanceData\\FinanceDataHelper.py:102: FutureWarning: The behavior of DataFrame concatenation with empty or all-NA entries is deprecated. In a future version, this will no longer exclude empty or all-NA columns when determining the result dtypes. To retain the old behavior, exclude the relevant entries before the concat operation.\n",
      "  return new_append_df if output_df is None else pd.concat([output_df,new_append_df])\n"
     ]
    },
    {
     "name": "stdout",
     "output_type": "stream",
     "text": [
      "173\n"
     ]
    },
    {
     "name": "stderr",
     "output_type": "stream",
     "text": [
      "[*********************100%%**********************]  1 of 1 completed\n",
      "[*********************100%%**********************]  1 of 1 completed\n",
      "[*********************100%%**********************]  1 of 1 completed\n",
      "[*********************100%%**********************]  1 of 1 completed\n",
      "[*********************100%%**********************]  1 of 1 completed\n",
      "c:\\Users\\GRAYBILLKB20\\OneDrive - Grove City College\\Sophomore Year\\FinanceData\\FinanceData\\FinanceDataHelper.py:102: FutureWarning: The behavior of DataFrame concatenation with empty or all-NA entries is deprecated. In a future version, this will no longer exclude empty or all-NA columns when determining the result dtypes. To retain the old behavior, exclude the relevant entries before the concat operation.\n",
      "  return new_append_df if output_df is None else pd.concat([output_df,new_append_df])\n"
     ]
    },
    {
     "name": "stdout",
     "output_type": "stream",
     "text": [
      "Index error retrieving data for EQIX stock on 2024-12-09 00:00:00: single positional indexer is out-of-bounds\n",
      "174\n"
     ]
    },
    {
     "name": "stderr",
     "output_type": "stream",
     "text": [
      "[*********************100%%**********************]  1 of 1 completed\n",
      "[*********************100%%**********************]  1 of 1 completed\n",
      "[*********************100%%**********************]  1 of 1 completed\n",
      "[*********************100%%**********************]  1 of 1 completed\n",
      "[*********************100%%**********************]  1 of 1 completed\n",
      "c:\\Users\\GRAYBILLKB20\\OneDrive - Grove City College\\Sophomore Year\\FinanceData\\FinanceData\\FinanceDataHelper.py:102: FutureWarning: The behavior of DataFrame concatenation with empty or all-NA entries is deprecated. In a future version, this will no longer exclude empty or all-NA columns when determining the result dtypes. To retain the old behavior, exclude the relevant entries before the concat operation.\n",
      "  return new_append_df if output_df is None else pd.concat([output_df,new_append_df])\n"
     ]
    },
    {
     "name": "stdout",
     "output_type": "stream",
     "text": [
      "175\n"
     ]
    },
    {
     "name": "stderr",
     "output_type": "stream",
     "text": [
      "[*********************100%%**********************]  1 of 1 completed\n",
      "[*********************100%%**********************]  1 of 1 completed\n",
      "[*********************100%%**********************]  1 of 1 completed\n",
      "[*********************100%%**********************]  1 of 1 completed\n",
      "[*********************100%%**********************]  1 of 1 completed\n",
      "c:\\Users\\GRAYBILLKB20\\OneDrive - Grove City College\\Sophomore Year\\FinanceData\\FinanceData\\FinanceDataHelper.py:102: FutureWarning: The behavior of DataFrame concatenation with empty or all-NA entries is deprecated. In a future version, this will no longer exclude empty or all-NA columns when determining the result dtypes. To retain the old behavior, exclude the relevant entries before the concat operation.\n",
      "  return new_append_df if output_df is None else pd.concat([output_df,new_append_df])\n"
     ]
    },
    {
     "name": "stdout",
     "output_type": "stream",
     "text": [
      "Index error retrieving data for ERIE stock on 2024-12-17 00:00:00: single positional indexer is out-of-bounds\n",
      "Index error retrieving data for ERIE stock on 2024-12-16 00:00:00: single positional indexer is out-of-bounds\n",
      "Index error retrieving data for ERIE stock on 2024-12-13 00:00:00: single positional indexer is out-of-bounds\n",
      "Index error retrieving data for ERIE stock on 2024-12-12 00:00:00: single positional indexer is out-of-bounds\n",
      "Index error retrieving data for ERIE stock on 2024-12-11 00:00:00: single positional indexer is out-of-bounds\n",
      "Index error retrieving data for ERIE stock on 2024-12-10 00:00:00: single positional indexer is out-of-bounds\n",
      "Index error retrieving data for ERIE stock on 2024-12-09 00:00:00: single positional indexer is out-of-bounds\n",
      "176\n"
     ]
    },
    {
     "name": "stderr",
     "output_type": "stream",
     "text": [
      "[*********************100%%**********************]  1 of 1 completed\n",
      "[*********************100%%**********************]  1 of 1 completed\n",
      "[*********************100%%**********************]  1 of 1 completed\n",
      "[*********************100%%**********************]  1 of 1 completed\n",
      "[*********************100%%**********************]  1 of 1 completed\n",
      "c:\\Users\\GRAYBILLKB20\\OneDrive - Grove City College\\Sophomore Year\\FinanceData\\FinanceData\\FinanceDataHelper.py:102: FutureWarning: The behavior of DataFrame concatenation with empty or all-NA entries is deprecated. In a future version, this will no longer exclude empty or all-NA columns when determining the result dtypes. To retain the old behavior, exclude the relevant entries before the concat operation.\n",
      "  return new_append_df if output_df is None else pd.concat([output_df,new_append_df])\n"
     ]
    },
    {
     "name": "stdout",
     "output_type": "stream",
     "text": [
      "Index error retrieving data for ESS stock on 2024-12-10 00:00:00: single positional indexer is out-of-bounds\n",
      "Index error retrieving data for ESS stock on 2024-12-09 00:00:00: single positional indexer is out-of-bounds\n",
      "177\n"
     ]
    },
    {
     "name": "stderr",
     "output_type": "stream",
     "text": [
      "[*********************100%%**********************]  1 of 1 completed\n",
      "[*********************100%%**********************]  1 of 1 completed\n",
      "[*********************100%%**********************]  1 of 1 completed\n",
      "[*********************100%%**********************]  1 of 1 completed\n",
      "[*********************100%%**********************]  1 of 1 completed\n",
      "c:\\Users\\GRAYBILLKB20\\OneDrive - Grove City College\\Sophomore Year\\FinanceData\\FinanceData\\FinanceDataHelper.py:102: FutureWarning: The behavior of DataFrame concatenation with empty or all-NA entries is deprecated. In a future version, this will no longer exclude empty or all-NA columns when determining the result dtypes. To retain the old behavior, exclude the relevant entries before the concat operation.\n",
      "  return new_append_df if output_df is None else pd.concat([output_df,new_append_df])\n"
     ]
    },
    {
     "name": "stdout",
     "output_type": "stream",
     "text": [
      "178\n"
     ]
    },
    {
     "name": "stderr",
     "output_type": "stream",
     "text": [
      "[*********************100%%**********************]  1 of 1 completed\n",
      "[*********************100%%**********************]  1 of 1 completed\n",
      "[*********************100%%**********************]  1 of 1 completed\n",
      "[*********************100%%**********************]  1 of 1 completed\n",
      "[*********************100%%**********************]  1 of 1 completed\n",
      "c:\\Users\\GRAYBILLKB20\\OneDrive - Grove City College\\Sophomore Year\\FinanceData\\FinanceData\\FinanceDataHelper.py:102: FutureWarning: The behavior of DataFrame concatenation with empty or all-NA entries is deprecated. In a future version, this will no longer exclude empty or all-NA columns when determining the result dtypes. To retain the old behavior, exclude the relevant entries before the concat operation.\n",
      "  return new_append_df if output_df is None else pd.concat([output_df,new_append_df])\n"
     ]
    },
    {
     "name": "stdout",
     "output_type": "stream",
     "text": [
      "Index error retrieving data for EG stock on 2024-12-09 00:00:00: single positional indexer is out-of-bounds\n",
      "179\n"
     ]
    },
    {
     "name": "stderr",
     "output_type": "stream",
     "text": [
      "[*********************100%%**********************]  1 of 1 completed\n",
      "[*********************100%%**********************]  1 of 1 completed\n",
      "[*********************100%%**********************]  1 of 1 completed\n",
      "[*********************100%%**********************]  1 of 1 completed\n",
      "[*********************100%%**********************]  1 of 1 completed\n",
      "c:\\Users\\GRAYBILLKB20\\OneDrive - Grove City College\\Sophomore Year\\FinanceData\\FinanceData\\FinanceDataHelper.py:102: FutureWarning: The behavior of DataFrame concatenation with empty or all-NA entries is deprecated. In a future version, this will no longer exclude empty or all-NA columns when determining the result dtypes. To retain the old behavior, exclude the relevant entries before the concat operation.\n",
      "  return new_append_df if output_df is None else pd.concat([output_df,new_append_df])\n"
     ]
    },
    {
     "name": "stdout",
     "output_type": "stream",
     "text": [
      "180\n"
     ]
    },
    {
     "name": "stderr",
     "output_type": "stream",
     "text": [
      "[*********************100%%**********************]  1 of 1 completed\n",
      "[*********************100%%**********************]  1 of 1 completed\n",
      "[*********************100%%**********************]  1 of 1 completed\n",
      "[*********************100%%**********************]  1 of 1 completed\n",
      "[*********************100%%**********************]  1 of 1 completed\n",
      "c:\\Users\\GRAYBILLKB20\\OneDrive - Grove City College\\Sophomore Year\\FinanceData\\FinanceData\\FinanceDataHelper.py:102: FutureWarning: The behavior of DataFrame concatenation with empty or all-NA entries is deprecated. In a future version, this will no longer exclude empty or all-NA columns when determining the result dtypes. To retain the old behavior, exclude the relevant entries before the concat operation.\n",
      "  return new_append_df if output_df is None else pd.concat([output_df,new_append_df])\n"
     ]
    },
    {
     "name": "stdout",
     "output_type": "stream",
     "text": [
      "181\n"
     ]
    },
    {
     "name": "stderr",
     "output_type": "stream",
     "text": [
      "[*********************100%%**********************]  1 of 1 completed\n",
      "[*********************100%%**********************]  1 of 1 completed\n",
      "[*********************100%%**********************]  1 of 1 completed\n",
      "[*********************100%%**********************]  1 of 1 completed\n",
      "[*********************100%%**********************]  1 of 1 completed\n",
      "c:\\Users\\GRAYBILLKB20\\OneDrive - Grove City College\\Sophomore Year\\FinanceData\\FinanceData\\FinanceDataHelper.py:102: FutureWarning: The behavior of DataFrame concatenation with empty or all-NA entries is deprecated. In a future version, this will no longer exclude empty or all-NA columns when determining the result dtypes. To retain the old behavior, exclude the relevant entries before the concat operation.\n",
      "  return new_append_df if output_df is None else pd.concat([output_df,new_append_df])\n"
     ]
    },
    {
     "name": "stdout",
     "output_type": "stream",
     "text": [
      "182\n"
     ]
    },
    {
     "name": "stderr",
     "output_type": "stream",
     "text": [
      "[*********************100%%**********************]  1 of 1 completed\n",
      "[*********************100%%**********************]  1 of 1 completed\n",
      "[*********************100%%**********************]  1 of 1 completed\n",
      "[*********************100%%**********************]  1 of 1 completed\n",
      "[*********************100%%**********************]  1 of 1 completed\n",
      "c:\\Users\\GRAYBILLKB20\\OneDrive - Grove City College\\Sophomore Year\\FinanceData\\FinanceData\\FinanceDataHelper.py:102: FutureWarning: The behavior of DataFrame concatenation with empty or all-NA entries is deprecated. In a future version, this will no longer exclude empty or all-NA columns when determining the result dtypes. To retain the old behavior, exclude the relevant entries before the concat operation.\n",
      "  return new_append_df if output_df is None else pd.concat([output_df,new_append_df])\n"
     ]
    },
    {
     "name": "stdout",
     "output_type": "stream",
     "text": [
      "183\n"
     ]
    },
    {
     "name": "stderr",
     "output_type": "stream",
     "text": [
      "[*********************100%%**********************]  1 of 1 completed\n",
      "[*********************100%%**********************]  1 of 1 completed\n",
      "[*********************100%%**********************]  1 of 1 completed\n",
      "[*********************100%%**********************]  1 of 1 completed\n",
      "[*********************100%%**********************]  1 of 1 completed\n",
      "c:\\Users\\GRAYBILLKB20\\OneDrive - Grove City College\\Sophomore Year\\FinanceData\\FinanceData\\FinanceDataHelper.py:102: FutureWarning: The behavior of DataFrame concatenation with empty or all-NA entries is deprecated. In a future version, this will no longer exclude empty or all-NA columns when determining the result dtypes. To retain the old behavior, exclude the relevant entries before the concat operation.\n",
      "  return new_append_df if output_df is None else pd.concat([output_df,new_append_df])\n"
     ]
    },
    {
     "name": "stdout",
     "output_type": "stream",
     "text": [
      "184\n"
     ]
    },
    {
     "name": "stderr",
     "output_type": "stream",
     "text": [
      "[*********************100%%**********************]  1 of 1 completed\n",
      "[*********************100%%**********************]  1 of 1 completed\n",
      "[*********************100%%**********************]  1 of 1 completed\n",
      "[*********************100%%**********************]  1 of 1 completed\n",
      "[*********************100%%**********************]  1 of 1 completed\n",
      "c:\\Users\\GRAYBILLKB20\\OneDrive - Grove City College\\Sophomore Year\\FinanceData\\FinanceData\\FinanceDataHelper.py:102: FutureWarning: The behavior of DataFrame concatenation with empty or all-NA entries is deprecated. In a future version, this will no longer exclude empty or all-NA columns when determining the result dtypes. To retain the old behavior, exclude the relevant entries before the concat operation.\n",
      "  return new_append_df if output_df is None else pd.concat([output_df,new_append_df])\n"
     ]
    },
    {
     "name": "stdout",
     "output_type": "stream",
     "text": [
      "Index error retrieving data for EXR stock on 2024-12-09 00:00:00: single positional indexer is out-of-bounds\n",
      "185\n"
     ]
    },
    {
     "name": "stderr",
     "output_type": "stream",
     "text": [
      "[*********************100%%**********************]  1 of 1 completed\n",
      "[*********************100%%**********************]  1 of 1 completed\n",
      "[*********************100%%**********************]  1 of 1 completed\n",
      "[*********************100%%**********************]  1 of 1 completed\n",
      "[*********************100%%**********************]  1 of 1 completed\n",
      "c:\\Users\\GRAYBILLKB20\\OneDrive - Grove City College\\Sophomore Year\\FinanceData\\FinanceData\\FinanceDataHelper.py:102: FutureWarning: The behavior of DataFrame concatenation with empty or all-NA entries is deprecated. In a future version, this will no longer exclude empty or all-NA columns when determining the result dtypes. To retain the old behavior, exclude the relevant entries before the concat operation.\n",
      "  return new_append_df if output_df is None else pd.concat([output_df,new_append_df])\n"
     ]
    },
    {
     "name": "stdout",
     "output_type": "stream",
     "text": [
      "186\n"
     ]
    },
    {
     "name": "stderr",
     "output_type": "stream",
     "text": [
      "[*********************100%%**********************]  1 of 1 completed\n",
      "[*********************100%%**********************]  1 of 1 completed\n",
      "[*********************100%%**********************]  1 of 1 completed\n",
      "[*********************100%%**********************]  1 of 1 completed\n",
      "[*********************100%%**********************]  1 of 1 completed\n",
      "c:\\Users\\GRAYBILLKB20\\OneDrive - Grove City College\\Sophomore Year\\FinanceData\\FinanceData\\FinanceDataHelper.py:102: FutureWarning: The behavior of DataFrame concatenation with empty or all-NA entries is deprecated. In a future version, this will no longer exclude empty or all-NA columns when determining the result dtypes. To retain the old behavior, exclude the relevant entries before the concat operation.\n",
      "  return new_append_df if output_df is None else pd.concat([output_df,new_append_df])\n"
     ]
    },
    {
     "name": "stdout",
     "output_type": "stream",
     "text": [
      "Index error retrieving data for FFIV stock on 2024-12-09 00:00:00: single positional indexer is out-of-bounds\n",
      "187\n"
     ]
    },
    {
     "name": "stderr",
     "output_type": "stream",
     "text": [
      "[*********************100%%**********************]  1 of 1 completed\n",
      "[*********************100%%**********************]  1 of 1 completed\n",
      "[*********************100%%**********************]  1 of 1 completed\n",
      "[*********************100%%**********************]  1 of 1 completed\n",
      "[*********************100%%**********************]  1 of 1 completed\n",
      "c:\\Users\\GRAYBILLKB20\\OneDrive - Grove City College\\Sophomore Year\\FinanceData\\FinanceData\\FinanceDataHelper.py:102: FutureWarning: The behavior of DataFrame concatenation with empty or all-NA entries is deprecated. In a future version, this will no longer exclude empty or all-NA columns when determining the result dtypes. To retain the old behavior, exclude the relevant entries before the concat operation.\n",
      "  return new_append_df if output_df is None else pd.concat([output_df,new_append_df])\n"
     ]
    },
    {
     "name": "stdout",
     "output_type": "stream",
     "text": [
      "Index error retrieving data for FDS stock on 2024-12-12 00:00:00: single positional indexer is out-of-bounds\n",
      "Index error retrieving data for FDS stock on 2024-12-11 00:00:00: single positional indexer is out-of-bounds\n",
      "Index error retrieving data for FDS stock on 2024-12-10 00:00:00: single positional indexer is out-of-bounds\n",
      "Index error retrieving data for FDS stock on 2024-12-09 00:00:00: single positional indexer is out-of-bounds\n",
      "188\n"
     ]
    },
    {
     "name": "stderr",
     "output_type": "stream",
     "text": [
      "[*********************100%%**********************]  1 of 1 completed\n",
      "[*********************100%%**********************]  1 of 1 completed\n",
      "[*********************100%%**********************]  1 of 1 completed\n",
      "[*********************100%%**********************]  1 of 1 completed\n",
      "[*********************100%%**********************]  1 of 1 completed\n",
      "c:\\Users\\GRAYBILLKB20\\OneDrive - Grove City College\\Sophomore Year\\FinanceData\\FinanceData\\FinanceDataHelper.py:102: FutureWarning: The behavior of DataFrame concatenation with empty or all-NA entries is deprecated. In a future version, this will no longer exclude empty or all-NA columns when determining the result dtypes. To retain the old behavior, exclude the relevant entries before the concat operation.\n",
      "  return new_append_df if output_df is None else pd.concat([output_df,new_append_df])\n"
     ]
    },
    {
     "name": "stdout",
     "output_type": "stream",
     "text": [
      "Index error retrieving data for FICO stock on 2024-12-13 00:00:00: single positional indexer is out-of-bounds\n",
      "Index error retrieving data for FICO stock on 2024-12-12 00:00:00: single positional indexer is out-of-bounds\n",
      "Index error retrieving data for FICO stock on 2024-12-11 00:00:00: single positional indexer is out-of-bounds\n",
      "Index error retrieving data for FICO stock on 2024-12-10 00:00:00: single positional indexer is out-of-bounds\n",
      "Index error retrieving data for FICO stock on 2024-12-09 00:00:00: single positional indexer is out-of-bounds\n",
      "189\n"
     ]
    },
    {
     "name": "stderr",
     "output_type": "stream",
     "text": [
      "[*********************100%%**********************]  1 of 1 completed\n",
      "[*********************100%%**********************]  1 of 1 completed\n",
      "[*********************100%%**********************]  1 of 1 completed\n",
      "[*********************100%%**********************]  1 of 1 completed\n",
      "[*********************100%%**********************]  1 of 1 completed\n",
      "c:\\Users\\GRAYBILLKB20\\OneDrive - Grove City College\\Sophomore Year\\FinanceData\\FinanceData\\FinanceDataHelper.py:102: FutureWarning: The behavior of DataFrame concatenation with empty or all-NA entries is deprecated. In a future version, this will no longer exclude empty or all-NA columns when determining the result dtypes. To retain the old behavior, exclude the relevant entries before the concat operation.\n",
      "  return new_append_df if output_df is None else pd.concat([output_df,new_append_df])\n"
     ]
    },
    {
     "name": "stdout",
     "output_type": "stream",
     "text": [
      "190\n"
     ]
    },
    {
     "name": "stderr",
     "output_type": "stream",
     "text": [
      "[*********************100%%**********************]  1 of 1 completed\n",
      "[*********************100%%**********************]  1 of 1 completed\n",
      "[*********************100%%**********************]  1 of 1 completed\n",
      "[*********************100%%**********************]  1 of 1 completed\n",
      "[*********************100%%**********************]  1 of 1 completed\n",
      "c:\\Users\\GRAYBILLKB20\\OneDrive - Grove City College\\Sophomore Year\\FinanceData\\FinanceData\\FinanceDataHelper.py:102: FutureWarning: The behavior of DataFrame concatenation with empty or all-NA entries is deprecated. In a future version, this will no longer exclude empty or all-NA columns when determining the result dtypes. To retain the old behavior, exclude the relevant entries before the concat operation.\n",
      "  return new_append_df if output_df is None else pd.concat([output_df,new_append_df])\n"
     ]
    },
    {
     "name": "stdout",
     "output_type": "stream",
     "text": [
      "Index error retrieving data for FRT stock on 2024-12-09 00:00:00: single positional indexer is out-of-bounds\n",
      "191\n"
     ]
    },
    {
     "name": "stderr",
     "output_type": "stream",
     "text": [
      "[*********************100%%**********************]  1 of 1 completed\n",
      "[*********************100%%**********************]  1 of 1 completed\n",
      "[*********************100%%**********************]  1 of 1 completed\n",
      "[*********************100%%**********************]  1 of 1 completed\n",
      "[*********************100%%**********************]  1 of 1 completed\n",
      "c:\\Users\\GRAYBILLKB20\\OneDrive - Grove City College\\Sophomore Year\\FinanceData\\FinanceData\\FinanceDataHelper.py:102: FutureWarning: The behavior of DataFrame concatenation with empty or all-NA entries is deprecated. In a future version, this will no longer exclude empty or all-NA columns when determining the result dtypes. To retain the old behavior, exclude the relevant entries before the concat operation.\n",
      "  return new_append_df if output_df is None else pd.concat([output_df,new_append_df])\n"
     ]
    },
    {
     "name": "stdout",
     "output_type": "stream",
     "text": [
      "192\n"
     ]
    },
    {
     "name": "stderr",
     "output_type": "stream",
     "text": [
      "[*********************100%%**********************]  1 of 1 completed\n",
      "[*********************100%%**********************]  1 of 1 completed\n",
      "[*********************100%%**********************]  1 of 1 completed\n",
      "[*********************100%%**********************]  1 of 1 completed\n",
      "[*********************100%%**********************]  1 of 1 completed\n",
      "c:\\Users\\GRAYBILLKB20\\OneDrive - Grove City College\\Sophomore Year\\FinanceData\\FinanceData\\FinanceDataHelper.py:102: FutureWarning: The behavior of DataFrame concatenation with empty or all-NA entries is deprecated. In a future version, this will no longer exclude empty or all-NA columns when determining the result dtypes. To retain the old behavior, exclude the relevant entries before the concat operation.\n",
      "  return new_append_df if output_df is None else pd.concat([output_df,new_append_df])\n"
     ]
    },
    {
     "name": "stdout",
     "output_type": "stream",
     "text": [
      "193\n"
     ]
    },
    {
     "name": "stderr",
     "output_type": "stream",
     "text": [
      "[*********************100%%**********************]  1 of 1 completed\n",
      "[*********************100%%**********************]  1 of 1 completed\n",
      "[*********************100%%**********************]  1 of 1 completed\n",
      "[*********************100%%**********************]  1 of 1 completed\n",
      "[*********************100%%**********************]  1 of 1 completed\n",
      "c:\\Users\\GRAYBILLKB20\\OneDrive - Grove City College\\Sophomore Year\\FinanceData\\FinanceData\\FinanceDataHelper.py:102: FutureWarning: The behavior of DataFrame concatenation with empty or all-NA entries is deprecated. In a future version, this will no longer exclude empty or all-NA columns when determining the result dtypes. To retain the old behavior, exclude the relevant entries before the concat operation.\n",
      "  return new_append_df if output_df is None else pd.concat([output_df,new_append_df])\n"
     ]
    },
    {
     "name": "stdout",
     "output_type": "stream",
     "text": [
      "194\n"
     ]
    },
    {
     "name": "stderr",
     "output_type": "stream",
     "text": [
      "[*********************100%%**********************]  1 of 1 completed\n",
      "[*********************100%%**********************]  1 of 1 completed\n",
      "[*********************100%%**********************]  1 of 1 completed\n",
      "[*********************100%%**********************]  1 of 1 completed\n",
      "[*********************100%%**********************]  1 of 1 completed\n",
      "c:\\Users\\GRAYBILLKB20\\OneDrive - Grove City College\\Sophomore Year\\FinanceData\\FinanceData\\FinanceDataHelper.py:102: FutureWarning: The behavior of DataFrame concatenation with empty or all-NA entries is deprecated. In a future version, this will no longer exclude empty or all-NA columns when determining the result dtypes. To retain the old behavior, exclude the relevant entries before the concat operation.\n",
      "  return new_append_df if output_df is None else pd.concat([output_df,new_append_df])\n"
     ]
    },
    {
     "name": "stdout",
     "output_type": "stream",
     "text": [
      "195\n"
     ]
    },
    {
     "name": "stderr",
     "output_type": "stream",
     "text": [
      "[*********************100%%**********************]  1 of 1 completed\n",
      "[*********************100%%**********************]  1 of 1 completed\n",
      "[*********************100%%**********************]  1 of 1 completed\n",
      "[*********************100%%**********************]  1 of 1 completed\n",
      "[*********************100%%**********************]  1 of 1 completed\n",
      "c:\\Users\\GRAYBILLKB20\\OneDrive - Grove City College\\Sophomore Year\\FinanceData\\FinanceData\\FinanceDataHelper.py:102: FutureWarning: The behavior of DataFrame concatenation with empty or all-NA entries is deprecated. In a future version, this will no longer exclude empty or all-NA columns when determining the result dtypes. To retain the old behavior, exclude the relevant entries before the concat operation.\n",
      "  return new_append_df if output_df is None else pd.concat([output_df,new_append_df])\n"
     ]
    },
    {
     "name": "stdout",
     "output_type": "stream",
     "text": [
      "196\n"
     ]
    },
    {
     "name": "stderr",
     "output_type": "stream",
     "text": [
      "[*********************100%%**********************]  1 of 1 completed\n",
      "[*********************100%%**********************]  1 of 1 completed\n",
      "[*********************100%%**********************]  1 of 1 completed\n",
      "[*********************100%%**********************]  1 of 1 completed\n",
      "[*********************100%%**********************]  1 of 1 completed\n",
      "c:\\Users\\GRAYBILLKB20\\OneDrive - Grove City College\\Sophomore Year\\FinanceData\\FinanceData\\FinanceDataHelper.py:102: FutureWarning: The behavior of DataFrame concatenation with empty or all-NA entries is deprecated. In a future version, this will no longer exclude empty or all-NA columns when determining the result dtypes. To retain the old behavior, exclude the relevant entries before the concat operation.\n",
      "  return new_append_df if output_df is None else pd.concat([output_df,new_append_df])\n"
     ]
    },
    {
     "name": "stdout",
     "output_type": "stream",
     "text": [
      "197\n"
     ]
    },
    {
     "name": "stderr",
     "output_type": "stream",
     "text": [
      "[*********************100%%**********************]  1 of 1 completed\n",
      "[*********************100%%**********************]  1 of 1 completed\n",
      "[*********************100%%**********************]  1 of 1 completed\n",
      "[*********************100%%**********************]  1 of 1 completed\n",
      "[*********************100%%**********************]  1 of 1 completed\n",
      "c:\\Users\\GRAYBILLKB20\\OneDrive - Grove City College\\Sophomore Year\\FinanceData\\FinanceData\\FinanceDataHelper.py:102: FutureWarning: The behavior of DataFrame concatenation with empty or all-NA entries is deprecated. In a future version, this will no longer exclude empty or all-NA columns when determining the result dtypes. To retain the old behavior, exclude the relevant entries before the concat operation.\n",
      "  return new_append_df if output_df is None else pd.concat([output_df,new_append_df])\n"
     ]
    },
    {
     "name": "stdout",
     "output_type": "stream",
     "text": [
      "198\n"
     ]
    },
    {
     "name": "stderr",
     "output_type": "stream",
     "text": [
      "[*********************100%%**********************]  1 of 1 completed\n",
      "[*********************100%%**********************]  1 of 1 completed\n",
      "[*********************100%%**********************]  1 of 1 completed\n",
      "[*********************100%%**********************]  1 of 1 completed\n",
      "[*********************100%%**********************]  1 of 1 completed\n",
      "c:\\Users\\GRAYBILLKB20\\OneDrive - Grove City College\\Sophomore Year\\FinanceData\\FinanceData\\FinanceDataHelper.py:102: FutureWarning: The behavior of DataFrame concatenation with empty or all-NA entries is deprecated. In a future version, this will no longer exclude empty or all-NA columns when determining the result dtypes. To retain the old behavior, exclude the relevant entries before the concat operation.\n",
      "  return new_append_df if output_df is None else pd.concat([output_df,new_append_df])\n"
     ]
    },
    {
     "name": "stdout",
     "output_type": "stream",
     "text": [
      "199\n"
     ]
    },
    {
     "name": "stderr",
     "output_type": "stream",
     "text": [
      "[*********************100%%**********************]  1 of 1 completed\n",
      "[*********************100%%**********************]  1 of 1 completed\n",
      "[*********************100%%**********************]  1 of 1 completed\n",
      "[*********************100%%**********************]  1 of 1 completed\n",
      "[*********************100%%**********************]  1 of 1 completed\n",
      "c:\\Users\\GRAYBILLKB20\\OneDrive - Grove City College\\Sophomore Year\\FinanceData\\FinanceData\\FinanceDataHelper.py:102: FutureWarning: The behavior of DataFrame concatenation with empty or all-NA entries is deprecated. In a future version, this will no longer exclude empty or all-NA columns when determining the result dtypes. To retain the old behavior, exclude the relevant entries before the concat operation.\n",
      "  return new_append_df if output_df is None else pd.concat([output_df,new_append_df])\n"
     ]
    },
    {
     "name": "stdout",
     "output_type": "stream",
     "text": [
      "200\n"
     ]
    },
    {
     "name": "stderr",
     "output_type": "stream",
     "text": [
      "[*********************100%%**********************]  1 of 1 completed\n",
      "[*********************100%%**********************]  1 of 1 completed\n",
      "[*********************100%%**********************]  1 of 1 completed\n",
      "[*********************100%%**********************]  1 of 1 completed\n",
      "[*********************100%%**********************]  1 of 1 completed\n",
      "c:\\Users\\GRAYBILLKB20\\OneDrive - Grove City College\\Sophomore Year\\FinanceData\\FinanceData\\FinanceDataHelper.py:102: FutureWarning: The behavior of DataFrame concatenation with empty or all-NA entries is deprecated. In a future version, this will no longer exclude empty or all-NA columns when determining the result dtypes. To retain the old behavior, exclude the relevant entries before the concat operation.\n",
      "  return new_append_df if output_df is None else pd.concat([output_df,new_append_df])\n"
     ]
    },
    {
     "name": "stdout",
     "output_type": "stream",
     "text": [
      "201\n"
     ]
    },
    {
     "name": "stderr",
     "output_type": "stream",
     "text": [
      "[*********************100%%**********************]  1 of 1 completed\n",
      "[*********************100%%**********************]  1 of 1 completed\n",
      "[*********************100%%**********************]  1 of 1 completed\n",
      "[*********************100%%**********************]  1 of 1 completed\n",
      "[*********************100%%**********************]  1 of 1 completed\n",
      "c:\\Users\\GRAYBILLKB20\\OneDrive - Grove City College\\Sophomore Year\\FinanceData\\FinanceData\\FinanceDataHelper.py:102: FutureWarning: The behavior of DataFrame concatenation with empty or all-NA entries is deprecated. In a future version, this will no longer exclude empty or all-NA columns when determining the result dtypes. To retain the old behavior, exclude the relevant entries before the concat operation.\n",
      "  return new_append_df if output_df is None else pd.concat([output_df,new_append_df])\n"
     ]
    },
    {
     "name": "stdout",
     "output_type": "stream",
     "text": [
      "202\n"
     ]
    },
    {
     "name": "stderr",
     "output_type": "stream",
     "text": [
      "[*********************100%%**********************]  1 of 1 completed\n",
      "[*********************100%%**********************]  1 of 1 completed\n",
      "[*********************100%%**********************]  1 of 1 completed\n",
      "[*********************100%%**********************]  1 of 1 completed\n",
      "[*********************100%%**********************]  1 of 1 completed\n",
      "c:\\Users\\GRAYBILLKB20\\OneDrive - Grove City College\\Sophomore Year\\FinanceData\\FinanceData\\FinanceDataHelper.py:102: FutureWarning: The behavior of DataFrame concatenation with empty or all-NA entries is deprecated. In a future version, this will no longer exclude empty or all-NA columns when determining the result dtypes. To retain the old behavior, exclude the relevant entries before the concat operation.\n",
      "  return new_append_df if output_df is None else pd.concat([output_df,new_append_df])\n"
     ]
    },
    {
     "name": "stdout",
     "output_type": "stream",
     "text": [
      "203\n"
     ]
    },
    {
     "name": "stderr",
     "output_type": "stream",
     "text": [
      "[*********************100%%**********************]  1 of 1 completed\n",
      "[*********************100%%**********************]  1 of 1 completed\n",
      "[*********************100%%**********************]  1 of 1 completed\n",
      "[*********************100%%**********************]  1 of 1 completed\n",
      "[*********************100%%**********************]  1 of 1 completed\n",
      "c:\\Users\\GRAYBILLKB20\\OneDrive - Grove City College\\Sophomore Year\\FinanceData\\FinanceData\\FinanceDataHelper.py:102: FutureWarning: The behavior of DataFrame concatenation with empty or all-NA entries is deprecated. In a future version, this will no longer exclude empty or all-NA columns when determining the result dtypes. To retain the old behavior, exclude the relevant entries before the concat operation.\n",
      "  return new_append_df if output_df is None else pd.concat([output_df,new_append_df])\n"
     ]
    },
    {
     "name": "stdout",
     "output_type": "stream",
     "text": [
      "204\n"
     ]
    },
    {
     "name": "stderr",
     "output_type": "stream",
     "text": [
      "[*********************100%%**********************]  1 of 1 completed\n",
      "[*********************100%%**********************]  1 of 1 completed\n",
      "[*********************100%%**********************]  1 of 1 completed\n",
      "[*********************100%%**********************]  1 of 1 completed\n",
      "[*********************100%%**********************]  1 of 1 completed\n",
      "c:\\Users\\GRAYBILLKB20\\OneDrive - Grove City College\\Sophomore Year\\FinanceData\\FinanceData\\FinanceDataHelper.py:102: FutureWarning: The behavior of DataFrame concatenation with empty or all-NA entries is deprecated. In a future version, this will no longer exclude empty or all-NA columns when determining the result dtypes. To retain the old behavior, exclude the relevant entries before the concat operation.\n",
      "  return new_append_df if output_df is None else pd.concat([output_df,new_append_df])\n"
     ]
    },
    {
     "name": "stdout",
     "output_type": "stream",
     "text": [
      "205\n"
     ]
    },
    {
     "name": "stderr",
     "output_type": "stream",
     "text": [
      "[*********************100%%**********************]  1 of 1 completed\n",
      "[*********************100%%**********************]  1 of 1 completed\n",
      "[*********************100%%**********************]  1 of 1 completed\n",
      "[*********************100%%**********************]  1 of 1 completed\n",
      "[*********************100%%**********************]  1 of 1 completed\n",
      "c:\\Users\\GRAYBILLKB20\\OneDrive - Grove City College\\Sophomore Year\\FinanceData\\FinanceData\\FinanceDataHelper.py:102: FutureWarning: The behavior of DataFrame concatenation with empty or all-NA entries is deprecated. In a future version, this will no longer exclude empty or all-NA columns when determining the result dtypes. To retain the old behavior, exclude the relevant entries before the concat operation.\n",
      "  return new_append_df if output_df is None else pd.concat([output_df,new_append_df])\n"
     ]
    },
    {
     "name": "stdout",
     "output_type": "stream",
     "text": [
      "206\n"
     ]
    },
    {
     "name": "stderr",
     "output_type": "stream",
     "text": [
      "[*********************100%%**********************]  1 of 1 completed\n",
      "[*********************100%%**********************]  1 of 1 completed\n",
      "[*********************100%%**********************]  1 of 1 completed\n",
      "[*********************100%%**********************]  1 of 1 completed\n",
      "[*********************100%%**********************]  1 of 1 completed\n",
      "c:\\Users\\GRAYBILLKB20\\OneDrive - Grove City College\\Sophomore Year\\FinanceData\\FinanceData\\FinanceDataHelper.py:102: FutureWarning: The behavior of DataFrame concatenation with empty or all-NA entries is deprecated. In a future version, this will no longer exclude empty or all-NA columns when determining the result dtypes. To retain the old behavior, exclude the relevant entries before the concat operation.\n",
      "  return new_append_df if output_df is None else pd.concat([output_df,new_append_df])\n"
     ]
    },
    {
     "name": "stdout",
     "output_type": "stream",
     "text": [
      "Index error retrieving data for IT stock on 2024-12-10 00:00:00: single positional indexer is out-of-bounds\n",
      "Index error retrieving data for IT stock on 2024-12-09 00:00:00: single positional indexer is out-of-bounds\n",
      "207\n"
     ]
    },
    {
     "name": "stderr",
     "output_type": "stream",
     "text": [
      "[*********************100%%**********************]  1 of 1 completed\n",
      "[*********************100%%**********************]  1 of 1 completed\n",
      "[*********************100%%**********************]  1 of 1 completed\n",
      "[*********************100%%**********************]  1 of 1 completed\n",
      "[*********************100%%**********************]  1 of 1 completed\n",
      "c:\\Users\\GRAYBILLKB20\\OneDrive - Grove City College\\Sophomore Year\\FinanceData\\FinanceData\\FinanceDataHelper.py:102: FutureWarning: The behavior of DataFrame concatenation with empty or all-NA entries is deprecated. In a future version, this will no longer exclude empty or all-NA columns when determining the result dtypes. To retain the old behavior, exclude the relevant entries before the concat operation.\n",
      "  return new_append_df if output_df is None else pd.concat([output_df,new_append_df])\n"
     ]
    },
    {
     "name": "stdout",
     "output_type": "stream",
     "text": [
      "208\n"
     ]
    },
    {
     "name": "stderr",
     "output_type": "stream",
     "text": [
      "[*********************100%%**********************]  1 of 1 completed\n",
      "[*********************100%%**********************]  1 of 1 completed\n",
      "[*********************100%%**********************]  1 of 1 completed\n",
      "[*********************100%%**********************]  1 of 1 completed\n",
      "[*********************100%%**********************]  1 of 1 completed\n",
      "c:\\Users\\GRAYBILLKB20\\OneDrive - Grove City College\\Sophomore Year\\FinanceData\\FinanceData\\FinanceDataHelper.py:102: FutureWarning: The behavior of DataFrame concatenation with empty or all-NA entries is deprecated. In a future version, this will no longer exclude empty or all-NA columns when determining the result dtypes. To retain the old behavior, exclude the relevant entries before the concat operation.\n",
      "  return new_append_df if output_df is None else pd.concat([output_df,new_append_df])\n"
     ]
    },
    {
     "name": "stdout",
     "output_type": "stream",
     "text": [
      "209\n"
     ]
    },
    {
     "name": "stderr",
     "output_type": "stream",
     "text": [
      "[*********************100%%**********************]  1 of 1 completed\n",
      "[*********************100%%**********************]  1 of 1 completed\n",
      "[*********************100%%**********************]  1 of 1 completed\n",
      "[*********************100%%**********************]  1 of 1 completed\n",
      "[*********************100%%**********************]  1 of 1 completed\n",
      "c:\\Users\\GRAYBILLKB20\\OneDrive - Grove City College\\Sophomore Year\\FinanceData\\FinanceData\\FinanceDataHelper.py:102: FutureWarning: The behavior of DataFrame concatenation with empty or all-NA entries is deprecated. In a future version, this will no longer exclude empty or all-NA columns when determining the result dtypes. To retain the old behavior, exclude the relevant entries before the concat operation.\n",
      "  return new_append_df if output_df is None else pd.concat([output_df,new_append_df])\n"
     ]
    },
    {
     "name": "stdout",
     "output_type": "stream",
     "text": [
      "210\n"
     ]
    },
    {
     "name": "stderr",
     "output_type": "stream",
     "text": [
      "[*********************100%%**********************]  1 of 1 completed\n",
      "[*********************100%%**********************]  1 of 1 completed\n",
      "[*********************100%%**********************]  1 of 1 completed\n",
      "[*********************100%%**********************]  1 of 1 completed\n",
      "[*********************100%%**********************]  1 of 1 completed\n",
      "c:\\Users\\GRAYBILLKB20\\OneDrive - Grove City College\\Sophomore Year\\FinanceData\\FinanceData\\FinanceDataHelper.py:102: FutureWarning: The behavior of DataFrame concatenation with empty or all-NA entries is deprecated. In a future version, this will no longer exclude empty or all-NA columns when determining the result dtypes. To retain the old behavior, exclude the relevant entries before the concat operation.\n",
      "  return new_append_df if output_df is None else pd.concat([output_df,new_append_df])\n"
     ]
    },
    {
     "name": "stdout",
     "output_type": "stream",
     "text": [
      "211\n"
     ]
    },
    {
     "name": "stderr",
     "output_type": "stream",
     "text": [
      "[*********************100%%**********************]  1 of 1 completed\n",
      "[*********************100%%**********************]  1 of 1 completed\n",
      "[*********************100%%**********************]  1 of 1 completed\n",
      "[*********************100%%**********************]  1 of 1 completed\n",
      "[*********************100%%**********************]  1 of 1 completed\n",
      "c:\\Users\\GRAYBILLKB20\\OneDrive - Grove City College\\Sophomore Year\\FinanceData\\FinanceData\\FinanceDataHelper.py:102: FutureWarning: The behavior of DataFrame concatenation with empty or all-NA entries is deprecated. In a future version, this will no longer exclude empty or all-NA columns when determining the result dtypes. To retain the old behavior, exclude the relevant entries before the concat operation.\n",
      "  return new_append_df if output_df is None else pd.concat([output_df,new_append_df])\n"
     ]
    },
    {
     "name": "stdout",
     "output_type": "stream",
     "text": [
      "Index error retrieving data for GNRC stock on 2024-12-09 00:00:00: single positional indexer is out-of-bounds\n",
      "212\n"
     ]
    },
    {
     "name": "stderr",
     "output_type": "stream",
     "text": [
      "[*********************100%%**********************]  1 of 1 completed\n",
      "[*********************100%%**********************]  1 of 1 completed\n",
      "[*********************100%%**********************]  1 of 1 completed\n",
      "[*********************100%%**********************]  1 of 1 completed\n",
      "[*********************100%%**********************]  1 of 1 completed\n",
      "c:\\Users\\GRAYBILLKB20\\OneDrive - Grove City College\\Sophomore Year\\FinanceData\\FinanceData\\FinanceDataHelper.py:102: FutureWarning: The behavior of DataFrame concatenation with empty or all-NA entries is deprecated. In a future version, this will no longer exclude empty or all-NA columns when determining the result dtypes. To retain the old behavior, exclude the relevant entries before the concat operation.\n",
      "  return new_append_df if output_df is None else pd.concat([output_df,new_append_df])\n"
     ]
    },
    {
     "name": "stdout",
     "output_type": "stream",
     "text": [
      "213\n"
     ]
    },
    {
     "name": "stderr",
     "output_type": "stream",
     "text": [
      "[*********************100%%**********************]  1 of 1 completed\n",
      "[*********************100%%**********************]  1 of 1 completed\n",
      "[*********************100%%**********************]  1 of 1 completed\n",
      "[*********************100%%**********************]  1 of 1 completed\n",
      "[*********************100%%**********************]  1 of 1 completed\n",
      "c:\\Users\\GRAYBILLKB20\\OneDrive - Grove City College\\Sophomore Year\\FinanceData\\FinanceData\\FinanceDataHelper.py:102: FutureWarning: The behavior of DataFrame concatenation with empty or all-NA entries is deprecated. In a future version, this will no longer exclude empty or all-NA columns when determining the result dtypes. To retain the old behavior, exclude the relevant entries before the concat operation.\n",
      "  return new_append_df if output_df is None else pd.concat([output_df,new_append_df])\n"
     ]
    },
    {
     "name": "stdout",
     "output_type": "stream",
     "text": [
      "214\n"
     ]
    },
    {
     "name": "stderr",
     "output_type": "stream",
     "text": [
      "[*********************100%%**********************]  1 of 1 completed\n",
      "[*********************100%%**********************]  1 of 1 completed\n",
      "[*********************100%%**********************]  1 of 1 completed\n",
      "[*********************100%%**********************]  1 of 1 completed\n",
      "[*********************100%%**********************]  1 of 1 completed\n",
      "c:\\Users\\GRAYBILLKB20\\OneDrive - Grove City College\\Sophomore Year\\FinanceData\\FinanceData\\FinanceDataHelper.py:102: FutureWarning: The behavior of DataFrame concatenation with empty or all-NA entries is deprecated. In a future version, this will no longer exclude empty or all-NA columns when determining the result dtypes. To retain the old behavior, exclude the relevant entries before the concat operation.\n",
      "  return new_append_df if output_df is None else pd.concat([output_df,new_append_df])\n"
     ]
    },
    {
     "name": "stdout",
     "output_type": "stream",
     "text": [
      "215\n"
     ]
    },
    {
     "name": "stderr",
     "output_type": "stream",
     "text": [
      "[*********************100%%**********************]  1 of 1 completed\n",
      "[*********************100%%**********************]  1 of 1 completed\n",
      "[*********************100%%**********************]  1 of 1 completed\n",
      "[*********************100%%**********************]  1 of 1 completed\n",
      "[*********************100%%**********************]  1 of 1 completed\n",
      "c:\\Users\\GRAYBILLKB20\\OneDrive - Grove City College\\Sophomore Year\\FinanceData\\FinanceData\\FinanceDataHelper.py:102: FutureWarning: The behavior of DataFrame concatenation with empty or all-NA entries is deprecated. In a future version, this will no longer exclude empty or all-NA columns when determining the result dtypes. To retain the old behavior, exclude the relevant entries before the concat operation.\n",
      "  return new_append_df if output_df is None else pd.concat([output_df,new_append_df])\n"
     ]
    },
    {
     "name": "stdout",
     "output_type": "stream",
     "text": [
      "216\n"
     ]
    },
    {
     "name": "stderr",
     "output_type": "stream",
     "text": [
      "[*********************100%%**********************]  1 of 1 completed\n",
      "[*********************100%%**********************]  1 of 1 completed\n",
      "[*********************100%%**********************]  1 of 1 completed\n",
      "[*********************100%%**********************]  1 of 1 completed\n",
      "[*********************100%%**********************]  1 of 1 completed\n",
      "c:\\Users\\GRAYBILLKB20\\OneDrive - Grove City College\\Sophomore Year\\FinanceData\\FinanceData\\FinanceDataHelper.py:102: FutureWarning: The behavior of DataFrame concatenation with empty or all-NA entries is deprecated. In a future version, this will no longer exclude empty or all-NA columns when determining the result dtypes. To retain the old behavior, exclude the relevant entries before the concat operation.\n",
      "  return new_append_df if output_df is None else pd.concat([output_df,new_append_df])\n"
     ]
    },
    {
     "name": "stdout",
     "output_type": "stream",
     "text": [
      "217\n"
     ]
    },
    {
     "name": "stderr",
     "output_type": "stream",
     "text": [
      "[*********************100%%**********************]  1 of 1 completed\n",
      "[*********************100%%**********************]  1 of 1 completed\n",
      "[*********************100%%**********************]  1 of 1 completed\n",
      "[*********************100%%**********************]  1 of 1 completed\n",
      "[*********************100%%**********************]  1 of 1 completed\n",
      "c:\\Users\\GRAYBILLKB20\\OneDrive - Grove City College\\Sophomore Year\\FinanceData\\FinanceData\\FinanceDataHelper.py:102: FutureWarning: The behavior of DataFrame concatenation with empty or all-NA entries is deprecated. In a future version, this will no longer exclude empty or all-NA columns when determining the result dtypes. To retain the old behavior, exclude the relevant entries before the concat operation.\n",
      "  return new_append_df if output_df is None else pd.concat([output_df,new_append_df])\n"
     ]
    },
    {
     "name": "stdout",
     "output_type": "stream",
     "text": [
      "218\n"
     ]
    },
    {
     "name": "stderr",
     "output_type": "stream",
     "text": [
      "[*********************100%%**********************]  1 of 1 completed\n",
      "[*********************100%%**********************]  1 of 1 completed\n",
      "[*********************100%%**********************]  1 of 1 completed\n",
      "[*********************100%%**********************]  1 of 1 completed\n",
      "[*********************100%%**********************]  1 of 1 completed\n",
      "c:\\Users\\GRAYBILLKB20\\OneDrive - Grove City College\\Sophomore Year\\FinanceData\\FinanceData\\FinanceDataHelper.py:102: FutureWarning: The behavior of DataFrame concatenation with empty or all-NA entries is deprecated. In a future version, this will no longer exclude empty or all-NA columns when determining the result dtypes. To retain the old behavior, exclude the relevant entries before the concat operation.\n",
      "  return new_append_df if output_df is None else pd.concat([output_df,new_append_df])\n"
     ]
    },
    {
     "name": "stdout",
     "output_type": "stream",
     "text": [
      "219\n"
     ]
    },
    {
     "name": "stderr",
     "output_type": "stream",
     "text": [
      "[*********************100%%**********************]  1 of 1 completed\n",
      "[*********************100%%**********************]  1 of 1 completed\n",
      "[*********************100%%**********************]  1 of 1 completed\n",
      "[*********************100%%**********************]  1 of 1 completed\n",
      "[*********************100%%**********************]  1 of 1 completed\n",
      "c:\\Users\\GRAYBILLKB20\\OneDrive - Grove City College\\Sophomore Year\\FinanceData\\FinanceData\\FinanceDataHelper.py:102: FutureWarning: The behavior of DataFrame concatenation with empty or all-NA entries is deprecated. In a future version, this will no longer exclude empty or all-NA columns when determining the result dtypes. To retain the old behavior, exclude the relevant entries before the concat operation.\n",
      "  return new_append_df if output_df is None else pd.concat([output_df,new_append_df])\n"
     ]
    },
    {
     "name": "stdout",
     "output_type": "stream",
     "text": [
      "220\n"
     ]
    },
    {
     "name": "stderr",
     "output_type": "stream",
     "text": [
      "[*********************100%%**********************]  1 of 1 completed\n",
      "[*********************100%%**********************]  1 of 1 completed\n",
      "[*********************100%%**********************]  1 of 1 completed\n",
      "[*********************100%%**********************]  1 of 1 completed\n",
      "[*********************100%%**********************]  1 of 1 completed\n",
      "c:\\Users\\GRAYBILLKB20\\OneDrive - Grove City College\\Sophomore Year\\FinanceData\\FinanceData\\FinanceDataHelper.py:102: FutureWarning: The behavior of DataFrame concatenation with empty or all-NA entries is deprecated. In a future version, this will no longer exclude empty or all-NA columns when determining the result dtypes. To retain the old behavior, exclude the relevant entries before the concat operation.\n",
      "  return new_append_df if output_df is None else pd.concat([output_df,new_append_df])\n"
     ]
    },
    {
     "name": "stdout",
     "output_type": "stream",
     "text": [
      "221\n"
     ]
    },
    {
     "name": "stderr",
     "output_type": "stream",
     "text": [
      "[*********************100%%**********************]  1 of 1 completed\n",
      "[*********************100%%**********************]  1 of 1 completed\n",
      "[*********************100%%**********************]  1 of 1 completed\n",
      "[*********************100%%**********************]  1 of 1 completed\n",
      "[*********************100%%**********************]  1 of 1 completed\n",
      "c:\\Users\\GRAYBILLKB20\\OneDrive - Grove City College\\Sophomore Year\\FinanceData\\FinanceData\\FinanceDataHelper.py:102: FutureWarning: The behavior of DataFrame concatenation with empty or all-NA entries is deprecated. In a future version, this will no longer exclude empty or all-NA columns when determining the result dtypes. To retain the old behavior, exclude the relevant entries before the concat operation.\n",
      "  return new_append_df if output_df is None else pd.concat([output_df,new_append_df])\n"
     ]
    },
    {
     "name": "stdout",
     "output_type": "stream",
     "text": [
      "222\n"
     ]
    },
    {
     "name": "stderr",
     "output_type": "stream",
     "text": [
      "[*********************100%%**********************]  1 of 1 completed\n",
      "[*********************100%%**********************]  1 of 1 completed\n",
      "[*********************100%%**********************]  1 of 1 completed\n",
      "[*********************100%%**********************]  1 of 1 completed\n",
      "[*********************100%%**********************]  1 of 1 completed\n",
      "c:\\Users\\GRAYBILLKB20\\OneDrive - Grove City College\\Sophomore Year\\FinanceData\\FinanceData\\FinanceDataHelper.py:102: FutureWarning: The behavior of DataFrame concatenation with empty or all-NA entries is deprecated. In a future version, this will no longer exclude empty or all-NA columns when determining the result dtypes. To retain the old behavior, exclude the relevant entries before the concat operation.\n",
      "  return new_append_df if output_df is None else pd.concat([output_df,new_append_df])\n"
     ]
    },
    {
     "name": "stdout",
     "output_type": "stream",
     "text": [
      "223\n"
     ]
    },
    {
     "name": "stderr",
     "output_type": "stream",
     "text": [
      "[*********************100%%**********************]  1 of 1 completed\n",
      "[*********************100%%**********************]  1 of 1 completed\n",
      "[*********************100%%**********************]  1 of 1 completed\n",
      "[*********************100%%**********************]  1 of 1 completed\n",
      "[*********************100%%**********************]  1 of 1 completed\n",
      "c:\\Users\\GRAYBILLKB20\\OneDrive - Grove City College\\Sophomore Year\\FinanceData\\FinanceData\\FinanceDataHelper.py:102: FutureWarning: The behavior of DataFrame concatenation with empty or all-NA entries is deprecated. In a future version, this will no longer exclude empty or all-NA columns when determining the result dtypes. To retain the old behavior, exclude the relevant entries before the concat operation.\n",
      "  return new_append_df if output_df is None else pd.concat([output_df,new_append_df])\n"
     ]
    },
    {
     "name": "stdout",
     "output_type": "stream",
     "text": [
      "224\n"
     ]
    },
    {
     "name": "stderr",
     "output_type": "stream",
     "text": [
      "[*********************100%%**********************]  1 of 1 completed\n",
      "[*********************100%%**********************]  1 of 1 completed\n",
      "[*********************100%%**********************]  1 of 1 completed\n",
      "[*********************100%%**********************]  1 of 1 completed\n",
      "[*********************100%%**********************]  1 of 1 completed\n",
      "c:\\Users\\GRAYBILLKB20\\OneDrive - Grove City College\\Sophomore Year\\FinanceData\\FinanceData\\FinanceDataHelper.py:102: FutureWarning: The behavior of DataFrame concatenation with empty or all-NA entries is deprecated. In a future version, this will no longer exclude empty or all-NA columns when determining the result dtypes. To retain the old behavior, exclude the relevant entries before the concat operation.\n",
      "  return new_append_df if output_df is None else pd.concat([output_df,new_append_df])\n"
     ]
    },
    {
     "name": "stdout",
     "output_type": "stream",
     "text": [
      "225\n"
     ]
    },
    {
     "name": "stderr",
     "output_type": "stream",
     "text": [
      "[*********************100%%**********************]  1 of 1 completed\n",
      "[*********************100%%**********************]  1 of 1 completed\n",
      "[*********************100%%**********************]  1 of 1 completed\n",
      "[*********************100%%**********************]  1 of 1 completed\n",
      "[*********************100%%**********************]  1 of 1 completed\n",
      "c:\\Users\\GRAYBILLKB20\\OneDrive - Grove City College\\Sophomore Year\\FinanceData\\FinanceData\\FinanceDataHelper.py:102: FutureWarning: The behavior of DataFrame concatenation with empty or all-NA entries is deprecated. In a future version, this will no longer exclude empty or all-NA columns when determining the result dtypes. To retain the old behavior, exclude the relevant entries before the concat operation.\n",
      "  return new_append_df if output_df is None else pd.concat([output_df,new_append_df])\n"
     ]
    },
    {
     "name": "stdout",
     "output_type": "stream",
     "text": [
      "226\n"
     ]
    },
    {
     "name": "stderr",
     "output_type": "stream",
     "text": [
      "[*********************100%%**********************]  1 of 1 completed\n",
      "[*********************100%%**********************]  1 of 1 completed\n",
      "[*********************100%%**********************]  1 of 1 completed\n",
      "[*********************100%%**********************]  1 of 1 completed\n",
      "[*********************100%%**********************]  1 of 1 completed\n",
      "c:\\Users\\GRAYBILLKB20\\OneDrive - Grove City College\\Sophomore Year\\FinanceData\\FinanceData\\FinanceDataHelper.py:102: FutureWarning: The behavior of DataFrame concatenation with empty or all-NA entries is deprecated. In a future version, this will no longer exclude empty or all-NA columns when determining the result dtypes. To retain the old behavior, exclude the relevant entries before the concat operation.\n",
      "  return new_append_df if output_df is None else pd.concat([output_df,new_append_df])\n"
     ]
    },
    {
     "name": "stdout",
     "output_type": "stream",
     "text": [
      "227\n"
     ]
    },
    {
     "name": "stderr",
     "output_type": "stream",
     "text": [
      "[*********************100%%**********************]  1 of 1 completed\n",
      "[*********************100%%**********************]  1 of 1 completed\n",
      "[*********************100%%**********************]  1 of 1 completed\n",
      "[*********************100%%**********************]  1 of 1 completed\n",
      "[*********************100%%**********************]  1 of 1 completed\n",
      "c:\\Users\\GRAYBILLKB20\\OneDrive - Grove City College\\Sophomore Year\\FinanceData\\FinanceData\\FinanceDataHelper.py:102: FutureWarning: The behavior of DataFrame concatenation with empty or all-NA entries is deprecated. In a future version, this will no longer exclude empty or all-NA columns when determining the result dtypes. To retain the old behavior, exclude the relevant entries before the concat operation.\n",
      "  return new_append_df if output_df is None else pd.concat([output_df,new_append_df])\n"
     ]
    },
    {
     "name": "stdout",
     "output_type": "stream",
     "text": [
      "228\n"
     ]
    },
    {
     "name": "stderr",
     "output_type": "stream",
     "text": [
      "[*********************100%%**********************]  1 of 1 completed\n",
      "[*********************100%%**********************]  1 of 1 completed\n",
      "[*********************100%%**********************]  1 of 1 completed\n",
      "[*********************100%%**********************]  1 of 1 completed\n",
      "[*********************100%%**********************]  1 of 1 completed\n",
      "c:\\Users\\GRAYBILLKB20\\OneDrive - Grove City College\\Sophomore Year\\FinanceData\\FinanceData\\FinanceDataHelper.py:102: FutureWarning: The behavior of DataFrame concatenation with empty or all-NA entries is deprecated. In a future version, this will no longer exclude empty or all-NA columns when determining the result dtypes. To retain the old behavior, exclude the relevant entries before the concat operation.\n",
      "  return new_append_df if output_df is None else pd.concat([output_df,new_append_df])\n"
     ]
    },
    {
     "name": "stdout",
     "output_type": "stream",
     "text": [
      "229\n"
     ]
    },
    {
     "name": "stderr",
     "output_type": "stream",
     "text": [
      "[*********************100%%**********************]  1 of 1 completed\n",
      "[*********************100%%**********************]  1 of 1 completed\n",
      "[*********************100%%**********************]  1 of 1 completed\n",
      "[*********************100%%**********************]  1 of 1 completed\n",
      "[*********************100%%**********************]  1 of 1 completed\n",
      "c:\\Users\\GRAYBILLKB20\\OneDrive - Grove City College\\Sophomore Year\\FinanceData\\FinanceData\\FinanceDataHelper.py:102: FutureWarning: The behavior of DataFrame concatenation with empty or all-NA entries is deprecated. In a future version, this will no longer exclude empty or all-NA columns when determining the result dtypes. To retain the old behavior, exclude the relevant entries before the concat operation.\n",
      "  return new_append_df if output_df is None else pd.concat([output_df,new_append_df])\n"
     ]
    },
    {
     "name": "stdout",
     "output_type": "stream",
     "text": [
      "230\n"
     ]
    },
    {
     "name": "stderr",
     "output_type": "stream",
     "text": [
      "[*********************100%%**********************]  1 of 1 completed\n",
      "[*********************100%%**********************]  1 of 1 completed\n",
      "[*********************100%%**********************]  1 of 1 completed\n",
      "[*********************100%%**********************]  1 of 1 completed\n",
      "[*********************100%%**********************]  1 of 1 completed\n",
      "c:\\Users\\GRAYBILLKB20\\OneDrive - Grove City College\\Sophomore Year\\FinanceData\\FinanceData\\FinanceDataHelper.py:102: FutureWarning: The behavior of DataFrame concatenation with empty or all-NA entries is deprecated. In a future version, this will no longer exclude empty or all-NA columns when determining the result dtypes. To retain the old behavior, exclude the relevant entries before the concat operation.\n",
      "  return new_append_df if output_df is None else pd.concat([output_df,new_append_df])\n"
     ]
    },
    {
     "name": "stdout",
     "output_type": "stream",
     "text": [
      "231\n"
     ]
    },
    {
     "name": "stderr",
     "output_type": "stream",
     "text": [
      "[*********************100%%**********************]  1 of 1 completed\n",
      "[*********************100%%**********************]  1 of 1 completed\n",
      "[*********************100%%**********************]  1 of 1 completed\n",
      "[*********************100%%**********************]  1 of 1 completed\n",
      "[*********************100%%**********************]  1 of 1 completed\n",
      "c:\\Users\\GRAYBILLKB20\\OneDrive - Grove City College\\Sophomore Year\\FinanceData\\FinanceData\\FinanceDataHelper.py:102: FutureWarning: The behavior of DataFrame concatenation with empty or all-NA entries is deprecated. In a future version, this will no longer exclude empty or all-NA columns when determining the result dtypes. To retain the old behavior, exclude the relevant entries before the concat operation.\n",
      "  return new_append_df if output_df is None else pd.concat([output_df,new_append_df])\n"
     ]
    },
    {
     "name": "stdout",
     "output_type": "stream",
     "text": [
      "232\n"
     ]
    },
    {
     "name": "stderr",
     "output_type": "stream",
     "text": [
      "[*********************100%%**********************]  1 of 1 completed\n",
      "[*********************100%%**********************]  1 of 1 completed\n",
      "[*********************100%%**********************]  1 of 1 completed\n",
      "[*********************100%%**********************]  1 of 1 completed\n",
      "[*********************100%%**********************]  1 of 1 completed\n",
      "c:\\Users\\GRAYBILLKB20\\OneDrive - Grove City College\\Sophomore Year\\FinanceData\\FinanceData\\FinanceDataHelper.py:102: FutureWarning: The behavior of DataFrame concatenation with empty or all-NA entries is deprecated. In a future version, this will no longer exclude empty or all-NA columns when determining the result dtypes. To retain the old behavior, exclude the relevant entries before the concat operation.\n",
      "  return new_append_df if output_df is None else pd.concat([output_df,new_append_df])\n"
     ]
    },
    {
     "name": "stdout",
     "output_type": "stream",
     "text": [
      "233\n"
     ]
    },
    {
     "name": "stderr",
     "output_type": "stream",
     "text": [
      "[*********************100%%**********************]  1 of 1 completed\n",
      "[*********************100%%**********************]  1 of 1 completed\n",
      "[*********************100%%**********************]  1 of 1 completed\n",
      "[*********************100%%**********************]  1 of 1 completed\n",
      "[*********************100%%**********************]  1 of 1 completed\n",
      "c:\\Users\\GRAYBILLKB20\\OneDrive - Grove City College\\Sophomore Year\\FinanceData\\FinanceData\\FinanceDataHelper.py:102: FutureWarning: The behavior of DataFrame concatenation with empty or all-NA entries is deprecated. In a future version, this will no longer exclude empty or all-NA columns when determining the result dtypes. To retain the old behavior, exclude the relevant entries before the concat operation.\n",
      "  return new_append_df if output_df is None else pd.concat([output_df,new_append_df])\n"
     ]
    },
    {
     "name": "stdout",
     "output_type": "stream",
     "text": [
      "234\n"
     ]
    },
    {
     "name": "stderr",
     "output_type": "stream",
     "text": [
      "[*********************100%%**********************]  1 of 1 completed\n",
      "[*********************100%%**********************]  1 of 1 completed\n",
      "[*********************100%%**********************]  1 of 1 completed\n",
      "[*********************100%%**********************]  1 of 1 completed\n",
      "[*********************100%%**********************]  1 of 1 completed\n",
      "c:\\Users\\GRAYBILLKB20\\OneDrive - Grove City College\\Sophomore Year\\FinanceData\\FinanceData\\FinanceDataHelper.py:102: FutureWarning: The behavior of DataFrame concatenation with empty or all-NA entries is deprecated. In a future version, this will no longer exclude empty or all-NA columns when determining the result dtypes. To retain the old behavior, exclude the relevant entries before the concat operation.\n",
      "  return new_append_df if output_df is None else pd.concat([output_df,new_append_df])\n"
     ]
    },
    {
     "name": "stdout",
     "output_type": "stream",
     "text": [
      "235\n"
     ]
    },
    {
     "name": "stderr",
     "output_type": "stream",
     "text": [
      "[*********************100%%**********************]  1 of 1 completed\n",
      "[*********************100%%**********************]  1 of 1 completed\n",
      "[*********************100%%**********************]  1 of 1 completed\n",
      "[*********************100%%**********************]  1 of 1 completed\n",
      "[*********************100%%**********************]  1 of 1 completed\n",
      "c:\\Users\\GRAYBILLKB20\\OneDrive - Grove City College\\Sophomore Year\\FinanceData\\FinanceData\\FinanceDataHelper.py:102: FutureWarning: The behavior of DataFrame concatenation with empty or all-NA entries is deprecated. In a future version, this will no longer exclude empty or all-NA columns when determining the result dtypes. To retain the old behavior, exclude the relevant entries before the concat operation.\n",
      "  return new_append_df if output_df is None else pd.concat([output_df,new_append_df])\n"
     ]
    },
    {
     "name": "stdout",
     "output_type": "stream",
     "text": [
      "236\n"
     ]
    },
    {
     "name": "stderr",
     "output_type": "stream",
     "text": [
      "[*********************100%%**********************]  1 of 1 completed\n",
      "[*********************100%%**********************]  1 of 1 completed\n",
      "[*********************100%%**********************]  1 of 1 completed\n",
      "[*********************100%%**********************]  1 of 1 completed\n",
      "[*********************100%%**********************]  1 of 1 completed\n",
      "c:\\Users\\GRAYBILLKB20\\OneDrive - Grove City College\\Sophomore Year\\FinanceData\\FinanceData\\FinanceDataHelper.py:102: FutureWarning: The behavior of DataFrame concatenation with empty or all-NA entries is deprecated. In a future version, this will no longer exclude empty or all-NA columns when determining the result dtypes. To retain the old behavior, exclude the relevant entries before the concat operation.\n",
      "  return new_append_df if output_df is None else pd.concat([output_df,new_append_df])\n"
     ]
    },
    {
     "name": "stdout",
     "output_type": "stream",
     "text": [
      "237\n"
     ]
    },
    {
     "name": "stderr",
     "output_type": "stream",
     "text": [
      "[*********************100%%**********************]  1 of 1 completed\n",
      "[*********************100%%**********************]  1 of 1 completed\n",
      "[*********************100%%**********************]  1 of 1 completed\n",
      "[*********************100%%**********************]  1 of 1 completed\n",
      "[*********************100%%**********************]  1 of 1 completed\n",
      "c:\\Users\\GRAYBILLKB20\\OneDrive - Grove City College\\Sophomore Year\\FinanceData\\FinanceData\\FinanceDataHelper.py:102: FutureWarning: The behavior of DataFrame concatenation with empty or all-NA entries is deprecated. In a future version, this will no longer exclude empty or all-NA columns when determining the result dtypes. To retain the old behavior, exclude the relevant entries before the concat operation.\n",
      "  return new_append_df if output_df is None else pd.concat([output_df,new_append_df])\n"
     ]
    },
    {
     "name": "stdout",
     "output_type": "stream",
     "text": [
      "238\n"
     ]
    },
    {
     "name": "stderr",
     "output_type": "stream",
     "text": [
      "[*********************100%%**********************]  1 of 1 completed\n",
      "[*********************100%%**********************]  1 of 1 completed\n",
      "[*********************100%%**********************]  1 of 1 completed\n",
      "[*********************100%%**********************]  1 of 1 completed\n",
      "[*********************100%%**********************]  1 of 1 completed\n",
      "c:\\Users\\GRAYBILLKB20\\OneDrive - Grove City College\\Sophomore Year\\FinanceData\\FinanceData\\FinanceDataHelper.py:102: FutureWarning: The behavior of DataFrame concatenation with empty or all-NA entries is deprecated. In a future version, this will no longer exclude empty or all-NA columns when determining the result dtypes. To retain the old behavior, exclude the relevant entries before the concat operation.\n",
      "  return new_append_df if output_df is None else pd.concat([output_df,new_append_df])\n"
     ]
    },
    {
     "name": "stdout",
     "output_type": "stream",
     "text": [
      "Index error retrieving data for HUBB stock on 2024-12-09 00:00:00: single positional indexer is out-of-bounds\n",
      "239\n"
     ]
    },
    {
     "name": "stderr",
     "output_type": "stream",
     "text": [
      "[*********************100%%**********************]  1 of 1 completed\n",
      "[*********************100%%**********************]  1 of 1 completed\n",
      "[*********************100%%**********************]  1 of 1 completed\n",
      "[*********************100%%**********************]  1 of 1 completed\n",
      "[*********************100%%**********************]  1 of 1 completed\n",
      "c:\\Users\\GRAYBILLKB20\\OneDrive - Grove City College\\Sophomore Year\\FinanceData\\FinanceData\\FinanceDataHelper.py:102: FutureWarning: The behavior of DataFrame concatenation with empty or all-NA entries is deprecated. In a future version, this will no longer exclude empty or all-NA columns when determining the result dtypes. To retain the old behavior, exclude the relevant entries before the concat operation.\n",
      "  return new_append_df if output_df is None else pd.concat([output_df,new_append_df])\n"
     ]
    },
    {
     "name": "stdout",
     "output_type": "stream",
     "text": [
      "240\n"
     ]
    },
    {
     "name": "stderr",
     "output_type": "stream",
     "text": [
      "[*********************100%%**********************]  1 of 1 completed\n",
      "[*********************100%%**********************]  1 of 1 completed\n",
      "[*********************100%%**********************]  1 of 1 completed\n",
      "[*********************100%%**********************]  1 of 1 completed\n",
      "[*********************100%%**********************]  1 of 1 completed\n",
      "c:\\Users\\GRAYBILLKB20\\OneDrive - Grove City College\\Sophomore Year\\FinanceData\\FinanceData\\FinanceDataHelper.py:102: FutureWarning: The behavior of DataFrame concatenation with empty or all-NA entries is deprecated. In a future version, this will no longer exclude empty or all-NA columns when determining the result dtypes. To retain the old behavior, exclude the relevant entries before the concat operation.\n",
      "  return new_append_df if output_df is None else pd.concat([output_df,new_append_df])\n"
     ]
    },
    {
     "name": "stdout",
     "output_type": "stream",
     "text": [
      "241\n"
     ]
    },
    {
     "name": "stderr",
     "output_type": "stream",
     "text": [
      "[*********************100%%**********************]  1 of 1 completed\n",
      "[*********************100%%**********************]  1 of 1 completed\n",
      "[*********************100%%**********************]  1 of 1 completed\n",
      "[*********************100%%**********************]  1 of 1 completed\n",
      "[*********************100%%**********************]  1 of 1 completed\n",
      "c:\\Users\\GRAYBILLKB20\\OneDrive - Grove City College\\Sophomore Year\\FinanceData\\FinanceData\\FinanceDataHelper.py:102: FutureWarning: The behavior of DataFrame concatenation with empty or all-NA entries is deprecated. In a future version, this will no longer exclude empty or all-NA columns when determining the result dtypes. To retain the old behavior, exclude the relevant entries before the concat operation.\n",
      "  return new_append_df if output_df is None else pd.concat([output_df,new_append_df])\n"
     ]
    },
    {
     "name": "stdout",
     "output_type": "stream",
     "text": [
      "Index error retrieving data for HII stock on 2024-12-09 00:00:00: single positional indexer is out-of-bounds\n",
      "242\n"
     ]
    },
    {
     "name": "stderr",
     "output_type": "stream",
     "text": [
      "[*********************100%%**********************]  1 of 1 completed\n",
      "[*********************100%%**********************]  1 of 1 completed\n",
      "[*********************100%%**********************]  1 of 1 completed\n",
      "[*********************100%%**********************]  1 of 1 completed\n",
      "[*********************100%%**********************]  1 of 1 completed\n",
      "c:\\Users\\GRAYBILLKB20\\OneDrive - Grove City College\\Sophomore Year\\FinanceData\\FinanceData\\FinanceDataHelper.py:102: FutureWarning: The behavior of DataFrame concatenation with empty or all-NA entries is deprecated. In a future version, this will no longer exclude empty or all-NA columns when determining the result dtypes. To retain the old behavior, exclude the relevant entries before the concat operation.\n",
      "  return new_append_df if output_df is None else pd.concat([output_df,new_append_df])\n"
     ]
    },
    {
     "name": "stdout",
     "output_type": "stream",
     "text": [
      "243\n"
     ]
    },
    {
     "name": "stderr",
     "output_type": "stream",
     "text": [
      "[*********************100%%**********************]  1 of 1 completed\n",
      "[*********************100%%**********************]  1 of 1 completed\n",
      "[*********************100%%**********************]  1 of 1 completed\n",
      "[*********************100%%**********************]  1 of 1 completed\n",
      "[*********************100%%**********************]  1 of 1 completed\n",
      "c:\\Users\\GRAYBILLKB20\\OneDrive - Grove City College\\Sophomore Year\\FinanceData\\FinanceData\\FinanceDataHelper.py:102: FutureWarning: The behavior of DataFrame concatenation with empty or all-NA entries is deprecated. In a future version, this will no longer exclude empty or all-NA columns when determining the result dtypes. To retain the old behavior, exclude the relevant entries before the concat operation.\n",
      "  return new_append_df if output_df is None else pd.concat([output_df,new_append_df])\n"
     ]
    },
    {
     "name": "stdout",
     "output_type": "stream",
     "text": [
      "Index error retrieving data for IEX stock on 2024-12-09 00:00:00: single positional indexer is out-of-bounds\n",
      "244\n"
     ]
    },
    {
     "name": "stderr",
     "output_type": "stream",
     "text": [
      "[*********************100%%**********************]  1 of 1 completed\n",
      "[*********************100%%**********************]  1 of 1 completed\n",
      "[*********************100%%**********************]  1 of 1 completed\n",
      "[*********************100%%**********************]  1 of 1 completed\n",
      "[*********************100%%**********************]  1 of 1 completed\n",
      "c:\\Users\\GRAYBILLKB20\\OneDrive - Grove City College\\Sophomore Year\\FinanceData\\FinanceData\\FinanceDataHelper.py:102: FutureWarning: The behavior of DataFrame concatenation with empty or all-NA entries is deprecated. In a future version, this will no longer exclude empty or all-NA columns when determining the result dtypes. To retain the old behavior, exclude the relevant entries before the concat operation.\n",
      "  return new_append_df if output_df is None else pd.concat([output_df,new_append_df])\n"
     ]
    },
    {
     "name": "stdout",
     "output_type": "stream",
     "text": [
      "Index error retrieving data for IDXX stock on 2024-12-09 00:00:00: single positional indexer is out-of-bounds\n",
      "245\n"
     ]
    },
    {
     "name": "stderr",
     "output_type": "stream",
     "text": [
      "[*********************100%%**********************]  1 of 1 completed\n",
      "[*********************100%%**********************]  1 of 1 completed\n",
      "[*********************100%%**********************]  1 of 1 completed\n",
      "[*********************100%%**********************]  1 of 1 completed\n",
      "[*********************100%%**********************]  1 of 1 completed\n",
      "c:\\Users\\GRAYBILLKB20\\OneDrive - Grove City College\\Sophomore Year\\FinanceData\\FinanceData\\FinanceDataHelper.py:102: FutureWarning: The behavior of DataFrame concatenation with empty or all-NA entries is deprecated. In a future version, this will no longer exclude empty or all-NA columns when determining the result dtypes. To retain the old behavior, exclude the relevant entries before the concat operation.\n",
      "  return new_append_df if output_df is None else pd.concat([output_df,new_append_df])\n"
     ]
    },
    {
     "name": "stdout",
     "output_type": "stream",
     "text": [
      "246\n"
     ]
    },
    {
     "name": "stderr",
     "output_type": "stream",
     "text": [
      "[*********************100%%**********************]  1 of 1 completed\n",
      "[*********************100%%**********************]  1 of 1 completed\n",
      "[*********************100%%**********************]  1 of 1 completed\n",
      "[*********************100%%**********************]  1 of 1 completed\n",
      "[*********************100%%**********************]  1 of 1 completed\n",
      "c:\\Users\\GRAYBILLKB20\\OneDrive - Grove City College\\Sophomore Year\\FinanceData\\FinanceData\\FinanceDataHelper.py:102: FutureWarning: The behavior of DataFrame concatenation with empty or all-NA entries is deprecated. In a future version, this will no longer exclude empty or all-NA columns when determining the result dtypes. To retain the old behavior, exclude the relevant entries before the concat operation.\n",
      "  return new_append_df if output_df is None else pd.concat([output_df,new_append_df])\n"
     ]
    },
    {
     "name": "stdout",
     "output_type": "stream",
     "text": [
      "247\n"
     ]
    },
    {
     "name": "stderr",
     "output_type": "stream",
     "text": [
      "[*********************100%%**********************]  1 of 1 completed\n",
      "[*********************100%%**********************]  1 of 1 completed\n",
      "[*********************100%%**********************]  1 of 1 completed\n",
      "[*********************100%%**********************]  1 of 1 completed\n",
      "[*********************100%%**********************]  1 of 1 completed\n",
      "c:\\Users\\GRAYBILLKB20\\OneDrive - Grove City College\\Sophomore Year\\FinanceData\\FinanceData\\FinanceDataHelper.py:102: FutureWarning: The behavior of DataFrame concatenation with empty or all-NA entries is deprecated. In a future version, this will no longer exclude empty or all-NA columns when determining the result dtypes. To retain the old behavior, exclude the relevant entries before the concat operation.\n",
      "  return new_append_df if output_df is None else pd.concat([output_df,new_append_df])\n"
     ]
    },
    {
     "name": "stdout",
     "output_type": "stream",
     "text": [
      "248\n"
     ]
    },
    {
     "name": "stderr",
     "output_type": "stream",
     "text": [
      "[*********************100%%**********************]  1 of 1 completed\n",
      "[*********************100%%**********************]  1 of 1 completed\n",
      "[*********************100%%**********************]  1 of 1 completed\n",
      "[*********************100%%**********************]  1 of 1 completed\n",
      "[*********************100%%**********************]  1 of 1 completed\n",
      "c:\\Users\\GRAYBILLKB20\\OneDrive - Grove City College\\Sophomore Year\\FinanceData\\FinanceData\\FinanceDataHelper.py:102: FutureWarning: The behavior of DataFrame concatenation with empty or all-NA entries is deprecated. In a future version, this will no longer exclude empty or all-NA columns when determining the result dtypes. To retain the old behavior, exclude the relevant entries before the concat operation.\n",
      "  return new_append_df if output_df is None else pd.concat([output_df,new_append_df])\n"
     ]
    },
    {
     "name": "stdout",
     "output_type": "stream",
     "text": [
      "Index error retrieving data for PODD stock on 2024-12-09 00:00:00: single positional indexer is out-of-bounds\n",
      "249\n"
     ]
    },
    {
     "name": "stderr",
     "output_type": "stream",
     "text": [
      "[*********************100%%**********************]  1 of 1 completed\n",
      "[*********************100%%**********************]  1 of 1 completed\n",
      "[*********************100%%**********************]  1 of 1 completed\n",
      "[*********************100%%**********************]  1 of 1 completed\n",
      "[*********************100%%**********************]  1 of 1 completed\n",
      "c:\\Users\\GRAYBILLKB20\\OneDrive - Grove City College\\Sophomore Year\\FinanceData\\FinanceData\\FinanceDataHelper.py:102: FutureWarning: The behavior of DataFrame concatenation with empty or all-NA entries is deprecated. In a future version, this will no longer exclude empty or all-NA columns when determining the result dtypes. To retain the old behavior, exclude the relevant entries before the concat operation.\n",
      "  return new_append_df if output_df is None else pd.concat([output_df,new_append_df])\n"
     ]
    },
    {
     "name": "stdout",
     "output_type": "stream",
     "text": [
      "250\n"
     ]
    },
    {
     "name": "stderr",
     "output_type": "stream",
     "text": [
      "[*********************100%%**********************]  1 of 1 completed\n",
      "[*********************100%%**********************]  1 of 1 completed\n",
      "[*********************100%%**********************]  1 of 1 completed\n",
      "[*********************100%%**********************]  1 of 1 completed\n",
      "[*********************100%%**********************]  1 of 1 completed\n",
      "c:\\Users\\GRAYBILLKB20\\OneDrive - Grove City College\\Sophomore Year\\FinanceData\\FinanceData\\FinanceDataHelper.py:102: FutureWarning: The behavior of DataFrame concatenation with empty or all-NA entries is deprecated. In a future version, this will no longer exclude empty or all-NA columns when determining the result dtypes. To retain the old behavior, exclude the relevant entries before the concat operation.\n",
      "  return new_append_df if output_df is None else pd.concat([output_df,new_append_df])\n"
     ]
    },
    {
     "name": "stdout",
     "output_type": "stream",
     "text": [
      "251\n"
     ]
    },
    {
     "name": "stderr",
     "output_type": "stream",
     "text": [
      "[*********************100%%**********************]  1 of 1 completed\n",
      "[*********************100%%**********************]  1 of 1 completed\n",
      "[*********************100%%**********************]  1 of 1 completed\n",
      "[*********************100%%**********************]  1 of 1 completed\n",
      "[*********************100%%**********************]  1 of 1 completed\n",
      "c:\\Users\\GRAYBILLKB20\\OneDrive - Grove City College\\Sophomore Year\\FinanceData\\FinanceData\\FinanceDataHelper.py:102: FutureWarning: The behavior of DataFrame concatenation with empty or all-NA entries is deprecated. In a future version, this will no longer exclude empty or all-NA columns when determining the result dtypes. To retain the old behavior, exclude the relevant entries before the concat operation.\n",
      "  return new_append_df if output_df is None else pd.concat([output_df,new_append_df])\n"
     ]
    },
    {
     "name": "stdout",
     "output_type": "stream",
     "text": [
      "252\n"
     ]
    },
    {
     "name": "stderr",
     "output_type": "stream",
     "text": [
      "[*********************100%%**********************]  1 of 1 completed\n",
      "[*********************100%%**********************]  1 of 1 completed\n",
      "[*********************100%%**********************]  1 of 1 completed\n",
      "[*********************100%%**********************]  1 of 1 completed\n",
      "[*********************100%%**********************]  1 of 1 completed\n",
      "c:\\Users\\GRAYBILLKB20\\OneDrive - Grove City College\\Sophomore Year\\FinanceData\\FinanceData\\FinanceDataHelper.py:102: FutureWarning: The behavior of DataFrame concatenation with empty or all-NA entries is deprecated. In a future version, this will no longer exclude empty or all-NA columns when determining the result dtypes. To retain the old behavior, exclude the relevant entries before the concat operation.\n",
      "  return new_append_df if output_df is None else pd.concat([output_df,new_append_df])\n"
     ]
    },
    {
     "name": "stdout",
     "output_type": "stream",
     "text": [
      "253\n"
     ]
    },
    {
     "name": "stderr",
     "output_type": "stream",
     "text": [
      "[*********************100%%**********************]  1 of 1 completed\n",
      "[*********************100%%**********************]  1 of 1 completed\n",
      "[*********************100%%**********************]  1 of 1 completed\n",
      "[*********************100%%**********************]  1 of 1 completed\n",
      "[*********************100%%**********************]  1 of 1 completed\n",
      "c:\\Users\\GRAYBILLKB20\\OneDrive - Grove City College\\Sophomore Year\\FinanceData\\FinanceData\\FinanceDataHelper.py:102: FutureWarning: The behavior of DataFrame concatenation with empty or all-NA entries is deprecated. In a future version, this will no longer exclude empty or all-NA columns when determining the result dtypes. To retain the old behavior, exclude the relevant entries before the concat operation.\n",
      "  return new_append_df if output_df is None else pd.concat([output_df,new_append_df])\n"
     ]
    },
    {
     "name": "stdout",
     "output_type": "stream",
     "text": [
      "254\n"
     ]
    },
    {
     "name": "stderr",
     "output_type": "stream",
     "text": [
      "[*********************100%%**********************]  1 of 1 completed\n",
      "[*********************100%%**********************]  1 of 1 completed\n",
      "[*********************100%%**********************]  1 of 1 completed\n",
      "[*********************100%%**********************]  1 of 1 completed\n",
      "[*********************100%%**********************]  1 of 1 completed\n",
      "c:\\Users\\GRAYBILLKB20\\OneDrive - Grove City College\\Sophomore Year\\FinanceData\\FinanceData\\FinanceDataHelper.py:102: FutureWarning: The behavior of DataFrame concatenation with empty or all-NA entries is deprecated. In a future version, this will no longer exclude empty or all-NA columns when determining the result dtypes. To retain the old behavior, exclude the relevant entries before the concat operation.\n",
      "  return new_append_df if output_df is None else pd.concat([output_df,new_append_df])\n"
     ]
    },
    {
     "name": "stdout",
     "output_type": "stream",
     "text": [
      "255\n"
     ]
    },
    {
     "name": "stderr",
     "output_type": "stream",
     "text": [
      "[*********************100%%**********************]  1 of 1 completed\n",
      "[*********************100%%**********************]  1 of 1 completed\n",
      "[*********************100%%**********************]  1 of 1 completed\n",
      "[*********************100%%**********************]  1 of 1 completed\n",
      "[*********************100%%**********************]  1 of 1 completed\n",
      "c:\\Users\\GRAYBILLKB20\\OneDrive - Grove City College\\Sophomore Year\\FinanceData\\FinanceData\\FinanceDataHelper.py:102: FutureWarning: The behavior of DataFrame concatenation with empty or all-NA entries is deprecated. In a future version, this will no longer exclude empty or all-NA columns when determining the result dtypes. To retain the old behavior, exclude the relevant entries before the concat operation.\n",
      "  return new_append_df if output_df is None else pd.concat([output_df,new_append_df])\n"
     ]
    },
    {
     "name": "stdout",
     "output_type": "stream",
     "text": [
      "256\n"
     ]
    },
    {
     "name": "stderr",
     "output_type": "stream",
     "text": [
      "[*********************100%%**********************]  1 of 1 completed\n",
      "[*********************100%%**********************]  1 of 1 completed\n",
      "[*********************100%%**********************]  1 of 1 completed\n",
      "[*********************100%%**********************]  1 of 1 completed\n",
      "[*********************100%%**********************]  1 of 1 completed\n",
      "c:\\Users\\GRAYBILLKB20\\OneDrive - Grove City College\\Sophomore Year\\FinanceData\\FinanceData\\FinanceDataHelper.py:102: FutureWarning: The behavior of DataFrame concatenation with empty or all-NA entries is deprecated. In a future version, this will no longer exclude empty or all-NA columns when determining the result dtypes. To retain the old behavior, exclude the relevant entries before the concat operation.\n",
      "  return new_append_df if output_df is None else pd.concat([output_df,new_append_df])\n"
     ]
    },
    {
     "name": "stdout",
     "output_type": "stream",
     "text": [
      "257\n"
     ]
    },
    {
     "name": "stderr",
     "output_type": "stream",
     "text": [
      "[*********************100%%**********************]  1 of 1 completed\n",
      "[*********************100%%**********************]  1 of 1 completed\n",
      "[*********************100%%**********************]  1 of 1 completed\n",
      "[*********************100%%**********************]  1 of 1 completed\n",
      "[*********************100%%**********************]  1 of 1 completed\n",
      "c:\\Users\\GRAYBILLKB20\\OneDrive - Grove City College\\Sophomore Year\\FinanceData\\FinanceData\\FinanceDataHelper.py:102: FutureWarning: The behavior of DataFrame concatenation with empty or all-NA entries is deprecated. In a future version, this will no longer exclude empty or all-NA columns when determining the result dtypes. To retain the old behavior, exclude the relevant entries before the concat operation.\n",
      "  return new_append_df if output_df is None else pd.concat([output_df,new_append_df])\n"
     ]
    },
    {
     "name": "stdout",
     "output_type": "stream",
     "text": [
      "258\n"
     ]
    },
    {
     "name": "stderr",
     "output_type": "stream",
     "text": [
      "[*********************100%%**********************]  1 of 1 completed\n",
      "[*********************100%%**********************]  1 of 1 completed\n",
      "[*********************100%%**********************]  1 of 1 completed\n",
      "[*********************100%%**********************]  1 of 1 completed\n",
      "[*********************100%%**********************]  1 of 1 completed\n",
      "c:\\Users\\GRAYBILLKB20\\OneDrive - Grove City College\\Sophomore Year\\FinanceData\\FinanceData\\FinanceDataHelper.py:102: FutureWarning: The behavior of DataFrame concatenation with empty or all-NA entries is deprecated. In a future version, this will no longer exclude empty or all-NA columns when determining the result dtypes. To retain the old behavior, exclude the relevant entries before the concat operation.\n",
      "  return new_append_df if output_df is None else pd.concat([output_df,new_append_df])\n"
     ]
    },
    {
     "name": "stdout",
     "output_type": "stream",
     "text": [
      "259\n"
     ]
    },
    {
     "name": "stderr",
     "output_type": "stream",
     "text": [
      "[*********************100%%**********************]  1 of 1 completed\n",
      "[*********************100%%**********************]  1 of 1 completed\n",
      "[*********************100%%**********************]  1 of 1 completed\n",
      "[*********************100%%**********************]  1 of 1 completed\n",
      "[*********************100%%**********************]  1 of 1 completed\n",
      "c:\\Users\\GRAYBILLKB20\\OneDrive - Grove City College\\Sophomore Year\\FinanceData\\FinanceData\\FinanceDataHelper.py:102: FutureWarning: The behavior of DataFrame concatenation with empty or all-NA entries is deprecated. In a future version, this will no longer exclude empty or all-NA columns when determining the result dtypes. To retain the old behavior, exclude the relevant entries before the concat operation.\n",
      "  return new_append_df if output_df is None else pd.concat([output_df,new_append_df])\n"
     ]
    },
    {
     "name": "stdout",
     "output_type": "stream",
     "text": [
      "260\n"
     ]
    },
    {
     "name": "stderr",
     "output_type": "stream",
     "text": [
      "[*********************100%%**********************]  1 of 1 completed\n",
      "[*********************100%%**********************]  1 of 1 completed\n",
      "[*********************100%%**********************]  1 of 1 completed\n",
      "[*********************100%%**********************]  1 of 1 completed\n",
      "[*********************100%%**********************]  1 of 1 completed\n",
      "c:\\Users\\GRAYBILLKB20\\OneDrive - Grove City College\\Sophomore Year\\FinanceData\\FinanceData\\FinanceDataHelper.py:102: FutureWarning: The behavior of DataFrame concatenation with empty or all-NA entries is deprecated. In a future version, this will no longer exclude empty or all-NA columns when determining the result dtypes. To retain the old behavior, exclude the relevant entries before the concat operation.\n",
      "  return new_append_df if output_df is None else pd.concat([output_df,new_append_df])\n"
     ]
    },
    {
     "name": "stdout",
     "output_type": "stream",
     "text": [
      "Index error retrieving data for JBHT stock on 2024-12-09 00:00:00: single positional indexer is out-of-bounds\n",
      "261\n"
     ]
    },
    {
     "name": "stderr",
     "output_type": "stream",
     "text": [
      "[*********************100%%**********************]  1 of 1 completed\n",
      "[*********************100%%**********************]  1 of 1 completed\n",
      "[*********************100%%**********************]  1 of 1 completed\n",
      "[*********************100%%**********************]  1 of 1 completed\n",
      "[*********************100%%**********************]  1 of 1 completed\n",
      "c:\\Users\\GRAYBILLKB20\\OneDrive - Grove City College\\Sophomore Year\\FinanceData\\FinanceData\\FinanceDataHelper.py:102: FutureWarning: The behavior of DataFrame concatenation with empty or all-NA entries is deprecated. In a future version, this will no longer exclude empty or all-NA columns when determining the result dtypes. To retain the old behavior, exclude the relevant entries before the concat operation.\n",
      "  return new_append_df if output_df is None else pd.concat([output_df,new_append_df])\n"
     ]
    },
    {
     "name": "stdout",
     "output_type": "stream",
     "text": [
      "Index error retrieving data for JBL stock on 2024-12-09 00:00:00: single positional indexer is out-of-bounds\n",
      "262\n"
     ]
    },
    {
     "name": "stderr",
     "output_type": "stream",
     "text": [
      "[*********************100%%**********************]  1 of 1 completed\n",
      "[*********************100%%**********************]  1 of 1 completed\n",
      "[*********************100%%**********************]  1 of 1 completed\n",
      "[*********************100%%**********************]  1 of 1 completed\n",
      "[*********************100%%**********************]  1 of 1 completed\n",
      "c:\\Users\\GRAYBILLKB20\\OneDrive - Grove City College\\Sophomore Year\\FinanceData\\FinanceData\\FinanceDataHelper.py:102: FutureWarning: The behavior of DataFrame concatenation with empty or all-NA entries is deprecated. In a future version, this will no longer exclude empty or all-NA columns when determining the result dtypes. To retain the old behavior, exclude the relevant entries before the concat operation.\n",
      "  return new_append_df if output_df is None else pd.concat([output_df,new_append_df])\n"
     ]
    },
    {
     "name": "stdout",
     "output_type": "stream",
     "text": [
      "Index error retrieving data for JKHY stock on 2024-12-09 00:00:00: single positional indexer is out-of-bounds\n",
      "263\n"
     ]
    },
    {
     "name": "stderr",
     "output_type": "stream",
     "text": [
      "[*********************100%%**********************]  1 of 1 completed\n",
      "[*********************100%%**********************]  1 of 1 completed\n",
      "[*********************100%%**********************]  1 of 1 completed\n",
      "[*********************100%%**********************]  1 of 1 completed\n",
      "[*********************100%%**********************]  1 of 1 completed\n",
      "c:\\Users\\GRAYBILLKB20\\OneDrive - Grove City College\\Sophomore Year\\FinanceData\\FinanceData\\FinanceDataHelper.py:102: FutureWarning: The behavior of DataFrame concatenation with empty or all-NA entries is deprecated. In a future version, this will no longer exclude empty or all-NA columns when determining the result dtypes. To retain the old behavior, exclude the relevant entries before the concat operation.\n",
      "  return new_append_df if output_df is None else pd.concat([output_df,new_append_df])\n"
     ]
    },
    {
     "name": "stdout",
     "output_type": "stream",
     "text": [
      "Index error retrieving data for J stock on 2024-12-09 00:00:00: single positional indexer is out-of-bounds\n",
      "264\n"
     ]
    },
    {
     "name": "stderr",
     "output_type": "stream",
     "text": [
      "[*********************100%%**********************]  1 of 1 completed\n",
      "[*********************100%%**********************]  1 of 1 completed\n",
      "[*********************100%%**********************]  1 of 1 completed\n",
      "[*********************100%%**********************]  1 of 1 completed\n",
      "[*********************100%%**********************]  1 of 1 completed\n",
      "c:\\Users\\GRAYBILLKB20\\OneDrive - Grove City College\\Sophomore Year\\FinanceData\\FinanceData\\FinanceDataHelper.py:102: FutureWarning: The behavior of DataFrame concatenation with empty or all-NA entries is deprecated. In a future version, this will no longer exclude empty or all-NA columns when determining the result dtypes. To retain the old behavior, exclude the relevant entries before the concat operation.\n",
      "  return new_append_df if output_df is None else pd.concat([output_df,new_append_df])\n"
     ]
    },
    {
     "name": "stdout",
     "output_type": "stream",
     "text": [
      "265\n"
     ]
    },
    {
     "name": "stderr",
     "output_type": "stream",
     "text": [
      "[*********************100%%**********************]  1 of 1 completed\n",
      "[*********************100%%**********************]  1 of 1 completed\n",
      "[*********************100%%**********************]  1 of 1 completed\n",
      "[*********************100%%**********************]  1 of 1 completed\n",
      "[*********************100%%**********************]  1 of 1 completed\n",
      "c:\\Users\\GRAYBILLKB20\\OneDrive - Grove City College\\Sophomore Year\\FinanceData\\FinanceData\\FinanceDataHelper.py:102: FutureWarning: The behavior of DataFrame concatenation with empty or all-NA entries is deprecated. In a future version, this will no longer exclude empty or all-NA columns when determining the result dtypes. To retain the old behavior, exclude the relevant entries before the concat operation.\n",
      "  return new_append_df if output_df is None else pd.concat([output_df,new_append_df])\n"
     ]
    },
    {
     "name": "stdout",
     "output_type": "stream",
     "text": [
      "266\n"
     ]
    },
    {
     "name": "stderr",
     "output_type": "stream",
     "text": [
      "[*********************100%%**********************]  1 of 1 completed\n",
      "[*********************100%%**********************]  1 of 1 completed\n",
      "[*********************100%%**********************]  1 of 1 completed\n",
      "[*********************100%%**********************]  1 of 1 completed\n",
      "[*********************100%%**********************]  1 of 1 completed\n",
      "c:\\Users\\GRAYBILLKB20\\OneDrive - Grove City College\\Sophomore Year\\FinanceData\\FinanceData\\FinanceDataHelper.py:102: FutureWarning: The behavior of DataFrame concatenation with empty or all-NA entries is deprecated. In a future version, this will no longer exclude empty or all-NA columns when determining the result dtypes. To retain the old behavior, exclude the relevant entries before the concat operation.\n",
      "  return new_append_df if output_df is None else pd.concat([output_df,new_append_df])\n"
     ]
    },
    {
     "name": "stdout",
     "output_type": "stream",
     "text": [
      "267\n"
     ]
    },
    {
     "name": "stderr",
     "output_type": "stream",
     "text": [
      "[*********************100%%**********************]  1 of 1 completed\n",
      "[*********************100%%**********************]  1 of 1 completed\n",
      "[*********************100%%**********************]  1 of 1 completed\n",
      "[*********************100%%**********************]  1 of 1 completed\n",
      "[*********************100%%**********************]  1 of 1 completed\n",
      "c:\\Users\\GRAYBILLKB20\\OneDrive - Grove City College\\Sophomore Year\\FinanceData\\FinanceData\\FinanceDataHelper.py:102: FutureWarning: The behavior of DataFrame concatenation with empty or all-NA entries is deprecated. In a future version, this will no longer exclude empty or all-NA columns when determining the result dtypes. To retain the old behavior, exclude the relevant entries before the concat operation.\n",
      "  return new_append_df if output_df is None else pd.concat([output_df,new_append_df])\n"
     ]
    },
    {
     "name": "stdout",
     "output_type": "stream",
     "text": [
      "268\n"
     ]
    },
    {
     "name": "stderr",
     "output_type": "stream",
     "text": [
      "[*********************100%%**********************]  1 of 1 completed\n",
      "[*********************100%%**********************]  1 of 1 completed\n",
      "[*********************100%%**********************]  1 of 1 completed\n",
      "[*********************100%%**********************]  1 of 1 completed\n",
      "[*********************100%%**********************]  1 of 1 completed\n",
      "c:\\Users\\GRAYBILLKB20\\OneDrive - Grove City College\\Sophomore Year\\FinanceData\\FinanceData\\FinanceDataHelper.py:102: FutureWarning: The behavior of DataFrame concatenation with empty or all-NA entries is deprecated. In a future version, this will no longer exclude empty or all-NA columns when determining the result dtypes. To retain the old behavior, exclude the relevant entries before the concat operation.\n",
      "  return new_append_df if output_df is None else pd.concat([output_df,new_append_df])\n"
     ]
    },
    {
     "name": "stdout",
     "output_type": "stream",
     "text": [
      "269\n"
     ]
    },
    {
     "name": "stderr",
     "output_type": "stream",
     "text": [
      "[*********************100%%**********************]  1 of 1 completed\n",
      "[*********************100%%**********************]  1 of 1 completed\n",
      "[*********************100%%**********************]  1 of 1 completed\n",
      "[*********************100%%**********************]  1 of 1 completed\n",
      "[*********************100%%**********************]  1 of 1 completed\n",
      "c:\\Users\\GRAYBILLKB20\\OneDrive - Grove City College\\Sophomore Year\\FinanceData\\FinanceData\\FinanceDataHelper.py:102: FutureWarning: The behavior of DataFrame concatenation with empty or all-NA entries is deprecated. In a future version, this will no longer exclude empty or all-NA columns when determining the result dtypes. To retain the old behavior, exclude the relevant entries before the concat operation.\n",
      "  return new_append_df if output_df is None else pd.concat([output_df,new_append_df])\n"
     ]
    },
    {
     "name": "stdout",
     "output_type": "stream",
     "text": [
      "270\n"
     ]
    },
    {
     "name": "stderr",
     "output_type": "stream",
     "text": [
      "[*********************100%%**********************]  1 of 1 completed\n",
      "[*********************100%%**********************]  1 of 1 completed\n",
      "[*********************100%%**********************]  1 of 1 completed\n",
      "[*********************100%%**********************]  1 of 1 completed\n",
      "[*********************100%%**********************]  1 of 1 completed\n",
      "c:\\Users\\GRAYBILLKB20\\OneDrive - Grove City College\\Sophomore Year\\FinanceData\\FinanceData\\FinanceDataHelper.py:102: FutureWarning: The behavior of DataFrame concatenation with empty or all-NA entries is deprecated. In a future version, this will no longer exclude empty or all-NA columns when determining the result dtypes. To retain the old behavior, exclude the relevant entries before the concat operation.\n",
      "  return new_append_df if output_df is None else pd.concat([output_df,new_append_df])\n"
     ]
    },
    {
     "name": "stdout",
     "output_type": "stream",
     "text": [
      "271\n"
     ]
    },
    {
     "name": "stderr",
     "output_type": "stream",
     "text": [
      "[*********************100%%**********************]  1 of 1 completed\n",
      "[*********************100%%**********************]  1 of 1 completed\n",
      "[*********************100%%**********************]  1 of 1 completed\n",
      "[*********************100%%**********************]  1 of 1 completed\n",
      "[*********************100%%**********************]  1 of 1 completed\n",
      "c:\\Users\\GRAYBILLKB20\\OneDrive - Grove City College\\Sophomore Year\\FinanceData\\FinanceData\\FinanceDataHelper.py:102: FutureWarning: The behavior of DataFrame concatenation with empty or all-NA entries is deprecated. In a future version, this will no longer exclude empty or all-NA columns when determining the result dtypes. To retain the old behavior, exclude the relevant entries before the concat operation.\n",
      "  return new_append_df if output_df is None else pd.concat([output_df,new_append_df])\n"
     ]
    },
    {
     "name": "stdout",
     "output_type": "stream",
     "text": [
      "272\n"
     ]
    },
    {
     "name": "stderr",
     "output_type": "stream",
     "text": [
      "[*********************100%%**********************]  1 of 1 completed\n",
      "[*********************100%%**********************]  1 of 1 completed\n",
      "[*********************100%%**********************]  1 of 1 completed\n",
      "[*********************100%%**********************]  1 of 1 completed\n",
      "[*********************100%%**********************]  1 of 1 completed\n",
      "c:\\Users\\GRAYBILLKB20\\OneDrive - Grove City College\\Sophomore Year\\FinanceData\\FinanceData\\FinanceDataHelper.py:102: FutureWarning: The behavior of DataFrame concatenation with empty or all-NA entries is deprecated. In a future version, this will no longer exclude empty or all-NA columns when determining the result dtypes. To retain the old behavior, exclude the relevant entries before the concat operation.\n",
      "  return new_append_df if output_df is None else pd.concat([output_df,new_append_df])\n"
     ]
    },
    {
     "name": "stdout",
     "output_type": "stream",
     "text": [
      "273\n"
     ]
    },
    {
     "name": "stderr",
     "output_type": "stream",
     "text": [
      "[*********************100%%**********************]  1 of 1 completed\n",
      "[*********************100%%**********************]  1 of 1 completed\n",
      "[*********************100%%**********************]  1 of 1 completed\n",
      "[*********************100%%**********************]  1 of 1 completed\n",
      "[*********************100%%**********************]  1 of 1 completed\n",
      "c:\\Users\\GRAYBILLKB20\\OneDrive - Grove City College\\Sophomore Year\\FinanceData\\FinanceData\\FinanceDataHelper.py:102: FutureWarning: The behavior of DataFrame concatenation with empty or all-NA entries is deprecated. In a future version, this will no longer exclude empty or all-NA columns when determining the result dtypes. To retain the old behavior, exclude the relevant entries before the concat operation.\n",
      "  return new_append_df if output_df is None else pd.concat([output_df,new_append_df])\n"
     ]
    },
    {
     "name": "stdout",
     "output_type": "stream",
     "text": [
      "274\n"
     ]
    },
    {
     "name": "stderr",
     "output_type": "stream",
     "text": [
      "[*********************100%%**********************]  1 of 1 completed\n",
      "[*********************100%%**********************]  1 of 1 completed\n",
      "[*********************100%%**********************]  1 of 1 completed\n",
      "[*********************100%%**********************]  1 of 1 completed\n",
      "[*********************100%%**********************]  1 of 1 completed\n",
      "c:\\Users\\GRAYBILLKB20\\OneDrive - Grove City College\\Sophomore Year\\FinanceData\\FinanceData\\FinanceDataHelper.py:102: FutureWarning: The behavior of DataFrame concatenation with empty or all-NA entries is deprecated. In a future version, this will no longer exclude empty or all-NA columns when determining the result dtypes. To retain the old behavior, exclude the relevant entries before the concat operation.\n",
      "  return new_append_df if output_df is None else pd.concat([output_df,new_append_df])\n"
     ]
    },
    {
     "name": "stdout",
     "output_type": "stream",
     "text": [
      "275\n"
     ]
    },
    {
     "name": "stderr",
     "output_type": "stream",
     "text": [
      "[*********************100%%**********************]  1 of 1 completed\n",
      "[*********************100%%**********************]  1 of 1 completed\n",
      "[*********************100%%**********************]  1 of 1 completed\n",
      "[*********************100%%**********************]  1 of 1 completed\n",
      "[*********************100%%**********************]  1 of 1 completed\n",
      "c:\\Users\\GRAYBILLKB20\\OneDrive - Grove City College\\Sophomore Year\\FinanceData\\FinanceData\\FinanceDataHelper.py:102: FutureWarning: The behavior of DataFrame concatenation with empty or all-NA entries is deprecated. In a future version, this will no longer exclude empty or all-NA columns when determining the result dtypes. To retain the old behavior, exclude the relevant entries before the concat operation.\n",
      "  return new_append_df if output_df is None else pd.concat([output_df,new_append_df])\n"
     ]
    },
    {
     "name": "stdout",
     "output_type": "stream",
     "text": [
      "276\n"
     ]
    },
    {
     "name": "stderr",
     "output_type": "stream",
     "text": [
      "[*********************100%%**********************]  1 of 1 completed\n",
      "[*********************100%%**********************]  1 of 1 completed\n",
      "[*********************100%%**********************]  1 of 1 completed\n",
      "[*********************100%%**********************]  1 of 1 completed\n",
      "[*********************100%%**********************]  1 of 1 completed\n",
      "c:\\Users\\GRAYBILLKB20\\OneDrive - Grove City College\\Sophomore Year\\FinanceData\\FinanceData\\FinanceDataHelper.py:102: FutureWarning: The behavior of DataFrame concatenation with empty or all-NA entries is deprecated. In a future version, this will no longer exclude empty or all-NA columns when determining the result dtypes. To retain the old behavior, exclude the relevant entries before the concat operation.\n",
      "  return new_append_df if output_df is None else pd.concat([output_df,new_append_df])\n"
     ]
    },
    {
     "name": "stdout",
     "output_type": "stream",
     "text": [
      "277\n"
     ]
    },
    {
     "name": "stderr",
     "output_type": "stream",
     "text": [
      "[*********************100%%**********************]  1 of 1 completed\n",
      "[*********************100%%**********************]  1 of 1 completed\n",
      "[*********************100%%**********************]  1 of 1 completed\n",
      "[*********************100%%**********************]  1 of 1 completed\n",
      "[*********************100%%**********************]  1 of 1 completed\n",
      "c:\\Users\\GRAYBILLKB20\\OneDrive - Grove City College\\Sophomore Year\\FinanceData\\FinanceData\\FinanceDataHelper.py:102: FutureWarning: The behavior of DataFrame concatenation with empty or all-NA entries is deprecated. In a future version, this will no longer exclude empty or all-NA columns when determining the result dtypes. To retain the old behavior, exclude the relevant entries before the concat operation.\n",
      "  return new_append_df if output_df is None else pd.concat([output_df,new_append_df])\n"
     ]
    },
    {
     "name": "stdout",
     "output_type": "stream",
     "text": [
      "Index error retrieving data for KLAC stock on 2024-12-09 00:00:00: single positional indexer is out-of-bounds\n",
      "278\n"
     ]
    },
    {
     "name": "stderr",
     "output_type": "stream",
     "text": [
      "[*********************100%%**********************]  1 of 1 completed\n",
      "[*********************100%%**********************]  1 of 1 completed\n",
      "[*********************100%%**********************]  1 of 1 completed\n",
      "[*********************100%%**********************]  1 of 1 completed\n",
      "[*********************100%%**********************]  1 of 1 completed\n",
      "c:\\Users\\GRAYBILLKB20\\OneDrive - Grove City College\\Sophomore Year\\FinanceData\\FinanceData\\FinanceDataHelper.py:102: FutureWarning: The behavior of DataFrame concatenation with empty or all-NA entries is deprecated. In a future version, this will no longer exclude empty or all-NA columns when determining the result dtypes. To retain the old behavior, exclude the relevant entries before the concat operation.\n",
      "  return new_append_df if output_df is None else pd.concat([output_df,new_append_df])\n"
     ]
    },
    {
     "name": "stdout",
     "output_type": "stream",
     "text": [
      "279\n"
     ]
    },
    {
     "name": "stderr",
     "output_type": "stream",
     "text": [
      "[*********************100%%**********************]  1 of 1 completed\n",
      "[*********************100%%**********************]  1 of 1 completed\n",
      "[*********************100%%**********************]  1 of 1 completed\n",
      "[*********************100%%**********************]  1 of 1 completed\n",
      "[*********************100%%**********************]  1 of 1 completed\n",
      "c:\\Users\\GRAYBILLKB20\\OneDrive - Grove City College\\Sophomore Year\\FinanceData\\FinanceData\\FinanceDataHelper.py:102: FutureWarning: The behavior of DataFrame concatenation with empty or all-NA entries is deprecated. In a future version, this will no longer exclude empty or all-NA columns when determining the result dtypes. To retain the old behavior, exclude the relevant entries before the concat operation.\n",
      "  return new_append_df if output_df is None else pd.concat([output_df,new_append_df])\n"
     ]
    },
    {
     "name": "stdout",
     "output_type": "stream",
     "text": [
      "280\n"
     ]
    },
    {
     "name": "stderr",
     "output_type": "stream",
     "text": [
      "[*********************100%%**********************]  1 of 1 completed\n",
      "[*********************100%%**********************]  1 of 1 completed\n",
      "[*********************100%%**********************]  1 of 1 completed\n",
      "[*********************100%%**********************]  1 of 1 completed\n",
      "[*********************100%%**********************]  1 of 1 completed\n",
      "c:\\Users\\GRAYBILLKB20\\OneDrive - Grove City College\\Sophomore Year\\FinanceData\\FinanceData\\FinanceDataHelper.py:102: FutureWarning: The behavior of DataFrame concatenation with empty or all-NA entries is deprecated. In a future version, this will no longer exclude empty or all-NA columns when determining the result dtypes. To retain the old behavior, exclude the relevant entries before the concat operation.\n",
      "  return new_append_df if output_df is None else pd.concat([output_df,new_append_df])\n"
     ]
    },
    {
     "name": "stdout",
     "output_type": "stream",
     "text": [
      "281\n"
     ]
    },
    {
     "name": "stderr",
     "output_type": "stream",
     "text": [
      "[*********************100%%**********************]  1 of 1 completed\n",
      "[*********************100%%**********************]  1 of 1 completed\n",
      "[*********************100%%**********************]  1 of 1 completed\n",
      "[*********************100%%**********************]  1 of 1 completed\n",
      "[*********************100%%**********************]  1 of 1 completed\n",
      "c:\\Users\\GRAYBILLKB20\\OneDrive - Grove City College\\Sophomore Year\\FinanceData\\FinanceData\\FinanceDataHelper.py:102: FutureWarning: The behavior of DataFrame concatenation with empty or all-NA entries is deprecated. In a future version, this will no longer exclude empty or all-NA columns when determining the result dtypes. To retain the old behavior, exclude the relevant entries before the concat operation.\n",
      "  return new_append_df if output_df is None else pd.concat([output_df,new_append_df])\n"
     ]
    },
    {
     "name": "stdout",
     "output_type": "stream",
     "text": [
      "Index error retrieving data for LH stock on 2024-12-09 00:00:00: single positional indexer is out-of-bounds\n",
      "282\n"
     ]
    },
    {
     "name": "stderr",
     "output_type": "stream",
     "text": [
      "[*********************100%%**********************]  1 of 1 completed\n",
      "[*********************100%%**********************]  1 of 1 completed\n",
      "[*********************100%%**********************]  1 of 1 completed\n",
      "[*********************100%%**********************]  1 of 1 completed\n",
      "[*********************100%%**********************]  1 of 1 completed\n",
      "c:\\Users\\GRAYBILLKB20\\OneDrive - Grove City College\\Sophomore Year\\FinanceData\\FinanceData\\FinanceDataHelper.py:102: FutureWarning: The behavior of DataFrame concatenation with empty or all-NA entries is deprecated. In a future version, this will no longer exclude empty or all-NA columns when determining the result dtypes. To retain the old behavior, exclude the relevant entries before the concat operation.\n",
      "  return new_append_df if output_df is None else pd.concat([output_df,new_append_df])\n"
     ]
    },
    {
     "name": "stdout",
     "output_type": "stream",
     "text": [
      "283\n"
     ]
    },
    {
     "name": "stderr",
     "output_type": "stream",
     "text": [
      "[*********************100%%**********************]  1 of 1 completed\n",
      "[*********************100%%**********************]  1 of 1 completed\n",
      "[*********************100%%**********************]  1 of 1 completed\n",
      "[*********************100%%**********************]  1 of 1 completed\n",
      "[*********************100%%**********************]  1 of 1 completed\n",
      "c:\\Users\\GRAYBILLKB20\\OneDrive - Grove City College\\Sophomore Year\\FinanceData\\FinanceData\\FinanceDataHelper.py:102: FutureWarning: The behavior of DataFrame concatenation with empty or all-NA entries is deprecated. In a future version, this will no longer exclude empty or all-NA columns when determining the result dtypes. To retain the old behavior, exclude the relevant entries before the concat operation.\n",
      "  return new_append_df if output_df is None else pd.concat([output_df,new_append_df])\n"
     ]
    },
    {
     "name": "stdout",
     "output_type": "stream",
     "text": [
      "284\n"
     ]
    },
    {
     "name": "stderr",
     "output_type": "stream",
     "text": [
      "[*********************100%%**********************]  1 of 1 completed\n",
      "[*********************100%%**********************]  1 of 1 completed\n",
      "[*********************100%%**********************]  1 of 1 completed\n",
      "[*********************100%%**********************]  1 of 1 completed\n",
      "[*********************100%%**********************]  1 of 1 completed\n",
      "c:\\Users\\GRAYBILLKB20\\OneDrive - Grove City College\\Sophomore Year\\FinanceData\\FinanceData\\FinanceDataHelper.py:102: FutureWarning: The behavior of DataFrame concatenation with empty or all-NA entries is deprecated. In a future version, this will no longer exclude empty or all-NA columns when determining the result dtypes. To retain the old behavior, exclude the relevant entries before the concat operation.\n",
      "  return new_append_df if output_df is None else pd.concat([output_df,new_append_df])\n"
     ]
    },
    {
     "name": "stdout",
     "output_type": "stream",
     "text": [
      "285\n"
     ]
    },
    {
     "name": "stderr",
     "output_type": "stream",
     "text": [
      "[*********************100%%**********************]  1 of 1 completed\n",
      "[*********************100%%**********************]  1 of 1 completed\n",
      "[*********************100%%**********************]  1 of 1 completed\n",
      "[*********************100%%**********************]  1 of 1 completed\n",
      "[*********************100%%**********************]  1 of 1 completed\n",
      "c:\\Users\\GRAYBILLKB20\\OneDrive - Grove City College\\Sophomore Year\\FinanceData\\FinanceData\\FinanceDataHelper.py:102: FutureWarning: The behavior of DataFrame concatenation with empty or all-NA entries is deprecated. In a future version, this will no longer exclude empty or all-NA columns when determining the result dtypes. To retain the old behavior, exclude the relevant entries before the concat operation.\n",
      "  return new_append_df if output_df is None else pd.concat([output_df,new_append_df])\n"
     ]
    },
    {
     "name": "stdout",
     "output_type": "stream",
     "text": [
      "286\n"
     ]
    },
    {
     "name": "stderr",
     "output_type": "stream",
     "text": [
      "[*********************100%%**********************]  1 of 1 completed\n",
      "[*********************100%%**********************]  1 of 1 completed\n",
      "[*********************100%%**********************]  1 of 1 completed\n",
      "[*********************100%%**********************]  1 of 1 completed\n",
      "[*********************100%%**********************]  1 of 1 completed\n",
      "c:\\Users\\GRAYBILLKB20\\OneDrive - Grove City College\\Sophomore Year\\FinanceData\\FinanceData\\FinanceDataHelper.py:102: FutureWarning: The behavior of DataFrame concatenation with empty or all-NA entries is deprecated. In a future version, this will no longer exclude empty or all-NA columns when determining the result dtypes. To retain the old behavior, exclude the relevant entries before the concat operation.\n",
      "  return new_append_df if output_df is None else pd.concat([output_df,new_append_df])\n"
     ]
    },
    {
     "name": "stdout",
     "output_type": "stream",
     "text": [
      "287\n"
     ]
    },
    {
     "name": "stderr",
     "output_type": "stream",
     "text": [
      "[*********************100%%**********************]  1 of 1 completed\n",
      "[*********************100%%**********************]  1 of 1 completed\n",
      "[*********************100%%**********************]  1 of 1 completed\n",
      "[*********************100%%**********************]  1 of 1 completed\n",
      "[*********************100%%**********************]  1 of 1 completed\n",
      "c:\\Users\\GRAYBILLKB20\\OneDrive - Grove City College\\Sophomore Year\\FinanceData\\FinanceData\\FinanceDataHelper.py:102: FutureWarning: The behavior of DataFrame concatenation with empty or all-NA entries is deprecated. In a future version, this will no longer exclude empty or all-NA columns when determining the result dtypes. To retain the old behavior, exclude the relevant entries before the concat operation.\n",
      "  return new_append_df if output_df is None else pd.concat([output_df,new_append_df])\n"
     ]
    },
    {
     "name": "stdout",
     "output_type": "stream",
     "text": [
      "Index error retrieving data for LII stock on 2024-12-10 00:00:00: single positional indexer is out-of-bounds\n",
      "Index error retrieving data for LII stock on 2024-12-09 00:00:00: single positional indexer is out-of-bounds\n",
      "288\n"
     ]
    },
    {
     "name": "stderr",
     "output_type": "stream",
     "text": [
      "[*********************100%%**********************]  1 of 1 completed\n",
      "[*********************100%%**********************]  1 of 1 completed\n",
      "[*********************100%%**********************]  1 of 1 completed\n",
      "[*********************100%%**********************]  1 of 1 completed\n",
      "[*********************100%%**********************]  1 of 1 completed\n",
      "c:\\Users\\GRAYBILLKB20\\OneDrive - Grove City College\\Sophomore Year\\FinanceData\\FinanceData\\FinanceDataHelper.py:102: FutureWarning: The behavior of DataFrame concatenation with empty or all-NA entries is deprecated. In a future version, this will no longer exclude empty or all-NA columns when determining the result dtypes. To retain the old behavior, exclude the relevant entries before the concat operation.\n",
      "  return new_append_df if output_df is None else pd.concat([output_df,new_append_df])\n"
     ]
    },
    {
     "name": "stdout",
     "output_type": "stream",
     "text": [
      "289\n"
     ]
    },
    {
     "name": "stderr",
     "output_type": "stream",
     "text": [
      "[*********************100%%**********************]  1 of 1 completed\n",
      "[*********************100%%**********************]  1 of 1 completed\n",
      "[*********************100%%**********************]  1 of 1 completed\n",
      "[*********************100%%**********************]  1 of 1 completed\n",
      "[*********************100%%**********************]  1 of 1 completed\n",
      "c:\\Users\\GRAYBILLKB20\\OneDrive - Grove City College\\Sophomore Year\\FinanceData\\FinanceData\\FinanceDataHelper.py:102: FutureWarning: The behavior of DataFrame concatenation with empty or all-NA entries is deprecated. In a future version, this will no longer exclude empty or all-NA columns when determining the result dtypes. To retain the old behavior, exclude the relevant entries before the concat operation.\n",
      "  return new_append_df if output_df is None else pd.concat([output_df,new_append_df])\n"
     ]
    },
    {
     "name": "stdout",
     "output_type": "stream",
     "text": [
      "290\n"
     ]
    },
    {
     "name": "stderr",
     "output_type": "stream",
     "text": [
      "[*********************100%%**********************]  1 of 1 completed\n",
      "[*********************100%%**********************]  1 of 1 completed\n",
      "[*********************100%%**********************]  1 of 1 completed\n",
      "[*********************100%%**********************]  1 of 1 completed\n",
      "[*********************100%%**********************]  1 of 1 completed\n",
      "c:\\Users\\GRAYBILLKB20\\OneDrive - Grove City College\\Sophomore Year\\FinanceData\\FinanceData\\FinanceDataHelper.py:102: FutureWarning: The behavior of DataFrame concatenation with empty or all-NA entries is deprecated. In a future version, this will no longer exclude empty or all-NA columns when determining the result dtypes. To retain the old behavior, exclude the relevant entries before the concat operation.\n",
      "  return new_append_df if output_df is None else pd.concat([output_df,new_append_df])\n"
     ]
    },
    {
     "name": "stdout",
     "output_type": "stream",
     "text": [
      "291\n"
     ]
    },
    {
     "name": "stderr",
     "output_type": "stream",
     "text": [
      "[*********************100%%**********************]  1 of 1 completed\n",
      "[*********************100%%**********************]  1 of 1 completed\n",
      "[*********************100%%**********************]  1 of 1 completed\n",
      "[*********************100%%**********************]  1 of 1 completed\n",
      "[*********************100%%**********************]  1 of 1 completed\n",
      "c:\\Users\\GRAYBILLKB20\\OneDrive - Grove City College\\Sophomore Year\\FinanceData\\FinanceData\\FinanceDataHelper.py:102: FutureWarning: The behavior of DataFrame concatenation with empty or all-NA entries is deprecated. In a future version, this will no longer exclude empty or all-NA columns when determining the result dtypes. To retain the old behavior, exclude the relevant entries before the concat operation.\n",
      "  return new_append_df if output_df is None else pd.concat([output_df,new_append_df])\n"
     ]
    },
    {
     "name": "stdout",
     "output_type": "stream",
     "text": [
      "292\n"
     ]
    },
    {
     "name": "stderr",
     "output_type": "stream",
     "text": [
      "[*********************100%%**********************]  1 of 1 completed\n",
      "[*********************100%%**********************]  1 of 1 completed\n",
      "[*********************100%%**********************]  1 of 1 completed\n",
      "[*********************100%%**********************]  1 of 1 completed\n",
      "[*********************100%%**********************]  1 of 1 completed\n",
      "c:\\Users\\GRAYBILLKB20\\OneDrive - Grove City College\\Sophomore Year\\FinanceData\\FinanceData\\FinanceDataHelper.py:102: FutureWarning: The behavior of DataFrame concatenation with empty or all-NA entries is deprecated. In a future version, this will no longer exclude empty or all-NA columns when determining the result dtypes. To retain the old behavior, exclude the relevant entries before the concat operation.\n",
      "  return new_append_df if output_df is None else pd.concat([output_df,new_append_df])\n"
     ]
    },
    {
     "name": "stdout",
     "output_type": "stream",
     "text": [
      "293\n"
     ]
    },
    {
     "name": "stderr",
     "output_type": "stream",
     "text": [
      "[*********************100%%**********************]  1 of 1 completed\n",
      "[*********************100%%**********************]  1 of 1 completed\n",
      "[*********************100%%**********************]  1 of 1 completed\n",
      "[*********************100%%**********************]  1 of 1 completed\n",
      "[*********************100%%**********************]  1 of 1 completed\n",
      "c:\\Users\\GRAYBILLKB20\\OneDrive - Grove City College\\Sophomore Year\\FinanceData\\FinanceData\\FinanceDataHelper.py:102: FutureWarning: The behavior of DataFrame concatenation with empty or all-NA entries is deprecated. In a future version, this will no longer exclude empty or all-NA columns when determining the result dtypes. To retain the old behavior, exclude the relevant entries before the concat operation.\n",
      "  return new_append_df if output_df is None else pd.concat([output_df,new_append_df])\n"
     ]
    },
    {
     "name": "stdout",
     "output_type": "stream",
     "text": [
      "294\n"
     ]
    },
    {
     "name": "stderr",
     "output_type": "stream",
     "text": [
      "[*********************100%%**********************]  1 of 1 completed\n",
      "[*********************100%%**********************]  1 of 1 completed\n",
      "[*********************100%%**********************]  1 of 1 completed\n",
      "[*********************100%%**********************]  1 of 1 completed\n",
      "[*********************100%%**********************]  1 of 1 completed\n",
      "c:\\Users\\GRAYBILLKB20\\OneDrive - Grove City College\\Sophomore Year\\FinanceData\\FinanceData\\FinanceDataHelper.py:102: FutureWarning: The behavior of DataFrame concatenation with empty or all-NA entries is deprecated. In a future version, this will no longer exclude empty or all-NA columns when determining the result dtypes. To retain the old behavior, exclude the relevant entries before the concat operation.\n",
      "  return new_append_df if output_df is None else pd.concat([output_df,new_append_df])\n"
     ]
    },
    {
     "name": "stdout",
     "output_type": "stream",
     "text": [
      "295\n"
     ]
    },
    {
     "name": "stderr",
     "output_type": "stream",
     "text": [
      "[*********************100%%**********************]  1 of 1 completed\n",
      "[*********************100%%**********************]  1 of 1 completed\n",
      "[*********************100%%**********************]  1 of 1 completed\n",
      "[*********************100%%**********************]  1 of 1 completed\n",
      "[*********************100%%**********************]  1 of 1 completed\n",
      "c:\\Users\\GRAYBILLKB20\\OneDrive - Grove City College\\Sophomore Year\\FinanceData\\FinanceData\\FinanceDataHelper.py:102: FutureWarning: The behavior of DataFrame concatenation with empty or all-NA entries is deprecated. In a future version, this will no longer exclude empty or all-NA columns when determining the result dtypes. To retain the old behavior, exclude the relevant entries before the concat operation.\n",
      "  return new_append_df if output_df is None else pd.concat([output_df,new_append_df])\n"
     ]
    },
    {
     "name": "stdout",
     "output_type": "stream",
     "text": [
      "296\n"
     ]
    },
    {
     "name": "stderr",
     "output_type": "stream",
     "text": [
      "[*********************100%%**********************]  1 of 1 completed\n",
      "[*********************100%%**********************]  1 of 1 completed\n",
      "[*********************100%%**********************]  1 of 1 completed\n",
      "[*********************100%%**********************]  1 of 1 completed\n",
      "[*********************100%%**********************]  1 of 1 completed\n",
      "c:\\Users\\GRAYBILLKB20\\OneDrive - Grove City College\\Sophomore Year\\FinanceData\\FinanceData\\FinanceDataHelper.py:102: FutureWarning: The behavior of DataFrame concatenation with empty or all-NA entries is deprecated. In a future version, this will no longer exclude empty or all-NA columns when determining the result dtypes. To retain the old behavior, exclude the relevant entries before the concat operation.\n",
      "  return new_append_df if output_df is None else pd.concat([output_df,new_append_df])\n"
     ]
    },
    {
     "name": "stdout",
     "output_type": "stream",
     "text": [
      "297\n"
     ]
    },
    {
     "name": "stderr",
     "output_type": "stream",
     "text": [
      "[*********************100%%**********************]  1 of 1 completed\n",
      "[*********************100%%**********************]  1 of 1 completed\n",
      "[*********************100%%**********************]  1 of 1 completed\n",
      "[*********************100%%**********************]  1 of 1 completed\n",
      "[*********************100%%**********************]  1 of 1 completed\n",
      "c:\\Users\\GRAYBILLKB20\\OneDrive - Grove City College\\Sophomore Year\\FinanceData\\FinanceData\\FinanceDataHelper.py:102: FutureWarning: The behavior of DataFrame concatenation with empty or all-NA entries is deprecated. In a future version, this will no longer exclude empty or all-NA columns when determining the result dtypes. To retain the old behavior, exclude the relevant entries before the concat operation.\n",
      "  return new_append_df if output_df is None else pd.concat([output_df,new_append_df])\n"
     ]
    },
    {
     "name": "stdout",
     "output_type": "stream",
     "text": [
      "298\n"
     ]
    },
    {
     "name": "stderr",
     "output_type": "stream",
     "text": [
      "[*********************100%%**********************]  1 of 1 completed\n",
      "[*********************100%%**********************]  1 of 1 completed\n",
      "[*********************100%%**********************]  1 of 1 completed\n",
      "[*********************100%%**********************]  1 of 1 completed\n",
      "[*********************100%%**********************]  1 of 1 completed\n",
      "c:\\Users\\GRAYBILLKB20\\OneDrive - Grove City College\\Sophomore Year\\FinanceData\\FinanceData\\FinanceDataHelper.py:102: FutureWarning: The behavior of DataFrame concatenation with empty or all-NA entries is deprecated. In a future version, this will no longer exclude empty or all-NA columns when determining the result dtypes. To retain the old behavior, exclude the relevant entries before the concat operation.\n",
      "  return new_append_df if output_df is None else pd.concat([output_df,new_append_df])\n"
     ]
    },
    {
     "name": "stdout",
     "output_type": "stream",
     "text": [
      "299\n"
     ]
    },
    {
     "name": "stderr",
     "output_type": "stream",
     "text": [
      "[*********************100%%**********************]  1 of 1 completed\n",
      "[*********************100%%**********************]  1 of 1 completed\n",
      "[*********************100%%**********************]  1 of 1 completed\n",
      "[*********************100%%**********************]  1 of 1 completed\n",
      "[*********************100%%**********************]  1 of 1 completed\n",
      "c:\\Users\\GRAYBILLKB20\\OneDrive - Grove City College\\Sophomore Year\\FinanceData\\FinanceData\\FinanceDataHelper.py:102: FutureWarning: The behavior of DataFrame concatenation with empty or all-NA entries is deprecated. In a future version, this will no longer exclude empty or all-NA columns when determining the result dtypes. To retain the old behavior, exclude the relevant entries before the concat operation.\n",
      "  return new_append_df if output_df is None else pd.concat([output_df,new_append_df])\n"
     ]
    },
    {
     "name": "stdout",
     "output_type": "stream",
     "text": [
      "Index error retrieving data for MKTX stock on 2024-12-09 00:00:00: single positional indexer is out-of-bounds\n",
      "300\n"
     ]
    },
    {
     "name": "stderr",
     "output_type": "stream",
     "text": [
      "[*********************100%%**********************]  1 of 1 completed\n",
      "[*********************100%%**********************]  1 of 1 completed\n",
      "[*********************100%%**********************]  1 of 1 completed\n",
      "[*********************100%%**********************]  1 of 1 completed\n",
      "[*********************100%%**********************]  1 of 1 completed\n",
      "c:\\Users\\GRAYBILLKB20\\OneDrive - Grove City College\\Sophomore Year\\FinanceData\\FinanceData\\FinanceDataHelper.py:102: FutureWarning: The behavior of DataFrame concatenation with empty or all-NA entries is deprecated. In a future version, this will no longer exclude empty or all-NA columns when determining the result dtypes. To retain the old behavior, exclude the relevant entries before the concat operation.\n",
      "  return new_append_df if output_df is None else pd.concat([output_df,new_append_df])\n"
     ]
    },
    {
     "name": "stdout",
     "output_type": "stream",
     "text": [
      "301\n"
     ]
    },
    {
     "name": "stderr",
     "output_type": "stream",
     "text": [
      "[*********************100%%**********************]  1 of 1 completed\n",
      "[*********************100%%**********************]  1 of 1 completed\n",
      "[*********************100%%**********************]  1 of 1 completed\n",
      "[*********************100%%**********************]  1 of 1 completed\n",
      "[*********************100%%**********************]  1 of 1 completed\n",
      "c:\\Users\\GRAYBILLKB20\\OneDrive - Grove City College\\Sophomore Year\\FinanceData\\FinanceData\\FinanceDataHelper.py:102: FutureWarning: The behavior of DataFrame concatenation with empty or all-NA entries is deprecated. In a future version, this will no longer exclude empty or all-NA columns when determining the result dtypes. To retain the old behavior, exclude the relevant entries before the concat operation.\n",
      "  return new_append_df if output_df is None else pd.concat([output_df,new_append_df])\n"
     ]
    },
    {
     "name": "stdout",
     "output_type": "stream",
     "text": [
      "302\n"
     ]
    },
    {
     "name": "stderr",
     "output_type": "stream",
     "text": [
      "[*********************100%%**********************]  1 of 1 completed\n",
      "[*********************100%%**********************]  1 of 1 completed\n",
      "[*********************100%%**********************]  1 of 1 completed\n",
      "[*********************100%%**********************]  1 of 1 completed\n",
      "[*********************100%%**********************]  1 of 1 completed\n",
      "c:\\Users\\GRAYBILLKB20\\OneDrive - Grove City College\\Sophomore Year\\FinanceData\\FinanceData\\FinanceDataHelper.py:102: FutureWarning: The behavior of DataFrame concatenation with empty or all-NA entries is deprecated. In a future version, this will no longer exclude empty or all-NA columns when determining the result dtypes. To retain the old behavior, exclude the relevant entries before the concat operation.\n",
      "  return new_append_df if output_df is None else pd.concat([output_df,new_append_df])\n"
     ]
    },
    {
     "name": "stdout",
     "output_type": "stream",
     "text": [
      "Index error retrieving data for MLM stock on 2024-12-09 00:00:00: single positional indexer is out-of-bounds\n",
      "303\n"
     ]
    },
    {
     "name": "stderr",
     "output_type": "stream",
     "text": [
      "[*********************100%%**********************]  1 of 1 completed\n",
      "[*********************100%%**********************]  1 of 1 completed\n",
      "[*********************100%%**********************]  1 of 1 completed\n",
      "[*********************100%%**********************]  1 of 1 completed\n",
      "[*********************100%%**********************]  1 of 1 completed\n",
      "c:\\Users\\GRAYBILLKB20\\OneDrive - Grove City College\\Sophomore Year\\FinanceData\\FinanceData\\FinanceDataHelper.py:102: FutureWarning: The behavior of DataFrame concatenation with empty or all-NA entries is deprecated. In a future version, this will no longer exclude empty or all-NA columns when determining the result dtypes. To retain the old behavior, exclude the relevant entries before the concat operation.\n",
      "  return new_append_df if output_df is None else pd.concat([output_df,new_append_df])\n"
     ]
    },
    {
     "name": "stdout",
     "output_type": "stream",
     "text": [
      "304\n"
     ]
    },
    {
     "name": "stderr",
     "output_type": "stream",
     "text": [
      "[*********************100%%**********************]  1 of 1 completed\n",
      "[*********************100%%**********************]  1 of 1 completed\n",
      "[*********************100%%**********************]  1 of 1 completed\n",
      "[*********************100%%**********************]  1 of 1 completed\n",
      "[*********************100%%**********************]  1 of 1 completed\n",
      "c:\\Users\\GRAYBILLKB20\\OneDrive - Grove City College\\Sophomore Year\\FinanceData\\FinanceData\\FinanceDataHelper.py:102: FutureWarning: The behavior of DataFrame concatenation with empty or all-NA entries is deprecated. In a future version, this will no longer exclude empty or all-NA columns when determining the result dtypes. To retain the old behavior, exclude the relevant entries before the concat operation.\n",
      "  return new_append_df if output_df is None else pd.concat([output_df,new_append_df])\n"
     ]
    },
    {
     "name": "stdout",
     "output_type": "stream",
     "text": [
      "305\n"
     ]
    },
    {
     "name": "stderr",
     "output_type": "stream",
     "text": [
      "[*********************100%%**********************]  1 of 1 completed\n",
      "[*********************100%%**********************]  1 of 1 completed\n",
      "[*********************100%%**********************]  1 of 1 completed\n",
      "[*********************100%%**********************]  1 of 1 completed\n",
      "[*********************100%%**********************]  1 of 1 completed\n",
      "c:\\Users\\GRAYBILLKB20\\OneDrive - Grove City College\\Sophomore Year\\FinanceData\\FinanceData\\FinanceDataHelper.py:102: FutureWarning: The behavior of DataFrame concatenation with empty or all-NA entries is deprecated. In a future version, this will no longer exclude empty or all-NA columns when determining the result dtypes. To retain the old behavior, exclude the relevant entries before the concat operation.\n",
      "  return new_append_df if output_df is None else pd.concat([output_df,new_append_df])\n"
     ]
    },
    {
     "name": "stdout",
     "output_type": "stream",
     "text": [
      "306\n"
     ]
    },
    {
     "name": "stderr",
     "output_type": "stream",
     "text": [
      "[*********************100%%**********************]  1 of 1 completed\n",
      "[*********************100%%**********************]  1 of 1 completed\n",
      "[*********************100%%**********************]  1 of 1 completed\n",
      "[*********************100%%**********************]  1 of 1 completed\n",
      "[*********************100%%**********************]  1 of 1 completed\n",
      "c:\\Users\\GRAYBILLKB20\\OneDrive - Grove City College\\Sophomore Year\\FinanceData\\FinanceData\\FinanceDataHelper.py:102: FutureWarning: The behavior of DataFrame concatenation with empty or all-NA entries is deprecated. In a future version, this will no longer exclude empty or all-NA columns when determining the result dtypes. To retain the old behavior, exclude the relevant entries before the concat operation.\n",
      "  return new_append_df if output_df is None else pd.concat([output_df,new_append_df])\n"
     ]
    },
    {
     "name": "stdout",
     "output_type": "stream",
     "text": [
      "307\n"
     ]
    },
    {
     "name": "stderr",
     "output_type": "stream",
     "text": [
      "[*********************100%%**********************]  1 of 1 completed\n",
      "[*********************100%%**********************]  1 of 1 completed\n",
      "[*********************100%%**********************]  1 of 1 completed\n",
      "[*********************100%%**********************]  1 of 1 completed\n",
      "[*********************100%%**********************]  1 of 1 completed\n",
      "c:\\Users\\GRAYBILLKB20\\OneDrive - Grove City College\\Sophomore Year\\FinanceData\\FinanceData\\FinanceDataHelper.py:102: FutureWarning: The behavior of DataFrame concatenation with empty or all-NA entries is deprecated. In a future version, this will no longer exclude empty or all-NA columns when determining the result dtypes. To retain the old behavior, exclude the relevant entries before the concat operation.\n",
      "  return new_append_df if output_df is None else pd.concat([output_df,new_append_df])\n"
     ]
    },
    {
     "name": "stdout",
     "output_type": "stream",
     "text": [
      "308\n"
     ]
    },
    {
     "name": "stderr",
     "output_type": "stream",
     "text": [
      "[*********************100%%**********************]  1 of 1 completed\n",
      "[*********************100%%**********************]  1 of 1 completed\n",
      "[*********************100%%**********************]  1 of 1 completed\n",
      "[*********************100%%**********************]  1 of 1 completed\n",
      "[*********************100%%**********************]  1 of 1 completed\n",
      "c:\\Users\\GRAYBILLKB20\\OneDrive - Grove City College\\Sophomore Year\\FinanceData\\FinanceData\\FinanceDataHelper.py:102: FutureWarning: The behavior of DataFrame concatenation with empty or all-NA entries is deprecated. In a future version, this will no longer exclude empty or all-NA columns when determining the result dtypes. To retain the old behavior, exclude the relevant entries before the concat operation.\n",
      "  return new_append_df if output_df is None else pd.concat([output_df,new_append_df])\n"
     ]
    },
    {
     "name": "stdout",
     "output_type": "stream",
     "text": [
      "309\n"
     ]
    },
    {
     "name": "stderr",
     "output_type": "stream",
     "text": [
      "[*********************100%%**********************]  1 of 1 completed\n",
      "[*********************100%%**********************]  1 of 1 completed\n",
      "[*********************100%%**********************]  1 of 1 completed\n",
      "[*********************100%%**********************]  1 of 1 completed\n",
      "[*********************100%%**********************]  1 of 1 completed\n",
      "c:\\Users\\GRAYBILLKB20\\OneDrive - Grove City College\\Sophomore Year\\FinanceData\\FinanceData\\FinanceDataHelper.py:102: FutureWarning: The behavior of DataFrame concatenation with empty or all-NA entries is deprecated. In a future version, this will no longer exclude empty or all-NA columns when determining the result dtypes. To retain the old behavior, exclude the relevant entries before the concat operation.\n",
      "  return new_append_df if output_df is None else pd.concat([output_df,new_append_df])\n"
     ]
    },
    {
     "name": "stdout",
     "output_type": "stream",
     "text": [
      "310\n"
     ]
    },
    {
     "name": "stderr",
     "output_type": "stream",
     "text": [
      "[*********************100%%**********************]  1 of 1 completed\n",
      "[*********************100%%**********************]  1 of 1 completed\n",
      "[*********************100%%**********************]  1 of 1 completed\n",
      "[*********************100%%**********************]  1 of 1 completed\n",
      "[*********************100%%**********************]  1 of 1 completed\n",
      "c:\\Users\\GRAYBILLKB20\\OneDrive - Grove City College\\Sophomore Year\\FinanceData\\FinanceData\\FinanceDataHelper.py:102: FutureWarning: The behavior of DataFrame concatenation with empty or all-NA entries is deprecated. In a future version, this will no longer exclude empty or all-NA columns when determining the result dtypes. To retain the old behavior, exclude the relevant entries before the concat operation.\n",
      "  return new_append_df if output_df is None else pd.concat([output_df,new_append_df])\n"
     ]
    },
    {
     "name": "stdout",
     "output_type": "stream",
     "text": [
      "311\n"
     ]
    },
    {
     "name": "stderr",
     "output_type": "stream",
     "text": [
      "[*********************100%%**********************]  1 of 1 completed\n",
      "[*********************100%%**********************]  1 of 1 completed\n",
      "[*********************100%%**********************]  1 of 1 completed\n",
      "[*********************100%%**********************]  1 of 1 completed\n",
      "[*********************100%%**********************]  1 of 1 completed\n",
      "c:\\Users\\GRAYBILLKB20\\OneDrive - Grove City College\\Sophomore Year\\FinanceData\\FinanceData\\FinanceDataHelper.py:102: FutureWarning: The behavior of DataFrame concatenation with empty or all-NA entries is deprecated. In a future version, this will no longer exclude empty or all-NA columns when determining the result dtypes. To retain the old behavior, exclude the relevant entries before the concat operation.\n",
      "  return new_append_df if output_df is None else pd.concat([output_df,new_append_df])\n"
     ]
    },
    {
     "name": "stdout",
     "output_type": "stream",
     "text": [
      "312\n"
     ]
    },
    {
     "name": "stderr",
     "output_type": "stream",
     "text": [
      "[*********************100%%**********************]  1 of 1 completed\n",
      "[*********************100%%**********************]  1 of 1 completed\n",
      "[*********************100%%**********************]  1 of 1 completed\n",
      "[*********************100%%**********************]  1 of 1 completed\n",
      "[*********************100%%**********************]  1 of 1 completed\n",
      "c:\\Users\\GRAYBILLKB20\\OneDrive - Grove City College\\Sophomore Year\\FinanceData\\FinanceData\\FinanceDataHelper.py:102: FutureWarning: The behavior of DataFrame concatenation with empty or all-NA entries is deprecated. In a future version, this will no longer exclude empty or all-NA columns when determining the result dtypes. To retain the old behavior, exclude the relevant entries before the concat operation.\n",
      "  return new_append_df if output_df is None else pd.concat([output_df,new_append_df])\n"
     ]
    },
    {
     "name": "stdout",
     "output_type": "stream",
     "text": [
      "313\n"
     ]
    },
    {
     "name": "stderr",
     "output_type": "stream",
     "text": [
      "[*********************100%%**********************]  1 of 1 completed\n",
      "[*********************100%%**********************]  1 of 1 completed\n",
      "[*********************100%%**********************]  1 of 1 completed\n",
      "[*********************100%%**********************]  1 of 1 completed\n",
      "[*********************100%%**********************]  1 of 1 completed\n",
      "c:\\Users\\GRAYBILLKB20\\OneDrive - Grove City College\\Sophomore Year\\FinanceData\\FinanceData\\FinanceDataHelper.py:102: FutureWarning: The behavior of DataFrame concatenation with empty or all-NA entries is deprecated. In a future version, this will no longer exclude empty or all-NA columns when determining the result dtypes. To retain the old behavior, exclude the relevant entries before the concat operation.\n",
      "  return new_append_df if output_df is None else pd.concat([output_df,new_append_df])\n"
     ]
    },
    {
     "name": "stdout",
     "output_type": "stream",
     "text": [
      "Index error retrieving data for MTD stock on 2024-12-17 00:00:00: single positional indexer is out-of-bounds\n",
      "Index error retrieving data for MTD stock on 2024-12-16 00:00:00: single positional indexer is out-of-bounds\n",
      "Index error retrieving data for MTD stock on 2024-12-13 00:00:00: single positional indexer is out-of-bounds\n",
      "Index error retrieving data for MTD stock on 2024-12-12 00:00:00: single positional indexer is out-of-bounds\n",
      "Index error retrieving data for MTD stock on 2024-12-11 00:00:00: single positional indexer is out-of-bounds\n",
      "Index error retrieving data for MTD stock on 2024-12-10 00:00:00: single positional indexer is out-of-bounds\n",
      "Index error retrieving data for MTD stock on 2024-12-09 00:00:00: single positional indexer is out-of-bounds\n",
      "314\n"
     ]
    },
    {
     "name": "stderr",
     "output_type": "stream",
     "text": [
      "[*********************100%%**********************]  1 of 1 completed\n",
      "[*********************100%%**********************]  1 of 1 completed\n",
      "[*********************100%%**********************]  1 of 1 completed\n",
      "[*********************100%%**********************]  1 of 1 completed\n",
      "[*********************100%%**********************]  1 of 1 completed\n",
      "c:\\Users\\GRAYBILLKB20\\OneDrive - Grove City College\\Sophomore Year\\FinanceData\\FinanceData\\FinanceDataHelper.py:102: FutureWarning: The behavior of DataFrame concatenation with empty or all-NA entries is deprecated. In a future version, this will no longer exclude empty or all-NA columns when determining the result dtypes. To retain the old behavior, exclude the relevant entries before the concat operation.\n",
      "  return new_append_df if output_df is None else pd.concat([output_df,new_append_df])\n"
     ]
    },
    {
     "name": "stdout",
     "output_type": "stream",
     "text": [
      "315\n"
     ]
    },
    {
     "name": "stderr",
     "output_type": "stream",
     "text": [
      "[*********************100%%**********************]  1 of 1 completed\n",
      "[*********************100%%**********************]  1 of 1 completed\n",
      "[*********************100%%**********************]  1 of 1 completed\n",
      "[*********************100%%**********************]  1 of 1 completed\n",
      "[*********************100%%**********************]  1 of 1 completed\n",
      "c:\\Users\\GRAYBILLKB20\\OneDrive - Grove City College\\Sophomore Year\\FinanceData\\FinanceData\\FinanceDataHelper.py:102: FutureWarning: The behavior of DataFrame concatenation with empty or all-NA entries is deprecated. In a future version, this will no longer exclude empty or all-NA columns when determining the result dtypes. To retain the old behavior, exclude the relevant entries before the concat operation.\n",
      "  return new_append_df if output_df is None else pd.concat([output_df,new_append_df])\n"
     ]
    },
    {
     "name": "stdout",
     "output_type": "stream",
     "text": [
      "316\n"
     ]
    },
    {
     "name": "stderr",
     "output_type": "stream",
     "text": [
      "[*********************100%%**********************]  1 of 1 completed\n",
      "[*********************100%%**********************]  1 of 1 completed\n",
      "[*********************100%%**********************]  1 of 1 completed\n",
      "[*********************100%%**********************]  1 of 1 completed\n",
      "[*********************100%%**********************]  1 of 1 completed\n",
      "c:\\Users\\GRAYBILLKB20\\OneDrive - Grove City College\\Sophomore Year\\FinanceData\\FinanceData\\FinanceDataHelper.py:102: FutureWarning: The behavior of DataFrame concatenation with empty or all-NA entries is deprecated. In a future version, this will no longer exclude empty or all-NA columns when determining the result dtypes. To retain the old behavior, exclude the relevant entries before the concat operation.\n",
      "  return new_append_df if output_df is None else pd.concat([output_df,new_append_df])\n"
     ]
    },
    {
     "name": "stdout",
     "output_type": "stream",
     "text": [
      "317\n"
     ]
    },
    {
     "name": "stderr",
     "output_type": "stream",
     "text": [
      "[*********************100%%**********************]  1 of 1 completed\n",
      "[*********************100%%**********************]  1 of 1 completed\n",
      "[*********************100%%**********************]  1 of 1 completed\n",
      "[*********************100%%**********************]  1 of 1 completed\n",
      "[*********************100%%**********************]  1 of 1 completed\n",
      "c:\\Users\\GRAYBILLKB20\\OneDrive - Grove City College\\Sophomore Year\\FinanceData\\FinanceData\\FinanceDataHelper.py:102: FutureWarning: The behavior of DataFrame concatenation with empty or all-NA entries is deprecated. In a future version, this will no longer exclude empty or all-NA columns when determining the result dtypes. To retain the old behavior, exclude the relevant entries before the concat operation.\n",
      "  return new_append_df if output_df is None else pd.concat([output_df,new_append_df])\n"
     ]
    },
    {
     "name": "stdout",
     "output_type": "stream",
     "text": [
      "318\n"
     ]
    },
    {
     "name": "stderr",
     "output_type": "stream",
     "text": [
      "[*********************100%%**********************]  1 of 1 completed\n",
      "[*********************100%%**********************]  1 of 1 completed\n",
      "[*********************100%%**********************]  1 of 1 completed\n",
      "[*********************100%%**********************]  1 of 1 completed\n",
      "[*********************100%%**********************]  1 of 1 completed\n",
      "c:\\Users\\GRAYBILLKB20\\OneDrive - Grove City College\\Sophomore Year\\FinanceData\\FinanceData\\FinanceDataHelper.py:102: FutureWarning: The behavior of DataFrame concatenation with empty or all-NA entries is deprecated. In a future version, this will no longer exclude empty or all-NA columns when determining the result dtypes. To retain the old behavior, exclude the relevant entries before the concat operation.\n",
      "  return new_append_df if output_df is None else pd.concat([output_df,new_append_df])\n"
     ]
    },
    {
     "name": "stdout",
     "output_type": "stream",
     "text": [
      "Index error retrieving data for MAA stock on 2024-12-09 00:00:00: single positional indexer is out-of-bounds\n",
      "319\n"
     ]
    },
    {
     "name": "stderr",
     "output_type": "stream",
     "text": [
      "[*********************100%%**********************]  1 of 1 completed\n",
      "[*********************100%%**********************]  1 of 1 completed\n",
      "[*********************100%%**********************]  1 of 1 completed\n",
      "[*********************100%%**********************]  1 of 1 completed\n",
      "[*********************100%%**********************]  1 of 1 completed\n",
      "c:\\Users\\GRAYBILLKB20\\OneDrive - Grove City College\\Sophomore Year\\FinanceData\\FinanceData\\FinanceDataHelper.py:102: FutureWarning: The behavior of DataFrame concatenation with empty or all-NA entries is deprecated. In a future version, this will no longer exclude empty or all-NA columns when determining the result dtypes. To retain the old behavior, exclude the relevant entries before the concat operation.\n",
      "  return new_append_df if output_df is None else pd.concat([output_df,new_append_df])\n"
     ]
    },
    {
     "name": "stdout",
     "output_type": "stream",
     "text": [
      "320\n"
     ]
    },
    {
     "name": "stderr",
     "output_type": "stream",
     "text": [
      "[*********************100%%**********************]  1 of 1 completed\n",
      "[*********************100%%**********************]  1 of 1 completed\n",
      "[*********************100%%**********************]  1 of 1 completed\n",
      "[*********************100%%**********************]  1 of 1 completed\n",
      "[*********************100%%**********************]  1 of 1 completed\n",
      "c:\\Users\\GRAYBILLKB20\\OneDrive - Grove City College\\Sophomore Year\\FinanceData\\FinanceData\\FinanceDataHelper.py:102: FutureWarning: The behavior of DataFrame concatenation with empty or all-NA entries is deprecated. In a future version, this will no longer exclude empty or all-NA columns when determining the result dtypes. To retain the old behavior, exclude the relevant entries before the concat operation.\n",
      "  return new_append_df if output_df is None else pd.concat([output_df,new_append_df])\n"
     ]
    },
    {
     "name": "stdout",
     "output_type": "stream",
     "text": [
      "321\n"
     ]
    },
    {
     "name": "stderr",
     "output_type": "stream",
     "text": [
      "[*********************100%%**********************]  1 of 1 completed\n",
      "[*********************100%%**********************]  1 of 1 completed\n",
      "[*********************100%%**********************]  1 of 1 completed\n",
      "[*********************100%%**********************]  1 of 1 completed\n",
      "[*********************100%%**********************]  1 of 1 completed\n",
      "c:\\Users\\GRAYBILLKB20\\OneDrive - Grove City College\\Sophomore Year\\FinanceData\\FinanceData\\FinanceDataHelper.py:102: FutureWarning: The behavior of DataFrame concatenation with empty or all-NA entries is deprecated. In a future version, this will no longer exclude empty or all-NA columns when determining the result dtypes. To retain the old behavior, exclude the relevant entries before the concat operation.\n",
      "  return new_append_df if output_df is None else pd.concat([output_df,new_append_df])\n"
     ]
    },
    {
     "name": "stdout",
     "output_type": "stream",
     "text": [
      "Index error retrieving data for MOH stock on 2024-12-09 00:00:00: single positional indexer is out-of-bounds\n",
      "322\n"
     ]
    },
    {
     "name": "stderr",
     "output_type": "stream",
     "text": [
      "[*********************100%%**********************]  1 of 1 completed\n",
      "[*********************100%%**********************]  1 of 1 completed\n",
      "[*********************100%%**********************]  1 of 1 completed\n",
      "[*********************100%%**********************]  1 of 1 completed\n",
      "[*********************100%%**********************]  1 of 1 completed\n",
      "c:\\Users\\GRAYBILLKB20\\OneDrive - Grove City College\\Sophomore Year\\FinanceData\\FinanceData\\FinanceDataHelper.py:102: FutureWarning: The behavior of DataFrame concatenation with empty or all-NA entries is deprecated. In a future version, this will no longer exclude empty or all-NA columns when determining the result dtypes. To retain the old behavior, exclude the relevant entries before the concat operation.\n",
      "  return new_append_df if output_df is None else pd.concat([output_df,new_append_df])\n"
     ]
    },
    {
     "name": "stdout",
     "output_type": "stream",
     "text": [
      "323\n"
     ]
    },
    {
     "name": "stderr",
     "output_type": "stream",
     "text": [
      "[*********************100%%**********************]  1 of 1 completed\n",
      "[*********************100%%**********************]  1 of 1 completed\n",
      "[*********************100%%**********************]  1 of 1 completed\n",
      "[*********************100%%**********************]  1 of 1 completed\n",
      "[*********************100%%**********************]  1 of 1 completed\n",
      "c:\\Users\\GRAYBILLKB20\\OneDrive - Grove City College\\Sophomore Year\\FinanceData\\FinanceData\\FinanceDataHelper.py:102: FutureWarning: The behavior of DataFrame concatenation with empty or all-NA entries is deprecated. In a future version, this will no longer exclude empty or all-NA columns when determining the result dtypes. To retain the old behavior, exclude the relevant entries before the concat operation.\n",
      "  return new_append_df if output_df is None else pd.concat([output_df,new_append_df])\n"
     ]
    },
    {
     "name": "stdout",
     "output_type": "stream",
     "text": [
      "324\n"
     ]
    },
    {
     "name": "stderr",
     "output_type": "stream",
     "text": [
      "[*********************100%%**********************]  1 of 1 completed\n",
      "[*********************100%%**********************]  1 of 1 completed\n",
      "[*********************100%%**********************]  1 of 1 completed\n",
      "[*********************100%%**********************]  1 of 1 completed\n",
      "[*********************100%%**********************]  1 of 1 completed\n",
      "c:\\Users\\GRAYBILLKB20\\OneDrive - Grove City College\\Sophomore Year\\FinanceData\\FinanceData\\FinanceDataHelper.py:102: FutureWarning: The behavior of DataFrame concatenation with empty or all-NA entries is deprecated. In a future version, this will no longer exclude empty or all-NA columns when determining the result dtypes. To retain the old behavior, exclude the relevant entries before the concat operation.\n",
      "  return new_append_df if output_df is None else pd.concat([output_df,new_append_df])\n"
     ]
    },
    {
     "name": "stdout",
     "output_type": "stream",
     "text": [
      "325\n"
     ]
    },
    {
     "name": "stderr",
     "output_type": "stream",
     "text": [
      "[*********************100%%**********************]  1 of 1 completed\n",
      "[*********************100%%**********************]  1 of 1 completed\n",
      "[*********************100%%**********************]  1 of 1 completed\n",
      "[*********************100%%**********************]  1 of 1 completed\n",
      "[*********************100%%**********************]  1 of 1 completed\n",
      "c:\\Users\\GRAYBILLKB20\\OneDrive - Grove City College\\Sophomore Year\\FinanceData\\FinanceData\\FinanceDataHelper.py:102: FutureWarning: The behavior of DataFrame concatenation with empty or all-NA entries is deprecated. In a future version, this will no longer exclude empty or all-NA columns when determining the result dtypes. To retain the old behavior, exclude the relevant entries before the concat operation.\n",
      "  return new_append_df if output_df is None else pd.concat([output_df,new_append_df])\n"
     ]
    },
    {
     "name": "stdout",
     "output_type": "stream",
     "text": [
      "326\n"
     ]
    },
    {
     "name": "stderr",
     "output_type": "stream",
     "text": [
      "[*********************100%%**********************]  1 of 1 completed\n",
      "[*********************100%%**********************]  1 of 1 completed\n",
      "[*********************100%%**********************]  1 of 1 completed\n",
      "[*********************100%%**********************]  1 of 1 completed\n",
      "[*********************100%%**********************]  1 of 1 completed\n",
      "c:\\Users\\GRAYBILLKB20\\OneDrive - Grove City College\\Sophomore Year\\FinanceData\\FinanceData\\FinanceDataHelper.py:102: FutureWarning: The behavior of DataFrame concatenation with empty or all-NA entries is deprecated. In a future version, this will no longer exclude empty or all-NA columns when determining the result dtypes. To retain the old behavior, exclude the relevant entries before the concat operation.\n",
      "  return new_append_df if output_df is None else pd.concat([output_df,new_append_df])\n"
     ]
    },
    {
     "name": "stdout",
     "output_type": "stream",
     "text": [
      "Index error retrieving data for MCO stock on 2024-12-09 00:00:00: single positional indexer is out-of-bounds\n",
      "327\n"
     ]
    },
    {
     "name": "stderr",
     "output_type": "stream",
     "text": [
      "[*********************100%%**********************]  1 of 1 completed\n",
      "[*********************100%%**********************]  1 of 1 completed\n",
      "[*********************100%%**********************]  1 of 1 completed\n",
      "[*********************100%%**********************]  1 of 1 completed\n",
      "[*********************100%%**********************]  1 of 1 completed\n",
      "c:\\Users\\GRAYBILLKB20\\OneDrive - Grove City College\\Sophomore Year\\FinanceData\\FinanceData\\FinanceDataHelper.py:102: FutureWarning: The behavior of DataFrame concatenation with empty or all-NA entries is deprecated. In a future version, this will no longer exclude empty or all-NA columns when determining the result dtypes. To retain the old behavior, exclude the relevant entries before the concat operation.\n",
      "  return new_append_df if output_df is None else pd.concat([output_df,new_append_df])\n"
     ]
    },
    {
     "name": "stdout",
     "output_type": "stream",
     "text": [
      "328\n"
     ]
    },
    {
     "name": "stderr",
     "output_type": "stream",
     "text": [
      "[*********************100%%**********************]  1 of 1 completed\n",
      "[*********************100%%**********************]  1 of 1 completed\n",
      "[*********************100%%**********************]  1 of 1 completed\n",
      "[*********************100%%**********************]  1 of 1 completed\n",
      "[*********************100%%**********************]  1 of 1 completed\n",
      "c:\\Users\\GRAYBILLKB20\\OneDrive - Grove City College\\Sophomore Year\\FinanceData\\FinanceData\\FinanceDataHelper.py:102: FutureWarning: The behavior of DataFrame concatenation with empty or all-NA entries is deprecated. In a future version, this will no longer exclude empty or all-NA columns when determining the result dtypes. To retain the old behavior, exclude the relevant entries before the concat operation.\n",
      "  return new_append_df if output_df is None else pd.concat([output_df,new_append_df])\n"
     ]
    },
    {
     "name": "stdout",
     "output_type": "stream",
     "text": [
      "329\n"
     ]
    },
    {
     "name": "stderr",
     "output_type": "stream",
     "text": [
      "[*********************100%%**********************]  1 of 1 completed\n",
      "[*********************100%%**********************]  1 of 1 completed\n",
      "[*********************100%%**********************]  1 of 1 completed\n",
      "[*********************100%%**********************]  1 of 1 completed\n",
      "[*********************100%%**********************]  1 of 1 completed\n",
      "c:\\Users\\GRAYBILLKB20\\OneDrive - Grove City College\\Sophomore Year\\FinanceData\\FinanceData\\FinanceDataHelper.py:102: FutureWarning: The behavior of DataFrame concatenation with empty or all-NA entries is deprecated. In a future version, this will no longer exclude empty or all-NA columns when determining the result dtypes. To retain the old behavior, exclude the relevant entries before the concat operation.\n",
      "  return new_append_df if output_df is None else pd.concat([output_df,new_append_df])\n"
     ]
    },
    {
     "name": "stdout",
     "output_type": "stream",
     "text": [
      "330\n"
     ]
    },
    {
     "name": "stderr",
     "output_type": "stream",
     "text": [
      "[*********************100%%**********************]  1 of 1 completed\n",
      "[*********************100%%**********************]  1 of 1 completed\n",
      "[*********************100%%**********************]  1 of 1 completed\n",
      "[*********************100%%**********************]  1 of 1 completed\n",
      "[*********************100%%**********************]  1 of 1 completed\n",
      "c:\\Users\\GRAYBILLKB20\\OneDrive - Grove City College\\Sophomore Year\\FinanceData\\FinanceData\\FinanceDataHelper.py:102: FutureWarning: The behavior of DataFrame concatenation with empty or all-NA entries is deprecated. In a future version, this will no longer exclude empty or all-NA columns when determining the result dtypes. To retain the old behavior, exclude the relevant entries before the concat operation.\n",
      "  return new_append_df if output_df is None else pd.concat([output_df,new_append_df])\n"
     ]
    },
    {
     "name": "stdout",
     "output_type": "stream",
     "text": [
      "Index error retrieving data for MSCI stock on 2024-12-09 00:00:00: single positional indexer is out-of-bounds\n",
      "331\n"
     ]
    },
    {
     "name": "stderr",
     "output_type": "stream",
     "text": [
      "[*********************100%%**********************]  1 of 1 completed\n",
      "[*********************100%%**********************]  1 of 1 completed\n",
      "[*********************100%%**********************]  1 of 1 completed\n",
      "[*********************100%%**********************]  1 of 1 completed\n",
      "[*********************100%%**********************]  1 of 1 completed\n",
      "c:\\Users\\GRAYBILLKB20\\OneDrive - Grove City College\\Sophomore Year\\FinanceData\\FinanceData\\FinanceDataHelper.py:102: FutureWarning: The behavior of DataFrame concatenation with empty or all-NA entries is deprecated. In a future version, this will no longer exclude empty or all-NA columns when determining the result dtypes. To retain the old behavior, exclude the relevant entries before the concat operation.\n",
      "  return new_append_df if output_df is None else pd.concat([output_df,new_append_df])\n"
     ]
    },
    {
     "name": "stdout",
     "output_type": "stream",
     "text": [
      "332\n"
     ]
    },
    {
     "name": "stderr",
     "output_type": "stream",
     "text": [
      "[*********************100%%**********************]  1 of 1 completed\n",
      "[*********************100%%**********************]  1 of 1 completed\n",
      "[*********************100%%**********************]  1 of 1 completed\n",
      "[*********************100%%**********************]  1 of 1 completed\n",
      "[*********************100%%**********************]  1 of 1 completed\n",
      "c:\\Users\\GRAYBILLKB20\\OneDrive - Grove City College\\Sophomore Year\\FinanceData\\FinanceData\\FinanceDataHelper.py:102: FutureWarning: The behavior of DataFrame concatenation with empty or all-NA entries is deprecated. In a future version, this will no longer exclude empty or all-NA columns when determining the result dtypes. To retain the old behavior, exclude the relevant entries before the concat operation.\n",
      "  return new_append_df if output_df is None else pd.concat([output_df,new_append_df])\n"
     ]
    },
    {
     "name": "stdout",
     "output_type": "stream",
     "text": [
      "333\n"
     ]
    },
    {
     "name": "stderr",
     "output_type": "stream",
     "text": [
      "[*********************100%%**********************]  1 of 1 completed\n",
      "[*********************100%%**********************]  1 of 1 completed\n",
      "[*********************100%%**********************]  1 of 1 completed\n",
      "[*********************100%%**********************]  1 of 1 completed\n",
      "[*********************100%%**********************]  1 of 1 completed\n",
      "c:\\Users\\GRAYBILLKB20\\OneDrive - Grove City College\\Sophomore Year\\FinanceData\\FinanceData\\FinanceDataHelper.py:102: FutureWarning: The behavior of DataFrame concatenation with empty or all-NA entries is deprecated. In a future version, this will no longer exclude empty or all-NA columns when determining the result dtypes. To retain the old behavior, exclude the relevant entries before the concat operation.\n",
      "  return new_append_df if output_df is None else pd.concat([output_df,new_append_df])\n"
     ]
    },
    {
     "name": "stdout",
     "output_type": "stream",
     "text": [
      "334\n"
     ]
    },
    {
     "name": "stderr",
     "output_type": "stream",
     "text": [
      "[*********************100%%**********************]  1 of 1 completed\n",
      "[*********************100%%**********************]  1 of 1 completed\n",
      "[*********************100%%**********************]  1 of 1 completed\n",
      "[*********************100%%**********************]  1 of 1 completed\n",
      "[*********************100%%**********************]  1 of 1 completed\n",
      "c:\\Users\\GRAYBILLKB20\\OneDrive - Grove City College\\Sophomore Year\\FinanceData\\FinanceData\\FinanceDataHelper.py:102: FutureWarning: The behavior of DataFrame concatenation with empty or all-NA entries is deprecated. In a future version, this will no longer exclude empty or all-NA columns when determining the result dtypes. To retain the old behavior, exclude the relevant entries before the concat operation.\n",
      "  return new_append_df if output_df is None else pd.concat([output_df,new_append_df])\n"
     ]
    },
    {
     "name": "stdout",
     "output_type": "stream",
     "text": [
      "335\n"
     ]
    },
    {
     "name": "stderr",
     "output_type": "stream",
     "text": [
      "[*********************100%%**********************]  1 of 1 completed\n",
      "[*********************100%%**********************]  1 of 1 completed\n",
      "[*********************100%%**********************]  1 of 1 completed\n",
      "[*********************100%%**********************]  1 of 1 completed\n",
      "[*********************100%%**********************]  1 of 1 completed\n",
      "c:\\Users\\GRAYBILLKB20\\OneDrive - Grove City College\\Sophomore Year\\FinanceData\\FinanceData\\FinanceDataHelper.py:102: FutureWarning: The behavior of DataFrame concatenation with empty or all-NA entries is deprecated. In a future version, this will no longer exclude empty or all-NA columns when determining the result dtypes. To retain the old behavior, exclude the relevant entries before the concat operation.\n",
      "  return new_append_df if output_df is None else pd.concat([output_df,new_append_df])\n"
     ]
    },
    {
     "name": "stdout",
     "output_type": "stream",
     "text": [
      "336\n"
     ]
    },
    {
     "name": "stderr",
     "output_type": "stream",
     "text": [
      "[*********************100%%**********************]  1 of 1 completed\n",
      "[*********************100%%**********************]  1 of 1 completed\n",
      "[*********************100%%**********************]  1 of 1 completed\n",
      "[*********************100%%**********************]  1 of 1 completed\n",
      "[*********************100%%**********************]  1 of 1 completed\n",
      "c:\\Users\\GRAYBILLKB20\\OneDrive - Grove City College\\Sophomore Year\\FinanceData\\FinanceData\\FinanceDataHelper.py:102: FutureWarning: The behavior of DataFrame concatenation with empty or all-NA entries is deprecated. In a future version, this will no longer exclude empty or all-NA columns when determining the result dtypes. To retain the old behavior, exclude the relevant entries before the concat operation.\n",
      "  return new_append_df if output_df is None else pd.concat([output_df,new_append_df])\n"
     ]
    },
    {
     "name": "stdout",
     "output_type": "stream",
     "text": [
      "Index error retrieving data for NWS stock on 2024-12-09 00:00:00: single positional indexer is out-of-bounds\n",
      "337\n"
     ]
    },
    {
     "name": "stderr",
     "output_type": "stream",
     "text": [
      "[*********************100%%**********************]  1 of 1 completed\n",
      "[*********************100%%**********************]  1 of 1 completed\n",
      "[*********************100%%**********************]  1 of 1 completed\n",
      "[*********************100%%**********************]  1 of 1 completed\n",
      "[*********************100%%**********************]  1 of 1 completed\n",
      "c:\\Users\\GRAYBILLKB20\\OneDrive - Grove City College\\Sophomore Year\\FinanceData\\FinanceData\\FinanceDataHelper.py:102: FutureWarning: The behavior of DataFrame concatenation with empty or all-NA entries is deprecated. In a future version, this will no longer exclude empty or all-NA columns when determining the result dtypes. To retain the old behavior, exclude the relevant entries before the concat operation.\n",
      "  return new_append_df if output_df is None else pd.concat([output_df,new_append_df])\n"
     ]
    },
    {
     "name": "stdout",
     "output_type": "stream",
     "text": [
      "338\n"
     ]
    },
    {
     "name": "stderr",
     "output_type": "stream",
     "text": [
      "[*********************100%%**********************]  1 of 1 completed\n",
      "[*********************100%%**********************]  1 of 1 completed\n",
      "[*********************100%%**********************]  1 of 1 completed\n",
      "[*********************100%%**********************]  1 of 1 completed\n",
      "[*********************100%%**********************]  1 of 1 completed\n",
      "c:\\Users\\GRAYBILLKB20\\OneDrive - Grove City College\\Sophomore Year\\FinanceData\\FinanceData\\FinanceDataHelper.py:102: FutureWarning: The behavior of DataFrame concatenation with empty or all-NA entries is deprecated. In a future version, this will no longer exclude empty or all-NA columns when determining the result dtypes. To retain the old behavior, exclude the relevant entries before the concat operation.\n",
      "  return new_append_df if output_df is None else pd.concat([output_df,new_append_df])\n"
     ]
    },
    {
     "name": "stdout",
     "output_type": "stream",
     "text": [
      "339\n"
     ]
    },
    {
     "name": "stderr",
     "output_type": "stream",
     "text": [
      "[*********************100%%**********************]  1 of 1 completed\n",
      "[*********************100%%**********************]  1 of 1 completed\n",
      "[*********************100%%**********************]  1 of 1 completed\n",
      "[*********************100%%**********************]  1 of 1 completed\n",
      "[*********************100%%**********************]  1 of 1 completed\n",
      "c:\\Users\\GRAYBILLKB20\\OneDrive - Grove City College\\Sophomore Year\\FinanceData\\FinanceData\\FinanceDataHelper.py:102: FutureWarning: The behavior of DataFrame concatenation with empty or all-NA entries is deprecated. In a future version, this will no longer exclude empty or all-NA columns when determining the result dtypes. To retain the old behavior, exclude the relevant entries before the concat operation.\n",
      "  return new_append_df if output_df is None else pd.concat([output_df,new_append_df])\n"
     ]
    },
    {
     "name": "stdout",
     "output_type": "stream",
     "text": [
      "340\n"
     ]
    },
    {
     "name": "stderr",
     "output_type": "stream",
     "text": [
      "[*********************100%%**********************]  1 of 1 completed\n",
      "[*********************100%%**********************]  1 of 1 completed\n",
      "[*********************100%%**********************]  1 of 1 completed\n",
      "[*********************100%%**********************]  1 of 1 completed\n",
      "[*********************100%%**********************]  1 of 1 completed\n",
      "c:\\Users\\GRAYBILLKB20\\OneDrive - Grove City College\\Sophomore Year\\FinanceData\\FinanceData\\FinanceDataHelper.py:102: FutureWarning: The behavior of DataFrame concatenation with empty or all-NA entries is deprecated. In a future version, this will no longer exclude empty or all-NA columns when determining the result dtypes. To retain the old behavior, exclude the relevant entries before the concat operation.\n",
      "  return new_append_df if output_df is None else pd.concat([output_df,new_append_df])\n"
     ]
    },
    {
     "name": "stdout",
     "output_type": "stream",
     "text": [
      "Index error retrieving data for NDSN stock on 2024-12-10 00:00:00: single positional indexer is out-of-bounds\n",
      "Index error retrieving data for NDSN stock on 2024-12-09 00:00:00: single positional indexer is out-of-bounds\n",
      "341\n"
     ]
    },
    {
     "name": "stderr",
     "output_type": "stream",
     "text": [
      "[*********************100%%**********************]  1 of 1 completed\n",
      "[*********************100%%**********************]  1 of 1 completed\n",
      "[*********************100%%**********************]  1 of 1 completed\n",
      "[*********************100%%**********************]  1 of 1 completed\n",
      "[*********************100%%**********************]  1 of 1 completed\n",
      "c:\\Users\\GRAYBILLKB20\\OneDrive - Grove City College\\Sophomore Year\\FinanceData\\FinanceData\\FinanceDataHelper.py:102: FutureWarning: The behavior of DataFrame concatenation with empty or all-NA entries is deprecated. In a future version, this will no longer exclude empty or all-NA columns when determining the result dtypes. To retain the old behavior, exclude the relevant entries before the concat operation.\n",
      "  return new_append_df if output_df is None else pd.concat([output_df,new_append_df])\n"
     ]
    },
    {
     "name": "stdout",
     "output_type": "stream",
     "text": [
      "342\n"
     ]
    },
    {
     "name": "stderr",
     "output_type": "stream",
     "text": [
      "[*********************100%%**********************]  1 of 1 completed\n",
      "[*********************100%%**********************]  1 of 1 completed\n",
      "[*********************100%%**********************]  1 of 1 completed\n",
      "[*********************100%%**********************]  1 of 1 completed\n",
      "[*********************100%%**********************]  1 of 1 completed\n",
      "c:\\Users\\GRAYBILLKB20\\OneDrive - Grove City College\\Sophomore Year\\FinanceData\\FinanceData\\FinanceDataHelper.py:102: FutureWarning: The behavior of DataFrame concatenation with empty or all-NA entries is deprecated. In a future version, this will no longer exclude empty or all-NA columns when determining the result dtypes. To retain the old behavior, exclude the relevant entries before the concat operation.\n",
      "  return new_append_df if output_df is None else pd.concat([output_df,new_append_df])\n"
     ]
    },
    {
     "name": "stdout",
     "output_type": "stream",
     "text": [
      "343\n"
     ]
    },
    {
     "name": "stderr",
     "output_type": "stream",
     "text": [
      "[*********************100%%**********************]  1 of 1 completed\n",
      "[*********************100%%**********************]  1 of 1 completed\n",
      "[*********************100%%**********************]  1 of 1 completed\n",
      "[*********************100%%**********************]  1 of 1 completed\n",
      "[*********************100%%**********************]  1 of 1 completed\n",
      "c:\\Users\\GRAYBILLKB20\\OneDrive - Grove City College\\Sophomore Year\\FinanceData\\FinanceData\\FinanceDataHelper.py:102: FutureWarning: The behavior of DataFrame concatenation with empty or all-NA entries is deprecated. In a future version, this will no longer exclude empty or all-NA columns when determining the result dtypes. To retain the old behavior, exclude the relevant entries before the concat operation.\n",
      "  return new_append_df if output_df is None else pd.concat([output_df,new_append_df])\n"
     ]
    },
    {
     "name": "stdout",
     "output_type": "stream",
     "text": [
      "344\n"
     ]
    },
    {
     "name": "stderr",
     "output_type": "stream",
     "text": [
      "[*********************100%%**********************]  1 of 1 completed\n",
      "[*********************100%%**********************]  1 of 1 completed\n",
      "[*********************100%%**********************]  1 of 1 completed\n",
      "[*********************100%%**********************]  1 of 1 completed\n",
      "[*********************100%%**********************]  1 of 1 completed\n",
      "c:\\Users\\GRAYBILLKB20\\OneDrive - Grove City College\\Sophomore Year\\FinanceData\\FinanceData\\FinanceDataHelper.py:102: FutureWarning: The behavior of DataFrame concatenation with empty or all-NA entries is deprecated. In a future version, this will no longer exclude empty or all-NA columns when determining the result dtypes. To retain the old behavior, exclude the relevant entries before the concat operation.\n",
      "  return new_append_df if output_df is None else pd.concat([output_df,new_append_df])\n"
     ]
    },
    {
     "name": "stdout",
     "output_type": "stream",
     "text": [
      "345\n"
     ]
    },
    {
     "name": "stderr",
     "output_type": "stream",
     "text": [
      "[*********************100%%**********************]  1 of 1 completed\n",
      "[*********************100%%**********************]  1 of 1 completed\n",
      "[*********************100%%**********************]  1 of 1 completed\n",
      "[*********************100%%**********************]  1 of 1 completed\n",
      "[*********************100%%**********************]  1 of 1 completed\n",
      "c:\\Users\\GRAYBILLKB20\\OneDrive - Grove City College\\Sophomore Year\\FinanceData\\FinanceData\\FinanceDataHelper.py:102: FutureWarning: The behavior of DataFrame concatenation with empty or all-NA entries is deprecated. In a future version, this will no longer exclude empty or all-NA columns when determining the result dtypes. To retain the old behavior, exclude the relevant entries before the concat operation.\n",
      "  return new_append_df if output_df is None else pd.concat([output_df,new_append_df])\n"
     ]
    },
    {
     "name": "stdout",
     "output_type": "stream",
     "text": [
      "346\n"
     ]
    },
    {
     "name": "stderr",
     "output_type": "stream",
     "text": [
      "[*********************100%%**********************]  1 of 1 completed\n",
      "[*********************100%%**********************]  1 of 1 completed\n",
      "[*********************100%%**********************]  1 of 1 completed\n",
      "[*********************100%%**********************]  1 of 1 completed\n",
      "[*********************100%%**********************]  1 of 1 completed\n",
      "c:\\Users\\GRAYBILLKB20\\OneDrive - Grove City College\\Sophomore Year\\FinanceData\\FinanceData\\FinanceDataHelper.py:102: FutureWarning: The behavior of DataFrame concatenation with empty or all-NA entries is deprecated. In a future version, this will no longer exclude empty or all-NA columns when determining the result dtypes. To retain the old behavior, exclude the relevant entries before the concat operation.\n",
      "  return new_append_df if output_df is None else pd.concat([output_df,new_append_df])\n"
     ]
    },
    {
     "name": "stdout",
     "output_type": "stream",
     "text": [
      "347\n"
     ]
    },
    {
     "name": "stderr",
     "output_type": "stream",
     "text": [
      "[*********************100%%**********************]  1 of 1 completed\n",
      "[*********************100%%**********************]  1 of 1 completed\n",
      "[*********************100%%**********************]  1 of 1 completed\n",
      "[*********************100%%**********************]  1 of 1 completed\n",
      "[*********************100%%**********************]  1 of 1 completed\n",
      "c:\\Users\\GRAYBILLKB20\\OneDrive - Grove City College\\Sophomore Year\\FinanceData\\FinanceData\\FinanceDataHelper.py:102: FutureWarning: The behavior of DataFrame concatenation with empty or all-NA entries is deprecated. In a future version, this will no longer exclude empty or all-NA columns when determining the result dtypes. To retain the old behavior, exclude the relevant entries before the concat operation.\n",
      "  return new_append_df if output_df is None else pd.concat([output_df,new_append_df])\n"
     ]
    },
    {
     "name": "stdout",
     "output_type": "stream",
     "text": [
      "348\n"
     ]
    },
    {
     "name": "stderr",
     "output_type": "stream",
     "text": [
      "[*********************100%%**********************]  1 of 1 completed\n",
      "[*********************100%%**********************]  1 of 1 completed\n",
      "[*********************100%%**********************]  1 of 1 completed\n",
      "[*********************100%%**********************]  1 of 1 completed\n",
      "[*********************100%%**********************]  1 of 1 completed\n",
      "c:\\Users\\GRAYBILLKB20\\OneDrive - Grove City College\\Sophomore Year\\FinanceData\\FinanceData\\FinanceDataHelper.py:102: FutureWarning: The behavior of DataFrame concatenation with empty or all-NA entries is deprecated. In a future version, this will no longer exclude empty or all-NA columns when determining the result dtypes. To retain the old behavior, exclude the relevant entries before the concat operation.\n",
      "  return new_append_df if output_df is None else pd.concat([output_df,new_append_df])\n"
     ]
    },
    {
     "name": "stdout",
     "output_type": "stream",
     "text": [
      "Index error retrieving data for NVR stock on 2024-12-10 00:00:00: single positional indexer is out-of-bounds\n",
      "Index error retrieving data for NVR stock on 2024-12-09 00:00:00: single positional indexer is out-of-bounds\n",
      "349\n"
     ]
    },
    {
     "name": "stderr",
     "output_type": "stream",
     "text": [
      "[*********************100%%**********************]  1 of 1 completed\n",
      "[*********************100%%**********************]  1 of 1 completed\n",
      "[*********************100%%**********************]  1 of 1 completed\n",
      "[*********************100%%**********************]  1 of 1 completed\n",
      "[*********************100%%**********************]  1 of 1 completed\n",
      "c:\\Users\\GRAYBILLKB20\\OneDrive - Grove City College\\Sophomore Year\\FinanceData\\FinanceData\\FinanceDataHelper.py:102: FutureWarning: The behavior of DataFrame concatenation with empty or all-NA entries is deprecated. In a future version, this will no longer exclude empty or all-NA columns when determining the result dtypes. To retain the old behavior, exclude the relevant entries before the concat operation.\n",
      "  return new_append_df if output_df is None else pd.concat([output_df,new_append_df])\n"
     ]
    },
    {
     "name": "stdout",
     "output_type": "stream",
     "text": [
      "350\n"
     ]
    },
    {
     "name": "stderr",
     "output_type": "stream",
     "text": [
      "[*********************100%%**********************]  1 of 1 completed\n",
      "[*********************100%%**********************]  1 of 1 completed\n",
      "[*********************100%%**********************]  1 of 1 completed\n",
      "[*********************100%%**********************]  1 of 1 completed\n",
      "[*********************100%%**********************]  1 of 1 completed\n",
      "c:\\Users\\GRAYBILLKB20\\OneDrive - Grove City College\\Sophomore Year\\FinanceData\\FinanceData\\FinanceDataHelper.py:102: FutureWarning: The behavior of DataFrame concatenation with empty or all-NA entries is deprecated. In a future version, this will no longer exclude empty or all-NA columns when determining the result dtypes. To retain the old behavior, exclude the relevant entries before the concat operation.\n",
      "  return new_append_df if output_df is None else pd.concat([output_df,new_append_df])\n"
     ]
    },
    {
     "name": "stdout",
     "output_type": "stream",
     "text": [
      "Index error retrieving data for ORLY stock on 2024-12-10 00:00:00: single positional indexer is out-of-bounds\n",
      "Index error retrieving data for ORLY stock on 2024-12-09 00:00:00: single positional indexer is out-of-bounds\n",
      "351\n"
     ]
    },
    {
     "name": "stderr",
     "output_type": "stream",
     "text": [
      "[*********************100%%**********************]  1 of 1 completed\n",
      "[*********************100%%**********************]  1 of 1 completed\n",
      "[*********************100%%**********************]  1 of 1 completed\n",
      "[*********************100%%**********************]  1 of 1 completed\n",
      "[*********************100%%**********************]  1 of 1 completed\n",
      "c:\\Users\\GRAYBILLKB20\\OneDrive - Grove City College\\Sophomore Year\\FinanceData\\FinanceData\\FinanceDataHelper.py:102: FutureWarning: The behavior of DataFrame concatenation with empty or all-NA entries is deprecated. In a future version, this will no longer exclude empty or all-NA columns when determining the result dtypes. To retain the old behavior, exclude the relevant entries before the concat operation.\n",
      "  return new_append_df if output_df is None else pd.concat([output_df,new_append_df])\n"
     ]
    },
    {
     "name": "stdout",
     "output_type": "stream",
     "text": [
      "352\n"
     ]
    },
    {
     "name": "stderr",
     "output_type": "stream",
     "text": [
      "[*********************100%%**********************]  1 of 1 completed\n",
      "[*********************100%%**********************]  1 of 1 completed\n",
      "[*********************100%%**********************]  1 of 1 completed\n",
      "[*********************100%%**********************]  1 of 1 completed\n",
      "[*********************100%%**********************]  1 of 1 completed\n",
      "c:\\Users\\GRAYBILLKB20\\OneDrive - Grove City College\\Sophomore Year\\FinanceData\\FinanceData\\FinanceDataHelper.py:102: FutureWarning: The behavior of DataFrame concatenation with empty or all-NA entries is deprecated. In a future version, this will no longer exclude empty or all-NA columns when determining the result dtypes. To retain the old behavior, exclude the relevant entries before the concat operation.\n",
      "  return new_append_df if output_df is None else pd.concat([output_df,new_append_df])\n"
     ]
    },
    {
     "name": "stdout",
     "output_type": "stream",
     "text": [
      "353\n"
     ]
    },
    {
     "name": "stderr",
     "output_type": "stream",
     "text": [
      "[*********************100%%**********************]  1 of 1 completed\n",
      "[*********************100%%**********************]  1 of 1 completed\n",
      "[*********************100%%**********************]  1 of 1 completed\n",
      "[*********************100%%**********************]  1 of 1 completed\n",
      "[*********************100%%**********************]  1 of 1 completed\n",
      "c:\\Users\\GRAYBILLKB20\\OneDrive - Grove City College\\Sophomore Year\\FinanceData\\FinanceData\\FinanceDataHelper.py:102: FutureWarning: The behavior of DataFrame concatenation with empty or all-NA entries is deprecated. In a future version, this will no longer exclude empty or all-NA columns when determining the result dtypes. To retain the old behavior, exclude the relevant entries before the concat operation.\n",
      "  return new_append_df if output_df is None else pd.concat([output_df,new_append_df])\n"
     ]
    },
    {
     "name": "stdout",
     "output_type": "stream",
     "text": [
      "354\n"
     ]
    },
    {
     "name": "stderr",
     "output_type": "stream",
     "text": [
      "[*********************100%%**********************]  1 of 1 completed\n",
      "[*********************100%%**********************]  1 of 1 completed\n",
      "[*********************100%%**********************]  1 of 1 completed\n",
      "[*********************100%%**********************]  1 of 1 completed\n",
      "[*********************100%%**********************]  1 of 1 completed\n",
      "c:\\Users\\GRAYBILLKB20\\OneDrive - Grove City College\\Sophomore Year\\FinanceData\\FinanceData\\FinanceDataHelper.py:102: FutureWarning: The behavior of DataFrame concatenation with empty or all-NA entries is deprecated. In a future version, this will no longer exclude empty or all-NA columns when determining the result dtypes. To retain the old behavior, exclude the relevant entries before the concat operation.\n",
      "  return new_append_df if output_df is None else pd.concat([output_df,new_append_df])\n"
     ]
    },
    {
     "name": "stdout",
     "output_type": "stream",
     "text": [
      "355\n"
     ]
    },
    {
     "name": "stderr",
     "output_type": "stream",
     "text": [
      "[*********************100%%**********************]  1 of 1 completed\n",
      "[*********************100%%**********************]  1 of 1 completed\n",
      "[*********************100%%**********************]  1 of 1 completed\n",
      "[*********************100%%**********************]  1 of 1 completed\n",
      "[*********************100%%**********************]  1 of 1 completed\n",
      "c:\\Users\\GRAYBILLKB20\\OneDrive - Grove City College\\Sophomore Year\\FinanceData\\FinanceData\\FinanceDataHelper.py:102: FutureWarning: The behavior of DataFrame concatenation with empty or all-NA entries is deprecated. In a future version, this will no longer exclude empty or all-NA columns when determining the result dtypes. To retain the old behavior, exclude the relevant entries before the concat operation.\n",
      "  return new_append_df if output_df is None else pd.concat([output_df,new_append_df])\n"
     ]
    },
    {
     "name": "stdout",
     "output_type": "stream",
     "text": [
      "356\n"
     ]
    },
    {
     "name": "stderr",
     "output_type": "stream",
     "text": [
      "[*********************100%%**********************]  1 of 1 completed\n",
      "[*********************100%%**********************]  1 of 1 completed\n",
      "[*********************100%%**********************]  1 of 1 completed\n",
      "[*********************100%%**********************]  1 of 1 completed\n",
      "[*********************100%%**********************]  1 of 1 completed\n",
      "c:\\Users\\GRAYBILLKB20\\OneDrive - Grove City College\\Sophomore Year\\FinanceData\\FinanceData\\FinanceDataHelper.py:102: FutureWarning: The behavior of DataFrame concatenation with empty or all-NA entries is deprecated. In a future version, this will no longer exclude empty or all-NA columns when determining the result dtypes. To retain the old behavior, exclude the relevant entries before the concat operation.\n",
      "  return new_append_df if output_df is None else pd.concat([output_df,new_append_df])\n"
     ]
    },
    {
     "name": "stdout",
     "output_type": "stream",
     "text": [
      "357\n"
     ]
    },
    {
     "name": "stderr",
     "output_type": "stream",
     "text": [
      "[*********************100%%**********************]  1 of 1 completed\n",
      "[*********************100%%**********************]  1 of 1 completed\n",
      "[*********************100%%**********************]  1 of 1 completed\n",
      "[*********************100%%**********************]  1 of 1 completed\n",
      "[*********************100%%**********************]  1 of 1 completed\n",
      "c:\\Users\\GRAYBILLKB20\\OneDrive - Grove City College\\Sophomore Year\\FinanceData\\FinanceData\\FinanceDataHelper.py:102: FutureWarning: The behavior of DataFrame concatenation with empty or all-NA entries is deprecated. In a future version, this will no longer exclude empty or all-NA columns when determining the result dtypes. To retain the old behavior, exclude the relevant entries before the concat operation.\n",
      "  return new_append_df if output_df is None else pd.concat([output_df,new_append_df])\n"
     ]
    },
    {
     "name": "stdout",
     "output_type": "stream",
     "text": [
      "358\n"
     ]
    },
    {
     "name": "stderr",
     "output_type": "stream",
     "text": [
      "[*********************100%%**********************]  1 of 1 completed\n",
      "[*********************100%%**********************]  1 of 1 completed\n",
      "[*********************100%%**********************]  1 of 1 completed\n",
      "[*********************100%%**********************]  1 of 1 completed\n",
      "[*********************100%%**********************]  1 of 1 completed\n",
      "c:\\Users\\GRAYBILLKB20\\OneDrive - Grove City College\\Sophomore Year\\FinanceData\\FinanceData\\FinanceDataHelper.py:102: FutureWarning: The behavior of DataFrame concatenation with empty or all-NA entries is deprecated. In a future version, this will no longer exclude empty or all-NA columns when determining the result dtypes. To retain the old behavior, exclude the relevant entries before the concat operation.\n",
      "  return new_append_df if output_df is None else pd.concat([output_df,new_append_df])\n"
     ]
    },
    {
     "name": "stdout",
     "output_type": "stream",
     "text": [
      "359\n"
     ]
    },
    {
     "name": "stderr",
     "output_type": "stream",
     "text": [
      "[*********************100%%**********************]  1 of 1 completed\n",
      "[*********************100%%**********************]  1 of 1 completed\n",
      "[*********************100%%**********************]  1 of 1 completed\n",
      "[*********************100%%**********************]  1 of 1 completed\n",
      "[*********************100%%**********************]  1 of 1 completed\n",
      "c:\\Users\\GRAYBILLKB20\\OneDrive - Grove City College\\Sophomore Year\\FinanceData\\FinanceData\\FinanceDataHelper.py:102: FutureWarning: The behavior of DataFrame concatenation with empty or all-NA entries is deprecated. In a future version, this will no longer exclude empty or all-NA columns when determining the result dtypes. To retain the old behavior, exclude the relevant entries before the concat operation.\n",
      "  return new_append_df if output_df is None else pd.concat([output_df,new_append_df])\n"
     ]
    },
    {
     "name": "stdout",
     "output_type": "stream",
     "text": [
      "Index error retrieving data for PKG stock on 2024-12-09 00:00:00: single positional indexer is out-of-bounds\n",
      "360\n"
     ]
    },
    {
     "name": "stderr",
     "output_type": "stream",
     "text": [
      "[*********************100%%**********************]  1 of 1 completed\n",
      "[*********************100%%**********************]  1 of 1 completed\n",
      "[*********************100%%**********************]  1 of 1 completed\n",
      "[*********************100%%**********************]  1 of 1 completed\n",
      "[*********************100%%**********************]  1 of 1 completed\n",
      "c:\\Users\\GRAYBILLKB20\\OneDrive - Grove City College\\Sophomore Year\\FinanceData\\FinanceData\\FinanceDataHelper.py:102: FutureWarning: The behavior of DataFrame concatenation with empty or all-NA entries is deprecated. In a future version, this will no longer exclude empty or all-NA columns when determining the result dtypes. To retain the old behavior, exclude the relevant entries before the concat operation.\n",
      "  return new_append_df if output_df is None else pd.concat([output_df,new_append_df])\n"
     ]
    },
    {
     "name": "stdout",
     "output_type": "stream",
     "text": [
      "361\n"
     ]
    },
    {
     "name": "stderr",
     "output_type": "stream",
     "text": [
      "[*********************100%%**********************]  1 of 1 completed\n",
      "[*********************100%%**********************]  1 of 1 completed\n",
      "[*********************100%%**********************]  1 of 1 completed\n",
      "[*********************100%%**********************]  1 of 1 completed\n",
      "[*********************100%%**********************]  1 of 1 completed\n",
      "c:\\Users\\GRAYBILLKB20\\OneDrive - Grove City College\\Sophomore Year\\FinanceData\\FinanceData\\FinanceDataHelper.py:102: FutureWarning: The behavior of DataFrame concatenation with empty or all-NA entries is deprecated. In a future version, this will no longer exclude empty or all-NA columns when determining the result dtypes. To retain the old behavior, exclude the relevant entries before the concat operation.\n",
      "  return new_append_df if output_df is None else pd.concat([output_df,new_append_df])\n"
     ]
    },
    {
     "name": "stdout",
     "output_type": "stream",
     "text": [
      "362\n"
     ]
    },
    {
     "name": "stderr",
     "output_type": "stream",
     "text": [
      "[*********************100%%**********************]  1 of 1 completed\n",
      "[*********************100%%**********************]  1 of 1 completed\n",
      "[*********************100%%**********************]  1 of 1 completed\n",
      "[*********************100%%**********************]  1 of 1 completed\n",
      "[*********************100%%**********************]  1 of 1 completed\n",
      "c:\\Users\\GRAYBILLKB20\\OneDrive - Grove City College\\Sophomore Year\\FinanceData\\FinanceData\\FinanceDataHelper.py:102: FutureWarning: The behavior of DataFrame concatenation with empty or all-NA entries is deprecated. In a future version, this will no longer exclude empty or all-NA columns when determining the result dtypes. To retain the old behavior, exclude the relevant entries before the concat operation.\n",
      "  return new_append_df if output_df is None else pd.concat([output_df,new_append_df])\n"
     ]
    },
    {
     "name": "stdout",
     "output_type": "stream",
     "text": [
      "363\n"
     ]
    },
    {
     "name": "stderr",
     "output_type": "stream",
     "text": [
      "[*********************100%%**********************]  1 of 1 completed\n",
      "[*********************100%%**********************]  1 of 1 completed\n",
      "[*********************100%%**********************]  1 of 1 completed\n",
      "[*********************100%%**********************]  1 of 1 completed\n",
      "[*********************100%%**********************]  1 of 1 completed\n",
      "c:\\Users\\GRAYBILLKB20\\OneDrive - Grove City College\\Sophomore Year\\FinanceData\\FinanceData\\FinanceDataHelper.py:102: FutureWarning: The behavior of DataFrame concatenation with empty or all-NA entries is deprecated. In a future version, this will no longer exclude empty or all-NA columns when determining the result dtypes. To retain the old behavior, exclude the relevant entries before the concat operation.\n",
      "  return new_append_df if output_df is None else pd.concat([output_df,new_append_df])\n"
     ]
    },
    {
     "name": "stdout",
     "output_type": "stream",
     "text": [
      "Index error retrieving data for PH stock on 2024-12-09 00:00:00: single positional indexer is out-of-bounds\n",
      "364\n"
     ]
    },
    {
     "name": "stderr",
     "output_type": "stream",
     "text": [
      "[*********************100%%**********************]  1 of 1 completed\n",
      "[*********************100%%**********************]  1 of 1 completed\n",
      "[*********************100%%**********************]  1 of 1 completed\n",
      "[*********************100%%**********************]  1 of 1 completed\n",
      "[*********************100%%**********************]  1 of 1 completed\n",
      "c:\\Users\\GRAYBILLKB20\\OneDrive - Grove City College\\Sophomore Year\\FinanceData\\FinanceData\\FinanceDataHelper.py:102: FutureWarning: The behavior of DataFrame concatenation with empty or all-NA entries is deprecated. In a future version, this will no longer exclude empty or all-NA columns when determining the result dtypes. To retain the old behavior, exclude the relevant entries before the concat operation.\n",
      "  return new_append_df if output_df is None else pd.concat([output_df,new_append_df])\n"
     ]
    },
    {
     "name": "stdout",
     "output_type": "stream",
     "text": [
      "365\n"
     ]
    },
    {
     "name": "stderr",
     "output_type": "stream",
     "text": [
      "[*********************100%%**********************]  1 of 1 completed\n",
      "[*********************100%%**********************]  1 of 1 completed\n",
      "[*********************100%%**********************]  1 of 1 completed\n",
      "[*********************100%%**********************]  1 of 1 completed\n",
      "[*********************100%%**********************]  1 of 1 completed\n",
      "c:\\Users\\GRAYBILLKB20\\OneDrive - Grove City College\\Sophomore Year\\FinanceData\\FinanceData\\FinanceDataHelper.py:102: FutureWarning: The behavior of DataFrame concatenation with empty or all-NA entries is deprecated. In a future version, this will no longer exclude empty or all-NA columns when determining the result dtypes. To retain the old behavior, exclude the relevant entries before the concat operation.\n",
      "  return new_append_df if output_df is None else pd.concat([output_df,new_append_df])\n"
     ]
    },
    {
     "name": "stdout",
     "output_type": "stream",
     "text": [
      "Index error retrieving data for PAYC stock on 2024-12-09 00:00:00: single positional indexer is out-of-bounds\n",
      "366\n"
     ]
    },
    {
     "name": "stderr",
     "output_type": "stream",
     "text": [
      "[*********************100%%**********************]  1 of 1 completed\n",
      "[*********************100%%**********************]  1 of 1 completed\n",
      "[*********************100%%**********************]  1 of 1 completed\n",
      "[*********************100%%**********************]  1 of 1 completed\n",
      "[*********************100%%**********************]  1 of 1 completed\n",
      "c:\\Users\\GRAYBILLKB20\\OneDrive - Grove City College\\Sophomore Year\\FinanceData\\FinanceData\\FinanceDataHelper.py:102: FutureWarning: The behavior of DataFrame concatenation with empty or all-NA entries is deprecated. In a future version, this will no longer exclude empty or all-NA columns when determining the result dtypes. To retain the old behavior, exclude the relevant entries before the concat operation.\n",
      "  return new_append_df if output_df is None else pd.concat([output_df,new_append_df])\n"
     ]
    },
    {
     "name": "stdout",
     "output_type": "stream",
     "text": [
      "367\n"
     ]
    },
    {
     "name": "stderr",
     "output_type": "stream",
     "text": [
      "[*********************100%%**********************]  1 of 1 completed\n",
      "[*********************100%%**********************]  1 of 1 completed\n",
      "[*********************100%%**********************]  1 of 1 completed\n",
      "[*********************100%%**********************]  1 of 1 completed\n",
      "[*********************100%%**********************]  1 of 1 completed\n",
      "c:\\Users\\GRAYBILLKB20\\OneDrive - Grove City College\\Sophomore Year\\FinanceData\\FinanceData\\FinanceDataHelper.py:102: FutureWarning: The behavior of DataFrame concatenation with empty or all-NA entries is deprecated. In a future version, this will no longer exclude empty or all-NA columns when determining the result dtypes. To retain the old behavior, exclude the relevant entries before the concat operation.\n",
      "  return new_append_df if output_df is None else pd.concat([output_df,new_append_df])\n"
     ]
    },
    {
     "name": "stdout",
     "output_type": "stream",
     "text": [
      "368\n"
     ]
    },
    {
     "name": "stderr",
     "output_type": "stream",
     "text": [
      "[*********************100%%**********************]  1 of 1 completed\n",
      "[*********************100%%**********************]  1 of 1 completed\n",
      "[*********************100%%**********************]  1 of 1 completed\n",
      "[*********************100%%**********************]  1 of 1 completed\n",
      "[*********************100%%**********************]  1 of 1 completed\n",
      "c:\\Users\\GRAYBILLKB20\\OneDrive - Grove City College\\Sophomore Year\\FinanceData\\FinanceData\\FinanceDataHelper.py:102: FutureWarning: The behavior of DataFrame concatenation with empty or all-NA entries is deprecated. In a future version, this will no longer exclude empty or all-NA columns when determining the result dtypes. To retain the old behavior, exclude the relevant entries before the concat operation.\n",
      "  return new_append_df if output_df is None else pd.concat([output_df,new_append_df])\n"
     ]
    },
    {
     "name": "stdout",
     "output_type": "stream",
     "text": [
      "369\n"
     ]
    },
    {
     "name": "stderr",
     "output_type": "stream",
     "text": [
      "[*********************100%%**********************]  1 of 1 completed\n",
      "[*********************100%%**********************]  1 of 1 completed\n",
      "[*********************100%%**********************]  1 of 1 completed\n",
      "[*********************100%%**********************]  1 of 1 completed\n",
      "[*********************100%%**********************]  1 of 1 completed\n",
      "c:\\Users\\GRAYBILLKB20\\OneDrive - Grove City College\\Sophomore Year\\FinanceData\\FinanceData\\FinanceDataHelper.py:102: FutureWarning: The behavior of DataFrame concatenation with empty or all-NA entries is deprecated. In a future version, this will no longer exclude empty or all-NA columns when determining the result dtypes. To retain the old behavior, exclude the relevant entries before the concat operation.\n",
      "  return new_append_df if output_df is None else pd.concat([output_df,new_append_df])\n"
     ]
    },
    {
     "name": "stdout",
     "output_type": "stream",
     "text": [
      "370\n"
     ]
    },
    {
     "name": "stderr",
     "output_type": "stream",
     "text": [
      "[*********************100%%**********************]  1 of 1 completed\n",
      "[*********************100%%**********************]  1 of 1 completed\n",
      "[*********************100%%**********************]  1 of 1 completed\n",
      "[*********************100%%**********************]  1 of 1 completed\n",
      "[*********************100%%**********************]  1 of 1 completed\n",
      "c:\\Users\\GRAYBILLKB20\\OneDrive - Grove City College\\Sophomore Year\\FinanceData\\FinanceData\\FinanceDataHelper.py:102: FutureWarning: The behavior of DataFrame concatenation with empty or all-NA entries is deprecated. In a future version, this will no longer exclude empty or all-NA columns when determining the result dtypes. To retain the old behavior, exclude the relevant entries before the concat operation.\n",
      "  return new_append_df if output_df is None else pd.concat([output_df,new_append_df])\n"
     ]
    },
    {
     "name": "stdout",
     "output_type": "stream",
     "text": [
      "371\n"
     ]
    },
    {
     "name": "stderr",
     "output_type": "stream",
     "text": [
      "[*********************100%%**********************]  1 of 1 completed\n",
      "[*********************100%%**********************]  1 of 1 completed\n",
      "[*********************100%%**********************]  1 of 1 completed\n",
      "[*********************100%%**********************]  1 of 1 completed\n",
      "[*********************100%%**********************]  1 of 1 completed\n",
      "c:\\Users\\GRAYBILLKB20\\OneDrive - Grove City College\\Sophomore Year\\FinanceData\\FinanceData\\FinanceDataHelper.py:102: FutureWarning: The behavior of DataFrame concatenation with empty or all-NA entries is deprecated. In a future version, this will no longer exclude empty or all-NA columns when determining the result dtypes. To retain the old behavior, exclude the relevant entries before the concat operation.\n",
      "  return new_append_df if output_df is None else pd.concat([output_df,new_append_df])\n"
     ]
    },
    {
     "name": "stdout",
     "output_type": "stream",
     "text": [
      "372\n"
     ]
    },
    {
     "name": "stderr",
     "output_type": "stream",
     "text": [
      "[*********************100%%**********************]  1 of 1 completed\n",
      "[*********************100%%**********************]  1 of 1 completed\n",
      "[*********************100%%**********************]  1 of 1 completed\n",
      "[*********************100%%**********************]  1 of 1 completed\n",
      "[*********************100%%**********************]  1 of 1 completed\n",
      "c:\\Users\\GRAYBILLKB20\\OneDrive - Grove City College\\Sophomore Year\\FinanceData\\FinanceData\\FinanceDataHelper.py:102: FutureWarning: The behavior of DataFrame concatenation with empty or all-NA entries is deprecated. In a future version, this will no longer exclude empty or all-NA columns when determining the result dtypes. To retain the old behavior, exclude the relevant entries before the concat operation.\n",
      "  return new_append_df if output_df is None else pd.concat([output_df,new_append_df])\n"
     ]
    },
    {
     "name": "stdout",
     "output_type": "stream",
     "text": [
      "373\n"
     ]
    },
    {
     "name": "stderr",
     "output_type": "stream",
     "text": [
      "[*********************100%%**********************]  1 of 1 completed\n",
      "[*********************100%%**********************]  1 of 1 completed\n",
      "[*********************100%%**********************]  1 of 1 completed\n",
      "[*********************100%%**********************]  1 of 1 completed\n",
      "[*********************100%%**********************]  1 of 1 completed\n",
      "c:\\Users\\GRAYBILLKB20\\OneDrive - Grove City College\\Sophomore Year\\FinanceData\\FinanceData\\FinanceDataHelper.py:102: FutureWarning: The behavior of DataFrame concatenation with empty or all-NA entries is deprecated. In a future version, this will no longer exclude empty or all-NA columns when determining the result dtypes. To retain the old behavior, exclude the relevant entries before the concat operation.\n",
      "  return new_append_df if output_df is None else pd.concat([output_df,new_append_df])\n"
     ]
    },
    {
     "name": "stdout",
     "output_type": "stream",
     "text": [
      "374\n"
     ]
    },
    {
     "name": "stderr",
     "output_type": "stream",
     "text": [
      "[*********************100%%**********************]  1 of 1 completed\n",
      "[*********************100%%**********************]  1 of 1 completed\n",
      "[*********************100%%**********************]  1 of 1 completed\n",
      "[*********************100%%**********************]  1 of 1 completed\n",
      "[*********************100%%**********************]  1 of 1 completed\n",
      "c:\\Users\\GRAYBILLKB20\\OneDrive - Grove City College\\Sophomore Year\\FinanceData\\FinanceData\\FinanceDataHelper.py:102: FutureWarning: The behavior of DataFrame concatenation with empty or all-NA entries is deprecated. In a future version, this will no longer exclude empty or all-NA columns when determining the result dtypes. To retain the old behavior, exclude the relevant entries before the concat operation.\n",
      "  return new_append_df if output_df is None else pd.concat([output_df,new_append_df])\n"
     ]
    },
    {
     "name": "stdout",
     "output_type": "stream",
     "text": [
      "375\n"
     ]
    },
    {
     "name": "stderr",
     "output_type": "stream",
     "text": [
      "[*********************100%%**********************]  1 of 1 completed\n",
      "[*********************100%%**********************]  1 of 1 completed\n",
      "[*********************100%%**********************]  1 of 1 completed\n",
      "[*********************100%%**********************]  1 of 1 completed\n",
      "[*********************100%%**********************]  1 of 1 completed\n",
      "c:\\Users\\GRAYBILLKB20\\OneDrive - Grove City College\\Sophomore Year\\FinanceData\\FinanceData\\FinanceDataHelper.py:102: FutureWarning: The behavior of DataFrame concatenation with empty or all-NA entries is deprecated. In a future version, this will no longer exclude empty or all-NA columns when determining the result dtypes. To retain the old behavior, exclude the relevant entries before the concat operation.\n",
      "  return new_append_df if output_df is None else pd.concat([output_df,new_append_df])\n"
     ]
    },
    {
     "name": "stdout",
     "output_type": "stream",
     "text": [
      "Index error retrieving data for POOL stock on 2024-12-10 00:00:00: single positional indexer is out-of-bounds\n",
      "Index error retrieving data for POOL stock on 2024-12-09 00:00:00: single positional indexer is out-of-bounds\n",
      "376\n"
     ]
    },
    {
     "name": "stderr",
     "output_type": "stream",
     "text": [
      "[*********************100%%**********************]  1 of 1 completed\n",
      "[*********************100%%**********************]  1 of 1 completed\n",
      "[*********************100%%**********************]  1 of 1 completed\n",
      "[*********************100%%**********************]  1 of 1 completed\n",
      "[*********************100%%**********************]  1 of 1 completed\n",
      "c:\\Users\\GRAYBILLKB20\\OneDrive - Grove City College\\Sophomore Year\\FinanceData\\FinanceData\\FinanceDataHelper.py:102: FutureWarning: The behavior of DataFrame concatenation with empty or all-NA entries is deprecated. In a future version, this will no longer exclude empty or all-NA columns when determining the result dtypes. To retain the old behavior, exclude the relevant entries before the concat operation.\n",
      "  return new_append_df if output_df is None else pd.concat([output_df,new_append_df])\n"
     ]
    },
    {
     "name": "stdout",
     "output_type": "stream",
     "text": [
      "377\n"
     ]
    },
    {
     "name": "stderr",
     "output_type": "stream",
     "text": [
      "[*********************100%%**********************]  1 of 1 completed\n",
      "[*********************100%%**********************]  1 of 1 completed\n",
      "[*********************100%%**********************]  1 of 1 completed\n",
      "[*********************100%%**********************]  1 of 1 completed\n",
      "[*********************100%%**********************]  1 of 1 completed\n",
      "c:\\Users\\GRAYBILLKB20\\OneDrive - Grove City College\\Sophomore Year\\FinanceData\\FinanceData\\FinanceDataHelper.py:102: FutureWarning: The behavior of DataFrame concatenation with empty or all-NA entries is deprecated. In a future version, this will no longer exclude empty or all-NA columns when determining the result dtypes. To retain the old behavior, exclude the relevant entries before the concat operation.\n",
      "  return new_append_df if output_df is None else pd.concat([output_df,new_append_df])\n"
     ]
    },
    {
     "name": "stdout",
     "output_type": "stream",
     "text": [
      "378\n"
     ]
    },
    {
     "name": "stderr",
     "output_type": "stream",
     "text": [
      "[*********************100%%**********************]  1 of 1 completed\n",
      "[*********************100%%**********************]  1 of 1 completed\n",
      "[*********************100%%**********************]  1 of 1 completed\n",
      "[*********************100%%**********************]  1 of 1 completed\n",
      "[*********************100%%**********************]  1 of 1 completed\n",
      "c:\\Users\\GRAYBILLKB20\\OneDrive - Grove City College\\Sophomore Year\\FinanceData\\FinanceData\\FinanceDataHelper.py:102: FutureWarning: The behavior of DataFrame concatenation with empty or all-NA entries is deprecated. In a future version, this will no longer exclude empty or all-NA columns when determining the result dtypes. To retain the old behavior, exclude the relevant entries before the concat operation.\n",
      "  return new_append_df if output_df is None else pd.concat([output_df,new_append_df])\n"
     ]
    },
    {
     "name": "stdout",
     "output_type": "stream",
     "text": [
      "379\n"
     ]
    },
    {
     "name": "stderr",
     "output_type": "stream",
     "text": [
      "[*********************100%%**********************]  1 of 1 completed\n",
      "[*********************100%%**********************]  1 of 1 completed\n",
      "[*********************100%%**********************]  1 of 1 completed\n",
      "[*********************100%%**********************]  1 of 1 completed\n",
      "[*********************100%%**********************]  1 of 1 completed\n",
      "c:\\Users\\GRAYBILLKB20\\OneDrive - Grove City College\\Sophomore Year\\FinanceData\\FinanceData\\FinanceDataHelper.py:102: FutureWarning: The behavior of DataFrame concatenation with empty or all-NA entries is deprecated. In a future version, this will no longer exclude empty or all-NA columns when determining the result dtypes. To retain the old behavior, exclude the relevant entries before the concat operation.\n",
      "  return new_append_df if output_df is None else pd.concat([output_df,new_append_df])\n"
     ]
    },
    {
     "name": "stdout",
     "output_type": "stream",
     "text": [
      "380\n"
     ]
    },
    {
     "name": "stderr",
     "output_type": "stream",
     "text": [
      "[*********************100%%**********************]  1 of 1 completed\n",
      "[*********************100%%**********************]  1 of 1 completed\n",
      "[*********************100%%**********************]  1 of 1 completed\n",
      "[*********************100%%**********************]  1 of 1 completed\n",
      "[*********************100%%**********************]  1 of 1 completed\n",
      "c:\\Users\\GRAYBILLKB20\\OneDrive - Grove City College\\Sophomore Year\\FinanceData\\FinanceData\\FinanceDataHelper.py:102: FutureWarning: The behavior of DataFrame concatenation with empty or all-NA entries is deprecated. In a future version, this will no longer exclude empty or all-NA columns when determining the result dtypes. To retain the old behavior, exclude the relevant entries before the concat operation.\n",
      "  return new_append_df if output_df is None else pd.concat([output_df,new_append_df])\n"
     ]
    },
    {
     "name": "stdout",
     "output_type": "stream",
     "text": [
      "381\n"
     ]
    },
    {
     "name": "stderr",
     "output_type": "stream",
     "text": [
      "[*********************100%%**********************]  1 of 1 completed\n",
      "[*********************100%%**********************]  1 of 1 completed\n",
      "[*********************100%%**********************]  1 of 1 completed\n",
      "[*********************100%%**********************]  1 of 1 completed\n",
      "[*********************100%%**********************]  1 of 1 completed\n",
      "c:\\Users\\GRAYBILLKB20\\OneDrive - Grove City College\\Sophomore Year\\FinanceData\\FinanceData\\FinanceDataHelper.py:102: FutureWarning: The behavior of DataFrame concatenation with empty or all-NA entries is deprecated. In a future version, this will no longer exclude empty or all-NA columns when determining the result dtypes. To retain the old behavior, exclude the relevant entries before the concat operation.\n",
      "  return new_append_df if output_df is None else pd.concat([output_df,new_append_df])\n"
     ]
    },
    {
     "name": "stdout",
     "output_type": "stream",
     "text": [
      "382\n"
     ]
    },
    {
     "name": "stderr",
     "output_type": "stream",
     "text": [
      "[*********************100%%**********************]  1 of 1 completed\n",
      "[*********************100%%**********************]  1 of 1 completed\n",
      "[*********************100%%**********************]  1 of 1 completed\n",
      "[*********************100%%**********************]  1 of 1 completed\n",
      "[*********************100%%**********************]  1 of 1 completed\n",
      "c:\\Users\\GRAYBILLKB20\\OneDrive - Grove City College\\Sophomore Year\\FinanceData\\FinanceData\\FinanceDataHelper.py:102: FutureWarning: The behavior of DataFrame concatenation with empty or all-NA entries is deprecated. In a future version, this will no longer exclude empty or all-NA columns when determining the result dtypes. To retain the old behavior, exclude the relevant entries before the concat operation.\n",
      "  return new_append_df if output_df is None else pd.concat([output_df,new_append_df])\n"
     ]
    },
    {
     "name": "stdout",
     "output_type": "stream",
     "text": [
      "383\n"
     ]
    },
    {
     "name": "stderr",
     "output_type": "stream",
     "text": [
      "[*********************100%%**********************]  1 of 1 completed\n",
      "[*********************100%%**********************]  1 of 1 completed\n",
      "[*********************100%%**********************]  1 of 1 completed\n",
      "[*********************100%%**********************]  1 of 1 completed\n",
      "[*********************100%%**********************]  1 of 1 completed\n",
      "c:\\Users\\GRAYBILLKB20\\OneDrive - Grove City College\\Sophomore Year\\FinanceData\\FinanceData\\FinanceDataHelper.py:102: FutureWarning: The behavior of DataFrame concatenation with empty or all-NA entries is deprecated. In a future version, this will no longer exclude empty or all-NA columns when determining the result dtypes. To retain the old behavior, exclude the relevant entries before the concat operation.\n",
      "  return new_append_df if output_df is None else pd.concat([output_df,new_append_df])\n"
     ]
    },
    {
     "name": "stdout",
     "output_type": "stream",
     "text": [
      "384\n"
     ]
    },
    {
     "name": "stderr",
     "output_type": "stream",
     "text": [
      "[*********************100%%**********************]  1 of 1 completed\n",
      "[*********************100%%**********************]  1 of 1 completed\n",
      "[*********************100%%**********************]  1 of 1 completed\n",
      "[*********************100%%**********************]  1 of 1 completed\n",
      "[*********************100%%**********************]  1 of 1 completed\n",
      "c:\\Users\\GRAYBILLKB20\\OneDrive - Grove City College\\Sophomore Year\\FinanceData\\FinanceData\\FinanceDataHelper.py:102: FutureWarning: The behavior of DataFrame concatenation with empty or all-NA entries is deprecated. In a future version, this will no longer exclude empty or all-NA columns when determining the result dtypes. To retain the old behavior, exclude the relevant entries before the concat operation.\n",
      "  return new_append_df if output_df is None else pd.concat([output_df,new_append_df])\n"
     ]
    },
    {
     "name": "stdout",
     "output_type": "stream",
     "text": [
      "Index error retrieving data for PTC stock on 2024-12-09 00:00:00: single positional indexer is out-of-bounds\n",
      "385\n"
     ]
    },
    {
     "name": "stderr",
     "output_type": "stream",
     "text": [
      "[*********************100%%**********************]  1 of 1 completed\n",
      "[*********************100%%**********************]  1 of 1 completed\n",
      "[*********************100%%**********************]  1 of 1 completed\n",
      "[*********************100%%**********************]  1 of 1 completed\n",
      "[*********************100%%**********************]  1 of 1 completed\n",
      "c:\\Users\\GRAYBILLKB20\\OneDrive - Grove City College\\Sophomore Year\\FinanceData\\FinanceData\\FinanceDataHelper.py:102: FutureWarning: The behavior of DataFrame concatenation with empty or all-NA entries is deprecated. In a future version, this will no longer exclude empty or all-NA columns when determining the result dtypes. To retain the old behavior, exclude the relevant entries before the concat operation.\n",
      "  return new_append_df if output_df is None else pd.concat([output_df,new_append_df])\n"
     ]
    },
    {
     "name": "stdout",
     "output_type": "stream",
     "text": [
      "Index error retrieving data for PSA stock on 2024-12-09 00:00:00: single positional indexer is out-of-bounds\n",
      "386\n"
     ]
    },
    {
     "name": "stderr",
     "output_type": "stream",
     "text": [
      "[*********************100%%**********************]  1 of 1 completed\n",
      "[*********************100%%**********************]  1 of 1 completed\n",
      "[*********************100%%**********************]  1 of 1 completed\n",
      "[*********************100%%**********************]  1 of 1 completed\n",
      "[*********************100%%**********************]  1 of 1 completed\n",
      "c:\\Users\\GRAYBILLKB20\\OneDrive - Grove City College\\Sophomore Year\\FinanceData\\FinanceData\\FinanceDataHelper.py:102: FutureWarning: The behavior of DataFrame concatenation with empty or all-NA entries is deprecated. In a future version, this will no longer exclude empty or all-NA columns when determining the result dtypes. To retain the old behavior, exclude the relevant entries before the concat operation.\n",
      "  return new_append_df if output_df is None else pd.concat([output_df,new_append_df])\n"
     ]
    },
    {
     "name": "stdout",
     "output_type": "stream",
     "text": [
      "387\n"
     ]
    },
    {
     "name": "stderr",
     "output_type": "stream",
     "text": [
      "[*********************100%%**********************]  1 of 1 completed\n",
      "[*********************100%%**********************]  1 of 1 completed\n",
      "[*********************100%%**********************]  1 of 1 completed\n",
      "[*********************100%%**********************]  1 of 1 completed\n",
      "[*********************100%%**********************]  1 of 1 completed\n",
      "c:\\Users\\GRAYBILLKB20\\OneDrive - Grove City College\\Sophomore Year\\FinanceData\\FinanceData\\FinanceDataHelper.py:102: FutureWarning: The behavior of DataFrame concatenation with empty or all-NA entries is deprecated. In a future version, this will no longer exclude empty or all-NA columns when determining the result dtypes. To retain the old behavior, exclude the relevant entries before the concat operation.\n",
      "  return new_append_df if output_df is None else pd.concat([output_df,new_append_df])\n"
     ]
    },
    {
     "name": "stdout",
     "output_type": "stream",
     "text": [
      "388\n"
     ]
    },
    {
     "name": "stderr",
     "output_type": "stream",
     "text": [
      "[*********************100%%**********************]  1 of 1 completed\n",
      "[*********************100%%**********************]  1 of 1 completed\n",
      "[*********************100%%**********************]  1 of 1 completed\n",
      "[*********************100%%**********************]  1 of 1 completed\n",
      "[*********************100%%**********************]  1 of 1 completed\n",
      "c:\\Users\\GRAYBILLKB20\\OneDrive - Grove City College\\Sophomore Year\\FinanceData\\FinanceData\\FinanceDataHelper.py:102: FutureWarning: The behavior of DataFrame concatenation with empty or all-NA entries is deprecated. In a future version, this will no longer exclude empty or all-NA columns when determining the result dtypes. To retain the old behavior, exclude the relevant entries before the concat operation.\n",
      "  return new_append_df if output_df is None else pd.concat([output_df,new_append_df])\n"
     ]
    },
    {
     "name": "stdout",
     "output_type": "stream",
     "text": [
      "389\n"
     ]
    },
    {
     "name": "stderr",
     "output_type": "stream",
     "text": [
      "[*********************100%%**********************]  1 of 1 completed\n",
      "[*********************100%%**********************]  1 of 1 completed\n",
      "[*********************100%%**********************]  1 of 1 completed\n",
      "[*********************100%%**********************]  1 of 1 completed\n",
      "[*********************100%%**********************]  1 of 1 completed\n",
      "c:\\Users\\GRAYBILLKB20\\OneDrive - Grove City College\\Sophomore Year\\FinanceData\\FinanceData\\FinanceDataHelper.py:102: FutureWarning: The behavior of DataFrame concatenation with empty or all-NA entries is deprecated. In a future version, this will no longer exclude empty or all-NA columns when determining the result dtypes. To retain the old behavior, exclude the relevant entries before the concat operation.\n",
      "  return new_append_df if output_df is None else pd.concat([output_df,new_append_df])\n"
     ]
    },
    {
     "name": "stdout",
     "output_type": "stream",
     "text": [
      "390\n"
     ]
    },
    {
     "name": "stderr",
     "output_type": "stream",
     "text": [
      "[*********************100%%**********************]  1 of 1 completed\n",
      "[*********************100%%**********************]  1 of 1 completed\n",
      "[*********************100%%**********************]  1 of 1 completed\n",
      "[*********************100%%**********************]  1 of 1 completed\n",
      "[*********************100%%**********************]  1 of 1 completed\n",
      "c:\\Users\\GRAYBILLKB20\\OneDrive - Grove City College\\Sophomore Year\\FinanceData\\FinanceData\\FinanceDataHelper.py:102: FutureWarning: The behavior of DataFrame concatenation with empty or all-NA entries is deprecated. In a future version, this will no longer exclude empty or all-NA columns when determining the result dtypes. To retain the old behavior, exclude the relevant entries before the concat operation.\n",
      "  return new_append_df if output_df is None else pd.concat([output_df,new_append_df])\n"
     ]
    },
    {
     "name": "stdout",
     "output_type": "stream",
     "text": [
      "Index error retrieving data for RL stock on 2024-12-09 00:00:00: single positional indexer is out-of-bounds\n",
      "391\n"
     ]
    },
    {
     "name": "stderr",
     "output_type": "stream",
     "text": [
      "[*********************100%%**********************]  1 of 1 completed\n",
      "[*********************100%%**********************]  1 of 1 completed\n",
      "[*********************100%%**********************]  1 of 1 completed\n",
      "[*********************100%%**********************]  1 of 1 completed\n",
      "[*********************100%%**********************]  1 of 1 completed\n",
      "c:\\Users\\GRAYBILLKB20\\OneDrive - Grove City College\\Sophomore Year\\FinanceData\\FinanceData\\FinanceDataHelper.py:102: FutureWarning: The behavior of DataFrame concatenation with empty or all-NA entries is deprecated. In a future version, this will no longer exclude empty or all-NA columns when determining the result dtypes. To retain the old behavior, exclude the relevant entries before the concat operation.\n",
      "  return new_append_df if output_df is None else pd.concat([output_df,new_append_df])\n"
     ]
    },
    {
     "name": "stdout",
     "output_type": "stream",
     "text": [
      "392\n"
     ]
    },
    {
     "name": "stderr",
     "output_type": "stream",
     "text": [
      "[*********************100%%**********************]  1 of 1 completed\n",
      "[*********************100%%**********************]  1 of 1 completed\n",
      "[*********************100%%**********************]  1 of 1 completed\n",
      "[*********************100%%**********************]  1 of 1 completed\n",
      "[*********************100%%**********************]  1 of 1 completed\n",
      "c:\\Users\\GRAYBILLKB20\\OneDrive - Grove City College\\Sophomore Year\\FinanceData\\FinanceData\\FinanceDataHelper.py:102: FutureWarning: The behavior of DataFrame concatenation with empty or all-NA entries is deprecated. In a future version, this will no longer exclude empty or all-NA columns when determining the result dtypes. To retain the old behavior, exclude the relevant entries before the concat operation.\n",
      "  return new_append_df if output_df is None else pd.concat([output_df,new_append_df])\n"
     ]
    },
    {
     "name": "stdout",
     "output_type": "stream",
     "text": [
      "393\n"
     ]
    },
    {
     "name": "stderr",
     "output_type": "stream",
     "text": [
      "[*********************100%%**********************]  1 of 1 completed\n",
      "[*********************100%%**********************]  1 of 1 completed\n",
      "[*********************100%%**********************]  1 of 1 completed\n",
      "[*********************100%%**********************]  1 of 1 completed\n",
      "[*********************100%%**********************]  1 of 1 completed\n",
      "c:\\Users\\GRAYBILLKB20\\OneDrive - Grove City College\\Sophomore Year\\FinanceData\\FinanceData\\FinanceDataHelper.py:102: FutureWarning: The behavior of DataFrame concatenation with empty or all-NA entries is deprecated. In a future version, this will no longer exclude empty or all-NA columns when determining the result dtypes. To retain the old behavior, exclude the relevant entries before the concat operation.\n",
      "  return new_append_df if output_df is None else pd.concat([output_df,new_append_df])\n"
     ]
    },
    {
     "name": "stdout",
     "output_type": "stream",
     "text": [
      "394\n"
     ]
    },
    {
     "name": "stderr",
     "output_type": "stream",
     "text": [
      "[*********************100%%**********************]  1 of 1 completed\n",
      "[*********************100%%**********************]  1 of 1 completed\n",
      "[*********************100%%**********************]  1 of 1 completed\n",
      "[*********************100%%**********************]  1 of 1 completed\n",
      "[*********************100%%**********************]  1 of 1 completed\n",
      "c:\\Users\\GRAYBILLKB20\\OneDrive - Grove City College\\Sophomore Year\\FinanceData\\FinanceData\\FinanceDataHelper.py:102: FutureWarning: The behavior of DataFrame concatenation with empty or all-NA entries is deprecated. In a future version, this will no longer exclude empty or all-NA columns when determining the result dtypes. To retain the old behavior, exclude the relevant entries before the concat operation.\n",
      "  return new_append_df if output_df is None else pd.concat([output_df,new_append_df])\n"
     ]
    },
    {
     "name": "stdout",
     "output_type": "stream",
     "text": [
      "395\n"
     ]
    },
    {
     "name": "stderr",
     "output_type": "stream",
     "text": [
      "[*********************100%%**********************]  1 of 1 completed\n",
      "[*********************100%%**********************]  1 of 1 completed\n",
      "[*********************100%%**********************]  1 of 1 completed\n",
      "[*********************100%%**********************]  1 of 1 completed\n",
      "[*********************100%%**********************]  1 of 1 completed\n",
      "c:\\Users\\GRAYBILLKB20\\OneDrive - Grove City College\\Sophomore Year\\FinanceData\\FinanceData\\FinanceDataHelper.py:102: FutureWarning: The behavior of DataFrame concatenation with empty or all-NA entries is deprecated. In a future version, this will no longer exclude empty or all-NA columns when determining the result dtypes. To retain the old behavior, exclude the relevant entries before the concat operation.\n",
      "  return new_append_df if output_df is None else pd.concat([output_df,new_append_df])\n"
     ]
    },
    {
     "name": "stdout",
     "output_type": "stream",
     "text": [
      "396\n"
     ]
    },
    {
     "name": "stderr",
     "output_type": "stream",
     "text": [
      "[*********************100%%**********************]  1 of 1 completed\n",
      "[*********************100%%**********************]  1 of 1 completed\n",
      "[*********************100%%**********************]  1 of 1 completed\n",
      "[*********************100%%**********************]  1 of 1 completed\n",
      "[*********************100%%**********************]  1 of 1 completed\n",
      "c:\\Users\\GRAYBILLKB20\\OneDrive - Grove City College\\Sophomore Year\\FinanceData\\FinanceData\\FinanceDataHelper.py:102: FutureWarning: The behavior of DataFrame concatenation with empty or all-NA entries is deprecated. In a future version, this will no longer exclude empty or all-NA columns when determining the result dtypes. To retain the old behavior, exclude the relevant entries before the concat operation.\n",
      "  return new_append_df if output_df is None else pd.concat([output_df,new_append_df])\n"
     ]
    },
    {
     "name": "stdout",
     "output_type": "stream",
     "text": [
      "397\n"
     ]
    },
    {
     "name": "stderr",
     "output_type": "stream",
     "text": [
      "[*********************100%%**********************]  1 of 1 completed\n",
      "[*********************100%%**********************]  1 of 1 completed\n",
      "[*********************100%%**********************]  1 of 1 completed\n",
      "[*********************100%%**********************]  1 of 1 completed\n",
      "[*********************100%%**********************]  1 of 1 completed\n",
      "c:\\Users\\GRAYBILLKB20\\OneDrive - Grove City College\\Sophomore Year\\FinanceData\\FinanceData\\FinanceDataHelper.py:102: FutureWarning: The behavior of DataFrame concatenation with empty or all-NA entries is deprecated. In a future version, this will no longer exclude empty or all-NA columns when determining the result dtypes. To retain the old behavior, exclude the relevant entries before the concat operation.\n",
      "  return new_append_df if output_df is None else pd.concat([output_df,new_append_df])\n"
     ]
    },
    {
     "name": "stdout",
     "output_type": "stream",
     "text": [
      "398\n"
     ]
    },
    {
     "name": "stderr",
     "output_type": "stream",
     "text": [
      "[*********************100%%**********************]  1 of 1 completed\n",
      "[*********************100%%**********************]  1 of 1 completed\n",
      "[*********************100%%**********************]  1 of 1 completed\n",
      "[*********************100%%**********************]  1 of 1 completed\n",
      "[*********************100%%**********************]  1 of 1 completed\n",
      "c:\\Users\\GRAYBILLKB20\\OneDrive - Grove City College\\Sophomore Year\\FinanceData\\FinanceData\\FinanceDataHelper.py:102: FutureWarning: The behavior of DataFrame concatenation with empty or all-NA entries is deprecated. In a future version, this will no longer exclude empty or all-NA columns when determining the result dtypes. To retain the old behavior, exclude the relevant entries before the concat operation.\n",
      "  return new_append_df if output_df is None else pd.concat([output_df,new_append_df])\n"
     ]
    },
    {
     "name": "stdout",
     "output_type": "stream",
     "text": [
      "Index error retrieving data for RMD stock on 2024-12-09 00:00:00: single positional indexer is out-of-bounds\n",
      "399\n"
     ]
    },
    {
     "name": "stderr",
     "output_type": "stream",
     "text": [
      "[*********************100%%**********************]  1 of 1 completed\n",
      "[*********************100%%**********************]  1 of 1 completed\n",
      "[*********************100%%**********************]  1 of 1 completed\n",
      "[*********************100%%**********************]  1 of 1 completed\n",
      "[*********************100%%**********************]  1 of 1 completed\n",
      "c:\\Users\\GRAYBILLKB20\\OneDrive - Grove City College\\Sophomore Year\\FinanceData\\FinanceData\\FinanceDataHelper.py:102: FutureWarning: The behavior of DataFrame concatenation with empty or all-NA entries is deprecated. In a future version, this will no longer exclude empty or all-NA columns when determining the result dtypes. To retain the old behavior, exclude the relevant entries before the concat operation.\n",
      "  return new_append_df if output_df is None else pd.concat([output_df,new_append_df])\n"
     ]
    },
    {
     "name": "stdout",
     "output_type": "stream",
     "text": [
      "400\n"
     ]
    },
    {
     "name": "stderr",
     "output_type": "stream",
     "text": [
      "[*********************100%%**********************]  1 of 1 completed\n",
      "[*********************100%%**********************]  1 of 1 completed\n",
      "[*********************100%%**********************]  1 of 1 completed\n",
      "[*********************100%%**********************]  1 of 1 completed\n",
      "[*********************100%%**********************]  1 of 1 completed\n",
      "c:\\Users\\GRAYBILLKB20\\OneDrive - Grove City College\\Sophomore Year\\FinanceData\\FinanceData\\FinanceDataHelper.py:102: FutureWarning: The behavior of DataFrame concatenation with empty or all-NA entries is deprecated. In a future version, this will no longer exclude empty or all-NA columns when determining the result dtypes. To retain the old behavior, exclude the relevant entries before the concat operation.\n",
      "  return new_append_df if output_df is None else pd.concat([output_df,new_append_df])\n"
     ]
    },
    {
     "name": "stdout",
     "output_type": "stream",
     "text": [
      "401\n"
     ]
    },
    {
     "name": "stderr",
     "output_type": "stream",
     "text": [
      "[*********************100%%**********************]  1 of 1 completed\n",
      "[*********************100%%**********************]  1 of 1 completed\n",
      "[*********************100%%**********************]  1 of 1 completed\n",
      "[*********************100%%**********************]  1 of 1 completed\n",
      "[*********************100%%**********************]  1 of 1 completed\n",
      "c:\\Users\\GRAYBILLKB20\\OneDrive - Grove City College\\Sophomore Year\\FinanceData\\FinanceData\\FinanceDataHelper.py:102: FutureWarning: The behavior of DataFrame concatenation with empty or all-NA entries is deprecated. In a future version, this will no longer exclude empty or all-NA columns when determining the result dtypes. To retain the old behavior, exclude the relevant entries before the concat operation.\n",
      "  return new_append_df if output_df is None else pd.concat([output_df,new_append_df])\n"
     ]
    },
    {
     "name": "stdout",
     "output_type": "stream",
     "text": [
      "402\n"
     ]
    },
    {
     "name": "stderr",
     "output_type": "stream",
     "text": [
      "[*********************100%%**********************]  1 of 1 completed\n",
      "[*********************100%%**********************]  1 of 1 completed\n",
      "[*********************100%%**********************]  1 of 1 completed\n",
      "[*********************100%%**********************]  1 of 1 completed\n",
      "[*********************100%%**********************]  1 of 1 completed\n",
      "c:\\Users\\GRAYBILLKB20\\OneDrive - Grove City College\\Sophomore Year\\FinanceData\\FinanceData\\FinanceDataHelper.py:102: FutureWarning: The behavior of DataFrame concatenation with empty or all-NA entries is deprecated. In a future version, this will no longer exclude empty or all-NA columns when determining the result dtypes. To retain the old behavior, exclude the relevant entries before the concat operation.\n",
      "  return new_append_df if output_df is None else pd.concat([output_df,new_append_df])\n"
     ]
    },
    {
     "name": "stdout",
     "output_type": "stream",
     "text": [
      "Index error retrieving data for ROP stock on 2024-12-09 00:00:00: single positional indexer is out-of-bounds\n",
      "403\n"
     ]
    },
    {
     "name": "stderr",
     "output_type": "stream",
     "text": [
      "[*********************100%%**********************]  1 of 1 completed\n",
      "[*********************100%%**********************]  1 of 1 completed\n",
      "[*********************100%%**********************]  1 of 1 completed\n",
      "[*********************100%%**********************]  1 of 1 completed\n",
      "[*********************100%%**********************]  1 of 1 completed\n",
      "c:\\Users\\GRAYBILLKB20\\OneDrive - Grove City College\\Sophomore Year\\FinanceData\\FinanceData\\FinanceDataHelper.py:102: FutureWarning: The behavior of DataFrame concatenation with empty or all-NA entries is deprecated. In a future version, this will no longer exclude empty or all-NA columns when determining the result dtypes. To retain the old behavior, exclude the relevant entries before the concat operation.\n",
      "  return new_append_df if output_df is None else pd.concat([output_df,new_append_df])\n"
     ]
    },
    {
     "name": "stdout",
     "output_type": "stream",
     "text": [
      "404\n"
     ]
    },
    {
     "name": "stderr",
     "output_type": "stream",
     "text": [
      "[*********************100%%**********************]  1 of 1 completed\n",
      "[*********************100%%**********************]  1 of 1 completed\n",
      "[*********************100%%**********************]  1 of 1 completed\n",
      "[*********************100%%**********************]  1 of 1 completed\n",
      "[*********************100%%**********************]  1 of 1 completed\n",
      "c:\\Users\\GRAYBILLKB20\\OneDrive - Grove City College\\Sophomore Year\\FinanceData\\FinanceData\\FinanceDataHelper.py:102: FutureWarning: The behavior of DataFrame concatenation with empty or all-NA entries is deprecated. In a future version, this will no longer exclude empty or all-NA columns when determining the result dtypes. To retain the old behavior, exclude the relevant entries before the concat operation.\n",
      "  return new_append_df if output_df is None else pd.concat([output_df,new_append_df])\n"
     ]
    },
    {
     "name": "stdout",
     "output_type": "stream",
     "text": [
      "405\n"
     ]
    },
    {
     "name": "stderr",
     "output_type": "stream",
     "text": [
      "[*********************100%%**********************]  1 of 1 completed\n",
      "[*********************100%%**********************]  1 of 1 completed\n",
      "[*********************100%%**********************]  1 of 1 completed\n",
      "[*********************100%%**********************]  1 of 1 completed\n",
      "[*********************100%%**********************]  1 of 1 completed\n",
      "c:\\Users\\GRAYBILLKB20\\OneDrive - Grove City College\\Sophomore Year\\FinanceData\\FinanceData\\FinanceDataHelper.py:102: FutureWarning: The behavior of DataFrame concatenation with empty or all-NA entries is deprecated. In a future version, this will no longer exclude empty or all-NA columns when determining the result dtypes. To retain the old behavior, exclude the relevant entries before the concat operation.\n",
      "  return new_append_df if output_df is None else pd.concat([output_df,new_append_df])\n"
     ]
    },
    {
     "name": "stdout",
     "output_type": "stream",
     "text": [
      "406\n"
     ]
    },
    {
     "name": "stderr",
     "output_type": "stream",
     "text": [
      "[*********************100%%**********************]  1 of 1 completed\n",
      "[*********************100%%**********************]  1 of 1 completed\n",
      "[*********************100%%**********************]  1 of 1 completed\n",
      "[*********************100%%**********************]  1 of 1 completed\n",
      "[*********************100%%**********************]  1 of 1 completed\n",
      "c:\\Users\\GRAYBILLKB20\\OneDrive - Grove City College\\Sophomore Year\\FinanceData\\FinanceData\\FinanceDataHelper.py:102: FutureWarning: The behavior of DataFrame concatenation with empty or all-NA entries is deprecated. In a future version, this will no longer exclude empty or all-NA columns when determining the result dtypes. To retain the old behavior, exclude the relevant entries before the concat operation.\n",
      "  return new_append_df if output_df is None else pd.concat([output_df,new_append_df])\n"
     ]
    },
    {
     "name": "stdout",
     "output_type": "stream",
     "text": [
      "407\n"
     ]
    },
    {
     "name": "stderr",
     "output_type": "stream",
     "text": [
      "[*********************100%%**********************]  1 of 1 completed\n",
      "[*********************100%%**********************]  1 of 1 completed\n",
      "[*********************100%%**********************]  1 of 1 completed\n",
      "[*********************100%%**********************]  1 of 1 completed\n",
      "[*********************100%%**********************]  1 of 1 completed\n",
      "c:\\Users\\GRAYBILLKB20\\OneDrive - Grove City College\\Sophomore Year\\FinanceData\\FinanceData\\FinanceDataHelper.py:102: FutureWarning: The behavior of DataFrame concatenation with empty or all-NA entries is deprecated. In a future version, this will no longer exclude empty or all-NA columns when determining the result dtypes. To retain the old behavior, exclude the relevant entries before the concat operation.\n",
      "  return new_append_df if output_df is None else pd.concat([output_df,new_append_df])\n"
     ]
    },
    {
     "name": "stdout",
     "output_type": "stream",
     "text": [
      "Index error retrieving data for SBAC stock on 2024-12-09 00:00:00: single positional indexer is out-of-bounds\n",
      "408\n"
     ]
    },
    {
     "name": "stderr",
     "output_type": "stream",
     "text": [
      "[*********************100%%**********************]  1 of 1 completed\n",
      "[*********************100%%**********************]  1 of 1 completed\n",
      "[*********************100%%**********************]  1 of 1 completed\n",
      "[*********************100%%**********************]  1 of 1 completed\n",
      "[*********************100%%**********************]  1 of 1 completed\n",
      "c:\\Users\\GRAYBILLKB20\\OneDrive - Grove City College\\Sophomore Year\\FinanceData\\FinanceData\\FinanceDataHelper.py:102: FutureWarning: The behavior of DataFrame concatenation with empty or all-NA entries is deprecated. In a future version, this will no longer exclude empty or all-NA columns when determining the result dtypes. To retain the old behavior, exclude the relevant entries before the concat operation.\n",
      "  return new_append_df if output_df is None else pd.concat([output_df,new_append_df])\n"
     ]
    },
    {
     "name": "stdout",
     "output_type": "stream",
     "text": [
      "409\n"
     ]
    },
    {
     "name": "stderr",
     "output_type": "stream",
     "text": [
      "[*********************100%%**********************]  1 of 1 completed\n",
      "[*********************100%%**********************]  1 of 1 completed\n",
      "[*********************100%%**********************]  1 of 1 completed\n",
      "[*********************100%%**********************]  1 of 1 completed\n",
      "[*********************100%%**********************]  1 of 1 completed\n",
      "c:\\Users\\GRAYBILLKB20\\OneDrive - Grove City College\\Sophomore Year\\FinanceData\\FinanceData\\FinanceDataHelper.py:102: FutureWarning: The behavior of DataFrame concatenation with empty or all-NA entries is deprecated. In a future version, this will no longer exclude empty or all-NA columns when determining the result dtypes. To retain the old behavior, exclude the relevant entries before the concat operation.\n",
      "  return new_append_df if output_df is None else pd.concat([output_df,new_append_df])\n"
     ]
    },
    {
     "name": "stdout",
     "output_type": "stream",
     "text": [
      "410\n"
     ]
    },
    {
     "name": "stderr",
     "output_type": "stream",
     "text": [
      "[*********************100%%**********************]  1 of 1 completed\n",
      "[*********************100%%**********************]  1 of 1 completed\n",
      "[*********************100%%**********************]  1 of 1 completed\n",
      "[*********************100%%**********************]  1 of 1 completed\n",
      "[*********************100%%**********************]  1 of 1 completed\n",
      "c:\\Users\\GRAYBILLKB20\\OneDrive - Grove City College\\Sophomore Year\\FinanceData\\FinanceData\\FinanceDataHelper.py:102: FutureWarning: The behavior of DataFrame concatenation with empty or all-NA entries is deprecated. In a future version, this will no longer exclude empty or all-NA columns when determining the result dtypes. To retain the old behavior, exclude the relevant entries before the concat operation.\n",
      "  return new_append_df if output_df is None else pd.concat([output_df,new_append_df])\n"
     ]
    },
    {
     "name": "stdout",
     "output_type": "stream",
     "text": [
      "411\n"
     ]
    },
    {
     "name": "stderr",
     "output_type": "stream",
     "text": [
      "[*********************100%%**********************]  1 of 1 completed\n",
      "[*********************100%%**********************]  1 of 1 completed\n",
      "[*********************100%%**********************]  1 of 1 completed\n",
      "[*********************100%%**********************]  1 of 1 completed\n",
      "[*********************100%%**********************]  1 of 1 completed\n",
      "c:\\Users\\GRAYBILLKB20\\OneDrive - Grove City College\\Sophomore Year\\FinanceData\\FinanceData\\FinanceDataHelper.py:102: FutureWarning: The behavior of DataFrame concatenation with empty or all-NA entries is deprecated. In a future version, this will no longer exclude empty or all-NA columns when determining the result dtypes. To retain the old behavior, exclude the relevant entries before the concat operation.\n",
      "  return new_append_df if output_df is None else pd.concat([output_df,new_append_df])\n"
     ]
    },
    {
     "name": "stdout",
     "output_type": "stream",
     "text": [
      "412\n"
     ]
    },
    {
     "name": "stderr",
     "output_type": "stream",
     "text": [
      "[*********************100%%**********************]  1 of 1 completed\n",
      "[*********************100%%**********************]  1 of 1 completed\n",
      "[*********************100%%**********************]  1 of 1 completed\n",
      "[*********************100%%**********************]  1 of 1 completed\n",
      "[*********************100%%**********************]  1 of 1 completed\n",
      "c:\\Users\\GRAYBILLKB20\\OneDrive - Grove City College\\Sophomore Year\\FinanceData\\FinanceData\\FinanceDataHelper.py:102: FutureWarning: The behavior of DataFrame concatenation with empty or all-NA entries is deprecated. In a future version, this will no longer exclude empty or all-NA columns when determining the result dtypes. To retain the old behavior, exclude the relevant entries before the concat operation.\n",
      "  return new_append_df if output_df is None else pd.concat([output_df,new_append_df])\n"
     ]
    },
    {
     "name": "stdout",
     "output_type": "stream",
     "text": [
      "413\n"
     ]
    },
    {
     "name": "stderr",
     "output_type": "stream",
     "text": [
      "[*********************100%%**********************]  1 of 1 completed\n",
      "[*********************100%%**********************]  1 of 1 completed\n",
      "[*********************100%%**********************]  1 of 1 completed\n",
      "[*********************100%%**********************]  1 of 1 completed\n",
      "[*********************100%%**********************]  1 of 1 completed\n",
      "c:\\Users\\GRAYBILLKB20\\OneDrive - Grove City College\\Sophomore Year\\FinanceData\\FinanceData\\FinanceDataHelper.py:102: FutureWarning: The behavior of DataFrame concatenation with empty or all-NA entries is deprecated. In a future version, this will no longer exclude empty or all-NA columns when determining the result dtypes. To retain the old behavior, exclude the relevant entries before the concat operation.\n",
      "  return new_append_df if output_df is None else pd.concat([output_df,new_append_df])\n"
     ]
    },
    {
     "name": "stdout",
     "output_type": "stream",
     "text": [
      "414\n"
     ]
    },
    {
     "name": "stderr",
     "output_type": "stream",
     "text": [
      "[*********************100%%**********************]  1 of 1 completed\n",
      "[*********************100%%**********************]  1 of 1 completed\n",
      "[*********************100%%**********************]  1 of 1 completed\n",
      "[*********************100%%**********************]  1 of 1 completed\n",
      "[*********************100%%**********************]  1 of 1 completed\n",
      "c:\\Users\\GRAYBILLKB20\\OneDrive - Grove City College\\Sophomore Year\\FinanceData\\FinanceData\\FinanceDataHelper.py:102: FutureWarning: The behavior of DataFrame concatenation with empty or all-NA entries is deprecated. In a future version, this will no longer exclude empty or all-NA columns when determining the result dtypes. To retain the old behavior, exclude the relevant entries before the concat operation.\n",
      "  return new_append_df if output_df is None else pd.concat([output_df,new_append_df])\n"
     ]
    },
    {
     "name": "stdout",
     "output_type": "stream",
     "text": [
      "415\n"
     ]
    },
    {
     "name": "stderr",
     "output_type": "stream",
     "text": [
      "[*********************100%%**********************]  1 of 1 completed\n",
      "[*********************100%%**********************]  1 of 1 completed\n",
      "[*********************100%%**********************]  1 of 1 completed\n",
      "[*********************100%%**********************]  1 of 1 completed\n",
      "[*********************100%%**********************]  1 of 1 completed\n",
      "c:\\Users\\GRAYBILLKB20\\OneDrive - Grove City College\\Sophomore Year\\FinanceData\\FinanceData\\FinanceDataHelper.py:102: FutureWarning: The behavior of DataFrame concatenation with empty or all-NA entries is deprecated. In a future version, this will no longer exclude empty or all-NA columns when determining the result dtypes. To retain the old behavior, exclude the relevant entries before the concat operation.\n",
      "  return new_append_df if output_df is None else pd.concat([output_df,new_append_df])\n"
     ]
    },
    {
     "name": "stdout",
     "output_type": "stream",
     "text": [
      "416\n"
     ]
    },
    {
     "name": "stderr",
     "output_type": "stream",
     "text": [
      "[*********************100%%**********************]  1 of 1 completed\n",
      "[*********************100%%**********************]  1 of 1 completed\n",
      "[*********************100%%**********************]  1 of 1 completed\n",
      "[*********************100%%**********************]  1 of 1 completed\n",
      "[*********************100%%**********************]  1 of 1 completed\n",
      "c:\\Users\\GRAYBILLKB20\\OneDrive - Grove City College\\Sophomore Year\\FinanceData\\FinanceData\\FinanceDataHelper.py:102: FutureWarning: The behavior of DataFrame concatenation with empty or all-NA entries is deprecated. In a future version, this will no longer exclude empty or all-NA columns when determining the result dtypes. To retain the old behavior, exclude the relevant entries before the concat operation.\n",
      "  return new_append_df if output_df is None else pd.concat([output_df,new_append_df])\n"
     ]
    },
    {
     "name": "stdout",
     "output_type": "stream",
     "text": [
      "417\n"
     ]
    },
    {
     "name": "stderr",
     "output_type": "stream",
     "text": [
      "[*********************100%%**********************]  1 of 1 completed\n",
      "[*********************100%%**********************]  1 of 1 completed\n",
      "[*********************100%%**********************]  1 of 1 completed\n",
      "[*********************100%%**********************]  1 of 1 completed\n",
      "[*********************100%%**********************]  1 of 1 completed\n",
      "c:\\Users\\GRAYBILLKB20\\OneDrive - Grove City College\\Sophomore Year\\FinanceData\\FinanceData\\FinanceDataHelper.py:102: FutureWarning: The behavior of DataFrame concatenation with empty or all-NA entries is deprecated. In a future version, this will no longer exclude empty or all-NA columns when determining the result dtypes. To retain the old behavior, exclude the relevant entries before the concat operation.\n",
      "  return new_append_df if output_df is None else pd.concat([output_df,new_append_df])\n"
     ]
    },
    {
     "name": "stdout",
     "output_type": "stream",
     "text": [
      "Index error retrieving data for SNA stock on 2024-12-09 00:00:00: single positional indexer is out-of-bounds\n",
      "418\n"
     ]
    },
    {
     "name": "stderr",
     "output_type": "stream",
     "text": [
      "[*********************100%%**********************]  1 of 1 completed\n",
      "[*********************100%%**********************]  1 of 1 completed\n",
      "[*********************100%%**********************]  1 of 1 completed\n",
      "[*********************100%%**********************]  1 of 1 completed\n",
      "[*********************100%%**********************]  1 of 1 completed\n",
      "c:\\Users\\GRAYBILLKB20\\OneDrive - Grove City College\\Sophomore Year\\FinanceData\\FinanceData\\FinanceDataHelper.py:102: FutureWarning: The behavior of DataFrame concatenation with empty or all-NA entries is deprecated. In a future version, this will no longer exclude empty or all-NA columns when determining the result dtypes. To retain the old behavior, exclude the relevant entries before the concat operation.\n",
      "  return new_append_df if output_df is None else pd.concat([output_df,new_append_df])\n"
     ]
    },
    {
     "name": "stdout",
     "output_type": "stream",
     "text": [
      "419\n"
     ]
    },
    {
     "name": "stderr",
     "output_type": "stream",
     "text": [
      "[*********************100%%**********************]  1 of 1 completed\n",
      "[*********************100%%**********************]  1 of 1 completed\n",
      "[*********************100%%**********************]  1 of 1 completed\n",
      "[*********************100%%**********************]  1 of 1 completed\n",
      "[*********************100%%**********************]  1 of 1 completed\n",
      "c:\\Users\\GRAYBILLKB20\\OneDrive - Grove City College\\Sophomore Year\\FinanceData\\FinanceData\\FinanceDataHelper.py:102: FutureWarning: The behavior of DataFrame concatenation with empty or all-NA entries is deprecated. In a future version, this will no longer exclude empty or all-NA columns when determining the result dtypes. To retain the old behavior, exclude the relevant entries before the concat operation.\n",
      "  return new_append_df if output_df is None else pd.concat([output_df,new_append_df])\n"
     ]
    },
    {
     "name": "stdout",
     "output_type": "stream",
     "text": [
      "420\n"
     ]
    },
    {
     "name": "stderr",
     "output_type": "stream",
     "text": [
      "[*********************100%%**********************]  1 of 1 completed\n",
      "[*********************100%%**********************]  1 of 1 completed\n",
      "[*********************100%%**********************]  1 of 1 completed\n",
      "[*********************100%%**********************]  1 of 1 completed\n",
      "[*********************100%%**********************]  1 of 1 completed\n",
      "c:\\Users\\GRAYBILLKB20\\OneDrive - Grove City College\\Sophomore Year\\FinanceData\\FinanceData\\FinanceDataHelper.py:102: FutureWarning: The behavior of DataFrame concatenation with empty or all-NA entries is deprecated. In a future version, this will no longer exclude empty or all-NA columns when determining the result dtypes. To retain the old behavior, exclude the relevant entries before the concat operation.\n",
      "  return new_append_df if output_df is None else pd.concat([output_df,new_append_df])\n"
     ]
    },
    {
     "name": "stdout",
     "output_type": "stream",
     "text": [
      "421\n"
     ]
    },
    {
     "name": "stderr",
     "output_type": "stream",
     "text": [
      "[*********************100%%**********************]  1 of 1 completed\n",
      "[*********************100%%**********************]  1 of 1 completed\n",
      "[*********************100%%**********************]  1 of 1 completed\n",
      "[*********************100%%**********************]  1 of 1 completed\n",
      "[*********************100%%**********************]  1 of 1 completed\n",
      "c:\\Users\\GRAYBILLKB20\\OneDrive - Grove City College\\Sophomore Year\\FinanceData\\FinanceData\\FinanceDataHelper.py:102: FutureWarning: The behavior of DataFrame concatenation with empty or all-NA entries is deprecated. In a future version, this will no longer exclude empty or all-NA columns when determining the result dtypes. To retain the old behavior, exclude the relevant entries before the concat operation.\n",
      "  return new_append_df if output_df is None else pd.concat([output_df,new_append_df])\n"
     ]
    },
    {
     "name": "stdout",
     "output_type": "stream",
     "text": [
      "422\n"
     ]
    },
    {
     "name": "stderr",
     "output_type": "stream",
     "text": [
      "[*********************100%%**********************]  1 of 1 completed\n",
      "[*********************100%%**********************]  1 of 1 completed\n",
      "[*********************100%%**********************]  1 of 1 completed\n",
      "[*********************100%%**********************]  1 of 1 completed\n",
      "[*********************100%%**********************]  1 of 1 completed\n",
      "c:\\Users\\GRAYBILLKB20\\OneDrive - Grove City College\\Sophomore Year\\FinanceData\\FinanceData\\FinanceDataHelper.py:102: FutureWarning: The behavior of DataFrame concatenation with empty or all-NA entries is deprecated. In a future version, this will no longer exclude empty or all-NA columns when determining the result dtypes. To retain the old behavior, exclude the relevant entries before the concat operation.\n",
      "  return new_append_df if output_df is None else pd.concat([output_df,new_append_df])\n"
     ]
    },
    {
     "name": "stdout",
     "output_type": "stream",
     "text": [
      "423\n"
     ]
    },
    {
     "name": "stderr",
     "output_type": "stream",
     "text": [
      "[*********************100%%**********************]  1 of 1 completed\n",
      "[*********************100%%**********************]  1 of 1 completed\n",
      "[*********************100%%**********************]  1 of 1 completed\n",
      "[*********************100%%**********************]  1 of 1 completed\n",
      "[*********************100%%**********************]  1 of 1 completed\n",
      "c:\\Users\\GRAYBILLKB20\\OneDrive - Grove City College\\Sophomore Year\\FinanceData\\FinanceData\\FinanceDataHelper.py:102: FutureWarning: The behavior of DataFrame concatenation with empty or all-NA entries is deprecated. In a future version, this will no longer exclude empty or all-NA columns when determining the result dtypes. To retain the old behavior, exclude the relevant entries before the concat operation.\n",
      "  return new_append_df if output_df is None else pd.concat([output_df,new_append_df])\n"
     ]
    },
    {
     "name": "stdout",
     "output_type": "stream",
     "text": [
      "424\n"
     ]
    },
    {
     "name": "stderr",
     "output_type": "stream",
     "text": [
      "[*********************100%%**********************]  1 of 1 completed\n",
      "[*********************100%%**********************]  1 of 1 completed\n",
      "[*********************100%%**********************]  1 of 1 completed\n",
      "[*********************100%%**********************]  1 of 1 completed\n",
      "[*********************100%%**********************]  1 of 1 completed\n",
      "c:\\Users\\GRAYBILLKB20\\OneDrive - Grove City College\\Sophomore Year\\FinanceData\\FinanceData\\FinanceDataHelper.py:102: FutureWarning: The behavior of DataFrame concatenation with empty or all-NA entries is deprecated. In a future version, this will no longer exclude empty or all-NA columns when determining the result dtypes. To retain the old behavior, exclude the relevant entries before the concat operation.\n",
      "  return new_append_df if output_df is None else pd.concat([output_df,new_append_df])\n"
     ]
    },
    {
     "name": "stdout",
     "output_type": "stream",
     "text": [
      "425\n"
     ]
    },
    {
     "name": "stderr",
     "output_type": "stream",
     "text": [
      "[*********************100%%**********************]  1 of 1 completed\n",
      "[*********************100%%**********************]  1 of 1 completed\n",
      "[*********************100%%**********************]  1 of 1 completed\n",
      "[*********************100%%**********************]  1 of 1 completed\n",
      "[*********************100%%**********************]  1 of 1 completed\n",
      "c:\\Users\\GRAYBILLKB20\\OneDrive - Grove City College\\Sophomore Year\\FinanceData\\FinanceData\\FinanceDataHelper.py:102: FutureWarning: The behavior of DataFrame concatenation with empty or all-NA entries is deprecated. In a future version, this will no longer exclude empty or all-NA columns when determining the result dtypes. To retain the old behavior, exclude the relevant entries before the concat operation.\n",
      "  return new_append_df if output_df is None else pd.concat([output_df,new_append_df])\n"
     ]
    },
    {
     "name": "stdout",
     "output_type": "stream",
     "text": [
      "Index error retrieving data for STE stock on 2024-12-09 00:00:00: single positional indexer is out-of-bounds\n",
      "426\n"
     ]
    },
    {
     "name": "stderr",
     "output_type": "stream",
     "text": [
      "[*********************100%%**********************]  1 of 1 completed\n",
      "[*********************100%%**********************]  1 of 1 completed\n",
      "[*********************100%%**********************]  1 of 1 completed\n",
      "[*********************100%%**********************]  1 of 1 completed\n",
      "[*********************100%%**********************]  1 of 1 completed\n",
      "c:\\Users\\GRAYBILLKB20\\OneDrive - Grove City College\\Sophomore Year\\FinanceData\\FinanceData\\FinanceDataHelper.py:102: FutureWarning: The behavior of DataFrame concatenation with empty or all-NA entries is deprecated. In a future version, this will no longer exclude empty or all-NA columns when determining the result dtypes. To retain the old behavior, exclude the relevant entries before the concat operation.\n",
      "  return new_append_df if output_df is None else pd.concat([output_df,new_append_df])\n"
     ]
    },
    {
     "name": "stdout",
     "output_type": "stream",
     "text": [
      "427\n"
     ]
    },
    {
     "name": "stderr",
     "output_type": "stream",
     "text": [
      "[*********************100%%**********************]  1 of 1 completed\n",
      "[*********************100%%**********************]  1 of 1 completed\n",
      "[*********************100%%**********************]  1 of 1 completed\n",
      "[*********************100%%**********************]  1 of 1 completed\n",
      "[*********************100%%**********************]  1 of 1 completed\n",
      "c:\\Users\\GRAYBILLKB20\\OneDrive - Grove City College\\Sophomore Year\\FinanceData\\FinanceData\\FinanceDataHelper.py:102: FutureWarning: The behavior of DataFrame concatenation with empty or all-NA entries is deprecated. In a future version, this will no longer exclude empty or all-NA columns when determining the result dtypes. To retain the old behavior, exclude the relevant entries before the concat operation.\n",
      "  return new_append_df if output_df is None else pd.concat([output_df,new_append_df])\n"
     ]
    },
    {
     "name": "stdout",
     "output_type": "stream",
     "text": [
      "428\n"
     ]
    },
    {
     "name": "stderr",
     "output_type": "stream",
     "text": [
      "[*********************100%%**********************]  1 of 1 completed\n",
      "[*********************100%%**********************]  1 of 1 completed\n",
      "[*********************100%%**********************]  1 of 1 completed\n",
      "[*********************100%%**********************]  1 of 1 completed\n",
      "[*********************100%%**********************]  1 of 1 completed\n",
      "c:\\Users\\GRAYBILLKB20\\OneDrive - Grove City College\\Sophomore Year\\FinanceData\\FinanceData\\FinanceDataHelper.py:102: FutureWarning: The behavior of DataFrame concatenation with empty or all-NA entries is deprecated. In a future version, this will no longer exclude empty or all-NA columns when determining the result dtypes. To retain the old behavior, exclude the relevant entries before the concat operation.\n",
      "  return new_append_df if output_df is None else pd.concat([output_df,new_append_df])\n"
     ]
    },
    {
     "name": "stdout",
     "output_type": "stream",
     "text": [
      "429\n"
     ]
    },
    {
     "name": "stderr",
     "output_type": "stream",
     "text": [
      "[*********************100%%**********************]  1 of 1 completed\n",
      "[*********************100%%**********************]  1 of 1 completed\n",
      "[*********************100%%**********************]  1 of 1 completed\n",
      "[*********************100%%**********************]  1 of 1 completed\n",
      "[*********************100%%**********************]  1 of 1 completed\n",
      "c:\\Users\\GRAYBILLKB20\\OneDrive - Grove City College\\Sophomore Year\\FinanceData\\FinanceData\\FinanceDataHelper.py:102: FutureWarning: The behavior of DataFrame concatenation with empty or all-NA entries is deprecated. In a future version, this will no longer exclude empty or all-NA columns when determining the result dtypes. To retain the old behavior, exclude the relevant entries before the concat operation.\n",
      "  return new_append_df if output_df is None else pd.concat([output_df,new_append_df])\n"
     ]
    },
    {
     "name": "stdout",
     "output_type": "stream",
     "text": [
      "430\n"
     ]
    },
    {
     "name": "stderr",
     "output_type": "stream",
     "text": [
      "[*********************100%%**********************]  1 of 1 completed\n",
      "[*********************100%%**********************]  1 of 1 completed\n",
      "[*********************100%%**********************]  1 of 1 completed\n",
      "[*********************100%%**********************]  1 of 1 completed\n",
      "[*********************100%%**********************]  1 of 1 completed\n",
      "c:\\Users\\GRAYBILLKB20\\OneDrive - Grove City College\\Sophomore Year\\FinanceData\\FinanceData\\FinanceDataHelper.py:102: FutureWarning: The behavior of DataFrame concatenation with empty or all-NA entries is deprecated. In a future version, this will no longer exclude empty or all-NA columns when determining the result dtypes. To retain the old behavior, exclude the relevant entries before the concat operation.\n",
      "  return new_append_df if output_df is None else pd.concat([output_df,new_append_df])\n"
     ]
    },
    {
     "name": "stdout",
     "output_type": "stream",
     "text": [
      "431\n"
     ]
    },
    {
     "name": "stderr",
     "output_type": "stream",
     "text": [
      "[*********************100%%**********************]  1 of 1 completed\n",
      "[*********************100%%**********************]  1 of 1 completed\n",
      "[*********************100%%**********************]  1 of 1 completed\n",
      "[*********************100%%**********************]  1 of 1 completed\n",
      "[*********************100%%**********************]  1 of 1 completed\n",
      "c:\\Users\\GRAYBILLKB20\\OneDrive - Grove City College\\Sophomore Year\\FinanceData\\FinanceData\\FinanceDataHelper.py:102: FutureWarning: The behavior of DataFrame concatenation with empty or all-NA entries is deprecated. In a future version, this will no longer exclude empty or all-NA columns when determining the result dtypes. To retain the old behavior, exclude the relevant entries before the concat operation.\n",
      "  return new_append_df if output_df is None else pd.concat([output_df,new_append_df])\n"
     ]
    },
    {
     "name": "stdout",
     "output_type": "stream",
     "text": [
      "432\n"
     ]
    },
    {
     "name": "stderr",
     "output_type": "stream",
     "text": [
      "[*********************100%%**********************]  1 of 1 completed\n",
      "[*********************100%%**********************]  1 of 1 completed\n",
      "[*********************100%%**********************]  1 of 1 completed\n",
      "[*********************100%%**********************]  1 of 1 completed\n",
      "[*********************100%%**********************]  1 of 1 completed\n",
      "c:\\Users\\GRAYBILLKB20\\OneDrive - Grove City College\\Sophomore Year\\FinanceData\\FinanceData\\FinanceDataHelper.py:102: FutureWarning: The behavior of DataFrame concatenation with empty or all-NA entries is deprecated. In a future version, this will no longer exclude empty or all-NA columns when determining the result dtypes. To retain the old behavior, exclude the relevant entries before the concat operation.\n",
      "  return new_append_df if output_df is None else pd.concat([output_df,new_append_df])\n"
     ]
    },
    {
     "name": "stdout",
     "output_type": "stream",
     "text": [
      "433\n"
     ]
    },
    {
     "name": "stderr",
     "output_type": "stream",
     "text": [
      "[*********************100%%**********************]  1 of 1 completed\n",
      "[*********************100%%**********************]  1 of 1 completed\n",
      "[*********************100%%**********************]  1 of 1 completed\n",
      "[*********************100%%**********************]  1 of 1 completed\n",
      "[*********************100%%**********************]  1 of 1 completed\n",
      "c:\\Users\\GRAYBILLKB20\\OneDrive - Grove City College\\Sophomore Year\\FinanceData\\FinanceData\\FinanceDataHelper.py:102: FutureWarning: The behavior of DataFrame concatenation with empty or all-NA entries is deprecated. In a future version, this will no longer exclude empty or all-NA columns when determining the result dtypes. To retain the old behavior, exclude the relevant entries before the concat operation.\n",
      "  return new_append_df if output_df is None else pd.concat([output_df,new_append_df])\n"
     ]
    },
    {
     "name": "stdout",
     "output_type": "stream",
     "text": [
      "434\n"
     ]
    },
    {
     "name": "stderr",
     "output_type": "stream",
     "text": [
      "[*********************100%%**********************]  1 of 1 completed\n",
      "[*********************100%%**********************]  1 of 1 completed\n",
      "[*********************100%%**********************]  1 of 1 completed\n",
      "[*********************100%%**********************]  1 of 1 completed\n",
      "[*********************100%%**********************]  1 of 1 completed\n",
      "c:\\Users\\GRAYBILLKB20\\OneDrive - Grove City College\\Sophomore Year\\FinanceData\\FinanceData\\FinanceDataHelper.py:102: FutureWarning: The behavior of DataFrame concatenation with empty or all-NA entries is deprecated. In a future version, this will no longer exclude empty or all-NA columns when determining the result dtypes. To retain the old behavior, exclude the relevant entries before the concat operation.\n",
      "  return new_append_df if output_df is None else pd.concat([output_df,new_append_df])\n"
     ]
    },
    {
     "name": "stdout",
     "output_type": "stream",
     "text": [
      "435\n"
     ]
    },
    {
     "name": "stderr",
     "output_type": "stream",
     "text": [
      "[*********************100%%**********************]  1 of 1 completed\n",
      "[*********************100%%**********************]  1 of 1 completed\n",
      "[*********************100%%**********************]  1 of 1 completed\n",
      "[*********************100%%**********************]  1 of 1 completed\n",
      "[*********************100%%**********************]  1 of 1 completed\n",
      "c:\\Users\\GRAYBILLKB20\\OneDrive - Grove City College\\Sophomore Year\\FinanceData\\FinanceData\\FinanceDataHelper.py:102: FutureWarning: The behavior of DataFrame concatenation with empty or all-NA entries is deprecated. In a future version, this will no longer exclude empty or all-NA columns when determining the result dtypes. To retain the old behavior, exclude the relevant entries before the concat operation.\n",
      "  return new_append_df if output_df is None else pd.concat([output_df,new_append_df])\n"
     ]
    },
    {
     "name": "stdout",
     "output_type": "stream",
     "text": [
      "436\n"
     ]
    },
    {
     "name": "stderr",
     "output_type": "stream",
     "text": [
      "[*********************100%%**********************]  1 of 1 completed\n",
      "[*********************100%%**********************]  1 of 1 completed\n",
      "[*********************100%%**********************]  1 of 1 completed\n",
      "[*********************100%%**********************]  1 of 1 completed\n",
      "[*********************100%%**********************]  1 of 1 completed\n",
      "c:\\Users\\GRAYBILLKB20\\OneDrive - Grove City College\\Sophomore Year\\FinanceData\\FinanceData\\FinanceDataHelper.py:102: FutureWarning: The behavior of DataFrame concatenation with empty or all-NA entries is deprecated. In a future version, this will no longer exclude empty or all-NA columns when determining the result dtypes. To retain the old behavior, exclude the relevant entries before the concat operation.\n",
      "  return new_append_df if output_df is None else pd.concat([output_df,new_append_df])\n"
     ]
    },
    {
     "name": "stdout",
     "output_type": "stream",
     "text": [
      "437\n"
     ]
    },
    {
     "name": "stderr",
     "output_type": "stream",
     "text": [
      "[*********************100%%**********************]  1 of 1 completed\n",
      "[*********************100%%**********************]  1 of 1 completed\n",
      "[*********************100%%**********************]  1 of 1 completed\n",
      "[*********************100%%**********************]  1 of 1 completed\n",
      "[*********************100%%**********************]  1 of 1 completed\n",
      "c:\\Users\\GRAYBILLKB20\\OneDrive - Grove City College\\Sophomore Year\\FinanceData\\FinanceData\\FinanceDataHelper.py:102: FutureWarning: The behavior of DataFrame concatenation with empty or all-NA entries is deprecated. In a future version, this will no longer exclude empty or all-NA columns when determining the result dtypes. To retain the old behavior, exclude the relevant entries before the concat operation.\n",
      "  return new_append_df if output_df is None else pd.concat([output_df,new_append_df])\n"
     ]
    },
    {
     "name": "stdout",
     "output_type": "stream",
     "text": [
      "438\n"
     ]
    },
    {
     "name": "stderr",
     "output_type": "stream",
     "text": [
      "[*********************100%%**********************]  1 of 1 completed\n",
      "[*********************100%%**********************]  1 of 1 completed\n",
      "[*********************100%%**********************]  1 of 1 completed\n",
      "[*********************100%%**********************]  1 of 1 completed\n",
      "[*********************100%%**********************]  1 of 1 completed\n",
      "c:\\Users\\GRAYBILLKB20\\OneDrive - Grove City College\\Sophomore Year\\FinanceData\\FinanceData\\FinanceDataHelper.py:102: FutureWarning: The behavior of DataFrame concatenation with empty or all-NA entries is deprecated. In a future version, this will no longer exclude empty or all-NA columns when determining the result dtypes. To retain the old behavior, exclude the relevant entries before the concat operation.\n",
      "  return new_append_df if output_df is None else pd.concat([output_df,new_append_df])\n"
     ]
    },
    {
     "name": "stdout",
     "output_type": "stream",
     "text": [
      "Index error retrieving data for TDY stock on 2024-12-10 00:00:00: single positional indexer is out-of-bounds\n",
      "Index error retrieving data for TDY stock on 2024-12-09 00:00:00: single positional indexer is out-of-bounds\n",
      "439\n"
     ]
    },
    {
     "name": "stderr",
     "output_type": "stream",
     "text": [
      "[*********************100%%**********************]  1 of 1 completed\n",
      "[*********************100%%**********************]  1 of 1 completed\n",
      "[*********************100%%**********************]  1 of 1 completed\n",
      "[*********************100%%**********************]  1 of 1 completed\n",
      "[*********************100%%**********************]  1 of 1 completed\n",
      "c:\\Users\\GRAYBILLKB20\\OneDrive - Grove City College\\Sophomore Year\\FinanceData\\FinanceData\\FinanceDataHelper.py:102: FutureWarning: The behavior of DataFrame concatenation with empty or all-NA entries is deprecated. In a future version, this will no longer exclude empty or all-NA columns when determining the result dtypes. To retain the old behavior, exclude the relevant entries before the concat operation.\n",
      "  return new_append_df if output_df is None else pd.concat([output_df,new_append_df])\n"
     ]
    },
    {
     "name": "stdout",
     "output_type": "stream",
     "text": [
      "Index error retrieving data for TFX stock on 2024-12-09 00:00:00: single positional indexer is out-of-bounds\n",
      "440\n"
     ]
    },
    {
     "name": "stderr",
     "output_type": "stream",
     "text": [
      "[*********************100%%**********************]  1 of 1 completed\n",
      "[*********************100%%**********************]  1 of 1 completed\n",
      "[*********************100%%**********************]  1 of 1 completed\n",
      "[*********************100%%**********************]  1 of 1 completed\n",
      "[*********************100%%**********************]  1 of 1 completed\n",
      "c:\\Users\\GRAYBILLKB20\\OneDrive - Grove City College\\Sophomore Year\\FinanceData\\FinanceData\\FinanceDataHelper.py:102: FutureWarning: The behavior of DataFrame concatenation with empty or all-NA entries is deprecated. In a future version, this will no longer exclude empty or all-NA columns when determining the result dtypes. To retain the old behavior, exclude the relevant entries before the concat operation.\n",
      "  return new_append_df if output_df is None else pd.concat([output_df,new_append_df])\n"
     ]
    },
    {
     "name": "stdout",
     "output_type": "stream",
     "text": [
      "441\n"
     ]
    },
    {
     "name": "stderr",
     "output_type": "stream",
     "text": [
      "[*********************100%%**********************]  1 of 1 completed\n",
      "[*********************100%%**********************]  1 of 1 completed\n",
      "[*********************100%%**********************]  1 of 1 completed\n",
      "[*********************100%%**********************]  1 of 1 completed\n",
      "[*********************100%%**********************]  1 of 1 completed\n",
      "c:\\Users\\GRAYBILLKB20\\OneDrive - Grove City College\\Sophomore Year\\FinanceData\\FinanceData\\FinanceDataHelper.py:102: FutureWarning: The behavior of DataFrame concatenation with empty or all-NA entries is deprecated. In a future version, this will no longer exclude empty or all-NA columns when determining the result dtypes. To retain the old behavior, exclude the relevant entries before the concat operation.\n",
      "  return new_append_df if output_df is None else pd.concat([output_df,new_append_df])\n"
     ]
    },
    {
     "name": "stdout",
     "output_type": "stream",
     "text": [
      "442\n"
     ]
    },
    {
     "name": "stderr",
     "output_type": "stream",
     "text": [
      "[*********************100%%**********************]  1 of 1 completed\n",
      "[*********************100%%**********************]  1 of 1 completed\n",
      "[*********************100%%**********************]  1 of 1 completed\n",
      "[*********************100%%**********************]  1 of 1 completed\n",
      "[*********************100%%**********************]  1 of 1 completed\n",
      "c:\\Users\\GRAYBILLKB20\\OneDrive - Grove City College\\Sophomore Year\\FinanceData\\FinanceData\\FinanceDataHelper.py:102: FutureWarning: The behavior of DataFrame concatenation with empty or all-NA entries is deprecated. In a future version, this will no longer exclude empty or all-NA columns when determining the result dtypes. To retain the old behavior, exclude the relevant entries before the concat operation.\n",
      "  return new_append_df if output_df is None else pd.concat([output_df,new_append_df])\n"
     ]
    },
    {
     "name": "stdout",
     "output_type": "stream",
     "text": [
      "443\n"
     ]
    },
    {
     "name": "stderr",
     "output_type": "stream",
     "text": [
      "[*********************100%%**********************]  1 of 1 completed\n",
      "[*********************100%%**********************]  1 of 1 completed\n",
      "[*********************100%%**********************]  1 of 1 completed\n",
      "[*********************100%%**********************]  1 of 1 completed\n",
      "[*********************100%%**********************]  1 of 1 completed\n",
      "c:\\Users\\GRAYBILLKB20\\OneDrive - Grove City College\\Sophomore Year\\FinanceData\\FinanceData\\FinanceDataHelper.py:102: FutureWarning: The behavior of DataFrame concatenation with empty or all-NA entries is deprecated. In a future version, this will no longer exclude empty or all-NA columns when determining the result dtypes. To retain the old behavior, exclude the relevant entries before the concat operation.\n",
      "  return new_append_df if output_df is None else pd.concat([output_df,new_append_df])\n"
     ]
    },
    {
     "name": "stdout",
     "output_type": "stream",
     "text": [
      "Index error retrieving data for TPL stock on 2024-12-12 00:00:00: single positional indexer is out-of-bounds\n",
      "Index error retrieving data for TPL stock on 2024-12-11 00:00:00: single positional indexer is out-of-bounds\n",
      "Index error retrieving data for TPL stock on 2024-12-10 00:00:00: single positional indexer is out-of-bounds\n",
      "Index error retrieving data for TPL stock on 2024-12-09 00:00:00: single positional indexer is out-of-bounds\n",
      "444\n"
     ]
    },
    {
     "name": "stderr",
     "output_type": "stream",
     "text": [
      "[*********************100%%**********************]  1 of 1 completed\n",
      "[*********************100%%**********************]  1 of 1 completed\n",
      "[*********************100%%**********************]  1 of 1 completed\n",
      "[*********************100%%**********************]  1 of 1 completed\n",
      "[*********************100%%**********************]  1 of 1 completed\n",
      "c:\\Users\\GRAYBILLKB20\\OneDrive - Grove City College\\Sophomore Year\\FinanceData\\FinanceData\\FinanceDataHelper.py:102: FutureWarning: The behavior of DataFrame concatenation with empty or all-NA entries is deprecated. In a future version, this will no longer exclude empty or all-NA columns when determining the result dtypes. To retain the old behavior, exclude the relevant entries before the concat operation.\n",
      "  return new_append_df if output_df is None else pd.concat([output_df,new_append_df])\n"
     ]
    },
    {
     "name": "stdout",
     "output_type": "stream",
     "text": [
      "445\n"
     ]
    },
    {
     "name": "stderr",
     "output_type": "stream",
     "text": [
      "[*********************100%%**********************]  1 of 1 completed\n",
      "[*********************100%%**********************]  1 of 1 completed\n",
      "[*********************100%%**********************]  1 of 1 completed\n",
      "[*********************100%%**********************]  1 of 1 completed\n",
      "[*********************100%%**********************]  1 of 1 completed\n",
      "c:\\Users\\GRAYBILLKB20\\OneDrive - Grove City College\\Sophomore Year\\FinanceData\\FinanceData\\FinanceDataHelper.py:102: FutureWarning: The behavior of DataFrame concatenation with empty or all-NA entries is deprecated. In a future version, this will no longer exclude empty or all-NA columns when determining the result dtypes. To retain the old behavior, exclude the relevant entries before the concat operation.\n",
      "  return new_append_df if output_df is None else pd.concat([output_df,new_append_df])\n"
     ]
    },
    {
     "name": "stdout",
     "output_type": "stream",
     "text": [
      "446\n"
     ]
    },
    {
     "name": "stderr",
     "output_type": "stream",
     "text": [
      "[*********************100%%**********************]  1 of 1 completed\n",
      "[*********************100%%**********************]  1 of 1 completed\n",
      "[*********************100%%**********************]  1 of 1 completed\n",
      "[*********************100%%**********************]  1 of 1 completed\n",
      "[*********************100%%**********************]  1 of 1 completed\n",
      "c:\\Users\\GRAYBILLKB20\\OneDrive - Grove City College\\Sophomore Year\\FinanceData\\FinanceData\\FinanceDataHelper.py:102: FutureWarning: The behavior of DataFrame concatenation with empty or all-NA entries is deprecated. In a future version, this will no longer exclude empty or all-NA columns when determining the result dtypes. To retain the old behavior, exclude the relevant entries before the concat operation.\n",
      "  return new_append_df if output_df is None else pd.concat([output_df,new_append_df])\n"
     ]
    },
    {
     "name": "stdout",
     "output_type": "stream",
     "text": [
      "447\n"
     ]
    },
    {
     "name": "stderr",
     "output_type": "stream",
     "text": [
      "[*********************100%%**********************]  1 of 1 completed\n",
      "[*********************100%%**********************]  1 of 1 completed\n",
      "[*********************100%%**********************]  1 of 1 completed\n",
      "[*********************100%%**********************]  1 of 1 completed\n",
      "[*********************100%%**********************]  1 of 1 completed\n",
      "c:\\Users\\GRAYBILLKB20\\OneDrive - Grove City College\\Sophomore Year\\FinanceData\\FinanceData\\FinanceDataHelper.py:102: FutureWarning: The behavior of DataFrame concatenation with empty or all-NA entries is deprecated. In a future version, this will no longer exclude empty or all-NA columns when determining the result dtypes. To retain the old behavior, exclude the relevant entries before the concat operation.\n",
      "  return new_append_df if output_df is None else pd.concat([output_df,new_append_df])\n"
     ]
    },
    {
     "name": "stdout",
     "output_type": "stream",
     "text": [
      "448\n"
     ]
    },
    {
     "name": "stderr",
     "output_type": "stream",
     "text": [
      "[*********************100%%**********************]  1 of 1 completed\n",
      "[*********************100%%**********************]  1 of 1 completed\n",
      "[*********************100%%**********************]  1 of 1 completed\n",
      "[*********************100%%**********************]  1 of 1 completed\n",
      "[*********************100%%**********************]  1 of 1 completed\n",
      "c:\\Users\\GRAYBILLKB20\\OneDrive - Grove City College\\Sophomore Year\\FinanceData\\FinanceData\\FinanceDataHelper.py:102: FutureWarning: The behavior of DataFrame concatenation with empty or all-NA entries is deprecated. In a future version, this will no longer exclude empty or all-NA columns when determining the result dtypes. To retain the old behavior, exclude the relevant entries before the concat operation.\n",
      "  return new_append_df if output_df is None else pd.concat([output_df,new_append_df])\n"
     ]
    },
    {
     "name": "stdout",
     "output_type": "stream",
     "text": [
      "449\n"
     ]
    },
    {
     "name": "stderr",
     "output_type": "stream",
     "text": [
      "[*********************100%%**********************]  1 of 1 completed\n",
      "[*********************100%%**********************]  1 of 1 completed\n",
      "[*********************100%%**********************]  1 of 1 completed\n",
      "[*********************100%%**********************]  1 of 1 completed\n",
      "[*********************100%%**********************]  1 of 1 completed\n",
      "c:\\Users\\GRAYBILLKB20\\OneDrive - Grove City College\\Sophomore Year\\FinanceData\\FinanceData\\FinanceDataHelper.py:102: FutureWarning: The behavior of DataFrame concatenation with empty or all-NA entries is deprecated. In a future version, this will no longer exclude empty or all-NA columns when determining the result dtypes. To retain the old behavior, exclude the relevant entries before the concat operation.\n",
      "  return new_append_df if output_df is None else pd.concat([output_df,new_append_df])\n"
     ]
    },
    {
     "name": "stdout",
     "output_type": "stream",
     "text": [
      "Index error retrieving data for TDG stock on 2024-12-10 00:00:00: single positional indexer is out-of-bounds\n",
      "Index error retrieving data for TDG stock on 2024-12-09 00:00:00: single positional indexer is out-of-bounds\n",
      "450\n"
     ]
    },
    {
     "name": "stderr",
     "output_type": "stream",
     "text": [
      "[*********************100%%**********************]  1 of 1 completed\n",
      "[*********************100%%**********************]  1 of 1 completed\n",
      "[*********************100%%**********************]  1 of 1 completed\n",
      "[*********************100%%**********************]  1 of 1 completed\n",
      "[*********************100%%**********************]  1 of 1 completed\n",
      "c:\\Users\\GRAYBILLKB20\\OneDrive - Grove City College\\Sophomore Year\\FinanceData\\FinanceData\\FinanceDataHelper.py:102: FutureWarning: The behavior of DataFrame concatenation with empty or all-NA entries is deprecated. In a future version, this will no longer exclude empty or all-NA columns when determining the result dtypes. To retain the old behavior, exclude the relevant entries before the concat operation.\n",
      "  return new_append_df if output_df is None else pd.concat([output_df,new_append_df])\n"
     ]
    },
    {
     "name": "stdout",
     "output_type": "stream",
     "text": [
      "451\n"
     ]
    },
    {
     "name": "stderr",
     "output_type": "stream",
     "text": [
      "[*********************100%%**********************]  1 of 1 completed\n",
      "[*********************100%%**********************]  1 of 1 completed\n",
      "[*********************100%%**********************]  1 of 1 completed\n",
      "[*********************100%%**********************]  1 of 1 completed\n",
      "[*********************100%%**********************]  1 of 1 completed\n",
      "c:\\Users\\GRAYBILLKB20\\OneDrive - Grove City College\\Sophomore Year\\FinanceData\\FinanceData\\FinanceDataHelper.py:102: FutureWarning: The behavior of DataFrame concatenation with empty or all-NA entries is deprecated. In a future version, this will no longer exclude empty or all-NA columns when determining the result dtypes. To retain the old behavior, exclude the relevant entries before the concat operation.\n",
      "  return new_append_df if output_df is None else pd.concat([output_df,new_append_df])\n"
     ]
    },
    {
     "name": "stdout",
     "output_type": "stream",
     "text": [
      "452\n"
     ]
    },
    {
     "name": "stderr",
     "output_type": "stream",
     "text": [
      "[*********************100%%**********************]  1 of 1 completed\n",
      "[*********************100%%**********************]  1 of 1 completed\n",
      "[*********************100%%**********************]  1 of 1 completed\n",
      "[*********************100%%**********************]  1 of 1 completed\n",
      "[*********************100%%**********************]  1 of 1 completed\n",
      "c:\\Users\\GRAYBILLKB20\\OneDrive - Grove City College\\Sophomore Year\\FinanceData\\FinanceData\\FinanceDataHelper.py:102: FutureWarning: The behavior of DataFrame concatenation with empty or all-NA entries is deprecated. In a future version, this will no longer exclude empty or all-NA columns when determining the result dtypes. To retain the old behavior, exclude the relevant entries before the concat operation.\n",
      "  return new_append_df if output_df is None else pd.concat([output_df,new_append_df])\n"
     ]
    },
    {
     "name": "stdout",
     "output_type": "stream",
     "text": [
      "453\n"
     ]
    },
    {
     "name": "stderr",
     "output_type": "stream",
     "text": [
      "[*********************100%%**********************]  1 of 1 completed\n",
      "[*********************100%%**********************]  1 of 1 completed\n",
      "[*********************100%%**********************]  1 of 1 completed\n",
      "[*********************100%%**********************]  1 of 1 completed\n",
      "[*********************100%%**********************]  1 of 1 completed\n",
      "c:\\Users\\GRAYBILLKB20\\OneDrive - Grove City College\\Sophomore Year\\FinanceData\\FinanceData\\FinanceDataHelper.py:102: FutureWarning: The behavior of DataFrame concatenation with empty or all-NA entries is deprecated. In a future version, this will no longer exclude empty or all-NA columns when determining the result dtypes. To retain the old behavior, exclude the relevant entries before the concat operation.\n",
      "  return new_append_df if output_df is None else pd.concat([output_df,new_append_df])\n"
     ]
    },
    {
     "name": "stdout",
     "output_type": "stream",
     "text": [
      "Index error retrieving data for TYL stock on 2024-12-10 00:00:00: single positional indexer is out-of-bounds\n",
      "Index error retrieving data for TYL stock on 2024-12-09 00:00:00: single positional indexer is out-of-bounds\n",
      "454\n"
     ]
    },
    {
     "name": "stderr",
     "output_type": "stream",
     "text": [
      "[*********************100%%**********************]  1 of 1 completed\n",
      "[*********************100%%**********************]  1 of 1 completed\n",
      "[*********************100%%**********************]  1 of 1 completed\n",
      "[*********************100%%**********************]  1 of 1 completed\n",
      "[*********************100%%**********************]  1 of 1 completed\n",
      "c:\\Users\\GRAYBILLKB20\\OneDrive - Grove City College\\Sophomore Year\\FinanceData\\FinanceData\\FinanceDataHelper.py:102: FutureWarning: The behavior of DataFrame concatenation with empty or all-NA entries is deprecated. In a future version, this will no longer exclude empty or all-NA columns when determining the result dtypes. To retain the old behavior, exclude the relevant entries before the concat operation.\n",
      "  return new_append_df if output_df is None else pd.concat([output_df,new_append_df])\n"
     ]
    },
    {
     "name": "stdout",
     "output_type": "stream",
     "text": [
      "455\n"
     ]
    },
    {
     "name": "stderr",
     "output_type": "stream",
     "text": [
      "[*********************100%%**********************]  1 of 1 completed\n",
      "[*********************100%%**********************]  1 of 1 completed\n",
      "[*********************100%%**********************]  1 of 1 completed\n",
      "[*********************100%%**********************]  1 of 1 completed\n",
      "[*********************100%%**********************]  1 of 1 completed\n",
      "c:\\Users\\GRAYBILLKB20\\OneDrive - Grove City College\\Sophomore Year\\FinanceData\\FinanceData\\FinanceDataHelper.py:102: FutureWarning: The behavior of DataFrame concatenation with empty or all-NA entries is deprecated. In a future version, this will no longer exclude empty or all-NA columns when determining the result dtypes. To retain the old behavior, exclude the relevant entries before the concat operation.\n",
      "  return new_append_df if output_df is None else pd.concat([output_df,new_append_df])\n"
     ]
    },
    {
     "name": "stdout",
     "output_type": "stream",
     "text": [
      "456\n"
     ]
    },
    {
     "name": "stderr",
     "output_type": "stream",
     "text": [
      "[*********************100%%**********************]  1 of 1 completed\n",
      "[*********************100%%**********************]  1 of 1 completed\n",
      "[*********************100%%**********************]  1 of 1 completed\n",
      "[*********************100%%**********************]  1 of 1 completed\n",
      "[*********************100%%**********************]  1 of 1 completed\n",
      "c:\\Users\\GRAYBILLKB20\\OneDrive - Grove City College\\Sophomore Year\\FinanceData\\FinanceData\\FinanceDataHelper.py:102: FutureWarning: The behavior of DataFrame concatenation with empty or all-NA entries is deprecated. In a future version, this will no longer exclude empty or all-NA columns when determining the result dtypes. To retain the old behavior, exclude the relevant entries before the concat operation.\n",
      "  return new_append_df if output_df is None else pd.concat([output_df,new_append_df])\n"
     ]
    },
    {
     "name": "stdout",
     "output_type": "stream",
     "text": [
      "457\n"
     ]
    },
    {
     "name": "stderr",
     "output_type": "stream",
     "text": [
      "[*********************100%%**********************]  1 of 1 completed\n",
      "[*********************100%%**********************]  1 of 1 completed\n",
      "[*********************100%%**********************]  1 of 1 completed\n",
      "[*********************100%%**********************]  1 of 1 completed\n",
      "[*********************100%%**********************]  1 of 1 completed\n",
      "c:\\Users\\GRAYBILLKB20\\OneDrive - Grove City College\\Sophomore Year\\FinanceData\\FinanceData\\FinanceDataHelper.py:102: FutureWarning: The behavior of DataFrame concatenation with empty or all-NA entries is deprecated. In a future version, this will no longer exclude empty or all-NA columns when determining the result dtypes. To retain the old behavior, exclude the relevant entries before the concat operation.\n",
      "  return new_append_df if output_df is None else pd.concat([output_df,new_append_df])\n"
     ]
    },
    {
     "name": "stdout",
     "output_type": "stream",
     "text": [
      "458\n"
     ]
    },
    {
     "name": "stderr",
     "output_type": "stream",
     "text": [
      "[*********************100%%**********************]  1 of 1 completed\n",
      "[*********************100%%**********************]  1 of 1 completed\n",
      "[*********************100%%**********************]  1 of 1 completed\n",
      "[*********************100%%**********************]  1 of 1 completed\n",
      "[*********************100%%**********************]  1 of 1 completed\n",
      "c:\\Users\\GRAYBILLKB20\\OneDrive - Grove City College\\Sophomore Year\\FinanceData\\FinanceData\\FinanceDataHelper.py:102: FutureWarning: The behavior of DataFrame concatenation with empty or all-NA entries is deprecated. In a future version, this will no longer exclude empty or all-NA columns when determining the result dtypes. To retain the old behavior, exclude the relevant entries before the concat operation.\n",
      "  return new_append_df if output_df is None else pd.concat([output_df,new_append_df])\n"
     ]
    },
    {
     "name": "stdout",
     "output_type": "stream",
     "text": [
      "459\n"
     ]
    },
    {
     "name": "stderr",
     "output_type": "stream",
     "text": [
      "[*********************100%%**********************]  1 of 1 completed\n",
      "[*********************100%%**********************]  1 of 1 completed\n",
      "[*********************100%%**********************]  1 of 1 completed\n",
      "[*********************100%%**********************]  1 of 1 completed\n",
      "[*********************100%%**********************]  1 of 1 completed\n",
      "c:\\Users\\GRAYBILLKB20\\OneDrive - Grove City College\\Sophomore Year\\FinanceData\\FinanceData\\FinanceDataHelper.py:102: FutureWarning: The behavior of DataFrame concatenation with empty or all-NA entries is deprecated. In a future version, this will no longer exclude empty or all-NA columns when determining the result dtypes. To retain the old behavior, exclude the relevant entries before the concat operation.\n",
      "  return new_append_df if output_df is None else pd.concat([output_df,new_append_df])\n"
     ]
    },
    {
     "name": "stdout",
     "output_type": "stream",
     "text": [
      "460\n"
     ]
    },
    {
     "name": "stderr",
     "output_type": "stream",
     "text": [
      "[*********************100%%**********************]  1 of 1 completed\n",
      "[*********************100%%**********************]  1 of 1 completed\n",
      "[*********************100%%**********************]  1 of 1 completed\n",
      "[*********************100%%**********************]  1 of 1 completed\n",
      "[*********************100%%**********************]  1 of 1 completed\n",
      "c:\\Users\\GRAYBILLKB20\\OneDrive - Grove City College\\Sophomore Year\\FinanceData\\FinanceData\\FinanceDataHelper.py:102: FutureWarning: The behavior of DataFrame concatenation with empty or all-NA entries is deprecated. In a future version, this will no longer exclude empty or all-NA columns when determining the result dtypes. To retain the old behavior, exclude the relevant entries before the concat operation.\n",
      "  return new_append_df if output_df is None else pd.concat([output_df,new_append_df])\n"
     ]
    },
    {
     "name": "stdout",
     "output_type": "stream",
     "text": [
      "461\n"
     ]
    },
    {
     "name": "stderr",
     "output_type": "stream",
     "text": [
      "[*********************100%%**********************]  1 of 1 completed\n",
      "[*********************100%%**********************]  1 of 1 completed\n",
      "[*********************100%%**********************]  1 of 1 completed\n",
      "[*********************100%%**********************]  1 of 1 completed\n",
      "[*********************100%%**********************]  1 of 1 completed\n",
      "c:\\Users\\GRAYBILLKB20\\OneDrive - Grove City College\\Sophomore Year\\FinanceData\\FinanceData\\FinanceDataHelper.py:102: FutureWarning: The behavior of DataFrame concatenation with empty or all-NA entries is deprecated. In a future version, this will no longer exclude empty or all-NA columns when determining the result dtypes. To retain the old behavior, exclude the relevant entries before the concat operation.\n",
      "  return new_append_df if output_df is None else pd.concat([output_df,new_append_df])\n"
     ]
    },
    {
     "name": "stdout",
     "output_type": "stream",
     "text": [
      "462\n"
     ]
    },
    {
     "name": "stderr",
     "output_type": "stream",
     "text": [
      "[*********************100%%**********************]  1 of 1 completed\n",
      "[*********************100%%**********************]  1 of 1 completed\n",
      "[*********************100%%**********************]  1 of 1 completed\n",
      "[*********************100%%**********************]  1 of 1 completed\n",
      "[*********************100%%**********************]  1 of 1 completed\n",
      "c:\\Users\\GRAYBILLKB20\\OneDrive - Grove City College\\Sophomore Year\\FinanceData\\FinanceData\\FinanceDataHelper.py:102: FutureWarning: The behavior of DataFrame concatenation with empty or all-NA entries is deprecated. In a future version, this will no longer exclude empty or all-NA columns when determining the result dtypes. To retain the old behavior, exclude the relevant entries before the concat operation.\n",
      "  return new_append_df if output_df is None else pd.concat([output_df,new_append_df])\n"
     ]
    },
    {
     "name": "stdout",
     "output_type": "stream",
     "text": [
      "Index error retrieving data for URI stock on 2024-12-09 00:00:00: single positional indexer is out-of-bounds\n",
      "463\n"
     ]
    },
    {
     "name": "stderr",
     "output_type": "stream",
     "text": [
      "[*********************100%%**********************]  1 of 1 completed\n",
      "[*********************100%%**********************]  1 of 1 completed\n",
      "[*********************100%%**********************]  1 of 1 completed\n",
      "[*********************100%%**********************]  1 of 1 completed\n",
      "[*********************100%%**********************]  1 of 1 completed\n",
      "c:\\Users\\GRAYBILLKB20\\OneDrive - Grove City College\\Sophomore Year\\FinanceData\\FinanceData\\FinanceDataHelper.py:102: FutureWarning: The behavior of DataFrame concatenation with empty or all-NA entries is deprecated. In a future version, this will no longer exclude empty or all-NA columns when determining the result dtypes. To retain the old behavior, exclude the relevant entries before the concat operation.\n",
      "  return new_append_df if output_df is None else pd.concat([output_df,new_append_df])\n"
     ]
    },
    {
     "name": "stdout",
     "output_type": "stream",
     "text": [
      "464\n"
     ]
    },
    {
     "name": "stderr",
     "output_type": "stream",
     "text": [
      "[*********************100%%**********************]  1 of 1 completed\n",
      "[*********************100%%**********************]  1 of 1 completed\n",
      "[*********************100%%**********************]  1 of 1 completed\n",
      "[*********************100%%**********************]  1 of 1 completed\n",
      "[*********************100%%**********************]  1 of 1 completed\n",
      "c:\\Users\\GRAYBILLKB20\\OneDrive - Grove City College\\Sophomore Year\\FinanceData\\FinanceData\\FinanceDataHelper.py:102: FutureWarning: The behavior of DataFrame concatenation with empty or all-NA entries is deprecated. In a future version, this will no longer exclude empty or all-NA columns when determining the result dtypes. To retain the old behavior, exclude the relevant entries before the concat operation.\n",
      "  return new_append_df if output_df is None else pd.concat([output_df,new_append_df])\n"
     ]
    },
    {
     "name": "stdout",
     "output_type": "stream",
     "text": [
      "Index error retrieving data for UHS stock on 2024-12-09 00:00:00: single positional indexer is out-of-bounds\n",
      "465\n"
     ]
    },
    {
     "name": "stderr",
     "output_type": "stream",
     "text": [
      "[*********************100%%**********************]  1 of 1 completed\n",
      "[*********************100%%**********************]  1 of 1 completed\n",
      "[*********************100%%**********************]  1 of 1 completed\n",
      "[*********************100%%**********************]  1 of 1 completed\n",
      "[*********************100%%**********************]  1 of 1 completed\n",
      "c:\\Users\\GRAYBILLKB20\\OneDrive - Grove City College\\Sophomore Year\\FinanceData\\FinanceData\\FinanceDataHelper.py:102: FutureWarning: The behavior of DataFrame concatenation with empty or all-NA entries is deprecated. In a future version, this will no longer exclude empty or all-NA columns when determining the result dtypes. To retain the old behavior, exclude the relevant entries before the concat operation.\n",
      "  return new_append_df if output_df is None else pd.concat([output_df,new_append_df])\n"
     ]
    },
    {
     "name": "stdout",
     "output_type": "stream",
     "text": [
      "466\n"
     ]
    },
    {
     "name": "stderr",
     "output_type": "stream",
     "text": [
      "[*********************100%%**********************]  1 of 1 completed\n",
      "[*********************100%%**********************]  1 of 1 completed\n",
      "[*********************100%%**********************]  1 of 1 completed\n",
      "[*********************100%%**********************]  1 of 1 completed\n",
      "[*********************100%%**********************]  1 of 1 completed\n",
      "c:\\Users\\GRAYBILLKB20\\OneDrive - Grove City College\\Sophomore Year\\FinanceData\\FinanceData\\FinanceDataHelper.py:102: FutureWarning: The behavior of DataFrame concatenation with empty or all-NA entries is deprecated. In a future version, this will no longer exclude empty or all-NA columns when determining the result dtypes. To retain the old behavior, exclude the relevant entries before the concat operation.\n",
      "  return new_append_df if output_df is None else pd.concat([output_df,new_append_df])\n"
     ]
    },
    {
     "name": "stdout",
     "output_type": "stream",
     "text": [
      "467\n"
     ]
    },
    {
     "name": "stderr",
     "output_type": "stream",
     "text": [
      "[*********************100%%**********************]  1 of 1 completed\n",
      "[*********************100%%**********************]  1 of 1 completed\n",
      "[*********************100%%**********************]  1 of 1 completed\n",
      "[*********************100%%**********************]  1 of 1 completed\n",
      "[*********************100%%**********************]  1 of 1 completed\n",
      "c:\\Users\\GRAYBILLKB20\\OneDrive - Grove City College\\Sophomore Year\\FinanceData\\FinanceData\\FinanceDataHelper.py:102: FutureWarning: The behavior of DataFrame concatenation with empty or all-NA entries is deprecated. In a future version, this will no longer exclude empty or all-NA columns when determining the result dtypes. To retain the old behavior, exclude the relevant entries before the concat operation.\n",
      "  return new_append_df if output_df is None else pd.concat([output_df,new_append_df])\n"
     ]
    },
    {
     "name": "stdout",
     "output_type": "stream",
     "text": [
      "468\n"
     ]
    },
    {
     "name": "stderr",
     "output_type": "stream",
     "text": [
      "[*********************100%%**********************]  1 of 1 completed\n",
      "[*********************100%%**********************]  1 of 1 completed\n",
      "[*********************100%%**********************]  1 of 1 completed\n",
      "[*********************100%%**********************]  1 of 1 completed\n",
      "[*********************100%%**********************]  1 of 1 completed\n",
      "c:\\Users\\GRAYBILLKB20\\OneDrive - Grove City College\\Sophomore Year\\FinanceData\\FinanceData\\FinanceDataHelper.py:102: FutureWarning: The behavior of DataFrame concatenation with empty or all-NA entries is deprecated. In a future version, this will no longer exclude empty or all-NA columns when determining the result dtypes. To retain the old behavior, exclude the relevant entries before the concat operation.\n",
      "  return new_append_df if output_df is None else pd.concat([output_df,new_append_df])\n"
     ]
    },
    {
     "name": "stdout",
     "output_type": "stream",
     "text": [
      "Index error retrieving data for VRSN stock on 2024-12-09 00:00:00: single positional indexer is out-of-bounds\n",
      "469\n"
     ]
    },
    {
     "name": "stderr",
     "output_type": "stream",
     "text": [
      "[*********************100%%**********************]  1 of 1 completed\n",
      "[*********************100%%**********************]  1 of 1 completed\n",
      "[*********************100%%**********************]  1 of 1 completed\n",
      "[*********************100%%**********************]  1 of 1 completed\n",
      "[*********************100%%**********************]  1 of 1 completed\n",
      "c:\\Users\\GRAYBILLKB20\\OneDrive - Grove City College\\Sophomore Year\\FinanceData\\FinanceData\\FinanceDataHelper.py:102: FutureWarning: The behavior of DataFrame concatenation with empty or all-NA entries is deprecated. In a future version, this will no longer exclude empty or all-NA columns when determining the result dtypes. To retain the old behavior, exclude the relevant entries before the concat operation.\n",
      "  return new_append_df if output_df is None else pd.concat([output_df,new_append_df])\n"
     ]
    },
    {
     "name": "stdout",
     "output_type": "stream",
     "text": [
      "Index error retrieving data for VRSK stock on 2024-12-09 00:00:00: single positional indexer is out-of-bounds\n",
      "470\n"
     ]
    },
    {
     "name": "stderr",
     "output_type": "stream",
     "text": [
      "[*********************100%%**********************]  1 of 1 completed\n",
      "[*********************100%%**********************]  1 of 1 completed\n",
      "[*********************100%%**********************]  1 of 1 completed\n",
      "[*********************100%%**********************]  1 of 1 completed\n",
      "[*********************100%%**********************]  1 of 1 completed\n",
      "c:\\Users\\GRAYBILLKB20\\OneDrive - Grove City College\\Sophomore Year\\FinanceData\\FinanceData\\FinanceDataHelper.py:102: FutureWarning: The behavior of DataFrame concatenation with empty or all-NA entries is deprecated. In a future version, this will no longer exclude empty or all-NA columns when determining the result dtypes. To retain the old behavior, exclude the relevant entries before the concat operation.\n",
      "  return new_append_df if output_df is None else pd.concat([output_df,new_append_df])\n"
     ]
    },
    {
     "name": "stdout",
     "output_type": "stream",
     "text": [
      "471\n"
     ]
    },
    {
     "name": "stderr",
     "output_type": "stream",
     "text": [
      "[*********************100%%**********************]  1 of 1 completed\n",
      "[*********************100%%**********************]  1 of 1 completed\n",
      "[*********************100%%**********************]  1 of 1 completed\n",
      "[*********************100%%**********************]  1 of 1 completed\n",
      "[*********************100%%**********************]  1 of 1 completed\n",
      "c:\\Users\\GRAYBILLKB20\\OneDrive - Grove City College\\Sophomore Year\\FinanceData\\FinanceData\\FinanceDataHelper.py:102: FutureWarning: The behavior of DataFrame concatenation with empty or all-NA entries is deprecated. In a future version, this will no longer exclude empty or all-NA columns when determining the result dtypes. To retain the old behavior, exclude the relevant entries before the concat operation.\n",
      "  return new_append_df if output_df is None else pd.concat([output_df,new_append_df])\n"
     ]
    },
    {
     "name": "stdout",
     "output_type": "stream",
     "text": [
      "Index error retrieving data for VRTX stock on 2024-12-09 00:00:00: single positional indexer is out-of-bounds\n",
      "472\n"
     ]
    },
    {
     "name": "stderr",
     "output_type": "stream",
     "text": [
      "[*********************100%%**********************]  1 of 1 completed\n",
      "[*********************100%%**********************]  1 of 1 completed\n",
      "[*********************100%%**********************]  1 of 1 completed\n",
      "[*********************100%%**********************]  1 of 1 completed\n",
      "[*********************100%%**********************]  1 of 1 completed\n",
      "c:\\Users\\GRAYBILLKB20\\OneDrive - Grove City College\\Sophomore Year\\FinanceData\\FinanceData\\FinanceDataHelper.py:102: FutureWarning: The behavior of DataFrame concatenation with empty or all-NA entries is deprecated. In a future version, this will no longer exclude empty or all-NA columns when determining the result dtypes. To retain the old behavior, exclude the relevant entries before the concat operation.\n",
      "  return new_append_df if output_df is None else pd.concat([output_df,new_append_df])\n"
     ]
    },
    {
     "name": "stdout",
     "output_type": "stream",
     "text": [
      "473\n"
     ]
    },
    {
     "name": "stderr",
     "output_type": "stream",
     "text": [
      "[*********************100%%**********************]  1 of 1 completed\n",
      "[*********************100%%**********************]  1 of 1 completed\n",
      "[*********************100%%**********************]  1 of 1 completed\n",
      "[*********************100%%**********************]  1 of 1 completed\n",
      "[*********************100%%**********************]  1 of 1 completed\n",
      "c:\\Users\\GRAYBILLKB20\\OneDrive - Grove City College\\Sophomore Year\\FinanceData\\FinanceData\\FinanceDataHelper.py:102: FutureWarning: The behavior of DataFrame concatenation with empty or all-NA entries is deprecated. In a future version, this will no longer exclude empty or all-NA columns when determining the result dtypes. To retain the old behavior, exclude the relevant entries before the concat operation.\n",
      "  return new_append_df if output_df is None else pd.concat([output_df,new_append_df])\n"
     ]
    },
    {
     "name": "stdout",
     "output_type": "stream",
     "text": [
      "474\n"
     ]
    },
    {
     "name": "stderr",
     "output_type": "stream",
     "text": [
      "[*********************100%%**********************]  1 of 1 completed\n",
      "[*********************100%%**********************]  1 of 1 completed\n",
      "[*********************100%%**********************]  1 of 1 completed\n",
      "[*********************100%%**********************]  1 of 1 completed\n",
      "[*********************100%%**********************]  1 of 1 completed\n",
      "c:\\Users\\GRAYBILLKB20\\OneDrive - Grove City College\\Sophomore Year\\FinanceData\\FinanceData\\FinanceDataHelper.py:102: FutureWarning: The behavior of DataFrame concatenation with empty or all-NA entries is deprecated. In a future version, this will no longer exclude empty or all-NA columns when determining the result dtypes. To retain the old behavior, exclude the relevant entries before the concat operation.\n",
      "  return new_append_df if output_df is None else pd.concat([output_df,new_append_df])\n"
     ]
    },
    {
     "name": "stdout",
     "output_type": "stream",
     "text": [
      "475\n"
     ]
    },
    {
     "name": "stderr",
     "output_type": "stream",
     "text": [
      "[*********************100%%**********************]  1 of 1 completed\n",
      "[*********************100%%**********************]  1 of 1 completed\n",
      "[*********************100%%**********************]  1 of 1 completed\n",
      "[*********************100%%**********************]  1 of 1 completed\n",
      "[*********************100%%**********************]  1 of 1 completed\n",
      "c:\\Users\\GRAYBILLKB20\\OneDrive - Grove City College\\Sophomore Year\\FinanceData\\FinanceData\\FinanceDataHelper.py:102: FutureWarning: The behavior of DataFrame concatenation with empty or all-NA entries is deprecated. In a future version, this will no longer exclude empty or all-NA columns when determining the result dtypes. To retain the old behavior, exclude the relevant entries before the concat operation.\n",
      "  return new_append_df if output_df is None else pd.concat([output_df,new_append_df])\n"
     ]
    },
    {
     "name": "stdout",
     "output_type": "stream",
     "text": [
      "476\n"
     ]
    },
    {
     "name": "stderr",
     "output_type": "stream",
     "text": [
      "[*********************100%%**********************]  1 of 1 completed\n",
      "[*********************100%%**********************]  1 of 1 completed\n",
      "[*********************100%%**********************]  1 of 1 completed\n",
      "[*********************100%%**********************]  1 of 1 completed\n",
      "[*********************100%%**********************]  1 of 1 completed\n",
      "c:\\Users\\GRAYBILLKB20\\OneDrive - Grove City College\\Sophomore Year\\FinanceData\\FinanceData\\FinanceDataHelper.py:102: FutureWarning: The behavior of DataFrame concatenation with empty or all-NA entries is deprecated. In a future version, this will no longer exclude empty or all-NA columns when determining the result dtypes. To retain the old behavior, exclude the relevant entries before the concat operation.\n",
      "  return new_append_df if output_df is None else pd.concat([output_df,new_append_df])\n"
     ]
    },
    {
     "name": "stdout",
     "output_type": "stream",
     "text": [
      "477\n"
     ]
    },
    {
     "name": "stderr",
     "output_type": "stream",
     "text": [
      "[*********************100%%**********************]  1 of 1 completed\n",
      "[*********************100%%**********************]  1 of 1 completed\n",
      "[*********************100%%**********************]  1 of 1 completed\n",
      "[*********************100%%**********************]  1 of 1 completed\n",
      "[*********************100%%**********************]  1 of 1 completed\n",
      "c:\\Users\\GRAYBILLKB20\\OneDrive - Grove City College\\Sophomore Year\\FinanceData\\FinanceData\\FinanceDataHelper.py:102: FutureWarning: The behavior of DataFrame concatenation with empty or all-NA entries is deprecated. In a future version, this will no longer exclude empty or all-NA columns when determining the result dtypes. To retain the old behavior, exclude the relevant entries before the concat operation.\n",
      "  return new_append_df if output_df is None else pd.concat([output_df,new_append_df])\n"
     ]
    },
    {
     "name": "stdout",
     "output_type": "stream",
     "text": [
      "478\n"
     ]
    },
    {
     "name": "stderr",
     "output_type": "stream",
     "text": [
      "[*********************100%%**********************]  1 of 1 completed\n",
      "[*********************100%%**********************]  1 of 1 completed\n",
      "[*********************100%%**********************]  1 of 1 completed\n",
      "[*********************100%%**********************]  1 of 1 completed\n",
      "[*********************100%%**********************]  1 of 1 completed\n",
      "c:\\Users\\GRAYBILLKB20\\OneDrive - Grove City College\\Sophomore Year\\FinanceData\\FinanceData\\FinanceDataHelper.py:102: FutureWarning: The behavior of DataFrame concatenation with empty or all-NA entries is deprecated. In a future version, this will no longer exclude empty or all-NA columns when determining the result dtypes. To retain the old behavior, exclude the relevant entries before the concat operation.\n",
      "  return new_append_df if output_df is None else pd.concat([output_df,new_append_df])\n"
     ]
    },
    {
     "name": "stdout",
     "output_type": "stream",
     "text": [
      "Index error retrieving data for GWW stock on 2024-12-12 00:00:00: single positional indexer is out-of-bounds\n",
      "Index error retrieving data for GWW stock on 2024-12-11 00:00:00: single positional indexer is out-of-bounds\n",
      "Index error retrieving data for GWW stock on 2024-12-10 00:00:00: single positional indexer is out-of-bounds\n",
      "Index error retrieving data for GWW stock on 2024-12-09 00:00:00: single positional indexer is out-of-bounds\n",
      "479\n"
     ]
    },
    {
     "name": "stderr",
     "output_type": "stream",
     "text": [
      "[*********************100%%**********************]  1 of 1 completed\n",
      "[*********************100%%**********************]  1 of 1 completed\n",
      "[*********************100%%**********************]  1 of 1 completed\n",
      "[*********************100%%**********************]  1 of 1 completed\n",
      "[*********************100%%**********************]  1 of 1 completed\n",
      "c:\\Users\\GRAYBILLKB20\\OneDrive - Grove City College\\Sophomore Year\\FinanceData\\FinanceData\\FinanceDataHelper.py:102: FutureWarning: The behavior of DataFrame concatenation with empty or all-NA entries is deprecated. In a future version, this will no longer exclude empty or all-NA columns when determining the result dtypes. To retain the old behavior, exclude the relevant entries before the concat operation.\n",
      "  return new_append_df if output_df is None else pd.concat([output_df,new_append_df])\n"
     ]
    },
    {
     "name": "stdout",
     "output_type": "stream",
     "text": [
      "480\n"
     ]
    },
    {
     "name": "stderr",
     "output_type": "stream",
     "text": [
      "[*********************100%%**********************]  1 of 1 completed\n",
      "[*********************100%%**********************]  1 of 1 completed\n",
      "[*********************100%%**********************]  1 of 1 completed\n",
      "[*********************100%%**********************]  1 of 1 completed\n",
      "[*********************100%%**********************]  1 of 1 completed\n",
      "c:\\Users\\GRAYBILLKB20\\OneDrive - Grove City College\\Sophomore Year\\FinanceData\\FinanceData\\FinanceDataHelper.py:102: FutureWarning: The behavior of DataFrame concatenation with empty or all-NA entries is deprecated. In a future version, this will no longer exclude empty or all-NA columns when determining the result dtypes. To retain the old behavior, exclude the relevant entries before the concat operation.\n",
      "  return new_append_df if output_df is None else pd.concat([output_df,new_append_df])\n"
     ]
    },
    {
     "name": "stdout",
     "output_type": "stream",
     "text": [
      "481\n"
     ]
    },
    {
     "name": "stderr",
     "output_type": "stream",
     "text": [
      "[*********************100%%**********************]  1 of 1 completed\n",
      "[*********************100%%**********************]  1 of 1 completed\n",
      "[*********************100%%**********************]  1 of 1 completed\n",
      "[*********************100%%**********************]  1 of 1 completed\n",
      "[*********************100%%**********************]  1 of 1 completed\n",
      "c:\\Users\\GRAYBILLKB20\\OneDrive - Grove City College\\Sophomore Year\\FinanceData\\FinanceData\\FinanceDataHelper.py:102: FutureWarning: The behavior of DataFrame concatenation with empty or all-NA entries is deprecated. In a future version, this will no longer exclude empty or all-NA columns when determining the result dtypes. To retain the old behavior, exclude the relevant entries before the concat operation.\n",
      "  return new_append_df if output_df is None else pd.concat([output_df,new_append_df])\n"
     ]
    },
    {
     "name": "stdout",
     "output_type": "stream",
     "text": [
      "482\n"
     ]
    },
    {
     "name": "stderr",
     "output_type": "stream",
     "text": [
      "[*********************100%%**********************]  1 of 1 completed\n",
      "[*********************100%%**********************]  1 of 1 completed\n",
      "[*********************100%%**********************]  1 of 1 completed\n",
      "[*********************100%%**********************]  1 of 1 completed\n",
      "[*********************100%%**********************]  1 of 1 completed\n",
      "c:\\Users\\GRAYBILLKB20\\OneDrive - Grove City College\\Sophomore Year\\FinanceData\\FinanceData\\FinanceDataHelper.py:102: FutureWarning: The behavior of DataFrame concatenation with empty or all-NA entries is deprecated. In a future version, this will no longer exclude empty or all-NA columns when determining the result dtypes. To retain the old behavior, exclude the relevant entries before the concat operation.\n",
      "  return new_append_df if output_df is None else pd.concat([output_df,new_append_df])\n"
     ]
    },
    {
     "name": "stdout",
     "output_type": "stream",
     "text": [
      "483\n"
     ]
    },
    {
     "name": "stderr",
     "output_type": "stream",
     "text": [
      "[*********************100%%**********************]  1 of 1 completed\n",
      "[*********************100%%**********************]  1 of 1 completed\n",
      "[*********************100%%**********************]  1 of 1 completed\n",
      "[*********************100%%**********************]  1 of 1 completed\n",
      "[*********************100%%**********************]  1 of 1 completed\n",
      "c:\\Users\\GRAYBILLKB20\\OneDrive - Grove City College\\Sophomore Year\\FinanceData\\FinanceData\\FinanceDataHelper.py:102: FutureWarning: The behavior of DataFrame concatenation with empty or all-NA entries is deprecated. In a future version, this will no longer exclude empty or all-NA columns when determining the result dtypes. To retain the old behavior, exclude the relevant entries before the concat operation.\n",
      "  return new_append_df if output_df is None else pd.concat([output_df,new_append_df])\n"
     ]
    },
    {
     "name": "stdout",
     "output_type": "stream",
     "text": [
      "484\n"
     ]
    },
    {
     "name": "stderr",
     "output_type": "stream",
     "text": [
      "[*********************100%%**********************]  1 of 1 completed\n",
      "[*********************100%%**********************]  1 of 1 completed\n",
      "[*********************100%%**********************]  1 of 1 completed\n",
      "[*********************100%%**********************]  1 of 1 completed\n",
      "[*********************100%%**********************]  1 of 1 completed\n",
      "c:\\Users\\GRAYBILLKB20\\OneDrive - Grove City College\\Sophomore Year\\FinanceData\\FinanceData\\FinanceDataHelper.py:102: FutureWarning: The behavior of DataFrame concatenation with empty or all-NA entries is deprecated. In a future version, this will no longer exclude empty or all-NA columns when determining the result dtypes. To retain the old behavior, exclude the relevant entries before the concat operation.\n",
      "  return new_append_df if output_df is None else pd.concat([output_df,new_append_df])\n"
     ]
    },
    {
     "name": "stdout",
     "output_type": "stream",
     "text": [
      "485\n"
     ]
    },
    {
     "name": "stderr",
     "output_type": "stream",
     "text": [
      "[*********************100%%**********************]  1 of 1 completed\n",
      "[*********************100%%**********************]  1 of 1 completed\n",
      "[*********************100%%**********************]  1 of 1 completed\n",
      "[*********************100%%**********************]  1 of 1 completed\n",
      "[*********************100%%**********************]  1 of 1 completed\n",
      "c:\\Users\\GRAYBILLKB20\\OneDrive - Grove City College\\Sophomore Year\\FinanceData\\FinanceData\\FinanceDataHelper.py:102: FutureWarning: The behavior of DataFrame concatenation with empty or all-NA entries is deprecated. In a future version, this will no longer exclude empty or all-NA columns when determining the result dtypes. To retain the old behavior, exclude the relevant entries before the concat operation.\n",
      "  return new_append_df if output_df is None else pd.concat([output_df,new_append_df])\n"
     ]
    },
    {
     "name": "stdout",
     "output_type": "stream",
     "text": [
      "Index error retrieving data for WAT stock on 2024-12-09 00:00:00: single positional indexer is out-of-bounds\n",
      "486\n"
     ]
    },
    {
     "name": "stderr",
     "output_type": "stream",
     "text": [
      "[*********************100%%**********************]  1 of 1 completed\n",
      "[*********************100%%**********************]  1 of 1 completed\n",
      "[*********************100%%**********************]  1 of 1 completed\n",
      "[*********************100%%**********************]  1 of 1 completed\n",
      "[*********************100%%**********************]  1 of 1 completed\n",
      "c:\\Users\\GRAYBILLKB20\\OneDrive - Grove City College\\Sophomore Year\\FinanceData\\FinanceData\\FinanceDataHelper.py:102: FutureWarning: The behavior of DataFrame concatenation with empty or all-NA entries is deprecated. In a future version, this will no longer exclude empty or all-NA columns when determining the result dtypes. To retain the old behavior, exclude the relevant entries before the concat operation.\n",
      "  return new_append_df if output_df is None else pd.concat([output_df,new_append_df])\n"
     ]
    },
    {
     "name": "stdout",
     "output_type": "stream",
     "text": [
      "487\n"
     ]
    },
    {
     "name": "stderr",
     "output_type": "stream",
     "text": [
      "[*********************100%%**********************]  1 of 1 completed\n",
      "[*********************100%%**********************]  1 of 1 completed\n",
      "[*********************100%%**********************]  1 of 1 completed\n",
      "[*********************100%%**********************]  1 of 1 completed\n",
      "[*********************100%%**********************]  1 of 1 completed\n",
      "c:\\Users\\GRAYBILLKB20\\OneDrive - Grove City College\\Sophomore Year\\FinanceData\\FinanceData\\FinanceDataHelper.py:102: FutureWarning: The behavior of DataFrame concatenation with empty or all-NA entries is deprecated. In a future version, this will no longer exclude empty or all-NA columns when determining the result dtypes. To retain the old behavior, exclude the relevant entries before the concat operation.\n",
      "  return new_append_df if output_df is None else pd.concat([output_df,new_append_df])\n"
     ]
    },
    {
     "name": "stdout",
     "output_type": "stream",
     "text": [
      "488\n"
     ]
    },
    {
     "name": "stderr",
     "output_type": "stream",
     "text": [
      "[*********************100%%**********************]  1 of 1 completed\n",
      "[*********************100%%**********************]  1 of 1 completed\n",
      "[*********************100%%**********************]  1 of 1 completed\n",
      "[*********************100%%**********************]  1 of 1 completed\n",
      "[*********************100%%**********************]  1 of 1 completed\n",
      "c:\\Users\\GRAYBILLKB20\\OneDrive - Grove City College\\Sophomore Year\\FinanceData\\FinanceData\\FinanceDataHelper.py:102: FutureWarning: The behavior of DataFrame concatenation with empty or all-NA entries is deprecated. In a future version, this will no longer exclude empty or all-NA columns when determining the result dtypes. To retain the old behavior, exclude the relevant entries before the concat operation.\n",
      "  return new_append_df if output_df is None else pd.concat([output_df,new_append_df])\n"
     ]
    },
    {
     "name": "stdout",
     "output_type": "stream",
     "text": [
      "489\n"
     ]
    },
    {
     "name": "stderr",
     "output_type": "stream",
     "text": [
      "[*********************100%%**********************]  1 of 1 completed\n",
      "[*********************100%%**********************]  1 of 1 completed\n",
      "[*********************100%%**********************]  1 of 1 completed\n",
      "[*********************100%%**********************]  1 of 1 completed\n",
      "[*********************100%%**********************]  1 of 1 completed\n",
      "c:\\Users\\GRAYBILLKB20\\OneDrive - Grove City College\\Sophomore Year\\FinanceData\\FinanceData\\FinanceDataHelper.py:102: FutureWarning: The behavior of DataFrame concatenation with empty or all-NA entries is deprecated. In a future version, this will no longer exclude empty or all-NA columns when determining the result dtypes. To retain the old behavior, exclude the relevant entries before the concat operation.\n",
      "  return new_append_df if output_df is None else pd.concat([output_df,new_append_df])\n"
     ]
    },
    {
     "name": "stdout",
     "output_type": "stream",
     "text": [
      "Index error retrieving data for WST stock on 2024-12-10 00:00:00: single positional indexer is out-of-bounds\n",
      "Index error retrieving data for WST stock on 2024-12-09 00:00:00: single positional indexer is out-of-bounds\n",
      "490\n"
     ]
    },
    {
     "name": "stderr",
     "output_type": "stream",
     "text": [
      "[*********************100%%**********************]  1 of 1 completed\n",
      "[*********************100%%**********************]  1 of 1 completed\n",
      "[*********************100%%**********************]  1 of 1 completed\n",
      "[*********************100%%**********************]  1 of 1 completed\n",
      "[*********************100%%**********************]  1 of 1 completed\n",
      "c:\\Users\\GRAYBILLKB20\\OneDrive - Grove City College\\Sophomore Year\\FinanceData\\FinanceData\\FinanceDataHelper.py:102: FutureWarning: The behavior of DataFrame concatenation with empty or all-NA entries is deprecated. In a future version, this will no longer exclude empty or all-NA columns when determining the result dtypes. To retain the old behavior, exclude the relevant entries before the concat operation.\n",
      "  return new_append_df if output_df is None else pd.concat([output_df,new_append_df])\n"
     ]
    },
    {
     "name": "stdout",
     "output_type": "stream",
     "text": [
      "491\n"
     ]
    },
    {
     "name": "stderr",
     "output_type": "stream",
     "text": [
      "[*********************100%%**********************]  1 of 1 completed\n",
      "[*********************100%%**********************]  1 of 1 completed\n",
      "[*********************100%%**********************]  1 of 1 completed\n",
      "[*********************100%%**********************]  1 of 1 completed\n",
      "[*********************100%%**********************]  1 of 1 completed\n",
      "c:\\Users\\GRAYBILLKB20\\OneDrive - Grove City College\\Sophomore Year\\FinanceData\\FinanceData\\FinanceDataHelper.py:102: FutureWarning: The behavior of DataFrame concatenation with empty or all-NA entries is deprecated. In a future version, this will no longer exclude empty or all-NA columns when determining the result dtypes. To retain the old behavior, exclude the relevant entries before the concat operation.\n",
      "  return new_append_df if output_df is None else pd.concat([output_df,new_append_df])\n"
     ]
    },
    {
     "name": "stdout",
     "output_type": "stream",
     "text": [
      "492\n"
     ]
    },
    {
     "name": "stderr",
     "output_type": "stream",
     "text": [
      "[*********************100%%**********************]  1 of 1 completed\n",
      "[*********************100%%**********************]  1 of 1 completed\n",
      "[*********************100%%**********************]  1 of 1 completed\n",
      "[*********************100%%**********************]  1 of 1 completed\n",
      "[*********************100%%**********************]  1 of 1 completed\n",
      "c:\\Users\\GRAYBILLKB20\\OneDrive - Grove City College\\Sophomore Year\\FinanceData\\FinanceData\\FinanceDataHelper.py:102: FutureWarning: The behavior of DataFrame concatenation with empty or all-NA entries is deprecated. In a future version, this will no longer exclude empty or all-NA columns when determining the result dtypes. To retain the old behavior, exclude the relevant entries before the concat operation.\n",
      "  return new_append_df if output_df is None else pd.concat([output_df,new_append_df])\n"
     ]
    },
    {
     "name": "stdout",
     "output_type": "stream",
     "text": [
      "493\n"
     ]
    },
    {
     "name": "stderr",
     "output_type": "stream",
     "text": [
      "[*********************100%%**********************]  1 of 1 completed\n",
      "[*********************100%%**********************]  1 of 1 completed\n",
      "[*********************100%%**********************]  1 of 1 completed\n",
      "[*********************100%%**********************]  1 of 1 completed\n",
      "[*********************100%%**********************]  1 of 1 completed\n",
      "c:\\Users\\GRAYBILLKB20\\OneDrive - Grove City College\\Sophomore Year\\FinanceData\\FinanceData\\FinanceDataHelper.py:102: FutureWarning: The behavior of DataFrame concatenation with empty or all-NA entries is deprecated. In a future version, this will no longer exclude empty or all-NA columns when determining the result dtypes. To retain the old behavior, exclude the relevant entries before the concat operation.\n",
      "  return new_append_df if output_df is None else pd.concat([output_df,new_append_df])\n"
     ]
    },
    {
     "name": "stdout",
     "output_type": "stream",
     "text": [
      "Index error retrieving data for WTW stock on 2024-12-09 00:00:00: single positional indexer is out-of-bounds\n",
      "494\n"
     ]
    },
    {
     "name": "stderr",
     "output_type": "stream",
     "text": [
      "[*********************100%%**********************]  1 of 1 completed\n",
      "[*********************100%%**********************]  1 of 1 completed\n",
      "[*********************100%%**********************]  1 of 1 completed\n",
      "[*********************100%%**********************]  1 of 1 completed\n",
      "[*********************100%%**********************]  1 of 1 completed\n",
      "c:\\Users\\GRAYBILLKB20\\OneDrive - Grove City College\\Sophomore Year\\FinanceData\\FinanceData\\FinanceDataHelper.py:102: FutureWarning: The behavior of DataFrame concatenation with empty or all-NA entries is deprecated. In a future version, this will no longer exclude empty or all-NA columns when determining the result dtypes. To retain the old behavior, exclude the relevant entries before the concat operation.\n",
      "  return new_append_df if output_df is None else pd.concat([output_df,new_append_df])\n"
     ]
    },
    {
     "name": "stdout",
     "output_type": "stream",
     "text": [
      "495\n"
     ]
    },
    {
     "name": "stderr",
     "output_type": "stream",
     "text": [
      "[*********************100%%**********************]  1 of 1 completed\n",
      "[*********************100%%**********************]  1 of 1 completed\n",
      "[*********************100%%**********************]  1 of 1 completed\n",
      "[*********************100%%**********************]  1 of 1 completed\n",
      "[*********************100%%**********************]  1 of 1 completed\n",
      "c:\\Users\\GRAYBILLKB20\\OneDrive - Grove City College\\Sophomore Year\\FinanceData\\FinanceData\\FinanceDataHelper.py:102: FutureWarning: The behavior of DataFrame concatenation with empty or all-NA entries is deprecated. In a future version, this will no longer exclude empty or all-NA columns when determining the result dtypes. To retain the old behavior, exclude the relevant entries before the concat operation.\n",
      "  return new_append_df if output_df is None else pd.concat([output_df,new_append_df])\n"
     ]
    },
    {
     "name": "stdout",
     "output_type": "stream",
     "text": [
      "496\n"
     ]
    },
    {
     "name": "stderr",
     "output_type": "stream",
     "text": [
      "[*********************100%%**********************]  1 of 1 completed\n",
      "[*********************100%%**********************]  1 of 1 completed\n",
      "[*********************100%%**********************]  1 of 1 completed\n",
      "[*********************100%%**********************]  1 of 1 completed\n",
      "[*********************100%%**********************]  1 of 1 completed\n",
      "c:\\Users\\GRAYBILLKB20\\OneDrive - Grove City College\\Sophomore Year\\FinanceData\\FinanceData\\FinanceDataHelper.py:102: FutureWarning: The behavior of DataFrame concatenation with empty or all-NA entries is deprecated. In a future version, this will no longer exclude empty or all-NA columns when determining the result dtypes. To retain the old behavior, exclude the relevant entries before the concat operation.\n",
      "  return new_append_df if output_df is None else pd.concat([output_df,new_append_df])\n"
     ]
    },
    {
     "name": "stdout",
     "output_type": "stream",
     "text": [
      "497\n"
     ]
    },
    {
     "name": "stderr",
     "output_type": "stream",
     "text": [
      "[*********************100%%**********************]  1 of 1 completed\n",
      "[*********************100%%**********************]  1 of 1 completed\n",
      "[*********************100%%**********************]  1 of 1 completed\n",
      "[*********************100%%**********************]  1 of 1 completed\n",
      "[*********************100%%**********************]  1 of 1 completed\n",
      "c:\\Users\\GRAYBILLKB20\\OneDrive - Grove City College\\Sophomore Year\\FinanceData\\FinanceData\\FinanceDataHelper.py:102: FutureWarning: The behavior of DataFrame concatenation with empty or all-NA entries is deprecated. In a future version, this will no longer exclude empty or all-NA columns when determining the result dtypes. To retain the old behavior, exclude the relevant entries before the concat operation.\n",
      "  return new_append_df if output_df is None else pd.concat([output_df,new_append_df])\n"
     ]
    },
    {
     "name": "stdout",
     "output_type": "stream",
     "text": [
      "498\n"
     ]
    },
    {
     "name": "stderr",
     "output_type": "stream",
     "text": [
      "[*********************100%%**********************]  1 of 1 completed\n",
      "[*********************100%%**********************]  1 of 1 completed\n",
      "[*********************100%%**********************]  1 of 1 completed\n",
      "[*********************100%%**********************]  1 of 1 completed\n",
      "[*********************100%%**********************]  1 of 1 completed\n",
      "c:\\Users\\GRAYBILLKB20\\OneDrive - Grove City College\\Sophomore Year\\FinanceData\\FinanceData\\FinanceDataHelper.py:102: FutureWarning: The behavior of DataFrame concatenation with empty or all-NA entries is deprecated. In a future version, this will no longer exclude empty or all-NA columns when determining the result dtypes. To retain the old behavior, exclude the relevant entries before the concat operation.\n",
      "  return new_append_df if output_df is None else pd.concat([output_df,new_append_df])\n"
     ]
    },
    {
     "name": "stdout",
     "output_type": "stream",
     "text": [
      "499\n"
     ]
    },
    {
     "name": "stderr",
     "output_type": "stream",
     "text": [
      "[*********************100%%**********************]  1 of 1 completed\n",
      "[*********************100%%**********************]  1 of 1 completed\n",
      "[*********************100%%**********************]  1 of 1 completed\n",
      "[*********************100%%**********************]  1 of 1 completed\n",
      "[*********************100%%**********************]  1 of 1 completed\n",
      "c:\\Users\\GRAYBILLKB20\\OneDrive - Grove City College\\Sophomore Year\\FinanceData\\FinanceData\\FinanceDataHelper.py:102: FutureWarning: The behavior of DataFrame concatenation with empty or all-NA entries is deprecated. In a future version, this will no longer exclude empty or all-NA columns when determining the result dtypes. To retain the old behavior, exclude the relevant entries before the concat operation.\n",
      "  return new_append_df if output_df is None else pd.concat([output_df,new_append_df])\n"
     ]
    },
    {
     "name": "stdout",
     "output_type": "stream",
     "text": [
      "Index error retrieving data for ZBRA stock on 2024-12-10 00:00:00: single positional indexer is out-of-bounds\n",
      "Index error retrieving data for ZBRA stock on 2024-12-09 00:00:00: single positional indexer is out-of-bounds\n",
      "500\n"
     ]
    },
    {
     "name": "stderr",
     "output_type": "stream",
     "text": [
      "[*********************100%%**********************]  1 of 1 completed\n",
      "[*********************100%%**********************]  1 of 1 completed\n",
      "[*********************100%%**********************]  1 of 1 completed\n",
      "[*********************100%%**********************]  1 of 1 completed\n",
      "[*********************100%%**********************]  1 of 1 completed\n",
      "c:\\Users\\GRAYBILLKB20\\OneDrive - Grove City College\\Sophomore Year\\FinanceData\\FinanceData\\FinanceDataHelper.py:102: FutureWarning: The behavior of DataFrame concatenation with empty or all-NA entries is deprecated. In a future version, this will no longer exclude empty or all-NA columns when determining the result dtypes. To retain the old behavior, exclude the relevant entries before the concat operation.\n",
      "  return new_append_df if output_df is None else pd.concat([output_df,new_append_df])\n"
     ]
    },
    {
     "name": "stdout",
     "output_type": "stream",
     "text": [
      "501\n"
     ]
    },
    {
     "name": "stderr",
     "output_type": "stream",
     "text": [
      "[*********************100%%**********************]  1 of 1 completed\n",
      "[*********************100%%**********************]  1 of 1 completed\n",
      "[*********************100%%**********************]  1 of 1 completed\n",
      "[*********************100%%**********************]  1 of 1 completed\n",
      "[*********************100%%**********************]  1 of 1 completed\n",
      "c:\\Users\\GRAYBILLKB20\\OneDrive - Grove City College\\Sophomore Year\\FinanceData\\FinanceData\\FinanceDataHelper.py:102: FutureWarning: The behavior of DataFrame concatenation with empty or all-NA entries is deprecated. In a future version, this will no longer exclude empty or all-NA columns when determining the result dtypes. To retain the old behavior, exclude the relevant entries before the concat operation.\n",
      "  return new_append_df if output_df is None else pd.concat([output_df,new_append_df])\n"
     ]
    },
    {
     "name": "stdout",
     "output_type": "stream",
     "text": [
      "502\n"
     ]
    },
    {
     "name": "stderr",
     "output_type": "stream",
     "text": [
      "[*********************100%%**********************]  1 of 1 completed\n",
      "[*********************100%%**********************]  1 of 1 completed\n",
      "[*********************100%%**********************]  1 of 1 completed\n",
      "[*********************100%%**********************]  1 of 1 completed\n",
      "[*********************100%%**********************]  1 of 1 completed\n",
      "c:\\Users\\GRAYBILLKB20\\OneDrive - Grove City College\\Sophomore Year\\FinanceData\\FinanceData\\FinanceDataHelper.py:102: FutureWarning: The behavior of DataFrame concatenation with empty or all-NA entries is deprecated. In a future version, this will no longer exclude empty or all-NA columns when determining the result dtypes. To retain the old behavior, exclude the relevant entries before the concat operation.\n",
      "  return new_append_df if output_df is None else pd.concat([output_df,new_append_df])\n"
     ]
    },
    {
     "name": "stdout",
     "output_type": "stream",
     "text": [
      "503\n"
     ]
    },
    {
     "data": {
      "text/html": [
       "<div>\n",
       "<style scoped>\n",
       "    .dataframe tbody tr th:only-of-type {\n",
       "        vertical-align: middle;\n",
       "    }\n",
       "\n",
       "    .dataframe tbody tr th {\n",
       "        vertical-align: top;\n",
       "    }\n",
       "\n",
       "    .dataframe thead th {\n",
       "        text-align: right;\n",
       "    }\n",
       "</style>\n",
       "<table border=\"1\" class=\"dataframe\">\n",
       "  <thead>\n",
       "    <tr style=\"text-align: right;\">\n",
       "      <th></th>\n",
       "      <th></th>\n",
       "      <th>RateOfChange</th>\n",
       "      <th>1DayChangePercent</th>\n",
       "      <th>2DaysAgoChangePercent</th>\n",
       "      <th>3DaysAgoChangePercent</th>\n",
       "      <th>4DaysAgoChangePercent</th>\n",
       "      <th>5DaysAgoChangePercent</th>\n",
       "      <th>6DaysAgoChangePercent</th>\n",
       "      <th>7DaysAgoChangePercent</th>\n",
       "      <th>8DaysAgoChangePercent</th>\n",
       "      <th>9DaysAgoChangePercent</th>\n",
       "      <th>...</th>\n",
       "      <th>12DaysAgoChangePercent</th>\n",
       "      <th>13DaysAgoChangePercent</th>\n",
       "      <th>14DaysAgoChangePercent</th>\n",
       "      <th>1MinChangePercent</th>\n",
       "      <th>5MinChangePercent</th>\n",
       "      <th>30MinChangePercent</th>\n",
       "      <th>1HourChangePercent</th>\n",
       "      <th>5HourChangePercent</th>\n",
       "      <th>10HourChangePercent</th>\n",
       "      <th>NextDayChangePercent</th>\n",
       "    </tr>\n",
       "    <tr>\n",
       "      <th>Symbol</th>\n",
       "      <th>Date</th>\n",
       "      <th></th>\n",
       "      <th></th>\n",
       "      <th></th>\n",
       "      <th></th>\n",
       "      <th></th>\n",
       "      <th></th>\n",
       "      <th></th>\n",
       "      <th></th>\n",
       "      <th></th>\n",
       "      <th></th>\n",
       "      <th></th>\n",
       "      <th></th>\n",
       "      <th></th>\n",
       "      <th></th>\n",
       "      <th></th>\n",
       "      <th></th>\n",
       "      <th></th>\n",
       "      <th></th>\n",
       "      <th></th>\n",
       "      <th></th>\n",
       "      <th></th>\n",
       "    </tr>\n",
       "  </thead>\n",
       "  <tbody>\n",
       "    <tr>\n",
       "      <th rowspan=\"5\" valign=\"top\">MMM</th>\n",
       "      <th>2025-01-03</th>\n",
       "      <td>1.021553</td>\n",
       "      <td>0.001311</td>\n",
       "      <td>0.004725</td>\n",
       "      <td>-0.000310</td>\n",
       "      <td>-0.008066</td>\n",
       "      <td>-0.007623</td>\n",
       "      <td>0.006290</td>\n",
       "      <td>0.010699</td>\n",
       "      <td>-0.002321</td>\n",
       "      <td>0.016912</td>\n",
       "      <td>...</td>\n",
       "      <td>-0.010968</td>\n",
       "      <td>-0.003464</td>\n",
       "      <td>0.001310</td>\n",
       "      <td>-0.000385</td>\n",
       "      <td>-0.000808</td>\n",
       "      <td>-0.000831</td>\n",
       "      <td>-0.001922</td>\n",
       "      <td>-0.004905</td>\n",
       "      <td>-0.005667</td>\n",
       "      <td>NaN</td>\n",
       "    </tr>\n",
       "    <tr>\n",
       "      <th>2025-01-02</th>\n",
       "      <td>1.033219</td>\n",
       "      <td>0.004725</td>\n",
       "      <td>-0.000310</td>\n",
       "      <td>-0.008066</td>\n",
       "      <td>-0.007623</td>\n",
       "      <td>0.006290</td>\n",
       "      <td>0.010699</td>\n",
       "      <td>-0.002321</td>\n",
       "      <td>0.016912</td>\n",
       "      <td>0.012746</td>\n",
       "      <td>...</td>\n",
       "      <td>-0.003464</td>\n",
       "      <td>0.001310</td>\n",
       "      <td>-0.000154</td>\n",
       "      <td>0.001931</td>\n",
       "      <td>0.000540</td>\n",
       "      <td>-0.000539</td>\n",
       "      <td>-0.000385</td>\n",
       "      <td>-0.001155</td>\n",
       "      <td>0.003636</td>\n",
       "      <td>0.001311</td>\n",
       "    </tr>\n",
       "    <tr>\n",
       "      <th>2024-12-31</th>\n",
       "      <td>1.008122</td>\n",
       "      <td>-0.000310</td>\n",
       "      <td>-0.008066</td>\n",
       "      <td>-0.007623</td>\n",
       "      <td>0.006290</td>\n",
       "      <td>0.010699</td>\n",
       "      <td>-0.002321</td>\n",
       "      <td>0.016912</td>\n",
       "      <td>0.012746</td>\n",
       "      <td>-0.019680</td>\n",
       "      <td>...</td>\n",
       "      <td>0.001310</td>\n",
       "      <td>-0.000154</td>\n",
       "      <td>0.000000</td>\n",
       "      <td>0.000930</td>\n",
       "      <td>-0.000542</td>\n",
       "      <td>-0.001238</td>\n",
       "      <td>-0.000310</td>\n",
       "      <td>-0.004319</td>\n",
       "      <td>-0.000465</td>\n",
       "      <td>0.004725</td>\n",
       "    </tr>\n",
       "    <tr>\n",
       "      <th>2024-12-30</th>\n",
       "      <td>0.997374</td>\n",
       "      <td>-0.008066</td>\n",
       "      <td>-0.007623</td>\n",
       "      <td>0.006290</td>\n",
       "      <td>0.010699</td>\n",
       "      <td>-0.002321</td>\n",
       "      <td>0.016912</td>\n",
       "      <td>0.012746</td>\n",
       "      <td>-0.019680</td>\n",
       "      <td>-0.010968</td>\n",
       "      <td>...</td>\n",
       "      <td>-0.000154</td>\n",
       "      <td>0.000000</td>\n",
       "      <td>-0.013081</td>\n",
       "      <td>-0.001326</td>\n",
       "      <td>-0.002741</td>\n",
       "      <td>-0.003251</td>\n",
       "      <td>-0.004970</td>\n",
       "      <td>0.003497</td>\n",
       "      <td>-0.002780</td>\n",
       "      <td>-0.000310</td>\n",
       "    </tr>\n",
       "    <tr>\n",
       "      <th>2024-12-27</th>\n",
       "      <td>1.002001</td>\n",
       "      <td>-0.007623</td>\n",
       "      <td>0.006290</td>\n",
       "      <td>0.010699</td>\n",
       "      <td>-0.002321</td>\n",
       "      <td>0.016912</td>\n",
       "      <td>0.012746</td>\n",
       "      <td>-0.019680</td>\n",
       "      <td>-0.010968</td>\n",
       "      <td>-0.003464</td>\n",
       "      <td>...</td>\n",
       "      <td>0.000000</td>\n",
       "      <td>-0.013081</td>\n",
       "      <td>-0.012170</td>\n",
       "      <td>0.001346</td>\n",
       "      <td>0.000461</td>\n",
       "      <td>0.002696</td>\n",
       "      <td>-0.001496</td>\n",
       "      <td>-0.001993</td>\n",
       "      <td>-0.005044</td>\n",
       "      <td>-0.008066</td>\n",
       "    </tr>\n",
       "  </tbody>\n",
       "</table>\n",
       "<p>5 rows × 22 columns</p>\n",
       "</div>"
      ],
      "text/plain": [
       "                   RateOfChange  1DayChangePercent  2DaysAgoChangePercent  \\\n",
       "Symbol Date                                                                 \n",
       "MMM    2025-01-03      1.021553           0.001311               0.004725   \n",
       "       2025-01-02      1.033219           0.004725              -0.000310   \n",
       "       2024-12-31      1.008122          -0.000310              -0.008066   \n",
       "       2024-12-30      0.997374          -0.008066              -0.007623   \n",
       "       2024-12-27      1.002001          -0.007623               0.006290   \n",
       "\n",
       "                   3DaysAgoChangePercent  4DaysAgoChangePercent  \\\n",
       "Symbol Date                                                       \n",
       "MMM    2025-01-03              -0.000310              -0.008066   \n",
       "       2025-01-02              -0.008066              -0.007623   \n",
       "       2024-12-31              -0.007623               0.006290   \n",
       "       2024-12-30               0.006290               0.010699   \n",
       "       2024-12-27               0.010699              -0.002321   \n",
       "\n",
       "                   5DaysAgoChangePercent  6DaysAgoChangePercent  \\\n",
       "Symbol Date                                                       \n",
       "MMM    2025-01-03              -0.007623               0.006290   \n",
       "       2025-01-02               0.006290               0.010699   \n",
       "       2024-12-31               0.010699              -0.002321   \n",
       "       2024-12-30              -0.002321               0.016912   \n",
       "       2024-12-27               0.016912               0.012746   \n",
       "\n",
       "                   7DaysAgoChangePercent  8DaysAgoChangePercent  \\\n",
       "Symbol Date                                                       \n",
       "MMM    2025-01-03               0.010699              -0.002321   \n",
       "       2025-01-02              -0.002321               0.016912   \n",
       "       2024-12-31               0.016912               0.012746   \n",
       "       2024-12-30               0.012746              -0.019680   \n",
       "       2024-12-27              -0.019680              -0.010968   \n",
       "\n",
       "                   9DaysAgoChangePercent  ...  12DaysAgoChangePercent  \\\n",
       "Symbol Date                               ...                           \n",
       "MMM    2025-01-03               0.016912  ...               -0.010968   \n",
       "       2025-01-02               0.012746  ...               -0.003464   \n",
       "       2024-12-31              -0.019680  ...                0.001310   \n",
       "       2024-12-30              -0.010968  ...               -0.000154   \n",
       "       2024-12-27              -0.003464  ...                0.000000   \n",
       "\n",
       "                   13DaysAgoChangePercent  14DaysAgoChangePercent  \\\n",
       "Symbol Date                                                         \n",
       "MMM    2025-01-03               -0.003464                0.001310   \n",
       "       2025-01-02                0.001310               -0.000154   \n",
       "       2024-12-31               -0.000154                0.000000   \n",
       "       2024-12-30                0.000000               -0.013081   \n",
       "       2024-12-27               -0.013081               -0.012170   \n",
       "\n",
       "                   1MinChangePercent  5MinChangePercent  30MinChangePercent  \\\n",
       "Symbol Date                                                                   \n",
       "MMM    2025-01-03          -0.000385          -0.000808           -0.000831   \n",
       "       2025-01-02           0.001931           0.000540           -0.000539   \n",
       "       2024-12-31           0.000930          -0.000542           -0.001238   \n",
       "       2024-12-30          -0.001326          -0.002741           -0.003251   \n",
       "       2024-12-27           0.001346           0.000461            0.002696   \n",
       "\n",
       "                   1HourChangePercent  5HourChangePercent  \\\n",
       "Symbol Date                                                 \n",
       "MMM    2025-01-03           -0.001922           -0.004905   \n",
       "       2025-01-02           -0.000385           -0.001155   \n",
       "       2024-12-31           -0.000310           -0.004319   \n",
       "       2024-12-30           -0.004970            0.003497   \n",
       "       2024-12-27           -0.001496           -0.001993   \n",
       "\n",
       "                   10HourChangePercent  NextDayChangePercent  \n",
       "Symbol Date                                                   \n",
       "MMM    2025-01-03            -0.005667                   NaN  \n",
       "       2025-01-02             0.003636              0.001311  \n",
       "       2024-12-31            -0.000465              0.004725  \n",
       "       2024-12-30            -0.002780             -0.000310  \n",
       "       2024-12-27            -0.005044             -0.008066  \n",
       "\n",
       "[5 rows x 22 columns]"
      ]
     },
     "metadata": {},
     "output_type": "display_data"
    }
   ],
   "source": [
    "# Get the data either from a .csv file or load it all from Yahoo Finance\n",
    "df = pd.DataFrame()\n",
    "if get_from_csv and path is not None:\n",
    "    df = FinanceData.get_data_from_csv(path)\n",
    "elif not get_from_csv:\n",
    "    save_to_csv = True if path is not None else False\n",
    "    df = FinanceData.get_data(save_to_csv=save_to_csv, file_path_name=path,most_recent_day=True)\n",
    "else:\n",
    "    raise ValueError(\"Invalid path and get_from_csv variables\")\n",
    "\n",
    "# Display some of the data\n",
    "display(df.head(5))\n",
    "\n",
    "# Seperate the data to be predicted from the data to build the model from\n",
    "is_prediction = df['NextDayChangePercent'].isna()\n",
    "prediction_data = df[is_prediction]\n",
    "model_data = df[~is_prediction]\n",
    "\n",
    "# Seperate features and labels\n",
    "features = model_data[model_data.columns.difference(['NextDayChangePercent'])]\n",
    "labels = model_data['NextDayChangePercent']\n",
    "\n",
    "# Seperate training and testing data\n",
    "train_data, test_data, train_labels, test_labels = sklearn.model_selection.train_test_split(features, labels, test_size=0.3, random_state=0)"
   ]
  },
  {
   "cell_type": "markdown",
   "metadata": {},
   "source": [
    "Create LDA Model"
   ]
  },
  {
   "cell_type": "code",
   "execution_count": 4,
   "metadata": {},
   "outputs": [
    {
     "data": {
      "text/html": [
       "<style>#sk-container-id-1 {\n",
       "  /* Definition of color scheme common for light and dark mode */\n",
       "  --sklearn-color-text: black;\n",
       "  --sklearn-color-line: gray;\n",
       "  /* Definition of color scheme for unfitted estimators */\n",
       "  --sklearn-color-unfitted-level-0: #fff5e6;\n",
       "  --sklearn-color-unfitted-level-1: #f6e4d2;\n",
       "  --sklearn-color-unfitted-level-2: #ffe0b3;\n",
       "  --sklearn-color-unfitted-level-3: chocolate;\n",
       "  /* Definition of color scheme for fitted estimators */\n",
       "  --sklearn-color-fitted-level-0: #f0f8ff;\n",
       "  --sklearn-color-fitted-level-1: #d4ebff;\n",
       "  --sklearn-color-fitted-level-2: #b3dbfd;\n",
       "  --sklearn-color-fitted-level-3: cornflowerblue;\n",
       "\n",
       "  /* Specific color for light theme */\n",
       "  --sklearn-color-text-on-default-background: var(--sg-text-color, var(--theme-code-foreground, var(--jp-content-font-color1, black)));\n",
       "  --sklearn-color-background: var(--sg-background-color, var(--theme-background, var(--jp-layout-color0, white)));\n",
       "  --sklearn-color-border-box: var(--sg-text-color, var(--theme-code-foreground, var(--jp-content-font-color1, black)));\n",
       "  --sklearn-color-icon: #696969;\n",
       "\n",
       "  @media (prefers-color-scheme: dark) {\n",
       "    /* Redefinition of color scheme for dark theme */\n",
       "    --sklearn-color-text-on-default-background: var(--sg-text-color, var(--theme-code-foreground, var(--jp-content-font-color1, white)));\n",
       "    --sklearn-color-background: var(--sg-background-color, var(--theme-background, var(--jp-layout-color0, #111)));\n",
       "    --sklearn-color-border-box: var(--sg-text-color, var(--theme-code-foreground, var(--jp-content-font-color1, white)));\n",
       "    --sklearn-color-icon: #878787;\n",
       "  }\n",
       "}\n",
       "\n",
       "#sk-container-id-1 {\n",
       "  color: var(--sklearn-color-text);\n",
       "}\n",
       "\n",
       "#sk-container-id-1 pre {\n",
       "  padding: 0;\n",
       "}\n",
       "\n",
       "#sk-container-id-1 input.sk-hidden--visually {\n",
       "  border: 0;\n",
       "  clip: rect(1px 1px 1px 1px);\n",
       "  clip: rect(1px, 1px, 1px, 1px);\n",
       "  height: 1px;\n",
       "  margin: -1px;\n",
       "  overflow: hidden;\n",
       "  padding: 0;\n",
       "  position: absolute;\n",
       "  width: 1px;\n",
       "}\n",
       "\n",
       "#sk-container-id-1 div.sk-dashed-wrapped {\n",
       "  border: 1px dashed var(--sklearn-color-line);\n",
       "  margin: 0 0.4em 0.5em 0.4em;\n",
       "  box-sizing: border-box;\n",
       "  padding-bottom: 0.4em;\n",
       "  background-color: var(--sklearn-color-background);\n",
       "}\n",
       "\n",
       "#sk-container-id-1 div.sk-container {\n",
       "  /* jupyter's `normalize.less` sets `[hidden] { display: none; }`\n",
       "     but bootstrap.min.css set `[hidden] { display: none !important; }`\n",
       "     so we also need the `!important` here to be able to override the\n",
       "     default hidden behavior on the sphinx rendered scikit-learn.org.\n",
       "     See: https://github.com/scikit-learn/scikit-learn/issues/21755 */\n",
       "  display: inline-block !important;\n",
       "  position: relative;\n",
       "}\n",
       "\n",
       "#sk-container-id-1 div.sk-text-repr-fallback {\n",
       "  display: none;\n",
       "}\n",
       "\n",
       "div.sk-parallel-item,\n",
       "div.sk-serial,\n",
       "div.sk-item {\n",
       "  /* draw centered vertical line to link estimators */\n",
       "  background-image: linear-gradient(var(--sklearn-color-text-on-default-background), var(--sklearn-color-text-on-default-background));\n",
       "  background-size: 2px 100%;\n",
       "  background-repeat: no-repeat;\n",
       "  background-position: center center;\n",
       "}\n",
       "\n",
       "/* Parallel-specific style estimator block */\n",
       "\n",
       "#sk-container-id-1 div.sk-parallel-item::after {\n",
       "  content: \"\";\n",
       "  width: 100%;\n",
       "  border-bottom: 2px solid var(--sklearn-color-text-on-default-background);\n",
       "  flex-grow: 1;\n",
       "}\n",
       "\n",
       "#sk-container-id-1 div.sk-parallel {\n",
       "  display: flex;\n",
       "  align-items: stretch;\n",
       "  justify-content: center;\n",
       "  background-color: var(--sklearn-color-background);\n",
       "  position: relative;\n",
       "}\n",
       "\n",
       "#sk-container-id-1 div.sk-parallel-item {\n",
       "  display: flex;\n",
       "  flex-direction: column;\n",
       "}\n",
       "\n",
       "#sk-container-id-1 div.sk-parallel-item:first-child::after {\n",
       "  align-self: flex-end;\n",
       "  width: 50%;\n",
       "}\n",
       "\n",
       "#sk-container-id-1 div.sk-parallel-item:last-child::after {\n",
       "  align-self: flex-start;\n",
       "  width: 50%;\n",
       "}\n",
       "\n",
       "#sk-container-id-1 div.sk-parallel-item:only-child::after {\n",
       "  width: 0;\n",
       "}\n",
       "\n",
       "/* Serial-specific style estimator block */\n",
       "\n",
       "#sk-container-id-1 div.sk-serial {\n",
       "  display: flex;\n",
       "  flex-direction: column;\n",
       "  align-items: center;\n",
       "  background-color: var(--sklearn-color-background);\n",
       "  padding-right: 1em;\n",
       "  padding-left: 1em;\n",
       "}\n",
       "\n",
       "\n",
       "/* Toggleable style: style used for estimator/Pipeline/ColumnTransformer box that is\n",
       "clickable and can be expanded/collapsed.\n",
       "- Pipeline and ColumnTransformer use this feature and define the default style\n",
       "- Estimators will overwrite some part of the style using the `sk-estimator` class\n",
       "*/\n",
       "\n",
       "/* Pipeline and ColumnTransformer style (default) */\n",
       "\n",
       "#sk-container-id-1 div.sk-toggleable {\n",
       "  /* Default theme specific background. It is overwritten whether we have a\n",
       "  specific estimator or a Pipeline/ColumnTransformer */\n",
       "  background-color: var(--sklearn-color-background);\n",
       "}\n",
       "\n",
       "/* Toggleable label */\n",
       "#sk-container-id-1 label.sk-toggleable__label {\n",
       "  cursor: pointer;\n",
       "  display: block;\n",
       "  width: 100%;\n",
       "  margin-bottom: 0;\n",
       "  padding: 0.5em;\n",
       "  box-sizing: border-box;\n",
       "  text-align: center;\n",
       "}\n",
       "\n",
       "#sk-container-id-1 label.sk-toggleable__label-arrow:before {\n",
       "  /* Arrow on the left of the label */\n",
       "  content: \"▸\";\n",
       "  float: left;\n",
       "  margin-right: 0.25em;\n",
       "  color: var(--sklearn-color-icon);\n",
       "}\n",
       "\n",
       "#sk-container-id-1 label.sk-toggleable__label-arrow:hover:before {\n",
       "  color: var(--sklearn-color-text);\n",
       "}\n",
       "\n",
       "/* Toggleable content - dropdown */\n",
       "\n",
       "#sk-container-id-1 div.sk-toggleable__content {\n",
       "  max-height: 0;\n",
       "  max-width: 0;\n",
       "  overflow: hidden;\n",
       "  text-align: left;\n",
       "  /* unfitted */\n",
       "  background-color: var(--sklearn-color-unfitted-level-0);\n",
       "}\n",
       "\n",
       "#sk-container-id-1 div.sk-toggleable__content.fitted {\n",
       "  /* fitted */\n",
       "  background-color: var(--sklearn-color-fitted-level-0);\n",
       "}\n",
       "\n",
       "#sk-container-id-1 div.sk-toggleable__content pre {\n",
       "  margin: 0.2em;\n",
       "  border-radius: 0.25em;\n",
       "  color: var(--sklearn-color-text);\n",
       "  /* unfitted */\n",
       "  background-color: var(--sklearn-color-unfitted-level-0);\n",
       "}\n",
       "\n",
       "#sk-container-id-1 div.sk-toggleable__content.fitted pre {\n",
       "  /* unfitted */\n",
       "  background-color: var(--sklearn-color-fitted-level-0);\n",
       "}\n",
       "\n",
       "#sk-container-id-1 input.sk-toggleable__control:checked~div.sk-toggleable__content {\n",
       "  /* Expand drop-down */\n",
       "  max-height: 200px;\n",
       "  max-width: 100%;\n",
       "  overflow: auto;\n",
       "}\n",
       "\n",
       "#sk-container-id-1 input.sk-toggleable__control:checked~label.sk-toggleable__label-arrow:before {\n",
       "  content: \"▾\";\n",
       "}\n",
       "\n",
       "/* Pipeline/ColumnTransformer-specific style */\n",
       "\n",
       "#sk-container-id-1 div.sk-label input.sk-toggleable__control:checked~label.sk-toggleable__label {\n",
       "  color: var(--sklearn-color-text);\n",
       "  background-color: var(--sklearn-color-unfitted-level-2);\n",
       "}\n",
       "\n",
       "#sk-container-id-1 div.sk-label.fitted input.sk-toggleable__control:checked~label.sk-toggleable__label {\n",
       "  background-color: var(--sklearn-color-fitted-level-2);\n",
       "}\n",
       "\n",
       "/* Estimator-specific style */\n",
       "\n",
       "/* Colorize estimator box */\n",
       "#sk-container-id-1 div.sk-estimator input.sk-toggleable__control:checked~label.sk-toggleable__label {\n",
       "  /* unfitted */\n",
       "  background-color: var(--sklearn-color-unfitted-level-2);\n",
       "}\n",
       "\n",
       "#sk-container-id-1 div.sk-estimator.fitted input.sk-toggleable__control:checked~label.sk-toggleable__label {\n",
       "  /* fitted */\n",
       "  background-color: var(--sklearn-color-fitted-level-2);\n",
       "}\n",
       "\n",
       "#sk-container-id-1 div.sk-label label.sk-toggleable__label,\n",
       "#sk-container-id-1 div.sk-label label {\n",
       "  /* The background is the default theme color */\n",
       "  color: var(--sklearn-color-text-on-default-background);\n",
       "}\n",
       "\n",
       "/* On hover, darken the color of the background */\n",
       "#sk-container-id-1 div.sk-label:hover label.sk-toggleable__label {\n",
       "  color: var(--sklearn-color-text);\n",
       "  background-color: var(--sklearn-color-unfitted-level-2);\n",
       "}\n",
       "\n",
       "/* Label box, darken color on hover, fitted */\n",
       "#sk-container-id-1 div.sk-label.fitted:hover label.sk-toggleable__label.fitted {\n",
       "  color: var(--sklearn-color-text);\n",
       "  background-color: var(--sklearn-color-fitted-level-2);\n",
       "}\n",
       "\n",
       "/* Estimator label */\n",
       "\n",
       "#sk-container-id-1 div.sk-label label {\n",
       "  font-family: monospace;\n",
       "  font-weight: bold;\n",
       "  display: inline-block;\n",
       "  line-height: 1.2em;\n",
       "}\n",
       "\n",
       "#sk-container-id-1 div.sk-label-container {\n",
       "  text-align: center;\n",
       "}\n",
       "\n",
       "/* Estimator-specific */\n",
       "#sk-container-id-1 div.sk-estimator {\n",
       "  font-family: monospace;\n",
       "  border: 1px dotted var(--sklearn-color-border-box);\n",
       "  border-radius: 0.25em;\n",
       "  box-sizing: border-box;\n",
       "  margin-bottom: 0.5em;\n",
       "  /* unfitted */\n",
       "  background-color: var(--sklearn-color-unfitted-level-0);\n",
       "}\n",
       "\n",
       "#sk-container-id-1 div.sk-estimator.fitted {\n",
       "  /* fitted */\n",
       "  background-color: var(--sklearn-color-fitted-level-0);\n",
       "}\n",
       "\n",
       "/* on hover */\n",
       "#sk-container-id-1 div.sk-estimator:hover {\n",
       "  /* unfitted */\n",
       "  background-color: var(--sklearn-color-unfitted-level-2);\n",
       "}\n",
       "\n",
       "#sk-container-id-1 div.sk-estimator.fitted:hover {\n",
       "  /* fitted */\n",
       "  background-color: var(--sklearn-color-fitted-level-2);\n",
       "}\n",
       "\n",
       "/* Specification for estimator info (e.g. \"i\" and \"?\") */\n",
       "\n",
       "/* Common style for \"i\" and \"?\" */\n",
       "\n",
       ".sk-estimator-doc-link,\n",
       "a:link.sk-estimator-doc-link,\n",
       "a:visited.sk-estimator-doc-link {\n",
       "  float: right;\n",
       "  font-size: smaller;\n",
       "  line-height: 1em;\n",
       "  font-family: monospace;\n",
       "  background-color: var(--sklearn-color-background);\n",
       "  border-radius: 1em;\n",
       "  height: 1em;\n",
       "  width: 1em;\n",
       "  text-decoration: none !important;\n",
       "  margin-left: 1ex;\n",
       "  /* unfitted */\n",
       "  border: var(--sklearn-color-unfitted-level-1) 1pt solid;\n",
       "  color: var(--sklearn-color-unfitted-level-1);\n",
       "}\n",
       "\n",
       ".sk-estimator-doc-link.fitted,\n",
       "a:link.sk-estimator-doc-link.fitted,\n",
       "a:visited.sk-estimator-doc-link.fitted {\n",
       "  /* fitted */\n",
       "  border: var(--sklearn-color-fitted-level-1) 1pt solid;\n",
       "  color: var(--sklearn-color-fitted-level-1);\n",
       "}\n",
       "\n",
       "/* On hover */\n",
       "div.sk-estimator:hover .sk-estimator-doc-link:hover,\n",
       ".sk-estimator-doc-link:hover,\n",
       "div.sk-label-container:hover .sk-estimator-doc-link:hover,\n",
       ".sk-estimator-doc-link:hover {\n",
       "  /* unfitted */\n",
       "  background-color: var(--sklearn-color-unfitted-level-3);\n",
       "  color: var(--sklearn-color-background);\n",
       "  text-decoration: none;\n",
       "}\n",
       "\n",
       "div.sk-estimator.fitted:hover .sk-estimator-doc-link.fitted:hover,\n",
       ".sk-estimator-doc-link.fitted:hover,\n",
       "div.sk-label-container:hover .sk-estimator-doc-link.fitted:hover,\n",
       ".sk-estimator-doc-link.fitted:hover {\n",
       "  /* fitted */\n",
       "  background-color: var(--sklearn-color-fitted-level-3);\n",
       "  color: var(--sklearn-color-background);\n",
       "  text-decoration: none;\n",
       "}\n",
       "\n",
       "/* Span, style for the box shown on hovering the info icon */\n",
       ".sk-estimator-doc-link span {\n",
       "  display: none;\n",
       "  z-index: 9999;\n",
       "  position: relative;\n",
       "  font-weight: normal;\n",
       "  right: .2ex;\n",
       "  padding: .5ex;\n",
       "  margin: .5ex;\n",
       "  width: min-content;\n",
       "  min-width: 20ex;\n",
       "  max-width: 50ex;\n",
       "  color: var(--sklearn-color-text);\n",
       "  box-shadow: 2pt 2pt 4pt #999;\n",
       "  /* unfitted */\n",
       "  background: var(--sklearn-color-unfitted-level-0);\n",
       "  border: .5pt solid var(--sklearn-color-unfitted-level-3);\n",
       "}\n",
       "\n",
       ".sk-estimator-doc-link.fitted span {\n",
       "  /* fitted */\n",
       "  background: var(--sklearn-color-fitted-level-0);\n",
       "  border: var(--sklearn-color-fitted-level-3);\n",
       "}\n",
       "\n",
       ".sk-estimator-doc-link:hover span {\n",
       "  display: block;\n",
       "}\n",
       "\n",
       "/* \"?\"-specific style due to the `<a>` HTML tag */\n",
       "\n",
       "#sk-container-id-1 a.estimator_doc_link {\n",
       "  float: right;\n",
       "  font-size: 1rem;\n",
       "  line-height: 1em;\n",
       "  font-family: monospace;\n",
       "  background-color: var(--sklearn-color-background);\n",
       "  border-radius: 1rem;\n",
       "  height: 1rem;\n",
       "  width: 1rem;\n",
       "  text-decoration: none;\n",
       "  /* unfitted */\n",
       "  color: var(--sklearn-color-unfitted-level-1);\n",
       "  border: var(--sklearn-color-unfitted-level-1) 1pt solid;\n",
       "}\n",
       "\n",
       "#sk-container-id-1 a.estimator_doc_link.fitted {\n",
       "  /* fitted */\n",
       "  border: var(--sklearn-color-fitted-level-1) 1pt solid;\n",
       "  color: var(--sklearn-color-fitted-level-1);\n",
       "}\n",
       "\n",
       "/* On hover */\n",
       "#sk-container-id-1 a.estimator_doc_link:hover {\n",
       "  /* unfitted */\n",
       "  background-color: var(--sklearn-color-unfitted-level-3);\n",
       "  color: var(--sklearn-color-background);\n",
       "  text-decoration: none;\n",
       "}\n",
       "\n",
       "#sk-container-id-1 a.estimator_doc_link.fitted:hover {\n",
       "  /* fitted */\n",
       "  background-color: var(--sklearn-color-fitted-level-3);\n",
       "}\n",
       "</style><div id=\"sk-container-id-1\" class=\"sk-top-container\"><div class=\"sk-text-repr-fallback\"><pre>LinearRegression()</pre><b>In a Jupyter environment, please rerun this cell to show the HTML representation or trust the notebook. <br />On GitHub, the HTML representation is unable to render, please try loading this page with nbviewer.org.</b></div><div class=\"sk-container\" hidden><div class=\"sk-item\"><div class=\"sk-estimator fitted sk-toggleable\"><input class=\"sk-toggleable__control sk-hidden--visually\" id=\"sk-estimator-id-1\" type=\"checkbox\" checked><label for=\"sk-estimator-id-1\" class=\"sk-toggleable__label fitted sk-toggleable__label-arrow fitted\">&nbsp;&nbsp;LinearRegression<a class=\"sk-estimator-doc-link fitted\" rel=\"noreferrer\" target=\"_blank\" href=\"https://scikit-learn.org/1.5/modules/generated/sklearn.linear_model.LinearRegression.html\">?<span>Documentation for LinearRegression</span></a><span class=\"sk-estimator-doc-link fitted\">i<span>Fitted</span></span></label><div class=\"sk-toggleable__content fitted\"><pre>LinearRegression()</pre></div> </div></div></div></div>"
      ],
      "text/plain": [
       "LinearRegression()"
      ]
     },
     "execution_count": 4,
     "metadata": {},
     "output_type": "execute_result"
    }
   ],
   "source": [
    "# Use sklearn to create LDA model\n",
    "model = sklearn.linear_model.LinearRegression()\n",
    "model.fit(train_data, train_labels)"
   ]
  },
  {
   "cell_type": "markdown",
   "metadata": {},
   "source": [
    "Run Model on Test Data"
   ]
  },
  {
   "cell_type": "code",
   "execution_count": 5,
   "metadata": {},
   "outputs": [],
   "source": [
    "\n",
    "test_labels_prediction = model.predict(test_data)\n",
    "actual_and_predicted = pd.DataFrame({'actual':test_labels,'predicted':test_labels_prediction})"
   ]
  },
  {
   "cell_type": "markdown",
   "metadata": {},
   "source": [
    "Plot Test Data"
   ]
  },
  {
   "cell_type": "code",
   "execution_count": 6,
   "metadata": {},
   "outputs": [
    {
     "data": {
      "application/vnd.plotly.v1+json": {
       "config": {
        "plotlyServerURL": "https://plot.ly"
       },
       "data": [
        {
         "customdata": [
          [
           "WDAY",
           "2024-12-23T00:00:00"
          ],
          [
           "NWSA",
           "2024-12-17T00:00:00"
          ],
          [
           "KKR",
           "2024-12-24T00:00:00"
          ],
          [
           "CBOE",
           "2024-12-23T00:00:00"
          ],
          [
           "PEP",
           "2024-12-09T00:00:00"
          ],
          [
           "RSG",
           "2024-12-11T00:00:00"
          ],
          [
           "AIG",
           "2024-12-13T00:00:00"
          ],
          [
           "BMY",
           "2024-12-16T00:00:00"
          ],
          [
           "HON",
           "2024-12-23T00:00:00"
          ],
          [
           "AIG",
           "2024-12-18T00:00:00"
          ],
          [
           "ODFL",
           "2024-12-16T00:00:00"
          ],
          [
           "ALL",
           "2024-12-20T00:00:00"
          ],
          [
           "CL",
           "2024-12-30T00:00:00"
          ],
          [
           "KDP",
           "2024-12-27T00:00:00"
          ],
          [
           "META",
           "2025-01-02T00:00:00"
          ],
          [
           "TAP",
           "2024-12-31T00:00:00"
          ],
          [
           "SHW",
           "2024-12-13T00:00:00"
          ],
          [
           "EXPE",
           "2024-12-23T00:00:00"
          ],
          [
           "DECK",
           "2024-12-09T00:00:00"
          ],
          [
           "CTVA",
           "2024-12-16T00:00:00"
          ],
          [
           "MPWR",
           "2024-12-13T00:00:00"
          ],
          [
           "ENPH",
           "2024-12-30T00:00:00"
          ],
          [
           "GIS",
           "2024-12-12T00:00:00"
          ],
          [
           "META",
           "2024-12-31T00:00:00"
          ],
          [
           "HAL",
           "2024-12-10T00:00:00"
          ],
          [
           "CTSH",
           "2024-12-24T00:00:00"
          ],
          [
           "CRWD",
           "2024-12-10T00:00:00"
          ],
          [
           "MAS",
           "2024-12-10T00:00:00"
          ],
          [
           "KDP",
           "2024-12-09T00:00:00"
          ],
          [
           "BK",
           "2024-12-18T00:00:00"
          ],
          [
           "L",
           "2024-12-27T00:00:00"
          ],
          [
           "CVX",
           "2024-12-24T00:00:00"
          ],
          [
           "KMB",
           "2024-12-13T00:00:00"
          ],
          [
           "CDNS",
           "2024-12-17T00:00:00"
          ],
          [
           "AMCR",
           "2024-12-26T00:00:00"
          ],
          [
           "FANG",
           "2024-12-30T00:00:00"
          ],
          [
           "MRNA",
           "2024-12-10T00:00:00"
          ],
          [
           "PLTR",
           "2024-12-30T00:00:00"
          ],
          [
           "ABT",
           "2024-12-24T00:00:00"
          ],
          [
           "AES",
           "2024-12-10T00:00:00"
          ],
          [
           "TXN",
           "2024-12-19T00:00:00"
          ],
          [
           "AOS",
           "2024-12-09T00:00:00"
          ],
          [
           "CHD",
           "2025-01-02T00:00:00"
          ],
          [
           "NDAQ",
           "2024-12-26T00:00:00"
          ],
          [
           "TFC",
           "2024-12-19T00:00:00"
          ],
          [
           "APTV",
           "2024-12-24T00:00:00"
          ],
          [
           "COF",
           "2024-12-13T00:00:00"
          ],
          [
           "XEL",
           "2024-12-16T00:00:00"
          ],
          [
           "APH",
           "2025-01-02T00:00:00"
          ],
          [
           "LOW",
           "2024-12-30T00:00:00"
          ],
          [
           "NOW",
           "2024-12-10T00:00:00"
          ],
          [
           "CI",
           "2024-12-23T00:00:00"
          ],
          [
           "GRMN",
           "2024-12-18T00:00:00"
          ],
          [
           "AKAM",
           "2024-12-12T00:00:00"
          ],
          [
           "PG",
           "2024-12-30T00:00:00"
          ],
          [
           "AMAT",
           "2024-12-23T00:00:00"
          ],
          [
           "CMS",
           "2024-12-24T00:00:00"
          ],
          [
           "DECK",
           "2024-12-31T00:00:00"
          ],
          [
           "IQV",
           "2024-12-26T00:00:00"
          ],
          [
           "ORCL",
           "2024-12-26T00:00:00"
          ],
          [
           "EA",
           "2024-12-24T00:00:00"
          ],
          [
           "EW",
           "2024-12-16T00:00:00"
          ],
          [
           "OMC",
           "2024-12-23T00:00:00"
          ],
          [
           "LIN",
           "2024-12-26T00:00:00"
          ],
          [
           "AFL",
           "2024-12-19T00:00:00"
          ],
          [
           "WAB",
           "2024-12-27T00:00:00"
          ],
          [
           "DOC",
           "2024-12-27T00:00:00"
          ],
          [
           "KEYS",
           "2024-12-09T00:00:00"
          ],
          [
           "KKR",
           "2024-12-30T00:00:00"
          ],
          [
           "XEL",
           "2025-01-02T00:00:00"
          ],
          [
           "D",
           "2024-12-16T00:00:00"
          ],
          [
           "SYY",
           "2024-12-17T00:00:00"
          ],
          [
           "CMG",
           "2024-12-09T00:00:00"
          ],
          [
           "JNJ",
           "2024-12-16T00:00:00"
          ],
          [
           "NFLX",
           "2024-12-23T00:00:00"
          ],
          [
           "WDAY",
           "2025-01-02T00:00:00"
          ],
          [
           "RJF",
           "2024-12-13T00:00:00"
          ],
          [
           "DFS",
           "2024-12-26T00:00:00"
          ],
          [
           "BDX",
           "2024-12-19T00:00:00"
          ],
          [
           "AME",
           "2024-12-18T00:00:00"
          ],
          [
           "ABNB",
           "2024-12-10T00:00:00"
          ],
          [
           "MCK",
           "2024-12-11T00:00:00"
          ],
          [
           "ABT",
           "2024-12-09T00:00:00"
          ],
          [
           "LEN",
           "2024-12-11T00:00:00"
          ],
          [
           "TGT",
           "2024-12-13T00:00:00"
          ],
          [
           "COP",
           "2025-01-02T00:00:00"
          ],
          [
           "ITW",
           "2025-01-02T00:00:00"
          ],
          [
           "EQR",
           "2024-12-12T00:00:00"
          ],
          [
           "PCAR",
           "2024-12-16T00:00:00"
          ],
          [
           "OMC",
           "2024-12-17T00:00:00"
          ],
          [
           "VLTO",
           "2024-12-13T00:00:00"
          ],
          [
           "CF",
           "2024-12-24T00:00:00"
          ],
          [
           "TSN",
           "2024-12-19T00:00:00"
          ],
          [
           "NTRS",
           "2024-12-16T00:00:00"
          ],
          [
           "CPB",
           "2024-12-26T00:00:00"
          ],
          [
           "NOW",
           "2024-12-18T00:00:00"
          ],
          [
           "BA",
           "2024-12-16T00:00:00"
          ],
          [
           "ADP",
           "2024-12-23T00:00:00"
          ],
          [
           "MDLZ",
           "2024-12-19T00:00:00"
          ],
          [
           "BBY",
           "2024-12-26T00:00:00"
          ],
          [
           "FMC",
           "2024-12-27T00:00:00"
          ],
          [
           "EL",
           "2024-12-23T00:00:00"
          ],
          [
           "GEN",
           "2024-12-10T00:00:00"
          ],
          [
           "NFLX",
           "2024-12-19T00:00:00"
          ],
          [
           "AMT",
           "2024-12-27T00:00:00"
          ],
          [
           "TMUS",
           "2024-12-09T00:00:00"
          ],
          [
           "COO",
           "2024-12-13T00:00:00"
          ],
          [
           "SYK",
           "2024-12-13T00:00:00"
          ],
          [
           "HAS",
           "2024-12-27T00:00:00"
          ],
          [
           "TSLA",
           "2024-12-16T00:00:00"
          ],
          [
           "TT",
           "2024-12-17T00:00:00"
          ],
          [
           "TJX",
           "2024-12-09T00:00:00"
          ],
          [
           "WY",
           "2024-12-12T00:00:00"
          ],
          [
           "IR",
           "2024-12-20T00:00:00"
          ],
          [
           "BRK-B",
           "2024-12-24T00:00:00"
          ],
          [
           "CTVA",
           "2025-01-02T00:00:00"
          ],
          [
           "XOM",
           "2024-12-09T00:00:00"
          ],
          [
           "BBY",
           "2024-12-20T00:00:00"
          ],
          [
           "ABT",
           "2024-12-10T00:00:00"
          ],
          [
           "GM",
           "2024-12-27T00:00:00"
          ],
          [
           "ALL",
           "2024-12-23T00:00:00"
          ],
          [
           "KMB",
           "2025-01-02T00:00:00"
          ],
          [
           "MCK",
           "2024-12-23T00:00:00"
          ],
          [
           "AIG",
           "2024-12-30T00:00:00"
          ],
          [
           "AMT",
           "2024-12-24T00:00:00"
          ],
          [
           "SO",
           "2024-12-27T00:00:00"
          ],
          [
           "FTNT",
           "2024-12-23T00:00:00"
          ],
          [
           "TPR",
           "2024-12-10T00:00:00"
          ],
          [
           "ADM",
           "2024-12-27T00:00:00"
          ],
          [
           "MDT",
           "2024-12-09T00:00:00"
          ],
          [
           "AMAT",
           "2024-12-13T00:00:00"
          ],
          [
           "HST",
           "2024-12-17T00:00:00"
          ],
          [
           "TRMB",
           "2024-12-09T00:00:00"
          ],
          [
           "PPG",
           "2024-12-19T00:00:00"
          ],
          [
           "KHC",
           "2024-12-18T00:00:00"
          ],
          [
           "MOS",
           "2025-01-02T00:00:00"
          ],
          [
           "DHR",
           "2024-12-12T00:00:00"
          ],
          [
           "TRGP",
           "2024-12-10T00:00:00"
          ],
          [
           "SJM",
           "2024-12-17T00:00:00"
          ],
          [
           "XEL",
           "2024-12-18T00:00:00"
          ],
          [
           "ADI",
           "2024-12-11T00:00:00"
          ],
          [
           "SO",
           "2024-12-23T00:00:00"
          ],
          [
           "OTIS",
           "2024-12-16T00:00:00"
          ],
          [
           "FE",
           "2024-12-11T00:00:00"
          ],
          [
           "EOG",
           "2024-12-17T00:00:00"
          ],
          [
           "CZR",
           "2024-12-26T00:00:00"
          ],
          [
           "BAC",
           "2024-12-20T00:00:00"
          ],
          [
           "CRWD",
           "2024-12-30T00:00:00"
          ],
          [
           "CHTR",
           "2024-12-10T00:00:00"
          ],
          [
           "UNH",
           "2024-12-13T00:00:00"
          ],
          [
           "MGM",
           "2024-12-09T00:00:00"
          ],
          [
           "OXY",
           "2024-12-18T00:00:00"
          ],
          [
           "MAS",
           "2024-12-27T00:00:00"
          ],
          [
           "CMS",
           "2024-12-20T00:00:00"
          ],
          [
           "VTRS",
           "2024-12-16T00:00:00"
          ],
          [
           "BG",
           "2024-12-16T00:00:00"
          ],
          [
           "SMCI",
           "2024-12-30T00:00:00"
          ],
          [
           "ROL",
           "2024-12-18T00:00:00"
          ],
          [
           "CRL",
           "2024-12-16T00:00:00"
          ],
          [
           "BEN",
           "2024-12-19T00:00:00"
          ],
          [
           "ADP",
           "2024-12-19T00:00:00"
          ],
          [
           "FTNT",
           "2024-12-30T00:00:00"
          ],
          [
           "A",
           "2024-12-31T00:00:00"
          ],
          [
           "AMAT",
           "2024-12-24T00:00:00"
          ],
          [
           "MS",
           "2024-12-20T00:00:00"
          ],
          [
           "TRMB",
           "2024-12-12T00:00:00"
          ],
          [
           "KMB",
           "2024-12-11T00:00:00"
          ],
          [
           "TRGP",
           "2024-12-30T00:00:00"
          ],
          [
           "NCLH",
           "2024-12-12T00:00:00"
          ],
          [
           "AIG",
           "2024-12-11T00:00:00"
          ],
          [
           "WEC",
           "2024-12-13T00:00:00"
          ],
          [
           "UAL",
           "2024-12-24T00:00:00"
          ],
          [
           "PNC",
           "2024-12-10T00:00:00"
          ],
          [
           "CTAS",
           "2024-12-19T00:00:00"
          ],
          [
           "JNJ",
           "2024-12-31T00:00:00"
          ],
          [
           "T",
           "2024-12-23T00:00:00"
          ],
          [
           "AJG",
           "2024-12-19T00:00:00"
          ],
          [
           "C",
           "2024-12-26T00:00:00"
          ],
          [
           "UDR",
           "2025-01-02T00:00:00"
          ],
          [
           "USB",
           "2024-12-26T00:00:00"
          ],
          [
           "LEN",
           "2024-12-09T00:00:00"
          ],
          [
           "AFL",
           "2024-12-16T00:00:00"
          ],
          [
           "KIM",
           "2024-12-10T00:00:00"
          ],
          [
           "FIS",
           "2024-12-18T00:00:00"
          ],
          [
           "GEN",
           "2024-12-30T00:00:00"
          ],
          [
           "PM",
           "2024-12-11T00:00:00"
          ],
          [
           "OXY",
           "2025-01-02T00:00:00"
          ],
          [
           "CSGP",
           "2024-12-12T00:00:00"
          ],
          [
           "MRK",
           "2024-12-19T00:00:00"
          ],
          [
           "HUM",
           "2024-12-31T00:00:00"
          ],
          [
           "EOG",
           "2024-12-12T00:00:00"
          ],
          [
           "INVH",
           "2024-12-27T00:00:00"
          ],
          [
           "IPG",
           "2024-12-26T00:00:00"
          ],
          [
           "EXPE",
           "2024-12-24T00:00:00"
          ],
          [
           "CRL",
           "2024-12-17T00:00:00"
          ],
          [
           "CVS",
           "2024-12-24T00:00:00"
          ],
          [
           "CRL",
           "2025-01-02T00:00:00"
          ],
          [
           "ROL",
           "2024-12-24T00:00:00"
          ],
          [
           "ABT",
           "2024-12-26T00:00:00"
          ],
          [
           "DHR",
           "2024-12-27T00:00:00"
          ],
          [
           "CHD",
           "2024-12-30T00:00:00"
          ],
          [
           "APH",
           "2024-12-11T00:00:00"
          ],
          [
           "HST",
           "2024-12-19T00:00:00"
          ],
          [
           "KHC",
           "2024-12-09T00:00:00"
          ],
          [
           "PEP",
           "2024-12-30T00:00:00"
          ],
          [
           "HPE",
           "2024-12-19T00:00:00"
          ],
          [
           "ABNB",
           "2024-12-12T00:00:00"
          ],
          [
           "SPG",
           "2024-12-10T00:00:00"
          ],
          [
           "TER",
           "2024-12-31T00:00:00"
          ],
          [
           "TRV",
           "2024-12-31T00:00:00"
          ],
          [
           "RCL",
           "2024-12-20T00:00:00"
          ],
          [
           "NKE",
           "2024-12-30T00:00:00"
          ],
          [
           "KO",
           "2025-01-02T00:00:00"
          ],
          [
           "PEP",
           "2024-12-27T00:00:00"
          ],
          [
           "IP",
           "2024-12-16T00:00:00"
          ],
          [
           "K",
           "2024-12-18T00:00:00"
          ],
          [
           "EQR",
           "2024-12-24T00:00:00"
          ],
          [
           "DOC",
           "2024-12-24T00:00:00"
          ],
          [
           "KHC",
           "2024-12-26T00:00:00"
          ],
          [
           "SLB",
           "2024-12-09T00:00:00"
          ],
          [
           "RJF",
           "2024-12-09T00:00:00"
          ],
          [
           "HAL",
           "2024-12-26T00:00:00"
          ],
          [
           "ES",
           "2024-12-18T00:00:00"
          ],
          [
           "OXY",
           "2024-12-11T00:00:00"
          ],
          [
           "GE",
           "2024-12-23T00:00:00"
          ],
          [
           "CTSH",
           "2024-12-18T00:00:00"
          ],
          [
           "BRO",
           "2024-12-11T00:00:00"
          ],
          [
           "TER",
           "2024-12-26T00:00:00"
          ],
          [
           "NRG",
           "2024-12-31T00:00:00"
          ],
          [
           "MDLZ",
           "2024-12-18T00:00:00"
          ],
          [
           "RJF",
           "2024-12-23T00:00:00"
          ],
          [
           "BALL",
           "2024-12-10T00:00:00"
          ],
          [
           "CNC",
           "2024-12-26T00:00:00"
          ],
          [
           "AVGO",
           "2024-12-30T00:00:00"
          ],
          [
           "FOXA",
           "2024-12-27T00:00:00"
          ],
          [
           "TXT",
           "2024-12-12T00:00:00"
          ],
          [
           "CEG",
           "2024-12-10T00:00:00"
          ],
          [
           "NEE",
           "2024-12-19T00:00:00"
          ],
          [
           "STX",
           "2024-12-20T00:00:00"
          ],
          [
           "AMAT",
           "2025-01-02T00:00:00"
          ],
          [
           "XEL",
           "2024-12-30T00:00:00"
          ],
          [
           "C",
           "2024-12-24T00:00:00"
          ],
          [
           "APH",
           "2024-12-23T00:00:00"
          ],
          [
           "MOS",
           "2024-12-18T00:00:00"
          ],
          [
           "ADM",
           "2024-12-12T00:00:00"
          ],
          [
           "SPG",
           "2024-12-26T00:00:00"
          ],
          [
           "EMR",
           "2024-12-17T00:00:00"
          ],
          [
           "HUM",
           "2024-12-27T00:00:00"
          ],
          [
           "LLY",
           "2024-12-20T00:00:00"
          ],
          [
           "ABT",
           "2024-12-19T00:00:00"
          ],
          [
           "DAY",
           "2024-12-31T00:00:00"
          ],
          [
           "INVH",
           "2024-12-31T00:00:00"
          ],
          [
           "AON",
           "2024-12-16T00:00:00"
          ],
          [
           "DRI",
           "2024-12-31T00:00:00"
          ],
          [
           "D",
           "2024-12-31T00:00:00"
          ],
          [
           "GS",
           "2024-12-26T00:00:00"
          ],
          [
           "CPB",
           "2024-12-13T00:00:00"
          ],
          [
           "FAST",
           "2024-12-31T00:00:00"
          ],
          [
           "COO",
           "2024-12-24T00:00:00"
          ],
          [
           "GOOGL",
           "2024-12-24T00:00:00"
          ],
          [
           "PFG",
           "2024-12-24T00:00:00"
          ],
          [
           "ELV",
           "2024-12-30T00:00:00"
          ],
          [
           "IR",
           "2024-12-12T00:00:00"
          ],
          [
           "STT",
           "2024-12-17T00:00:00"
          ],
          [
           "PYPL",
           "2024-12-26T00:00:00"
          ],
          [
           "ALLE",
           "2024-12-30T00:00:00"
          ],
          [
           "AMGN",
           "2024-12-16T00:00:00"
          ],
          [
           "ARE",
           "2024-12-23T00:00:00"
          ],
          [
           "ODFL",
           "2024-12-19T00:00:00"
          ],
          [
           "MRNA",
           "2024-12-31T00:00:00"
          ],
          [
           "GLW",
           "2024-12-11T00:00:00"
          ],
          [
           "PM",
           "2024-12-27T00:00:00"
          ],
          [
           "AMGN",
           "2024-12-09T00:00:00"
          ],
          [
           "AES",
           "2025-01-02T00:00:00"
          ],
          [
           "PLTR",
           "2024-12-18T00:00:00"
          ],
          [
           "MPC",
           "2024-12-10T00:00:00"
          ],
          [
           "PFG",
           "2024-12-10T00:00:00"
          ],
          [
           "MHK",
           "2024-12-13T00:00:00"
          ],
          [
           "SNPS",
           "2024-12-19T00:00:00"
          ],
          [
           "SW",
           "2024-12-12T00:00:00"
          ],
          [
           "MU",
           "2024-12-27T00:00:00"
          ],
          [
           "CHRW",
           "2024-12-09T00:00:00"
          ],
          [
           "HPQ",
           "2024-12-18T00:00:00"
          ],
          [
           "WY",
           "2024-12-11T00:00:00"
          ],
          [
           "FDX",
           "2024-12-30T00:00:00"
          ],
          [
           "O",
           "2024-12-20T00:00:00"
          ],
          [
           "ALB",
           "2024-12-27T00:00:00"
          ],
          [
           "EBAY",
           "2024-12-24T00:00:00"
          ],
          [
           "ADBE",
           "2024-12-24T00:00:00"
          ],
          [
           "LUV",
           "2024-12-20T00:00:00"
          ],
          [
           "MS",
           "2024-12-26T00:00:00"
          ],
          [
           "ABT",
           "2024-12-17T00:00:00"
          ],
          [
           "ETR",
           "2024-12-31T00:00:00"
          ],
          [
           "CSGP",
           "2024-12-23T00:00:00"
          ],
          [
           "GS",
           "2024-12-17T00:00:00"
          ],
          [
           "PNC",
           "2024-12-13T00:00:00"
          ],
          [
           "LIN",
           "2024-12-27T00:00:00"
          ],
          [
           "CAG",
           "2024-12-09T00:00:00"
          ],
          [
           "KR",
           "2024-12-24T00:00:00"
          ],
          [
           "LYB",
           "2025-01-02T00:00:00"
          ],
          [
           "AME",
           "2024-12-30T00:00:00"
          ],
          [
           "TTWO",
           "2024-12-24T00:00:00"
          ],
          [
           "SPGI",
           "2024-12-30T00:00:00"
          ],
          [
           "CHD",
           "2024-12-17T00:00:00"
          ],
          [
           "F",
           "2024-12-19T00:00:00"
          ],
          [
           "ADI",
           "2024-12-26T00:00:00"
          ],
          [
           "HRL",
           "2024-12-26T00:00:00"
          ],
          [
           "BEN",
           "2024-12-31T00:00:00"
          ],
          [
           "SPGI",
           "2024-12-26T00:00:00"
          ],
          [
           "SPGI",
           "2024-12-20T00:00:00"
          ],
          [
           "GPC",
           "2024-12-09T00:00:00"
          ],
          [
           "HAS",
           "2025-01-02T00:00:00"
          ],
          [
           "PLTR",
           "2024-12-11T00:00:00"
          ],
          [
           "CSCO",
           "2024-12-20T00:00:00"
          ],
          [
           "BDX",
           "2024-12-20T00:00:00"
          ],
          [
           "MGM",
           "2024-12-12T00:00:00"
          ],
          [
           "HIG",
           "2024-12-23T00:00:00"
          ],
          [
           "WYNN",
           "2024-12-13T00:00:00"
          ],
          [
           "NDAQ",
           "2024-12-19T00:00:00"
          ],
          [
           "WMT",
           "2024-12-18T00:00:00"
          ],
          [
           "STX",
           "2024-12-23T00:00:00"
          ],
          [
           "CTRA",
           "2024-12-20T00:00:00"
          ],
          [
           "BSX",
           "2024-12-24T00:00:00"
          ],
          [
           "PG",
           "2024-12-23T00:00:00"
          ],
          [
           "EQT",
           "2024-12-30T00:00:00"
          ],
          [
           "BXP",
           "2024-12-27T00:00:00"
          ],
          [
           "EBAY",
           "2024-12-27T00:00:00"
          ],
          [
           "GOOGL",
           "2024-12-20T00:00:00"
          ],
          [
           "ORCL",
           "2024-12-11T00:00:00"
          ],
          [
           "DFS",
           "2024-12-27T00:00:00"
          ],
          [
           "XEL",
           "2024-12-19T00:00:00"
          ],
          [
           "BWA",
           "2024-12-12T00:00:00"
          ],
          [
           "BK",
           "2024-12-27T00:00:00"
          ],
          [
           "WFC",
           "2024-12-09T00:00:00"
          ],
          [
           "MTB",
           "2024-12-30T00:00:00"
          ],
          [
           "GLW",
           "2024-12-09T00:00:00"
          ],
          [
           "WBD",
           "2024-12-17T00:00:00"
          ],
          [
           "HSY",
           "2024-12-19T00:00:00"
          ],
          [
           "ODFL",
           "2024-12-31T00:00:00"
          ],
          [
           "TMO",
           "2024-12-17T00:00:00"
          ],
          [
           "PFE",
           "2024-12-19T00:00:00"
          ],
          [
           "NKE",
           "2024-12-19T00:00:00"
          ],
          [
           "EQT",
           "2024-12-27T00:00:00"
          ],
          [
           "AXON",
           "2024-12-13T00:00:00"
          ],
          [
           "LIN",
           "2024-12-11T00:00:00"
          ],
          [
           "VST",
           "2024-12-27T00:00:00"
          ],
          [
           "NTRS",
           "2024-12-10T00:00:00"
          ],
          [
           "UAL",
           "2025-01-02T00:00:00"
          ],
          [
           "CDNS",
           "2024-12-11T00:00:00"
          ],
          [
           "ISRG",
           "2024-12-17T00:00:00"
          ],
          [
           "GE",
           "2024-12-31T00:00:00"
          ],
          [
           "DUK",
           "2024-12-16T00:00:00"
          ],
          [
           "SJM",
           "2025-01-02T00:00:00"
          ],
          [
           "DOW",
           "2024-12-09T00:00:00"
          ],
          [
           "FANG",
           "2024-12-11T00:00:00"
          ],
          [
           "MPC",
           "2024-12-24T00:00:00"
          ],
          [
           "CME",
           "2024-12-13T00:00:00"
          ],
          [
           "PM",
           "2024-12-19T00:00:00"
          ],
          [
           "CZR",
           "2024-12-31T00:00:00"
          ],
          [
           "NDAQ",
           "2024-12-30T00:00:00"
          ],
          [
           "GILD",
           "2024-12-30T00:00:00"
          ],
          [
           "FIS",
           "2024-12-19T00:00:00"
          ],
          [
           "CME",
           "2024-12-17T00:00:00"
          ],
          [
           "IVZ",
           "2024-12-11T00:00:00"
          ],
          [
           "EFX",
           "2024-12-17T00:00:00"
          ],
          [
           "EVRG",
           "2024-12-24T00:00:00"
          ],
          [
           "GPN",
           "2024-12-10T00:00:00"
          ],
          [
           "LULU",
           "2024-12-18T00:00:00"
          ],
          [
           "NOW",
           "2024-12-20T00:00:00"
          ],
          [
           "HSIC",
           "2024-12-23T00:00:00"
          ],
          [
           "HOLX",
           "2025-01-02T00:00:00"
          ],
          [
           "CNP",
           "2024-12-27T00:00:00"
          ],
          [
           "KMB",
           "2024-12-12T00:00:00"
          ],
          [
           "ACGL",
           "2024-12-26T00:00:00"
          ],
          [
           "AEE",
           "2024-12-27T00:00:00"
          ],
          [
           "WELL",
           "2024-12-30T00:00:00"
          ],
          [
           "STLD",
           "2024-12-23T00:00:00"
          ],
          [
           "DGX",
           "2024-12-13T00:00:00"
          ],
          [
           "MHK",
           "2024-12-20T00:00:00"
          ],
          [
           "VTRS",
           "2024-12-24T00:00:00"
          ],
          [
           "CME",
           "2025-01-02T00:00:00"
          ],
          [
           "CNP",
           "2024-12-18T00:00:00"
          ],
          [
           "WDAY",
           "2024-12-31T00:00:00"
          ],
          [
           "VZ",
           "2025-01-02T00:00:00"
          ],
          [
           "EMN",
           "2024-12-18T00:00:00"
          ],
          [
           "VZ",
           "2024-12-11T00:00:00"
          ],
          [
           "CF",
           "2024-12-26T00:00:00"
          ],
          [
           "APD",
           "2025-01-02T00:00:00"
          ],
          [
           "ADBE",
           "2024-12-12T00:00:00"
          ],
          [
           "AFL",
           "2024-12-13T00:00:00"
          ],
          [
           "PLTR",
           "2025-01-02T00:00:00"
          ],
          [
           "META",
           "2024-12-17T00:00:00"
          ],
          [
           "FIS",
           "2024-12-20T00:00:00"
          ],
          [
           "FOX",
           "2024-12-11T00:00:00"
          ],
          [
           "OTIS",
           "2024-12-24T00:00:00"
          ],
          [
           "EL",
           "2025-01-02T00:00:00"
          ],
          [
           "FTNT",
           "2024-12-11T00:00:00"
          ],
          [
           "DAY",
           "2024-12-27T00:00:00"
          ],
          [
           "HAS",
           "2024-12-09T00:00:00"
          ],
          [
           "ALL",
           "2024-12-10T00:00:00"
          ],
          [
           "CAH",
           "2024-12-23T00:00:00"
          ],
          [
           "NEM",
           "2024-12-10T00:00:00"
          ],
          [
           "EPAM",
           "2024-12-31T00:00:00"
          ],
          [
           "INTC",
           "2024-12-17T00:00:00"
          ],
          [
           "ICE",
           "2024-12-11T00:00:00"
          ],
          [
           "WMT",
           "2024-12-19T00:00:00"
          ],
          [
           "PCAR",
           "2024-12-24T00:00:00"
          ],
          [
           "CSX",
           "2024-12-17T00:00:00"
          ],
          [
           "AVGO",
           "2024-12-11T00:00:00"
          ],
          [
           "MOS",
           "2024-12-13T00:00:00"
          ],
          [
           "AOS",
           "2024-12-11T00:00:00"
          ],
          [
           "NKE",
           "2024-12-13T00:00:00"
          ],
          [
           "GRMN",
           "2024-12-17T00:00:00"
          ],
          [
           "MA",
           "2024-12-30T00:00:00"
          ],
          [
           "BG",
           "2024-12-10T00:00:00"
          ],
          [
           "GOOGL",
           "2024-12-13T00:00:00"
          ],
          [
           "RTX",
           "2024-12-09T00:00:00"
          ],
          [
           "DXCM",
           "2024-12-27T00:00:00"
          ],
          [
           "HSIC",
           "2024-12-16T00:00:00"
          ],
          [
           "HBAN",
           "2024-12-13T00:00:00"
          ],
          [
           "SNPS",
           "2024-12-27T00:00:00"
          ],
          [
           "KR",
           "2024-12-12T00:00:00"
          ],
          [
           "V",
           "2024-12-20T00:00:00"
          ],
          [
           "SMCI",
           "2024-12-19T00:00:00"
          ],
          [
           "LOW",
           "2024-12-26T00:00:00"
          ],
          [
           "KDP",
           "2024-12-26T00:00:00"
          ],
          [
           "KDP",
           "2024-12-24T00:00:00"
          ],
          [
           "PEP",
           "2024-12-17T00:00:00"
          ],
          [
           "CE",
           "2024-12-30T00:00:00"
          ],
          [
           "MTCH",
           "2024-12-26T00:00:00"
          ],
          [
           "CNC",
           "2024-12-17T00:00:00"
          ],
          [
           "TT",
           "2024-12-23T00:00:00"
          ],
          [
           "DGX",
           "2024-12-16T00:00:00"
          ],
          [
           "FAST",
           "2024-12-20T00:00:00"
          ],
          [
           "SHW",
           "2024-12-24T00:00:00"
          ],
          [
           "FIS",
           "2024-12-24T00:00:00"
          ],
          [
           "COR",
           "2024-12-11T00:00:00"
          ],
          [
           "TGT",
           "2024-12-26T00:00:00"
          ],
          [
           "PLD",
           "2024-12-19T00:00:00"
          ],
          [
           "REGN",
           "2024-12-13T00:00:00"
          ],
          [
           "DGX",
           "2024-12-27T00:00:00"
          ],
          [
           "DG",
           "2024-12-24T00:00:00"
          ],
          [
           "CRWD",
           "2024-12-16T00:00:00"
          ],
          [
           "DLTR",
           "2024-12-09T00:00:00"
          ],
          [
           "AME",
           "2024-12-09T00:00:00"
          ],
          [
           "OXY",
           "2024-12-20T00:00:00"
          ],
          [
           "DFS",
           "2024-12-11T00:00:00"
          ],
          [
           "HOLX",
           "2024-12-20T00:00:00"
          ],
          [
           "APH",
           "2024-12-31T00:00:00"
          ],
          [
           "UDR",
           "2024-12-30T00:00:00"
          ],
          [
           "FE",
           "2024-12-19T00:00:00"
          ],
          [
           "CNC",
           "2024-12-31T00:00:00"
          ],
          [
           "TRV",
           "2024-12-11T00:00:00"
          ],
          [
           "LNT",
           "2024-12-10T00:00:00"
          ],
          [
           "YUM",
           "2024-12-11T00:00:00"
          ],
          [
           "FMC",
           "2024-12-26T00:00:00"
          ],
          [
           "MMM",
           "2024-12-11T00:00:00"
          ],
          [
           "KKR",
           "2024-12-09T00:00:00"
          ],
          [
           "EPAM",
           "2024-12-27T00:00:00"
          ],
          [
           "ADP",
           "2024-12-27T00:00:00"
          ],
          [
           "PCG",
           "2024-12-31T00:00:00"
          ],
          [
           "MRK",
           "2025-01-02T00:00:00"
          ],
          [
           "NTAP",
           "2024-12-20T00:00:00"
          ],
          [
           "SWKS",
           "2024-12-09T00:00:00"
          ],
          [
           "STX",
           "2024-12-13T00:00:00"
          ],
          [
           "ON",
           "2024-12-30T00:00:00"
          ],
          [
           "CVS",
           "2025-01-02T00:00:00"
          ],
          [
           "CCI",
           "2024-12-17T00:00:00"
          ],
          [
           "BWA",
           "2024-12-20T00:00:00"
          ],
          [
           "HSY",
           "2024-12-27T00:00:00"
          ],
          [
           "EL",
           "2024-12-10T00:00:00"
          ],
          [
           "HPQ",
           "2024-12-26T00:00:00"
          ],
          [
           "NKE",
           "2024-12-17T00:00:00"
          ],
          [
           "DVN",
           "2024-12-20T00:00:00"
          ],
          [
           "YUM",
           "2024-12-13T00:00:00"
          ],
          [
           "UBER",
           "2024-12-26T00:00:00"
          ],
          [
           "EPAM",
           "2024-12-26T00:00:00"
          ],
          [
           "WMB",
           "2024-12-11T00:00:00"
          ],
          [
           "PPL",
           "2024-12-27T00:00:00"
          ],
          [
           "CSX",
           "2024-12-12T00:00:00"
          ],
          [
           "RTX",
           "2025-01-02T00:00:00"
          ],
          [
           "DG",
           "2024-12-20T00:00:00"
          ],
          [
           "LKQ",
           "2024-12-13T00:00:00"
          ],
          [
           "TRGP",
           "2024-12-17T00:00:00"
          ],
          [
           "BAC",
           "2024-12-31T00:00:00"
          ],
          [
           "WDC",
           "2024-12-18T00:00:00"
          ],
          [
           "DOC",
           "2025-01-02T00:00:00"
          ],
          [
           "MRNA",
           "2024-12-30T00:00:00"
          ],
          [
           "DGX",
           "2024-12-12T00:00:00"
          ],
          [
           "LW",
           "2024-12-18T00:00:00"
          ],
          [
           "ARE",
           "2024-12-18T00:00:00"
          ],
          [
           "CMS",
           "2024-12-19T00:00:00"
          ],
          [
           "L",
           "2024-12-11T00:00:00"
          ],
          [
           "EXC",
           "2024-12-09T00:00:00"
          ],
          [
           "ODFL",
           "2024-12-30T00:00:00"
          ],
          [
           "NSC",
           "2024-12-23T00:00:00"
          ],
          [
           "LUV",
           "2024-12-16T00:00:00"
          ],
          [
           "MMC",
           "2024-12-11T00:00:00"
          ],
          [
           "TMUS",
           "2024-12-26T00:00:00"
          ],
          [
           "TGT",
           "2024-12-10T00:00:00"
          ],
          [
           "CSGP",
           "2024-12-24T00:00:00"
          ],
          [
           "PWR",
           "2024-12-10T00:00:00"
          ],
          [
           "EXC",
           "2025-01-02T00:00:00"
          ],
          [
           "NSC",
           "2024-12-20T00:00:00"
          ],
          [
           "VMC",
           "2024-12-18T00:00:00"
          ],
          [
           "LYB",
           "2024-12-09T00:00:00"
          ],
          [
           "FCX",
           "2024-12-23T00:00:00"
          ],
          [
           "DIS",
           "2024-12-12T00:00:00"
          ],
          [
           "AAPL",
           "2024-12-31T00:00:00"
          ],
          [
           "TT",
           "2024-12-26T00:00:00"
          ],
          [
           "STX",
           "2024-12-26T00:00:00"
          ],
          [
           "CAT",
           "2024-12-13T00:00:00"
          ],
          [
           "TJX",
           "2024-12-12T00:00:00"
          ],
          [
           "INTC",
           "2024-12-24T00:00:00"
          ],
          [
           "BIIB",
           "2024-12-16T00:00:00"
          ],
          [
           "TPR",
           "2024-12-26T00:00:00"
          ],
          [
           "MPC",
           "2024-12-20T00:00:00"
          ],
          [
           "MOS",
           "2024-12-12T00:00:00"
          ],
          [
           "BIIB",
           "2024-12-10T00:00:00"
          ],
          [
           "CAG",
           "2024-12-19T00:00:00"
          ],
          [
           "ABNB",
           "2024-12-20T00:00:00"
          ],
          [
           "GIS",
           "2024-12-20T00:00:00"
          ],
          [
           "PLTR",
           "2024-12-13T00:00:00"
          ],
          [
           "CRWD",
           "2024-12-11T00:00:00"
          ],
          [
           "EXC",
           "2024-12-19T00:00:00"
          ],
          [
           "EPAM",
           "2024-12-13T00:00:00"
          ],
          [
           "MGM",
           "2024-12-13T00:00:00"
          ],
          [
           "MMC",
           "2024-12-27T00:00:00"
          ],
          [
           "EBAY",
           "2024-12-26T00:00:00"
          ],
          [
           "BKR",
           "2024-12-31T00:00:00"
          ],
          [
           "EXPD",
           "2024-12-16T00:00:00"
          ],
          [
           "KEY",
           "2024-12-18T00:00:00"
          ],
          [
           "VLO",
           "2024-12-11T00:00:00"
          ],
          [
           "MNST",
           "2024-12-11T00:00:00"
          ],
          [
           "UNH",
           "2024-12-31T00:00:00"
          ],
          [
           "VLTO",
           "2024-12-18T00:00:00"
          ],
          [
           "SPGI",
           "2024-12-11T00:00:00"
          ],
          [
           "MSI",
           "2024-12-20T00:00:00"
          ],
          [
           "PLD",
           "2024-12-11T00:00:00"
          ],
          [
           "LULU",
           "2024-12-27T00:00:00"
          ],
          [
           "CVS",
           "2024-12-16T00:00:00"
          ],
          [
           "DHI",
           "2024-12-16T00:00:00"
          ],
          [
           "MHK",
           "2024-12-30T00:00:00"
          ],
          [
           "ROK",
           "2024-12-20T00:00:00"
          ],
          [
           "KHC",
           "2024-12-10T00:00:00"
          ],
          [
           "AVGO",
           "2024-12-10T00:00:00"
          ],
          [
           "GEHC",
           "2024-12-17T00:00:00"
          ],
          [
           "COO",
           "2025-01-02T00:00:00"
          ],
          [
           "TER",
           "2024-12-19T00:00:00"
          ],
          [
           "SRE",
           "2024-12-13T00:00:00"
          ],
          [
           "REGN",
           "2025-01-02T00:00:00"
          ],
          [
           "APA",
           "2025-01-02T00:00:00"
          ],
          [
           "NXPI",
           "2024-12-17T00:00:00"
          ],
          [
           "PAYX",
           "2024-12-27T00:00:00"
          ],
          [
           "ALB",
           "2024-12-23T00:00:00"
          ],
          [
           "JPM",
           "2024-12-12T00:00:00"
          ],
          [
           "MOS",
           "2024-12-19T00:00:00"
          ],
          [
           "COO",
           "2024-12-11T00:00:00"
          ],
          [
           "NOC",
           "2024-12-10T00:00:00"
          ],
          [
           "ICE",
           "2024-12-30T00:00:00"
          ],
          [
           "ABNB",
           "2024-12-26T00:00:00"
          ],
          [
           "INCY",
           "2024-12-13T00:00:00"
          ],
          [
           "VTRS",
           "2024-12-20T00:00:00"
          ],
          [
           "STX",
           "2024-12-19T00:00:00"
          ],
          [
           "NXPI",
           "2024-12-09T00:00:00"
          ],
          [
           "APH",
           "2024-12-27T00:00:00"
          ],
          [
           "DLR",
           "2025-01-02T00:00:00"
          ],
          [
           "AEP",
           "2024-12-13T00:00:00"
          ],
          [
           "KMX",
           "2024-12-18T00:00:00"
          ],
          [
           "LLY",
           "2024-12-11T00:00:00"
          ],
          [
           "PLTR",
           "2024-12-17T00:00:00"
          ],
          [
           "ALL",
           "2024-12-30T00:00:00"
          ],
          [
           "CAT",
           "2024-12-27T00:00:00"
          ],
          [
           "NUE",
           "2024-12-13T00:00:00"
          ],
          [
           "NFLX",
           "2024-12-16T00:00:00"
          ],
          [
           "SOLV",
           "2024-12-23T00:00:00"
          ],
          [
           "WEC",
           "2024-12-20T00:00:00"
          ],
          [
           "MAS",
           "2024-12-20T00:00:00"
          ],
          [
           "NVDA",
           "2024-12-19T00:00:00"
          ],
          [
           "HRL",
           "2024-12-23T00:00:00"
          ],
          [
           "JCI",
           "2024-12-17T00:00:00"
          ],
          [
           "BSX",
           "2024-12-31T00:00:00"
          ],
          [
           "NDAQ",
           "2024-12-27T00:00:00"
          ],
          [
           "DE",
           "2025-01-02T00:00:00"
          ],
          [
           "EPAM",
           "2024-12-12T00:00:00"
          ],
          [
           "AME",
           "2024-12-23T00:00:00"
          ],
          [
           "ABT",
           "2024-12-11T00:00:00"
          ],
          [
           "SYY",
           "2024-12-10T00:00:00"
          ],
          [
           "GLW",
           "2024-12-31T00:00:00"
          ],
          [
           "DXCM",
           "2024-12-24T00:00:00"
          ],
          [
           "CZR",
           "2024-12-27T00:00:00"
          ],
          [
           "EMN",
           "2024-12-31T00:00:00"
          ],
          [
           "ULTA",
           "2025-01-02T00:00:00"
          ],
          [
           "HLT",
           "2024-12-11T00:00:00"
          ],
          [
           "APH",
           "2024-12-24T00:00:00"
          ],
          [
           "MCK",
           "2024-12-12T00:00:00"
          ],
          [
           "MDT",
           "2024-12-23T00:00:00"
          ],
          [
           "LYV",
           "2024-12-12T00:00:00"
          ],
          [
           "LW",
           "2024-12-20T00:00:00"
          ],
          [
           "KVUE",
           "2024-12-11T00:00:00"
          ],
          [
           "AWK",
           "2024-12-27T00:00:00"
          ],
          [
           "META",
           "2024-12-18T00:00:00"
          ],
          [
           "CTRA",
           "2025-01-02T00:00:00"
          ],
          [
           "CNC",
           "2024-12-27T00:00:00"
          ],
          [
           "WDAY",
           "2024-12-16T00:00:00"
          ],
          [
           "GL",
           "2024-12-20T00:00:00"
          ],
          [
           "WYNN",
           "2024-12-19T00:00:00"
          ],
          [
           "COST",
           "2024-12-30T00:00:00"
          ],
          [
           "VLTO",
           "2024-12-23T00:00:00"
          ],
          [
           "FOX",
           "2024-12-18T00:00:00"
          ],
          [
           "LOW",
           "2024-12-20T00:00:00"
          ],
          [
           "MCK",
           "2025-01-02T00:00:00"
          ],
          [
           "SLB",
           "2024-12-27T00:00:00"
          ],
          [
           "PPG",
           "2024-12-24T00:00:00"
          ],
          [
           "FIS",
           "2024-12-09T00:00:00"
          ],
          [
           "ABNB",
           "2024-12-31T00:00:00"
          ],
          [
           "NI",
           "2024-12-13T00:00:00"
          ],
          [
           "INTU",
           "2024-12-12T00:00:00"
          ],
          [
           "JNJ",
           "2024-12-19T00:00:00"
          ],
          [
           "ROL",
           "2024-12-30T00:00:00"
          ],
          [
           "DG",
           "2024-12-31T00:00:00"
          ],
          [
           "GPC",
           "2024-12-12T00:00:00"
          ],
          [
           "EOG",
           "2025-01-02T00:00:00"
          ],
          [
           "ODFL",
           "2024-12-26T00:00:00"
          ],
          [
           "BG",
           "2024-12-09T00:00:00"
          ],
          [
           "K",
           "2024-12-31T00:00:00"
          ],
          [
           "AON",
           "2024-12-12T00:00:00"
          ],
          [
           "DHR",
           "2024-12-26T00:00:00"
          ],
          [
           "NRG",
           "2024-12-10T00:00:00"
          ],
          [
           "O",
           "2024-12-09T00:00:00"
          ],
          [
           "GRMN",
           "2024-12-31T00:00:00"
          ],
          [
           "PNR",
           "2024-12-17T00:00:00"
          ],
          [
           "AES",
           "2024-12-24T00:00:00"
          ],
          [
           "CBRE",
           "2024-12-30T00:00:00"
          ],
          [
           "EL",
           "2024-12-12T00:00:00"
          ],
          [
           "CPB",
           "2024-12-24T00:00:00"
          ],
          [
           "CPRT",
           "2024-12-20T00:00:00"
          ],
          [
           "EVRG",
           "2025-01-02T00:00:00"
          ],
          [
           "CHD",
           "2024-12-20T00:00:00"
          ],
          [
           "NWSA",
           "2025-01-02T00:00:00"
          ],
          [
           "LIN",
           "2024-12-10T00:00:00"
          ],
          [
           "WY",
           "2024-12-19T00:00:00"
          ],
          [
           "BRK-B",
           "2024-12-12T00:00:00"
          ],
          [
           "LLY",
           "2024-12-16T00:00:00"
          ],
          [
           "FE",
           "2024-12-13T00:00:00"
          ],
          [
           "CHTR",
           "2024-12-27T00:00:00"
          ],
          [
           "V",
           "2024-12-12T00:00:00"
          ],
          [
           "LYV",
           "2024-12-10T00:00:00"
          ],
          [
           "BLDR",
           "2024-12-13T00:00:00"
          ],
          [
           "WMB",
           "2024-12-27T00:00:00"
          ],
          [
           "GEHC",
           "2024-12-20T00:00:00"
          ],
          [
           "CSGP",
           "2024-12-30T00:00:00"
          ],
          [
           "MCK",
           "2024-12-17T00:00:00"
          ],
          [
           "DFS",
           "2024-12-31T00:00:00"
          ],
          [
           "TRGP",
           "2024-12-20T00:00:00"
          ],
          [
           "DTE",
           "2024-12-12T00:00:00"
          ],
          [
           "LVS",
           "2024-12-31T00:00:00"
          ],
          [
           "ADP",
           "2024-12-11T00:00:00"
          ],
          [
           "PFE",
           "2024-12-26T00:00:00"
          ],
          [
           "MPWR",
           "2024-12-23T00:00:00"
          ],
          [
           "LMT",
           "2024-12-26T00:00:00"
          ],
          [
           "LW",
           "2024-12-26T00:00:00"
          ],
          [
           "BA",
           "2024-12-23T00:00:00"
          ],
          [
           "ITW",
           "2024-12-09T00:00:00"
          ],
          [
           "WMT",
           "2024-12-09T00:00:00"
          ],
          [
           "EXPE",
           "2024-12-09T00:00:00"
          ],
          [
           "NFLX",
           "2024-12-13T00:00:00"
          ],
          [
           "AMT",
           "2024-12-09T00:00:00"
          ],
          [
           "CAG",
           "2024-12-13T00:00:00"
          ],
          [
           "DHI",
           "2024-12-23T00:00:00"
          ],
          [
           "GPC",
           "2024-12-26T00:00:00"
          ],
          [
           "WEC",
           "2024-12-16T00:00:00"
          ],
          [
           "HON",
           "2024-12-30T00:00:00"
          ],
          [
           "GDDY",
           "2024-12-18T00:00:00"
          ],
          [
           "BAX",
           "2024-12-11T00:00:00"
          ],
          [
           "TRGP",
           "2024-12-24T00:00:00"
          ],
          [
           "STT",
           "2024-12-27T00:00:00"
          ],
          [
           "MAR",
           "2024-12-09T00:00:00"
          ],
          [
           "RTX",
           "2024-12-23T00:00:00"
          ],
          [
           "ULTA",
           "2024-12-20T00:00:00"
          ],
          [
           "SNPS",
           "2024-12-11T00:00:00"
          ],
          [
           "HSY",
           "2024-12-26T00:00:00"
          ],
          [
           "EA",
           "2024-12-09T00:00:00"
          ],
          [
           "AMGN",
           "2024-12-18T00:00:00"
          ],
          [
           "TRGP",
           "2024-12-11T00:00:00"
          ],
          [
           "VTR",
           "2024-12-16T00:00:00"
          ],
          [
           "O",
           "2024-12-13T00:00:00"
          ],
          [
           "PNR",
           "2025-01-02T00:00:00"
          ],
          [
           "IVZ",
           "2024-12-16T00:00:00"
          ],
          [
           "BMY",
           "2024-12-24T00:00:00"
          ],
          [
           "CBOE",
           "2024-12-27T00:00:00"
          ],
          [
           "AFL",
           "2024-12-20T00:00:00"
          ],
          [
           "IP",
           "2024-12-13T00:00:00"
          ],
          [
           "KKR",
           "2024-12-20T00:00:00"
          ],
          [
           "GILD",
           "2024-12-20T00:00:00"
          ],
          [
           "GPC",
           "2024-12-16T00:00:00"
          ],
          [
           "LEN",
           "2024-12-17T00:00:00"
          ],
          [
           "BDX",
           "2024-12-10T00:00:00"
          ],
          [
           "UPS",
           "2024-12-27T00:00:00"
          ],
          [
           "JNJ",
           "2024-12-27T00:00:00"
          ],
          [
           "PNR",
           "2024-12-19T00:00:00"
          ],
          [
           "OTIS",
           "2024-12-30T00:00:00"
          ],
          [
           "TAP",
           "2024-12-16T00:00:00"
          ],
          [
           "CCL",
           "2024-12-11T00:00:00"
          ],
          [
           "OKE",
           "2024-12-12T00:00:00"
          ],
          [
           "TRMB",
           "2024-12-10T00:00:00"
          ],
          [
           "HBAN",
           "2024-12-30T00:00:00"
          ],
          [
           "INTU",
           "2024-12-31T00:00:00"
          ],
          [
           "UBER",
           "2024-12-12T00:00:00"
          ],
          [
           "GRMN",
           "2024-12-24T00:00:00"
          ],
          [
           "EXPD",
           "2024-12-10T00:00:00"
          ],
          [
           "EW",
           "2024-12-18T00:00:00"
          ],
          [
           "ROST",
           "2024-12-31T00:00:00"
          ],
          [
           "JNJ",
           "2024-12-26T00:00:00"
          ],
          [
           "V",
           "2024-12-24T00:00:00"
          ],
          [
           "PRU",
           "2025-01-02T00:00:00"
          ],
          [
           "GL",
           "2024-12-12T00:00:00"
          ],
          [
           "HLT",
           "2024-12-20T00:00:00"
          ],
          [
           "VICI",
           "2024-12-18T00:00:00"
          ],
          [
           "MMC",
           "2024-12-10T00:00:00"
          ],
          [
           "VICI",
           "2024-12-24T00:00:00"
          ],
          [
           "BRK-B",
           "2025-01-02T00:00:00"
          ],
          [
           "AEP",
           "2024-12-31T00:00:00"
          ],
          [
           "TFC",
           "2024-12-18T00:00:00"
          ],
          [
           "PWR",
           "2024-12-30T00:00:00"
          ],
          [
           "PGR",
           "2024-12-26T00:00:00"
          ],
          [
           "FAST",
           "2024-12-30T00:00:00"
          ],
          [
           "TXN",
           "2024-12-16T00:00:00"
          ],
          [
           "TER",
           "2024-12-20T00:00:00"
          ],
          [
           "CEG",
           "2024-12-12T00:00:00"
          ],
          [
           "AMT",
           "2024-12-12T00:00:00"
          ],
          [
           "CBOE",
           "2024-12-20T00:00:00"
          ],
          [
           "K",
           "2024-12-30T00:00:00"
          ],
          [
           "BEN",
           "2024-12-10T00:00:00"
          ],
          [
           "MSFT",
           "2024-12-18T00:00:00"
          ],
          [
           "NEE",
           "2024-12-16T00:00:00"
          ],
          [
           "IP",
           "2024-12-18T00:00:00"
          ],
          [
           "DE",
           "2024-12-13T00:00:00"
          ],
          [
           "REGN",
           "2024-12-16T00:00:00"
          ],
          [
           "DECK",
           "2024-12-20T00:00:00"
          ],
          [
           "STLD",
           "2024-12-24T00:00:00"
          ],
          [
           "F",
           "2024-12-30T00:00:00"
          ],
          [
           "ALLE",
           "2024-12-19T00:00:00"
          ],
          [
           "CRL",
           "2024-12-11T00:00:00"
          ],
          [
           "FTV",
           "2024-12-24T00:00:00"
          ],
          [
           "BWA",
           "2024-12-30T00:00:00"
          ],
          [
           "COST",
           "2024-12-12T00:00:00"
          ],
          [
           "DIS",
           "2024-12-27T00:00:00"
          ],
          [
           "PANW",
           "2024-12-09T00:00:00"
          ],
          [
           "HOLX",
           "2024-12-13T00:00:00"
          ],
          [
           "FTV",
           "2024-12-20T00:00:00"
          ],
          [
           "CAT",
           "2024-12-31T00:00:00"
          ],
          [
           "GLW",
           "2024-12-23T00:00:00"
          ],
          [
           "MPWR",
           "2024-12-10T00:00:00"
          ],
          [
           "LYB",
           "2024-12-31T00:00:00"
          ],
          [
           "RVTY",
           "2024-12-19T00:00:00"
          ],
          [
           "PG",
           "2024-12-11T00:00:00"
          ],
          [
           "K",
           "2024-12-27T00:00:00"
          ],
          [
           "K",
           "2024-12-12T00:00:00"
          ],
          [
           "ADI",
           "2024-12-10T00:00:00"
          ],
          [
           "NXPI",
           "2024-12-27T00:00:00"
          ],
          [
           "DOW",
           "2024-12-23T00:00:00"
          ],
          [
           "IVZ",
           "2025-01-02T00:00:00"
          ],
          [
           "BKR",
           "2024-12-12T00:00:00"
          ],
          [
           "CHTR",
           "2024-12-13T00:00:00"
          ],
          [
           "FOX",
           "2024-12-19T00:00:00"
          ],
          [
           "NUE",
           "2024-12-11T00:00:00"
          ],
          [
           "DE",
           "2024-12-18T00:00:00"
          ],
          [
           "BSX",
           "2024-12-19T00:00:00"
          ],
          [
           "FOX",
           "2025-01-02T00:00:00"
          ],
          [
           "HCA",
           "2024-12-12T00:00:00"
          ],
          [
           "C",
           "2024-12-18T00:00:00"
          ],
          [
           "MAR",
           "2024-12-13T00:00:00"
          ],
          [
           "MTB",
           "2024-12-24T00:00:00"
          ],
          [
           "NWSA",
           "2024-12-12T00:00:00"
          ],
          [
           "MMC",
           "2024-12-12T00:00:00"
          ],
          [
           "ADSK",
           "2024-12-27T00:00:00"
          ],
          [
           "WAB",
           "2024-12-16T00:00:00"
          ],
          [
           "BEN",
           "2024-12-16T00:00:00"
          ],
          [
           "AKAM",
           "2024-12-30T00:00:00"
          ],
          [
           "MGM",
           "2024-12-19T00:00:00"
          ],
          [
           "KDP",
           "2025-01-02T00:00:00"
          ],
          [
           "TRMB",
           "2024-12-13T00:00:00"
          ],
          [
           "HES",
           "2024-12-31T00:00:00"
          ],
          [
           "PLTR",
           "2024-12-26T00:00:00"
          ],
          [
           "BRO",
           "2024-12-23T00:00:00"
          ],
          [
           "SWK",
           "2024-12-27T00:00:00"
          ],
          [
           "CCL",
           "2024-12-16T00:00:00"
          ],
          [
           "CLX",
           "2025-01-02T00:00:00"
          ],
          [
           "LMT",
           "2024-12-20T00:00:00"
          ],
          [
           "TJX",
           "2024-12-10T00:00:00"
          ],
          [
           "CCI",
           "2024-12-23T00:00:00"
          ],
          [
           "KKR",
           "2024-12-26T00:00:00"
          ],
          [
           "HIG",
           "2024-12-24T00:00:00"
          ],
          [
           "UPS",
           "2024-12-31T00:00:00"
          ],
          [
           "LW",
           "2024-12-10T00:00:00"
          ],
          [
           "REG",
           "2024-12-19T00:00:00"
          ],
          [
           "HBAN",
           "2024-12-11T00:00:00"
          ],
          [
           "KEYS",
           "2024-12-26T00:00:00"
          ],
          [
           "MA",
           "2024-12-17T00:00:00"
          ],
          [
           "TT",
           "2024-12-24T00:00:00"
          ],
          [
           "CL",
           "2024-12-10T00:00:00"
          ],
          [
           "CNC",
           "2024-12-30T00:00:00"
          ],
          [
           "CCL",
           "2024-12-17T00:00:00"
          ],
          [
           "CHD",
           "2024-12-09T00:00:00"
          ],
          [
           "AOS",
           "2024-12-13T00:00:00"
          ],
          [
           "RVTY",
           "2024-12-26T00:00:00"
          ],
          [
           "TRV",
           "2024-12-24T00:00:00"
          ],
          [
           "GRMN",
           "2024-12-26T00:00:00"
          ],
          [
           "MHK",
           "2024-12-11T00:00:00"
          ],
          [
           "CTAS",
           "2024-12-09T00:00:00"
          ],
          [
           "CSCO",
           "2024-12-23T00:00:00"
          ],
          [
           "ZTS",
           "2024-12-20T00:00:00"
          ],
          [
           "EL",
           "2024-12-24T00:00:00"
          ],
          [
           "FCX",
           "2024-12-30T00:00:00"
          ],
          [
           "AVGO",
           "2024-12-18T00:00:00"
          ],
          [
           "FITB",
           "2024-12-31T00:00:00"
          ],
          [
           "DELL",
           "2024-12-09T00:00:00"
          ],
          [
           "HPE",
           "2024-12-24T00:00:00"
          ],
          [
           "CTRA",
           "2024-12-13T00:00:00"
          ],
          [
           "CTRA",
           "2024-12-24T00:00:00"
          ],
          [
           "SHW",
           "2024-12-31T00:00:00"
          ],
          [
           "NI",
           "2024-12-20T00:00:00"
          ],
          [
           "HST",
           "2024-12-13T00:00:00"
          ],
          [
           "INTC",
           "2024-12-09T00:00:00"
          ],
          [
           "YUM",
           "2024-12-10T00:00:00"
          ],
          [
           "GPN",
           "2024-12-27T00:00:00"
          ],
          [
           "EOG",
           "2024-12-18T00:00:00"
          ],
          [
           "APA",
           "2024-12-10T00:00:00"
          ],
          [
           "UBER",
           "2024-12-20T00:00:00"
          ],
          [
           "CNP",
           "2024-12-16T00:00:00"
          ],
          [
           "TXN",
           "2024-12-11T00:00:00"
          ],
          [
           "EQR",
           "2024-12-20T00:00:00"
          ],
          [
           "YUM",
           "2024-12-24T00:00:00"
          ],
          [
           "A",
           "2024-12-24T00:00:00"
          ],
          [
           "MPWR",
           "2024-12-20T00:00:00"
          ],
          [
           "MAS",
           "2024-12-31T00:00:00"
          ],
          [
           "EVRG",
           "2024-12-23T00:00:00"
          ],
          [
           "LUV",
           "2024-12-12T00:00:00"
          ],
          [
           "DIS",
           "2024-12-16T00:00:00"
          ],
          [
           "KDP",
           "2024-12-18T00:00:00"
          ],
          [
           "AWK",
           "2024-12-16T00:00:00"
          ],
          [
           "DVN",
           "2024-12-23T00:00:00"
          ],
          [
           "PCG",
           "2024-12-10T00:00:00"
          ],
          [
           "GPC",
           "2024-12-13T00:00:00"
          ],
          [
           "ACN",
           "2024-12-26T00:00:00"
          ],
          [
           "INTU",
           "2024-12-18T00:00:00"
          ],
          [
           "PWR",
           "2024-12-18T00:00:00"
          ],
          [
           "INVH",
           "2024-12-10T00:00:00"
          ],
          [
           "LVS",
           "2024-12-10T00:00:00"
          ],
          [
           "FAST",
           "2024-12-17T00:00:00"
          ],
          [
           "ISRG",
           "2024-12-27T00:00:00"
          ],
          [
           "T",
           "2025-01-02T00:00:00"
          ],
          [
           "BWA",
           "2024-12-16T00:00:00"
          ],
          [
           "LOW",
           "2025-01-02T00:00:00"
          ],
          [
           "GLW",
           "2024-12-16T00:00:00"
          ],
          [
           "MTCH",
           "2024-12-18T00:00:00"
          ],
          [
           "HRL",
           "2024-12-27T00:00:00"
          ],
          [
           "CMCSA",
           "2024-12-09T00:00:00"
          ],
          [
           "ADM",
           "2024-12-10T00:00:00"
          ],
          [
           "PNR",
           "2024-12-13T00:00:00"
          ],
          [
           "VTR",
           "2024-12-09T00:00:00"
          ],
          [
           "NWSA",
           "2024-12-20T00:00:00"
          ],
          [
           "PFG",
           "2024-12-30T00:00:00"
          ],
          [
           "KEY",
           "2025-01-02T00:00:00"
          ],
          [
           "NSC",
           "2024-12-12T00:00:00"
          ],
          [
           "EXPE",
           "2024-12-16T00:00:00"
          ],
          [
           "STZ",
           "2025-01-02T00:00:00"
          ],
          [
           "MNST",
           "2024-12-26T00:00:00"
          ],
          [
           "MPWR",
           "2024-12-17T00:00:00"
          ],
          [
           "OTIS",
           "2024-12-17T00:00:00"
          ],
          [
           "CPRT",
           "2024-12-18T00:00:00"
          ],
          [
           "FOXA",
           "2024-12-20T00:00:00"
          ],
          [
           "ES",
           "2024-12-31T00:00:00"
          ],
          [
           "PM",
           "2025-01-02T00:00:00"
          ],
          [
           "EL",
           "2024-12-18T00:00:00"
          ],
          [
           "NCLH",
           "2024-12-23T00:00:00"
          ],
          [
           "STX",
           "2024-12-09T00:00:00"
          ],
          [
           "TMO",
           "2024-12-09T00:00:00"
          ],
          [
           "NDAQ",
           "2024-12-17T00:00:00"
          ],
          [
           "INTU",
           "2024-12-17T00:00:00"
          ],
          [
           "PFE",
           "2024-12-16T00:00:00"
          ],
          [
           "INVH",
           "2025-01-02T00:00:00"
          ],
          [
           "CE",
           "2024-12-19T00:00:00"
          ],
          [
           "PNW",
           "2024-12-19T00:00:00"
          ],
          [
           "XYL",
           "2024-12-30T00:00:00"
          ],
          [
           "ADM",
           "2024-12-26T00:00:00"
          ],
          [
           "HD",
           "2025-01-02T00:00:00"
          ],
          [
           "DXCM",
           "2024-12-23T00:00:00"
          ],
          [
           "EVRG",
           "2024-12-16T00:00:00"
          ],
          [
           "HOLX",
           "2024-12-27T00:00:00"
          ],
          [
           "COR",
           "2025-01-02T00:00:00"
          ],
          [
           "IFF",
           "2024-12-24T00:00:00"
          ],
          [
           "HPE",
           "2024-12-23T00:00:00"
          ],
          [
           "GEHC",
           "2024-12-09T00:00:00"
          ],
          [
           "QCOM",
           "2024-12-23T00:00:00"
          ],
          [
           "KO",
           "2024-12-26T00:00:00"
          ],
          [
           "CAG",
           "2024-12-20T00:00:00"
          ],
          [
           "BDX",
           "2024-12-16T00:00:00"
          ],
          [
           "DIS",
           "2024-12-23T00:00:00"
          ],
          [
           "GOOGL",
           "2024-12-16T00:00:00"
          ],
          [
           "ROST",
           "2025-01-02T00:00:00"
          ],
          [
           "FMC",
           "2024-12-17T00:00:00"
          ],
          [
           "WELL",
           "2024-12-16T00:00:00"
          ],
          [
           "CRM",
           "2024-12-12T00:00:00"
          ],
          [
           "SYK",
           "2024-12-17T00:00:00"
          ],
          [
           "QCOM",
           "2024-12-17T00:00:00"
          ],
          [
           "SRE",
           "2024-12-24T00:00:00"
          ],
          [
           "EW",
           "2024-12-13T00:00:00"
          ],
          [
           "BAC",
           "2024-12-18T00:00:00"
          ],
          [
           "CSCO",
           "2025-01-02T00:00:00"
          ],
          [
           "ROL",
           "2024-12-13T00:00:00"
          ],
          [
           "T",
           "2024-12-30T00:00:00"
          ],
          [
           "CPRT",
           "2024-12-31T00:00:00"
          ],
          [
           "MSFT",
           "2024-12-23T00:00:00"
          ],
          [
           "SYY",
           "2024-12-31T00:00:00"
          ],
          [
           "WDAY",
           "2024-12-17T00:00:00"
          ],
          [
           "DHR",
           "2024-12-09T00:00:00"
          ],
          [
           "HBAN",
           "2024-12-31T00:00:00"
          ],
          [
           "REG",
           "2024-12-18T00:00:00"
          ],
          [
           "PARA",
           "2024-12-30T00:00:00"
          ],
          [
           "LRCX",
           "2025-01-02T00:00:00"
          ],
          [
           "ES",
           "2024-12-12T00:00:00"
          ],
          [
           "MMM",
           "2024-12-10T00:00:00"
          ],
          [
           "MDLZ",
           "2024-12-26T00:00:00"
          ],
          [
           "LULU",
           "2024-12-19T00:00:00"
          ],
          [
           "NOC",
           "2024-12-16T00:00:00"
          ],
          [
           "ARE",
           "2024-12-11T00:00:00"
          ],
          [
           "HST",
           "2024-12-16T00:00:00"
          ],
          [
           "PEP",
           "2025-01-02T00:00:00"
          ],
          [
           "PG",
           "2024-12-26T00:00:00"
          ],
          [
           "PGR",
           "2024-12-20T00:00:00"
          ],
          [
           "TXT",
           "2024-12-17T00:00:00"
          ],
          [
           "CMCSA",
           "2024-12-18T00:00:00"
          ],
          [
           "TXN",
           "2024-12-27T00:00:00"
          ],
          [
           "AKAM",
           "2024-12-17T00:00:00"
          ],
          [
           "SBUX",
           "2024-12-19T00:00:00"
          ],
          [
           "SYY",
           "2024-12-27T00:00:00"
          ],
          [
           "ODFL",
           "2024-12-12T00:00:00"
          ],
          [
           "BAC",
           "2024-12-19T00:00:00"
          ],
          [
           "NOC",
           "2024-12-19T00:00:00"
          ],
          [
           "WAB",
           "2024-12-19T00:00:00"
          ],
          [
           "DLTR",
           "2024-12-27T00:00:00"
          ],
          [
           "MMM",
           "2024-12-13T00:00:00"
          ],
          [
           "DXCM",
           "2024-12-09T00:00:00"
          ],
          [
           "REGN",
           "2024-12-27T00:00:00"
          ],
          [
           "COO",
           "2024-12-18T00:00:00"
          ],
          [
           "D",
           "2024-12-23T00:00:00"
          ],
          [
           "HRL",
           "2024-12-24T00:00:00"
          ],
          [
           "PCG",
           "2024-12-09T00:00:00"
          ],
          [
           "SMCI",
           "2024-12-09T00:00:00"
          ],
          [
           "GEHC",
           "2024-12-16T00:00:00"
          ],
          [
           "ETN",
           "2024-12-26T00:00:00"
          ],
          [
           "ALB",
           "2024-12-13T00:00:00"
          ],
          [
           "L",
           "2024-12-16T00:00:00"
          ],
          [
           "APH",
           "2024-12-09T00:00:00"
          ],
          [
           "CMS",
           "2024-12-30T00:00:00"
          ],
          [
           "AMT",
           "2024-12-19T00:00:00"
          ],
          [
           "EW",
           "2024-12-20T00:00:00"
          ],
          [
           "HPQ",
           "2024-12-20T00:00:00"
          ],
          [
           "DLR",
           "2024-12-11T00:00:00"
          ],
          [
           "TSCO",
           "2024-12-13T00:00:00"
          ],
          [
           "GEHC",
           "2024-12-19T00:00:00"
          ],
          [
           "EFX",
           "2024-12-10T00:00:00"
          ],
          [
           "LYB",
           "2024-12-13T00:00:00"
          ],
          [
           "SW",
           "2024-12-30T00:00:00"
          ],
          [
           "SYK",
           "2024-12-19T00:00:00"
          ],
          [
           "AJG",
           "2024-12-24T00:00:00"
          ],
          [
           "CVS",
           "2024-12-27T00:00:00"
          ],
          [
           "LUV",
           "2024-12-30T00:00:00"
          ],
          [
           "STX",
           "2024-12-10T00:00:00"
          ],
          [
           "HPQ",
           "2024-12-10T00:00:00"
          ],
          [
           "ETN",
           "2024-12-24T00:00:00"
          ],
          [
           "KHC",
           "2024-12-11T00:00:00"
          ],
          [
           "MS",
           "2024-12-09T00:00:00"
          ],
          [
           "EA",
           "2024-12-16T00:00:00"
          ],
          [
           "STZ",
           "2024-12-27T00:00:00"
          ],
          [
           "VTR",
           "2024-12-20T00:00:00"
          ],
          [
           "EQR",
           "2024-12-11T00:00:00"
          ],
          [
           "HPE",
           "2024-12-11T00:00:00"
          ],
          [
           "FITB",
           "2024-12-17T00:00:00"
          ],
          [
           "TMUS",
           "2024-12-27T00:00:00"
          ],
          [
           "NSC",
           "2024-12-19T00:00:00"
          ],
          [
           "CE",
           "2025-01-02T00:00:00"
          ],
          [
           "TXT",
           "2024-12-27T00:00:00"
          ],
          [
           "LVS",
           "2024-12-18T00:00:00"
          ],
          [
           "FOXA",
           "2024-12-11T00:00:00"
          ],
          [
           "SLB",
           "2024-12-12T00:00:00"
          ],
          [
           "CBOE",
           "2024-12-30T00:00:00"
          ],
          [
           "PEP",
           "2024-12-16T00:00:00"
          ],
          [
           "ABBV",
           "2025-01-02T00:00:00"
          ],
          [
           "FOXA",
           "2024-12-24T00:00:00"
          ],
          [
           "RJF",
           "2024-12-30T00:00:00"
          ],
          [
           "MOS",
           "2024-12-17T00:00:00"
          ],
          [
           "ALL",
           "2024-12-24T00:00:00"
          ],
          [
           "INTU",
           "2024-12-27T00:00:00"
          ],
          [
           "PANW",
           "2024-12-11T00:00:00"
          ],
          [
           "BWA",
           "2024-12-17T00:00:00"
          ],
          [
           "GILD",
           "2024-12-26T00:00:00"
          ],
          [
           "GEV",
           "2024-12-23T00:00:00"
          ],
          [
           "FITB",
           "2024-12-12T00:00:00"
          ],
          [
           "RSG",
           "2024-12-10T00:00:00"
          ],
          [
           "PFG",
           "2024-12-09T00:00:00"
          ],
          [
           "CNC",
           "2024-12-12T00:00:00"
          ],
          [
           "NRG",
           "2024-12-13T00:00:00"
          ],
          [
           "UDR",
           "2024-12-23T00:00:00"
          ],
          [
           "ON",
           "2024-12-20T00:00:00"
          ],
          [
           "CHD",
           "2024-12-12T00:00:00"
          ],
          [
           "WY",
           "2024-12-24T00:00:00"
          ],
          [
           "OTIS",
           "2024-12-26T00:00:00"
          ],
          [
           "UBER",
           "2025-01-02T00:00:00"
          ],
          [
           "UBER",
           "2024-12-31T00:00:00"
          ],
          [
           "IRM",
           "2024-12-10T00:00:00"
          ],
          [
           "PCAR",
           "2024-12-30T00:00:00"
          ],
          [
           "LIN",
           "2024-12-17T00:00:00"
          ],
          [
           "FCX",
           "2024-12-19T00:00:00"
          ],
          [
           "MO",
           "2024-12-20T00:00:00"
          ],
          [
           "PAYX",
           "2024-12-24T00:00:00"
          ],
          [
           "WMB",
           "2024-12-24T00:00:00"
          ],
          [
           "HES",
           "2024-12-10T00:00:00"
          ],
          [
           "BRK-B",
           "2024-12-20T00:00:00"
          ],
          [
           "USB",
           "2024-12-20T00:00:00"
          ],
          [
           "MMM",
           "2024-12-23T00:00:00"
          ],
          [
           "DOC",
           "2024-12-26T00:00:00"
          ],
          [
           "STT",
           "2024-12-18T00:00:00"
          ],
          [
           "GD",
           "2024-12-24T00:00:00"
          ],
          [
           "CL",
           "2024-12-13T00:00:00"
          ],
          [
           "AXON",
           "2024-12-31T00:00:00"
          ],
          [
           "ETN",
           "2024-12-31T00:00:00"
          ],
          [
           "UBER",
           "2024-12-11T00:00:00"
          ],
          [
           "MMM",
           "2024-12-19T00:00:00"
          ],
          [
           "C",
           "2024-12-11T00:00:00"
          ],
          [
           "LYB",
           "2024-12-26T00:00:00"
          ],
          [
           "ENPH",
           "2025-01-02T00:00:00"
          ],
          [
           "SOLV",
           "2024-12-18T00:00:00"
          ],
          [
           "CBOE",
           "2024-12-10T00:00:00"
          ],
          [
           "AMGN",
           "2024-12-20T00:00:00"
          ],
          [
           "KMB",
           "2024-12-18T00:00:00"
          ],
          [
           "RCL",
           "2024-12-11T00:00:00"
          ],
          [
           "BSX",
           "2024-12-20T00:00:00"
          ],
          [
           "FI",
           "2024-12-18T00:00:00"
          ],
          [
           "CSX",
           "2024-12-24T00:00:00"
          ],
          [
           "ZTS",
           "2024-12-31T00:00:00"
          ],
          [
           "KDP",
           "2024-12-13T00:00:00"
          ],
          [
           "EPAM",
           "2024-12-24T00:00:00"
          ],
          [
           "DHI",
           "2024-12-19T00:00:00"
          ],
          [
           "HOLX",
           "2024-12-16T00:00:00"
          ],
          [
           "PYPL",
           "2024-12-23T00:00:00"
          ],
          [
           "AFL",
           "2024-12-23T00:00:00"
          ],
          [
           "ROST",
           "2024-12-19T00:00:00"
          ],
          [
           "TRV",
           "2024-12-19T00:00:00"
          ],
          [
           "FANG",
           "2024-12-23T00:00:00"
          ],
          [
           "MDT",
           "2024-12-31T00:00:00"
          ],
          [
           "LRCX",
           "2024-12-19T00:00:00"
          ],
          [
           "BSX",
           "2024-12-10T00:00:00"
          ],
          [
           "GD",
           "2024-12-17T00:00:00"
          ],
          [
           "MDLZ",
           "2024-12-24T00:00:00"
          ],
          [
           "FAST",
           "2025-01-02T00:00:00"
          ],
          [
           "UDR",
           "2024-12-26T00:00:00"
          ],
          [
           "OTIS",
           "2024-12-31T00:00:00"
          ],
          [
           "TGT",
           "2024-12-09T00:00:00"
          ],
          [
           "HBAN",
           "2024-12-17T00:00:00"
          ],
          [
           "APO",
           "2024-12-30T00:00:00"
          ],
          [
           "IQV",
           "2024-12-13T00:00:00"
          ],
          [
           "CHD",
           "2024-12-31T00:00:00"
          ],
          [
           "AEE",
           "2024-12-16T00:00:00"
          ],
          [
           "XEL",
           "2024-12-09T00:00:00"
          ],
          [
           "CDNS",
           "2025-01-02T00:00:00"
          ],
          [
           "PEG",
           "2024-12-16T00:00:00"
          ],
          [
           "KMX",
           "2024-12-12T00:00:00"
          ],
          [
           "PSX",
           "2024-12-31T00:00:00"
          ],
          [
           "DUK",
           "2024-12-19T00:00:00"
          ],
          [
           "MSFT",
           "2024-12-09T00:00:00"
          ],
          [
           "YUM",
           "2024-12-23T00:00:00"
          ],
          [
           "EQT",
           "2024-12-09T00:00:00"
          ],
          [
           "AKAM",
           "2024-12-09T00:00:00"
          ],
          [
           "MSFT",
           "2024-12-20T00:00:00"
          ],
          [
           "CBOE",
           "2024-12-18T00:00:00"
          ],
          [
           "NKE",
           "2024-12-10T00:00:00"
          ],
          [
           "HES",
           "2024-12-11T00:00:00"
          ],
          [
           "NFLX",
           "2024-12-27T00:00:00"
          ],
          [
           "EQT",
           "2024-12-26T00:00:00"
          ],
          [
           "FDX",
           "2024-12-12T00:00:00"
          ],
          [
           "PWR",
           "2024-12-24T00:00:00"
          ],
          [
           "DRI",
           "2024-12-10T00:00:00"
          ],
          [
           "AES",
           "2024-12-16T00:00:00"
          ],
          [
           "ALL",
           "2024-12-12T00:00:00"
          ],
          [
           "BALL",
           "2024-12-30T00:00:00"
          ],
          [
           "SNPS",
           "2024-12-09T00:00:00"
          ],
          [
           "NEM",
           "2024-12-31T00:00:00"
          ],
          [
           "REGN",
           "2024-12-20T00:00:00"
          ],
          [
           "LIN",
           "2024-12-23T00:00:00"
          ],
          [
           "UPS",
           "2025-01-02T00:00:00"
          ],
          [
           "LHX",
           "2024-12-19T00:00:00"
          ],
          [
           "NOC",
           "2025-01-02T00:00:00"
          ],
          [
           "ICE",
           "2024-12-24T00:00:00"
          ],
          [
           "BAX",
           "2024-12-13T00:00:00"
          ],
          [
           "VTR",
           "2024-12-10T00:00:00"
          ],
          [
           "JNPR",
           "2024-12-09T00:00:00"
          ],
          [
           "ISRG",
           "2024-12-26T00:00:00"
          ],
          [
           "FTV",
           "2024-12-11T00:00:00"
          ],
          [
           "DIS",
           "2024-12-18T00:00:00"
          ],
          [
           "WRB",
           "2024-12-19T00:00:00"
          ],
          [
           "ADI",
           "2024-12-16T00:00:00"
          ],
          [
           "EPAM",
           "2024-12-16T00:00:00"
          ],
          [
           "YUM",
           "2024-12-19T00:00:00"
          ],
          [
           "UNP",
           "2024-12-19T00:00:00"
          ],
          [
           "CME",
           "2024-12-16T00:00:00"
          ],
          [
           "EVRG",
           "2024-12-31T00:00:00"
          ],
          [
           "HLT",
           "2024-12-17T00:00:00"
          ],
          [
           "HPQ",
           "2024-12-27T00:00:00"
          ],
          [
           "DRI",
           "2024-12-19T00:00:00"
          ],
          [
           "DG",
           "2024-12-19T00:00:00"
          ],
          [
           "BIIB",
           "2024-12-18T00:00:00"
          ],
          [
           "IVZ",
           "2024-12-26T00:00:00"
          ],
          [
           "SPG",
           "2024-12-17T00:00:00"
          ],
          [
           "LUV",
           "2025-01-02T00:00:00"
          ],
          [
           "DOW",
           "2024-12-31T00:00:00"
          ],
          [
           "KHC",
           "2024-12-20T00:00:00"
          ],
          [
           "EBAY",
           "2024-12-18T00:00:00"
          ],
          [
           "EA",
           "2025-01-02T00:00:00"
          ],
          [
           "PSX",
           "2024-12-26T00:00:00"
          ],
          [
           "FDX",
           "2024-12-27T00:00:00"
          ],
          [
           "DD",
           "2024-12-12T00:00:00"
          ],
          [
           "JNPR",
           "2024-12-20T00:00:00"
          ],
          [
           "SYK",
           "2024-12-10T00:00:00"
          ],
          [
           "SNPS",
           "2024-12-23T00:00:00"
          ],
          [
           "TAP",
           "2024-12-13T00:00:00"
          ],
          [
           "REG",
           "2024-12-16T00:00:00"
          ],
          [
           "PPG",
           "2024-12-20T00:00:00"
          ],
          [
           "AJG",
           "2024-12-26T00:00:00"
          ],
          [
           "MHK",
           "2024-12-26T00:00:00"
          ],
          [
           "GL",
           "2024-12-26T00:00:00"
          ],
          [
           "BLDR",
           "2024-12-18T00:00:00"
          ],
          [
           "AIG",
           "2024-12-31T00:00:00"
          ],
          [
           "LW",
           "2024-12-09T00:00:00"
          ],
          [
           "TT",
           "2024-12-10T00:00:00"
          ],
          [
           "TGT",
           "2024-12-31T00:00:00"
          ],
          [
           "SMCI",
           "2025-01-02T00:00:00"
          ],
          [
           "AJG",
           "2024-12-10T00:00:00"
          ],
          [
           "C",
           "2024-12-09T00:00:00"
          ],
          [
           "COR",
           "2024-12-18T00:00:00"
          ],
          [
           "MCK",
           "2024-12-24T00:00:00"
          ],
          [
           "CSCO",
           "2024-12-18T00:00:00"
          ],
          [
           "LLY",
           "2024-12-27T00:00:00"
          ],
          [
           "PHM",
           "2024-12-13T00:00:00"
          ],
          [
           "DG",
           "2024-12-30T00:00:00"
          ],
          [
           "AMCR",
           "2024-12-24T00:00:00"
          ],
          [
           "IFF",
           "2024-12-09T00:00:00"
          ],
          [
           "CSCO",
           "2024-12-11T00:00:00"
          ],
          [
           "CNC",
           "2024-12-18T00:00:00"
          ],
          [
           "CSX",
           "2024-12-13T00:00:00"
          ],
          [
           "ULTA",
           "2024-12-12T00:00:00"
          ],
          [
           "TMUS",
           "2024-12-23T00:00:00"
          ],
          [
           "CRM",
           "2024-12-17T00:00:00"
          ],
          [
           "MMC",
           "2024-12-30T00:00:00"
          ],
          [
           "PG",
           "2024-12-18T00:00:00"
          ],
          [
           "EL",
           "2024-12-13T00:00:00"
          ],
          [
           "NI",
           "2024-12-19T00:00:00"
          ],
          [
           "CEG",
           "2024-12-26T00:00:00"
          ],
          [
           "APH",
           "2024-12-13T00:00:00"
          ],
          [
           "FSLR",
           "2024-12-18T00:00:00"
          ],
          [
           "PNC",
           "2024-12-17T00:00:00"
          ],
          [
           "JCI",
           "2024-12-11T00:00:00"
          ],
          [
           "CL",
           "2024-12-24T00:00:00"
          ],
          [
           "TXN",
           "2024-12-26T00:00:00"
          ],
          [
           "DUK",
           "2024-12-17T00:00:00"
          ],
          [
           "TROW",
           "2024-12-10T00:00:00"
          ],
          [
           "HWM",
           "2024-12-24T00:00:00"
          ],
          [
           "UNH",
           "2024-12-30T00:00:00"
          ],
          [
           "ALLE",
           "2024-12-11T00:00:00"
          ],
          [
           "APTV",
           "2024-12-10T00:00:00"
          ],
          [
           "PWR",
           "2024-12-11T00:00:00"
          ],
          [
           "KVUE",
           "2024-12-24T00:00:00"
          ],
          [
           "KIM",
           "2024-12-23T00:00:00"
          ],
          [
           "INTU",
           "2024-12-13T00:00:00"
          ],
          [
           "VLTO",
           "2024-12-10T00:00:00"
          ],
          [
           "WM",
           "2024-12-30T00:00:00"
          ],
          [
           "DFS",
           "2024-12-30T00:00:00"
          ],
          [
           "TMO",
           "2024-12-19T00:00:00"
          ],
          [
           "T",
           "2024-12-26T00:00:00"
          ],
          [
           "IBM",
           "2024-12-13T00:00:00"
          ],
          [
           "ON",
           "2024-12-26T00:00:00"
          ],
          [
           "TRMB",
           "2024-12-11T00:00:00"
          ],
          [
           "FSLR",
           "2024-12-20T00:00:00"
          ],
          [
           "SBUX",
           "2024-12-31T00:00:00"
          ],
          [
           "CRL",
           "2024-12-27T00:00:00"
          ],
          [
           "WFC",
           "2024-12-17T00:00:00"
          ],
          [
           "ABNB",
           "2025-01-02T00:00:00"
          ],
          [
           "SWKS",
           "2024-12-18T00:00:00"
          ],
          [
           "PNR",
           "2024-12-12T00:00:00"
          ],
          [
           "HUM",
           "2024-12-10T00:00:00"
          ],
          [
           "WFC",
           "2024-12-26T00:00:00"
          ],
          [
           "GPN",
           "2024-12-31T00:00:00"
          ],
          [
           "LHX",
           "2024-12-10T00:00:00"
          ],
          [
           "CSCO",
           "2024-12-09T00:00:00"
          ],
          [
           "META",
           "2024-12-26T00:00:00"
          ],
          [
           "ZTS",
           "2024-12-24T00:00:00"
          ],
          [
           "PFE",
           "2024-12-13T00:00:00"
          ],
          [
           "TMO",
           "2024-12-20T00:00:00"
          ],
          [
           "SOLV",
           "2024-12-31T00:00:00"
          ],
          [
           "COO",
           "2024-12-17T00:00:00"
          ],
          [
           "ABT",
           "2025-01-02T00:00:00"
          ],
          [
           "COO",
           "2024-12-09T00:00:00"
          ],
          [
           "CCL",
           "2024-12-12T00:00:00"
          ],
          [
           "BIIB",
           "2024-12-09T00:00:00"
          ],
          [
           "TTWO",
           "2024-12-23T00:00:00"
          ],
          [
           "PANW",
           "2024-12-26T00:00:00"
          ],
          [
           "OKE",
           "2024-12-30T00:00:00"
          ],
          [
           "QCOM",
           "2024-12-30T00:00:00"
          ],
          [
           "WBA",
           "2024-12-12T00:00:00"
          ],
          [
           "TRGP",
           "2024-12-12T00:00:00"
          ],
          [
           "GS",
           "2024-12-27T00:00:00"
          ],
          [
           "COF",
           "2024-12-20T00:00:00"
          ],
          [
           "HSIC",
           "2024-12-12T00:00:00"
          ],
          [
           "FSLR",
           "2024-12-09T00:00:00"
          ],
          [
           "FDX",
           "2024-12-16T00:00:00"
          ],
          [
           "TMUS",
           "2024-12-30T00:00:00"
          ],
          [
           "XYL",
           "2024-12-20T00:00:00"
          ],
          [
           "TROW",
           "2024-12-17T00:00:00"
          ],
          [
           "F",
           "2024-12-31T00:00:00"
          ],
          [
           "BAX",
           "2024-12-16T00:00:00"
          ],
          [
           "VTR",
           "2024-12-23T00:00:00"
          ],
          [
           "WDAY",
           "2024-12-26T00:00:00"
          ],
          [
           "COF",
           "2024-12-09T00:00:00"
          ],
          [
           "CCI",
           "2025-01-02T00:00:00"
          ],
          [
           "KMI",
           "2024-12-31T00:00:00"
          ],
          [
           "AMZN",
           "2024-12-11T00:00:00"
          ],
          [
           "BKR",
           "2024-12-13T00:00:00"
          ],
          [
           "VICI",
           "2024-12-12T00:00:00"
          ],
          [
           "DAY",
           "2024-12-17T00:00:00"
          ],
          [
           "ROK",
           "2024-12-17T00:00:00"
          ],
          [
           "MMC",
           "2024-12-09T00:00:00"
          ],
          [
           "MMC",
           "2025-01-02T00:00:00"
          ],
          [
           "TXN",
           "2024-12-09T00:00:00"
          ],
          [
           "PLD",
           "2024-12-13T00:00:00"
          ],
          [
           "HWM",
           "2024-12-23T00:00:00"
          ],
          [
           "IBM",
           "2024-12-10T00:00:00"
          ],
          [
           "LNT",
           "2025-01-02T00:00:00"
          ],
          [
           "IR",
           "2024-12-11T00:00:00"
          ],
          [
           "WY",
           "2024-12-10T00:00:00"
          ],
          [
           "ALLE",
           "2024-12-24T00:00:00"
          ],
          [
           "NOC",
           "2024-12-12T00:00:00"
          ],
          [
           "DGX",
           "2024-12-26T00:00:00"
          ],
          [
           "MSFT",
           "2024-12-12T00:00:00"
          ],
          [
           "IPG",
           "2024-12-24T00:00:00"
          ],
          [
           "LMT",
           "2024-12-09T00:00:00"
          ],
          [
           "REG",
           "2024-12-30T00:00:00"
          ],
          [
           "WM",
           "2024-12-13T00:00:00"
          ],
          [
           "MDT",
           "2024-12-30T00:00:00"
          ],
          [
           "WMT",
           "2024-12-10T00:00:00"
          ],
          [
           "DAL",
           "2024-12-18T00:00:00"
          ],
          [
           "DXCM",
           "2024-12-30T00:00:00"
          ],
          [
           "WMT",
           "2024-12-26T00:00:00"
          ],
          [
           "LOW",
           "2024-12-11T00:00:00"
          ],
          [
           "FIS",
           "2024-12-16T00:00:00"
          ],
          [
           "PCAR",
           "2024-12-18T00:00:00"
          ],
          [
           "DLTR",
           "2024-12-24T00:00:00"
          ],
          [
           "PFG",
           "2024-12-13T00:00:00"
          ],
          [
           "ADI",
           "2024-12-17T00:00:00"
          ],
          [
           "DLR",
           "2024-12-20T00:00:00"
          ],
          [
           "MKC",
           "2024-12-27T00:00:00"
          ],
          [
           "GL",
           "2024-12-23T00:00:00"
          ],
          [
           "FDX",
           "2024-12-24T00:00:00"
          ],
          [
           "CAG",
           "2024-12-30T00:00:00"
          ],
          [
           "LOW",
           "2024-12-19T00:00:00"
          ],
          [
           "EXPD",
           "2024-12-26T00:00:00"
          ],
          [
           "MA",
           "2024-12-23T00:00:00"
          ],
          [
           "KR",
           "2024-12-20T00:00:00"
          ],
          [
           "LEN",
           "2024-12-12T00:00:00"
          ],
          [
           "AMCR",
           "2024-12-11T00:00:00"
          ],
          [
           "LVS",
           "2024-12-19T00:00:00"
          ],
          [
           "CMI",
           "2024-12-23T00:00:00"
          ],
          [
           "MCHP",
           "2024-12-11T00:00:00"
          ],
          [
           "DE",
           "2024-12-26T00:00:00"
          ],
          [
           "DFS",
           "2024-12-20T00:00:00"
          ],
          [
           "EMR",
           "2024-12-31T00:00:00"
          ],
          [
           "CI",
           "2024-12-17T00:00:00"
          ],
          [
           "EOG",
           "2024-12-31T00:00:00"
          ],
          [
           "UNP",
           "2024-12-12T00:00:00"
          ],
          [
           "APH",
           "2024-12-19T00:00:00"
          ],
          [
           "SBUX",
           "2024-12-26T00:00:00"
          ],
          [
           "NFLX",
           "2024-12-17T00:00:00"
          ],
          [
           "CVS",
           "2024-12-23T00:00:00"
          ],
          [
           "VZ",
           "2024-12-17T00:00:00"
          ],
          [
           "AXP",
           "2024-12-26T00:00:00"
          ],
          [
           "PCAR",
           "2024-12-23T00:00:00"
          ],
          [
           "MRK",
           "2024-12-11T00:00:00"
          ],
          [
           "AOS",
           "2024-12-27T00:00:00"
          ],
          [
           "MHK",
           "2024-12-23T00:00:00"
          ],
          [
           "DLR",
           "2024-12-31T00:00:00"
          ],
          [
           "WYNN",
           "2024-12-17T00:00:00"
          ],
          [
           "SCHW",
           "2024-12-24T00:00:00"
          ],
          [
           "ZBH",
           "2024-12-31T00:00:00"
          ],
          [
           "CNP",
           "2024-12-30T00:00:00"
          ],
          [
           "HSY",
           "2024-12-11T00:00:00"
          ],
          [
           "MDLZ",
           "2024-12-27T00:00:00"
          ],
          [
           "BRK-B",
           "2024-12-26T00:00:00"
          ],
          [
           "CTAS",
           "2024-12-26T00:00:00"
          ],
          [
           "LNT",
           "2024-12-11T00:00:00"
          ],
          [
           "YUM",
           "2025-01-02T00:00:00"
          ],
          [
           "CZR",
           "2024-12-23T00:00:00"
          ],
          [
           "REGN",
           "2024-12-18T00:00:00"
          ],
          [
           "TRV",
           "2024-12-13T00:00:00"
          ],
          [
           "BAX",
           "2024-12-12T00:00:00"
          ],
          [
           "GEV",
           "2024-12-12T00:00:00"
          ],
          [
           "MU",
           "2024-12-24T00:00:00"
          ],
          [
           "MMM",
           "2024-12-18T00:00:00"
          ],
          [
           "PNC",
           "2024-12-19T00:00:00"
          ],
          [
           "CDW",
           "2024-12-24T00:00:00"
          ],
          [
           "DGX",
           "2024-12-20T00:00:00"
          ],
          [
           "FTNT",
           "2024-12-19T00:00:00"
          ],
          [
           "DXCM",
           "2024-12-13T00:00:00"
          ],
          [
           "CME",
           "2024-12-31T00:00:00"
          ],
          [
           "FOXA",
           "2024-12-30T00:00:00"
          ],
          [
           "WMT",
           "2024-12-31T00:00:00"
          ],
          [
           "DFS",
           "2024-12-12T00:00:00"
          ],
          [
           "RF",
           "2024-12-26T00:00:00"
          ],
          [
           "CE",
           "2024-12-23T00:00:00"
          ],
          [
           "AEE",
           "2024-12-24T00:00:00"
          ],
          [
           "GRMN",
           "2024-12-20T00:00:00"
          ],
          [
           "QCOM",
           "2024-12-19T00:00:00"
          ],
          [
           "CPRT",
           "2024-12-26T00:00:00"
          ],
          [
           "CAT",
           "2024-12-18T00:00:00"
          ],
          [
           "CRWD",
           "2024-12-31T00:00:00"
          ],
          [
           "MHK",
           "2024-12-09T00:00:00"
          ],
          [
           "DAY",
           "2024-12-19T00:00:00"
          ],
          [
           "T",
           "2024-12-11T00:00:00"
          ],
          [
           "ED",
           "2024-12-10T00:00:00"
          ],
          [
           "GEN",
           "2024-12-09T00:00:00"
          ],
          [
           "PLD",
           "2024-12-16T00:00:00"
          ],
          [
           "FTNT",
           "2024-12-09T00:00:00"
          ],
          [
           "JNPR",
           "2024-12-27T00:00:00"
          ],
          [
           "D",
           "2024-12-24T00:00:00"
          ],
          [
           "GILD",
           "2024-12-19T00:00:00"
          ],
          [
           "CRM",
           "2024-12-09T00:00:00"
          ],
          [
           "ACN",
           "2024-12-30T00:00:00"
          ],
          [
           "CL",
           "2025-01-02T00:00:00"
          ],
          [
           "TXN",
           "2024-12-10T00:00:00"
          ],
          [
           "HON",
           "2024-12-18T00:00:00"
          ],
          [
           "ETR",
           "2024-12-18T00:00:00"
          ],
          [
           "EQR",
           "2024-12-31T00:00:00"
          ],
          [
           "NVDA",
           "2024-12-26T00:00:00"
          ],
          [
           "MSI",
           "2024-12-16T00:00:00"
          ],
          [
           "APTV",
           "2024-12-11T00:00:00"
          ],
          [
           "VLO",
           "2024-12-19T00:00:00"
          ],
          [
           "BXP",
           "2024-12-20T00:00:00"
          ],
          [
           "CHTR",
           "2024-12-18T00:00:00"
          ],
          [
           "D",
           "2024-12-26T00:00:00"
          ],
          [
           "HAL",
           "2024-12-19T00:00:00"
          ],
          [
           "BDX",
           "2024-12-12T00:00:00"
          ],
          [
           "KDP",
           "2024-12-17T00:00:00"
          ],
          [
           "HES",
           "2024-12-09T00:00:00"
          ],
          [
           "PAYX",
           "2024-12-12T00:00:00"
          ],
          [
           "KMI",
           "2024-12-24T00:00:00"
          ],
          [
           "XEL",
           "2024-12-20T00:00:00"
          ],
          [
           "MMM",
           "2024-12-31T00:00:00"
          ],
          [
           "DRI",
           "2024-12-27T00:00:00"
          ],
          [
           "BMY",
           "2024-12-17T00:00:00"
          ],
          [
           "AAPL",
           "2024-12-19T00:00:00"
          ],
          [
           "DAL",
           "2024-12-31T00:00:00"
          ],
          [
           "TSN",
           "2024-12-13T00:00:00"
          ],
          [
           "DOC",
           "2024-12-13T00:00:00"
          ],
          [
           "IBM",
           "2024-12-17T00:00:00"
          ],
          [
           "INCY",
           "2024-12-24T00:00:00"
          ],
          [
           "PSX",
           "2024-12-24T00:00:00"
          ],
          [
           "TTWO",
           "2024-12-17T00:00:00"
          ],
          [
           "BRO",
           "2024-12-20T00:00:00"
          ],
          [
           "QCOM",
           "2024-12-20T00:00:00"
          ],
          [
           "RCL",
           "2024-12-30T00:00:00"
          ],
          [
           "KEYS",
           "2024-12-11T00:00:00"
          ],
          [
           "TJX",
           "2024-12-24T00:00:00"
          ],
          [
           "TSLA",
           "2024-12-30T00:00:00"
          ],
          [
           "LNT",
           "2024-12-16T00:00:00"
          ],
          [
           "MHK",
           "2024-12-12T00:00:00"
          ],
          [
           "IFF",
           "2024-12-17T00:00:00"
          ],
          [
           "ADI",
           "2024-12-12T00:00:00"
          ],
          [
           "TPR",
           "2024-12-09T00:00:00"
          ],
          [
           "SBUX",
           "2025-01-02T00:00:00"
          ],
          [
           "PM",
           "2024-12-18T00:00:00"
          ],
          [
           "QCOM",
           "2024-12-12T00:00:00"
          ],
          [
           "AMCR",
           "2024-12-23T00:00:00"
          ],
          [
           "AMT",
           "2024-12-16T00:00:00"
          ],
          [
           "FAST",
           "2024-12-23T00:00:00"
          ],
          [
           "BBY",
           "2024-12-11T00:00:00"
          ],
          [
           "ZTS",
           "2024-12-27T00:00:00"
          ],
          [
           "EFX",
           "2024-12-31T00:00:00"
          ],
          [
           "BXP",
           "2024-12-19T00:00:00"
          ],
          [
           "NEE",
           "2024-12-24T00:00:00"
          ],
          [
           "LNT",
           "2024-12-26T00:00:00"
          ],
          [
           "SHW",
           "2024-12-19T00:00:00"
          ],
          [
           "PARA",
           "2025-01-02T00:00:00"
          ],
          [
           "AEE",
           "2024-12-17T00:00:00"
          ],
          [
           "RSG",
           "2024-12-17T00:00:00"
          ],
          [
           "EQT",
           "2024-12-31T00:00:00"
          ],
          [
           "NSC",
           "2024-12-26T00:00:00"
          ],
          [
           "CAT",
           "2024-12-26T00:00:00"
          ],
          [
           "CHTR",
           "2024-12-19T00:00:00"
          ],
          [
           "DGX",
           "2024-12-18T00:00:00"
          ],
          [
           "TSLA",
           "2024-12-23T00:00:00"
          ],
          [
           "WRB",
           "2024-12-30T00:00:00"
          ],
          [
           "VICI",
           "2024-12-26T00:00:00"
          ],
          [
           "CMCSA",
           "2024-12-31T00:00:00"
          ],
          [
           "EVRG",
           "2024-12-18T00:00:00"
          ],
          [
           "AWK",
           "2024-12-12T00:00:00"
          ],
          [
           "CPB",
           "2024-12-11T00:00:00"
          ],
          [
           "MA",
           "2024-12-24T00:00:00"
          ],
          [
           "LEN",
           "2024-12-26T00:00:00"
          ],
          [
           "SRE",
           "2024-12-12T00:00:00"
          ],
          [
           "CE",
           "2024-12-17T00:00:00"
          ],
          [
           "LNT",
           "2024-12-30T00:00:00"
          ],
          [
           "MCK",
           "2024-12-20T00:00:00"
          ],
          [
           "ICE",
           "2024-12-19T00:00:00"
          ],
          [
           "VLO",
           "2024-12-12T00:00:00"
          ],
          [
           "PEG",
           "2024-12-24T00:00:00"
          ],
          [
           "PM",
           "2024-12-26T00:00:00"
          ],
          [
           "FANG",
           "2024-12-27T00:00:00"
          ],
          [
           "DLTR",
           "2024-12-19T00:00:00"
          ],
          [
           "EBAY",
           "2025-01-02T00:00:00"
          ],
          [
           "EW",
           "2025-01-02T00:00:00"
          ],
          [
           "LDOS",
           "2024-12-26T00:00:00"
          ],
          [
           "TEL",
           "2024-12-19T00:00:00"
          ],
          [
           "ADP",
           "2024-12-16T00:00:00"
          ],
          [
           "PFG",
           "2024-12-26T00:00:00"
          ],
          [
           "HCA",
           "2024-12-20T00:00:00"
          ],
          [
           "USB",
           "2024-12-19T00:00:00"
          ],
          [
           "ABNB",
           "2024-12-19T00:00:00"
          ],
          [
           "DG",
           "2024-12-11T00:00:00"
          ],
          [
           "CMI",
           "2024-12-10T00:00:00"
          ],
          [
           "OKE",
           "2024-12-24T00:00:00"
          ],
          [
           "MSI",
           "2024-12-18T00:00:00"
          ],
          [
           "CHTR",
           "2024-12-16T00:00:00"
          ],
          [
           "INTU",
           "2024-12-09T00:00:00"
          ],
          [
           "STX",
           "2024-12-27T00:00:00"
          ],
          [
           "UAL",
           "2024-12-23T00:00:00"
          ],
          [
           "AOS",
           "2024-12-10T00:00:00"
          ],
          [
           "BK",
           "2024-12-11T00:00:00"
          ],
          [
           "DOW",
           "2025-01-02T00:00:00"
          ],
          [
           "LRCX",
           "2024-12-26T00:00:00"
          ],
          [
           "CFG",
           "2024-12-18T00:00:00"
          ],
          [
           "PPL",
           "2024-12-17T00:00:00"
          ],
          [
           "KHC",
           "2024-12-23T00:00:00"
          ],
          [
           "MAR",
           "2024-12-12T00:00:00"
          ],
          [
           "JPM",
           "2024-12-11T00:00:00"
          ],
          [
           "GM",
           "2024-12-30T00:00:00"
          ],
          [
           "RCL",
           "2024-12-19T00:00:00"
          ],
          [
           "SWKS",
           "2024-12-17T00:00:00"
          ],
          [
           "MNST",
           "2024-12-12T00:00:00"
          ],
          [
           "SOLV",
           "2024-12-13T00:00:00"
          ],
          [
           "DD",
           "2025-01-02T00:00:00"
          ],
          [
           "CRWD",
           "2024-12-19T00:00:00"
          ],
          [
           "CSCO",
           "2024-12-26T00:00:00"
          ],
          [
           "UPS",
           "2024-12-11T00:00:00"
          ],
          [
           "AJG",
           "2024-12-11T00:00:00"
          ],
          [
           "DE",
           "2024-12-31T00:00:00"
          ],
          [
           "SLB",
           "2024-12-11T00:00:00"
          ],
          [
           "IFF",
           "2024-12-16T00:00:00"
          ],
          [
           "PNR",
           "2024-12-24T00:00:00"
          ],
          [
           "CDW",
           "2024-12-23T00:00:00"
          ],
          [
           "BAC",
           "2024-12-17T00:00:00"
          ],
          [
           "TPR",
           "2024-12-13T00:00:00"
          ],
          [
           "AEE",
           "2024-12-11T00:00:00"
          ],
          [
           "AEP",
           "2024-12-23T00:00:00"
          ],
          [
           "CZR",
           "2025-01-02T00:00:00"
          ],
          [
           "MO",
           "2024-12-23T00:00:00"
          ],
          [
           "STZ",
           "2024-12-24T00:00:00"
          ],
          [
           "WBA",
           "2024-12-09T00:00:00"
          ],
          [
           "LEN",
           "2024-12-30T00:00:00"
          ],
          [
           "CTSH",
           "2024-12-26T00:00:00"
          ],
          [
           "MSFT",
           "2024-12-11T00:00:00"
          ],
          [
           "KEYS",
           "2024-12-16T00:00:00"
          ],
          [
           "IFF",
           "2024-12-18T00:00:00"
          ],
          [
           "PEG",
           "2024-12-11T00:00:00"
          ],
          [
           "ABBV",
           "2024-12-10T00:00:00"
          ],
          [
           "WMT",
           "2024-12-13T00:00:00"
          ],
          [
           "RJF",
           "2024-12-10T00:00:00"
          ],
          [
           "IP",
           "2025-01-02T00:00:00"
          ],
          [
           "TRV",
           "2025-01-02T00:00:00"
          ],
          [
           "STX",
           "2024-12-30T00:00:00"
          ],
          [
           "AEP",
           "2024-12-24T00:00:00"
          ],
          [
           "BIIB",
           "2024-12-12T00:00:00"
          ],
          [
           "CE",
           "2024-12-26T00:00:00"
          ],
          [
           "LRCX",
           "2024-12-11T00:00:00"
          ],
          [
           "NUE",
           "2024-12-20T00:00:00"
          ],
          [
           "SOLV",
           "2024-12-11T00:00:00"
          ],
          [
           "IP",
           "2024-12-20T00:00:00"
          ],
          [
           "ED",
           "2024-12-17T00:00:00"
          ],
          [
           "ETR",
           "2024-12-13T00:00:00"
          ],
          [
           "CFG",
           "2024-12-27T00:00:00"
          ],
          [
           "ODFL",
           "2024-12-09T00:00:00"
          ],
          [
           "GDDY",
           "2024-12-17T00:00:00"
          ],
          [
           "TMUS",
           "2025-01-02T00:00:00"
          ],
          [
           "EOG",
           "2024-12-10T00:00:00"
          ],
          [
           "GRMN",
           "2024-12-09T00:00:00"
          ],
          [
           "GEV",
           "2024-12-11T00:00:00"
          ],
          [
           "RJF",
           "2024-12-19T00:00:00"
          ],
          [
           "SBUX",
           "2024-12-16T00:00:00"
          ],
          [
           "MGM",
           "2024-12-16T00:00:00"
          ],
          [
           "A",
           "2024-12-27T00:00:00"
          ],
          [
           "SYF",
           "2024-12-13T00:00:00"
          ],
          [
           "CI",
           "2024-12-31T00:00:00"
          ],
          [
           "BK",
           "2024-12-26T00:00:00"
          ],
          [
           "FTNT",
           "2024-12-26T00:00:00"
          ],
          [
           "DHI",
           "2024-12-12T00:00:00"
          ],
          [
           "EXPE",
           "2024-12-26T00:00:00"
          ],
          [
           "KO",
           "2024-12-18T00:00:00"
          ],
          [
           "MPC",
           "2024-12-19T00:00:00"
          ],
          [
           "MSFT",
           "2024-12-27T00:00:00"
          ],
          [
           "DAL",
           "2024-12-09T00:00:00"
          ],
          [
           "HSY",
           "2024-12-09T00:00:00"
          ],
          [
           "TJX",
           "2024-12-11T00:00:00"
          ],
          [
           "UAL",
           "2024-12-16T00:00:00"
          ],
          [
           "CSX",
           "2024-12-16T00:00:00"
          ],
          [
           "CARR",
           "2024-12-24T00:00:00"
          ],
          [
           "ACGL",
           "2024-12-13T00:00:00"
          ],
          [
           "AMCR",
           "2024-12-20T00:00:00"
          ],
          [
           "EBAY",
           "2024-12-11T00:00:00"
          ],
          [
           "XYL",
           "2024-12-31T00:00:00"
          ],
          [
           "WYNN",
           "2024-12-10T00:00:00"
          ],
          [
           "SWK",
           "2024-12-26T00:00:00"
          ],
          [
           "LYV",
           "2025-01-02T00:00:00"
          ],
          [
           "PEG",
           "2025-01-02T00:00:00"
          ],
          [
           "ALB",
           "2024-12-30T00:00:00"
          ],
          [
           "FITB",
           "2024-12-11T00:00:00"
          ],
          [
           "CCI",
           "2024-12-30T00:00:00"
          ],
          [
           "WDC",
           "2024-12-24T00:00:00"
          ],
          [
           "ORCL",
           "2024-12-31T00:00:00"
          ],
          [
           "BBY",
           "2024-12-18T00:00:00"
          ],
          [
           "FI",
           "2024-12-13T00:00:00"
          ],
          [
           "CPB",
           "2025-01-02T00:00:00"
          ],
          [
           "GS",
           "2024-12-24T00:00:00"
          ],
          [
           "JPM",
           "2024-12-10T00:00:00"
          ],
          [
           "DHR",
           "2024-12-17T00:00:00"
          ],
          [
           "CTAS",
           "2025-01-02T00:00:00"
          ],
          [
           "SYF",
           "2024-12-20T00:00:00"
          ],
          [
           "EW",
           "2024-12-11T00:00:00"
          ],
          [
           "MDLZ",
           "2024-12-10T00:00:00"
          ],
          [
           "AMZN",
           "2024-12-26T00:00:00"
          ],
          [
           "JNJ",
           "2024-12-10T00:00:00"
          ],
          [
           "BBY",
           "2024-12-16T00:00:00"
          ],
          [
           "BKR",
           "2024-12-20T00:00:00"
          ],
          [
           "VZ",
           "2024-12-09T00:00:00"
          ],
          [
           "F",
           "2024-12-10T00:00:00"
          ],
          [
           "NTRS",
           "2024-12-18T00:00:00"
          ],
          [
           "WDC",
           "2025-01-02T00:00:00"
          ],
          [
           "LDOS",
           "2024-12-19T00:00:00"
          ],
          [
           "AES",
           "2024-12-23T00:00:00"
          ],
          [
           "EL",
           "2024-12-19T00:00:00"
          ],
          [
           "BWA",
           "2024-12-19T00:00:00"
          ],
          [
           "MSI",
           "2024-12-24T00:00:00"
          ],
          [
           "CAG",
           "2024-12-11T00:00:00"
          ],
          [
           "OXY",
           "2024-12-31T00:00:00"
          ],
          [
           "LMT",
           "2024-12-19T00:00:00"
          ],
          [
           "KVUE",
           "2024-12-10T00:00:00"
          ],
          [
           "MO",
           "2024-12-18T00:00:00"
          ],
          [
           "PNW",
           "2024-12-27T00:00:00"
          ],
          [
           "HIG",
           "2024-12-27T00:00:00"
          ],
          [
           "GD",
           "2024-12-20T00:00:00"
          ],
          [
           "HRL",
           "2024-12-11T00:00:00"
          ],
          [
           "USB",
           "2024-12-12T00:00:00"
          ],
          [
           "AAPL",
           "2024-12-18T00:00:00"
          ],
          [
           "FE",
           "2024-12-30T00:00:00"
          ],
          [
           "PGR",
           "2024-12-30T00:00:00"
          ],
          [
           "MAS",
           "2024-12-24T00:00:00"
          ],
          [
           "CHRW",
           "2024-12-31T00:00:00"
          ],
          [
           "SMCI",
           "2024-12-13T00:00:00"
          ],
          [
           "HAS",
           "2024-12-24T00:00:00"
          ],
          [
           "KMB",
           "2024-12-27T00:00:00"
          ],
          [
           "MNST",
           "2024-12-19T00:00:00"
          ],
          [
           "MCD",
           "2024-12-26T00:00:00"
          ],
          [
           "MCK",
           "2024-12-16T00:00:00"
          ],
          [
           "TTWO",
           "2024-12-27T00:00:00"
          ],
          [
           "DUK",
           "2025-01-02T00:00:00"
          ],
          [
           "KIM",
           "2024-12-27T00:00:00"
          ],
          [
           "CMCSA",
           "2024-12-24T00:00:00"
          ],
          [
           "TRGP",
           "2024-12-31T00:00:00"
          ],
          [
           "NOC",
           "2024-12-11T00:00:00"
          ],
          [
           "F",
           "2025-01-02T00:00:00"
          ],
          [
           "CARR",
           "2024-12-26T00:00:00"
          ],
          [
           "WEC",
           "2024-12-18T00:00:00"
          ],
          [
           "AMT",
           "2024-12-23T00:00:00"
          ],
          [
           "TSLA",
           "2024-12-19T00:00:00"
          ],
          [
           "IVZ",
           "2024-12-13T00:00:00"
          ],
          [
           "CHRW",
           "2024-12-27T00:00:00"
          ],
          [
           "MKC",
           "2024-12-26T00:00:00"
          ],
          [
           "LKQ",
           "2024-12-26T00:00:00"
          ],
          [
           "VTR",
           "2024-12-13T00:00:00"
          ],
          [
           "FE",
           "2024-12-26T00:00:00"
          ],
          [
           "CTSH",
           "2024-12-12T00:00:00"
          ],
          [
           "ZBH",
           "2024-12-13T00:00:00"
          ],
          [
           "GS",
           "2024-12-16T00:00:00"
          ],
          [
           "CPB",
           "2024-12-10T00:00:00"
          ],
          [
           "TFC",
           "2024-12-20T00:00:00"
          ],
          [
           "TMUS",
           "2024-12-31T00:00:00"
          ],
          [
           "VMC",
           "2024-12-30T00:00:00"
          ],
          [
           "STLD",
           "2024-12-09T00:00:00"
          ],
          [
           "AKAM",
           "2024-12-23T00:00:00"
          ],
          [
           "OMC",
           "2024-12-19T00:00:00"
          ],
          [
           "KEY",
           "2024-12-20T00:00:00"
          ],
          [
           "UBER",
           "2024-12-10T00:00:00"
          ],
          [
           "GPN",
           "2024-12-12T00:00:00"
          ],
          [
           "MAS",
           "2024-12-19T00:00:00"
          ],
          [
           "VICI",
           "2024-12-17T00:00:00"
          ],
          [
           "LLY",
           "2024-12-09T00:00:00"
          ],
          [
           "HRL",
           "2024-12-09T00:00:00"
          ],
          [
           "COO",
           "2024-12-16T00:00:00"
          ],
          [
           "AEP",
           "2024-12-20T00:00:00"
          ],
          [
           "CSX",
           "2024-12-30T00:00:00"
          ],
          [
           "NRG",
           "2024-12-09T00:00:00"
          ],
          [
           "C",
           "2024-12-13T00:00:00"
          ],
          [
           "A",
           "2024-12-11T00:00:00"
          ],
          [
           "DHI",
           "2024-12-10T00:00:00"
          ],
          [
           "RJF",
           "2024-12-18T00:00:00"
          ],
          [
           "MO",
           "2024-12-19T00:00:00"
          ],
          [
           "PAYX",
           "2025-01-02T00:00:00"
          ],
          [
           "BRK-B",
           "2024-12-10T00:00:00"
          ],
          [
           "WM",
           "2024-12-19T00:00:00"
          ],
          [
           "MTB",
           "2024-12-13T00:00:00"
          ],
          [
           "CEG",
           "2024-12-17T00:00:00"
          ],
          [
           "GEN",
           "2024-12-18T00:00:00"
          ],
          [
           "GE",
           "2024-12-12T00:00:00"
          ],
          [
           "PPL",
           "2024-12-13T00:00:00"
          ],
          [
           "GEN",
           "2024-12-12T00:00:00"
          ],
          [
           "OTIS",
           "2024-12-10T00:00:00"
          ],
          [
           "KKR",
           "2025-01-02T00:00:00"
          ],
          [
           "SLB",
           "2024-12-10T00:00:00"
          ],
          [
           "ROL",
           "2024-12-19T00:00:00"
          ],
          [
           "MMC",
           "2024-12-23T00:00:00"
          ],
          [
           "DELL",
           "2024-12-27T00:00:00"
          ],
          [
           "O",
           "2024-12-27T00:00:00"
          ],
          [
           "VZ",
           "2024-12-12T00:00:00"
          ],
          [
           "FAST",
           "2024-12-24T00:00:00"
          ],
          [
           "VLTO",
           "2024-12-26T00:00:00"
          ],
          [
           "GD",
           "2024-12-23T00:00:00"
          ],
          [
           "DELL",
           "2024-12-11T00:00:00"
          ],
          [
           "GILD",
           "2024-12-18T00:00:00"
          ],
          [
           "EXPE",
           "2024-12-12T00:00:00"
          ],
          [
           "MRNA",
           "2024-12-24T00:00:00"
          ],
          [
           "TFC",
           "2024-12-16T00:00:00"
          ],
          [
           "PG",
           "2024-12-20T00:00:00"
          ],
          [
           "PNC",
           "2024-12-27T00:00:00"
          ],
          [
           "KKR",
           "2024-12-27T00:00:00"
          ],
          [
           "CVX",
           "2024-12-27T00:00:00"
          ],
          [
           "DAL",
           "2024-12-23T00:00:00"
          ],
          [
           "CNC",
           "2024-12-16T00:00:00"
          ],
          [
           "CMS",
           "2024-12-12T00:00:00"
          ],
          [
           "NEE",
           "2024-12-20T00:00:00"
          ],
          [
           "DAL",
           "2024-12-10T00:00:00"
          ],
          [
           "FITB",
           "2025-01-02T00:00:00"
          ],
          [
           "KMB",
           "2024-12-19T00:00:00"
          ],
          [
           "AXP",
           "2024-12-11T00:00:00"
          ],
          [
           "EIX",
           "2024-12-13T00:00:00"
          ],
          [
           "ADBE",
           "2024-12-27T00:00:00"
          ],
          [
           "ETR",
           "2024-12-26T00:00:00"
          ],
          [
           "PEG",
           "2024-12-18T00:00:00"
          ],
          [
           "HWM",
           "2024-12-12T00:00:00"
          ],
          [
           "SYY",
           "2024-12-26T00:00:00"
          ],
          [
           "KHC",
           "2024-12-17T00:00:00"
          ],
          [
           "LNT",
           "2024-12-24T00:00:00"
          ],
          [
           "NEE",
           "2024-12-30T00:00:00"
          ],
          [
           "NI",
           "2024-12-24T00:00:00"
          ],
          [
           "APO",
           "2024-12-12T00:00:00"
          ],
          [
           "ROK",
           "2024-12-18T00:00:00"
          ],
          [
           "ZTS",
           "2024-12-10T00:00:00"
          ],
          [
           "L",
           "2024-12-19T00:00:00"
          ],
          [
           "TAP",
           "2024-12-19T00:00:00"
          ],
          [
           "STT",
           "2024-12-12T00:00:00"
          ],
          [
           "BMY",
           "2025-01-02T00:00:00"
          ],
          [
           "USB",
           "2024-12-16T00:00:00"
          ],
          [
           "SRE",
           "2024-12-31T00:00:00"
          ],
          [
           "ETN",
           "2024-12-09T00:00:00"
          ],
          [
           "SYY",
           "2024-12-13T00:00:00"
          ],
          [
           "AOS",
           "2024-12-12T00:00:00"
          ],
          [
           "ECL",
           "2024-12-13T00:00:00"
          ],
          [
           "WAB",
           "2025-01-02T00:00:00"
          ],
          [
           "GLW",
           "2024-12-13T00:00:00"
          ],
          [
           "MMC",
           "2024-12-24T00:00:00"
          ],
          [
           "NUE",
           "2024-12-26T00:00:00"
          ],
          [
           "MNST",
           "2024-12-20T00:00:00"
          ],
          [
           "ON",
           "2024-12-24T00:00:00"
          ],
          [
           "EQR",
           "2024-12-27T00:00:00"
          ],
          [
           "TXN",
           "2024-12-30T00:00:00"
          ],
          [
           "BDX",
           "2024-12-26T00:00:00"
          ],
          [
           "WMB",
           "2024-12-17T00:00:00"
          ],
          [
           "ED",
           "2024-12-27T00:00:00"
          ],
          [
           "CPB",
           "2024-12-09T00:00:00"
          ],
          [
           "WM",
           "2024-12-26T00:00:00"
          ],
          [
           "BRO",
           "2024-12-24T00:00:00"
          ],
          [
           "CHRW",
           "2024-12-16T00:00:00"
          ],
          [
           "MTB",
           "2024-12-27T00:00:00"
          ],
          [
           "CL",
           "2024-12-17T00:00:00"
          ],
          [
           "MO",
           "2024-12-09T00:00:00"
          ],
          [
           "MAR",
           "2024-12-24T00:00:00"
          ],
          [
           "DG",
           "2024-12-10T00:00:00"
          ],
          [
           "FITB",
           "2024-12-20T00:00:00"
          ],
          [
           "NKE",
           "2024-12-12T00:00:00"
          ],
          [
           "PWR",
           "2024-12-27T00:00:00"
          ],
          [
           "BALL",
           "2024-12-13T00:00:00"
          ],
          [
           "IQV",
           "2024-12-12T00:00:00"
          ],
          [
           "HOLX",
           "2024-12-11T00:00:00"
          ],
          [
           "CHTR",
           "2024-12-09T00:00:00"
          ],
          [
           "ACN",
           "2024-12-09T00:00:00"
          ],
          [
           "APH",
           "2024-12-26T00:00:00"
          ],
          [
           "AFL",
           "2024-12-30T00:00:00"
          ],
          [
           "HBAN",
           "2025-01-02T00:00:00"
          ],
          [
           "RTX",
           "2024-12-16T00:00:00"
          ],
          [
           "LOW",
           "2024-12-27T00:00:00"
          ],
          [
           "AMAT",
           "2024-12-12T00:00:00"
          ],
          [
           "A",
           "2024-12-18T00:00:00"
          ],
          [
           "BK",
           "2024-12-09T00:00:00"
          ],
          [
           "SYF",
           "2024-12-27T00:00:00"
          ],
          [
           "SMCI",
           "2024-12-10T00:00:00"
          ],
          [
           "TGT",
           "2024-12-17T00:00:00"
          ],
          [
           "BRO",
           "2024-12-26T00:00:00"
          ],
          [
           "L",
           "2024-12-30T00:00:00"
          ],
          [
           "DECK",
           "2024-12-12T00:00:00"
          ],
          [
           "SMCI",
           "2024-12-26T00:00:00"
          ],
          [
           "PFE",
           "2024-12-27T00:00:00"
          ],
          [
           "CNP",
           "2025-01-02T00:00:00"
          ],
          [
           "COR",
           "2024-12-19T00:00:00"
          ],
          [
           "ISRG",
           "2024-12-12T00:00:00"
          ],
          [
           "HAS",
           "2024-12-23T00:00:00"
          ],
          [
           "CLX",
           "2024-12-17T00:00:00"
          ],
          [
           "BDX",
           "2024-12-24T00:00:00"
          ],
          [
           "UPS",
           "2024-12-10T00:00:00"
          ],
          [
           "ACGL",
           "2024-12-27T00:00:00"
          ],
          [
           "CI",
           "2024-12-10T00:00:00"
          ],
          [
           "JPM",
           "2024-12-23T00:00:00"
          ],
          [
           "UNH",
           "2024-12-12T00:00:00"
          ],
          [
           "ITW",
           "2024-12-19T00:00:00"
          ],
          [
           "CTAS",
           "2024-12-20T00:00:00"
          ],
          [
           "HST",
           "2025-01-02T00:00:00"
          ],
          [
           "INVH",
           "2024-12-18T00:00:00"
          ],
          [
           "SHW",
           "2025-01-02T00:00:00"
          ],
          [
           "TFC",
           "2024-12-09T00:00:00"
          ],
          [
           "ARE",
           "2025-01-02T00:00:00"
          ],
          [
           "XYL",
           "2024-12-11T00:00:00"
          ],
          [
           "CHD",
           "2024-12-16T00:00:00"
          ],
          [
           "LYV",
           "2024-12-19T00:00:00"
          ],
          [
           "PYPL",
           "2024-12-12T00:00:00"
          ],
          [
           "DECK",
           "2024-12-26T00:00:00"
          ],
          [
           "IFF",
           "2024-12-31T00:00:00"
          ],
          [
           "BBY",
           "2024-12-10T00:00:00"
          ],
          [
           "EQT",
           "2024-12-20T00:00:00"
          ],
          [
           "COST",
           "2024-12-17T00:00:00"
          ],
          [
           "MU",
           "2024-12-31T00:00:00"
          ],
          [
           "DAY",
           "2024-12-12T00:00:00"
          ],
          [
           "ANET",
           "2024-12-09T00:00:00"
          ],
          [
           "OXY",
           "2024-12-17T00:00:00"
          ],
          [
           "UBER",
           "2024-12-09T00:00:00"
          ],
          [
           "STLD",
           "2024-12-20T00:00:00"
          ],
          [
           "EFX",
           "2024-12-11T00:00:00"
          ],
          [
           "INVH",
           "2024-12-24T00:00:00"
          ],
          [
           "OKE",
           "2024-12-09T00:00:00"
          ],
          [
           "WDC",
           "2024-12-26T00:00:00"
          ],
          [
           "EXC",
           "2024-12-17T00:00:00"
          ],
          [
           "GOOG",
           "2024-12-27T00:00:00"
          ],
          [
           "ON",
           "2024-12-18T00:00:00"
          ],
          [
           "GILD",
           "2024-12-11T00:00:00"
          ],
          [
           "LKQ",
           "2024-12-31T00:00:00"
          ],
          [
           "XOM",
           "2024-12-10T00:00:00"
          ],
          [
           "BA",
           "2024-12-12T00:00:00"
          ],
          [
           "APO",
           "2024-12-23T00:00:00"
          ],
          [
           "APD",
           "2024-12-30T00:00:00"
          ],
          [
           "K",
           "2024-12-09T00:00:00"
          ],
          [
           "MU",
           "2024-12-17T00:00:00"
          ],
          [
           "GLW",
           "2024-12-27T00:00:00"
          ],
          [
           "MTB",
           "2024-12-18T00:00:00"
          ],
          [
           "AWK",
           "2024-12-20T00:00:00"
          ],
          [
           "WAB",
           "2024-12-20T00:00:00"
          ],
          [
           "AMGN",
           "2024-12-17T00:00:00"
          ],
          [
           "ABT",
           "2024-12-30T00:00:00"
          ],
          [
           "PYPL",
           "2024-12-31T00:00:00"
          ],
          [
           "EA",
           "2024-12-10T00:00:00"
          ],
          [
           "HWM",
           "2024-12-09T00:00:00"
          ],
          [
           "LRCX",
           "2024-12-27T00:00:00"
          ],
          [
           "PG",
           "2024-12-31T00:00:00"
          ],
          [
           "IBM",
           "2024-12-12T00:00:00"
          ],
          [
           "ARE",
           "2024-12-27T00:00:00"
          ],
          [
           "SWKS",
           "2024-12-16T00:00:00"
          ],
          [
           "FITB",
           "2024-12-13T00:00:00"
          ],
          [
           "HSY",
           "2024-12-24T00:00:00"
          ],
          [
           "MPWR",
           "2024-12-27T00:00:00"
          ],
          [
           "CZR",
           "2024-12-09T00:00:00"
          ],
          [
           "EOG",
           "2024-12-27T00:00:00"
          ],
          [
           "EVRG",
           "2024-12-27T00:00:00"
          ],
          [
           "WMT",
           "2024-12-17T00:00:00"
          ],
          [
           "BRO",
           "2024-12-19T00:00:00"
          ],
          [
           "AJG",
           "2024-12-16T00:00:00"
          ],
          [
           "CSX",
           "2024-12-20T00:00:00"
          ],
          [
           "GDDY",
           "2024-12-13T00:00:00"
          ],
          [
           "PFG",
           "2024-12-16T00:00:00"
          ],
          [
           "ENPH",
           "2024-12-12T00:00:00"
          ],
          [
           "COP",
           "2024-12-10T00:00:00"
          ],
          [
           "BG",
           "2024-12-13T00:00:00"
          ],
          [
           "TAP",
           "2024-12-17T00:00:00"
          ],
          [
           "PLD",
           "2024-12-24T00:00:00"
          ],
          [
           "LVS",
           "2024-12-11T00:00:00"
          ],
          [
           "DXCM",
           "2024-12-12T00:00:00"
          ],
          [
           "WY",
           "2024-12-17T00:00:00"
          ],
          [
           "TER",
           "2024-12-09T00:00:00"
          ],
          [
           "DHR",
           "2024-12-10T00:00:00"
          ],
          [
           "TFC",
           "2024-12-27T00:00:00"
          ],
          [
           "CBRE",
           "2024-12-17T00:00:00"
          ],
          [
           "UNH",
           "2024-12-09T00:00:00"
          ],
          [
           "DHR",
           "2024-12-20T00:00:00"
          ],
          [
           "SYK",
           "2024-12-27T00:00:00"
          ],
          [
           "FAST",
           "2024-12-11T00:00:00"
          ],
          [
           "IRM",
           "2024-12-26T00:00:00"
          ],
          [
           "GOOGL",
           "2024-12-30T00:00:00"
          ],
          [
           "AMCR",
           "2024-12-30T00:00:00"
          ],
          [
           "EA",
           "2024-12-17T00:00:00"
          ],
          [
           "BDX",
           "2024-12-23T00:00:00"
          ],
          [
           "PCAR",
           "2024-12-13T00:00:00"
          ],
          [
           "ABBV",
           "2024-12-11T00:00:00"
          ],
          [
           "GDDY",
           "2024-12-20T00:00:00"
          ],
          [
           "NKE",
           "2024-12-31T00:00:00"
          ],
          [
           "TROW",
           "2024-12-26T00:00:00"
          ],
          [
           "SBUX",
           "2024-12-30T00:00:00"
          ],
          [
           "LDOS",
           "2024-12-13T00:00:00"
          ],
          [
           "GIS",
           "2024-12-19T00:00:00"
          ],
          [
           "HUM",
           "2024-12-30T00:00:00"
          ],
          [
           "MGM",
           "2024-12-18T00:00:00"
          ],
          [
           "ANET",
           "2024-12-27T00:00:00"
          ],
          [
           "REG",
           "2024-12-10T00:00:00"
          ],
          [
           "TMO",
           "2024-12-16T00:00:00"
          ],
          [
           "UNP",
           "2024-12-30T00:00:00"
          ],
          [
           "PEP",
           "2024-12-26T00:00:00"
          ],
          [
           "NUE",
           "2024-12-27T00:00:00"
          ],
          [
           "CI",
           "2024-12-27T00:00:00"
          ],
          [
           "OXY",
           "2024-12-09T00:00:00"
          ],
          [
           "WDAY",
           "2024-12-09T00:00:00"
          ],
          [
           "EXPE",
           "2024-12-30T00:00:00"
          ],
          [
           "CMCSA",
           "2024-12-10T00:00:00"
          ],
          [
           "CTRA",
           "2024-12-31T00:00:00"
          ],
          [
           "AMD",
           "2024-12-16T00:00:00"
          ],
          [
           "IP",
           "2024-12-31T00:00:00"
          ],
          [
           "GEV",
           "2024-12-10T00:00:00"
          ],
          [
           "FMC",
           "2024-12-16T00:00:00"
          ],
          [
           "AME",
           "2024-12-27T00:00:00"
          ],
          [
           "BRO",
           "2025-01-02T00:00:00"
          ],
          [
           "EIX",
           "2024-12-30T00:00:00"
          ],
          [
           "EVRG",
           "2024-12-13T00:00:00"
          ],
          [
           "CMG",
           "2024-12-24T00:00:00"
          ],
          [
           "BALL",
           "2024-12-18T00:00:00"
          ],
          [
           "SYK",
           "2024-12-18T00:00:00"
          ],
          [
           "TFC",
           "2024-12-11T00:00:00"
          ],
          [
           "MSI",
           "2024-12-23T00:00:00"
          ],
          [
           "GLW",
           "2024-12-19T00:00:00"
          ],
          [
           "TSLA",
           "2024-12-24T00:00:00"
          ],
          [
           "LUV",
           "2024-12-13T00:00:00"
          ],
          [
           "CRL",
           "2024-12-09T00:00:00"
          ],
          [
           "CARR",
           "2024-12-11T00:00:00"
          ],
          [
           "LLY",
           "2024-12-31T00:00:00"
          ],
          [
           "KO",
           "2024-12-30T00:00:00"
          ],
          [
           "VTRS",
           "2024-12-30T00:00:00"
          ],
          [
           "ACGL",
           "2024-12-10T00:00:00"
          ],
          [
           "KVUE",
           "2024-12-09T00:00:00"
          ],
          [
           "BX",
           "2025-01-02T00:00:00"
          ],
          [
           "AES",
           "2024-12-30T00:00:00"
          ],
          [
           "AIG",
           "2024-12-17T00:00:00"
          ],
          [
           "WAB",
           "2024-12-24T00:00:00"
          ],
          [
           "MS",
           "2024-12-31T00:00:00"
          ],
          [
           "PLTR",
           "2024-12-19T00:00:00"
          ],
          [
           "SLB",
           "2024-12-13T00:00:00"
          ],
          [
           "DAL",
           "2024-12-13T00:00:00"
          ],
          [
           "AIG",
           "2024-12-19T00:00:00"
          ],
          [
           "RSG",
           "2024-12-16T00:00:00"
          ],
          [
           "TSN",
           "2024-12-31T00:00:00"
          ],
          [
           "EMN",
           "2024-12-24T00:00:00"
          ],
          [
           "MTCH",
           "2024-12-17T00:00:00"
          ],
          [
           "TPR",
           "2024-12-17T00:00:00"
          ],
          [
           "CEG",
           "2024-12-18T00:00:00"
          ],
          [
           "EIX",
           "2024-12-27T00:00:00"
          ],
          [
           "FOX",
           "2024-12-12T00:00:00"
          ],
          [
           "FANG",
           "2024-12-13T00:00:00"
          ],
          [
           "LNT",
           "2024-12-17T00:00:00"
          ],
          [
           "DHR",
           "2024-12-23T00:00:00"
          ],
          [
           "GD",
           "2024-12-09T00:00:00"
          ],
          [
           "KO",
           "2024-12-27T00:00:00"
          ],
          [
           "CSGP",
           "2024-12-26T00:00:00"
          ],
          [
           "KMB",
           "2024-12-20T00:00:00"
          ],
          [
           "PAYX",
           "2024-12-16T00:00:00"
          ],
          [
           "HAL",
           "2024-12-11T00:00:00"
          ],
          [
           "ROST",
           "2024-12-10T00:00:00"
          ],
          [
           "APA",
           "2024-12-26T00:00:00"
          ],
          [
           "AFL",
           "2024-12-31T00:00:00"
          ],
          [
           "CHTR",
           "2024-12-17T00:00:00"
          ],
          [
           "LULU",
           "2024-12-12T00:00:00"
          ],
          [
           "CHD",
           "2024-12-13T00:00:00"
          ],
          [
           "MGM",
           "2024-12-11T00:00:00"
          ],
          [
           "EMR",
           "2024-12-30T00:00:00"
          ],
          [
           "ANET",
           "2024-12-20T00:00:00"
          ],
          [
           "GS",
           "2024-12-13T00:00:00"
          ],
          [
           "PWR",
           "2024-12-16T00:00:00"
          ],
          [
           "MTB",
           "2024-12-31T00:00:00"
          ],
          [
           "GLW",
           "2024-12-30T00:00:00"
          ],
          [
           "EW",
           "2024-12-30T00:00:00"
          ],
          [
           "DHR",
           "2024-12-19T00:00:00"
          ],
          [
           "VICI",
           "2024-12-13T00:00:00"
          ],
          [
           "HES",
           "2024-12-17T00:00:00"
          ],
          [
           "EBAY",
           "2024-12-17T00:00:00"
          ],
          [
           "SNPS",
           "2024-12-17T00:00:00"
          ],
          [
           "A",
           "2024-12-19T00:00:00"
          ],
          [
           "REG",
           "2024-12-09T00:00:00"
          ],
          [
           "CDW",
           "2024-12-17T00:00:00"
          ],
          [
           "HST",
           "2024-12-30T00:00:00"
          ],
          [
           "NI",
           "2024-12-23T00:00:00"
          ],
          [
           "GD",
           "2024-12-27T00:00:00"
          ],
          [
           "CVS",
           "2024-12-12T00:00:00"
          ],
          [
           "CLX",
           "2024-12-18T00:00:00"
          ],
          [
           "LVS",
           "2024-12-30T00:00:00"
          ],
          [
           "GRMN",
           "2024-12-13T00:00:00"
          ],
          [
           "IVZ",
           "2024-12-27T00:00:00"
          ],
          [
           "VST",
           "2024-12-09T00:00:00"
          ],
          [
           "ROST",
           "2024-12-23T00:00:00"
          ],
          [
           "HWM",
           "2024-12-31T00:00:00"
          ],
          [
           "ENPH",
           "2024-12-18T00:00:00"
          ],
          [
           "BLDR",
           "2024-12-16T00:00:00"
          ],
          [
           "ZTS",
           "2024-12-09T00:00:00"
          ],
          [
           "CE",
           "2024-12-31T00:00:00"
          ],
          [
           "BAX",
           "2024-12-30T00:00:00"
          ],
          [
           "VTRS",
           "2025-01-02T00:00:00"
          ],
          [
           "BWA",
           "2024-12-18T00:00:00"
          ],
          [
           "GEHC",
           "2025-01-02T00:00:00"
          ],
          [
           "MMC",
           "2024-12-17T00:00:00"
          ],
          [
           "PWR",
           "2024-12-12T00:00:00"
          ],
          [
           "GPC",
           "2024-12-23T00:00:00"
          ],
          [
           "EBAY",
           "2024-12-10T00:00:00"
          ],
          [
           "IBM",
           "2024-12-27T00:00:00"
          ],
          [
           "NUE",
           "2024-12-24T00:00:00"
          ],
          [
           "FANG",
           "2024-12-12T00:00:00"
          ],
          [
           "LEN",
           "2024-12-18T00:00:00"
          ],
          [
           "SW",
           "2024-12-24T00:00:00"
          ],
          [
           "XEL",
           "2024-12-31T00:00:00"
          ],
          [
           "EMN",
           "2024-12-10T00:00:00"
          ],
          [
           "HRL",
           "2024-12-13T00:00:00"
          ],
          [
           "NDAQ",
           "2024-12-16T00:00:00"
          ],
          [
           "PAYX",
           "2024-12-31T00:00:00"
          ],
          [
           "PARA",
           "2024-12-19T00:00:00"
          ],
          [
           "SMCI",
           "2024-12-27T00:00:00"
          ],
          [
           "RCL",
           "2024-12-13T00:00:00"
          ],
          [
           "A",
           "2024-12-23T00:00:00"
          ],
          [
           "ECL",
           "2024-12-27T00:00:00"
          ],
          [
           "EMN",
           "2024-12-23T00:00:00"
          ],
          [
           "HOLX",
           "2024-12-17T00:00:00"
          ],
          [
           "OKE",
           "2024-12-31T00:00:00"
          ],
          [
           "ECL",
           "2024-12-18T00:00:00"
          ],
          [
           "ABNB",
           "2024-12-24T00:00:00"
          ],
          [
           "EW",
           "2024-12-19T00:00:00"
          ],
          [
           "DOW",
           "2024-12-20T00:00:00"
          ],
          [
           "CARR",
           "2024-12-23T00:00:00"
          ],
          [
           "VTRS",
           "2024-12-12T00:00:00"
          ],
          [
           "PG",
           "2024-12-19T00:00:00"
          ],
          [
           "PEP",
           "2024-12-10T00:00:00"
          ],
          [
           "AEE",
           "2024-12-20T00:00:00"
          ],
          [
           "WYNN",
           "2024-12-12T00:00:00"
          ],
          [
           "NOW",
           "2024-12-23T00:00:00"
          ],
          [
           "TROW",
           "2025-01-02T00:00:00"
          ],
          [
           "CCL",
           "2025-01-02T00:00:00"
          ],
          [
           "BA",
           "2024-12-17T00:00:00"
          ],
          [
           "ARE",
           "2024-12-30T00:00:00"
          ],
          [
           "HCA",
           "2024-12-26T00:00:00"
          ],
          [
           "TRMB",
           "2024-12-23T00:00:00"
          ],
          [
           "KR",
           "2024-12-30T00:00:00"
          ],
          [
           "APD",
           "2024-12-23T00:00:00"
          ],
          [
           "FMC",
           "2024-12-30T00:00:00"
          ],
          [
           "TROW",
           "2024-12-13T00:00:00"
          ],
          [
           "CNP",
           "2024-12-11T00:00:00"
          ],
          [
           "SYK",
           "2024-12-23T00:00:00"
          ],
          [
           "PEG",
           "2024-12-13T00:00:00"
          ],
          [
           "CAH",
           "2024-12-09T00:00:00"
          ],
          [
           "GE",
           "2024-12-16T00:00:00"
          ],
          [
           "PFG",
           "2024-12-23T00:00:00"
          ],
          [
           "BX",
           "2024-12-24T00:00:00"
          ],
          [
           "PARA",
           "2024-12-13T00:00:00"
          ],
          [
           "D",
           "2024-12-18T00:00:00"
          ],
          [
           "BAC",
           "2024-12-09T00:00:00"
          ],
          [
           "BG",
           "2024-12-11T00:00:00"
          ],
          [
           "TTWO",
           "2024-12-13T00:00:00"
          ],
          [
           "YUM",
           "2024-12-18T00:00:00"
          ],
          [
           "BDX",
           "2025-01-02T00:00:00"
          ],
          [
           "BMY",
           "2024-12-09T00:00:00"
          ],
          [
           "PYPL",
           "2025-01-02T00:00:00"
          ],
          [
           "TRV",
           "2024-12-16T00:00:00"
          ],
          [
           "TMO",
           "2024-12-27T00:00:00"
          ],
          [
           "BXP",
           "2024-12-17T00:00:00"
          ],
          [
           "HSIC",
           "2024-12-09T00:00:00"
          ],
          [
           "TSCO",
           "2025-01-02T00:00:00"
          ],
          [
           "NFLX",
           "2024-12-09T00:00:00"
          ],
          [
           "OTIS",
           "2025-01-02T00:00:00"
          ],
          [
           "FTV",
           "2024-12-19T00:00:00"
          ],
          [
           "NVDA",
           "2024-12-30T00:00:00"
          ],
          [
           "LKQ",
           "2024-12-16T00:00:00"
          ],
          [
           "HCA",
           "2024-12-24T00:00:00"
          ],
          [
           "EXPD",
           "2024-12-23T00:00:00"
          ],
          [
           "RSG",
           "2024-12-12T00:00:00"
          ],
          [
           "TSCO",
           "2024-12-09T00:00:00"
          ],
          [
           "AVGO",
           "2024-12-16T00:00:00"
          ],
          [
           "VTR",
           "2024-12-17T00:00:00"
          ],
          [
           "TJX",
           "2024-12-30T00:00:00"
          ],
          [
           "FSLR",
           "2024-12-31T00:00:00"
          ],
          [
           "RSG",
           "2024-12-24T00:00:00"
          ],
          [
           "ICE",
           "2024-12-27T00:00:00"
          ],
          [
           "ABNB",
           "2024-12-30T00:00:00"
          ],
          [
           "PPG",
           "2024-12-11T00:00:00"
          ],
          [
           "XOM",
           "2024-12-31T00:00:00"
          ],
          [
           "UDR",
           "2024-12-17T00:00:00"
          ],
          [
           "TGT",
           "2024-12-11T00:00:00"
          ],
          [
           "ON",
           "2025-01-02T00:00:00"
          ],
          [
           "GILD",
           "2024-12-24T00:00:00"
          ],
          [
           "JCI",
           "2024-12-09T00:00:00"
          ],
          [
           "PCAR",
           "2024-12-09T00:00:00"
          ],
          [
           "NRG",
           "2024-12-17T00:00:00"
          ],
          [
           "COO",
           "2024-12-20T00:00:00"
          ],
          [
           "CSGP",
           "2025-01-02T00:00:00"
          ],
          [
           "NEE",
           "2024-12-10T00:00:00"
          ],
          [
           "QCOM",
           "2024-12-13T00:00:00"
          ],
          [
           "IP",
           "2024-12-30T00:00:00"
          ],
          [
           "NKE",
           "2024-12-24T00:00:00"
          ],
          [
           "TSCO",
           "2024-12-26T00:00:00"
          ],
          [
           "MNST",
           "2024-12-23T00:00:00"
          ],
          [
           "ORCL",
           "2025-01-02T00:00:00"
          ],
          [
           "NI",
           "2024-12-27T00:00:00"
          ],
          [
           "UNP",
           "2024-12-10T00:00:00"
          ],
          [
           "LHX",
           "2024-12-26T00:00:00"
          ],
          [
           "IRM",
           "2024-12-30T00:00:00"
          ],
          [
           "COST",
           "2024-12-13T00:00:00"
          ],
          [
           "BALL",
           "2024-12-17T00:00:00"
          ],
          [
           "MA",
           "2024-12-19T00:00:00"
          ],
          [
           "AFL",
           "2024-12-26T00:00:00"
          ],
          [
           "DLTR",
           "2024-12-10T00:00:00"
          ],
          [
           "SHW",
           "2024-12-17T00:00:00"
          ],
          [
           "NTRS",
           "2024-12-20T00:00:00"
          ],
          [
           "INVH",
           "2024-12-13T00:00:00"
          ],
          [
           "APH",
           "2024-12-20T00:00:00"
          ],
          [
           "O",
           "2024-12-10T00:00:00"
          ],
          [
           "IR",
           "2024-12-19T00:00:00"
          ],
          [
           "NWSA",
           "2024-12-27T00:00:00"
          ],
          [
           "PNC",
           "2024-12-09T00:00:00"
          ],
          [
           "LRCX",
           "2024-12-18T00:00:00"
          ],
          [
           "AFL",
           "2024-12-09T00:00:00"
          ],
          [
           "UPS",
           "2024-12-30T00:00:00"
          ],
          [
           "HD",
           "2024-12-10T00:00:00"
          ],
          [
           "GPN",
           "2024-12-30T00:00:00"
          ],
          [
           "GOOGL",
           "2024-12-09T00:00:00"
          ],
          [
           "DVN",
           "2024-12-17T00:00:00"
          ],
          [
           "SPG",
           "2024-12-16T00:00:00"
          ],
          [
           "DG",
           "2024-12-09T00:00:00"
          ],
          [
           "EXC",
           "2024-12-11T00:00:00"
          ],
          [
           "NVDA",
           "2024-12-20T00:00:00"
          ],
          [
           "SJM",
           "2024-12-11T00:00:00"
          ],
          [
           "CLX",
           "2024-12-20T00:00:00"
          ],
          [
           "APA",
           "2024-12-23T00:00:00"
          ],
          [
           "DIS",
           "2024-12-30T00:00:00"
          ],
          [
           "AWK",
           "2025-01-02T00:00:00"
          ],
          [
           "EQT",
           "2024-12-23T00:00:00"
          ],
          [
           "O",
           "2024-12-26T00:00:00"
          ],
          [
           "BSX",
           "2024-12-23T00:00:00"
          ],
          [
           "EPAM",
           "2024-12-30T00:00:00"
          ],
          [
           "TJX",
           "2024-12-17T00:00:00"
          ],
          [
           "FMC",
           "2024-12-11T00:00:00"
          ],
          [
           "NDAQ",
           "2024-12-23T00:00:00"
          ],
          [
           "ABBV",
           "2024-12-19T00:00:00"
          ],
          [
           "INCY",
           "2024-12-16T00:00:00"
          ],
          [
           "GEV",
           "2024-12-18T00:00:00"
          ],
          [
           "MO",
           "2024-12-30T00:00:00"
          ],
          [
           "ACN",
           "2024-12-31T00:00:00"
          ],
          [
           "PPL",
           "2024-12-20T00:00:00"
          ],
          [
           "UNP",
           "2024-12-18T00:00:00"
          ],
          [
           "ADP",
           "2024-12-10T00:00:00"
          ],
          [
           "AAPL",
           "2024-12-13T00:00:00"
          ],
          [
           "ALLE",
           "2024-12-17T00:00:00"
          ],
          [
           "ED",
           "2024-12-26T00:00:00"
          ],
          [
           "DLR",
           "2024-12-27T00:00:00"
          ],
          [
           "OTIS",
           "2024-12-23T00:00:00"
          ],
          [
           "CE",
           "2024-12-10T00:00:00"
          ],
          [
           "HRL",
           "2024-12-12T00:00:00"
          ],
          [
           "VTRS",
           "2024-12-11T00:00:00"
          ],
          [
           "AJG",
           "2024-12-30T00:00:00"
          ],
          [
           "TRGP",
           "2024-12-13T00:00:00"
          ],
          [
           "CMI",
           "2024-12-16T00:00:00"
          ],
          [
           "AVGO",
           "2024-12-09T00:00:00"
          ],
          [
           "CPB",
           "2024-12-20T00:00:00"
          ],
          [
           "CPRT",
           "2024-12-13T00:00:00"
          ],
          [
           "HES",
           "2024-12-18T00:00:00"
          ],
          [
           "TEL",
           "2024-12-24T00:00:00"
          ],
          [
           "CB",
           "2024-12-10T00:00:00"
          ],
          [
           "CVS",
           "2024-12-19T00:00:00"
          ],
          [
           "INTC",
           "2024-12-19T00:00:00"
          ],
          [
           "FSLR",
           "2024-12-19T00:00:00"
          ],
          [
           "PNW",
           "2024-12-23T00:00:00"
          ],
          [
           "AON",
           "2024-12-11T00:00:00"
          ],
          [
           "ULTA",
           "2024-12-11T00:00:00"
          ],
          [
           "MMM",
           "2024-12-26T00:00:00"
          ],
          [
           "XYL",
           "2024-12-12T00:00:00"
          ],
          [
           "EFX",
           "2024-12-20T00:00:00"
          ],
          [
           "LYV",
           "2024-12-23T00:00:00"
          ],
          [
           "TRGP",
           "2024-12-27T00:00:00"
          ],
          [
           "SLB",
           "2024-12-23T00:00:00"
          ],
          [
           "EMR",
           "2024-12-23T00:00:00"
          ],
          [
           "RJF",
           "2024-12-20T00:00:00"
          ],
          [
           "ULTA",
           "2024-12-23T00:00:00"
          ],
          [
           "DOW",
           "2024-12-10T00:00:00"
          ],
          [
           "CHTR",
           "2024-12-24T00:00:00"
          ],
          [
           "FI",
           "2024-12-24T00:00:00"
          ],
          [
           "CHD",
           "2024-12-10T00:00:00"
          ],
          [
           "MO",
           "2024-12-13T00:00:00"
          ],
          [
           "MRK",
           "2024-12-17T00:00:00"
          ],
          [
           "GEN",
           "2024-12-16T00:00:00"
          ],
          [
           "VST",
           "2024-12-12T00:00:00"
          ],
          [
           "KEY",
           "2024-12-23T00:00:00"
          ],
          [
           "NXPI",
           "2024-12-24T00:00:00"
          ],
          [
           "KR",
           "2024-12-31T00:00:00"
          ],
          [
           "SWK",
           "2024-12-20T00:00:00"
          ],
          [
           "RSG",
           "2024-12-30T00:00:00"
          ],
          [
           "NTAP",
           "2024-12-24T00:00:00"
          ],
          [
           "ADI",
           "2024-12-30T00:00:00"
          ],
          [
           "LRCX",
           "2024-12-12T00:00:00"
          ],
          [
           "NOW",
           "2024-12-31T00:00:00"
          ],
          [
           "CAH",
           "2024-12-30T00:00:00"
          ],
          [
           "ADBE",
           "2024-12-16T00:00:00"
          ],
          [
           "IP",
           "2024-12-17T00:00:00"
          ],
          [
           "ORCL",
           "2024-12-23T00:00:00"
          ],
          [
           "CAG",
           "2024-12-10T00:00:00"
          ],
          [
           "PHM",
           "2024-12-17T00:00:00"
          ],
          [
           "CARR",
           "2024-12-20T00:00:00"
          ],
          [
           "VLO",
           "2024-12-30T00:00:00"
          ],
          [
           "EXPD",
           "2024-12-11T00:00:00"
          ],
          [
           "MDT",
           "2024-12-11T00:00:00"
          ],
          [
           "NTRS",
           "2024-12-09T00:00:00"
          ],
          [
           "VICI",
           "2024-12-20T00:00:00"
          ],
          [
           "NCLH",
           "2024-12-16T00:00:00"
          ],
          [
           "LLY",
           "2024-12-30T00:00:00"
          ],
          [
           "BX",
           "2024-12-10T00:00:00"
          ],
          [
           "RF",
           "2024-12-13T00:00:00"
          ],
          [
           "HD",
           "2024-12-31T00:00:00"
          ],
          [
           "KMX",
           "2024-12-23T00:00:00"
          ],
          [
           "GEHC",
           "2024-12-13T00:00:00"
          ],
          [
           "NXPI",
           "2024-12-11T00:00:00"
          ],
          [
           "CHTR",
           "2024-12-20T00:00:00"
          ],
          [
           "WY",
           "2024-12-31T00:00:00"
          ],
          [
           "VTR",
           "2024-12-18T00:00:00"
          ],
          [
           "EW",
           "2024-12-24T00:00:00"
          ],
          [
           "GD",
           "2024-12-26T00:00:00"
          ],
          [
           "CRWD",
           "2024-12-27T00:00:00"
          ],
          [
           "WDC",
           "2024-12-23T00:00:00"
          ],
          [
           "UNH",
           "2025-01-02T00:00:00"
          ],
          [
           "VTRS",
           "2024-12-23T00:00:00"
          ],
          [
           "PARA",
           "2024-12-23T00:00:00"
          ],
          [
           "ULTA",
           "2024-12-26T00:00:00"
          ],
          [
           "EBAY",
           "2024-12-20T00:00:00"
          ],
          [
           "ENPH",
           "2024-12-17T00:00:00"
          ],
          [
           "BAC",
           "2024-12-11T00:00:00"
          ],
          [
           "SCHW",
           "2024-12-11T00:00:00"
          ],
          [
           "GOOG",
           "2024-12-17T00:00:00"
          ],
          [
           "OTIS",
           "2024-12-11T00:00:00"
          ],
          [
           "ADM",
           "2024-12-17T00:00:00"
          ]
         ],
         "hovertemplate": "x=%{x}<br>y=%{y}<br>Symbol=%{customdata[0]}<br>Date=%{customdata[1]}<extra></extra>",
         "legendgroup": "",
         "marker": {
          "color": "#636efa",
          "symbol": "circle"
         },
         "mode": "markers",
         "name": "",
         "showlegend": false,
         "type": "scattergl",
         "x": [
          0.013753320377631866,
          -0.020176980347759957,
          -0.00039322032949103467,
          0.0067840368575208445,
          0.0023201549780854053,
          -0.0010458816939366282,
          -0.010704080956384929,
          0.031859721281975915,
          0.007748500975456755,
          0.015571376255580357,
          0.00045249302713462126,
          0.00036168281205706075,
          0.0013217617069272195,
          -0.009606488035125949,
          0.00899475124537225,
          -0.0020934914955277133,
          0.0014540432902520575,
          0.004448190818578618,
          0.00282804295112471,
          -0.00644615883286184,
          0.03316677502269357,
          -0.021513065731704455,
          0.009231243847588532,
          0.023449608443493565,
          0.004472001014103226,
          0.005032098837949794,
          0.04670177379933316,
          0,
          -0.0023808934520945526,
          0.007781640327880829,
          -0.0034246683335169806,
          0.0009732994522578319,
          0.00015230906821006522,
          -0.03247154543423812,
          -0.002114213285731611,
          0.01770410100109147,
          0.032522340241051016,
          -0.02008296249843196,
          0.004444009213510889,
          -0.0036657030407876846,
          0.013010212395526471,
          -0.01231555068658356,
          0.007704189907274639,
          -0.008847378075539297,
          0.018096368309520685,
          0.002001650214472522,
          0.003143130303427716,
          0.006207480730310954,
          0.015794758790745978,
          0.0002837406291534096,
          0.017147900834103145,
          -0.0055747161062332014,
          -0.003927641833750891,
          -0.007600021362304687,
          0.003351472684584413,
          0.00543406405611327,
          0.0019454841965232477,
          0.007139676864387538,
          -0.004294634758309925,
          -0.015843348543535724,
          -0.0007372661011020124,
          0.00284128093718813,
          -0.0035755198328185763,
          -0.0031579852817704797,
          0.014222246334876544,
          -0.00546876589457194,
          -0.004980098697693124,
          -0.021039847611985785,
          -0.0032346905419055254,
          -0.0025425989738772545,
          0.0011208924838276215,
          -0.0121747656427523,
          0.003871167434371024,
          0.017796297879553478,
          0.022678131146331226,
          0.003970775153039283,
          -0.0004984848172249275,
          -0.01311322682252274,
          0.017200512948360284,
          0.0074685004676992885,
          0.0039045066826985087,
          0.004508445741959376,
          0.0052219187654750044,
          -0.017008108112801578,
          -0.01538810034547794,
          0.01009187138646252,
          0.00903889340427046,
          -0.0069115344884506024,
          -0.005964552283663234,
          -0.013712500887537735,
          0.00009597136934672999,
          -0.0036300372652140977,
          -0.0030927887081816275,
          -0.008052278266199094,
          0.0021572423287281443,
          0.013082126137444874,
          -0.0008084506041967706,
          0.007853128018104503,
          0.0020246149984472824,
          -0.014993889740440955,
          -0.01142619011981699,
          0.004414740214778428,
          0.003353466884410578,
          0.007771285016607661,
          0.00027493843459770896,
          0.020274400844507233,
          -0.009172326106308476,
          -0.00507206050594494,
          -0.017460346827964893,
          0.03636991217973827,
          -0.03404884261197561,
          0.010325618797518962,
          -0.011184215685997707,
          -0.005309903232025864,
          0.0009156737164848749,
          -0.007099778572871246,
          -0.002037230769043634,
          -0.0026885254088704303,
          -0.011774897059320888,
          -0.011422235553204206,
          0.009760880762216014,
          -0.006660111333204376,
          0.004109152987480153,
          0.0034458992347891123,
          -0.003952200529443861,
          -0.009141233363120458,
          0.01441609018922513,
          0.014823258779272007,
          -0.010083078643096093,
          -0.004525932081486224,
          0.0003542814079208024,
          -0.06250000636801784,
          -0.006567455565756259,
          0.005773112958385265,
          -0.006600622462927247,
          0.031583284834676754,
          0.0016631104036180704,
          0.005071773281426775,
          -0.037796737900989426,
          0.0037650601544423814,
          0.0027634769574851,
          0.001445119764679487,
          0.0015593501681813884,
          0.0049850640145582235,
          -0.028583063165624395,
          -0.00720077003545734,
          -0.006339116841841626,
          -0.020468907121059497,
          0.0014022615919120826,
          -0.04223021306017301,
          -0.0021857382429670423,
          -0.01434158715443398,
          -0.009560291805059283,
          0.0009007289903015861,
          0.004788541172815456,
          0.0051947826452927864,
          -0.006518929626793797,
          -0.003603263724945937,
          -0.0038933312182272478,
          0.0260390824057732,
          0.009233524063404244,
          -0.006832691214663323,
          -0.006773884821468529,
          -0.0048701793027847,
          0.008182068104829758,
          -0.01709638522418568,
          0.00214377749014943,
          0.004162947322411201,
          -0.00037300369567480054,
          -0.016023904331287295,
          -0.008460388308618021,
          -0.0028667546958182533,
          -0.0051848833199733095,
          0.02270369991631415,
          -0.00414874059593476,
          0.004816138774810772,
          0.014368160157091884,
          -0.004905374654605487,
          0.012932120092736702,
          -0.01061001144409219,
          -0.026142982239011597,
          -0.010210939057150568,
          -0.011322231479166245,
          -0.0024893820930865945,
          0,
          0.0014193368996130618,
          0.014053341275704883,
          -0.040638981535792734,
          -0.01477083642376719,
          -0.0041780489114814036,
          0.0015801291674520396,
          -0.008411170194687421,
          -0.01541151097958088,
          0.002319709291418749,
          -0.03258859192559985,
          0.015141201558086159,
          0.017301815991401476,
          0.005364807042619011,
          -0.0024290690331491144,
          -0.006274392768218934,
          0.0008602211386728836,
          0.0009519882495078714,
          0.03233134596179223,
          -0.004098334286907452,
          0.002240946052960026,
          0.03446631123694073,
          -0.047428560519129595,
          -0.014506449292555935,
          0.0050825873487526435,
          0,
          -0.0023486875636289537,
          0.013663718984825528,
          -0.0014553711572739103,
          -0.0076525487187916645,
          -0.009858383725307887,
          -0.0006220058730868859,
          0.0020770080773123236,
          -0.006375633381950925,
          0.004255354218062586,
          -0.007286841156258235,
          -0.0038382660921988695,
          -0.000373071709620681,
          -0.004629599754979059,
          -0.005776822507579025,
          0.014613662041573924,
          0.015716786276059096,
          -0.004322322020978307,
          -0.017578745919696596,
          0.02804254871497726,
          -0.012495834626455529,
          0.009434575725157289,
          0.005781324558015074,
          -0.00508949883545578,
          -0.01587573420534309,
          -0.012735012180504653,
          -0.0020964135728524886,
          0.018335240736724875,
          0.02723235799478463,
          0.013973213318261544,
          0.03777386114510851,
          -0.0010356517031645,
          0.004929555973536531,
          0.009438030969173871,
          -0.016474526959091695,
          -0.012810856852268307,
          -0.010299243460823235,
          -0.04450347045712391,
          -0.005398235354824446,
          0.037147050078782225,
          0.01610038442865118,
          -0.017208149924325733,
          -0.01689080449723822,
          -0.007933642341914305,
          -0.00096420768234126,
          0.010026010200667523,
          -0.00868845029104665,
          -0.010002332830593107,
          -0.01112505925485508,
          -0.002154907375317227,
          -0.002600553287688979,
          0.006940787467239204,
          0.00027116623325856745,
          -0.0031551932616993707,
          -0.040121572511793095,
          -0.014522337056507897,
          -0.0022143127603180615,
          -0.0020637440636726077,
          0.0053583940923450585,
          -0.03392995733244775,
          0.010100965619285524,
          0.020575257616199497,
          -0.011856688745948632,
          -0.006771619960911823,
          0.01379305355330641,
          0.03775691326506389,
          0.006024120725650079,
          -0.01114691044948323,
          -0.00860651353675839,
          -0.00237156869009723,
          0.005238517779236728,
          -0.037459097345240916,
          0.009894578332378307,
          -0.0009234408262288661,
          -0.01586273165425727,
          0.0027802488441827106,
          0.003978008729507113,
          -0.02435158572414049,
          0.00047040756613936363,
          0.004956023593792601,
          0.017427940274309755,
          -0.009919523980123409,
          -0.012004595280792897,
          -0.005539411377417656,
          0.0028869822744008213,
          -0.04251060239983678,
          -0.004813901839717742,
          -0.012577443817766385,
          0.003604916448984371,
          0.015041184909223411,
          -0.0001374297389149445,
          -0.002655809293677818,
          0.009547463608006079,
          0.00002009912422355643,
          0.0005670846584418239,
          0.014373752218957361,
          -0.004906870023889529,
          0.005366163972737438,
          -0.007392879207024307,
          -0.005903583726642593,
          0.013094492737795544,
          -0.004129579499903845,
          0.006556777066875705,
          0.00951585700846304,
          0.00786054478596009,
          -0.005446197620626066,
          -0.014945631751716277,
          0.007746978350932674,
          -0.0513064480773409,
          0.0041354317159798554,
          -0.0016034368892101037,
          -0.0004518345880368197,
          0.016047261649888764,
          0.0041725843273453436,
          0.0049372543456143395,
          -0.01030263019240763,
          -0.005897365471207395,
          -0.01194077350106421,
          0.016822533614216432,
          -0.018255092806640522,
          -0.012371154562438945,
          0.011252812945679971,
          -0.028530671091788147,
          -0.005930115847394405,
          -0.007849072889921456,
          -0.0029168596673687522,
          -0.002885990403885314,
          -0.06343614474271717,
          0.007813377804865976,
          -0.0037981756923329774,
          -0.02393925107175647,
          0.022894844474484383,
          -0.00207517556266291,
          0.051218422233625764,
          0.006807174382855529,
          -0.00460808295671572,
          0.002935307013231713,
          -0.02773925064885125,
          0.0025149100178354987,
          -0.0018135810635649785,
          -0.03428351926426412,
          0.010792032641130081,
          0.0041883557149730985,
          0.0014366169414479436,
          -0.012871501122224491,
          -0.010189128926997072,
          0.0002954804900579439,
          -0.005354375224034455,
          0.01677992209611826,
          -0.024835369893247826,
          -0.0011628419316640863,
          0.003912624736368811,
          0.016471171760387125,
          0.00461882415576366,
          -0.0010863909793287334,
          -0.06153405937518086,
          -0.0011335982967484817,
          0.011316495632507837,
          0.003950872663117342,
          -0.0027399681414662083,
          -0.0007136086797814722,
          0.020211940630249264,
          -0.011797552672076486,
          0.00343797807579313,
          -0.006348907407162633,
          -0.005548157842449283,
          0.00888569185576169,
          0.01131747350836933,
          -0.015161329700100807,
          0.003188966446287553,
          0.012903290807148434,
          -0.0009453472823527699,
          0.010178107168846155,
          -0.023989468165291898,
          0.0012434528276289963,
          -0.010115428255251784,
          0.0021433710166781027,
          -0.003995726319466586,
          0.002188552714485114,
          -0.01883572961977733,
          -0.0067929497443181925,
          0.06250826965865285,
          -0.035919540088314945,
          -0.0007365278574522635,
          0.027422321959938527,
          0.0015957609136053857,
          -0.024601238337922347,
          0.005711929348881298,
          -0.016684798379902444,
          0.005847910646151447,
          -0.009022836711085551,
          0.004055795210158395,
          0.019040662060037575,
          -0.019929875614312746,
          -0.055773056125784974,
          -0.010304651027291414,
          -0.012419739220110887,
          0.002376877726512973,
          -0.02581228260685728,
          -0.013864592404171346,
          -0.035461020174465084,
          -0.0034302965068824195,
          -0.000647288695894013,
          -0.022096845159069747,
          0.0019408611073012125,
          0.0009444201619564394,
          0.03603411692112986,
          0.008835124061753985,
          -0.02791622536646339,
          -0.026084630029191522,
          0.005241709504250433,
          -0.00849445600339522,
          -0.019589223992336858,
          -0.0015422562952172093,
          0.011203597440269735,
          -0.0043699489632245,
          -0.0012380350921436484,
          -0.004314310827638815,
          -0.01095175304567444,
          0.014511841777409567,
          -0.007777509238915983,
          0.029060720727676088,
          0.0064637540187259205,
          0.018604727875754568,
          -0.004544190581093316,
          -0.0029146348841856463,
          -0.0009715108722119908,
          0.0009918311619493217,
          -0.006525400642504773,
          0.01893489289993056,
          -0.0087925513238236,
          -0.01087599822449004,
          0.013263637082864588,
          -0.03034517879668297,
          0.016759840826958187,
          -0.0067933713743702,
          0.015064694852149929,
          -0.014531764573736304,
          0.011863202456654339,
          -0.006335418737881676,
          0.007894129440375847,
          0.016087872077886846,
          -0.0011555547607395248,
          -0.005139897650212459,
          -0.004777609750944263,
          0.0007218572857086685,
          -0.002442555342420124,
          -0.00015415174387246818,
          -0.003544525915902893,
          -0.015893020193404685,
          -0.010837975334113806,
          -0.008424186012045974,
          -0.00030249853635944704,
          -0.0031236397359231064,
          -0.022638550471164257,
          -0.0017754377957734987,
          -0.006460760373890832,
          0.035051994443068016,
          -0.02086842100396177,
          0.0037641418567249687,
          -0.01799019816437899,
          -0.01646888568898198,
          -0.0044870333386052156,
          -0.014102544540014023,
          0.00682479952383851,
          -0.014233554366731295,
          -0.006985060032216717,
          -0.01123638584200959,
          -0.003610773878737942,
          -0.003997572764000331,
          -0.013064092123578975,
          -0.0012067872344665273,
          -0.02329841287626071,
          -0.0226435129204039,
          -0.051208468804693395,
          0.007736067046319451,
          -0.061693451796671954,
          0.012896836847705212,
          0.055865939646221226,
          -0.006855944601808881,
          -0.20097163098154472,
          -0.006535274049362097,
          0.01292576713060639,
          -0.00943956403254056,
          -0.003205099793971698,
          -0.004963926494088338,
          0.009119030654975921,
          0.003670931527173097,
          0.0073244321004194155,
          -0.0029505920284830737,
          0.006886284004190885,
          0.0020562238814805147,
          0.04485778798782693,
          0.010355799023595513,
          0.006918686389941802,
          -0.014987357020505729,
          0.004268553117008922,
          -0.0007643001094745223,
          -0.013577068470594594,
          -0.02623589215505567,
          -0.011929980064766301,
          -0.01142536333480484,
          -0.004178592670584363,
          -0.012418918822685795,
          0.0019608292291833696,
          0.0009967033757015073,
          -0.004684157708737663,
          0.004498356745853426,
          0.00487625914701022,
          0.0072927286094862966,
          0.011189897440702336,
          0.0023097946731696246,
          -0.0009432694971748092,
          -0.004206647773208699,
          0.0069702696387807395,
          -0.004571072202815942,
          -0.005191318981480817,
          -0.026758654364224137,
          -0.00697992919212836,
          -0.01567152450209115,
          0.01316433226477793,
          -0.01579216021080915,
          -0.008844317607752833,
          -0.0270838081790731,
          0.015738958135124048,
          -0.002668674386251947,
          0.0009878343455991252,
          -0.006585748320519501,
          -0.0003617768797104538,
          -0.002768824233017902,
          -0.006775869717798242,
          -0.05493557172572489,
          -0.006097106515568027,
          0.004977191946464229,
          -0.002001508239556294,
          -0.009496651966175143,
          0.06629415954542467,
          -0.02725556671431388,
          0.012464120976979864,
          0.006070728428906647,
          -0.005944441306888874,
          0.004138791038118234,
          0.0017109032062955886,
          -0.03985942295694593,
          -0.009273005726447195,
          0.008856512808915648,
          -0.006583018034722542,
          0.007956471555065068,
          -0.025785632454375023,
          -0.009496433895930087,
          -0.002410126679519041,
          -0.014299532313404596,
          0.018234864250205842,
          -0.0023962208904636535,
          -0.0026274086649317944,
          -0.02535663947707548,
          -0.01752894969204704,
          0.026779692051774363,
          -0.010139169999880675,
          0.03451246930953697,
          -0.0171853488027593,
          -0.03871484442865485,
          0.0012463787617312588,
          -0.005070371266267929,
          -0.008702565571981038,
          -0.002117093163297931,
          -0.0010505732809500893,
          0.0035978448454034393,
          -0.006855788955705206,
          0.030762201544000847,
          0.0019017868380971105,
          -0.0370189228562403,
          0.000671714720093384,
          -0.013006843495060545,
          0.009660932171984923,
          -0.021713951195795514,
          0.010874914307073165,
          -0.002453117056195364,
          -0.0058154073555784025,
          -0.017045483280475855,
          0.004112684943174606,
          -0.00815957861948078,
          -0.03066144394563012,
          0.005102997536393221,
          -0.004086469198922817,
          -0.0013955637511152373,
          -0.005265044983783206,
          0.0017198941894851012,
          0.0008097807222987932,
          0.02915125412856961,
          0.0045004673519330445,
          -0.008380581403824416,
          -0.0027126963120023885,
          0.0038255693880898554,
          -0.003960360887996079,
          -0.001221470560213258,
          0.00173692698113526,
          0.007247190661779799,
          -0.00644105171260259,
          0.005831455706874641,
          -0.012035193924030707,
          -0.0014129101477106457,
          0.019833595367360568,
          0.00026460678392454243,
          0.0020664572083240237,
          0.012532860671481436,
          0.0005326235711069304,
          -0.00574552910687133,
          -0.023503142867934177,
          0.006198630577367362,
          -0.00129285441689915,
          -0.002505967319586,
          -0.004598436230966296,
          0.014914606880011972,
          -0.006668908165705872,
          -0.009239776789793494,
          0.0011114775414825355,
          -0.004218126307200582,
          -0.0007782457485785931,
          0.018670649069922874,
          -0.01239378131396735,
          -0.00829046591980517,
          -0.0409517469173058,
          -0.013824907745563803,
          0.007829807171408073,
          -0.012095726587800709,
          0.00192127358855283,
          0.0024046614000869087,
          -0.0014600933400237001,
          -0.00631478019397646,
          0.003277500203515356,
          -0.009622083142888625,
          0.010657880385333504,
          -0.001591720948381157,
          -0.0004878111461007702,
          -0.009187954499102405,
          -0.015689090252292363,
          0.0016229488916291441,
          0.002381602143317006,
          -0.035209911731344086,
          0.004078628592960123,
          0.004688823976891569,
          -0.0032024973254096123,
          0.01457043737340829,
          0.005599499189671342,
          0.008937167775652724,
          0.004139758279958734,
          -0.028426773113752548,
          -0.006650041562759767,
          0.002259087895237151,
          0.00372600389419466,
          -0.002061328509283172,
          0.026348058407878096,
          0.009285800404153097,
          -0.0011676116162546324,
          0.007673464847624333,
          -0.005856904734741272,
          0.002405151963172327,
          -0.04549366060215429,
          -0.010638338166410346,
          0.006852785630400728,
          0.0035177693863531834,
          -0.0023175099546600348,
          -0.0031333040368182585,
          0.014040860890595407,
          -0.005161285400390625,
          -0.015604290090585128,
          -0.003043244534240874,
          0.00243932189446131,
          0.0017148639487844744,
          -0.0020231973615258093,
          -0.0006444295079462158,
          0.009284298384386649,
          -0.0018718528920431234,
          0.009312944097216612,
          -0.003811420762995159,
          0.012441185006084725,
          -0.013733254778418408,
          0.006573665564583926,
          -0.016031006803825663,
          0.004155153833813792,
          -0.006591304973477187,
          0.00048685773857886575,
          0.004501260278699552,
          0.00921534485348802,
          0.008966207559586874,
          -0.0007590147233543496,
          -0.036574955438533785,
          -0.0018063997058493585,
          -0.006264379602758463,
          -0.011789084301204808,
          0.009605798762750695,
          0.0004321153252588839,
          -0.005872457769828074,
          -0.016159349692329836,
          -0.00421175874667314,
          -0.00215871095764029,
          -0.0036741865415003674,
          -0.009085158269938345,
          -0.0241003020015265,
          -0.0016586394485316688,
          -0.005780321693329963,
          0.015382540641904438,
          0.008792237677597643,
          -0.0036406015430054573,
          0.0008108834260852633,
          0.0073560731485235505,
          0.008707262597972673,
          0.0051720333349055845,
          -0.02213764763148995,
          -0.005751613040669957,
          -0.003761990807544934,
          0.0054533172728745685,
          -0.003144322942340458,
          -0.01299005718771779,
          -0.009185601267926972,
          -0.008923056651838094,
          -0.00013896700626242614,
          -0.007072793989200295,
          0.020007974065267397,
          0.00020920027974233318,
          -0.0034875027552197244,
          0.0077762407411816805,
          0.0018559951304789781,
          0.0017896647649220585,
          -0.0008231003385616752,
          -0.007143897045205446,
          0.0037285750412974408,
          -0.004586297798735035,
          0.02088652413594504,
          -0.015736869246853604,
          0.00025626840870092513,
          0.0020242412811436678,
          0.011865480632563982,
          0.0037199752485180134,
          0.010666707356770833,
          0.004740882704567365,
          0.0009712369846648547,
          -0.006723442218571785,
          0.002108313156454726,
          -0.01642904357642804,
          0.00013434703345148905,
          -0.008242421081323,
          0.008421084755345394,
          0.04787341202943737,
          -0.02006190832255319,
          0.01827389747002129,
          0.0012893466237325628,
          -0.00431191920680613,
          -0.0018585246881481405,
          0.0070033602456352935,
          -0.029425493299831,
          0.003002224874154124,
          0.005665744115072885,
          -0.004252310356474567,
          -0.0021064505649062634,
          0.014792262064799232,
          -0.05078011163913604,
          0.0014788847014377935,
          0.0032708467646584017,
          0.010380612560830766,
          0.006218156037470528,
          0.004403925576446541,
          0.011564746689100935,
          0.0006285428468163393,
          -0.012767389155597397,
          -0.0039366008333396344,
          -0.00020161147663588588,
          -0.020316364549436174,
          -0.02557075231492469,
          0.000941858199922716,
          0.021531137866974977,
          -0.006926930471317494,
          0.008832743011623553,
          0.018118966706562153,
          -0.037253440240217255,
          0.01021396294934572,
          -0.009307520265046183,
          -0.007333096687632533,
          0.006550068260521639,
          -0.005173610151191881,
          -0.0030660330110473875,
          0.0027548209366391185,
          -0.017440359215815115,
          0.0037080913741611168,
          -0.0176843438106521,
          -0.011081846087942557,
          0.019055577433088985,
          -0.012650909780103204,
          -0.010447677638881577,
          -0.02080937758187637,
          -0.004974558911626175,
          -0.012035331353325723,
          0.0036448180662442776,
          -0.03499221005278061,
          0.011049184773719896,
          -0.008276982919059688,
          -0.004533352322048611,
          0.003499632854242883,
          -0.006218244505528532,
          -0.0043521975941513994,
          0.008833395635781281,
          0.01475074497519703,
          -0.003397218945854995,
          -0.0010655544632871472,
          -0.002096384084835029,
          -0.02370086713485216,
          -0.0026017174438856933,
          -0.0566997559283866,
          0.006395673864809495,
          -0.02368734241124861,
          -0.006065492167684408,
          -0.01991583314076367,
          0.007464762826432426,
          0.004305700970643358,
          -0.031234965651684037,
          0.0023150923354337077,
          -0.01352912028224482,
          -0.011786308326397278,
          0.00539078754047225,
          0.018771602144597315,
          -0.011225463479179984,
          0.00005221578395592033,
          0.0012614431564115733,
          0.007407407407407408,
          -0.0019838667182393533,
          0.04055840966586537,
          -0.013090766876631839,
          0.007012399010368486,
          -0.006319563267093672,
          0.00811699248738404,
          -0.00399622681512989,
          0.002094399239794864,
          0.0083925188096716,
          -0.0035211115583125337,
          -0.021778579137627933,
          -0.011791471537783527,
          -0.019790377802555905,
          0.006144349231815951,
          -0.0006004340119814243,
          -0.007835282376217143,
          -0.03851104955274099,
          -0.014807027441400522,
          -0.007008315722593142,
          0.007883630680391404,
          0.006073366369536888,
          -0.008717351203450678,
          0.01801800087892687,
          -0.02040815104380476,
          0.01229192193634623,
          0.01612896137399414,
          0.005879033518927818,
          0.0014739625051377523,
          0.006819763910500029,
          0.0023307043551956687,
          0.018256854042894004,
          -0.008416883566669314,
          -0.010679648323304824,
          -0.0029204705660388743,
          -0.002278316613945091,
          -0.047992685341030135,
          -0.02584594102574418,
          -0.008818050652865015,
          -0.0016151427080361726,
          -0.0015671278445001072,
          0.007597012225742636,
          -0.0034685450827910435,
          0.011098389775793461,
          -0.013943668442875824,
          -0.0025687413826168126,
          -0.026881037221976566,
          -0.041252963640961246,
          0.046732685353496284,
          0.01590836764699814,
          0.018200824152184512,
          0.00425532644024439,
          -0.002236000507051613,
          -0.0005927441006736359,
          0.0018534758702078245,
          0.008800565001069016,
          0.001302537177461809,
          -0.004545479862128641,
          0.01984511589421397,
          -0.00211491368681636,
          0.0032080520533106574,
          0.005616594333362802,
          0.00707782531792116,
          -0.0019178349443829696,
          0.015492440680122092,
          -0.008437327252347759,
          0.01041289063578127,
          -0.006305326299569145,
          0.010812541484206155,
          -0.05009671401096965,
          0.004118094730880363,
          -0.010390194211061831,
          -0.0313906966033732,
          -0.03083836862749645,
          -0.003979064094634331,
          0.008046971764060246,
          -0.0027585961352819682,
          -0.004060877664398288,
          -0.004510994845974071,
          0.007076507876733823,
          -0.018644358010173057,
          0.009373892182115163,
          -0.009809050601366127,
          -0.032660755983205836,
          -0.006655111270598976,
          -0.0018439266011939276,
          -0.010790888203888772,
          0.011605404621686443,
          0.03685806293428779,
          -0.0045158129056585,
          0,
          0.006015047945360021,
          0.015741298785416104,
          -0.004786567611642892,
          -0.006963934857854469,
          0.0032154054894434486,
          -0.0037281991368895455,
          -0.003702426359037434,
          0.004333847067727098,
          -0.04945671411971585,
          -0.01215000203531124,
          -0.01684269319632614,
          -0.03327853167068537,
          -0.008900415688530922,
          -0.007667269152557161,
          -0.011574029365805056,
          0.018211089934959325,
          0.005159171187716716,
          0.018305556369457823,
          -0.016054760560597365,
          -0.00346364651003936,
          0.012753474726379041,
          -0.013770349834929209,
          -0.004978883943192184,
          0.001676604919452895,
          0.002214479388567156,
          -0.01632854718729768,
          -0.08197461377701765,
          -0.012953056466165978,
          -0.016257051739657143,
          0.0016100187817611558,
          -0.004641192375508218,
          -0.014388456426493832,
          0.0003002292253570718,
          0.024136019946316957,
          0,
          0.008803914013894347,
          -0.00048069830842770574,
          -0.03128392526400692,
          0.01911408176547125,
          0.008405306252197606,
          -0.013083096177156018,
          0.004475973204917046,
          0.02088814232261712,
          0.00003460810763184975,
          -0.012362396741019107,
          0.0017877698491841993,
          0.008197592804368213,
          -0.011161974956413205,
          -0.00404053653535876,
          0.008309310128660994,
          -0.013921301057992535,
          -0.0102941219512909,
          -0.013694952897542623,
          0.002893158415565835,
          0.013877468441477574,
          -0.0036512973191783864,
          -0.05460597394303459,
          -0.01058201311604486,
          0.015394569379912208,
          -0.033469759965102375,
          -0.008418618489656544,
          0.005096007824391138,
          0.027566756374568662,
          -0.02141112618220814,
          -0.002705041591941976,
          0.0007691008454143487,
          0.00991974339656014,
          -0.0032006369681925684,
          0,
          -0.04559747732155776,
          0.0005114097920498371,
          -0.012950842407872585,
          0.0044926910471790775,
          -0.03880868984320838,
          -0.0031776616896607122,
          0.00687114410565813,
          0.00043928087634314547,
          -0.006329993492543528,
          -0.02168909417185616,
          0.02448272705078125,
          -0.008422857690912177,
          0.004601950463706043,
          0.01725186646439647,
          0.002181915563501082,
          -0.003184718749432638,
          -0.00669150156773318,
          0.02247899651900561,
          0.047247985552719404,
          0.009551863300207013,
          0.003957108679660422,
          -0.018433340233247362,
          0.016213360477802783,
          -0.004829092139605166,
          0.008840795002447083,
          -0.011721600870589396,
          -0.003779612966948652,
          0.0025374974967102026,
          0.008347277570184223,
          0.010699371441503694,
          -0.008884516443350287,
          0.007177541909527812,
          0.0033095332945178193,
          -0.005565114071856092,
          0.0036512028594259684,
          0.0002711794956300468,
          0.003759390995244411,
          0.016911834911733252,
          -0.00736518602056565,
          -0.0028244665606247505,
          0.011070640537701248,
          -0.0013454378638333847,
          -0.002019722473445197,
          0.0023539946301670044,
          0.008284128798838192,
          -0.0055800356473447305,
          0.010230508075665069,
          0.0024781919786534255,
          -0.0015351316404369627,
          -0.0019639850231040535,
          -0.012816700892821104,
          -0.0053202810179708475,
          0.01726898150922582,
          -0.0024848191483894016,
          0.015535079981777248,
          0.004866653790113823,
          0.009202250978647089,
          0.012830708454945427,
          0.010698258191212853,
          0.004256434388780702,
          0.008144949283971512,
          0.0039911377220792485,
          -0.011122887389538899,
          -0.002500025431315104,
          0.00815640312299837,
          -0.010711057640439406,
          -0.0039952785243872885,
          -0.001773894938906756,
          -0.060802872147182455,
          -0.008107566448037687,
          -0.009896519867700947,
          -0.008308688321925915,
          -0.0005635416416774555,
          0.0005788006825940073,
          0.02082907213994082,
          -0.00697276097892443,
          -0.005992125494134738,
          0.004213142768786488,
          0.011206545832297247,
          -0.006031125303049575,
          0.00851635577805518,
          -0.005084382213443021,
          -0.0034302255635972594,
          -0.0030920890623981016,
          -0.031339051546593034,
          0.027495447864062758,
          -0.008852627630339999,
          -0.007845292505046808,
          0.0031688408483789956,
          -0.0009517043651463852,
          -0.0005743551972687777,
          -0.0028518551155700756,
          -0.021292755976709748,
          0.020592778950774576,
          0.0025459062625062443,
          -0.00623411074167877,
          0.03089730449933381,
          0.018921464356806743,
          0.008145295268579336,
          -0.0006458531466924909,
          0.013815057304127501,
          -0.0004059794394171215,
          0.0037219030546682655,
          -0.029683365026019707,
          -0.0070318936131801,
          0.002693198794625561,
          -0.007330720415994625,
          -0.018523211175952084,
          0.00017965220238046705,
          0.00930554759411778,
          -0.01151121197576878,
          0.018695825874372456,
          0.015342129415740313,
          0.014205751801207273,
          0.00029674179705875065,
          0.0014622283298697369,
          -0.030926620693775858,
          -0.019531181941809358,
          0.02262316747302678,
          0.03396944318532645,
          0.004087513665499345,
          -0.010632374098185435,
          -0.04695494494210928,
          0.007192139231310469,
          -0.014453072903492153,
          -0.001965968951214497,
          -0.0024957080937271885,
          0.002673059670757361,
          0.0034759304835662703,
          0.0006777088433928721,
          -0.008827872023731571,
          0.00644462548207415,
          -0.017037705494041384,
          0.015388398425585847,
          -0.024070758605680982,
          0.001326239682989557,
          -0.0004991062228657798,
          -0.006311474889353136,
          -0.007019922627255823,
          -0.012178606158810753,
          -0.03775574254589631,
          0.002472531560854584,
          -0.028329688808536237,
          0.0068189607053367515,
          0.014869136518196541,
          0.10915150340333207,
          -0.0005639094509632171,
          0.00890619794339724,
          -0.0031719512017228807,
          -0.0012087306841801404,
          0.0017382633572095062,
          -0.011913066458469993,
          -0.011653413906063224,
          0.0017174956959289738,
          -0.0031611942776323875,
          -0.006507283961998715,
          0.004437588681619403,
          0.003698056812889457,
          -0.009025362112185374,
          0.000471755060568296,
          0.0060903673302489005,
          -0.039148617222515204,
          0.002028530725715307,
          0.0006505832100798974,
          -0.005872079152012443,
          0.008363513966929009,
          -0.00918477129601804,
          0.023360060910816903,
          -0.04553100990459096,
          -0.031971741000103956,
          -0.008212268978573677,
          -0.00021643731138120035,
          -0.002868633307327681,
          -0.019742304805521506,
          -0.010729088091695116,
          0.004373418955422587,
          -0.003820406632615347,
          -0.008473386647103894,
          0.008045211150878922,
          0.0055347976170998505,
          0.007421143384760089,
          0.008109284318517287,
          0.022926327234528688,
          -0.009775363488051058,
          -0.0023731199692938283,
          0.004581264642473233,
          0.0142444895716695,
          -0.004355334412392051,
          -0.00645527010607509,
          -0.015070047111684347,
          0.012303997747079791,
          0.02176655098409109,
          0.010082171714469177,
          -0.014718550919978078,
          -0.0289506495275184,
          0.032172278093876835,
          -0.004511634438944366,
          -0.010434917756621259,
          -0.026660117983076635,
          -0.009057992008485893,
          -0.0014277711600982795,
          -0.00784635692761481,
          -0.0039016037194171452,
          -0.0058672050560803195,
          0.004978793803356545,
          -0.012900700730660674,
          0.0023661678527981773,
          -0.001967866458103697,
          -0.022224558382875147,
          0.003437935307255296,
          -0.0018134223383225185,
          -0.01069521326896821,
          -0.0008947934529011447,
          0.011843675114549182,
          -0.012307731162964191,
          -0.003770562195085392,
          -0.006210419863472436,
          0.06783153464925366,
          -0.005119427545052771,
          -0.004564554334139148,
          0.007388790200483327,
          -0.005582244735687977,
          0.014599990844726563,
          -0.02120381637686237,
          0.0003171941641805845,
          0.003158637088184312,
          -0.042921346889395716,
          -0.02525252622556306,
          0.0074778828274634605,
          0.005769559661075186,
          -0.011656450336035483,
          -0.004276789409382768,
          0.008178307305269026,
          0.025912445317740968,
          -0.005602333522571657,
          -0.008303731343958978,
          0.0012865554191829579,
          -0.049961306381654705,
          -0.019762131540966697,
          -0.011825649047568857,
          -0.0003311822969741331,
          -0.016903615011872198,
          -0.020336493860269828,
          0.013569748394938703,
          -0.006904911509955023,
          -0.0029054550302858024,
          -0.0025570627011222966,
          -0.0009702680003713532,
          -0.00037573508336880224,
          -0.003135988317999863,
          -0.002548682386350095,
          -0.005093888596312231,
          0.007409988826463715,
          0.005744970921507457,
          0.0070834575279391096,
          -0.0073170618242197494,
          0.00339149153368175,
          0.004336287884521875,
          0.02547554301612066,
          -0.002948760986328125,
          -0.012178006706204015,
          -0.016424016411827606,
          0.0014448538564498007,
          -0.002505071869775054,
          0.03829388516170044,
          -0.003041509086626835,
          -0.0282948407282771,
          -0.0005600386370262615,
          -0.020765814927234096,
          0.010129591091474058,
          0.02508831450888354,
          0.007625238834115526,
          0.013086851350928866,
          0.0013480860106438524,
          0.012760888762116942,
          -0.014389642871548747,
          -0.006946689538655958,
          -0.0029940803667591405,
          0.018915780885212126,
          0.007746422074100186,
          -0.00032510496773164227,
          -0.008712886804362021,
          0.0077962047596212055,
          -0.014120874652551045,
          0.06333072614233516,
          0.017376384578241623,
          0.005434037812624478,
          0.008141689436247589,
          0.004245584444340719,
          -0.03218262588828786,
          0.002492084546275718,
          -0.013241714492257979,
          -0.009671379110672429,
          0.004584559416662452,
          0.015037593984962405,
          -0.005991577674717092,
          0.005437523179694706,
          -0.0018609475421372062,
          -0.03545021932020567,
          0.0028060759506058864,
          -0.011076381703753701,
          -0.003141702221470921,
          0.03926551948159428,
          -0.010795511062368812,
          -0.005598102469744833,
          -0.009506885535594773,
          0.0009932357795492696,
          -0.0008984360540651947,
          0.013378000899104098,
          -0.008913821556508382,
          -0.00012179772198610576,
          -0.01686123395560479,
          0.006365390804173464,
          0.006048397434034962,
          0.012745945110173733,
          0.014366130321927288,
          0.004423266391603495,
          -0.0010450924606834541,
          0.02467057464343137,
          -0.010104919738653463,
          0.0021100008705979365,
          -0.005323470940231489,
          -0.003873807194599385,
          0.0020496504873751416,
          -0.010421008853071265,
          -0.011560628000628874,
          -0.002200428535429888,
          0.00148331284006732,
          0.01655588825939618,
          -0.010326741383156151,
          -0.009673306190198079,
          0.015139094635083674,
          -0.015040986550646167,
          0.011351301863386825,
          -0.005110687147540568,
          -0.020487933164926413,
          -0.021653538626125745,
          0,
          0.0009274148499747666,
          -0.00426552531516001,
          -0.001115889395205542,
          0.016247704648528545,
          -0.007822055188752047,
          -0.0019858200483585317,
          -0.004417465625597692,
          0.007992450999050358,
          0.0000881789315309766,
          0.017761926205754935,
          -0.023550757958422566,
          -0.020867564652211255,
          -0.011792170634051885,
          -0.0059432582399145985,
          -0.002858857869441706,
          0.012995729215368283,
          -0.015324123827118513,
          0.004096094292556532,
          0.007760917812889176,
          -0.007087206159830191,
          -0.015435899579251835,
          0.0029483901575506157,
          -0.0014874049878591095,
          -0.0029271834588137967,
          0.004747769845396097,
          0.004725390252199694,
          -0.0043181445286650565,
          -0.014050327005237086,
          0.018815854651340724,
          -0.023636368680591425,
          -0.012235414506786698,
          -0.002408532941132478,
          -0.038432995610090996,
          -0.005006523890447531,
          0.005556507501462905,
          -0.021674818146872395,
          -0.001262967580224829,
          0.034992518312992105,
          -0.008850687684613319,
          0.0035169981878823055,
          0.01230872377322219,
          -0.03251001941775114,
          -0.0051770435497885195,
          -0.01986193603618299,
          -0.016249810847808917,
          -0.00509829415822184,
          -0.014132022830353424,
          0.004448341871048413,
          -0.019108830385363127,
          0.0018326167597696409,
          0.006362615482573347,
          -0.002426063237848477,
          0.008458609358525495,
          0.015275087122042886,
          -0.01433779175480332,
          -0.014596826100102683,
          0.017864414644525158,
          -0.00740640362644745,
          -0.0018441007131213432,
          0.00902504905024535,
          0.00850663074072732,
          -0.019733874537412037,
          -0.010504758557596921,
          0.026892167585249507,
          -0.008137249074037617,
          -0.006156051960350423,
          -0.003600048340911039,
          0.0017851522146177686,
          0.07357174228224564,
          0,
          -0.006522438454611485,
          -0.0029310049008646243,
          0.0004958475916838843,
          -0.007353555660098939,
          -0.001860507698946221,
          0.0008213444276924665,
          -0.010458720099723626,
          0.013988437992319587,
          -0.006870358069626111,
          -0.003202468153419108,
          -0.005140201674797809,
          0.01362198640445846,
          -0.0041640446995002064,
          -0.0045459772174667335,
          -0.0021362430218244814,
          0.01667297872114885,
          0.056183101940027166,
          -0.01059900180761637,
          0.018184424725335477,
          -0.008372803270120348,
          -0.0015289542124979122,
          -0.004177723946546684,
          -0.00804183409328625,
          -0.000329379175034325,
          0.01075718884569964,
          0.03757248071919087,
          -0.017539482977092603,
          -0.02004131976001866,
          -0.00919857538848019,
          0.0024423033213029823,
          -0.020977391884972135,
          0.0007578184005444059,
          -0.009840949952603291,
          0.016887819144395796,
          -0.001370321991169431,
          -0.001255158483988422,
          -0.0037926097111295122,
          -0.007974001282942688,
          -0.0049226227197325095,
          -0.020768698196059605,
          0.0059093995596191115,
          -0.010034841753529006,
          -0.008212540590584625,
          -0.007267972246691056,
          0.03323798904284555,
          -0.02292257274220911,
          -0.00302342881610304,
          -0.004169075987719263,
          -0.009014984786220684,
          0.03207705838470092,
          -0.006168705146858532,
          -0.0010842580153552206,
          -0.008427901276630914,
          -0.013028131631378783,
          -0.011068404330360482,
          -0.004360354287540188,
          0.0009770246762277977,
          0.004442918604145843,
          -0.03440619896360474,
          0.015822724259983444,
          -0.0006677524720385021,
          -0.00527673767552085,
          -0.002454796891074416,
          -0.0020530161738032404,
          -0.005013263773833058,
          0.17740108781368072,
          0.0012481510481231074,
          -0.008636906329675795,
          0.0012695323651228914,
          -0.026802444406503843,
          0.006794773042496335,
          0.004558197765040323,
          -0.0074002565338878975,
          0.006578278478323939,
          0.0037287355109783434,
          -0.00583147806961679,
          0.005811755988341522,
          -0.0025424849625187143,
          -0.003356124052943718,
          -0.03412092312676583,
          -0.005639904281165966,
          -0.03387449076012387,
          0.0002573235445676919,
          -0.0068094161169746726,
          0.0007346357202362016,
          -0.021686412051151547,
          0.007004368095688066,
          -0.0013754598822306203,
          0.005688244514153494,
          -0.03533211989703811,
          -0.0019131698231709784,
          0.007503332625088987,
          -0.0005470985099427014,
          -0.040401351436998065,
          0.0277741112584799,
          -0.011061065059184748,
          0.0025510248214834067,
          -0.008263207707433813,
          0.007199610795492761,
          -0.0059753180507475445,
          -0.009955313267230089,
          -0.012437034362074327,
          -0.008861924060458345,
          -0.021091913579969476,
          -0.00636432332367267,
          0.013140987972156098,
          -0.013239523896575798,
          0.008191489720199362,
          -0.03335911003710805,
          -0.0030754624805369515,
          -0.0051320221610411075,
          -0.0003035313281736482,
          0.002735816411163414,
          -0.0222650596427235,
          0.003191562538616202,
          0.011556171886869977,
          -0.0006033416380761641,
          0.002738305893492524,
          -0.00407862830451495,
          0.0020119923719040377,
          0.013513531686238768,
          -0.0006965121780690422,
          -0.0063291339471593655,
          0.010915608935824368,
          0.0001620473486154102,
          -0.0036605893698140237,
          -0.009417569676435089,
          -0.006254269307109629,
          -0.0068997646741052205,
          -0.002676774854423727,
          0.0027587835265646243,
          -0.0223953914052892,
          0.020649183597367064,
          0.00015282103432912966,
          0.002167777637200933,
          0.022186217520401064,
          -0.01453425680424039,
          -0.01735573552263169,
          -0.012195056813835188,
          -0.004216224460119099,
          -0.0014164629940149958,
          -0.014204599076146105,
          0.003694854691803391,
          0.03555844190916384,
          0.01124302126160992,
          -0.0030627841169856037,
          -0.004551490653021046,
          0.012706468371881609,
          -0.002412984694638841,
          0.01226109477823925,
          0.008095558128196527,
          0.0195137916025953,
          -0.022867214731643007,
          -0.004882597587477993,
          -0.0017656727707213735,
          -0.007628770889373572,
          0.0058791826234558895,
          -0.002716575601758975,
          -0.0013698570824746531,
          0.007014675319362668,
          0.0035317707316866623,
          0.00004171329958822923,
          -0.004316736903824238,
          -0.005226489712759793,
          -0.08257893205014386,
          -0.0026246985454756624,
          -0.008953019023124937,
          0.01611001316782494,
          -0.0040026890252449114,
          -0.012787864531869126,
          -0.01013785047417407,
          -0.00037099717715231964,
          -0.005990641504900466,
          -0.003906289581207849,
          0.02554620481004902,
          0.012383866761081535,
          0.023834249223076587,
          -0.010626046385053925,
          0.003443078183971015,
          0.0017897918554912109,
          -0.03464249123958652,
          0.0027715761930761132,
          -0.0039464436916311655,
          -0.010021826557193402,
          -0.0029729894689611487,
          -0.0071774379280749685,
          -0.0032663585579715626,
          -0.003857225051562725,
          0.0010305472414563323,
          -0.01986939790646495,
          -0.01240240937465776,
          0.005078513902423002,
          -0.005436492418200467,
          -0.0036023886837190447,
          -0.021410536809165912,
          0.0032091634874231484,
          0.011036536892016072,
          0.007606738420474277,
          -0.058189637200909465,
          -0.013474972823946954,
          0.023386943061564983,
          -0.037936752698565154,
          -0.004977724576185899,
          0.011151263667319772,
          0.00542662788485963,
          0.0011859904081030998,
          0.0037324704880083246,
          -0.02435720147105083,
          0.0067595509519659735,
          -0.00198313460199191,
          -0.021146543466361464,
          -0.010234861418018245,
          0.016040733104307526,
          0.008447640208991426,
          -0.002378377065804317,
          0.0014596557852363105,
          0.002157699578788805,
          -0.036202231845386464,
          -0.010097323617708725,
          0.007158846464072138,
          0.0009290423798795695,
          -0.005329774982422785,
          -0.010693581060679537,
          0.01903610356870945,
          0.016882859296283075,
          -0.001914489593731075,
          0.008813664200055622,
          -0.021392671073547413,
          0.001329276396259974,
          0.004752778981454118,
          -0.009186558857665018,
          -0.007220563975817163,
          0.0026772934444804254,
          0.00412838363544081,
          0.004410562197777052,
          -0.008452522644287992,
          0.003973177193775346,
          -0.003532785254531859,
          0.0002975309561121411,
          -0.003880380819209401,
          -0.009809163317203303,
          -0.006458282470703125,
          0.016905086277451388,
          -0.02298456714112382,
          0.004326434742781384,
          0.011441324344550152,
          0.011311121225025264,
          0.005217008068668534,
          -0.0009888902779862391,
          -0.006747398854374504,
          -0.008792297302106697,
          -0.0015230764572351668,
          -0.002370296278495195,
          0.002530719160968909,
          -0.0023746407239510522,
          -0.004656585457511051,
          -0.0304000244140625,
          0.00050323036785724,
          -0.0009754695197936321,
          -0.00027135474945325436,
          0.00011330997821507548,
          -0.005874387107874742,
          0.002603086625552301,
          0.01873620757632664,
          0.011764682161253266,
          -0.0014909206338228854,
          -0.003873942897630293,
          -0.026869179355833116,
          -0.006725991325521177,
          -0.015299696098367092,
          -0.008879428371711053,
          -0.0019275698050759478,
          -0.007194256889340296,
          0.007831908334543196,
          0.0006230275876679199,
          0.0007475409602329739,
          -0.011463255372118833,
          0.0027068713523617787,
          -0.012960307261217092,
          -0.005867535040535554,
          -0.002394191269190082,
          0.0016219988773298216,
          -0.031290749639543425,
          -0.004466211560833093,
          0.009974490816233708,
          -0.00487757281807024,
          -0.0010592259216929514,
          -0.011170677959454664,
          -0.00354065520304721,
          -0.007915262388259235,
          -0.006623682918761017,
          0.0005935364414325518,
          -0.031193102486502946,
          -0.0009317706788490544,
          -0.009107222842618879,
          -0.01287368779330929,
          -0.00703983234196402,
          -0.006537892850811274,
          -0.005825532219217468,
          0.03279046966934092,
          0.009457562994393254,
          -0.01145891172163328,
          0.004564448044394377,
          0.012931095737745197,
          -0.005842032324448027,
          -0.006483049988295082,
          0.001596902469463696,
          0.0013533414179718738,
          0.00012408058745485634,
          -0.01319774182878166,
          -0.05550073875647647,
          -0.0068389750268362205,
          -0.0081935462851783,
          0.0035549597574071304,
          0.014483563988177734,
          -0.05216366475031089,
          -0.007513176432537361,
          0.004763404878390927,
          0.006275680126100297,
          -0.009435955885088247,
          0.0065164275191379835,
          -0.009796755031606956,
          0.00515531255641365,
          -0.008447289918629948,
          -0.004873261491104658,
          -0.05568936188396871,
          0.016443635131430476,
          0.009151486376909834,
          0.002750850462794588,
          0.0009628365969325704,
          0.014534883076207225,
          0.0034798703220178867,
          0.010145290087823682,
          -0.007264960643816576,
          0.01702567858573718,
          -0.018722626114580795,
          -0.00018896846649097383,
          0.008245679081319105,
          0.01812075044225312,
          -0.011077649556247033,
          -0.01726796760697259,
          0.00415177735154686,
          0.02023723884431803,
          -0.017656429775296436,
          0.03766632641405781,
          -0.004643371804717412,
          -0.01076283430283021,
          -0.011597957465635158,
          -0.011864904238561682,
          0.0005186062522916541,
          0.009705482246049231,
          -0.010116432469740574,
          -0.007420152095808123,
          -0.016366850372994686,
          0.0010953153073917905,
          -0.006957281444221945,
          -0.0020021138581083025,
          0,
          -0.013877505347842262,
          -0.006656607900848612,
          0.011326342154899404,
          0.018761295397630003,
          0.004676317475835097,
          0.0014891426465723303,
          -0.04327805722172433,
          -0.00920884549916808,
          -0.003921545804320594,
          0.0004765342190346368,
          -0.00818526571541453,
          -0.02696000413097485,
          0.0027482052323306136,
          0.009724684779067122,
          -0.0083484867352386,
          0.002901114998282967,
          -0.01702997239801532,
          -0.009961218191134885,
          -0.006199893294903206,
          -0.005592226038600315,
          -0.00022040846176833658,
          0.0013172639801538593,
          -0.001818363583754138,
          -0.014770666904949825,
          0.007092152826387883,
          0.001495019127031255,
          -0.0029173468873585446,
          -0.019597517848162094,
          0.006158330739239832,
          -0.01080418299961757,
          0.011616980684517175,
          0.010881129767301621,
          -0.014363763565765925,
          0.011506799149186644,
          -0.0016607871036698758,
          -0.02177862091380852,
          -0.015696207682291668,
          0.020916929371916453,
          -0.011937585248324178,
          -0.022044822716862856,
          -0.04833220275207434,
          -0.021160913607889444,
          0.0045233318048932564,
          -0.006869687420181366,
          -0.05087244032216119,
          0.008151702336737869,
          0.002669002853670585,
          -0.01321123308943211,
          -0.0027756903201313497,
          -0.009552653969193642,
          -0.010144333746505755,
          0.007494613884435913,
          -0.031461950567987965,
          0.0022522279691632842,
          -0.00601716920911177,
          -0.006767177317337317,
          -0.0027749735361301464,
          -0.026430554359664207,
          -0.016244290120472796,
          0.007396755966012893,
          -0.004309242924578585,
          -0.006249047219645387,
          -0.0021630921295169117,
          -0.010650905872117124,
          -0.013978606105621655,
          -0.0017490230002683068,
          -0.0026778993022383165,
          0.0010975021176016658,
          0.002951961040640589,
          -0.012107760775283884,
          -0.01280893012841998,
          -0.013752092915750315,
          -0.0322603646213279,
          -0.000857974461882034,
          0.004553511528820314,
          0.023492500102312745,
          -0.013181827817172996,
          -0.012263096454004262,
          0.05012362140046585,
          -0.004045445676939747,
          -0.009372384125406256,
          0.010443558909905684,
          0.0020079823305980946,
          -0.00791474203964611,
          -0.012371472316815011,
          -0.004495594268227064,
          -0.005651916093784133,
          0.0013140905276287764,
          0.005704968933810239,
          0.005312367035796304,
          -0.017629994630971195,
          -0.009993998379158028,
          -0.023296143485710966,
          -0.002170909624693815,
          0.007862703787848122,
          0.003707875975536739,
          0.005654256395568696,
          0.00771292161191333,
          -0.0030688161535792806,
          0.012431675753147482,
          0.017391325981270588,
          -0.017130036503684862,
          -0.001545133117528667,
          -0.007476952213483225,
          0.0854332845371468,
          -0.008453509255809684,
          -0.007639811723112756,
          0.022506768686705213,
          -0.012107256076922361,
          0.01236077500252199,
          -0.0006552097716905553,
          -0.015832805611397948,
          -0.027111730214763086,
          -0.00261337859783107,
          -0.0013786265082014317,
          -0.005338030886491203,
          -0.026998921029645996,
          -0.023837471482624332,
          0.0069383675706125155,
          0.0031902115524601875,
          -0.006725411985772554,
          -0.012038266371913891,
          0.0009137611216487486,
          -0.006515567909555579,
          -0.01061648510929042,
          -0.012390112869192008,
          0.011446886366911345,
          -0.01044085272200623,
          -0.03441767257549426,
          0.0059076320598797655,
          0.001703902936536928,
          -0.003789913233705774,
          -0.0026557365635073407,
          0.00248203869653878,
          0.0014518628295594144,
          -0.01772264912180657,
          0.0037764306931106903,
          0.003802287803033337,
          -0.002828651542501453,
          0.01056773678346405,
          -0.006424634146565624,
          -0.03496761267901916,
          -0.0018683285117573798,
          -0.034071155972745654,
          0.009910594198017125,
          -0.007875018050056243,
          -0.029265244321141103,
          -0.014623184411748709,
          0.011525850698982583,
          -0.010370517824126842,
          -0.0042356371806018265,
          0.014902322804341225,
          0.013017748273774273,
          -0.0036211643518974383,
          -0.011312260151992382,
          -0.04578243812221929,
          0.012106558652333175,
          0.012983433604144163,
          -0.04360464922862167,
          -0.0028025919318954576,
          -0.008083004389289538,
          -0.011414548850999498,
          0.018512074822964,
          -0.011272169280415108,
          -0.014710522988415856,
          0.027302876558280526,
          -0.0154329364816916,
          0.004462957372092443,
          0.009554145355791606,
          -0.0009489383793358396,
          -0.01135648977987152,
          0.010304003076966058,
          0.0068421416481806415,
          -0.05160007645602085,
          -0.00696859090270584,
          -0.009774823245383238,
          0.00010070616453082795,
          -0.01821489068413599,
          -0.010564236686464595,
          -0.012266447052698864,
          0.007561429516346501,
          -0.04065038322916872,
          -0.008850993943598182,
          0.011144130252463795,
          -0.013627146320790505,
          0.003946942374356936,
          -0.01093275521965761,
          0.013645369485720303,
          -0.00896240364382394,
          0.002444638992709715,
          0.011903114429668965,
          0.0007511916631383422,
          0.009594359993181346,
          -0.014820560445099601,
          -0.006678910494157847,
          -0.0192066575060471,
          0.004479802013411636,
          0.011340510802935199,
          0.015896981119292306,
          0.011108191244296198,
          -0.02518996650738539,
          -0.002369552476460123,
          -0.0025562371390489094,
          -0.0007927756117425541,
          0.009835669462503407,
          -0.0013065166904376573,
          0.008414243990516315,
          0.003302370379620242,
          -0.002175022036466259,
          0.015918497371186564,
          0.011705663617656679,
          -0.008754688724912904,
          -0.009541072911985101,
          0.00006037617486191941,
          0.005167978268645959,
          0.004382743820142748,
          -0.02139043842073237,
          0.006840216664362965,
          -0.0034850761913284645,
          -0.014152666171477367,
          0.009165392427221095,
          -0.00836761027945079,
          0.008697960938336344,
          -0.010049398088713838,
          0.01647711956273955,
          -0.010679355330269102,
          -0.013743380858232693,
          -0.07628169744722892,
          -0.0033342223100458405,
          -0.008591079682382399,
          -0.000372146849106577,
          0.007046851050873853,
          0.016521014742836584,
          -0.02327450781279046,
          -0.013739179315954468,
          -0.006105920101689196,
          0.006244365985576923,
          -0.005520409437749254,
          0.0034540402106184058,
          -0.03908001708984375,
          -0.025240790882633004,
          -0.0023123196611185277,
          0.05804582052135637,
          -0.0001959110720700849,
          -0.006319931883599563,
          -0.003034624868318998,
          0.011664902095553703,
          -0.002417050636498039,
          -0.03287545799344862,
          -0.005074293742358963,
          0.035650636778132974,
          0.004896293015534731,
          -0.013584359086298164,
          0.004702611747074845,
          -0.028549558768621374,
          -0.009845952207853965,
          0.02004797588926122,
          -0.00215802581645533,
          -0.0040370869524791655,
          0.0031686517075551483,
          0.001953399193781949,
          -0.016759781529015038,
          0.012533700415188526,
          0.0017467237671150164,
          -0.0016321425825148838,
          -0.013960933020035487,
          -0.005711883710008277,
          0.013694648813878978,
          0.0035579113742488207,
          -0.03705626648741883,
          0.009077357693895784,
          -0.002701200065592477,
          -0.016071507545240317,
          -0.03894816436506927,
          0.0010733116447501497,
          0.001814374776072539,
          0.005808954690823605,
          -0.008246667166356914,
          0.011176820284792267,
          -0.011155140808858554,
          -0.00029338659459046456,
          -0.05305848438419116,
          -0.007428559802827381,
          0.006224056664509307,
          -0.002863275197150316,
          0.011098039404655287,
          0.055881868761011005,
          -0.03326073510655303,
          -0.010828263844460152,
          0.019678171755415974,
          0.0019043393013562205,
          0.036896817619178,
          0.0023840763184671634,
          -0.00820971833782758,
          0.012500020972004273,
          0.004963857465837459,
          -0.000726658863568859,
          0.01641589627641717,
          -0.0077256425432407835,
          0.01346538032777699,
          -0.0036645022089744155,
          -0.014789531374382197,
          -0.03454385715827425,
          0.012573719487317234,
          0.02367069413165598,
          -0.005730680635963565,
          0.049444982710683115,
          0.004032240343498535,
          -0.008442540005577988,
          -0.0006167270297706359,
          -0.006190431242585601,
          -0.004896968972399884,
          0.011727676403724933,
          -0.0304449918083396,
          -0.0003348451894532281,
          -0.010778029502210058,
          0.005240058310079767,
          -0.02311558614615904,
          -0.003026703572861062,
          0.0054901721430759805,
          -0.0021443625461784097,
          -0.006608174915879125,
          -0.015641578917299167,
          -0.03984578509854002,
          -0.0019277549651731927,
          -0.0019598061862141714,
          -0.01580450964188138,
          0.005498302761222079,
          0.0058994722548433316,
          0.013248100667580753,
          0.024134365409781255,
          0.03701384083525297,
          0.007176477768841912,
          0.00024817675503633024,
          -0.014369068633082264,
          -0.007623113705087303,
          -0.0038820617980328425,
          0.0002321617470655629,
          0.00618873452240566,
          0.002255265533986638,
          0.012614096668692095,
          0.018558888453918253,
          0.004901609105949136,
          0.014377552079851743,
          -0.016121391660880106,
          -0.0011641547439370803,
          0.004010486274192685,
          -0.013823984319904952,
          -0.004005779558278601,
          -0.01718969880741718,
          -0.011772633261312155,
          -0.0013096390888353267,
          0.00871089035192799,
          -0.0016713120731311135,
          0.012919003779513372,
          -0.007926847876572028,
          -0.00004975279836738012,
          -0.004123172996205332,
          -0.00047041233475268214,
          0.008997092996845884,
          -0.005452240617569019,
          0.0029681010817151385,
          -0.013650223841638942,
          -0.028964559018868734,
          0.01342086011973738,
          -0.003951171327178937,
          -0.03969279919188589,
          0.004380246183603853,
          0.025085710275663642,
          -0.00539868370133861,
          -0.0022913026556586977,
          -0.004143618366158816,
          0.006599465809899027,
          -0.008640174392706161,
          -0.002377787128621113,
          0.014981253511445098,
          0.0027877217492126016,
          -0.0013624997881758836,
          0.01445647261630634,
          -0.009987639628035495,
          -0.00959789231031702,
          -0.0057752454603040545,
          -0.005683831246192502,
          -0.016524722454783,
          0.007163716306753492,
          -0.0023989209602959193,
          -0.01600043052490339,
          0.0022741940631141526,
          0.01682818986746984,
          -0.0072057769605413996,
          0.006763255289298706,
          -0.009098849502123906,
          -0.02122751919348348,
          -0.06267027763615585,
          0,
          0.005339094678550783,
          -0.03535917914648624,
          -0.007273474454398856,
          -0.031850906018353366
         ],
         "xaxis": "x",
         "y": [
          0.00011676741025315462,
          -0.004750058823505404,
          -0.0032967324380271112,
          -0.006205475331100663,
          -0.0013277097687082462,
          -0.00654288508196163,
          0.0008685752918503598,
          -0.0025878600460855217,
          0.0024161990060640737,
          0.001443271377384342,
          -0.0002289326005483483,
          0.00607768677565787,
          -0.004291544143073395,
          -0.0043658024796394135,
          0.005724666546114726,
          -0.0007909561453604552,
          0.00042162539760659534,
          -0.0012961910477687633,
          0.0010285137900981067,
          -0.0039491173600760265,
          0.0041080107543255695,
          -0.00008316748843659183,
          -0.005137701302870251,
          0.006302198284129923,
          -0.0014095243609617558,
          -0.0003316652326855185,
          -0.009358885462032035,
          -0.0031553395785424987,
          -0.004944026039437693,
          -0.002917962576557326,
          -0.00943304234065917,
          -0.00033083419935167613,
          -0.00558526272919771,
          -0.009879672900860503,
          -0.00816440893080872,
          0.0002485095089659328,
          -0.017638408827916674,
          0.004466839948631368,
          -0.00010320403809752077,
          0.005531477717429983,
          0.0056769492186002635,
          -0.002991855109478553,
          -0.0011901524884989079,
          -0.006372501905586997,
          0.006321439226706221,
          -0.005122884891117674,
          0.0004392937192306823,
          -0.002694478661909,
          0.002721310799495752,
          -0.0032579623436497507,
          -0.011737410413724086,
          -0.006526495436186025,
          0.0012394419118763045,
          -0.00488643152633772,
          -0.0028575180712216153,
          0.0025575148002922043,
          -0.002211482702027645,
          -0.0015853116233963682,
          -0.011732772447675122,
          -0.004707681175553036,
          -0.00003160750018485481,
          -0.0034863630419451064,
          0.0010361665677438847,
          -0.006159725288005458,
          0.0029391625741788663,
          -0.008464900903540823,
          -0.008759726708048199,
          -0.007179760711082561,
          -0.005512589181178945,
          0.000714174767576431,
          -0.003084087232354149,
          -0.0065261876610222536,
          -0.008243965063734066,
          0.0003986812384489391,
          -0.0009463963736795755,
          0.0018637524988324716,
          -0.0045029343256666465,
          -0.008265910418998296,
          0.0018366292358703573,
          -0.000092133592468846,
          -0.00299892538759583,
          -0.006529700230961166,
          -0.003609487323303212,
          -0.007465905205391282,
          -0.001323798203486909,
          0.0017008895533445478,
          0.0014616252172138522,
          -0.002771196675005916,
          -0.008369786308585314,
          -0.011379536792740813,
          -0.0027200281239980195,
          -0.0025714450623317286,
          0.0003878697422911026,
          0.0034528926015297834,
          -0.009130194245381806,
          -0.0025456983676957756,
          -0.004965514115734954,
          -0.0024787085542977705,
          0.0016402249332849173,
          -0.007038297537607707,
          -0.006635685999283464,
          0.0027379067109009614,
          -0.006209925631539187,
          0.004573066633309197,
          -0.010991962736279642,
          -0.010605893577662645,
          -0.00721488229455014,
          -0.002567187943929433,
          -0.005135910643826125,
          0.003486988397251617,
          -0.009075468550075377,
          -0.0038938803393237242,
          -0.009958937444459276,
          -0.0015865940025447667,
          -0.0010250699008674258,
          0.002673935515517617,
          0.004110950655629969,
          0.00027957826684257836,
          0.00001307585724424909,
          -0.009261113306886476,
          0.0006053854669505754,
          -0.0018379008389230733,
          -0.004706520775727779,
          0.0014719271902267905,
          -0.0001402818736602196,
          -0.0053329519468348074,
          0.000459671948510737,
          -0.007673975244590292,
          -0.008526677441541924,
          -0.0018344816778544382,
          -0.0020442870137567237,
          -0.002384329382897843,
          -0.003513115774888137,
          -0.0010122666078659082,
          -0.002603751423900902,
          0.005148995548476143,
          -0.011256284070654904,
          -0.0036111737993496096,
          -0.0016575036630271656,
          0.002023640938388249,
          -0.0005402780287485087,
          -0.004621609146983147,
          0.00039237252721130433,
          -0.007102969700188755,
          -0.0008505380476908353,
          -0.010993042623090171,
          -0.0007304965480667835,
          -0.006681133242646881,
          0.006907998830351592,
          -0.009654918105088645,
          -0.0049248689873068185,
          0.0020096642783759278,
          -0.009587821732740087,
          -0.0015680002426088635,
          -0.0039393392145786466,
          -0.003469010545444795,
          -0.00344538275621345,
          0.002096366887790496,
          0.008087354935363333,
          0.0067912986732140135,
          0.001661697346713259,
          -0.002209995754938493,
          -0.0005387243819353627,
          -0.004778562753398996,
          -0.001522638129372228,
          -0.000360425754596605,
          -0.00423101066320114,
          -0.002800615338156731,
          -0.006451356893102389,
          -0.0031304851722631366,
          -0.0033713845768643946,
          -0.00634132865683415,
          -0.005503115561702437,
          0.0004194858867431206,
          -0.0021471776290132305,
          -0.005809768849178054,
          0.002824801133391258,
          -0.011164945284614342,
          0.0024490133339216402,
          -0.012940907558836118,
          -0.0026522443714682986,
          -0.0015709693233778022,
          -0.0036956214598479753,
          -0.0008808149950051136,
          -0.002663608980125215,
          -0.0035039154689544827,
          0.0013081089037151605,
          -0.010805363936337936,
          0.002853154960341997,
          0.010624573644809038,
          -0.0024713687705414378,
          -0.006497169197327568,
          -0.005586473562103317,
          -0.009216926560682376,
          -0.0024027450016781415,
          -0.0016250408622654755,
          0.0019386453824410677,
          0.00005000026787715939,
          -0.006129031751986869,
          -0.008414643780679631,
          -0.0024575485076639147,
          -0.00012147007098264884,
          0.010372425155035642,
          -0.0028694807433811143,
          -0.0034769721888937843,
          -0.0024661118191169618,
          -0.009558045688256356,
          -0.0054560173290207625,
          0.002070028516542033,
          -0.001438327144405116,
          -0.0030749058636254933,
          -0.003467957625955448,
          -0.0013712288093113978,
          -0.006602941777565541,
          -0.003847957654766948,
          -0.0019479073533078817,
          -0.0004011594031570753,
          0.0016483019145392686,
          -0.010182487840545873,
          0.0028446305949308415,
          -0.003654129012154922,
          -0.009976799951522036,
          0.005226816281040797,
          -0.001519177950066064,
          0.001217728013078262,
          -0.003410712150471562,
          -0.0034976863640727995,
          -0.007073773357292645,
          0.0028695472020660584,
          0.002573227312067994,
          0.0002567614654863104,
          0.0026076066315094404,
          -0.005239943850141426,
          -0.023993028444487363,
          -0.0028197060730055235,
          -0.00934686240695587,
          -0.016135446966816597,
          0.003780941019674383,
          0.0018660455785100838,
          0.005710125864581667,
          -0.001154498442191898,
          -0.00007534696638211713,
          0.006479806926545539,
          -0.0047543785513774195,
          -0.00706643096129736,
          -0.010630534989279489,
          -0.007802154781624243,
          -0.008258833269264354,
          0.008496553050027611,
          -0.0013678374345563182,
          -0.0017473479730218955,
          0.0005416212361871453,
          -0.005380861566901568,
          -0.002082074388284866,
          -0.0028664254337970874,
          -0.013537774265254876,
          -0.005720879548285179,
          0.001175950036209239,
          0.0019050158022653751,
          -0.008944937026562572,
          -0.0005918451390311275,
          -0.00011372045699112321,
          -0.0051859168706133996,
          -0.004893617271773315,
          -0.009346990900278629,
          -0.0013487483260370414,
          -0.000580055399244217,
          -0.0013175513735041167,
          0.009537976135685605,
          0.0022831090635972717,
          -0.003433786872420963,
          -0.005350882261091566,
          -0.0034139508541898844,
          -0.0005570670961474178,
          -0.023597592445256388,
          -0.0033528791902497634,
          -0.0025365718035179896,
          -0.002986770751233131,
          0.002479841392496712,
          -0.003562674988421638,
          -0.030430101043118468,
          -0.00044944018143971975,
          -0.010646570656340087,
          -0.006466490409090253,
          -0.0048466216644927895,
          -0.00005537209882572336,
          -0.008290508377397532,
          0.0010077754023642138,
          0.0008257137082523236,
          -0.006823402594304834,
          -0.012397153827628515,
          0.00003789046600477519,
          -0.003739901074830687,
          0.0023893577458614923,
          -0.004788165851708492,
          -0.00030468595329039005,
          -0.0051725902653302624,
          0.0013671046784919372,
          0.000790643041008593,
          0.00037575281962948237,
          -0.004421687847066008,
          -0.0033329415424010744,
          -0.0021956830887069345,
          -0.001379789110502766,
          0.004830212330806799,
          -0.010978950756220907,
          -0.006140717012289021,
          0.0012859299292131976,
          -0.00599775754713075,
          -0.0011980762757563823,
          -0.0035792540552558316,
          0.0005670179177926504,
          -0.0018065336378277064,
          0.0022894324544008304,
          -0.001703974333306102,
          -0.0074454191706150585,
          -0.0014012166863768272,
          -0.0038467970706264343,
          0.0031182930123711816,
          0.0006069039419641931,
          0.001713752428818327,
          0.000778644211247681,
          -0.0020866314039186817,
          -0.0016678182140682507,
          -0.0026169873736876514,
          -0.013570591045128172,
          -0.004626863617519267,
          -0.0021414175195471064,
          0.0018781220746474092,
          -0.010543554153489426,
          0.004855975561888881,
          -0.006975573407364488,
          -0.00641573994611952,
          -0.005205633212294336,
          0.0008841318228124118,
          -0.0006595644182074978,
          -0.02007412569612313,
          -0.0012836645106282796,
          -0.0027106658930426686,
          -0.0013454776463790175,
          0.0003414468466154674,
          0.0018335650948556326,
          -0.007908126994206871,
          -0.0012711330640106377,
          -0.004866493930923921,
          -0.002598975304940243,
          -0.006313666213066449,
          0.004945963975688389,
          0.006005794117166535,
          -0.006828028732149466,
          0.00155028042155958,
          -0.0053610489684895735,
          0.0037473464509709675,
          0.00011705738175740721,
          0.0002018637647498156,
          -0.001253470336725404,
          -0.007231825144774662,
          -0.0009842158758746888,
          -0.0004407801649255749,
          -0.005407615036354341,
          -0.0034495510408136254,
          0.005745692266353936,
          -0.0034357369449778963,
          0.00039162950303209265,
          -0.01156272591750776,
          -0.0004611752863638019,
          -0.000974652007195348,
          -0.009677633094437837,
          -0.009770607006765436,
          -0.004205725168744984,
          0.0004967508419783107,
          -0.004591525175826339,
          0.001425132039975685,
          -0.005784779180943611,
          -0.0036364118602629503,
          -0.004742778729632413,
          -0.001966569477964475,
          -0.006061910391833375,
          -0.0010528130413254844,
          -0.0016243774992089344,
          -0.0015179228920048637,
          0.0027644328504001503,
          -0.005576887524141927,
          -0.0008128719054313616,
          -0.0022739915687284284,
          -0.009452158475586225,
          -0.00841244731764848,
          0.002577482915896767,
          -0.019051001814515828,
          -0.00010378156924345516,
          0.006606707292838715,
          -0.00612171243072912,
          -0.002361049702946788,
          -0.007998033697031282,
          0.0012972775406265014,
          0.0036516093906254765,
          -0.0020959450149713454,
          -0.006590036985062442,
          -0.006229125419208864,
          -0.006280586601950883,
          -0.0009181379938805745,
          -0.0009174788065264838,
          -0.0021904499186496673,
          -0.011816626902829724,
          -0.005388638065097456,
          0.0001808479683336195,
          -0.001232305078534418,
          -0.0005061013962739669,
          0.008643014861444698,
          -0.00649083210912732,
          -0.006042063479861665,
          -0.0015862225746237357,
          -0.003668598685066665,
          -0.003672689253025524,
          -0.0005975959674257014,
          -0.002779494064679894,
          -0.006279311799130882,
          -0.005679853854761524,
          -0.00329211887339545,
          0.002103916030485181,
          -0.00851041486701512,
          -0.0026880774911586802,
          -0.002876582767638053,
          0.004543831578970786,
          -0.007702819285809542,
          -0.008045850115892539,
          -0.002514127686853579,
          -0.00237756290453775,
          0.0012987980283795109,
          -0.011494201855236169,
          -0.008355388105145967,
          0.000637898017703753,
          -0.004451128531738652,
          -0.0025373286114051263,
          0.002534411725145347,
          0.00005517494043580373,
          -0.0017284722414404874,
          -0.005848339261081248,
          0.010035961841739438,
          -0.0005481098152020081,
          -0.0055140384706530154,
          0.004972276730965924,
          -0.006535797988361541,
          -0.004139762615904069,
          -0.002210608181978463,
          -0.0021565598622734494,
          -0.0070335021990772795,
          -0.004076079236396912,
          0.002886739185322146,
          -0.0024185127738939327,
          0.004395833171419838,
          -0.003523327122959441,
          -0.0072603766303699635,
          -0.002191374824887765,
          -0.0017717505905194553,
          -0.011608222672490148,
          -0.00803968478039166,
          -0.01015136718287396,
          0.0021220326955382063,
          -0.0051431756398317985,
          -0.0018265346410673289,
          -0.0019130123381255193,
          -0.005679752116697689,
          -0.003740583921359175,
          -0.004578142691565534,
          -0.011208917954526249,
          -0.0003955618923947857,
          -0.0032849412217912377,
          -0.005244060442352122,
          -0.006694117726425086,
          0.002754332279358146,
          -0.007428624346949436,
          -0.00568973017329788,
          -0.0010371665807931418,
          -0.004784211319203785,
          0.002022787799555087,
          -0.004556009549708195,
          -0.0026163584164274334,
          -0.0044373338371127,
          -0.003508922052923663,
          0.0011073442491857377,
          -0.0005177910312240686,
          -0.0031536232133377584,
          -0.006731250136552541,
          0.0001622212294964953,
          -0.007863150766801968,
          0.004870037752809336,
          0.0007589093373805977,
          -0.005896823394963557,
          -0.010193754740959488,
          0.0007310289364793054,
          0.0038281849612744057,
          -0.004305986606430029,
          -0.004382496142693343,
          -0.009284850495509922,
          0.0009637706370512478,
          -0.0071089694009501825,
          -0.007235548610016629,
          -0.005427399603999128,
          0.004795874135256312,
          -0.008011988999585468,
          -0.006231964567730647,
          -0.001577246152831946,
          0.0015592839549729842,
          0.00043123974667000353,
          0.0016314628925130081,
          0.0011167205809001213,
          -0.001310022042350839,
          -0.000827972527439963,
          -0.00703031740286042,
          -0.0051675983623721,
          0.0026937123863489953,
          -0.00514712927660374,
          -0.0010990804271921728,
          -0.0024005725410578826,
          -0.008233618622064565,
          0.0009972303162201768,
          -0.014230865631470857,
          -0.005339376587338324,
          0.002931457450208369,
          -0.0050941085530277486,
          -0.0017020527848527478,
          0.006672647281634969,
          0.011773068612741522,
          0.0023980639267419945,
          -0.0027077465161915726,
          -0.003246148961459444,
          -0.005083039352632351,
          -0.005313329252410154,
          -0.0012394227134199798,
          -0.0007436321333000318,
          -0.0016554534210423133,
          0.0003716029487727812,
          -0.003145618147965379,
          0.001711573938028066,
          -0.0012616159939615457,
          -0.004692830781382024,
          0.00291225103228146,
          -0.0012744963992863678,
          -0.0070957408890980345,
          -0.006972129392271542,
          -0.001138915580647909,
          0.0005778438819054876,
          -0.004729190566339081,
          -0.0048842151600421435,
          -0.005509246269272489,
          -0.00108475649100373,
          -0.00035328300851325545,
          0.0028017355568456803,
          -0.00372736771904289,
          0.0023946054067298383,
          0.005947812779107775,
          -0.005421238180369881,
          -0.00713874012085175,
          0.004603318324901046,
          -0.005094719887778015,
          0.006637412225764888,
          0.0002840179964387346,
          -0.005010690203416518,
          -0.002039228241643043,
          -0.010183489581436639,
          0.0008913426107040046,
          -0.008894338711713412,
          0.002755025043355397,
          -0.001973915426023487,
          -0.008959517175629317,
          0.005318679478291566,
          -0.001961400923449763,
          -0.0022304843772999183,
          0.000008005946826650234,
          -0.00959687167750145,
          0.0007165414362728384,
          -0.008207449109683185,
          -0.00050160006610242,
          -0.00704693790037636,
          -0.003189255560194809,
          -0.0009936737584019528,
          0.0005171627010956692,
          0.008907341484543224,
          -0.004006508183389573,
          -0.014534917792856122,
          -0.0011917645540945598,
          -0.00733653874380244,
          0.0030343634722206636,
          -0.0035935145925405643,
          0.0007371567508658305,
          -0.004067477126412061,
          0.0016329016394998341,
          0.0004385089693333677,
          0.004639331901531402,
          -0.009088433401548801,
          -0.0008745612037230621,
          0.0009098119289036866,
          -0.004704433082728859,
          -0.0018460952698136912,
          -0.0030984286022586183,
          -0.0019842742904764843,
          -0.003170827188583747,
          0.0011398549333802577,
          -0.002462392484426562,
          -0.010116767666847354,
          -0.002316245867710953,
          0.010596315348728874,
          -0.00709767358556293,
          0.00598576802454448,
          0.004382604535100726,
          0.0063257837459815,
          -0.0063376945607469815,
          -0.0036052188768324334,
          -0.002125807802702967,
          -0.0004270585792337245,
          -0.001869488919668788,
          -0.010146347442482745,
          0.0008262461482813344,
          -0.0004392037062332377,
          0.0019385680533342275,
          -0.002347658113906137,
          -0.00455976031362626,
          -0.002801437483391983,
          -0.0034713940111195107,
          -0.005751297495722868,
          -0.008136490331210916,
          0.0034335616638173916,
          -0.001173389634593236,
          0.0005852610021004068,
          -0.002295610018024863,
          -0.004851902295161914,
          -0.008808503072401663,
          -0.014026657554455146,
          -0.0033218623314656415,
          0.002916252841528466,
          -0.004105097008215375,
          -0.0046408477496096,
          -0.004144434818198817,
          -0.006966566435556959,
          -0.0013916817110423418,
          -0.0026406422464073376,
          0.0007388562777213559,
          -0.001421511513679502,
          0.001300251087721943,
          0.0003353788967848659,
          0.00480618201868005,
          -0.004285653707141929,
          -0.011186712014736644,
          -0.001315203737637105,
          -0.00844630922540257,
          -0.003874557793168809,
          -0.003696940210569183,
          -0.0018149345039857323,
          -0.005428811287478658,
          -0.001931739389049475,
          -0.0021032726165418625,
          -0.0007898630526819994,
          0.0034663563361986838,
          -0.002591884480125234,
          -0.0022590490115570183,
          -0.0013033957916993855,
          -0.009281385153673077,
          -0.00577977965097054,
          0.004224820262382467,
          -0.005323994676806415,
          -0.008470574392643232,
          0.0007534098494356711,
          0.00089169302361361,
          -0.005004229033786778,
          -0.007695381828179443,
          0.002438850411521837,
          -0.007535991247037854,
          -0.008342296575968605,
          0.0015353549911295283,
          -0.008094804860716204,
          -0.001110853995170108,
          -0.006071037754988046,
          -0.006658730214972514,
          -0.0037772172118339387,
          -0.00023484887167532498,
          -0.009376470306283496,
          -0.005391930229407149,
          0.001266857426300838,
          0.0014130409577183256,
          0.0045447280133453505,
          -0.014345879056016891,
          -0.002700371766939158,
          -0.004176662064172415,
          0.0012477525108079424,
          -0.002001129626980347,
          -0.00024909025207781044,
          0.0024368232778251286,
          0.002252528953189309,
          0.002893347788439332,
          -0.0077298594711228685,
          0.0009575107151884032,
          0.00018574646056834787,
          -0.00028381507711169873,
          -0.004031457115979742,
          0.0005941851578784851,
          0.00002434839275367029,
          -0.005524096139060242,
          -0.009368909652136326,
          -0.0059893921379997606,
          0.005189738548700057,
          -0.0007324501117629278,
          -0.005068451476232416,
          -0.0008477401393422734,
          0.0037590008619090565,
          0.0003533511378920329,
          -0.002392200479228501,
          -0.005135316643475468,
          0.003394127440728728,
          -0.0024934807166551998,
          -0.0045743573109258695,
          0.0031014903541147776,
          -0.003835056547882798,
          -0.004306611895508877,
          -0.0005007218356920806,
          0.004671837946587931,
          -0.004031469431890811,
          -0.004749896566232731,
          -0.0021561601027063337,
          -0.0029262677158398975,
          -0.0025842911556235304,
          0.002086770256930548,
          -0.002539093219878913,
          -0.006752637299192316,
          -0.0031865283255166355,
          -0.0055487807026668445,
          -0.004078574685143971,
          -0.0027704590633257364,
          -0.0002963231499479857,
          0.002113951659815261,
          -0.007413092144569533,
          0.00041876409729149633,
          -0.0034885492359322534,
          -0.0035376466373269744,
          -0.007165661678514956,
          -0.005913173312073139,
          -0.00268217453076669,
          -0.0027018791410146348,
          0.0033819894858135857,
          -0.004236179232646908,
          0.003497957055691503,
          0.00014553750715332048,
          0.0032008800093633882,
          -0.0027040300658682237,
          -0.0020865615565121565,
          -0.001708724005365675,
          -0.005141969600074514,
          -0.002655907821730058,
          -0.012363467622261565,
          -0.002882127356206299,
          -0.0020147352337368807,
          0.0020701725640618895,
          0.00018516729937603782,
          -0.0015053438016650045,
          -0.0002863366335198181,
          0.0037260153953537767,
          -0.007541597395830213,
          -0.003823485701303031,
          -0.002210188150661374,
          -0.0034224864976903357,
          -0.009141873840343123,
          -0.002945439133700406,
          0.006912542106331909,
          -0.004631267876036821,
          -0.00725117811494172,
          0.00562891333536919,
          -0.003015180068082407,
          -0.0007142029659970295,
          0.002357520068186597,
          0.0002858547167219616,
          -0.005838513159187514,
          -0.005420798542941807,
          -0.0012566069883503672,
          -0.00017693383352282432,
          -0.004922305672996646,
          -0.0031974147270847353,
          -0.0033134056625147845,
          -0.0012079838700710666,
          -0.0027407510484086794,
          -0.00029985729140369344,
          0.010582770997707713,
          -0.000754795717725576,
          -0.005303647841864129,
          0.0008353564826120985,
          -0.022015405009791322,
          0.003498134958126814,
          -0.007584510891116503,
          -0.011559971807770075,
          -0.0014016111236123396,
          -0.0022784143939019452,
          -0.005584613967911017,
          -0.0010940927361523523,
          -0.015095208040264596,
          0.0001799299095618101,
          -0.0003966648266847672,
          -0.0026464744833114284,
          0.00814992545207463,
          -0.004088499758163222,
          -0.012334879962513479,
          -0.0038125637126993073,
          -0.0006039314788460481,
          -0.004015664310948103,
          -0.0027877323215098893,
          -0.009663132406273783,
          -0.0007046879004705131,
          -0.0026974062000951204,
          -0.011164312652850172,
          -0.00010012003387080415,
          -0.00807090511017719,
          -0.006356349655077559,
          -0.010438801707862183,
          -0.0025945417255776593,
          -0.0023648371493771303,
          -0.0045879738722354735,
          -0.0008825657745109294,
          -0.031015509870803565,
          0.0009843108412511403,
          -0.00900782406704137,
          -0.006538132202364572,
          -0.0065826449295346146,
          -0.0027454308479359923,
          -0.001020445844445883,
          -0.000846551848794258,
          -0.00477555338264718,
          -0.0031208074314576506,
          -0.003957514615874347,
          -0.008678757061373249,
          -0.00034672982801892127,
          -0.00355574134665701,
          -0.0017650691128102969,
          -0.002829811572458235,
          0.0023542766375338475,
          0.0013760066885256106,
          -0.0014513530082915505,
          -0.004374183177474483,
          -0.00930708120322113,
          -0.001307990349562027,
          -0.00351355917325763,
          -0.0019032730071504578,
          -0.0031105713629667187,
          0.0012315196689688113,
          -0.00404538696591944,
          -0.0015589474436451534,
          -0.0025522163803246567,
          -0.00558356956592207,
          -0.007836576141408369,
          0.000019392278948759945,
          0.001680700360006837,
          -0.006310636218007287,
          -0.002721863974242872,
          -0.004550044812508147,
          -0.007595179561990767,
          -0.00019952239920567605,
          -0.004493286976375133,
          0.00285159954818881,
          -0.004170411558484716,
          -0.005367480680214726,
          -0.006819016388269983,
          -0.004136922153121142,
          -0.006749675356699181,
          -0.004941276297478175,
          -0.003887593081948998,
          -0.0015292229939918578,
          0.0029837743036730535,
          0.005945476224498453,
          -0.0018530322653559639,
          0.00030126234582253386,
          0.002185536591652437,
          -0.0063871688654619785,
          -0.005510601796060749,
          -0.0014519376037829823,
          0.0015381743441575668,
          -0.0032469858151550623,
          -0.0027757519059665448,
          -0.0021398038483304016,
          -0.0037177051382333848,
          0.0001333248834220202,
          -0.0002875992141558592,
          -0.003929020962144564,
          -0.004148269858213871,
          -0.011117391027628404,
          -0.002385848620012926,
          0.004156544000568946,
          -0.0000614720969445981,
          0.008076135846824789,
          -0.0003279786242324223,
          -0.011814867011357477,
          0.0032446273662987413,
          -0.0033690274889045524,
          -0.0027333888197056677,
          -0.008255850419850636,
          -0.0018554336580699216,
          -0.000026597724538446332,
          0.002402065152871863,
          -0.0026071945273060115,
          0.00366268242806031,
          -0.005960550259475644,
          -0.001005907785071064,
          -0.0014883436990895393,
          -0.0037305763497816335,
          0.0005932247215549302,
          0.0014313470419398955,
          0.0014946697030525924,
          -0.0042626326386316915,
          0.003936439998204588,
          -0.00434482075571499,
          -0.00882791759431234,
          -0.001641300547707114,
          -0.006601354028018175,
          -0.0031531345794386934,
          0.0009484633664047504,
          -0.002805743685789258,
          0.0027272874186541896,
          -0.002283690660107668,
          0.00039660675466979267,
          -0.0020501726544923937,
          -0.00708488288318504,
          -0.0032225400552489958,
          0.001231080035271448,
          -0.005344333385694788,
          0.0007864239950858831,
          0.004668261775430171,
          -0.00684598703112152,
          -0.006197476599548474,
          -0.006376370539852461,
          -0.012661924184045104,
          0.00013027873853782568,
          -0.004499956498687702,
          -0.005228607824333736,
          -0.0017522572961070348,
          -0.0035876886087334303,
          0.007051002926346139,
          -0.004965155072428062,
          -0.0019147107156793908,
          -0.00745797516444488,
          -0.0024260308094548044,
          0.003795015636240656,
          -0.007848529618001171,
          -0.015384726109139713,
          0.007417005416351707,
          0.0034877045064392598,
          0.0010190870986596934,
          -0.011337293211733379,
          -0.00022172787038315933,
          -0.007616960162303593,
          -0.007575153644302501,
          0.004190224655084035,
          -0.002913191612518573,
          -0.002440389397249415,
          -0.008300538767171545,
          -0.009202660091815001,
          -0.005745969076218604,
          -0.007945969772712946,
          -0.002402601733393045,
          -0.002814751363156953,
          -0.00429953986558973,
          -0.0010341702596529945,
          0.005653704091328621,
          -0.004406843825215778,
          -0.005746837373186292,
          -0.006549483062045475,
          0.07491648936697168,
          0.002042314556536584,
          -0.006861197240413425,
          -0.0034568281760753994,
          -0.002507336761433221,
          0.00032308634209066156,
          -0.00017518842995006834,
          -0.005497734376281066,
          -0.0026852427155950043,
          -0.010572140058876245,
          0.00023712902435335526,
          -0.002678053142054382,
          -0.006569703364701751,
          -0.0049537980530360015,
          -0.001690388887782751,
          -0.005250831206396328,
          -0.0012553853370862456,
          -0.006218411179734096,
          -0.0033321444451312743,
          -0.004603168137386121,
          -0.006030447802347599,
          0.0037731227378940413,
          -0.002105301395010306,
          -0.008058361808843922,
          -0.010523828423727066,
          -0.00893214645335999,
          -0.005011853932413074,
          -0.004989153861683471,
          -0.00026551752866757483,
          0.000425424558458648,
          0.005749685596738413,
          0.0005989408371451788,
          -0.003941803860579851,
          -0.0007286206658185246,
          -0.010142719748269524,
          0.0025679780654858375,
          -0.004524397367924066,
          -0.008174575347207974,
          0.0003717522747204993,
          0.0005084546052391836,
          -0.003672848782486804,
          -0.009574541234075445,
          -0.008342756588543054,
          -0.0017228427909422306,
          -0.0020730577353665625,
          -0.006494997909973377,
          -0.0016256716629869106,
          -0.0017552909473715905,
          -0.006198335423707735,
          0.004552226614420507,
          0.004033567612195921,
          -0.0022964137735285717,
          -0.0055802174962436835,
          -0.001842451550836982,
          0.006364949353393684,
          0.0008433993708987231,
          -0.0012281357600816556,
          -0.002991675364475116,
          0.0005803661021604178,
          -0.00159061910452718,
          0.002271914211260634,
          0.00015875390485145524,
          -0.010378093730985666,
          -0.0006331981047206503,
          0.0029586872206436854,
          -0.0062817502221474975,
          0.0039827600194349,
          0.0013625105562740103,
          0.004725378349258569,
          0.0035717362547888765,
          -0.0022105469091312224,
          -0.0036650267874480114,
          0.009445710109872385,
          0.00026402593732882673,
          -0.004442396847619573,
          -0.00781510455540782,
          -0.0009415867536473332,
          -0.002641921445871165,
          -0.004171475843673611,
          0.0036385999816454795,
          0.001461398149772558,
          -0.00006546257814668555,
          -0.004799099789969563,
          -0.006171959061260501,
          0.00262146879075964,
          -0.004842064898256032,
          0.0007856555671109655,
          -0.0007939455595646905,
          0.0031797801129242187,
          0.0036483826126804397,
          -0.003940557474245154,
          -0.0007813193619922998,
          -0.0019187297265873537,
          -0.0009558380638537978,
          -0.0015029344297786407,
          0.00038040966617852723,
          0.0034645111381542137,
          -0.010956258741615016,
          -0.0019389283630884824,
          0.0013897267581086115,
          -0.006998528534817333,
          -0.007171345283627145,
          -0.0010248633332362589,
          -0.004317737183099135,
          -0.0019877143292948984,
          -0.0047504134322229885,
          0.0024878514740778734,
          -0.006325520755264213,
          -0.006890805134992628,
          0.0001376346617694424,
          0.003825575259036429,
          -0.0010243240455723446,
          -0.0023440744400123337,
          -0.002386631240410636,
          -0.00011561250862107686,
          -0.006463453409578046,
          0.0035208494970093707,
          -0.0031455378807844214,
          -0.0005698221751599952,
          -0.005158336190371121,
          -0.01364376346952792,
          -0.004683664018268058,
          0.00004682076980616623,
          -0.004006284744772826,
          -0.0007909264729770715,
          -0.0058987072949777675,
          -0.0026476121572041322,
          -0.010681108155453284,
          0.0012968673245832285,
          -0.010947674929044804,
          -0.004644863871780397,
          -0.0006539198844700278,
          0.0018879988381667878,
          0.000977706507423376,
          -0.0022927740810999575,
          -0.0034234907914721946,
          -0.0025300548842377424,
          -0.004897248750444894,
          -0.007785471968375091,
          -0.006545892481086668,
          -0.0024220326101639933,
          -0.0009440173968638665,
          0.0023160447029663134,
          0.00643620692605093,
          0.002221768895749071,
          0.003474999137790008,
          -0.008489903389524406,
          -0.0028629101238972776,
          -0.005572092059354605,
          -0.006419985891921276,
          0.00982941000004861,
          -0.006818252053900686,
          0.0012601155948670228,
          -0.013978421973588923,
          -0.006011341143485588,
          0.007331405128000457,
          0.0014416721113064135,
          -0.003294884461370884,
          -0.006104148118213887,
          0.003295748585847552,
          -0.007784425120820837,
          -0.0030737526719335495,
          -0.003942383300537061,
          -0.004103413237459719,
          0.0010519575597662811,
          0.004879252008054752,
          -0.002931564589242125,
          -0.0019125353038599857,
          -0.0006038751288824362,
          -0.00594498877652283,
          -0.011152865939227402,
          -0.009329014318683049,
          -0.0034784971590929303,
          0.0006466609179512084,
          -0.0016130606493136301,
          -0.00519862587542369,
          -0.003082279792580106,
          0.02012091976984398,
          -0.004189275211759269,
          -0.002539872141546079,
          -0.0027164839285480913,
          -0.003055236179720894,
          -0.0031532907857920456,
          -0.011303465794990086,
          -0.003307007895139491,
          0.0034706887700546862,
          -0.002207039477708339,
          -0.00336705880855917,
          -0.002021534373566364,
          0.0014571318234305741,
          -0.0058789264676198105,
          -0.01714964252873724,
          -0.003115660874768389,
          -0.022709924339182896,
          -0.003643528510063665,
          0.0007607274876966497,
          -0.008738264386607408,
          0.005258543828723844,
          -0.006861751490806284,
          -0.000964756954093926,
          -0.012035493342817283,
          -0.005198896698986155,
          -0.003246302816102359,
          -0.00014398591620476409,
          -0.007395856738910134,
          -0.002336567601482653,
          -0.004840361790111686,
          -0.0027604290286449285,
          0.005177448077793773,
          -0.002721091693421329,
          -0.0012050234947370564,
          -0.003047805919084434,
          0.0017130154337609005,
          0.0023538626245186434,
          -0.0050839777136412745,
          -0.0023170844240164024,
          -0.0024962287149751516,
          -0.002348236847123736,
          -0.0015134073840921969,
          -0.004932597263479693,
          -0.0005557841510978323,
          -0.007953705531083904,
          -0.0008210113833906629,
          -0.0016497198647266176,
          -0.0033126347507651255,
          -0.006016748372990183,
          -0.006318274152273873,
          0.005586994057107969,
          -0.006933334551623149,
          -0.00842845638776013,
          -0.004072927030215445,
          -0.00947527344304136,
          -0.001294323230719402,
          -0.004137076664101708,
          -0.003468957002079137,
          -0.006316969219842705,
          -0.0037143719009917198,
          0.000899671627211801,
          -0.0011784108268031723,
          -0.0035930130444014052,
          -0.0034752718591172516,
          -0.0002863717517729014,
          -0.005316592036625545,
          -0.0060376345395306286,
          -0.0016439849482576818,
          -0.0007740347518832291,
          -0.007211873598293339,
          -0.002016804661024607,
          -0.0066912770025290835,
          -0.02425495220965876,
          0.004753813851770594,
          -0.007727445756242818,
          -0.0014356462231253087,
          -0.015981116783444327,
          0.00408571010938813,
          -0.0004190764172030126,
          -0.002666527933660262,
          -0.005922134280335001,
          -0.0039183635124317995,
          -0.0003304604593155902,
          -0.006576297636149947,
          -0.003149705038892947,
          -0.01243914463837481,
          -0.009203536704676468,
          0.0021691682139066693,
          0.0007598245470169795,
          0.0015373783527456442,
          -0.005837232812663823,
          -0.0052970972511113545,
          -0.0014268025658764893,
          -0.010528961525231612,
          -0.0031537870062118556,
          0.000019214586325561056,
          -0.0022489023231471728,
          -0.006176926981671521,
          0.00042698953483663593,
          -0.002264320184835078,
          0.00035040427263854923,
          -0.002589418491012324,
          -0.0033383271338719434,
          0.00005860330755524945,
          -0.004022564173661203,
          -0.008221212266382033,
          -0.002638636636174252,
          -0.0012314534374375241,
          -0.0024443301755752433,
          -0.0007382128371946628,
          -0.002269778075752238,
          -0.0017391703664471347,
          -0.0029444006598691175,
          -0.011221513224319163,
          0.0013987261651391691,
          -0.007165218913288446,
          -0.0042339448419504155,
          -0.006405345559127806,
          -0.0001990160995471446,
          -0.0010296875610104061,
          0.0013826736524952532,
          -0.005767912258694496,
          -0.003217988955254575,
          -0.008072117631021475,
          -0.002391636451881146,
          -0.0017816436502316735,
          -0.0023018369525135696,
          -0.0004080977534305641,
          -0.004580429559768673,
          -0.004417175915841426,
          -0.0011029476457258547,
          -0.009710105060542457,
          -0.004833986291159165,
          0.003612914670152262,
          0.0010571826601433187,
          -0.0056582154508464655,
          -0.007246326904742112,
          0.00019069961736806196,
          0.0009294292464629705,
          0.004156027908959914,
          0.00032977925043550793,
          -0.002125678020849592,
          0.00429596480029093,
          -0.00903499354620757,
          -0.007097023636957495,
          -0.008021395762578265,
          0.002127975937448151,
          -0.012598718981427087,
          0.0012229624116778526,
          -0.003388504644630752,
          -0.009019179515793424,
          -0.003655794357213943,
          0.000275646927525075,
          -0.0005269775707328339,
          -0.004747992183250116,
          -0.0020628223860381656,
          -0.00042499188968497803,
          -0.0020696121887301133,
          -0.005091866939122586,
          -0.005777208023683034,
          -0.0047247201638180025,
          -0.006495739925321792,
          0.0026096062272417675,
          0.004338361479749697,
          -0.012558814081090941,
          -0.0006281565545527834,
          -0.00617539548778967,
          -0.009553297830544427,
          0.01764980161610405,
          -0.0039940641514485675,
          0.004802658088016998,
          -0.002314185814977665,
          -0.006166521302366806,
          0.0027494871290255907,
          -0.006739538502297943,
          -0.002264733581719247,
          -0.0048285682232605265,
          -0.006709740485095678,
          -0.006977351707093182,
          -0.012230402833127374,
          0.0005177811074048577,
          -0.002673591936180053,
          0.000994995801494758,
          0.00561080724217472,
          -0.007345799118212315,
          -0.004999867221423898,
          0.0031595634205717205,
          -0.006004346470932981,
          0.0038935557665842613,
          -0.005620628772006253,
          -0.0053903976229671136,
          -0.00731514035317371,
          0.00013051771518718391,
          -0.01459536422302482,
          -0.00818896039882791,
          -0.00021056182296083636,
          0.0038497010161846756,
          -0.01821439803456787,
          -0.002459594450618885,
          -0.0013743108148930039,
          -0.003793227684417172,
          0.002609171558914908,
          0.0019303475481163568,
          -0.0016790904162029274,
          -0.0038941378784667358,
          -0.00667817714162805,
          -0.0016608062362508946,
          0.004951078902619838,
          -0.006661091341266884,
          -0.000768016257295584,
          -0.005479260980811779,
          0.010312143909145394,
          0.00034499578081859106,
          -0.0028541518108133324,
          0.006240117407531776,
          -0.0046151600053185304,
          -0.0013205575925460122,
          -0.0036687371337496555,
          -0.0011597976168469526,
          0.006188612072329597,
          -0.00023456100882521258,
          0.0015118275395320513,
          0.0011708368922393186,
          -0.0023374387923992546,
          0.0005191010376791871,
          -0.007834079326064697,
          -0.003087751930104715,
          0.00001762443412942072,
          -0.006619338952130627,
          0.00268371791595029,
          -0.002800066300103654,
          -0.0017446103360357623,
          0.00013894578658446566,
          -0.0009606438055173583,
          -0.02488731961824564,
          -0.0033027774979877134,
          -0.007003188500485535,
          -0.004306350028770889,
          -0.004173398443880233,
          0.0026542722891453596,
          0.003267767274370531,
          -0.0016811747406089428,
          -0.005750151295757733,
          0.0006243268522508894,
          -0.003955462273533855,
          0.0017819759469041019,
          -0.005136448268067084,
          -0.01042909149824714,
          -0.0017047741952583573,
          0.010934773160174771,
          -0.0026997215970881727,
          -0.008278163656057935,
          0.00581937108226202,
          -0.0015738174737723598,
          -0.004236748312045846,
          -0.0061126122065275346,
          -0.0008841483824132135,
          -0.005094580753701505,
          -0.006888766939577906,
          0.006974488252470212,
          -0.004688349141281023,
          0.003556070776041892,
          0.0008577714897713695,
          -0.010387449035031887,
          -0.0010456873415221613,
          0.0016267253728880493,
          -0.0024726315949165634,
          -0.013634444328531448,
          -0.0023942815387851535,
          -0.0018379013375688369,
          -0.0005295918450686776,
          -0.0018859929584980617,
          -0.0004327690979156751,
          0.0017720904904476587,
          0.0029444677415676745,
          -0.008983160553037245,
          0.0005742071773048585,
          -0.0029087862052208924,
          -0.00834790441160077,
          0.0008440079080068441,
          -0.0005756825331117432,
          0.001119455619239762,
          -0.004888060126397781,
          0.0014401175622321405,
          -0.007365438429623061,
          -0.008515665190075544,
          -0.0004951003700828238,
          0.002358593339480103,
          0.002654117011328949,
          -0.011555172026491228,
          -0.00630749916255155,
          -0.000678183714426267,
          0.0026236712472309798,
          -0.01767999052023389,
          -0.008546583414790448,
          -0.010299972878751507,
          0.0032957838882330948,
          -0.0028769578402132456,
          -0.006050472330686674,
          0.0012926268687652176,
          -0.0027620181658762344,
          -0.00062096205136139,
          -0.0024071130423827802,
          -0.0008775891911960709,
          -0.003115367220753118,
          -0.00803044596254518,
          0.001510025115532776,
          0.00232014611853118,
          -0.006409424023067378,
          -0.0016670649581348729,
          -0.0038220112357379987,
          0.002335824527834901,
          0.007972688870269473,
          -0.007588533008489107,
          -0.009052287191134073,
          -0.003096559888769418,
          -0.0013579665005848396,
          0.0025476329026912214,
          -0.0015727089577228792,
          -0.0018881435934983981,
          0.0018422285910905944,
          -0.006523099916645042,
          -0.0069655905706490495,
          -0.006921009476965001,
          -0.0026361280452800173,
          0.0048889106640361,
          -0.0012522728925209448,
          -0.005960529860132041,
          -0.0019691999903116153,
          -0.00202009868779085,
          -0.00463144201954413,
          0.0012567643296081121,
          -0.0005750006689582698,
          -0.0016166999879972388,
          -0.0043938620813017415,
          -0.0040648765699196066,
          -0.0016464783289593388,
          -0.006748646481361614,
          0.0009586938710586246,
          0.0015773488514362333,
          -0.0058367447883529155,
          0.0007543471863261653,
          -0.007326860269277674,
          -0.003330059627540183,
          0.009287684737827678,
          -0.003853497929218963,
          -0.003925255555992824,
          0.002045664028282518,
          -0.002473316156501676,
          0.04457960280818529,
          -0.010337083931547641,
          -0.003083668202090606,
          -0.012248816363831183,
          -0.0007756179492078019,
          -0.0033318642234036466,
          -0.005560916610194394,
          0.0027524495233020863,
          0.004285360033235347,
          -0.0029140222000273996,
          -0.006083636908181561,
          -0.006172497693795798,
          -0.001186324111361159,
          0.003175212484875567,
          -0.010158813580461973,
          -0.011356508040194474,
          -0.009432465833709602,
          -0.005207153638207507,
          0.0019744793503597147,
          0.0028131653225105246,
          -0.0077864687216994966,
          -0.0060872902727996114,
          -0.0012767224322773607,
          -0.007222988719669088,
          -0.012901518572460136,
          -0.0014993234783325093,
          -0.002698095281811669,
          -0.0007145515259771584,
          -0.003002357041370529,
          -0.0029498910405292567,
          0.000610816483031823,
          -0.0026984104174026524,
          -0.011468196313803275,
          0.0030387259552805135,
          0.00039182895458417244,
          -0.005527027235370102,
          -0.005080157005220132,
          -0.0012690914596115432,
          0.0009772828822834645,
          0.0013331255560079525,
          -0.00494159591157628,
          -0.002688777518425556,
          0.00048937860939266,
          -0.002428879793222094,
          -0.003663650955881781,
          0.00022117196526455496,
          0.0027482198219110077,
          -0.0048509516875381575,
          -0.00031247736697997963,
          0.002661326053657931,
          -0.011523505990819721,
          -0.0015196970484662176,
          -0.004984304166178122,
          -0.00043618685968430104,
          -0.0023800653570910657,
          -0.0013417757623404858,
          -0.0038508242405451976,
          0.005680695450782813,
          0.0010946930892624107,
          -0.004230523418128934,
          0.00020972894379844842,
          0.008799687073526463,
          -0.0033162192565154847,
          -0.006185421023269633,
          0.004547254437301362,
          -0.0026712735908634155,
          -0.005923897231958158,
          -0.00035218872367415166,
          -0.005033662755264484,
          -0.006900229994825341,
          -0.0003635385026428961,
          -0.004125163600997572,
          -0.004602755722112106,
          -0.007137632032395674,
          0.0006076179070139132,
          -0.0017964946520098168,
          -0.001755096260290967,
          -0.0028460756795880837,
          -0.011635328330767775,
          0.005116304447878084,
          -0.004244927162215917,
          0.0019688659129443176,
          -0.007958017406405088,
          -0.006506742132224408,
          -0.0074196208230154215,
          -0.00039249348046013766,
          -0.009388519615350865,
          0.0014012499819522073,
          0.004446402731690613,
          -0.0035806043521486586,
          0.0016143947359477662,
          -0.011580072703676864,
          0.0014316468694252626,
          0.00034947546533642404,
          0.011402381072549067,
          -0.006286965905177161,
          -0.0065582345958531685,
          -0.005535816800276067,
          -0.0023213121559514105,
          -0.002621471941806064,
          -0.007556088037560887,
          -0.005483275286366329,
          -0.00278516924294267,
          -0.0011340259324051916,
          -0.0035187019889320326,
          -0.001874666587214191,
          0.002344453733871932,
          -0.0027841474840795966,
          0.0006759866540962944,
          -0.0026581193746930687,
          -0.0035494200859670644,
          -0.001365887072538735,
          0.0040591251272388,
          -0.005404757366810536,
          0.004310498818838077,
          -0.005870603860772788,
          -0.0051734745388458125,
          -0.002704209366535343,
          -0.004394999349554618,
          -0.002603717869499783,
          -0.004196450172697097,
          -0.003651264524139164,
          -0.0025307553197391197,
          -0.004639960119611403,
          -0.0038931020634293267,
          -0.003065384145712391,
          -0.001063713246114678,
          0.0030869459696525325,
          -0.004564274689095399,
          0.0008275367239271858,
          0.0012363694452988683,
          -0.009460565878640692,
          -0.004470033979149829,
          -0.011797534971502877,
          -0.0005236400311064149,
          -0.0043189451734922946,
          -0.0021825597649820783,
          0.010997744732960557,
          -0.0006845273512677275,
          0.002739424581279931,
          0.00022267838146797225,
          -0.010458898132380073,
          -0.008685360722365726,
          -0.006373364301349882,
          -0.0005894439576653865,
          -0.010600316671853238,
          -0.0004956828658279622,
          0.015185343172748278,
          -0.0018740923172233803,
          -0.006021621570898222,
          -0.009458422072597117,
          -0.0007084010397091223,
          -0.0004348241062216984,
          -0.01004655665031029,
          -0.011859735716299086,
          -0.008342852849897692,
          0.0003608751245990638,
          -0.002711991228837085,
          -0.0017071848462048844,
          0.0022521436612544243,
          -0.006054284530506937,
          0.005329558608639262,
          0.0032864958905812203,
          -0.005915569367014595,
          -0.0007662042691558291,
          -0.006428612795408045,
          -0.007454298827677536,
          0.00041275148368033476,
          -0.003779328179846886,
          -0.006424369710581801,
          0.0006929865553566283,
          -0.0019370813304580292,
          -0.0017090562631105477,
          -0.004063170790945064,
          -0.0016504820720644464,
          -0.002232613657279975,
          -0.0012469956618427758,
          0.0026836663330950805,
          0.0029286857053801574,
          -0.0006533738959280111,
          -0.00020263489764285603,
          -0.0016669319999143006,
          -0.0008813897714455288,
          -0.005141002626012581,
          -0.0007559089021346999,
          -0.010165622719235962,
          -0.002012596063530797,
          0.006819233972983146,
          -0.005080125260754131,
          -0.00023164463382349676,
          0.0006597733832102715,
          -0.005772753961160532,
          -0.003555636091636033,
          -0.008707447939676843,
          -0.004209921147460438,
          -0.008782596189859437,
          -0.00694499423763309,
          -0.005317951265257775,
          -0.0015969923939475605,
          -0.005794808988023675,
          -0.0008647279251720041,
          0.0033309617975121053,
          -0.010449449269949146,
          -0.0027340076956703374,
          -0.0027929072467247906,
          -0.0005494178375142489,
          0.009235932654423212,
          -0.0022242255814220457,
          -0.007277840798941282,
          -0.012560701665589341,
          -0.007808295318953606,
          -0.004129664542629891,
          -0.008000152997286958,
          -0.005254190763101879,
          -0.005502794567568636,
          -0.010736919679842694,
          -0.0010627457140912622,
          0.006472027140341563,
          -0.006805033815282274,
          -0.008845942207201474,
          -0.009383982302089672,
          -0.0010157229327227013,
          -0.0005857820159059224,
          -0.008647306253938891,
          0.0059502091684841,
          -0.002034460330086141,
          -0.006872353109592971,
          -0.0008267135125103742,
          -0.00955161696806503,
          -0.008517365677119138,
          -0.006571788649339966,
          -0.002485719413174825,
          0.0007885008234608248,
          -0.0026805349181166505,
          -0.003147621952983848,
          -0.003072086416596481,
          -0.003954239782211405,
          -0.00705282206238364,
          -0.00796780562812019,
          -0.0030968299714363157,
          -0.0020919835059940994,
          -0.004261810833068119,
          0.0018940800131773405,
          0.004577483732937704,
          0.006875095042333079,
          0.00454515616084647,
          0.0029027420401911697,
          -0.0031206827264620707,
          0.003311479376970128,
          -0.0037404923616510266,
          -0.004031655041296878,
          0.006455762852697083,
          -0.0053132938876835345,
          -0.009119877290594103,
          -0.004140671559150433,
          -0.00416896005162673,
          -0.0035737518054321515,
          -0.0045101766968126955,
          0.0008674297757229887,
          -0.010564879831613333,
          -0.000009357961141265303,
          0.0010041618726176482,
          -0.01063664036490744,
          -0.004592195803040072,
          -0.0021991663561340413,
          -0.002013357652279363,
          -0.002015453989140381,
          0.0034324437615060877,
          0.0009254904696699151,
          -0.011091921589887366,
          -0.008505933631025447,
          -0.01230350034005892,
          0.0002668170298539829,
          0.00019435824924243783,
          -0.0031744463206172524,
          0.004053715876792957,
          -0.001890161277956326,
          -0.0034237421074289343,
          -0.007400421516351258,
          -0.0044890647435189834,
          -0.003514358987335875,
          0.0000351417688399247,
          -0.0010110276803320106,
          -0.0019373845689834301,
          -0.0021727704991426344,
          -0.001037076434410783,
          0.0015420139010698108,
          -0.006298854261458348,
          -0.015536510227576406,
          -0.0030386608230286716,
          0.003397293565339854,
          -0.01073170598017889,
          -0.0025660560904816054,
          -0.0003786852106895111,
          0.002285735239263176,
          -0.015800902831559216,
          -0.009114721348336158,
          -0.00851793520945529,
          -0.0054593568565965145,
          -0.003956713866476114,
          0.0037830104348219595,
          -0.007605170546473472,
          0.0008818538127329245,
          -0.007694838700834011,
          -0.0026542168485317597,
          -0.020642474370520525,
          -0.0026033362010740024,
          -0.001449247579256796,
          -0.0031155910158201516,
          0.0003803025574113661,
          -0.0004038933840671277,
          -0.009612308413822906,
          0.0001548180299465185,
          -0.005482394672122554,
          -0.0011767588869535384,
          -0.010508672443798023,
          -0.005069289376714026,
          -0.005083438885357866,
          0.00232330394705757,
          -0.00803460233821418,
          -0.0037976779868678923,
          -0.012139143595291002,
          -0.009801685946070643,
          -0.0035327069171941228,
          -0.004228898029811162,
          -0.0019995760973188503,
          0.0012113784949709938,
          -0.010156179676752947,
          -0.005234677053692627,
          -0.0016641892600374186,
          -0.012024665423037623,
          -0.0035231158419743447,
          0.00014120257931976576,
          0.0029359324475475013,
          0.007572486634680103,
          -0.0009703658199034237,
          -0.013695766067452708,
          -0.007148444393817038,
          -0.005435277323459942,
          -0.002721423854127797,
          -0.007411102779350753,
          -0.005811913908971567,
          -0.005310413680169435,
          0.006233908275926514,
          -0.011461056593646518,
          0.0012948460281612673,
          0.0018303399280827082,
          -0.0007063615237878074,
          -0.007597212063955167,
          -0.003231158563623382,
          -0.013344971186093013,
          -0.006349349762047041,
          -0.0057003972749478105,
          0.001143708169262847,
          -0.0026146016539551342,
          -0.0021787534217055093,
          -0.0013166040509396126,
          0.0007880026380086835,
          0.00011412931144436089,
          -0.0033532821599742135,
          -0.006275957836017004,
          0.004697189265400942,
          -0.0002088981157551406,
          -0.0009510287970571629,
          -0.005204019631305984,
          -0.004713170382938059,
          0.003103629017555759,
          -0.003338377999258374,
          0.0022967388989873216,
          -0.00472737642313073,
          0.0008095917044872725,
          0.009795203027994165,
          0.002203214244316215,
          -0.006294897916193032,
          0.0033780155051275906,
          0.0003479471568018089,
          0.00793889601874656,
          -0.005441848939875871,
          0.0026161365896195665,
          0.00011884150644722591,
          -0.0043843130436334865,
          0.0004430103478490488,
          0.0004068579226851887,
          0.0019997627952511865,
          -0.009625359520153337,
          -0.0031561783883674865,
          -0.007905918833301107,
          0.0013753572951900328,
          0.0011738908776448564,
          -0.005621213462566027,
          0.0014318964940049639,
          -0.005163393102343483,
          -0.004210282271799093,
          -0.010923351031540462,
          -0.0007933106826316927,
          -0.005685416412556904,
          0.0009543683092433086,
          -0.008301946010945166,
          -0.014452772808267844,
          -0.0010867010132468435,
          -0.012860905332918504,
          -0.009982255461479655,
          -0.005337832197408243,
          -0.0020522976414926175,
          -0.00493892589563219,
          0.0027879599051064963,
          0.000030488814114465468,
          -0.009369598293632014,
          0.0005076278749974739,
          -0.0024379490766028855,
          -0.005584812757337909,
          0.0012098640837242824,
          -0.00044669245377265687,
          -0.00032456910710854103,
          -0.006367740923289761,
          -0.011158584552366319,
          -0.0004506957379646348,
          -0.0002109234895221468,
          -0.003707527581479103,
          -0.0007053607189958788,
          -0.0011077664018860622,
          -0.0062057086775857695,
          -0.0036142566310989332,
          -0.00018264116904376237,
          -0.0015382194106140779,
          -0.0010210166351400929,
          -0.010863253240463777,
          -0.016273096227990197,
          -0.0043074811875042085,
          -0.00010922412205927046,
          -0.017593053159017297,
          -0.004974991828399972,
          -0.00015255574860278953,
          0.0007461341388893539,
          0.000549066134774262,
          -0.002573354829889657,
          -0.0009471686207788987,
          0.002477803918896404,
          -0.006671490558341403,
          -0.005431035741080725,
          -0.0010485961133139543,
          -0.004648730683079166,
          -0.0033757690457171807,
          0.001087978991114985,
          -0.002464497149405692,
          -0.0059581933693547695,
          0.0005765143355333513,
          -0.003820192744999451,
          -0.003473139280355808,
          -0.0034578464280903276,
          -0.0039079524076366945,
          -0.0026380121147920876,
          0.008031253872067129,
          -0.0025089745434472566,
          0.0026138109726289716,
          -0.0011069692558585142,
          -0.0072824452837650655,
          -0.0007282900510146018,
          -0.0006882961323404768,
          0.003896047307308692,
          -0.0015222846382465238,
          -0.0025845837268087812,
          0.000658846172853389,
          -0.000546144128438758,
          0.000723374471472471,
          -0.005765183012962277,
          0.0002421807995951486,
          -0.002887619021860771,
          -0.004325494899249882,
          -0.009532535871835557,
          -0.003958285905804632,
          0.00753714527008334,
          0.0023260591272376563,
          -0.001920387298297327,
          0.0007622043560347458,
          -0.0097304251017237,
          0.0016592146903540717,
          -0.002593537147327518,
          -0.001798882275992314,
          0.0033642705971256015,
          -0.003988958691487854,
          -0.0027973251690654177,
          -0.0019672563574495705,
          -0.0014205844031610904,
          -0.004945520094236711,
          -0.0054599410639343815,
          -0.0002919078647128093,
          -0.003162359891710237,
          -0.010660932280788932,
          0.0007838830302092925,
          -0.0038265827613514214,
          0.00034574619314278743,
          -0.001336738797931586,
          0.0018447793422682046,
          -0.0017592430004866877,
          -0.0027476710298352802,
          0.007775739319935582,
          -0.00515623065468343,
          -0.00715649522142231,
          -0.005407376898608901,
          -0.0077800853383619695,
          0.0025740466872832546,
          -0.002739539978851596,
          0.002535648888524339,
          0.0011271495717797564,
          -0.0003253677579271863,
          -0.007638365460938851,
          -0.0018062217629715716,
          -0.001398875462875565,
          -0.0028057189847745245,
          -0.0016299362052004662,
          -0.000644104727715894,
          -0.001074190874994857,
          -0.004012608366270237,
          0.007471803362878088,
          0.0009852754835170396,
          -0.007805231000504287,
          -0.0003880695392407818,
          -0.0028221455542402074,
          -0.0005316542926099288,
          -0.007781264673010657,
          -0.012011519542729165,
          0.008511776391025905,
          -0.0009491235482210758,
          -0.0043311880489251,
          -0.004592930734010986,
          -0.008968784131452051,
          -0.008994320105957243,
          0.004374289655688507,
          -0.0031824379249753842,
          0.00018290165854079055,
          -0.0024708549543987213,
          -0.0028475695497540976,
          -0.011564227445327618,
          -0.002332115488791947,
          0.0038192724238071962,
          -0.005234781326668048,
          -0.004469620184093109,
          -0.005033127862038633,
          -0.002690476835994493,
          0.0012359119910684557,
          -0.0023909168405807646,
          0.0026325235778372758,
          -0.0062443412291355305,
          -0.0001372908263168604,
          -0.004011457674810426,
          -0.001781524126648143,
          -0.0035349572639915006,
          -0.0037374516691900395,
          -0.006054131564731752,
          0.006648087449557499,
          -0.004495974042888179,
          -0.003221665146251357,
          -0.007431081945582146,
          -0.003507369717715786,
          -0.00379374192903445,
          -0.003744077011288288,
          -0.0012509267905283505,
          -0.0022404993068453893,
          0.0010062422452713493,
          -0.0005753050839192864,
          0.0027135936414967032,
          -0.008277836191425053,
          -0.004738597953697105,
          -0.003400166148274736,
          -0.002898516222770875,
          -0.007998462798118833,
          -0.0009386567365444187,
          -0.0002062325359338535,
          -0.005226144037078412,
          -0.009131663009193547,
          -0.000989836704277186,
          0.003921290414633655,
          -0.001484827566410718,
          0.0015561038493067392,
          -0.00040332175457818975,
          0.0009397094580619048,
          -0.004881174619056655,
          -0.002643323631737221,
          -0.0016536602804871348,
          -0.003350261648102565,
          -0.0013244199225942166,
          -0.001525283304004449,
          -0.0027557077667120233,
          -0.004506630130042405,
          -0.0023405630285041057,
          -0.008112483845366614,
          -0.007063919775405464,
          -0.003051936635397906,
          0.004779065029512475,
          -0.001167054553233654,
          -0.0008322883913621515,
          -0.0018643043271024118,
          0.001408774536525631,
          0.0021205690338503558,
          -0.007336131942667329,
          -0.007971978993011192,
          -0.0015344611740798486,
          0.0018875622434711692,
          -0.0013554412536141425,
          -0.002965244097255376,
          -0.00904516366770916,
          0.01217406764127621,
          0.007653979951243811,
          -0.00404626094201041,
          -0.006921301930874951,
          -0.010449562239035731,
          -0.009797699257494713,
          -0.002867522490824198,
          -0.00551579354818002,
          0.002850420641817064,
          -0.005672114353085761,
          0.0020229852731731,
          0.0015585511406180919,
          0.0006969589367539497,
          -0.0078017408945657285,
          -0.0021950496263860864,
          -0.0010512004604530945,
          -0.000647525173552127,
          0.00003770739216824026,
          -0.0011297746537667075,
          -0.00483044313990863,
          -0.004358039460844371,
          0.0029849358603559195,
          0.004255424913149591,
          -0.00150698437585986,
          -0.00658322463278474,
          -0.004389107607968512,
          -0.0032694977306146067,
          0.0002659284414394947,
          -0.004104705059588154,
          -0.014118252690655003,
          0.00048287241854830243,
          0.0005093206351435564,
          -0.008835671259487893,
          -0.005208810269065001,
          0.0018262281894890209,
          -0.0037199146082581847,
          -0.0034914434334858413,
          0.0020525152808177904,
          -0.004892305400724689,
          -0.0021268696430544465,
          -0.005077144884172963,
          -0.0023981559441989264,
          0.000659376937181072,
          -0.013809817551256903,
          -0.0033542817688814452,
          -0.0028209091443812395,
          0.00245794096658164,
          0.0002566973440429332,
          -0.0012523058416322452,
          -0.0022627192987481337,
          0.0037231309534654644,
          0.006514273802389808,
          0.0006347741718157329,
          -0.0016355612125873997,
          -0.0020348890338777736,
          -0.004812462043578797,
          -0.011855545729935218,
          0.000390893567396855,
          -0.0014490740119839918,
          -0.0014111062029059929,
          -0.007375527488461403,
          -0.0071092247693318456,
          -0.004563706251921346,
          0.007194314601696616,
          -0.0044976150575319895,
          -0.004015662162242084,
          0.0007814945722188493,
          -0.00479113370272613,
          0.0006546130478950751
         ],
         "yaxis": "y"
        }
       ],
       "layout": {
        "legend": {
         "tracegroupgap": 0
        },
        "margin": {
         "t": 60
        },
        "template": {
         "data": {
          "bar": [
           {
            "error_x": {
             "color": "#2a3f5f"
            },
            "error_y": {
             "color": "#2a3f5f"
            },
            "marker": {
             "line": {
              "color": "#E5ECF6",
              "width": 0.5
             },
             "pattern": {
              "fillmode": "overlay",
              "size": 10,
              "solidity": 0.2
             }
            },
            "type": "bar"
           }
          ],
          "barpolar": [
           {
            "marker": {
             "line": {
              "color": "#E5ECF6",
              "width": 0.5
             },
             "pattern": {
              "fillmode": "overlay",
              "size": 10,
              "solidity": 0.2
             }
            },
            "type": "barpolar"
           }
          ],
          "carpet": [
           {
            "aaxis": {
             "endlinecolor": "#2a3f5f",
             "gridcolor": "white",
             "linecolor": "white",
             "minorgridcolor": "white",
             "startlinecolor": "#2a3f5f"
            },
            "baxis": {
             "endlinecolor": "#2a3f5f",
             "gridcolor": "white",
             "linecolor": "white",
             "minorgridcolor": "white",
             "startlinecolor": "#2a3f5f"
            },
            "type": "carpet"
           }
          ],
          "choropleth": [
           {
            "colorbar": {
             "outlinewidth": 0,
             "ticks": ""
            },
            "type": "choropleth"
           }
          ],
          "contour": [
           {
            "colorbar": {
             "outlinewidth": 0,
             "ticks": ""
            },
            "colorscale": [
             [
              0,
              "#0d0887"
             ],
             [
              0.1111111111111111,
              "#46039f"
             ],
             [
              0.2222222222222222,
              "#7201a8"
             ],
             [
              0.3333333333333333,
              "#9c179e"
             ],
             [
              0.4444444444444444,
              "#bd3786"
             ],
             [
              0.5555555555555556,
              "#d8576b"
             ],
             [
              0.6666666666666666,
              "#ed7953"
             ],
             [
              0.7777777777777778,
              "#fb9f3a"
             ],
             [
              0.8888888888888888,
              "#fdca26"
             ],
             [
              1,
              "#f0f921"
             ]
            ],
            "type": "contour"
           }
          ],
          "contourcarpet": [
           {
            "colorbar": {
             "outlinewidth": 0,
             "ticks": ""
            },
            "type": "contourcarpet"
           }
          ],
          "heatmap": [
           {
            "colorbar": {
             "outlinewidth": 0,
             "ticks": ""
            },
            "colorscale": [
             [
              0,
              "#0d0887"
             ],
             [
              0.1111111111111111,
              "#46039f"
             ],
             [
              0.2222222222222222,
              "#7201a8"
             ],
             [
              0.3333333333333333,
              "#9c179e"
             ],
             [
              0.4444444444444444,
              "#bd3786"
             ],
             [
              0.5555555555555556,
              "#d8576b"
             ],
             [
              0.6666666666666666,
              "#ed7953"
             ],
             [
              0.7777777777777778,
              "#fb9f3a"
             ],
             [
              0.8888888888888888,
              "#fdca26"
             ],
             [
              1,
              "#f0f921"
             ]
            ],
            "type": "heatmap"
           }
          ],
          "heatmapgl": [
           {
            "colorbar": {
             "outlinewidth": 0,
             "ticks": ""
            },
            "colorscale": [
             [
              0,
              "#0d0887"
             ],
             [
              0.1111111111111111,
              "#46039f"
             ],
             [
              0.2222222222222222,
              "#7201a8"
             ],
             [
              0.3333333333333333,
              "#9c179e"
             ],
             [
              0.4444444444444444,
              "#bd3786"
             ],
             [
              0.5555555555555556,
              "#d8576b"
             ],
             [
              0.6666666666666666,
              "#ed7953"
             ],
             [
              0.7777777777777778,
              "#fb9f3a"
             ],
             [
              0.8888888888888888,
              "#fdca26"
             ],
             [
              1,
              "#f0f921"
             ]
            ],
            "type": "heatmapgl"
           }
          ],
          "histogram": [
           {
            "marker": {
             "pattern": {
              "fillmode": "overlay",
              "size": 10,
              "solidity": 0.2
             }
            },
            "type": "histogram"
           }
          ],
          "histogram2d": [
           {
            "colorbar": {
             "outlinewidth": 0,
             "ticks": ""
            },
            "colorscale": [
             [
              0,
              "#0d0887"
             ],
             [
              0.1111111111111111,
              "#46039f"
             ],
             [
              0.2222222222222222,
              "#7201a8"
             ],
             [
              0.3333333333333333,
              "#9c179e"
             ],
             [
              0.4444444444444444,
              "#bd3786"
             ],
             [
              0.5555555555555556,
              "#d8576b"
             ],
             [
              0.6666666666666666,
              "#ed7953"
             ],
             [
              0.7777777777777778,
              "#fb9f3a"
             ],
             [
              0.8888888888888888,
              "#fdca26"
             ],
             [
              1,
              "#f0f921"
             ]
            ],
            "type": "histogram2d"
           }
          ],
          "histogram2dcontour": [
           {
            "colorbar": {
             "outlinewidth": 0,
             "ticks": ""
            },
            "colorscale": [
             [
              0,
              "#0d0887"
             ],
             [
              0.1111111111111111,
              "#46039f"
             ],
             [
              0.2222222222222222,
              "#7201a8"
             ],
             [
              0.3333333333333333,
              "#9c179e"
             ],
             [
              0.4444444444444444,
              "#bd3786"
             ],
             [
              0.5555555555555556,
              "#d8576b"
             ],
             [
              0.6666666666666666,
              "#ed7953"
             ],
             [
              0.7777777777777778,
              "#fb9f3a"
             ],
             [
              0.8888888888888888,
              "#fdca26"
             ],
             [
              1,
              "#f0f921"
             ]
            ],
            "type": "histogram2dcontour"
           }
          ],
          "mesh3d": [
           {
            "colorbar": {
             "outlinewidth": 0,
             "ticks": ""
            },
            "type": "mesh3d"
           }
          ],
          "parcoords": [
           {
            "line": {
             "colorbar": {
              "outlinewidth": 0,
              "ticks": ""
             }
            },
            "type": "parcoords"
           }
          ],
          "pie": [
           {
            "automargin": true,
            "type": "pie"
           }
          ],
          "scatter": [
           {
            "fillpattern": {
             "fillmode": "overlay",
             "size": 10,
             "solidity": 0.2
            },
            "type": "scatter"
           }
          ],
          "scatter3d": [
           {
            "line": {
             "colorbar": {
              "outlinewidth": 0,
              "ticks": ""
             }
            },
            "marker": {
             "colorbar": {
              "outlinewidth": 0,
              "ticks": ""
             }
            },
            "type": "scatter3d"
           }
          ],
          "scattercarpet": [
           {
            "marker": {
             "colorbar": {
              "outlinewidth": 0,
              "ticks": ""
             }
            },
            "type": "scattercarpet"
           }
          ],
          "scattergeo": [
           {
            "marker": {
             "colorbar": {
              "outlinewidth": 0,
              "ticks": ""
             }
            },
            "type": "scattergeo"
           }
          ],
          "scattergl": [
           {
            "marker": {
             "colorbar": {
              "outlinewidth": 0,
              "ticks": ""
             }
            },
            "type": "scattergl"
           }
          ],
          "scattermapbox": [
           {
            "marker": {
             "colorbar": {
              "outlinewidth": 0,
              "ticks": ""
             }
            },
            "type": "scattermapbox"
           }
          ],
          "scatterpolar": [
           {
            "marker": {
             "colorbar": {
              "outlinewidth": 0,
              "ticks": ""
             }
            },
            "type": "scatterpolar"
           }
          ],
          "scatterpolargl": [
           {
            "marker": {
             "colorbar": {
              "outlinewidth": 0,
              "ticks": ""
             }
            },
            "type": "scatterpolargl"
           }
          ],
          "scatterternary": [
           {
            "marker": {
             "colorbar": {
              "outlinewidth": 0,
              "ticks": ""
             }
            },
            "type": "scatterternary"
           }
          ],
          "surface": [
           {
            "colorbar": {
             "outlinewidth": 0,
             "ticks": ""
            },
            "colorscale": [
             [
              0,
              "#0d0887"
             ],
             [
              0.1111111111111111,
              "#46039f"
             ],
             [
              0.2222222222222222,
              "#7201a8"
             ],
             [
              0.3333333333333333,
              "#9c179e"
             ],
             [
              0.4444444444444444,
              "#bd3786"
             ],
             [
              0.5555555555555556,
              "#d8576b"
             ],
             [
              0.6666666666666666,
              "#ed7953"
             ],
             [
              0.7777777777777778,
              "#fb9f3a"
             ],
             [
              0.8888888888888888,
              "#fdca26"
             ],
             [
              1,
              "#f0f921"
             ]
            ],
            "type": "surface"
           }
          ],
          "table": [
           {
            "cells": {
             "fill": {
              "color": "#EBF0F8"
             },
             "line": {
              "color": "white"
             }
            },
            "header": {
             "fill": {
              "color": "#C8D4E3"
             },
             "line": {
              "color": "white"
             }
            },
            "type": "table"
           }
          ]
         },
         "layout": {
          "annotationdefaults": {
           "arrowcolor": "#2a3f5f",
           "arrowhead": 0,
           "arrowwidth": 1
          },
          "autotypenumbers": "strict",
          "coloraxis": {
           "colorbar": {
            "outlinewidth": 0,
            "ticks": ""
           }
          },
          "colorscale": {
           "diverging": [
            [
             0,
             "#8e0152"
            ],
            [
             0.1,
             "#c51b7d"
            ],
            [
             0.2,
             "#de77ae"
            ],
            [
             0.3,
             "#f1b6da"
            ],
            [
             0.4,
             "#fde0ef"
            ],
            [
             0.5,
             "#f7f7f7"
            ],
            [
             0.6,
             "#e6f5d0"
            ],
            [
             0.7,
             "#b8e186"
            ],
            [
             0.8,
             "#7fbc41"
            ],
            [
             0.9,
             "#4d9221"
            ],
            [
             1,
             "#276419"
            ]
           ],
           "sequential": [
            [
             0,
             "#0d0887"
            ],
            [
             0.1111111111111111,
             "#46039f"
            ],
            [
             0.2222222222222222,
             "#7201a8"
            ],
            [
             0.3333333333333333,
             "#9c179e"
            ],
            [
             0.4444444444444444,
             "#bd3786"
            ],
            [
             0.5555555555555556,
             "#d8576b"
            ],
            [
             0.6666666666666666,
             "#ed7953"
            ],
            [
             0.7777777777777778,
             "#fb9f3a"
            ],
            [
             0.8888888888888888,
             "#fdca26"
            ],
            [
             1,
             "#f0f921"
            ]
           ],
           "sequentialminus": [
            [
             0,
             "#0d0887"
            ],
            [
             0.1111111111111111,
             "#46039f"
            ],
            [
             0.2222222222222222,
             "#7201a8"
            ],
            [
             0.3333333333333333,
             "#9c179e"
            ],
            [
             0.4444444444444444,
             "#bd3786"
            ],
            [
             0.5555555555555556,
             "#d8576b"
            ],
            [
             0.6666666666666666,
             "#ed7953"
            ],
            [
             0.7777777777777778,
             "#fb9f3a"
            ],
            [
             0.8888888888888888,
             "#fdca26"
            ],
            [
             1,
             "#f0f921"
            ]
           ]
          },
          "colorway": [
           "#636efa",
           "#EF553B",
           "#00cc96",
           "#ab63fa",
           "#FFA15A",
           "#19d3f3",
           "#FF6692",
           "#B6E880",
           "#FF97FF",
           "#FECB52"
          ],
          "font": {
           "color": "#2a3f5f"
          },
          "geo": {
           "bgcolor": "white",
           "lakecolor": "white",
           "landcolor": "#E5ECF6",
           "showlakes": true,
           "showland": true,
           "subunitcolor": "white"
          },
          "hoverlabel": {
           "align": "left"
          },
          "hovermode": "closest",
          "mapbox": {
           "style": "light"
          },
          "paper_bgcolor": "white",
          "plot_bgcolor": "#E5ECF6",
          "polar": {
           "angularaxis": {
            "gridcolor": "white",
            "linecolor": "white",
            "ticks": ""
           },
           "bgcolor": "#E5ECF6",
           "radialaxis": {
            "gridcolor": "white",
            "linecolor": "white",
            "ticks": ""
           }
          },
          "scene": {
           "xaxis": {
            "backgroundcolor": "#E5ECF6",
            "gridcolor": "white",
            "gridwidth": 2,
            "linecolor": "white",
            "showbackground": true,
            "ticks": "",
            "zerolinecolor": "white"
           },
           "yaxis": {
            "backgroundcolor": "#E5ECF6",
            "gridcolor": "white",
            "gridwidth": 2,
            "linecolor": "white",
            "showbackground": true,
            "ticks": "",
            "zerolinecolor": "white"
           },
           "zaxis": {
            "backgroundcolor": "#E5ECF6",
            "gridcolor": "white",
            "gridwidth": 2,
            "linecolor": "white",
            "showbackground": true,
            "ticks": "",
            "zerolinecolor": "white"
           }
          },
          "shapedefaults": {
           "line": {
            "color": "#2a3f5f"
           }
          },
          "ternary": {
           "aaxis": {
            "gridcolor": "white",
            "linecolor": "white",
            "ticks": ""
           },
           "baxis": {
            "gridcolor": "white",
            "linecolor": "white",
            "ticks": ""
           },
           "bgcolor": "#E5ECF6",
           "caxis": {
            "gridcolor": "white",
            "linecolor": "white",
            "ticks": ""
           }
          },
          "title": {
           "x": 0.05
          },
          "xaxis": {
           "automargin": true,
           "gridcolor": "white",
           "linecolor": "white",
           "ticks": "",
           "title": {
            "standoff": 15
           },
           "zerolinecolor": "white",
           "zerolinewidth": 2
          },
          "yaxis": {
           "automargin": true,
           "gridcolor": "white",
           "linecolor": "white",
           "ticks": "",
           "title": {
            "standoff": 15
           },
           "zerolinecolor": "white",
           "zerolinewidth": 2
          }
         }
        },
        "xaxis": {
         "anchor": "y",
         "domain": [
          0,
          1
         ],
         "title": {
          "text": "Actual Change"
         }
        },
        "yaxis": {
         "anchor": "x",
         "domain": [
          0,
          1
         ],
         "title": {
          "text": "Predicted Change"
         }
        }
       }
      }
     },
     "metadata": {},
     "output_type": "display_data"
    }
   ],
   "source": [
    "fig = px.scatter(x=actual_and_predicted['actual'], y=actual_and_predicted['predicted'], hover_data={'Symbol' : test_labels.index.get_level_values(0), 'Date' : test_labels.index.get_level_values(1)})\n",
    "fig.update_layout(xaxis_title='Actual Change', yaxis_title='Predicted Change')\n",
    "fig.show()"
   ]
  },
  {
   "cell_type": "code",
   "execution_count": 7,
   "metadata": {},
   "outputs": [
    {
     "data": {
      "text/plain": [
       "<matplotlib.lines.Line2D at 0x201d1f076b0>"
      ]
     },
     "execution_count": 7,
     "metadata": {},
     "output_type": "execute_result"
    },
    {
     "data": {
      "image/png": "[encoded data removed]",
      "text/plain": [
       "<Figure size 640x480 with 1 Axes>"
      ]
     },
     "metadata": {},
     "output_type": "display_data"
    }
   ],
   "source": [
    "import seaborn as sns\n",
    "import matplotlib.pyplot as plt\n",
    "\n",
    "sns.kdeplot(x=actual_and_predicted['actual'], y=actual_and_predicted['predicted'], fill=True, cmap=\"viridis\", thresh=0, levels=10)\n",
    "plt.xlim(-.05,.05)\n",
    "plt.ylim(-.05,.05)\n",
    "plt.axhline()\n",
    "plt.axvline()"
   ]
  },
  {
   "cell_type": "markdown",
   "metadata": {},
   "source": [
    "Make Predictions"
   ]
  },
  {
   "cell_type": "code",
   "execution_count": 8,
   "metadata": {},
   "outputs": [
    {
     "data": {
      "text/plain": [
       "Symbol\n",
       "SMCI    0.019293\n",
       "LW      0.017891\n",
       "WBA     0.014260\n",
       "ALB     0.012647\n",
       "MU      0.011924\n",
       "HUM     0.011656\n",
       "NUE     0.010743\n",
       "STLD    0.010627\n",
       "CZR     0.010361\n",
       "HSIC    0.010315\n",
       "dtype: float64"
      ]
     },
     "metadata": {},
     "output_type": "display_data"
    }
   ],
   "source": [
    "prediction_result = pd.Series(model.predict(prediction_data[prediction_data.columns.difference(['NextDayChangePercent'])]))\n",
    "prediction_result.index = prediction_data.index.get_level_values(0)\n",
    "\n",
    "prediction_result = prediction_result.sort_values(ascending=False)\n",
    "\n",
    "display(prediction_result.head(10))"
   ]
  },
  {
   "cell_type": "code",
   "execution_count": 9,
   "metadata": {},
   "outputs": [
    {
     "name": "stdout",
     "output_type": "stream",
     "text": [
      "The factor RateOfChange has a coefficient of \t\t-0.07628796606899838\n",
      "The factor 1DayChangePercent has a coefficient of \t\t-0.09654191476069819\n",
      "The factor 2DaysAgoChangePercent has a coefficient of \t\t-0.011870039461144356\n",
      "The factor 3DaysAgoChangePercent has a coefficient of \t\t-0.03276041871700249\n",
      "The factor 4DaysAgoChangePercent has a coefficient of \t\t-0.035207147584437555\n",
      "The factor 5DaysAgoChangePercent has a coefficient of \t\t-0.023964191609094982\n",
      "The factor 6DaysAgoChangePercent has a coefficient of \t\t-0.04166130768243005\n",
      "The factor 7DaysAgoChangePercent has a coefficient of \t\t0.4271417076532757\n",
      "The factor 8DaysAgoChangePercent has a coefficient of \t\t-0.11696398295145953\n",
      "The factor 9DaysAgoChangePercent has a coefficient of \t\t-0.21037918248599963\n",
      "The factor 10DaysAgoChangePercent has a coefficient of \t\t-0.9966316803506639\n",
      "The factor 11DaysAgoChangePercent has a coefficient of \t\t-0.13258705924003716\n",
      "The factor 12DaysAgoChangePercent has a coefficient of \t\t-0.2529392121230708\n",
      "The factor 13DaysAgoChangePercent has a coefficient of \t\t-0.19685201386816933\n",
      "The factor 14DaysAgoChangePercent has a coefficient of \t\t0.07922236769868454\n",
      "The factor 1MinChangePercent has a coefficient of \t\t0.5583588649554064\n",
      "The factor 5MinChangePercent has a coefficient of \t\t-0.0637598456086405\n",
      "The factor 30MinChangePercent has a coefficient of \t\t-0.10796486151407521\n",
      "The factor 1HourChangePercent has a coefficient of \t\t-0.1534787833268178\n",
      "The factor 5HourChangePercent has a coefficient of \t\t-0.1805289140912528\n",
      "The factor 10HourChangePercent has a coefficient of \t\t0.1722866584364057\n"
     ]
    }
   ],
   "source": [
    "coefs = model.coef_\n",
    "cols = model_data.columns\n",
    "# Loop up to the NextDayChangePercent (that is why -1)\n",
    "for i in range(len(cols)-1):\n",
    "    print(f\"The factor {cols[i]} has a coefficient of \\t\\t{coefs[i]}\")"
   ]
  }
 ],
 "metadata": {
  "kernelspec": {
   "display_name": "Python 3",
   "language": "python",
   "name": "python3"
  },
  "language_info": {
   "codemirror_mode": {
    "name": "ipython",
    "version": 3
   },
   "file_extension": ".py",
   "mimetype": "text/x-python",
   "name": "python",
   "nbconvert_exporter": "python",
   "pygments_lexer": "ipython3",
   "version": "3.12.8"
  }
 },
 "nbformat": 4,
 "nbformat_minor": 2
}
